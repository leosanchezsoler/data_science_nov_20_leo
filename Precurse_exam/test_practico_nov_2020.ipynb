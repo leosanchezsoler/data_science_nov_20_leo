{
 "metadata": {
  "language_info": {
   "codemirror_mode": {
    "name": "ipython",
    "version": 3
   },
   "file_extension": ".py",
   "mimetype": "text/x-python",
   "name": "python",
   "nbconvert_exporter": "python",
   "pygments_lexer": "ipython3",
   "version": "3.9.0-final"
  },
  "orig_nbformat": 2,
  "kernelspec": {
   "name": "python3",
   "display_name": "Python 3.9.0 64-bit",
   "metadata": {
    "interpreter": {
     "hash": "7812ea015bdcee6f23a998adcdd2ef97c151c0c241b7b7070987d9313e41299d"
    }
   }
  }
 },
 "nbformat": 4,
 "nbformat_minor": 2,
 "cells": [
  {
   "source": [
    "# Test DS-FT Nov 2020\n",
    "\n"
   ],
   "cell_type": "markdown",
   "metadata": {}
  },
  {
   "source": [
    "## Primera parte:\n",
    "\n",
    "https://forms.gle/k1eyHnAXiQFyjk6X7"
   ],
   "cell_type": "markdown",
   "metadata": {}
  },
  {
   "source": [
    "-----------------"
   ],
   "cell_type": "markdown",
   "metadata": {}
  },
  {
   "source": [
    "## Segunda parte, ejercicios prácticos:"
   ],
   "cell_type": "markdown",
   "metadata": {}
  },
  {
   "source": [
    "#### Notas y pruebas de apoyo para contestar las preguntas tipo test\n",
    "Esto no es necesario usarlo, aunque verlo aquí te puede dar la respuesta a alguna de las preguntas tipo test.\n",
    "\n",
    "Cualquier código aunque no esté correcto, nos dirá más de ti, que no escribir nada. "
   ],
   "cell_type": "markdown",
   "metadata": {}
  },
  {
   "cell_type": "code",
   "execution_count": null,
   "metadata": {},
   "outputs": [],
   "source": [
    "# Ejemplo de como queremos ver el código para más de un intento:\n",
    "\n",
    "# intento 1\n",
    "your code\n",
    "# intento 2\n",
    "your code"
   ]
  },
  {
   "cell_type": "code",
   "execution_count": null,
   "metadata": {},
   "outputs": [],
   "source": [
    "# crea todas las celdas que necesites"
   ]
  },
  {
   "cell_type": "code",
   "execution_count": 2,
   "metadata": {},
   "outputs": [
    {
     "output_type": "stream",
     "name": "stdout",
     "text": [
      "True\n"
     ]
    }
   ],
   "source": [
    "a = 1\n",
    "b = 1\n",
    "c = 2\n",
    "d = a==b or not c==a\n",
    "print(d)\n"
   ]
  },
  {
   "cell_type": "code",
   "execution_count": 3,
   "metadata": {},
   "outputs": [
    {
     "output_type": "execute_result",
     "data": {
      "text/plain": [
       "['clave1', 'clave2']"
      ]
     },
     "metadata": {},
     "execution_count": 3
    }
   ],
   "source": [
    "midiccionario ={\"clave1\": \"valor1\", \"clave2\": \"valor2\"} \n",
    "list(midiccionario)"
   ]
  },
  {
   "cell_type": "code",
   "execution_count": 5,
   "metadata": {},
   "outputs": [
    {
     "output_type": "stream",
     "name": "stdout",
     "text": [
      "[3]\n"
     ]
    },
    {
     "output_type": "error",
     "ename": "IndexError",
     "evalue": "list index out of range",
     "traceback": [
      "\u001b[0;31m---------------------------------------------------------------------------\u001b[0m",
      "\u001b[0;31mIndexError\u001b[0m                                Traceback (most recent call last)",
      "\u001b[0;32m<ipython-input-5-23de18fd1778>\u001b[0m in \u001b[0;36m<module>\u001b[0;34m\u001b[0m\n\u001b[1;32m      3\u001b[0m \u001b[0mprint\u001b[0m\u001b[0;34m(\u001b[0m\u001b[0mlista1\u001b[0m\u001b[0;34m)\u001b[0m\u001b[0;34m\u001b[0m\u001b[0;34m\u001b[0m\u001b[0m\n\u001b[1;32m      4\u001b[0m \u001b[0mlista2\u001b[0m \u001b[0;34m=\u001b[0m \u001b[0;34m[\u001b[0m\u001b[0;36m4\u001b[0m\u001b[0;34m,\u001b[0m \u001b[0;36m5\u001b[0m\u001b[0;34m,\u001b[0m \u001b[0;36m6\u001b[0m\u001b[0;34m]\u001b[0m\u001b[0;34m\u001b[0m\u001b[0;34m\u001b[0m\u001b[0m\n\u001b[0;32m----> 5\u001b[0;31m \u001b[0mprint\u001b[0m\u001b[0;34m(\u001b[0m\u001b[0mlista2\u001b[0m\u001b[0;34m[\u001b[0m\u001b[0mlen\u001b[0m\u001b[0;34m(\u001b[0m\u001b[0mlista2\u001b[0m\u001b[0;34m)\u001b[0m\u001b[0;34m]\u001b[0m\u001b[0;34m)\u001b[0m\u001b[0;34m\u001b[0m\u001b[0;34m\u001b[0m\u001b[0m\n\u001b[0m",
      "\u001b[0;31mIndexError\u001b[0m: list index out of range"
     ]
    }
   ],
   "source": [
    "#Intento 1\n",
    "lista1 = [1,2,3]\n",
    "lista1 = [len(lista1)]\n",
    "print(lista1)\n",
    "\n",
    "#Intento 2\n",
    "lista2 = [4, 5, 6]\n",
    "print(lista2[len(lista2)])"
   ]
  },
  {
   "cell_type": "code",
   "execution_count": 6,
   "metadata": {},
   "outputs": [
    {
     "output_type": "execute_result",
     "data": {
      "text/plain": [
       "(2, 3, 4, 3, 4, 6)"
      ]
     },
     "metadata": {},
     "execution_count": 6
    }
   ],
   "source": [
    "#Intento 1. Concatenar tuplas\n",
    "\n",
    "tupla1 = (2,3,4)\n",
    "tupla2 = (3,4,6)\n",
    "sumatorio = tupla1 +tupla2\n",
    "sumatorio"
   ]
  },
  {
   "cell_type": "code",
   "execution_count": 10,
   "metadata": {},
   "outputs": [
    {
     "output_type": "error",
     "ename": "AttributeError",
     "evalue": "'list' object has no attribute 'sum'",
     "traceback": [
      "\u001b[0;31m---------------------------------------------------------------------------\u001b[0m",
      "\u001b[0;31mAttributeError\u001b[0m                            Traceback (most recent call last)",
      "\u001b[0;32m<ipython-input-10-2f4cb0414d96>\u001b[0m in \u001b[0;36m<module>\u001b[0;34m\u001b[0m\n\u001b[1;32m      6\u001b[0m \u001b[0msumarlistas\u001b[0m \u001b[0;34m=\u001b[0m \u001b[0msum\u001b[0m\u001b[0;34m(\u001b[0m\u001b[0ma\u001b[0m\u001b[0;34m+\u001b[0m\u001b[0mb\u001b[0m\u001b[0;34m)\u001b[0m\u001b[0;34m\u001b[0m\u001b[0;34m\u001b[0m\u001b[0m\n\u001b[1;32m      7\u001b[0m \u001b[0msumarlistas\u001b[0m\u001b[0;34m\u001b[0m\u001b[0;34m\u001b[0m\u001b[0m\n\u001b[0;32m----> 8\u001b[0;31m \u001b[0mc\u001b[0m \u001b[0;34m=\u001b[0m \u001b[0ma\u001b[0m\u001b[0;34m.\u001b[0m\u001b[0msum\u001b[0m\u001b[0;34m(\u001b[0m\u001b[0mb\u001b[0m\u001b[0;34m)\u001b[0m\u001b[0;34m\u001b[0m\u001b[0;34m\u001b[0m\u001b[0m\n\u001b[0m\u001b[1;32m      9\u001b[0m \u001b[0mprint\u001b[0m\u001b[0;34m(\u001b[0m\u001b[0mc\u001b[0m\u001b[0;34m)\u001b[0m\u001b[0;34m\u001b[0m\u001b[0;34m\u001b[0m\u001b[0m\n",
      "\u001b[0;31mAttributeError\u001b[0m: 'list' object has no attribute 'sum'"
     ]
    }
   ],
   "source": [
    "a = [1, 2, 3]\n",
    "b = [4, 5, 6]\n",
    "\n",
    "listasuma = a+b\n",
    "listasuma\n",
    "sumarlistas = sum(a+b)\n",
    "sumarlistas\n",
    "c = a.sum(b)\n",
    "print(c)"
   ]
  },
  {
   "cell_type": "code",
   "execution_count": 11,
   "metadata": {},
   "outputs": [
    {
     "output_type": "execute_result",
     "data": {
      "text/plain": [
       "{'a': 6, 'b': 2, 'c': 7, 'd': 4, 'e': 0, 'f': 5}"
      ]
     },
     "metadata": {},
     "execution_count": 11
    }
   ],
   "source": [
    "a = ['a', 'b', 'c', 'd', 'e', 'f'] \n",
    "b = [6,2,7,4,0,5]\n",
    "\n",
    "diccionariodelistas = dict(zip(a,b))\n",
    "diccionariodelistas"
   ]
  },
  {
   "cell_type": "code",
   "execution_count": 18,
   "metadata": {},
   "outputs": [],
   "source": [
    "d = [1, 2,[] , 4]\n",
    "for i in d:\n",
    "    if None:\n",
    "        print(\"Jajaja\")\n",
    "fnjdafndsignudisa"
   ]
  },
  {
   "source": [
    "## Ejercicios prácticos"
   ],
   "cell_type": "markdown",
   "metadata": {}
  },
  {
   "source": [
    "#### Ejercicio 1.\n",
    "En este ejercicio se va a crear una lista con los siguientes elementos. Primero, crearemos las variables que luego añadiremos a la lista. Las variables son las siguientes:\n",
    "\n",
    "1. Crea una variable llamada `num_dni` de tipo Integer que represente el primer número de tu DNI. \n",
    "2. Crea una variable llamada `let_dni` de tipo String y que represente la letra de vuestro DNI.\n",
    "3. Crea una variable llamada `tip_ord` de tipo Boolean True si usas Windows y False si usas Mac.\n",
    "4. Crea una variable llamada `nada` de tipo None cuyo valor sea None.\n",
    "5. Crea una variable llamada `lista_deseo` de tipo List que contenga los cuatro objetos que te llevarías a una isla desierta. Cada elemento ha de ser de tipo String y el tamaño de la lista ha de ser 4.\n",
    "6. Crea una variable llamada `tupla_ropa` de tipo Tuple con la marca de la prenda superior, inferior y calzado que llevas puesto.\n",
    "7. Crea una variable llamada `dict_info` con dos keys y dos values. Una key es 'nombre', teniendo como value vuestro nombre. Otra key es 'edad', teniendo como value vuestra edad.\n",
    "8. Crea una variable llamada `flo_hor` con la hora actual separada por punto en vez de dos puntos. Ejemplo: si son las 10:06, el valor de la variable sería 10.06.\n",
    "\n",
    "Añade todos estos elementos en una lista llamada `lista_examen` en el orden de aparición."
   ],
   "cell_type": "markdown",
   "metadata": {}
  },
  {
   "cell_type": "code",
   "execution_count": 30,
   "metadata": {},
   "outputs": [
    {
     "output_type": "stream",
     "name": "stdout",
     "text": [
      "Esta es la lista_examen con todos los elementos añadidos: [3, 'K', False, None, ['Alba', 'Ordenador', 'Agua', 'Amigos'], ('Adidas', \"Levi's\", 'Nike'), {'Nombre': 'Leo', 'Edad': 23}, 10.14]\n"
     ]
    }
   ],
   "source": [
    " # tu respuesta aquí\n",
    "\n",
    " #Intento 1:\n",
    " num_dni = 3\n",
    " let_dni = \"K\"\n",
    " tip_ord = False\n",
    " nada = None\n",
    " lista_deseo = [\"Alba\", \"Ordenador\", \"Agua\", \"Amigos\"]\n",
    " tupla_ropa = (\"Adidas\", \"Levi's\", \"Nike\")\n",
    " dict_info = {\"Nombre\": \"Leo\", \"Edad\": 23}\n",
    " flo_hor = 10.14\n",
    "lista_examen = []\n",
    " ########################################\n",
    " lista_examen.append(num_dni)\n",
    " lista_examen.append(let_dni)\n",
    " lista_examen.append(tip_ord)\n",
    " lista_examen.append(nada)\n",
    " lista_examen.append(lista_deseo)\n",
    " lista_examen.append(tupla_ropa)\n",
    " lista_examen.append(dict_info)\n",
    " lista_examen.append(flo_hor)\n",
    " ##################################\n",
    " print(\"Esta es la lista_examen con todos los elementos añadidos:\", lista_examen)"
   ]
  },
  {
   "source": [
    "#### Ejercicio 2. \n",
    "\n",
    "Para resolver este ejercicio necesitarás la lista del ejercicio anterior (`lista_examen`). Se recomeinda leer cada punto hasta el final antes de resolver el ejercicio.\n",
    "\n",
    "Se repite para que quede aún más claro: **SOLO USAR LA VARIABLE** `lista_examen`. Usar las demás variables se calificará como error.  \n",
    "\n",
    "1. Mostrar por pantalla, sin uso de funciones ni bucles: \n",
    "    - El segundo elemento de `lista_deseo` desde `lista_examen`.\n",
    "    - El calzado que llevas puesto.\n",
    "    - Vuestro nombre.\n",
    "    - La hora almacenada concatenada con vuestra edad y el número de vuestro de DNI. No debe haber espacios entre la concatenación.\n",
    "    - Si tenéis más de 20 años, el primer número de vuestro DNI es mayor a 7 y usas Mac, mostrar la posición 5 de `lista_examen`.\n",
    "    "
   ],
   "cell_type": "markdown",
   "metadata": {}
  },
  {
   "cell_type": "code",
   "execution_count": 50,
   "metadata": {},
   "outputs": [
    {
     "output_type": "stream",
     "name": "stdout",
     "text": [
      "[3, 'K', False, None, ['Alba', 'Ordenador', 'Agua', 'Amigos'], ('Adidas', \"Levi's\", 'Nike'), {'Nombre': 'Leo', 'Edad': 23}, 10.14]\nSegundo elemento de lista deseo desde lista examen: Ordenador\n---------\nCalzado que llevo puesto: Adidas\n---------\nMi nombre extraído del diccionario: Leo\n---------\nConcatenación de hora, edad y número de DNI 10.14233\n---------\nLo siento, pero no cumples los requisitos :(\n"
     ]
    }
   ],
   "source": [
    "# tu respuesta aquí\n",
    "\n",
    "#Imprimo lista_examen para tenerla visible\n",
    "print(lista_examen)\n",
    "#Imagino que se mostrará a través de posición\n",
    "\n",
    "#Intento 1\n",
    "print(\"Segundo elemento de lista deseo desde lista examen:\", lista_examen[4][1])\n",
    "print(\"---------\")\n",
    "print(\"Calzado que llevo puesto:\", lista_examen[5][0])\n",
    "print(\"---------\")\n",
    "\n",
    "\n",
    "tupla_diccionario = tuple(lista_examen[6].values())\n",
    "nombre_diccionario = tupla_diccionario[0]\n",
    "print(\"Mi nombre extraído del diccionario:\", nombre_diccionario)\n",
    "print(\"---------\")\n",
    "\n",
    "edad_diccionario = tupla_diccionario[1]\n",
    "\n",
    "\n",
    "#hora almacenada concatenada con vuestra edad y el número de vuestro de DNI. No debe haber espacios entre la concatenación.\n",
    "\n",
    "string_hora = str(lista_examen[-1])\n",
    "sumarenstring = string_hora + str(edad_diccionario) + str(lista_examen[0])\n",
    "print(\"Concatenación de hora, edad y número de DNI\", sumarenstring)\n",
    "print(\"---------\")\n",
    "#########################\n",
    "if edad_diccionario > 20 and lista_examen[0] > 7 and tip_ord == False:\n",
    "    print(\"Posición cinco de lista_examen:\", lista_examen[5])\n",
    "else:\n",
    "    print(\"Lo siento, pero no cumples los requisitos :(\")\n",
    "\n"
   ]
  },
  {
   "source": [
    "2. Mostrar por pantalla, con uso de un bucle `for`:\n",
    "    - Todos los elementos de `lista_examen`.\n",
    "    - Todos los elementos de `lista_deseo` desde `lista_examen`.\n",
    "    - Todos los elementos que ocupen una posición menor a 4 en `lista_examen`.\n"
   ],
   "cell_type": "markdown",
   "metadata": {}
  },
  {
   "cell_type": "code",
   "execution_count": 56,
   "metadata": {},
   "outputs": [
    {
     "output_type": "stream",
     "name": "stdout",
     "text": [
      "3\nK\nFalse\nNone\n['Alba', 'Ordenador', 'Agua', 'Amigos']\n('Adidas', \"Levi's\", 'Nike')\n{'Nombre': 'Leo', 'Edad': 23}\n10.14\n-----------------\nAlba\nOrdenador\nAgua\nAmigos\n-----------------\n3\nK\nFalse\nNone\n"
     ]
    }
   ],
   "source": [
    "# tu respuesta aquí\n",
    "#Intento 1:\n",
    "\n",
    "# Mostrar todos los elementos de lista_examen:\n",
    "for i in lista_examen:\n",
    "    print(i)\n",
    "\n",
    "print(\"-----------------\")\n",
    "\n",
    "for x in lista_examen:\n",
    "    if isinstance(x, list):\n",
    "        for y in x:\n",
    "            print(y)\n",
    "print(\"-----------------\")\n",
    "\n",
    "for pos, val in enumerate(lista_examen):\n",
    "    if pos < 4:\n",
    "        print(val)"
   ]
  },
  {
   "source": [
    "3. Mostrar por pantalla, con uso de un bucle while: \n",
    "    - Todos los elementos de `tupla_ropa` seguido de la cadena `\"-->\"` y la `posición` (int) que ocupa en la tupla accediendo desde `lista_examen`. Se aconseja utilizar *`enumerate`*.\n",
    "    - Cada key de `dict_info` seguido de la cadena \":\" seguido de su value desde `lista_examen`."
   ],
   "cell_type": "markdown",
   "metadata": {}
  },
  {
   "cell_type": "code",
   "execution_count": 140,
   "metadata": {},
   "outputs": [
    {
     "output_type": "stream",
     "name": "stdout",
     "text": [
      "Adidas --> 0\nLevi's --> 1\nNike --> 2\ndict_keys(['Nombre', 'Edad'])\ndict_keys(['Nombre', 'Edad'])\n"
     ]
    }
   ],
   "source": [
    "# tu respuesta aquí\n",
    "#No he tenido tiempo y no he sabido hacerlo con el while\n",
    "\n",
    "for i in lista_examen:\n",
    "    if isinstance(i, tuple):\n",
    "       for pos, val in enumerate(i):\n",
    "           print(val, \"-->\", pos)\n",
    "    if isinstance(i, dict):\n",
    "        for pos, val in enumerate(i):\n",
    "            print(i.keys())"
   ]
  },
  {
   "cell_type": "code",
   "execution_count": null,
   "metadata": {},
   "outputs": [],
   "source": []
  },
  {
   "source": [
    "#### Ejercicio 3. \n",
    "\n",
    "Crea una clase \"Humano\" que tenga 3 atributos: \"edad\", \"altura\" y \"nombre\". Además, debe contar con dos funciones: \n",
    "\n",
    "- `cumplir_edad`: al llamar a esta función se debe sumar 1 a la edad actual del humano. \n",
    "- `registro_nombre` que recibe parametro \"nuevo_nombre\": al llamar a esta función con un parámetro de entrada, esta función debe cambiar el nombre del humano por el \"nuevo_nombre\"\n",
    "\n",
    "Crea un humano llamado \"Wolfram\" que tiene 23 años de edad y mide 173 centímetros. A \"Wolfram\" nunca le gustó su nombre. Por eso, usa la función correspondiente para cambiarle su nombre por \"Benacio\". Además, hoy es su cumpleaños por lo que usa la función para aumentar su edad. \n",
    "\n",
    "Muestra por pantalla el nombre del humano antes y después de cambiarse de nombre. Muestra también la edad de Benacio antes y después de cumplir años."
   ],
   "cell_type": "markdown",
   "metadata": {}
  },
  {
   "cell_type": "code",
   "execution_count": 159,
   "metadata": {},
   "outputs": [],
   "source": [
    "# tu respuesta aquí\n",
    "\n",
    "#Intento 1\n",
    "\n",
    "class Humano:\n",
    "    \"\"\"\n",
    "    Aquí defino los atributos de la clase Humano\n",
    "    \"\"\"\n",
    "    def __init__(self, edad, altura, nombre):\n",
    "        self.edad = edad\n",
    "        self.altura = altura\n",
    "        self.nombre = nombre\n",
    "\n",
    "    def cumplir_edad(self):\n",
    "        \"\"\"\n",
    "        Esta función se utiliza para cumplir años\n",
    "        \"\"\"\n",
    "        self.edad += 1\n",
    "        f\"felicidades {self.nombre}!!, ahora tienes {self.edad}\"\n",
    "\n",
    "    def registro_nombre(self, nuevo_nombre):\n",
    "        \"\"\"\n",
    "        Esta función permite cambiar el nombre de la instancia\n",
    "        \"\"\"\n",
    "        antiguo_nombre = self.nombre\n",
    "        self.nombre = nuevo_nombre\n",
    "        return f\"Este es el nuevo nombre: {self.nombre}\"\n",
    "        "
   ]
  },
  {
   "cell_type": "code",
   "execution_count": null,
   "metadata": {},
   "outputs": [],
   "source": []
  },
  {
   "cell_type": "code",
   "execution_count": 162,
   "metadata": {},
   "outputs": [],
   "source": [
    "#Ahora creo la instancia\n",
    "\n",
    "Wolfram = Humano(edad=23, altura=173, nombre=\"Wolfram\")\n"
   ]
  },
  {
   "cell_type": "code",
   "execution_count": 163,
   "metadata": {},
   "outputs": [],
   "source": [
    "#Ahora mostraré los cambios:\n",
    "\n",
    "\n"
   ]
  },
  {
   "cell_type": "code",
   "execution_count": 164,
   "metadata": {},
   "outputs": [
    {
     "output_type": "stream",
     "name": "stdout",
     "text": [
      "Edad actual: 23\nEdad tras el cumpleaños: 24\n"
     ]
    }
   ],
   "source": [
    "#EDAD\n",
    "print(\"Edad actual:\", Wolfram.edad)\n",
    "Wolfram.cumplir_edad()\n",
    "print(\"Edad tras el cumpleaños:\", Wolfram.edad)"
   ]
  },
  {
   "cell_type": "code",
   "execution_count": 165,
   "metadata": {},
   "outputs": [],
   "source": [
    "#NOMBRE\n"
   ]
  },
  {
   "cell_type": "code",
   "execution_count": 166,
   "metadata": {},
   "outputs": [
    {
     "output_type": "stream",
     "name": "stdout",
     "text": [
      "Nombre actual: Wolfram\n"
     ]
    },
    {
     "output_type": "execute_result",
     "data": {
      "text/plain": [
       "'Benacio'"
      ]
     },
     "metadata": {},
     "execution_count": 166
    }
   ],
   "source": [
    "print(\"Nombre actual:\", Wolfram.nombre)\n",
    "\n",
    "Wolfram.registro_nombre(nuevo_nombre= \"Benacio\")\n",
    "Wolfram.nombre"
   ]
  },
  {
   "source": [
    "#### Ejercicio 4. \n",
    "\n",
    "Escribe una función `reverse_number` que reciba dos parámetros. Los parámetros son `cadena` y `n`. `cadena` será un string y `n` un entero. La función debe retornar un string que sea el string `cadena` al revés y que tenga concatenado el número `n` por cada caracter de `cadena`.  \n",
    "\n",
    "*No se permite usar la función built-in `reverse` ni pasar el string `cadena` a otro tipo de variable (como list)* \n",
    "\n",
    "Ejemplos de llamada a la función y lo que devuelve la función:\n",
    "\n",
    "--------\n",
    "\n",
    ">> print(reverse_number(cadena=\"aloh\", n=3))\n",
    "\n",
    ">>> h3o3l3a3\n",
    "\n",
    "--------\n",
    "\n",
    ">> print(reverse_number(cadena=\"otipep\", n=85))\n",
    "\n",
    ">>> p85e85p85i85t85o85\n",
    "\n",
    "\n",
    "\n"
   ],
   "cell_type": "markdown",
   "metadata": {}
  },
  {
   "cell_type": "code",
   "execution_count": 167,
   "metadata": {},
   "outputs": [],
   "source": [
    "def reverse_number(cadena, n):\n",
    "    cadena = str(cadena)\n",
    "    n = int(n)\n",
    "    for i in range(len(cadena)):\n",
    "        return "
   ]
  },
  {
   "cell_type": "code",
   "execution_count": 168,
   "metadata": {},
   "outputs": [],
   "source": [
    "def reverse_number(cadena, n):\n",
    "    a = \"\"\n",
    "    cadena = str(cadena)\n",
    "    n = int(n)\n",
    "    string = \"\"\n",
    "    for i in cadena:\n",
    "        string = i + cadena\n",
    "        print"
   ]
  },
  {
   "cell_type": "code",
   "execution_count": 169,
   "metadata": {},
   "outputs": [
    {
     "output_type": "execute_result",
     "data": {
      "text/plain": [
       "'aloH'"
      ]
     },
     "metadata": {},
     "execution_count": 169
    }
   ],
   "source": [
    "def reverse_number(cadena, n):\n",
    "    cadena = str(cadena)\n",
    "    n = int(n)\n",
    "    a = \"\"\n",
    "    for x in range(1, len(cadena) +1):\n",
    "        a += cadena[len(cadena)-x]            \n",
    "    return a\n",
    "reverse_number(cadena=\"Hola\", n=0)"
   ]
  },
  {
   "cell_type": "code",
   "execution_count": 122,
   "metadata": {},
   "outputs": [
    {
     "output_type": "stream",
     "name": "stdout",
     "text": [
      "H\na\nl\no\n"
     ]
    }
   ],
   "source": []
  },
  {
   "cell_type": "code",
   "execution_count": 170,
   "metadata": {},
   "outputs": [
    {
     "output_type": "stream",
     "name": "stdout",
     "text": [
      "!dlroW olleH\n"
     ]
    }
   ],
   "source": [
    "def reverse(text):\n",
    "    a = \"\"\n",
    "    for i in range(1, len(text) + 1):\n",
    "        a += text[len(text) - i]\n",
    "    return a\n",
    "\n",
    "print(reverse(\"Hello World!\")) # prints: !dlroW olleH"
   ]
  }
 ]
}