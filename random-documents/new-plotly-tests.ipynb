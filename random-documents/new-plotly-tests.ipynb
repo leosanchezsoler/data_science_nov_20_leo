{
 "metadata": {
  "language_info": {
   "codemirror_mode": {
    "name": "ipython",
    "version": 3
   },
   "file_extension": ".py",
   "mimetype": "text/x-python",
   "name": "python",
   "nbconvert_exporter": "python",
   "pygments_lexer": "ipython3",
   "version": "3.9.0-final"
  },
  "orig_nbformat": 2,
  "kernelspec": {
   "name": "python3",
   "display_name": "Python 3.9.0 64-bit",
   "metadata": {
    "interpreter": {
     "hash": "7812ea015bdcee6f23a998adcdd2ef97c151c0c241b7b7070987d9313e41299d"
    }
   }
  }
 },
 "nbformat": 4,
 "nbformat_minor": 2,
 "cells": [
  {
   "source": [
    "# **PLOTLY TESTS**\n",
    "## This notebook contains tests of plotly functions that will later be added in classes.\n",
    "The plots are as follows:\n",
    "- Bar plot\n",
    "- Scatter plot\n",
    "- Box plot\n",
    "- Line plot "
   ],
   "cell_type": "markdown",
   "metadata": {}
  },
  {
   "cell_type": "code",
   "execution_count": null,
   "metadata": {},
   "outputs": [],
   "source": [
    "#import the necessary libraries:\n",
    "\n",
    "import pandas as pd \n",
    "import numpy as np \n",
    "import chart_studio.plotly as py \n",
    "import cufflinks as cf  \n",
    "import seaborn as sns\n",
    "import plotly.express as px\n",
    "import plotly.graph_objects as go\n",
    "from plotly.graph_objs import Scatter, Box\n",
    "import matplotlib.pyplot as plt \n",
    "%matplotlib inline\n",
    "\n",
    "from plotly.offline import download_plotlyjs, init_notebook_mode, plot, iplot"
   ]
  },
  {
   "cell_type": "code",
   "execution_count": null,
   "metadata": {},
   "outputs": [],
   "source": [
    "# initiate notebook for offline plot\n",
    "init_notebook_mode(connected=True)\n",
    "cf.go_offline"
   ]
  },
  {
   "cell_type": "code",
   "execution_count": null,
   "metadata": {},
   "outputs": [],
   "source": [
    "# Read the raw dataset to see what happens\n",
    "\n",
    "df = pd.read_csv(r'/Users/IAmLeoSanchez/Documents/Data_Science/The_Bridge/owid-covid-data.csv')\n",
    "df"
   ]
  },
  {
   "cell_type": "code",
   "execution_count": null,
   "metadata": {},
   "outputs": [],
   "source": [
    "# Select the countries we want\n",
    "countries_list = ['Spain', 'Brazil', 'Netherlands', 'Mexico', 'Iran']\n",
    "df_our_countries = df[df['location'].isin(countries_list)]"
   ]
  },
  {
   "source": [
    "## **Line plot function:**\n"
   ],
   "cell_type": "markdown",
   "metadata": {}
  },
  {
   "cell_type": "code",
   "execution_count": 1,
   "metadata": {},
   "outputs": [],
   "source": [
    "#---\n",
    "#---\n",
    "class Plotly_Plot():\n",
    "    '''\n",
    "    Father/Mother class\n",
    "\n",
    "                        ---what it does---\n",
    "    This class is created with the purpose of visualizing any kind of plot from a Dataframe.\n",
    "\n",
    "    '''\n",
    "    def __init__(self, df, x_axis: str, y_axis: str, x_label: str, y_label: str, title: str, color: str):\n",
    "        \n",
    "        self.df = df\n",
    "        self.x_axis = x_axis\n",
    "        self.y_axis = y_axis\n",
    "        self.x_label = x_label\n",
    "        self.y_label = y_label\n",
    "        self.title = title\n",
    "        self.color = color\n",
    "\n",
    "    def save_plot(self, file_ext: str, path_location: str):\n",
    "        self.file_ext = file_ext\n",
    "\n",
    "class Scatterplot(Plotly_Plot):\n",
    "    def __init__(self, df, x_axis, y_axis, x_label, y_label, title, color):\n",
    "        Plotly_Plot.__init__(self, df=df, x_axis=x_axis, y_axis=y_axis, x_label=x_label, y_label=y_label ,title=title, color=color)\n",
    "\n",
    "class Lineplot(Plotly_Plot):\n",
    "    def __init__(self, df, x_axis, y_axis, x_label, y_label, title, color):\n",
    "        Plotly_Plot.__init__(self, df=df, x_axis=x_axis, y_axis=y_axis, x_label=x_label, y_label=y_label ,title=title, color=color)\n",
    "\n",
    "class Boxplot(Plotly_Plot):\n",
    "    def __init__(self, df, x_axis, y_axis, x_label, y_label, title, color):\n",
    "        Plotly_Plot.__init__(self, df=df, x_axis=x_axis, y_axis=y_axis, x_label=x_label, y_label=y_label ,title=title, color=color)\n",
    "\n",
    "class Barplot(Plotly_Plot):\n",
    "    def __init__(self, df, x_axis, y_axis, x_label, y_label, title, color):\n",
    "        Plotly_Plot.__init__(self, df=df, x_axis=x_axis, y_axis=y_axis, x_label=x_label, y_label=y_label ,title=title, color=color)\n",
    "\n",
    "class Piechart(Plotly_Plot):\n",
    "    def __init__(self, df, x_axis, y_axis, x_label, y_label, title, color):\n",
    "        Plotly_Plot.__init__(self, df=df, x_axis=x_axis, y_axis=y_axis, x_label=x_label, y_label=y_label ,title=title, color=color)\n",
    "\n",
    "class Scatter3D(Plotly_Plot):\n",
    "    def __init__(self, df, x_axis, y_axis, x_label, y_label, title, color):\n",
    "        Plotly_Plot.__init__(self, df=df, x_axis=x_axis, y_axis=y_axis, x_label=x_label, y_label=y_label ,title=title, color=color)\n",
    "\n",
    "class Line3D(Plotly_Plot):\n",
    "    def __init__(self, df, x_axis, y_axis, x_label, y_label, title, color):\n",
    "        Plotly_Plot.__init__(self, df=df, x_axis=x_axis, y_axis=y_axis, x_label=x_label, y_label=y_label ,title=title, color=color)\n",
    "\n",
    "class MotionScatter(Plotly_Plot):\n",
    "    def __init__(self, df, x_axis, y_axis, x_label, y_label, title, color):\n",
    "        Plotly_Plot.__init__(self, df=df, x_axis=x_axis, y_axis=y_axis, x_label=x_label, y_label=y_label ,title=title, color=color)\n",
    "\n",
    "class MotionBar(Plotly_Plot):\n",
    "    def __init__(self, df, x_axis, y_axis, x_label, y_label, title, color):\n",
    "        Plotly_Plot.__init__(self, df=df, x_axis=x_axis, y_axis=y_axis, x_label=x_label, y_label=y_label ,title=title, color=color)"
   ]
  },
  {
   "cell_type": "code",
   "execution_count": 2,
   "metadata": {},
   "outputs": [
    {
     "output_type": "error",
     "ename": "TypeError",
     "evalue": "__init__() missing 6 required positional arguments: 'x_axis', 'y_axis', 'x_label', 'y_label', 'title', and 'color'",
     "traceback": [
      "\u001b[0;31m---------------------------------------------------------------------------\u001b[0m",
      "\u001b[0;31mTypeError\u001b[0m                                 Traceback (most recent call last)",
      "\u001b[0;32m<ipython-input-2-20408358c1b1>\u001b[0m in \u001b[0;36m<module>\u001b[0;34m\u001b[0m\n\u001b[0;32m----> 1\u001b[0;31m \u001b[0mbarra\u001b[0m \u001b[0;34m=\u001b[0m \u001b[0mMotionBar\u001b[0m\u001b[0;34m(\u001b[0m\u001b[0mdf\u001b[0m\u001b[0;34m=\u001b[0m\u001b[0;36m1\u001b[0m\u001b[0;34m)\u001b[0m\u001b[0;34m\u001b[0m\u001b[0;34m\u001b[0m\u001b[0m\n\u001b[0m",
      "\u001b[0;31mTypeError\u001b[0m: __init__() missing 6 required positional arguments: 'x_axis', 'y_axis', 'x_label', 'y_label', 'title', and 'color'"
     ]
    }
   ],
   "source": []
  },
  {
   "source": [
    "## `After some tests I found out that OOP wasn't well structured`"
   ],
   "cell_type": "markdown",
   "metadata": {}
  },
  {
   "cell_type": "code",
   "execution_count": 59,
   "metadata": {},
   "outputs": [
    {
     "output_type": "error",
     "ename": "SyntaxError",
     "evalue": "invalid syntax (<ipython-input-59-623d72ca2526>, line 1)",
     "traceback": [
      "\u001b[0;36m  File \u001b[0;32m\"<ipython-input-59-623d72ca2526>\"\u001b[0;36m, line \u001b[0;32m1\u001b[0m\n\u001b[0;31m    def lineplot(df, x_axis, y_axis, x_label, y_label)\u001b[0m\n\u001b[0m                                                      ^\u001b[0m\n\u001b[0;31mSyntaxError\u001b[0m\u001b[0;31m:\u001b[0m invalid syntax\n"
     ]
    }
   ],
   "source": [
    "def lineplot(df, x_axis, y_axis, x_label, y_label)"
   ]
  },
  {
   "cell_type": "code",
   "execution_count": 34,
   "metadata": {},
   "outputs": [
    {
     "output_type": "execute_result",
     "data": {
      "text/plain": [
       "{'df': 1,\n",
       " 'x_axis': 'eje x',\n",
       " 'y_axis': 'eje y',\n",
       " 'x_label': 'eje_x etiqueta',\n",
       " 'y_label': 'eje_y etiqueta',\n",
       " 'title': 'Título',\n",
       " 'color': 'columna a estudiar'}"
      ]
     },
     "metadata": {},
     "execution_count": 34
    }
   ],
   "source": [
    "grafico1 = Plotly_Plot(df=1, x_axis='eje x', y_axis = 'eje y', x_label = 'eje_x etiqueta', y_label = 'eje_y etiqueta', title='Título', color='columna a estudiar')\n",
    "grafico1.__dict__"
   ]
  },
  {
   "cell_type": "code",
   "execution_count": 23,
   "metadata": {},
   "outputs": [
    {
     "output_type": "error",
     "ename": "TypeError",
     "evalue": "__init__() got an unexpected keyword argument 'x_axis'",
     "traceback": [
      "\u001b[0;31m---------------------------------------------------------------------------\u001b[0m",
      "\u001b[0;31mTypeError\u001b[0m                                 Traceback (most recent call last)",
      "\u001b[0;32m<ipython-input-23-92783e529915>\u001b[0m in \u001b[0;36m<module>\u001b[0;34m\u001b[0m\n\u001b[0;32m----> 1\u001b[0;31m \u001b[0mgrafico2\u001b[0m \u001b[0;34m=\u001b[0m \u001b[0mScatterplot\u001b[0m\u001b[0;34m(\u001b[0m\u001b[0mx_axis\u001b[0m\u001b[0;34m=\u001b[0m\u001b[0;34m'eje x'\u001b[0m\u001b[0;34m,\u001b[0m \u001b[0my_axis\u001b[0m \u001b[0;34m=\u001b[0m \u001b[0;34m'eje y'\u001b[0m\u001b[0;34m,\u001b[0m \u001b[0mx_label\u001b[0m \u001b[0;34m=\u001b[0m \u001b[0;34m'eje_x etiqueta'\u001b[0m\u001b[0;34m,\u001b[0m \u001b[0my_label\u001b[0m \u001b[0;34m=\u001b[0m \u001b[0;34m'eje_y etiqueta'\u001b[0m\u001b[0;34m,\u001b[0m \u001b[0mtitle\u001b[0m\u001b[0;34m=\u001b[0m\u001b[0;34m'Título'\u001b[0m\u001b[0;34m,\u001b[0m \u001b[0mcolor\u001b[0m\u001b[0;34m=\u001b[0m\u001b[0;34m'columna a estudiar'\u001b[0m\u001b[0;34m)\u001b[0m\u001b[0;34m\u001b[0m\u001b[0;34m\u001b[0m\u001b[0m\n\u001b[0m",
      "\u001b[0;31mTypeError\u001b[0m: __init__() got an unexpected keyword argument 'x_axis'"
     ]
    }
   ],
   "source": [
    "grafico2 = Scatterplot(x_axis='eje x', y_axis = 'eje y', x_label = 'eje_x etiqueta', y_label = 'eje_y etiqueta', title='Título', color='columna a estudiar')"
   ]
  },
  {
   "cell_type": "code",
   "execution_count": 36,
   "metadata": {},
   "outputs": [
    {
     "output_type": "error",
     "ename": "AttributeError",
     "evalue": "'NoneType' object has no attribute '__dict__'",
     "traceback": [
      "\u001b[0;31m---------------------------------------------------------------------------\u001b[0m",
      "\u001b[0;31mAttributeError\u001b[0m                            Traceback (most recent call last)",
      "\u001b[0;32m<ipython-input-36-dd48c58a03a0>\u001b[0m in \u001b[0;36m<module>\u001b[0;34m\u001b[0m\n\u001b[0;32m----> 1\u001b[0;31m \u001b[0mgrafico1\u001b[0m\u001b[0;34m.\u001b[0m\u001b[0msave_plot\u001b[0m\u001b[0;34m(\u001b[0m\u001b[0mfile_ext\u001b[0m\u001b[0;34m=\u001b[0m\u001b[0;36m5\u001b[0m\u001b[0;34m,\u001b[0m \u001b[0mpath_location\u001b[0m\u001b[0;34m=\u001b[0m\u001b[0;36m4\u001b[0m\u001b[0;34m)\u001b[0m\u001b[0;34m.\u001b[0m\u001b[0m__dict__\u001b[0m\u001b[0;34m\u001b[0m\u001b[0;34m\u001b[0m\u001b[0m\n\u001b[0m",
      "\u001b[0;31mAttributeError\u001b[0m: 'NoneType' object has no attribute '__dict__'"
     ]
    }
   ],
   "source": [
    "grafico1.save_plot(file_ext=5, path_location=4)"
   ]
  },
  {
   "cell_type": "code",
   "execution_count": 39,
   "metadata": {},
   "outputs": [
    {
     "output_type": "execute_result",
     "data": {
      "text/plain": [
       "{'df': 1,\n",
       " 'x_axis': 'eje x',\n",
       " 'y_axis': 'eje y',\n",
       " 'x_label': 'eje_x etiqueta',\n",
       " 'y_label': 'eje_y etiqueta',\n",
       " 'title': 'Título',\n",
       " 'color': 'columna a estudiar',\n",
       " 'file_ext': 5}"
      ]
     },
     "metadata": {},
     "execution_count": 39
    }
   ],
   "source": [
    "grafico1.__dict__"
   ]
  },
  {
   "source": [
    "## **Now subclasses work**"
   ],
   "cell_type": "markdown",
   "metadata": {}
  },
  {
   "cell_type": "code",
   "execution_count": 58,
   "metadata": {},
   "outputs": [
    {
     "output_type": "execute_result",
     "data": {
      "text/plain": [
       "{'df': 1,\n",
       " 'x_axis': 'eje x',\n",
       " 'y_axis': 'eje y',\n",
       " 'x_label': 'leyenda x',\n",
       " 'y_label': 'leyenda y',\n",
       " 'title': 'titulo',\n",
       " 'color': 'columna a estudiar'}"
      ]
     },
     "metadata": {},
     "execution_count": 58
    }
   ],
   "source": [
    "grafico2 = Scatterplot(df=1, x_axis='eje x', y_axis='eje y', x_label='leyenda x', y_label='leyenda y', title='titulo', color='columna a estudiar')\n",
    "grafico2.__dict__"
   ]
  },
  {
   "cell_type": "code",
   "execution_count": null,
   "metadata": {},
   "outputs": [],
   "source": []
  }
 ]
}