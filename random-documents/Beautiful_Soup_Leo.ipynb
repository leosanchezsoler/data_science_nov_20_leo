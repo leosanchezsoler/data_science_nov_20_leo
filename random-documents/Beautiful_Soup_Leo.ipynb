{
 "metadata": {
  "language_info": {
   "codemirror_mode": {
    "name": "ipython",
    "version": 3
   },
   "file_extension": ".py",
   "mimetype": "text/x-python",
   "name": "python",
   "nbconvert_exporter": "python",
   "pygments_lexer": "ipython3",
   "version": "3.9.0-final"
  },
  "orig_nbformat": 2,
  "kernelspec": {
   "name": "python3",
   "display_name": "Python 3.9.0 64-bit",
   "metadata": {
    "interpreter": {
     "hash": "7812ea015bdcee6f23a998adcdd2ef97c151c0c241b7b7070987d9313e41299d"
    }
   }
  }
 },
 "nbformat": 4,
 "nbformat_minor": 2,
 "cells": [
  {
   "source": [
    "# Con web scraping podremos acceder a una página web cualquiera para obtener información de ella "
   ],
   "cell_type": "markdown",
   "metadata": {}
  },
  {
   "cell_type": "code",
   "execution_count": null,
   "metadata": {},
   "outputs": [],
   "source": [
    "\n",
    "<html lang=\"es\"> #Esto especifica el idioma \n",
    "<head>\n",
    "    <meta charset=\"UTF-8\"> #Esto es el encoding\n",
    "    <title>Página de prueba</title> #Esto contiene metadatos sobre la página\n",
    "</head>\n",
    "<body> #Este es el cuerpo de la página, que es lo que muestra el navegador \n",
    "<div id=\"main\" class=\"full-width\"> #<div es como una celda. En HTML cada div debe tener su propio cierre\n",
    "    <h1>El título de la página</h1>\n",
    "    <p>Este es el primer párrafo</p> #<p> representa un párrafo\n",
    "    <p>Este es el segundo párrafo</p>\n",
    "    <div id=\"innerDiv\">\n",
    "        <div class=\"links\">\n",
    "            <a href=\"https://pagina1.xyz/\">Enlace 1</a>\n",
    "            <a href=\"https://pagina2.xyz/\">Enlace 2</a>\n",
    "        </div>\n",
    "        <div class=\"right\">\n",
    "            <div class=\"links\">\n",
    "                <a href=\"https://pagina3.xyz/\">Enlace 3</a>\n",
    "                <a href=\"https://pagina4.xyz/\">Enlace 4</a>\n",
    "            </div>\n",
    "        </div>\n",
    "    </div>\n",
    "    <div id=\"footer\">\n",
    "        <!-- El footer -->\n",
    "        <p>Este párrafo está en el footer</p>\n",
    "        <div class=\"links footer-links\">\n",
    "            <a href=\"https://pagina5.xyz/\">Enlace 5</a>\n",
    "        </div>\n",
    "    </div>\n",
    "</div>\n",
    "</body>\n",
    "</html>"
   ]
  },
  {
   "cell_type": "code",
   "execution_count": null,
   "metadata": {},
   "outputs": [],
   "source": []
  },
  {
   "source": [],
   "cell_type": "markdown",
   "metadata": {}
  },
  {
   "source": [
    "## Al inspeccionar la página, los nombres que aparecen en lila son etiquetas, los que están en naranja son atributos, y los que están en azul al otro lado de la igualdad, son los valores del atributo\n",
    "\n"
   ],
   "cell_type": "markdown",
   "metadata": {}
  },
  {
   "cell_type": "code",
   "execution_count": 24,
   "metadata": {},
   "outputs": [],
   "source": [
    "import requests\n",
    "from bs4 import BeautifulSoup\n",
    "import pandas as pd "
   ]
  },
  {
   "cell_type": "code",
   "execution_count": 10,
   "metadata": {},
   "outputs": [],
   "source": [
    "# To show beautiful html\n",
    "def show_html(html_str):\n",
    "    print(BeautifulSoup(str(html_str), 'html.parser').prettify())"
   ]
  },
  {
   "cell_type": "code",
   "execution_count": 11,
   "metadata": {},
   "outputs": [],
   "source": [
    "url = \"\"\"https://www.imdb.com/search/title/?count=100&groups=top_1000&sort=user_rating\"\"\"\n",
    "\n",
    "def get_page_contents(url):\n",
    "    page = requests.get(url, headers={\"Accept-Language\": \"en-US\"})\n",
    "    return BeautifulSoup(page.text, \"html.parser\")\n",
    "soup = get_page_contents(url)\n",
    "#show_html(soup.text)"
   ]
  },
  {
   "cell_type": "code",
   "execution_count": 12,
   "metadata": {},
   "outputs": [],
   "source": [
    "# Collect first page of artists’ list\n",
    "page = requests.get('https://web.archive.org/web/20121007172955/https://www.nga.gov/collection/anZ1.htm')\n",
    "\n",
    "# Create a BeautifulSoup object\n",
    "soup = BeautifulSoup(page.text, 'html.parser')\n",
    "#show_html(soup.text)"
   ]
  },
  {
   "cell_type": "code",
   "execution_count": 13,
   "metadata": {},
   "outputs": [
    {
     "output_type": "stream",
     "name": "stdout",
     "text": [
      "<div class=\"BodyText\">\n <!-- InstanceBeginEditable name=\"BodyText\" -->\n <h3>\n  Artist names beginning with Z\n </h3>\n <table>\n  <tr valign=\"top\">\n   <td>\n    <a href=\"/web/20121007172955/https://www.nga.gov/cgi-bin/tsearch?artistid=11630\">\n     Zabaglia, Niccola\n    </a>\n   </td>\n   <td>\n    Italian, 1664 - 1750\n   </td>\n  </tr>\n  <tr valign=\"top\">\n   <td>\n    <a href=\"/web/20121007172955/https://www.nga.gov/cgi-bin/tsearch?artistid=34202\">\n     Zaccone, Fabian\n    </a>\n   </td>\n   <td>\n    American, 1910 - 1992\n   </td>\n  </tr>\n  <tr valign=\"top\">\n   <td>\n    <a href=\"/web/20121007172955/https://www.nga.gov/cgi-bin/tsearch?artistid=3475\">\n     Zadkine, Ossip\n    </a>\n   </td>\n   <td>\n    French, 1890 - 1967\n   </td>\n  </tr>\n  <tr valign=\"top\">\n   <td>\n    <a href=\"/web/20121007172955/https://www.nga.gov/cgi-bin/tsearch?artistid=25135\">\n     Zaech, Bernhard\n    </a>\n   </td>\n   <td>\n    German, active c. 1650\n   </td>\n  </tr>\n  <tr valign=\"top\">\n   <td>\n    <a href=\"/web/20121007172955/https://www.nga.gov/cgi-bin/tsearch?artistid=2298\">\n     Zagar, Jacob\n    </a>\n   </td>\n   <td>\n    Flemish, c. 1530 - after 1580\n   </td>\n  </tr>\n  <tr valign=\"top\">\n   <td>\n    <a href=\"/web/20121007172955/https://www.nga.gov/cgi-bin/tsearch?artistid=23988\">\n     Zagroba, Idalia\n    </a>\n   </td>\n   <td>\n    Polish, born 1967\n   </td>\n  </tr>\n  <tr valign=\"top\">\n   <td>\n    <a href=\"/web/20121007172955/https://www.nga.gov/cgi-bin/tsearch?artistid=8232\">\n     Zaidenberg, A.\n    </a>\n   </td>\n   <td>\n    American, active c. 1935\n   </td>\n  </tr>\n  <tr valign=\"top\">\n   <td>\n    <a href=\"/web/20121007172955/https://www.nga.gov/cgi-bin/tsearch?artistid=34154\">\n     Zaidenberg, Arthur\n    </a>\n   </td>\n   <td>\n    American, 1903 - 1990\n   </td>\n  </tr>\n  <tr valign=\"top\">\n   <td>\n    <a href=\"/web/20121007172955/https://www.nga.gov/cgi-bin/tsearch?artistid=4910\">\n     Zaisinger, Matthäus\n    </a>\n   </td>\n   <td>\n    German, active c. 1500\n   </td>\n  </tr>\n  <tr valign=\"top\">\n   <td>\n    <a href=\"/web/20121007172955/https://www.nga.gov/cgi-bin/tsearch?artistid=3450\">\n     Zajac, Jack\n    </a>\n   </td>\n   <td>\n    American, born 1929\n   </td>\n  </tr>\n  <tr valign=\"top\">\n   <td>\n    <a href=\"/web/20121007172955/https://www.nga.gov/cgi-bin/tsearch?artistid=1986\">\n     Zak, Eugène\n    </a>\n   </td>\n   <td>\n    Polish, 1884 - 1926\n   </td>\n  </tr>\n  <tr valign=\"top\">\n   <td>\n    <a href=\"/web/20121007172955/https://www.nga.gov/cgi-bin/tsearch?artistid=3451\">\n     Zakharov, Gurii Fillipovich\n    </a>\n   </td>\n   <td>\n    Russian, born 1926\n   </td>\n  </tr>\n  <tr valign=\"top\">\n   <td>\n    <a href=\"/web/20121007172955/https://www.nga.gov/cgi-bin/tsearch?artistid=20099\">\n     Zakowortny, Igor\n    </a>\n   </td>\n   <td>\n   </td>\n  </tr>\n  <tr valign=\"top\">\n   <td>\n    <a href=\"/web/20121007172955/https://www.nga.gov/cgi-bin/tsearch?artistid=3452\">\n     Zalce, Alfredo\n    </a>\n   </td>\n   <td>\n    Mexican, born 1908\n   </td>\n  </tr>\n  <tr valign=\"top\">\n   <td>\n    <a href=\"/web/20121007172955/https://www.nga.gov/cgi-bin/tsearch?artistid=34309\">\n     Zalopany, Michele\n    </a>\n   </td>\n   <td>\n    American, born 1955\n   </td>\n  </tr>\n  <tr valign=\"top\">\n   <td>\n    <a href=\"/web/20121007172955/https://www.nga.gov/cgi-bin/tsearch?artistid=27191\">\n     Zammiello, Craig\n    </a>\n   </td>\n   <td>\n   </td>\n  </tr>\n  <tr valign=\"top\">\n   <td>\n    <a href=\"/web/20121007172955/https://www.nga.gov/cgi-bin/tsearch?artistid=5846\">\n     Zammitt, Norman\n    </a>\n   </td>\n   <td>\n    American, born 1931\n   </td>\n  </tr>\n  <tr valign=\"top\">\n   <td>\n    <a href=\"/web/20121007172955/https://www.nga.gov/cgi-bin/tsearch?artistid=3941\">\n     Zampieri, Domenico\n    </a>\n   </td>\n   <td>\n    Italian, 1581 - 1641\n   </td>\n  </tr>\n  <tr valign=\"top\">\n   <td>\n    <a href=\"/web/20121007172955/https://www.nga.gov/cgi-bin/tsearch?artistid=3941\">\n     Zampieri, called Domenichino, Domenico\n    </a>\n   </td>\n   <td>\n    Italian, 1581 - 1641\n   </td>\n  </tr>\n  <tr valign=\"top\">\n   <td>\n    <a href=\"/web/20121007172955/https://www.nga.gov/cgi-bin/tsearch?artistid=3453\">\n     Zanartú, Enrique Antunez\n    </a>\n   </td>\n   <td>\n    Chilean, born 1921\n   </td>\n  </tr>\n  <tr valign=\"top\">\n   <td>\n    <a href=\"/web/20121007172955/https://www.nga.gov/cgi-bin/tsearch?artistid=35173\">\n     Zanchi, Antonio\n    </a>\n   </td>\n   <td>\n    Italian, 1631 - 1722\n   </td>\n  </tr>\n  <tr valign=\"top\">\n   <td>\n    <a href=\"/web/20121007172955/https://www.nga.gov/cgi-bin/tsearch?artistid=11133\">\n     Zanetti, Anton Maria\n    </a>\n   </td>\n   <td>\n    Italian, 1679/1680 - 1767\n   </td>\n  </tr>\n  <tr valign=\"top\">\n   <td>\n    <a href=\"/web/20121007172955/https://www.nga.gov/cgi-bin/tsearch?artistid=3455\">\n     Zanetti Borzino, Leopoldina\n    </a>\n   </td>\n   <td>\n    Italian, 1826 - 1902\n   </td>\n  </tr>\n  <tr valign=\"top\">\n   <td>\n    <a href=\"/web/20121007172955/https://www.nga.gov/cgi-bin/tsearch?artistid=3454\">\n     Zanetti I, Antonio Maria, conte\n    </a>\n   </td>\n   <td>\n    Italian, 1680 - 1757\n   </td>\n  </tr>\n  <tr valign=\"top\">\n   <td>\n    <a href=\"/web/20121007172955/https://www.nga.gov/cgi-bin/tsearch?artistid=961\">\n     Zanguidi, Jacopo\n    </a>\n   </td>\n   <td>\n    Italian, 1544 - 1573/1574\n   </td>\n  </tr>\n  <tr valign=\"top\">\n   <td>\n    <a href=\"/web/20121007172955/https://www.nga.gov/cgi-bin/tsearch?artistid=11597\">\n     Zanini, Giuseppe\n    </a>\n   </td>\n   <td>\n    Italian, c. 1599 - 1631\n   </td>\n  </tr>\n  <tr valign=\"top\">\n   <td>\n    <a href=\"/web/20121007172955/https://www.nga.gov/cgi-bin/tsearch?artistid=11597\">\n     Zanini-Viola, Giuseppe\n    </a>\n   </td>\n   <td>\n    Italian, c. 1599 - 1631\n   </td>\n  </tr>\n  <tr valign=\"top\">\n   <td>\n    <a href=\"/web/20121007172955/https://www.nga.gov/cgi-bin/tsearch?artistid=11631\">\n     Zanotti, Giampietro\n    </a>\n   </td>\n   <td>\n    Italian, 1674 - 1765\n   </td>\n  </tr>\n  <tr valign=\"top\">\n   <td>\n    <a href=\"/web/20121007172955/https://www.nga.gov/cgi-bin/tsearch?artistid=3427\">\n     Zao Wou-Ki\n    </a>\n   </td>\n   <td>\n    French, born 1921\n   </td>\n  </tr>\n </table>\n <br/>\n <br/>\n <table class=\"AlphaNav\">\n  <tr>\n   <td>\n   </td>\n   <td align=\"center\">\n    Page 1 - Artists 1 thru 29 of 115\n    <br/>\n   </td>\n   <td>\n   </td>\n  </tr>\n  <tr>\n   <td>\n   </td>\n   <td align=\"center\">\n    ·\n    <b>\n     Zab-Zao\n    </b>\n    ·\n    <a href=\"/web/20121007172955/https://www.nga.gov/collection/anZ2.htm\">\n     Zas-Zie\n    </a>\n    <a href=\"/web/20121007172955/https://www.nga.gov/collection/anZ3.htm\">\n     Zie-Zor\n    </a>\n   </td>\n   <td align=\"center\">\n    »\n    <br/>\n    <a href=\"/web/20121007172955/https://www.nga.gov/collection/anZ4.htm\">\n     <strong>\n      next\n      <br>\n       page\n      </br>\n     </strong>\n    </a>\n   </td>\n  </tr>\n </table>\n <!-- InstanceEndEditable -->\n</div>\n"
     ]
    }
   ],
   "source": [
    "# Pull all text from the BodyText div\n",
    "artist_name_list = soup.find(class_='BodyText')\n",
    "show_html(artist_name_list)"
   ]
  },
  {
   "cell_type": "code",
   "execution_count": 14,
   "metadata": {},
   "outputs": [
    {
     "output_type": "stream",
     "name": "stdout",
     "text": [
      "[\n<a href=\"/web/20121007172955/https://www.nga.gov/cgi-bin/tsearch?artistid=11630\">\n Zabaglia, Niccola\n</a>\n,\n<a href=\"/web/20121007172955/https://www.nga.gov/cgi-bin/tsearch?artistid=34202\">\n Zaccone, Fabian\n</a>\n,\n<a href=\"/web/20121007172955/https://www.nga.gov/cgi-bin/tsearch?artistid=3475\">\n Zadkine, Ossip\n</a>\n,\n<a href=\"/web/20121007172955/https://www.nga.gov/cgi-bin/tsearch?artistid=25135\">\n Zaech, Bernhard\n</a>\n,\n<a href=\"/web/20121007172955/https://www.nga.gov/cgi-bin/tsearch?artistid=2298\">\n Zagar, Jacob\n</a>\n,\n<a href=\"/web/20121007172955/https://www.nga.gov/cgi-bin/tsearch?artistid=23988\">\n Zagroba, Idalia\n</a>\n,\n<a href=\"/web/20121007172955/https://www.nga.gov/cgi-bin/tsearch?artistid=8232\">\n Zaidenberg, A.\n</a>\n,\n<a href=\"/web/20121007172955/https://www.nga.gov/cgi-bin/tsearch?artistid=34154\">\n Zaidenberg, Arthur\n</a>\n,\n<a href=\"/web/20121007172955/https://www.nga.gov/cgi-bin/tsearch?artistid=4910\">\n Zaisinger, Matthäus\n</a>\n,\n<a href=\"/web/20121007172955/https://www.nga.gov/cgi-bin/tsearch?artistid=3450\">\n Zajac, Jack\n</a>\n,\n<a href=\"/web/20121007172955/https://www.nga.gov/cgi-bin/tsearch?artistid=1986\">\n Zak, Eugène\n</a>\n,\n<a href=\"/web/20121007172955/https://www.nga.gov/cgi-bin/tsearch?artistid=3451\">\n Zakharov, Gurii Fillipovich\n</a>\n,\n<a href=\"/web/20121007172955/https://www.nga.gov/cgi-bin/tsearch?artistid=20099\">\n Zakowortny, Igor\n</a>\n,\n<a href=\"/web/20121007172955/https://www.nga.gov/cgi-bin/tsearch?artistid=3452\">\n Zalce, Alfredo\n</a>\n,\n<a href=\"/web/20121007172955/https://www.nga.gov/cgi-bin/tsearch?artistid=34309\">\n Zalopany, Michele\n</a>\n,\n<a href=\"/web/20121007172955/https://www.nga.gov/cgi-bin/tsearch?artistid=27191\">\n Zammiello, Craig\n</a>\n,\n<a href=\"/web/20121007172955/https://www.nga.gov/cgi-bin/tsearch?artistid=5846\">\n Zammitt, Norman\n</a>\n,\n<a href=\"/web/20121007172955/https://www.nga.gov/cgi-bin/tsearch?artistid=3941\">\n Zampieri, Domenico\n</a>\n,\n<a href=\"/web/20121007172955/https://www.nga.gov/cgi-bin/tsearch?artistid=3941\">\n Zampieri, called Domenichino, Domenico\n</a>\n,\n<a href=\"/web/20121007172955/https://www.nga.gov/cgi-bin/tsearch?artistid=3453\">\n Zanartú, Enrique Antunez\n</a>\n,\n<a href=\"/web/20121007172955/https://www.nga.gov/cgi-bin/tsearch?artistid=35173\">\n Zanchi, Antonio\n</a>\n,\n<a href=\"/web/20121007172955/https://www.nga.gov/cgi-bin/tsearch?artistid=11133\">\n Zanetti, Anton Maria\n</a>\n,\n<a href=\"/web/20121007172955/https://www.nga.gov/cgi-bin/tsearch?artistid=3455\">\n Zanetti Borzino, Leopoldina\n</a>\n,\n<a href=\"/web/20121007172955/https://www.nga.gov/cgi-bin/tsearch?artistid=3454\">\n Zanetti I, Antonio Maria, conte\n</a>\n,\n<a href=\"/web/20121007172955/https://www.nga.gov/cgi-bin/tsearch?artistid=961\">\n Zanguidi, Jacopo\n</a>\n,\n<a href=\"/web/20121007172955/https://www.nga.gov/cgi-bin/tsearch?artistid=11597\">\n Zanini, Giuseppe\n</a>\n,\n<a href=\"/web/20121007172955/https://www.nga.gov/cgi-bin/tsearch?artistid=11597\">\n Zanini-Viola, Giuseppe\n</a>\n,\n<a href=\"/web/20121007172955/https://www.nga.gov/cgi-bin/tsearch?artistid=11631\">\n Zanotti, Giampietro\n</a>\n,\n<a href=\"/web/20121007172955/https://www.nga.gov/cgi-bin/tsearch?artistid=3427\">\n Zao Wou-Ki\n</a>\n,\n<a href=\"/web/20121007172955/https://www.nga.gov/collection/anZ2.htm\">\n Zas-Zie\n</a>\n,\n<a href=\"/web/20121007172955/https://www.nga.gov/collection/anZ3.htm\">\n Zie-Zor\n</a>\n,\n<a href=\"/web/20121007172955/https://www.nga.gov/collection/anZ4.htm\">\n <strong>\n  next\n  <br/>\n  page\n </strong>\n</a>\n]\n\n"
     ]
    }
   ],
   "source": [
    "# Pull text from all instances of <a> tag within BodyText div\n",
    "artist_name_list_items = artist_name_list.find_all('a')\n",
    "show_html(artist_name_list_items)"
   ]
  },
  {
   "cell_type": "code",
   "execution_count": 15,
   "metadata": {},
   "outputs": [
    {
     "output_type": "stream",
     "name": "stdout",
     "text": [
      "<a href=\"/web/20121007172955/https://www.nga.gov/cgi-bin/tsearch?artistid=11630\">Zabaglia, Niccola</a>\n",
      "<a href=\"/web/20121007172955/https://www.nga.gov/cgi-bin/tsearch?artistid=34202\">Zaccone, Fabian</a>\n",
      "<a href=\"/web/20121007172955/https://www.nga.gov/cgi-bin/tsearch?artistid=3475\">Zadkine, Ossip</a>\n",
      "<a href=\"/web/20121007172955/https://www.nga.gov/cgi-bin/tsearch?artistid=25135\">Zaech, Bernhard</a>\n",
      "<a href=\"/web/20121007172955/https://www.nga.gov/cgi-bin/tsearch?artistid=2298\">Zagar, Jacob</a>\n",
      "<a href=\"/web/20121007172955/https://www.nga.gov/cgi-bin/tsearch?artistid=23988\">Zagroba, Idalia</a>\n",
      "<a href=\"/web/20121007172955/https://www.nga.gov/cgi-bin/tsearch?artistid=8232\">Zaidenberg, A.</a>\n",
      "<a href=\"/web/20121007172955/https://www.nga.gov/cgi-bin/tsearch?artistid=34154\">Zaidenberg, Arthur</a>\n",
      "<a href=\"/web/20121007172955/https://www.nga.gov/cgi-bin/tsearch?artistid=4910\">Zaisinger, Matthäus</a>\n",
      "<a href=\"/web/20121007172955/https://www.nga.gov/cgi-bin/tsearch?artistid=3450\">Zajac, Jack</a>\n",
      "<a href=\"/web/20121007172955/https://www.nga.gov/cgi-bin/tsearch?artistid=1986\">Zak, Eugène</a>\n",
      "<a href=\"/web/20121007172955/https://www.nga.gov/cgi-bin/tsearch?artistid=3451\">Zakharov, Gurii Fillipovich</a>\n",
      "<a href=\"/web/20121007172955/https://www.nga.gov/cgi-bin/tsearch?artistid=20099\">Zakowortny, Igor</a>\n",
      "<a href=\"/web/20121007172955/https://www.nga.gov/cgi-bin/tsearch?artistid=3452\">Zalce, Alfredo</a>\n",
      "<a href=\"/web/20121007172955/https://www.nga.gov/cgi-bin/tsearch?artistid=34309\">Zalopany, Michele</a>\n",
      "<a href=\"/web/20121007172955/https://www.nga.gov/cgi-bin/tsearch?artistid=27191\">Zammiello, Craig</a>\n",
      "<a href=\"/web/20121007172955/https://www.nga.gov/cgi-bin/tsearch?artistid=5846\">Zammitt, Norman</a>\n",
      "<a href=\"/web/20121007172955/https://www.nga.gov/cgi-bin/tsearch?artistid=3941\">Zampieri, Domenico</a>\n",
      "<a href=\"/web/20121007172955/https://www.nga.gov/cgi-bin/tsearch?artistid=3941\">Zampieri, called Domenichino, Domenico</a>\n",
      "<a href=\"/web/20121007172955/https://www.nga.gov/cgi-bin/tsearch?artistid=3453\">Zanartú, Enrique Antunez</a>\n",
      "<a href=\"/web/20121007172955/https://www.nga.gov/cgi-bin/tsearch?artistid=35173\">Zanchi, Antonio</a>\n",
      "<a href=\"/web/20121007172955/https://www.nga.gov/cgi-bin/tsearch?artistid=11133\">Zanetti, Anton Maria</a>\n",
      "<a href=\"/web/20121007172955/https://www.nga.gov/cgi-bin/tsearch?artistid=3455\">Zanetti Borzino, Leopoldina</a>\n",
      "<a href=\"/web/20121007172955/https://www.nga.gov/cgi-bin/tsearch?artistid=3454\">Zanetti I, Antonio Maria, conte</a>\n",
      "<a href=\"/web/20121007172955/https://www.nga.gov/cgi-bin/tsearch?artistid=961\">Zanguidi, Jacopo</a>\n",
      "<a href=\"/web/20121007172955/https://www.nga.gov/cgi-bin/tsearch?artistid=11597\">Zanini, Giuseppe</a>\n",
      "<a href=\"/web/20121007172955/https://www.nga.gov/cgi-bin/tsearch?artistid=11597\">Zanini-Viola, Giuseppe</a>\n",
      "<a href=\"/web/20121007172955/https://www.nga.gov/cgi-bin/tsearch?artistid=11631\">Zanotti, Giampietro</a>\n",
      "<a href=\"/web/20121007172955/https://www.nga.gov/cgi-bin/tsearch?artistid=3427\">Zao Wou-Ki</a>\n",
      "<a href=\"/web/20121007172955/https://www.nga.gov/collection/anZ2.htm\">Zas-Zie</a>\n",
      "<a href=\"/web/20121007172955/https://www.nga.gov/collection/anZ3.htm\">Zie-Zor</a>\n",
      "<a href=\"/web/20121007172955/https://www.nga.gov/collection/anZ4.htm\"><strong>next<br/>page</strong></a>\n"
     ]
    }
   ],
   "source": [
    "# Create for loop to print out all artists\n",
    "for artist_name in artist_name_list_items:\n",
    "    print(artist_name)"
   ]
  },
  {
   "cell_type": "code",
   "execution_count": 22,
   "metadata": {},
   "outputs": [
    {
     "output_type": "stream",
     "name": "stdout",
     "text": [
      "Zabaglia, Niccola\nZaccone, Fabian\nZadkine, Ossip\nZaech, Bernhard\nZagar, Jacob\nZagroba, Idalia\nZaidenberg, A.\nZaidenberg, Arthur\nZaisinger, Matthäus\nZajac, Jack\nZak, Eugène\nZakharov, Gurii Fillipovich\nZakowortny, Igor\nZalce, Alfredo\nZalopany, Michele\nZammiello, Craig\nZammitt, Norman\nZampieri, Domenico\nZampieri, called Domenichino, Domenico\nZanartú, Enrique Antunez\nZanchi, Antonio\nZanetti, Anton Maria\nZanetti Borzino, Leopoldina\nZanetti I, Antonio Maria, conte\nZanguidi, Jacopo\nZanini, Giuseppe\nZanini-Viola, Giuseppe\nZanotti, Giampietro\nZao Wou-Ki\nZas-Zie\nZie-Zor\n<strong>next<br/>page</strong>\n"
     ]
    }
   ],
   "source": [
    "artist_names = []\n",
    "\n",
    "# Create for loop to print out all artists' names\n",
    "for artist_name in artist_name_list_items:\n",
    "    names = artist_name.contents[0]\n",
    "    print(names)\n",
    "    artist_names.append(names)"
   ]
  },
  {
   "cell_type": "code",
   "execution_count": 17,
   "metadata": {},
   "outputs": [
    {
     "output_type": "stream",
     "name": "stdout",
     "text": [
      "/web/20121007172955/https://www.nga.gov/cgi-bin/tsearch?artistid=11630\n/web/20121007172955/https://www.nga.gov/cgi-bin/tsearch?artistid=34202\n/web/20121007172955/https://www.nga.gov/cgi-bin/tsearch?artistid=3475\n/web/20121007172955/https://www.nga.gov/cgi-bin/tsearch?artistid=25135\n/web/20121007172955/https://www.nga.gov/cgi-bin/tsearch?artistid=2298\n/web/20121007172955/https://www.nga.gov/cgi-bin/tsearch?artistid=23988\n/web/20121007172955/https://www.nga.gov/cgi-bin/tsearch?artistid=8232\n/web/20121007172955/https://www.nga.gov/cgi-bin/tsearch?artistid=34154\n/web/20121007172955/https://www.nga.gov/cgi-bin/tsearch?artistid=4910\n/web/20121007172955/https://www.nga.gov/cgi-bin/tsearch?artistid=3450\n/web/20121007172955/https://www.nga.gov/cgi-bin/tsearch?artistid=1986\n/web/20121007172955/https://www.nga.gov/cgi-bin/tsearch?artistid=3451\n/web/20121007172955/https://www.nga.gov/cgi-bin/tsearch?artistid=20099\n/web/20121007172955/https://www.nga.gov/cgi-bin/tsearch?artistid=3452\n/web/20121007172955/https://www.nga.gov/cgi-bin/tsearch?artistid=34309\n/web/20121007172955/https://www.nga.gov/cgi-bin/tsearch?artistid=27191\n/web/20121007172955/https://www.nga.gov/cgi-bin/tsearch?artistid=5846\n/web/20121007172955/https://www.nga.gov/cgi-bin/tsearch?artistid=3941\n/web/20121007172955/https://www.nga.gov/cgi-bin/tsearch?artistid=3941\n/web/20121007172955/https://www.nga.gov/cgi-bin/tsearch?artistid=3453\n/web/20121007172955/https://www.nga.gov/cgi-bin/tsearch?artistid=35173\n/web/20121007172955/https://www.nga.gov/cgi-bin/tsearch?artistid=11133\n/web/20121007172955/https://www.nga.gov/cgi-bin/tsearch?artistid=3455\n/web/20121007172955/https://www.nga.gov/cgi-bin/tsearch?artistid=3454\n/web/20121007172955/https://www.nga.gov/cgi-bin/tsearch?artistid=961\n/web/20121007172955/https://www.nga.gov/cgi-bin/tsearch?artistid=11597\n/web/20121007172955/https://www.nga.gov/cgi-bin/tsearch?artistid=11597\n/web/20121007172955/https://www.nga.gov/cgi-bin/tsearch?artistid=11631\n/web/20121007172955/https://www.nga.gov/cgi-bin/tsearch?artistid=3427\n/web/20121007172955/https://www.nga.gov/collection/anZ2.htm\n/web/20121007172955/https://www.nga.gov/collection/anZ3.htm\n/web/20121007172955/https://www.nga.gov/collection/anZ4.htm\n"
     ]
    }
   ],
   "source": [
    "# Create for loop to print out all artists' links\n",
    "for artist_name in artist_name_list_items:\n",
    "    link = artist_name.get('href')\n",
    "    print(link)"
   ]
  },
  {
   "cell_type": "code",
   "execution_count": 18,
   "metadata": {},
   "outputs": [
    {
     "output_type": "stream",
     "name": "stdout",
     "text": [
      "https://web.archive.org/web/20121007172955/https://www.nga.gov/cgi-bin/tsearch?artistid=11630\nhttps://web.archive.org/web/20121007172955/https://www.nga.gov/cgi-bin/tsearch?artistid=34202\nhttps://web.archive.org/web/20121007172955/https://www.nga.gov/cgi-bin/tsearch?artistid=3475\nhttps://web.archive.org/web/20121007172955/https://www.nga.gov/cgi-bin/tsearch?artistid=25135\nhttps://web.archive.org/web/20121007172955/https://www.nga.gov/cgi-bin/tsearch?artistid=2298\nhttps://web.archive.org/web/20121007172955/https://www.nga.gov/cgi-bin/tsearch?artistid=23988\nhttps://web.archive.org/web/20121007172955/https://www.nga.gov/cgi-bin/tsearch?artistid=8232\nhttps://web.archive.org/web/20121007172955/https://www.nga.gov/cgi-bin/tsearch?artistid=34154\nhttps://web.archive.org/web/20121007172955/https://www.nga.gov/cgi-bin/tsearch?artistid=4910\nhttps://web.archive.org/web/20121007172955/https://www.nga.gov/cgi-bin/tsearch?artistid=3450\nhttps://web.archive.org/web/20121007172955/https://www.nga.gov/cgi-bin/tsearch?artistid=1986\nhttps://web.archive.org/web/20121007172955/https://www.nga.gov/cgi-bin/tsearch?artistid=3451\nhttps://web.archive.org/web/20121007172955/https://www.nga.gov/cgi-bin/tsearch?artistid=20099\nhttps://web.archive.org/web/20121007172955/https://www.nga.gov/cgi-bin/tsearch?artistid=3452\nhttps://web.archive.org/web/20121007172955/https://www.nga.gov/cgi-bin/tsearch?artistid=34309\nhttps://web.archive.org/web/20121007172955/https://www.nga.gov/cgi-bin/tsearch?artistid=27191\nhttps://web.archive.org/web/20121007172955/https://www.nga.gov/cgi-bin/tsearch?artistid=5846\nhttps://web.archive.org/web/20121007172955/https://www.nga.gov/cgi-bin/tsearch?artistid=3941\nhttps://web.archive.org/web/20121007172955/https://www.nga.gov/cgi-bin/tsearch?artistid=3941\nhttps://web.archive.org/web/20121007172955/https://www.nga.gov/cgi-bin/tsearch?artistid=3453\nhttps://web.archive.org/web/20121007172955/https://www.nga.gov/cgi-bin/tsearch?artistid=35173\nhttps://web.archive.org/web/20121007172955/https://www.nga.gov/cgi-bin/tsearch?artistid=11133\nhttps://web.archive.org/web/20121007172955/https://www.nga.gov/cgi-bin/tsearch?artistid=3455\nhttps://web.archive.org/web/20121007172955/https://www.nga.gov/cgi-bin/tsearch?artistid=3454\nhttps://web.archive.org/web/20121007172955/https://www.nga.gov/cgi-bin/tsearch?artistid=961\nhttps://web.archive.org/web/20121007172955/https://www.nga.gov/cgi-bin/tsearch?artistid=11597\nhttps://web.archive.org/web/20121007172955/https://www.nga.gov/cgi-bin/tsearch?artistid=11597\nhttps://web.archive.org/web/20121007172955/https://www.nga.gov/cgi-bin/tsearch?artistid=11631\nhttps://web.archive.org/web/20121007172955/https://www.nga.gov/cgi-bin/tsearch?artistid=3427\nhttps://web.archive.org/web/20121007172955/https://www.nga.gov/collection/anZ2.htm\nhttps://web.archive.org/web/20121007172955/https://www.nga.gov/collection/anZ3.htm\nhttps://web.archive.org/web/20121007172955/https://www.nga.gov/collection/anZ4.htm\n"
     ]
    }
   ],
   "source": [
    "links = []\n",
    "\n",
    "# Create for loop to print out all artists' links well\n",
    "for artist_name in artist_name_list_items:\n",
    "    link = 'https://web.archive.org' + artist_name.get('href')\n",
    "    print(link)\n",
    "    links.append(link)"
   ]
  },
  {
   "cell_type": "code",
   "execution_count": 19,
   "metadata": {},
   "outputs": [
    {
     "output_type": "execute_result",
     "data": {
      "text/plain": [
       "{'Zabaglia, Niccola': 'https://web.archive.org/web/20121007172955/https://www.nga.gov/cgi-bin/tsearch?artistid=11630',\n",
       " 'Zaccone, Fabian': 'https://web.archive.org/web/20121007172955/https://www.nga.gov/cgi-bin/tsearch?artistid=34202',\n",
       " 'Zadkine, Ossip': 'https://web.archive.org/web/20121007172955/https://www.nga.gov/cgi-bin/tsearch?artistid=3475',\n",
       " 'Zaech, Bernhard': 'https://web.archive.org/web/20121007172955/https://www.nga.gov/cgi-bin/tsearch?artistid=25135',\n",
       " 'Zagar, Jacob': 'https://web.archive.org/web/20121007172955/https://www.nga.gov/cgi-bin/tsearch?artistid=2298',\n",
       " 'Zagroba, Idalia': 'https://web.archive.org/web/20121007172955/https://www.nga.gov/cgi-bin/tsearch?artistid=23988',\n",
       " 'Zaidenberg, A.': 'https://web.archive.org/web/20121007172955/https://www.nga.gov/cgi-bin/tsearch?artistid=8232',\n",
       " 'Zaidenberg, Arthur': 'https://web.archive.org/web/20121007172955/https://www.nga.gov/cgi-bin/tsearch?artistid=34154',\n",
       " 'Zaisinger, Matthäus': 'https://web.archive.org/web/20121007172955/https://www.nga.gov/cgi-bin/tsearch?artistid=4910',\n",
       " 'Zajac, Jack': 'https://web.archive.org/web/20121007172955/https://www.nga.gov/cgi-bin/tsearch?artistid=3450',\n",
       " 'Zak, Eugène': 'https://web.archive.org/web/20121007172955/https://www.nga.gov/cgi-bin/tsearch?artistid=1986',\n",
       " 'Zakharov, Gurii Fillipovich': 'https://web.archive.org/web/20121007172955/https://www.nga.gov/cgi-bin/tsearch?artistid=3451',\n",
       " 'Zakowortny, Igor': 'https://web.archive.org/web/20121007172955/https://www.nga.gov/cgi-bin/tsearch?artistid=20099',\n",
       " 'Zalce, Alfredo': 'https://web.archive.org/web/20121007172955/https://www.nga.gov/cgi-bin/tsearch?artistid=3452',\n",
       " 'Zalopany, Michele': 'https://web.archive.org/web/20121007172955/https://www.nga.gov/cgi-bin/tsearch?artistid=34309',\n",
       " 'Zammiello, Craig': 'https://web.archive.org/web/20121007172955/https://www.nga.gov/cgi-bin/tsearch?artistid=27191',\n",
       " 'Zammitt, Norman': 'https://web.archive.org/web/20121007172955/https://www.nga.gov/cgi-bin/tsearch?artistid=5846',\n",
       " 'Zampieri, Domenico': 'https://web.archive.org/web/20121007172955/https://www.nga.gov/cgi-bin/tsearch?artistid=3941',\n",
       " 'Zampieri, called Domenichino, Domenico': 'https://web.archive.org/web/20121007172955/https://www.nga.gov/cgi-bin/tsearch?artistid=3941',\n",
       " 'Zanartú, Enrique Antunez': 'https://web.archive.org/web/20121007172955/https://www.nga.gov/cgi-bin/tsearch?artistid=3453',\n",
       " 'Zanchi, Antonio': 'https://web.archive.org/web/20121007172955/https://www.nga.gov/cgi-bin/tsearch?artistid=35173',\n",
       " 'Zanetti, Anton Maria': 'https://web.archive.org/web/20121007172955/https://www.nga.gov/cgi-bin/tsearch?artistid=11133',\n",
       " 'Zanetti Borzino, Leopoldina': 'https://web.archive.org/web/20121007172955/https://www.nga.gov/cgi-bin/tsearch?artistid=3455',\n",
       " 'Zanetti I, Antonio Maria, conte': 'https://web.archive.org/web/20121007172955/https://www.nga.gov/cgi-bin/tsearch?artistid=3454',\n",
       " 'Zanguidi, Jacopo': 'https://web.archive.org/web/20121007172955/https://www.nga.gov/cgi-bin/tsearch?artistid=961',\n",
       " 'Zanini, Giuseppe': 'https://web.archive.org/web/20121007172955/https://www.nga.gov/cgi-bin/tsearch?artistid=11597',\n",
       " 'Zanini-Viola, Giuseppe': 'https://web.archive.org/web/20121007172955/https://www.nga.gov/cgi-bin/tsearch?artistid=11597',\n",
       " 'Zanotti, Giampietro': 'https://web.archive.org/web/20121007172955/https://www.nga.gov/cgi-bin/tsearch?artistid=11631',\n",
       " 'Zao Wou-Ki': 'https://web.archive.org/web/20121007172955/https://www.nga.gov/cgi-bin/tsearch?artistid=3427',\n",
       " 'Zas-Zie': 'https://web.archive.org/web/20121007172955/https://www.nga.gov/collection/anZ2.htm',\n",
       " 'Zie-Zor': 'https://web.archive.org/web/20121007172955/https://www.nga.gov/collection/anZ3.htm',\n",
       " <strong>next<br/>page</strong>: 'https://web.archive.org/web/20121007172955/https://www.nga.gov/collection/anZ4.htm'}"
      ]
     },
     "metadata": {},
     "execution_count": 19
    }
   ],
   "source": [
    "# Convertir a dict? \n",
    "\n",
    "artist_names_links = dict(zip(artist_names, links))\n",
    "artist_names_links"
   ]
  },
  {
   "cell_type": "code",
   "execution_count": 25,
   "metadata": {},
   "outputs": [
    {
     "output_type": "execute_result",
     "data": {
      "text/plain": [
       "                                      name  \\\n",
       "0                        Zabaglia, Niccola   \n",
       "1                          Zaccone, Fabian   \n",
       "2                           Zadkine, Ossip   \n",
       "3                          Zaech, Bernhard   \n",
       "4                             Zagar, Jacob   \n",
       "5                          Zagroba, Idalia   \n",
       "6                           Zaidenberg, A.   \n",
       "7                       Zaidenberg, Arthur   \n",
       "8                      Zaisinger, Matthäus   \n",
       "9                              Zajac, Jack   \n",
       "10                             Zak, Eugène   \n",
       "11             Zakharov, Gurii Fillipovich   \n",
       "12                        Zakowortny, Igor   \n",
       "13                          Zalce, Alfredo   \n",
       "14                       Zalopany, Michele   \n",
       "15                        Zammiello, Craig   \n",
       "16                         Zammitt, Norman   \n",
       "17                      Zampieri, Domenico   \n",
       "18  Zampieri, called Domenichino, Domenico   \n",
       "19                Zanartú, Enrique Antunez   \n",
       "20                         Zanchi, Antonio   \n",
       "21                    Zanetti, Anton Maria   \n",
       "22             Zanetti Borzino, Leopoldina   \n",
       "23         Zanetti I, Antonio Maria, conte   \n",
       "24                        Zanguidi, Jacopo   \n",
       "25                        Zanini, Giuseppe   \n",
       "26                  Zanini-Viola, Giuseppe   \n",
       "27                     Zanotti, Giampietro   \n",
       "28                              Zao Wou-Ki   \n",
       "29                                 Zas-Zie   \n",
       "30                                 Zie-Zor   \n",
       "31                        [next, [], page]   \n",
       "\n",
       "                                                 link  \n",
       "0   https://web.archive.org/web/20121007172955/htt...  \n",
       "1   https://web.archive.org/web/20121007172955/htt...  \n",
       "2   https://web.archive.org/web/20121007172955/htt...  \n",
       "3   https://web.archive.org/web/20121007172955/htt...  \n",
       "4   https://web.archive.org/web/20121007172955/htt...  \n",
       "5   https://web.archive.org/web/20121007172955/htt...  \n",
       "6   https://web.archive.org/web/20121007172955/htt...  \n",
       "7   https://web.archive.org/web/20121007172955/htt...  \n",
       "8   https://web.archive.org/web/20121007172955/htt...  \n",
       "9   https://web.archive.org/web/20121007172955/htt...  \n",
       "10  https://web.archive.org/web/20121007172955/htt...  \n",
       "11  https://web.archive.org/web/20121007172955/htt...  \n",
       "12  https://web.archive.org/web/20121007172955/htt...  \n",
       "13  https://web.archive.org/web/20121007172955/htt...  \n",
       "14  https://web.archive.org/web/20121007172955/htt...  \n",
       "15  https://web.archive.org/web/20121007172955/htt...  \n",
       "16  https://web.archive.org/web/20121007172955/htt...  \n",
       "17  https://web.archive.org/web/20121007172955/htt...  \n",
       "18  https://web.archive.org/web/20121007172955/htt...  \n",
       "19  https://web.archive.org/web/20121007172955/htt...  \n",
       "20  https://web.archive.org/web/20121007172955/htt...  \n",
       "21  https://web.archive.org/web/20121007172955/htt...  \n",
       "22  https://web.archive.org/web/20121007172955/htt...  \n",
       "23  https://web.archive.org/web/20121007172955/htt...  \n",
       "24  https://web.archive.org/web/20121007172955/htt...  \n",
       "25  https://web.archive.org/web/20121007172955/htt...  \n",
       "26  https://web.archive.org/web/20121007172955/htt...  \n",
       "27  https://web.archive.org/web/20121007172955/htt...  \n",
       "28  https://web.archive.org/web/20121007172955/htt...  \n",
       "29  https://web.archive.org/web/20121007172955/htt...  \n",
       "30  https://web.archive.org/web/20121007172955/htt...  \n",
       "31  https://web.archive.org/web/20121007172955/htt...  "
      ],
      "text/html": "<div>\n<style scoped>\n    .dataframe tbody tr th:only-of-type {\n        vertical-align: middle;\n    }\n\n    .dataframe tbody tr th {\n        vertical-align: top;\n    }\n\n    .dataframe thead th {\n        text-align: right;\n    }\n</style>\n<table border=\"1\" class=\"dataframe\">\n  <thead>\n    <tr style=\"text-align: right;\">\n      <th></th>\n      <th>name</th>\n      <th>link</th>\n    </tr>\n  </thead>\n  <tbody>\n    <tr>\n      <th>0</th>\n      <td>Zabaglia, Niccola</td>\n      <td>https://web.archive.org/web/20121007172955/htt...</td>\n    </tr>\n    <tr>\n      <th>1</th>\n      <td>Zaccone, Fabian</td>\n      <td>https://web.archive.org/web/20121007172955/htt...</td>\n    </tr>\n    <tr>\n      <th>2</th>\n      <td>Zadkine, Ossip</td>\n      <td>https://web.archive.org/web/20121007172955/htt...</td>\n    </tr>\n    <tr>\n      <th>3</th>\n      <td>Zaech, Bernhard</td>\n      <td>https://web.archive.org/web/20121007172955/htt...</td>\n    </tr>\n    <tr>\n      <th>4</th>\n      <td>Zagar, Jacob</td>\n      <td>https://web.archive.org/web/20121007172955/htt...</td>\n    </tr>\n    <tr>\n      <th>5</th>\n      <td>Zagroba, Idalia</td>\n      <td>https://web.archive.org/web/20121007172955/htt...</td>\n    </tr>\n    <tr>\n      <th>6</th>\n      <td>Zaidenberg, A.</td>\n      <td>https://web.archive.org/web/20121007172955/htt...</td>\n    </tr>\n    <tr>\n      <th>7</th>\n      <td>Zaidenberg, Arthur</td>\n      <td>https://web.archive.org/web/20121007172955/htt...</td>\n    </tr>\n    <tr>\n      <th>8</th>\n      <td>Zaisinger, Matthäus</td>\n      <td>https://web.archive.org/web/20121007172955/htt...</td>\n    </tr>\n    <tr>\n      <th>9</th>\n      <td>Zajac, Jack</td>\n      <td>https://web.archive.org/web/20121007172955/htt...</td>\n    </tr>\n    <tr>\n      <th>10</th>\n      <td>Zak, Eugène</td>\n      <td>https://web.archive.org/web/20121007172955/htt...</td>\n    </tr>\n    <tr>\n      <th>11</th>\n      <td>Zakharov, Gurii Fillipovich</td>\n      <td>https://web.archive.org/web/20121007172955/htt...</td>\n    </tr>\n    <tr>\n      <th>12</th>\n      <td>Zakowortny, Igor</td>\n      <td>https://web.archive.org/web/20121007172955/htt...</td>\n    </tr>\n    <tr>\n      <th>13</th>\n      <td>Zalce, Alfredo</td>\n      <td>https://web.archive.org/web/20121007172955/htt...</td>\n    </tr>\n    <tr>\n      <th>14</th>\n      <td>Zalopany, Michele</td>\n      <td>https://web.archive.org/web/20121007172955/htt...</td>\n    </tr>\n    <tr>\n      <th>15</th>\n      <td>Zammiello, Craig</td>\n      <td>https://web.archive.org/web/20121007172955/htt...</td>\n    </tr>\n    <tr>\n      <th>16</th>\n      <td>Zammitt, Norman</td>\n      <td>https://web.archive.org/web/20121007172955/htt...</td>\n    </tr>\n    <tr>\n      <th>17</th>\n      <td>Zampieri, Domenico</td>\n      <td>https://web.archive.org/web/20121007172955/htt...</td>\n    </tr>\n    <tr>\n      <th>18</th>\n      <td>Zampieri, called Domenichino, Domenico</td>\n      <td>https://web.archive.org/web/20121007172955/htt...</td>\n    </tr>\n    <tr>\n      <th>19</th>\n      <td>Zanartú, Enrique Antunez</td>\n      <td>https://web.archive.org/web/20121007172955/htt...</td>\n    </tr>\n    <tr>\n      <th>20</th>\n      <td>Zanchi, Antonio</td>\n      <td>https://web.archive.org/web/20121007172955/htt...</td>\n    </tr>\n    <tr>\n      <th>21</th>\n      <td>Zanetti, Anton Maria</td>\n      <td>https://web.archive.org/web/20121007172955/htt...</td>\n    </tr>\n    <tr>\n      <th>22</th>\n      <td>Zanetti Borzino, Leopoldina</td>\n      <td>https://web.archive.org/web/20121007172955/htt...</td>\n    </tr>\n    <tr>\n      <th>23</th>\n      <td>Zanetti I, Antonio Maria, conte</td>\n      <td>https://web.archive.org/web/20121007172955/htt...</td>\n    </tr>\n    <tr>\n      <th>24</th>\n      <td>Zanguidi, Jacopo</td>\n      <td>https://web.archive.org/web/20121007172955/htt...</td>\n    </tr>\n    <tr>\n      <th>25</th>\n      <td>Zanini, Giuseppe</td>\n      <td>https://web.archive.org/web/20121007172955/htt...</td>\n    </tr>\n    <tr>\n      <th>26</th>\n      <td>Zanini-Viola, Giuseppe</td>\n      <td>https://web.archive.org/web/20121007172955/htt...</td>\n    </tr>\n    <tr>\n      <th>27</th>\n      <td>Zanotti, Giampietro</td>\n      <td>https://web.archive.org/web/20121007172955/htt...</td>\n    </tr>\n    <tr>\n      <th>28</th>\n      <td>Zao Wou-Ki</td>\n      <td>https://web.archive.org/web/20121007172955/htt...</td>\n    </tr>\n    <tr>\n      <th>29</th>\n      <td>Zas-Zie</td>\n      <td>https://web.archive.org/web/20121007172955/htt...</td>\n    </tr>\n    <tr>\n      <th>30</th>\n      <td>Zie-Zor</td>\n      <td>https://web.archive.org/web/20121007172955/htt...</td>\n    </tr>\n    <tr>\n      <th>31</th>\n      <td>[next, [], page]</td>\n      <td>https://web.archive.org/web/20121007172955/htt...</td>\n    </tr>\n  </tbody>\n</table>\n</div>"
     },
     "metadata": {},
     "execution_count": 25
    }
   ],
   "source": [
    "# Convertir a diccionario para trabajar con DataFrame?\n",
    "\n",
    "dict_df = {\"name\": artist_names, \"link\": links}\n",
    "df = pd.DataFrame(dict_df)\n",
    "df"
   ]
  },
  {
   "cell_type": "code",
   "execution_count": null,
   "metadata": {},
   "outputs": [],
   "source": []
  },
  {
   "cell_type": "code",
   "execution_count": 4,
   "metadata": {},
   "outputs": [
    {
     "output_type": "stream",
     "name": "stdout",
     "text": [
      "Alright!!\n"
     ]
    }
   ],
   "source": [
    "## Interesante la funcion startswith para comprobar si una variable comienza con ese string\n",
    "\n",
    "s = 'hola'\n",
    "\n",
    "if s.startswith('hola'):\n",
    "    print('Alright!!')\n",
    "else:\n",
    "    print('ooooooh')"
   ]
  },
  {
   "cell_type": "code",
   "execution_count": null,
   "metadata": {},
   "outputs": [],
   "source": []
  }
 ]
}