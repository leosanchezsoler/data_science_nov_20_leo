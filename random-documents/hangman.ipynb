{
 "metadata": {
  "language_info": {
   "codemirror_mode": {
    "name": "ipython",
    "version": 3
   },
   "file_extension": ".py",
   "mimetype": "text/x-python",
   "name": "python",
   "nbconvert_exporter": "python",
   "pygments_lexer": "ipython3",
   "version": "3.9.0-final"
  },
  "orig_nbformat": 2,
  "kernelspec": {
   "name": "python3",
   "display_name": "Python 3.9.0 64-bit",
   "metadata": {
    "interpreter": {
     "hash": "7812ea015bdcee6f23a998adcdd2ef97c151c0c241b7b7070987d9313e41299d"
    }
   }
  }
 },
 "nbformat": 4,
 "nbformat_minor": 2,
 "cells": [
  {
   "cell_type": "code",
   "execution_count": 1,
   "metadata": {},
   "outputs": [],
   "source": [
    "# El ahorcado\n",
    "\n",
    "# Palabra a adivinar\n",
    "# palabra_a_adivinar = input(\"Escriba la palabra a adivinar:\")\n",
    "palabra_a_adivinar = \"Gatillo\"\n",
    "\n",
    "letra_input = input(\"Introduzca una letra:\")\n",
    "\n"
   ]
  },
  {
   "cell_type": "code",
   "execution_count": null,
   "metadata": {},
   "outputs": [],
   "source": [
    "tamano_palabra = len(palabra_a_adivinar)\n",
    "tablero = \"_ \" * tamano_palabra\n",
    "print(tablero)"
   ]
  },
  {
   "cell_type": "code",
   "execution_count": null,
   "metadata": {},
   "outputs": [],
   "source": [
    "if letra_input in palabra_a_adivinar:\n",
    "    "
   ]
  }
 ]
}