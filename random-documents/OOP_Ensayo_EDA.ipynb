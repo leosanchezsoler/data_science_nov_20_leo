{
 "metadata": {
  "language_info": {
   "codemirror_mode": {
    "name": "ipython",
    "version": 3
   },
   "file_extension": ".py",
   "mimetype": "text/x-python",
   "name": "python",
   "nbconvert_exporter": "python",
   "pygments_lexer": "ipython3",
   "version": "3.9.0-final"
  },
  "orig_nbformat": 2,
  "kernelspec": {
   "name": "python3",
   "display_name": "Python 3.9.0 64-bit",
   "metadata": {
    "interpreter": {
     "hash": "7812ea015bdcee6f23a998adcdd2ef97c151c0c241b7b7070987d9313e41299d"
    }
   }
  }
 },
 "nbformat": 4,
 "nbformat_minor": 2,
 "cells": [
  {
   "cell_type": "code",
   "execution_count": 26,
   "metadata": {},
   "outputs": [
    {
     "output_type": "stream",
     "name": "stdout",
     "text": [
      "Is Leo alive?: True\nLeo ha muerto\nIs Leo alive?: False\n"
     ]
    }
   ],
   "source": [
    "#Primero creamos la clase:\n",
    "\n",
    "class Person:\n",
    "    def __init__(self, name, age, gender, is_alive=True, legs=2, arms=2, head=1):\n",
    "        self.name = name\n",
    "        self.age = age\n",
    "        self.gender = gender\n",
    "        self.is_alive = is_alive\n",
    "        self.legs = legs\n",
    "        self.arms = arms\n",
    "        self.head = head\n",
    "    def is_dead(self):\n",
    "        self.is_alive = False\n",
    "        print(f'{self.name} ha muerto')\n",
    "    \n",
    "    def revivir(self):\n",
    "        self.is_alive = True\n",
    "        print(f'{self.name} ha revivido!')\n",
    "\n",
    "Leo = Person(name='Leo', age=23, gender='M')\n",
    "\n",
    "print('Is Leo alive?:', Leo.is_alive)\n",
    "Leo.is_dead()\n",
    "print('Is Leo alive?:', Leo.is_alive)"
   ]
  },
  {
   "cell_type": "code",
   "execution_count": 16,
   "metadata": {},
   "outputs": [
    {
     "output_type": "execute_result",
     "data": {
      "text/plain": [
       "False"
      ]
     },
     "metadata": {},
     "execution_count": 16
    }
   ],
   "source": [
    "Leo.is_alive"
   ]
  },
  {
   "cell_type": "code",
   "execution_count": 29,
   "metadata": {},
   "outputs": [
    {
     "output_type": "stream",
     "name": "stdout",
     "text": [
      "Leo ha revivido!\nTrue\nLeo ha muerto\nFalse\n"
     ]
    }
   ],
   "source": [
    "Leo.revivir()\n",
    "print(Leo.is_alive)\n",
    "Leo.is_dead()\n",
    "print(Leo.is_alive)"
   ]
  },
  {
   "cell_type": "code",
   "execution_count": 31,
   "metadata": {},
   "outputs": [
    {
     "output_type": "execute_result",
     "data": {
      "text/plain": [
       "1"
      ]
     },
     "metadata": {},
     "execution_count": 31
    }
   ],
   "source": [
    "Leo.head"
   ]
  },
  {
   "cell_type": "code",
   "execution_count": null,
   "metadata": {},
   "outputs": [],
   "source": []
  }
 ]
}