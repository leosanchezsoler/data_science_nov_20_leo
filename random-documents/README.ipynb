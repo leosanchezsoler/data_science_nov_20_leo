{
 "metadata": {
  "language_info": {
   "codemirror_mode": {
    "name": "ipython",
    "version": 3
   },
   "file_extension": ".py",
   "mimetype": "text/x-python",
   "name": "python",
   "nbconvert_exporter": "python",
   "pygments_lexer": "ipython3",
   "version": 3
  },
  "orig_nbformat": 2
 },
 "nbformat": 4,
 "nbformat_minor": 2,
 "cells": [
  {
   "source": [
    "# Header 1\n",
    "---\n",
    "[Google's Homepage](https://google.com)\n",
    "\n",
    "| Name | Item | Price |\n",
    "| ---- | :----: | -----: |\n",
    "| Mike | Tooth |  5 |\n",
    "\n",
    "1. Apples\n",
    "    * Apples\n",
    "    * Oranges\n",
    "* Oranges\n",
    "* Pears\n",
    "\n",
    "![markdown logo](./logo.png 'Logo')\n",
    "__paragraph__ 1\n",
    "\n",
    "paragraph 2\n",
    "\n",
    "``` javascript\n",
    "for i in spain:\n",
    "    print(i)\n",
    "```\n"
   ],
   "cell_type": "markdown",
   "metadata": {}
  },
  {
   "cell_type": "code",
   "execution_count": null,
   "metadata": {},
   "outputs": [],
   "source": []
  }
 ]
}