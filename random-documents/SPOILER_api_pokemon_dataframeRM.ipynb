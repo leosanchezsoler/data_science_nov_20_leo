{
 "metadata": {
  "language_info": {
   "codemirror_mode": {
    "name": "ipython",
    "version": 3
   },
   "file_extension": ".py",
   "mimetype": "text/x-python",
   "name": "python",
   "nbconvert_exporter": "python",
   "pygments_lexer": "ipython3",
   "version": "3.9.0-final"
  },
  "orig_nbformat": 2,
  "kernelspec": {
   "name": "python3",
   "display_name": "Python 3.9.0 64-bit",
   "metadata": {
    "interpreter": {
     "hash": "7812ea015bdcee6f23a998adcdd2ef97c151c0c241b7b7070987d9313e41299d"
    }
   }
  }
 },
 "nbformat": 4,
 "nbformat_minor": 2,
 "cells": [
  {
   "source": [
    "### Ejercicio 1\n",
    "\n",
    "A partir de la API de Pokemon, se pide generar un DataFrame como el de la imagen con las columnas: \n",
    "\n",
    "- **\"height\",\"id\",\"order\",\"weight\",\"types\"**\n",
    "\n",
    "### Ejercicio 2\n",
    "\n",
    "¿Has visto que dentro del DataFrame la columna \"types\" hay diccionarios? Se pide agregar, por cada pokemon, las columnas necesarias al DataFrame para albergar toda la información de \"types\".\n",
    "\n",
    "![](df_pk.PNG)"
   ],
   "cell_type": "markdown",
   "metadata": {}
  },
  {
   "cell_type": "code",
   "execution_count": 1,
   "metadata": {},
   "outputs": [],
   "source": [
    "import json\n",
    "import requests\n",
    "import pandas as pd"
   ]
  },
  {
   "cell_type": "code",
   "execution_count": 2,
   "metadata": {},
   "outputs": [
    {
     "output_type": "stream",
     "name": "stdout",
     "text": [
      "<class 'dict'>\n"
     ]
    },
    {
     "output_type": "execute_result",
     "data": {
      "text/plain": [
       "{'count': 1118,\n",
       " 'next': 'https://pokeapi.co/api/v2/pokemon?offset=20&limit=20',\n",
       " 'previous': None,\n",
       " 'results': [{'name': 'bulbasaur',\n",
       "   'url': 'https://pokeapi.co/api/v2/pokemon/1/'},\n",
       "  {'name': 'ivysaur', 'url': 'https://pokeapi.co/api/v2/pokemon/2/'},\n",
       "  {'name': 'venusaur', 'url': 'https://pokeapi.co/api/v2/pokemon/3/'},\n",
       "  {'name': 'charmander', 'url': 'https://pokeapi.co/api/v2/pokemon/4/'},\n",
       "  {'name': 'charmeleon', 'url': 'https://pokeapi.co/api/v2/pokemon/5/'},\n",
       "  {'name': 'charizard', 'url': 'https://pokeapi.co/api/v2/pokemon/6/'},\n",
       "  {'name': 'squirtle', 'url': 'https://pokeapi.co/api/v2/pokemon/7/'},\n",
       "  {'name': 'wartortle', 'url': 'https://pokeapi.co/api/v2/pokemon/8/'},\n",
       "  {'name': 'blastoise', 'url': 'https://pokeapi.co/api/v2/pokemon/9/'},\n",
       "  {'name': 'caterpie', 'url': 'https://pokeapi.co/api/v2/pokemon/10/'},\n",
       "  {'name': 'metapod', 'url': 'https://pokeapi.co/api/v2/pokemon/11/'},\n",
       "  {'name': 'butterfree', 'url': 'https://pokeapi.co/api/v2/pokemon/12/'},\n",
       "  {'name': 'weedle', 'url': 'https://pokeapi.co/api/v2/pokemon/13/'},\n",
       "  {'name': 'kakuna', 'url': 'https://pokeapi.co/api/v2/pokemon/14/'},\n",
       "  {'name': 'beedrill', 'url': 'https://pokeapi.co/api/v2/pokemon/15/'},\n",
       "  {'name': 'pidgey', 'url': 'https://pokeapi.co/api/v2/pokemon/16/'},\n",
       "  {'name': 'pidgeotto', 'url': 'https://pokeapi.co/api/v2/pokemon/17/'},\n",
       "  {'name': 'pidgeot', 'url': 'https://pokeapi.co/api/v2/pokemon/18/'},\n",
       "  {'name': 'rattata', 'url': 'https://pokeapi.co/api/v2/pokemon/19/'},\n",
       "  {'name': 'raticate', 'url': 'https://pokeapi.co/api/v2/pokemon/20/'}]}"
      ]
     },
     "metadata": {},
     "execution_count": 2
    }
   ],
   "source": [
    "pokemons = requests.get(\"https://pokeapi.co/api/v2/pokemon\").json()\n",
    "print(type(pokemons))\n",
    "pokemons"
   ]
  },
  {
   "cell_type": "code",
   "execution_count": 3,
   "metadata": {},
   "outputs": [
    {
     "output_type": "execute_result",
     "data": {
      "text/plain": [
       "          name                                    url\n",
       "0    bulbasaur   https://pokeapi.co/api/v2/pokemon/1/\n",
       "1      ivysaur   https://pokeapi.co/api/v2/pokemon/2/\n",
       "2     venusaur   https://pokeapi.co/api/v2/pokemon/3/\n",
       "3   charmander   https://pokeapi.co/api/v2/pokemon/4/\n",
       "4   charmeleon   https://pokeapi.co/api/v2/pokemon/5/\n",
       "5    charizard   https://pokeapi.co/api/v2/pokemon/6/\n",
       "6     squirtle   https://pokeapi.co/api/v2/pokemon/7/\n",
       "7    wartortle   https://pokeapi.co/api/v2/pokemon/8/\n",
       "8    blastoise   https://pokeapi.co/api/v2/pokemon/9/\n",
       "9     caterpie  https://pokeapi.co/api/v2/pokemon/10/\n",
       "10     metapod  https://pokeapi.co/api/v2/pokemon/11/\n",
       "11  butterfree  https://pokeapi.co/api/v2/pokemon/12/\n",
       "12      weedle  https://pokeapi.co/api/v2/pokemon/13/\n",
       "13      kakuna  https://pokeapi.co/api/v2/pokemon/14/\n",
       "14    beedrill  https://pokeapi.co/api/v2/pokemon/15/\n",
       "15      pidgey  https://pokeapi.co/api/v2/pokemon/16/\n",
       "16   pidgeotto  https://pokeapi.co/api/v2/pokemon/17/\n",
       "17     pidgeot  https://pokeapi.co/api/v2/pokemon/18/\n",
       "18     rattata  https://pokeapi.co/api/v2/pokemon/19/\n",
       "19    raticate  https://pokeapi.co/api/v2/pokemon/20/"
      ],
      "text/html": "<div>\n<style scoped>\n    .dataframe tbody tr th:only-of-type {\n        vertical-align: middle;\n    }\n\n    .dataframe tbody tr th {\n        vertical-align: top;\n    }\n\n    .dataframe thead th {\n        text-align: right;\n    }\n</style>\n<table border=\"1\" class=\"dataframe\">\n  <thead>\n    <tr style=\"text-align: right;\">\n      <th></th>\n      <th>name</th>\n      <th>url</th>\n    </tr>\n  </thead>\n  <tbody>\n    <tr>\n      <th>0</th>\n      <td>bulbasaur</td>\n      <td>https://pokeapi.co/api/v2/pokemon/1/</td>\n    </tr>\n    <tr>\n      <th>1</th>\n      <td>ivysaur</td>\n      <td>https://pokeapi.co/api/v2/pokemon/2/</td>\n    </tr>\n    <tr>\n      <th>2</th>\n      <td>venusaur</td>\n      <td>https://pokeapi.co/api/v2/pokemon/3/</td>\n    </tr>\n    <tr>\n      <th>3</th>\n      <td>charmander</td>\n      <td>https://pokeapi.co/api/v2/pokemon/4/</td>\n    </tr>\n    <tr>\n      <th>4</th>\n      <td>charmeleon</td>\n      <td>https://pokeapi.co/api/v2/pokemon/5/</td>\n    </tr>\n    <tr>\n      <th>5</th>\n      <td>charizard</td>\n      <td>https://pokeapi.co/api/v2/pokemon/6/</td>\n    </tr>\n    <tr>\n      <th>6</th>\n      <td>squirtle</td>\n      <td>https://pokeapi.co/api/v2/pokemon/7/</td>\n    </tr>\n    <tr>\n      <th>7</th>\n      <td>wartortle</td>\n      <td>https://pokeapi.co/api/v2/pokemon/8/</td>\n    </tr>\n    <tr>\n      <th>8</th>\n      <td>blastoise</td>\n      <td>https://pokeapi.co/api/v2/pokemon/9/</td>\n    </tr>\n    <tr>\n      <th>9</th>\n      <td>caterpie</td>\n      <td>https://pokeapi.co/api/v2/pokemon/10/</td>\n    </tr>\n    <tr>\n      <th>10</th>\n      <td>metapod</td>\n      <td>https://pokeapi.co/api/v2/pokemon/11/</td>\n    </tr>\n    <tr>\n      <th>11</th>\n      <td>butterfree</td>\n      <td>https://pokeapi.co/api/v2/pokemon/12/</td>\n    </tr>\n    <tr>\n      <th>12</th>\n      <td>weedle</td>\n      <td>https://pokeapi.co/api/v2/pokemon/13/</td>\n    </tr>\n    <tr>\n      <th>13</th>\n      <td>kakuna</td>\n      <td>https://pokeapi.co/api/v2/pokemon/14/</td>\n    </tr>\n    <tr>\n      <th>14</th>\n      <td>beedrill</td>\n      <td>https://pokeapi.co/api/v2/pokemon/15/</td>\n    </tr>\n    <tr>\n      <th>15</th>\n      <td>pidgey</td>\n      <td>https://pokeapi.co/api/v2/pokemon/16/</td>\n    </tr>\n    <tr>\n      <th>16</th>\n      <td>pidgeotto</td>\n      <td>https://pokeapi.co/api/v2/pokemon/17/</td>\n    </tr>\n    <tr>\n      <th>17</th>\n      <td>pidgeot</td>\n      <td>https://pokeapi.co/api/v2/pokemon/18/</td>\n    </tr>\n    <tr>\n      <th>18</th>\n      <td>rattata</td>\n      <td>https://pokeapi.co/api/v2/pokemon/19/</td>\n    </tr>\n    <tr>\n      <th>19</th>\n      <td>raticate</td>\n      <td>https://pokeapi.co/api/v2/pokemon/20/</td>\n    </tr>\n  </tbody>\n</table>\n</div>"
     },
     "metadata": {},
     "execution_count": 3
    }
   ],
   "source": [
    "df = pd.DataFrame(pokemons[\"results\"])\n",
    "df"
   ]
  },
  {
   "cell_type": "code",
   "execution_count": 4,
   "metadata": {},
   "outputs": [
    {
     "output_type": "execute_result",
     "data": {
      "text/plain": [
       "0      https://pokeapi.co/api/v2/pokemon/1/\n",
       "1      https://pokeapi.co/api/v2/pokemon/2/\n",
       "2      https://pokeapi.co/api/v2/pokemon/3/\n",
       "3      https://pokeapi.co/api/v2/pokemon/4/\n",
       "4      https://pokeapi.co/api/v2/pokemon/5/\n",
       "5      https://pokeapi.co/api/v2/pokemon/6/\n",
       "6      https://pokeapi.co/api/v2/pokemon/7/\n",
       "7      https://pokeapi.co/api/v2/pokemon/8/\n",
       "8      https://pokeapi.co/api/v2/pokemon/9/\n",
       "9     https://pokeapi.co/api/v2/pokemon/10/\n",
       "10    https://pokeapi.co/api/v2/pokemon/11/\n",
       "11    https://pokeapi.co/api/v2/pokemon/12/\n",
       "12    https://pokeapi.co/api/v2/pokemon/13/\n",
       "13    https://pokeapi.co/api/v2/pokemon/14/\n",
       "14    https://pokeapi.co/api/v2/pokemon/15/\n",
       "15    https://pokeapi.co/api/v2/pokemon/16/\n",
       "16    https://pokeapi.co/api/v2/pokemon/17/\n",
       "17    https://pokeapi.co/api/v2/pokemon/18/\n",
       "18    https://pokeapi.co/api/v2/pokemon/19/\n",
       "19    https://pokeapi.co/api/v2/pokemon/20/\n",
       "Name: url, dtype: object"
      ]
     },
     "metadata": {},
     "execution_count": 4
    }
   ],
   "source": [
    "df[\"url\"]"
   ]
  },
  {
   "cell_type": "code",
   "execution_count": 5,
   "metadata": {},
   "outputs": [],
   "source": [
    "poke_info = []\n"
   ]
  },
  {
   "cell_type": "code",
   "execution_count": 6,
   "metadata": {},
   "outputs": [],
   "source": [
    "poke_url_info = []\n",
    "for i in range(len(df[\"url\"])):\n",
    "    poke_url_info.append([requests.get(df[\"url\"][i]).json()])\n"
   ]
  },
  {
   "cell_type": "code",
   "execution_count": null,
   "metadata": {},
   "outputs": [],
   "source": []
  },
  {
   "cell_type": "code",
   "execution_count": 7,
   "metadata": {},
   "outputs": [
    {
     "output_type": "execute_result",
     "data": {
      "text/plain": [
       "                                           abilities  base_experience  \\\n",
       "0  [{'ability': {'name': 'overgrow', 'url': 'http...               64   \n",
       "\n",
       "                                               forms  \\\n",
       "0  [{'name': 'bulbasaur', 'url': 'https://pokeapi...   \n",
       "\n",
       "                                        game_indices  height held_items  id  \\\n",
       "0  [{'game_index': 153, 'version': {'name': 'red'...       7         []   1   \n",
       "\n",
       "   is_default                        location_area_encounters  \\\n",
       "0        True  https://pokeapi.co/api/v2/pokemon/1/encounters   \n",
       "\n",
       "                                               moves       name  order  \\\n",
       "0  [{'move': {'name': 'razor-wind', 'url': 'https...  bulbasaur      1   \n",
       "\n",
       "                                             species  \\\n",
       "0  {'name': 'bulbasaur', 'url': 'https://pokeapi....   \n",
       "\n",
       "                                             sprites  \\\n",
       "0  {'back_default': 'https://raw.githubuserconten...   \n",
       "\n",
       "                                               stats  \\\n",
       "0  [{'base_stat': 45, 'effort': 0, 'stat': {'name...   \n",
       "\n",
       "                                               types  weight  \n",
       "0  [{'slot': 1, 'type': {'name': 'grass', 'url': ...      69  "
      ],
      "text/html": "<div>\n<style scoped>\n    .dataframe tbody tr th:only-of-type {\n        vertical-align: middle;\n    }\n\n    .dataframe tbody tr th {\n        vertical-align: top;\n    }\n\n    .dataframe thead th {\n        text-align: right;\n    }\n</style>\n<table border=\"1\" class=\"dataframe\">\n  <thead>\n    <tr style=\"text-align: right;\">\n      <th></th>\n      <th>abilities</th>\n      <th>base_experience</th>\n      <th>forms</th>\n      <th>game_indices</th>\n      <th>height</th>\n      <th>held_items</th>\n      <th>id</th>\n      <th>is_default</th>\n      <th>location_area_encounters</th>\n      <th>moves</th>\n      <th>name</th>\n      <th>order</th>\n      <th>species</th>\n      <th>sprites</th>\n      <th>stats</th>\n      <th>types</th>\n      <th>weight</th>\n    </tr>\n  </thead>\n  <tbody>\n    <tr>\n      <th>0</th>\n      <td>[{'ability': {'name': 'overgrow', 'url': 'http...</td>\n      <td>64</td>\n      <td>[{'name': 'bulbasaur', 'url': 'https://pokeapi...</td>\n      <td>[{'game_index': 153, 'version': {'name': 'red'...</td>\n      <td>7</td>\n      <td>[]</td>\n      <td>1</td>\n      <td>True</td>\n      <td>https://pokeapi.co/api/v2/pokemon/1/encounters</td>\n      <td>[{'move': {'name': 'razor-wind', 'url': 'https...</td>\n      <td>bulbasaur</td>\n      <td>1</td>\n      <td>{'name': 'bulbasaur', 'url': 'https://pokeapi....</td>\n      <td>{'back_default': 'https://raw.githubuserconten...</td>\n      <td>[{'base_stat': 45, 'effort': 0, 'stat': {'name...</td>\n      <td>[{'slot': 1, 'type': {'name': 'grass', 'url': ...</td>\n      <td>69</td>\n    </tr>\n  </tbody>\n</table>\n</div>"
     },
     "metadata": {},
     "execution_count": 7
    }
   ],
   "source": [
    "pd.DataFrame(poke_url_info[0])"
   ]
  },
  {
   "cell_type": "code",
   "execution_count": 8,
   "metadata": {},
   "outputs": [
    {
     "output_type": "execute_result",
     "data": {
      "text/plain": [
       "   height  id  order  weight  \\\n",
       "0       7   1      1      69   \n",
       "\n",
       "                                               types  \n",
       "0  [{'slot': 1, 'type': {'name': 'grass', 'url': ...  "
      ],
      "text/html": "<div>\n<style scoped>\n    .dataframe tbody tr th:only-of-type {\n        vertical-align: middle;\n    }\n\n    .dataframe tbody tr th {\n        vertical-align: top;\n    }\n\n    .dataframe thead th {\n        text-align: right;\n    }\n</style>\n<table border=\"1\" class=\"dataframe\">\n  <thead>\n    <tr style=\"text-align: right;\">\n      <th></th>\n      <th>height</th>\n      <th>id</th>\n      <th>order</th>\n      <th>weight</th>\n      <th>types</th>\n    </tr>\n  </thead>\n  <tbody>\n    <tr>\n      <th>0</th>\n      <td>7</td>\n      <td>1</td>\n      <td>1</td>\n      <td>69</td>\n      <td>[{'slot': 1, 'type': {'name': 'grass', 'url': ...</td>\n    </tr>\n  </tbody>\n</table>\n</div>"
     },
     "metadata": {},
     "execution_count": 8
    }
   ],
   "source": [
    "for i in range(len(poke_url_info)):\n",
    "    poke_info.append(pd.DataFrame(poke_url_info[i])[[\"height\", \"id\", \"order\", \"weight\", \"types\"]])\n",
    "\n",
    "poke_info[0]"
   ]
  },
  {
   "cell_type": "code",
   "execution_count": 9,
   "metadata": {},
   "outputs": [],
   "source": [
    "data = pd.concat([poke_info[0], poke_info[1]])\n",
    "\n",
    "\n",
    "for i in range(2,len(poke_info)):\n",
    "    data = pd.concat([data, poke_info[i]])\n",
    "\n",
    "data = data.reset_index()"
   ]
  },
  {
   "cell_type": "code",
   "execution_count": 10,
   "metadata": {},
   "outputs": [],
   "source": [
    "df = pd.concat([df, data], axis=1)"
   ]
  },
  {
   "cell_type": "code",
   "execution_count": 11,
   "metadata": {},
   "outputs": [],
   "source": [
    "df = df.drop([\"index\"], axis=1)"
   ]
  },
  {
   "cell_type": "code",
   "execution_count": 12,
   "metadata": {},
   "outputs": [
    {
     "output_type": "execute_result",
     "data": {
      "text/plain": [
       "         name                                   url  height  id  order  \\\n",
       "0   bulbasaur  https://pokeapi.co/api/v2/pokemon/1/       7   1      1   \n",
       "1     ivysaur  https://pokeapi.co/api/v2/pokemon/2/      10   2      2   \n",
       "2    venusaur  https://pokeapi.co/api/v2/pokemon/3/      20   3      3   \n",
       "3  charmander  https://pokeapi.co/api/v2/pokemon/4/       6   4      5   \n",
       "4  charmeleon  https://pokeapi.co/api/v2/pokemon/5/      11   5      6   \n",
       "\n",
       "   weight                                              types  \n",
       "0      69  [{'slot': 1, 'type': {'name': 'grass', 'url': ...  \n",
       "1     130  [{'slot': 1, 'type': {'name': 'grass', 'url': ...  \n",
       "2    1000  [{'slot': 1, 'type': {'name': 'grass', 'url': ...  \n",
       "3      85  [{'slot': 1, 'type': {'name': 'fire', 'url': '...  \n",
       "4     190  [{'slot': 1, 'type': {'name': 'fire', 'url': '...  "
      ],
      "text/html": "<div>\n<style scoped>\n    .dataframe tbody tr th:only-of-type {\n        vertical-align: middle;\n    }\n\n    .dataframe tbody tr th {\n        vertical-align: top;\n    }\n\n    .dataframe thead th {\n        text-align: right;\n    }\n</style>\n<table border=\"1\" class=\"dataframe\">\n  <thead>\n    <tr style=\"text-align: right;\">\n      <th></th>\n      <th>name</th>\n      <th>url</th>\n      <th>height</th>\n      <th>id</th>\n      <th>order</th>\n      <th>weight</th>\n      <th>types</th>\n    </tr>\n  </thead>\n  <tbody>\n    <tr>\n      <th>0</th>\n      <td>bulbasaur</td>\n      <td>https://pokeapi.co/api/v2/pokemon/1/</td>\n      <td>7</td>\n      <td>1</td>\n      <td>1</td>\n      <td>69</td>\n      <td>[{'slot': 1, 'type': {'name': 'grass', 'url': ...</td>\n    </tr>\n    <tr>\n      <th>1</th>\n      <td>ivysaur</td>\n      <td>https://pokeapi.co/api/v2/pokemon/2/</td>\n      <td>10</td>\n      <td>2</td>\n      <td>2</td>\n      <td>130</td>\n      <td>[{'slot': 1, 'type': {'name': 'grass', 'url': ...</td>\n    </tr>\n    <tr>\n      <th>2</th>\n      <td>venusaur</td>\n      <td>https://pokeapi.co/api/v2/pokemon/3/</td>\n      <td>20</td>\n      <td>3</td>\n      <td>3</td>\n      <td>1000</td>\n      <td>[{'slot': 1, 'type': {'name': 'grass', 'url': ...</td>\n    </tr>\n    <tr>\n      <th>3</th>\n      <td>charmander</td>\n      <td>https://pokeapi.co/api/v2/pokemon/4/</td>\n      <td>6</td>\n      <td>4</td>\n      <td>5</td>\n      <td>85</td>\n      <td>[{'slot': 1, 'type': {'name': 'fire', 'url': '...</td>\n    </tr>\n    <tr>\n      <th>4</th>\n      <td>charmeleon</td>\n      <td>https://pokeapi.co/api/v2/pokemon/5/</td>\n      <td>11</td>\n      <td>5</td>\n      <td>6</td>\n      <td>190</td>\n      <td>[{'slot': 1, 'type': {'name': 'fire', 'url': '...</td>\n    </tr>\n  </tbody>\n</table>\n</div>"
     },
     "metadata": {},
     "execution_count": 12
    }
   ],
   "source": [
    "df.head(5)"
   ]
  },
  {
   "cell_type": "code",
   "execution_count": null,
   "metadata": {},
   "outputs": [],
   "source": []
  },
  {
   "cell_type": "code",
   "execution_count": 13,
   "metadata": {},
   "outputs": [
    {
     "output_type": "execute_result",
     "data": {
      "text/plain": [
       "[{'slot': 1,\n",
       "  'type': {'name': 'grass', 'url': 'https://pokeapi.co/api/v2/type/12/'}},\n",
       " {'slot': 2,\n",
       "  'type': {'name': 'poison', 'url': 'https://pokeapi.co/api/v2/type/4/'}}]"
      ]
     },
     "metadata": {},
     "execution_count": 13
    }
   ],
   "source": [
    "df['types'][0]"
   ]
  },
  {
   "cell_type": "code",
   "execution_count": 19,
   "metadata": {},
   "outputs": [
    {
     "output_type": "execute_result",
     "data": {
      "text/plain": [
       "0    {'name': 'grass', 'url': 'https://pokeapi.co/a...\n",
       "1    {'name': 'poison', 'url': 'https://pokeapi.co/...\n",
       "0    {'name': 'grass', 'url': 'https://pokeapi.co/a...\n",
       "1    {'name': 'poison', 'url': 'https://pokeapi.co/...\n",
       "0    {'name': 'grass', 'url': 'https://pokeapi.co/a...\n",
       "1    {'name': 'poison', 'url': 'https://pokeapi.co/...\n",
       "0    {'name': 'fire', 'url': 'https://pokeapi.co/ap...\n",
       "0    {'name': 'fire', 'url': 'https://pokeapi.co/ap...\n",
       "0    {'name': 'fire', 'url': 'https://pokeapi.co/ap...\n",
       "1    {'name': 'flying', 'url': 'https://pokeapi.co/...\n",
       "0    {'name': 'water', 'url': 'https://pokeapi.co/a...\n",
       "0    {'name': 'water', 'url': 'https://pokeapi.co/a...\n",
       "0    {'name': 'water', 'url': 'https://pokeapi.co/a...\n",
       "0    {'name': 'bug', 'url': 'https://pokeapi.co/api...\n",
       "0    {'name': 'bug', 'url': 'https://pokeapi.co/api...\n",
       "0    {'name': 'bug', 'url': 'https://pokeapi.co/api...\n",
       "1    {'name': 'flying', 'url': 'https://pokeapi.co/...\n",
       "0    {'name': 'bug', 'url': 'https://pokeapi.co/api...\n",
       "1    {'name': 'poison', 'url': 'https://pokeapi.co/...\n",
       "0    {'name': 'bug', 'url': 'https://pokeapi.co/api...\n",
       "1    {'name': 'poison', 'url': 'https://pokeapi.co/...\n",
       "0    {'name': 'bug', 'url': 'https://pokeapi.co/api...\n",
       "1    {'name': 'poison', 'url': 'https://pokeapi.co/...\n",
       "0    {'name': 'normal', 'url': 'https://pokeapi.co/...\n",
       "1    {'name': 'flying', 'url': 'https://pokeapi.co/...\n",
       "0    {'name': 'normal', 'url': 'https://pokeapi.co/...\n",
       "1    {'name': 'flying', 'url': 'https://pokeapi.co/...\n",
       "0    {'name': 'normal', 'url': 'https://pokeapi.co/...\n",
       "1    {'name': 'flying', 'url': 'https://pokeapi.co/...\n",
       "0    {'name': 'normal', 'url': 'https://pokeapi.co/...\n",
       "0    {'name': 'normal', 'url': 'https://pokeapi.co/...\n",
       "Name: type, dtype: object"
      ]
     },
     "metadata": {},
     "execution_count": 19
    }
   ],
   "source": [
    "df_final = None\n",
    "for i, e in enumerate(df['types']):\n",
    "    if i == 0:\n",
    "        df_final = pd.DataFrame(e)\n",
    "    else:\n",
    "        df_final = pd.concat([df_final, pd.DataFrame(e)])\n",
    "\n",
    "df_final['type']"
   ]
  },
  {
   "cell_type": "code",
   "execution_count": 20,
   "metadata": {},
   "outputs": [
    {
     "output_type": "execute_result",
     "data": {
      "text/plain": [
       "                                                type\n",
       "0  {'name': 'grass', 'url': 'https://pokeapi.co/a...\n",
       "1  {'name': 'poison', 'url': 'https://pokeapi.co/...\n",
       "0  {'name': 'grass', 'url': 'https://pokeapi.co/a...\n",
       "1  {'name': 'poison', 'url': 'https://pokeapi.co/...\n",
       "0  {'name': 'grass', 'url': 'https://pokeapi.co/a...\n",
       "1  {'name': 'poison', 'url': 'https://pokeapi.co/...\n",
       "0  {'name': 'fire', 'url': 'https://pokeapi.co/ap...\n",
       "0  {'name': 'fire', 'url': 'https://pokeapi.co/ap...\n",
       "0  {'name': 'fire', 'url': 'https://pokeapi.co/ap...\n",
       "1  {'name': 'flying', 'url': 'https://pokeapi.co/...\n",
       "0  {'name': 'water', 'url': 'https://pokeapi.co/a...\n",
       "0  {'name': 'water', 'url': 'https://pokeapi.co/a...\n",
       "0  {'name': 'water', 'url': 'https://pokeapi.co/a...\n",
       "0  {'name': 'bug', 'url': 'https://pokeapi.co/api...\n",
       "0  {'name': 'bug', 'url': 'https://pokeapi.co/api...\n",
       "0  {'name': 'bug', 'url': 'https://pokeapi.co/api...\n",
       "1  {'name': 'flying', 'url': 'https://pokeapi.co/...\n",
       "0  {'name': 'bug', 'url': 'https://pokeapi.co/api...\n",
       "1  {'name': 'poison', 'url': 'https://pokeapi.co/...\n",
       "0  {'name': 'bug', 'url': 'https://pokeapi.co/api...\n",
       "1  {'name': 'poison', 'url': 'https://pokeapi.co/...\n",
       "0  {'name': 'bug', 'url': 'https://pokeapi.co/api...\n",
       "1  {'name': 'poison', 'url': 'https://pokeapi.co/...\n",
       "0  {'name': 'normal', 'url': 'https://pokeapi.co/...\n",
       "1  {'name': 'flying', 'url': 'https://pokeapi.co/...\n",
       "0  {'name': 'normal', 'url': 'https://pokeapi.co/...\n",
       "1  {'name': 'flying', 'url': 'https://pokeapi.co/...\n",
       "0  {'name': 'normal', 'url': 'https://pokeapi.co/...\n",
       "1  {'name': 'flying', 'url': 'https://pokeapi.co/...\n",
       "0  {'name': 'normal', 'url': 'https://pokeapi.co/...\n",
       "0  {'name': 'normal', 'url': 'https://pokeapi.co/..."
      ],
      "text/html": "<div>\n<style scoped>\n    .dataframe tbody tr th:only-of-type {\n        vertical-align: middle;\n    }\n\n    .dataframe tbody tr th {\n        vertical-align: top;\n    }\n\n    .dataframe thead th {\n        text-align: right;\n    }\n</style>\n<table border=\"1\" class=\"dataframe\">\n  <thead>\n    <tr style=\"text-align: right;\">\n      <th></th>\n      <th>type</th>\n    </tr>\n  </thead>\n  <tbody>\n    <tr>\n      <th>0</th>\n      <td>{'name': 'grass', 'url': 'https://pokeapi.co/a...</td>\n    </tr>\n    <tr>\n      <th>1</th>\n      <td>{'name': 'poison', 'url': 'https://pokeapi.co/...</td>\n    </tr>\n    <tr>\n      <th>0</th>\n      <td>{'name': 'grass', 'url': 'https://pokeapi.co/a...</td>\n    </tr>\n    <tr>\n      <th>1</th>\n      <td>{'name': 'poison', 'url': 'https://pokeapi.co/...</td>\n    </tr>\n    <tr>\n      <th>0</th>\n      <td>{'name': 'grass', 'url': 'https://pokeapi.co/a...</td>\n    </tr>\n    <tr>\n      <th>1</th>\n      <td>{'name': 'poison', 'url': 'https://pokeapi.co/...</td>\n    </tr>\n    <tr>\n      <th>0</th>\n      <td>{'name': 'fire', 'url': 'https://pokeapi.co/ap...</td>\n    </tr>\n    <tr>\n      <th>0</th>\n      <td>{'name': 'fire', 'url': 'https://pokeapi.co/ap...</td>\n    </tr>\n    <tr>\n      <th>0</th>\n      <td>{'name': 'fire', 'url': 'https://pokeapi.co/ap...</td>\n    </tr>\n    <tr>\n      <th>1</th>\n      <td>{'name': 'flying', 'url': 'https://pokeapi.co/...</td>\n    </tr>\n    <tr>\n      <th>0</th>\n      <td>{'name': 'water', 'url': 'https://pokeapi.co/a...</td>\n    </tr>\n    <tr>\n      <th>0</th>\n      <td>{'name': 'water', 'url': 'https://pokeapi.co/a...</td>\n    </tr>\n    <tr>\n      <th>0</th>\n      <td>{'name': 'water', 'url': 'https://pokeapi.co/a...</td>\n    </tr>\n    <tr>\n      <th>0</th>\n      <td>{'name': 'bug', 'url': 'https://pokeapi.co/api...</td>\n    </tr>\n    <tr>\n      <th>0</th>\n      <td>{'name': 'bug', 'url': 'https://pokeapi.co/api...</td>\n    </tr>\n    <tr>\n      <th>0</th>\n      <td>{'name': 'bug', 'url': 'https://pokeapi.co/api...</td>\n    </tr>\n    <tr>\n      <th>1</th>\n      <td>{'name': 'flying', 'url': 'https://pokeapi.co/...</td>\n    </tr>\n    <tr>\n      <th>0</th>\n      <td>{'name': 'bug', 'url': 'https://pokeapi.co/api...</td>\n    </tr>\n    <tr>\n      <th>1</th>\n      <td>{'name': 'poison', 'url': 'https://pokeapi.co/...</td>\n    </tr>\n    <tr>\n      <th>0</th>\n      <td>{'name': 'bug', 'url': 'https://pokeapi.co/api...</td>\n    </tr>\n    <tr>\n      <th>1</th>\n      <td>{'name': 'poison', 'url': 'https://pokeapi.co/...</td>\n    </tr>\n    <tr>\n      <th>0</th>\n      <td>{'name': 'bug', 'url': 'https://pokeapi.co/api...</td>\n    </tr>\n    <tr>\n      <th>1</th>\n      <td>{'name': 'poison', 'url': 'https://pokeapi.co/...</td>\n    </tr>\n    <tr>\n      <th>0</th>\n      <td>{'name': 'normal', 'url': 'https://pokeapi.co/...</td>\n    </tr>\n    <tr>\n      <th>1</th>\n      <td>{'name': 'flying', 'url': 'https://pokeapi.co/...</td>\n    </tr>\n    <tr>\n      <th>0</th>\n      <td>{'name': 'normal', 'url': 'https://pokeapi.co/...</td>\n    </tr>\n    <tr>\n      <th>1</th>\n      <td>{'name': 'flying', 'url': 'https://pokeapi.co/...</td>\n    </tr>\n    <tr>\n      <th>0</th>\n      <td>{'name': 'normal', 'url': 'https://pokeapi.co/...</td>\n    </tr>\n    <tr>\n      <th>1</th>\n      <td>{'name': 'flying', 'url': 'https://pokeapi.co/...</td>\n    </tr>\n    <tr>\n      <th>0</th>\n      <td>{'name': 'normal', 'url': 'https://pokeapi.co/...</td>\n    </tr>\n    <tr>\n      <th>0</th>\n      <td>{'name': 'normal', 'url': 'https://pokeapi.co/...</td>\n    </tr>\n  </tbody>\n</table>\n</div>"
     },
     "metadata": {},
     "execution_count": 20
    }
   ],
   "source": [
    "pd.DataFrame(df_final['type'])"
   ]
  },
  {
   "cell_type": "code",
   "execution_count": 69,
   "metadata": {},
   "outputs": [
    {
     "output_type": "execute_result",
     "data": {
      "text/plain": [
       "0    {'name': 'grass', 'url': 'https://pokeapi.co/a...\n",
       "1    {'name': 'poison', 'url': 'https://pokeapi.co/...\n",
       "0    {'name': 'grass', 'url': 'https://pokeapi.co/a...\n",
       "1    {'name': 'poison', 'url': 'https://pokeapi.co/...\n",
       "0    {'name': 'grass', 'url': 'https://pokeapi.co/a...\n",
       "1    {'name': 'poison', 'url': 'https://pokeapi.co/...\n",
       "0    {'name': 'fire', 'url': 'https://pokeapi.co/ap...\n",
       "0    {'name': 'fire', 'url': 'https://pokeapi.co/ap...\n",
       "0    {'name': 'fire', 'url': 'https://pokeapi.co/ap...\n",
       "1    {'name': 'flying', 'url': 'https://pokeapi.co/...\n",
       "0    {'name': 'water', 'url': 'https://pokeapi.co/a...\n",
       "0    {'name': 'water', 'url': 'https://pokeapi.co/a...\n",
       "0    {'name': 'water', 'url': 'https://pokeapi.co/a...\n",
       "0    {'name': 'bug', 'url': 'https://pokeapi.co/api...\n",
       "0    {'name': 'bug', 'url': 'https://pokeapi.co/api...\n",
       "0    {'name': 'bug', 'url': 'https://pokeapi.co/api...\n",
       "1    {'name': 'flying', 'url': 'https://pokeapi.co/...\n",
       "0    {'name': 'bug', 'url': 'https://pokeapi.co/api...\n",
       "1    {'name': 'poison', 'url': 'https://pokeapi.co/...\n",
       "0    {'name': 'bug', 'url': 'https://pokeapi.co/api...\n",
       "1    {'name': 'poison', 'url': 'https://pokeapi.co/...\n",
       "0    {'name': 'bug', 'url': 'https://pokeapi.co/api...\n",
       "1    {'name': 'poison', 'url': 'https://pokeapi.co/...\n",
       "0    {'name': 'normal', 'url': 'https://pokeapi.co/...\n",
       "1    {'name': 'flying', 'url': 'https://pokeapi.co/...\n",
       "0    {'name': 'normal', 'url': 'https://pokeapi.co/...\n",
       "1    {'name': 'flying', 'url': 'https://pokeapi.co/...\n",
       "0    {'name': 'normal', 'url': 'https://pokeapi.co/...\n",
       "1    {'name': 'flying', 'url': 'https://pokeapi.co/...\n",
       "0    {'name': 'normal', 'url': 'https://pokeapi.co/...\n",
       "0    {'name': 'normal', 'url': 'https://pokeapi.co/...\n",
       "Name: type, dtype: object"
      ]
     },
     "metadata": {},
     "execution_count": 69
    }
   ],
   "source": [
    "df_final['type']"
   ]
  },
  {
   "cell_type": "code",
   "execution_count": 79,
   "metadata": {},
   "outputs": [
    {
     "output_type": "execute_result",
     "data": {
      "text/plain": [
       "array([{'name': 'grass', 'url': 'https://pokeapi.co/api/v2/type/12/'},\n",
       "       {'name': 'grass', 'url': 'https://pokeapi.co/api/v2/type/12/'},\n",
       "       {'name': 'grass', 'url': 'https://pokeapi.co/api/v2/type/12/'},\n",
       "       {'name': 'fire', 'url': 'https://pokeapi.co/api/v2/type/10/'},\n",
       "       {'name': 'fire', 'url': 'https://pokeapi.co/api/v2/type/10/'},\n",
       "       {'name': 'fire', 'url': 'https://pokeapi.co/api/v2/type/10/'},\n",
       "       {'name': 'water', 'url': 'https://pokeapi.co/api/v2/type/11/'},\n",
       "       {'name': 'water', 'url': 'https://pokeapi.co/api/v2/type/11/'},\n",
       "       {'name': 'water', 'url': 'https://pokeapi.co/api/v2/type/11/'},\n",
       "       {'name': 'bug', 'url': 'https://pokeapi.co/api/v2/type/7/'},\n",
       "       {'name': 'bug', 'url': 'https://pokeapi.co/api/v2/type/7/'},\n",
       "       {'name': 'bug', 'url': 'https://pokeapi.co/api/v2/type/7/'},\n",
       "       {'name': 'bug', 'url': 'https://pokeapi.co/api/v2/type/7/'},\n",
       "       {'name': 'bug', 'url': 'https://pokeapi.co/api/v2/type/7/'},\n",
       "       {'name': 'bug', 'url': 'https://pokeapi.co/api/v2/type/7/'},\n",
       "       {'name': 'normal', 'url': 'https://pokeapi.co/api/v2/type/1/'},\n",
       "       {'name': 'normal', 'url': 'https://pokeapi.co/api/v2/type/1/'},\n",
       "       {'name': 'normal', 'url': 'https://pokeapi.co/api/v2/type/1/'},\n",
       "       {'name': 'normal', 'url': 'https://pokeapi.co/api/v2/type/1/'},\n",
       "       {'name': 'normal', 'url': 'https://pokeapi.co/api/v2/type/1/'}],\n",
       "      dtype=object)"
      ]
     },
     "metadata": {},
     "execution_count": 79
    }
   ],
   "source": [
    "df_final['type'][0].items"
   ]
  },
  {
   "cell_type": "code",
   "execution_count": null,
   "metadata": {},
   "outputs": [],
   "source": []
  }
 ]
}