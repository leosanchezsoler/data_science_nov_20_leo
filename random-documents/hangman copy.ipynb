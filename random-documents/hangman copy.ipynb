{
 "metadata": {
  "language_info": {
   "codemirror_mode": {
    "name": "ipython",
    "version": 3
   },
   "file_extension": ".py",
   "mimetype": "text/x-python",
   "name": "python",
   "nbconvert_exporter": "python",
   "pygments_lexer": "ipython3",
   "version": 3
  },
  "orig_nbformat": 2
 },
 "nbformat": 4,
 "nbformat_minor": 2,
 "cells": [
  {
   "cell_type": "code",
   "execution_count": null,
   "metadata": {},
   "outputs": [],
   "source": [
    "# El ahorcado\n",
    "\n",
    "# Palabra a adivinar\n",
    "# palabra_a_adivinar = input(\"Escriba la palabra a adivinar:\")\n",
    "palabra_a_adivinar = \"Gatillo\"\n",
    "\n",
    "letra_input = input(\"Introduzca una letra:\")\n",
    "\n"
   ]
  },
  {
   "cell_type": "code",
   "execution_count": null,
   "metadata": {},
   "outputs": [],
   "source": [
    "tamano_palabra = len(palabra_a_adivinar)\n",
    "tablero = \"_ \" *tamano_palabra\n",
    "print(tablero)"
   ]
  },
  {
   "cell_type": "code",
   "execution_count": null,
   "metadata": {},
   "outputs": [],
   "source": []
  }
 ]
}