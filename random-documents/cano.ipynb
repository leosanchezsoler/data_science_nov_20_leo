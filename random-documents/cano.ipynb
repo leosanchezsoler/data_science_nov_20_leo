{
 "metadata": {
  "language_info": {
   "codemirror_mode": {
    "name": "ipython",
    "version": 3
   },
   "file_extension": ".py",
   "mimetype": "text/x-python",
   "name": "python",
   "nbconvert_exporter": "python",
   "pygments_lexer": "ipython3",
   "version": "3.9.0-final"
  },
  "orig_nbformat": 2,
  "kernelspec": {
   "name": "python3",
   "display_name": "Python 3.9.0 64-bit",
   "metadata": {
    "interpreter": {
     "hash": "7812ea015bdcee6f23a998adcdd2ef97c151c0c241b7b7070987d9313e41299d"
    }
   }
  }
 },
 "nbformat": 4,
 "nbformat_minor": 2,
 "cells": [
  {
   "cell_type": "code",
   "execution_count": null,
   "metadata": {},
   "outputs": [],
   "source": [
    "\n",
    "def acertijo_b(pregunta, resA, resB, resC):\n",
    "    while\n",
    "    print(pregunta)\n",
    "    res = input('¿Cuál es tu respuesta?')\n",
    "    if res.lower() in resA.lower(), resB.lower(), resC.lower():\n",
    "        print('Correcto')\n",
    "    else\n",
    "    print('No, eso no es correcto')"
   ]
  },
  {
   "cell_type": "code",
   "execution_count": null,
   "metadata": {},
   "outputs": [],
   "source": [
    "def acertijo_c(pregunta, resA, resB, resC):\n",
    "    \n",
    "    res = input('¿Cuál es tu respuesta?')\n",
    "    while res.lower() =! resA.lower(), resB.lower(), resC.lower\n",
    "    res = input('¿Cuál es tu respuesta?')\n",
    "\n",
    "    print('Lo siento, pero la pregunta no es correcta')"
   ]
  },
  {
   "cell_type": "code",
   "execution_count": 38,
   "metadata": {},
   "outputs": [
    {
     "output_type": "display_data",
     "data": {
      "text/plain": "<IPython.core.display.Markdown object>",
      "text/markdown": "* Hey"
     },
     "metadata": {}
    }
   ],
   "source": [
    "from IPython.display import Markdown, display\n",
    "def printmd(string):\n",
    "    display(Markdown(string))\n",
    "\n",
    "printmd('* Hey')"
   ]
  },
  {
   "cell_type": "code",
   "execution_count": 39,
   "metadata": {},
   "outputs": [
    {
     "output_type": "stream",
     "name": "stdout",
     "text": [
      "¿Quién escribió Don Quijote de la Mancha?\n",
      "Intento 1\n",
      "Tu respuesta: gg\n",
      "Lo siento, pero eres un zoquete. ¡Prueba suerte otra vez!\n",
      "Intento 2\n",
      "Tu respuesta: gg\n",
      "Lo siento, pero eres un zoquete. ¡Prueba suerte otra vez!\n",
      "Intento 3\n",
      "Tu respuesta: gg\n",
      "Lo siento, pero eres un zoquete. ¡Prueba suerte otra vez!\n",
      "Intento 4\n",
      "Tu respuesta: gg\n",
      "Lo siento, pero eres un zoquete. ¡Prueba suerte otra vez!\n",
      "Intento 5\n",
      "Tu respuesta: gg\n",
      "Lo siento, pero eres un zoquete. ¡Prueba suerte otra vez!\n",
      "Intento 6\n",
      "Tu respuesta: gg\n",
      "Lo siento, pero eres un zoquete. ¡Prueba suerte otra vez!\n",
      "Intento 7\n",
      "Tu respuesta: gg\n",
      "Lo siento, pero eres un zoquete. ¡Prueba suerte otra vez!\n",
      "Intento 8\n",
      "Tu respuesta: gg\n",
      "Lo siento, pero eres un zoquete. ¡Prueba suerte otra vez!\n",
      "Intento 9\n",
      "Tu respuesta: gg\n",
      "Lo siento, pero eres un zoquete. ¡Prueba suerte otra vez!\n",
      "Intento 10\n",
      "Tu respuesta: gg\n",
      "¡Has perdido! Deja TikTok y ponte a estudiar.\n"
     ]
    }
   ],
   "source": [
    "def acertijo_B(pregunta, resA, resB, resC):\n",
    "    intentos = [1, 2, 3, 4, 5, 6, 7, 8, 9, 10]\n",
    "    print(pregunta)\n",
    "    for intento in intentos:\n",
    "        print('Intento', intento)\n",
    "        res = input('¿Cuál es tu respuesta?')\n",
    "        print('Tu respuesta:', res)\n",
    "        if res.lower() in (resA.lower(), resB.lower(), resC.lower()):\n",
    "            print('¡Correcto!')\n",
    "            break\n",
    "        elif intento < intentos[-1]:\n",
    "            print('Lo siento, pero eres un zoquete. ¡Prueba suerte otra vez!')\n",
    "        else:\n",
    "            print('¡Has perdido! Deja TikTok y ponte a estudiar.')\n",
    "\n",
    "acertijo_B(pregunta='¿Quién escribió Don Quijote de la Mancha?', resA='Miguel de Cervantes', resB='M Cervantes', resC='Cervantes')"
   ]
  },
  {
   "cell_type": "code",
   "execution_count": 55,
   "metadata": {},
   "outputs": [
    {
     "output_type": "stream",
     "name": "stdout",
     "text": [
      "¿Quién escribió Don Quijote de la Mancha?\n",
      "¡Sigue intentándolo!\n",
      "¡Sigue intentándolo!\n",
      "¡Sigue intentándolo!\n",
      "¡Sigue intentándolo!\n",
      "¡Sigue intentándolo!\n",
      "¡Sigue intentándolo!\n",
      "¡Sigue intentándolo!\n",
      "¡Sigue intentándolo!\n",
      "¡Sigue intentándolo!\n",
      "¡Sigue intentándolo!\n"
     ]
    }
   ],
   "source": [
    "def acertijo_B(pregunta, resA, resB, resC):\n",
    "    print(pregunta)\n",
    "    res = input('¿Cuál es tu respuesta?')\n",
    "    intento = 0\n",
    "    while intento < 10:\n",
    "        if res.lower() == (resA.lower(), resB.lower(), resC.lower()):\n",
    "            print('¡Eres un crack!')\n",
    "            break\n",
    "        if res.lower() != (resA.lower(), resB.lower(), resC.lower()):\n",
    "            print('¡Sigue intentándolo!')\n",
    "            intento += 1\n",
    "\n",
    "\n",
    "acertijo_B(pregunta='¿Quién escribió Don Quijote de la Mancha?', resA='Miguel de Cervantes', resB='M Cervantes', resC='Cervantes')"
   ]
  },
  {
   "cell_type": "code",
   "execution_count": null,
   "metadata": {},
   "outputs": [],
   "source": []
  }
 ]
}