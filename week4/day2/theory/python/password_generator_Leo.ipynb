{
 "metadata": {
  "language_info": {
   "codemirror_mode": {
    "name": "ipython",
    "version": 3
   },
   "file_extension": ".py",
   "mimetype": "text/x-python",
   "name": "python",
   "nbconvert_exporter": "python",
   "pygments_lexer": "ipython3",
   "version": "3.9.0-final"
  },
  "orig_nbformat": 2,
  "kernelspec": {
   "name": "python3",
   "display_name": "Python 3.9.0 64-bit",
   "metadata": {
    "interpreter": {
     "hash": "7812ea015bdcee6f23a998adcdd2ef97c151c0c241b7b7070987d9313e41299d"
    }
   }
  }
 },
 "nbformat": 4,
 "nbformat_minor": 2,
 "cells": [
  {
   "source": [
    "Crea una función llamada \"generador\" con dos argumentos de entrada 'longitud' (entero) y 'dificultad' (entero). La función retornará una contraseña (string) de tamaño 'longitud' y con las siguientes características dependiendo del valor de 'dificultad':\n",
    "\n",
    "1. Si 'dificultad' tiene valor 1, entonces la contraseña solo contendrá números. \n",
    "2. Si 'dificultad' tiene valor 2, entonces la contraseña contendrá números y letras\n",
    "3. Si 'dificultad' tiene valor 3, entonces la contraseña contendrá números, letras y signos de puntuación (!,?¡:-.\"')\n",
    "4. Si 'dificultad' tiene valor 4, entonces la contraseña será como la del punto 3. pero con el doble de longitud y solo números pares. \n",
    "5. Para cualquier otro caso, la contraseña será \"numpy_y_pandas_son_lo_mejor\""
   ],
   "cell_type": "markdown",
   "metadata": {}
  },
  {
   "cell_type": "code",
   "execution_count": 7,
   "metadata": {},
   "outputs": [
    {
     "output_type": "execute_result",
     "data": {
      "text/plain": [
       "'Numpy_y_pandas_son_lo_mejor'"
      ]
     },
     "metadata": {},
     "execution_count": 7
    }
   ],
   "source": [
    "import random\n",
    "import string\n",
    "\n",
    "#En función del nivel de dificultad de la contraseña\n",
    "\n",
    "#Dif 1: solo numeros\n",
    "#Dif 2: numeros y letras\n",
    "#Dif 3: numeros, letras y signos de puntuacion\n",
    "#Dif 4: len(contrasena) * 2 \n",
    "\n",
    "def generador(longitud, dificultad):\n",
    "    import random\n",
    "\n",
    "    longitud = int(longitud)\n",
    "    dificultad = int(dificultad)\n",
    "    contrasena = []\n",
    "    NUMBERS = string.digits\n",
    "    LETTERS = string.ascii_letters\n",
    "    PUNCTUATION = string.punctuation\n",
    "    \n",
    "    if dificultad == 1:\n",
    "        x = [contrasena.append(random.choice(NUMBERS)) for i in range(longitud)]\n",
    "        return contrasena\n",
    "\n",
    "    if dificultad == 2:\n",
    "        y = [contrasena.append(random.choice(NUMBERS + LETTERS)) for i in range(longitud)]\n",
    "        return contrasena\n",
    "\n",
    "    if dificultad == 3:\n",
    "        z = [contrasena.append(random.choice(NUMBERS + LETTERS + PUNCTUATION)) for i in range(longitud)]\n",
    "        return contrasena\n",
    "\n",
    "    if dificultad == 4:\n",
    "        longituddoble = longitud * 2\n",
    "        NUMEROS_PARES = \"02468\"\n",
    "        b = [contrasena.append(random.choice(NUMEROS_PARES + LETTERS + PUNCTUATION)) for i in range(longituddoble)]\n",
    "        return contrasena\n",
    "\n",
    "    else:\n",
    "        return \"Numpy_y_pandas_son_lo_mejor\"\n",
    "\n",
    "generador(longitud=3, dificultad=65)"
   ]
  },
  {
   "cell_type": "code",
   "execution_count": null,
   "metadata": {},
   "outputs": [],
   "source": []
  },
  {
   "cell_type": "code",
   "execution_count": null,
   "metadata": {},
   "outputs": [],
   "source": []
  }
 ]
}