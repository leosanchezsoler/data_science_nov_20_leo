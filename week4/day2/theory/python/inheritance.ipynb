{
 "cells": [
  {
   "cell_type": "markdown",
   "metadata": {},
   "source": [
    "Inheritance in python"
   ]
  },
  {
   "cell_type": "code",
   "execution_count": 1,
   "metadata": {},
   "outputs": [],
   "source": [
    "class LivingBeing():\n",
    "    \"\"\" Father/Mother class \"\"\"\n",
    "    def __init__(self, species, born_date, procreate_ability=True, aging_disease=True):\n",
    "        self.is_living = True\n",
    "        self.species = species\n",
    "        self.procreate_ability = procreate_ability\n",
    "        self.aging_disease = aging_disease\n",
    "        self.born_date = born_date\n",
    "\n",
    "    def living_being_function(self):\n",
    "        print(\"I am a living being!\")"
   ]
  },
  {
   "cell_type": "code",
   "execution_count": 2,
   "metadata": {
    "tags": []
   },
   "outputs": [
    {
     "output_type": "stream",
     "name": "stdout",
     "text": [
      "True\nFalse\n"
     ]
    }
   ],
   "source": [
    "gorrion = LivingBeing(species=\"Ave\", born_date=\"18/06/2019\")\n",
    "print(gorrion.is_living)\n",
    "gorrion.is_living = False\n",
    "print(gorrion.is_living)"
   ]
  },
  {
   "cell_type": "code",
   "execution_count": 3,
   "metadata": {},
   "outputs": [],
   "source": [
    "class Human(LivingBeing):\n",
    "    \"\"\"Children class\"\"\"\n",
    "    def __init__(self, born_date, procreate_ability=False, eyes=2, legs=2, intelligence_ability=True):\n",
    "        \n",
    "        #Herencia\n",
    "        LivingBeing.__init__(self, species=\"Human\", procreate_ability=procreate_ability, born_date=born_date)\n",
    "\n",
    "        self.eyes = eyes\n",
    "        self.legs = legs\n",
    "        self.intelligence_ability = intelligence_ability"
   ]
  },
  {
   "cell_type": "code",
   "execution_count": 4,
   "metadata": {
    "tags": []
   },
   "outputs": [
    {
     "output_type": "stream",
     "name": "stdout",
     "text": [
      "humano.is_living: True\n\nCalling to living_being_function():\n\nI am a living being!\n"
     ]
    }
   ],
   "source": [
    "humano = Human(born_date=\"13/05/1991\", procreate_ability=True)\n",
    "\n",
    "print(\"humano.is_living:\", humano.is_living)\n",
    "print(\"\\nCalling to living_being_function():\\n\")\n",
    "humano.living_being_function()"
   ]
  },
  {
   "cell_type": "code",
   "execution_count": 5,
   "metadata": {
    "tags": []
   },
   "outputs": [
    {
     "output_type": "stream",
     "name": "stdout",
     "text": [
      "I am a living being!\n"
     ]
    }
   ],
   "source": [
    "class Animal(LivingBeing):\n",
    "    def __init__(self, volar, born_date, tipo_celula=\"Eucariota\"):\n",
    "        LivingBeing.__init__(self, born_date=born_date, species=\"Animal\")\n",
    "        self.volar = volar\n",
    "        self.tipo_celula = tipo_celula\n",
    "\n",
    "    def print_instance_attributes(self):\n",
    "        for attribute, value in self.__dict__.items():\n",
    "            print(attribute, '=', value)\n",
    "perro_volador = Animal(volar=True, born_date=\"12/02/2020\")\n",
    "\n",
    "perro_volador.living_being_function()"
   ]
  },
  {
   "cell_type": "code",
   "execution_count": 6,
   "metadata": {},
   "outputs": [
    {
     "output_type": "stream",
     "name": "stdout",
     "text": [
      "is_living = True\nspecies = Animal\nprocreate_ability = True\naging_disease = True\nborn_date = 12/02/2020\nvolar = True\ntipo_celula = Eucariota\n"
     ]
    }
   ],
   "source": [
    "perro_volador.print_instance_attributes()"
   ]
  },
  {
   "cell_type": "code",
   "execution_count": 7,
   "metadata": {},
   "outputs": [
    {
     "output_type": "error",
     "ename": "TypeError",
     "evalue": "__init__() missing 2 required positional arguments: 'volar' and 'born_date'",
     "traceback": [
      "\u001b[0;31m---------------------------------------------------------------------------\u001b[0m",
      "\u001b[0;31mTypeError\u001b[0m                                 Traceback (most recent call last)",
      "\u001b[0;32m<ipython-input-7-3c7187d47650>\u001b[0m in \u001b[0;36m<module>\u001b[0;34m\u001b[0m\n\u001b[0;32m----> 1\u001b[0;31m \u001b[0mpaloma_voladora\u001b[0m \u001b[0;34m=\u001b[0m \u001b[0mAnimal\u001b[0m\u001b[0;34m(\u001b[0m\u001b[0;34m)\u001b[0m\u001b[0;34m\u001b[0m\u001b[0;34m\u001b[0m\u001b[0m\n\u001b[0m",
      "\u001b[0;31mTypeError\u001b[0m: __init__() missing 2 required positional arguments: 'volar' and 'born_date'"
     ]
    }
   ],
   "source": [
    "paloma_voladora = Animal()"
   ]
  },
  {
   "cell_type": "code",
   "execution_count": null,
   "metadata": {},
   "outputs": [],
   "source": []
  }
 ],
 "metadata": {
  "language_info": {
   "name": "python",
   "codemirror_mode": {
    "name": "ipython",
    "version": 3
   },
   "version": "3.9.0-final"
  },
  "orig_nbformat": 2,
  "file_extension": ".py",
  "mimetype": "text/x-python",
  "name": "python",
  "npconvert_exporter": "python",
  "pygments_lexer": "ipython3",
  "version": 3,
  "kernelspec": {
   "name": "python3",
   "display_name": "Python 3.9.0 64-bit",
   "metadata": {
    "interpreter": {
     "hash": "7812ea015bdcee6f23a998adcdd2ef97c151c0c241b7b7070987d9313e41299d"
    }
   }
  }
 },
 "nbformat": 4,
 "nbformat_minor": 2
}