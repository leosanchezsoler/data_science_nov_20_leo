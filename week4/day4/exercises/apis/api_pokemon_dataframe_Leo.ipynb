{
 "metadata": {
  "language_info": {
   "codemirror_mode": {
    "name": "ipython",
    "version": 3
   },
   "file_extension": ".py",
   "mimetype": "text/x-python",
   "name": "python",
   "nbconvert_exporter": "python",
   "pygments_lexer": "ipython3",
   "version": "3.9.0-final"
  },
  "orig_nbformat": 2,
  "kernelspec": {
   "name": "python3",
   "display_name": "Python 3.9.0 64-bit",
   "metadata": {
    "interpreter": {
     "hash": "7812ea015bdcee6f23a998adcdd2ef97c151c0c241b7b7070987d9313e41299d"
    }
   }
  }
 },
 "nbformat": 4,
 "nbformat_minor": 2,
 "cells": [
  {
   "source": [
    "### Ejercicio 1\n",
    "\n",
    "A partir de la API de Pokemon, se pide generar un DataFrame como el de la imagen con las columnas: \n",
    "\n",
    "- **\"height\",\"id\",\"order\",\"weight\",\"types\"**\n",
    "\n",
    "### Ejercicio 2\n",
    "\n",
    "¿Has visto que dentro del DataFrame la columna \"types\" hay diccionarios? Se pide agregar, por cada pokemon, las columnas necesarias al DataFrame para albergar toda la información de \"types\".\n",
    "\n",
    "![](df_pk.PNG)"
   ],
   "cell_type": "markdown",
   "metadata": {}
  },
  {
   "cell_type": "code",
   "execution_count": 2,
   "metadata": {},
   "outputs": [],
   "source": [
    "#Primero importo las librerías necesarias\n",
    "\n",
    "import json\n",
    "import requests\n",
    "\n",
    "import pandas as pd\n"
   ]
  },
  {
   "cell_type": "code",
   "execution_count": null,
   "metadata": {},
   "outputs": [],
   "source": []
  },
  {
   "cell_type": "code",
   "execution_count": 3,
   "metadata": {},
   "outputs": [
    {
     "output_type": "execute_result",
     "data": {
      "text/plain": [
       "    count                                               next previous  \\\n",
       "0    1118  https://pokeapi.co/api/v2/pokemon?offset=20&li...     None   \n",
       "1    1118  https://pokeapi.co/api/v2/pokemon?offset=20&li...     None   \n",
       "2    1118  https://pokeapi.co/api/v2/pokemon?offset=20&li...     None   \n",
       "3    1118  https://pokeapi.co/api/v2/pokemon?offset=20&li...     None   \n",
       "4    1118  https://pokeapi.co/api/v2/pokemon?offset=20&li...     None   \n",
       "5    1118  https://pokeapi.co/api/v2/pokemon?offset=20&li...     None   \n",
       "6    1118  https://pokeapi.co/api/v2/pokemon?offset=20&li...     None   \n",
       "7    1118  https://pokeapi.co/api/v2/pokemon?offset=20&li...     None   \n",
       "8    1118  https://pokeapi.co/api/v2/pokemon?offset=20&li...     None   \n",
       "9    1118  https://pokeapi.co/api/v2/pokemon?offset=20&li...     None   \n",
       "10   1118  https://pokeapi.co/api/v2/pokemon?offset=20&li...     None   \n",
       "11   1118  https://pokeapi.co/api/v2/pokemon?offset=20&li...     None   \n",
       "12   1118  https://pokeapi.co/api/v2/pokemon?offset=20&li...     None   \n",
       "13   1118  https://pokeapi.co/api/v2/pokemon?offset=20&li...     None   \n",
       "14   1118  https://pokeapi.co/api/v2/pokemon?offset=20&li...     None   \n",
       "15   1118  https://pokeapi.co/api/v2/pokemon?offset=20&li...     None   \n",
       "16   1118  https://pokeapi.co/api/v2/pokemon?offset=20&li...     None   \n",
       "17   1118  https://pokeapi.co/api/v2/pokemon?offset=20&li...     None   \n",
       "18   1118  https://pokeapi.co/api/v2/pokemon?offset=20&li...     None   \n",
       "19   1118  https://pokeapi.co/api/v2/pokemon?offset=20&li...     None   \n",
       "\n",
       "                                              results  \n",
       "0   {'name': 'bulbasaur', 'url': 'https://pokeapi....  \n",
       "1   {'name': 'ivysaur', 'url': 'https://pokeapi.co...  \n",
       "2   {'name': 'venusaur', 'url': 'https://pokeapi.c...  \n",
       "3   {'name': 'charmander', 'url': 'https://pokeapi...  \n",
       "4   {'name': 'charmeleon', 'url': 'https://pokeapi...  \n",
       "5   {'name': 'charizard', 'url': 'https://pokeapi....  \n",
       "6   {'name': 'squirtle', 'url': 'https://pokeapi.c...  \n",
       "7   {'name': 'wartortle', 'url': 'https://pokeapi....  \n",
       "8   {'name': 'blastoise', 'url': 'https://pokeapi....  \n",
       "9   {'name': 'caterpie', 'url': 'https://pokeapi.c...  \n",
       "10  {'name': 'metapod', 'url': 'https://pokeapi.co...  \n",
       "11  {'name': 'butterfree', 'url': 'https://pokeapi...  \n",
       "12  {'name': 'weedle', 'url': 'https://pokeapi.co/...  \n",
       "13  {'name': 'kakuna', 'url': 'https://pokeapi.co/...  \n",
       "14  {'name': 'beedrill', 'url': 'https://pokeapi.c...  \n",
       "15  {'name': 'pidgey', 'url': 'https://pokeapi.co/...  \n",
       "16  {'name': 'pidgeotto', 'url': 'https://pokeapi....  \n",
       "17  {'name': 'pidgeot', 'url': 'https://pokeapi.co...  \n",
       "18  {'name': 'rattata', 'url': 'https://pokeapi.co...  \n",
       "19  {'name': 'raticate', 'url': 'https://pokeapi.c...  "
      ],
      "text/html": "<div>\n<style scoped>\n    .dataframe tbody tr th:only-of-type {\n        vertical-align: middle;\n    }\n\n    .dataframe tbody tr th {\n        vertical-align: top;\n    }\n\n    .dataframe thead th {\n        text-align: right;\n    }\n</style>\n<table border=\"1\" class=\"dataframe\">\n  <thead>\n    <tr style=\"text-align: right;\">\n      <th></th>\n      <th>count</th>\n      <th>next</th>\n      <th>previous</th>\n      <th>results</th>\n    </tr>\n  </thead>\n  <tbody>\n    <tr>\n      <th>0</th>\n      <td>1118</td>\n      <td>https://pokeapi.co/api/v2/pokemon?offset=20&amp;li...</td>\n      <td>None</td>\n      <td>{'name': 'bulbasaur', 'url': 'https://pokeapi....</td>\n    </tr>\n    <tr>\n      <th>1</th>\n      <td>1118</td>\n      <td>https://pokeapi.co/api/v2/pokemon?offset=20&amp;li...</td>\n      <td>None</td>\n      <td>{'name': 'ivysaur', 'url': 'https://pokeapi.co...</td>\n    </tr>\n    <tr>\n      <th>2</th>\n      <td>1118</td>\n      <td>https://pokeapi.co/api/v2/pokemon?offset=20&amp;li...</td>\n      <td>None</td>\n      <td>{'name': 'venusaur', 'url': 'https://pokeapi.c...</td>\n    </tr>\n    <tr>\n      <th>3</th>\n      <td>1118</td>\n      <td>https://pokeapi.co/api/v2/pokemon?offset=20&amp;li...</td>\n      <td>None</td>\n      <td>{'name': 'charmander', 'url': 'https://pokeapi...</td>\n    </tr>\n    <tr>\n      <th>4</th>\n      <td>1118</td>\n      <td>https://pokeapi.co/api/v2/pokemon?offset=20&amp;li...</td>\n      <td>None</td>\n      <td>{'name': 'charmeleon', 'url': 'https://pokeapi...</td>\n    </tr>\n    <tr>\n      <th>5</th>\n      <td>1118</td>\n      <td>https://pokeapi.co/api/v2/pokemon?offset=20&amp;li...</td>\n      <td>None</td>\n      <td>{'name': 'charizard', 'url': 'https://pokeapi....</td>\n    </tr>\n    <tr>\n      <th>6</th>\n      <td>1118</td>\n      <td>https://pokeapi.co/api/v2/pokemon?offset=20&amp;li...</td>\n      <td>None</td>\n      <td>{'name': 'squirtle', 'url': 'https://pokeapi.c...</td>\n    </tr>\n    <tr>\n      <th>7</th>\n      <td>1118</td>\n      <td>https://pokeapi.co/api/v2/pokemon?offset=20&amp;li...</td>\n      <td>None</td>\n      <td>{'name': 'wartortle', 'url': 'https://pokeapi....</td>\n    </tr>\n    <tr>\n      <th>8</th>\n      <td>1118</td>\n      <td>https://pokeapi.co/api/v2/pokemon?offset=20&amp;li...</td>\n      <td>None</td>\n      <td>{'name': 'blastoise', 'url': 'https://pokeapi....</td>\n    </tr>\n    <tr>\n      <th>9</th>\n      <td>1118</td>\n      <td>https://pokeapi.co/api/v2/pokemon?offset=20&amp;li...</td>\n      <td>None</td>\n      <td>{'name': 'caterpie', 'url': 'https://pokeapi.c...</td>\n    </tr>\n    <tr>\n      <th>10</th>\n      <td>1118</td>\n      <td>https://pokeapi.co/api/v2/pokemon?offset=20&amp;li...</td>\n      <td>None</td>\n      <td>{'name': 'metapod', 'url': 'https://pokeapi.co...</td>\n    </tr>\n    <tr>\n      <th>11</th>\n      <td>1118</td>\n      <td>https://pokeapi.co/api/v2/pokemon?offset=20&amp;li...</td>\n      <td>None</td>\n      <td>{'name': 'butterfree', 'url': 'https://pokeapi...</td>\n    </tr>\n    <tr>\n      <th>12</th>\n      <td>1118</td>\n      <td>https://pokeapi.co/api/v2/pokemon?offset=20&amp;li...</td>\n      <td>None</td>\n      <td>{'name': 'weedle', 'url': 'https://pokeapi.co/...</td>\n    </tr>\n    <tr>\n      <th>13</th>\n      <td>1118</td>\n      <td>https://pokeapi.co/api/v2/pokemon?offset=20&amp;li...</td>\n      <td>None</td>\n      <td>{'name': 'kakuna', 'url': 'https://pokeapi.co/...</td>\n    </tr>\n    <tr>\n      <th>14</th>\n      <td>1118</td>\n      <td>https://pokeapi.co/api/v2/pokemon?offset=20&amp;li...</td>\n      <td>None</td>\n      <td>{'name': 'beedrill', 'url': 'https://pokeapi.c...</td>\n    </tr>\n    <tr>\n      <th>15</th>\n      <td>1118</td>\n      <td>https://pokeapi.co/api/v2/pokemon?offset=20&amp;li...</td>\n      <td>None</td>\n      <td>{'name': 'pidgey', 'url': 'https://pokeapi.co/...</td>\n    </tr>\n    <tr>\n      <th>16</th>\n      <td>1118</td>\n      <td>https://pokeapi.co/api/v2/pokemon?offset=20&amp;li...</td>\n      <td>None</td>\n      <td>{'name': 'pidgeotto', 'url': 'https://pokeapi....</td>\n    </tr>\n    <tr>\n      <th>17</th>\n      <td>1118</td>\n      <td>https://pokeapi.co/api/v2/pokemon?offset=20&amp;li...</td>\n      <td>None</td>\n      <td>{'name': 'pidgeot', 'url': 'https://pokeapi.co...</td>\n    </tr>\n    <tr>\n      <th>18</th>\n      <td>1118</td>\n      <td>https://pokeapi.co/api/v2/pokemon?offset=20&amp;li...</td>\n      <td>None</td>\n      <td>{'name': 'rattata', 'url': 'https://pokeapi.co...</td>\n    </tr>\n    <tr>\n      <th>19</th>\n      <td>1118</td>\n      <td>https://pokeapi.co/api/v2/pokemon?offset=20&amp;li...</td>\n      <td>None</td>\n      <td>{'name': 'raticate', 'url': 'https://pokeapi.c...</td>\n    </tr>\n  </tbody>\n</table>\n</div>"
     },
     "metadata": {},
     "execution_count": 3
    }
   ],
   "source": [
    "apipoke = requests.get('https://pokeapi.co/api/v2/pokemon?=limit=5').json()\n",
    "apipoke\n",
    "\n",
    "df_apipoke = pd.DataFrame(apipoke)\n",
    "df_apipoke"
   ]
  },
  {
   "cell_type": "code",
   "execution_count": 4,
   "metadata": {},
   "outputs": [
    {
     "output_type": "execute_result",
     "data": {
      "text/plain": [
       "list"
      ]
     },
     "metadata": {},
     "execution_count": 4
    }
   ],
   "source": [
    "#Ahora mismo lo que se ha creado es una lista de diccionarios en la que se contienen los 20 primeros pokemons\n",
    "pokemon = []\n",
    "poke_dict = {\"name\":[], 'url':[]}\n",
    "pokemon.extend(apipoke['results'])\n",
    "type(pokemon)"
   ]
  },
  {
   "cell_type": "code",
   "execution_count": 5,
   "metadata": {},
   "outputs": [
    {
     "output_type": "execute_result",
     "data": {
      "text/plain": [
       "{'bulbasaur': 'https://pokeapi.co/api/v2/pokemon/1/',\n",
       " 'ivysaur': 'https://pokeapi.co/api/v2/pokemon/2/',\n",
       " 'venusaur': 'https://pokeapi.co/api/v2/pokemon/3/',\n",
       " 'charmander': 'https://pokeapi.co/api/v2/pokemon/4/',\n",
       " 'charmeleon': 'https://pokeapi.co/api/v2/pokemon/5/',\n",
       " 'charizard': 'https://pokeapi.co/api/v2/pokemon/6/',\n",
       " 'squirtle': 'https://pokeapi.co/api/v2/pokemon/7/',\n",
       " 'wartortle': 'https://pokeapi.co/api/v2/pokemon/8/',\n",
       " 'blastoise': 'https://pokeapi.co/api/v2/pokemon/9/',\n",
       " 'caterpie': 'https://pokeapi.co/api/v2/pokemon/10/',\n",
       " 'metapod': 'https://pokeapi.co/api/v2/pokemon/11/',\n",
       " 'butterfree': 'https://pokeapi.co/api/v2/pokemon/12/',\n",
       " 'weedle': 'https://pokeapi.co/api/v2/pokemon/13/',\n",
       " 'kakuna': 'https://pokeapi.co/api/v2/pokemon/14/',\n",
       " 'beedrill': 'https://pokeapi.co/api/v2/pokemon/15/',\n",
       " 'pidgey': 'https://pokeapi.co/api/v2/pokemon/16/',\n",
       " 'pidgeotto': 'https://pokeapi.co/api/v2/pokemon/17/',\n",
       " 'pidgeot': 'https://pokeapi.co/api/v2/pokemon/18/',\n",
       " 'rattata': 'https://pokeapi.co/api/v2/pokemon/19/',\n",
       " 'raticate': 'https://pokeapi.co/api/v2/pokemon/20/'}"
      ]
     },
     "metadata": {},
     "execution_count": 5
    }
   ],
   "source": [
    "#ahora que el tipo de pokemon es una lista y siguiendo el ejemplo que hay en la teoría de APIs, vamos a crear un diccionario que contenga el como key el nombre del pokemon y como value la url\n",
    "\n",
    "diccionario_pokemons_url = {}\n",
    "for i, e in enumerate(pokemon):\n",
    "    nombre_pokemon = pokemon[i][\"name\"]\n",
    "    url_pokemon = pokemon[i][\"url\"]\n",
    "    diccionario_pokemons_url[nombre_pokemon] = url_pokemon\n",
    "    \n",
    "diccionario_pokemons_url"
   ]
  },
  {
   "cell_type": "code",
   "execution_count": 6,
   "metadata": {},
   "outputs": [
    {
     "output_type": "execute_result",
     "data": {
      "text/plain": [
       "{'bulbasaur': 'https://pokeapi.co/api/v2/pokemon/1/',\n",
       " 'ivysaur': 'https://pokeapi.co/api/v2/pokemon/2/',\n",
       " 'venusaur': 'https://pokeapi.co/api/v2/pokemon/3/',\n",
       " 'charmander': 'https://pokeapi.co/api/v2/pokemon/4/',\n",
       " 'charmeleon': 'https://pokeapi.co/api/v2/pokemon/5/',\n",
       " 'charizard': 'https://pokeapi.co/api/v2/pokemon/6/',\n",
       " 'squirtle': 'https://pokeapi.co/api/v2/pokemon/7/',\n",
       " 'wartortle': 'https://pokeapi.co/api/v2/pokemon/8/',\n",
       " 'blastoise': 'https://pokeapi.co/api/v2/pokemon/9/',\n",
       " 'caterpie': 'https://pokeapi.co/api/v2/pokemon/10/',\n",
       " 'metapod': 'https://pokeapi.co/api/v2/pokemon/11/',\n",
       " 'butterfree': 'https://pokeapi.co/api/v2/pokemon/12/',\n",
       " 'weedle': 'https://pokeapi.co/api/v2/pokemon/13/',\n",
       " 'kakuna': 'https://pokeapi.co/api/v2/pokemon/14/',\n",
       " 'beedrill': 'https://pokeapi.co/api/v2/pokemon/15/',\n",
       " 'pidgey': 'https://pokeapi.co/api/v2/pokemon/16/',\n",
       " 'pidgeotto': 'https://pokeapi.co/api/v2/pokemon/17/',\n",
       " 'pidgeot': 'https://pokeapi.co/api/v2/pokemon/18/',\n",
       " 'rattata': 'https://pokeapi.co/api/v2/pokemon/19/',\n",
       " 'raticate': 'https://pokeapi.co/api/v2/pokemon/20/'}"
      ]
     },
     "metadata": {},
     "execution_count": 6
    }
   ],
   "source": [
    "#Ahora que tengo el nombre y la url de cada pokemon,\n",
    "diccionario_pokemons_url\n",
    "\n"
   ]
  },
  {
   "cell_type": "code",
   "execution_count": 19,
   "metadata": {},
   "outputs": [
    {
     "output_type": "error",
     "ename": "KeyError",
     "evalue": "0",
     "traceback": [
      "\u001b[0;31m---------------------------------------------------------------------------\u001b[0m",
      "\u001b[0;31mKeyError\u001b[0m                                  Traceback (most recent call last)",
      "\u001b[0;32m<ipython-input-19-ee881b28d897>\u001b[0m in \u001b[0;36m<module>\u001b[0;34m\u001b[0m\n\u001b[1;32m      1\u001b[0m \u001b[0;32mfor\u001b[0m \u001b[0mpos\u001b[0m\u001b[0;34m,\u001b[0m \u001b[0mval\u001b[0m \u001b[0;32min\u001b[0m \u001b[0menumerate\u001b[0m\u001b[0;34m(\u001b[0m\u001b[0mdiccionario_pokemons_url\u001b[0m\u001b[0;34m)\u001b[0m\u001b[0;34m:\u001b[0m\u001b[0;34m\u001b[0m\u001b[0;34m\u001b[0m\u001b[0m\n\u001b[0;32m----> 2\u001b[0;31m     \u001b[0;32mfor\u001b[0m \u001b[0mpoke_name\u001b[0m\u001b[0;34m,\u001b[0m \u001b[0menlace\u001b[0m \u001b[0;32min\u001b[0m \u001b[0mdiccionario_pokemons_url\u001b[0m\u001b[0;34m[\u001b[0m\u001b[0mpos\u001b[0m\u001b[0;34m]\u001b[0m\u001b[0;34m.\u001b[0m\u001b[0mitems\u001b[0m\u001b[0;34m(\u001b[0m\u001b[0;34m)\u001b[0m\u001b[0;34m:\u001b[0m\u001b[0;34m\u001b[0m\u001b[0;34m\u001b[0m\u001b[0m\n\u001b[0m\u001b[1;32m      3\u001b[0m         \u001b[0mpedir_url_api\u001b[0m \u001b[0;34m=\u001b[0m \u001b[0mrequests\u001b[0m\u001b[0;34m.\u001b[0m\u001b[0mget\u001b[0m\u001b[0;34m(\u001b[0m\u001b[0menlace\u001b[0m\u001b[0;34m)\u001b[0m\u001b[0;34m.\u001b[0m\u001b[0mjson\u001b[0m\u001b[0;34m(\u001b[0m\u001b[0;34m)\u001b[0m\u001b[0;34m\u001b[0m\u001b[0;34m\u001b[0m\u001b[0m\n",
      "\u001b[0;31mKeyError\u001b[0m: 0"
     ]
    }
   ],
   "source": [
    "for pos, val in enumerate(diccionario_pokemons_url):\n",
    "    for poke_name, enlace in diccionario_pokemons_url[pos].items():\n",
    "        pedir_url_api = requests.get(enlace).json()\n"
   ]
  },
  {
   "cell_type": "code",
   "execution_count": 20,
   "metadata": {},
   "outputs": [
    {
     "output_type": "stream",
     "name": "stdout",
     "text": [
      "raticate\n<class 'dict'>\ndict_keys(['abilities', 'base_experience', 'forms', 'game_indices', 'height', 'held_items', 'id', 'is_default', 'location_area_encounters', 'moves', 'name', 'order', 'species', 'sprites', 'stats', 'types', 'weight'])\n"
     ]
    }
   ],
   "source": [
    "#Ahora solo me sale pero con el último pokemon de la lista, no sé por qué\n",
    "lista_poke = None\n",
    "for nombre_pokemon, url in diccionario_pokemons_url.items():\n",
    "    for pos, value in enumerate(diccionario_pokemons_url):\n",
    "        if pos == 0:\n",
    "            peticion_api_url = requests.get(url).json()\n",
    "        else:\n",
    "            lista_poke = pd.concat([peticion_api_url, ])\n",
    "print(nombre_pokemon)\n",
    "\n",
    "print(type(peticion_api_url))\n",
    "print(peticion_api_url.keys())\n"
   ]
  },
  {
   "cell_type": "code",
   "execution_count": null,
   "metadata": {},
   "outputs": [],
   "source": []
  },
  {
   "cell_type": "code",
   "execution_count": 8,
   "metadata": {},
   "outputs": [
    {
     "output_type": "error",
     "ename": "IndentationError",
     "evalue": "unindent does not match any outer indentation level (<tokenize>, line 7)",
     "traceback": [
      "\u001b[0;36m  File \u001b[0;32m\"<tokenize>\"\u001b[0;36m, line \u001b[0;32m7\u001b[0m\n\u001b[0;31m    else:\u001b[0m\n\u001b[0m    ^\u001b[0m\n\u001b[0;31mIndentationError\u001b[0m\u001b[0;31m:\u001b[0m unindent does not match any outer indentation level\n"
     ]
    }
   ],
   "source": [
    "df_final = None\n",
    "\n",
    "for nombre_pokemon, url in diccionario_pokemons_url.items():\n",
    "    nuevo_df = \n",
    "    if i == 0: #es la primera iteración\n",
    "            peticion_api_url = requests.get(url).json()\n",
    "    else:\n",
    "        df_final = pd.concat([df_final, new_df], axis = 0) #Así se concatena por abajo"
   ]
  },
  {
   "cell_type": "code",
   "execution_count": 181,
   "metadata": {},
   "outputs": [
    {
     "output_type": "error",
     "ename": "TypeError",
     "evalue": "Object of type Series is not JSON serializable",
     "traceback": [
      "\u001b[0;31m---------------------------------------------------------------------------\u001b[0m",
      "\u001b[0;31mTypeError\u001b[0m                                 Traceback (most recent call last)",
      "\u001b[0;32m<ipython-input-181-b15880ad8c05>\u001b[0m in \u001b[0;36m<module>\u001b[0;34m\u001b[0m\n\u001b[1;32m      7\u001b[0m \u001b[0;34m\u001b[0m\u001b[0m\n\u001b[1;32m      8\u001b[0m \u001b[0;32mwith\u001b[0m \u001b[0mopen\u001b[0m\u001b[0;34m(\u001b[0m\u001b[0;34m'api_pokemon.json'\u001b[0m\u001b[0;34m,\u001b[0m \u001b[0;34m'w+'\u001b[0m\u001b[0;34m)\u001b[0m \u001b[0;32mas\u001b[0m \u001b[0moutfile\u001b[0m\u001b[0;34m:\u001b[0m\u001b[0;34m\u001b[0m\u001b[0;34m\u001b[0m\u001b[0m\n\u001b[0;32m----> 9\u001b[0;31m     \u001b[0mjson\u001b[0m\u001b[0;34m.\u001b[0m\u001b[0mdump\u001b[0m\u001b[0;34m(\u001b[0m\u001b[0mtipos_raticate\u001b[0m\u001b[0;34m,\u001b[0m \u001b[0moutfile\u001b[0m\u001b[0;34m,\u001b[0m \u001b[0mindent\u001b[0m\u001b[0;34m=\u001b[0m\u001b[0;36m4\u001b[0m\u001b[0;34m)\u001b[0m\u001b[0;34m\u001b[0m\u001b[0;34m\u001b[0m\u001b[0m\n\u001b[0m\u001b[1;32m     10\u001b[0m \u001b[0;34m\u001b[0m\u001b[0m\n\u001b[1;32m     11\u001b[0m \u001b[0mtype\u001b[0m\u001b[0;34m(\u001b[0m\u001b[0mdf_tipos_raticate\u001b[0m\u001b[0;34m)\u001b[0m\u001b[0;34m\u001b[0m\u001b[0;34m\u001b[0m\u001b[0m\n",
      "\u001b[0;32m/Library/Frameworks/Python.framework/Versions/3.9/lib/python3.9/json/__init__.py\u001b[0m in \u001b[0;36mdump\u001b[0;34m(obj, fp, skipkeys, ensure_ascii, check_circular, allow_nan, cls, indent, separators, default, sort_keys, **kw)\u001b[0m\n\u001b[1;32m    177\u001b[0m     \u001b[0;31m# could accelerate with writelines in some versions of Python, at\u001b[0m\u001b[0;34m\u001b[0m\u001b[0;34m\u001b[0m\u001b[0;34m\u001b[0m\u001b[0m\n\u001b[1;32m    178\u001b[0m     \u001b[0;31m# a debuggability cost\u001b[0m\u001b[0;34m\u001b[0m\u001b[0;34m\u001b[0m\u001b[0;34m\u001b[0m\u001b[0m\n\u001b[0;32m--> 179\u001b[0;31m     \u001b[0;32mfor\u001b[0m \u001b[0mchunk\u001b[0m \u001b[0;32min\u001b[0m \u001b[0miterable\u001b[0m\u001b[0;34m:\u001b[0m\u001b[0;34m\u001b[0m\u001b[0;34m\u001b[0m\u001b[0m\n\u001b[0m\u001b[1;32m    180\u001b[0m         \u001b[0mfp\u001b[0m\u001b[0;34m.\u001b[0m\u001b[0mwrite\u001b[0m\u001b[0;34m(\u001b[0m\u001b[0mchunk\u001b[0m\u001b[0;34m)\u001b[0m\u001b[0;34m\u001b[0m\u001b[0;34m\u001b[0m\u001b[0m\n\u001b[1;32m    181\u001b[0m \u001b[0;34m\u001b[0m\u001b[0m\n",
      "\u001b[0;32m/Library/Frameworks/Python.framework/Versions/3.9/lib/python3.9/json/encoder.py\u001b[0m in \u001b[0;36m_iterencode\u001b[0;34m(o, _current_indent_level)\u001b[0m\n\u001b[1;32m    436\u001b[0m                     \u001b[0;32mraise\u001b[0m \u001b[0mValueError\u001b[0m\u001b[0;34m(\u001b[0m\u001b[0;34m\"Circular reference detected\"\u001b[0m\u001b[0;34m)\u001b[0m\u001b[0;34m\u001b[0m\u001b[0;34m\u001b[0m\u001b[0m\n\u001b[1;32m    437\u001b[0m                 \u001b[0mmarkers\u001b[0m\u001b[0;34m[\u001b[0m\u001b[0mmarkerid\u001b[0m\u001b[0;34m]\u001b[0m \u001b[0;34m=\u001b[0m \u001b[0mo\u001b[0m\u001b[0;34m\u001b[0m\u001b[0;34m\u001b[0m\u001b[0m\n\u001b[0;32m--> 438\u001b[0;31m             \u001b[0mo\u001b[0m \u001b[0;34m=\u001b[0m \u001b[0m_default\u001b[0m\u001b[0;34m(\u001b[0m\u001b[0mo\u001b[0m\u001b[0;34m)\u001b[0m\u001b[0;34m\u001b[0m\u001b[0;34m\u001b[0m\u001b[0m\n\u001b[0m\u001b[1;32m    439\u001b[0m             \u001b[0;32myield\u001b[0m \u001b[0;32mfrom\u001b[0m \u001b[0m_iterencode\u001b[0m\u001b[0;34m(\u001b[0m\u001b[0mo\u001b[0m\u001b[0;34m,\u001b[0m \u001b[0m_current_indent_level\u001b[0m\u001b[0;34m)\u001b[0m\u001b[0;34m\u001b[0m\u001b[0;34m\u001b[0m\u001b[0m\n\u001b[1;32m    440\u001b[0m             \u001b[0;32mif\u001b[0m \u001b[0mmarkers\u001b[0m \u001b[0;32mis\u001b[0m \u001b[0;32mnot\u001b[0m \u001b[0;32mNone\u001b[0m\u001b[0;34m:\u001b[0m\u001b[0;34m\u001b[0m\u001b[0;34m\u001b[0m\u001b[0m\n",
      "\u001b[0;32m/Library/Frameworks/Python.framework/Versions/3.9/lib/python3.9/json/encoder.py\u001b[0m in \u001b[0;36mdefault\u001b[0;34m(self, o)\u001b[0m\n\u001b[1;32m    177\u001b[0m \u001b[0;34m\u001b[0m\u001b[0m\n\u001b[1;32m    178\u001b[0m         \"\"\"\n\u001b[0;32m--> 179\u001b[0;31m         raise TypeError(f'Object of type {o.__class__.__name__} '\n\u001b[0m\u001b[1;32m    180\u001b[0m                         f'is not JSON serializable')\n\u001b[1;32m    181\u001b[0m \u001b[0;34m\u001b[0m\u001b[0m\n",
      "\u001b[0;31mTypeError\u001b[0m: Object of type Series is not JSON serializable"
     ]
    }
   ],
   "source": [
    "#No sé por qué me sale únicamente con raticate, pero voy a intentar coger los datos de la columna types y a correr... \n",
    "\n",
    "#Me estoy haciendo un lío con las características de los jsons. Mañana lo repasaré otra vez\n",
    "\n",
    "df_api_poke = pd.DataFrame(peticion_api_url, columns=['name', 'url', 'height', 'id', 'order', 'weight', 'types'])\n",
    "tipos_raticate = df_api_poke['types']\n",
    "\n",
    "with open('api_pokemon.json', 'w+') as outfile:\n",
    "    json.dump(tipos_raticate, outfile, indent=4)\n",
    "\n",
    "type(df_tipos_raticate)"
   ]
  },
  {
   "cell_type": "code",
   "execution_count": null,
   "metadata": {},
   "outputs": [],
   "source": []
  }
 ]
}