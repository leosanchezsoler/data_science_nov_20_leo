{
 "metadata": {
  "language_info": {
   "codemirror_mode": {
    "name": "ipython",
    "version": 3
   },
   "file_extension": ".py",
   "mimetype": "text/x-python",
   "name": "python",
   "nbconvert_exporter": "python",
   "pygments_lexer": "ipython3",
   "version": "3.9.0-final"
  },
  "orig_nbformat": 2,
  "kernelspec": {
   "name": "python3",
   "display_name": "Python 3.9.0 64-bit",
   "metadata": {
    "interpreter": {
     "hash": "7812ea015bdcee6f23a998adcdd2ef97c151c0c241b7b7070987d9313e41299d"
    }
   }
  }
 },
 "nbformat": 4,
 "nbformat_minor": 2,
 "cells": [
  {
   "source": [
    "### Ejercicio 1\n",
    "\n",
    "A partir de la API de Pokemon, se pide generar un DataFrame como el de la imagen con las columnas: \n",
    "\n",
    "- **\"height\",\"id\",\"order\",\"weight\",\"types\"**\n",
    "\n",
    "### Ejercicio 2\n",
    "\n",
    "¿Has visto que dentro del DataFrame la columna \"types\" hay diccionarios? Se pide agregar, por cada pokemon, las columnas necesarias al DataFrame para albergar toda la información de \"types\".\n",
    "\n",
    "![](df_pk.PNG)"
   ],
   "cell_type": "markdown",
   "metadata": {}
  },
  {
   "cell_type": "code",
   "execution_count": 1,
   "metadata": {},
   "outputs": [],
   "source": [
    "import requests\n",
    "import json\n",
    "import pandas as pd \n",
    "import numpy"
   ]
  },
  {
   "cell_type": "code",
   "execution_count": 4,
   "metadata": {},
   "outputs": [
    {
     "output_type": "execute_result",
     "data": {
      "text/plain": [
       "          name                                    url\n",
       "0    bulbasaur   https://pokeapi.co/api/v2/pokemon/1/\n",
       "1      ivysaur   https://pokeapi.co/api/v2/pokemon/2/\n",
       "2     venusaur   https://pokeapi.co/api/v2/pokemon/3/\n",
       "3   charmander   https://pokeapi.co/api/v2/pokemon/4/\n",
       "4   charmeleon   https://pokeapi.co/api/v2/pokemon/5/\n",
       "5    charizard   https://pokeapi.co/api/v2/pokemon/6/\n",
       "6     squirtle   https://pokeapi.co/api/v2/pokemon/7/\n",
       "7    wartortle   https://pokeapi.co/api/v2/pokemon/8/\n",
       "8    blastoise   https://pokeapi.co/api/v2/pokemon/9/\n",
       "9     caterpie  https://pokeapi.co/api/v2/pokemon/10/\n",
       "10     metapod  https://pokeapi.co/api/v2/pokemon/11/\n",
       "11  butterfree  https://pokeapi.co/api/v2/pokemon/12/\n",
       "12      weedle  https://pokeapi.co/api/v2/pokemon/13/\n",
       "13      kakuna  https://pokeapi.co/api/v2/pokemon/14/\n",
       "14    beedrill  https://pokeapi.co/api/v2/pokemon/15/\n",
       "15      pidgey  https://pokeapi.co/api/v2/pokemon/16/\n",
       "16   pidgeotto  https://pokeapi.co/api/v2/pokemon/17/\n",
       "17     pidgeot  https://pokeapi.co/api/v2/pokemon/18/\n",
       "18     rattata  https://pokeapi.co/api/v2/pokemon/19/\n",
       "19    raticate  https://pokeapi.co/api/v2/pokemon/20/"
      ],
      "text/html": "<div>\n<style scoped>\n    .dataframe tbody tr th:only-of-type {\n        vertical-align: middle;\n    }\n\n    .dataframe tbody tr th {\n        vertical-align: top;\n    }\n\n    .dataframe thead th {\n        text-align: right;\n    }\n</style>\n<table border=\"1\" class=\"dataframe\">\n  <thead>\n    <tr style=\"text-align: right;\">\n      <th></th>\n      <th>name</th>\n      <th>url</th>\n    </tr>\n  </thead>\n  <tbody>\n    <tr>\n      <th>0</th>\n      <td>bulbasaur</td>\n      <td>https://pokeapi.co/api/v2/pokemon/1/</td>\n    </tr>\n    <tr>\n      <th>1</th>\n      <td>ivysaur</td>\n      <td>https://pokeapi.co/api/v2/pokemon/2/</td>\n    </tr>\n    <tr>\n      <th>2</th>\n      <td>venusaur</td>\n      <td>https://pokeapi.co/api/v2/pokemon/3/</td>\n    </tr>\n    <tr>\n      <th>3</th>\n      <td>charmander</td>\n      <td>https://pokeapi.co/api/v2/pokemon/4/</td>\n    </tr>\n    <tr>\n      <th>4</th>\n      <td>charmeleon</td>\n      <td>https://pokeapi.co/api/v2/pokemon/5/</td>\n    </tr>\n    <tr>\n      <th>5</th>\n      <td>charizard</td>\n      <td>https://pokeapi.co/api/v2/pokemon/6/</td>\n    </tr>\n    <tr>\n      <th>6</th>\n      <td>squirtle</td>\n      <td>https://pokeapi.co/api/v2/pokemon/7/</td>\n    </tr>\n    <tr>\n      <th>7</th>\n      <td>wartortle</td>\n      <td>https://pokeapi.co/api/v2/pokemon/8/</td>\n    </tr>\n    <tr>\n      <th>8</th>\n      <td>blastoise</td>\n      <td>https://pokeapi.co/api/v2/pokemon/9/</td>\n    </tr>\n    <tr>\n      <th>9</th>\n      <td>caterpie</td>\n      <td>https://pokeapi.co/api/v2/pokemon/10/</td>\n    </tr>\n    <tr>\n      <th>10</th>\n      <td>metapod</td>\n      <td>https://pokeapi.co/api/v2/pokemon/11/</td>\n    </tr>\n    <tr>\n      <th>11</th>\n      <td>butterfree</td>\n      <td>https://pokeapi.co/api/v2/pokemon/12/</td>\n    </tr>\n    <tr>\n      <th>12</th>\n      <td>weedle</td>\n      <td>https://pokeapi.co/api/v2/pokemon/13/</td>\n    </tr>\n    <tr>\n      <th>13</th>\n      <td>kakuna</td>\n      <td>https://pokeapi.co/api/v2/pokemon/14/</td>\n    </tr>\n    <tr>\n      <th>14</th>\n      <td>beedrill</td>\n      <td>https://pokeapi.co/api/v2/pokemon/15/</td>\n    </tr>\n    <tr>\n      <th>15</th>\n      <td>pidgey</td>\n      <td>https://pokeapi.co/api/v2/pokemon/16/</td>\n    </tr>\n    <tr>\n      <th>16</th>\n      <td>pidgeotto</td>\n      <td>https://pokeapi.co/api/v2/pokemon/17/</td>\n    </tr>\n    <tr>\n      <th>17</th>\n      <td>pidgeot</td>\n      <td>https://pokeapi.co/api/v2/pokemon/18/</td>\n    </tr>\n    <tr>\n      <th>18</th>\n      <td>rattata</td>\n      <td>https://pokeapi.co/api/v2/pokemon/19/</td>\n    </tr>\n    <tr>\n      <th>19</th>\n      <td>raticate</td>\n      <td>https://pokeapi.co/api/v2/pokemon/20/</td>\n    </tr>\n  </tbody>\n</table>\n</div>"
     },
     "metadata": {},
     "execution_count": 4
    }
   ],
   "source": [
    "api_pokemon = requests.get('https://pokeapi.co/api/v2/pokemon').json()\n",
    "# Ahora api_pokemon es un json\n",
    "api_pokemon['results']\n",
    "\n",
    "df_resultados_api_pokemon = pd.DataFrame(api_pokemon['results'])\n",
    "df_resultados_api_pokemon"
   ]
  },
  {
   "cell_type": "code",
   "execution_count": 33,
   "metadata": {},
   "outputs": [
    {
     "output_type": "execute_result",
     "data": {
      "text/plain": [
       "0     bulbasaur\n",
       "1       ivysaur\n",
       "2      venusaur\n",
       "3    charmander\n",
       "Name: name, dtype: object"
      ]
     },
     "metadata": {},
     "execution_count": 33
    }
   ],
   "source": [
    "df_resultados_api_pokemon['name']"
   ]
  },
  {
   "cell_type": "code",
   "execution_count": 36,
   "metadata": {},
   "outputs": [
    {
     "output_type": "execute_result",
     "data": {
      "text/plain": [
       "[{'name': 'bulbasaur', 'url': 'https://pokeapi.co/api/v2/pokemon/1/'},\n",
       " {'name': 'ivysaur', 'url': 'https://pokeapi.co/api/v2/pokemon/2/'},\n",
       " {'name': 'venusaur', 'url': 'https://pokeapi.co/api/v2/pokemon/3/'},\n",
       " {'name': 'charmander', 'url': 'https://pokeapi.co/api/v2/pokemon/4/'},\n",
       " {'name': 'charmeleon', 'url': 'https://pokeapi.co/api/v2/pokemon/5/'},\n",
       " {'name': 'charizard', 'url': 'https://pokeapi.co/api/v2/pokemon/6/'},\n",
       " {'name': 'squirtle', 'url': 'https://pokeapi.co/api/v2/pokemon/7/'},\n",
       " {'name': 'wartortle', 'url': 'https://pokeapi.co/api/v2/pokemon/8/'},\n",
       " {'name': 'blastoise', 'url': 'https://pokeapi.co/api/v2/pokemon/9/'},\n",
       " {'name': 'caterpie', 'url': 'https://pokeapi.co/api/v2/pokemon/10/'},\n",
       " {'name': 'metapod', 'url': 'https://pokeapi.co/api/v2/pokemon/11/'},\n",
       " {'name': 'butterfree', 'url': 'https://pokeapi.co/api/v2/pokemon/12/'},\n",
       " {'name': 'weedle', 'url': 'https://pokeapi.co/api/v2/pokemon/13/'},\n",
       " {'name': 'kakuna', 'url': 'https://pokeapi.co/api/v2/pokemon/14/'},\n",
       " {'name': 'beedrill', 'url': 'https://pokeapi.co/api/v2/pokemon/15/'},\n",
       " {'name': 'pidgey', 'url': 'https://pokeapi.co/api/v2/pokemon/16/'},\n",
       " {'name': 'pidgeotto', 'url': 'https://pokeapi.co/api/v2/pokemon/17/'},\n",
       " {'name': 'pidgeot', 'url': 'https://pokeapi.co/api/v2/pokemon/18/'},\n",
       " {'name': 'rattata', 'url': 'https://pokeapi.co/api/v2/pokemon/19/'},\n",
       " {'name': 'raticate', 'url': 'https://pokeapi.co/api/v2/pokemon/20/'}]"
      ]
     },
     "metadata": {},
     "execution_count": 36
    }
   ],
   "source": [
    "#Ahora lo que quiero obtener es un diccionario a partir de estos datos en el que la clave sea el nombre y el valor el enlace\n",
    "\n",
    "#Voy a contener todos estos resultados en una lista de diccionarios\n",
    "\n",
    "poke = []\n",
    "poke.extend(api_pokemon['results'])\n",
    "poke #Ahora tenemos una lista de diccionarios"
   ]
  },
  {
   "cell_type": "code",
   "execution_count": 37,
   "metadata": {},
   "outputs": [
    {
     "output_type": "execute_result",
     "data": {
      "text/plain": [
       "{'bulbasaur': 'https://pokeapi.co/api/v2/pokemon/1/',\n",
       " 'ivysaur': 'https://pokeapi.co/api/v2/pokemon/2/',\n",
       " 'venusaur': 'https://pokeapi.co/api/v2/pokemon/3/',\n",
       " 'charmander': 'https://pokeapi.co/api/v2/pokemon/4/',\n",
       " 'charmeleon': 'https://pokeapi.co/api/v2/pokemon/5/',\n",
       " 'charizard': 'https://pokeapi.co/api/v2/pokemon/6/',\n",
       " 'squirtle': 'https://pokeapi.co/api/v2/pokemon/7/',\n",
       " 'wartortle': 'https://pokeapi.co/api/v2/pokemon/8/',\n",
       " 'blastoise': 'https://pokeapi.co/api/v2/pokemon/9/',\n",
       " 'caterpie': 'https://pokeapi.co/api/v2/pokemon/10/',\n",
       " 'metapod': 'https://pokeapi.co/api/v2/pokemon/11/',\n",
       " 'butterfree': 'https://pokeapi.co/api/v2/pokemon/12/',\n",
       " 'weedle': 'https://pokeapi.co/api/v2/pokemon/13/',\n",
       " 'kakuna': 'https://pokeapi.co/api/v2/pokemon/14/',\n",
       " 'beedrill': 'https://pokeapi.co/api/v2/pokemon/15/',\n",
       " 'pidgey': 'https://pokeapi.co/api/v2/pokemon/16/',\n",
       " 'pidgeotto': 'https://pokeapi.co/api/v2/pokemon/17/',\n",
       " 'pidgeot': 'https://pokeapi.co/api/v2/pokemon/18/',\n",
       " 'rattata': 'https://pokeapi.co/api/v2/pokemon/19/',\n",
       " 'raticate': 'https://pokeapi.co/api/v2/pokemon/20/'}"
      ]
     },
     "metadata": {},
     "execution_count": 37
    }
   ],
   "source": [
    "diccionario_pokemons_url = {}\n",
    "for i, e in enumerate(poke):\n",
    "    nombre_pokemon = poke[i][\"name\"]\n",
    "    url_pokemon = poke[i][\"url\"]\n",
    "    diccionario_pokemons_url[nombre_pokemon] = url_pokemon\n",
    "\n",
    "diccionario_pokemons_url"
   ]
  },
  {
   "cell_type": "code",
   "execution_count": null,
   "metadata": {},
   "outputs": [],
   "source": [
    "#Ahora ya tenemos un diccionario con el que operar.\n",
    "#El nombre del pokemon es la clave y el enlace el valor\n",
    "nuevo_df = None\n",
    "for poke_nombre, enlace in diccionario_pokemons_url.items():\n",
    "    if \n",
    "    peticion_api_enlace = requests.get(enlace).json() #Así me va a dar todo en json"
   ]
  },
  {
   "cell_type": "code",
   "execution_count": 43,
   "metadata": {},
   "outputs": [
    {
     "output_type": "execute_result",
     "data": {
      "text/plain": [
       "{'name': 'bulbasaur', 'url': 'https://pokeapi.co/api/v2/pokemon/1/'}"
      ]
     },
     "metadata": {},
     "execution_count": 43
    }
   ],
   "source": []
  },
  {
   "cell_type": "code",
   "execution_count": 128,
   "metadata": {},
   "outputs": [
    {
     "output_type": "execute_result",
     "data": {
      "text/plain": [
       "{'bulbasaur': 'https://pokeapi.co/api/v2/pokemon/1/',\n",
       " 'ivysaur': 'https://pokeapi.co/api/v2/pokemon/2/',\n",
       " 'venusaur': 'https://pokeapi.co/api/v2/pokemon/3/',\n",
       " 'charmander': 'https://pokeapi.co/api/v2/pokemon/4/',\n",
       " 'charmeleon': 'https://pokeapi.co/api/v2/pokemon/5/',\n",
       " 'charizard': 'https://pokeapi.co/api/v2/pokemon/6/',\n",
       " 'squirtle': 'https://pokeapi.co/api/v2/pokemon/7/',\n",
       " 'wartortle': 'https://pokeapi.co/api/v2/pokemon/8/',\n",
       " 'blastoise': 'https://pokeapi.co/api/v2/pokemon/9/',\n",
       " 'caterpie': 'https://pokeapi.co/api/v2/pokemon/10/',\n",
       " 'metapod': 'https://pokeapi.co/api/v2/pokemon/11/',\n",
       " 'butterfree': 'https://pokeapi.co/api/v2/pokemon/12/',\n",
       " 'weedle': 'https://pokeapi.co/api/v2/pokemon/13/',\n",
       " 'kakuna': 'https://pokeapi.co/api/v2/pokemon/14/',\n",
       " 'beedrill': 'https://pokeapi.co/api/v2/pokemon/15/',\n",
       " 'pidgey': 'https://pokeapi.co/api/v2/pokemon/16/',\n",
       " 'pidgeotto': 'https://pokeapi.co/api/v2/pokemon/17/',\n",
       " 'pidgeot': 'https://pokeapi.co/api/v2/pokemon/18/',\n",
       " 'rattata': 'https://pokeapi.co/api/v2/pokemon/19/',\n",
       " 'raticate': 'https://pokeapi.co/api/v2/pokemon/20/'}"
      ]
     },
     "metadata": {},
     "execution_count": 128
    }
   ],
   "source": [
    "diccionario_pokemons_url"
   ]
  },
  {
   "cell_type": "code",
   "execution_count": 186,
   "metadata": {},
   "outputs": [],
   "source": [
    "df_definitivo = []\n",
    "for posicion, diccionario in enumerate(diccionario_pokemons_url):\n",
    "    if posicion == 0:\n",
    "        for poke_nombre, enlace in diccionario_pokemons_url.items():\n",
    "            solicitar_enlace_url = requests.get(enlace).json()\n",
    "            df_definitivo.append(solicitar_enlace_url)\n",
    "\n",
    "    else:\n",
    "        for poke_nombre, enlace in diccionario_pokemon_url.items():\n",
    "            solicitar_enlace_url = requests.get(enlace).json()\n",
    "            df_definitivo.append(solicitar_enlace_url)\n",
    "\n",
    "df_pokemon_deseado = pd.DataFrame(df_definitivo, columns=['name', 'url', 'height', 'id', 'order', 'weight', 'types'])\n",
    "\n",
    "df_poke_wish_5 = df_pokemon_deseado.head(5)\n"
   ]
  },
  {
   "cell_type": "code",
   "execution_count": 190,
   "metadata": {},
   "outputs": [
    {
     "output_type": "execute_result",
     "data": {
      "text/plain": [
       "   slot                                               type\n",
       "0     1  {'name': 'grass', 'url': 'https://pokeapi.co/a...\n",
       "0     2  {'name': 'poison', 'url': 'https://pokeapi.co/...\n",
       "1     1  {'name': 'grass', 'url': 'https://pokeapi.co/a...\n",
       "1     2  {'name': 'poison', 'url': 'https://pokeapi.co/...\n",
       "2     1  {'name': 'grass', 'url': 'https://pokeapi.co/a...\n",
       "2     2  {'name': 'poison', 'url': 'https://pokeapi.co/...\n",
       "3     1  {'name': 'fire', 'url': 'https://pokeapi.co/ap...\n",
       "4     1  {'name': 'fire', 'url': 'https://pokeapi.co/ap..."
      ],
      "text/html": "<div>\n<style scoped>\n    .dataframe tbody tr th:only-of-type {\n        vertical-align: middle;\n    }\n\n    .dataframe tbody tr th {\n        vertical-align: top;\n    }\n\n    .dataframe thead th {\n        text-align: right;\n    }\n</style>\n<table border=\"1\" class=\"dataframe\">\n  <thead>\n    <tr style=\"text-align: right;\">\n      <th></th>\n      <th>slot</th>\n      <th>type</th>\n    </tr>\n  </thead>\n  <tbody>\n    <tr>\n      <th>0</th>\n      <td>1</td>\n      <td>{'name': 'grass', 'url': 'https://pokeapi.co/a...</td>\n    </tr>\n    <tr>\n      <th>0</th>\n      <td>2</td>\n      <td>{'name': 'poison', 'url': 'https://pokeapi.co/...</td>\n    </tr>\n    <tr>\n      <th>1</th>\n      <td>1</td>\n      <td>{'name': 'grass', 'url': 'https://pokeapi.co/a...</td>\n    </tr>\n    <tr>\n      <th>1</th>\n      <td>2</td>\n      <td>{'name': 'poison', 'url': 'https://pokeapi.co/...</td>\n    </tr>\n    <tr>\n      <th>2</th>\n      <td>1</td>\n      <td>{'name': 'grass', 'url': 'https://pokeapi.co/a...</td>\n    </tr>\n    <tr>\n      <th>2</th>\n      <td>2</td>\n      <td>{'name': 'poison', 'url': 'https://pokeapi.co/...</td>\n    </tr>\n    <tr>\n      <th>3</th>\n      <td>1</td>\n      <td>{'name': 'fire', 'url': 'https://pokeapi.co/ap...</td>\n    </tr>\n    <tr>\n      <th>4</th>\n      <td>1</td>\n      <td>{'name': 'fire', 'url': 'https://pokeapi.co/ap...</td>\n    </tr>\n  </tbody>\n</table>\n</div>"
     },
     "metadata": {},
     "execution_count": 190
    }
   ],
   "source": [
    "df_poke_wish_5.explode('types')\n",
    "\n",
    "df"
   ]
  },
  {
   "cell_type": "code",
   "execution_count": null,
   "metadata": {},
   "outputs": [],
   "source": []
  },
  {
   "cell_type": "code",
   "execution_count": 182,
   "metadata": {},
   "outputs": [
    {
     "output_type": "execute_result",
     "data": {
      "text/plain": [
       "pandas.core.series.Series"
      ]
     },
     "metadata": {},
     "execution_count": 182
    }
   ],
   "source": [
    "df_tipos_pokemon = pd.DataFrame(df_pokemon_deseado['types'])\n",
    "\n",
    "df_ultimate = None\n",
    "for posicion, elemento in enumerate(df_pokemon_deseado['types']):\n",
    "    if posicion == 0:\n",
    "        df_ultimate = pd.DataFrame(elemento)\n",
    "    else:\n",
    "        df_ultimate = pd.concat([df_definitivo, pd.DataFrame(elemento)], axis=0)\n",
    "\n",
    "type(df_ultimate['type'])\n",
    "\n",
    "with open('finalisima_data.json', 'w+') as f:\n",
    "    json.dump(df_ultimate['type'], f, indent=2)"
   ]
  },
  {
   "cell_type": "code",
   "execution_count": null,
   "metadata": {},
   "outputs": [],
   "source": []
  },
  {
   "cell_type": "code",
   "execution_count": null,
   "metadata": {},
   "outputs": [],
   "source": []
  },
  {
   "cell_type": "code",
   "execution_count": 180,
   "metadata": {},
   "outputs": [
    {
     "output_type": "execute_result",
     "data": {
      "text/plain": [
       "pandas.core.series.Series"
      ]
     },
     "metadata": {},
     "execution_count": 180
    }
   ],
   "source": [
    "df_definitivo = None\n",
    "\n",
    "for i , c in enumerate(df_pokemon_deseado['types']):\n",
    "    if i == 0:\n",
    "        df_definitivo = pd.DataFrame(c)\n",
    "    else:\n",
    "        df_definitivo = pd.concat([df_definitivo, pd.DataFrame(c)], axis=0)\n",
    "    \n",
    "pd.DataFrame(df_definitivo['type'])\n",
    "type(df_definitivo['type'])\n",
    "\n",
    "with open('datos_finales.json', 'w+') as f:\n",
    "    json.dump()"
   ]
  },
  {
   "cell_type": "code",
   "execution_count": 136,
   "metadata": {},
   "outputs": [
    {
     "output_type": "execute_result",
     "data": {
      "text/plain": [
       "   slot                                               type\n",
       "0     1  {'name': 'normal', 'url': 'https://pokeapi.co/..."
      ],
      "text/html": "<div>\n<style scoped>\n    .dataframe tbody tr th:only-of-type {\n        vertical-align: middle;\n    }\n\n    .dataframe tbody tr th {\n        vertical-align: top;\n    }\n\n    .dataframe thead th {\n        text-align: right;\n    }\n</style>\n<table border=\"1\" class=\"dataframe\">\n  <thead>\n    <tr style=\"text-align: right;\">\n      <th></th>\n      <th>slot</th>\n      <th>type</th>\n    </tr>\n  </thead>\n  <tbody>\n    <tr>\n      <th>0</th>\n      <td>1</td>\n      <td>{'name': 'normal', 'url': 'https://pokeapi.co/...</td>\n    </tr>\n  </tbody>\n</table>\n</div>"
     },
     "metadata": {},
     "execution_count": 136
    }
   ],
   "source": [
    "df_definitivo = []\n",
    "for posicion, diccionario in enumerate(diccionario_pokemons_url):\n",
    "    \n",
    "    if posicion == 0:\n",
    "        for poke_nombre, enlace in diccionario_pokemons_url.items():\n",
    "            solicitar_enlace_url = requests.get(enlace).json()\n",
    "            df_definitivo = pd.DataFrame(solicitar_enlace_url['types'])\n",
    "    else:\n",
    "        for poke_nombre, enlace in diccionario_pokemon_url.items():\n",
    "            #Aquí hay que hacer un concat al 10000%\n",
    "            #df_definitivo = pd.concat([])\n",
    "            print('hola')\n",
    "            solicitar_enlace_url = requests.get(enlace).json()\n",
    "            df_definitivo = pd.concat([df_definitivo, solicitar_enlace_url], axis=1)\n",
    "\n",
    "df_definitivo\n"
   ]
  },
  {
   "cell_type": "code",
   "execution_count": null,
   "metadata": {},
   "outputs": [],
   "source": [
    "df_definitivo = None\n",
    "for posicion, diccionario in enumerate(diccionario_pokemons_url):\n",
    "    for poke_nombre, enlace in diccionario_pokemons_url.items():\n",
    "        solicitar_enlace_url = requests.get(enlace).json()\n",
    "        df_definitivo = pd.DataFrame(solicitar_enlace_url['types'])\n",
    "    for poke_nombre, enlace in diccionario_pokemon_url.items():\n",
    "    #Aquí hay que hacer un concat al 10000%\n",
    "    #df_definitivo = pd.concat([])\n",
    "        print('hola')\n",
    "        solicitar_enlace_url = requests.get(enlace).json()\n",
    "        df_definitivo = pd.concat([df_definitivo, solicitar_enlace_url], axis=1)\n",
    "\n",
    "df_definitivo\n"
   ]
  },
  {
   "cell_type": "code",
   "execution_count": 141,
   "metadata": {},
   "outputs": [
    {
     "output_type": "execute_result",
     "data": {
      "text/plain": [
       "{'bulbasaur': 'https://pokeapi.co/api/v2/pokemon/1/',\n",
       " 'ivysaur': 'https://pokeapi.co/api/v2/pokemon/2/',\n",
       " 'venusaur': 'https://pokeapi.co/api/v2/pokemon/3/',\n",
       " 'charmander': 'https://pokeapi.co/api/v2/pokemon/4/',\n",
       " 'charmeleon': 'https://pokeapi.co/api/v2/pokemon/5/',\n",
       " 'charizard': 'https://pokeapi.co/api/v2/pokemon/6/',\n",
       " 'squirtle': 'https://pokeapi.co/api/v2/pokemon/7/',\n",
       " 'wartortle': 'https://pokeapi.co/api/v2/pokemon/8/',\n",
       " 'blastoise': 'https://pokeapi.co/api/v2/pokemon/9/',\n",
       " 'caterpie': 'https://pokeapi.co/api/v2/pokemon/10/',\n",
       " 'metapod': 'https://pokeapi.co/api/v2/pokemon/11/',\n",
       " 'butterfree': 'https://pokeapi.co/api/v2/pokemon/12/',\n",
       " 'weedle': 'https://pokeapi.co/api/v2/pokemon/13/',\n",
       " 'kakuna': 'https://pokeapi.co/api/v2/pokemon/14/',\n",
       " 'beedrill': 'https://pokeapi.co/api/v2/pokemon/15/',\n",
       " 'pidgey': 'https://pokeapi.co/api/v2/pokemon/16/',\n",
       " 'pidgeotto': 'https://pokeapi.co/api/v2/pokemon/17/',\n",
       " 'pidgeot': 'https://pokeapi.co/api/v2/pokemon/18/',\n",
       " 'rattata': 'https://pokeapi.co/api/v2/pokemon/19/',\n",
       " 'raticate': 'https://pokeapi.co/api/v2/pokemon/20/'}"
      ]
     },
     "metadata": {},
     "execution_count": 141
    }
   ],
   "source": [
    "diccionario_pokemons_url"
   ]
  },
  {
   "cell_type": "code",
   "execution_count": null,
   "metadata": {},
   "outputs": [],
   "source": []
  },
  {
   "cell_type": "code",
   "execution_count": null,
   "metadata": {},
   "outputs": [],
   "source": []
  }
 ]
}