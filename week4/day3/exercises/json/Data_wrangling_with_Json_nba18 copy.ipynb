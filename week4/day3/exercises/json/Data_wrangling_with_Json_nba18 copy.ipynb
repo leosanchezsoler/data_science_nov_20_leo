{
 "cells": [
  {
   "cell_type": "markdown",
   "metadata": {},
   "source": [
    "## Working on Jsons"
   ]
  },
  {
   "cell_type": "code",
   "execution_count": 1,
   "metadata": {},
   "outputs": [],
   "source": [
    "import requests\n",
    "import json\n",
    "import pandas as pd"
   ]
  },
  {
   "cell_type": "code",
   "execution_count": 2,
   "metadata": {
    "tags": []
   },
   "outputs": [],
   "source": [
    "r = requests.get(url='http://data.nba.net/prod/v2/2018/teams.json')\n",
    "json_readed = json.loads(r.text)"
   ]
  },
  {
   "cell_type": "code",
   "execution_count": 71,
   "metadata": {
    "tags": []
   },
   "outputs": [],
   "source": [
    "#print(json_readed)"
   ]
  },
  {
   "cell_type": "markdown",
   "metadata": {},
   "source": [
    "### Data Mining & Data Wrangling\n",
    "As you can see, there are jsons inside the original json. For that, we have to mining the json (data mining) to be able to use it correctly (data wrangling). \n",
    "\n",
    "How do you solve this issue? Research about this and try a solution. "
   ]
  },
  {
   "cell_type": "code",
   "execution_count": 3,
   "metadata": {},
   "outputs": [
    {
     "output_type": "stream",
     "name": "stdout",
     "text": [
      "{'_internal': {'pubDateTime': '2018-08-30 20:00:04.422', 'xslt': 'xsl/league/roster/marty_teams_list.xsl', 'eventName': 'league_roster'}, 'league': {'standard': [{'isNBAFranchise': False, 'isAllStar': True, 'city': 'USA', 'altCityName': 'USA', 'fullName': 'USA', 'tricode': 'USA', 'teamId': '1610616843', 'nickname': 'USA', 'urlName': 'usa', 'confName': 'East', 'divName': 'East'}, {'isNBAFranchise': False, 'isAllStar': True, 'city': 'World', 'altCityName': 'World', 'fullName': 'World', 'tricode': 'WLD', 'teamId': '1610616844', 'nickname': 'World', 'urlName': 'world', 'confName': 'East', 'divName': 'East'}, {'isNBAFranchise': False, 'isAllStar': True, 'city': 'Team', 'altCityName': 'Team', 'fullName': 'All-Stars', 'tricode': 'EST', 'teamId': '1699999999', 'nickname': 'All-Stars', 'urlName': 'assn_away', 'confName': 'East', 'divName': 'East'}, {'isNBAFranchise': False, 'isAllStar': True, 'city': 'Team', 'altCityName': 'Team', 'fullName': 'All-Stars', 'tricode': 'WST', 'teamId': '1699999998', 'nickname': 'All-Stars', 'urlName': 'assn_home', 'confName': 'West', 'divName': 'West'}, {'isNBAFranchise': False, 'isAllStar': True, 'city': 'Team Giannis', 'altCityName': 'Team Giannis', 'fullName': 'Team Giannis', 'tricode': 'GNS', 'teamId': '1610616833', 'nickname': 'Team Giannis', 'urlName': 'team_giannis', 'confName': 'East', 'divName': 'East'}, {'isNBAFranchise': False, 'isAllStar': True, 'city': 'Team LeBron', 'altCityName': 'Team LeBron', 'fullName': 'Team LeBron', 'tricode': 'LBN', 'teamId': '1610616834', 'nickname': 'Team LeBron', 'urlName': 'team_lebron', 'confName': 'West', 'divName': 'West'}, {'isNBAFranchise': False, 'isAllStar': False, 'city': 'Team', 'altCityName': 'Team', 'fullName': 'Team Africa', 'tricode': 'AFR', 'teamId': '12326', 'nickname': 'Africa', 'urlName': 'africa', 'confName': '', 'divName': ''}, {'isNBAFranchise': False, 'isAllStar': False, 'city': 'Team', 'altCityName': 'Team', 'fullName': 'Team World', 'tricode': 'WLD', 'teamId': '12327', 'nickname': 'World', 'urlName': 'world', 'confName': '', 'divName': ''}, {'isNBAFranchise': False, 'isAllStar': False, 'city': 'Adelaide', 'altCityName': 'Adelaide', 'fullName': 'Adelaide 36ers', 'tricode': 'ADL', 'teamId': '15019', 'nickname': '36ers', 'urlName': '36ers', 'confName': 'Intl', 'divName': ''}, {'isNBAFranchise': True, 'isAllStar': False, 'city': 'Atlanta', 'altCityName': 'Atlanta', 'fullName': 'Atlanta Hawks', 'tricode': 'ATL', 'teamId': '1610612737', 'nickname': 'Hawks', 'urlName': 'hawks', 'confName': 'East', 'divName': 'Southeast'}, {'isNBAFranchise': False, 'isAllStar': False, 'city': 'Beijing', 'altCityName': 'Beijing', 'fullName': 'Beijing Ducks', 'tricode': 'BJD', 'teamId': '15021', 'nickname': 'Ducks', 'urlName': 'ducks', 'confName': 'Intl', 'divName': ''}, {'isNBAFranchise': True, 'isAllStar': False, 'city': 'Boston', 'altCityName': 'Boston', 'fullName': 'Boston Celtics', 'tricode': 'BOS', 'teamId': '1610612738', 'nickname': 'Celtics', 'urlName': 'celtics', 'confName': 'East', 'divName': 'Atlantic'}, {'isNBAFranchise': True, 'isAllStar': False, 'city': 'Brooklyn', 'altCityName': 'Brooklyn', 'fullName': 'Brooklyn Nets', 'tricode': 'BKN', 'teamId': '1610612751', 'nickname': 'Nets', 'urlName': 'nets', 'confName': 'East', 'divName': 'Atlantic'}, {'isNBAFranchise': True, 'isAllStar': False, 'city': 'Charlotte', 'altCityName': 'Charlotte', 'fullName': 'Charlotte Hornets', 'tricode': 'CHA', 'teamId': '1610612766', 'nickname': 'Hornets', 'urlName': 'hornets', 'confName': 'East', 'divName': 'Southeast'}, {'isNBAFranchise': True, 'isAllStar': False, 'city': 'Chicago', 'altCityName': 'Chicago', 'fullName': 'Chicago Bulls', 'tricode': 'CHI', 'teamId': '1610612741', 'nickname': 'Bulls', 'urlName': 'bulls', 'confName': 'East', 'divName': 'Central'}, {'isNBAFranchise': True, 'isAllStar': False, 'city': 'Cleveland', 'altCityName': 'Cleveland', 'fullName': 'Cleveland Cavaliers', 'tricode': 'CLE', 'teamId': '1610612739', 'nickname': 'Cavaliers', 'urlName': 'cavaliers', 'confName': 'East', 'divName': 'Central'}, {'isNBAFranchise': True, 'isAllStar': False, 'city': 'Dallas', 'altCityName': 'Dallas', 'fullName': 'Dallas Mavericks', 'tricode': 'DAL', 'teamId': '1610612742', 'nickname': 'Mavericks', 'urlName': 'mavericks', 'confName': 'West', 'divName': 'Southwest'}, {'isNBAFranchise': True, 'isAllStar': False, 'city': 'Denver', 'altCityName': 'Denver', 'fullName': 'Denver Nuggets', 'tricode': 'DEN', 'teamId': '1610612743', 'nickname': 'Nuggets', 'urlName': 'nuggets', 'confName': 'West', 'divName': 'Northwest'}, {'isNBAFranchise': True, 'isAllStar': False, 'city': 'Detroit', 'altCityName': 'Detroit', 'fullName': 'Detroit Pistons', 'tricode': 'DET', 'teamId': '1610612765', 'nickname': 'Pistons', 'urlName': 'pistons', 'confName': 'East', 'divName': 'Central'}, {'isNBAFranchise': True, 'isAllStar': False, 'city': 'Golden State', 'altCityName': 'Golden State', 'fullName': 'Golden State Warriors', 'tricode': 'GSW', 'teamId': '1610612744', 'nickname': 'Warriors', 'urlName': 'warriors', 'confName': 'West', 'divName': 'Pacific'}, {'isNBAFranchise': False, 'isAllStar': False, 'city': 'Guangzhou', 'altCityName': 'Guangzhou', 'fullName': 'Guangzhou Long-Lions', 'tricode': 'GUA', 'teamId': '15018', 'nickname': 'Long-Lions', 'urlName': 'long-lions', 'confName': 'Intl', 'divName': ''}, {'isNBAFranchise': False, 'isAllStar': False, 'city': 'Haifa', 'altCityName': 'Haifa', 'fullName': 'Maccabi Haifa', 'tricode': 'MAC', 'teamId': '93', 'nickname': 'Maccabi Haifa', 'urlName': 'maccabi_haifa', 'confName': 'Intl', 'divName': ''}, {'isNBAFranchise': True, 'isAllStar': False, 'city': 'Houston', 'altCityName': 'Houston', 'fullName': 'Houston Rockets', 'tricode': 'HOU', 'teamId': '1610612745', 'nickname': 'Rockets', 'urlName': 'rockets', 'confName': 'West', 'divName': 'Southwest'}, {'isNBAFranchise': True, 'isAllStar': False, 'city': 'Indiana', 'altCityName': 'Indiana', 'fullName': 'Indiana Pacers', 'tricode': 'IND', 'teamId': '1610612754', 'nickname': 'Pacers', 'urlName': 'pacers', 'confName': 'East', 'divName': 'Central'}, {'isNBAFranchise': True, 'isAllStar': False, 'city': 'LA', 'altCityName': 'LA Clippers', 'fullName': 'LA Clippers', 'tricode': 'LAC', 'teamId': '1610612746', 'nickname': 'Clippers', 'urlName': 'clippers', 'confName': 'West', 'divName': 'Pacific'}, {'isNBAFranchise': True, 'isAllStar': False, 'city': 'Los Angeles', 'altCityName': 'Los Angeles Lakers', 'fullName': 'Los Angeles Lakers', 'tricode': 'LAL', 'teamId': '1610612747', 'nickname': 'Lakers', 'urlName': 'lakers', 'confName': 'West', 'divName': 'Pacific'}, {'isNBAFranchise': False, 'isAllStar': False, 'city': 'Melbourne', 'altCityName': 'Melbourne', 'fullName': 'Melbourne United', 'tricode': 'MEL', 'teamId': '15016', 'nickname': 'United', 'urlName': 'united', 'confName': 'Intl', 'divName': ''}, {'isNBAFranchise': True, 'isAllStar': False, 'city': 'Memphis', 'altCityName': 'Memphis', 'fullName': 'Memphis Grizzlies', 'tricode': 'MEM', 'teamId': '1610612763', 'nickname': 'Grizzlies', 'urlName': 'grizzlies', 'confName': 'West', 'divName': 'Southwest'}, {'isNBAFranchise': True, 'isAllStar': False, 'city': 'Miami', 'altCityName': 'Miami', 'fullName': 'Miami Heat', 'tricode': 'MIA', 'teamId': '1610612748', 'nickname': 'Heat', 'urlName': 'heat', 'confName': 'East', 'divName': 'Southeast'}, {'isNBAFranchise': True, 'isAllStar': False, 'city': 'Milwaukee', 'altCityName': 'Milwaukee', 'fullName': 'Milwaukee Bucks', 'tricode': 'MIL', 'teamId': '1610612749', 'nickname': 'Bucks', 'urlName': 'bucks', 'confName': 'East', 'divName': 'Central'}, {'isNBAFranchise': True, 'isAllStar': False, 'city': 'Minnesota', 'altCityName': 'Minnesota', 'fullName': 'Minnesota Timberwolves', 'tricode': 'MIN', 'teamId': '1610612750', 'nickname': 'Timberwolves', 'urlName': 'timberwolves', 'confName': 'West', 'divName': 'Northwest'}, {'isNBAFranchise': True, 'isAllStar': False, 'city': 'New Orleans', 'altCityName': 'New Orleans', 'fullName': 'New Orleans Pelicans', 'tricode': 'NOP', 'teamId': '1610612740', 'nickname': 'Pelicans', 'urlName': 'pelicans', 'confName': 'West', 'divName': 'Southwest'}, {'isNBAFranchise': True, 'isAllStar': False, 'city': 'New York', 'altCityName': 'New York', 'fullName': 'New York Knicks', 'tricode': 'NYK', 'teamId': '1610612752', 'nickname': 'Knicks', 'urlName': 'knicks', 'confName': 'East', 'divName': 'Atlantic'}, {'isNBAFranchise': False, 'isAllStar': False, 'city': 'New Zealand', 'altCityName': 'New Zealand', 'fullName': 'New Zealand Breakers', 'tricode': 'NZB', 'teamId': '15020', 'nickname': 'Breakers', 'urlName': 'breakers', 'confName': 'Intl', 'divName': ''}, {'isNBAFranchise': True, 'isAllStar': False, 'city': 'Oklahoma City', 'altCityName': 'Oklahoma City', 'fullName': 'Oklahoma City Thunder', 'tricode': 'OKC', 'teamId': '1610612760', 'nickname': 'Thunder', 'urlName': 'thunder', 'confName': 'West', 'divName': 'Northwest'}, {'isNBAFranchise': True, 'isAllStar': False, 'city': 'Orlando', 'altCityName': 'Orlando', 'fullName': 'Orlando Magic', 'tricode': 'ORL', 'teamId': '1610612753', 'nickname': 'Magic', 'urlName': 'magic', 'confName': 'East', 'divName': 'Southeast'}, {'isNBAFranchise': False, 'isAllStar': False, 'city': 'Perth', 'altCityName': 'Perth', 'fullName': 'Perth Wildcats', 'tricode': 'PER', 'teamId': '104', 'nickname': 'Wildcats', 'urlName': 'wildcats', 'confName': 'Intl', 'divName': ''}, {'isNBAFranchise': True, 'isAllStar': False, 'city': 'Philadelphia', 'altCityName': 'Philadelphia', 'fullName': 'Philadelphia 76ers', 'tricode': 'PHI', 'teamId': '1610612755', 'nickname': '76ers', 'urlName': 'sixers', 'confName': 'East', 'divName': 'Atlantic'}, {'isNBAFranchise': True, 'isAllStar': False, 'city': 'Phoenix', 'altCityName': 'Phoenix', 'fullName': 'Phoenix Suns', 'tricode': 'PHX', 'teamId': '1610612756', 'nickname': 'Suns', 'urlName': 'suns', 'confName': 'West', 'divName': 'Pacific'}, {'isNBAFranchise': True, 'isAllStar': False, 'city': 'Portland', 'altCityName': 'Portland', 'fullName': 'Portland Trail Blazers', 'tricode': 'POR', 'teamId': '1610612757', 'nickname': 'Trail Blazers', 'urlName': 'blazers', 'confName': 'West', 'divName': 'Northwest'}, {'isNBAFranchise': False, 'isAllStar': False, 'city': 'Rio de Janeiro', 'altCityName': 'Rio de Janeiro', 'fullName': 'Rio de Janeiro Flamengo', 'tricode': 'FLA', 'teamId': '12325', 'nickname': 'Flamengo', 'urlName': 'flamengo', 'confName': 'Intl', 'divName': ''}, {'isNBAFranchise': True, 'isAllStar': False, 'city': 'Sacramento', 'altCityName': 'Sacramento', 'fullName': 'Sacramento Kings', 'tricode': 'SAC', 'teamId': '1610612758', 'nickname': 'Kings', 'urlName': 'kings', 'confName': 'West', 'divName': 'Pacific'}, {'isNBAFranchise': True, 'isAllStar': False, 'city': 'San Antonio', 'altCityName': 'San Antonio', 'fullName': 'San Antonio Spurs', 'tricode': 'SAS', 'teamId': '1610612759', 'nickname': 'Spurs', 'urlName': 'spurs', 'confName': 'West', 'divName': 'Southwest'}, {'isNBAFranchise': False, 'isAllStar': False, 'city': 'Shanghai', 'altCityName': 'Shanghai', 'fullName': 'Shanghai Sharks', 'tricode': 'SDS', 'teamId': '12329', 'nickname': 'Shanghai Sharks', 'urlName': 'shanghai_sharks', 'confName': 'Intl', 'divName': ''}, {'isNBAFranchise': False, 'isAllStar': False, 'city': 'Sydney', 'altCityName': 'Sydney', 'fullName': 'Sydney Kings', 'tricode': 'SYD', 'teamId': '15015', 'nickname': 'Kings', 'urlName': 'kings', 'confName': 'Intl', 'divName': ''}, {'isNBAFranchise': True, 'isAllStar': False, 'city': 'Toronto', 'altCityName': 'Toronto', 'fullName': 'Toronto Raptors', 'tricode': 'TOR', 'teamId': '1610612761', 'nickname': 'Raptors', 'urlName': 'raptors', 'confName': 'East', 'divName': 'Atlantic'}, {'isNBAFranchise': True, 'isAllStar': False, 'city': 'Utah', 'altCityName': 'Utah', 'fullName': 'Utah Jazz', 'tricode': 'UTA', 'teamId': '1610612762', 'nickname': 'Jazz', 'urlName': 'jazz', 'confName': 'West', 'divName': 'Northwest'}, {'isNBAFranchise': True, 'isAllStar': False, 'city': 'Washington', 'altCityName': 'Washington', 'fullName': 'Washington Wizards', 'tricode': 'WAS', 'teamId': '1610612764', 'nickname': 'Wizards', 'urlName': 'wizards', 'confName': 'East', 'divName': 'Southeast'}], 'africa': [{'isNBAFranchise': False, 'isAllStar': False, 'city': 'Team', 'altCityName': 'Team', 'fullName': 'Team Africa', 'tricode': 'AFR', 'teamId': '12326', 'nickname': 'Africa', 'urlName': 'africa', 'confName': '', 'divName': ''}, {'isNBAFranchise': False, 'isAllStar': False, 'city': 'Team', 'altCityName': 'Team', 'fullName': 'Team World', 'tricode': 'WLD', 'teamId': '12327', 'nickname': 'World', 'urlName': 'world', 'confName': '', 'divName': ''}], 'sacramento': [{'isNBAFranchise': True, 'isAllStar': False, 'city': 'Golden State', 'altCityName': 'Golden State', 'fullName': 'Golden State Warriors', 'tricode': 'GSW', 'teamId': '1610612744', 'nickname': 'Warriors', 'urlName': 'warriors', 'confName': 'Sacramento', 'divName': ''}, {'isNBAFranchise': True, 'isAllStar': False, 'city': 'Los Angeles', 'altCityName': 'Los Angeles Lakers', 'fullName': 'Los Angeles Lakers', 'tricode': 'LAL', 'teamId': '1610612747', 'nickname': 'Lakers', 'urlName': 'lakers', 'confName': 'Sacramento', 'divName': ''}, {'isNBAFranchise': True, 'isAllStar': False, 'city': 'Miami', 'altCityName': 'Miami', 'fullName': 'Miami Heat', 'tricode': 'MIA', 'teamId': '1610612748', 'nickname': 'Heat', 'urlName': 'heat', 'confName': 'Sacramento', 'divName': ''}, {'isNBAFranchise': True, 'isAllStar': False, 'city': 'Sacramento', 'altCityName': 'Sacramento', 'fullName': 'Sacramento Kings', 'tricode': 'SAC', 'teamId': '1610612758', 'nickname': 'Kings', 'urlName': 'kings', 'confName': 'Sacramento', 'divName': ''}], 'vegas': [{'isNBAFranchise': True, 'isAllStar': False, 'city': 'Atlanta', 'altCityName': 'Atlanta', 'fullName': 'Atlanta Hawks', 'tricode': 'ATL', 'teamId': '1610612737', 'nickname': 'Hawks', 'urlName': 'hawks', 'confName': 'summer', 'divName': ''}, {'isNBAFranchise': True, 'isAllStar': False, 'city': 'Boston', 'altCityName': 'Boston', 'fullName': 'Boston Celtics', 'tricode': 'BOS', 'teamId': '1610612738', 'nickname': 'Celtics', 'urlName': 'celtics', 'confName': 'summer', 'divName': ''}, {'isNBAFranchise': True, 'isAllStar': False, 'city': 'Brooklyn', 'altCityName': 'Brooklyn', 'fullName': 'Brooklyn Nets', 'tricode': 'BKN', 'teamId': '1610612751', 'nickname': 'Nets', 'urlName': 'nets', 'confName': 'summer', 'divName': ''}, {'isNBAFranchise': True, 'isAllStar': False, 'city': 'Charlotte', 'altCityName': 'Charlotte', 'fullName': 'Charlotte Hornets', 'tricode': 'CHA', 'teamId': '1610612766', 'nickname': 'Hornets', 'urlName': 'hornets', 'confName': 'summer', 'divName': ''}, {'isNBAFranchise': True, 'isAllStar': False, 'city': 'Chicago', 'altCityName': 'Chicago', 'fullName': 'Chicago Bulls', 'tricode': 'CHI', 'teamId': '1610612741', 'nickname': 'Bulls', 'urlName': 'bulls', 'confName': 'summer', 'divName': ''}, {'isNBAFranchise': True, 'isAllStar': False, 'city': 'Cleveland', 'altCityName': 'Cleveland', 'fullName': 'Cleveland Cavaliers', 'tricode': 'CLE', 'teamId': '1610612739', 'nickname': 'Cavaliers', 'urlName': 'cavaliers', 'confName': 'summer', 'divName': ''}, {'isNBAFranchise': True, 'isAllStar': False, 'city': 'Dallas', 'altCityName': 'Dallas', 'fullName': 'Dallas Mavericks', 'tricode': 'DAL', 'teamId': '1610612742', 'nickname': 'Mavericks', 'urlName': 'mavericks', 'confName': 'summer', 'divName': ''}, {'isNBAFranchise': True, 'isAllStar': False, 'city': 'Denver', 'altCityName': 'Denver', 'fullName': 'Denver Nuggets', 'tricode': 'DEN', 'teamId': '1610612743', 'nickname': 'Nuggets', 'urlName': 'nuggets', 'confName': 'summer', 'divName': ''}, {'isNBAFranchise': True, 'isAllStar': False, 'city': 'Detroit', 'altCityName': 'Detroit', 'fullName': 'Detroit Pistons', 'tricode': 'DET', 'teamId': '1610612765', 'nickname': 'Pistons', 'urlName': 'pistons', 'confName': 'summer', 'divName': ''}, {'isNBAFranchise': True, 'isAllStar': False, 'city': 'Golden State', 'altCityName': 'Golden State', 'fullName': 'Golden State Warriors', 'tricode': 'GSW', 'teamId': '1610612744', 'nickname': 'Warriors', 'urlName': 'warriors', 'confName': 'summer', 'divName': ''}, {'isNBAFranchise': True, 'isAllStar': False, 'city': 'Houston', 'altCityName': 'Houston', 'fullName': 'Houston Rockets', 'tricode': 'HOU', 'teamId': '1610612745', 'nickname': 'Rockets', 'urlName': 'rockets', 'confName': 'summer', 'divName': ''}, {'isNBAFranchise': True, 'isAllStar': False, 'city': 'Indiana', 'altCityName': 'Indiana', 'fullName': 'Indiana Pacers', 'tricode': 'IND', 'teamId': '1610612754', 'nickname': 'Pacers', 'urlName': 'pacers', 'confName': 'summer', 'divName': ''}, {'isNBAFranchise': True, 'isAllStar': False, 'city': 'LA', 'altCityName': 'LA Clippers', 'fullName': 'LA Clippers', 'tricode': 'LAC', 'teamId': '1610612746', 'nickname': 'Clippers', 'urlName': 'clippers', 'confName': 'summer', 'divName': ''}, {'isNBAFranchise': True, 'isAllStar': False, 'city': 'Los Angeles', 'altCityName': 'Los Angeles Lakers', 'fullName': 'Los Angeles Lakers', 'tricode': 'LAL', 'teamId': '1610612747', 'nickname': 'Lakers', 'urlName': 'lakers', 'confName': 'summer', 'divName': ''}, {'isNBAFranchise': True, 'isAllStar': False, 'city': 'Memphis', 'altCityName': 'Memphis', 'fullName': 'Memphis Grizzlies', 'tricode': 'MEM', 'teamId': '1610612763', 'nickname': 'Grizzlies', 'urlName': 'grizzlies', 'confName': 'summer', 'divName': ''}, {'isNBAFranchise': True, 'isAllStar': False, 'city': 'Miami', 'altCityName': 'Miami', 'fullName': 'Miami Heat', 'tricode': 'MIA', 'teamId': '1610612748', 'nickname': 'Heat', 'urlName': 'heat', 'confName': 'summer', 'divName': ''}, {'isNBAFranchise': True, 'isAllStar': False, 'city': 'Milwaukee', 'altCityName': 'Milwaukee', 'fullName': 'Milwaukee Bucks', 'tricode': 'MIL', 'teamId': '1610612749', 'nickname': 'Bucks', 'urlName': 'bucks', 'confName': 'summer', 'divName': ''}, {'isNBAFranchise': True, 'isAllStar': False, 'city': 'Minnesota', 'altCityName': 'Minnesota', 'fullName': 'Minnesota Timberwolves', 'tricode': 'MIN', 'teamId': '1610612750', 'nickname': 'Timberwolves', 'urlName': 'timberwolves', 'confName': 'summer', 'divName': ''}, {'isNBAFranchise': True, 'isAllStar': False, 'city': 'New Orleans', 'altCityName': 'New Orleans', 'fullName': 'New Orleans Pelicans', 'tricode': 'NOP', 'teamId': '1610612740', 'nickname': 'Pelicans', 'urlName': 'pelicans', 'confName': 'summer', 'divName': ''}, {'isNBAFranchise': True, 'isAllStar': False, 'city': 'New York', 'altCityName': 'New York', 'fullName': 'New York Knicks', 'tricode': 'NYK', 'teamId': '1610612752', 'nickname': 'Knicks', 'urlName': 'knicks', 'confName': 'summer', 'divName': ''}, {'isNBAFranchise': True, 'isAllStar': False, 'city': 'Oklahoma City', 'altCityName': 'Oklahoma City', 'fullName': 'Oklahoma City Thunder', 'tricode': 'OKC', 'teamId': '1610612760', 'nickname': 'Thunder', 'urlName': 'thunder', 'confName': 'summer', 'divName': ''}, {'isNBAFranchise': True, 'isAllStar': False, 'city': 'Orlando', 'altCityName': 'Orlando', 'fullName': 'Orlando Magic', 'tricode': 'ORL', 'teamId': '1610612753', 'nickname': 'Magic', 'urlName': 'magic', 'confName': 'summer', 'divName': ''}, {'isNBAFranchise': True, 'isAllStar': False, 'city': 'Philadelphia', 'altCityName': 'Philadelphia', 'fullName': 'Philadelphia 76ers', 'tricode': 'PHI', 'teamId': '1610612755', 'nickname': '76ers', 'urlName': 'sixers', 'confName': 'summer', 'divName': ''}, {'isNBAFranchise': True, 'isAllStar': False, 'city': 'Phoenix', 'altCityName': 'Phoenix', 'fullName': 'Phoenix Suns', 'tricode': 'PHX', 'teamId': '1610612756', 'nickname': 'Suns', 'urlName': 'suns', 'confName': 'summer', 'divName': ''}, {'isNBAFranchise': True, 'isAllStar': False, 'city': 'Portland', 'altCityName': 'Portland', 'fullName': 'Portland Trail Blazers', 'tricode': 'POR', 'teamId': '1610612757', 'nickname': 'Trail Blazers', 'urlName': 'blazers', 'confName': 'summer', 'divName': ''}, {'isNBAFranchise': True, 'isAllStar': False, 'city': 'Sacramento', 'altCityName': 'Sacramento', 'fullName': 'Sacramento Kings', 'tricode': 'SAC', 'teamId': '1610612758', 'nickname': 'Kings', 'urlName': 'kings', 'confName': 'summer', 'divName': ''}, {'isNBAFranchise': True, 'isAllStar': False, 'city': 'San Antonio', 'altCityName': 'San Antonio', 'fullName': 'San Antonio Spurs', 'tricode': 'SAS', 'teamId': '1610612759', 'nickname': 'Spurs', 'urlName': 'spurs', 'confName': 'summer', 'divName': ''}, {'isNBAFranchise': True, 'isAllStar': False, 'city': 'Toronto', 'altCityName': 'Toronto', 'fullName': 'Toronto Raptors', 'tricode': 'TOR', 'teamId': '1610612761', 'nickname': 'Raptors', 'urlName': 'raptors', 'confName': 'summer', 'divName': ''}, {'isNBAFranchise': True, 'isAllStar': False, 'city': 'Utah', 'altCityName': 'Utah', 'fullName': 'Utah Jazz', 'tricode': 'UTA', 'teamId': '1610612762', 'nickname': 'Jazz', 'urlName': 'jazz', 'confName': 'summer', 'divName': ''}, {'isNBAFranchise': True, 'isAllStar': False, 'city': 'Washington', 'altCityName': 'Washington', 'fullName': 'Washington Wizards', 'tricode': 'WAS', 'teamId': '1610612764', 'nickname': 'Wizards', 'urlName': 'wizards', 'confName': 'summer', 'divName': ''}], 'utah': [{'isNBAFranchise': True, 'isAllStar': False, 'city': 'Atlanta', 'altCityName': 'Atlanta', 'fullName': 'Atlanta Hawks', 'tricode': 'ATL', 'teamId': '1610612737', 'nickname': 'Hawks', 'urlName': 'hawks', 'confName': 'Utah', 'divName': ''}, {'isNBAFranchise': True, 'isAllStar': False, 'city': 'Memphis', 'altCityName': 'Memphis', 'fullName': 'Memphis Grizzlies', 'tricode': 'MEM', 'teamId': '1610612763', 'nickname': 'Grizzlies', 'urlName': 'grizzlies', 'confName': 'Utah', 'divName': ''}, {'isNBAFranchise': True, 'isAllStar': False, 'city': 'San Antonio', 'altCityName': 'San Antonio', 'fullName': 'San Antonio Spurs', 'tricode': 'SAS', 'teamId': '1610612759', 'nickname': 'Spurs', 'urlName': 'spurs', 'confName': 'Utah', 'divName': ''}, {'isNBAFranchise': True, 'isAllStar': False, 'city': 'Utah', 'altCityName': 'Utah', 'fullName': 'Utah Jazz', 'tricode': 'UTA', 'teamId': '1610612762', 'nickname': 'Jazz', 'urlName': 'jazz', 'confName': 'Utah', 'divName': ''}]}}\n"
     ]
    }
   ],
   "source": [
    "print(json_readed)"
   ]
  },
  {
   "cell_type": "code",
   "execution_count": 5,
   "metadata": {},
   "outputs": [
    {
     "output_type": "execute_result",
     "data": {
      "text/plain": [
       "                                          _internal  \\\n",
       "pubDateTime                 2018-08-30 20:00:04.422   \n",
       "xslt         xsl/league/roster/marty_teams_list.xsl   \n",
       "eventName                             league_roster   \n",
       "standard                                        NaN   \n",
       "africa                                          NaN   \n",
       "sacramento                                      NaN   \n",
       "vegas                                           NaN   \n",
       "utah                                            NaN   \n",
       "\n",
       "                                                        league  \n",
       "pubDateTime                                                NaN  \n",
       "xslt                                                       NaN  \n",
       "eventName                                                  NaN  \n",
       "standard     [{'isNBAFranchise': False, 'isAllStar': True, ...  \n",
       "africa       [{'isNBAFranchise': False, 'isAllStar': False,...  \n",
       "sacramento   [{'isNBAFranchise': True, 'isAllStar': False, ...  \n",
       "vegas        [{'isNBAFranchise': True, 'isAllStar': False, ...  \n",
       "utah         [{'isNBAFranchise': True, 'isAllStar': False, ...  "
      ],
      "text/html": "<div>\n<style scoped>\n    .dataframe tbody tr th:only-of-type {\n        vertical-align: middle;\n    }\n\n    .dataframe tbody tr th {\n        vertical-align: top;\n    }\n\n    .dataframe thead th {\n        text-align: right;\n    }\n</style>\n<table border=\"1\" class=\"dataframe\">\n  <thead>\n    <tr style=\"text-align: right;\">\n      <th></th>\n      <th>_internal</th>\n      <th>league</th>\n    </tr>\n  </thead>\n  <tbody>\n    <tr>\n      <th>pubDateTime</th>\n      <td>2018-08-30 20:00:04.422</td>\n      <td>NaN</td>\n    </tr>\n    <tr>\n      <th>xslt</th>\n      <td>xsl/league/roster/marty_teams_list.xsl</td>\n      <td>NaN</td>\n    </tr>\n    <tr>\n      <th>eventName</th>\n      <td>league_roster</td>\n      <td>NaN</td>\n    </tr>\n    <tr>\n      <th>standard</th>\n      <td>NaN</td>\n      <td>[{'isNBAFranchise': False, 'isAllStar': True, ...</td>\n    </tr>\n    <tr>\n      <th>africa</th>\n      <td>NaN</td>\n      <td>[{'isNBAFranchise': False, 'isAllStar': False,...</td>\n    </tr>\n    <tr>\n      <th>sacramento</th>\n      <td>NaN</td>\n      <td>[{'isNBAFranchise': True, 'isAllStar': False, ...</td>\n    </tr>\n    <tr>\n      <th>vegas</th>\n      <td>NaN</td>\n      <td>[{'isNBAFranchise': True, 'isAllStar': False, ...</td>\n    </tr>\n    <tr>\n      <th>utah</th>\n      <td>NaN</td>\n      <td>[{'isNBAFranchise': True, 'isAllStar': False, ...</td>\n    </tr>\n  </tbody>\n</table>\n</div>"
     },
     "metadata": {},
     "execution_count": 5
    }
   ],
   "source": [
    "df_json_readed = pd.DataFrame(json_readed)\n",
    "df_json_readed"
   ]
  },
  {
   "cell_type": "code",
   "execution_count": 9,
   "metadata": {},
   "outputs": [
    {
     "output_type": "execute_result",
     "data": {
      "text/plain": [
       "dict"
      ]
     },
     "metadata": {},
     "execution_count": 9
    }
   ],
   "source": [
    "type(json_readed['league'])"
   ]
  },
  {
   "cell_type": "code",
   "execution_count": 10,
   "metadata": {},
   "outputs": [
    {
     "output_type": "stream",
     "name": "stdout",
     "text": [
      "standard\nafrica\nsacramento\nvegas\nutah\n"
     ]
    }
   ],
   "source": [
    "for elem in json_readed['league']:\n",
    "    print(elem)"
   ]
  },
  {
   "cell_type": "code",
   "execution_count": 13,
   "metadata": {},
   "outputs": [
    {
     "output_type": "execute_result",
     "data": {
      "text/plain": [
       "                                                       league\n",
       "standard    [{'isNBAFranchise': False, 'isAllStar': True, ...\n",
       "africa      [{'isNBAFranchise': False, 'isAllStar': False,...\n",
       "sacramento  [{'isNBAFranchise': True, 'isAllStar': False, ...\n",
       "vegas       [{'isNBAFranchise': True, 'isAllStar': False, ...\n",
       "utah        [{'isNBAFranchise': True, 'isAllStar': False, ..."
      ],
      "text/html": "<div>\n<style scoped>\n    .dataframe tbody tr th:only-of-type {\n        vertical-align: middle;\n    }\n\n    .dataframe tbody tr th {\n        vertical-align: top;\n    }\n\n    .dataframe thead th {\n        text-align: right;\n    }\n</style>\n<table border=\"1\" class=\"dataframe\">\n  <thead>\n    <tr style=\"text-align: right;\">\n      <th></th>\n      <th>league</th>\n    </tr>\n  </thead>\n  <tbody>\n    <tr>\n      <th>standard</th>\n      <td>[{'isNBAFranchise': False, 'isAllStar': True, ...</td>\n    </tr>\n    <tr>\n      <th>africa</th>\n      <td>[{'isNBAFranchise': False, 'isAllStar': False,...</td>\n    </tr>\n    <tr>\n      <th>sacramento</th>\n      <td>[{'isNBAFranchise': True, 'isAllStar': False, ...</td>\n    </tr>\n    <tr>\n      <th>vegas</th>\n      <td>[{'isNBAFranchise': True, 'isAllStar': False, ...</td>\n    </tr>\n    <tr>\n      <th>utah</th>\n      <td>[{'isNBAFranchise': True, 'isAllStar': False, ...</td>\n    </tr>\n  </tbody>\n</table>\n</div>"
     },
     "metadata": {},
     "execution_count": 13
    }
   ],
   "source": [
    "df_json_readed = df_json_readed.loc['standard':, 'league':'league']\n",
    "df_json_readed"
   ]
  },
  {
   "cell_type": "code",
   "execution_count": 16,
   "metadata": {},
   "outputs": [
    {
     "output_type": "stream",
     "name": "stdout",
     "text": [
      "standard\n[{'isNBAFranchise': False, 'isAllStar': True, 'city': 'USA', 'altCityName': 'USA', 'fullName': 'USA', 'tricode': 'USA', 'teamId': '1610616843', 'nickname': 'USA', 'urlName': 'usa', 'confName': 'East', 'divName': 'East'}, {'isNBAFranchise': False, 'isAllStar': True, 'city': 'World', 'altCityName': 'World', 'fullName': 'World', 'tricode': 'WLD', 'teamId': '1610616844', 'nickname': 'World', 'urlName': 'world', 'confName': 'East', 'divName': 'East'}, {'isNBAFranchise': False, 'isAllStar': True, 'city': 'Team', 'altCityName': 'Team', 'fullName': 'All-Stars', 'tricode': 'EST', 'teamId': '1699999999', 'nickname': 'All-Stars', 'urlName': 'assn_away', 'confName': 'East', 'divName': 'East'}, {'isNBAFranchise': False, 'isAllStar': True, 'city': 'Team', 'altCityName': 'Team', 'fullName': 'All-Stars', 'tricode': 'WST', 'teamId': '1699999998', 'nickname': 'All-Stars', 'urlName': 'assn_home', 'confName': 'West', 'divName': 'West'}, {'isNBAFranchise': False, 'isAllStar': True, 'city': 'Team Giannis', 'altCityName': 'Team Giannis', 'fullName': 'Team Giannis', 'tricode': 'GNS', 'teamId': '1610616833', 'nickname': 'Team Giannis', 'urlName': 'team_giannis', 'confName': 'East', 'divName': 'East'}, {'isNBAFranchise': False, 'isAllStar': True, 'city': 'Team LeBron', 'altCityName': 'Team LeBron', 'fullName': 'Team LeBron', 'tricode': 'LBN', 'teamId': '1610616834', 'nickname': 'Team LeBron', 'urlName': 'team_lebron', 'confName': 'West', 'divName': 'West'}, {'isNBAFranchise': False, 'isAllStar': False, 'city': 'Team', 'altCityName': 'Team', 'fullName': 'Team Africa', 'tricode': 'AFR', 'teamId': '12326', 'nickname': 'Africa', 'urlName': 'africa', 'confName': '', 'divName': ''}, {'isNBAFranchise': False, 'isAllStar': False, 'city': 'Team', 'altCityName': 'Team', 'fullName': 'Team World', 'tricode': 'WLD', 'teamId': '12327', 'nickname': 'World', 'urlName': 'world', 'confName': '', 'divName': ''}, {'isNBAFranchise': False, 'isAllStar': False, 'city': 'Adelaide', 'altCityName': 'Adelaide', 'fullName': 'Adelaide 36ers', 'tricode': 'ADL', 'teamId': '15019', 'nickname': '36ers', 'urlName': '36ers', 'confName': 'Intl', 'divName': ''}, {'isNBAFranchise': True, 'isAllStar': False, 'city': 'Atlanta', 'altCityName': 'Atlanta', 'fullName': 'Atlanta Hawks', 'tricode': 'ATL', 'teamId': '1610612737', 'nickname': 'Hawks', 'urlName': 'hawks', 'confName': 'East', 'divName': 'Southeast'}, {'isNBAFranchise': False, 'isAllStar': False, 'city': 'Beijing', 'altCityName': 'Beijing', 'fullName': 'Beijing Ducks', 'tricode': 'BJD', 'teamId': '15021', 'nickname': 'Ducks', 'urlName': 'ducks', 'confName': 'Intl', 'divName': ''}, {'isNBAFranchise': True, 'isAllStar': False, 'city': 'Boston', 'altCityName': 'Boston', 'fullName': 'Boston Celtics', 'tricode': 'BOS', 'teamId': '1610612738', 'nickname': 'Celtics', 'urlName': 'celtics', 'confName': 'East', 'divName': 'Atlantic'}, {'isNBAFranchise': True, 'isAllStar': False, 'city': 'Brooklyn', 'altCityName': 'Brooklyn', 'fullName': 'Brooklyn Nets', 'tricode': 'BKN', 'teamId': '1610612751', 'nickname': 'Nets', 'urlName': 'nets', 'confName': 'East', 'divName': 'Atlantic'}, {'isNBAFranchise': True, 'isAllStar': False, 'city': 'Charlotte', 'altCityName': 'Charlotte', 'fullName': 'Charlotte Hornets', 'tricode': 'CHA', 'teamId': '1610612766', 'nickname': 'Hornets', 'urlName': 'hornets', 'confName': 'East', 'divName': 'Southeast'}, {'isNBAFranchise': True, 'isAllStar': False, 'city': 'Chicago', 'altCityName': 'Chicago', 'fullName': 'Chicago Bulls', 'tricode': 'CHI', 'teamId': '1610612741', 'nickname': 'Bulls', 'urlName': 'bulls', 'confName': 'East', 'divName': 'Central'}, {'isNBAFranchise': True, 'isAllStar': False, 'city': 'Cleveland', 'altCityName': 'Cleveland', 'fullName': 'Cleveland Cavaliers', 'tricode': 'CLE', 'teamId': '1610612739', 'nickname': 'Cavaliers', 'urlName': 'cavaliers', 'confName': 'East', 'divName': 'Central'}, {'isNBAFranchise': True, 'isAllStar': False, 'city': 'Dallas', 'altCityName': 'Dallas', 'fullName': 'Dallas Mavericks', 'tricode': 'DAL', 'teamId': '1610612742', 'nickname': 'Mavericks', 'urlName': 'mavericks', 'confName': 'West', 'divName': 'Southwest'}, {'isNBAFranchise': True, 'isAllStar': False, 'city': 'Denver', 'altCityName': 'Denver', 'fullName': 'Denver Nuggets', 'tricode': 'DEN', 'teamId': '1610612743', 'nickname': 'Nuggets', 'urlName': 'nuggets', 'confName': 'West', 'divName': 'Northwest'}, {'isNBAFranchise': True, 'isAllStar': False, 'city': 'Detroit', 'altCityName': 'Detroit', 'fullName': 'Detroit Pistons', 'tricode': 'DET', 'teamId': '1610612765', 'nickname': 'Pistons', 'urlName': 'pistons', 'confName': 'East', 'divName': 'Central'}, {'isNBAFranchise': True, 'isAllStar': False, 'city': 'Golden State', 'altCityName': 'Golden State', 'fullName': 'Golden State Warriors', 'tricode': 'GSW', 'teamId': '1610612744', 'nickname': 'Warriors', 'urlName': 'warriors', 'confName': 'West', 'divName': 'Pacific'}, {'isNBAFranchise': False, 'isAllStar': False, 'city': 'Guangzhou', 'altCityName': 'Guangzhou', 'fullName': 'Guangzhou Long-Lions', 'tricode': 'GUA', 'teamId': '15018', 'nickname': 'Long-Lions', 'urlName': 'long-lions', 'confName': 'Intl', 'divName': ''}, {'isNBAFranchise': False, 'isAllStar': False, 'city': 'Haifa', 'altCityName': 'Haifa', 'fullName': 'Maccabi Haifa', 'tricode': 'MAC', 'teamId': '93', 'nickname': 'Maccabi Haifa', 'urlName': 'maccabi_haifa', 'confName': 'Intl', 'divName': ''}, {'isNBAFranchise': True, 'isAllStar': False, 'city': 'Houston', 'altCityName': 'Houston', 'fullName': 'Houston Rockets', 'tricode': 'HOU', 'teamId': '1610612745', 'nickname': 'Rockets', 'urlName': 'rockets', 'confName': 'West', 'divName': 'Southwest'}, {'isNBAFranchise': True, 'isAllStar': False, 'city': 'Indiana', 'altCityName': 'Indiana', 'fullName': 'Indiana Pacers', 'tricode': 'IND', 'teamId': '1610612754', 'nickname': 'Pacers', 'urlName': 'pacers', 'confName': 'East', 'divName': 'Central'}, {'isNBAFranchise': True, 'isAllStar': False, 'city': 'LA', 'altCityName': 'LA Clippers', 'fullName': 'LA Clippers', 'tricode': 'LAC', 'teamId': '1610612746', 'nickname': 'Clippers', 'urlName': 'clippers', 'confName': 'West', 'divName': 'Pacific'}, {'isNBAFranchise': True, 'isAllStar': False, 'city': 'Los Angeles', 'altCityName': 'Los Angeles Lakers', 'fullName': 'Los Angeles Lakers', 'tricode': 'LAL', 'teamId': '1610612747', 'nickname': 'Lakers', 'urlName': 'lakers', 'confName': 'West', 'divName': 'Pacific'}, {'isNBAFranchise': False, 'isAllStar': False, 'city': 'Melbourne', 'altCityName': 'Melbourne', 'fullName': 'Melbourne United', 'tricode': 'MEL', 'teamId': '15016', 'nickname': 'United', 'urlName': 'united', 'confName': 'Intl', 'divName': ''}, {'isNBAFranchise': True, 'isAllStar': False, 'city': 'Memphis', 'altCityName': 'Memphis', 'fullName': 'Memphis Grizzlies', 'tricode': 'MEM', 'teamId': '1610612763', 'nickname': 'Grizzlies', 'urlName': 'grizzlies', 'confName': 'West', 'divName': 'Southwest'}, {'isNBAFranchise': True, 'isAllStar': False, 'city': 'Miami', 'altCityName': 'Miami', 'fullName': 'Miami Heat', 'tricode': 'MIA', 'teamId': '1610612748', 'nickname': 'Heat', 'urlName': 'heat', 'confName': 'East', 'divName': 'Southeast'}, {'isNBAFranchise': True, 'isAllStar': False, 'city': 'Milwaukee', 'altCityName': 'Milwaukee', 'fullName': 'Milwaukee Bucks', 'tricode': 'MIL', 'teamId': '1610612749', 'nickname': 'Bucks', 'urlName': 'bucks', 'confName': 'East', 'divName': 'Central'}, {'isNBAFranchise': True, 'isAllStar': False, 'city': 'Minnesota', 'altCityName': 'Minnesota', 'fullName': 'Minnesota Timberwolves', 'tricode': 'MIN', 'teamId': '1610612750', 'nickname': 'Timberwolves', 'urlName': 'timberwolves', 'confName': 'West', 'divName': 'Northwest'}, {'isNBAFranchise': True, 'isAllStar': False, 'city': 'New Orleans', 'altCityName': 'New Orleans', 'fullName': 'New Orleans Pelicans', 'tricode': 'NOP', 'teamId': '1610612740', 'nickname': 'Pelicans', 'urlName': 'pelicans', 'confName': 'West', 'divName': 'Southwest'}, {'isNBAFranchise': True, 'isAllStar': False, 'city': 'New York', 'altCityName': 'New York', 'fullName': 'New York Knicks', 'tricode': 'NYK', 'teamId': '1610612752', 'nickname': 'Knicks', 'urlName': 'knicks', 'confName': 'East', 'divName': 'Atlantic'}, {'isNBAFranchise': False, 'isAllStar': False, 'city': 'New Zealand', 'altCityName': 'New Zealand', 'fullName': 'New Zealand Breakers', 'tricode': 'NZB', 'teamId': '15020', 'nickname': 'Breakers', 'urlName': 'breakers', 'confName': 'Intl', 'divName': ''}, {'isNBAFranchise': True, 'isAllStar': False, 'city': 'Oklahoma City', 'altCityName': 'Oklahoma City', 'fullName': 'Oklahoma City Thunder', 'tricode': 'OKC', 'teamId': '1610612760', 'nickname': 'Thunder', 'urlName': 'thunder', 'confName': 'West', 'divName': 'Northwest'}, {'isNBAFranchise': True, 'isAllStar': False, 'city': 'Orlando', 'altCityName': 'Orlando', 'fullName': 'Orlando Magic', 'tricode': 'ORL', 'teamId': '1610612753', 'nickname': 'Magic', 'urlName': 'magic', 'confName': 'East', 'divName': 'Southeast'}, {'isNBAFranchise': False, 'isAllStar': False, 'city': 'Perth', 'altCityName': 'Perth', 'fullName': 'Perth Wildcats', 'tricode': 'PER', 'teamId': '104', 'nickname': 'Wildcats', 'urlName': 'wildcats', 'confName': 'Intl', 'divName': ''}, {'isNBAFranchise': True, 'isAllStar': False, 'city': 'Philadelphia', 'altCityName': 'Philadelphia', 'fullName': 'Philadelphia 76ers', 'tricode': 'PHI', 'teamId': '1610612755', 'nickname': '76ers', 'urlName': 'sixers', 'confName': 'East', 'divName': 'Atlantic'}, {'isNBAFranchise': True, 'isAllStar': False, 'city': 'Phoenix', 'altCityName': 'Phoenix', 'fullName': 'Phoenix Suns', 'tricode': 'PHX', 'teamId': '1610612756', 'nickname': 'Suns', 'urlName': 'suns', 'confName': 'West', 'divName': 'Pacific'}, {'isNBAFranchise': True, 'isAllStar': False, 'city': 'Portland', 'altCityName': 'Portland', 'fullName': 'Portland Trail Blazers', 'tricode': 'POR', 'teamId': '1610612757', 'nickname': 'Trail Blazers', 'urlName': 'blazers', 'confName': 'West', 'divName': 'Northwest'}, {'isNBAFranchise': False, 'isAllStar': False, 'city': 'Rio de Janeiro', 'altCityName': 'Rio de Janeiro', 'fullName': 'Rio de Janeiro Flamengo', 'tricode': 'FLA', 'teamId': '12325', 'nickname': 'Flamengo', 'urlName': 'flamengo', 'confName': 'Intl', 'divName': ''}, {'isNBAFranchise': True, 'isAllStar': False, 'city': 'Sacramento', 'altCityName': 'Sacramento', 'fullName': 'Sacramento Kings', 'tricode': 'SAC', 'teamId': '1610612758', 'nickname': 'Kings', 'urlName': 'kings', 'confName': 'West', 'divName': 'Pacific'}, {'isNBAFranchise': True, 'isAllStar': False, 'city': 'San Antonio', 'altCityName': 'San Antonio', 'fullName': 'San Antonio Spurs', 'tricode': 'SAS', 'teamId': '1610612759', 'nickname': 'Spurs', 'urlName': 'spurs', 'confName': 'West', 'divName': 'Southwest'}, {'isNBAFranchise': False, 'isAllStar': False, 'city': 'Shanghai', 'altCityName': 'Shanghai', 'fullName': 'Shanghai Sharks', 'tricode': 'SDS', 'teamId': '12329', 'nickname': 'Shanghai Sharks', 'urlName': 'shanghai_sharks', 'confName': 'Intl', 'divName': ''}, {'isNBAFranchise': False, 'isAllStar': False, 'city': 'Sydney', 'altCityName': 'Sydney', 'fullName': 'Sydney Kings', 'tricode': 'SYD', 'teamId': '15015', 'nickname': 'Kings', 'urlName': 'kings', 'confName': 'Intl', 'divName': ''}, {'isNBAFranchise': True, 'isAllStar': False, 'city': 'Toronto', 'altCityName': 'Toronto', 'fullName': 'Toronto Raptors', 'tricode': 'TOR', 'teamId': '1610612761', 'nickname': 'Raptors', 'urlName': 'raptors', 'confName': 'East', 'divName': 'Atlantic'}, {'isNBAFranchise': True, 'isAllStar': False, 'city': 'Utah', 'altCityName': 'Utah', 'fullName': 'Utah Jazz', 'tricode': 'UTA', 'teamId': '1610612762', 'nickname': 'Jazz', 'urlName': 'jazz', 'confName': 'West', 'divName': 'Northwest'}, {'isNBAFranchise': True, 'isAllStar': False, 'city': 'Washington', 'altCityName': 'Washington', 'fullName': 'Washington Wizards', 'tricode': 'WAS', 'teamId': '1610612764', 'nickname': 'Wizards', 'urlName': 'wizards', 'confName': 'East', 'divName': 'Southeast'}]\n---------------\nafrica\n[{'isNBAFranchise': False, 'isAllStar': False, 'city': 'Team', 'altCityName': 'Team', 'fullName': 'Team Africa', 'tricode': 'AFR', 'teamId': '12326', 'nickname': 'Africa', 'urlName': 'africa', 'confName': '', 'divName': ''}, {'isNBAFranchise': False, 'isAllStar': False, 'city': 'Team', 'altCityName': 'Team', 'fullName': 'Team World', 'tricode': 'WLD', 'teamId': '12327', 'nickname': 'World', 'urlName': 'world', 'confName': '', 'divName': ''}]\n---------------\nsacramento\n[{'isNBAFranchise': True, 'isAllStar': False, 'city': 'Golden State', 'altCityName': 'Golden State', 'fullName': 'Golden State Warriors', 'tricode': 'GSW', 'teamId': '1610612744', 'nickname': 'Warriors', 'urlName': 'warriors', 'confName': 'Sacramento', 'divName': ''}, {'isNBAFranchise': True, 'isAllStar': False, 'city': 'Los Angeles', 'altCityName': 'Los Angeles Lakers', 'fullName': 'Los Angeles Lakers', 'tricode': 'LAL', 'teamId': '1610612747', 'nickname': 'Lakers', 'urlName': 'lakers', 'confName': 'Sacramento', 'divName': ''}, {'isNBAFranchise': True, 'isAllStar': False, 'city': 'Miami', 'altCityName': 'Miami', 'fullName': 'Miami Heat', 'tricode': 'MIA', 'teamId': '1610612748', 'nickname': 'Heat', 'urlName': 'heat', 'confName': 'Sacramento', 'divName': ''}, {'isNBAFranchise': True, 'isAllStar': False, 'city': 'Sacramento', 'altCityName': 'Sacramento', 'fullName': 'Sacramento Kings', 'tricode': 'SAC', 'teamId': '1610612758', 'nickname': 'Kings', 'urlName': 'kings', 'confName': 'Sacramento', 'divName': ''}]\n---------------\nvegas\n[{'isNBAFranchise': True, 'isAllStar': False, 'city': 'Atlanta', 'altCityName': 'Atlanta', 'fullName': 'Atlanta Hawks', 'tricode': 'ATL', 'teamId': '1610612737', 'nickname': 'Hawks', 'urlName': 'hawks', 'confName': 'summer', 'divName': ''}, {'isNBAFranchise': True, 'isAllStar': False, 'city': 'Boston', 'altCityName': 'Boston', 'fullName': 'Boston Celtics', 'tricode': 'BOS', 'teamId': '1610612738', 'nickname': 'Celtics', 'urlName': 'celtics', 'confName': 'summer', 'divName': ''}, {'isNBAFranchise': True, 'isAllStar': False, 'city': 'Brooklyn', 'altCityName': 'Brooklyn', 'fullName': 'Brooklyn Nets', 'tricode': 'BKN', 'teamId': '1610612751', 'nickname': 'Nets', 'urlName': 'nets', 'confName': 'summer', 'divName': ''}, {'isNBAFranchise': True, 'isAllStar': False, 'city': 'Charlotte', 'altCityName': 'Charlotte', 'fullName': 'Charlotte Hornets', 'tricode': 'CHA', 'teamId': '1610612766', 'nickname': 'Hornets', 'urlName': 'hornets', 'confName': 'summer', 'divName': ''}, {'isNBAFranchise': True, 'isAllStar': False, 'city': 'Chicago', 'altCityName': 'Chicago', 'fullName': 'Chicago Bulls', 'tricode': 'CHI', 'teamId': '1610612741', 'nickname': 'Bulls', 'urlName': 'bulls', 'confName': 'summer', 'divName': ''}, {'isNBAFranchise': True, 'isAllStar': False, 'city': 'Cleveland', 'altCityName': 'Cleveland', 'fullName': 'Cleveland Cavaliers', 'tricode': 'CLE', 'teamId': '1610612739', 'nickname': 'Cavaliers', 'urlName': 'cavaliers', 'confName': 'summer', 'divName': ''}, {'isNBAFranchise': True, 'isAllStar': False, 'city': 'Dallas', 'altCityName': 'Dallas', 'fullName': 'Dallas Mavericks', 'tricode': 'DAL', 'teamId': '1610612742', 'nickname': 'Mavericks', 'urlName': 'mavericks', 'confName': 'summer', 'divName': ''}, {'isNBAFranchise': True, 'isAllStar': False, 'city': 'Denver', 'altCityName': 'Denver', 'fullName': 'Denver Nuggets', 'tricode': 'DEN', 'teamId': '1610612743', 'nickname': 'Nuggets', 'urlName': 'nuggets', 'confName': 'summer', 'divName': ''}, {'isNBAFranchise': True, 'isAllStar': False, 'city': 'Detroit', 'altCityName': 'Detroit', 'fullName': 'Detroit Pistons', 'tricode': 'DET', 'teamId': '1610612765', 'nickname': 'Pistons', 'urlName': 'pistons', 'confName': 'summer', 'divName': ''}, {'isNBAFranchise': True, 'isAllStar': False, 'city': 'Golden State', 'altCityName': 'Golden State', 'fullName': 'Golden State Warriors', 'tricode': 'GSW', 'teamId': '1610612744', 'nickname': 'Warriors', 'urlName': 'warriors', 'confName': 'summer', 'divName': ''}, {'isNBAFranchise': True, 'isAllStar': False, 'city': 'Houston', 'altCityName': 'Houston', 'fullName': 'Houston Rockets', 'tricode': 'HOU', 'teamId': '1610612745', 'nickname': 'Rockets', 'urlName': 'rockets', 'confName': 'summer', 'divName': ''}, {'isNBAFranchise': True, 'isAllStar': False, 'city': 'Indiana', 'altCityName': 'Indiana', 'fullName': 'Indiana Pacers', 'tricode': 'IND', 'teamId': '1610612754', 'nickname': 'Pacers', 'urlName': 'pacers', 'confName': 'summer', 'divName': ''}, {'isNBAFranchise': True, 'isAllStar': False, 'city': 'LA', 'altCityName': 'LA Clippers', 'fullName': 'LA Clippers', 'tricode': 'LAC', 'teamId': '1610612746', 'nickname': 'Clippers', 'urlName': 'clippers', 'confName': 'summer', 'divName': ''}, {'isNBAFranchise': True, 'isAllStar': False, 'city': 'Los Angeles', 'altCityName': 'Los Angeles Lakers', 'fullName': 'Los Angeles Lakers', 'tricode': 'LAL', 'teamId': '1610612747', 'nickname': 'Lakers', 'urlName': 'lakers', 'confName': 'summer', 'divName': ''}, {'isNBAFranchise': True, 'isAllStar': False, 'city': 'Memphis', 'altCityName': 'Memphis', 'fullName': 'Memphis Grizzlies', 'tricode': 'MEM', 'teamId': '1610612763', 'nickname': 'Grizzlies', 'urlName': 'grizzlies', 'confName': 'summer', 'divName': ''}, {'isNBAFranchise': True, 'isAllStar': False, 'city': 'Miami', 'altCityName': 'Miami', 'fullName': 'Miami Heat', 'tricode': 'MIA', 'teamId': '1610612748', 'nickname': 'Heat', 'urlName': 'heat', 'confName': 'summer', 'divName': ''}, {'isNBAFranchise': True, 'isAllStar': False, 'city': 'Milwaukee', 'altCityName': 'Milwaukee', 'fullName': 'Milwaukee Bucks', 'tricode': 'MIL', 'teamId': '1610612749', 'nickname': 'Bucks', 'urlName': 'bucks', 'confName': 'summer', 'divName': ''}, {'isNBAFranchise': True, 'isAllStar': False, 'city': 'Minnesota', 'altCityName': 'Minnesota', 'fullName': 'Minnesota Timberwolves', 'tricode': 'MIN', 'teamId': '1610612750', 'nickname': 'Timberwolves', 'urlName': 'timberwolves', 'confName': 'summer', 'divName': ''}, {'isNBAFranchise': True, 'isAllStar': False, 'city': 'New Orleans', 'altCityName': 'New Orleans', 'fullName': 'New Orleans Pelicans', 'tricode': 'NOP', 'teamId': '1610612740', 'nickname': 'Pelicans', 'urlName': 'pelicans', 'confName': 'summer', 'divName': ''}, {'isNBAFranchise': True, 'isAllStar': False, 'city': 'New York', 'altCityName': 'New York', 'fullName': 'New York Knicks', 'tricode': 'NYK', 'teamId': '1610612752', 'nickname': 'Knicks', 'urlName': 'knicks', 'confName': 'summer', 'divName': ''}, {'isNBAFranchise': True, 'isAllStar': False, 'city': 'Oklahoma City', 'altCityName': 'Oklahoma City', 'fullName': 'Oklahoma City Thunder', 'tricode': 'OKC', 'teamId': '1610612760', 'nickname': 'Thunder', 'urlName': 'thunder', 'confName': 'summer', 'divName': ''}, {'isNBAFranchise': True, 'isAllStar': False, 'city': 'Orlando', 'altCityName': 'Orlando', 'fullName': 'Orlando Magic', 'tricode': 'ORL', 'teamId': '1610612753', 'nickname': 'Magic', 'urlName': 'magic', 'confName': 'summer', 'divName': ''}, {'isNBAFranchise': True, 'isAllStar': False, 'city': 'Philadelphia', 'altCityName': 'Philadelphia', 'fullName': 'Philadelphia 76ers', 'tricode': 'PHI', 'teamId': '1610612755', 'nickname': '76ers', 'urlName': 'sixers', 'confName': 'summer', 'divName': ''}, {'isNBAFranchise': True, 'isAllStar': False, 'city': 'Phoenix', 'altCityName': 'Phoenix', 'fullName': 'Phoenix Suns', 'tricode': 'PHX', 'teamId': '1610612756', 'nickname': 'Suns', 'urlName': 'suns', 'confName': 'summer', 'divName': ''}, {'isNBAFranchise': True, 'isAllStar': False, 'city': 'Portland', 'altCityName': 'Portland', 'fullName': 'Portland Trail Blazers', 'tricode': 'POR', 'teamId': '1610612757', 'nickname': 'Trail Blazers', 'urlName': 'blazers', 'confName': 'summer', 'divName': ''}, {'isNBAFranchise': True, 'isAllStar': False, 'city': 'Sacramento', 'altCityName': 'Sacramento', 'fullName': 'Sacramento Kings', 'tricode': 'SAC', 'teamId': '1610612758', 'nickname': 'Kings', 'urlName': 'kings', 'confName': 'summer', 'divName': ''}, {'isNBAFranchise': True, 'isAllStar': False, 'city': 'San Antonio', 'altCityName': 'San Antonio', 'fullName': 'San Antonio Spurs', 'tricode': 'SAS', 'teamId': '1610612759', 'nickname': 'Spurs', 'urlName': 'spurs', 'confName': 'summer', 'divName': ''}, {'isNBAFranchise': True, 'isAllStar': False, 'city': 'Toronto', 'altCityName': 'Toronto', 'fullName': 'Toronto Raptors', 'tricode': 'TOR', 'teamId': '1610612761', 'nickname': 'Raptors', 'urlName': 'raptors', 'confName': 'summer', 'divName': ''}, {'isNBAFranchise': True, 'isAllStar': False, 'city': 'Utah', 'altCityName': 'Utah', 'fullName': 'Utah Jazz', 'tricode': 'UTA', 'teamId': '1610612762', 'nickname': 'Jazz', 'urlName': 'jazz', 'confName': 'summer', 'divName': ''}, {'isNBAFranchise': True, 'isAllStar': False, 'city': 'Washington', 'altCityName': 'Washington', 'fullName': 'Washington Wizards', 'tricode': 'WAS', 'teamId': '1610612764', 'nickname': 'Wizards', 'urlName': 'wizards', 'confName': 'summer', 'divName': ''}]\n---------------\nutah\n[{'isNBAFranchise': True, 'isAllStar': False, 'city': 'Atlanta', 'altCityName': 'Atlanta', 'fullName': 'Atlanta Hawks', 'tricode': 'ATL', 'teamId': '1610612737', 'nickname': 'Hawks', 'urlName': 'hawks', 'confName': 'Utah', 'divName': ''}, {'isNBAFranchise': True, 'isAllStar': False, 'city': 'Memphis', 'altCityName': 'Memphis', 'fullName': 'Memphis Grizzlies', 'tricode': 'MEM', 'teamId': '1610612763', 'nickname': 'Grizzlies', 'urlName': 'grizzlies', 'confName': 'Utah', 'divName': ''}, {'isNBAFranchise': True, 'isAllStar': False, 'city': 'San Antonio', 'altCityName': 'San Antonio', 'fullName': 'San Antonio Spurs', 'tricode': 'SAS', 'teamId': '1610612759', 'nickname': 'Spurs', 'urlName': 'spurs', 'confName': 'Utah', 'divName': ''}, {'isNBAFranchise': True, 'isAllStar': False, 'city': 'Utah', 'altCityName': 'Utah', 'fullName': 'Utah Jazz', 'tricode': 'UTA', 'teamId': '1610612762', 'nickname': 'Jazz', 'urlName': 'jazz', 'confName': 'Utah', 'divName': ''}]\n---------------\n"
     ]
    }
   ],
   "source": [
    "for key, value in json_readed['league'].items():\n",
    "    print(key)\n",
    "    print(value)\n",
    "    print('---------------')"
   ]
  },
  {
   "cell_type": "code",
   "execution_count": 28,
   "metadata": {},
   "outputs": [
    {
     "output_type": "execute_result",
     "data": {
      "text/plain": [
       "                                                     league\n",
       "standard  {'isNBAFranchise': False, 'isAllStar': True, '...\n",
       "standard  {'isNBAFranchise': False, 'isAllStar': True, '...\n",
       "standard  {'isNBAFranchise': False, 'isAllStar': True, '...\n",
       "standard  {'isNBAFranchise': False, 'isAllStar': True, '...\n",
       "standard  {'isNBAFranchise': False, 'isAllStar': True, '...\n",
       "...                                                     ...\n",
       "vegas     {'isNBAFranchise': True, 'isAllStar': False, '...\n",
       "utah      {'isNBAFranchise': True, 'isAllStar': False, '...\n",
       "utah      {'isNBAFranchise': True, 'isAllStar': False, '...\n",
       "utah      {'isNBAFranchise': True, 'isAllStar': False, '...\n",
       "utah      {'isNBAFranchise': True, 'isAllStar': False, '...\n",
       "\n",
       "[88 rows x 1 columns]"
      ],
      "text/html": "<div>\n<style scoped>\n    .dataframe tbody tr th:only-of-type {\n        vertical-align: middle;\n    }\n\n    .dataframe tbody tr th {\n        vertical-align: top;\n    }\n\n    .dataframe thead th {\n        text-align: right;\n    }\n</style>\n<table border=\"1\" class=\"dataframe\">\n  <thead>\n    <tr style=\"text-align: right;\">\n      <th></th>\n      <th>league</th>\n    </tr>\n  </thead>\n  <tbody>\n    <tr>\n      <th>standard</th>\n      <td>{'isNBAFranchise': False, 'isAllStar': True, '...</td>\n    </tr>\n    <tr>\n      <th>standard</th>\n      <td>{'isNBAFranchise': False, 'isAllStar': True, '...</td>\n    </tr>\n    <tr>\n      <th>standard</th>\n      <td>{'isNBAFranchise': False, 'isAllStar': True, '...</td>\n    </tr>\n    <tr>\n      <th>standard</th>\n      <td>{'isNBAFranchise': False, 'isAllStar': True, '...</td>\n    </tr>\n    <tr>\n      <th>standard</th>\n      <td>{'isNBAFranchise': False, 'isAllStar': True, '...</td>\n    </tr>\n    <tr>\n      <th>...</th>\n      <td>...</td>\n    </tr>\n    <tr>\n      <th>vegas</th>\n      <td>{'isNBAFranchise': True, 'isAllStar': False, '...</td>\n    </tr>\n    <tr>\n      <th>utah</th>\n      <td>{'isNBAFranchise': True, 'isAllStar': False, '...</td>\n    </tr>\n    <tr>\n      <th>utah</th>\n      <td>{'isNBAFranchise': True, 'isAllStar': False, '...</td>\n    </tr>\n    <tr>\n      <th>utah</th>\n      <td>{'isNBAFranchise': True, 'isAllStar': False, '...</td>\n    </tr>\n    <tr>\n      <th>utah</th>\n      <td>{'isNBAFranchise': True, 'isAllStar': False, '...</td>\n    </tr>\n  </tbody>\n</table>\n<p>88 rows × 1 columns</p>\n</div>"
     },
     "metadata": {},
     "execution_count": 28
    }
   ],
   "source": [
    "df_json_readed['league']\n",
    "\n",
    "df_json_leido_liga = pd.DataFrame(df_json_readed['league'])\n",
    "df_json_leido_liga.explode('league')"
   ]
  },
  {
   "cell_type": "code",
   "execution_count": 26,
   "metadata": {},
   "outputs": [
    {
     "output_type": "execute_result",
     "data": {
      "text/plain": [
       "          isNBAFranchise  isAllStar          city   altCityName  \\\n",
       "standard           False       True           USA           USA   \n",
       "standard           False       True         World         World   \n",
       "standard           False       True          Team          Team   \n",
       "standard           False       True          Team          Team   \n",
       "standard           False       True  Team Giannis  Team Giannis   \n",
       "...                  ...        ...           ...           ...   \n",
       "vegas               True      False    Washington    Washington   \n",
       "utah                True      False       Atlanta       Atlanta   \n",
       "utah                True      False       Memphis       Memphis   \n",
       "utah                True      False   San Antonio   San Antonio   \n",
       "utah                True      False          Utah          Utah   \n",
       "\n",
       "                    fullName tricode      teamId      nickname       urlName  \\\n",
       "standard                 USA     USA  1610616843           USA           usa   \n",
       "standard               World     WLD  1610616844         World         world   \n",
       "standard           All-Stars     EST  1699999999     All-Stars     assn_away   \n",
       "standard           All-Stars     WST  1699999998     All-Stars     assn_home   \n",
       "standard        Team Giannis     GNS  1610616833  Team Giannis  team_giannis   \n",
       "...                      ...     ...         ...           ...           ...   \n",
       "vegas     Washington Wizards     WAS  1610612764       Wizards       wizards   \n",
       "utah           Atlanta Hawks     ATL  1610612737         Hawks         hawks   \n",
       "utah       Memphis Grizzlies     MEM  1610612763     Grizzlies     grizzlies   \n",
       "utah       San Antonio Spurs     SAS  1610612759         Spurs         spurs   \n",
       "utah               Utah Jazz     UTA  1610612762          Jazz          jazz   \n",
       "\n",
       "         confName divName  \n",
       "standard     East    East  \n",
       "standard     East    East  \n",
       "standard     East    East  \n",
       "standard     West    West  \n",
       "standard     East    East  \n",
       "...           ...     ...  \n",
       "vegas      summer          \n",
       "utah         Utah          \n",
       "utah         Utah          \n",
       "utah         Utah          \n",
       "utah         Utah          \n",
       "\n",
       "[88 rows x 11 columns]"
      ],
      "text/html": "<div>\n<style scoped>\n    .dataframe tbody tr th:only-of-type {\n        vertical-align: middle;\n    }\n\n    .dataframe tbody tr th {\n        vertical-align: top;\n    }\n\n    .dataframe thead th {\n        text-align: right;\n    }\n</style>\n<table border=\"1\" class=\"dataframe\">\n  <thead>\n    <tr style=\"text-align: right;\">\n      <th></th>\n      <th>isNBAFranchise</th>\n      <th>isAllStar</th>\n      <th>city</th>\n      <th>altCityName</th>\n      <th>fullName</th>\n      <th>tricode</th>\n      <th>teamId</th>\n      <th>nickname</th>\n      <th>urlName</th>\n      <th>confName</th>\n      <th>divName</th>\n    </tr>\n  </thead>\n  <tbody>\n    <tr>\n      <th>standard</th>\n      <td>False</td>\n      <td>True</td>\n      <td>USA</td>\n      <td>USA</td>\n      <td>USA</td>\n      <td>USA</td>\n      <td>1610616843</td>\n      <td>USA</td>\n      <td>usa</td>\n      <td>East</td>\n      <td>East</td>\n    </tr>\n    <tr>\n      <th>standard</th>\n      <td>False</td>\n      <td>True</td>\n      <td>World</td>\n      <td>World</td>\n      <td>World</td>\n      <td>WLD</td>\n      <td>1610616844</td>\n      <td>World</td>\n      <td>world</td>\n      <td>East</td>\n      <td>East</td>\n    </tr>\n    <tr>\n      <th>standard</th>\n      <td>False</td>\n      <td>True</td>\n      <td>Team</td>\n      <td>Team</td>\n      <td>All-Stars</td>\n      <td>EST</td>\n      <td>1699999999</td>\n      <td>All-Stars</td>\n      <td>assn_away</td>\n      <td>East</td>\n      <td>East</td>\n    </tr>\n    <tr>\n      <th>standard</th>\n      <td>False</td>\n      <td>True</td>\n      <td>Team</td>\n      <td>Team</td>\n      <td>All-Stars</td>\n      <td>WST</td>\n      <td>1699999998</td>\n      <td>All-Stars</td>\n      <td>assn_home</td>\n      <td>West</td>\n      <td>West</td>\n    </tr>\n    <tr>\n      <th>standard</th>\n      <td>False</td>\n      <td>True</td>\n      <td>Team Giannis</td>\n      <td>Team Giannis</td>\n      <td>Team Giannis</td>\n      <td>GNS</td>\n      <td>1610616833</td>\n      <td>Team Giannis</td>\n      <td>team_giannis</td>\n      <td>East</td>\n      <td>East</td>\n    </tr>\n    <tr>\n      <th>...</th>\n      <td>...</td>\n      <td>...</td>\n      <td>...</td>\n      <td>...</td>\n      <td>...</td>\n      <td>...</td>\n      <td>...</td>\n      <td>...</td>\n      <td>...</td>\n      <td>...</td>\n      <td>...</td>\n    </tr>\n    <tr>\n      <th>vegas</th>\n      <td>True</td>\n      <td>False</td>\n      <td>Washington</td>\n      <td>Washington</td>\n      <td>Washington Wizards</td>\n      <td>WAS</td>\n      <td>1610612764</td>\n      <td>Wizards</td>\n      <td>wizards</td>\n      <td>summer</td>\n      <td></td>\n    </tr>\n    <tr>\n      <th>utah</th>\n      <td>True</td>\n      <td>False</td>\n      <td>Atlanta</td>\n      <td>Atlanta</td>\n      <td>Atlanta Hawks</td>\n      <td>ATL</td>\n      <td>1610612737</td>\n      <td>Hawks</td>\n      <td>hawks</td>\n      <td>Utah</td>\n      <td></td>\n    </tr>\n    <tr>\n      <th>utah</th>\n      <td>True</td>\n      <td>False</td>\n      <td>Memphis</td>\n      <td>Memphis</td>\n      <td>Memphis Grizzlies</td>\n      <td>MEM</td>\n      <td>1610612763</td>\n      <td>Grizzlies</td>\n      <td>grizzlies</td>\n      <td>Utah</td>\n      <td></td>\n    </tr>\n    <tr>\n      <th>utah</th>\n      <td>True</td>\n      <td>False</td>\n      <td>San Antonio</td>\n      <td>San Antonio</td>\n      <td>San Antonio Spurs</td>\n      <td>SAS</td>\n      <td>1610612759</td>\n      <td>Spurs</td>\n      <td>spurs</td>\n      <td>Utah</td>\n      <td></td>\n    </tr>\n    <tr>\n      <th>utah</th>\n      <td>True</td>\n      <td>False</td>\n      <td>Utah</td>\n      <td>Utah</td>\n      <td>Utah Jazz</td>\n      <td>UTA</td>\n      <td>1610612762</td>\n      <td>Jazz</td>\n      <td>jazz</td>\n      <td>Utah</td>\n      <td></td>\n    </tr>\n  </tbody>\n</table>\n<p>88 rows × 11 columns</p>\n</div>"
     },
     "metadata": {},
     "execution_count": 26
    }
   ],
   "source": [
    "df = df_json_leido_liga.explode('league').apply(lambda e: e.league, axis = 1, result_type = 'expand')\n",
    "df\n"
   ]
  },
  {
   "cell_type": "code",
   "execution_count": null,
   "metadata": {},
   "outputs": [],
   "source": []
  }
 ],
 "metadata": {
  "language_info": {
   "name": "python",
   "codemirror_mode": {
    "name": "ipython",
    "version": 3
   },
   "version": "3.9.0-final"
  },
  "orig_nbformat": 2,
  "file_extension": ".py",
  "mimetype": "text/x-python",
  "name": "python",
  "npconvert_exporter": "python",
  "pygments_lexer": "ipython3",
  "version": 3,
  "kernelspec": {
   "name": "python3",
   "display_name": "Python 3.9.0 64-bit",
   "metadata": {
    "interpreter": {
     "hash": "7812ea015bdcee6f23a998adcdd2ef97c151c0c241b7b7070987d9313e41299d"
    }
   }
  }
 },
 "nbformat": 4,
 "nbformat_minor": 2
}