{
 "metadata": {
  "language_info": {
   "codemirror_mode": {
    "name": "ipython",
    "version": 3
   },
   "file_extension": ".py",
   "mimetype": "text/x-python",
   "name": "python",
   "nbconvert_exporter": "python",
   "pygments_lexer": "ipython3",
   "version": "3.9.1-final"
  },
  "orig_nbformat": 2,
  "kernelspec": {
   "name": "python3",
   "display_name": "Python 3.9.1 64-bit",
   "metadata": {
    "interpreter": {
     "hash": "760892ce3164b76c03b317fa412cee1719926f6318c2a0c9ea286a3f84560ff2"
    }
   }
  }
 },
 "nbformat": 4,
 "nbformat_minor": 2,
 "cells": [
  {
   "cell_type": "markdown",
   "metadata": {},
   "source": [
    "A partir del archivo food_100, se pide:\n",
    "\n",
    "1. Limpiar el archivo borrando las columnas Unnamed.\n",
    "2. ¿Qué porcentaje de valores NaN hay en cada columna?\n",
    "3. ¿Tendría algún sentido clasificar el nombre de los alimentos a partir del top5 de columnas numéricas con menos valores NaN?"
   ]
  },
  {
   "cell_type": "code",
   "execution_count": 2,
   "metadata": {},
   "outputs": [
    {
     "output_type": "execute_result",
     "data": {
      "text/plain": [
       "    Unnamed: 0   code                                                url  \\\n",
       "0            0   3087  http://world-en.openfoodfacts.org/product/0000...   \n",
       "1            1   4530  http://world-en.openfoodfacts.org/product/0000...   \n",
       "2            2   4559  http://world-en.openfoodfacts.org/product/0000...   \n",
       "3            3  16087  http://world-en.openfoodfacts.org/product/0000...   \n",
       "4            4  16094  http://world-en.openfoodfacts.org/product/0000...   \n",
       "..         ...    ...                                                ...   \n",
       "95          95  34715  http://world-en.openfoodfacts.org/product/0000...   \n",
       "96          96  34784  http://world-en.openfoodfacts.org/product/0000...   \n",
       "97          97  34791  http://world-en.openfoodfacts.org/product/0000...   \n",
       "98          98  35071  http://world-en.openfoodfacts.org/product/0000...   \n",
       "99          99  35170  http://world-en.openfoodfacts.org/product/0000...   \n",
       "\n",
       "                       creator   created_t      created_datetime  \\\n",
       "0   openfoodfacts-contributors  1474103866  2016-09-17T09:17:46Z   \n",
       "1              usda-ndb-import  1489069957  2017-03-09T14:32:37Z   \n",
       "2              usda-ndb-import  1489069957  2017-03-09T14:32:37Z   \n",
       "3              usda-ndb-import  1489055731  2017-03-09T10:35:31Z   \n",
       "4              usda-ndb-import  1489055653  2017-03-09T10:34:13Z   \n",
       "..                         ...         ...                   ...   \n",
       "95             usda-ndb-import  1489055715  2017-03-09T10:35:15Z   \n",
       "96             usda-ndb-import  1489138485  2017-03-10T09:34:45Z   \n",
       "97             usda-ndb-import  1489055720  2017-03-09T10:35:20Z   \n",
       "98             usda-ndb-import  1489138484  2017-03-10T09:34:44Z   \n",
       "99             usda-ndb-import  1489138488  2017-03-10T09:34:48Z   \n",
       "\n",
       "    last_modified_t last_modified_datetime                    product_name  \\\n",
       "0        1474103893   2016-09-17T09:18:13Z              Farine de blé noir   \n",
       "1        1489069957   2017-03-09T14:32:37Z  Banana Chips Sweetened (Whole)   \n",
       "2        1489069957   2017-03-09T14:32:37Z                         Peanuts   \n",
       "3        1489055731   2017-03-09T10:35:31Z          Organic Salted Nut Mix   \n",
       "4        1489055653   2017-03-09T10:34:13Z                 Organic Polenta   \n",
       "..              ...                    ...                             ...   \n",
       "95       1489055715   2017-03-09T10:35:15Z            Organic Pecan Halves   \n",
       "96       1489138485   2017-03-10T09:34:45Z    Unsalted Dry Roasted Almonds   \n",
       "97       1489055720   2017-03-09T10:35:20Z       Organic Raw Pumpkin Seeds   \n",
       "98       1489138484   2017-03-10T09:34:44Z  Organic Extra Virgin Olive Oil   \n",
       "99       1489138488   2017-03-10T09:34:48Z                   Liquid Aminos   \n",
       "\n",
       "    generic_name  ... fruits-vegetables-nuts_100g  \\\n",
       "0            NaN  ...                         NaN   \n",
       "1            NaN  ...                         NaN   \n",
       "2            NaN  ...                         NaN   \n",
       "3            NaN  ...                         NaN   \n",
       "4            NaN  ...                         NaN   \n",
       "..           ...  ...                         ...   \n",
       "95           NaN  ...                         NaN   \n",
       "96           NaN  ...                         NaN   \n",
       "97           NaN  ...                         NaN   \n",
       "98           NaN  ...                         NaN   \n",
       "99           NaN  ...                         NaN   \n",
       "\n",
       "   fruits-vegetables-nuts-estimate_100g collagen-meat-protein-ratio_100g  \\\n",
       "0                                   NaN                              NaN   \n",
       "1                                   NaN                              NaN   \n",
       "2                                   NaN                              NaN   \n",
       "3                                   NaN                              NaN   \n",
       "4                                   NaN                              NaN   \n",
       "..                                  ...                              ...   \n",
       "95                                  NaN                              NaN   \n",
       "96                                  NaN                              NaN   \n",
       "97                                  NaN                              NaN   \n",
       "98                                  NaN                              NaN   \n",
       "99                                  NaN                              NaN   \n",
       "\n",
       "   cocoa_100g chlorophyl_100g carbon-footprint_100g nutrition-score-fr_100g  \\\n",
       "0         NaN             NaN                   NaN                     NaN   \n",
       "1         NaN             NaN                   NaN                    14.0   \n",
       "2         NaN             NaN                   NaN                     0.0   \n",
       "3         NaN             NaN                   NaN                    12.0   \n",
       "4         NaN             NaN                   NaN                     NaN   \n",
       "..        ...             ...                   ...                     ...   \n",
       "95        NaN             NaN                   NaN                     NaN   \n",
       "96        NaN             NaN                   NaN                     NaN   \n",
       "97        NaN             NaN                   NaN                    12.0   \n",
       "98        NaN             NaN                   NaN                     NaN   \n",
       "99        NaN             NaN                   NaN                     NaN   \n",
       "\n",
       "   nutrition-score-uk_100g  glycemic-index_100g  water-hardness_100g  \n",
       "0                      NaN                  NaN                  NaN  \n",
       "1                     14.0                  NaN                  NaN  \n",
       "2                      0.0                  NaN                  NaN  \n",
       "3                     12.0                  NaN                  NaN  \n",
       "4                      NaN                  NaN                  NaN  \n",
       "..                     ...                  ...                  ...  \n",
       "95                     NaN                  NaN                  NaN  \n",
       "96                     NaN                  NaN                  NaN  \n",
       "97                    12.0                  NaN                  NaN  \n",
       "98                     NaN                  NaN                  NaN  \n",
       "99                     NaN                  NaN                  NaN  \n",
       "\n",
       "[100 rows x 164 columns]"
      ],
      "text/html": "<div>\n<style scoped>\n    .dataframe tbody tr th:only-of-type {\n        vertical-align: middle;\n    }\n\n    .dataframe tbody tr th {\n        vertical-align: top;\n    }\n\n    .dataframe thead th {\n        text-align: right;\n    }\n</style>\n<table border=\"1\" class=\"dataframe\">\n  <thead>\n    <tr style=\"text-align: right;\">\n      <th></th>\n      <th>Unnamed: 0</th>\n      <th>code</th>\n      <th>url</th>\n      <th>creator</th>\n      <th>created_t</th>\n      <th>created_datetime</th>\n      <th>last_modified_t</th>\n      <th>last_modified_datetime</th>\n      <th>product_name</th>\n      <th>generic_name</th>\n      <th>...</th>\n      <th>fruits-vegetables-nuts_100g</th>\n      <th>fruits-vegetables-nuts-estimate_100g</th>\n      <th>collagen-meat-protein-ratio_100g</th>\n      <th>cocoa_100g</th>\n      <th>chlorophyl_100g</th>\n      <th>carbon-footprint_100g</th>\n      <th>nutrition-score-fr_100g</th>\n      <th>nutrition-score-uk_100g</th>\n      <th>glycemic-index_100g</th>\n      <th>water-hardness_100g</th>\n    </tr>\n  </thead>\n  <tbody>\n    <tr>\n      <th>0</th>\n      <td>0</td>\n      <td>3087</td>\n      <td>http://world-en.openfoodfacts.org/product/0000...</td>\n      <td>openfoodfacts-contributors</td>\n      <td>1474103866</td>\n      <td>2016-09-17T09:17:46Z</td>\n      <td>1474103893</td>\n      <td>2016-09-17T09:18:13Z</td>\n      <td>Farine de blé noir</td>\n      <td>NaN</td>\n      <td>...</td>\n      <td>NaN</td>\n      <td>NaN</td>\n      <td>NaN</td>\n      <td>NaN</td>\n      <td>NaN</td>\n      <td>NaN</td>\n      <td>NaN</td>\n      <td>NaN</td>\n      <td>NaN</td>\n      <td>NaN</td>\n    </tr>\n    <tr>\n      <th>1</th>\n      <td>1</td>\n      <td>4530</td>\n      <td>http://world-en.openfoodfacts.org/product/0000...</td>\n      <td>usda-ndb-import</td>\n      <td>1489069957</td>\n      <td>2017-03-09T14:32:37Z</td>\n      <td>1489069957</td>\n      <td>2017-03-09T14:32:37Z</td>\n      <td>Banana Chips Sweetened (Whole)</td>\n      <td>NaN</td>\n      <td>...</td>\n      <td>NaN</td>\n      <td>NaN</td>\n      <td>NaN</td>\n      <td>NaN</td>\n      <td>NaN</td>\n      <td>NaN</td>\n      <td>14.0</td>\n      <td>14.0</td>\n      <td>NaN</td>\n      <td>NaN</td>\n    </tr>\n    <tr>\n      <th>2</th>\n      <td>2</td>\n      <td>4559</td>\n      <td>http://world-en.openfoodfacts.org/product/0000...</td>\n      <td>usda-ndb-import</td>\n      <td>1489069957</td>\n      <td>2017-03-09T14:32:37Z</td>\n      <td>1489069957</td>\n      <td>2017-03-09T14:32:37Z</td>\n      <td>Peanuts</td>\n      <td>NaN</td>\n      <td>...</td>\n      <td>NaN</td>\n      <td>NaN</td>\n      <td>NaN</td>\n      <td>NaN</td>\n      <td>NaN</td>\n      <td>NaN</td>\n      <td>0.0</td>\n      <td>0.0</td>\n      <td>NaN</td>\n      <td>NaN</td>\n    </tr>\n    <tr>\n      <th>3</th>\n      <td>3</td>\n      <td>16087</td>\n      <td>http://world-en.openfoodfacts.org/product/0000...</td>\n      <td>usda-ndb-import</td>\n      <td>1489055731</td>\n      <td>2017-03-09T10:35:31Z</td>\n      <td>1489055731</td>\n      <td>2017-03-09T10:35:31Z</td>\n      <td>Organic Salted Nut Mix</td>\n      <td>NaN</td>\n      <td>...</td>\n      <td>NaN</td>\n      <td>NaN</td>\n      <td>NaN</td>\n      <td>NaN</td>\n      <td>NaN</td>\n      <td>NaN</td>\n      <td>12.0</td>\n      <td>12.0</td>\n      <td>NaN</td>\n      <td>NaN</td>\n    </tr>\n    <tr>\n      <th>4</th>\n      <td>4</td>\n      <td>16094</td>\n      <td>http://world-en.openfoodfacts.org/product/0000...</td>\n      <td>usda-ndb-import</td>\n      <td>1489055653</td>\n      <td>2017-03-09T10:34:13Z</td>\n      <td>1489055653</td>\n      <td>2017-03-09T10:34:13Z</td>\n      <td>Organic Polenta</td>\n      <td>NaN</td>\n      <td>...</td>\n      <td>NaN</td>\n      <td>NaN</td>\n      <td>NaN</td>\n      <td>NaN</td>\n      <td>NaN</td>\n      <td>NaN</td>\n      <td>NaN</td>\n      <td>NaN</td>\n      <td>NaN</td>\n      <td>NaN</td>\n    </tr>\n    <tr>\n      <th>...</th>\n      <td>...</td>\n      <td>...</td>\n      <td>...</td>\n      <td>...</td>\n      <td>...</td>\n      <td>...</td>\n      <td>...</td>\n      <td>...</td>\n      <td>...</td>\n      <td>...</td>\n      <td>...</td>\n      <td>...</td>\n      <td>...</td>\n      <td>...</td>\n      <td>...</td>\n      <td>...</td>\n      <td>...</td>\n      <td>...</td>\n      <td>...</td>\n      <td>...</td>\n      <td>...</td>\n    </tr>\n    <tr>\n      <th>95</th>\n      <td>95</td>\n      <td>34715</td>\n      <td>http://world-en.openfoodfacts.org/product/0000...</td>\n      <td>usda-ndb-import</td>\n      <td>1489055715</td>\n      <td>2017-03-09T10:35:15Z</td>\n      <td>1489055715</td>\n      <td>2017-03-09T10:35:15Z</td>\n      <td>Organic Pecan Halves</td>\n      <td>NaN</td>\n      <td>...</td>\n      <td>NaN</td>\n      <td>NaN</td>\n      <td>NaN</td>\n      <td>NaN</td>\n      <td>NaN</td>\n      <td>NaN</td>\n      <td>NaN</td>\n      <td>NaN</td>\n      <td>NaN</td>\n      <td>NaN</td>\n    </tr>\n    <tr>\n      <th>96</th>\n      <td>96</td>\n      <td>34784</td>\n      <td>http://world-en.openfoodfacts.org/product/0000...</td>\n      <td>usda-ndb-import</td>\n      <td>1489138485</td>\n      <td>2017-03-10T09:34:45Z</td>\n      <td>1489138485</td>\n      <td>2017-03-10T09:34:45Z</td>\n      <td>Unsalted Dry Roasted Almonds</td>\n      <td>NaN</td>\n      <td>...</td>\n      <td>NaN</td>\n      <td>NaN</td>\n      <td>NaN</td>\n      <td>NaN</td>\n      <td>NaN</td>\n      <td>NaN</td>\n      <td>NaN</td>\n      <td>NaN</td>\n      <td>NaN</td>\n      <td>NaN</td>\n    </tr>\n    <tr>\n      <th>97</th>\n      <td>97</td>\n      <td>34791</td>\n      <td>http://world-en.openfoodfacts.org/product/0000...</td>\n      <td>usda-ndb-import</td>\n      <td>1489055720</td>\n      <td>2017-03-09T10:35:20Z</td>\n      <td>1489055720</td>\n      <td>2017-03-09T10:35:20Z</td>\n      <td>Organic Raw Pumpkin Seeds</td>\n      <td>NaN</td>\n      <td>...</td>\n      <td>NaN</td>\n      <td>NaN</td>\n      <td>NaN</td>\n      <td>NaN</td>\n      <td>NaN</td>\n      <td>NaN</td>\n      <td>12.0</td>\n      <td>12.0</td>\n      <td>NaN</td>\n      <td>NaN</td>\n    </tr>\n    <tr>\n      <th>98</th>\n      <td>98</td>\n      <td>35071</td>\n      <td>http://world-en.openfoodfacts.org/product/0000...</td>\n      <td>usda-ndb-import</td>\n      <td>1489138484</td>\n      <td>2017-03-10T09:34:44Z</td>\n      <td>1489138484</td>\n      <td>2017-03-10T09:34:44Z</td>\n      <td>Organic Extra Virgin Olive Oil</td>\n      <td>NaN</td>\n      <td>...</td>\n      <td>NaN</td>\n      <td>NaN</td>\n      <td>NaN</td>\n      <td>NaN</td>\n      <td>NaN</td>\n      <td>NaN</td>\n      <td>NaN</td>\n      <td>NaN</td>\n      <td>NaN</td>\n      <td>NaN</td>\n    </tr>\n    <tr>\n      <th>99</th>\n      <td>99</td>\n      <td>35170</td>\n      <td>http://world-en.openfoodfacts.org/product/0000...</td>\n      <td>usda-ndb-import</td>\n      <td>1489138488</td>\n      <td>2017-03-10T09:34:48Z</td>\n      <td>1489138488</td>\n      <td>2017-03-10T09:34:48Z</td>\n      <td>Liquid Aminos</td>\n      <td>NaN</td>\n      <td>...</td>\n      <td>NaN</td>\n      <td>NaN</td>\n      <td>NaN</td>\n      <td>NaN</td>\n      <td>NaN</td>\n      <td>NaN</td>\n      <td>NaN</td>\n      <td>NaN</td>\n      <td>NaN</td>\n      <td>NaN</td>\n    </tr>\n  </tbody>\n</table>\n<p>100 rows × 164 columns</p>\n</div>"
     },
     "metadata": {},
     "execution_count": 2
    }
   ],
   "source": [
    "import pandas as pd\n",
    "df = pd.read_csv(\"data/food_100.csv\")\n",
    "\n",
    "df"
   ]
  },
  {
   "source": [
    "### Drop 'Unnamed:0' column"
   ],
   "cell_type": "markdown",
   "metadata": {}
  },
  {
   "cell_type": "code",
   "execution_count": 3,
   "metadata": {},
   "outputs": [],
   "source": [
    "df.drop(columns='Unnamed: 0', inplace=True)"
   ]
  },
  {
   "cell_type": "code",
   "execution_count": 5,
   "metadata": {},
   "outputs": [
    {
     "output_type": "execute_result",
     "data": {
      "text/plain": [
       "    code                                                url  \\\n",
       "0   3087  http://world-en.openfoodfacts.org/product/0000...   \n",
       "1   4530  http://world-en.openfoodfacts.org/product/0000...   \n",
       "2   4559  http://world-en.openfoodfacts.org/product/0000...   \n",
       "3  16087  http://world-en.openfoodfacts.org/product/0000...   \n",
       "4  16094  http://world-en.openfoodfacts.org/product/0000...   \n",
       "\n",
       "                      creator   created_t      created_datetime  \\\n",
       "0  openfoodfacts-contributors  1474103866  2016-09-17T09:17:46Z   \n",
       "1             usda-ndb-import  1489069957  2017-03-09T14:32:37Z   \n",
       "2             usda-ndb-import  1489069957  2017-03-09T14:32:37Z   \n",
       "3             usda-ndb-import  1489055731  2017-03-09T10:35:31Z   \n",
       "4             usda-ndb-import  1489055653  2017-03-09T10:34:13Z   \n",
       "\n",
       "   last_modified_t last_modified_datetime                    product_name  \\\n",
       "0       1474103893   2016-09-17T09:18:13Z              Farine de blé noir   \n",
       "1       1489069957   2017-03-09T14:32:37Z  Banana Chips Sweetened (Whole)   \n",
       "2       1489069957   2017-03-09T14:32:37Z                         Peanuts   \n",
       "3       1489055731   2017-03-09T10:35:31Z          Organic Salted Nut Mix   \n",
       "4       1489055653   2017-03-09T10:34:13Z                 Organic Polenta   \n",
       "\n",
       "   generic_name quantity  ... fruits-vegetables-nuts_100g  \\\n",
       "0           NaN      1kg  ...                         NaN   \n",
       "1           NaN      NaN  ...                         NaN   \n",
       "2           NaN      NaN  ...                         NaN   \n",
       "3           NaN      NaN  ...                         NaN   \n",
       "4           NaN      NaN  ...                         NaN   \n",
       "\n",
       "  fruits-vegetables-nuts-estimate_100g collagen-meat-protein-ratio_100g  \\\n",
       "0                                  NaN                              NaN   \n",
       "1                                  NaN                              NaN   \n",
       "2                                  NaN                              NaN   \n",
       "3                                  NaN                              NaN   \n",
       "4                                  NaN                              NaN   \n",
       "\n",
       "  cocoa_100g chlorophyl_100g carbon-footprint_100g nutrition-score-fr_100g  \\\n",
       "0        NaN             NaN                   NaN                     NaN   \n",
       "1        NaN             NaN                   NaN                    14.0   \n",
       "2        NaN             NaN                   NaN                     0.0   \n",
       "3        NaN             NaN                   NaN                    12.0   \n",
       "4        NaN             NaN                   NaN                     NaN   \n",
       "\n",
       "   nutrition-score-uk_100g  glycemic-index_100g  water-hardness_100g  \n",
       "0                      NaN                  NaN                  NaN  \n",
       "1                     14.0                  NaN                  NaN  \n",
       "2                      0.0                  NaN                  NaN  \n",
       "3                     12.0                  NaN                  NaN  \n",
       "4                      NaN                  NaN                  NaN  \n",
       "\n",
       "[5 rows x 163 columns]"
      ],
      "text/html": "<div>\n<style scoped>\n    .dataframe tbody tr th:only-of-type {\n        vertical-align: middle;\n    }\n\n    .dataframe tbody tr th {\n        vertical-align: top;\n    }\n\n    .dataframe thead th {\n        text-align: right;\n    }\n</style>\n<table border=\"1\" class=\"dataframe\">\n  <thead>\n    <tr style=\"text-align: right;\">\n      <th></th>\n      <th>code</th>\n      <th>url</th>\n      <th>creator</th>\n      <th>created_t</th>\n      <th>created_datetime</th>\n      <th>last_modified_t</th>\n      <th>last_modified_datetime</th>\n      <th>product_name</th>\n      <th>generic_name</th>\n      <th>quantity</th>\n      <th>...</th>\n      <th>fruits-vegetables-nuts_100g</th>\n      <th>fruits-vegetables-nuts-estimate_100g</th>\n      <th>collagen-meat-protein-ratio_100g</th>\n      <th>cocoa_100g</th>\n      <th>chlorophyl_100g</th>\n      <th>carbon-footprint_100g</th>\n      <th>nutrition-score-fr_100g</th>\n      <th>nutrition-score-uk_100g</th>\n      <th>glycemic-index_100g</th>\n      <th>water-hardness_100g</th>\n    </tr>\n  </thead>\n  <tbody>\n    <tr>\n      <th>0</th>\n      <td>3087</td>\n      <td>http://world-en.openfoodfacts.org/product/0000...</td>\n      <td>openfoodfacts-contributors</td>\n      <td>1474103866</td>\n      <td>2016-09-17T09:17:46Z</td>\n      <td>1474103893</td>\n      <td>2016-09-17T09:18:13Z</td>\n      <td>Farine de blé noir</td>\n      <td>NaN</td>\n      <td>1kg</td>\n      <td>...</td>\n      <td>NaN</td>\n      <td>NaN</td>\n      <td>NaN</td>\n      <td>NaN</td>\n      <td>NaN</td>\n      <td>NaN</td>\n      <td>NaN</td>\n      <td>NaN</td>\n      <td>NaN</td>\n      <td>NaN</td>\n    </tr>\n    <tr>\n      <th>1</th>\n      <td>4530</td>\n      <td>http://world-en.openfoodfacts.org/product/0000...</td>\n      <td>usda-ndb-import</td>\n      <td>1489069957</td>\n      <td>2017-03-09T14:32:37Z</td>\n      <td>1489069957</td>\n      <td>2017-03-09T14:32:37Z</td>\n      <td>Banana Chips Sweetened (Whole)</td>\n      <td>NaN</td>\n      <td>NaN</td>\n      <td>...</td>\n      <td>NaN</td>\n      <td>NaN</td>\n      <td>NaN</td>\n      <td>NaN</td>\n      <td>NaN</td>\n      <td>NaN</td>\n      <td>14.0</td>\n      <td>14.0</td>\n      <td>NaN</td>\n      <td>NaN</td>\n    </tr>\n    <tr>\n      <th>2</th>\n      <td>4559</td>\n      <td>http://world-en.openfoodfacts.org/product/0000...</td>\n      <td>usda-ndb-import</td>\n      <td>1489069957</td>\n      <td>2017-03-09T14:32:37Z</td>\n      <td>1489069957</td>\n      <td>2017-03-09T14:32:37Z</td>\n      <td>Peanuts</td>\n      <td>NaN</td>\n      <td>NaN</td>\n      <td>...</td>\n      <td>NaN</td>\n      <td>NaN</td>\n      <td>NaN</td>\n      <td>NaN</td>\n      <td>NaN</td>\n      <td>NaN</td>\n      <td>0.0</td>\n      <td>0.0</td>\n      <td>NaN</td>\n      <td>NaN</td>\n    </tr>\n    <tr>\n      <th>3</th>\n      <td>16087</td>\n      <td>http://world-en.openfoodfacts.org/product/0000...</td>\n      <td>usda-ndb-import</td>\n      <td>1489055731</td>\n      <td>2017-03-09T10:35:31Z</td>\n      <td>1489055731</td>\n      <td>2017-03-09T10:35:31Z</td>\n      <td>Organic Salted Nut Mix</td>\n      <td>NaN</td>\n      <td>NaN</td>\n      <td>...</td>\n      <td>NaN</td>\n      <td>NaN</td>\n      <td>NaN</td>\n      <td>NaN</td>\n      <td>NaN</td>\n      <td>NaN</td>\n      <td>12.0</td>\n      <td>12.0</td>\n      <td>NaN</td>\n      <td>NaN</td>\n    </tr>\n    <tr>\n      <th>4</th>\n      <td>16094</td>\n      <td>http://world-en.openfoodfacts.org/product/0000...</td>\n      <td>usda-ndb-import</td>\n      <td>1489055653</td>\n      <td>2017-03-09T10:34:13Z</td>\n      <td>1489055653</td>\n      <td>2017-03-09T10:34:13Z</td>\n      <td>Organic Polenta</td>\n      <td>NaN</td>\n      <td>NaN</td>\n      <td>...</td>\n      <td>NaN</td>\n      <td>NaN</td>\n      <td>NaN</td>\n      <td>NaN</td>\n      <td>NaN</td>\n      <td>NaN</td>\n      <td>NaN</td>\n      <td>NaN</td>\n      <td>NaN</td>\n      <td>NaN</td>\n    </tr>\n  </tbody>\n</table>\n<p>5 rows × 163 columns</p>\n</div>"
     },
     "metadata": {},
     "execution_count": 5
    }
   ],
   "source": [
    "df.head()"
   ]
  },
  {
   "cell_type": "code",
   "execution_count": 56,
   "metadata": {
    "tags": []
   },
   "outputs": [
    {
     "output_type": "stream",
     "name": "stdout",
     "text": [
      "code --> 0.0\n-----------\nurl --> 0.0\n-----------\ncreator --> 0.0\n-----------\ncreated_t --> 0.0\n-----------\ncreated_datetime --> 0.0\n-----------\nlast_modified_t --> 0.0\n-----------\nlast_modified_datetime --> 0.0\n-----------\nproduct_name --> 1.0\n-----------\ngeneric_name --> 100.0\n-----------\nquantity --> 95.0\n-----------\npackaging --> 99.0\n-----------\npackaging_tags --> 99.0\n-----------\nbrands --> 4.0\n-----------\nbrands_tags --> 4.0\n-----------\ncategories --> 99.0\n-----------\ncategories_tags --> 99.0\n-----------\ncategories_en --> 99.0\n-----------\norigins --> 100.0\n-----------\norigins_tags --> 100.0\n-----------\nmanufacturing_places --> 100.0\n-----------\nmanufacturing_places_tags --> 100.0\n-----------\nlabels --> 100.0\n-----------\nlabels_tags --> 100.0\n-----------\nlabels_en --> 100.0\n-----------\nemb_codes --> 100.0\n-----------\nemb_codes_tags --> 100.0\n-----------\nfirst_packaging_code_geo --> 100.0\n-----------\ncities --> 100.0\n-----------\ncities_tags --> 100.0\n-----------\npurchase_places --> 100.0\n-----------\nstores --> 100.0\n-----------\ncountries --> 0.0\n-----------\ncountries_tags --> 0.0\n-----------\ncountries_en --> 0.0\n-----------\ningredients_text --> 5.0\n-----------\nallergens --> 100.0\n-----------\nallergens_en --> 100.0\n-----------\ntraces --> 99.0\n-----------\ntraces_tags --> 99.0\n-----------\ntraces_en --> 99.0\n-----------\nserving_size --> 6.0\n-----------\nno_nutriments --> 100.0\n-----------\nadditives_n --> 5.0\n-----------\nadditives --> 5.0\n-----------\nadditives_tags --> 84.0\n-----------\nadditives_en --> 84.0\n-----------\ningredients_from_palm_oil_n --> 5.0\n-----------\ningredients_from_palm_oil --> 100.0\n-----------\ningredients_from_palm_oil_tags --> 100.0\n-----------\ningredients_that_may_be_from_palm_oil_n --> 5.0\n-----------\ningredients_that_may_be_from_palm_oil --> 100.0\n-----------\ningredients_that_may_be_from_palm_oil_tags --> 99.0\n-----------\nnutrition_grade_uk --> 100.0\n-----------\nnutrition_grade_fr --> 63.0\n-----------\npnns_groups_1 --> 99.0\n-----------\npnns_groups_2 --> 99.0\n-----------\nstates --> 0.0\n-----------\nstates_tags --> 0.0\n-----------\nstates_en --> 0.0\n-----------\nmain_category --> 99.0\n-----------\nmain_category_en --> 99.0\n-----------\nimage_url --> 98.0\n-----------\nimage_small_url --> 98.0\n-----------\nenergy_100g --> 8.0\n-----------\nenergy-from-fat_100g --> 100.0\n-----------\nfat_100g --> 20.0\n-----------\nsaturated-fat_100g --> 42.0\n-----------\n-butyric-acid_100g --> 100.0\n-----------\n-caproic-acid_100g --> 100.0\n-----------\n-caprylic-acid_100g --> 100.0\n-----------\n-capric-acid_100g --> 100.0\n-----------\n-lauric-acid_100g --> 100.0\n-----------\n-myristic-acid_100g --> 100.0\n-----------\n-palmitic-acid_100g --> 100.0\n-----------\n-stearic-acid_100g --> 100.0\n-----------\n-arachidic-acid_100g --> 100.0\n-----------\n-behenic-acid_100g --> 100.0\n-----------\n-lignoceric-acid_100g --> 100.0\n-----------\n-cerotic-acid_100g --> 100.0\n-----------\n-montanic-acid_100g --> 100.0\n-----------\n-melissic-acid_100g --> 100.0\n-----------\nmonounsaturated-fat_100g --> 100.0\n-----------\npolyunsaturated-fat_100g --> 100.0\n-----------\nomega-3-fat_100g --> 100.0\n-----------\n-alpha-linolenic-acid_100g --> 100.0\n-----------\n-eicosapentaenoic-acid_100g --> 100.0\n-----------\n-docosahexaenoic-acid_100g --> 100.0\n-----------\nomega-6-fat_100g --> 100.0\n-----------\n-linoleic-acid_100g --> 100.0\n-----------\n-arachidonic-acid_100g --> 100.0\n-----------\n-gamma-linolenic-acid_100g --> 100.0\n-----------\n-dihomo-gamma-linolenic-acid_100g --> 100.0\n-----------\nomega-9-fat_100g --> 100.0\n-----------\n-oleic-acid_100g --> 100.0\n-----------\n-elaidic-acid_100g --> 100.0\n-----------\n-gondoic-acid_100g --> 100.0\n-----------\n-mead-acid_100g --> 100.0\n-----------\n-erucic-acid_100g --> 100.0\n-----------\n-nervonic-acid_100g --> 100.0\n-----------\ntrans-fat_100g --> 96.0\n-----------\ncholesterol_100g --> 94.0\n-----------\ncarbohydrates_100g --> 10.0\n-----------\nsugars_100g --> 36.0\n-----------\n-sucrose_100g --> 100.0\n-----------\n-glucose_100g --> 100.0\n-----------\n-fructose_100g --> 100.0\n-----------\n-lactose_100g --> 100.0\n-----------\n-maltose_100g --> 100.0\n-----------\n-maltodextrins_100g --> 100.0\n-----------\nstarch_100g --> 100.0\n-----------\npolyols_100g --> 100.0\n-----------\nfiber_100g --> 14.0\n-----------\nproteins_100g --> 12.0\n-----------\ncasein_100g --> 100.0\n-----------\nserum-proteins_100g --> 100.0\n-----------\nnucleotides_100g --> 100.0\n-----------\nsalt_100g --> 41.0\n-----------\nsodium_100g --> 41.0\n-----------\nalcohol_100g --> 100.0\n-----------\nvitamin-a_100g --> 83.0\n-----------\nbeta-carotene_100g --> 100.0\n-----------\nvitamin-d_100g --> 100.0\n-----------\nvitamin-e_100g --> 100.0\n-----------\nvitamin-k_100g --> 100.0\n-----------\nvitamin-c_100g --> 80.0\n-----------\nvitamin-b1_100g --> 100.0\n-----------\nvitamin-b2_100g --> 100.0\n-----------\nvitamin-pp_100g --> 100.0\n-----------\nvitamin-b6_100g --> 100.0\n-----------\nvitamin-b9_100g --> 100.0\n-----------\nfolates_100g --> 100.0\n-----------\nvitamin-b12_100g --> 100.0\n-----------\nbiotin_100g --> 100.0\n-----------\npantothenic-acid_100g --> 100.0\n-----------\nsilica_100g --> 100.0\n-----------\nbicarbonate_100g --> 100.0\n-----------\npotassium_100g --> 100.0\n-----------\nchloride_100g --> 100.0\n-----------\ncalcium_100g --> 35.0\n-----------\nphosphorus_100g --> 100.0\n-----------\niron_100g --> 19.0\n-----------\nmagnesium_100g --> 100.0\n-----------\nzinc_100g --> 100.0\n-----------\ncopper_100g --> 100.0\n-----------\nmanganese_100g --> 100.0\n-----------\nfluoride_100g --> 100.0\n-----------\nselenium_100g --> 100.0\n-----------\nchromium_100g --> 100.0\n-----------\nmolybdenum_100g --> 100.0\n-----------\niodine_100g --> 100.0\n-----------\ncaffeine_100g --> 100.0\n-----------\ntaurine_100g --> 100.0\n-----------\nph_100g --> 100.0\n-----------\nfruits-vegetables-nuts_100g --> 100.0\n-----------\nfruits-vegetables-nuts-estimate_100g --> 100.0\n-----------\ncollagen-meat-protein-ratio_100g --> 100.0\n-----------\ncocoa_100g --> 100.0\n-----------\nchlorophyl_100g --> 100.0\n-----------\ncarbon-footprint_100g --> 100.0\n-----------\nnutrition-score-fr_100g --> 63.0\n-----------\nnutrition-score-uk_100g --> 63.0\n-----------\nglycemic-index_100g --> 100.0\n-----------\nwater-hardness_100g --> 100.0\n-----------\n"
     ]
    }
   ],
   "source": [
    "nulls_list = []\n",
    "for pos, i in enumerate(df.columns):\n",
    "    col = df.columns[pos]\n",
    "    null = df[i].isna().sum() * 100 /len(df)\n",
    "    x = col, null \n",
    "    \n",
    "    print(col, '-->', null)\n",
    "    print('-----------')\n",
    "    nulls_list.append(x)\n",
    "\n",
    "missing_df = pd.DataFrame({'column': df.columns, \\\n",
    "    'percent_missing': null})"
   ]
  },
  {
   "cell_type": "code",
   "execution_count": 60,
   "metadata": {},
   "outputs": [
    {
     "output_type": "execute_result",
     "data": {
      "text/plain": [
       "                         column  percent_missing\n",
       "84   -alpha-linolenic-acid_100g            100.0\n",
       "75         -arachidic-acid_100g            100.0\n",
       "89       -arachidonic-acid_100g            100.0\n",
       "76           -behenic-acid_100g            100.0\n",
       "67           -butyric-acid_100g            100.0\n",
       "..                          ...              ...\n",
       "122              vitamin-e_100g            100.0\n",
       "123              vitamin-k_100g            100.0\n",
       "127             vitamin-pp_100g            100.0\n",
       "162         water-hardness_100g            100.0\n",
       "142                   zinc_100g            100.0\n",
       "\n",
       "[163 rows x 2 columns]"
      ],
      "text/html": "<div>\n<style scoped>\n    .dataframe tbody tr th:only-of-type {\n        vertical-align: middle;\n    }\n\n    .dataframe tbody tr th {\n        vertical-align: top;\n    }\n\n    .dataframe thead th {\n        text-align: right;\n    }\n</style>\n<table border=\"1\" class=\"dataframe\">\n  <thead>\n    <tr style=\"text-align: right;\">\n      <th></th>\n      <th>column</th>\n      <th>percent_missing</th>\n    </tr>\n  </thead>\n  <tbody>\n    <tr>\n      <th>84</th>\n      <td>-alpha-linolenic-acid_100g</td>\n      <td>100.0</td>\n    </tr>\n    <tr>\n      <th>75</th>\n      <td>-arachidic-acid_100g</td>\n      <td>100.0</td>\n    </tr>\n    <tr>\n      <th>89</th>\n      <td>-arachidonic-acid_100g</td>\n      <td>100.0</td>\n    </tr>\n    <tr>\n      <th>76</th>\n      <td>-behenic-acid_100g</td>\n      <td>100.0</td>\n    </tr>\n    <tr>\n      <th>67</th>\n      <td>-butyric-acid_100g</td>\n      <td>100.0</td>\n    </tr>\n    <tr>\n      <th>...</th>\n      <td>...</td>\n      <td>...</td>\n    </tr>\n    <tr>\n      <th>122</th>\n      <td>vitamin-e_100g</td>\n      <td>100.0</td>\n    </tr>\n    <tr>\n      <th>123</th>\n      <td>vitamin-k_100g</td>\n      <td>100.0</td>\n    </tr>\n    <tr>\n      <th>127</th>\n      <td>vitamin-pp_100g</td>\n      <td>100.0</td>\n    </tr>\n    <tr>\n      <th>162</th>\n      <td>water-hardness_100g</td>\n      <td>100.0</td>\n    </tr>\n    <tr>\n      <th>142</th>\n      <td>zinc_100g</td>\n      <td>100.0</td>\n    </tr>\n  </tbody>\n</table>\n<p>163 rows × 2 columns</p>\n</div>"
     },
     "metadata": {},
     "execution_count": 60
    }
   ],
   "source": []
  },
  {
   "cell_type": "code",
   "execution_count": 53,
   "metadata": {},
   "outputs": [
    {
     "output_type": "stream",
     "name": "stdout",
     "text": [
      "('code', 0.0)\n-----------\n('created_t', 0.0)\n-----------\n('last_modified_t', 0.0)\n-----------\n('generic_name', 100.0)\n-----------\n('origins', 100.0)\n-----------\n('origins_tags', 100.0)\n-----------\n('manufacturing_places', 100.0)\n-----------\n('manufacturing_places_tags', 100.0)\n-----------\n('labels', 100.0)\n-----------\n('labels_tags', 100.0)\n-----------\n('labels_en', 100.0)\n-----------\n('emb_codes', 100.0)\n-----------\n('emb_codes_tags', 100.0)\n-----------\n('first_packaging_code_geo', 100.0)\n-----------\n('cities', 100.0)\n-----------\n('cities_tags', 100.0)\n-----------\n('purchase_places', 100.0)\n-----------\n('stores', 100.0)\n-----------\n('allergens', 100.0)\n-----------\n('allergens_en', 100.0)\n-----------\n('no_nutriments', 100.0)\n-----------\n('additives_n', 5.0)\n-----------\n('ingredients_from_palm_oil_n', 5.0)\n-----------\n('ingredients_from_palm_oil', 100.0)\n-----------\n('ingredients_from_palm_oil_tags', 100.0)\n-----------\n('ingredients_that_may_be_from_palm_oil_n', 5.0)\n-----------\n('ingredients_that_may_be_from_palm_oil', 100.0)\n-----------\n('nutrition_grade_uk', 100.0)\n-----------\n('energy_100g', 8.0)\n-----------\n('energy-from-fat_100g', 100.0)\n-----------\n('fat_100g', 20.0)\n-----------\n('saturated-fat_100g', 42.0)\n-----------\n('-butyric-acid_100g', 100.0)\n-----------\n('-caproic-acid_100g', 100.0)\n-----------\n('-caprylic-acid_100g', 100.0)\n-----------\n('-capric-acid_100g', 100.0)\n-----------\n('-lauric-acid_100g', 100.0)\n-----------\n('-myristic-acid_100g', 100.0)\n-----------\n('-palmitic-acid_100g', 100.0)\n-----------\n('-stearic-acid_100g', 100.0)\n-----------\n('-arachidic-acid_100g', 100.0)\n-----------\n('-behenic-acid_100g', 100.0)\n-----------\n('-lignoceric-acid_100g', 100.0)\n-----------\n('-cerotic-acid_100g', 100.0)\n-----------\n('-montanic-acid_100g', 100.0)\n-----------\n('-melissic-acid_100g', 100.0)\n-----------\n('monounsaturated-fat_100g', 100.0)\n-----------\n('polyunsaturated-fat_100g', 100.0)\n-----------\n('omega-3-fat_100g', 100.0)\n-----------\n('-alpha-linolenic-acid_100g', 100.0)\n-----------\n('-eicosapentaenoic-acid_100g', 100.0)\n-----------\n('-docosahexaenoic-acid_100g', 100.0)\n-----------\n('omega-6-fat_100g', 100.0)\n-----------\n('-linoleic-acid_100g', 100.0)\n-----------\n('-arachidonic-acid_100g', 100.0)\n-----------\n('-gamma-linolenic-acid_100g', 100.0)\n-----------\n('-dihomo-gamma-linolenic-acid_100g', 100.0)\n-----------\n('omega-9-fat_100g', 100.0)\n-----------\n('-oleic-acid_100g', 100.0)\n-----------\n('-elaidic-acid_100g', 100.0)\n-----------\n('-gondoic-acid_100g', 100.0)\n-----------\n('-mead-acid_100g', 100.0)\n-----------\n('-erucic-acid_100g', 100.0)\n-----------\n('-nervonic-acid_100g', 100.0)\n-----------\n('trans-fat_100g', 96.0)\n-----------\n('cholesterol_100g', 94.0)\n-----------\n('carbohydrates_100g', 10.0)\n-----------\n('sugars_100g', 36.0)\n-----------\n('-sucrose_100g', 100.0)\n-----------\n('-glucose_100g', 100.0)\n-----------\n('-fructose_100g', 100.0)\n-----------\n('-lactose_100g', 100.0)\n-----------\n('-maltose_100g', 100.0)\n-----------\n('-maltodextrins_100g', 100.0)\n-----------\n('starch_100g', 100.0)\n-----------\n('polyols_100g', 100.0)\n-----------\n('fiber_100g', 14.0)\n-----------\n('proteins_100g', 12.0)\n-----------\n('casein_100g', 100.0)\n-----------\n('serum-proteins_100g', 100.0)\n-----------\n('nucleotides_100g', 100.0)\n-----------\n('salt_100g', 41.0)\n-----------\n('sodium_100g', 41.0)\n-----------\n('alcohol_100g', 100.0)\n-----------\n('vitamin-a_100g', 83.0)\n-----------\n('beta-carotene_100g', 100.0)\n-----------\n('vitamin-d_100g', 100.0)\n-----------\n('vitamin-e_100g', 100.0)\n-----------\n('vitamin-k_100g', 100.0)\n-----------\n('vitamin-c_100g', 80.0)\n-----------\n('vitamin-b1_100g', 100.0)\n-----------\n('vitamin-b2_100g', 100.0)\n-----------\n('vitamin-pp_100g', 100.0)\n-----------\n('vitamin-b6_100g', 100.0)\n-----------\n('vitamin-b9_100g', 100.0)\n-----------\n('folates_100g', 100.0)\n-----------\n('vitamin-b12_100g', 100.0)\n-----------\n('biotin_100g', 100.0)\n-----------\n('pantothenic-acid_100g', 100.0)\n-----------\n('silica_100g', 100.0)\n-----------\n('bicarbonate_100g', 100.0)\n-----------\n('potassium_100g', 100.0)\n-----------\n('chloride_100g', 100.0)\n-----------\n('calcium_100g', 35.0)\n-----------\n('phosphorus_100g', 100.0)\n-----------\n('iron_100g', 19.0)\n-----------\n('magnesium_100g', 100.0)\n-----------\n('zinc_100g', 100.0)\n-----------\n('copper_100g', 100.0)\n-----------\n('manganese_100g', 100.0)\n-----------\n('fluoride_100g', 100.0)\n-----------\n('selenium_100g', 100.0)\n-----------\n('chromium_100g', 100.0)\n-----------\n('molybdenum_100g', 100.0)\n-----------\n('iodine_100g', 100.0)\n-----------\n('caffeine_100g', 100.0)\n-----------\n('taurine_100g', 100.0)\n-----------\n('ph_100g', 100.0)\n-----------\n('fruits-vegetables-nuts_100g', 100.0)\n-----------\n('fruits-vegetables-nuts-estimate_100g', 100.0)\n-----------\n('collagen-meat-protein-ratio_100g', 100.0)\n-----------\n('cocoa_100g', 100.0)\n-----------\n('chlorophyl_100g', 100.0)\n-----------\n('carbon-footprint_100g', 100.0)\n-----------\n('nutrition-score-fr_100g', 63.0)\n-----------\n('nutrition-score-uk_100g', 63.0)\n-----------\n('glycemic-index_100g', 100.0)\n-----------\n('water-hardness_100g', 100.0)\n-----------\n"
     ]
    }
   ],
   "source": [
    "#Select only the numerical values\n",
    "df_num = df.select_dtypes(exclude='object')\n",
    "nulls_list = []\n",
    "for pos, i in enumerate(df_num.columns):\n",
    "    x = df_num.columns[pos], df_num[i].isna().sum() * 100 /len(df_num)\n",
    "    print(x)\n",
    "    print('-----------')\n",
    "    nulls_list.append(x)"
   ]
  },
  {
   "cell_type": "code",
   "execution_count": 46,
   "metadata": {},
   "outputs": [
    {
     "output_type": "execute_result",
     "data": {
      "text/plain": [
       "     code                                                url  \\\n",
       "0    3087  http://world-en.openfoodfacts.org/product/0000...   \n",
       "1    4530  http://world-en.openfoodfacts.org/product/0000...   \n",
       "2    4559  http://world-en.openfoodfacts.org/product/0000...   \n",
       "3   16087  http://world-en.openfoodfacts.org/product/0000...   \n",
       "4   16094  http://world-en.openfoodfacts.org/product/0000...   \n",
       "..    ...                                                ...   \n",
       "95  34715  http://world-en.openfoodfacts.org/product/0000...   \n",
       "96  34784  http://world-en.openfoodfacts.org/product/0000...   \n",
       "97  34791  http://world-en.openfoodfacts.org/product/0000...   \n",
       "98  35071  http://world-en.openfoodfacts.org/product/0000...   \n",
       "99  35170  http://world-en.openfoodfacts.org/product/0000...   \n",
       "\n",
       "                       creator   created_t      created_datetime  \\\n",
       "0   openfoodfacts-contributors  1474103866  2016-09-17T09:17:46Z   \n",
       "1              usda-ndb-import  1489069957  2017-03-09T14:32:37Z   \n",
       "2              usda-ndb-import  1489069957  2017-03-09T14:32:37Z   \n",
       "3              usda-ndb-import  1489055731  2017-03-09T10:35:31Z   \n",
       "4              usda-ndb-import  1489055653  2017-03-09T10:34:13Z   \n",
       "..                         ...         ...                   ...   \n",
       "95             usda-ndb-import  1489055715  2017-03-09T10:35:15Z   \n",
       "96             usda-ndb-import  1489138485  2017-03-10T09:34:45Z   \n",
       "97             usda-ndb-import  1489055720  2017-03-09T10:35:20Z   \n",
       "98             usda-ndb-import  1489138484  2017-03-10T09:34:44Z   \n",
       "99             usda-ndb-import  1489138488  2017-03-10T09:34:48Z   \n",
       "\n",
       "    last_modified_t last_modified_datetime                    product_name  \\\n",
       "0        1474103893   2016-09-17T09:18:13Z              Farine de blé noir   \n",
       "1        1489069957   2017-03-09T14:32:37Z  Banana Chips Sweetened (Whole)   \n",
       "2        1489069957   2017-03-09T14:32:37Z                         Peanuts   \n",
       "3        1489055731   2017-03-09T10:35:31Z          Organic Salted Nut Mix   \n",
       "4        1489055653   2017-03-09T10:34:13Z                 Organic Polenta   \n",
       "..              ...                    ...                             ...   \n",
       "95       1489055715   2017-03-09T10:35:15Z            Organic Pecan Halves   \n",
       "96       1489138485   2017-03-10T09:34:45Z    Unsalted Dry Roasted Almonds   \n",
       "97       1489055720   2017-03-09T10:35:20Z       Organic Raw Pumpkin Seeds   \n",
       "98       1489138484   2017-03-10T09:34:44Z  Organic Extra Virgin Olive Oil   \n",
       "99       1489138488   2017-03-10T09:34:48Z                   Liquid Aminos   \n",
       "\n",
       "    generic_name quantity  ... fruits-vegetables-nuts_100g  \\\n",
       "0            NaN      1kg  ...                         NaN   \n",
       "1            NaN      NaN  ...                         NaN   \n",
       "2            NaN      NaN  ...                         NaN   \n",
       "3            NaN      NaN  ...                         NaN   \n",
       "4            NaN      NaN  ...                         NaN   \n",
       "..           ...      ...  ...                         ...   \n",
       "95           NaN      NaN  ...                         NaN   \n",
       "96           NaN      NaN  ...                         NaN   \n",
       "97           NaN      NaN  ...                         NaN   \n",
       "98           NaN      NaN  ...                         NaN   \n",
       "99           NaN      NaN  ...                         NaN   \n",
       "\n",
       "   fruits-vegetables-nuts-estimate_100g collagen-meat-protein-ratio_100g  \\\n",
       "0                                   NaN                              NaN   \n",
       "1                                   NaN                              NaN   \n",
       "2                                   NaN                              NaN   \n",
       "3                                   NaN                              NaN   \n",
       "4                                   NaN                              NaN   \n",
       "..                                  ...                              ...   \n",
       "95                                  NaN                              NaN   \n",
       "96                                  NaN                              NaN   \n",
       "97                                  NaN                              NaN   \n",
       "98                                  NaN                              NaN   \n",
       "99                                  NaN                              NaN   \n",
       "\n",
       "   cocoa_100g chlorophyl_100g carbon-footprint_100g nutrition-score-fr_100g  \\\n",
       "0         NaN             NaN                   NaN                     NaN   \n",
       "1         NaN             NaN                   NaN                    14.0   \n",
       "2         NaN             NaN                   NaN                     0.0   \n",
       "3         NaN             NaN                   NaN                    12.0   \n",
       "4         NaN             NaN                   NaN                     NaN   \n",
       "..        ...             ...                   ...                     ...   \n",
       "95        NaN             NaN                   NaN                     NaN   \n",
       "96        NaN             NaN                   NaN                     NaN   \n",
       "97        NaN             NaN                   NaN                    12.0   \n",
       "98        NaN             NaN                   NaN                     NaN   \n",
       "99        NaN             NaN                   NaN                     NaN   \n",
       "\n",
       "    nutrition-score-uk_100g  glycemic-index_100g  water-hardness_100g  \n",
       "0                       NaN                  NaN                  NaN  \n",
       "1                      14.0                  NaN                  NaN  \n",
       "2                       0.0                  NaN                  NaN  \n",
       "3                      12.0                  NaN                  NaN  \n",
       "4                       NaN                  NaN                  NaN  \n",
       "..                      ...                  ...                  ...  \n",
       "95                      NaN                  NaN                  NaN  \n",
       "96                      NaN                  NaN                  NaN  \n",
       "97                     12.0                  NaN                  NaN  \n",
       "98                      NaN                  NaN                  NaN  \n",
       "99                      NaN                  NaN                  NaN  \n",
       "\n",
       "[100 rows x 163 columns]"
      ],
      "text/html": "<div>\n<style scoped>\n    .dataframe tbody tr th:only-of-type {\n        vertical-align: middle;\n    }\n\n    .dataframe tbody tr th {\n        vertical-align: top;\n    }\n\n    .dataframe thead th {\n        text-align: right;\n    }\n</style>\n<table border=\"1\" class=\"dataframe\">\n  <thead>\n    <tr style=\"text-align: right;\">\n      <th></th>\n      <th>code</th>\n      <th>url</th>\n      <th>creator</th>\n      <th>created_t</th>\n      <th>created_datetime</th>\n      <th>last_modified_t</th>\n      <th>last_modified_datetime</th>\n      <th>product_name</th>\n      <th>generic_name</th>\n      <th>quantity</th>\n      <th>...</th>\n      <th>fruits-vegetables-nuts_100g</th>\n      <th>fruits-vegetables-nuts-estimate_100g</th>\n      <th>collagen-meat-protein-ratio_100g</th>\n      <th>cocoa_100g</th>\n      <th>chlorophyl_100g</th>\n      <th>carbon-footprint_100g</th>\n      <th>nutrition-score-fr_100g</th>\n      <th>nutrition-score-uk_100g</th>\n      <th>glycemic-index_100g</th>\n      <th>water-hardness_100g</th>\n    </tr>\n  </thead>\n  <tbody>\n    <tr>\n      <th>0</th>\n      <td>3087</td>\n      <td>http://world-en.openfoodfacts.org/product/0000...</td>\n      <td>openfoodfacts-contributors</td>\n      <td>1474103866</td>\n      <td>2016-09-17T09:17:46Z</td>\n      <td>1474103893</td>\n      <td>2016-09-17T09:18:13Z</td>\n      <td>Farine de blé noir</td>\n      <td>NaN</td>\n      <td>1kg</td>\n      <td>...</td>\n      <td>NaN</td>\n      <td>NaN</td>\n      <td>NaN</td>\n      <td>NaN</td>\n      <td>NaN</td>\n      <td>NaN</td>\n      <td>NaN</td>\n      <td>NaN</td>\n      <td>NaN</td>\n      <td>NaN</td>\n    </tr>\n    <tr>\n      <th>1</th>\n      <td>4530</td>\n      <td>http://world-en.openfoodfacts.org/product/0000...</td>\n      <td>usda-ndb-import</td>\n      <td>1489069957</td>\n      <td>2017-03-09T14:32:37Z</td>\n      <td>1489069957</td>\n      <td>2017-03-09T14:32:37Z</td>\n      <td>Banana Chips Sweetened (Whole)</td>\n      <td>NaN</td>\n      <td>NaN</td>\n      <td>...</td>\n      <td>NaN</td>\n      <td>NaN</td>\n      <td>NaN</td>\n      <td>NaN</td>\n      <td>NaN</td>\n      <td>NaN</td>\n      <td>14.0</td>\n      <td>14.0</td>\n      <td>NaN</td>\n      <td>NaN</td>\n    </tr>\n    <tr>\n      <th>2</th>\n      <td>4559</td>\n      <td>http://world-en.openfoodfacts.org/product/0000...</td>\n      <td>usda-ndb-import</td>\n      <td>1489069957</td>\n      <td>2017-03-09T14:32:37Z</td>\n      <td>1489069957</td>\n      <td>2017-03-09T14:32:37Z</td>\n      <td>Peanuts</td>\n      <td>NaN</td>\n      <td>NaN</td>\n      <td>...</td>\n      <td>NaN</td>\n      <td>NaN</td>\n      <td>NaN</td>\n      <td>NaN</td>\n      <td>NaN</td>\n      <td>NaN</td>\n      <td>0.0</td>\n      <td>0.0</td>\n      <td>NaN</td>\n      <td>NaN</td>\n    </tr>\n    <tr>\n      <th>3</th>\n      <td>16087</td>\n      <td>http://world-en.openfoodfacts.org/product/0000...</td>\n      <td>usda-ndb-import</td>\n      <td>1489055731</td>\n      <td>2017-03-09T10:35:31Z</td>\n      <td>1489055731</td>\n      <td>2017-03-09T10:35:31Z</td>\n      <td>Organic Salted Nut Mix</td>\n      <td>NaN</td>\n      <td>NaN</td>\n      <td>...</td>\n      <td>NaN</td>\n      <td>NaN</td>\n      <td>NaN</td>\n      <td>NaN</td>\n      <td>NaN</td>\n      <td>NaN</td>\n      <td>12.0</td>\n      <td>12.0</td>\n      <td>NaN</td>\n      <td>NaN</td>\n    </tr>\n    <tr>\n      <th>4</th>\n      <td>16094</td>\n      <td>http://world-en.openfoodfacts.org/product/0000...</td>\n      <td>usda-ndb-import</td>\n      <td>1489055653</td>\n      <td>2017-03-09T10:34:13Z</td>\n      <td>1489055653</td>\n      <td>2017-03-09T10:34:13Z</td>\n      <td>Organic Polenta</td>\n      <td>NaN</td>\n      <td>NaN</td>\n      <td>...</td>\n      <td>NaN</td>\n      <td>NaN</td>\n      <td>NaN</td>\n      <td>NaN</td>\n      <td>NaN</td>\n      <td>NaN</td>\n      <td>NaN</td>\n      <td>NaN</td>\n      <td>NaN</td>\n      <td>NaN</td>\n    </tr>\n    <tr>\n      <th>...</th>\n      <td>...</td>\n      <td>...</td>\n      <td>...</td>\n      <td>...</td>\n      <td>...</td>\n      <td>...</td>\n      <td>...</td>\n      <td>...</td>\n      <td>...</td>\n      <td>...</td>\n      <td>...</td>\n      <td>...</td>\n      <td>...</td>\n      <td>...</td>\n      <td>...</td>\n      <td>...</td>\n      <td>...</td>\n      <td>...</td>\n      <td>...</td>\n      <td>...</td>\n      <td>...</td>\n    </tr>\n    <tr>\n      <th>95</th>\n      <td>34715</td>\n      <td>http://world-en.openfoodfacts.org/product/0000...</td>\n      <td>usda-ndb-import</td>\n      <td>1489055715</td>\n      <td>2017-03-09T10:35:15Z</td>\n      <td>1489055715</td>\n      <td>2017-03-09T10:35:15Z</td>\n      <td>Organic Pecan Halves</td>\n      <td>NaN</td>\n      <td>NaN</td>\n      <td>...</td>\n      <td>NaN</td>\n      <td>NaN</td>\n      <td>NaN</td>\n      <td>NaN</td>\n      <td>NaN</td>\n      <td>NaN</td>\n      <td>NaN</td>\n      <td>NaN</td>\n      <td>NaN</td>\n      <td>NaN</td>\n    </tr>\n    <tr>\n      <th>96</th>\n      <td>34784</td>\n      <td>http://world-en.openfoodfacts.org/product/0000...</td>\n      <td>usda-ndb-import</td>\n      <td>1489138485</td>\n      <td>2017-03-10T09:34:45Z</td>\n      <td>1489138485</td>\n      <td>2017-03-10T09:34:45Z</td>\n      <td>Unsalted Dry Roasted Almonds</td>\n      <td>NaN</td>\n      <td>NaN</td>\n      <td>...</td>\n      <td>NaN</td>\n      <td>NaN</td>\n      <td>NaN</td>\n      <td>NaN</td>\n      <td>NaN</td>\n      <td>NaN</td>\n      <td>NaN</td>\n      <td>NaN</td>\n      <td>NaN</td>\n      <td>NaN</td>\n    </tr>\n    <tr>\n      <th>97</th>\n      <td>34791</td>\n      <td>http://world-en.openfoodfacts.org/product/0000...</td>\n      <td>usda-ndb-import</td>\n      <td>1489055720</td>\n      <td>2017-03-09T10:35:20Z</td>\n      <td>1489055720</td>\n      <td>2017-03-09T10:35:20Z</td>\n      <td>Organic Raw Pumpkin Seeds</td>\n      <td>NaN</td>\n      <td>NaN</td>\n      <td>...</td>\n      <td>NaN</td>\n      <td>NaN</td>\n      <td>NaN</td>\n      <td>NaN</td>\n      <td>NaN</td>\n      <td>NaN</td>\n      <td>12.0</td>\n      <td>12.0</td>\n      <td>NaN</td>\n      <td>NaN</td>\n    </tr>\n    <tr>\n      <th>98</th>\n      <td>35071</td>\n      <td>http://world-en.openfoodfacts.org/product/0000...</td>\n      <td>usda-ndb-import</td>\n      <td>1489138484</td>\n      <td>2017-03-10T09:34:44Z</td>\n      <td>1489138484</td>\n      <td>2017-03-10T09:34:44Z</td>\n      <td>Organic Extra Virgin Olive Oil</td>\n      <td>NaN</td>\n      <td>NaN</td>\n      <td>...</td>\n      <td>NaN</td>\n      <td>NaN</td>\n      <td>NaN</td>\n      <td>NaN</td>\n      <td>NaN</td>\n      <td>NaN</td>\n      <td>NaN</td>\n      <td>NaN</td>\n      <td>NaN</td>\n      <td>NaN</td>\n    </tr>\n    <tr>\n      <th>99</th>\n      <td>35170</td>\n      <td>http://world-en.openfoodfacts.org/product/0000...</td>\n      <td>usda-ndb-import</td>\n      <td>1489138488</td>\n      <td>2017-03-10T09:34:48Z</td>\n      <td>1489138488</td>\n      <td>2017-03-10T09:34:48Z</td>\n      <td>Liquid Aminos</td>\n      <td>NaN</td>\n      <td>NaN</td>\n      <td>...</td>\n      <td>NaN</td>\n      <td>NaN</td>\n      <td>NaN</td>\n      <td>NaN</td>\n      <td>NaN</td>\n      <td>NaN</td>\n      <td>NaN</td>\n      <td>NaN</td>\n      <td>NaN</td>\n      <td>NaN</td>\n    </tr>\n  </tbody>\n</table>\n<p>100 rows × 163 columns</p>\n</div>"
     },
     "metadata": {},
     "execution_count": 46
    }
   ],
   "source": [
    "df.sort_values(by='generic_name', na_position='first')"
   ]
  },
  {
   "source": [
    "### Lo siento, pero no entiendo la pregunta final. Imagino que no tiene mucho sentido hacer eso, porque el criterio a seguir carece de lógica"
   ],
   "cell_type": "markdown",
   "metadata": {}
  },
  {
   "cell_type": "code",
   "execution_count": null,
   "metadata": {},
   "outputs": [],
   "source": []
  }
 ]
}