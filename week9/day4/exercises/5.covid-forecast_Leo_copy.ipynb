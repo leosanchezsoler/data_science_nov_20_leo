{
 "metadata": {
  "language_info": {
   "codemirror_mode": {
    "name": "ipython",
    "version": 3
   },
   "file_extension": ".py",
   "mimetype": "text/x-python",
   "name": "python",
   "nbconvert_exporter": "python",
   "pygments_lexer": "ipython3",
   "version": "3.9.1-final"
  },
  "orig_nbformat": 2,
  "kernelspec": {
   "name": "python3",
   "display_name": "Python 3",
   "language": "python"
  }
 },
 "nbformat": 4,
 "nbformat_minor": 2,
 "cells": [
  {
   "source": [
    "## 1.\n",
    "\n",
    "*Recogiendo los datos de coronavirus de la página https://ourworldindata.org/coronavirus-source-data* \n",
    "\n",
    "A partir de la letra de tu DNI, elige al país que empieza por dicha letra que más fallecidos tenga. Si el país elegido no está entre el top 20 de fallecidos, elige como país España.\n",
    "\n",
    "En este caso, utilizaremos las columnas:\n",
    "\n",
    "- Nuevos casos\n",
    "- Nuevos fallecidos\n",
    "- Población\n",
    "- Fallecidos totales\n",
    "- Casos totales\n",
    "\n",
    "La fecha debe estar en el índice.\n",
    "\n",
    "1. Representa todas las columnas en un gráfica con diferentes magnitudes en el eje y para su correcta visualización.\n",
    "\n",
    "2. Elimina la columna \"Población\".\n",
    "\n",
    "3. Entrena los algoritmos de regresión que hemos visto hasta ahora para predecir dos columnas por separado: Nuevos casos y Nuevos fallecidos. Este modelo ha de entrenarse siguiendo el esquema recomendado de validación cruzada y almacenando los errores de entrenamiento y validación en cada iteración del entrenamiento. ¿Qué error se comete? ¿crees que los algoritmos de ML vistos hasta ahora son buenos para realizar un forecast de una serie temporal viendo los resultados?\n",
    "\n",
    "4. Representa la evolución de los errores de validación y entrenamiento en una gráfica. ¿Ha habido sobreaprendizaje?. Utiliza n_iteraciones = 23 y batches = 7 para este ejercicio y solo para la columna \"nuevos casos\"."
   ],
   "cell_type": "markdown",
   "metadata": {}
  },
  {
   "cell_type": "code",
   "execution_count": 2,
   "metadata": {},
   "outputs": [],
   "source": [
    "## Import the necessary libraries\n",
    "\n",
    "import pandas as pd \n",
    "import numpy as np \n",
    "\n",
    "from sklearn.metrics import accuracy_score\n",
    "from sklearn.model_selection import RepeatedKFold, RepeatedStratifiedKFold\n",
    "\n",
    "\n",
    "import matplotlib.pyplot as plt \n",
    "import seaborn as sns"
   ]
  },
  {
   "cell_type": "code",
   "execution_count": 3,
   "metadata": {},
   "outputs": [
    {
     "output_type": "stream",
     "name": "stdout",
     "text": [
      "####\nDATAFRAME INFO\n####\n\nNumber of rows: 68106\nNumber of columns: 59\n\n#### DATAFRAME COLUMNS ####\n Index(['iso_code', 'continent', 'location', 'date', 'total_cases', 'new_cases',\n       'new_cases_smoothed', 'total_deaths', 'new_deaths',\n       'new_deaths_smoothed', 'total_cases_per_million',\n       'new_cases_per_million', 'new_cases_smoothed_per_million',\n       'total_deaths_per_million', 'new_deaths_per_million',\n       'new_deaths_smoothed_per_million', 'reproduction_rate', 'icu_patients',\n       'icu_patients_per_million', 'hosp_patients',\n       'hosp_patients_per_million', 'weekly_icu_admissions',\n       'weekly_icu_admissions_per_million', 'weekly_hosp_admissions',\n       'weekly_hosp_admissions_per_million', 'new_tests', 'total_tests',\n       'total_tests_per_thousand', 'new_tests_per_thousand',\n       'new_tests_smoothed', 'new_tests_smoothed_per_thousand',\n       'positive_rate', 'tests_per_case', 'tests_units', 'total_vaccinations',\n       'people_vaccinated', 'people_fully_vaccinated', 'new_vaccinations',\n       'new_vaccinations_smoothed', 'total_vaccinations_per_hundred',\n       'people_vaccinated_per_hundred', 'people_fully_vaccinated_per_hundred',\n       'new_vaccinations_smoothed_per_million', 'stringency_index',\n       'population', 'population_density', 'median_age', 'aged_65_older',\n       'aged_70_older', 'gdp_per_capita', 'extreme_poverty',\n       'cardiovasc_death_rate', 'diabetes_prevalence', 'female_smokers',\n       'male_smokers', 'handwashing_facilities', 'hospital_beds_per_thousand',\n       'life_expectancy', 'human_development_index'],\n      dtype='object') \n\n### DATAFRAME COLUMN TYPES ###\n\n<class 'pandas.core.frame.DataFrame'>\nRangeIndex: 68106 entries, 0 to 68105\nData columns (total 59 columns):\n #   Column                                 Non-Null Count  Dtype  \n---  ------                                 --------------  -----  \n 0   iso_code                               65092 non-null  object \n 1   continent                              64697 non-null  object \n 2   location                               68106 non-null  object \n 3   date                                   68106 non-null  object \n 4   total_cases                            67351 non-null  float64\n 5   new_cases                              67349 non-null  float64\n 6   new_cases_smoothed                     66348 non-null  float64\n 7   total_deaths                           58470 non-null  float64\n 8   new_deaths                             58628 non-null  float64\n 9   new_deaths_smoothed                    66348 non-null  float64\n 10  total_cases_per_million                66597 non-null  float64\n 11  new_cases_per_million                  66594 non-null  float64\n 12  new_cases_smoothed_per_million         65604 non-null  float64\n 13  total_deaths_per_million               57751 non-null  float64\n 14  new_deaths_per_million                 57886 non-null  float64\n 15  new_deaths_smoothed_per_million        65604 non-null  float64\n 16  reproduction_rate                      51295 non-null  float64\n 17  icu_patients                           7167 non-null   float64\n 18  icu_patients_per_million               7167 non-null   float64\n 19  hosp_patients                          8519 non-null   float64\n 20  hosp_patients_per_million              8519 non-null   float64\n 21  weekly_icu_admissions                  672 non-null    float64\n 22  weekly_icu_admissions_per_million      672 non-null    float64\n 23  weekly_hosp_admissions                 1112 non-null   float64\n 24  weekly_hosp_admissions_per_million     1112 non-null   float64\n 25  new_tests                              30980 non-null  float64\n 26  total_tests                            30776 non-null  float64\n 27  total_tests_per_thousand               30776 non-null  float64\n 28  new_tests_per_thousand                 30980 non-null  float64\n 29  new_tests_smoothed                     34989 non-null  float64\n 30  new_tests_smoothed_per_thousand        34989 non-null  float64\n 31  positive_rate                          33318 non-null  float64\n 32  tests_per_case                         32814 non-null  float64\n 33  tests_units                            36238 non-null  object \n 34  total_vaccinations                     1730 non-null   float64\n 35  people_vaccinated                      1420 non-null   float64\n 36  people_fully_vaccinated                832 non-null    float64\n 37  new_vaccinations                       1438 non-null   float64\n 38  new_vaccinations_smoothed              2448 non-null   float64\n 39  total_vaccinations_per_hundred         1730 non-null   float64\n 40  people_vaccinated_per_hundred          1420 non-null   float64\n 41  people_fully_vaccinated_per_hundred    832 non-null    float64\n 42  new_vaccinations_smoothed_per_million  2448 non-null   float64\n 43  stringency_index                       58625 non-null  float64\n 44  population                             65083 non-null  float64\n 45  population_density                     63701 non-null  float64\n 46  median_age                             62113 non-null  float64\n 47  aged_65_older                          61395 non-null  float64\n 48  aged_70_older                          61762 non-null  float64\n 49  gdp_per_capita                         62241 non-null  float64\n 50  extreme_poverty                        42548 non-null  float64\n 51  cardiovasc_death_rate                  62846 non-null  float64\n 52  diabetes_prevalence                    63614 non-null  float64\n 53  female_smokers                         49521 non-null  float64\n 54  male_smokers                           48842 non-null  float64\n 55  handwashing_facilities                 31502 non-null  float64\n 56  hospital_beds_per_thousand             57644 non-null  float64\n 57  life_expectancy                        64740 non-null  float64\n 58  human_development_index                62834 non-null  float64\ndtypes: float64(54), object(5)\nmemory usage: 30.7+ MB\n\n None\n\n### TOTAL NaN VALUES ###\n \n iso_code                                  3014\ncontinent                                 3409\nlocation                                     0\ndate                                         0\ntotal_cases                                755\nnew_cases                                  757\nnew_cases_smoothed                        1758\ntotal_deaths                              9636\nnew_deaths                                9478\nnew_deaths_smoothed                       1758\ntotal_cases_per_million                   1509\nnew_cases_per_million                     1512\nnew_cases_smoothed_per_million            2502\ntotal_deaths_per_million                 10355\nnew_deaths_per_million                   10220\nnew_deaths_smoothed_per_million           2502\nreproduction_rate                        16811\nicu_patients                             60939\nicu_patients_per_million                 60939\nhosp_patients                            59587\nhosp_patients_per_million                59587\nweekly_icu_admissions                    67434\nweekly_icu_admissions_per_million        67434\nweekly_hosp_admissions                   66994\nweekly_hosp_admissions_per_million       66994\nnew_tests                                37126\ntotal_tests                              37330\ntotal_tests_per_thousand                 37330\nnew_tests_per_thousand                   37126\nnew_tests_smoothed                       33117\nnew_tests_smoothed_per_thousand          33117\npositive_rate                            34788\ntests_per_case                           35292\ntests_units                              31868\ntotal_vaccinations                       66376\npeople_vaccinated                        66686\npeople_fully_vaccinated                  67274\nnew_vaccinations                         66668\nnew_vaccinations_smoothed                65658\ntotal_vaccinations_per_hundred           66376\npeople_vaccinated_per_hundred            66686\npeople_fully_vaccinated_per_hundred      67274\nnew_vaccinations_smoothed_per_million    65658\nstringency_index                          9481\npopulation                                3023\npopulation_density                        4405\nmedian_age                                5993\naged_65_older                             6711\naged_70_older                             6344\ngdp_per_capita                            5865\nextreme_poverty                          25558\ncardiovasc_death_rate                     5260\ndiabetes_prevalence                       4492\nfemale_smokers                           18585\nmale_smokers                             19264\nhandwashing_facilities                   36604\nhospital_beds_per_thousand               10462\nlife_expectancy                           3366\nhuman_development_index                   5272\ndtype: int64\n"
     ]
    }
   ],
   "source": [
    "df = pd.read_csv('https://covid.ourworldindata.org/data/owid-covid-data.csv', sep=',')\n",
    "\n",
    "from data_mining_tb import df_info\n",
    "df_info(df=df)"
   ]
  },
  {
   "cell_type": "code",
   "execution_count": 4,
   "metadata": {},
   "outputs": [],
   "source": [
    "df.set_index('date', inplace=True)"
   ]
  },
  {
   "source": [
    "## After that, create a function that selects a country from the dataset which begins with the first letter of your ID card"
   ],
   "cell_type": "markdown",
   "metadata": {}
  },
  {
   "cell_type": "code",
   "execution_count": 6,
   "metadata": {},
   "outputs": [
    {
     "output_type": "stream",
     "name": "stdout",
     "text": [
      "Spain is your country\n"
     ]
    }
   ],
   "source": [
    "def id_letter_country():\n",
    "    '''\n",
    "    @leosanchezsoler\n",
    "    This function returns data from a country with the first letter of your ID-card\n",
    "        Parameters:\n",
    "            - id_letter: a string with the letter of your ID-card\n",
    "    '''\n",
    "    id_letter = str(input('Please, enter your ID card letter'))\n",
    "    if len(id_letter) > 1 or type(id_letter) != str:\n",
    "        print('Sorry mate, but your ID only has one letter. Please, check what you have done and try again')\n",
    "    \n",
    "    #########################################################\n",
    "    else:\n",
    "        # Create the necessary variables\n",
    "\n",
    "        countries = df.location.unique()\n",
    "        countries_death_rank = df.groupby('location').sum()['total_deaths'].sort_values(ascending=False).head(20).index\n",
    "        your_countries = []\n",
    "        for pos, country in enumerate(countries):\n",
    "            if country[pos].startswith(id_letter):\n",
    "                your_countries.append(country)\n",
    "                print(f'{country} is for you!')\n",
    "            else: \n",
    "                print('Spain is your country')\n",
    "                break\n",
    "        \n",
    "\n",
    "id_letter_country()"
   ]
  },
  {
   "source": [
    "## My country is Spain, so I will use their data\n"
   ],
   "cell_type": "markdown",
   "metadata": {}
  },
  {
   "cell_type": "code",
   "execution_count": 1,
   "metadata": {},
   "outputs": [
    {
     "output_type": "error",
     "ename": "NameError",
     "evalue": "name 'df' is not defined",
     "traceback": [
      "\u001b[1;31m---------------------------------------------------------------------------\u001b[0m",
      "\u001b[1;31mNameError\u001b[0m                                 Traceback (most recent call last)",
      "\u001b[1;32m<ipython-input-1-552e37f841c2>\u001b[0m in \u001b[0;36m<module>\u001b[1;34m\u001b[0m\n\u001b[1;32m----> 1\u001b[1;33m \u001b[0mSpain_df\u001b[0m \u001b[1;33m=\u001b[0m \u001b[0mdf\u001b[0m\u001b[1;33m[\u001b[0m\u001b[0mdf\u001b[0m\u001b[1;33m.\u001b[0m\u001b[0mlocation\u001b[0m \u001b[1;33m==\u001b[0m \u001b[1;34m'Spain'\u001b[0m\u001b[1;33m]\u001b[0m\u001b[1;33m\u001b[0m\u001b[1;33m\u001b[0m\u001b[0m\n\u001b[0m\u001b[0;32m      2\u001b[0m \u001b[0mdf_info\u001b[0m\u001b[1;33m(\u001b[0m\u001b[0mdf\u001b[0m\u001b[1;33m=\u001b[0m\u001b[0mSpain_df\u001b[0m\u001b[1;33m)\u001b[0m\u001b[1;33m\u001b[0m\u001b[1;33m\u001b[0m\u001b[0m\n",
      "\u001b[1;31mNameError\u001b[0m: name 'df' is not defined"
     ]
    }
   ],
   "source": [
    "Spain_df = df[df.location == 'Spain']\n",
    "df_info(df=Spain_df)"
   ]
  },
  {
   "source": [
    "# In this case, we will use the following columns:\n",
    "\n",
    "- new_cases\n",
    "- new_deaths\n",
    "- population\n",
    "- total_deaths\n",
    "- total_cases"
   ],
   "cell_type": "markdown",
   "metadata": {}
  },
  {
   "cell_type": "code",
   "execution_count": 8,
   "metadata": {},
   "outputs": [
    {
     "output_type": "execute_result",
     "data": {
      "text/plain": [
       "           new_cases    new_deaths    population  total_deaths   total_cases\n",
       "count   67349.000000  58628.000000  6.508300e+04  5.847000e+04  6.735100e+04\n",
       "mean     5052.178473    129.082230  8.986700e+07  1.692272e+04  5.444255e+05\n",
       "std     32243.412520    712.074214  6.154056e+08  9.762171e+04  3.860281e+06\n",
       "min    -46076.000000  -1918.000000  8.090000e+02  1.000000e+00  1.000000e+00\n",
       "25%         1.000000      0.000000  2.540916e+06  3.300000e+01  6.300000e+02\n",
       "50%        54.000000      1.000000  9.890400e+06  2.140000e+02  6.710000e+03\n",
       "75%       627.000000     15.000000  3.236600e+07  2.020000e+03  7.375100e+04\n",
       "max    858062.000000  17885.000000  7.794799e+09  2.354561e+06  1.073407e+08"
      ],
      "text/html": "<div>\n<style scoped>\n    .dataframe tbody tr th:only-of-type {\n        vertical-align: middle;\n    }\n\n    .dataframe tbody tr th {\n        vertical-align: top;\n    }\n\n    .dataframe thead th {\n        text-align: right;\n    }\n</style>\n<table border=\"1\" class=\"dataframe\">\n  <thead>\n    <tr style=\"text-align: right;\">\n      <th></th>\n      <th>new_cases</th>\n      <th>new_deaths</th>\n      <th>population</th>\n      <th>total_deaths</th>\n      <th>total_cases</th>\n    </tr>\n  </thead>\n  <tbody>\n    <tr>\n      <th>count</th>\n      <td>67349.000000</td>\n      <td>58628.000000</td>\n      <td>6.508300e+04</td>\n      <td>5.847000e+04</td>\n      <td>6.735100e+04</td>\n    </tr>\n    <tr>\n      <th>mean</th>\n      <td>5052.178473</td>\n      <td>129.082230</td>\n      <td>8.986700e+07</td>\n      <td>1.692272e+04</td>\n      <td>5.444255e+05</td>\n    </tr>\n    <tr>\n      <th>std</th>\n      <td>32243.412520</td>\n      <td>712.074214</td>\n      <td>6.154056e+08</td>\n      <td>9.762171e+04</td>\n      <td>3.860281e+06</td>\n    </tr>\n    <tr>\n      <th>min</th>\n      <td>-46076.000000</td>\n      <td>-1918.000000</td>\n      <td>8.090000e+02</td>\n      <td>1.000000e+00</td>\n      <td>1.000000e+00</td>\n    </tr>\n    <tr>\n      <th>25%</th>\n      <td>1.000000</td>\n      <td>0.000000</td>\n      <td>2.540916e+06</td>\n      <td>3.300000e+01</td>\n      <td>6.300000e+02</td>\n    </tr>\n    <tr>\n      <th>50%</th>\n      <td>54.000000</td>\n      <td>1.000000</td>\n      <td>9.890400e+06</td>\n      <td>2.140000e+02</td>\n      <td>6.710000e+03</td>\n    </tr>\n    <tr>\n      <th>75%</th>\n      <td>627.000000</td>\n      <td>15.000000</td>\n      <td>3.236600e+07</td>\n      <td>2.020000e+03</td>\n      <td>7.375100e+04</td>\n    </tr>\n    <tr>\n      <th>max</th>\n      <td>858062.000000</td>\n      <td>17885.000000</td>\n      <td>7.794799e+09</td>\n      <td>2.354561e+06</td>\n      <td>1.073407e+08</td>\n    </tr>\n  </tbody>\n</table>\n</div>"
     },
     "metadata": {},
     "execution_count": 8
    }
   ],
   "source": [
    "Spain_df = df[['new_cases', 'new_deaths', 'population', 'total_deaths', 'total_cases']]\n",
    "Spain_df.describe()"
   ]
  },
  {
   "cell_type": "code",
   "execution_count": 9,
   "metadata": {},
   "outputs": [],
   "source": [
    "### Drop NaN values\n",
    "Spain_df.dropna(how='all', inplace=True)"
   ]
  },
  {
   "cell_type": "code",
   "execution_count": 10,
   "metadata": {},
   "outputs": [
    {
     "output_type": "execute_result",
     "data": {
      "text/plain": [
       "new_cases        748\n",
       "new_deaths      9469\n",
       "population      3014\n",
       "total_deaths    9627\n",
       "total_cases      746\n",
       "dtype: int64"
      ]
     },
     "metadata": {},
     "execution_count": 10
    }
   ],
   "source": [
    "Spain_df.isna().sum()"
   ]
  },
  {
   "cell_type": "code",
   "execution_count": 11,
   "metadata": {},
   "outputs": [
    {
     "output_type": "execute_result",
     "data": {
      "text/plain": [
       "Index(['new_cases', 'new_deaths', 'population', 'total_deaths', 'total_cases'], dtype='object')"
      ]
     },
     "metadata": {},
     "execution_count": 11
    }
   ],
   "source": [
    "Spain_df.columns"
   ]
  },
  {
   "cell_type": "code",
   "execution_count": 12,
   "metadata": {},
   "outputs": [],
   "source": [
    "# Fill NaN values with the median of the columns\n",
    "\n",
    "Spain_df.fillna(Spain_df.median, inplace=True)\n"
   ]
  },
  {
   "cell_type": "code",
   "execution_count": 13,
   "metadata": {},
   "outputs": [
    {
     "output_type": "execute_result",
     "data": {
      "text/plain": [
       "new_cases       0\n",
       "new_deaths      0\n",
       "population      0\n",
       "total_deaths    0\n",
       "total_cases     0\n",
       "dtype: int64"
      ]
     },
     "metadata": {},
     "execution_count": 13
    }
   ],
   "source": [
    "Spain_df.isna().sum()"
   ]
  },
  {
   "source": [
    "## I still have to visualize the proper columns\n",
    "- Ask a teacher for it"
   ],
   "cell_type": "markdown",
   "metadata": {}
  },
  {
   "cell_type": "code",
   "execution_count": null,
   "metadata": {},
   "outputs": [],
   "source": []
  },
  {
   "source": [
    "### Drop population column"
   ],
   "cell_type": "markdown",
   "metadata": {}
  },
  {
   "cell_type": "code",
   "execution_count": null,
   "metadata": {},
   "outputs": [],
   "source": []
  },
  {
   "cell_type": "code",
   "execution_count": null,
   "metadata": {},
   "outputs": [],
   "source": [
    "df"
   ]
  },
  {
   "cell_type": "code",
   "execution_count": null,
   "metadata": {},
   "outputs": [],
   "source": []
  }
 ]
}