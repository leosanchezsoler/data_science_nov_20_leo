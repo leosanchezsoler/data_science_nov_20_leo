{
 "metadata": {
  "language_info": {
   "codemirror_mode": {
    "name": "ipython",
    "version": 3
   },
   "file_extension": ".py",
   "mimetype": "text/x-python",
   "name": "python",
   "nbconvert_exporter": "python",
   "pygments_lexer": "ipython3",
   "version": "3.9.0-final"
  },
  "orig_nbformat": 2,
  "kernelspec": {
   "name": "python3",
   "display_name": "Python 3.9.0 64-bit",
   "metadata": {
    "interpreter": {
     "hash": "7812ea015bdcee6f23a998adcdd2ef97c151c0c241b7b7070987d9313e41299d"
    }
   }
  }
 },
 "nbformat": 4,
 "nbformat_minor": 2,
 "cells": [
  {
   "cell_type": "markdown",
   "metadata": {},
   "source": [
    "### 1. Se pide:\n",
    "\n",
    "A partir del archivo \"USA_Housing.csv\", realizar la regresión no lineal entre cada columna numérica con la columna 'price' utilizando:\n",
    "\n",
    "- Regresión polinómica no lineal con grados del 2 al 10. ¿El score se estanca a partir de cierto grado?\n",
    "- SVR"
   ]
  },
  {
   "cell_type": "code",
   "execution_count": 1,
   "metadata": {},
   "outputs": [
    {
     "output_type": "execute_result",
     "data": {
      "text/plain": [
       "      Avg. Area Income  Avg. Area House Age  Avg. Area Number of Rooms  \\\n",
       "0         79545.458574             5.682861                   7.009188   \n",
       "1         79248.642455             6.002900                   6.730821   \n",
       "2         61287.067179             5.865890                   8.512727   \n",
       "3         63345.240046             7.188236                   5.586729   \n",
       "4         59982.197226             5.040555                   7.839388   \n",
       "...                ...                  ...                        ...   \n",
       "4995      60567.944140             7.830362                   6.137356   \n",
       "4996      78491.275435             6.999135                   6.576763   \n",
       "4997      63390.686886             7.250591                   4.805081   \n",
       "4998      68001.331235             5.534388                   7.130144   \n",
       "4999      65510.581804             5.992305                   6.792336   \n",
       "\n",
       "      Avg. Area Number of Bedrooms  Area Population         Price  \\\n",
       "0                             4.09     23086.800503  1.059034e+06   \n",
       "1                             3.09     40173.072174  1.505891e+06   \n",
       "2                             5.13     36882.159400  1.058988e+06   \n",
       "3                             3.26     34310.242831  1.260617e+06   \n",
       "4                             4.23     26354.109472  6.309435e+05   \n",
       "...                            ...              ...           ...   \n",
       "4995                          3.46     22837.361035  1.060194e+06   \n",
       "4996                          4.02     25616.115489  1.482618e+06   \n",
       "4997                          2.13     33266.145490  1.030730e+06   \n",
       "4998                          5.44     42625.620156  1.198657e+06   \n",
       "4999                          4.07     46501.283803  1.298950e+06   \n",
       "\n",
       "                                                Address  \n",
       "0     208 Michael Ferry Apt. 674\\nLaurabury, NE 3701...  \n",
       "1     188 Johnson Views Suite 079\\nLake Kathleen, CA...  \n",
       "2     9127 Elizabeth Stravenue\\nDanieltown, WI 06482...  \n",
       "3                             USS Barnett\\nFPO AP 44820  \n",
       "4                            USNS Raymond\\nFPO AE 09386  \n",
       "...                                                 ...  \n",
       "4995                   USNS Williams\\nFPO AP 30153-7653  \n",
       "4996              PSC 9258, Box 8489\\nAPO AA 42991-3352  \n",
       "4997  4215 Tracy Garden Suite 076\\nJoshualand, VA 01...  \n",
       "4998                          USS Wallace\\nFPO AE 73316  \n",
       "4999  37778 George Ridges Apt. 509\\nEast Holly, NV 2...  \n",
       "\n",
       "[5000 rows x 7 columns]"
      ],
      "text/html": "<div>\n<style scoped>\n    .dataframe tbody tr th:only-of-type {\n        vertical-align: middle;\n    }\n\n    .dataframe tbody tr th {\n        vertical-align: top;\n    }\n\n    .dataframe thead th {\n        text-align: right;\n    }\n</style>\n<table border=\"1\" class=\"dataframe\">\n  <thead>\n    <tr style=\"text-align: right;\">\n      <th></th>\n      <th>Avg. Area Income</th>\n      <th>Avg. Area House Age</th>\n      <th>Avg. Area Number of Rooms</th>\n      <th>Avg. Area Number of Bedrooms</th>\n      <th>Area Population</th>\n      <th>Price</th>\n      <th>Address</th>\n    </tr>\n  </thead>\n  <tbody>\n    <tr>\n      <th>0</th>\n      <td>79545.458574</td>\n      <td>5.682861</td>\n      <td>7.009188</td>\n      <td>4.09</td>\n      <td>23086.800503</td>\n      <td>1.059034e+06</td>\n      <td>208 Michael Ferry Apt. 674\\nLaurabury, NE 3701...</td>\n    </tr>\n    <tr>\n      <th>1</th>\n      <td>79248.642455</td>\n      <td>6.002900</td>\n      <td>6.730821</td>\n      <td>3.09</td>\n      <td>40173.072174</td>\n      <td>1.505891e+06</td>\n      <td>188 Johnson Views Suite 079\\nLake Kathleen, CA...</td>\n    </tr>\n    <tr>\n      <th>2</th>\n      <td>61287.067179</td>\n      <td>5.865890</td>\n      <td>8.512727</td>\n      <td>5.13</td>\n      <td>36882.159400</td>\n      <td>1.058988e+06</td>\n      <td>9127 Elizabeth Stravenue\\nDanieltown, WI 06482...</td>\n    </tr>\n    <tr>\n      <th>3</th>\n      <td>63345.240046</td>\n      <td>7.188236</td>\n      <td>5.586729</td>\n      <td>3.26</td>\n      <td>34310.242831</td>\n      <td>1.260617e+06</td>\n      <td>USS Barnett\\nFPO AP 44820</td>\n    </tr>\n    <tr>\n      <th>4</th>\n      <td>59982.197226</td>\n      <td>5.040555</td>\n      <td>7.839388</td>\n      <td>4.23</td>\n      <td>26354.109472</td>\n      <td>6.309435e+05</td>\n      <td>USNS Raymond\\nFPO AE 09386</td>\n    </tr>\n    <tr>\n      <th>...</th>\n      <td>...</td>\n      <td>...</td>\n      <td>...</td>\n      <td>...</td>\n      <td>...</td>\n      <td>...</td>\n      <td>...</td>\n    </tr>\n    <tr>\n      <th>4995</th>\n      <td>60567.944140</td>\n      <td>7.830362</td>\n      <td>6.137356</td>\n      <td>3.46</td>\n      <td>22837.361035</td>\n      <td>1.060194e+06</td>\n      <td>USNS Williams\\nFPO AP 30153-7653</td>\n    </tr>\n    <tr>\n      <th>4996</th>\n      <td>78491.275435</td>\n      <td>6.999135</td>\n      <td>6.576763</td>\n      <td>4.02</td>\n      <td>25616.115489</td>\n      <td>1.482618e+06</td>\n      <td>PSC 9258, Box 8489\\nAPO AA 42991-3352</td>\n    </tr>\n    <tr>\n      <th>4997</th>\n      <td>63390.686886</td>\n      <td>7.250591</td>\n      <td>4.805081</td>\n      <td>2.13</td>\n      <td>33266.145490</td>\n      <td>1.030730e+06</td>\n      <td>4215 Tracy Garden Suite 076\\nJoshualand, VA 01...</td>\n    </tr>\n    <tr>\n      <th>4998</th>\n      <td>68001.331235</td>\n      <td>5.534388</td>\n      <td>7.130144</td>\n      <td>5.44</td>\n      <td>42625.620156</td>\n      <td>1.198657e+06</td>\n      <td>USS Wallace\\nFPO AE 73316</td>\n    </tr>\n    <tr>\n      <th>4999</th>\n      <td>65510.581804</td>\n      <td>5.992305</td>\n      <td>6.792336</td>\n      <td>4.07</td>\n      <td>46501.283803</td>\n      <td>1.298950e+06</td>\n      <td>37778 George Ridges Apt. 509\\nEast Holly, NV 2...</td>\n    </tr>\n  </tbody>\n</table>\n<p>5000 rows × 7 columns</p>\n</div>"
     },
     "metadata": {},
     "execution_count": 1
    }
   ],
   "source": [
    "import pandas as pd\n",
    "\n",
    "df = pd.read_csv(\"../data/USA_Housing.csv\")\n",
    "df"
   ]
  },
  {
   "cell_type": "markdown",
   "metadata": {},
   "source": [
    "### 2. Se pide:\n",
    "\n",
    "En el anterior dataset, la columna \"Avg. Area Number of Bedrooms\" está en un rango numérico limitado:\n",
    "\n",
    "1. Cambia todos los datos para que sean enteros redondeando hacia el entero más cercano. Si es .5 exacto, se redondea hacia abajo.\n",
    "\n",
    "2. Cuando lo hayas hecho, tendrás una columna con números enteros en un rango limitado. Ahora trata a esa columna como una serie de valores discretos (classes, labels). \n",
    "\n",
    "3. Usando las demás columnas numéricas y una a una, utiliza SVM (SVC) para clasificar esa columna modificada.\n",
    "\n",
    "4. Usando todas las demás columnas a la vez, utiliza SVM para clasificar esa columna modificada. Es decir, \"Avg. Area Income\" con nuestro target, después \"Avg. Area House Age\", ... ¿hace aumentar el score? ¿por qué? \n",
    "\n",
    "5. ¿Qué columna tiene mejor correlación con \"Avg. Area Number of Bedrooms\" una vez modificada? ¿qué columna da mejor score para nuestro target? "
   ]
  },
  {
   "source": [
    "## First things first: Import the necessary libraries"
   ],
   "cell_type": "markdown",
   "metadata": {}
  },
  {
   "cell_type": "code",
   "execution_count": 2,
   "metadata": {},
   "outputs": [],
   "source": [
    "import numpy as np \n",
    "import matplotlib.pyplot as plt \n",
    "from sklearn.model_selection import train_test_split\n",
    "from sklearn.preprocessing import LabelEncoder\n",
    "\n",
    "#Import math to round numbers\n",
    "import math"
   ]
  },
  {
   "source": [
    "# Exercise 1"
   ],
   "cell_type": "markdown",
   "metadata": {}
  },
  {
   "source": [
    "### 1. Se pide:\n",
    "\n",
    "A partir del archivo \"USA_Housing.csv\", realizar la regresión no lineal entre cada columna numérica con la columna 'price' utilizando:\n",
    "\n",
    "- Regresión polinómica no lineal con grados del 2 al 10. ¿El score se estanca a partir de cierto grado?\n",
    "- SVR"
   ],
   "cell_type": "markdown",
   "metadata": {}
  },
  {
   "cell_type": "code",
   "execution_count": 3,
   "metadata": {},
   "outputs": [],
   "source": [
    "#Import svm\n",
    "from sklearn import svm\n",
    "\n",
    "#Import PolynomialFeatures\n",
    "from sklearn.preprocessing import PolynomialFeatures\n",
    "from sklearn.linear_model import LinearRegression\n",
    "\n",
    "#Import metrics\n",
    "from sklearn.metrics import r2_score, mean_absolute_error"
   ]
  },
  {
   "source": [
    "### Choose Target and Features"
   ],
   "cell_type": "markdown",
   "metadata": {}
  },
  {
   "cell_type": "code",
   "execution_count": 4,
   "metadata": {},
   "outputs": [
    {
     "output_type": "stream",
     "name": "stdout",
     "text": [
      "<class 'pandas.core.frame.DataFrame'>\nRangeIndex: 5000 entries, 0 to 4999\nData columns (total 7 columns):\n #   Column                        Non-Null Count  Dtype  \n---  ------                        --------------  -----  \n 0   Avg. Area Income              5000 non-null   float64\n 1   Avg. Area House Age           5000 non-null   float64\n 2   Avg. Area Number of Rooms     5000 non-null   float64\n 3   Avg. Area Number of Bedrooms  5000 non-null   float64\n 4   Area Population               5000 non-null   float64\n 5   Price                         5000 non-null   float64\n 6   Address                       5000 non-null   object \ndtypes: float64(6), object(1)\nmemory usage: 273.6+ KB\n"
     ]
    }
   ],
   "source": [
    "df.info()"
   ]
  },
  {
   "cell_type": "code",
   "execution_count": 4,
   "metadata": {},
   "outputs": [
    {
     "output_type": "stream",
     "name": "stdout",
     "text": [
      "X.shape: (5000, 6)\ny.shape: (5000,)\n-----\nX_train.shape: (4000, 6)\ny_train.shape: (4000,)\n-----\nX_test.shape: (1000, 6)\ny_test.shape: (1000,)\n"
     ]
    }
   ],
   "source": [
    "# For non-linear regression only the numerical values will be selected from the data\n",
    "# X --> Features\n",
    "X = df.iloc[:, :-1]\n",
    "\n",
    "# y --> Target\n",
    "y = df['Price']\n",
    "\n",
    "# Split the data (Train/Test split)\n",
    "# Seed\n",
    "seed = 30\n",
    "# test_size\n",
    "test_size = 0.2\n",
    "X_train, X_test, y_train, y_test = train_test_split(X, y, test_size=test_size, random_state=seed)\n",
    "\n",
    "print('X.shape:', X.shape)\n",
    "print('y.shape:', y.shape)\n",
    "print('-----')\n",
    "print('X_train.shape:', X_train.shape)\n",
    "print('y_train.shape:', y_train.shape)\n",
    "print('-----')\n",
    "print('X_test.shape:', X_test.shape)\n",
    "print('y_test.shape:', y_test.shape)"
   ]
  },
  {
   "source": [
    "### Remember that for non-linear regression with PolynomialFeature, it is mandatory to transform the sets into Polynoms"
   ],
   "cell_type": "markdown",
   "metadata": {}
  },
  {
   "cell_type": "code",
   "execution_count": 15,
   "metadata": {},
   "outputs": [
    {
     "output_type": "stream",
     "name": "stdout",
     "text": [
      "X_poly.shape: (4000, 28)\ny_pred.shape: (4000,)\nScore: 1.0\n"
     ]
    },
    {
     "output_type": "display_data",
     "data": {
      "text/plain": "<Figure size 432x288 with 1 Axes>",
      "image/svg+xml": "<?xml version=\"1.0\" encoding=\"utf-8\" standalone=\"no\"?>\n<!DOCTYPE svg PUBLIC \"-//W3C//DTD SVG 1.1//EN\"\n  \"http://www.w3.org/Graphics/SVG/1.1/DTD/svg11.dtd\">\n<!-- Created with matplotlib (https://matplotlib.org/) -->\n<svg height=\"263.63625pt\" version=\"1.1\" viewBox=\"0 0 373.341193 263.63625\" width=\"373.341193pt\" xmlns=\"http://www.w3.org/2000/svg\" xmlns:xlink=\"http://www.w3.org/1999/xlink\">\n <metadata>\n  <rdf:RDF xmlns:cc=\"http://creativecommons.org/ns#\" xmlns:dc=\"http://purl.org/dc/elements/1.1/\" xmlns:rdf=\"http://www.w3.org/1999/02/22-rdf-syntax-ns#\">\n   <cc:Work>\n    <dc:type rdf:resource=\"http://purl.org/dc/dcmitype/StillImage\"/>\n    <dc:date>2021-02-02T08:11:43.139882</dc:date>\n    <dc:format>image/svg+xml</dc:format>\n    <dc:creator>\n     <cc:Agent>\n      <dc:title>Matplotlib v3.3.3, https://matplotlib.org/</dc:title>\n     </cc:Agent>\n    </dc:creator>\n   </cc:Work>\n  </rdf:RDF>\n </metadata>\n <defs>\n  <style type=\"text/css\">*{stroke-linecap:butt;stroke-linejoin:round;}</style>\n </defs>\n <g id=\"figure_1\">\n  <g id=\"patch_1\">\n   <path d=\"M 0 263.63625 \nL 373.341193 263.63625 \nL 373.341193 0 \nL 0 0 \nz\n\" style=\"fill:none;\"/>\n  </g>\n  <g id=\"axes_1\">\n   <g id=\"patch_2\">\n    <path d=\"M 31.341193 239.758125 \nL 366.141193 239.758125 \nL 366.141193 22.318125 \nL 31.341193 22.318125 \nz\n\" style=\"fill:#ffffff;\"/>\n   </g>\n   <g id=\"PathCollection_1\">\n    <defs>\n     <path d=\"M 0 3 \nC 0.795609 3 1.55874 2.683901 2.12132 2.12132 \nC 2.683901 1.55874 3 0.795609 3 0 \nC 3 -0.795609 2.683901 -1.55874 2.12132 -2.12132 \nC 1.55874 -2.683901 0.795609 -3 0 -3 \nC -0.795609 -3 -1.55874 -2.683901 -2.12132 -2.12132 \nC -2.683901 -1.55874 -3 -0.795609 -3 0 \nC -3 0.795609 -2.683901 1.55874 -2.12132 2.12132 \nC -1.55874 2.683901 -0.795609 3 0 3 \nz\n\" id=\"m2c827a9642\" style=\"stroke:#0000ff;\"/>\n    </defs>\n    <g clip-path=\"url(#p4c7ffbcb08)\">\n     <use style=\"fill:#0000ff;stroke:#0000ff;\" x=\"46.559375\" xlink:href=\"#m2c827a9642\" y=\"229.874489\"/>\n     <use style=\"fill:#0000ff;stroke:#0000ff;\" x=\"107.432102\" xlink:href=\"#m2c827a9642\" y=\"104.738889\"/>\n     <use style=\"fill:#0000ff;stroke:#0000ff;\" x=\"168.30483\" xlink:href=\"#m2c827a9642\" y=\"158.177617\"/>\n     <use style=\"fill:#0000ff;stroke:#0000ff;\" x=\"229.177557\" xlink:href=\"#m2c827a9642\" y=\"32.201761\"/>\n     <use style=\"fill:#0000ff;stroke:#0000ff;\" x=\"290.050284\" xlink:href=\"#m2c827a9642\" y=\"90.623003\"/>\n     <use style=\"fill:#0000ff;stroke:#0000ff;\" x=\"350.923011\" xlink:href=\"#m2c827a9642\" y=\"102.60774\"/>\n    </g>\n   </g>\n   <g id=\"PathCollection_2\">\n    <defs>\n     <path d=\"M 0 3 \nC 0.795609 3 1.55874 2.683901 2.12132 2.12132 \nC 2.683901 1.55874 3 0.795609 3 0 \nC 3 -0.795609 2.683901 -1.55874 2.12132 -2.12132 \nC 1.55874 -2.683901 0.795609 -3 0 -3 \nC -0.795609 -3 -1.55874 -2.683901 -2.12132 -2.12132 \nC -2.683901 -1.55874 -3 -0.795609 -3 0 \nC -3 0.795609 -2.683901 1.55874 -2.12132 2.12132 \nC -1.55874 2.683901 -0.795609 3 0 3 \nz\n\" id=\"ma3c073aa91\" style=\"stroke:#ff0000;\"/>\n    </defs>\n    <g clip-path=\"url(#p4c7ffbcb08)\">\n     <use style=\"fill:#ff0000;stroke:#ff0000;\" x=\"46.559375\" xlink:href=\"#ma3c073aa91\" y=\"229.874489\"/>\n     <use style=\"fill:#ff0000;stroke:#ff0000;\" x=\"107.432102\" xlink:href=\"#ma3c073aa91\" y=\"104.738889\"/>\n     <use style=\"fill:#ff0000;stroke:#ff0000;\" x=\"168.30483\" xlink:href=\"#ma3c073aa91\" y=\"158.177617\"/>\n     <use style=\"fill:#ff0000;stroke:#ff0000;\" x=\"229.177557\" xlink:href=\"#ma3c073aa91\" y=\"32.201761\"/>\n     <use style=\"fill:#ff0000;stroke:#ff0000;\" x=\"290.050284\" xlink:href=\"#ma3c073aa91\" y=\"90.623003\"/>\n     <use style=\"fill:#ff0000;stroke:#ff0000;\" x=\"350.923011\" xlink:href=\"#ma3c073aa91\" y=\"102.60774\"/>\n    </g>\n   </g>\n   <g id=\"matplotlib.axis_1\">\n    <g id=\"xtick_1\">\n     <g id=\"line2d_1\">\n      <defs>\n       <path d=\"M 0 0 \nL 0 3.5 \n\" id=\"m772bbcc8ca\" style=\"stroke:#000000;stroke-width:0.8;\"/>\n      </defs>\n      <g>\n       <use style=\"stroke:#000000;stroke-width:0.8;\" x=\"46.559375\" xlink:href=\"#m772bbcc8ca\" y=\"239.758125\"/>\n      </g>\n     </g>\n     <g id=\"text_1\">\n      <!-- Area Population -->\n      <g transform=\"translate(7.2 254.356563)scale(0.1 -0.1)\">\n       <defs>\n        <path d=\"M 34.1875 63.1875 \nL 20.796875 26.90625 \nL 47.609375 26.90625 \nz\nM 28.609375 72.90625 \nL 39.796875 72.90625 \nL 67.578125 0 \nL 57.328125 0 \nL 50.6875 18.703125 \nL 17.828125 18.703125 \nL 11.1875 0 \nL 0.78125 0 \nz\n\" id=\"DejaVuSans-65\"/>\n        <path d=\"M 41.109375 46.296875 \nQ 39.59375 47.171875 37.8125 47.578125 \nQ 36.03125 48 33.890625 48 \nQ 26.265625 48 22.1875 43.046875 \nQ 18.109375 38.09375 18.109375 28.8125 \nL 18.109375 0 \nL 9.078125 0 \nL 9.078125 54.6875 \nL 18.109375 54.6875 \nL 18.109375 46.1875 \nQ 20.953125 51.171875 25.484375 53.578125 \nQ 30.03125 56 36.53125 56 \nQ 37.453125 56 38.578125 55.875 \nQ 39.703125 55.765625 41.0625 55.515625 \nz\n\" id=\"DejaVuSans-114\"/>\n        <path d=\"M 56.203125 29.59375 \nL 56.203125 25.203125 \nL 14.890625 25.203125 \nQ 15.484375 15.921875 20.484375 11.0625 \nQ 25.484375 6.203125 34.421875 6.203125 \nQ 39.59375 6.203125 44.453125 7.46875 \nQ 49.3125 8.734375 54.109375 11.28125 \nL 54.109375 2.78125 \nQ 49.265625 0.734375 44.1875 -0.34375 \nQ 39.109375 -1.421875 33.890625 -1.421875 \nQ 20.796875 -1.421875 13.15625 6.1875 \nQ 5.515625 13.8125 5.515625 26.8125 \nQ 5.515625 40.234375 12.765625 48.109375 \nQ 20.015625 56 32.328125 56 \nQ 43.359375 56 49.78125 48.890625 \nQ 56.203125 41.796875 56.203125 29.59375 \nz\nM 47.21875 32.234375 \nQ 47.125 39.59375 43.09375 43.984375 \nQ 39.0625 48.390625 32.421875 48.390625 \nQ 24.90625 48.390625 20.390625 44.140625 \nQ 15.875 39.890625 15.1875 32.171875 \nz\n\" id=\"DejaVuSans-101\"/>\n        <path d=\"M 34.28125 27.484375 \nQ 23.390625 27.484375 19.1875 25 \nQ 14.984375 22.515625 14.984375 16.5 \nQ 14.984375 11.71875 18.140625 8.90625 \nQ 21.296875 6.109375 26.703125 6.109375 \nQ 34.1875 6.109375 38.703125 11.40625 \nQ 43.21875 16.703125 43.21875 25.484375 \nL 43.21875 27.484375 \nz\nM 52.203125 31.203125 \nL 52.203125 0 \nL 43.21875 0 \nL 43.21875 8.296875 \nQ 40.140625 3.328125 35.546875 0.953125 \nQ 30.953125 -1.421875 24.3125 -1.421875 \nQ 15.921875 -1.421875 10.953125 3.296875 \nQ 6 8.015625 6 15.921875 \nQ 6 25.140625 12.171875 29.828125 \nQ 18.359375 34.515625 30.609375 34.515625 \nL 43.21875 34.515625 \nL 43.21875 35.40625 \nQ 43.21875 41.609375 39.140625 45 \nQ 35.0625 48.390625 27.6875 48.390625 \nQ 23 48.390625 18.546875 47.265625 \nQ 14.109375 46.140625 10.015625 43.890625 \nL 10.015625 52.203125 \nQ 14.9375 54.109375 19.578125 55.046875 \nQ 24.21875 56 28.609375 56 \nQ 40.484375 56 46.34375 49.84375 \nQ 52.203125 43.703125 52.203125 31.203125 \nz\n\" id=\"DejaVuSans-97\"/>\n        <path id=\"DejaVuSans-32\"/>\n        <path d=\"M 19.671875 64.796875 \nL 19.671875 37.40625 \nL 32.078125 37.40625 \nQ 38.96875 37.40625 42.71875 40.96875 \nQ 46.484375 44.53125 46.484375 51.125 \nQ 46.484375 57.671875 42.71875 61.234375 \nQ 38.96875 64.796875 32.078125 64.796875 \nz\nM 9.8125 72.90625 \nL 32.078125 72.90625 \nQ 44.34375 72.90625 50.609375 67.359375 \nQ 56.890625 61.8125 56.890625 51.125 \nQ 56.890625 40.328125 50.609375 34.8125 \nQ 44.34375 29.296875 32.078125 29.296875 \nL 19.671875 29.296875 \nL 19.671875 0 \nL 9.8125 0 \nz\n\" id=\"DejaVuSans-80\"/>\n        <path d=\"M 30.609375 48.390625 \nQ 23.390625 48.390625 19.1875 42.75 \nQ 14.984375 37.109375 14.984375 27.296875 \nQ 14.984375 17.484375 19.15625 11.84375 \nQ 23.34375 6.203125 30.609375 6.203125 \nQ 37.796875 6.203125 41.984375 11.859375 \nQ 46.1875 17.53125 46.1875 27.296875 \nQ 46.1875 37.015625 41.984375 42.703125 \nQ 37.796875 48.390625 30.609375 48.390625 \nz\nM 30.609375 56 \nQ 42.328125 56 49.015625 48.375 \nQ 55.71875 40.765625 55.71875 27.296875 \nQ 55.71875 13.875 49.015625 6.21875 \nQ 42.328125 -1.421875 30.609375 -1.421875 \nQ 18.84375 -1.421875 12.171875 6.21875 \nQ 5.515625 13.875 5.515625 27.296875 \nQ 5.515625 40.765625 12.171875 48.375 \nQ 18.84375 56 30.609375 56 \nz\n\" id=\"DejaVuSans-111\"/>\n        <path d=\"M 18.109375 8.203125 \nL 18.109375 -20.796875 \nL 9.078125 -20.796875 \nL 9.078125 54.6875 \nL 18.109375 54.6875 \nL 18.109375 46.390625 \nQ 20.953125 51.265625 25.265625 53.625 \nQ 29.59375 56 35.59375 56 \nQ 45.5625 56 51.78125 48.09375 \nQ 58.015625 40.1875 58.015625 27.296875 \nQ 58.015625 14.40625 51.78125 6.484375 \nQ 45.5625 -1.421875 35.59375 -1.421875 \nQ 29.59375 -1.421875 25.265625 0.953125 \nQ 20.953125 3.328125 18.109375 8.203125 \nz\nM 48.6875 27.296875 \nQ 48.6875 37.203125 44.609375 42.84375 \nQ 40.53125 48.484375 33.40625 48.484375 \nQ 26.265625 48.484375 22.1875 42.84375 \nQ 18.109375 37.203125 18.109375 27.296875 \nQ 18.109375 17.390625 22.1875 11.75 \nQ 26.265625 6.109375 33.40625 6.109375 \nQ 40.53125 6.109375 44.609375 11.75 \nQ 48.6875 17.390625 48.6875 27.296875 \nz\n\" id=\"DejaVuSans-112\"/>\n        <path d=\"M 8.5 21.578125 \nL 8.5 54.6875 \nL 17.484375 54.6875 \nL 17.484375 21.921875 \nQ 17.484375 14.15625 20.5 10.265625 \nQ 23.53125 6.390625 29.59375 6.390625 \nQ 36.859375 6.390625 41.078125 11.03125 \nQ 45.3125 15.671875 45.3125 23.6875 \nL 45.3125 54.6875 \nL 54.296875 54.6875 \nL 54.296875 0 \nL 45.3125 0 \nL 45.3125 8.40625 \nQ 42.046875 3.421875 37.71875 1 \nQ 33.40625 -1.421875 27.6875 -1.421875 \nQ 18.265625 -1.421875 13.375 4.4375 \nQ 8.5 10.296875 8.5 21.578125 \nz\nM 31.109375 56 \nz\n\" id=\"DejaVuSans-117\"/>\n        <path d=\"M 9.421875 75.984375 \nL 18.40625 75.984375 \nL 18.40625 0 \nL 9.421875 0 \nz\n\" id=\"DejaVuSans-108\"/>\n        <path d=\"M 18.3125 70.21875 \nL 18.3125 54.6875 \nL 36.8125 54.6875 \nL 36.8125 47.703125 \nL 18.3125 47.703125 \nL 18.3125 18.015625 \nQ 18.3125 11.328125 20.140625 9.421875 \nQ 21.96875 7.515625 27.59375 7.515625 \nL 36.8125 7.515625 \nL 36.8125 0 \nL 27.59375 0 \nQ 17.1875 0 13.234375 3.875 \nQ 9.28125 7.765625 9.28125 18.015625 \nL 9.28125 47.703125 \nL 2.6875 47.703125 \nL 2.6875 54.6875 \nL 9.28125 54.6875 \nL 9.28125 70.21875 \nz\n\" id=\"DejaVuSans-116\"/>\n        <path d=\"M 9.421875 54.6875 \nL 18.40625 54.6875 \nL 18.40625 0 \nL 9.421875 0 \nz\nM 9.421875 75.984375 \nL 18.40625 75.984375 \nL 18.40625 64.59375 \nL 9.421875 64.59375 \nz\n\" id=\"DejaVuSans-105\"/>\n        <path d=\"M 54.890625 33.015625 \nL 54.890625 0 \nL 45.90625 0 \nL 45.90625 32.71875 \nQ 45.90625 40.484375 42.875 44.328125 \nQ 39.84375 48.1875 33.796875 48.1875 \nQ 26.515625 48.1875 22.3125 43.546875 \nQ 18.109375 38.921875 18.109375 30.90625 \nL 18.109375 0 \nL 9.078125 0 \nL 9.078125 54.6875 \nL 18.109375 54.6875 \nL 18.109375 46.1875 \nQ 21.34375 51.125 25.703125 53.5625 \nQ 30.078125 56 35.796875 56 \nQ 45.21875 56 50.046875 50.171875 \nQ 54.890625 44.34375 54.890625 33.015625 \nz\n\" id=\"DejaVuSans-110\"/>\n       </defs>\n       <use xlink:href=\"#DejaVuSans-65\"/>\n       <use x=\"68.408203\" xlink:href=\"#DejaVuSans-114\"/>\n       <use x=\"107.271484\" xlink:href=\"#DejaVuSans-101\"/>\n       <use x=\"168.794922\" xlink:href=\"#DejaVuSans-97\"/>\n       <use x=\"230.074219\" xlink:href=\"#DejaVuSans-32\"/>\n       <use x=\"261.861328\" xlink:href=\"#DejaVuSans-80\"/>\n       <use x=\"318.539062\" xlink:href=\"#DejaVuSans-111\"/>\n       <use x=\"379.720703\" xlink:href=\"#DejaVuSans-112\"/>\n       <use x=\"443.197266\" xlink:href=\"#DejaVuSans-117\"/>\n       <use x=\"506.576172\" xlink:href=\"#DejaVuSans-108\"/>\n       <use x=\"534.359375\" xlink:href=\"#DejaVuSans-97\"/>\n       <use x=\"595.638672\" xlink:href=\"#DejaVuSans-116\"/>\n       <use x=\"634.847656\" xlink:href=\"#DejaVuSans-105\"/>\n       <use x=\"662.630859\" xlink:href=\"#DejaVuSans-111\"/>\n       <use x=\"723.8125\" xlink:href=\"#DejaVuSans-110\"/>\n      </g>\n     </g>\n    </g>\n    <g id=\"xtick_2\">\n     <g id=\"line2d_2\">\n      <g>\n       <use style=\"stroke:#000000;stroke-width:0.8;\" x=\"107.432102\" xlink:href=\"#m772bbcc8ca\" y=\"239.758125\"/>\n      </g>\n     </g>\n     <g id=\"text_2\">\n      <!-- Avg. Area House Age -->\n      <g transform=\"translate(54.971165 254.356563)scale(0.1 -0.1)\">\n       <defs>\n        <path d=\"M 2.984375 54.6875 \nL 12.5 54.6875 \nL 29.59375 8.796875 \nL 46.6875 54.6875 \nL 56.203125 54.6875 \nL 35.6875 0 \nL 23.484375 0 \nz\n\" id=\"DejaVuSans-118\"/>\n        <path d=\"M 45.40625 27.984375 \nQ 45.40625 37.75 41.375 43.109375 \nQ 37.359375 48.484375 30.078125 48.484375 \nQ 22.859375 48.484375 18.828125 43.109375 \nQ 14.796875 37.75 14.796875 27.984375 \nQ 14.796875 18.265625 18.828125 12.890625 \nQ 22.859375 7.515625 30.078125 7.515625 \nQ 37.359375 7.515625 41.375 12.890625 \nQ 45.40625 18.265625 45.40625 27.984375 \nz\nM 54.390625 6.78125 \nQ 54.390625 -7.171875 48.1875 -13.984375 \nQ 42 -20.796875 29.203125 -20.796875 \nQ 24.46875 -20.796875 20.265625 -20.09375 \nQ 16.0625 -19.390625 12.109375 -17.921875 \nL 12.109375 -9.1875 \nQ 16.0625 -11.328125 19.921875 -12.34375 \nQ 23.78125 -13.375 27.78125 -13.375 \nQ 36.625 -13.375 41.015625 -8.765625 \nQ 45.40625 -4.15625 45.40625 5.171875 \nL 45.40625 9.625 \nQ 42.625 4.78125 38.28125 2.390625 \nQ 33.9375 0 27.875 0 \nQ 17.828125 0 11.671875 7.65625 \nQ 5.515625 15.328125 5.515625 27.984375 \nQ 5.515625 40.671875 11.671875 48.328125 \nQ 17.828125 56 27.875 56 \nQ 33.9375 56 38.28125 53.609375 \nQ 42.625 51.21875 45.40625 46.390625 \nL 45.40625 54.6875 \nL 54.390625 54.6875 \nz\n\" id=\"DejaVuSans-103\"/>\n        <path d=\"M 10.6875 12.40625 \nL 21 12.40625 \nL 21 0 \nL 10.6875 0 \nz\n\" id=\"DejaVuSans-46\"/>\n        <path d=\"M 9.8125 72.90625 \nL 19.671875 72.90625 \nL 19.671875 43.015625 \nL 55.515625 43.015625 \nL 55.515625 72.90625 \nL 65.375 72.90625 \nL 65.375 0 \nL 55.515625 0 \nL 55.515625 34.71875 \nL 19.671875 34.71875 \nL 19.671875 0 \nL 9.8125 0 \nz\n\" id=\"DejaVuSans-72\"/>\n        <path d=\"M 44.28125 53.078125 \nL 44.28125 44.578125 \nQ 40.484375 46.53125 36.375 47.5 \nQ 32.28125 48.484375 27.875 48.484375 \nQ 21.1875 48.484375 17.84375 46.4375 \nQ 14.5 44.390625 14.5 40.28125 \nQ 14.5 37.15625 16.890625 35.375 \nQ 19.28125 33.59375 26.515625 31.984375 \nL 29.59375 31.296875 \nQ 39.15625 29.25 43.1875 25.515625 \nQ 47.21875 21.78125 47.21875 15.09375 \nQ 47.21875 7.46875 41.1875 3.015625 \nQ 35.15625 -1.421875 24.609375 -1.421875 \nQ 20.21875 -1.421875 15.453125 -0.5625 \nQ 10.6875 0.296875 5.421875 2 \nL 5.421875 11.28125 \nQ 10.40625 8.6875 15.234375 7.390625 \nQ 20.0625 6.109375 24.8125 6.109375 \nQ 31.15625 6.109375 34.5625 8.28125 \nQ 37.984375 10.453125 37.984375 14.40625 \nQ 37.984375 18.0625 35.515625 20.015625 \nQ 33.0625 21.96875 24.703125 23.78125 \nL 21.578125 24.515625 \nQ 13.234375 26.265625 9.515625 29.90625 \nQ 5.8125 33.546875 5.8125 39.890625 \nQ 5.8125 47.609375 11.28125 51.796875 \nQ 16.75 56 26.8125 56 \nQ 31.78125 56 36.171875 55.265625 \nQ 40.578125 54.546875 44.28125 53.078125 \nz\n\" id=\"DejaVuSans-115\"/>\n       </defs>\n       <use xlink:href=\"#DejaVuSans-65\"/>\n       <use x=\"62.533203\" xlink:href=\"#DejaVuSans-118\"/>\n       <use x=\"121.712891\" xlink:href=\"#DejaVuSans-103\"/>\n       <use x=\"185.189453\" xlink:href=\"#DejaVuSans-46\"/>\n       <use x=\"216.976562\" xlink:href=\"#DejaVuSans-32\"/>\n       <use x=\"248.763672\" xlink:href=\"#DejaVuSans-65\"/>\n       <use x=\"317.171875\" xlink:href=\"#DejaVuSans-114\"/>\n       <use x=\"356.035156\" xlink:href=\"#DejaVuSans-101\"/>\n       <use x=\"417.558594\" xlink:href=\"#DejaVuSans-97\"/>\n       <use x=\"478.837891\" xlink:href=\"#DejaVuSans-32\"/>\n       <use x=\"510.625\" xlink:href=\"#DejaVuSans-72\"/>\n       <use x=\"585.820312\" xlink:href=\"#DejaVuSans-111\"/>\n       <use x=\"647.001953\" xlink:href=\"#DejaVuSans-117\"/>\n       <use x=\"710.380859\" xlink:href=\"#DejaVuSans-115\"/>\n       <use x=\"762.480469\" xlink:href=\"#DejaVuSans-101\"/>\n       <use x=\"824.003906\" xlink:href=\"#DejaVuSans-32\"/>\n       <use x=\"855.791016\" xlink:href=\"#DejaVuSans-65\"/>\n       <use x=\"924.199219\" xlink:href=\"#DejaVuSans-103\"/>\n       <use x=\"987.675781\" xlink:href=\"#DejaVuSans-101\"/>\n      </g>\n     </g>\n    </g>\n    <g id=\"xtick_3\">\n     <g id=\"line2d_3\">\n      <g>\n       <use style=\"stroke:#000000;stroke-width:0.8;\" x=\"168.30483\" xlink:href=\"#m772bbcc8ca\" y=\"239.758125\"/>\n      </g>\n     </g>\n     <g id=\"text_3\">\n      <!-- Avg. Area Income -->\n      <g transform=\"translate(124.374361 254.356563)scale(0.1 -0.1)\">\n       <defs>\n        <path d=\"M 9.8125 72.90625 \nL 19.671875 72.90625 \nL 19.671875 0 \nL 9.8125 0 \nz\n\" id=\"DejaVuSans-73\"/>\n        <path d=\"M 48.78125 52.59375 \nL 48.78125 44.1875 \nQ 44.96875 46.296875 41.140625 47.34375 \nQ 37.3125 48.390625 33.40625 48.390625 \nQ 24.65625 48.390625 19.8125 42.84375 \nQ 14.984375 37.3125 14.984375 27.296875 \nQ 14.984375 17.28125 19.8125 11.734375 \nQ 24.65625 6.203125 33.40625 6.203125 \nQ 37.3125 6.203125 41.140625 7.25 \nQ 44.96875 8.296875 48.78125 10.40625 \nL 48.78125 2.09375 \nQ 45.015625 0.34375 40.984375 -0.53125 \nQ 36.96875 -1.421875 32.421875 -1.421875 \nQ 20.0625 -1.421875 12.78125 6.34375 \nQ 5.515625 14.109375 5.515625 27.296875 \nQ 5.515625 40.671875 12.859375 48.328125 \nQ 20.21875 56 33.015625 56 \nQ 37.15625 56 41.109375 55.140625 \nQ 45.0625 54.296875 48.78125 52.59375 \nz\n\" id=\"DejaVuSans-99\"/>\n        <path d=\"M 52 44.1875 \nQ 55.375 50.25 60.0625 53.125 \nQ 64.75 56 71.09375 56 \nQ 79.640625 56 84.28125 50.015625 \nQ 88.921875 44.046875 88.921875 33.015625 \nL 88.921875 0 \nL 79.890625 0 \nL 79.890625 32.71875 \nQ 79.890625 40.578125 77.09375 44.375 \nQ 74.3125 48.1875 68.609375 48.1875 \nQ 61.625 48.1875 57.5625 43.546875 \nQ 53.515625 38.921875 53.515625 30.90625 \nL 53.515625 0 \nL 44.484375 0 \nL 44.484375 32.71875 \nQ 44.484375 40.625 41.703125 44.40625 \nQ 38.921875 48.1875 33.109375 48.1875 \nQ 26.21875 48.1875 22.15625 43.53125 \nQ 18.109375 38.875 18.109375 30.90625 \nL 18.109375 0 \nL 9.078125 0 \nL 9.078125 54.6875 \nL 18.109375 54.6875 \nL 18.109375 46.1875 \nQ 21.1875 51.21875 25.484375 53.609375 \nQ 29.78125 56 35.6875 56 \nQ 41.65625 56 45.828125 52.96875 \nQ 50 49.953125 52 44.1875 \nz\n\" id=\"DejaVuSans-109\"/>\n       </defs>\n       <use xlink:href=\"#DejaVuSans-65\"/>\n       <use x=\"62.533203\" xlink:href=\"#DejaVuSans-118\"/>\n       <use x=\"121.712891\" xlink:href=\"#DejaVuSans-103\"/>\n       <use x=\"185.189453\" xlink:href=\"#DejaVuSans-46\"/>\n       <use x=\"216.976562\" xlink:href=\"#DejaVuSans-32\"/>\n       <use x=\"248.763672\" xlink:href=\"#DejaVuSans-65\"/>\n       <use x=\"317.171875\" xlink:href=\"#DejaVuSans-114\"/>\n       <use x=\"356.035156\" xlink:href=\"#DejaVuSans-101\"/>\n       <use x=\"417.558594\" xlink:href=\"#DejaVuSans-97\"/>\n       <use x=\"478.837891\" xlink:href=\"#DejaVuSans-32\"/>\n       <use x=\"510.625\" xlink:href=\"#DejaVuSans-73\"/>\n       <use x=\"540.117188\" xlink:href=\"#DejaVuSans-110\"/>\n       <use x=\"603.496094\" xlink:href=\"#DejaVuSans-99\"/>\n       <use x=\"658.476562\" xlink:href=\"#DejaVuSans-111\"/>\n       <use x=\"719.658203\" xlink:href=\"#DejaVuSans-109\"/>\n       <use x=\"817.070312\" xlink:href=\"#DejaVuSans-101\"/>\n      </g>\n     </g>\n    </g>\n    <g id=\"xtick_4\">\n     <g id=\"line2d_4\">\n      <g>\n       <use style=\"stroke:#000000;stroke-width:0.8;\" x=\"229.177557\" xlink:href=\"#m772bbcc8ca\" y=\"239.758125\"/>\n      </g>\n     </g>\n     <g id=\"text_4\">\n      <!-- Avg. Area Number of Bedrooms -->\n      <g transform=\"translate(150.344744 254.356563)scale(0.1 -0.1)\">\n       <defs>\n        <path d=\"M 9.8125 72.90625 \nL 23.09375 72.90625 \nL 55.421875 11.921875 \nL 55.421875 72.90625 \nL 64.984375 72.90625 \nL 64.984375 0 \nL 51.703125 0 \nL 19.390625 60.984375 \nL 19.390625 0 \nL 9.8125 0 \nz\n\" id=\"DejaVuSans-78\"/>\n        <path d=\"M 48.6875 27.296875 \nQ 48.6875 37.203125 44.609375 42.84375 \nQ 40.53125 48.484375 33.40625 48.484375 \nQ 26.265625 48.484375 22.1875 42.84375 \nQ 18.109375 37.203125 18.109375 27.296875 \nQ 18.109375 17.390625 22.1875 11.75 \nQ 26.265625 6.109375 33.40625 6.109375 \nQ 40.53125 6.109375 44.609375 11.75 \nQ 48.6875 17.390625 48.6875 27.296875 \nz\nM 18.109375 46.390625 \nQ 20.953125 51.265625 25.265625 53.625 \nQ 29.59375 56 35.59375 56 \nQ 45.5625 56 51.78125 48.09375 \nQ 58.015625 40.1875 58.015625 27.296875 \nQ 58.015625 14.40625 51.78125 6.484375 \nQ 45.5625 -1.421875 35.59375 -1.421875 \nQ 29.59375 -1.421875 25.265625 0.953125 \nQ 20.953125 3.328125 18.109375 8.203125 \nL 18.109375 0 \nL 9.078125 0 \nL 9.078125 75.984375 \nL 18.109375 75.984375 \nz\n\" id=\"DejaVuSans-98\"/>\n        <path d=\"M 37.109375 75.984375 \nL 37.109375 68.5 \nL 28.515625 68.5 \nQ 23.6875 68.5 21.796875 66.546875 \nQ 19.921875 64.59375 19.921875 59.515625 \nL 19.921875 54.6875 \nL 34.71875 54.6875 \nL 34.71875 47.703125 \nL 19.921875 47.703125 \nL 19.921875 0 \nL 10.890625 0 \nL 10.890625 47.703125 \nL 2.296875 47.703125 \nL 2.296875 54.6875 \nL 10.890625 54.6875 \nL 10.890625 58.5 \nQ 10.890625 67.625 15.140625 71.796875 \nQ 19.390625 75.984375 28.609375 75.984375 \nz\n\" id=\"DejaVuSans-102\"/>\n        <path d=\"M 19.671875 34.8125 \nL 19.671875 8.109375 \nL 35.5 8.109375 \nQ 43.453125 8.109375 47.28125 11.40625 \nQ 51.125 14.703125 51.125 21.484375 \nQ 51.125 28.328125 47.28125 31.5625 \nQ 43.453125 34.8125 35.5 34.8125 \nz\nM 19.671875 64.796875 \nL 19.671875 42.828125 \nL 34.28125 42.828125 \nQ 41.5 42.828125 45.03125 45.53125 \nQ 48.578125 48.25 48.578125 53.8125 \nQ 48.578125 59.328125 45.03125 62.0625 \nQ 41.5 64.796875 34.28125 64.796875 \nz\nM 9.8125 72.90625 \nL 35.015625 72.90625 \nQ 46.296875 72.90625 52.390625 68.21875 \nQ 58.5 63.53125 58.5 54.890625 \nQ 58.5 48.1875 55.375 44.234375 \nQ 52.25 40.28125 46.1875 39.3125 \nQ 53.46875 37.75 57.5 32.78125 \nQ 61.53125 27.828125 61.53125 20.40625 \nQ 61.53125 10.640625 54.890625 5.3125 \nQ 48.25 0 35.984375 0 \nL 9.8125 0 \nz\n\" id=\"DejaVuSans-66\"/>\n        <path d=\"M 45.40625 46.390625 \nL 45.40625 75.984375 \nL 54.390625 75.984375 \nL 54.390625 0 \nL 45.40625 0 \nL 45.40625 8.203125 \nQ 42.578125 3.328125 38.25 0.953125 \nQ 33.9375 -1.421875 27.875 -1.421875 \nQ 17.96875 -1.421875 11.734375 6.484375 \nQ 5.515625 14.40625 5.515625 27.296875 \nQ 5.515625 40.1875 11.734375 48.09375 \nQ 17.96875 56 27.875 56 \nQ 33.9375 56 38.25 53.625 \nQ 42.578125 51.265625 45.40625 46.390625 \nz\nM 14.796875 27.296875 \nQ 14.796875 17.390625 18.875 11.75 \nQ 22.953125 6.109375 30.078125 6.109375 \nQ 37.203125 6.109375 41.296875 11.75 \nQ 45.40625 17.390625 45.40625 27.296875 \nQ 45.40625 37.203125 41.296875 42.84375 \nQ 37.203125 48.484375 30.078125 48.484375 \nQ 22.953125 48.484375 18.875 42.84375 \nQ 14.796875 37.203125 14.796875 27.296875 \nz\n\" id=\"DejaVuSans-100\"/>\n       </defs>\n       <use xlink:href=\"#DejaVuSans-65\"/>\n       <use x=\"62.533203\" xlink:href=\"#DejaVuSans-118\"/>\n       <use x=\"121.712891\" xlink:href=\"#DejaVuSans-103\"/>\n       <use x=\"185.189453\" xlink:href=\"#DejaVuSans-46\"/>\n       <use x=\"216.976562\" xlink:href=\"#DejaVuSans-32\"/>\n       <use x=\"248.763672\" xlink:href=\"#DejaVuSans-65\"/>\n       <use x=\"317.171875\" xlink:href=\"#DejaVuSans-114\"/>\n       <use x=\"356.035156\" xlink:href=\"#DejaVuSans-101\"/>\n       <use x=\"417.558594\" xlink:href=\"#DejaVuSans-97\"/>\n       <use x=\"478.837891\" xlink:href=\"#DejaVuSans-32\"/>\n       <use x=\"510.625\" xlink:href=\"#DejaVuSans-78\"/>\n       <use x=\"585.429688\" xlink:href=\"#DejaVuSans-117\"/>\n       <use x=\"648.808594\" xlink:href=\"#DejaVuSans-109\"/>\n       <use x=\"746.220703\" xlink:href=\"#DejaVuSans-98\"/>\n       <use x=\"809.697266\" xlink:href=\"#DejaVuSans-101\"/>\n       <use x=\"871.220703\" xlink:href=\"#DejaVuSans-114\"/>\n       <use x=\"912.333984\" xlink:href=\"#DejaVuSans-32\"/>\n       <use x=\"944.121094\" xlink:href=\"#DejaVuSans-111\"/>\n       <use x=\"1005.302734\" xlink:href=\"#DejaVuSans-102\"/>\n       <use x=\"1040.507812\" xlink:href=\"#DejaVuSans-32\"/>\n       <use x=\"1072.294922\" xlink:href=\"#DejaVuSans-66\"/>\n       <use x=\"1140.898438\" xlink:href=\"#DejaVuSans-101\"/>\n       <use x=\"1202.421875\" xlink:href=\"#DejaVuSans-100\"/>\n       <use x=\"1265.898438\" xlink:href=\"#DejaVuSans-114\"/>\n       <use x=\"1304.761719\" xlink:href=\"#DejaVuSans-111\"/>\n       <use x=\"1365.943359\" xlink:href=\"#DejaVuSans-111\"/>\n       <use x=\"1427.125\" xlink:href=\"#DejaVuSans-109\"/>\n       <use x=\"1524.537109\" xlink:href=\"#DejaVuSans-115\"/>\n      </g>\n     </g>\n    </g>\n    <g id=\"xtick_5\">\n     <g id=\"line2d_5\">\n      <g>\n       <use style=\"stroke:#000000;stroke-width:0.8;\" x=\"290.050284\" xlink:href=\"#m772bbcc8ca\" y=\"239.758125\"/>\n      </g>\n     </g>\n     <g id=\"text_5\">\n      <!-- Avg. Area Number of Rooms -->\n      <g transform=\"translate(219.592472 254.356563)scale(0.1 -0.1)\">\n       <defs>\n        <path d=\"M 44.390625 34.1875 \nQ 47.5625 33.109375 50.5625 29.59375 \nQ 53.5625 26.078125 56.59375 19.921875 \nL 66.609375 0 \nL 56 0 \nL 46.6875 18.703125 \nQ 43.0625 26.03125 39.671875 28.421875 \nQ 36.28125 30.8125 30.421875 30.8125 \nL 19.671875 30.8125 \nL 19.671875 0 \nL 9.8125 0 \nL 9.8125 72.90625 \nL 32.078125 72.90625 \nQ 44.578125 72.90625 50.734375 67.671875 \nQ 56.890625 62.453125 56.890625 51.90625 \nQ 56.890625 45.015625 53.6875 40.46875 \nQ 50.484375 35.9375 44.390625 34.1875 \nz\nM 19.671875 64.796875 \nL 19.671875 38.921875 \nL 32.078125 38.921875 \nQ 39.203125 38.921875 42.84375 42.21875 \nQ 46.484375 45.515625 46.484375 51.90625 \nQ 46.484375 58.296875 42.84375 61.546875 \nQ 39.203125 64.796875 32.078125 64.796875 \nz\n\" id=\"DejaVuSans-82\"/>\n       </defs>\n       <use xlink:href=\"#DejaVuSans-65\"/>\n       <use x=\"62.533203\" xlink:href=\"#DejaVuSans-118\"/>\n       <use x=\"121.712891\" xlink:href=\"#DejaVuSans-103\"/>\n       <use x=\"185.189453\" xlink:href=\"#DejaVuSans-46\"/>\n       <use x=\"216.976562\" xlink:href=\"#DejaVuSans-32\"/>\n       <use x=\"248.763672\" xlink:href=\"#DejaVuSans-65\"/>\n       <use x=\"317.171875\" xlink:href=\"#DejaVuSans-114\"/>\n       <use x=\"356.035156\" xlink:href=\"#DejaVuSans-101\"/>\n       <use x=\"417.558594\" xlink:href=\"#DejaVuSans-97\"/>\n       <use x=\"478.837891\" xlink:href=\"#DejaVuSans-32\"/>\n       <use x=\"510.625\" xlink:href=\"#DejaVuSans-78\"/>\n       <use x=\"585.429688\" xlink:href=\"#DejaVuSans-117\"/>\n       <use x=\"648.808594\" xlink:href=\"#DejaVuSans-109\"/>\n       <use x=\"746.220703\" xlink:href=\"#DejaVuSans-98\"/>\n       <use x=\"809.697266\" xlink:href=\"#DejaVuSans-101\"/>\n       <use x=\"871.220703\" xlink:href=\"#DejaVuSans-114\"/>\n       <use x=\"912.333984\" xlink:href=\"#DejaVuSans-32\"/>\n       <use x=\"944.121094\" xlink:href=\"#DejaVuSans-111\"/>\n       <use x=\"1005.302734\" xlink:href=\"#DejaVuSans-102\"/>\n       <use x=\"1040.507812\" xlink:href=\"#DejaVuSans-32\"/>\n       <use x=\"1072.294922\" xlink:href=\"#DejaVuSans-82\"/>\n       <use x=\"1137.277344\" xlink:href=\"#DejaVuSans-111\"/>\n       <use x=\"1198.458984\" xlink:href=\"#DejaVuSans-111\"/>\n       <use x=\"1259.640625\" xlink:href=\"#DejaVuSans-109\"/>\n       <use x=\"1357.052734\" xlink:href=\"#DejaVuSans-115\"/>\n      </g>\n     </g>\n    </g>\n    <g id=\"xtick_6\">\n     <g id=\"line2d_6\">\n      <g>\n       <use style=\"stroke:#000000;stroke-width:0.8;\" x=\"350.923011\" xlink:href=\"#m772bbcc8ca\" y=\"239.758125\"/>\n      </g>\n     </g>\n     <g id=\"text_6\">\n      <!-- Price -->\n      <g transform=\"translate(338.725355 254.356563)scale(0.1 -0.1)\">\n       <use xlink:href=\"#DejaVuSans-80\"/>\n       <use x=\"58.552734\" xlink:href=\"#DejaVuSans-114\"/>\n       <use x=\"99.666016\" xlink:href=\"#DejaVuSans-105\"/>\n       <use x=\"127.449219\" xlink:href=\"#DejaVuSans-99\"/>\n       <use x=\"182.429688\" xlink:href=\"#DejaVuSans-101\"/>\n      </g>\n     </g>\n    </g>\n   </g>\n   <g id=\"matplotlib.axis_2\">\n    <g id=\"ytick_1\">\n     <g id=\"line2d_7\">\n      <defs>\n       <path d=\"M 0 0 \nL -3.5 0 \n\" id=\"m39443d40ca\" style=\"stroke:#000000;stroke-width:0.8;\"/>\n      </defs>\n      <g>\n       <use style=\"stroke:#000000;stroke-width:0.8;\" x=\"31.341193\" xlink:href=\"#m39443d40ca\" y=\"227.787864\"/>\n      </g>\n     </g>\n     <g id=\"text_7\">\n      <!-- 0.4 -->\n      <g transform=\"translate(8.438068 231.587082)scale(0.1 -0.1)\">\n       <defs>\n        <path d=\"M 31.78125 66.40625 \nQ 24.171875 66.40625 20.328125 58.90625 \nQ 16.5 51.421875 16.5 36.375 \nQ 16.5 21.390625 20.328125 13.890625 \nQ 24.171875 6.390625 31.78125 6.390625 \nQ 39.453125 6.390625 43.28125 13.890625 \nQ 47.125 21.390625 47.125 36.375 \nQ 47.125 51.421875 43.28125 58.90625 \nQ 39.453125 66.40625 31.78125 66.40625 \nz\nM 31.78125 74.21875 \nQ 44.046875 74.21875 50.515625 64.515625 \nQ 56.984375 54.828125 56.984375 36.375 \nQ 56.984375 17.96875 50.515625 8.265625 \nQ 44.046875 -1.421875 31.78125 -1.421875 \nQ 19.53125 -1.421875 13.0625 8.265625 \nQ 6.59375 17.96875 6.59375 36.375 \nQ 6.59375 54.828125 13.0625 64.515625 \nQ 19.53125 74.21875 31.78125 74.21875 \nz\n\" id=\"DejaVuSans-48\"/>\n        <path d=\"M 37.796875 64.3125 \nL 12.890625 25.390625 \nL 37.796875 25.390625 \nz\nM 35.203125 72.90625 \nL 47.609375 72.90625 \nL 47.609375 25.390625 \nL 58.015625 25.390625 \nL 58.015625 17.1875 \nL 47.609375 17.1875 \nL 47.609375 0 \nL 37.796875 0 \nL 37.796875 17.1875 \nL 4.890625 17.1875 \nL 4.890625 26.703125 \nz\n\" id=\"DejaVuSans-52\"/>\n       </defs>\n       <use xlink:href=\"#DejaVuSans-48\"/>\n       <use x=\"63.623047\" xlink:href=\"#DejaVuSans-46\"/>\n       <use x=\"95.410156\" xlink:href=\"#DejaVuSans-52\"/>\n      </g>\n     </g>\n    </g>\n    <g id=\"ytick_2\">\n     <g id=\"line2d_8\">\n      <g>\n       <use style=\"stroke:#000000;stroke-width:0.8;\" x=\"31.341193\" xlink:href=\"#m39443d40ca\" y=\"198.648786\"/>\n      </g>\n     </g>\n     <g id=\"text_8\">\n      <!-- 0.6 -->\n      <g transform=\"translate(8.438068 202.448005)scale(0.1 -0.1)\">\n       <defs>\n        <path d=\"M 33.015625 40.375 \nQ 26.375 40.375 22.484375 35.828125 \nQ 18.609375 31.296875 18.609375 23.390625 \nQ 18.609375 15.53125 22.484375 10.953125 \nQ 26.375 6.390625 33.015625 6.390625 \nQ 39.65625 6.390625 43.53125 10.953125 \nQ 47.40625 15.53125 47.40625 23.390625 \nQ 47.40625 31.296875 43.53125 35.828125 \nQ 39.65625 40.375 33.015625 40.375 \nz\nM 52.59375 71.296875 \nL 52.59375 62.3125 \nQ 48.875 64.0625 45.09375 64.984375 \nQ 41.3125 65.921875 37.59375 65.921875 \nQ 27.828125 65.921875 22.671875 59.328125 \nQ 17.53125 52.734375 16.796875 39.40625 \nQ 19.671875 43.65625 24.015625 45.921875 \nQ 28.375 48.1875 33.59375 48.1875 \nQ 44.578125 48.1875 50.953125 41.515625 \nQ 57.328125 34.859375 57.328125 23.390625 \nQ 57.328125 12.15625 50.6875 5.359375 \nQ 44.046875 -1.421875 33.015625 -1.421875 \nQ 20.359375 -1.421875 13.671875 8.265625 \nQ 6.984375 17.96875 6.984375 36.375 \nQ 6.984375 53.65625 15.1875 63.9375 \nQ 23.390625 74.21875 37.203125 74.21875 \nQ 40.921875 74.21875 44.703125 73.484375 \nQ 48.484375 72.75 52.59375 71.296875 \nz\n\" id=\"DejaVuSans-54\"/>\n       </defs>\n       <use xlink:href=\"#DejaVuSans-48\"/>\n       <use x=\"63.623047\" xlink:href=\"#DejaVuSans-46\"/>\n       <use x=\"95.410156\" xlink:href=\"#DejaVuSans-54\"/>\n      </g>\n     </g>\n    </g>\n    <g id=\"ytick_3\">\n     <g id=\"line2d_9\">\n      <g>\n       <use style=\"stroke:#000000;stroke-width:0.8;\" x=\"31.341193\" xlink:href=\"#m39443d40ca\" y=\"169.509708\"/>\n      </g>\n     </g>\n     <g id=\"text_9\">\n      <!-- 0.8 -->\n      <g transform=\"translate(8.438068 173.308927)scale(0.1 -0.1)\">\n       <defs>\n        <path d=\"M 31.78125 34.625 \nQ 24.75 34.625 20.71875 30.859375 \nQ 16.703125 27.09375 16.703125 20.515625 \nQ 16.703125 13.921875 20.71875 10.15625 \nQ 24.75 6.390625 31.78125 6.390625 \nQ 38.8125 6.390625 42.859375 10.171875 \nQ 46.921875 13.96875 46.921875 20.515625 \nQ 46.921875 27.09375 42.890625 30.859375 \nQ 38.875 34.625 31.78125 34.625 \nz\nM 21.921875 38.8125 \nQ 15.578125 40.375 12.03125 44.71875 \nQ 8.5 49.078125 8.5 55.328125 \nQ 8.5 64.0625 14.71875 69.140625 \nQ 20.953125 74.21875 31.78125 74.21875 \nQ 42.671875 74.21875 48.875 69.140625 \nQ 55.078125 64.0625 55.078125 55.328125 \nQ 55.078125 49.078125 51.53125 44.71875 \nQ 48 40.375 41.703125 38.8125 \nQ 48.828125 37.15625 52.796875 32.3125 \nQ 56.78125 27.484375 56.78125 20.515625 \nQ 56.78125 9.90625 50.3125 4.234375 \nQ 43.84375 -1.421875 31.78125 -1.421875 \nQ 19.734375 -1.421875 13.25 4.234375 \nQ 6.78125 9.90625 6.78125 20.515625 \nQ 6.78125 27.484375 10.78125 32.3125 \nQ 14.796875 37.15625 21.921875 38.8125 \nz\nM 18.3125 54.390625 \nQ 18.3125 48.734375 21.84375 45.5625 \nQ 25.390625 42.390625 31.78125 42.390625 \nQ 38.140625 42.390625 41.71875 45.5625 \nQ 45.3125 48.734375 45.3125 54.390625 \nQ 45.3125 60.0625 41.71875 63.234375 \nQ 38.140625 66.40625 31.78125 66.40625 \nQ 25.390625 66.40625 21.84375 63.234375 \nQ 18.3125 60.0625 18.3125 54.390625 \nz\n\" id=\"DejaVuSans-56\"/>\n       </defs>\n       <use xlink:href=\"#DejaVuSans-48\"/>\n       <use x=\"63.623047\" xlink:href=\"#DejaVuSans-46\"/>\n       <use x=\"95.410156\" xlink:href=\"#DejaVuSans-56\"/>\n      </g>\n     </g>\n    </g>\n    <g id=\"ytick_4\">\n     <g id=\"line2d_10\">\n      <g>\n       <use style=\"stroke:#000000;stroke-width:0.8;\" x=\"31.341193\" xlink:href=\"#m39443d40ca\" y=\"140.370631\"/>\n      </g>\n     </g>\n     <g id=\"text_10\">\n      <!-- 1.0 -->\n      <g transform=\"translate(8.438068 144.169849)scale(0.1 -0.1)\">\n       <defs>\n        <path d=\"M 12.40625 8.296875 \nL 28.515625 8.296875 \nL 28.515625 63.921875 \nL 10.984375 60.40625 \nL 10.984375 69.390625 \nL 28.421875 72.90625 \nL 38.28125 72.90625 \nL 38.28125 8.296875 \nL 54.390625 8.296875 \nL 54.390625 0 \nL 12.40625 0 \nz\n\" id=\"DejaVuSans-49\"/>\n       </defs>\n       <use xlink:href=\"#DejaVuSans-49\"/>\n       <use x=\"63.623047\" xlink:href=\"#DejaVuSans-46\"/>\n       <use x=\"95.410156\" xlink:href=\"#DejaVuSans-48\"/>\n      </g>\n     </g>\n    </g>\n    <g id=\"ytick_5\">\n     <g id=\"line2d_11\">\n      <g>\n       <use style=\"stroke:#000000;stroke-width:0.8;\" x=\"31.341193\" xlink:href=\"#m39443d40ca\" y=\"111.231553\"/>\n      </g>\n     </g>\n     <g id=\"text_11\">\n      <!-- 1.2 -->\n      <g transform=\"translate(8.438068 115.030772)scale(0.1 -0.1)\">\n       <defs>\n        <path d=\"M 19.1875 8.296875 \nL 53.609375 8.296875 \nL 53.609375 0 \nL 7.328125 0 \nL 7.328125 8.296875 \nQ 12.9375 14.109375 22.625 23.890625 \nQ 32.328125 33.6875 34.8125 36.53125 \nQ 39.546875 41.84375 41.421875 45.53125 \nQ 43.3125 49.21875 43.3125 52.78125 \nQ 43.3125 58.59375 39.234375 62.25 \nQ 35.15625 65.921875 28.609375 65.921875 \nQ 23.96875 65.921875 18.8125 64.3125 \nQ 13.671875 62.703125 7.8125 59.421875 \nL 7.8125 69.390625 \nQ 13.765625 71.78125 18.9375 73 \nQ 24.125 74.21875 28.421875 74.21875 \nQ 39.75 74.21875 46.484375 68.546875 \nQ 53.21875 62.890625 53.21875 53.421875 \nQ 53.21875 48.921875 51.53125 44.890625 \nQ 49.859375 40.875 45.40625 35.40625 \nQ 44.1875 33.984375 37.640625 27.21875 \nQ 31.109375 20.453125 19.1875 8.296875 \nz\n\" id=\"DejaVuSans-50\"/>\n       </defs>\n       <use xlink:href=\"#DejaVuSans-49\"/>\n       <use x=\"63.623047\" xlink:href=\"#DejaVuSans-46\"/>\n       <use x=\"95.410156\" xlink:href=\"#DejaVuSans-50\"/>\n      </g>\n     </g>\n    </g>\n    <g id=\"ytick_6\">\n     <g id=\"line2d_12\">\n      <g>\n       <use style=\"stroke:#000000;stroke-width:0.8;\" x=\"31.341193\" xlink:href=\"#m39443d40ca\" y=\"82.092475\"/>\n      </g>\n     </g>\n     <g id=\"text_12\">\n      <!-- 1.4 -->\n      <g transform=\"translate(8.438068 85.891694)scale(0.1 -0.1)\">\n       <use xlink:href=\"#DejaVuSans-49\"/>\n       <use x=\"63.623047\" xlink:href=\"#DejaVuSans-46\"/>\n       <use x=\"95.410156\" xlink:href=\"#DejaVuSans-52\"/>\n      </g>\n     </g>\n    </g>\n    <g id=\"ytick_7\">\n     <g id=\"line2d_13\">\n      <g>\n       <use style=\"stroke:#000000;stroke-width:0.8;\" x=\"31.341193\" xlink:href=\"#m39443d40ca\" y=\"52.953398\"/>\n      </g>\n     </g>\n     <g id=\"text_13\">\n      <!-- 1.6 -->\n      <g transform=\"translate(8.438068 56.752617)scale(0.1 -0.1)\">\n       <use xlink:href=\"#DejaVuSans-49\"/>\n       <use x=\"63.623047\" xlink:href=\"#DejaVuSans-46\"/>\n       <use x=\"95.410156\" xlink:href=\"#DejaVuSans-54\"/>\n      </g>\n     </g>\n    </g>\n    <g id=\"ytick_8\">\n     <g id=\"line2d_14\">\n      <g>\n       <use style=\"stroke:#000000;stroke-width:0.8;\" x=\"31.341193\" xlink:href=\"#m39443d40ca\" y=\"23.81432\"/>\n      </g>\n     </g>\n     <g id=\"text_14\">\n      <!-- 1.8 -->\n      <g transform=\"translate(8.438068 27.613539)scale(0.1 -0.1)\">\n       <use xlink:href=\"#DejaVuSans-49\"/>\n       <use x=\"63.623047\" xlink:href=\"#DejaVuSans-46\"/>\n       <use x=\"95.410156\" xlink:href=\"#DejaVuSans-56\"/>\n      </g>\n     </g>\n    </g>\n    <g id=\"text_15\">\n     <!-- 1e6 -->\n     <g transform=\"translate(31.341193 19.318125)scale(0.1 -0.1)\">\n      <use xlink:href=\"#DejaVuSans-49\"/>\n      <use x=\"63.623047\" xlink:href=\"#DejaVuSans-101\"/>\n      <use x=\"125.146484\" xlink:href=\"#DejaVuSans-54\"/>\n     </g>\n    </g>\n   </g>\n   <g id=\"line2d_15\">\n    <path clip-path=\"url(#p4c7ffbcb08)\" d=\"M 46.559375 229.874489 \nL 107.432102 104.738889 \nL 168.30483 158.177617 \nL 229.177557 32.201761 \nL 290.050284 90.623003 \nL 350.923011 102.60774 \n\" style=\"fill:none;stroke:#ff0000;stroke-linecap:square;stroke-width:1.5;\"/>\n   </g>\n   <g id=\"patch_3\">\n    <path d=\"M 31.341193 239.758125 \nL 31.341193 22.318125 \n\" style=\"fill:none;stroke:#000000;stroke-linecap:square;stroke-linejoin:miter;stroke-width:0.8;\"/>\n   </g>\n   <g id=\"patch_4\">\n    <path d=\"M 366.141193 239.758125 \nL 366.141193 22.318125 \n\" style=\"fill:none;stroke:#000000;stroke-linecap:square;stroke-linejoin:miter;stroke-width:0.8;\"/>\n   </g>\n   <g id=\"patch_5\">\n    <path d=\"M 31.341193 239.758125 \nL 366.141193 239.758125 \n\" style=\"fill:none;stroke:#000000;stroke-linecap:square;stroke-linejoin:miter;stroke-width:0.8;\"/>\n   </g>\n   <g id=\"patch_6\">\n    <path d=\"M 31.341193 22.318125 \nL 366.141193 22.318125 \n\" style=\"fill:none;stroke:#000000;stroke-linecap:square;stroke-linejoin:miter;stroke-width:0.8;\"/>\n   </g>\n   <g id=\"text_16\">\n    <!-- Poninominal degree 2 -->\n    <g transform=\"translate(133.412443 16.318125)scale(0.12 -0.12)\">\n     <use xlink:href=\"#DejaVuSans-80\"/>\n     <use x=\"56.677734\" xlink:href=\"#DejaVuSans-111\"/>\n     <use x=\"117.859375\" xlink:href=\"#DejaVuSans-110\"/>\n     <use x=\"181.238281\" xlink:href=\"#DejaVuSans-105\"/>\n     <use x=\"209.021484\" xlink:href=\"#DejaVuSans-110\"/>\n     <use x=\"272.400391\" xlink:href=\"#DejaVuSans-111\"/>\n     <use x=\"333.582031\" xlink:href=\"#DejaVuSans-109\"/>\n     <use x=\"430.994141\" xlink:href=\"#DejaVuSans-105\"/>\n     <use x=\"458.777344\" xlink:href=\"#DejaVuSans-110\"/>\n     <use x=\"522.15625\" xlink:href=\"#DejaVuSans-97\"/>\n     <use x=\"583.435547\" xlink:href=\"#DejaVuSans-108\"/>\n     <use x=\"611.21875\" xlink:href=\"#DejaVuSans-32\"/>\n     <use x=\"643.005859\" xlink:href=\"#DejaVuSans-100\"/>\n     <use x=\"706.482422\" xlink:href=\"#DejaVuSans-101\"/>\n     <use x=\"768.005859\" xlink:href=\"#DejaVuSans-103\"/>\n     <use x=\"831.482422\" xlink:href=\"#DejaVuSans-114\"/>\n     <use x=\"870.345703\" xlink:href=\"#DejaVuSans-101\"/>\n     <use x=\"931.869141\" xlink:href=\"#DejaVuSans-101\"/>\n     <use x=\"993.392578\" xlink:href=\"#DejaVuSans-32\"/>\n     <use x=\"1025.179688\" xlink:href=\"#DejaVuSans-50\"/>\n    </g>\n   </g>\n  </g>\n </g>\n <defs>\n  <clipPath id=\"p4c7ffbcb08\">\n   <rect height=\"217.44\" width=\"334.8\" x=\"31.341193\" y=\"22.318125\"/>\n  </clipPath>\n </defs>\n</svg>\n",
      "image/png": "[encoded data removed]"
     },
     "metadata": {
      "needs_background": "light"
     }
    }
   ],
   "source": [
    "# This is a first test to understand the syntax\n",
    "\n",
    "# Degree\n",
    "degree = 2\n",
    "\n",
    "# Assign the model to a variable\n",
    "pol_model = PolynomialFeatures(degree)\n",
    "\n",
    "# Transform the train set\n",
    "X_poly = pol_model.fit_transform(X_train, y_train)\n",
    "\n",
    "######\n",
    "print('X_poly.shape:', X_poly.shape)\n",
    "\n",
    "#Assign linear regression to a variable\n",
    "lin_reg = LinearRegression()\n",
    "# Train the model\n",
    "lin_reg.fit(X_poly, y_train)\n",
    "y_pred = lin_reg.predict(X_poly)\n",
    "\n",
    "print('y_pred.shape:', y_pred.shape)\n",
    "print('Score:', r2_score(y_train, y_pred))\n",
    "\n",
    "X_train_to_show, y_train_to_show = zip(*sorted(zip(X_train, y_train)))\n",
    "\n",
    "plt.scatter(X_train_to_show, y_train_to_show, color='b')\n",
    "X_train_to_show, y_pred = zip(*sorted(zip(X_train, y_pred)))\n",
    "plt.plot(X_train_to_show, y_pred, color='red')\n",
    "plt.scatter(X_train_to_show, y_pred, color='red')\n",
    "plt.title(\"Poninominal degree \" + str(degree))\n",
    "plt.show()"
   ]
  },
  {
   "source": [
    "### Now, let's create the `for loop` to see the model's performance"
   ],
   "cell_type": "markdown",
   "metadata": {}
  },
  {
   "cell_type": "code",
   "execution_count": 17,
   "metadata": {},
   "outputs": [
    {
     "output_type": "stream",
     "name": "stdout",
     "text": [
      "###########\n",
      "RESULT WITH DEGREE 2\n",
      "y_pred shape: (4000,)\n",
      "Score: 1.0\n",
      "###########\n",
      "RESULT WITH DEGREE 3\n",
      "y_pred shape: (4000,)\n",
      "Score: 0.999929905680792\n",
      "###########\n",
      "RESULT WITH DEGREE 4\n",
      "y_pred shape: (4000,)\n",
      "Score: 0.9998652756915681\n",
      "###########\n",
      "RESULT WITH DEGREE 5\n",
      "y_pred shape: (4000,)\n",
      "Score: 0.9990723948797086\n",
      "###########\n",
      "RESULT WITH DEGREE 6\n",
      "y_pred shape: (4000,)\n",
      "Score: 0.9918075698193259\n",
      "###########\n",
      "RESULT WITH DEGREE 7\n",
      "y_pred shape: (4000,)\n",
      "Score: 0.9453218198325887\n",
      "###########\n",
      "RESULT WITH DEGREE 8\n",
      "y_pred shape: (4000,)\n",
      "Score: 0.9047747677693764\n",
      "###########\n",
      "RESULT WITH DEGREE 9\n",
      "y_pred shape: (4000,)\n",
      "Score: 0.8832768246061221\n",
      "###########\n",
      "RESULT WITH DEGREE 10\n",
      "y_pred shape: (4000,)\n",
      "Score: 0.9205972803452424\n"
     ]
    },
    {
     "output_type": "execute_result",
     "data": {
      "text/plain": [
       "'\\n    plt.scatter(X_train_to_show, y_train_to_show, color=\\'b\\')\\nX_train_to_show, y_pred = zip(*sorted(zip(X_train, y_pred)))\\nplt.plot(X_train_to_show, y_pred, color=\\'red\\')\\nplt.scatter(X_train_to_show, y_pred, color=\\'red\\')\\nplt.title(\"Poninominal degree \" + str(degree))\\nplt.show()\\n'"
      ]
     },
     "metadata": {},
     "execution_count": 17
    }
   ],
   "source": [
    "# Create a range of degrees to iterate through\n",
    "degrees= [2, 3, 4, 5, 6, 7, 8, 9, 10]\n",
    "\n",
    "# Generate the for loop \n",
    "for i in range(len(degrees)):\n",
    "    print('###########')\n",
    "    print('RESULT WITH DEGREE', str(degrees[i]))\n",
    "\n",
    "    #Here we assign the model with degree as parameter\n",
    "    polynomial_model = PolynomialFeatures(degrees[i])\n",
    "    X_poly = polynomial_model.fit_transform(X_train, y_train)\n",
    "    \n",
    "    lin_reg.fit(X_poly, y_train)\n",
    "    y_pred = lin_reg.predict(X_poly)\n",
    "\n",
    "    print('y_pred shape:', y_pred.shape)\n",
    "    print('Score:', r2_score(y_train, y_pred))\n",
    "\n",
    "    X_train_to_show, y_train_to_show = zip(*sorted(zip(X_train, y_train)))\n",
    "\n",
    "'''\n",
    "                --- In case you want to plot the results ---\n",
    "\n",
    "plt.scatter(X_train_to_show, y_train_to_show, color='b')\n",
    "X_train_to_show, y_pred = zip(*sorted(zip(X_train, y_pred)))\n",
    "plt.plot(X_train_to_show, y_pred, color='red')\n",
    "plt.scatter(X_train_to_show, y_pred, color='red')\n",
    "plt.title(\"Poninominal degree \" + str(degree))\n",
    "plt.show()\n",
    "'''"
   ]
  },
  {
   "source": [
    "## As the number of polynoms increases, the model tends to be less precise.\n",
    "\n",
    "- It is also not advisable to train a model that fits perfectly on our test set because it would not predict accurately other datasets.\n",
    "\n",
    "- For this dataset, 2 seems to be the best degree for the dataset."
   ],
   "cell_type": "markdown",
   "metadata": {}
  },
  {
   "source": [],
   "cell_type": "markdown",
   "metadata": {}
  },
  {
   "source": [
    "# Exercise 2\n",
    "1. Change all the data from 'Avg. Area Number of Bedrooms' to integers\n",
    "    \n",
    "- If float is .5, it will round down to the next full integer"
   ],
   "cell_type": "markdown",
   "metadata": {}
  },
  {
   "cell_type": "code",
   "execution_count": 5,
   "metadata": {},
   "outputs": [],
   "source": [
    "# Use math.floor to round down\n",
    "new_df_col = []\n",
    "for i in df['Avg. Area Number of Bedrooms']:\n",
    "    i = math.floor(i)\n",
    "    new_df_col.append(i)\n",
    "df['Avg. Area Number of Bedrooms'] = new_df_col"
   ]
  },
  {
   "source": [
    "2. treat the new column as labels"
   ],
   "cell_type": "markdown",
   "metadata": {}
  },
  {
   "cell_type": "code",
   "execution_count": 6,
   "metadata": {},
   "outputs": [
    {
     "output_type": "execute_result",
     "data": {
      "text/plain": [
       "[2, 3, 4, 5, 6]"
      ]
     },
     "metadata": {},
     "execution_count": 6
    }
   ],
   "source": [
    "le = LabelEncoder()\n",
    "bedroom_num_encoded = le.fit_transform(df['Avg. Area Number of Bedrooms'])\n",
    "bedroom_num_encoded\n",
    "list(le.classes_)"
   ]
  },
  {
   "source": [
    "Usando todas las demás columnas a la vez, utiliza SVM para clasificar esa columna modificada. Es decir, \"Avg. Area Income\" con nuestro target, después \"Avg. Area House Age\", ... ¿hace aumentar el score? ¿por qué?\n",
    "\n",
    "¿Qué columna tiene mejor correlación con \"Avg. Area Number of Bedrooms\" una vez modificada? ¿qué columna da mejor score para nuestro target?"
   ],
   "cell_type": "markdown",
   "metadata": {}
  },
  {
   "source": [
    "### Use all the numerical columns one by one and use SVM(SVC) to classify the modified column"
   ],
   "cell_type": "markdown",
   "metadata": {}
  },
  {
   "cell_type": "code",
   "execution_count": 4,
   "metadata": {},
   "outputs": [
    {
     "output_type": "stream",
     "name": "stdout",
     "text": [
      "<class 'pandas.core.frame.DataFrame'>\nRangeIndex: 5000 entries, 0 to 4999\nData columns (total 7 columns):\n #   Column                        Non-Null Count  Dtype  \n---  ------                        --------------  -----  \n 0   Avg. Area Income              5000 non-null   float64\n 1   Avg. Area House Age           5000 non-null   float64\n 2   Avg. Area Number of Rooms     5000 non-null   float64\n 3   Avg. Area Number of Bedrooms  5000 non-null   float64\n 4   Area Population               5000 non-null   float64\n 5   Price                         5000 non-null   float64\n 6   Address                       5000 non-null   object \ndtypes: float64(6), object(1)\nmemory usage: 273.6+ KB\n"
     ]
    }
   ],
   "source": [
    "df.info()"
   ]
  },
  {
   "source": [
    "## Training models with one feature at a time\n",
    "- First with LinearSVC\n",
    "- Later with RBF Kernel"
   ],
   "cell_type": "markdown",
   "metadata": {}
  },
  {
   "cell_type": "code",
   "execution_count": 34,
   "metadata": {},
   "outputs": [
    {
     "output_type": "stream",
     "name": "stdout",
     "text": [
      "Score of the feature Avg. Area Income 0.29125\n",
      "-------------\n",
      "Score of the feature Avg. Area House Age 0.16675\n",
      "-------------\n",
      "Score of the feature Avg. Area Number of Rooms 0.29125\n",
      "-------------\n",
      "Score of the feature Area Population 0.298\n",
      "-------------\n",
      "Score of the feature Price 0.16675\n",
      "-------------\n"
     ]
    }
   ],
   "source": [
    "# WITH LINEAR SVM\n",
    "# ----------------\n",
    "\n",
    "# Define a list with all features\n",
    "features_list = ['Avg. Area Income', 'Avg. Area House Age', 'Avg. Area Number of Rooms', 'Area Population', 'Price']\n",
    "\n",
    "#SVM Parameters\n",
    "C = 100000\n",
    "gamma = 10\n",
    "\n",
    "# Assign a variable for Linear SVM\n",
    "clf = svm.LinearSVC(C=C)\n",
    "\n",
    "for pos, feature in enumerate(features_list):\n",
    "    # X --> Feature\n",
    "    X = np.array(df[feature]).reshape(-1, 1)\n",
    "\n",
    "    # y --> Target\n",
    "    y = bedroom_num_encoded\n",
    "\n",
    "    # ----------------------\n",
    "\n",
    "    # Split the data\n",
    "    X_train, X_test, y_train, y_test = train_test_split(X, y, test_size = 0.8, random_state=66)\n",
    "\n",
    "    # Train the model \n",
    "    clf.fit(X_train, y_train)\n",
    "\n",
    "    # Display the score\n",
    "    print('Score of the feature', str(features_list[pos]), clf.score(X_test, y_test))\n",
    "    print('-------------')"
   ]
  },
  {
   "cell_type": "code",
   "execution_count": 31,
   "metadata": {},
   "outputs": [
    {
     "output_type": "stream",
     "name": "stdout",
     "text": [
      "Score of the Avg. Area Income feature: 0.29675\n",
      "-------------\n",
      "Score of the Avg. Area House Age feature: 0.29575\n",
      "-------------\n",
      "Score of the Avg. Area Number of Rooms feature: 0.297\n",
      "-------------\n",
      "Score of the Area Population feature: 0.29975\n",
      "-------------\n",
      "Score of the Price feature: 0.298\n",
      "-------------\n"
     ]
    }
   ],
   "source": [
    "# Define a list with all features\n",
    "features_list = ['Avg. Area Income', 'Avg. Area House Age', 'Avg. Area Number of Rooms', 'Area Population', 'Price']\n",
    "\n",
    "#SVM Parameters\n",
    "C = 1000\n",
    "gamma = 10\n",
    "\n",
    "# Assign a variable for Linear SVM\n",
    "clf = svm.SVC(C=C, kernel='rbf', gamma=gamma)\n",
    "\n",
    "for pos, feature in enumerate(features_list):\n",
    "    # X --> Feature\n",
    "    X = np.array(df[feature]).reshape(-1, 1)\n",
    "\n",
    "    # y --> Target\n",
    "    y = bedroom_num_encoded\n",
    "\n",
    "    # ----------------------\n",
    "\n",
    "    # Split the data\n",
    "    X_train, X_test, y_train, y_test = train_test_split(X, y, test_size = 0.8, random_state=66)\n",
    "\n",
    "    # Train the model \n",
    "    clf.fit(X_train, y_train)\n",
    "\n",
    "    # Display the score\n",
    "    print('Score of the', str(features_list[pos]), 'feature:', clf.score(X_test, y_test))\n",
    "    print('-------------')"
   ]
  },
  {
   "source": [
    "## Training all features with Linear SVM"
   ],
   "cell_type": "markdown",
   "metadata": {}
  },
  {
   "cell_type": "code",
   "execution_count": 35,
   "metadata": {},
   "outputs": [
    {
     "output_type": "stream",
     "name": "stdout",
     "text": [
      "Score: 0.30275\nScore: 0.297\n"
     ]
    }
   ],
   "source": [
    "# new_df is the DataFrame with only numerical values\n",
    "new_df = df.iloc[:, :-1]\n",
    "\n",
    "# Define a C value for SVC\n",
    "C = 1000\n",
    "\n",
    "clf = svm.LinearSVC(C=C) \n",
    "\n",
    "# Define features and target\n",
    "    # X --> Features\n",
    "X = new_df[['Avg. Area Income', 'Avg. Area House Age', 'Avg. Area Number of Rooms', 'Area Population', 'Price']]\n",
    "\n",
    "    # y --> Target\n",
    "y = bedroom_num_encoded\n",
    "\n",
    "# Split the data\n",
    "test_size = 0.2\n",
    "seed = 70\n",
    "\n",
    "X_train, X_test, y_train, y_test = train_test_split(X, y, test_size=test_size, random_state=seed)\n",
    "#Train the model\n",
    "clf.fit(X_train, y_train)\n",
    "\n",
    "# See the score on the train set\n",
    "print('Score:', clf.score(X_train, y_train))\n",
    "\n",
    "# See the score on the test set\n",
    "print('Score:', clf.score(X_test, y_test))"
   ]
  },
  {
   "source": [
    "## Training all features with SVM with RBF kernel"
   ],
   "cell_type": "markdown",
   "metadata": {}
  },
  {
   "cell_type": "code",
   "execution_count": 36,
   "metadata": {},
   "outputs": [
    {
     "output_type": "stream",
     "name": "stdout",
     "text": [
      "Score with SVM trained with RBF kernel: 0.297\n"
     ]
    }
   ],
   "source": [
    "# SVM Parameters\n",
    "C = 1000\n",
    "gamma = 10\n",
    "\n",
    "# rbf -- Radial Basis Function\n",
    "\n",
    "svm_rbf = svm.SVC(C=C, kernel='rbf', gamma=gamma)\n",
    "svm_rbf.fit(X_train, y_train)\n",
    "print('Score with SVM trained with RBF kernel:', svm_rbf.score(X_test, y_test))"
   ]
  },
  {
   "source": [
    "# Conclusions\n",
    "\n",
    "After trying both linear and rbf kernel SVM to predict our target, the score has been always around 0.297"
   ],
   "cell_type": "markdown",
   "metadata": {}
  }
 ]
}