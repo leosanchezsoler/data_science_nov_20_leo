{
 "metadata": {
  "language_info": {
   "codemirror_mode": {
    "name": "ipython",
    "version": 3
   },
   "file_extension": ".py",
   "mimetype": "text/x-python",
   "name": "python",
   "nbconvert_exporter": "python",
   "pygments_lexer": "ipython3",
   "version": "3.6.4-final"
  },
  "orig_nbformat": 2,
  "kernelspec": {
   "name": "python3",
   "display_name": "Python 3.6.4 64-bit",
   "metadata": {
    "interpreter": {
     "hash": "5c4d2f1fdcd3716c7a5eea90ad07be30193490dd4e63617705244f5fd89ea793"
    }
   }
  }
 },
 "nbformat": 4,
 "nbformat_minor": 2,
 "cells": [
  {
   "source": [
    "### 1.\n",
    "\n",
    "A partir del dataset mnist (tf.keras.datasets.cifar10.load_data()), realiza una clasificación usando:\n",
    "\n",
    "** Las imágenes son a color, es decir, tienen 3 dimensiones (rgb). Para este problema, antes de empezar, transforma las imágenes a blanco y negro para que tengan 1 sola dimensión de profundidad **. \n",
    "\n",
    "1. Una CNN con:\n",
    "    - 1 capa convolutiva con 8 neuronas\n",
    "    - 1 MaxPool quedando las dimensiones de la imagen a la mitad\n",
    "    - 1 dropout 0.25\n",
    "    - 1 Flatten\n",
    "    - 1 dense con 32 neuronas\n",
    "    - 1 dense con 10 (salida)\n",
    "\n",
    "2. Una CNN con:\n",
    "    - 1 capa convolutiva con 8 neuronas\n",
    "    - 1 MaxPool quedando las dimensiones de la imagen a la mitad\n",
    "    - 1 dropout 0.25\n",
    "    - 1 Flatten\n",
    "    - 1 dense con 16 neuronas\n",
    "    - 1 dense con 32 neuronas\n",
    "    - 1 dense con 10 (salida)\n",
    "\n",
    "¿ Cuál ha dado mejor resultado?\n",
    "\n",
    "Para compilar el modelo, usa:\n",
    "\n",
    "model.compile(optimizer='adam',\n",
    "              loss='sparse_categorical_crossentropy',\n",
    "              metrics=['accuracy'])"
   ],
   "cell_type": "markdown",
   "metadata": {}
  },
  {
   "cell_type": "code",
   "execution_count": 107,
   "metadata": {},
   "outputs": [],
   "source": [
    "# Importing the necessary libraries\n",
    "import tensorflow as tf\n",
    "import matplotlib.pyplot as plt\n",
    "from tensorflow.keras import layers\n",
    "import numpy as np"
   ]
  },
  {
   "cell_type": "code",
   "execution_count": 108,
   "metadata": {},
   "outputs": [],
   "source": [
    "# Loading the data\n",
    "(train_images, train_labels),  (test_images, test_labels) = tf.keras.datasets.cifar10.load_data()"
   ]
  },
  {
   "cell_type": "code",
   "execution_count": 110,
   "metadata": {},
   "outputs": [],
   "source": [
    "train_images_gray = tf.image.rgb_to_grayscale(train_images).numpy()\n",
    "test_images_gray = tf.image.rgb_to_grayscale(test_images).numpy()"
   ]
  },
  {
   "source": [
    "train_images_gray = train_images_gray.reshape(50000, 32, 32)\n",
    "print(train_images_gray.shape)\n",
    "test_images_gray = test_images_gray.reshape(10000, 32, 32)\n",
    "print(test_images_gray.shape)"
   ],
   "cell_type": "markdown",
   "metadata": {}
  },
  {
   "cell_type": "code",
   "execution_count": 111,
   "metadata": {},
   "outputs": [],
   "source": [
    "# Normalize data\n",
    "train_images_gray_norm = train_images_gray / 255\n",
    "test_images_gray_norm = test_images_gray / 255"
   ]
  },
  {
   "cell_type": "code",
   "execution_count": 112,
   "metadata": {},
   "outputs": [
    {
     "output_type": "stream",
     "name": "stdout",
     "text": [
      "(50000, 32, 32, 3)\n(50000, 1)\n(10000, 32, 32, 3)\n(10000, 1)\n"
     ]
    }
   ],
   "source": [
    "# Shape of the data\n",
    "print(train_images.shape)\n",
    "print(train_labels.shape)\n",
    "print(test_images.shape)\n",
    "print(test_labels.shape)"
   ]
  },
  {
   "cell_type": "code",
   "execution_count": 113,
   "metadata": {},
   "outputs": [
    {
     "output_type": "stream",
     "name": "stdout",
     "text": [
      "(50000, 32, 32, 1)\n(50000, 1)\n(10000, 32, 32, 1)\n(10000, 1)\n"
     ]
    }
   ],
   "source": [
    "# Shape of the data\n",
    "print(train_images_gray_norm.shape)\n",
    "print(train_labels.shape)\n",
    "print(test_images_gray_norm.shape)\n",
    "print(test_labels.shape)"
   ]
  },
  {
   "cell_type": "code",
   "execution_count": 95,
   "metadata": {},
   "outputs": [
    {
     "output_type": "stream",
     "name": "stdout",
     "text": [
      "(50000, 32, 32, 1)\n(10000, 32, 32, 1)\n"
     ]
    }
   ],
   "source": [
    "# Shape of the grayscale images\n",
    "print(train_images_gray.shape)\n",
    "print(test_images_gray.shape)"
   ]
  },
  {
   "cell_type": "code",
   "execution_count": 97,
   "metadata": {},
   "outputs": [
    {
     "output_type": "execute_result",
     "data": {
      "text/plain": [
       "Text(0.5, 1.0, 'Label: [6]')"
      ]
     },
     "metadata": {},
     "execution_count": 97
    },
    {
     "output_type": "display_data",
     "data": {
      "text/plain": "<Figure size 432x288 with 1 Axes>",
      "image/svg+xml": "<?xml version=\"1.0\" encoding=\"utf-8\" standalone=\"no\"?>\r\n<!DOCTYPE svg PUBLIC \"-//W3C//DTD SVG 1.1//EN\"\r\n  \"http://www.w3.org/Graphics/SVG/1.1/DTD/svg11.dtd\">\r\n<!-- Created with matplotlib (https://matplotlib.org/) -->\r\n<svg height=\"263.63625pt\" version=\"1.1\" viewBox=\"0 0 251.565 263.63625\" width=\"251.565pt\" xmlns=\"http://www.w3.org/2000/svg\" xmlns:xlink=\"http://www.w3.org/1999/xlink\">\r\n <defs>\r\n  <style type=\"text/css\">\r\n*{stroke-linecap:butt;stroke-linejoin:round;}\r\n  </style>\r\n </defs>\r\n <g id=\"figure_1\">\r\n  <g id=\"patch_1\">\r\n   <path d=\"M 0 263.63625 \r\nL 251.565 263.63625 \r\nL 251.565 0 \r\nL 0 0 \r\nz\r\n\" style=\"fill:none;\"/>\r\n  </g>\r\n  <g id=\"axes_1\">\r\n   <g id=\"patch_2\">\r\n    <path d=\"M 26.925 239.758125 \r\nL 244.365 239.758125 \r\nL 244.365 22.318125 \r\nL 26.925 22.318125 \r\nz\r\n\" style=\"fill:#ffffff;\"/>\r\n   </g>\r\n   <g clip-path=\"url(#p78bc8b6271)\">\r\n    <image height=\"218\" id=\"image86904cd946\" transform=\"scale(1 -1)translate(0 -218)\" width=\"218\" x=\"26.925\" xlink:href=\"data:image/png;base64,\r\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\" y=\"-21.758125\"/>\r\n   </g>\r\n   <g id=\"matplotlib.axis_1\">\r\n    <g id=\"xtick_1\">\r\n     <g id=\"line2d_1\">\r\n      <defs>\r\n       <path d=\"M 0 0 \r\nL 0 3.5 \r\n\" id=\"me75da220ab\" style=\"stroke:#000000;stroke-width:0.8;\"/>\r\n      </defs>\r\n      <g>\r\n       <use style=\"stroke:#000000;stroke-width:0.8;\" x=\"30.3225\" xlink:href=\"#me75da220ab\" y=\"239.758125\"/>\r\n      </g>\r\n     </g>\r\n     <g id=\"text_1\">\r\n      <!-- 0 -->\r\n      <defs>\r\n       <path d=\"M 31.78125 66.40625 \r\nQ 24.171875 66.40625 20.328125 58.90625 \r\nQ 16.5 51.421875 16.5 36.375 \r\nQ 16.5 21.390625 20.328125 13.890625 \r\nQ 24.171875 6.390625 31.78125 6.390625 \r\nQ 39.453125 6.390625 43.28125 13.890625 \r\nQ 47.125 21.390625 47.125 36.375 \r\nQ 47.125 51.421875 43.28125 58.90625 \r\nQ 39.453125 66.40625 31.78125 66.40625 \r\nz\r\nM 31.78125 74.21875 \r\nQ 44.046875 74.21875 50.515625 64.515625 \r\nQ 56.984375 54.828125 56.984375 36.375 \r\nQ 56.984375 17.96875 50.515625 8.265625 \r\nQ 44.046875 -1.421875 31.78125 -1.421875 \r\nQ 19.53125 -1.421875 13.0625 8.265625 \r\nQ 6.59375 17.96875 6.59375 36.375 \r\nQ 6.59375 54.828125 13.0625 64.515625 \r\nQ 19.53125 74.21875 31.78125 74.21875 \r\nz\r\n\" id=\"DejaVuSans-48\"/>\r\n      </defs>\r\n      <g transform=\"translate(27.14125 254.356563)scale(0.1 -0.1)\">\r\n       <use xlink:href=\"#DejaVuSans-48\"/>\r\n      </g>\r\n     </g>\r\n    </g>\r\n    <g id=\"xtick_2\">\r\n     <g id=\"line2d_2\">\r\n      <g>\r\n       <use style=\"stroke:#000000;stroke-width:0.8;\" x=\"64.2975\" xlink:href=\"#me75da220ab\" y=\"239.758125\"/>\r\n      </g>\r\n     </g>\r\n     <g id=\"text_2\">\r\n      <!-- 5 -->\r\n      <defs>\r\n       <path d=\"M 10.796875 72.90625 \r\nL 49.515625 72.90625 \r\nL 49.515625 64.59375 \r\nL 19.828125 64.59375 \r\nL 19.828125 46.734375 \r\nQ 21.96875 47.46875 24.109375 47.828125 \r\nQ 26.265625 48.1875 28.421875 48.1875 \r\nQ 40.625 48.1875 47.75 41.5 \r\nQ 54.890625 34.8125 54.890625 23.390625 \r\nQ 54.890625 11.625 47.5625 5.09375 \r\nQ 40.234375 -1.421875 26.90625 -1.421875 \r\nQ 22.3125 -1.421875 17.546875 -0.640625 \r\nQ 12.796875 0.140625 7.71875 1.703125 \r\nL 7.71875 11.625 \r\nQ 12.109375 9.234375 16.796875 8.0625 \r\nQ 21.484375 6.890625 26.703125 6.890625 \r\nQ 35.15625 6.890625 40.078125 11.328125 \r\nQ 45.015625 15.765625 45.015625 23.390625 \r\nQ 45.015625 31 40.078125 35.4375 \r\nQ 35.15625 39.890625 26.703125 39.890625 \r\nQ 22.75 39.890625 18.8125 39.015625 \r\nQ 14.890625 38.140625 10.796875 36.28125 \r\nz\r\n\" id=\"DejaVuSans-53\"/>\r\n      </defs>\r\n      <g transform=\"translate(61.11625 254.356563)scale(0.1 -0.1)\">\r\n       <use xlink:href=\"#DejaVuSans-53\"/>\r\n      </g>\r\n     </g>\r\n    </g>\r\n    <g id=\"xtick_3\">\r\n     <g id=\"line2d_3\">\r\n      <g>\r\n       <use style=\"stroke:#000000;stroke-width:0.8;\" x=\"98.2725\" xlink:href=\"#me75da220ab\" y=\"239.758125\"/>\r\n      </g>\r\n     </g>\r\n     <g id=\"text_3\">\r\n      <!-- 10 -->\r\n      <defs>\r\n       <path d=\"M 12.40625 8.296875 \r\nL 28.515625 8.296875 \r\nL 28.515625 63.921875 \r\nL 10.984375 60.40625 \r\nL 10.984375 69.390625 \r\nL 28.421875 72.90625 \r\nL 38.28125 72.90625 \r\nL 38.28125 8.296875 \r\nL 54.390625 8.296875 \r\nL 54.390625 0 \r\nL 12.40625 0 \r\nz\r\n\" id=\"DejaVuSans-49\"/>\r\n      </defs>\r\n      <g transform=\"translate(91.91 254.356563)scale(0.1 -0.1)\">\r\n       <use xlink:href=\"#DejaVuSans-49\"/>\r\n       <use x=\"63.623047\" xlink:href=\"#DejaVuSans-48\"/>\r\n      </g>\r\n     </g>\r\n    </g>\r\n    <g id=\"xtick_4\">\r\n     <g id=\"line2d_4\">\r\n      <g>\r\n       <use style=\"stroke:#000000;stroke-width:0.8;\" x=\"132.2475\" xlink:href=\"#me75da220ab\" y=\"239.758125\"/>\r\n      </g>\r\n     </g>\r\n     <g id=\"text_4\">\r\n      <!-- 15 -->\r\n      <g transform=\"translate(125.885 254.356563)scale(0.1 -0.1)\">\r\n       <use xlink:href=\"#DejaVuSans-49\"/>\r\n       <use x=\"63.623047\" xlink:href=\"#DejaVuSans-53\"/>\r\n      </g>\r\n     </g>\r\n    </g>\r\n    <g id=\"xtick_5\">\r\n     <g id=\"line2d_5\">\r\n      <g>\r\n       <use style=\"stroke:#000000;stroke-width:0.8;\" x=\"166.2225\" xlink:href=\"#me75da220ab\" y=\"239.758125\"/>\r\n      </g>\r\n     </g>\r\n     <g id=\"text_5\">\r\n      <!-- 20 -->\r\n      <defs>\r\n       <path d=\"M 19.1875 8.296875 \r\nL 53.609375 8.296875 \r\nL 53.609375 0 \r\nL 7.328125 0 \r\nL 7.328125 8.296875 \r\nQ 12.9375 14.109375 22.625 23.890625 \r\nQ 32.328125 33.6875 34.8125 36.53125 \r\nQ 39.546875 41.84375 41.421875 45.53125 \r\nQ 43.3125 49.21875 43.3125 52.78125 \r\nQ 43.3125 58.59375 39.234375 62.25 \r\nQ 35.15625 65.921875 28.609375 65.921875 \r\nQ 23.96875 65.921875 18.8125 64.3125 \r\nQ 13.671875 62.703125 7.8125 59.421875 \r\nL 7.8125 69.390625 \r\nQ 13.765625 71.78125 18.9375 73 \r\nQ 24.125 74.21875 28.421875 74.21875 \r\nQ 39.75 74.21875 46.484375 68.546875 \r\nQ 53.21875 62.890625 53.21875 53.421875 \r\nQ 53.21875 48.921875 51.53125 44.890625 \r\nQ 49.859375 40.875 45.40625 35.40625 \r\nQ 44.1875 33.984375 37.640625 27.21875 \r\nQ 31.109375 20.453125 19.1875 8.296875 \r\nz\r\n\" id=\"DejaVuSans-50\"/>\r\n      </defs>\r\n      <g transform=\"translate(159.86 254.356563)scale(0.1 -0.1)\">\r\n       <use xlink:href=\"#DejaVuSans-50\"/>\r\n       <use x=\"63.623047\" xlink:href=\"#DejaVuSans-48\"/>\r\n      </g>\r\n     </g>\r\n    </g>\r\n    <g id=\"xtick_6\">\r\n     <g id=\"line2d_6\">\r\n      <g>\r\n       <use style=\"stroke:#000000;stroke-width:0.8;\" x=\"200.1975\" xlink:href=\"#me75da220ab\" y=\"239.758125\"/>\r\n      </g>\r\n     </g>\r\n     <g id=\"text_6\">\r\n      <!-- 25 -->\r\n      <g transform=\"translate(193.835 254.356563)scale(0.1 -0.1)\">\r\n       <use xlink:href=\"#DejaVuSans-50\"/>\r\n       <use x=\"63.623047\" xlink:href=\"#DejaVuSans-53\"/>\r\n      </g>\r\n     </g>\r\n    </g>\r\n    <g id=\"xtick_7\">\r\n     <g id=\"line2d_7\">\r\n      <g>\r\n       <use style=\"stroke:#000000;stroke-width:0.8;\" x=\"234.1725\" xlink:href=\"#me75da220ab\" y=\"239.758125\"/>\r\n      </g>\r\n     </g>\r\n     <g id=\"text_7\">\r\n      <!-- 30 -->\r\n      <defs>\r\n       <path d=\"M 40.578125 39.3125 \r\nQ 47.65625 37.796875 51.625 33 \r\nQ 55.609375 28.21875 55.609375 21.1875 \r\nQ 55.609375 10.40625 48.1875 4.484375 \r\nQ 40.765625 -1.421875 27.09375 -1.421875 \r\nQ 22.515625 -1.421875 17.65625 -0.515625 \r\nQ 12.796875 0.390625 7.625 2.203125 \r\nL 7.625 11.71875 \r\nQ 11.71875 9.328125 16.59375 8.109375 \r\nQ 21.484375 6.890625 26.8125 6.890625 \r\nQ 36.078125 6.890625 40.9375 10.546875 \r\nQ 45.796875 14.203125 45.796875 21.1875 \r\nQ 45.796875 27.640625 41.28125 31.265625 \r\nQ 36.765625 34.90625 28.71875 34.90625 \r\nL 20.21875 34.90625 \r\nL 20.21875 43.015625 \r\nL 29.109375 43.015625 \r\nQ 36.375 43.015625 40.234375 45.921875 \r\nQ 44.09375 48.828125 44.09375 54.296875 \r\nQ 44.09375 59.90625 40.109375 62.90625 \r\nQ 36.140625 65.921875 28.71875 65.921875 \r\nQ 24.65625 65.921875 20.015625 65.03125 \r\nQ 15.375 64.15625 9.8125 62.3125 \r\nL 9.8125 71.09375 \r\nQ 15.4375 72.65625 20.34375 73.4375 \r\nQ 25.25 74.21875 29.59375 74.21875 \r\nQ 40.828125 74.21875 47.359375 69.109375 \r\nQ 53.90625 64.015625 53.90625 55.328125 \r\nQ 53.90625 49.265625 50.4375 45.09375 \r\nQ 46.96875 40.921875 40.578125 39.3125 \r\nz\r\n\" id=\"DejaVuSans-51\"/>\r\n      </defs>\r\n      <g transform=\"translate(227.81 254.356563)scale(0.1 -0.1)\">\r\n       <use xlink:href=\"#DejaVuSans-51\"/>\r\n       <use x=\"63.623047\" xlink:href=\"#DejaVuSans-48\"/>\r\n      </g>\r\n     </g>\r\n    </g>\r\n   </g>\r\n   <g id=\"matplotlib.axis_2\">\r\n    <g id=\"ytick_1\">\r\n     <g id=\"line2d_8\">\r\n      <defs>\r\n       <path d=\"M 0 0 \r\nL -3.5 0 \r\n\" id=\"m199621f15b\" style=\"stroke:#000000;stroke-width:0.8;\"/>\r\n      </defs>\r\n      <g>\r\n       <use style=\"stroke:#000000;stroke-width:0.8;\" x=\"26.925\" xlink:href=\"#m199621f15b\" y=\"25.715625\"/>\r\n      </g>\r\n     </g>\r\n     <g id=\"text_8\">\r\n      <!-- 0 -->\r\n      <g transform=\"translate(13.5625 29.514844)scale(0.1 -0.1)\">\r\n       <use xlink:href=\"#DejaVuSans-48\"/>\r\n      </g>\r\n     </g>\r\n    </g>\r\n    <g id=\"ytick_2\">\r\n     <g id=\"line2d_9\">\r\n      <g>\r\n       <use style=\"stroke:#000000;stroke-width:0.8;\" x=\"26.925\" xlink:href=\"#m199621f15b\" y=\"59.690625\"/>\r\n      </g>\r\n     </g>\r\n     <g id=\"text_9\">\r\n      <!-- 5 -->\r\n      <g transform=\"translate(13.5625 63.489844)scale(0.1 -0.1)\">\r\n       <use xlink:href=\"#DejaVuSans-53\"/>\r\n      </g>\r\n     </g>\r\n    </g>\r\n    <g id=\"ytick_3\">\r\n     <g id=\"line2d_10\">\r\n      <g>\r\n       <use style=\"stroke:#000000;stroke-width:0.8;\" x=\"26.925\" xlink:href=\"#m199621f15b\" y=\"93.665625\"/>\r\n      </g>\r\n     </g>\r\n     <g id=\"text_10\">\r\n      <!-- 10 -->\r\n      <g transform=\"translate(7.2 97.464844)scale(0.1 -0.1)\">\r\n       <use xlink:href=\"#DejaVuSans-49\"/>\r\n       <use x=\"63.623047\" xlink:href=\"#DejaVuSans-48\"/>\r\n      </g>\r\n     </g>\r\n    </g>\r\n    <g id=\"ytick_4\">\r\n     <g id=\"line2d_11\">\r\n      <g>\r\n       <use style=\"stroke:#000000;stroke-width:0.8;\" x=\"26.925\" xlink:href=\"#m199621f15b\" y=\"127.640625\"/>\r\n      </g>\r\n     </g>\r\n     <g id=\"text_11\">\r\n      <!-- 15 -->\r\n      <g transform=\"translate(7.2 131.439844)scale(0.1 -0.1)\">\r\n       <use xlink:href=\"#DejaVuSans-49\"/>\r\n       <use x=\"63.623047\" xlink:href=\"#DejaVuSans-53\"/>\r\n      </g>\r\n     </g>\r\n    </g>\r\n    <g id=\"ytick_5\">\r\n     <g id=\"line2d_12\">\r\n      <g>\r\n       <use style=\"stroke:#000000;stroke-width:0.8;\" x=\"26.925\" xlink:href=\"#m199621f15b\" y=\"161.615625\"/>\r\n      </g>\r\n     </g>\r\n     <g id=\"text_12\">\r\n      <!-- 20 -->\r\n      <g transform=\"translate(7.2 165.414844)scale(0.1 -0.1)\">\r\n       <use xlink:href=\"#DejaVuSans-50\"/>\r\n       <use x=\"63.623047\" xlink:href=\"#DejaVuSans-48\"/>\r\n      </g>\r\n     </g>\r\n    </g>\r\n    <g id=\"ytick_6\">\r\n     <g id=\"line2d_13\">\r\n      <g>\r\n       <use style=\"stroke:#000000;stroke-width:0.8;\" x=\"26.925\" xlink:href=\"#m199621f15b\" y=\"195.590625\"/>\r\n      </g>\r\n     </g>\r\n     <g id=\"text_13\">\r\n      <!-- 25 -->\r\n      <g transform=\"translate(7.2 199.389844)scale(0.1 -0.1)\">\r\n       <use xlink:href=\"#DejaVuSans-50\"/>\r\n       <use x=\"63.623047\" xlink:href=\"#DejaVuSans-53\"/>\r\n      </g>\r\n     </g>\r\n    </g>\r\n    <g id=\"ytick_7\">\r\n     <g id=\"line2d_14\">\r\n      <g>\r\n       <use style=\"stroke:#000000;stroke-width:0.8;\" x=\"26.925\" xlink:href=\"#m199621f15b\" y=\"229.565625\"/>\r\n      </g>\r\n     </g>\r\n     <g id=\"text_14\">\r\n      <!-- 30 -->\r\n      <g transform=\"translate(7.2 233.364844)scale(0.1 -0.1)\">\r\n       <use xlink:href=\"#DejaVuSans-51\"/>\r\n       <use x=\"63.623047\" xlink:href=\"#DejaVuSans-48\"/>\r\n      </g>\r\n     </g>\r\n    </g>\r\n   </g>\r\n   <g id=\"patch_3\">\r\n    <path d=\"M 26.925 239.758125 \r\nL 26.925 22.318125 \r\n\" style=\"fill:none;stroke:#000000;stroke-linecap:square;stroke-linejoin:miter;stroke-width:0.8;\"/>\r\n   </g>\r\n   <g id=\"patch_4\">\r\n    <path d=\"M 244.365 239.758125 \r\nL 244.365 22.318125 \r\n\" style=\"fill:none;stroke:#000000;stroke-linecap:square;stroke-linejoin:miter;stroke-width:0.8;\"/>\r\n   </g>\r\n   <g id=\"patch_5\">\r\n    <path d=\"M 26.925 239.758125 \r\nL 244.365 239.758125 \r\n\" style=\"fill:none;stroke:#000000;stroke-linecap:square;stroke-linejoin:miter;stroke-width:0.8;\"/>\r\n   </g>\r\n   <g id=\"patch_6\">\r\n    <path d=\"M 26.925 22.318125 \r\nL 244.365 22.318125 \r\n\" style=\"fill:none;stroke:#000000;stroke-linecap:square;stroke-linejoin:miter;stroke-width:0.8;\"/>\r\n   </g>\r\n   <g id=\"text_15\">\r\n    <!-- Label: [6] -->\r\n    <defs>\r\n     <path d=\"M 9.8125 72.90625 \r\nL 19.671875 72.90625 \r\nL 19.671875 8.296875 \r\nL 55.171875 8.296875 \r\nL 55.171875 0 \r\nL 9.8125 0 \r\nz\r\n\" id=\"DejaVuSans-76\"/>\r\n     <path d=\"M 34.28125 27.484375 \r\nQ 23.390625 27.484375 19.1875 25 \r\nQ 14.984375 22.515625 14.984375 16.5 \r\nQ 14.984375 11.71875 18.140625 8.90625 \r\nQ 21.296875 6.109375 26.703125 6.109375 \r\nQ 34.1875 6.109375 38.703125 11.40625 \r\nQ 43.21875 16.703125 43.21875 25.484375 \r\nL 43.21875 27.484375 \r\nz\r\nM 52.203125 31.203125 \r\nL 52.203125 0 \r\nL 43.21875 0 \r\nL 43.21875 8.296875 \r\nQ 40.140625 3.328125 35.546875 0.953125 \r\nQ 30.953125 -1.421875 24.3125 -1.421875 \r\nQ 15.921875 -1.421875 10.953125 3.296875 \r\nQ 6 8.015625 6 15.921875 \r\nQ 6 25.140625 12.171875 29.828125 \r\nQ 18.359375 34.515625 30.609375 34.515625 \r\nL 43.21875 34.515625 \r\nL 43.21875 35.40625 \r\nQ 43.21875 41.609375 39.140625 45 \r\nQ 35.0625 48.390625 27.6875 48.390625 \r\nQ 23 48.390625 18.546875 47.265625 \r\nQ 14.109375 46.140625 10.015625 43.890625 \r\nL 10.015625 52.203125 \r\nQ 14.9375 54.109375 19.578125 55.046875 \r\nQ 24.21875 56 28.609375 56 \r\nQ 40.484375 56 46.34375 49.84375 \r\nQ 52.203125 43.703125 52.203125 31.203125 \r\nz\r\n\" id=\"DejaVuSans-97\"/>\r\n     <path d=\"M 48.6875 27.296875 \r\nQ 48.6875 37.203125 44.609375 42.84375 \r\nQ 40.53125 48.484375 33.40625 48.484375 \r\nQ 26.265625 48.484375 22.1875 42.84375 \r\nQ 18.109375 37.203125 18.109375 27.296875 \r\nQ 18.109375 17.390625 22.1875 11.75 \r\nQ 26.265625 6.109375 33.40625 6.109375 \r\nQ 40.53125 6.109375 44.609375 11.75 \r\nQ 48.6875 17.390625 48.6875 27.296875 \r\nz\r\nM 18.109375 46.390625 \r\nQ 20.953125 51.265625 25.265625 53.625 \r\nQ 29.59375 56 35.59375 56 \r\nQ 45.5625 56 51.78125 48.09375 \r\nQ 58.015625 40.1875 58.015625 27.296875 \r\nQ 58.015625 14.40625 51.78125 6.484375 \r\nQ 45.5625 -1.421875 35.59375 -1.421875 \r\nQ 29.59375 -1.421875 25.265625 0.953125 \r\nQ 20.953125 3.328125 18.109375 8.203125 \r\nL 18.109375 0 \r\nL 9.078125 0 \r\nL 9.078125 75.984375 \r\nL 18.109375 75.984375 \r\nz\r\n\" id=\"DejaVuSans-98\"/>\r\n     <path d=\"M 56.203125 29.59375 \r\nL 56.203125 25.203125 \r\nL 14.890625 25.203125 \r\nQ 15.484375 15.921875 20.484375 11.0625 \r\nQ 25.484375 6.203125 34.421875 6.203125 \r\nQ 39.59375 6.203125 44.453125 7.46875 \r\nQ 49.3125 8.734375 54.109375 11.28125 \r\nL 54.109375 2.78125 \r\nQ 49.265625 0.734375 44.1875 -0.34375 \r\nQ 39.109375 -1.421875 33.890625 -1.421875 \r\nQ 20.796875 -1.421875 13.15625 6.1875 \r\nQ 5.515625 13.8125 5.515625 26.8125 \r\nQ 5.515625 40.234375 12.765625 48.109375 \r\nQ 20.015625 56 32.328125 56 \r\nQ 43.359375 56 49.78125 48.890625 \r\nQ 56.203125 41.796875 56.203125 29.59375 \r\nz\r\nM 47.21875 32.234375 \r\nQ 47.125 39.59375 43.09375 43.984375 \r\nQ 39.0625 48.390625 32.421875 48.390625 \r\nQ 24.90625 48.390625 20.390625 44.140625 \r\nQ 15.875 39.890625 15.1875 32.171875 \r\nz\r\n\" id=\"DejaVuSans-101\"/>\r\n     <path d=\"M 9.421875 75.984375 \r\nL 18.40625 75.984375 \r\nL 18.40625 0 \r\nL 9.421875 0 \r\nz\r\n\" id=\"DejaVuSans-108\"/>\r\n     <path d=\"M 11.71875 12.40625 \r\nL 22.015625 12.40625 \r\nL 22.015625 0 \r\nL 11.71875 0 \r\nz\r\nM 11.71875 51.703125 \r\nL 22.015625 51.703125 \r\nL 22.015625 39.3125 \r\nL 11.71875 39.3125 \r\nz\r\n\" id=\"DejaVuSans-58\"/>\r\n     <path id=\"DejaVuSans-32\"/>\r\n     <path d=\"M 8.59375 75.984375 \r\nL 29.296875 75.984375 \r\nL 29.296875 69 \r\nL 17.578125 69 \r\nL 17.578125 -6.203125 \r\nL 29.296875 -6.203125 \r\nL 29.296875 -13.1875 \r\nL 8.59375 -13.1875 \r\nz\r\n\" id=\"DejaVuSans-91\"/>\r\n     <path d=\"M 33.015625 40.375 \r\nQ 26.375 40.375 22.484375 35.828125 \r\nQ 18.609375 31.296875 18.609375 23.390625 \r\nQ 18.609375 15.53125 22.484375 10.953125 \r\nQ 26.375 6.390625 33.015625 6.390625 \r\nQ 39.65625 6.390625 43.53125 10.953125 \r\nQ 47.40625 15.53125 47.40625 23.390625 \r\nQ 47.40625 31.296875 43.53125 35.828125 \r\nQ 39.65625 40.375 33.015625 40.375 \r\nz\r\nM 52.59375 71.296875 \r\nL 52.59375 62.3125 \r\nQ 48.875 64.0625 45.09375 64.984375 \r\nQ 41.3125 65.921875 37.59375 65.921875 \r\nQ 27.828125 65.921875 22.671875 59.328125 \r\nQ 17.53125 52.734375 16.796875 39.40625 \r\nQ 19.671875 43.65625 24.015625 45.921875 \r\nQ 28.375 48.1875 33.59375 48.1875 \r\nQ 44.578125 48.1875 50.953125 41.515625 \r\nQ 57.328125 34.859375 57.328125 23.390625 \r\nQ 57.328125 12.15625 50.6875 5.359375 \r\nQ 44.046875 -1.421875 33.015625 -1.421875 \r\nQ 20.359375 -1.421875 13.671875 8.265625 \r\nQ 6.984375 17.96875 6.984375 36.375 \r\nQ 6.984375 53.65625 15.1875 63.9375 \r\nQ 23.390625 74.21875 37.203125 74.21875 \r\nQ 40.921875 74.21875 44.703125 73.484375 \r\nQ 48.484375 72.75 52.59375 71.296875 \r\nz\r\n\" id=\"DejaVuSans-54\"/>\r\n     <path d=\"M 30.421875 75.984375 \r\nL 30.421875 -13.1875 \r\nL 9.71875 -13.1875 \r\nL 9.71875 -6.203125 \r\nL 21.390625 -6.203125 \r\nL 21.390625 69 \r\nL 9.71875 69 \r\nL 9.71875 75.984375 \r\nz\r\n\" id=\"DejaVuSans-93\"/>\r\n    </defs>\r\n    <g transform=\"translate(107.029687 16.318125)scale(0.12 -0.12)\">\r\n     <use xlink:href=\"#DejaVuSans-76\"/>\r\n     <use x=\"55.712891\" xlink:href=\"#DejaVuSans-97\"/>\r\n     <use x=\"116.992188\" xlink:href=\"#DejaVuSans-98\"/>\r\n     <use x=\"180.46875\" xlink:href=\"#DejaVuSans-101\"/>\r\n     <use x=\"241.992188\" xlink:href=\"#DejaVuSans-108\"/>\r\n     <use x=\"269.775391\" xlink:href=\"#DejaVuSans-58\"/>\r\n     <use x=\"303.466797\" xlink:href=\"#DejaVuSans-32\"/>\r\n     <use x=\"335.253906\" xlink:href=\"#DejaVuSans-91\"/>\r\n     <use x=\"374.267578\" xlink:href=\"#DejaVuSans-54\"/>\r\n     <use x=\"437.890625\" xlink:href=\"#DejaVuSans-93\"/>\r\n    </g>\r\n   </g>\r\n  </g>\r\n </g>\r\n <defs>\r\n  <clipPath id=\"p78bc8b6271\">\r\n   <rect height=\"217.44\" width=\"217.44\" x=\"26.925\" y=\"22.318125\"/>\r\n  </clipPath>\r\n </defs>\r\n</svg>\r\n",
      "image/png": "[encoded data removed]"
     },
     "metadata": {
      "needs_background": "light"
     }
    }
   ],
   "source": [
    "# Observing a sample\n",
    "plt.imshow(train_images_gray_norm[0].reshape(32,32), cmap=plt.cm.binary)\n",
    "plt.title('Label: ' + str(train_labels[0]))"
   ]
  },
  {
   "source": [
    "# Model 1"
   ],
   "cell_type": "markdown",
   "metadata": {}
  },
  {
   "cell_type": "code",
   "execution_count": 138,
   "metadata": {},
   "outputs": [
    {
     "output_type": "stream",
     "name": "stdout",
     "text": [
      "Model: \"sequential_17\"\n_________________________________________________________________\nLayer (type)                 Output Shape              Param #   \n=================================================================\nconv2d_34 (Conv2D)           (None, 32, 32, 16)        160       \n_________________________________________________________________\nmax_pooling2d_28 (MaxPooling (None, 16, 16, 16)        0         \n_________________________________________________________________\nconv2d_35 (Conv2D)           (None, 14, 14, 32)        4640      \n_________________________________________________________________\ndropout_15 (Dropout)         (None, 14, 14, 32)        0         \n_________________________________________________________________\nflatten_7 (Flatten)          (None, 6272)              0         \n_________________________________________________________________\ndense_29 (Dense)             (None, 32)                200736    \n_________________________________________________________________\ndense_30 (Dense)             (None, 10)                330       \n=================================================================\nTotal params: 205,866\nTrainable params: 205,866\nNon-trainable params: 0\n_________________________________________________________________\n"
     ]
    }
   ],
   "source": [
    "# Creating a model and layers\n",
    "model = tf.keras.models.Sequential()\n",
    "model.add(layers.Conv2D(filters=16, \n",
    "                        kernel_size=(3, 3), \n",
    "                        input_shape=(32, 32, 1), \n",
    "                        padding='same'))\n",
    "model.add(layers.MaxPooling2D(pool_size=(2, 2)))\n",
    "model.add(layers.Conv2D(filters=32, \n",
    "                        kernel_size=(3, 3)))\n",
    "model.add(layers.Dropout(0.4))\n",
    "model.add(layers.Flatten())\n",
    "model.add(layers.Dense(32, activation='relu'))\n",
    "model.add(layers.Dense(10, activation='softmax'))\n",
    "model.summary()"
   ]
  },
  {
   "source": [
    "opt = tf.keras.optimizers.Adam(learning_rate=0.1)\n",
    "#opt = tf.keras.optimizers.SGD(0.01)\n",
    "model.compile(optimizer=opt,\n",
    "              loss='sparse_categorical_crossentropy',\n",
    "              metrics=['accuracy'])"
   ],
   "cell_type": "code",
   "metadata": {},
   "execution_count": 141,
   "outputs": []
  },
  {
   "cell_type": "code",
   "execution_count": 140,
   "metadata": {},
   "outputs": [
    {
     "output_type": "stream",
     "name": "stdout",
     "text": [
      "Epoch 1/25\n",
      "1563/1563 [==============================] - 10s 6ms/step - loss: 2.3162 - accuracy: 0.0988\n",
      "Epoch 2/25\n",
      "1563/1563 [==============================] - 10s 7ms/step - loss: 2.3037 - accuracy: 0.1021\n",
      "Epoch 3/25\n",
      "1563/1563 [==============================] - 10s 6ms/step - loss: 2.3040 - accuracy: 0.1003\n",
      "Epoch 4/25\n",
      "1563/1563 [==============================] - 11s 7ms/step - loss: 2.3038 - accuracy: 0.1027\n",
      "Epoch 5/25\n",
      "1563/1563 [==============================] - 10s 6ms/step - loss: 2.3039 - accuracy: 0.0990\n",
      "Epoch 6/25\n",
      "1563/1563 [==============================] - 10s 6ms/step - loss: 2.3038 - accuracy: 0.0988\n",
      "Epoch 7/25\n",
      "1563/1563 [==============================] - 10s 6ms/step - loss: 2.3040 - accuracy: 0.0987\n",
      "Epoch 8/25\n",
      "1563/1563 [==============================] - 11s 7ms/step - loss: 2.3041 - accuracy: 0.0975\n",
      "Epoch 9/25\n",
      "1563/1563 [==============================] - 9s 6ms/step - loss: 2.3040 - accuracy: 0.1011\n",
      "Epoch 10/25\n",
      "1563/1563 [==============================] - 9s 6ms/step - loss: 2.3039 - accuracy: 0.1001\n",
      "Epoch 11/25\n",
      "1563/1563 [==============================] - 9s 6ms/step - loss: 2.3038 - accuracy: 0.0993\n",
      "Epoch 12/25\n",
      "1563/1563 [==============================] - 9s 6ms/step - loss: 2.3040 - accuracy: 0.1006\n",
      "Epoch 13/25\n",
      "1563/1563 [==============================] - 9s 6ms/step - loss: 2.3037 - accuracy: 0.0992\n",
      "Epoch 14/25\n",
      "1563/1563 [==============================] - 9s 6ms/step - loss: 2.3041 - accuracy: 0.0991\n",
      "Epoch 15/25\n",
      "1563/1563 [==============================] - 9s 6ms/step - loss: 2.3039 - accuracy: 0.1001\n",
      "Epoch 16/25\n",
      "1563/1563 [==============================] - 9s 6ms/step - loss: 2.3040 - accuracy: 0.0987\n",
      "Epoch 17/25\n",
      "1563/1563 [==============================] - 9s 6ms/step - loss: 2.3039 - accuracy: 0.0988\n",
      "Epoch 18/25\n",
      "1563/1563 [==============================] - 9s 6ms/step - loss: 2.3039 - accuracy: 0.1004\n",
      "Epoch 19/25\n",
      "1563/1563 [==============================] - 9s 6ms/step - loss: 2.3038 - accuracy: 0.1016\n",
      "Epoch 20/25\n",
      "1563/1563 [==============================] - 9s 6ms/step - loss: 2.3042 - accuracy: 0.0991\n",
      "Epoch 21/25\n",
      "1563/1563 [==============================] - 9s 6ms/step - loss: 2.3041 - accuracy: 0.0973\n",
      "Epoch 22/25\n",
      "1563/1563 [==============================] - 9s 6ms/step - loss: 2.3038 - accuracy: 0.1003\n",
      "Epoch 23/25\n",
      "1563/1563 [==============================] - 9s 6ms/step - loss: 2.3040 - accuracy: 0.0991\n",
      "Epoch 24/25\n",
      "1563/1563 [==============================] - 9s 6ms/step - loss: 2.3040 - accuracy: 0.0994\n",
      "Epoch 25/25\n",
      "1563/1563 [==============================] - 9s 6ms/step - loss: 2.3038 - accuracy: 0.1007\n"
     ]
    }
   ],
   "source": [
    "history = model.fit(train_images_gray_norm, train_labels, epochs=25)"
   ]
  },
  {
   "cell_type": "code",
   "execution_count": 117,
   "metadata": {},
   "outputs": [],
   "source": [
    "predictions1 = model.predict(test_images_gray)"
   ]
  },
  {
   "cell_type": "code",
   "execution_count": 15,
   "metadata": {},
   "outputs": [
    {
     "output_type": "execute_result",
     "data": {
      "text/plain": [
       "(10000, 10)"
      ]
     },
     "metadata": {},
     "execution_count": 15
    }
   ],
   "source": [
    "predictions1.shape"
   ]
  },
  {
   "cell_type": "code",
   "execution_count": 16,
   "metadata": {},
   "outputs": [
    {
     "output_type": "stream",
     "name": "stdout",
     "text": [
      "313/313 [==============================] - 2s 5ms/step - loss: 2.3026 - accuracy: 0.1000\n",
      "test loss, test acc: [2.3026206493377686, 0.10000000149011612]\n"
     ]
    }
   ],
   "source": [
    "results1 = model.evaluate(test_images_gray, test_labels)\n",
    "print(\"test loss, test acc:\", results1)"
   ]
  },
  {
   "source": [
    "# Model 2"
   ],
   "cell_type": "markdown",
   "metadata": {}
  },
  {
   "cell_type": "code",
   "execution_count": 20,
   "metadata": {},
   "outputs": [
    {
     "output_type": "stream",
     "name": "stdout",
     "text": [
      "Model: \"sequential_2\"\n_________________________________________________________________\nLayer (type)                 Output Shape              Param #   \n=================================================================\nconv2d_2 (Conv2D)            (None, 32, 32, 8)         80        \n_________________________________________________________________\nmax_pooling2d_2 (MaxPooling2 (None, 16, 16, 8)         0         \n_________________________________________________________________\ndropout_2 (Dropout)          (None, 16, 16, 8)         0         \n_________________________________________________________________\nflatten_2 (Flatten)          (None, 2048)              0         \n_________________________________________________________________\ndense_5 (Dense)              (None, 16)                32784     \n_________________________________________________________________\ndense_6 (Dense)              (None, 32)                544       \n_________________________________________________________________\ndense_7 (Dense)              (None, 10)                330       \n=================================================================\nTotal params: 33,738\nTrainable params: 33,738\nNon-trainable params: 0\n_________________________________________________________________\n"
     ]
    }
   ],
   "source": [
    "# Creating a model and layers\n",
    "model = tf.keras.models.Sequential()\n",
    "model.add(layers.Conv2D(filters=8, \n",
    "                        kernel_size=(3, 3), \n",
    "                        input_shape=(32, 32, 1), \n",
    "                        padding='same'))\n",
    "model.add(layers.MaxPooling2D(pool_size=(2, 2), padding=\"same\"))\n",
    "model.add(layers.Dropout(0.25))\n",
    "model.add(layers.Flatten())\n",
    "model.add(layers.Dense(16, activation='relu'))\n",
    "model.add(layers.Dense(32, activation='relu'))\n",
    "model.add(layers.Dense(10, activation='softmax'))\n",
    "model.summary()"
   ]
  },
  {
   "cell_type": "code",
   "execution_count": 21,
   "metadata": {},
   "outputs": [],
   "source": [
    "# Compiling the model\n",
    "model.compile(optimizer='adam',\n",
    "              loss='sparse_categorical_crossentropy',\n",
    "              metrics=['accuracy'])"
   ]
  },
  {
   "cell_type": "code",
   "execution_count": 22,
   "metadata": {},
   "outputs": [
    {
     "output_type": "stream",
     "name": "stdout",
     "text": [
      "Epoch 1/25\n",
      "1563/1563 [==============================] - 18s 11ms/step - loss: 3.1748 - accuracy: 0.1024\n",
      "Epoch 2/25\n",
      "1563/1563 [==============================] - 16s 10ms/step - loss: 2.3028 - accuracy: 0.0998\n",
      "Epoch 3/25\n",
      "1563/1563 [==============================] - 16s 10ms/step - loss: 2.3027 - accuracy: 0.1000\n",
      "Epoch 4/25\n",
      "1563/1563 [==============================] - 17s 11ms/step - loss: 2.3028 - accuracy: 0.1007\n",
      "Epoch 5/25\n",
      "1563/1563 [==============================] - 18s 12ms/step - loss: 2.3042 - accuracy: 0.0996\n",
      "Epoch 6/25\n",
      "1563/1563 [==============================] - 16s 10ms/step - loss: 2.3029 - accuracy: 0.0955\n",
      "Epoch 7/25\n",
      "1563/1563 [==============================] - 15s 9ms/step - loss: 2.3028 - accuracy: 0.0979\n",
      "Epoch 8/25\n",
      "1563/1563 [==============================] - 17s 11ms/step - loss: 2.3027 - accuracy: 0.0975\n",
      "Epoch 9/25\n",
      "1563/1563 [==============================] - 17s 11ms/step - loss: 2.3027 - accuracy: 0.1006\n",
      "Epoch 10/25\n",
      "1563/1563 [==============================] - 17s 11ms/step - loss: 2.3028 - accuracy: 0.0992\n",
      "Epoch 11/25\n",
      "1563/1563 [==============================] - 17s 11ms/step - loss: 2.3028 - accuracy: 0.0982\n",
      "Epoch 12/25\n",
      "1563/1563 [==============================] - 17s 11ms/step - loss: 2.3027 - accuracy: 0.0962\n",
      "Epoch 13/25\n",
      "1563/1563 [==============================] - 17s 11ms/step - loss: 2.3027 - accuracy: 0.1018\n",
      "Epoch 14/25\n",
      "1563/1563 [==============================] - 17s 11ms/step - loss: 2.3027 - accuracy: 0.1004\n",
      "Epoch 15/25\n",
      "1563/1563 [==============================] - 18s 12ms/step - loss: 2.3027 - accuracy: 0.0997\n",
      "Epoch 16/25\n",
      "1563/1563 [==============================] - 16s 10ms/step - loss: 2.3027 - accuracy: 0.0974\n",
      "Epoch 17/25\n",
      "1563/1563 [==============================] - 16s 10ms/step - loss: 2.3027 - accuracy: 0.0978\n",
      "Epoch 18/25\n",
      "1563/1563 [==============================] - 17s 11ms/step - loss: 2.3028 - accuracy: 0.0966\n",
      "Epoch 19/25\n",
      "1563/1563 [==============================] - 17s 11ms/step - loss: 2.3027 - accuracy: 0.0986\n",
      "Epoch 20/25\n",
      "1563/1563 [==============================] - 18s 12ms/step - loss: 2.3027 - accuracy: 0.0966\n",
      "Epoch 21/25\n",
      "1563/1563 [==============================] - 20s 13ms/step - loss: 2.3028 - accuracy: 0.0997\n",
      "Epoch 22/25\n",
      "1563/1563 [==============================] - 18s 12ms/step - loss: 2.3028 - accuracy: 0.0958\n",
      "Epoch 23/25\n",
      "1563/1563 [==============================] - 22s 14ms/step - loss: 2.3028 - accuracy: 0.1012\n",
      "Epoch 24/25\n",
      "1563/1563 [==============================] - 20s 13ms/step - loss: 2.3028 - accuracy: 0.0985\n",
      "Epoch 25/25\n",
      "1563/1563 [==============================] - 20s 13ms/step - loss: 2.3027 - accuracy: 0.0984\n"
     ]
    },
    {
     "output_type": "execute_result",
     "data": {
      "text/plain": [
       "<tensorflow.python.keras.callbacks.History at 0x7fd02a94d370>"
      ]
     },
     "metadata": {},
     "execution_count": 22
    }
   ],
   "source": [
    "model.fit(train_images_gray, train_labels, epochs=25)"
   ]
  },
  {
   "cell_type": "code",
   "execution_count": 23,
   "metadata": {},
   "outputs": [],
   "source": [
    "predictions2 = model.predict(test_images_gray)"
   ]
  },
  {
   "cell_type": "code",
   "execution_count": 24,
   "metadata": {},
   "outputs": [
    {
     "output_type": "execute_result",
     "data": {
      "text/plain": [
       "(10000, 10)"
      ]
     },
     "metadata": {},
     "execution_count": 24
    }
   ],
   "source": [
    "predictions2.shape"
   ]
  },
  {
   "cell_type": "code",
   "execution_count": 25,
   "metadata": {},
   "outputs": [
    {
     "output_type": "stream",
     "name": "stdout",
     "text": [
      "313/313 [==============================] - 2s 7ms/step - loss: 2.3026 - accuracy: 0.1000\n",
      "test loss, test acc: [2.3026392459869385, 0.10000000149011612]\n"
     ]
    }
   ],
   "source": [
    "results2 = model.evaluate(test_images_gray, test_labels)\n",
    "print(\"test loss, test acc:\", results2)"
   ]
  },
  {
   "source": [
    "### 2.\n",
    "\n",
    "**BONUS: Entrena la red neuronal 1 pero esta vez con las imágenes a color.**"
   ],
   "cell_type": "markdown",
   "metadata": {}
  },
  {
   "cell_type": "code",
   "execution_count": 26,
   "metadata": {},
   "outputs": [
    {
     "output_type": "stream",
     "name": "stdout",
     "text": [
      "Model: \"sequential_3\"\n_________________________________________________________________\nLayer (type)                 Output Shape              Param #   \n=================================================================\nconv2d_3 (Conv2D)            (None, 32, 32, 8)         224       \n_________________________________________________________________\nmax_pooling2d_3 (MaxPooling2 (None, 16, 16, 8)         0         \n_________________________________________________________________\ndropout_3 (Dropout)          (None, 16, 16, 8)         0         \n_________________________________________________________________\nflatten_3 (Flatten)          (None, 2048)              0         \n_________________________________________________________________\ndense_8 (Dense)              (None, 32)                65568     \n_________________________________________________________________\ndense_9 (Dense)              (None, 10)                330       \n=================================================================\nTotal params: 66,122\nTrainable params: 66,122\nNon-trainable params: 0\n_________________________________________________________________\n"
     ]
    }
   ],
   "source": [
    "# Creating a model and layers\n",
    "model = tf.keras.models.Sequential()\n",
    "model.add(layers.Conv2D(filters=8, \n",
    "                        kernel_size=(3, 3), \n",
    "                        input_shape=(32, 32, 3), \n",
    "                        padding='same'))\n",
    "model.add(layers.MaxPooling2D(pool_size=(2, 2), padding=\"same\"))\n",
    "model.add(layers.Dropout(0.25))\n",
    "model.add(layers.Flatten())\n",
    "model.add(layers.Dense(32, activation='relu'))\n",
    "model.add(layers.Dense(10, activation='softmax'))\n",
    "model.summary()"
   ]
  },
  {
   "cell_type": "code",
   "execution_count": 27,
   "metadata": {},
   "outputs": [],
   "source": [
    "model.compile(optimizer='adam',\n",
    "              loss='sparse_categorical_crossentropy',\n",
    "              metrics=['accuracy'])"
   ]
  },
  {
   "cell_type": "code",
   "execution_count": 28,
   "metadata": {},
   "outputs": [
    {
     "output_type": "stream",
     "name": "stdout",
     "text": [
      "Epoch 1/25\n",
      "1563/1563 [==============================] - 27s 17ms/step - loss: 3.9076 - accuracy: 0.1013\n",
      "Epoch 2/25\n",
      "1563/1563 [==============================] - 23s 15ms/step - loss: 2.3029 - accuracy: 0.1010\n",
      "Epoch 3/25\n",
      "1563/1563 [==============================] - 22s 14ms/step - loss: 2.3028 - accuracy: 0.0998\n",
      "Epoch 4/25\n",
      "1563/1563 [==============================] - 22s 14ms/step - loss: 2.3027 - accuracy: 0.0982\n",
      "Epoch 5/25\n",
      "1563/1563 [==============================] - 21s 14ms/step - loss: 2.3026 - accuracy: 0.1018\n",
      "Epoch 6/25\n",
      "1563/1563 [==============================] - 21s 13ms/step - loss: 2.3027 - accuracy: 0.1003\n",
      "Epoch 7/25\n",
      "1563/1563 [==============================] - 22s 14ms/step - loss: 2.3027 - accuracy: 0.0991\n",
      "Epoch 8/25\n",
      "1563/1563 [==============================] - 22s 14ms/step - loss: 2.3027 - accuracy: 0.0992\n",
      "Epoch 9/25\n",
      "1563/1563 [==============================] - 23s 15ms/step - loss: 2.3027 - accuracy: 0.1016\n",
      "Epoch 10/25\n",
      "1563/1563 [==============================] - 22s 14ms/step - loss: 2.3028 - accuracy: 0.0974\n",
      "Epoch 11/25\n",
      "1563/1563 [==============================] - 22s 14ms/step - loss: 2.3027 - accuracy: 0.0979\n",
      "Epoch 12/25\n",
      "1563/1563 [==============================] - 21s 14ms/step - loss: 2.3027 - accuracy: 0.1016\n",
      "Epoch 13/25\n",
      "1563/1563 [==============================] - 22s 14ms/step - loss: 2.3027 - accuracy: 0.0973\n",
      "Epoch 14/25\n",
      "1563/1563 [==============================] - 22s 14ms/step - loss: 2.3027 - accuracy: 0.0999\n",
      "Epoch 15/25\n",
      "1563/1563 [==============================] - 23s 15ms/step - loss: 2.3027 - accuracy: 0.0940\n",
      "Epoch 16/25\n",
      "1563/1563 [==============================] - 22s 14ms/step - loss: 2.3027 - accuracy: 0.1004\n",
      "Epoch 17/25\n",
      "1563/1563 [==============================] - 22s 14ms/step - loss: 2.3028 - accuracy: 0.0983\n",
      "Epoch 18/25\n",
      "1563/1563 [==============================] - 22s 14ms/step - loss: 2.3027 - accuracy: 0.1000\n",
      "Epoch 19/25\n",
      "1563/1563 [==============================] - 22s 14ms/step - loss: 2.3026 - accuracy: 0.1012\n",
      "Epoch 20/25\n",
      "1563/1563 [==============================] - 20s 13ms/step - loss: 2.3026 - accuracy: 0.0993\n",
      "Epoch 21/25\n",
      "1563/1563 [==============================] - 22s 14ms/step - loss: 2.3026 - accuracy: 0.0976\n",
      "Epoch 22/25\n",
      "1563/1563 [==============================] - 22s 14ms/step - loss: 2.3027 - accuracy: 0.0990\n",
      "Epoch 23/25\n",
      "1563/1563 [==============================] - 21s 13ms/step - loss: 2.3027 - accuracy: 0.1005\n",
      "Epoch 24/25\n",
      "1563/1563 [==============================] - 22s 14ms/step - loss: 2.3027 - accuracy: 0.0959\n",
      "Epoch 25/25\n",
      "1563/1563 [==============================] - 21s 14ms/step - loss: 2.3027 - accuracy: 0.0999\n"
     ]
    },
    {
     "output_type": "execute_result",
     "data": {
      "text/plain": [
       "<tensorflow.python.keras.callbacks.History at 0x7fd03d934bb0>"
      ]
     },
     "metadata": {},
     "execution_count": 28
    }
   ],
   "source": [
    "model.fit(train_images, train_labels, epochs=25)"
   ]
  },
  {
   "cell_type": "code",
   "execution_count": 29,
   "metadata": {},
   "outputs": [],
   "source": [
    "predictions3 = model.predict(test_images)"
   ]
  },
  {
   "cell_type": "code",
   "execution_count": 30,
   "metadata": {},
   "outputs": [
    {
     "output_type": "execute_result",
     "data": {
      "text/plain": [
       "(10000, 10)"
      ]
     },
     "metadata": {},
     "execution_count": 30
    }
   ],
   "source": [
    "predictions3.shape"
   ]
  },
  {
   "cell_type": "code",
   "execution_count": 31,
   "metadata": {},
   "outputs": [
    {
     "output_type": "stream",
     "name": "stdout",
     "text": [
      "313/313 [==============================] - 2s 5ms/step - loss: 2.3027 - accuracy: 0.1000\n",
      "test loss, test acc: [2.302672863006592, 0.10000000149011612]\n"
     ]
    }
   ],
   "source": [
    "results3 = model.evaluate(test_images, test_labels)\n",
    "print(\"test loss, test acc:\", results3)"
   ]
  },
  {
   "source": [
    "Model 1 on the grayscale images had an accuracy of 10%. Model 2 on the grayscale images also had an accuracy of 10%. Model 1 on the RGB images also had an accuracy of 10%. This shows that neither model is trained properly for either the grayscale images or the RGB images. Perhaps the model needs a lot more epochs than 25 for each model fitting, but I don't have the time right now :)"
   ],
   "cell_type": "markdown",
   "metadata": {}
  },
  {
   "cell_type": "code",
   "execution_count": null,
   "metadata": {},
   "outputs": [],
   "source": [
    "model.compile(optimizer='adam',\n",
    "              loss='sparse_categorical_crossentropy',\n",
    "              metrics=['accuracy'])"
   ]
  }
 ]
}