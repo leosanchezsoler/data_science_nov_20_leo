{
 "cells": [
  {
   "cell_type": "markdown",
   "metadata": {},
   "source": [
    "# Apartado 3 - Bucles"
   ]
  },
  {
   "cell_type": "markdown",
   "metadata": {},
   "source": [
    "- Iteraciones | `for`\n",
    "- `range` & `enumerate`\n",
    "- `while`\n",
    "- `break` & `continue`"
   ]
  },
  {
   "cell_type": "markdown",
   "metadata": {},
   "source": [
    "--------------------------------------------------------------------------------------"
   ]
  },
  {
   "cell_type": "markdown",
   "metadata": {},
   "source": [
    "## Iteraciones | bucle `for`"
   ]
  },
  {
   "cell_type": "code",
   "execution_count": 1,
   "metadata": {},
   "outputs": [
    {
     "output_type": "stream",
     "name": "stdout",
     "text": [
      "6\n",
      "8\n",
      "10\n",
      "12\n",
      "9518591859\n",
      "\n",
      "KeyboardInterrupt\n",
      "\n"
     ]
    }
   ],
   "source": [
    "lista = [\"red\", 2, \"blue\", 4.0]\n",
    "lista2 = [2, 4, 6, 8, 10, 12, 9518591859]\n",
    "\n",
    "for x in lista2:\n",
    "    if x > 6:\n",
    "        print(x)\n",
    "    elif x == 6:\n",
    "        print(x)\n",
    "    elif x == 4:\n",
    "        lista2.append(x)\n",
    "\n",
    "lista2"
   ]
  },
  {
   "cell_type": "code",
   "execution_count": 3,
   "metadata": {},
   "outputs": [
    {
     "output_type": "stream",
     "name": "stdout",
     "text": [
      "X\n"
     ]
    }
   ],
   "source": [
    "lista = [\"Red\", \"GabriXel\", \"Blue\", 2]\n",
    "\n",
    "for gato in lista:\n",
    "    if gato == \"GabriXel\":\n",
    "        print(gato[5])"
   ]
  },
  {
   "cell_type": "code",
   "execution_count": 4,
   "metadata": {},
   "outputs": [
    {
     "output_type": "stream",
     "name": "stdout",
     "text": [
      "X\n"
     ]
    }
   ],
   "source": [
    "# Sacar del elemento 2 la posición 5.\n",
    "# Es String\n",
    "lista = [\"Red\", \"GabriXel\", \"Blue\", 2]\n",
    "\n",
    "for gato in lista:\n",
    "    if gato == lista[1]:\n",
    "        print(gato[5])"
   ]
  },
  {
   "cell_type": "code",
   "execution_count": 6,
   "metadata": {},
   "outputs": [
    {
     "output_type": "stream",
     "name": "stdout",
     "text": [
      "1\nX\n2\n3\n4\n"
     ]
    }
   ],
   "source": [
    "# Mostrar la iteración del for\n",
    "# Es String\n",
    "lista = [\"Red\", \"GabriXel\", \"Blue\", 2]\n",
    "\n",
    "count = 1\n",
    "for gato in lista:\n",
    "    if count == 2:\n",
    "        print(gato[5])\n",
    "    print(count)\n",
    "    count += 1"
   ]
  },
  {
   "cell_type": "code",
   "execution_count": 7,
   "metadata": {},
   "outputs": [
    {
     "output_type": "stream",
     "name": "stdout",
     "text": [
      "Here are the first three players on my team:\nCharles\nMartina\nMichael\n"
     ]
    }
   ],
   "source": [
    "players = ['charles', 'martina', 'michael', 'florence', 'eli'] \n",
    "\n",
    "print(\"Here are the first three players on my team:\")\n",
    "for player in players[:3]:\n",
    "    print(player.title())"
   ]
  },
  {
   "cell_type": "code",
   "execution_count": 8,
   "metadata": {},
   "outputs": [
    {
     "output_type": "stream",
     "name": "stdout",
     "text": [
      "200\n50\n"
     ]
    }
   ],
   "source": [
    "dimensions = (200, 50)\n",
    "for dimension in dimensions:\n",
    "    print(dimension)"
   ]
  },
  {
   "cell_type": "code",
   "execution_count": null,
   "metadata": {},
   "outputs": [],
   "source": [
    "lista = [1, 3, \"5\", 8]\n",
    "\n",
    "lista[2] = \"X\"\n",
    "lista"
   ]
  },
  {
   "cell_type": "markdown",
   "metadata": {},
   "source": [
    "`for` dictionaries"
   ]
  },
  {
   "cell_type": "code",
   "execution_count": 9,
   "metadata": {},
   "outputs": [
    {
     "output_type": "error",
     "ename": "NameError",
     "evalue": "name 'diccionario' is not defined",
     "traceback": [
      "\u001b[0;31m---------------------------------------------------------------------------\u001b[0m",
      "\u001b[0;31mNameError\u001b[0m                                 Traceback (most recent call last)",
      "\u001b[0;32m<ipython-input-9-f1f4a07c0d2b>\u001b[0m in \u001b[0;36m<module>\u001b[0;34m\u001b[0m\n\u001b[0;32m----> 1\u001b[0;31m \u001b[0;32mfor\u001b[0m \u001b[0melem\u001b[0m \u001b[0;32min\u001b[0m \u001b[0mdiccionario\u001b[0m\u001b[0;34m:\u001b[0m\u001b[0;34m\u001b[0m\u001b[0;34m\u001b[0m\u001b[0m\n\u001b[0m\u001b[1;32m      2\u001b[0m     \u001b[0mprint\u001b[0m\u001b[0;34m(\u001b[0m\u001b[0;34m\"Claves:\"\u001b[0m\u001b[0;34m,\u001b[0m \u001b[0melem\u001b[0m\u001b[0;34m)\u001b[0m\u001b[0;34m\u001b[0m\u001b[0;34m\u001b[0m\u001b[0m\n",
      "\u001b[0;31mNameError\u001b[0m: name 'diccionario' is not defined"
     ]
    }
   ],
   "source": [
    "for elem in diccionario:\n",
    "    print(\"Claves:\", elem)"
   ]
  },
  {
   "cell_type": "code",
   "execution_count": null,
   "metadata": {},
   "outputs": [],
   "source": [
    "for elem in diccionario.values():\n",
    "    print(elem)"
   ]
  },
  {
   "cell_type": "code",
   "execution_count": null,
   "metadata": {},
   "outputs": [],
   "source": [
    "for elem in diccionario.keys():\n",
    "    print(elem)"
   ]
  },
  {
   "cell_type": "code",
   "execution_count": 10,
   "metadata": {},
   "outputs": [
    {
     "output_type": "error",
     "ename": "NameError",
     "evalue": "name 'diccionario' is not defined",
     "traceback": [
      "\u001b[0;31m---------------------------------------------------------------------------\u001b[0m",
      "\u001b[0;31mNameError\u001b[0m                                 Traceback (most recent call last)",
      "\u001b[0;32m<ipython-input-10-2514df7f48ee>\u001b[0m in \u001b[0;36m<module>\u001b[0;34m\u001b[0m\n\u001b[0;32m----> 1\u001b[0;31m \u001b[0mdiccionario\u001b[0m\u001b[0;34m\u001b[0m\u001b[0;34m\u001b[0m\u001b[0m\n\u001b[0m",
      "\u001b[0;31mNameError\u001b[0m: name 'diccionario' is not defined"
     ]
    }
   ],
   "source": [
    "diccionario"
   ]
  },
  {
   "cell_type": "code",
   "execution_count": 11,
   "metadata": {},
   "outputs": [
    {
     "output_type": "error",
     "ename": "NameError",
     "evalue": "name 'diccionario' is not defined",
     "traceback": [
      "\u001b[0;31m---------------------------------------------------------------------------\u001b[0m",
      "\u001b[0;31mNameError\u001b[0m                                 Traceback (most recent call last)",
      "\u001b[0;32m<ipython-input-11-880fc1eaf7c2>\u001b[0m in \u001b[0;36m<module>\u001b[0;34m\u001b[0m\n\u001b[0;32m----> 1\u001b[0;31m \u001b[0;32mfor\u001b[0m \u001b[0mmaria\u001b[0m\u001b[0;34m,\u001b[0m \u001b[0malba\u001b[0m \u001b[0;32min\u001b[0m \u001b[0mdiccionario\u001b[0m\u001b[0;34m.\u001b[0m\u001b[0mitems\u001b[0m\u001b[0;34m(\u001b[0m\u001b[0;34m)\u001b[0m\u001b[0;34m:\u001b[0m\u001b[0;34m\u001b[0m\u001b[0;34m\u001b[0m\u001b[0m\n\u001b[0m\u001b[1;32m      2\u001b[0m     \u001b[0mprint\u001b[0m\u001b[0;34m(\u001b[0m\u001b[0;34m\"k:\"\u001b[0m\u001b[0;34m,\u001b[0m \u001b[0mmaria\u001b[0m\u001b[0;34m)\u001b[0m\u001b[0;34m\u001b[0m\u001b[0;34m\u001b[0m\u001b[0m\n\u001b[1;32m      3\u001b[0m     \u001b[0mprint\u001b[0m\u001b[0;34m(\u001b[0m\u001b[0;34m\"v:\"\u001b[0m\u001b[0;34m,\u001b[0m \u001b[0malba\u001b[0m\u001b[0;34m)\u001b[0m\u001b[0;34m\u001b[0m\u001b[0;34m\u001b[0m\u001b[0m\n\u001b[1;32m      4\u001b[0m     \u001b[0mprint\u001b[0m\u001b[0;34m(\u001b[0m\u001b[0;34m\"-----------------\"\u001b[0m\u001b[0;34m)\u001b[0m\u001b[0;34m\u001b[0m\u001b[0;34m\u001b[0m\u001b[0m\n",
      "\u001b[0;31mNameError\u001b[0m: name 'diccionario' is not defined"
     ]
    }
   ],
   "source": [
    "for maria, alba in diccionario.items():\n",
    "    print(\"k:\", maria)\n",
    "    print(\"v:\", alba)\n",
    "    print(\"-----------------\")"
   ]
  },
  {
   "cell_type": "code",
   "execution_count": null,
   "metadata": {},
   "outputs": [],
   "source": [
    "for k, v in diccionario.items():\n",
    "    print(\"k\", k)\n",
    "    print(\"v\", v)\n",
    "    if k == \"dict\":\n",
    "        for x, y in v.items():\n",
    "            print(\"x\", x)\n",
    "            print(\"y\", y)\n",
    "    print(\"-------------\")"
   ]
  },
  {
   "cell_type": "markdown",
   "metadata": {},
   "source": [
    "--------------------------------------------------------------------------------------"
   ]
  },
  {
   "cell_type": "markdown",
   "metadata": {},
   "source": [
    "## `range` & `enumerate`"
   ]
  },
  {
   "cell_type": "code",
   "execution_count": null,
   "metadata": {},
   "outputs": [],
   "source": [
    "lista = [\"Pepito\", \"Lorenzo\", \"Juan\", \"Laura\", \"Alicia\", \"Mónica\"]\n",
    "\n",
    "for x in lista:\n",
    "    print(lista)"
   ]
  },
  {
   "cell_type": "code",
   "execution_count": 13,
   "metadata": {},
   "outputs": [
    {
     "output_type": "execute_result",
     "data": {
      "text/plain": [
       "['Pepito', 'Lorenzo', 'Juan', 'Laura', 'Alicia', 'Mónica']"
      ]
     },
     "metadata": {},
     "execution_count": 13
    }
   ],
   "source": [
    "lista"
   ]
  },
  {
   "cell_type": "code",
   "execution_count": null,
   "metadata": {},
   "outputs": [],
   "source": [
    "tamano_lista = len(lista)\n",
    "for x in range(tamano_lista):\n",
    "    print(\"x:\", x)\n",
    "    print(\"elem:\", lista[x])\n",
    "    print(\"-------------\")"
   ]
  },
  {
   "cell_type": "code",
   "execution_count": 16,
   "metadata": {},
   "outputs": [
    {
     "output_type": "stream",
     "name": "stdout",
     "text": [
      "(0, 'Pepito')\n(1, 'Lorenzo')\n(2, 'Juan')\n(3, 'Laura')\n(4, 'Alicia')\n(5, 'Mónica')\n"
     ]
    }
   ],
   "source": [
    "for x in enumerate(lista):\n",
    "    print(x)"
   ]
  },
  {
   "cell_type": "code",
   "execution_count": 17,
   "metadata": {},
   "outputs": [
    {
     "output_type": "stream",
     "name": "stdout",
     "text": [
      "pos: 0\nelem: Pepito\n-------------\npos: 1\nelem: Lorenzo\n-------------\npos: 2\nelem: Juan\n-------------\npos: 3\nelem: Laura\n-------------\npos: 4\nelem: Alicia\n-------------\npos: 5\nelem: Mónica\n-------------\n"
     ]
    }
   ],
   "source": [
    "for pos, elem in enumerate(lista):\n",
    "    print(\"pos:\", pos)\n",
    "    print(\"elem:\", elem)\n",
    "    print(\"-------------\")"
   ]
  },
  {
   "cell_type": "code",
   "execution_count": 18,
   "metadata": {},
   "outputs": [
    {
     "output_type": "execute_result",
     "data": {
      "text/plain": [
       "8"
      ]
     },
     "metadata": {},
     "execution_count": 18
    }
   ],
   "source": [
    "ol = ['Pepito', 'Lorenzo', [6, 8], 'Laura', 'Alicia', 'Mónica']\n",
    "\n",
    "ol[2][1]"
   ]
  },
  {
   "cell_type": "code",
   "execution_count": 19,
   "metadata": {},
   "outputs": [
    {
     "output_type": "stream",
     "name": "stdout",
     "text": [
      "8\n"
     ]
    }
   ],
   "source": [
    "for i, x in enumerate(ol):\n",
    "    if i == 2:\n",
    "        print(x[1])"
   ]
  },
  {
   "cell_type": "code",
   "execution_count": 20,
   "metadata": {},
   "outputs": [
    {
     "output_type": "stream",
     "name": "stdout",
     "text": [
      "True\n"
     ]
    }
   ],
   "source": [
    "x = 2\n",
    "print(isinstance(x, int))"
   ]
  },
  {
   "cell_type": "code",
   "execution_count": 21,
   "metadata": {},
   "outputs": [
    {
     "output_type": "stream",
     "name": "stdout",
     "text": [
      "Iteración: 1\nIteración: 2\nIteración: 3\nLa posición es:  2\n8\nIteración: 4\nIteración: 5\nIteración: 6\n"
     ]
    }
   ],
   "source": [
    "for i, x in enumerate(ol):\n",
    "    print(\"Iteración:\", i+1)\n",
    "    if isinstance(x, list):\n",
    "        print(\"La posición es: \", i)\n",
    "        print(x[1])"
   ]
  },
  {
   "cell_type": "code",
   "execution_count": 22,
   "metadata": {},
   "outputs": [],
   "source": [
    "al = ['Pepito', 'Lorenzo', [6, 8], 'Laura', (5, 78), 'Mónica']"
   ]
  },
  {
   "cell_type": "code",
   "execution_count": 23,
   "metadata": {},
   "outputs": [
    {
     "output_type": "stream",
     "name": "stdout",
     "text": [
      "Iteración: 1\n---------------\nIteración: 2\n---------------\nIteración: 3\nSe cumple\nLa posición es:  2\n8\n"
     ]
    }
   ],
   "source": [
    "for i, x in enumerate(al):\n",
    "    print(\"Iteración:\", i+1)\n",
    "    if isinstance(x, (list, tuple)):\n",
    "        print(\"Se cumple\")\n",
    "        print(\"La posición es: \", i)\n",
    "        print(x[1])\n",
    "        break\n",
    "    print(\"---------------\")"
   ]
  },
  {
   "cell_type": "code",
   "execution_count": null,
   "metadata": {},
   "outputs": [],
   "source": [
    "j = range(15)\n",
    "print(type(j))\n",
    "j"
   ]
  },
  {
   "cell_type": "code",
   "execution_count": null,
   "metadata": {},
   "outputs": [],
   "source": [
    "k = list(range(15))\n",
    "k"
   ]
  },
  {
   "cell_type": "markdown",
   "metadata": {},
   "source": [
    "--------------------------------------------------------------------------------------"
   ]
  },
  {
   "cell_type": "markdown",
   "metadata": {},
   "source": [
    "## bucle `while`"
   ]
  },
  {
   "cell_type": "code",
   "execution_count": 7,
   "metadata": {},
   "outputs": [
    {
     "name": "stdout",
     "output_type": "stream",
     "text": [
      "d 1\n",
      "i 2\n",
      "j 3\n",
      "a 4\n"
     ]
    }
   ],
   "source": [
    "l = \"dija\"\n",
    "acum = 0\n",
    "for i in l:\n",
    "    acum = acum + 1\n",
    "    print(i, acum)"
   ]
  },
  {
   "cell_type": "code",
   "execution_count": 8,
   "metadata": {},
   "outputs": [
    {
     "name": "stdout",
     "output_type": "stream",
     "text": [
      "d 1\n",
      "i 2\n",
      "j 3\n",
      "a 4\n"
     ]
    }
   ],
   "source": [
    "l = \"dija\"\n",
    "acum = 1\n",
    "for i in l:\n",
    "    print(i, acum)\n",
    "    acum = acum + 1"
   ]
  },
  {
   "cell_type": "code",
   "execution_count": 9,
   "metadata": {},
   "outputs": [
    {
     "name": "stdout",
     "output_type": "stream",
     "text": [
      "Iteración:  1\n",
      "Iteración:  2\n",
      "Iteración:  3\n",
      "Iteración:  4\n",
      "Iteración:  5\n"
     ]
    }
   ],
   "source": [
    "acum = 0\n",
    "while acum < 5:\n",
    "    print(\"Iteración: \", acum + 1)\n",
    "    acum += 1"
   ]
  },
  {
   "cell_type": "code",
   "execution_count": 12,
   "metadata": {},
   "outputs": [
    {
     "name": "stdout",
     "output_type": "stream",
     "text": [
      "K\n"
     ]
    }
   ],
   "source": [
    "lista = [2, 4, 5, \"Yo\"]\n",
    "l = [], None, 0, False\n",
    "while len(lista)==4:\n",
    "    print(\"K\")\n",
    "    lista.pop(1)"
   ]
  },
  {
   "cell_type": "code",
   "execution_count": 14,
   "metadata": {},
   "outputs": [
    {
     "data": {
      "text/plain": [
       "'Yo'"
      ]
     },
     "execution_count": 14,
     "metadata": {},
     "output_type": "execute_result"
    }
   ],
   "source": [
    "lista[0]\n",
    "lista[1]\n",
    "lista[2]"
   ]
  },
  {
   "cell_type": "code",
   "execution_count": 15,
   "metadata": {},
   "outputs": [
    {
     "name": "stdout",
     "output_type": "stream",
     "text": [
      "2\n",
      "4\n",
      "5\n",
      "Yo\n"
     ]
    }
   ],
   "source": [
    "lista = [2, 4, 5, \"Yo\"]\n",
    "for x in lista:\n",
    "    print(x)"
   ]
  },
  {
   "cell_type": "code",
   "execution_count": 16,
   "metadata": {},
   "outputs": [
    {
     "name": "stdout",
     "output_type": "stream",
     "text": [
      "2\n",
      "4\n",
      "5\n",
      "Yo\n"
     ]
    }
   ],
   "source": [
    "lista = [2, 4, 5, \"Yo\"]\n",
    "acum = 0\n",
    "tamano_lista = len(lista)\n",
    "while acum < 4:\n",
    "    print(lista[acum])\n",
    "    acum += 1"
   ]
  },
  {
   "cell_type": "code",
   "execution_count": 17,
   "metadata": {},
   "outputs": [
    {
     "name": "stdout",
     "output_type": "stream",
     "text": [
      "2\n",
      "acum: 0\n",
      "--------------------\n",
      "4\n",
      "acum: 1\n",
      "--------------------\n",
      "5\n",
      "acum: 2\n",
      "--------------------\n",
      "Yo\n",
      "acum: 3\n",
      "--------------------\n",
      "Ha entrado en el break\n",
      "acum: 4\n",
      "tamano_lista 4\n",
      "Esto está fuera del while\n"
     ]
    }
   ],
   "source": [
    "lista = [2, 4, 5, \"Yo\"]\n",
    "acum = 0\n",
    "tamano_lista = len(lista)\n",
    "while acum <= tamano_lista:\n",
    "    if acum >= tamano_lista:\n",
    "        print(\"Ha entrado en el break\")\n",
    "        print(\"acum:\", acum)\n",
    "        print(\"tamano_lista\", tamano_lista)\n",
    "        break\n",
    "    print(lista[acum])\n",
    "    print(\"acum:\", acum)\n",
    "    acum += 1\n",
    "    print(\"--------------------\")\n",
    "\n",
    "print(\"Esto está fuera del while\")"
   ]
  },
  {
   "cell_type": "code",
   "execution_count": null,
   "metadata": {},
   "outputs": [],
   "source": [
    "acum = 0 \n",
    "if acum < 5:\n",
    "    print(\"Es menor\")"
   ]
  },
  {
   "cell_type": "markdown",
   "metadata": {},
   "source": [
    "--------------------------------------------------------------------------------------"
   ]
  },
  {
   "cell_type": "markdown",
   "metadata": {},
   "source": [
    "## `break` & `continue`"
   ]
  },
  {
   "cell_type": "code",
   "execution_count": 5,
   "metadata": {},
   "outputs": [
    {
     "name": "stdout",
     "output_type": "stream",
     "text": [
      "alex\n",
      "2\n",
      "gab\n",
      "l\n"
     ]
    }
   ],
   "source": [
    "lista = [\"alex\", 2, \"gab\", \"l\", \"8\"]\n",
    "for i in lista:\n",
    "    print(i)\n",
    "    if i == \"l\":\n",
    "        break"
   ]
  },
  {
   "cell_type": "code",
   "execution_count": 6,
   "metadata": {},
   "outputs": [
    {
     "name": "stdout",
     "output_type": "stream",
     "text": [
      "alex\n",
      "begoña\n",
      "sara\n",
      "ataulfo\n"
     ]
    }
   ],
   "source": [
    "lista = [\"alex\", \"begoña\", \"gabriel\", \"sara\", \"ataulfo\"]\n",
    "\n",
    "for k in lista:\n",
    "    if k == \"gabriel\":\n",
    "        continue\n",
    "    print(k)"
   ]
  }
 ],
 "metadata": {
  "kernelspec": {
   "name": "python3",
   "display_name": "Python 3.9.0 64-bit",
   "metadata": {
    "interpreter": {
     "hash": "7812ea015bdcee6f23a998adcdd2ef97c151c0c241b7b7070987d9313e41299d"
    }
   }
  },
  "language_info": {
   "codemirror_mode": {
    "name": "ipython",
    "version": 3
   },
   "file_extension": ".py",
   "mimetype": "text/x-python",
   "name": "python",
   "nbconvert_exporter": "python",
   "pygments_lexer": "ipython3",
   "version": "3.9.0-final"
  }
 },
 "nbformat": 4,
 "nbformat_minor": 4
}