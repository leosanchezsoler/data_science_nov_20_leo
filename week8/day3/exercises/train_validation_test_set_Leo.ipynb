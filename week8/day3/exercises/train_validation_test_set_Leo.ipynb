{
 "metadata": {
  "language_info": {
   "codemirror_mode": {
    "name": "ipython",
    "version": 3
   },
   "file_extension": ".py",
   "mimetype": "text/x-python",
   "name": "python",
   "nbconvert_exporter": "python",
   "pygments_lexer": "ipython3",
   "version": "3.9.1-final"
  },
  "orig_nbformat": 2,
  "kernelspec": {
   "name": "python3",
   "display_name": "Python 3",
   "language": "python"
  }
 },
 "nbformat": 4,
 "nbformat_minor": 2,
 "cells": [
  {
   "cell_type": "markdown",
   "metadata": {},
   "source": [
    "### 1. \n",
    "\n",
    "Crear una función que reciba cuatro parámetros: una lista 'L', un número 'T', un número 'V' y un booleano 'S'. La función debe devolver otras dos listas: \"lista_train_val\" y \"lista_test\".\n",
    "\n",
    "- \"lista_train_val\" es una lista con dos elementos. Cada elemento es una lista: \"list_train\", que representa el conjunto de entrenamiento y \"list_val\", que representa el conjunto de validación. \n",
    "- \"list_test\" es el conjunto de test. Como mínimo ha de tener 1 elemento (si 'L' > 1).\n",
    "- \"L\" es cualquier lista de elementos. Al principio, entra con un tamaño completo (100%). Esta es la lista que se partirá y se generarán los conjuntos entrenamiento, de validación y de test.\n",
    "- \"T\" es un número entre 1 y 100 que va a representar el tamaño, en porcentaje, del conjunto de test \"list_test\". \n",
    "- \"V\" es un número entre 0 y 100 que va a representar el tamaño, en porcentaje, del conjunto de validación \"list_val\". Su valor por defecto es 0.\n",
    "- \"S\", que por defecto es False, determinará si los conjuntos \"list_train\", \"list_test\" y \"list_val\" están aleatoriamente ordenados. ¿Encuentras alguna posible incoherencia si se reordenan aleatoriamente?\n",
    "\n",
    "Prueba la función con una lista de 100 elementos números aleatorios del 0 al 100. \n",
    "\n",
    "### 2. \n",
    "\n",
    "Rehacer el ejercicio anterior en otra función para que no devuelva dos listas, sino los tres conjuntos: \n",
    "\n",
    "--> return list_train, list_val, list_test "
   ]
  },
  {
   "source": [
    "## __Import the necessary libraries__\n"
   ],
   "cell_type": "markdown",
   "metadata": {}
  },
  {
   "cell_type": "code",
   "execution_count": 2,
   "metadata": {},
   "outputs": [],
   "source": [
    "import numpy as np \n",
    "import pandas as pd\n",
    "\n",
    "from sklearn.model_selection import train_test_split\n",
    "from sklearn import metrics\n",
    "from sklearn.linear_model import LinearRegression\n",
    "\n",
    "import matplotlib.pyplot as plt \n",
    "import seaborn as sns"
   ]
  },
  {
   "source": [],
   "cell_type": "markdown",
   "metadata": {}
  },
  {
   "cell_type": "code",
   "execution_count": 43,
   "metadata": {},
   "outputs": [],
   "source": [
    "T = np.random.randint(100)\n",
    "V = np.random.randint(100)"
   ]
  },
  {
   "source": [
    "## Define the function"
   ],
   "cell_type": "markdown",
   "metadata": {}
  },
  {
   "cell_type": "code",
   "execution_count": 56,
   "metadata": {},
   "outputs": [
    {
     "output_type": "execute_result",
     "data": {
      "text/plain": [
       "[[], []]"
      ]
     },
     "metadata": {},
     "execution_count": 56
    }
   ],
   "source": [
    "def f_lista_train_val(L, T, V=0, S=False):\n",
    "    '''\n",
    "    To understand the concepts of train, test and validation sets\n",
    "    #########################################################\n",
    "        Parameters:\n",
    "            - L: a list\n",
    "            - T: a random integer between 0 and 100\n",
    "            - V: a random integer between 0 and 100\n",
    "            - S: a boolean (False by default)\n",
    "    #########################################################\n",
    "        Returns:\n",
    "            - list_train_val: a list composed by 2 elements:\n",
    "                - list_train\n",
    "                - list_val\n",
    "    ##########################################################\n",
    "    '''\n",
    "    # Assign variables\n",
    "    list_train = L[:int(len(L)*(1-T))]\n",
    "    list_test = list_train[:int(len(L)*T)]\n",
    "    list_train = list_train[:int(len(list_train)*(1-V))]\n",
    "    list_val = list_train[:int(len(list_train)*V)]\n",
    "\n",
    "    if S:\n",
    "        np.random.shuffle(list_train, list_test, list_val)\n",
    "    \n",
    "    list_train_val = [list_train, list_val]\n",
    "    return list_train_val\n",
    "\n",
    "f_lista_train_val(L=list(np.random.rand(100)), T=T, V=V)"
   ]
  }
 ]
}