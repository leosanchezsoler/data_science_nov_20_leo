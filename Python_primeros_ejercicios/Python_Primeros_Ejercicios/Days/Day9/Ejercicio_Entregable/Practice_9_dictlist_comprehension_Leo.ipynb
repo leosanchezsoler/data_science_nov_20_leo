{
 "cells": [
  {
   "cell_type": "markdown",
   "metadata": {},
   "source": [
    "# Python | day 9 | list/dict comprehension"
   ]
  },
  {
   "cell_type": "markdown",
   "metadata": {},
   "source": [
    "List comprehension in Python is a compact way of creating a list from a sequence. It is a short way to create a new list. List comprehension is considerably faster than processing a list using the for loop."
   ]
  },
  {
   "cell_type": "markdown",
   "metadata": {},
   "source": [
    "```python\n",
    "# syntax\n",
    "[i for i in iterable if expression]\n",
    "```"
   ]
  },
  {
   "cell_type": "markdown",
   "metadata": {},
   "source": [
    "Dictionary comprehension is the same as list comprehension but with dictionaries. I know, you didn't see that coming. "
   ]
  },
  {
   "cell_type": "markdown",
   "metadata": {},
   "source": [
    "```python\n",
    "# syntax\n",
    "\n",
    "{key: value for i in iterable}\n",
    "```\n"
   ]
  },
  {
   "cell_type": "markdown",
   "metadata": {},
   "source": [
    "- https://www.programiz.com/python-programming/list-comprehension\n",
    "- https://www.programiz.com/python-programming/dictionary-comprehension"
   ]
  },
  {
   "cell_type": "markdown",
   "metadata": {},
   "source": [
    "### Exercise 1.\n",
    "\n",
    "Use list comprehension and print the result to solve these problems: "
   ]
  },
  {
   "cell_type": "markdown",
   "metadata": {},
   "source": [
    "1. Make a list with the square number of numbers from 0 to 20. "
   ]
  },
  {
   "cell_type": "code",
   "execution_count": 6,
   "metadata": {},
   "outputs": [
    {
     "output_type": "execute_result",
     "data": {
      "text/plain": [
       "[0,\n",
       " 1,\n",
       " 4,\n",
       " 9,\n",
       " 16,\n",
       " 25,\n",
       " 36,\n",
       " 49,\n",
       " 64,\n",
       " 81,\n",
       " 100,\n",
       " 121,\n",
       " 144,\n",
       " 169,\n",
       " 196,\n",
       " 225,\n",
       " 256,\n",
       " 289,\n",
       " 324,\n",
       " 361,\n",
       " 400]"
      ]
     },
     "metadata": {},
     "execution_count": 6
    }
   ],
   "source": [
    "lista_al_cuadrado = [lista_square**2 for lista_square in range(21)]\n",
    "lista_al_cuadrado"
   ]
  },
  {
   "cell_type": "markdown",
   "metadata": {},
   "source": [
    "2. Make a list with the first 50 power of two. "
   ]
  },
  {
   "cell_type": "code",
   "execution_count": null,
   "metadata": {},
   "outputs": [],
   "source": [
    "#Dos elevado a cada iteraciíon en 50 números"
   ]
  },
  {
   "cell_type": "code",
   "execution_count": 72,
   "metadata": {},
   "outputs": [
    {
     "output_type": "execute_result",
     "data": {
      "text/plain": [
       "[1,\n",
       " 2,\n",
       " 4,\n",
       " 8,\n",
       " 16,\n",
       " 32,\n",
       " 64,\n",
       " 128,\n",
       " 256,\n",
       " 512,\n",
       " 1024,\n",
       " 2048,\n",
       " 4096,\n",
       " 8192,\n",
       " 16384,\n",
       " 32768,\n",
       " 65536,\n",
       " 131072,\n",
       " 262144,\n",
       " 524288,\n",
       " 1048576,\n",
       " 2097152,\n",
       " 4194304,\n",
       " 8388608,\n",
       " 16777216,\n",
       " 33554432,\n",
       " 67108864,\n",
       " 134217728,\n",
       " 268435456,\n",
       " 536870912,\n",
       " 1073741824,\n",
       " 2147483648,\n",
       " 4294967296,\n",
       " 8589934592,\n",
       " 17179869184,\n",
       " 34359738368,\n",
       " 68719476736,\n",
       " 137438953472,\n",
       " 274877906944,\n",
       " 549755813888,\n",
       " 1099511627776,\n",
       " 2199023255552,\n",
       " 4398046511104,\n",
       " 8796093022208,\n",
       " 17592186044416,\n",
       " 35184372088832,\n",
       " 70368744177664,\n",
       " 140737488355328,\n",
       " 281474976710656,\n",
       " 562949953421312]"
      ]
     },
     "metadata": {},
     "execution_count": 72
    }
   ],
   "source": [
    "lista_primeros_cincuenta = [2**elem for elem in range(50)]\n",
    "lista_primeros_cincuenta"
   ]
  },
  {
   "cell_type": "markdown",
   "metadata": {},
   "source": [
    "3. Calculate the square root of the first 100 numbers. \n",
    "\n",
    "**You will probably need to install math library with pip and import it in this file.** \n",
    "\n",
    "\n",
    "\n"
   ]
  },
  {
   "cell_type": "code",
   "execution_count": 100,
   "metadata": {},
   "outputs": [
    {
     "output_type": "execute_result",
     "data": {
      "text/plain": [
       "[0.0,\n",
       " 1.0,\n",
       " 1.4142135623730951,\n",
       " 1.7320508075688772,\n",
       " 2.0,\n",
       " 2.23606797749979,\n",
       " 2.449489742783178,\n",
       " 2.6457513110645907,\n",
       " 2.8284271247461903,\n",
       " 3.0,\n",
       " 3.1622776601683795,\n",
       " 3.3166247903554,\n",
       " 3.4641016151377544,\n",
       " 3.605551275463989,\n",
       " 3.7416573867739413,\n",
       " 3.872983346207417,\n",
       " 4.0,\n",
       " 4.123105625617661,\n",
       " 4.242640687119285,\n",
       " 4.358898943540674,\n",
       " 4.47213595499958,\n",
       " 4.58257569495584,\n",
       " 4.69041575982343,\n",
       " 4.795831523312719,\n",
       " 4.898979485566356,\n",
       " 5.0,\n",
       " 5.0990195135927845,\n",
       " 5.196152422706632,\n",
       " 5.291502622129181,\n",
       " 5.385164807134504,\n",
       " 5.477225575051661,\n",
       " 5.5677643628300215,\n",
       " 5.656854249492381,\n",
       " 5.744562646538029,\n",
       " 5.830951894845301,\n",
       " 5.916079783099616,\n",
       " 6.0,\n",
       " 6.082762530298219,\n",
       " 6.164414002968976,\n",
       " 6.244997998398398,\n",
       " 6.324555320336759,\n",
       " 6.4031242374328485,\n",
       " 6.48074069840786,\n",
       " 6.557438524302,\n",
       " 6.6332495807108,\n",
       " 6.708203932499369,\n",
       " 6.782329983125268,\n",
       " 6.855654600401044,\n",
       " 6.928203230275509,\n",
       " 7.0,\n",
       " 7.0710678118654755,\n",
       " 7.14142842854285,\n",
       " 7.211102550927978,\n",
       " 7.280109889280518,\n",
       " 7.3484692283495345,\n",
       " 7.416198487095663,\n",
       " 7.483314773547883,\n",
       " 7.54983443527075,\n",
       " 7.615773105863909,\n",
       " 7.681145747868608,\n",
       " 7.745966692414834,\n",
       " 7.810249675906654,\n",
       " 7.874007874011811,\n",
       " 7.937253933193772,\n",
       " 8.0,\n",
       " 8.06225774829855,\n",
       " 8.12403840463596,\n",
       " 8.18535277187245,\n",
       " 8.246211251235321,\n",
       " 8.306623862918075,\n",
       " 8.366600265340756,\n",
       " 8.426149773176359,\n",
       " 8.48528137423857,\n",
       " 8.54400374531753,\n",
       " 8.602325267042627,\n",
       " 8.660254037844387,\n",
       " 8.717797887081348,\n",
       " 8.774964387392123,\n",
       " 8.831760866327848,\n",
       " 8.888194417315589,\n",
       " 8.94427190999916,\n",
       " 9.0,\n",
       " 9.055385138137417,\n",
       " 9.1104335791443,\n",
       " 9.16515138991168,\n",
       " 9.219544457292887,\n",
       " 9.273618495495704,\n",
       " 9.327379053088816,\n",
       " 9.38083151964686,\n",
       " 9.433981132056603,\n",
       " 9.486832980505138,\n",
       " 9.539392014169456,\n",
       " 9.591663046625438,\n",
       " 9.643650760992955,\n",
       " 9.695359714832659,\n",
       " 9.746794344808963,\n",
       " 9.797958971132712,\n",
       " 9.848857801796104,\n",
       " 9.899494936611665,\n",
       " 9.9498743710662]"
      ]
     },
     "metadata": {},
     "execution_count": 100
    }
   ],
   "source": [
    "import math\n",
    "\n",
    "raizcuadrada = [math.sqrt(i) for i in range(100)]\n",
    "raizcuadrada"
   ]
  },
  {
   "cell_type": "markdown",
   "metadata": {},
   "source": [
    "4. Create this list `[-10,-9,-8,-7,-6,-5,-4,-3,-2,-1,0]`. "
   ]
  },
  {
   "cell_type": "code",
   "execution_count": 29,
   "metadata": {},
   "outputs": [
    {
     "output_type": "execute_result",
     "data": {
      "text/plain": [
       "[-10, -9, -8, -7, -6, -5, -4, -3, -2, -1, 0]"
      ]
     },
     "metadata": {},
     "execution_count": 29
    }
   ],
   "source": [
    "listanegativos = [listamenoracero for listamenoracero in range(-10, 1)]\n",
    "listanegativos"
   ]
  },
  {
   "cell_type": "markdown",
   "metadata": {},
   "source": [
    "5. Filter only negative and zero in the list `numbers`."
   ]
  },
  {
   "cell_type": "code",
   "execution_count": 10,
   "metadata": {},
   "outputs": [],
   "source": [
    "\n",
    "numbers = [-4, -3, -2, -1, 0, 2, 4, 6]"
   ]
  },
  {
   "cell_type": "code",
   "execution_count": 15,
   "metadata": {},
   "outputs": [
    {
     "output_type": "execute_result",
     "data": {
      "text/plain": [
       "[-4, -3, -2, -1, 0]"
      ]
     },
     "metadata": {},
     "execution_count": 15
    }
   ],
   "source": [
    "solo_cero_y_negativo = [ceronegative for ceronegative in numbers if ceronegative <=0]\n",
    "solo_cero_y_negativo"
   ]
  },
  {
   "cell_type": "markdown",
   "metadata": {},
   "source": [
    "6. Find the odd numbers from 1-100 and put them on a list. \n",
    "\n",
    "\n"
   ]
  },
  {
   "cell_type": "code",
   "execution_count": 16,
   "metadata": {},
   "outputs": [
    {
     "output_type": "execute_result",
     "data": {
      "text/plain": [
       "[1,\n",
       " 3,\n",
       " 5,\n",
       " 7,\n",
       " 9,\n",
       " 11,\n",
       " 13,\n",
       " 15,\n",
       " 17,\n",
       " 19,\n",
       " 21,\n",
       " 23,\n",
       " 25,\n",
       " 27,\n",
       " 29,\n",
       " 31,\n",
       " 33,\n",
       " 35,\n",
       " 37,\n",
       " 39,\n",
       " 41,\n",
       " 43,\n",
       " 45,\n",
       " 47,\n",
       " 49,\n",
       " 51,\n",
       " 53,\n",
       " 55,\n",
       " 57,\n",
       " 59,\n",
       " 61,\n",
       " 63,\n",
       " 65,\n",
       " 67,\n",
       " 69,\n",
       " 71,\n",
       " 73,\n",
       " 75,\n",
       " 77,\n",
       " 79,\n",
       " 81,\n",
       " 83,\n",
       " 85,\n",
       " 87,\n",
       " 89,\n",
       " 91,\n",
       " 93,\n",
       " 95,\n",
       " 97,\n",
       " 99]"
      ]
     },
     "metadata": {},
     "execution_count": 16
    }
   ],
   "source": [
    "solo_impares = [oddnumbers for oddnumbers in range (1, 101) if oddnumbers % 2 != 0]\n",
    "solo_impares"
   ]
  },
  {
   "cell_type": "markdown",
   "metadata": {},
   "source": [
    "7. Find all of the numbers from 1-1000 that are divisible by 7.\n",
    "\n"
   ]
  },
  {
   "cell_type": "code",
   "execution_count": 18,
   "metadata": {},
   "outputs": [
    {
     "output_type": "execute_result",
     "data": {
      "text/plain": [
       "[7,\n",
       " 14,\n",
       " 21,\n",
       " 28,\n",
       " 35,\n",
       " 42,\n",
       " 49,\n",
       " 56,\n",
       " 63,\n",
       " 70,\n",
       " 77,\n",
       " 84,\n",
       " 91,\n",
       " 98,\n",
       " 105,\n",
       " 112,\n",
       " 119,\n",
       " 126,\n",
       " 133,\n",
       " 140,\n",
       " 147,\n",
       " 154,\n",
       " 161,\n",
       " 168,\n",
       " 175,\n",
       " 182,\n",
       " 189,\n",
       " 196,\n",
       " 203,\n",
       " 210,\n",
       " 217,\n",
       " 224,\n",
       " 231,\n",
       " 238,\n",
       " 245,\n",
       " 252,\n",
       " 259,\n",
       " 266,\n",
       " 273,\n",
       " 280,\n",
       " 287,\n",
       " 294,\n",
       " 301,\n",
       " 308,\n",
       " 315,\n",
       " 322,\n",
       " 329,\n",
       " 336,\n",
       " 343,\n",
       " 350,\n",
       " 357,\n",
       " 364,\n",
       " 371,\n",
       " 378,\n",
       " 385,\n",
       " 392,\n",
       " 399,\n",
       " 406,\n",
       " 413,\n",
       " 420,\n",
       " 427,\n",
       " 434,\n",
       " 441,\n",
       " 448,\n",
       " 455,\n",
       " 462,\n",
       " 469,\n",
       " 476,\n",
       " 483,\n",
       " 490,\n",
       " 497,\n",
       " 504,\n",
       " 511,\n",
       " 518,\n",
       " 525,\n",
       " 532,\n",
       " 539,\n",
       " 546,\n",
       " 553,\n",
       " 560,\n",
       " 567,\n",
       " 574,\n",
       " 581,\n",
       " 588,\n",
       " 595,\n",
       " 602,\n",
       " 609,\n",
       " 616,\n",
       " 623,\n",
       " 630,\n",
       " 637,\n",
       " 644,\n",
       " 651,\n",
       " 658,\n",
       " 665,\n",
       " 672,\n",
       " 679,\n",
       " 686,\n",
       " 693,\n",
       " 700,\n",
       " 707,\n",
       " 714,\n",
       " 721,\n",
       " 728,\n",
       " 735,\n",
       " 742,\n",
       " 749,\n",
       " 756,\n",
       " 763,\n",
       " 770,\n",
       " 777,\n",
       " 784,\n",
       " 791,\n",
       " 798,\n",
       " 805,\n",
       " 812,\n",
       " 819,\n",
       " 826,\n",
       " 833,\n",
       " 840,\n",
       " 847,\n",
       " 854,\n",
       " 861,\n",
       " 868,\n",
       " 875,\n",
       " 882,\n",
       " 889,\n",
       " 896,\n",
       " 903,\n",
       " 910,\n",
       " 917,\n",
       " 924,\n",
       " 931,\n",
       " 938,\n",
       " 945,\n",
       " 952,\n",
       " 959,\n",
       " 966,\n",
       " 973,\n",
       " 980,\n",
       " 987,\n",
       " 994]"
      ]
     },
     "metadata": {},
     "execution_count": 18
    }
   ],
   "source": [
    "solo_divisible_entre_7 = [divididoentre7 for divididoentre7 in range (1, 1000) if divididoentre7% 7 == 0]\n",
    "solo_divisible_entre_7"
   ]
  },
  {
   "cell_type": "markdown",
   "metadata": {},
   "source": [
    "8. Remove all of the vowels in a string. \n",
    "\n",
    "   Hint: make a list of the non-vowels. \n",
    "\n",
    "\n",
    "\n",
    "\n"
   ]
  },
  {
   "cell_type": "code",
   "execution_count": 254,
   "metadata": {},
   "outputs": [],
   "source": [
    "teststring = \"When you reach the end of your rope, tie a knot in it and hang on.\""
   ]
  },
  {
   "cell_type": "code",
   "execution_count": 252,
   "metadata": {},
   "outputs": [
    {
     "output_type": "execute_result",
     "data": {
      "text/plain": [
       "['W',\n",
       " 'h',\n",
       " 'n',\n",
       " ' ',\n",
       " 'y',\n",
       " ' ',\n",
       " 'r',\n",
       " 'c',\n",
       " 'h',\n",
       " ' ',\n",
       " 't',\n",
       " 'h',\n",
       " ' ',\n",
       " 'n',\n",
       " 'd',\n",
       " ' ',\n",
       " 'f',\n",
       " ' ',\n",
       " 'y',\n",
       " 'r',\n",
       " ' ',\n",
       " 'r',\n",
       " 'p',\n",
       " ',',\n",
       " ' ',\n",
       " 't',\n",
       " ' ',\n",
       " ' ',\n",
       " 'k',\n",
       " 'n',\n",
       " 't',\n",
       " ' ',\n",
       " 'n',\n",
       " ' ',\n",
       " 't',\n",
       " ' ',\n",
       " 'n',\n",
       " 'd',\n",
       " ' ',\n",
       " 'h',\n",
       " 'n',\n",
       " 'g',\n",
       " ' ',\n",
       " 'n',\n",
       " '.']"
      ]
     },
     "metadata": {},
     "execution_count": 252
    }
   ],
   "source": [
    "vowels = [\"a\", \"e\", \"i\", \"o\", \"u\"]\n",
    "eliminar_vocales = [vocalesfuera for vocalesfuera in teststring if vocalesfuera !=  \"a\" and vocalesfuera != \"e\" and vocalesfuera != \"i\" and vocalesfuera != \"o\" and vocalesfuera and vocalesfuera !=\"u\"]\n",
    "eliminar_vocales"
   ]
  },
  {
   "cell_type": "markdown",
   "metadata": {},
   "source": [
    "9. Find the capital letters (and not white space) in the sentence `\"The Way To Get Started Is To Quit Talking And Begin Doing.\"`. \n"
   ]
  },
  {
   "cell_type": "code",
   "execution_count": 127,
   "metadata": {},
   "outputs": [
    {
     "output_type": "execute_result",
     "data": {
      "text/plain": [
       "['T',\n",
       " ' ',\n",
       " 'W',\n",
       " ' ',\n",
       " 'T',\n",
       " ' ',\n",
       " 'G',\n",
       " ' ',\n",
       " 'S',\n",
       " ' ',\n",
       " 'I',\n",
       " ' ',\n",
       " 'T',\n",
       " ' ',\n",
       " 'Q',\n",
       " ' ',\n",
       " 'T',\n",
       " ' ',\n",
       " 'A',\n",
       " ' ',\n",
       " 'B',\n",
       " ' ',\n",
       " 'D',\n",
       " '.']"
      ]
     },
     "metadata": {},
     "execution_count": 127
    }
   ],
   "source": [
    "frase = \"The Way To Get Started Is To Quit Talking And Begin Doing.\"\n",
    "\n",
    "\n",
    "solomayuscula = [enmayuscula for enmayuscula in frase if enmayuscula == enmayuscula.upper()]\n",
    "solomayuscula\n"
   ]
  },
  {
   "cell_type": "markdown",
   "metadata": {},
   "source": [
    "10. Find all the consonants in the sentence `\"Tell me and I forget. Teach me and I remember. Involve me and I learn.\"`.\n"
   ]
  },
  {
   "cell_type": "code",
   "execution_count": 273,
   "metadata": {},
   "outputs": [
    {
     "output_type": "execute_result",
     "data": {
      "text/plain": [
       "[]"
      ]
     },
     "metadata": {},
     "execution_count": 273
    }
   ],
   "source": [
    "frasecita = \"Tell me and I forget. Teach me and I remember. Involve me and I learn.\"\n",
    "\n",
    "\n",
    "encontrar_consonantes = [consontantes for consonantes in frasecita if consonantes == \"a\" and consonantes == \"e\" and consonantes == \"i\" and consontantes == \"o\" and consonantes == \"u\"]\n",
    "encontrar_consonantes"
   ]
  },
  {
   "cell_type": "markdown",
   "metadata": {},
   "source": [
    "11. Create 4 lists of 10 random numbers between 0 and 100 each. \n",
    "\n",
    "**You will probably need to import random module.**\n",
    "\n"
   ]
  },
  {
   "cell_type": "code",
   "execution_count": 297,
   "metadata": {},
   "outputs": [
    {
     "output_type": "execute_result",
     "data": {
      "text/plain": [
       "[[65, 18, 19, 19, 25, 97, 10, 83, 86, 88],\n",
       " [75, 29, 68, 88, 15, 100, 96, 29, 41, 12],\n",
       " [97, 52, 95, 11, 84, 25, 85, 39, 9, 94],\n",
       " [59, 98, 97, 17, 31, 68, 2, 80, 35, 87]]"
      ]
     },
     "metadata": {},
     "execution_count": 297
    }
   ],
   "source": [
    "import random\n",
    "n = random.randint(0,100)\n",
    "listarandom = [[random.randint(0,100) for i in range(10)] for i in range(4)]\n",
    "listarandom"
   ]
  },
  {
   "cell_type": "markdown",
   "metadata": {},
   "source": [
    "### Exercise 2. "
   ]
  },
  {
   "cell_type": "markdown",
   "metadata": {},
   "source": [
    "1. Flatten the following list of lists of lists to a one dimensional list :\n",
    "```python\n",
    "expected output:\n",
    "[1, 2, 3, 4, 5, 6, 7, 8, 9]\n",
    "```"
   ]
  },
  {
   "cell_type": "code",
   "execution_count": 36,
   "metadata": {},
   "outputs": [],
   "source": [
    "list_of_lists =[[1, 2, 3], [4, 5, 6], [7, 8, 9]]"
   ]
  },
  {
   "cell_type": "code",
   "execution_count": 37,
   "metadata": {},
   "outputs": [
    {
     "output_type": "execute_result",
     "data": {
      "text/plain": [
       "[1, 2, 3, 4, 5, 6, 7, 8, 9]"
      ]
     },
     "metadata": {},
     "execution_count": 37
    }
   ],
   "source": [
    "# Lo que tengo \n",
    "\n",
    "lista_flat = [item for sub_list in list_of_lists for item in sub_list]\n",
    "lista_flat\n"
   ]
  },
  {
   "cell_type": "markdown",
   "metadata": {},
   "source": [
    "2. Flatten the following list to a new list, and capitalize the elements of the new list:\n",
    "```python\n",
    "expected output:\n",
    "['SPAIN', 'MADRID', 'FRANCE', 'PARIS', 'PORTUGAL', 'LISBON']\n",
    "```"
   ]
  },
  {
   "cell_type": "code",
   "execution_count": 38,
   "metadata": {},
   "outputs": [],
   "source": [
    "countries = [[('Spain', 'Madrid')], [('France', 'Paris')], [('Portugal', 'Lisbon')]]"
   ]
  },
  {
   "cell_type": "code",
   "execution_count": 107,
   "metadata": {},
   "outputs": [
    {
     "output_type": "execute_result",
     "data": {
      "text/plain": [
       "['SPAIN', 'MADRID', 'FRANCE', 'PARIS', 'PORTUGAL', 'LISBON']"
      ]
     },
     "metadata": {},
     "execution_count": 107
    }
   ],
   "source": [
    "listapaisesmayus = [strings.upper() for lists in countries for tuplas in lists for strings in tuplas]\n",
    "listapaisesmayus"
   ]
  },
  {
   "cell_type": "markdown",
   "metadata": {},
   "source": [
    "3. Change the `countries` list to a list of dictionaries:\n",
    "```python\n",
    "expected output:\n",
    "[{'country': 'SPAIN', 'city': 'MADRID'},\n",
    "{'country': 'FRANCE', 'city': 'PARIS'},\n",
    "{'country': 'PORTUGAL', 'city': 'LISBON'}]\n",
    "```"
   ]
  },
  {
   "cell_type": "code",
   "execution_count": 130,
   "metadata": {},
   "outputs": [
    {
     "output_type": "stream",
     "name": "stdout",
     "text": [
      "('SPAIN', 'MADRID', 'FRANCE', 'PARIS', 'PORTUGAL', 'LISBON')\n"
     ]
    },
    {
     "output_type": "error",
     "ename": "ValueError",
     "evalue": "dictionary update sequence element #0 has length 5; 2 is required",
     "traceback": [
      "\u001b[0;31m---------------------------------------------------------------------------\u001b[0m",
      "\u001b[0;31mValueError\u001b[0m                                Traceback (most recent call last)",
      "\u001b[0;32m<ipython-input-130-826709a76c45>\u001b[0m in \u001b[0;36m<module>\u001b[0;34m\u001b[0m\n\u001b[1;32m      3\u001b[0m \u001b[0mlistapaisesmayus\u001b[0m \u001b[0;34m=\u001b[0m \u001b[0mtuple\u001b[0m\u001b[0;34m(\u001b[0m\u001b[0mlistapaisesmayus\u001b[0m\u001b[0;34m)\u001b[0m\u001b[0;34m\u001b[0m\u001b[0;34m\u001b[0m\u001b[0m\n\u001b[1;32m      4\u001b[0m \u001b[0mprint\u001b[0m\u001b[0;34m(\u001b[0m\u001b[0mlistapaisesmayus\u001b[0m\u001b[0;34m)\u001b[0m\u001b[0;34m\u001b[0m\u001b[0;34m\u001b[0m\u001b[0m\n\u001b[0;32m----> 5\u001b[0;31m \u001b[0mdict\u001b[0m\u001b[0;34m(\u001b[0m\u001b[0mlistapaisesmayus\u001b[0m\u001b[0;34m)\u001b[0m\u001b[0;34m\u001b[0m\u001b[0;34m\u001b[0m\u001b[0m\n\u001b[0m",
      "\u001b[0;31mValueError\u001b[0m: dictionary update sequence element #0 has length 5; 2 is required"
     ]
    }
   ],
   "source": [
    "countries = [[('Spain', 'Madrid')], [('France', 'Paris')], [('Portugal', 'Lisbon')]]\n",
    "###############\n",
    "listapaisesmayus = tuple(listapaisesmayus)\n",
    "print(listapaisesmayus)\n",
    "diccionariopaises = {for i in listapaisesmayus }"
   ]
  },
  {
   "cell_type": "markdown",
   "metadata": {},
   "source": [
    "4. Change the following list of lists to a list of concatenated strings:\n",
    "```python\n",
    "expected output:\n",
    "['Gabriel Vazquez', 'Clara Piniella', 'Diomedes Barbero']\n",
    "```"
   ]
  },
  {
   "source": [
    "## Este es el bueno:\n"
   ],
   "cell_type": "markdown",
   "metadata": {}
  },
  {
   "cell_type": "code",
   "execution_count": null,
   "metadata": {},
   "outputs": [],
   "source": [
    "names = [[('Gabriel', 'Vazquez')], [('Clara', 'Piniella')], [('Diomedes', 'Barbero')]]"
   ]
  },
  {
   "cell_type": "code",
   "execution_count": 65,
   "metadata": {},
   "outputs": [
    {
     "output_type": "execute_result",
     "data": {
      "text/plain": [
       "['Gabriel', 'Vazquez', 'Clara', 'Piniella', 'Diomedes', 'Barbero']"
      ]
     },
     "metadata": {},
     "execution_count": 65
    }
   ],
   "source": [
    "blabla = [lista_pequena for lista_mediana in names for lista_otra in lista_mediana for lista_pequena in lista_otra]\n",
    "blabla"
   ]
  },
  {
   "cell_type": "markdown",
   "metadata": {},
   "source": [
    "5. Convert the numbers of the following nested list to floats. Use **floats_list** as the name of the list. "
   ]
  },
  {
   "cell_type": "code",
   "execution_count": 66,
   "metadata": {},
   "outputs": [],
   "source": [
    "big_list_of_lists = [['40', '20', '10', '30'], ['20', '20', '20', '20', '20', '30', '20'], \\\n",
    "['30', '20', '30', '50', '10', '30', '20', '20', '20'], ['100', '100'], ['100', '100', '100', '100', '100'], \\\n",
    "['100', '100', '100', '100']]"
   ]
  },
  {
   "cell_type": "code",
   "execution_count": 86,
   "metadata": {},
   "outputs": [
    {
     "output_type": "execute_result",
     "data": {
      "text/plain": [
       "[40.0,\n",
       " 20.0,\n",
       " 10.0,\n",
       " 30.0,\n",
       " 20.0,\n",
       " 20.0,\n",
       " 20.0,\n",
       " 20.0,\n",
       " 20.0,\n",
       " 30.0,\n",
       " 20.0,\n",
       " 30.0,\n",
       " 20.0,\n",
       " 30.0,\n",
       " 50.0,\n",
       " 10.0,\n",
       " 30.0,\n",
       " 20.0,\n",
       " 20.0,\n",
       " 20.0,\n",
       " 100.0,\n",
       " 100.0,\n",
       " 100.0,\n",
       " 100.0,\n",
       " 100.0,\n",
       " 100.0,\n",
       " 100.0,\n",
       " 100.0,\n",
       " 100.0,\n",
       " 100.0,\n",
       " 100.0]"
      ]
     },
     "metadata": {},
     "execution_count": 86
    }
   ],
   "source": [
    "float_list = [float(strings) for lists in big_list_of_lists for strings in lists]\n",
    "float_list\n"
   ]
  },
  {
   "cell_type": "markdown",
   "metadata": {},
   "source": [
    "6. Using list comprehension create the following list of tuples:\n",
    "```python\n",
    "expected output: \n",
    "[(0, 1, 0, 0, 0, 0, 0),\n",
    "(1, 1, 1, 1, 1, 1, 1),\n",
    "(2, 1, 2, 4, 8, 16, 32),\n",
    "(3, 1, 3, 9, 27, 81, 243),\n",
    "(4, 1, 4, 16, 64, 256, 1024),\n",
    "(5, 1, 5, 25, 125, 625, 3125),\n",
    "(6, 1, 6, 36, 216, 1296, 7776),\n",
    "(7, 1, 7, 49, 343, 2401, 16807),\n",
    "(8, 1, 8, 64, 512, 4096, 32768),\n",
    "(9, 1, 9, 81, 729, 6561, 59049),\n",
    "(10, 1, 10, 100, 1000, 10000, 100000)]\n",
    "```\n",
    "\n",
    "\n"
   ]
  },
  {
   "cell_type": "code",
   "execution_count": 242,
   "metadata": {},
   "outputs": [
    {
     "output_type": "execute_result",
     "data": {
      "text/plain": [
       "81"
      ]
     },
     "metadata": {},
     "execution_count": 242
    }
   ],
   "source": [
    "3**4"
   ]
  },
  {
   "cell_type": "code",
   "execution_count": 244,
   "metadata": {},
   "outputs": [
    {
     "output_type": "execute_result",
     "data": {
      "text/plain": [
       "[1, 8, 81, 1024, 15625, 279936, 5764801, 134217728, 3486784401, 100000000000]"
      ]
     },
     "metadata": {},
     "execution_count": 244
    }
   ],
   "source": [
    "listilla = []\n",
    "listaca = [(i**(i+1)) for i in range (1, 11)]\n",
    "listaca"
   ]
  },
  {
   "cell_type": "code",
   "execution_count": 236,
   "metadata": {},
   "outputs": [
    {
     "output_type": "execute_result",
     "data": {
      "text/plain": [
       "[1, 8, 81, 1024, 15625, 279936, 5764801, 134217728, 3486784401, 100000000000]"
      ]
     },
     "metadata": {},
     "execution_count": 236
    }
   ],
   "source": [
    "njicdlff = [i * (i**i) for i in range (1, 11) ]\n",
    "njicdlff"
   ]
  },
  {
   "cell_type": "code",
   "execution_count": 246,
   "metadata": {},
   "outputs": [
    {
     "output_type": "error",
     "ename": "SyntaxError",
     "evalue": "invalid syntax (<ipython-input-246-02f64f5d214c>, line 2)",
     "traceback": [
      "\u001b[0;36m  File \u001b[0;32m\"<ipython-input-246-02f64f5d214c>\"\u001b[0;36m, line \u001b[0;32m2\u001b[0m\n\u001b[0;31m    listaza = [acum+= 1(i, round(i/i), i, i*i, i**i, i**(i**i)) for i in range (1, 11) acum+= 1 ]\u001b[0m\n\u001b[0m                   ^\u001b[0m\n\u001b[0;31mSyntaxError\u001b[0m\u001b[0;31m:\u001b[0m invalid syntax\n"
     ]
    }
   ],
   "source": [
    "acum = 0\n",
    "listaza = [acum+= 1(i, round(i/i), i, i*i, i**i, i**(i**i)) for i in range (1, 11) acum+= 1 ]\n",
    "listaza\n",
    "\n"
   ]
  },
  {
   "cell_type": "code",
   "execution_count": 230,
   "metadata": {},
   "outputs": [
    {
     "output_type": "execute_result",
     "data": {
      "text/plain": [
       "[0,\n",
       " 1,\n",
       " 8,\n",
       " 81,\n",
       " 1024,\n",
       " 15625,\n",
       " 279936,\n",
       " 5764801,\n",
       " 134217728,\n",
       " 3486784401,\n",
       " 100000000000]"
      ]
     },
     "metadata": {},
     "execution_count": 230
    }
   ],
   "source": [
    "listadefinitiva = [(i) * (i**i) for i in range (11)]\n",
    "listadefinitiva"
   ]
  },
  {
   "cell_type": "code",
   "execution_count": 219,
   "metadata": {},
   "outputs": [
    {
     "output_type": "execute_result",
     "data": {
      "text/plain": [
       "1"
      ]
     },
     "metadata": {},
     "execution_count": 219
    }
   ],
   "source": [
    "2**0"
   ]
  },
  {
   "cell_type": "code",
   "execution_count": 225,
   "metadata": {},
   "outputs": [
    {
     "output_type": "execute_result",
     "data": {
      "text/plain": [
       "27"
      ]
     },
     "metadata": {},
     "execution_count": 225
    }
   ],
   "source": [
    "3 * (3**2)"
   ]
  },
  {
   "cell_type": "code",
   "execution_count": 170,
   "metadata": {},
   "outputs": [
    {
     "output_type": "stream",
     "name": "stdout",
     "text": [
      "1\n2\n4\n8\n16\n32\n64\n128\n256\n512\n1024\n"
     ]
    }
   ],
   "source": [
    "for i in range(11):\n",
    "    print(2**i)\n",
    "\n"
   ]
  },
  {
   "cell_type": "code",
   "execution_count": 177,
   "metadata": {},
   "outputs": [
    {
     "output_type": "stream",
     "name": "stdout",
     "text": [
      "1\n4\n"
     ]
    }
   ],
   "source": [
    "print(2**0) #2 elevado a 0 es 1\n",
    "\n",
    "print(2* (2**1))"
   ]
  },
  {
   "cell_type": "code",
   "execution_count": null,
   "metadata": {},
   "outputs": [],
   "source": [
    "(i)(i**i)"
   ]
  },
  {
   "cell_type": "code",
   "execution_count": 215,
   "metadata": {},
   "outputs": [
    {
     "output_type": "execute_result",
     "data": {
      "text/plain": [
       "[0,\n",
       " 1,\n",
       " 8,\n",
       " 81,\n",
       " 1024,\n",
       " 15625,\n",
       " 279936,\n",
       " 5764801,\n",
       " 134217728,\n",
       " 3486784401,\n",
       " 100000000000]"
      ]
     },
     "metadata": {},
     "execution_count": 215
    }
   ],
   "source": [
    "listafinal = []\n",
    "creartuplas= [elem *(elem**elem) for elem in range(11) ]\n",
    "creartuplas"
   ]
  },
  {
   "cell_type": "markdown",
   "metadata": {},
   "source": [
    "### Exercise 3. "
   ]
  },
  {
   "cell_type": "markdown",
   "metadata": {},
   "source": [
    "1. First, create a range from 100 to 160 with steps of 10.\n",
    "   Second, using **dict comprehension**, create a dictionary where each number in the range is the key and each item divided by 100 is the value."
   ]
  },
  {
   "cell_type": "code",
   "execution_count": 162,
   "metadata": {},
   "outputs": [
    {
     "output_type": "execute_result",
     "data": {
      "text/plain": [
       "{100: 1.0, 110: 1.1, 120: 1.2, 130: 1.3, 140: 1.4, 150: 1.5, 160: 1.6}"
      ]
     },
     "metadata": {},
     "execution_count": 162
    }
   ],
   "source": [
    "crear_rango = [i for i in range(100, 161) if i % 10 == 0]\n",
    "crear_rango\n",
    "#Ahora yo quiero que cada uno de los valores sea una key\n",
    "\n",
    "\n",
    "listanumerica = {(val): (val/100) for pos, val in (enumerate(crear_rango))}\n",
    "listanumerica"
   ]
  },
  {
   "cell_type": "markdown",
   "metadata": {},
   "source": [
    "2. Using **dict comprehension** and a conditional argument create a dictionary from `curr_dict` where only the key:value pairs with value above 2000 are taken to the new dictionary.\n",
    "    "
   ]
  },
  {
   "cell_type": "code",
   "execution_count": 109,
   "metadata": {},
   "outputs": [],
   "source": [
    "curr_dict = {\"Netflix\":4950,\"HBO\":2400,\"Amazon\":1800, \"Movistar\":1700}"
   ]
  },
  {
   "cell_type": "code",
   "execution_count": 121,
   "metadata": {},
   "outputs": [
    {
     "output_type": "execute_result",
     "data": {
      "text/plain": [
       "{'Netflix': 4950, 'HBO': 2400}"
      ]
     },
     "metadata": {},
     "execution_count": 121
    }
   ],
   "source": [
    " crear_dict_comprehension = [(key, value) for key, value in curr_dict.items() if value >2000]\n",
    "crear_dict_comprehension = dict(crear_dict_comprehension)\n",
    "\n",
    "crear_dict_comprehension"
   ]
  },
  {
   "cell_type": "markdown",
   "metadata": {},
   "source": [
    "3. Create a function that receives two lists `list1` and `list2` by parameter and returns a dictionary with each element of `list1` as keys and the elements of `list2` as values. This time use **dict comprehension** to do so.  "
   ]
  },
  {
   "cell_type": "code",
   "execution_count": 303,
   "metadata": {},
   "outputs": [
    {
     "output_type": "execute_result",
     "data": {
      "text/plain": [
       "{}"
      ]
     },
     "metadata": {},
     "execution_count": 303
    }
   ],
   "source": [
    "def ultimoexercise (list1, list2):\n",
    "    diccionariofinal = {}\n",
    "    lista1keys = {list1 for list1 in diccionariofinal.keys()}\n",
    "    lista2values = {list2 for list2 in diccionariofinal.values()}\n",
    "    return diccionariofinal\n",
    "ultimoexercise(list1= [1, 2, 3, 4], list2= [\"a\", \"b\", \"c\", \"d\"])"
   ]
  },
  {
   "cell_type": "code",
   "execution_count": 298,
   "metadata": {},
   "outputs": [
    {
     "output_type": "error",
     "ename": "AttributeError",
     "evalue": "'list' object has no attribute 'keys'",
     "traceback": [
      "\u001b[0;31m---------------------------------------------------------------------------\u001b[0m",
      "\u001b[0;31mAttributeError\u001b[0m                            Traceback (most recent call last)",
      "\u001b[0;32m<ipython-input-298-cee4932f2fe4>\u001b[0m in \u001b[0;36m<module>\u001b[0;34m\u001b[0m\n\u001b[1;32m      5\u001b[0m     \u001b[0mlistavalues\u001b[0m \u001b[0;34m=\u001b[0m \u001b[0;34m[\u001b[0m\u001b[0mlist1\u001b[0m\u001b[0;34m.\u001b[0m\u001b[0mvalues\u001b[0m\u001b[0;34m(\u001b[0m\u001b[0;34m)\u001b[0m \u001b[0;32mfor\u001b[0m \u001b[0mi\u001b[0m \u001b[0;32min\u001b[0m \u001b[0mlist2\u001b[0m \u001b[0;34m]\u001b[0m\u001b[0;34m\u001b[0m\u001b[0;34m\u001b[0m\u001b[0m\n\u001b[1;32m      6\u001b[0m     \u001b[0;32mreturn\u001b[0m \u001b[0;34m(\u001b[0m\u001b[0;34m\"Hola\"\u001b[0m\u001b[0;34m)\u001b[0m\u001b[0;34m\u001b[0m\u001b[0;34m\u001b[0m\u001b[0m\n\u001b[0;32m----> 7\u001b[0;31m \u001b[0multimoejercicio\u001b[0m\u001b[0;34m(\u001b[0m\u001b[0mlist1\u001b[0m\u001b[0;34m=\u001b[0m\u001b[0mlista1\u001b[0m\u001b[0;34m,\u001b[0m \u001b[0mlist2\u001b[0m\u001b[0;34m=\u001b[0m\u001b[0mlista2\u001b[0m\u001b[0;34m)\u001b[0m\u001b[0;34m\u001b[0m\u001b[0;34m\u001b[0m\u001b[0m\n\u001b[0m",
      "\u001b[0;32m<ipython-input-298-cee4932f2fe4>\u001b[0m in \u001b[0;36multimoejercicio\u001b[0;34m(list1, list2)\u001b[0m\n\u001b[1;32m      2\u001b[0m \u001b[0mlista2\u001b[0m\u001b[0;34m=\u001b[0m \u001b[0;34m[\u001b[0m\u001b[0;34m\"a\"\u001b[0m\u001b[0;34m,\u001b[0m \u001b[0;34m\"b\"\u001b[0m\u001b[0;34m,\u001b[0m \u001b[0;34m\"c\"\u001b[0m\u001b[0;34m,\u001b[0m \u001b[0;34m\"d\"\u001b[0m\u001b[0;34m]\u001b[0m\u001b[0;34m\u001b[0m\u001b[0;34m\u001b[0m\u001b[0m\n\u001b[1;32m      3\u001b[0m \u001b[0;32mdef\u001b[0m \u001b[0multimoejercicio\u001b[0m \u001b[0;34m(\u001b[0m\u001b[0mlist1\u001b[0m\u001b[0;34m,\u001b[0m \u001b[0mlist2\u001b[0m\u001b[0;34m)\u001b[0m\u001b[0;34m:\u001b[0m\u001b[0;34m\u001b[0m\u001b[0;34m\u001b[0m\u001b[0m\n\u001b[0;32m----> 4\u001b[0;31m     \u001b[0mlistakeys\u001b[0m \u001b[0;34m=\u001b[0m \u001b[0;34m[\u001b[0m\u001b[0mlist1\u001b[0m\u001b[0;34m.\u001b[0m\u001b[0mkeys\u001b[0m\u001b[0;34m(\u001b[0m\u001b[0;34m)\u001b[0m \u001b[0;32mfor\u001b[0m \u001b[0mi\u001b[0m \u001b[0;32min\u001b[0m \u001b[0mlist1\u001b[0m\u001b[0;34m]\u001b[0m\u001b[0;34m\u001b[0m\u001b[0;34m\u001b[0m\u001b[0m\n\u001b[0m\u001b[1;32m      5\u001b[0m     \u001b[0mlistavalues\u001b[0m \u001b[0;34m=\u001b[0m \u001b[0;34m[\u001b[0m\u001b[0mlist1\u001b[0m\u001b[0;34m.\u001b[0m\u001b[0mvalues\u001b[0m\u001b[0;34m(\u001b[0m\u001b[0;34m)\u001b[0m \u001b[0;32mfor\u001b[0m \u001b[0mi\u001b[0m \u001b[0;32min\u001b[0m \u001b[0mlist2\u001b[0m \u001b[0;34m]\u001b[0m\u001b[0;34m\u001b[0m\u001b[0;34m\u001b[0m\u001b[0m\n\u001b[1;32m      6\u001b[0m     \u001b[0;32mreturn\u001b[0m \u001b[0;34m(\u001b[0m\u001b[0;34m\"Hola\"\u001b[0m\u001b[0;34m)\u001b[0m\u001b[0;34m\u001b[0m\u001b[0;34m\u001b[0m\u001b[0m\n",
      "\u001b[0;32m<ipython-input-298-cee4932f2fe4>\u001b[0m in \u001b[0;36m<listcomp>\u001b[0;34m(.0)\u001b[0m\n\u001b[1;32m      2\u001b[0m \u001b[0mlista2\u001b[0m\u001b[0;34m=\u001b[0m \u001b[0;34m[\u001b[0m\u001b[0;34m\"a\"\u001b[0m\u001b[0;34m,\u001b[0m \u001b[0;34m\"b\"\u001b[0m\u001b[0;34m,\u001b[0m \u001b[0;34m\"c\"\u001b[0m\u001b[0;34m,\u001b[0m \u001b[0;34m\"d\"\u001b[0m\u001b[0;34m]\u001b[0m\u001b[0;34m\u001b[0m\u001b[0;34m\u001b[0m\u001b[0m\n\u001b[1;32m      3\u001b[0m \u001b[0;32mdef\u001b[0m \u001b[0multimoejercicio\u001b[0m \u001b[0;34m(\u001b[0m\u001b[0mlist1\u001b[0m\u001b[0;34m,\u001b[0m \u001b[0mlist2\u001b[0m\u001b[0;34m)\u001b[0m\u001b[0;34m:\u001b[0m\u001b[0;34m\u001b[0m\u001b[0;34m\u001b[0m\u001b[0m\n\u001b[0;32m----> 4\u001b[0;31m     \u001b[0mlistakeys\u001b[0m \u001b[0;34m=\u001b[0m \u001b[0;34m[\u001b[0m\u001b[0mlist1\u001b[0m\u001b[0;34m.\u001b[0m\u001b[0mkeys\u001b[0m\u001b[0;34m(\u001b[0m\u001b[0;34m)\u001b[0m \u001b[0;32mfor\u001b[0m \u001b[0mi\u001b[0m \u001b[0;32min\u001b[0m \u001b[0mlist1\u001b[0m\u001b[0;34m]\u001b[0m\u001b[0;34m\u001b[0m\u001b[0;34m\u001b[0m\u001b[0m\n\u001b[0m\u001b[1;32m      5\u001b[0m     \u001b[0mlistavalues\u001b[0m \u001b[0;34m=\u001b[0m \u001b[0;34m[\u001b[0m\u001b[0mlist1\u001b[0m\u001b[0;34m.\u001b[0m\u001b[0mvalues\u001b[0m\u001b[0;34m(\u001b[0m\u001b[0;34m)\u001b[0m \u001b[0;32mfor\u001b[0m \u001b[0mi\u001b[0m \u001b[0;32min\u001b[0m \u001b[0mlist2\u001b[0m \u001b[0;34m]\u001b[0m\u001b[0;34m\u001b[0m\u001b[0;34m\u001b[0m\u001b[0m\n\u001b[1;32m      6\u001b[0m     \u001b[0;32mreturn\u001b[0m \u001b[0;34m(\u001b[0m\u001b[0;34m\"Hola\"\u001b[0m\u001b[0;34m)\u001b[0m\u001b[0;34m\u001b[0m\u001b[0;34m\u001b[0m\u001b[0m\n",
      "\u001b[0;31mAttributeError\u001b[0m: 'list' object has no attribute 'keys'"
     ]
    }
   ],
   "source": [
    "lista1 = [1, 2, 3, 4]\n",
    "lista2= [\"a\", \"b\", \"c\", \"d\"]\n",
    "def ultimoejercicio (list1, list2):\n",
    "    listakeys = [list1.keys() for i in list1]\n",
    "    listavalues = [list1.values() for i in list2 ]\n",
    "    return (\"Hola\")\n",
    "ultimoejercicio(list1=lista1, list2=lista2)"
   ]
  },
  {
   "cell_type": "markdown",
   "metadata": {},
   "source": [
    "### Bonus Track. "
   ]
  },
  {
   "cell_type": "markdown",
   "metadata": {},
   "source": [
    "To solve this exercise you can either use `for/while` or try to solve it using both. From now on you should be able to find out whether to use for or while. "
   ]
  },
  {
   "cell_type": "markdown",
   "metadata": {},
   "source": [
    "1. Define a function `string_greater_5` that receives as a parameter `whichever_list`. You must go through `whichever_list` transforming each element into a string and, if the size of the string is longer than 5, the loop must stop. The function must return the first element which is a string longer than 5. Pass as an argument `info_list` when you call the function `string_greater_5`."
   ]
  },
  {
   "cell_type": "code",
   "execution_count": null,
   "metadata": {},
   "outputs": [],
   "source": [
    "# you can use this list or take yours from Practice 3\n",
    "info_list = [15, 'Recoletos', True, ['Recoletos', 15],  None, '8'] "
   ]
  },
  {
   "cell_type": "markdown",
   "metadata": {},
   "source": [
    "2. Define a function `list_consecutive` that receives as a parameter `limit`. It should return a list with numbers starting at 0 and ending at the `limit` number. When calling the function `limit` will be 18.\n"
   ]
  },
  {
   "cell_type": "code",
   "execution_count": null,
   "metadata": {},
   "outputs": [],
   "source": []
  },
  {
   "cell_type": "markdown",
   "metadata": {},
   "source": [
    "3. Define a function called `position_15`. This gets two parameters, `some_function` and `whichever_list`. `position_15` should return the element in 15th position of the list that `some_function` returns. Pass to `some_function` the `list_consecutive` function as the value of the argument. \n",
    "\n",
    "   You should call the function `some_function` inside `position_15` and give it the lenght of `whichever_list` multiply by 2 as an argument. \n",
    "\n",
    "```python\n",
    "# example:\n",
    "position_15(some_function = list_consecutive,\n",
    "                whichever_list = info_list)\n",
    "``` "
   ]
  },
  {
   "cell_type": "code",
   "execution_count": null,
   "metadata": {},
   "outputs": [],
   "source": []
  },
  {
   "cell_type": "markdown",
   "metadata": {},
   "source": [
    "### Bonus Track of the Bonus Track. \n",
    "\n",
    "1. Make a Python program that, from the strings `\" | \"` and `\" _ \"`, shows an 8x8 **chessboard** on the screen.\n",
    "\n",
    "   Develop the program in a `.py` file that will be run through the terminal. \n",
    " \n",
    "   From the folder that contains the corresponding `.py`, it will be executed with the following command:` python3 program_name.py`"
   ]
  },
  {
   "cell_type": "code",
   "execution_count": null,
   "metadata": {},
   "outputs": [],
   "source": []
  },
  {
   "cell_type": "markdown",
   "metadata": {},
   "source": [
    "!['togood'](https://i.pinimg.com/originals/de/f5/2f/def52fe41d695d8feebd2cdc194da929.png)"
   ]
  },
  {
   "cell_type": "code",
   "execution_count": null,
   "metadata": {},
   "outputs": [],
   "source": []
  }
 ],
 "metadata": {
  "kernelspec": {
   "name": "python3",
   "display_name": "Python 3.9.0 64-bit",
   "metadata": {
    "interpreter": {
     "hash": "7812ea015bdcee6f23a998adcdd2ef97c151c0c241b7b7070987d9313e41299d"
    }
   }
  },
  "language_info": {
   "codemirror_mode": {
    "name": "ipython",
    "version": 3
   },
   "file_extension": ".py",
   "mimetype": "text/x-python",
   "name": "python",
   "nbconvert_exporter": "python",
   "pygments_lexer": "ipython3",
   "version": "3.9.0-final"
  }
 },
 "nbformat": 4,
 "nbformat_minor": 4
}