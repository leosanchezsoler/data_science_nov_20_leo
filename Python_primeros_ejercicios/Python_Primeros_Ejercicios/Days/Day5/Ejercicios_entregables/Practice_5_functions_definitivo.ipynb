{
 "cells": [
  {
   "cell_type": "markdown",
   "metadata": {},
   "source": [
    "# Python | day 5 | functions"
   ]
  },
  {
   "cell_type": "markdown",
   "metadata": {},
   "source": [
    "In Python, a function is a group of related statements that performs a specific task."
   ]
  },
  {
   "cell_type": "markdown",
   "metadata": {},
   "source": [
    "https://www.programiz.com/python-programming/function"
   ]
  },
  {
   "cell_type": "markdown",
   "metadata": {},
   "source": [
    "#### Difference between `return` and `print`.\n",
    "\n",
    "Take some minutes to understand the difference between `return` and `print`, it seems to be the same, but they are not and it's important you understand the difference. "
   ]
  },
  {
   "cell_type": "code",
   "execution_count": 3,
   "metadata": {},
   "outputs": [
    {
     "name": "stdout",
     "output_type": "stream",
     "text": [
      "2\n",
      "4\n",
      "8\n"
     ]
    }
   ],
   "source": [
    "def suma(a,b):\n",
    "    print(a)\n",
    "    return a+b\n",
    "\n",
    "print(suma(suma(2,2),4))"
   ]
  },
  {
   "cell_type": "markdown",
   "metadata": {},
   "source": [
    "#### Comments in a function."
   ]
  },
  {
   "cell_type": "code",
   "execution_count": 4,
   "metadata": {},
   "outputs": [],
   "source": [
    "def say_hello(name):\n",
    "    \"\"\"\n",
    "    Given a name as an argument, \n",
    "    the function return a string greeting\n",
    "    the name given. \n",
    "    \"\"\"\n",
    "    return f\"hello {name}\""
   ]
  },
  {
   "cell_type": "code",
   "execution_count": 6,
   "metadata": {},
   "outputs": [
    {
     "name": "stdout",
     "output_type": "stream",
     "text": [
      "hello Clara\n"
     ]
    }
   ],
   "source": [
    "print(say_hello(\"Clara\"))"
   ]
  },
  {
   "cell_type": "code",
   "execution_count": 7,
   "metadata": {},
   "outputs": [
    {
     "name": "stdout",
     "output_type": "stream",
     "text": [
      "Help on function say_hello in module __main__:\n",
      "\n",
      "say_hello(name)\n",
      "    Given a name as an argument, \n",
      "    the function return a string greeting\n",
      "    the name given.\n",
      "\n"
     ]
    }
   ],
   "source": [
    "help(say_hello)"
   ]
  },
  {
   "cell_type": "markdown",
   "metadata": {},
   "source": [
    "### Exercise 1. "
   ]
  },
  {
   "cell_type": "markdown",
   "metadata": {},
   "source": [
    "To solve the following exercises it will be necessary to define a function for each section. You choose the name of those functions unless specified, but make sure you define a single parameter `whichever_list`, when calling the function it will correspond to the variable `info_list`.\n"
   ]
  },
  {
   "cell_type": "code",
   "execution_count": 2,
   "metadata": {},
   "outputs": [],
   "source": [
    "# you can use this list or take yours from Practice 3\n",
    "info_list = [15, 'Recoletos', True, ['Recoletos', 15],  None, '8'] "
   ]
  },
  {
   "cell_type": "code",
   "execution_count": 3,
   "metadata": {},
   "outputs": [
    {
     "output_type": "stream",
     "name": "stdout",
     "text": [
      "[15, 'Recoletos', True, ['Recoletos', 15], None, '8']\n"
     ]
    }
   ],
   "source": [
    "print(info_list)"
   ]
  },
  {
   "cell_type": "markdown",
   "metadata": {},
   "source": [
    "1. Display on the screen `\"I like the tranquility\"` if you like the mountains more and `\"I'd love to live in Malaga\"` if you like the beach more.\n",
    "\n",
    "**Remember you should define a function which do exactly that but for a list called `whichever_list`, the parameter. \n",
    "After you've done that call the funtion giving `info_list` as the argument.**"
   ]
  },
  {
   "source": [
    "## -DISCLAIMER\n",
    "##### Entiendo que este ejercicio hace alusión a una práctica anterior, por lo que no recuerdo al 100% lo que significaba cada elemento de info_list. De todas formas, en cada ejercicio explico qué es lo que entiendo y cómo lo saco"
   ],
   "cell_type": "markdown",
   "metadata": {}
  },
  {
   "cell_type": "code",
   "execution_count": 8,
   "metadata": {},
   "outputs": [
    {
     "output_type": "execute_result",
     "data": {
      "text/plain": [
       "'I like the tranquility'"
      ]
     },
     "metadata": {},
     "execution_count": 8
    }
   ],
   "source": [
    "#En este caso yo prefiero la montaña\n",
    "#Montaña correspondía con True\n",
    "def preferencia(my_list):\n",
    "    if True in my_list:\n",
    "        return \"I like the tranquility\"\n",
    "    elif None in my_list:\n",
    "        return(\"I'd love to live in Málaga\")\n",
    "preferencia(info_list)"
   ]
  },
  {
   "cell_type": "markdown",
   "metadata": {},
   "source": [
    "2. Print `\"Today I am tired\"` if you have slept less than 7 hours or `\"Today I conquer the world\"` if you have slept more than 7 hours."
   ]
  },
  {
   "cell_type": "code",
   "execution_count": 11,
   "metadata": {},
   "outputs": [
    {
     "output_type": "execute_result",
     "data": {
      "text/plain": [
       "'Today I conquer the world'"
      ]
     },
     "metadata": {},
     "execution_count": 11
    }
   ],
   "source": [
    "#Las horas que he dormido se corresponden con el último elemento de la lista, el string '8'\n",
    "\n",
    "def horas_de_sueno(my_list):\n",
    "    for ele in my_list:\n",
    "        if ele == my_list[-1]:\n",
    "            return \"Today I conquer the world\"\n",
    "horas_de_sueno(info_list)\n"
   ]
  },
  {
   "cell_type": "markdown",
   "metadata": {},
   "source": [
    "3. Loop through `whichever_list` to print all the elements it contains. This function should return the list turned into a tuple. "
   ]
  },
  {
   "cell_type": "code",
   "execution_count": 13,
   "metadata": {},
   "outputs": [
    {
     "output_type": "stream",
     "name": "stdout",
     "text": [
      "15\n<class 'int'>\nRecoletos\n<class 'str'>\nTrue\n<class 'bool'>\n['Recoletos', 15]\n<class 'list'>\nNone\n<class 'NoneType'>\n8\n<class 'str'>\n"
     ]
    },
    {
     "output_type": "execute_result",
     "data": {
      "text/plain": [
       "(15, 'Recoletos', True, ['Recoletos', 15], None, '8')"
      ]
     },
     "metadata": {},
     "execution_count": 13
    }
   ],
   "source": [
    "def retorno_ultimo_elem(my_list):\n",
    "    for elementos in my_list:\n",
    "        print(elementos)\n",
    "        print(type(elementos))\n",
    "    return tuple(my_list)\n",
    "\n",
    "retorno_ultimo_elem(my_list = info_list)"
   ]
  },
  {
   "cell_type": "markdown",
   "metadata": {},
   "source": [
    "4. Loop through `whichever_list` to print all the elements it contains concatenated with the string` \"--> OK\" `. This function should return a message saying, `\"everything will be ok\"`. \n"
   ]
  },
  {
   "cell_type": "code",
   "execution_count": 24,
   "metadata": {},
   "outputs": [
    {
     "output_type": "stream",
     "name": "stdout",
     "text": [
      "['15', 'Recoletos', 'True', \"['Recoletos', 15]\", 'None', '8']\n"
     ]
    },
    {
     "output_type": "execute_result",
     "data": {
      "text/plain": [
       "'Everything will be ok'"
      ]
     },
     "metadata": {},
     "execution_count": 24
    }
   ],
   "source": [
    "# Hay que concatenar los elementos de la lista y añadir entre ellos ok\n",
    "\n",
    "concatenacion_ok = []\n",
    "\n",
    "def concatenador_elementos (my_list):\n",
    "    concatenacion_ok = []\n",
    "    for elementos in my_list:\n",
    "        elementos = str(elementos)\n",
    "        concatenacion_ok.append(elementos)\n",
    "    print(concatenacion_ok)\n",
    "    return \"Everything will be ok\"\n",
    "concatenador_elementos(my_list = info_list)"
   ]
  },
  {
   "cell_type": "markdown",
   "metadata": {},
   "source": [
    "5. Loop through `whichever_list` to display all items it contains except the first one. This function should return the first element of the list. "
   ]
  },
  {
   "cell_type": "code",
   "execution_count": 38,
   "metadata": {},
   "outputs": [
    {
     "output_type": "stream",
     "name": "stdout",
     "text": [
      "Recoletos\nTrue\n['Recoletos', 15]\nNone\n8\n"
     ]
    },
    {
     "output_type": "execute_result",
     "data": {
      "text/plain": [
       "15"
      ]
     },
     "metadata": {},
     "execution_count": 38
    }
   ],
   "source": [
    "def mostrar_todos_menos_primero(my_list):\n",
    "    for elementos in my_list:\n",
    "        if elementos != my_list[0]:\n",
    "            print(elementos)\n",
    "    return(my_list[0])\n",
    "\n",
    "mostrar_todos_menos_primero(my_list = info_list)"
   ]
  },
  {
   "cell_type": "markdown",
   "metadata": {},
   "source": [
    "6. Loop through `whichever_list` to display all the items it contains except the last one. This function should return the last element of the list. "
   ]
  },
  {
   "cell_type": "code",
   "execution_count": 41,
   "metadata": {},
   "outputs": [
    {
     "output_type": "stream",
     "name": "stdout",
     "text": [
      "[15, 'Recoletos', True, ['Recoletos', 15], None, '8']\n··············\n15\nRecoletos\nTrue\n['Recoletos', 15]\nNone\n"
     ]
    },
    {
     "output_type": "execute_result",
     "data": {
      "text/plain": [
       "'8'"
      ]
     },
     "metadata": {},
     "execution_count": 41
    }
   ],
   "source": [
    "print(info_list)\n",
    "print(\"··············\")\n",
    "def imprimir_todos_menos_último(my_list):\n",
    "    for elementos in my_list:\n",
    "        if elementos != my_list[-1]:\n",
    "            print(elementos)\n",
    "    return my_list[-1]\n",
    "imprimir_todos_menos_último(my_list=info_list)\n"
   ]
  },
  {
   "cell_type": "markdown",
   "metadata": {},
   "source": [
    "7. Loop through `whichever_list` to show all the elements it contains except the street number and the hours you've slept."
   ]
  },
  {
   "cell_type": "code",
   "execution_count": 53,
   "metadata": {},
   "outputs": [
    {
     "output_type": "stream",
     "name": "stdout",
     "text": [
      "[15, 'Recoletos', True, ['Recoletos', 15], None, '8']\n··············\nRecoletos\nTrue\n['Recoletos', 15]\nNone\n8\n"
     ]
    }
   ],
   "source": [
    "print(info_list)\n",
    "print(\"··············\")\n",
    "\n",
    "def no_mostrar_number_sueno(my_list):\n",
    "    for elementos in my_list:\n",
    "        if elementos !=15:\n",
    "            print(elementos)\n",
    "        elif elementos == my_list[-1]:\n",
    "            break\n",
    "            print(elementos)\n",
    "\n",
    "no_mostrar_number_sueno(my_list = info_list)"
   ]
  },
  {
   "cell_type": "markdown",
   "metadata": {},
   "source": [
    "8. Loop through `whichever_list` to print all the elements it contains except the first element of the list which is in fourth position (`'Recoletos'`). This function should return the lenght of that element. "
   ]
  },
  {
   "cell_type": "code",
   "execution_count": 69,
   "metadata": {},
   "outputs": [
    {
     "output_type": "stream",
     "name": "stdout",
     "text": [
      "[15, 'Recoletos', True, ['Recoletos', 15], None, '8']\n---------\n15\nRecoletos\nTrue\n15\nNone\n8\n"
     ]
    },
    {
     "output_type": "execute_result",
     "data": {
      "text/plain": [
       "6"
      ]
     },
     "metadata": {},
     "execution_count": 69
    }
   ],
   "source": [
    "print(info_list)\n",
    "info_list[3][0]\n",
    "print(\"---------\")\n",
    "\n",
    "def excepto_primer_elemento_lista (my_list):\n",
    "    for elementos in my_list:\n",
    "        if type(elementos) == list:\n",
    "            print(elementos[1])\n",
    "        else:\n",
    "            print(elementos)\n",
    "    return len(my_list)\n",
    "excepto_primer_elemento_lista(my_list= info_list)"
   ]
  },
  {
   "cell_type": "markdown",
   "metadata": {},
   "source": [
    "9. Loop through `whichever_list` to show all the elements it contains except the one that contains the information about whether you like the mountains or the beach. The function should return a message saying `\"I love the beach\"` if you prefer the beach and a message saying `\"I love the mountain\"` otherwise. "
   ]
  },
  {
   "cell_type": "code",
   "execution_count": 74,
   "metadata": {},
   "outputs": [
    {
     "output_type": "stream",
     "name": "stdout",
     "text": [
      "[15, 'Recoletos', True, ['Recoletos', 15], None, '8']\n--------\n15\nRecoletos\n['Recoletos', 15]\nNone\n8\n"
     ]
    },
    {
     "output_type": "execute_result",
     "data": {
      "text/plain": [
       "'I love the mountain'"
      ]
     },
     "metadata": {},
     "execution_count": 74
    }
   ],
   "source": [
    "print(info_list)\n",
    "print(\"--------\")\n",
    "\n",
    "def get_all_except_True_(my_list):\n",
    "    for elementos in my_list:\n",
    "        if elementos == True:\n",
    "            continue\n",
    "        print(elementos)\n",
    "    return \"I love the mountain\"\n",
    "get_all_except_True_(my_list = info_list)"
   ]
  },
  {
   "cell_type": "markdown",
   "metadata": {},
   "source": [
    "### Exercise 2. \n",
    "\n",
    "In the case of not being able to solve a question containing the code in a function, try to do it without defining one. "
   ]
  },
  {
   "cell_type": "markdown",
   "metadata": {},
   "source": [
    "1. Create a variable called `zone` and give it the value of **None**. Loop through `whichever_list` and update `zone` to **True** if and only if, you have slept more than 7 hours, you like the beach and the sum of the hours you have slept plus the number of The Bridge is less than 24. For any other case, `zone` will be **False**. This function should return the value of `zone` and will be called `zone_function`.\n"
   ]
  },
  {
   "source": [
    "## No hagas caso a esto, la solución está en la siguiente celda"
   ],
   "cell_type": "markdown",
   "metadata": {}
  },
  {
   "cell_type": "code",
   "execution_count": 79,
   "metadata": {},
   "outputs": [
    {
     "output_type": "error",
     "ename": "SyntaxError",
     "evalue": "invalid syntax (<ipython-input-79-a74394c9f596>, line 35)",
     "traceback": [
      "\u001b[0;36m  File \u001b[0;32m\"<ipython-input-79-a74394c9f596>\"\u001b[0;36m, line \u001b[0;32m35\u001b[0m\n\u001b[0;31m    elif\u001b[0m\n\u001b[0m         ^\u001b[0m\n\u001b[0;31mSyntaxError\u001b[0m\u001b[0;31m:\u001b[0m invalid syntax\n"
     ]
    }
   ],
   "source": [
    "print(info_list)\n",
    "print(\"---------\")\n",
    "def update_zone(my_list):\n",
    "    zone = None\n",
    "    for elementos in my_list:\n",
    "        if elementos == my_list[-1]:\n",
    "            print(elementos)\n",
    "        elif elementos == True:\n",
    "            print(elementos)\n",
    "        for i in elementos:\n",
    "            i = int(i)\n",
    "            if i == elementos[0]:\n",
    "                print(i)\n",
    "            elif i == elementos[-1]:\n",
    "                print(i)\n",
    "                zone = True\n",
    "        return(zone)\n",
    "\n",
    "\n",
    "\n",
    "update_zone(my_list = info_list)\n",
    "\n",
    "#Segundo INTENTO ---------\n",
    "\n",
    "def update_zona1 (my_list):\n",
    "    zone = None\n",
    "    #Para sumar las horas de sueño que es str al número de la calle, tengo que convertir el último elemento de la lista en int\n",
    "\n",
    "    my_list[-1] = int(my_list[-1])\n",
    "    for elem in my_list:\n",
    "        if elem == (my_list[0] + my_list[-1]):\n",
    "            print(my_list)\n",
    "        if elem == my_list[-1]:\n",
    "            print(elem)\n",
    "        elif \n",
    "\n",
    "\n",
    "\n",
    "def zone_function (my_list):\n",
    "    zone = None\n",
    "    my_list[-1] = int(my_list[-1])\n",
    "    if ((my_list[0] + my_list[-1]) < 24) and my_list[-1] > 7 and my_list[2] == True:\n",
    "        zone = True\n",
    "    return zone\n",
    "\n",
    "zone_function(my_list = info_list) "
   ]
  },
  {
   "cell_type": "code",
   "execution_count": 80,
   "metadata": {},
   "outputs": [
    {
     "output_type": "execute_result",
     "data": {
      "text/plain": [
       "True"
      ]
     },
     "metadata": {},
     "execution_count": 80
    }
   ],
   "source": [
    "def zone_function (my_list):\n",
    "    zone = None\n",
    "    my_list[-1] = int(my_list[-1])\n",
    "    if ((my_list[0] + my_list[-1]) < 24) and my_list[-1] > 7 and my_list[2] == True:\n",
    "        zone = True\n",
    "    return zone\n",
    "\n",
    "zone_function(my_list = info_list)"
   ]
  },
  {
   "cell_type": "markdown",
   "metadata": {},
   "source": [
    "2. Define a function called `test_function` that receives only one parameter called `zone_value` and that returns the value of `zone_value` if it is **True**. Once you've defined `test_function` you should call it with the value returned by the `zone_function` as an argument."
   ]
  },
  {
   "cell_type": "code",
   "execution_count": 89,
   "metadata": {},
   "outputs": [
    {
     "output_type": "execute_result",
     "data": {
      "text/plain": [
       "True"
      ]
     },
     "metadata": {},
     "execution_count": 89
    }
   ],
   "source": [
    "#Tengo que definir la función zone_value\n",
    "# Tengo que introducir el parámetro zone_value\n",
    "def test_function (zone_value):\n",
    "    if zone_value == True:\n",
    "        return zone_value\n",
    "\n",
    "test_function(zone_value = zone_function(my_list = info_list))\n",
    "\n",
    "#Para introducir una función dentro de una función, tengo que introducirla entera, con los argumentos entre paréntesis.\n",
    "\n",
    "#Antes he puesto simplemente zone_function a secas, sin incluir el parámetro. Por lo tanto, no retorna nada\n",
    "\n",
    "#Si lees hasta el final, muchas gracias por prestarme tanta atención ;)\n"
   ]
  },
  {
   "cell_type": "code",
   "execution_count": 88,
   "metadata": {},
   "outputs": [
    {
     "output_type": "stream",
     "name": "stdout",
     "text": [
      "True\n"
     ]
    }
   ],
   "source": [
    "print(zone_function(info_list))"
   ]
  },
  {
   "cell_type": "markdown",
   "metadata": {},
   "source": [
    "3. Define a function that asks the user if they like the mountain and, if not, call the `zone_function` function."
   ]
  },
  {
   "cell_type": "code",
   "execution_count": 100,
   "metadata": {},
   "outputs": [
    {
     "output_type": "execute_result",
     "data": {
      "text/plain": [
       "'I like the mountain'"
      ]
     },
     "metadata": {},
     "execution_count": 100
    }
   ],
   "source": [
    "def ask_user (my_list):\n",
    "    for elem in my_list:\n",
    "        if elem != True:\n",
    "            return \"I like the mountain\"\n",
    "        else:\n",
    "            return (zone_function(my_list = info_list))\n",
    "ask_user(my_list = info_list)"
   ]
  },
  {
   "cell_type": "markdown",
   "metadata": {},
   "source": [
    "### Bonus Track.\n",
    "\n",
    "**This Bonus Track could take you some days, it is very ok, sometimes coding is all about time.**\n",
    "\n",
    "This week, you'll also learn about `.py` files and you will be able to implement this program into that kind of file. Not yet, tho. "
   ]
  },
  {
   "cell_type": "markdown",
   "metadata": {},
   "source": [
    "1. Program **a calculator** that asks for two numbers and two operators on the screen. One operation must be performed first and then another. Try to define as many functions as possible."
   ]
  },
  {
   "cell_type": "code",
   "execution_count": null,
   "metadata": {},
   "outputs": [],
   "source": [
    "def calculadora (x, y, z):\n",
    "    x = int(input(\"\"))\n",
    "    y = \n",
    "    z= =int(input(\"\"))\n",
    "    operación = x, y, z\n",
    "    return operación \n"
   ]
  },
  {
   "cell_type": "markdown",
   "metadata": {},
   "source": [
    "!['ha'](https://i.pinimg.com/originals/c6/4e/fc/c64efc9adaedbf446f328698e8b67388.jpg)"
   ]
  },
  {
   "cell_type": "code",
   "execution_count": null,
   "metadata": {},
   "outputs": [],
   "source": []
  }
 ],
 "metadata": {
  "kernelspec": {
   "name": "python3",
   "display_name": "Python 3.9.0 64-bit",
   "metadata": {
    "interpreter": {
     "hash": "7812ea015bdcee6f23a998adcdd2ef97c151c0c241b7b7070987d9313e41299d"
    }
   }
  },
  "language_info": {
   "codemirror_mode": {
    "name": "ipython",
    "version": 3
   },
   "file_extension": ".py",
   "mimetype": "text/x-python",
   "name": "python",
   "nbconvert_exporter": "python",
   "pygments_lexer": "ipython3",
   "version": "3.9.0-final"
  }
 },
 "nbformat": 4,
 "nbformat_minor": 4
}