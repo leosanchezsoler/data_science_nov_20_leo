{
 "cells": [
  {
   "cell_type": "markdown",
   "metadata": {},
   "source": [
    "# Python | day 4 | for loop, functions (feat. basics & if/else) "
   ]
  },
  {
   "cell_type": "markdown",
   "metadata": {},
   "source": [
    "### Exercise 0.1 - Python Basics\n",
    "\n",
    "1. What do we use to make a line break in a print? And for a tab stop?\n",
    "\n",
    "have a look ---> http://elclubdelautodidacta.es/wp/2012/04/python-capitulo-31-exprimiendo-la-funcion-print/"
   ]
  },
  {
   "cell_type": "code",
   "execution_count": 52,
   "metadata": {},
   "outputs": [
    {
     "output_type": "stream",
     "name": "stdout",
     "text": [
      "Para separar una línea de otra en un print, se utiliza \n blablabla\nPara hacer un espacio se puede utilizar un separador            que añade el espacio \nPara tabular se utiliza el tabulador dentro del print\tque añade una tabulación a cada string\nPara hacer una separación al final de los elementos, podemos usar end------Finalmente, si queremos que la slida del print no provoque un cambio de línea y nos deje el cursor para que el siguiente print continue justo donde acabó el anterior\n"
     ]
    }
   ],
   "source": [
    "print(\"Para separar una línea de otra en un print, se utiliza \\n blablabla\")\n",
    "print(\"Para hacer un espacio se puede utilizar un separador\", \"que añade el espacio \", sep=\"            \")\n",
    "print(\"Para tabular se utiliza el tabulador dentro del print\", \"que añade una tabulación a cada string\", sep=\"\\t\")\n",
    "print(\"Para hacer una separación al final de los elementos, podemos usar end\", end=\"------\")\n",
    "print(\"Finalmente, si queremos que la slida del print no provoque un cambio de línea\", end=\" \"); print(\"y nos deje el cursor para que el siguiente print continue justo donde acabó el anterior\")"
   ]
  },
  {
   "cell_type": "markdown",
   "metadata": {},
   "source": [
    "2. Make a converter from dollars to euros. You'll have to use input."
   ]
  },
  {
   "cell_type": "code",
   "execution_count": 53,
   "metadata": {},
   "outputs": [
    {
     "output_type": "stream",
     "name": "stdout",
     "text": [
      "El valor en dólares es 58.8\n"
     ]
    }
   ],
   "source": [
    "def currency(cantidad):\n",
    "    cambio_divisa = 0.84\n",
    "    dolares = cantidad * cambio_divisa\n",
    "    return f\"El valor en dólares es {dolares}\"\n",
    "    \n",
    "print(currency(70))"
   ]
  },
  {
   "cell_type": "markdown",
   "metadata": {},
   "source": [
    "3. Declare two strings, one will be your first name and the other your last name. Declare your age in another variable. Print a sentence which include those variables, using ```f{}```. Wtf is that? check this out **-->** https://realpython.com/python-string-formatting/"
   ]
  },
  {
   "cell_type": "code",
   "execution_count": 54,
   "metadata": {},
   "outputs": [
    {
     "output_type": "stream",
     "name": "stdout",
     "text": [
      "Hola, me llamo LeoSánchez y tengo 23 años\n"
     ]
    }
   ],
   "source": [
    "def mis_datos():\n",
    "    first_name = input(\"Your name:\")\n",
    "    last_name = input(\"Your last name:\")\n",
    "    age = int(input(\"Your age:\"))\n",
    "    return f\"Hola, me llamo {first_name}{last_name} y tengo {age} años\"\n",
    "print(mis_datos())"
   ]
  },
  {
   "cell_type": "markdown",
   "metadata": {},
   "source": [
    "4. Given the list `[4,7, -3]`, calculate its maximum, minimum and sum."
   ]
  },
  {
   "cell_type": "code",
   "execution_count": 55,
   "metadata": {},
   "outputs": [
    {
     "output_type": "stream",
     "name": "stdout",
     "text": [
      "El máximo de la lista es 7, el mínimo -3 y la suma equivale a 8\n"
     ]
    }
   ],
   "source": [
    "#El máximo de la lista es 7\n",
    "#El mínimo de la lista es -3\n",
    "#La suma de la lista es 4 + 7 +(-3)\n",
    "\n",
    "lista = [4, 7, -3]\n",
    "def max_min_sum(l):\n",
    "    maximo = max(l)\n",
    "    mínimo = min(l)\n",
    "    suma = sum(l)\n",
    "    return f\"El máximo de la lista es {maximo}, el mínimo {mínimo} y la suma equivale a {suma}\"\n",
    "\n",
    "print(max_min_sum(lista))"
   ]
  },
  {
   "cell_type": "markdown",
   "metadata": {},
   "source": [
    "5. Round `38.38276252728` to 5 decimal places.\n"
   ]
  },
  {
   "cell_type": "code",
   "execution_count": 1,
   "metadata": {},
   "outputs": [
    {
     "output_type": "stream",
     "name": "stdout",
     "text": [
      "38.38276\n"
     ]
    }
   ],
   "source": [
    "x = 38.38276252728\n",
    "y = round(x, 5)\n",
    "\n",
    "print(y)"
   ]
  },
  {
   "cell_type": "markdown",
   "metadata": {},
   "source": [
    "6. Make the phrase `\"Born to be wild\"` uppercase, then lowercase, divide it by spaces, and finally, replace `\"wild\"` with `\"Geek.\"`"
   ]
  },
  {
   "cell_type": "code",
   "execution_count": 9,
   "metadata": {},
   "outputs": [
    {
     "output_type": "stream",
     "name": "stdout",
     "text": [
      "BORN TO BE WILD\nborn to be wild\n15\nBorn to be Geek\n"
     ]
    }
   ],
   "source": [
    "salvaje = \"Born to be wild\"\n",
    "print(salvaje.upper())\n",
    "print(salvaje.lower())\n",
    "\n",
    "print(len(salvaje))\n",
    "\n",
    "\n",
    "geekxsalvaje = salvaje.replace(\"wild\", \"Geek\")\n",
    "print(geekxsalvaje)\n"
   ]
  },
  {
   "cell_type": "markdown",
   "metadata": {},
   "source": [
    "7. Create a program where two inputs are collected, and the output of the program is a boolean which tell the user whether those inputs are the same or not.\n"
   ]
  },
  {
   "source": [
    "#Creo una función en la que se comprueba si dos elementos son iguales\n",
    "\n",
    "def same_input_check():\n",
    "    x = input(\"Introduce el input 1\")\n",
    "    y = input(\"Introduce el input 2\")\n",
    "    if x == y:\n",
    "        True\n",
    "        return f\"{x} y {y} son iguales\"\n",
    "    else:\n",
    "        return f\"{x} y {y} no coinciden\"\n",
    "\n",
    "    \n",
    "same_input_check()"
   ],
   "cell_type": "code",
   "metadata": {},
   "execution_count": 56,
   "outputs": [
    {
     "output_type": "execute_result",
     "data": {
      "text/plain": [
       "'15 y 16 no coinciden'"
      ]
     },
     "metadata": {},
     "execution_count": 56
    }
   ]
  },
  {
   "cell_type": "markdown",
   "metadata": {},
   "source": [
    "### Exercise 0.2 - If/else\n",
    "\n",
    "1. Create a decission tree using if/else sentences, to determine the price of the movies ticket. If the client's age is between 5 and 15 years, both included, the price will be 5, if she/he is retired and the movie is one of the `peliculas_discount`, the price is 4. In any other case, it will be 7 euros.\n",
    "\n",
    "You should create the list of `peliculas_discount` with your favourites movies. "
   ]
  },
  {
   "cell_type": "code",
   "execution_count": null,
   "metadata": {},
   "outputs": [],
   "source": []
  },
  {
   "cell_type": "markdown",
   "metadata": {},
   "source": [
    "### Exercise 1 - For\n",
    "\n",
    "If you find a way of solving any of these questions below without using for loop, don't hesitate to do it. "
   ]
  },
  {
   "cell_type": "markdown",
   "metadata": {},
   "source": [
    "1. Prints the numbers between 0 and 70 that are multiples of 3 and 5."
   ]
  },
  {
   "cell_type": "code",
   "execution_count": null,
   "metadata": {},
   "outputs": [],
   "source": [
    "N = 70\n",
    "print(range(1,N))\n",
    "print(\"Lista del 0 al 70:\", list(range(N)), end=\"\\n\")\n",
    "\n",
    "#####\n",
    "l = [] #Lista para múltiplos de 3\n",
    "j = [] #Lista para múltiplos de 5\n",
    "\n",
    "#71 porque el final del rango excluye el últmo elemento\n",
    "for i in list(range(1,N)):\n",
    "    acum = 0\n",
    "    if i % 3 ==0:\n",
    "        l.append(i)\n",
    "    if i % 5 == 0:\n",
    "        j.append(i)\n",
    "print(\"----------------\")\n",
    "print (\"Lista de los múltiplos de 5:\", j)\n",
    "print(\"------------\")\n",
    "print(\"Lista de múltiplos de 3:\", l)\n",
    "\n",
    "\n",
    "#De este modo quedan por separado. No sé cómo lo pedíais\n",
    "#########"
   ]
  },
  {
   "cell_type": "markdown",
   "metadata": {},
   "source": [
    "2. Print the following pattern:\n",
    "\n",
    "```python\n",
    "1\n",
    "22\n",
    "333\n",
    "4444\n",
    "55555\n",
    "666666\n",
    "7777777\n",
    "88888888\n",
    "999999999\n",
    "```\n"
   ]
  },
  {
   "cell_type": "code",
   "execution_count": 25,
   "metadata": {},
   "outputs": [
    {
     "output_type": "stream",
     "name": "stdout",
     "text": [
      "\n1\n22\n333\n4444\n55555\n666666\n7777777\n88888888\n999999999\n"
     ]
    }
   ],
   "source": [
    "depth = 10\n",
    "for number in range(depth):\n",
    "    for i in range(number):\n",
    "        print(number,end=\"\")\n",
    "    print(\"\")"
   ]
  },
  {
   "cell_type": "markdown",
   "metadata": {
    "collapsed": true
   },
   "source": [
    "3. Given to list of same lenght, create a third list which contains the sum of both of the list, element by element. "
   ]
  },
  {
   "cell_type": "markdown",
   "metadata": {},
   "source": [
    "```python\n",
    "Example: \n",
    "a = [1,2]\n",
    "b = [4,5]\n",
    "new_list = [5,7]\n",
    "```\n"
   ]
  },
  {
   "cell_type": "code",
   "execution_count": 99,
   "metadata": {},
   "outputs": [
    {
     "output_type": "stream",
     "name": "stdout",
     "text": [
      "1\n4\n5\n2\n4\n5\n"
     ]
    }
   ],
   "source": [
    "a = [1,2]\n",
    "b = [4,5]\n",
    "acum = 0\n",
    "for d in range(a, b):\n",
    "    print(d)\n",
    "    for x in b:\n",
    "        print (x)"
   ]
  },
  {
   "cell_type": "markdown",
   "metadata": {},
   "source": [
    "4. Get first, second best scores from the list.\n",
    "List contains duplicates."
   ]
  },
  {
   "cell_type": "code",
   "execution_count": 38,
   "metadata": {},
   "outputs": [
    {
     "output_type": "stream",
     "name": "stdout",
     "text": [
      "{0, 1, 2, 45, 83, 84, 85, 86, 23}\n86\n85\n"
     ]
    }
   ],
   "source": [
    "scores = [86,86,85,85,85,83,23,45,84,1,2,0]\n",
    "conjunto_scores = set(scores)\n",
    "print(conjunto_scores)\n",
    "scores = list(conjunto_scores)\n",
    "\n",
    "for pos, val in enumerate(scores):\n",
    "    if val == max(scores):\n",
    "        print(val)\n",
    "        print(sorted(scores)[-2])"
   ]
  },
  {
   "cell_type": "code",
   "execution_count": null,
   "metadata": {},
   "outputs": [],
   "source": []
  },
  {
   "cell_type": "markdown",
   "metadata": {},
   "source": [
    "5. From the given list:\n",
    "    \n",
    "    a) Create separate lists of strings and numbers.\n",
    "\n",
    "    b) Sort the strings' list in ascending order\n",
    "\n",
    "    c) Sort the strings' list in descending order\n",
    "\n",
    "    d) Sort the number's list from lowest to highest\n",
    "\n",
    "    e) Sort the number's list from highest to lowest"
   ]
  },
  {
   "cell_type": "code",
   "execution_count": 84,
   "metadata": {},
   "outputs": [
    {
     "output_type": "stream",
     "name": "stdout",
     "text": [
      "Lista strings ['Mobile', 'Laptop', 'Camera', 'Speakers', 'Television', 'Laptop Case', 'Camera Lens']\n--------\nLista numbers [100, 310.28, 27.0, 1000]\n-----------\n[27.0, 100, 310.28, 1000]\nLista numbers invertida [1000, 310.28, 100, 27.0]\n---------\nLista strings ordenada alfabéticamente ['Camera', 'Camera Lens', 'Laptop', 'Laptop Case', 'Mobile', 'Speakers', 'Television']\n---------\nLista strings invertida ['Television', 'Speakers', 'Mobile', 'Laptop Case', 'Laptop', 'Camera Lens', 'Camera']\n"
     ]
    }
   ],
   "source": [
    "gadgets = [\"Mobile\", \"Laptop\", 100, \"Camera\", 310.28, \"Speakers\", 27.00, \n",
    "           \"Television\", 1000, \"Laptop Case\", \"Camera Lens\"]\n",
    "\n",
    "gadgets = [\"Mobile\", \"Laptop\", 100, \"Camera\", 310.28, \"Speakers\", 27.00, \n",
    "           \"Television\", 1000, \"Laptop Case\", \"Camera Lens\"]\n",
    "\n",
    "\n",
    "lista_strings = []\n",
    "lista_numbers = []\n",
    "for ele in gadgets:\n",
    "    if type(ele) == str:\n",
    "        lista_strings.append(ele)\n",
    "    elif type(ele) == int or type(ele) == float:\n",
    "        lista_numbers.append(ele) \n",
    "print(\"Lista strings\", lista_strings)\n",
    "print(\"--------\")\n",
    "print(\"Lista numbers\", lista_numbers)\n",
    "print(\"-----------\")\n",
    "\n",
    "lista_numbers.sort()\n",
    "print(lista_numbers)\n",
    "\n",
    "lista_numbers_invertida = sorted(lista_numbers, reverse=True)\n",
    "print(\"Lista numbers invertida\", lista_numbers_invertida)\n",
    "print(\"---------\")\n",
    "lista_strings.sort()\n",
    "print(\"Lista strings ordenada alfabéticamente\", lista_strings)\n",
    "print(\"---------\")\n",
    "\n",
    "lista_strings_invertida = sorted(lista_strings, reverse= True)\n",
    "print(\"Lista strings invertida\", lista_strings_invertida)"
   ]
  },
  {
   "cell_type": "code",
   "execution_count": null,
   "metadata": {},
   "outputs": [],
   "source": []
  },
  {
   "cell_type": "markdown",
   "metadata": {},
   "source": [
    "6. Make a list of ten aliens, each of which is one color: 'red', 'green', or 'blue'.\n",
    "    - You can shorten this to 'r', 'g', and 'b' if you want, but if you choose this option you have to include a comment explaining what r, g, and b stand for.\n",
    "    - Red aliens are worth 5 points, green aliens are worth 10 points, and blue aliens are worth 20 points.\n",
    "    - Use a for loop to determine the number of points a player would earn for destroying all of the aliens in your list."
   ]
  },
  {
   "cell_type": "code",
   "execution_count": 85,
   "metadata": {},
   "outputs": [
    {
     "output_type": "stream",
     "name": "stdout",
     "text": [
      "Puntuación actual: 35\n"
     ]
    }
   ],
   "source": [
    "#El objetivo de esto es hacer un sumatorio de todos los puntos que da cada alienigena cuando se mata.\n",
    "\n",
    "aliens_list = [\"red\", \"green\", \"blue\", \"purple\", \"yellow\", \"white\", \"black\", \"pink\", \"cyan\", \"silver\"] #esta es la lista de alienigenas\n",
    "\n",
    "len(aliens_list) #la longitud de la lista de alienígenas es de 10 elementos\n",
    "\n",
    "#### sería conveniente crear un acumulador para ir sumando los puntos\n",
    "puntuacion = 0\n",
    "\n",
    "for color in aliens_list:\n",
    "    if color == \"red\":\n",
    "        puntuacion_actual = puntuacion + 5\n",
    "    elif color == \"green\":\n",
    "        puntuacion_actual +=10\n",
    "    elif color == \"blue\":\n",
    "        puntuacion_actual +=20\n",
    "print(\"Puntuación actual:\", puntuacion_actual)"
   ]
  },
  {
   "cell_type": "markdown",
   "metadata": {},
   "source": [
    "### Exercise 2 - Functions"
   ]
  },
  {
   "cell_type": "markdown",
   "metadata": {},
   "source": [
    "1. Write a function program to sum up two given different numbers. "
   ]
  },
  {
   "cell_type": "code",
   "execution_count": null,
   "metadata": {},
   "outputs": [],
   "source": [
    "def sumatorio ():\n",
    "    x = int(input())\n",
    "    y = int(input())\n",
    "    return f\"La suma de {x} y {y} es igual a {x+y}\"\n",
    "print(sumatorio())"
   ]
  },
  {
   "cell_type": "markdown",
   "metadata": {},
   "source": [
    "2. Write a Python program to convert a tuple of characters into a string.\n",
    "\n",
    "    - Sample tuple: `(\"T\", \"H\", \"E\", \" \", \"B\", \"R\", \"I\", \"D\", \"G\", \"E\")`\n",
    "    - Expected output : `\"THE BRIDGE\"`\n",
    "    \n",
    "Hint: Turn it into a list. "
   ]
  },
  {
   "cell_type": "code",
   "execution_count": 83,
   "metadata": {},
   "outputs": [
    {
     "output_type": "stream",
     "name": "stdout",
     "text": [
      "Suma de los elementos de la tupla en un string: THE BRIDGE\n"
     ]
    }
   ],
   "source": [
    "Sample_tuple = (\"T\", \"H\", \"E\", \" \", \"B\", \"R\", \"I\", \"D\", \"G\", \"E\")\n",
    "lista_tupla = list(Sample_tuple)\n",
    "\n",
    "def convertidor_string(l):\n",
    "    string1 = \"\"\n",
    "    for ele in l:\n",
    "        string1 += ele\n",
    "    return string1\n",
    "print(\"Suma de los elementos de la tupla en un string:\", convertidor_string(lista_tupla))"
   ]
  },
  {
   "cell_type": "markdown",
   "metadata": {},
   "source": [
    "3. Write a Python program to generate a list where the values are square of numbers between 1 and 30 (both included), and return a list of first and last 5 elements of the list."
   ]
  },
  {
   "cell_type": "code",
   "execution_count": 82,
   "metadata": {},
   "outputs": [
    {
     "output_type": "stream",
     "name": "stdout",
     "text": [
      "[1, 4, 9, 16, 25]\n[676, 729, 784, 841, 900]\n"
     ]
    }
   ],
   "source": [
    "#Necesitamos el rango de 30\n",
    "#Necesitamos un if\n",
    "#Crear una función con condiciones\n",
    "\n",
    "def valorescuadrado():\n",
    "    l = list()\n",
    "    for i in range(1, 31):\n",
    "        l.append(i**2)\n",
    "    print(l[:5])\n",
    "    print(l[-5:])\n",
    "valorescuadrado()"
   ]
  },
  {
   "cell_type": "markdown",
   "metadata": {},
   "source": [
    "4. Create a Python program that calculates the factorial of a number.\n",
    "\n",
    "The program will ask the user to enter a number (input) and will return the factorial of that number."
   ]
  },
  {
   "cell_type": "code",
   "execution_count": 2,
   "metadata": {},
   "outputs": [
    {
     "output_type": "execute_result",
     "data": {
      "text/plain": [
       "'Factorial of 7 is 5040'"
      ]
     },
     "metadata": {},
     "execution_count": 2
    }
   ],
   "source": [
    "def factorializador():\n",
    "    num = int(input(\"Enter the number:\"))\n",
    "    factorial = 1\n",
    "    if num < 0:\n",
    "        print(\"Sorry, factorial does not exist for negative numbers\")\n",
    "    elif num ==0:\n",
    "        return f\"The factorial of {num} is 1\"\n",
    "    else:\n",
    "        for i in range(1, num + 1):\n",
    "            factorial = factorial * i\n",
    "        return f\"Factorial of {num} is {factorial}\"\n",
    "    return (num)\n",
    "\n",
    "factorializador()"
   ]
  },
  {
   "cell_type": "markdown",
   "metadata": {},
   "source": [
    "5. Create a program that calculates the average.\n",
    "\n",
    "The program will ask the user to specify how many numbers you want to enter, and will show a prompt to include number by number to a list, and then calculate the average of each number in that list."
   ]
  },
  {
   "cell_type": "code",
   "execution_count": 46,
   "metadata": {},
   "outputs": [
    {
     "output_type": "error",
     "ename": "ValueError",
     "evalue": "invalid literal for int() with base 10: '5 4 2'",
     "traceback": [
      "\u001b[0;31m---------------------------------------------------------------------------\u001b[0m",
      "\u001b[0;31mValueError\u001b[0m                                Traceback (most recent call last)",
      "\u001b[0;32m<ipython-input-46-995d4125611e>\u001b[0m in \u001b[0;36m<module>\u001b[0;34m\u001b[0m\n\u001b[1;32m      7\u001b[0m         \u001b[0mlst\u001b[0m\u001b[0;34m.\u001b[0m\u001b[0mappend\u001b[0m\u001b[0;34m(\u001b[0m\u001b[0mele\u001b[0m\u001b[0;34m)\u001b[0m\u001b[0;34m\u001b[0m\u001b[0;34m\u001b[0m\u001b[0m\n\u001b[1;32m      8\u001b[0m     \u001b[0mprint\u001b[0m\u001b[0;34m(\u001b[0m\u001b[0mlst\u001b[0m\u001b[0;34m)\u001b[0m\u001b[0;34m\u001b[0m\u001b[0;34m\u001b[0m\u001b[0m\n\u001b[0;32m----> 9\u001b[0;31m \u001b[0maverage\u001b[0m\u001b[0;34m(\u001b[0m\u001b[0;34m)\u001b[0m\u001b[0;34m\u001b[0m\u001b[0;34m\u001b[0m\u001b[0m\n\u001b[0m\u001b[1;32m     10\u001b[0m \u001b[0;34m\u001b[0m\u001b[0m\n\u001b[1;32m     11\u001b[0m \u001b[0;31m#### Sé hacer una función para la media:\u001b[0m\u001b[0;34m\u001b[0m\u001b[0;34m\u001b[0m\u001b[0;34m\u001b[0m\u001b[0m\n",
      "\u001b[0;32m<ipython-input-46-995d4125611e>\u001b[0m in \u001b[0;36maverage\u001b[0;34m()\u001b[0m\n\u001b[1;32m      1\u001b[0m \u001b[0;32mdef\u001b[0m \u001b[0maverage\u001b[0m \u001b[0;34m(\u001b[0m\u001b[0;34m)\u001b[0m\u001b[0;34m:\u001b[0m\u001b[0;34m\u001b[0m\u001b[0;34m\u001b[0m\u001b[0m\n\u001b[1;32m      2\u001b[0m     \u001b[0mlst\u001b[0m \u001b[0;34m=\u001b[0m \u001b[0;34m[\u001b[0m\u001b[0;34m]\u001b[0m\u001b[0;34m\u001b[0m\u001b[0;34m\u001b[0m\u001b[0m\n\u001b[0;32m----> 3\u001b[0;31m     \u001b[0mn\u001b[0m \u001b[0;34m=\u001b[0m \u001b[0mint\u001b[0m\u001b[0;34m(\u001b[0m\u001b[0minput\u001b[0m\u001b[0;34m(\u001b[0m\u001b[0;34m\"introduce el número de elementos separados por un espacio\"\u001b[0m\u001b[0;34m)\u001b[0m\u001b[0;34m)\u001b[0m\u001b[0;34m\u001b[0m\u001b[0;34m\u001b[0m\u001b[0m\n\u001b[0m\u001b[1;32m      4\u001b[0m     \u001b[0;32mfor\u001b[0m \u001b[0mi\u001b[0m \u001b[0;32min\u001b[0m \u001b[0mrange\u001b[0m\u001b[0;34m(\u001b[0m\u001b[0;36m0\u001b[0m\u001b[0;34m,\u001b[0m\u001b[0mn\u001b[0m\u001b[0;34m)\u001b[0m\u001b[0;34m:\u001b[0m\u001b[0;34m\u001b[0m\u001b[0;34m\u001b[0m\u001b[0m\n\u001b[1;32m      5\u001b[0m         \u001b[0mele\u001b[0m\u001b[0;34m=\u001b[0m \u001b[0mint\u001b[0m\u001b[0;34m(\u001b[0m\u001b[0minput\u001b[0m\u001b[0;34m(\u001b[0m\u001b[0;34m)\u001b[0m\u001b[0;34m)\u001b[0m\u001b[0;34m\u001b[0m\u001b[0;34m\u001b[0m\u001b[0m\n",
      "\u001b[0;31mValueError\u001b[0m: invalid literal for int() with base 10: '5 4 2'"
     ]
    }
   ],
   "source": [
    "def average ():\n",
    "    lst = []\n",
    "    n = int(input(\"introduce el número de elementos separados por un espacio\"))\n",
    "    for i in range(0,n):\n",
    "        ele= int(input())\n",
    "\n",
    "        lst.append(ele)\n",
    "    print(lst)\n",
    "average()\n",
    "\n",
    "#### Sé hacer una función para la media:\n",
    "def average ():\n",
    "    x = int(input(\"Introduce los números\"))\n",
    "\n",
    "\n",
    "def cal_average(num):\n",
    "    num = int(input(\"introduce los números:\"))\n",
    "    sum_num = 0\n",
    "    for t in num:\n",
    "        sum_num = sum_num + t\n",
    "    avg = sum_num/len(num)\n",
    "    return avg\n",
    "print(cal_average (5))"
   ]
  },
  {
   "cell_type": "code",
   "execution_count": 51,
   "metadata": {},
   "outputs": [
    {
     "output_type": "error",
     "ename": "TypeError",
     "evalue": "unsupported operand type(s) for +: 'int' and 'str'",
     "traceback": [
      "\u001b[0;31m---------------------------------------------------------------------------\u001b[0m",
      "\u001b[0;31mTypeError\u001b[0m                                 Traceback (most recent call last)",
      "\u001b[0;32m<ipython-input-51-467fcb4f933b>\u001b[0m in \u001b[0;36m<module>\u001b[0;34m\u001b[0m\n\u001b[1;32m      6\u001b[0m     \u001b[0mavg\u001b[0m \u001b[0;34m=\u001b[0m \u001b[0msum_num\u001b[0m\u001b[0;34m/\u001b[0m\u001b[0mlen\u001b[0m\u001b[0;34m(\u001b[0m\u001b[0mnum\u001b[0m\u001b[0;34m)\u001b[0m\u001b[0;34m\u001b[0m\u001b[0;34m\u001b[0m\u001b[0m\n\u001b[1;32m      7\u001b[0m     \u001b[0;32mreturn\u001b[0m \u001b[0mavg\u001b[0m\u001b[0;34m\u001b[0m\u001b[0;34m\u001b[0m\u001b[0m\n\u001b[0;32m----> 8\u001b[0;31m \u001b[0mprint\u001b[0m\u001b[0;34m(\u001b[0m\u001b[0mcal_average\u001b[0m \u001b[0;34m(\u001b[0m\u001b[0;34m\"5\"\u001b[0m\u001b[0;34m)\u001b[0m\u001b[0;34m)\u001b[0m\u001b[0;34m\u001b[0m\u001b[0;34m\u001b[0m\u001b[0m\n\u001b[0m",
      "\u001b[0;32m<ipython-input-51-467fcb4f933b>\u001b[0m in \u001b[0;36mcal_average\u001b[0;34m(num)\u001b[0m\n\u001b[1;32m      3\u001b[0m     \u001b[0;32mfor\u001b[0m \u001b[0mt\u001b[0m \u001b[0;32min\u001b[0m \u001b[0mnum\u001b[0m\u001b[0;34m:\u001b[0m\u001b[0;34m\u001b[0m\u001b[0;34m\u001b[0m\u001b[0m\n\u001b[1;32m      4\u001b[0m         \u001b[0mt\u001b[0m \u001b[0;34m=\u001b[0m \u001b[0mstr\u001b[0m\u001b[0;34m(\u001b[0m\u001b[0mt\u001b[0m\u001b[0;34m)\u001b[0m\u001b[0;34m\u001b[0m\u001b[0;34m\u001b[0m\u001b[0m\n\u001b[0;32m----> 5\u001b[0;31m         \u001b[0msum_num\u001b[0m \u001b[0;34m=\u001b[0m \u001b[0msum_num\u001b[0m \u001b[0;34m+\u001b[0m \u001b[0mt\u001b[0m\u001b[0;34m\u001b[0m\u001b[0;34m\u001b[0m\u001b[0m\n\u001b[0m\u001b[1;32m      6\u001b[0m     \u001b[0mavg\u001b[0m \u001b[0;34m=\u001b[0m \u001b[0msum_num\u001b[0m\u001b[0;34m/\u001b[0m\u001b[0mlen\u001b[0m\u001b[0;34m(\u001b[0m\u001b[0mnum\u001b[0m\u001b[0;34m)\u001b[0m\u001b[0;34m\u001b[0m\u001b[0;34m\u001b[0m\u001b[0m\n\u001b[1;32m      7\u001b[0m     \u001b[0;32mreturn\u001b[0m \u001b[0mavg\u001b[0m\u001b[0;34m\u001b[0m\u001b[0;34m\u001b[0m\u001b[0m\n",
      "\u001b[0;31mTypeError\u001b[0m: unsupported operand type(s) for +: 'int' and 'str'"
     ]
    }
   ],
   "source": [
    "def cal_average(num):\n",
    "    sum_num = 0\n",
    "    for t in num:\n",
    "        t = str(t)\n",
    "        sum_num = sum_num + t\n",
    "    avg = sum_num/len(num)\n",
    "    return avg\n",
    "print(cal_average (5))"
   ]
  },
  {
   "cell_type": "markdown",
   "metadata": {},
   "source": [
    "# If you made it till here you did a fantastic work!"
   ]
  },
  {
   "cell_type": "markdown",
   "metadata": {},
   "source": [
    "![\"holo\"](https://img-9gag-fun.9cache.com/photo/aNg9wMK_460s.jpg)"
   ]
  },
  {
   "cell_type": "code",
   "execution_count": null,
   "metadata": {},
   "outputs": [],
   "source": []
  }
 ],
 "metadata": {
  "kernelspec": {
   "name": "python3",
   "display_name": "Python 3.9.0 64-bit",
   "metadata": {
    "interpreter": {
     "hash": "7812ea015bdcee6f23a998adcdd2ef97c151c0c241b7b7070987d9313e41299d"
    }
   }
  },
  "language_info": {
   "codemirror_mode": {
    "name": "ipython",
    "version": 3
   },
   "file_extension": ".py",
   "mimetype": "text/x-python",
   "name": "python",
   "nbconvert_exporter": "python",
   "pygments_lexer": "ipython3",
   "version": "3.9.0-final"
  }
 },
 "nbformat": 4,
 "nbformat_minor": 4
}