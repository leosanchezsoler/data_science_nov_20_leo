{
 "cells": [
  {
   "cell_type": "markdown",
   "metadata": {},
   "source": [
    "# Python | day 7 | while"
   ]
  },
  {
   "cell_type": "markdown",
   "metadata": {},
   "source": [
    "With the **while** loop we can execute a set of statements as long as a condition is true."
   ]
  },
  {
   "cell_type": "markdown",
   "metadata": {},
   "source": [
    "```python\n",
    "i = 1\n",
    "while i < 6:\n",
    "  print(i)\n",
    "  i += 1\n",
    "```"
   ]
  },
  {
   "cell_type": "code",
   "execution_count": 1,
   "metadata": {},
   "outputs": [
    {
     "output_type": "stream",
     "name": "stdout",
     "text": [
      "1\n2\n3\n4\n5\n"
     ]
    }
   ],
   "source": [
    "i = 1\n",
    "while i < 6:\n",
    "    print(i)\n",
    "    i += 1"
   ]
  },
  {
   "cell_type": "markdown",
   "metadata": {},
   "source": [
    "https://www.w3schools.com/python/python_while_loops.asp"
   ]
  },
  {
   "cell_type": "markdown",
   "metadata": {},
   "source": [
    "### Exercise 1. "
   ]
  },
  {
   "cell_type": "markdown",
   "metadata": {},
   "source": [
    "Do as described below:\n",
    "\n",
    "- Make a variable called strength, and set its initial value to 5.\n",
    "\n",
    "- Print a message reporting the player's strength.\n",
    "\n",
    "- Set up a while loop that runs until the player's strength increases to a value such as 10.\n",
    "\n",
    "- Inside the while loop, print a message that reports the player's current strength.\n",
    "\n",
    "- Inside the while loop, write a statement that increases the player's strength.\n",
    "\n",
    "- Outside the while loop, print a message reporting that the player has grown too strong, and that they have moved up to a new level of the game.\n",
    "\n",
    "Play around with different cutoff levels for the value of strength, and play around with different ways to increase the strength value within the while loop.\n"
   ]
  },
  {
   "cell_type": "code",
   "execution_count": 19,
   "metadata": {},
   "outputs": [
    {
     "output_type": "stream",
     "name": "stdout",
     "text": [
      "player strength is: 5\nCurrent strength: 5\nCurrent strength: 6\nCurrent strength: 7\nCurrent strength: 8\nCurrent strength: 9\nCurrent strength: 10\n···············\nPlayer's strength is now 11 Congratulations! It's time to move to Level 2\n"
     ]
    }
   ],
   "source": [
    "strength = 5\n",
    "print(\"player strength is:\", strength)\n",
    "\n",
    "while strength <= 10:\n",
    "    print(\"Current strength:\",strength)\n",
    "    strength += 1\n",
    "print(\"···············\")\n",
    "print(\"Player's strength is now\", strength, \"Congratulations! It's time to move to Level 2\")"
   ]
  },
  {
   "cell_type": "markdown",
   "metadata": {},
   "source": [
    "### Exercise 2. "
   ]
  },
  {
   "cell_type": "markdown",
   "metadata": {},
   "source": [
    "To solve the following exercises it will be necessary to define a function for each section. You choose the name of those functions unless specified, but make sure you define a single parameter `whichever_list`, when calling the function it will correspond to the variable `info_list`."
   ]
  },
  {
   "cell_type": "code",
   "execution_count": 21,
   "metadata": {},
   "outputs": [
    {
     "output_type": "execute_result",
     "data": {
      "text/plain": [
       "6"
      ]
     },
     "metadata": {},
     "execution_count": 21
    }
   ],
   "source": [
    "# you can use this list or take yours from Practice 3\n",
    "info_list = [15, 'Recoletos', True, ['Recoletos', 15],  None, '8'] \n",
    "len(info_list)"
   ]
  },
  {
   "cell_type": "markdown",
   "metadata": {},
   "source": [
    "You have already read these questions below, but this time you are asked to solve it using `while` loop instead of `for`. \n",
    "\n",
    "   - Loop through `whichever_list` to print all the elements it contains. This function should return the list turned into a tuple. \n",
    "   - Loop through `whichever_list` to print all the elements it contains concatenated with the string` \"--> OK\" `. This function should return a message saying, `\"everything will be ok\"`. \n",
    "   - Loop through `whichever_list` to display all items it contains except the first one. This function should return the first element of the list. \n",
    "   - Loop through `whichever_list` to display all the items it contains except the last one. This function should return the last element of the list. "
   ]
  },
  {
   "source": [
    "1. Loop through whichever_list to print all the elements it contains. This function should return the list turned into a tuple."
   ],
   "cell_type": "markdown",
   "metadata": {}
  },
  {
   "cell_type": "code",
   "execution_count": 23,
   "metadata": {},
   "outputs": [
    {
     "output_type": "execute_result",
     "data": {
      "text/plain": [
       "(15, 'Recoletos', True, ['Recoletos', 15], None, '8')"
      ]
     },
     "metadata": {},
     "execution_count": 23
    }
   ],
   "source": [
    "def todos_elem_lista (whichever_list):\n",
    "    acum = 0\n",
    "    while acum < len(whichever_list):\n",
    "        acum += 1\n",
    "    return tuple(whichever_list)\n",
    "\n",
    "todos_elem_lista(whichever_list= info_list)"
   ]
  },
  {
   "source": [
    "2. Loop through whichever_list to print all the elements it contains concatenated with the string\"--> OK\". This function should return a message saying, \"everything will be ok\"."
   ],
   "cell_type": "markdown",
   "metadata": {}
  },
  {
   "cell_type": "code",
   "execution_count": 37,
   "metadata": {},
   "outputs": [
    {
     "output_type": "stream",
     "name": "stdout",
     "text": [
      "[(0, '-->OK'), (1, '-->OK'), (2, '-->OK'), (3, '-->OK'), (4, '-->OK'), (5, '-->OK')]\n"
     ]
    },
    {
     "output_type": "execute_result",
     "data": {
      "text/plain": [
       "'Everything will be OK'"
      ]
     },
     "metadata": {},
     "execution_count": 37
    }
   ],
   "source": [
    "def concatenacion_strings_OK (whichever_list):\n",
    "    concatenacion_lista = []\n",
    "    acum = 0\n",
    "    while acum < len(whichever_list):\n",
    "        okeylista = (acum, \"-->OK\")\n",
    "        concatenacion_lista.append(okeylista)\n",
    "        acum +=1\n",
    "    print(concatenacion_lista)\n",
    "    return (\"Everything will be OK\")\n",
    "\n",
    "concatenacion_strings_OK (whichever_list= info_list)\n"
   ]
  },
  {
   "source": [
    "3. Loop through whichever_list to display all items it contains except the first one. This function should return the first element of the list."
   ],
   "cell_type": "markdown",
   "metadata": {}
  },
  {
   "cell_type": "code",
   "execution_count": 44,
   "metadata": {},
   "outputs": [
    {
     "output_type": "stream",
     "name": "stdout",
     "text": [
      "Info_list: [15, 'Recoletos', True, ['Recoletos', 15], None, '8']\n··········\nRecoletos\nTrue\n['Recoletos', 15]\nNone\n8\n----------\n"
     ]
    },
    {
     "output_type": "execute_result",
     "data": {
      "text/plain": [
       "('Primer elemento de la lista', 15)"
      ]
     },
     "metadata": {},
     "execution_count": 44
    }
   ],
   "source": [
    "print(\"Info_list:\", info_list)\n",
    "print(\"··········\")\n",
    "def all_but_first (whichever_list):\n",
    "    acum = 1\n",
    "    while acum < 6:\n",
    "        print(whichever_list[acum])\n",
    "        acum += 1\n",
    "    print(\"----------\")\n",
    "    return(\"Primer elemento de la lista\", whichever_list[0])\n",
    "all_but_first(whichever_list= info_list)"
   ]
  },
  {
   "source": [
    "4. Loop through whichever_list to display all the items it contains except the last one. This function should return the last element of the list."
   ],
   "cell_type": "markdown",
   "metadata": {}
  },
  {
   "cell_type": "code",
   "execution_count": 46,
   "metadata": {},
   "outputs": [
    {
     "output_type": "stream",
     "name": "stdout",
     "text": [
      "Info_list: [15, 'Recoletos', True, ['Recoletos', 15], None, '8']\n··········\n15\nRecoletos\nTrue\n['Recoletos', 15]\nNone\n--------\n"
     ]
    },
    {
     "output_type": "execute_result",
     "data": {
      "text/plain": [
       "('Último elemento de la lista', '8')"
      ]
     },
     "metadata": {},
     "execution_count": 46
    }
   ],
   "source": [
    "print(\"Info_list:\", info_list)\n",
    "print(\"··········\")\n",
    "def all_but_last(whichever_list):\n",
    "    acum = 0\n",
    "    while acum < 5:\n",
    "        print(whichever_list[acum])\n",
    "        acum += 1\n",
    "    print(\"--------\")\n",
    "    return (\"Último elemento de la lista\", whichever_list[-1])\n",
    "all_but_last(whichever_list= info_list)"
   ]
  },
  {
   "cell_type": "markdown",
   "metadata": {},
   "source": [
    "### Exercise 3. "
   ]
  },
  {
   "cell_type": "markdown",
   "metadata": {},
   "source": [
    "1. Define a function that performs the [Fibonacci series](https://quantdare.com/numeros-de-fibonacci/#:~:text=En%20matem%C3%A1ticas%2C%20la%20sucesi%C3%B3n%20o,nombre%20de%20n%C3%BAmero%20de%20Fibonacci.) with a `while`."
   ]
  },
  {
   "cell_type": "code",
   "execution_count": 277,
   "metadata": {},
   "outputs": [
    {
     "output_type": "stream",
     "name": "stdout",
     "text": [
      "[1, 1, 1, 1, 1]\n"
     ]
    }
   ],
   "source": [
    "meses = int(input(\"introduce los meses\"))\n",
    "\n",
    "valor1 = 0\n",
    "valor2 = 1\n",
    "z = valor1 + valor2\n",
    "acumulador = 0\n",
    "\n",
    "\n",
    "lista = []\n",
    "while meses > acumulador:\n",
    "    \n",
    "    valor1 = valor2\n",
    "    valor2 = z\n",
    "    lista.append(valor2)\n",
    "    acumulador +=1\n",
    "print(lista)\n"
   ]
  },
  {
   "cell_type": "code",
   "execution_count": 272,
   "metadata": {},
   "outputs": [
    {
     "output_type": "stream",
     "name": "stdout",
     "text": [
      "10\n10\n10\n10\n10\n10\n10\n10\n10\n10\n"
     ]
    }
   ],
   "source": [
    "def funcion_definitivafibo(meses):\n",
    "    elemento1 = 0\n",
    "    elemento2 = 1\n",
    "    z = elemento2 + elemento1\n",
    "    acumulador = 0\n",
    "    listillita = []\n",
    "    for i in range(meses):\n",
    "        while acumulador < meses:\n",
    "            elemento1 = elemento2\n",
    "            elemento2 = z\n",
    "            listillita.append(i)\n",
    "            acumulador += 1\n",
    "            print (meses)\n",
    "\n",
    "funcion_definitivafibo (10)"
   ]
  },
  {
   "cell_type": "code",
   "execution_count": 222,
   "metadata": {},
   "outputs": [
    {
     "output_type": "error",
     "ename": "SyntaxError",
     "evalue": "invalid syntax (<ipython-input-222-b8703e25f823>, line 15)",
     "traceback": [
      "\u001b[0;36m  File \u001b[0;32m\"<ipython-input-222-b8703e25f823>\"\u001b[0;36m, line \u001b[0;32m15\u001b[0m\n\u001b[0;31m    while elemento == elemento[0] + elemento[1]\u001b[0m\n\u001b[0m                                               ^\u001b[0m\n\u001b[0;31mSyntaxError\u001b[0m\u001b[0;31m:\u001b[0m invalid syntax\n"
     ]
    }
   ],
   "source": [
    "#Fibonacci series\n",
    "# El valor del elemento es igual a la suma de los elementos que están en dos posiciones anteriores\n",
    "# lo que busco es que una iteración sea la suma de los dos elementos anteriores\n",
    "def funcionacafibonaccio(meses):\n",
    "    meses = int(meses)\n",
    "    listaca = []\n",
    "    for i in range(1, meses):\n",
    "        i = (i-1) + (i-2)\n",
    "        print(i)\n",
    "funcionacafibonaccio(6)\n",
    "        \n",
    "\n",
    "\n",
    "for elemento in list(range(10)):\n",
    "    while elemento == elemento[0] + elemento[1]\n",
    "\n",
    "\n"
   ]
  },
  {
   "cell_type": "code",
   "execution_count": 228,
   "metadata": {},
   "outputs": [
    {
     "output_type": "error",
     "ename": "TypeError",
     "evalue": "'int' object is not subscriptable",
     "traceback": [
      "\u001b[0;31m---------------------------------------------------------------------------\u001b[0m",
      "\u001b[0;31mTypeError\u001b[0m                                 Traceback (most recent call last)",
      "\u001b[0;32m<ipython-input-228-7c8a1e04fc57>\u001b[0m in \u001b[0;36m<module>\u001b[0;34m\u001b[0m\n\u001b[1;32m      1\u001b[0m \u001b[0;32mfor\u001b[0m \u001b[0melemento\u001b[0m \u001b[0;32min\u001b[0m \u001b[0mrange\u001b[0m\u001b[0;34m(\u001b[0m\u001b[0;36m10\u001b[0m\u001b[0;34m)\u001b[0m\u001b[0;34m:\u001b[0m\u001b[0;34m\u001b[0m\u001b[0;34m\u001b[0m\u001b[0m\n\u001b[0;32m----> 2\u001b[0;31m     \u001b[0mresultado\u001b[0m \u001b[0;34m=\u001b[0m \u001b[0melemento\u001b[0m\u001b[0;34m[\u001b[0m\u001b[0;34m-\u001b[0m\u001b[0;36m1\u001b[0m\u001b[0;34m]\u001b[0m\u001b[0;34m+\u001b[0m \u001b[0melemento\u001b[0m\u001b[0;34m[\u001b[0m\u001b[0;34m-\u001b[0m\u001b[0;36m2\u001b[0m\u001b[0;34m]\u001b[0m\u001b[0;34m\u001b[0m\u001b[0;34m\u001b[0m\u001b[0m\n\u001b[0m\u001b[1;32m      3\u001b[0m     \u001b[0;32mwhile\u001b[0m \u001b[0melemento\u001b[0m \u001b[0;34m<\u001b[0m \u001b[0mrange\u001b[0m\u001b[0;34m(\u001b[0m\u001b[0;36m10\u001b[0m\u001b[0;34m)\u001b[0m\u001b[0;34m:\u001b[0m\u001b[0;34m\u001b[0m\u001b[0;34m\u001b[0m\u001b[0m\n\u001b[1;32m      4\u001b[0m         \u001b[0mprint\u001b[0m\u001b[0;34m(\u001b[0m\u001b[0mresultado\u001b[0m\u001b[0;34m)\u001b[0m\u001b[0;34m\u001b[0m\u001b[0;34m\u001b[0m\u001b[0m\n",
      "\u001b[0;31mTypeError\u001b[0m: 'int' object is not subscriptable"
     ]
    }
   ],
   "source": [
    "acum = 0\n",
    "for elemento in range(10):\n",
    "    resultado = (elemento[-1])+ (elemento[-2])\n",
    "    while elemento < range(10):\n",
    "        acum +=1\n",
    "        print(resultado)    "
   ]
  },
  {
   "cell_type": "code",
   "execution_count": 1,
   "metadata": {},
   "outputs": [
    {
     "output_type": "error",
     "ename": "TypeError",
     "evalue": "'int' object is not iterable",
     "traceback": [
      "\u001b[0;31m---------------------------------------------------------------------------\u001b[0m",
      "\u001b[0;31mTypeError\u001b[0m                                 Traceback (most recent call last)",
      "\u001b[0;32m<ipython-input-1-d9204957e05a>\u001b[0m in \u001b[0;36m<module>\u001b[0;34m\u001b[0m\n\u001b[1;32m     14\u001b[0m     \u001b[0;32mreturn\u001b[0m \u001b[0mlista_fibo\u001b[0m\u001b[0;34m\u001b[0m\u001b[0;34m\u001b[0m\u001b[0m\n\u001b[1;32m     15\u001b[0m \u001b[0;34m\u001b[0m\u001b[0m\n\u001b[0;32m---> 16\u001b[0;31m \u001b[0mfuncion_fibo\u001b[0m\u001b[0;34m(\u001b[0m\u001b[0mtiempo\u001b[0m\u001b[0;34m=\u001b[0m \u001b[0mmeses\u001b[0m\u001b[0;34m)\u001b[0m\u001b[0;34m\u001b[0m\u001b[0;34m\u001b[0m\u001b[0m\n\u001b[0m",
      "\u001b[0;32m<ipython-input-1-d9204957e05a>\u001b[0m in \u001b[0;36mfuncion_fibo\u001b[0;34m(tiempo)\u001b[0m\n\u001b[1;32m      8\u001b[0m \u001b[0;32mdef\u001b[0m \u001b[0mfuncion_fibo\u001b[0m \u001b[0;34m(\u001b[0m\u001b[0mtiempo\u001b[0m\u001b[0;34m)\u001b[0m\u001b[0;34m:\u001b[0m\u001b[0;34m\u001b[0m\u001b[0;34m\u001b[0m\u001b[0m\n\u001b[1;32m      9\u001b[0m     \u001b[0mlista_fibo\u001b[0m \u001b[0;34m=\u001b[0m \u001b[0;34m[\u001b[0m\u001b[0;34m]\u001b[0m\u001b[0;34m\u001b[0m\u001b[0;34m\u001b[0m\u001b[0m\n\u001b[0;32m---> 10\u001b[0;31m     \u001b[0;32mfor\u001b[0m \u001b[0mi\u001b[0m \u001b[0;32min\u001b[0m \u001b[0mlen\u001b[0m\u001b[0;34m(\u001b[0m\u001b[0mrange\u001b[0m\u001b[0;34m(\u001b[0m\u001b[0mtiempo\u001b[0m\u001b[0;34m)\u001b[0m\u001b[0;34m)\u001b[0m\u001b[0;34m:\u001b[0m\u001b[0;34m\u001b[0m\u001b[0;34m\u001b[0m\u001b[0m\n\u001b[0m\u001b[1;32m     11\u001b[0m         \u001b[0;32mwhile\u001b[0m \u001b[0mrange\u001b[0m\u001b[0;34m(\u001b[0m\u001b[0mtiempo\u001b[0m\u001b[0;34m)\u001b[0m\u001b[0;34m[\u001b[0m\u001b[0mi\u001b[0m\u001b[0;34m]\u001b[0m \u001b[0;34m<\u001b[0m \u001b[0mtiempo\u001b[0m\u001b[0;34m:\u001b[0m\u001b[0;34m\u001b[0m\u001b[0;34m\u001b[0m\u001b[0m\n\u001b[1;32m     12\u001b[0m             \u001b[0msumador\u001b[0m \u001b[0;34m=\u001b[0m \u001b[0mrange\u001b[0m\u001b[0;34m(\u001b[0m\u001b[0mtiempo\u001b[0m\u001b[0;34m)\u001b[0m\u001b[0;34m[\u001b[0m\u001b[0mi\u001b[0m\u001b[0;34m-\u001b[0m\u001b[0;36m1\u001b[0m\u001b[0;34m]\u001b[0m \u001b[0;34m+\u001b[0m \u001b[0mrange\u001b[0m\u001b[0;34m(\u001b[0m\u001b[0mtiempo\u001b[0m\u001b[0;34m)\u001b[0m\u001b[0;34m[\u001b[0m\u001b[0mi\u001b[0m\u001b[0;34m-\u001b[0m\u001b[0;36m2\u001b[0m\u001b[0;34m]\u001b[0m\u001b[0;34m\u001b[0m\u001b[0;34m\u001b[0m\u001b[0m\n",
      "\u001b[0;31mTypeError\u001b[0m: 'int' object is not iterable"
     ]
    }
   ],
   "source": [
    "#La serie de Fibonacci\n",
    "#Primero introduciré un input para delimitar la cantidad de meses\n",
    "meses = int(input(\"Introduce los meses\"))\n",
    "\n",
    "\n",
    " #Luego creo la función\n",
    "\n",
    "def funcion_fibo (tiempo):\n",
    "    lista_fibo = []\n",
    "    for i in len(range(tiempo)):\n",
    "        while range(tiempo)[i] < tiempo: \n",
    "            sumador = range(tiempo)[i-1] + range(tiempo)[i-2]\n",
    "            lista_fibo.append(sumador)\n",
    "    return lista_fibo\n",
    "\n",
    "funcion_fibo(tiempo= meses)"
   ]
  },
  {
   "cell_type": "code",
   "execution_count": 215,
   "metadata": {},
   "outputs": [
    {
     "output_type": "error",
     "ename": "TypeError",
     "evalue": "'int' object is not subscriptable",
     "traceback": [
      "\u001b[0;31m---------------------------------------------------------------------------\u001b[0m",
      "\u001b[0;31mTypeError\u001b[0m                                 Traceback (most recent call last)",
      "\u001b[0;32m<ipython-input-215-829ac394d662>\u001b[0m in \u001b[0;36m<module>\u001b[0;34m\u001b[0m\n\u001b[1;32m      7\u001b[0m             \u001b[0mlista_fibonaccio\u001b[0m\u001b[0;34m.\u001b[0m\u001b[0mappend\u001b[0m\u001b[0;34m(\u001b[0m\u001b[0msuma_elementos\u001b[0m\u001b[0;34m)\u001b[0m\u001b[0;34m\u001b[0m\u001b[0;34m\u001b[0m\u001b[0m\n\u001b[1;32m      8\u001b[0m         \u001b[0;32mreturn\u001b[0m \u001b[0mlista_fibonaccio\u001b[0m\u001b[0;34m\u001b[0m\u001b[0;34m\u001b[0m\u001b[0m\n\u001b[0;32m----> 9\u001b[0;31m \u001b[0mfuncion_fibonaccio\u001b[0m\u001b[0;34m(\u001b[0m\u001b[0;36m10\u001b[0m\u001b[0;34m)\u001b[0m\u001b[0;34m\u001b[0m\u001b[0;34m\u001b[0m\u001b[0m\n\u001b[0m",
      "\u001b[0;32m<ipython-input-215-829ac394d662>\u001b[0m in \u001b[0;36mfuncion_fibonaccio\u001b[0;34m(tiempo)\u001b[0m\n\u001b[1;32m      3\u001b[0m     \u001b[0macumulador\u001b[0m \u001b[0;34m=\u001b[0m \u001b[0;36m0\u001b[0m\u001b[0;34m\u001b[0m\u001b[0;34m\u001b[0m\u001b[0m\n\u001b[1;32m      4\u001b[0m     \u001b[0;32mfor\u001b[0m \u001b[0mi\u001b[0m \u001b[0;32min\u001b[0m \u001b[0mlist\u001b[0m\u001b[0;34m(\u001b[0m\u001b[0mrange\u001b[0m\u001b[0;34m(\u001b[0m\u001b[0mtiempo\u001b[0m\u001b[0;34m)\u001b[0m\u001b[0;34m)\u001b[0m\u001b[0;34m:\u001b[0m \u001b[0;31m#Esto va por posición\u001b[0m\u001b[0;34m\u001b[0m\u001b[0;34m\u001b[0m\u001b[0m\n\u001b[0;32m----> 5\u001b[0;31m         \u001b[0;32mwhile\u001b[0m \u001b[0mtiempo\u001b[0m\u001b[0;34m[\u001b[0m\u001b[0mi\u001b[0m\u001b[0;34m]\u001b[0m \u001b[0;34m<\u001b[0m \u001b[0mlen\u001b[0m\u001b[0;34m(\u001b[0m\u001b[0mtiempo\u001b[0m\u001b[0;34m)\u001b[0m\u001b[0;34m:\u001b[0m\u001b[0;34m\u001b[0m\u001b[0;34m\u001b[0m\u001b[0m\n\u001b[0m\u001b[1;32m      6\u001b[0m             \u001b[0msuma_elementos\u001b[0m \u001b[0;34m=\u001b[0m \u001b[0mrange\u001b[0m\u001b[0;34m(\u001b[0m\u001b[0mtiempo\u001b[0m\u001b[0;34m)\u001b[0m\u001b[0;34m[\u001b[0m\u001b[0mi\u001b[0m\u001b[0;34m-\u001b[0m\u001b[0;36m1\u001b[0m\u001b[0;34m]\u001b[0m \u001b[0;34m+\u001b[0m \u001b[0mrange\u001b[0m\u001b[0;34m(\u001b[0m\u001b[0mtiempo\u001b[0m\u001b[0;34m)\u001b[0m\u001b[0;34m[\u001b[0m\u001b[0mi\u001b[0m\u001b[0;34m-\u001b[0m\u001b[0;36m2\u001b[0m\u001b[0;34m]\u001b[0m\u001b[0;34m\u001b[0m\u001b[0;34m\u001b[0m\u001b[0m\n\u001b[1;32m      7\u001b[0m             \u001b[0mlista_fibonaccio\u001b[0m\u001b[0;34m.\u001b[0m\u001b[0mappend\u001b[0m\u001b[0;34m(\u001b[0m\u001b[0msuma_elementos\u001b[0m\u001b[0;34m)\u001b[0m\u001b[0;34m\u001b[0m\u001b[0;34m\u001b[0m\u001b[0m\n",
      "\u001b[0;31mTypeError\u001b[0m: 'int' object is not subscriptable"
     ]
    }
   ],
   "source": [
    "\n",
    "def funcion_fibonaccio(tiempo):\n",
    "    lista_fibonaccio = []\n",
    "    acumulador = 0\n",
    "    for i in len(range(tiempo)): #Esto va por posición \n",
    "        while tiempo[i] < len(tiempo):\n",
    "            suma_elementos = range(tiempo)[i-1] + range(tiempo)[i-2]\n",
    "            lista_fibonaccio.append(suma_elementos)\n",
    "        return lista_fibonaccio\n",
    "funcion_fibonaccio(10)"
   ]
  },
  {
   "cell_type": "code",
   "execution_count": null,
   "metadata": {},
   "outputs": [],
   "source": []
  },
  {
   "cell_type": "markdown",
   "metadata": {},
   "source": [
    "### Exercise 4."
   ]
  },
  {
   "cell_type": "markdown",
   "metadata": {},
   "source": [
    "To solve the following exercises it will be necessary to define a function for each section. You choose the name of those functions unless specified, but make sure you define a single parameter `whichever_list`, when calling the function it will correspond to the variable `info_list`."
   ]
  },
  {
   "cell_type": "code",
   "execution_count": 1,
   "metadata": {},
   "outputs": [],
   "source": [
    "# you can use this list or take yours from Practice 3\n",
    "info_list = [15, 'Recoletos', True, ['Recoletos', 15],  None, '8'] "
   ]
  },
  {
   "cell_type": "markdown",
   "metadata": {},
   "source": [
    "1. Define a function that saves the value of `\"nothing\"` in a variable and print it. Also, concatenate its value with the number of The Bridge and display it on the screen. \n",
    "\n",
    "   Also, display a boolean **True** if the length of the concatenated word is 6. If not, it will be **False**. The function must return the value **True** or **False** and the name of this function will be `f_s`."
   ]
  },
  {
   "source": [
    "## He intentado agrupar todo en una sola función pero me estaba haciendo un lío. En la siguiente celda queda todo más limpio."
   ],
   "cell_type": "markdown",
   "metadata": {}
  },
  {
   "cell_type": "code",
   "execution_count": 73,
   "metadata": {},
   "outputs": [
    {
     "output_type": "stream",
     "name": "stdout",
     "text": [
      "impresión de la variable asociada a 'nothing': nothing\nimpresión de la variable asociada a 'nothing': nothing\n(\"Suma str 'nothing' y el número de The Bridge hecho str:\", 'nothing15')\nTrue\n:::::::::::::::::::::\nimpresión de la variable asociada a 'nothing': nothing\n"
     ]
    },
    {
     "output_type": "error",
     "ename": "NameError",
     "evalue": "name 'whichever_list' is not defined",
     "traceback": [
      "\u001b[0;31m---------------------------------------------------------------------------\u001b[0m",
      "\u001b[0;31mNameError\u001b[0m                                 Traceback (most recent call last)",
      "\u001b[0;32m<ipython-input-73-3bd111fed4da>\u001b[0m in \u001b[0;36m<module>\u001b[0;34m\u001b[0m\n\u001b[1;32m     26\u001b[0m \u001b[0mprint\u001b[0m\u001b[0;34m(\u001b[0m\u001b[0;34m\":::::::::::::::::::::\"\u001b[0m\u001b[0;34m)\u001b[0m\u001b[0;34m\u001b[0m\u001b[0;34m\u001b[0m\u001b[0m\n\u001b[1;32m     27\u001b[0m \u001b[0;34m\u001b[0m\u001b[0m\n\u001b[0;32m---> 28\u001b[0;31m \u001b[0mprint\u001b[0m\u001b[0;34m(\u001b[0m\u001b[0mfunciones_fusionadas\u001b[0m\u001b[0;34m(\u001b[0m\u001b[0mfuncion_nothing\u001b[0m\u001b[0;34m(\u001b[0m\u001b[0mwhichever_list\u001b[0m\u001b[0;34m=\u001b[0m \u001b[0minfo_list\u001b[0m\u001b[0;34m)\u001b[0m\u001b[0;34m,\u001b[0m \u001b[0mf_s\u001b[0m\u001b[0;34m(\u001b[0m\u001b[0msuma_strings\u001b[0m\u001b[0;34m=\u001b[0m \u001b[0;34m\"nothing15\"\u001b[0m\u001b[0;34m)\u001b[0m\u001b[0;34m)\u001b[0m\u001b[0;34m)\u001b[0m\u001b[0;34m\u001b[0m\u001b[0;34m\u001b[0m\u001b[0m\n\u001b[0m\u001b[1;32m     29\u001b[0m \u001b[0;34m\u001b[0m\u001b[0m\n\u001b[1;32m     30\u001b[0m \u001b[0;34m(\u001b[0m\u001b[0;34m\"#############################\"\u001b[0m\u001b[0;34m)\u001b[0m\u001b[0;34m\u001b[0m\u001b[0;34m\u001b[0m\u001b[0m\n",
      "\u001b[0;32m<ipython-input-73-3bd111fed4da>\u001b[0m in \u001b[0;36mfunciones_fusionadas\u001b[0;34m(funcion1, funcion2)\u001b[0m\n\u001b[1;32m     19\u001b[0m \u001b[0;34m\u001b[0m\u001b[0m\n\u001b[1;32m     20\u001b[0m \u001b[0;32mdef\u001b[0m \u001b[0mfunciones_fusionadas\u001b[0m\u001b[0;34m(\u001b[0m\u001b[0mfuncion1\u001b[0m \u001b[0;34m=\u001b[0m \u001b[0mfuncion_nothing\u001b[0m\u001b[0;34m(\u001b[0m\u001b[0mwhichever_list\u001b[0m \u001b[0;34m=\u001b[0m \u001b[0minfo_list\u001b[0m\u001b[0;34m)\u001b[0m\u001b[0;34m,\u001b[0m \u001b[0mfuncion2\u001b[0m \u001b[0;34m=\u001b[0m \u001b[0mf_s\u001b[0m\u001b[0;34m(\u001b[0m\u001b[0msuma_strings\u001b[0m\u001b[0;34m=\u001b[0m \u001b[0;34m\"nothing15\"\u001b[0m\u001b[0;34m)\u001b[0m\u001b[0;34m)\u001b[0m\u001b[0;34m:\u001b[0m\u001b[0;34m\u001b[0m\u001b[0;34m\u001b[0m\u001b[0m\n\u001b[0;32m---> 21\u001b[0;31m     \u001b[0;32mreturn\u001b[0m \u001b[0mfuncion_nothing\u001b[0m\u001b[0;34m(\u001b[0m\u001b[0mwhichever_list\u001b[0m\u001b[0;34m)\u001b[0m\u001b[0;34m,\u001b[0m \u001b[0mf_s\u001b[0m\u001b[0;34m(\u001b[0m\u001b[0msuma_strings\u001b[0m\u001b[0;34m)\u001b[0m\u001b[0;34m\u001b[0m\u001b[0;34m\u001b[0m\u001b[0m\n\u001b[0m\u001b[1;32m     22\u001b[0m \u001b[0;34m\u001b[0m\u001b[0m\n\u001b[1;32m     23\u001b[0m \u001b[0mprint\u001b[0m\u001b[0;34m(\u001b[0m\u001b[0mfuncion_nothing\u001b[0m\u001b[0;34m(\u001b[0m\u001b[0mwhichever_list\u001b[0m\u001b[0;34m=\u001b[0m \u001b[0minfo_list\u001b[0m\u001b[0;34m)\u001b[0m\u001b[0;34m)\u001b[0m\u001b[0;34m\u001b[0m\u001b[0;34m\u001b[0m\u001b[0m\n",
      "\u001b[0;31mNameError\u001b[0m: name 'whichever_list' is not defined"
     ]
    }
   ],
   "source": [
    "# Definir una función que guarda el valor de \"nothing\" dentro de una variable y la imprime.\n",
    "# Número de the Bridge está en la posición 0 de info_list\n",
    "#\n",
    "\n",
    "def funcion_nothing(whichever_list):\n",
    "    x = \"nothing\"\n",
    "    print(\"impresión de la variable asociada a 'nothing':\", x)\n",
    "    suma_strings = x + str(whichever_list[0])\n",
    "    return \"Suma str 'nothing' y el número de The Bridge hecho str:\", suma_strings\n",
    "\n",
    "def f_s (suma_strings):\n",
    "    while len(suma_strings) != 6:\n",
    "        if True:\n",
    "            return(True)\n",
    "            \n",
    "        else:\n",
    "            return(False)\n",
    "\n",
    "\n",
    "def funciones_fusionadas(funcion1 = funcion_nothing(whichever_list = info_list), funcion2 = f_s(suma_strings= \"nothing15\")):\n",
    "    return funcion_nothing(whichever_list), f_s(suma_strings)\n",
    "\n",
    "print(funcion_nothing(whichever_list= info_list))\n",
    "print(f_s(suma_strings= \"nothing15\"))\n",
    "\n",
    "print(\":::::::::::::::::::::\")\n",
    "\n",
    "print(funciones_fusionadas(funcion_nothing(whichever_list= info_list), f_s(suma_strings= \"nothing15\")))\n",
    "\n",
    "(\"#############################\")\n",
    "\n",
    "print(\"FÍJATE SOLO EN ESTA FUNCIÓN, EL RESTO ERAN PRUEBAS\")\n",
    "\n",
    "print(funciones_fusionadas(funcion_nothing(whichever_list= info_list), f_s(suma_strings= \"nothing15\")))\n"
   ]
  },
  {
   "cell_type": "code",
   "execution_count": 82,
   "metadata": {},
   "outputs": [
    {
     "output_type": "stream",
     "name": "stdout",
     "text": [
      "impresión de la variable asociada a 'nothing': nothing\n(\"Suma str 'nothing' y el número de The Bridge hecho str:\", 'nothing15')\n·········\n('Al ser 8 la longitud de la suma de nothing y 15:', True)\n"
     ]
    }
   ],
   "source": [
    "def funcion_nothing(whichever_list):\n",
    "    x = \"nothing\"\n",
    "    print(\"impresión de la variable asociada a 'nothing':\", x)\n",
    "    suma_strings = x + str(whichever_list[0])\n",
    "    return \"Suma str 'nothing' y el número de The Bridge hecho str:\", suma_strings\n",
    "def f_s (suma_strings):\n",
    "    while len(suma_strings) != 6:\n",
    "        if True:\n",
    "            return \"Al ser 8 la longitud de la suma de nothing y 15:\", True\n",
    "            \n",
    "        else:\n",
    "            return False\n",
    "\n",
    "print(funcion_nothing(whichever_list= info_list))\n",
    "print(\"·········\")\n",
    "print(f_s(suma_strings= \"nothing15\"))"
   ]
  },
  {
   "cell_type": "markdown",
   "metadata": {},
   "source": [
    "### Bonus Track."
   ]
  },
  {
   "cell_type": "markdown",
   "metadata": {},
   "source": [
    "2. Create a list `list_aux` with 7 elements, whichever you want. Next, create a function `function_use_f_s` which receives as parameters a function `some_function` and whichever list `whichever_list`. If the value of `some_function` is **True**, then delete an item from `whichever_list`. Repeat the process until `whichever_list` has no elements. The argument for `whichever_list` must be `list_aux` and for `some_function` it will be the function `f_s` from the previous point."
   ]
  },
  {
   "cell_type": "code",
   "execution_count": 84,
   "metadata": {},
   "outputs": [
    {
     "output_type": "stream",
     "name": "stdout",
     "text": [
      "La longitud de la lista aux es: 7\n···········\n"
     ]
    }
   ],
   "source": [
    "#Primero creo list_aux\n",
    "list_aux = [1, \"perro\", 2564.3, \"locomotora\", True, [\"italia\", 34], (\"Londres\", False)]\n",
    "print(\"La longitud de la lista aux es:\", len(list_aux))\n",
    "print(\"···········\")\n",
    "\n",
    "#Después creo la funcion use_f_s\n",
    "#El primer argumento que recibe es una función\n",
    "#"
   ]
  },
  {
   "cell_type": "markdown",
   "metadata": {},
   "source": [
    "3. Define a function `even_numbers` that has an input parameter `arg1`, type integer. The function must return a list of numbers of size `arg1`, all of them being even numbers. \n",
    "\n",
    "   Don't use the function `print()` inside the function, but print what `even_numbers` returns when calling it with the argument `10`, just to check your function works.\n",
    "   \n",
    "```python\n",
    "print(even_numbers(10))\n",
    "```"
   ]
  },
  {
   "cell_type": "code",
   "execution_count": 135,
   "metadata": {},
   "outputs": [
    {
     "output_type": "stream",
     "name": "stdout",
     "text": [
      "Números pares: [0, 2, 4, 6, 8]\n",
      "números impares: [1, 3, 5, 7, 9]\n"
     ]
    }
   ],
   "source": [
    "def numeros_pares(arg1):\n",
    "    argumento = int(input(\"introduce tu número:\"))\n",
    "    acum = 0\n",
    "    listafinal = []\n",
    "    for i in list(range(argumento)):\n",
    "        if i % 2 == 0:\n",
    "            listafinal.append(i)\n",
    "    return listafinal\n",
    "\n",
    "\n",
    "print(\"Números pares:\", numeros_pares(arg1 =10))\n",
    "\n",
    "\n",
    "#Por hacerlo con impares:\n",
    "def numeros_impares(arg1):\n",
    "    argumento = int(input(\"introduce tu número:\"))\n",
    "    acum = 0\n",
    "    listafinal = []\n",
    "    for i in list(range(argumento)):\n",
    "        if i % 2 == 0:\n",
    "            listafinal.append(i+1)\n",
    "    return listafinal\n",
    "print(\"números impares:\", numeros_impares(arg1= 10))"
   ]
  },
  {
   "cell_type": "code",
   "execution_count": 137,
   "metadata": {},
   "outputs": [
    {
     "output_type": "stream",
     "name": "stdout",
     "text": [
      "Números pares: [0, 2, 4, 6, 8]\nnúmeros impares: [1, 3, 5, 7, 9]\n"
     ]
    }
   ],
   "source": [
    "tu_numero = int(input(\"Introduce tu número\"))\n",
    "################\n",
    "def numeros_pares(arg1):\n",
    "    acum = 0\n",
    "    listafinal = []\n",
    "    for i in list(range(arg1)):\n",
    "        if i % 2 == 0:\n",
    "            listafinal.append(i)\n",
    "    return listafinal\n",
    "\n",
    "print(\"Números pares:\", numeros_pares(arg1 =tu_numero))\n",
    "\n",
    "#Por hacerlo con impares:\n",
    "def numeros_impares(arg1):\n",
    "    acum = 0\n",
    "    listafinal = []\n",
    "    for i in list(range(arg1)):\n",
    "        if i % 2 == 0:\n",
    "            listafinal.append(i+1)\n",
    "    return listafinal\n",
    "print(\"números impares:\", numeros_impares(arg1= tu_numero))"
   ]
  },
  {
   "cell_type": "markdown",
   "metadata": {},
   "source": [
    "4. Create a function that has an input variable `arg1`, which will be the list of even numbers from the previous section, and that removes elements from the list, one by one, if `arg1` has a size divisible by 2 and, if not, it adds just once, the value of the function `f_s` that should be a boolean (`True` or `False`).\n"
   ]
  },
  {
   "cell_type": "code",
   "execution_count": null,
   "metadata": {},
   "outputs": [],
   "source": []
  },
  {
   "cell_type": "markdown",
   "metadata": {},
   "source": [
    "!['nicetry'](https://i.pinimg.com/originals/36/ab/81/36ab81cd8d63cf7c4a08f39403698c77.jpg)"
   ]
  },
  {
   "cell_type": "code",
   "execution_count": null,
   "metadata": {},
   "outputs": [],
   "source": []
  }
 ],
 "metadata": {
  "kernelspec": {
   "name": "python3",
   "display_name": "Python 3.9.0 64-bit",
   "metadata": {
    "interpreter": {
     "hash": "7812ea015bdcee6f23a998adcdd2ef97c151c0c241b7b7070987d9313e41299d"
    }
   }
  },
  "language_info": {
   "codemirror_mode": {
    "name": "ipython",
    "version": 3
   },
   "file_extension": ".py",
   "mimetype": "text/x-python",
   "name": "python",
   "nbconvert_exporter": "python",
   "pygments_lexer": "ipython3",
   "version": "3.9.0-final"
  }
 },
 "nbformat": 4,
 "nbformat_minor": 4
}