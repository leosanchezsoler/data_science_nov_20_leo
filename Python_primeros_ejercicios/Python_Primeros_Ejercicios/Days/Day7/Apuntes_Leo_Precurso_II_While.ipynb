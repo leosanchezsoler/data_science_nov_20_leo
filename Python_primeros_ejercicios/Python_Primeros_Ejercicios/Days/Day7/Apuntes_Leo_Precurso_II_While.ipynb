{
 "metadata": {
  "language_info": {
   "codemirror_mode": {
    "name": "ipython",
    "version": 3
   },
   "file_extension": ".py",
   "mimetype": "text/x-python",
   "name": "python",
   "nbconvert_exporter": "python",
   "pygments_lexer": "ipython3",
   "version": "3.9.0-final"
  },
  "orig_nbformat": 2,
  "kernelspec": {
   "name": "python3",
   "display_name": "Python 3.9.0 64-bit",
   "metadata": {
    "interpreter": {
     "hash": "7812ea015bdcee6f23a998adcdd2ef97c151c0c241b7b7070987d9313e41299d"
    }
   }
  }
 },
 "nbformat": 4,
 "nbformat_minor": 2,
 "cells": [
  {
   "source": [
    "## Apuntes Leo Precurso 25/11\n"
   ],
   "cell_type": "markdown",
   "metadata": {}
  },
  {
   "source": [
    "### While\n"
   ],
   "cell_type": "markdown",
   "metadata": {}
  },
  {
   "cell_type": "code",
   "execution_count": 1,
   "metadata": {},
   "outputs": [
    {
     "output_type": "stream",
     "name": "stdout",
     "text": [
      "7\n5\nm\nZ\n"
     ]
    }
   ],
   "source": [
    "lista = [7, 5, \"m\", \"Z\"]\n",
    "lista_almacenamiento\n",
    "for elem in lista: #range permite obtener la posición\n",
    "    print(elem)"
   ]
  },
  {
   "cell_type": "code",
   "execution_count": 12,
   "metadata": {},
   "outputs": [
    {
     "output_type": "stream",
     "name": "stdout",
     "text": [
      "3\n"
     ]
    }
   ],
   "source": [
    "lista = [2, 4, 6, 8, 10]\n",
    "contador = 0\n",
    "for elem in lista:\n",
    "    if elem > 5:\n",
    "        contador +=1\n",
    "        #contador = contador + 1\n",
    "print(contador)"
   ]
  },
  {
   "cell_type": "code",
   "execution_count": null,
   "metadata": {},
   "outputs": [],
   "source": [
    "# While significa \"Mientras algo ocurra\"\n",
    "#Es como un if\n",
    "\n",
    "#Si se imprime lo que está debajo, se ejecutará infinitas veces puesto que c siempre es 0.\n",
    "c = 0\n",
    "while c == 0:\n",
    "    print(2)\n",
    "\n",
    "#Solo va a entrar en el while siempre que x == y sea True\n",
    "while 2 == 3 and 0 == 0: #el and necesita que todo sea True\n",
    "    print(5)\n",
    "print(\"Fuera del while\")"
   ]
  },
  {
   "cell_type": "code",
   "execution_count": 13,
   "metadata": {},
   "outputs": [
    {
     "output_type": "stream",
     "name": "stdout",
     "text": [
      "5\n"
     ]
    }
   ],
   "source": [
    "while True:   #De este modo solo se muestra 5 una vez, puesto que al comprobarlo la primera vez, para\n",
    "    print(5)\n",
    "    break "
   ]
  },
  {
   "cell_type": "code",
   "execution_count": 18,
   "metadata": {},
   "outputs": [
    {
     "output_type": "stream",
     "name": "stdout",
     "text": [
      "entra en el while\n",
      "entra en el while\n",
      "entra en el while\n",
      "entra en el while\n",
      "Fuera del while\n"
     ]
    }
   ],
   "source": [
    "s = \"Start\"\n",
    "while s == \"Start\":   #Si en el input que yo introduzco s es igual a \"Start\", se va a ejecutar tantas veces como \"Start\" haya\n",
    "    print(\"entra en el while\")\n",
    "    s = input()\n",
    "print(\"Fuera del while\")"
   ]
  },
  {
   "cell_type": "code",
   "execution_count": 20,
   "metadata": {},
   "outputs": [
    {
     "output_type": "stream",
     "name": "stdout",
     "text": [
      "Contraseña incorrecta\n",
      "Contraseña incorrecta\n",
      "Contraseña incorrecta\n",
      "Contraseña incorrecta\n",
      "Constraseña correcta\n"
     ]
    }
   ],
   "source": [
    "#While, al ser infinito por defecto, en este caso te va a pedir la contraseña hasta que sea correcta\n",
    "\n",
    "#Si no se pone un break después de if s == password, te va a pedir infinitas veces la contraseña\n",
    "\n",
    "password = \"TB\"\n",
    "while True:\n",
    "    s = input(\"Introduce la contraseña\")\n",
    "    if s == password:\n",
    "        print (\"Constraseña correcta\")\n",
    "        break\n",
    "    else:\n",
    "        print(\"Contraseña incorrecta\")"
   ]
  },
  {
   "cell_type": "code",
   "execution_count": null,
   "metadata": {},
   "outputs": [],
   "source": [
    "password = \"TB\"\n",
    "s = \"\"\n",
    "while s != password:\n",
    "#en este caso no hace falta poner un break porque aquí se está comprobando una condición concreta (\"Mientras s sea distinto de password\")\n",
    "# Cuando esa condición sea False, se sale del bucle \n",
    "    s = input(\"Introduce la contraseña\")\n",
    "    if s == password:\n",
    "        print (\"Constraseña correcta\")\n",
    "        break\n",
    "    else:\n",
    "        print(\"Contraseña incorrecta\")"
   ]
  },
  {
   "cell_type": "code",
   "execution_count": 29,
   "metadata": {},
   "outputs": [
    {
     "output_type": "stream",
     "name": "stdout",
     "text": [
      "0\n1\n2\n3\n4\nFuera del while\n"
     ]
    }
   ],
   "source": [
    "#Para entrar en el while con un número determinado de veces:\n",
    "#Sirve para delimitar un número de intentos.\n",
    "\n",
    "#En este caso, se va acumulando un valor más a contador cada vez que entra en el while, hasta que la condición del while sea False\n",
    "\n",
    "contador = 0\n",
    "while contador != 5:\n",
    "    print(contador)\n",
    "    contador +=1\n",
    "    #Da igual poner el contador + arriba o abajo, porque las iteraciones        son las mismas, solo que si se pone arriba, contador será 1 y luego         se imprimirá\n",
    "print(\"Fuera del while\")"
   ]
  },
  {
   "cell_type": "code",
   "execution_count": 36,
   "metadata": {},
   "outputs": [
    {
     "output_type": "stream",
     "name": "stdout",
     "text": [
      "a\nintento 1\nb\nintento 2\nc\nintento 3\nd\nintento 4\nSe acabó\n"
     ]
    }
   ],
   "source": [
    "lista = [\"a\", \"b\", \"c\", \"d\"]\n",
    "\n",
    "acum = 0\n",
    "#La condición del while siempre es un booleano\n",
    "# Es conveniente hacer una condición para delimitar el while.\n",
    "while acum < len(lista):\n",
    "    print(lista[acum])\n",
    "    print(\"intento\", acum +1)\n",
    "    acum +=1\n",
    "print(\"Se acabó\")\n",
    "\n",
    "#For siempre necesita una colección y así hace un número concreto de iteraciones.\n",
    "#Con while solo hace falta un booleano. Que sea True\n",
    "\n",
    "#Cuando haya una colección, es recomendable utilizar un for "
   ]
  },
  {
   "cell_type": "code",
   "execution_count": 38,
   "metadata": {
    "tags": []
   },
   "outputs": [
    {
     "output_type": "stream",
     "name": "stdout",
     "text": [
      "intento 1\nintento 2\nintento 4\nSe acabó\n"
     ]
    }
   ],
   "source": [
    "lista = [\"a\", \"b\", \"c\", \"d\"]\n",
    "\n",
    "acum = 0\n",
    "\n",
    "# Es conveniente hacer una condición para delimitar el while.\n",
    "#En esta función se salta la c, puesto que ahí acum == 2\n",
    "while acum < len(lista):\n",
    "    if acum == 2:\n",
    "        acum += 1\n",
    "        continue\n",
    "    print(\"intento\", acum +1)\n",
    "    acum +=1\n",
    "print(\"Se acabó\")"
   ]
  },
  {
   "cell_type": "code",
   "execution_count": 39,
   "metadata": {},
   "outputs": [
    {
     "output_type": "stream",
     "name": "stdout",
     "text": [
      "Hola\n",
      "Adiós\n"
     ]
    }
   ],
   "source": [
    "import time\n",
    "while True:\n",
    "    print(\"Hola\")\n",
    "    time.sleep(3) #Sleep sirve para retrasar la ejecución un tiempo determinado. En este caso, tres segundos\n",
    "    print(\"Adiós\")\n",
    "    break"
   ]
  },
  {
   "cell_type": "code",
   "execution_count": null,
   "metadata": {},
   "outputs": [],
   "source": [
    "lista = [\"a\", \"b\", \"c\", \"d\"]\n",
    "\n",
    "acum = 0\n",
    "while acum < len(lista):\n",
    "    print(lista[acum])\n",
    "    acum += 1"
   ]
  },
  {
   "cell_type": "code",
   "execution_count": 50,
   "metadata": {},
   "outputs": [
    {
     "output_type": "stream",
     "name": "stdout",
     "text": [
      "b\nd\n"
     ]
    }
   ],
   "source": [
    "lista = [\"a\", \"b\", \"c\", \"d\"]\n",
    "\n",
    "#En este caso si acum\n",
    "acum = 1\n",
    "while 1 <=acum and acum <=3:\n",
    "    if acum == 2:\n",
    "        acum +=1 #Al poner este acum aquí, cuando acum sea 2, se le suma 1 (vale 3) y por lo tanto, la siguiente vez ya no se vuelve a entrar infinitas veces en el continue\n",
    "        continue\n",
    "    print(lista[acum])\n",
    "    acum += 1\n"
   ]
  },
  {
   "cell_type": "code",
   "execution_count": 68,
   "metadata": {
    "tags": []
   },
   "outputs": [
    {
     "output_type": "stream",
     "name": "stdout",
     "text": [
      "['a', 'c', 'e']\n"
     ]
    }
   ],
   "source": [
    "lista = [\"a\", \"b\", \"c\", \"d\", \"e\", \"f\"]\n",
    "\n",
    "acum = 0\n",
    "listilla =[]\n",
    "while acum < len(lista):\n",
    "    listilla.append(lista[acum])\n",
    "    acum +=2\n",
    "print(listilla)\n",
    "#aquí, en la segunda iteración se acaba sumando 2 a"
   ]
  },
  {
   "source": [
    "## OTRAS COSAS"
   ],
   "cell_type": "markdown",
   "metadata": {}
  },
  {
   "cell_type": "code",
   "execution_count": 71,
   "metadata": {},
   "outputs": [
    {
     "output_type": "stream",
     "name": "stdout",
     "text": [
      "[0, 1, 2, 3, 4, 5, 6, 7, 8, 9]\n-----\n[0, 2, 4]\n"
     ]
    }
   ],
   "source": [
    "lista = list(range(10))\n",
    "print(lista)\n",
    "print(\"-----\")\n",
    "print(lista[0:5:2])\n"
   ]
  },
  {
   "cell_type": "code",
   "execution_count": 90,
   "metadata": {},
   "outputs": [
    {
     "output_type": "stream",
     "name": "stdout",
     "text": [
      "<class 'list'> ['Mallorca', 'España', 'Mérida', 'Francia', 'Madrid', 'Italia']\n"
     ]
    }
   ],
   "source": [
    "lista_a = [\"Mallorca\", \"Mérida\", \"Madrid\"]\n",
    "lista_b = [\"España\", \"Francia\", \"Italia\"]\n",
    "listadefinitiva = []\n",
    "for i in range(len(lista_a)):\n",
    "    listaanadida = [lista_a[i], lista_b[i]] #Extend\n",
    "    listadefinitiva.extend(listaanadida)\n",
    "print(type(listadefinitiva), listadefinitiva)"
   ]
  },
  {
   "cell_type": "code",
   "execution_count": 87,
   "metadata": {},
   "outputs": [
    {
     "output_type": "stream",
     "name": "stdout",
     "text": [
      "Valor de i: 0\nLista_a[0---] ---> Mallorca\nLista_b[0---] ---> España\nValor de i: 1\nLista_a[1---] ---> Mérida\nLista_b[1---] ---> Francia\nValor de i: 2\nLista_a[2---] ---> Madrid\nLista_b[2---] ---> Italia\n--------------\n"
     ]
    }
   ],
   "source": [
    "for i in [0, 1, 2]:\n",
    "    print(\"Valor de i:\", i)\n",
    "    print(\"Lista_a[\" + str(i) + \"---] --->\", lista_a[i])\n",
    "    print(\"Lista_b[\" + str(i) + \"---] --->\", lista_b[i])\n",
    "print(\"--------------\")\n"
   ]
  },
  {
   "cell_type": "code",
   "execution_count": null,
   "metadata": {},
   "outputs": [],
   "source": []
  }
 ]
}