{
 "cells": [
  {
   "cell_type": "markdown",
   "metadata": {},
   "source": [
    "# Python | day 6 | dictionaries"
   ]
  },
  {
   "cell_type": "markdown",
   "metadata": {},
   "source": [
    "Dictionaries are used to store data values in key:value pairs.\n",
    "\n",
    "A dictionary is a collection which is unordered, changeable and does not allow duplicates.\n",
    "\n",
    "Dictionaries are written with curly brackets, and have keys and values:"
   ]
  },
  {
   "cell_type": "markdown",
   "metadata": {},
   "source": [
    "```python\n",
    "thisdict = {\n",
    "  \"brand\": \"Ford\",\n",
    "  \"model\": \"Mustang\",\n",
    "  \"year\": 1964\n",
    "}\n",
    "```"
   ]
  },
  {
   "cell_type": "markdown",
   "metadata": {},
   "source": [
    "https://www.w3schools.com/python/python_dictionaries.asp"
   ]
  },
  {
   "cell_type": "markdown",
   "metadata": {},
   "source": [
    "### Exercise 1. \n",
    "\n",
    "1. Create a dictionary with an integer 5 as the key and \"val\" as its value."
   ]
  },
  {
   "cell_type": "code",
   "execution_count": 3,
   "metadata": {},
   "outputs": [
    {
     "output_type": "stream",
     "name": "stdout",
     "text": [
      "{5: 'val'}\n"
     ]
    }
   ],
   "source": [
    "dictionary = {5:\"val\"}\n",
    "print(dictionary)"
   ]
  },
  {
   "cell_type": "markdown",
   "metadata": {},
   "source": [
    "2. Create two lists: one that has 4 city names and another that has 4 landmarks in the city."
   ]
  },
  {
   "cell_type": "code",
   "execution_count": 4,
   "metadata": {},
   "outputs": [
    {
     "output_type": "stream",
     "name": "stdout",
     "text": [
      "lista cities: ['Madrid', 'Barcelona', 'Paris', 'Berlin']\nlista landmarks: ['Puerta del sol', 'Sagrada Familia', 'Torre Eiffel', 'Puerta de Brandenburgo']\n"
     ]
    }
   ],
   "source": [
    "cities = [\"Madrid\", \"Barcelona\", \"Paris\", \"Berlin\"]\n",
    "landmarks = [\"Puerta del sol\", \"Sagrada Familia\", \"Torre Eiffel\", \"Puerta de Brandenburgo\"]\n",
    "\n",
    "print(\"lista cities:\", cities)\n",
    "print(\"lista landmarks:\", landmarks)\n"
   ]
  },
  {
   "cell_type": "markdown",
   "metadata": {},
   "source": [
    "3. Create a dictionary where the cities contained in the first list are the **keys** and the landmarks are the **values**.\n",
    "```python\n",
    "#example\n",
    "places = {\"Malaga\": \"Gibralfaro\", \n",
    "         \"Madrid\": \"Templo de Debod\",\n",
    "         \"Granada\": \"La Alcazaba\",\n",
    "         \"Barcelona\": \"Sagrada Familia\"}\n",
    "```"
   ]
  },
  {
   "cell_type": "code",
   "execution_count": 5,
   "metadata": {},
   "outputs": [
    {
     "output_type": "stream",
     "name": "stdout",
     "text": [
      "Diccionario manual {'Madrid': 'Puerta del Sol', 'Barcelona': 'Sagrada Familia', 'Paris': 'Torre Eiffel', 'Berlin': 'Puerta de Brandenburgo'}\n-----------\nDiccionario utilizando la función zip {'Madrid': 'Puerta del sol', 'Barcelona': 'Sagrada Familia', 'Paris': 'Torre Eiffel', 'Berlin': 'Puerta de Brandenburgo'}\n"
     ]
    }
   ],
   "source": [
    "#Yo la hubiera hecho manualmente. Tal que así\n",
    "diccionario_city_land = {\"Madrid\": \"Puerta del Sol\", \"Barcelona\": \"Sagrada Familia\", \"Paris\": \"Torre Eiffel\", \"Berlin\": \"Puerta de Brandenburgo\"}\n",
    "print(\"Diccionario manual\", diccionario_city_land)\n",
    "print(\"-----------\")\n",
    "# He visto que existe la función zip\n",
    "\n",
    "diccionario_ciudad_monumento = dict(zip(cities, landmarks))\n",
    "#diccionario_ciudad_monumento es un diccionario resultante del zip de cities y landmarks\n",
    "#Es decir, de la fusión de sus elementos en paralelo\n",
    "print(\"Diccionario utilizando la función zip\",diccionario_ciudad_monumento)"
   ]
  },
  {
   "cell_type": "markdown",
   "metadata": {},
   "source": [
    "4. Loop through the dictionary and print only the values of those keys starting with the letter **M**.\n",
    "\n",
    "https://realpython.com/iterate-through-dictionary-python/"
   ]
  },
  {
   "cell_type": "code",
   "execution_count": 6,
   "metadata": {},
   "outputs": [
    {
     "output_type": "stream",
     "name": "stdout",
     "text": [
      "M\n----------\n"
     ]
    },
    {
     "output_type": "execute_result",
     "data": {
      "text/plain": [
       "'Madrid'"
      ]
     },
     "metadata": {},
     "execution_count": 6
    }
   ],
   "source": [
    "for key in diccionario_ciudad_monumento.keys():\n",
    "    for letra in key:\n",
    "        if letra == \"M\":\n",
    "            print(letra)\n",
    "print(\"----------\")\n",
    "\n",
    "#Mejor si creo una función\n",
    "def imprime_solo_con_M (your_dictionary):\n",
    "    for clave in diccionario_ciudad_monumento.keys():\n",
    "        for inicial in clave:\n",
    "            if inicial == \"M\":\n",
    "                return clave\n",
    "\n",
    "imprime_solo_con_M(your_dictionary = diccionario_ciudad_monumento)"
   ]
  },
  {
   "cell_type": "markdown",
   "metadata": {},
   "source": [
    "5. Create a function that receives two lists `list1` and `list2` by parameter and returns a dictionary with each element of `list1` as keys and the elements of `list2` as values. Call the function with the lists you have created before to return the same dictionary you've created in question 3. "
   ]
  },
  {
   "cell_type": "code",
   "execution_count": 7,
   "metadata": {},
   "outputs": [
    {
     "output_type": "execute_result",
     "data": {
      "text/plain": [
       "{'Madrid': 'Puerta del sol',\n",
       " 'Barcelona': 'Sagrada Familia',\n",
       " 'Paris': 'Torre Eiffel',\n",
       " 'Berlin': 'Puerta de Brandenburgo'}"
      ]
     },
     "metadata": {},
     "execution_count": 7
    }
   ],
   "source": [
    "#Esto se podría hacer nuevamente con la función zip, tal y como he mostrado antes\n",
    "#Para hacerlo como lo pide el ejercicio:\n",
    "\n",
    "cities = [\"Madrid\", \"Barcelona\", \"Paris\", \"Berlin\"]\n",
    "landmarks = [\"Puerta del sol\", \"Sagrada Familia\", \"Torre Eiffel\", \"Puerta de Brandenburgo\"]\n",
    "\n",
    "def conv(l1,l2):\n",
    "    lista_dic=[]\n",
    "    for x in range(len(l1)):\n",
    "        lt=(l1[x],l2[x]) #Es necesario que esto sea una tupla para que el primer elemento sea una key y el segundo un value cuando lo pase a lista\n",
    "        lista_dic.append(lt)\n",
    "    return dict(lista_dic) #Para los diccionarios es necesario hacer una tupla para que se identifique el primer elemento como clave y el segundo como key\n",
    "\n",
    "conv(cities,landmarks)     "
   ]
  },
  {
   "cell_type": "markdown",
   "metadata": {},
   "source": [
    "### Exercise 2. "
   ]
  },
  {
   "cell_type": "markdown",
   "metadata": {},
   "source": [
    "1. Create an empty dictionary called dog."
   ]
  },
  {
   "cell_type": "code",
   "execution_count": 8,
   "metadata": {},
   "outputs": [],
   "source": [
    "dog = {}"
   ]
  },
  {
   "cell_type": "markdown",
   "metadata": {},
   "source": [
    "2. Add name, color, breed, legs, age to the dog dictionary."
   ]
  },
  {
   "cell_type": "code",
   "execution_count": 9,
   "metadata": {},
   "outputs": [
    {
     "output_type": "stream",
     "name": "stdout",
     "text": [
      "Dog dictionary updated: {'name': 'Baxter', 'color': 'green', 'breed': 'greyhound', 'legs': 3, 'age': 50}\n"
     ]
    }
   ],
   "source": [
    "atributos_perro = {\"name\": \"Baxter\", \"color\": \"green\", \"breed\":\"greyhound\", \"legs\": 3, \"age\": 50}\n",
    "\n",
    "dog.update(atributos_perro)\n",
    "print(\"Dog dictionary updated:\", dog)"
   ]
  },
  {
   "cell_type": "markdown",
   "metadata": {},
   "source": [
    "3. Create a student dictionary and add first_name, last_name, age, skills, country, city and address as keys for the dictionary.\n"
   ]
  },
  {
   "cell_type": "code",
   "execution_count": 10,
   "metadata": {},
   "outputs": [
    {
     "output_type": "stream",
     "name": "stdout",
     "text": [
      "Student dictionary {'first_name': 'Leonardo', 'last_name': 'Sánchez', 'age': 23, 'skills': 'hardworking', 'country': 'Spain', 'city': 'Valencia', 'adress': ['Calle Churruca', 10]}\n"
     ]
    }
   ],
   "source": [
    "student_dictionary = {\"first_name\": \"Leonardo\", \"last_name\": \"Sánchez\", \"age\": 23, \"skills\": \"hardworking\", \"country\": \"Spain\", \"city\": \"Valencia\", \"adress\":[\"Calle Churruca\", 10]}\n",
    "print(\"Student dictionary\", student_dictionary)"
   ]
  },
  {
   "cell_type": "markdown",
   "metadata": {},
   "source": [
    "4. Get the length of the student dictionary.\n"
   ]
  },
  {
   "cell_type": "code",
   "execution_count": 11,
   "metadata": {},
   "outputs": [
    {
     "output_type": "execute_result",
     "data": {
      "text/plain": [
       "7"
      ]
     },
     "metadata": {},
     "execution_count": 11
    }
   ],
   "source": [
    "len(student_dictionary)"
   ]
  },
  {
   "cell_type": "markdown",
   "metadata": {},
   "source": [
    "5. Get the value of skills and check the data type, it should be a list."
   ]
  },
  {
   "cell_type": "code",
   "execution_count": 12,
   "metadata": {},
   "outputs": [
    {
     "output_type": "stream",
     "name": "stdout",
     "text": [
      "hardworking <class 'str'>\n['hardworking', <class 'str'>]\n"
     ]
    }
   ],
   "source": [
    "#Necesito encontrar el valor de skills\n",
    "\n",
    "for key, value in student_dictionary.items():\n",
    "    if key == \"skills\":\n",
    "        print(value, type(value))\n",
    "        print([value, type(value)])"
   ]
  },
  {
   "cell_type": "markdown",
   "metadata": {},
   "source": [
    "6. Modify the skills values by adding one or two skills."
   ]
  },
  {
   "cell_type": "code",
   "execution_count": 13,
   "metadata": {},
   "outputs": [
    {
     "output_type": "stream",
     "name": "stdout",
     "text": [
      "{'first_name': 'Leonardo', 'last_name': 'Sánchez', 'age': 23, 'skills': ('hardworking', 'collaborative', 'fast'), 'country': 'Spain', 'city': 'Valencia', 'adress': ['Calle Churruca', 10]}\n"
     ]
    }
   ],
   "source": [
    "#Modificar los valores asociados a la clave skills añadiendo una o dos habilidades\n",
    "\n",
    "#Sé que si los valores de la clave skills fuesen una lista, podría haberlos añadido, pero busco saber cómo hacerlo si son strings\n",
    "\n",
    "\n",
    "diccionario_en_lista = list(student_dictionary)\n",
    "\n",
    "\n",
    "#Al final lo haré de la forma más sencilla\n",
    "\n",
    "student_dictionary[\"skills\"] = (\"hardworking\", \"collaborative\", \"fast\")\n",
    "print(student_dictionary)"
   ]
  },
  {
   "cell_type": "markdown",
   "metadata": {},
   "source": [
    "7. Get the dictionary keys as a list."
   ]
  },
  {
   "cell_type": "code",
   "execution_count": 14,
   "metadata": {},
   "outputs": [
    {
     "output_type": "execute_result",
     "data": {
      "text/plain": [
       "['first_name', 'last_name', 'age', 'skills', 'country', 'city', 'adress']"
      ]
     },
     "metadata": {},
     "execution_count": 14
    }
   ],
   "source": [
    "list(student_dictionary.keys())"
   ]
  },
  {
   "cell_type": "markdown",
   "metadata": {},
   "source": [
    "8. Get the dictionary values as a list.\n"
   ]
  },
  {
   "cell_type": "code",
   "execution_count": 15,
   "metadata": {},
   "outputs": [
    {
     "output_type": "execute_result",
     "data": {
      "text/plain": [
       "['Leonardo',\n",
       " 'Sánchez',\n",
       " 23,\n",
       " ('hardworking', 'collaborative', 'fast'),\n",
       " 'Spain',\n",
       " 'Valencia',\n",
       " ['Calle Churruca', 10]]"
      ]
     },
     "metadata": {},
     "execution_count": 15
    }
   ],
   "source": [
    "list(student_dictionary.values())"
   ]
  },
  {
   "cell_type": "markdown",
   "metadata": {},
   "source": [
    "9. Change the dictionary to a list of tuples using `items()` method"
   ]
  },
  {
   "cell_type": "code",
   "execution_count": 17,
   "metadata": {},
   "outputs": [
    {
     "output_type": "stream",
     "name": "stdout",
     "text": [
      "[('first_name', 'Leonardo'), ('last_name', 'Sánchez'), ('age', 23), ('skills', ('hardworking', 'collaborative', 'fast')), ('country', 'Spain'), ('city', 'Valencia'), ('adress', ['Calle Churruca', 10])]\n"
     ]
    }
   ],
   "source": [
    "lista_definitiva = []\n",
    "for key, value in student_dictionary.items():\n",
    "    tuple_lista = (key, value)\n",
    "    lista_definitiva.append(tuple_lista)\n",
    "print(lista_definitiva)"
   ]
  },
  {
   "cell_type": "markdown",
   "metadata": {},
   "source": [
    "10. Delete one of the items in the dictionary.\n"
   ]
  },
  {
   "cell_type": "code",
   "execution_count": null,
   "metadata": {},
   "outputs": [],
   "source": [
    "del student_dictionary[\"first_name\"]"
   ]
  },
  {
   "cell_type": "markdown",
   "metadata": {},
   "source": [
    "### Bonus Track"
   ]
  },
  {
   "cell_type": "markdown",
   "metadata": {},
   "source": [
    "**Tómate una cervecita o un zumito a tu salud.**"
   ]
  },
  {
   "cell_type": "markdown",
   "metadata": {},
   "source": [
    "!['daughter'](https://i.pinimg.com/originals/8f/35/28/8f35281e742e71be09697e7e6789b819.png)"
   ]
  },
  {
   "cell_type": "code",
   "execution_count": null,
   "metadata": {},
   "outputs": [],
   "source": []
  }
 ],
 "metadata": {
  "kernelspec": {
   "name": "python3",
   "display_name": "Python 3.9.0 64-bit",
   "metadata": {
    "interpreter": {
     "hash": "7812ea015bdcee6f23a998adcdd2ef97c151c0c241b7b7070987d9313e41299d"
    }
   }
  },
  "language_info": {
   "codemirror_mode": {
    "name": "ipython",
    "version": 3
   },
   "file_extension": ".py",
   "mimetype": "text/x-python",
   "name": "python",
   "nbconvert_exporter": "python",
   "pygments_lexer": "ipython3",
   "version": "3.9.0-final"
  }
 },
 "nbformat": 4,
 "nbformat_minor": 2
}