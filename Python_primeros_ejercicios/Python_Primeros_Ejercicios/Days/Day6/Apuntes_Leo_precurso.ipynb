{
 "metadata": {
  "language_info": {
   "codemirror_mode": {
    "name": "ipython",
    "version": 3
   },
   "file_extension": ".py",
   "mimetype": "text/x-python",
   "name": "python",
   "nbconvert_exporter": "python",
   "pygments_lexer": "ipython3",
   "version": "3.9.0-final"
  },
  "orig_nbformat": 2,
  "kernelspec": {
   "name": "python3",
   "display_name": "Python 3.9.0 64-bit",
   "metadata": {
    "interpreter": {
     "hash": "7812ea015bdcee6f23a998adcdd2ef97c151c0c241b7b7070987d9313e41299d"
    }
   }
  }
 },
 "nbformat": 4,
 "nbformat_minor": 2,
 "cells": [
  {
   "cell_type": "code",
   "execution_count": 2,
   "metadata": {},
   "outputs": [
    {
     "output_type": "stream",
     "name": "stdout",
     "text": [
      "[2, 4, 6, 8, 'a']\n"
     ]
    }
   ],
   "source": [
    "#Ejemplo de pop:\n",
    "#pop elimina el elemento a través de la posición\n",
    "#si en pop no hay nada, elimina por defecto el último elemento de la lista\n",
    "\n",
    "\n",
    "lista = [2, 4, 6, 6, 8, \"a\"]\n",
    "\n",
    "lista.pop(3) #lista.pop(3) en este caso elimina el elemento que está en la tercera posición\n",
    "\n",
    "print(lista)"
   ]
  },
  {
   "cell_type": "code",
   "execution_count": 18,
   "metadata": {},
   "outputs": [
    {
     "output_type": "stream",
     "name": "stdout",
     "text": [
      "[2, 4, 'a', 6]\n"
     ]
    }
   ],
   "source": [
    "#Una diferencia importante con pop y remove_\n",
    "#Remove elimina por VALOR y elimina el primero por defecto.\n",
    "lista2 = [2, 4, 6, \"a\", 6, 8]\n",
    "\n",
    "x = lista2.remove(6)\n",
    "lista2.remove(8)\n",
    "print(lista2)"
   ]
  },
  {
   "cell_type": "code",
   "execution_count": 5,
   "metadata": {},
   "outputs": [
    {
     "output_type": "stream",
     "name": "stdout",
     "text": [
      "None\n"
     ]
    }
   ],
   "source": [
    "def remove2 (a):\n",
    "    x = a + 2\n",
    "\n",
    "y = remove2(6)\n",
    "print(y)\n",
    "#Al no haber asignado un retorno a esta función, por defecto la función retorna None. Remove por defecto retorna None\n",
    "\n"
   ]
  },
  {
   "cell_type": "code",
   "execution_count": 7,
   "metadata": {},
   "outputs": [
    {
     "output_type": "stream",
     "name": "stdout",
     "text": [
      "6\n"
     ]
    }
   ],
   "source": [
    "lista2 = [2, 4, 6, \"a\", 6, 8]\n",
    "\n",
    "x = lista2.pop(4) #El return que tiene pop equivale al valor que ha borrado. None por defecto retorna el valor del elemento borrado.\n",
    "print(x)"
   ]
  },
  {
   "cell_type": "code",
   "execution_count": 8,
   "metadata": {},
   "outputs": [
    {
     "output_type": "stream",
     "name": "stdout",
     "text": [
      "2\n"
     ]
    }
   ],
   "source": [
    "lista2 = [2, 4, 6, \"a\", 6, 8]\n",
    "#Diferencia entre print y retornar:\n",
    "#Print no retorna nada\n",
    "#Si una función no tiene retorno, devuelve None por defecto\n",
    "\n",
    "def f(s):\n",
    "    print(s)\n",
    "x = f(2)\n",
    "x #Aunque se vea el 2, la función no retorna nada pero imprime\n",
    "\n",
    "print(x) # Si imprimimos la función, nos damos cuenta de que, al no tener retorno, no devuelve nada\n",
    "\n"
   ]
  },
  {
   "source": [
    "## Diccionarios"
   ],
   "cell_type": "markdown",
   "metadata": {}
  },
  {
   "cell_type": "code",
   "execution_count": 10,
   "metadata": {},
   "outputs": [
    {
     "output_type": "execute_result",
     "data": {
      "text/plain": [
       "{'key': 'valor'}"
      ]
     },
     "metadata": {},
     "execution_count": 10
    }
   ],
   "source": [
    "hola = \"saludo internacional\"\n",
    "\n",
    "#Todas las claves tienen un valor\n",
    "#clave/key = valor\n",
    "\n",
    "#dict es una palabra reservada\n",
    "dict\n",
    "\n",
    "#Los diccionarios se pueden crear así\n",
    "#Es un tipo más, al igual que str, int, float... (TIPOS NUMÉRICOS y STRINGS)\n",
    "diccionario = {\"key\" : \"valor\"}\n",
    "\n",
    "\n",
    "#una key puede ser string o entero, pero no lista\n",
    "#El valor puede ser lo que sea\n",
    "\n",
    "diccionario\n"
   ]
  },
  {
   "cell_type": "code",
   "execution_count": 11,
   "metadata": {},
   "outputs": [
    {
     "output_type": "stream",
     "name": "stdout",
     "text": [
      "valor\n"
     ]
    }
   ],
   "source": [
    "#En un diccionario no se pueden repetir claves\n",
    "\n",
    "print(diccionario[\"key\"])"
   ]
  },
  {
   "cell_type": "code",
   "execution_count": 12,
   "metadata": {},
   "outputs": [
    {
     "output_type": "execute_result",
     "data": {
      "text/plain": [
       "{2: 'este es el valor'}"
      ]
     },
     "metadata": {},
     "execution_count": 12
    }
   ],
   "source": [
    "diccionario2 = {2: \"este es el valor\"}\n",
    "diccionario2 #esto lo permite el diccionario, porque la key es un entero "
   ]
  },
  {
   "cell_type": "code",
   "execution_count": 16,
   "metadata": {},
   "outputs": [],
   "source": [
    "#Tú puedes tener varios valores dentro de una clave, pero no puedes tener 2 claves repetidas\n",
    "\n",
    "#El diccionario permite albergar información\n",
    "diccionario3 = {\"gabvaztor@gmail.com\": [\"password\", \"gabvaztor\", 6933748483, \"C/Pepito\", \"profesor\"]}\n",
    "\n",
    "diccionario3[\"gabvaztor@gmail.com\"] #al introducir la key, se muestran todos los valores que alberga\n",
    "\n",
    "\n",
    "diccionario4 = {\"juan\": 8, \"silvia\": 10, \"pepito\": 15}\n",
    "\n",
    "#el diccionario alberga una información ordenada por claves\n"
   ]
  },
  {
   "cell_type": "code",
   "execution_count": 17,
   "metadata": {},
   "outputs": [
    {
     "output_type": "execute_result",
     "data": {
      "text/plain": [
       "{'silvia': 10, 'pepito': 15}"
      ]
     },
     "metadata": {},
     "execution_count": 17
    }
   ],
   "source": [
    "#El diccionario solo busca por keys, no se pueden buscar sus valores\n",
    "\n",
    "#Para borrar una key:\n",
    "del diccionario4[\"juan\"]\n",
    "diccionario4\n",
    "\n"
   ]
  },
  {
   "cell_type": "code",
   "execution_count": 14,
   "metadata": {},
   "outputs": [
    {
     "output_type": "execute_result",
     "data": {
      "text/plain": [
       "int"
      ]
     },
     "metadata": {},
     "execution_count": 14
    }
   ],
   "source": [
    "#Dentro de un diccionario podemos crear cuantos diccionarios queramos\n",
    "\n",
    "diccionario7 = {\"k\": \"v\", 8:[7, \"y\"], 6:{1.1:[5]}}\n",
    "\n",
    "diccionario7[6][1.1][0] #En diccionario metes las keys entre corchetes, no las posiciones. Diferente de las listas.\n",
    "type(diccionario7[6][1.1][0])\n"
   ]
  },
  {
   "cell_type": "code",
   "execution_count": 24,
   "metadata": {},
   "outputs": [
    {
     "output_type": "execute_result",
     "data": {
      "text/plain": [
       "['k', 8, 6]"
      ]
     },
     "metadata": {},
     "execution_count": 24
    }
   ],
   "source": [
    "list(diccionario7.keys()) #Esta es la forma en la que se trabaja para obtener la lista de las keys de un diccionario"
   ]
  },
  {
   "cell_type": "code",
   "execution_count": null,
   "metadata": {},
   "outputs": [],
   "source": [
    "list(diccionario7.values()) #Esta es la forma en la que se trabaja para obtener la lista de los valores del diccionario"
   ]
  },
  {
   "cell_type": "code",
   "execution_count": null,
   "metadata": {},
   "outputs": [],
   "source": [
    "for key in diccionario7.keys(): #Con este bucle, se recorren la lista de las claves y en cada iteración se muestra cad key\n",
    "    print(key)"
   ]
  },
  {
   "cell_type": "code",
   "execution_count": null,
   "metadata": {},
   "outputs": [],
   "source": [
    "for value in diccionario7.values(): #Se recorre la lista de valores\n",
    "    print(value)"
   ]
  },
  {
   "cell_type": "code",
   "execution_count": 25,
   "metadata": {},
   "outputs": [
    {
     "output_type": "stream",
     "name": "stdout",
     "text": [
      "k : v\n8 : [7, 'y']\n6 : {1.1: [5]}\n"
     ]
    }
   ],
   "source": [
    "for key, value in diccionario7.items(): #Se imprime la clave y el valor de esa clave a través de items\n",
    "    print(key, \":\", value)"
   ]
  },
  {
   "cell_type": "code",
   "execution_count": 29,
   "metadata": {},
   "outputs": [
    {
     "output_type": "stream",
     "name": "stdout",
     "text": [
      "8 : [7, 'y']\n"
     ]
    }
   ],
   "source": [
    "for key, value in diccionario7.items(): #Se imprime la clave y el valor de esa clave a través de items\n",
    "    if type(key) == int and key > 6:\n",
    "        print(key, \":\", value)\n",
    "        #Esta es la forma para poder filtrar claves y el valor de esas claves.\n",
    " "
   ]
  },
  {
   "cell_type": "code",
   "execution_count": 15,
   "metadata": {},
   "outputs": [
    {
     "output_type": "stream",
     "name": "stdout",
     "text": [
      "{'k': 'v', 8: [7, 'y'], 6: {1.1: [5]}}\n···············\nIteración número: 1\nk ----- v\n###########\nIteración número: 2\n8 ----- [7, 'y']\n###########\nIteración número: 3\n6 ----- {1.1: [5]}\n###########\n"
     ]
    }
   ],
   "source": [
    "print(diccionario7)\n",
    "print(\"···············\")\n",
    "for pos, (key, value) in enumerate(diccionario7.items()):\n",
    "    print(\"Iteración número:\", pos+1) #Aquí se imprime el número de iteraciones\n",
    "    print(key, \"-----\", value) #Aquí se imprimen  la key y el valor del diccionario en cada iteración\n",
    "    print(\"###########\")\n",
    "\n",
    "#De esta forma se mantiene el orden.\n",
    "#No es del todo correcto "
   ]
  },
  {
   "cell_type": "code",
   "execution_count": 33,
   "metadata": {},
   "outputs": [
    {
     "output_type": "execute_result",
     "data": {
      "text/plain": [
       "dict_values([[65], 'Leonardo'])"
      ]
     },
     "metadata": {},
     "execution_count": 33
    }
   ],
   "source": [
    "#Hemos hablado sobre creación de diccionarios\n",
    "\n",
    "d = {4, 6, \"dhd\", 7} #esto es un conjunto\n",
    "\n",
    "diccionario5 = {\"k\": [65], \"f\": \"Leonardo\"}\n",
    "\n",
    "diccionario5.values()\n",
    "\n"
   ]
  },
  {
   "cell_type": "code",
   "execution_count": 34,
   "metadata": {},
   "outputs": [
    {
     "output_type": "execute_result",
     "data": {
      "text/plain": [
       "[[65], 'Leonardo']"
      ]
     },
     "metadata": {},
     "execution_count": 34
    }
   ],
   "source": [
    "#Para encontrar los valores en forma de lista:\n",
    "list(diccionario5.values())"
   ]
  },
  {
   "cell_type": "code",
   "execution_count": 35,
   "metadata": {},
   "outputs": [
    {
     "output_type": "stream",
     "name": "stdout",
     "text": [
      "k ----- [65]\nf ----- Leonardo\n"
     ]
    }
   ],
   "source": [
    "#Buscar en bucle todos los elementos:\n",
    "\n",
    "for key, value in diccionario5.items():\n",
    "    print(key, \"-----\", value)\n"
   ]
  },
  {
   "cell_type": "code",
   "execution_count": null,
   "metadata": {},
   "outputs": [],
   "source": [
    "for key, value in diccionario5.items():\n",
    "    if key == \"k2\":\n",
    "        \n",
    "    print(key, \"-----\", value)"
   ]
  },
  {
   "cell_type": "code",
   "execution_count": null,
   "metadata": {},
   "outputs": [],
   "source": [
    "#Para actualizar el valor asociado a una clave\n",
    "#No se puede modificar una clave en sí\n",
    "#Sí se puede modificar el valor de una clave.diccionario5\n",
    "\n"
   ]
  },
  {
   "cell_type": "code",
   "execution_count": 36,
   "metadata": {},
   "outputs": [
    {
     "output_type": "stream",
     "name": "stdout",
     "text": [
      "{'k': [65], 'f': 'Leonardo'}\n{'f': 'Leonardo'}\n"
     ]
    }
   ],
   "source": [
    "#Borrar clave de diccionario:\n",
    "print(diccionario5)\n",
    "del diccionario5[\"k\"]\n",
    "print(diccionario5)"
   ]
  },
  {
   "cell_type": "code",
   "execution_count": 37,
   "metadata": {},
   "outputs": [
    {
     "output_type": "stream",
     "name": "stdout",
     "text": [
      "{'f': 'Leonardo'}\n"
     ]
    }
   ],
   "source": [
    "#Actualizar modificar el calor asociado a una clave\n",
    "\n",
    "print(diccionario5)"
   ]
  },
  {
   "cell_type": "code",
   "execution_count": 38,
   "metadata": {},
   "outputs": [
    {
     "output_type": "stream",
     "name": "stdout",
     "text": [
      "{'f': 'Joselito'}\n"
     ]
    }
   ],
   "source": [
    "#Para cambiar un valor asociado a key\n",
    "diccionario5[\"f\"] = \"Joselito\"\n",
    "print(diccionario5)"
   ]
  },
  {
   "cell_type": "code",
   "execution_count": 39,
   "metadata": {},
   "outputs": [
    {
     "output_type": "stream",
     "name": "stdout",
     "text": [
      "updated dictionary: {'name': 'Zara', 'Age': 7, 'Sex': 'female'}\n"
     ]
    }
   ],
   "source": [
    "dictionary = {\"name\": \"Zara\", \"Age\": 7}\n",
    "dict2 = {\"Sex\": \"female\"}\n",
    "\n",
    "dictionary.update(dict2)\n",
    "\n",
    "#Update sirve para fusionar un diccionario con otro\n",
    "#Lo incluye al final del diccionario al que se aplica update.\n",
    "\n",
    "print(\"updated dictionary:\", dictionary)"
   ]
  },
  {
   "source": [
    "## Otras cosas\n"
   ],
   "cell_type": "markdown",
   "metadata": {}
  },
  {
   "cell_type": "code",
   "execution_count": 40,
   "metadata": {},
   "outputs": [
    {
     "output_type": "execute_result",
     "data": {
      "text/plain": [
       "(2, 7)"
      ]
     },
     "metadata": {},
     "execution_count": 40
    }
   ],
   "source": [
    "#Retornar más de un elemento\n",
    "\n",
    "k = 2, 7\n",
    "k"
   ]
  },
  {
   "cell_type": "code",
   "execution_count": 41,
   "metadata": {},
   "outputs": [
    {
     "output_type": "stream",
     "name": "stdout",
     "text": [
      "2\n7\n"
     ]
    }
   ],
   "source": [
    "k, j = 2, 7\n",
    "print(k)\n",
    "print(j)"
   ]
  },
  {
   "cell_type": "code",
   "execution_count": 44,
   "metadata": {},
   "outputs": [
    {
     "output_type": "stream",
     "name": "stdout",
     "text": [
      "<class 'tuple'>\n"
     ]
    }
   ],
   "source": [
    "def f():\n",
    "    return 3, 6, 8\n",
    "g = f()\n",
    "print(type(g))"
   ]
  },
  {
   "cell_type": "code",
   "execution_count": 53,
   "metadata": {},
   "outputs": [
    {
     "output_type": "stream",
     "name": "stdout",
     "text": [
      "2\n"
     ]
    }
   ],
   "source": [
    "def get_last_value_from_list(lista, position = -1):\n",
    "    if len(lista) > 0:\n",
    "        return lista[position]\n",
    "    else:\n",
    "        return \"No hay elementos\"\n",
    "\n",
    "listilla = [\"m\", 2]\n",
    "x = get_last_value_from_list(lista= listilla, position = 1)\n",
    "print(x)"
   ]
  },
  {
   "cell_type": "code",
   "execution_count": 56,
   "metadata": {},
   "outputs": [
    {
     "output_type": "stream",
     "name": "stdout",
     "text": [
      "2\n8\n6\ncoche\npepino\n8\n"
     ]
    }
   ],
   "source": [
    "lista = [2, \"8\", [6, \"joven\"], \"casa\", \"coche\", \"pepino\", [9,8]]\n",
    "\n",
    "def muestra_todos_excepto_joven_casa_9(lista):\n",
    "    for elementos in lista:\n",
    "        if elementos == lista[2]:\n",
    "            print(elementos[0])\n",
    "        elif elementos == \"casa\":\n",
    "            continue\n",
    "        elif elementos == lista[-1]:\n",
    "            print(elementos[1])\n",
    "        else:\n",
    "            print(elementos)\n",
    "\n",
    "muestra_todos_excepto_joven_casa_9(lista = lista)"
   ]
  },
  {
   "cell_type": "code",
   "execution_count": null,
   "metadata": {},
   "outputs": [],
   "source": []
  }
 ]
}