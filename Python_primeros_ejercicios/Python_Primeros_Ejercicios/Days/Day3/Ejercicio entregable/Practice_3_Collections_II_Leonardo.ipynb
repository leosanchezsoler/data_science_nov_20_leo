{
 "cells": [
  {
   "cell_type": "markdown",
   "metadata": {},
   "source": [
    "# Python | day 3 | collections & if/else"
   ]
  },
  {
   "cell_type": "markdown",
   "metadata": {},
   "source": [
    "### Exercise 1. "
   ]
  },
  {
   "cell_type": "markdown",
   "metadata": {},
   "source": [
    "1. Create a variable called **num_bridge** with a value of 15."
   ]
  },
  {
   "cell_type": "code",
   "execution_count": 1,
   "metadata": {},
   "outputs": [
    {
     "output_type": "stream",
     "name": "stdout",
     "text": [
      "Bridge number: 15\n"
     ]
    }
   ],
   "source": [
    "num_bridge = 15\n",
    "print(\"Bridge number:\",num_bridge)"
   ]
  },
  {
   "cell_type": "markdown",
   "metadata": {},
   "source": [
    "2. Create a variable called **name_street** with the value \"Recoletos\".\n",
    "\n"
   ]
  },
  {
   "cell_type": "code",
   "execution_count": 2,
   "metadata": {},
   "outputs": [
    {
     "output_type": "stream",
     "name": "stdout",
     "text": [
      "street name: Recoletos\n"
     ]
    }
   ],
   "source": [
    "name_street = \"Recoletos\"\n",
    "print(\"street name:\", name_street)"
   ]
  },
  {
   "cell_type": "markdown",
   "metadata": {},
   "source": [
    "3. Create a variable called **personal_taste** which should be `True` if you like the beach better or `False` if you rather choose mountain. "
   ]
  },
  {
   "cell_type": "code",
   "execution_count": 3,
   "metadata": {},
   "outputs": [
    {
     "output_type": "stream",
     "name": "stdout",
     "text": [
      "True\n"
     ]
    }
   ],
   "source": [
    "personal_taste = True\n",
    "print(personal_taste)"
   ]
  },
  {
   "cell_type": "markdown",
   "metadata": {},
   "source": [
    "4. Create a variable called **nothing** like follows: `nothing = None`. `None`doesn't represent any value, something you should keep in mind if you do `if nothing:` then `nothing` acts as a boolean `False`. "
   ]
  },
  {
   "cell_type": "code",
   "execution_count": 7,
   "metadata": {},
   "outputs": [
    {
     "output_type": "stream",
     "name": "stdout",
     "text": [
      "None\n"
     ]
    }
   ],
   "source": [
    "nothing = None\n",
    "print(nothing)"
   ]
  },
  {
   "cell_type": "markdown",
   "metadata": {},
   "source": [
    "5. Create a variable called **address_list**. This should be a list which contains the following: first element **name_street** and second element **num_bridge**. "
   ]
  },
  {
   "cell_type": "code",
   "execution_count": 8,
   "metadata": {},
   "outputs": [
    {
     "output_type": "stream",
     "name": "stdout",
     "text": [
      "Adress list: ['Recoletos', 15]\n"
     ]
    }
   ],
   "source": [
    "address_list = [name_street, num_bridge]\n",
    "print(\"Adress list:\", address_list)"
   ]
  },
  {
   "cell_type": "markdown",
   "metadata": {},
   "source": [
    "6. Create a variable called **sleep_hours** that should contains, as a string, the hours you've slept today."
   ]
  },
  {
   "cell_type": "code",
   "execution_count": 9,
   "metadata": {},
   "outputs": [
    {
     "output_type": "stream",
     "name": "stdout",
     "text": [
      "Ayer dormí 8 horas\n"
     ]
    }
   ],
   "source": [
    "sleep_hours = str(input(\"How many hours have you slept tonight?\"))\n",
    "print(\"Ayer dormí\", sleep_hours, \"horas\")"
   ]
  },
  {
   "cell_type": "markdown",
   "metadata": {},
   "source": [
    "7. Create a list called **info_list** containing every variable you've just created in the order you have done it.\n",
    "\n",
    "```python\n",
    "len(info_list) == 6\n",
    "True\n",
    "```\n",
    "\n",
    "**IMPORTANT: you will use `info_list` at some point next week**"
   ]
  },
  {
   "cell_type": "code",
   "execution_count": 10,
   "metadata": {},
   "outputs": [
    {
     "output_type": "stream",
     "name": "stdout",
     "text": [
      "Info list contains 6 elements\n"
     ]
    }
   ],
   "source": [
    "info_list = [num_bridge, name_street, personal_taste, nothing, address_list, sleep_hours]\n",
    "if len(info_list) == 6:\n",
    "    print(\"Info list contains 6 elements\")"
   ]
  },
  {
   "cell_type": "markdown",
   "metadata": {},
   "source": [
    "8. Run the following cell in order to delete every variable you've just created and keep **info_list** only.\n",
    "Print **info_list** once you've done it to check the list still exists."
   ]
  },
  {
   "cell_type": "code",
   "execution_count": 11,
   "metadata": {},
   "outputs": [],
   "source": [
    "#run this\n",
    "del num_bridge\n",
    "del name_street\n",
    "del personal_taste\n",
    "del nothing\n",
    "del address_list\n",
    "del sleep_hours"
   ]
  },
  {
   "cell_type": "code",
   "execution_count": 12,
   "metadata": {},
   "outputs": [
    {
     "output_type": "stream",
     "name": "stdout",
     "text": [
      "[15, 'Recoletos', True, None, ['Recoletos', 15], '8']\n"
     ]
    }
   ],
   "source": [
    "print(info_list)"
   ]
  },
  {
   "cell_type": "markdown",
   "metadata": {},
   "source": [
    "### Exercise 2."
   ]
  },
  {
   "cell_type": "markdown",
   "metadata": {},
   "source": [
    "You'll need `info_list` in order to continue with this exercise. Remember don't use any variable except `info_list`. \n",
    "\n",
    "Print the following. Don't use functions and/or loops. "
   ]
  },
  {
   "cell_type": "markdown",
   "metadata": {},
   "source": [
    " 1. Add the number of The Bridge and the hours you slept last night. "
   ]
  },
  {
   "cell_type": "code",
   "execution_count": 18,
   "metadata": {},
   "outputs": [
    {
     "output_type": "stream",
     "name": "stdout",
     "text": [
      "The Bridge Number: 15\nHours slept last night 8\nsuma de ambos valores: 23\n"
     ]
    }
   ],
   "source": [
    "print(\"The Bridge Number:\", str(info_list[0]))\n",
    "print(\"Hours slept last night\", str(info_list[5]))\n",
    "\n",
    "#para poder sumar ambos valores con más comodidad, redefino ambos como int\n",
    "\n",
    "info_list[0] = int(info_list[0])\n",
    "info_list[5] = int(info_list[5])\n",
    "\n",
    "print(\"suma de ambos valores:\", (info_list[0] +info_list[5]))"
   ]
  },
  {
   "cell_type": "markdown",
   "metadata": {},
   "source": [
    "2. Concatenate the number of The Bridge, the name of the street, your personal taste and the hours you slept. All of them should be separated by `\" --> \"`."
   ]
  },
  {
   "cell_type": "code",
   "execution_count": 27,
   "metadata": {},
   "outputs": [
    {
     "output_type": "stream",
     "name": "stdout",
     "text": [
      "Concatencación elementos [15, 'Recoletos', None, 8]\n<class 'list'>\nConcatenación de elementos: [15, 'Recoletos', None, 8]\nConcatenación de elementos definitiva [15, 'Recoletos', None, 8]\n[15, 'Recoletos', None, 8]\n<class 'str'>\nConcatenación definitiva de elementos: [15]\n"
     ]
    }
   ],
   "source": [
    "#Para tenerlo más claro\n",
    "#The_bridge_number = info_list[0]\n",
    "#The_bridge_street_name = info_list[1]\n",
    "#My_personal_taste = info_list[3]\n",
    "#Slept_hours = info_list[-1]\n",
    "\n",
    "\n",
    "\n",
    "concatenacion_elementos = [info_list[0], info_list[1], info_list[3], info_list[-1]]\n",
    "\n",
    "print(\"Concatencación elementos\", concatenacion_elementos)\n",
    "print(type(concatenacion_elementos))\n",
    "\n",
    "\n",
    "concatenacion_elementos_str = str([info_list[0],info_list[1],info_list[3],info_list[-1]])\n",
    "\n",
    "\n",
    "print(\"Concatenación de elementos:\", concatenacion_elementos)\n",
    "\n",
    "print(\"Concatenación de elementos definitiva\", concatenacion_elementos_str)\n",
    "\n",
    "#Segundo intento\n",
    "#The_bridge_number = info_list[0]\n",
    "#The_bridge_street_name = info_list[1]\n",
    "#My_personal_taste = info_list[3]\n",
    "#Slept_hours = info_list[-1]\n",
    "\n",
    "unificar_elementos = str([info_list[0], info_list[1], info_list[3], info_list[-1]])\n",
    "print(unificar_elementos)\n",
    "print(type(unificar_elementos))\n",
    "\n",
    "concatenacion_definitiva_elementos = (unificar_elementos[0] + unificar_elementos[1] + unificar_elementos[2] + unificar_elementos[-1])\n",
    "print(\"Concatenación definitiva de elementos:\", concatenacion_definitiva_elementos)\n",
    "\n",
    "#He querido probar de varias maneras pero al final me he quedado con esta. De repetir el ejercicio, podría simplificar los pasos"
   ]
  },
  {
   "cell_type": "markdown",
   "metadata": {},
   "source": [
    "3. Access to the list which is at the fourth position of **info_list** and print the result of: \n",
    "     - The concatenation of both elements contained in the list found in fourth position of **info_list**. \n",
    "     - The multiplication of the lenght of the list and the lenght of the street's name.\n",
    "    \n",
    "   If at the fourth position of **info_list** you don't find a list, go back to Exercise 1, please. "
   ]
  },
  {
   "cell_type": "code",
   "execution_count": 32,
   "metadata": {},
   "outputs": [
    {
     "output_type": "stream",
     "name": "stdout",
     "text": [
      "Info list: [15, 'Recoletos', True, None, ['Recoletos', 15], 8]\nCuarto elemento info_list ['Recoletos', 15]\nConcatenación cuarto elemento: Recoletos15\nLongitud de la lista por la longitud del nombre de la calle: 54\n"
     ]
    }
   ],
   "source": [
    "#Print info_list\n",
    "print(\"Info list:\", info_list)\n",
    "cuarto_elemento_info_list = info_list[4]\n",
    "print(\"Cuarto elemento info_list\", cuarto_elemento_info_list)\n",
    "\n",
    "#Para saber la concatenación de ambos elementos. concatenacion_cuarto_elemento = cuarto_elemento_info_list[0] + cuarto_elemento_info_list[1]\n",
    "\n",
    "concatenacion_cuarto_elemento = cuarto_elemento_info_list[0] + str(cuarto_elemento_info_list[1])\n",
    "\n",
    "print(\"Concatenación cuarto elemento:\", concatenacion_cuarto_elemento)\n",
    "\n",
    "multip_longitud = len(info_list) * len(info_list[1])\n",
    "print(\"Longitud de la lista por la longitud del nombre de la calle:\", multip_longitud)"
   ]
  },
  {
   "cell_type": "markdown",
   "metadata": {},
   "source": [
    "### Exercise 3."
   ]
  },
  {
   "cell_type": "markdown",
   "metadata": {},
   "source": [
    "1. Get user input using input(“Enter your age: ”). If user is 18 or older, give feedback: You are old enough to drive. If below 18 give feedback to wait for the missing amount of years."
   ]
  },
  {
   "cell_type": "code",
   "execution_count": 37,
   "metadata": {},
   "outputs": [
    {
     "output_type": "stream",
     "name": "stdout",
     "text": [
      "Your age: 6\nWait for this amount of years: 12\n"
     ]
    }
   ],
   "source": [
    "#Intento 1. \n",
    "\n",
    "your_age = int(input(\"Enter your age:\"))\n",
    "print(\"Your age:\", your_age)\n",
    "years_wait = 18 - int(your_age)\n",
    "\n",
    "if your_age > 18:\n",
    "    print(\"You are old enough to try\")\n",
    "elif your_age <18:\n",
    "    print(\"Wait for this amount of years:\", years_wait)"
   ]
  },
  {
   "cell_type": "markdown",
   "metadata": {},
   "source": [
    "2. Compare the values of **my_age** and **your_age** using if/else. Who is older (me or you)? Use input(“Enter your age: ”) to get **your_age** as input. **my_age** is always your age, cause you are the one coding the program. "
   ]
  },
  {
   "cell_type": "code",
   "execution_count": 40,
   "metadata": {},
   "outputs": [
    {
     "output_type": "stream",
     "name": "stdout",
     "text": [
      "My age: 23\nI'm older than you\n"
     ]
    }
   ],
   "source": [
    "my_age = int(input(\"How old am I?\"))\n",
    "print(\"My age:\",my_age)\n",
    "\n",
    "if my_age > (your_age):\n",
    "    print(\"I'm older than you\")\n",
    "else:\n",
    "    print(\"You're an old bastard\")"
   ]
  },
  {
   "cell_type": "markdown",
   "metadata": {},
   "source": [
    "3. Get two numbers from the user using input prompt. If a is greater than b return \"a is greater than b\", if a is less b return \"a is smaller than b\", else \"a is equal to b\"."
   ]
  },
  {
   "cell_type": "code",
   "execution_count": 41,
   "metadata": {},
   "outputs": [
    {
     "output_type": "stream",
     "name": "stdout",
     "text": [
      "a is smaller than b\n"
     ]
    }
   ],
   "source": [
    "a = 55\n",
    "b = 100\n",
    "\n",
    "if a > b:\n",
    "    print(\"a is greater than b\")\n",
    "elif a < b:\n",
    "    print(\"a is smaller than b\")\n",
    "else:\n",
    "    print(\"a is equal to b\")"
   ]
  },
  {
   "cell_type": "markdown",
   "metadata": {},
   "source": [
    "### Bonus track. \n",
    "\n",
    "Learn about **for loop**\n",
    "\n",
    "Watch this video: https://www.youtube.com/watch?v=wxds6MAtUQ0\n",
    "\n",
    "Read this: https://www.w3schools.com/python/python_for_loops.asp\n",
    "\n",
    "You may need this to understand what the f*** you're doing: http://www.pythontutor.com/visualize.html#mode=edit"
   ]
  },
  {
   "cell_type": "markdown",
   "metadata": {},
   "source": [
    "Declare four variables: \n",
    "- A string variable containing your surname. \n",
    "- Two integers variables: one, with the number of the street in which you live, and two, the age of the classmate sitting on your right. \n",
    "    If you are on the right edge of the table, look for your classmate on your left.\n",
    "    If you are on remote, choose one of your mates who are on remote too. \n",
    "- A list containing the variables you have just declared."
   ]
  },
  {
   "cell_type": "code",
   "execution_count": 43,
   "metadata": {},
   "outputs": [
    {
     "output_type": "stream",
     "name": "stdout",
     "text": [
      "My surname: Sánchez\nMy street number: 10\nMy classmate age: 25\nLista del ejercicio: ['Sánchez', 10, 25]\n"
     ]
    }
   ],
   "source": [
    "my_surname = \"Sánchez\"\n",
    "print(\"My surname:\", my_surname)\n",
    "\n",
    "my_street_number = 10\n",
    "print(\"My street number:\", my_street_number)\n",
    "\n",
    "classmate_age = 25\n",
    "print(\"My classmate age:\", classmate_age)\n",
    "\n",
    "lista = [my_surname, my_street_number, classmate_age]\n",
    "print(\"Lista del ejercicio:\", lista)"
   ]
  },
  {
   "cell_type": "markdown",
   "metadata": {},
   "source": [
    "Using a **for loop** print every element of the list you've just created. \n",
    "    \n"
   ]
  },
  {
   "cell_type": "code",
   "execution_count": 44,
   "metadata": {},
   "outputs": [
    {
     "output_type": "stream",
     "name": "stdout",
     "text": [
      "Sánchez\n10\n25\n"
     ]
    }
   ],
   "source": [
    "for x in lista:\n",
    "    print(x)"
   ]
  },
  {
   "cell_type": "markdown",
   "metadata": {},
   "source": [
    "Using a **for loop** and a **if** make sure you only print the element in the list which is a string\n",
    "(Your surname). "
   ]
  },
  {
   "cell_type": "code",
   "execution_count": 45,
   "metadata": {},
   "outputs": [
    {
     "output_type": "stream",
     "name": "stdout",
     "text": [
      "Sánchez\n"
     ]
    }
   ],
   "source": [
    "for x in lista:\n",
    "    if x == lista[0]:\n",
    "        print(x)"
   ]
  },
  {
   "cell_type": "markdown",
   "metadata": {},
   "source": [
    "**Well done!**"
   ]
  },
  {
   "cell_type": "markdown",
   "metadata": {},
   "source": [
    "### Bonus track of the bonus track.\n",
    "\n",
    "The following list contains some fruits:\n",
    "    \n",
    "`fruits = ['banana', 'orange', 'mango', 'lemon']`\n",
    "\n",
    "If a fruit doesn't exist in the list add the fruit to the list and print the modified list. If the fruit exists print('That fruit already exist in the list')"
   ]
  },
  {
   "cell_type": "code",
   "execution_count": 52,
   "metadata": {},
   "outputs": [
    {
     "output_type": "stream",
     "name": "stdout",
     "text": [
      "Fruits: ['banana', 'orange', 'mango', 'lemon']\n",
      "Your answer: apple\n",
      "['banana', 'orange', 'mango', 'lemon', 'apple']\n",
      "apple has been added to the list\n"
     ]
    }
   ],
   "source": [
    "fruits = [\"banana\", \"orange\", \"mango\", \"lemon\"]\n",
    "print(\"Fruits:\", fruits)\n",
    "\n",
    "#-----\n",
    "your_answer = input(\"Type your favorite fruit:\")\n",
    "print(\"Your answer:\", your_answer)\n",
    "if(your_answer) != fruits[0:-1]:\n",
    "    fruits.append(your_answer)\n",
    "    print(fruits)\n",
    "    print(your_answer, \"has been added to the list\")\n",
    "else:\n",
    "    print(\"That fruit already exist in the list\")\n",
    "\n",
    "#Intento 2. No ha hecho falta al final\n"
   ]
  },
  {
   "cell_type": "markdown",
   "metadata": {},
   "source": [
    "![\"hola\"](https://preview.redd.it/wk843smkri441.jpg?width=960&crop=smart&auto=webp&s=1a4d7a5ddeef38c03334d275afe3a9dd33866ce8)"
   ]
  },
  {
   "cell_type": "code",
   "execution_count": null,
   "metadata": {},
   "outputs": [],
   "source": []
  }
 ],
 "metadata": {
  "kernelspec": {
   "name": "python3",
   "display_name": "Python 3.9.0 64-bit",
   "metadata": {
    "interpreter": {
     "hash": "7812ea015bdcee6f23a998adcdd2ef97c151c0c241b7b7070987d9313e41299d"
    }
   }
  },
  "language_info": {
   "codemirror_mode": {
    "name": "ipython",
    "version": 3
   },
   "file_extension": ".py",
   "mimetype": "text/x-python",
   "name": "python",
   "nbconvert_exporter": "python",
   "pygments_lexer": "ipython3",
   "version": "3.9.0-final"
  }
 },
 "nbformat": 4,
 "nbformat_minor": 4
}