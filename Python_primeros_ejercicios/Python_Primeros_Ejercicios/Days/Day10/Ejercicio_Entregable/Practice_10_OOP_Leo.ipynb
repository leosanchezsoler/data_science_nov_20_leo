{
 "cells": [
  {
   "cell_type": "markdown",
   "metadata": {},
   "source": [
    "# Python | day 11 | object oriented programming"
   ]
  },
  {
   "cell_type": "markdown",
   "metadata": {},
   "source": [
    "#### ¡Practice what you already know and keep learning!"
   ]
  },
  {
   "cell_type": "markdown",
   "metadata": {},
   "source": [
    "![\"con_clase\"](https://cdn.ttgtmedia.com/rms/onlineimages/whatis-object_oriented_programming_half_column_mobile.png)"
   ]
  },
  {
   "cell_type": "markdown",
   "metadata": {},
   "source": [
    "https://realpython.com/python3-object-oriented-programming/"
   ]
  },
  {
   "cell_type": "markdown",
   "metadata": {},
   "source": [
    "## Exercise 1. "
   ]
  },
  {
   "cell_type": "markdown",
   "metadata": {},
   "source": [
    "A friend of yours have asked you to define a class so they can use it at the Natural History Museum in London in order to describe dinosaurs. \n",
    "\n",
    "Since you have no idea about dinosaurs he has given you a couple of instructions:\n",
    "\n",
    "   - Dinosaurs have four attributes all along the whole kind:\n",
    "        - They all have teeth, although every one of them have a different number of those\n",
    "        - Special skills which will be an empty list \n",
    "        - He finds interesting to specify if they are dangerous with a boolean, he also told you to set it False since usually they are very nice \n",
    "        - All of them have an only head\n",
    "        \n",
    "        \n",
    "   - Define also a couple of methods:\n",
    "   \n",
    "       - `many_teeth` --> number of teeth gives you a clue of how old the dinosaurs are, that's why it could be interesting to be able to change the number of teeth they have.\n",
    "       - `add_skill` --> this method add skills to each dinosaurs instance. \n",
    "       - `is_dangerous` --> not all of the dinosaurs are nice, some of them are a little bit dangerous and could attacks you, with this method you should be able to change the boolean set. Make sure, using `if`, the argument is always a boolean, if not print something like \"Remember you should give a boolean, True or False?\"\n"
   ]
  },
  {
   "cell_type": "code",
   "execution_count": 445,
   "metadata": {},
   "outputs": [],
   "source": [
    "# define a class Dinosaur\n",
    "class Dinosaur():\n",
    "    pass"
   ]
  },
  {
   "cell_type": "code",
   "execution_count": 446,
   "metadata": {},
   "outputs": [],
   "source": [
    "class Dinosaur():\n",
    "    def __init__(self, teeth, skills=None, dangerous=False, head=1):\n",
    "        self.teeth = teeth\n",
    "        self.skills = skills\n",
    "        self.dangerous = dangerous\n",
    "        self.head = head\n",
    "\n",
    "    def many_teeth(self, current_teeth):\n",
    "        antiguo_teeth = self.teeth\n",
    "        self.teeth = current_teeth\n",
    "        return \"Current teeth:\", self.teeth\n",
    "    def add_skill(self, new_skill, lst = []):\n",
    "        lst.append(new_skill)\n",
    "        return \"Skills list\", lst\n",
    "    def is_dangerous(self, danger):\n",
    "        if isinstance(danger, bool):\n",
    "            if True:\n",
    "                return \"Yes, it is dangerous\"\n",
    "            else:\n",
    "                return \"There's nothing to worry about\"\n",
    "        else:\n",
    "            return \"Make sure to introduce a bool as an argument\""
   ]
  },
  {
   "cell_type": "markdown",
   "metadata": {},
   "source": [
    "Once you have the class Dinosaur and its methods defined, create an instance **tyrannosaurus**. Your friend has told you that Tyrannosaurus rex had 50 to 60 solid cone-shaped teeth as big as bananas. Set the number of teeth as 60 since you will have the opportunity of changing it later using the method `many_teeth`. "
   ]
  },
  {
   "cell_type": "code",
   "execution_count": 447,
   "metadata": {},
   "outputs": [
    {
     "output_type": "execute_result",
     "data": {
      "text/plain": [
       "' Tyrannosaurus has 60 teeth'"
      ]
     },
     "metadata": {},
     "execution_count": 447
    }
   ],
   "source": [
    "# create an Tyrannosaurus rex with 60 teeth\n",
    "Tyrannosaurus = Dinosaur (teeth=60)\n",
    "f\" Tyrannosaurus has {Tyrannosaurus.teeth} teeth\""
   ]
  },
  {
   "cell_type": "markdown",
   "metadata": {},
   "source": [
    "Tyrannosaurus rex are the most dangerous dinosaurs so please, use the method `is_dangerous` with the argument \"yes, it is dangerous\", to set this up. It should return a message telling you to give a boolean, True or False, instead of the string you used as argument. "
   ]
  },
  {
   "cell_type": "code",
   "execution_count": 448,
   "metadata": {},
   "outputs": [
    {
     "output_type": "execute_result",
     "data": {
      "text/plain": [
       "'Make sure to introduce a bool as an argument'"
      ]
     },
     "metadata": {},
     "execution_count": 448
    }
   ],
   "source": [
    "# call is_dangerous method saying \"yes, it is dangerous\"\n",
    "y= \"yes, it is dangerous\"\n",
    "Tyrannosaurus.is_dangerous(danger= y)"
   ]
  },
  {
   "cell_type": "markdown",
   "metadata": {},
   "source": [
    "Good try! But you need to set this with a boolean. Since tyrannosaurus rex are dangerous give True as an argument to the method `is_dangerous`."
   ]
  },
  {
   "cell_type": "code",
   "execution_count": 449,
   "metadata": {},
   "outputs": [
    {
     "output_type": "execute_result",
     "data": {
      "text/plain": [
       "'Yes, it is dangerous'"
      ]
     },
     "metadata": {},
     "execution_count": 449
    }
   ],
   "source": [
    "# call is_dangerous method with True as an argument\n",
    "Tyrannosaurus.is_dangerous(danger = True)"
   ]
  },
  {
   "cell_type": "markdown",
   "metadata": {},
   "source": [
    "Set \"lethality\" as an special skill of the tyrannosaurus rex using the `add_skill` method. "
   ]
  },
  {
   "cell_type": "code",
   "execution_count": 450,
   "metadata": {},
   "outputs": [
    {
     "output_type": "execute_result",
     "data": {
      "text/plain": [
       "('Skills list', ['lethality'])"
      ]
     },
     "metadata": {},
     "execution_count": 450
    }
   ],
   "source": [
    "# give lethality as an argument to the method add_skill\n",
    "Tyrannosaurus.add_skill(new_skill=\"lethality\")"
   ]
  },
  {
   "cell_type": "markdown",
   "metadata": {},
   "source": [
    "Show its `special_skill` to make sure you add the skill as expected."
   ]
  },
  {
   "cell_type": "code",
   "execution_count": 451,
   "metadata": {},
   "outputs": [
    {
     "output_type": "execute_result",
     "data": {
      "text/plain": [
       "'Ya lo he impreso arriba'"
      ]
     },
     "metadata": {},
     "execution_count": 451
    }
   ],
   "source": [
    "# show its special_skill \n",
    "\"\"\"Ya lo he impreso arriba\"\"\""
   ]
  },
  {
   "cell_type": "markdown",
   "metadata": {},
   "source": [
    "If you could add \"lethality\" to the tyrannosaurus special skills, let's try now adding \"strength\"."
   ]
  },
  {
   "cell_type": "code",
   "execution_count": 452,
   "metadata": {},
   "outputs": [
    {
     "output_type": "execute_result",
     "data": {
      "text/plain": [
       "('Skills list', ['lethality', 'strength'])"
      ]
     },
     "metadata": {},
     "execution_count": 452
    }
   ],
   "source": [
    "# add strength to the list of special_skill\n",
    "Tyrannosaurus.add_skill(new_skill=\"strength\")"
   ]
  },
  {
   "cell_type": "markdown",
   "metadata": {},
   "source": [
    "Now, you know a lot about tyrannosaurus rex and found out the most of them lose some teeth due to their diet during their life, so 50 teeth should be more realistic. Use `many_teeth` method. "
   ]
  },
  {
   "cell_type": "code",
   "execution_count": 453,
   "metadata": {},
   "outputs": [
    {
     "output_type": "execute_result",
     "data": {
      "text/plain": [
       "('Current teeth:', 50)"
      ]
     },
     "metadata": {},
     "execution_count": 453
    }
   ],
   "source": [
    "# set 50 teeth as the number of teeth\n",
    "Tyrannosaurus.many_teeth(current_teeth= 50)"
   ]
  },
  {
   "cell_type": "markdown",
   "metadata": {},
   "source": [
    "Show the tyrannosaurus rex's attributes defining a dictionary called `tyrannosaurus_data`. The keys should be the attributes: `teeth`, `danger`, `head`, `special_skill`, and the values those given to the attributes during the exercise.\n",
    "\n",
    "*Hint: You could solve this exercise using a function. Try google.* "
   ]
  },
  {
   "cell_type": "code",
   "execution_count": 454,
   "metadata": {},
   "outputs": [
    {
     "output_type": "stream",
     "name": "stdout",
     "text": [
      "{'teeth': 50, 'danger': False, 'special_skills': None, 'head': 1}\nAsí he sacado el diccionario de Tyrannosaurus: {'teeth': 50, 'skills': None, 'dangerous': False, 'head': 1}\n"
     ]
    }
   ],
   "source": [
    "# create the tyrannosaurus_data dictionary\n",
    "# Lo primero es hacer un diccionario donde las claves sean los atributos y los valores sean los valores aportados a los atributos durante el ejercicio\n",
    "\n",
    "\n",
    "tyrannosaurus_data = {\"teeth\": Tyrannosaurus.teeth, \"danger\":Tyrannosaurus.dangerous, \"special_skills\": Tyrannosaurus.skills, \"head\":Tyrannosaurus.head}\n",
    "print(tyrannosaurus_data)\n",
    "\n",
    "print(\"Así he sacado el diccionario de Tyrannosaurus:\", Tyrannosaurus.__dict__)\n"
   ]
  },
  {
   "cell_type": "markdown",
   "metadata": {},
   "source": [
    "### Bonus\n",
    "\n",
    "Try to define a function named `if_danger` which check if **Dinosaur** is dangerous and if it is, then return something like \"RUN FOR YOUR LIFE, THIS GUY IS HUNGRY AND EAT PEOPLE\", in case the dinosaur isn't dangerous return \"all good, nothing to fear\".\n",
    "\n",
    "Call the function using as an argument the attribute `danger` of the **tyrannosaurus**."
   ]
  },
  {
   "cell_type": "code",
   "execution_count": 455,
   "metadata": {},
   "outputs": [],
   "source": [
    "# define if_danger with one parameter\n",
    "#Estoy seguro que hesto tiene que ver con la herencia\n",
    "\n",
    "\n",
    "\n",
    "def if_danger(dangerous):\n",
    "    if dangerous == True:\n",
    "       return \"RUN FOR YOUR LIFE, THIS GUY IS HUNGRY AND EAT PEOPLE\"\n",
    "    if dangerous == False:\n",
    "        return \"all good, nothing to fear\"\n"
   ]
  },
  {
   "cell_type": "code",
   "execution_count": 458,
   "metadata": {},
   "outputs": [
    {
     "output_type": "error",
     "ename": "NameError",
     "evalue": "name 'isDinosaur' is not defined",
     "traceback": [
      "\u001b[0;31m---------------------------------------------------------------------------\u001b[0m",
      "\u001b[0;31mNameError\u001b[0m                                 Traceback (most recent call last)",
      "\u001b[0;32m<ipython-input-458-a6802afbc8c6>\u001b[0m in \u001b[0;36m<module>\u001b[0;34m\u001b[0m\n\u001b[1;32m      3\u001b[0m         \u001b[0;32mreturn\u001b[0m \u001b[0;32mTrue\u001b[0m\u001b[0;34m\u001b[0m\u001b[0;34m\u001b[0m\u001b[0m\n\u001b[1;32m      4\u001b[0m \u001b[0;34m\u001b[0m\u001b[0m\n\u001b[0;32m----> 5\u001b[0;31m \u001b[0misDinosaur\u001b[0m\u001b[0;34m(\u001b[0m\u001b[0mis_dangerous\u001b[0m\u001b[0;34m)\u001b[0m\u001b[0;34m\u001b[0m\u001b[0;34m\u001b[0m\u001b[0m\n\u001b[0m",
      "\u001b[0;31mNameError\u001b[0m: name 'isDinosaur' is not defined"
     ]
    }
   ],
   "source": [
    "class B(Dinosaur):\n",
    "    def __init__ (self, teeth, skills=None, dangerous=False, head=1)\n",
    "isDinosaur(is_dangerous)"
   ]
  },
  {
   "cell_type": "code",
   "execution_count": 444,
   "metadata": {},
   "outputs": [
    {
     "output_type": "execute_result",
     "data": {
      "text/plain": [
       "'all good, nothing to fear'"
      ]
     },
     "metadata": {},
     "execution_count": 444
    }
   ],
   "source": [
    "# invoked the if_danger function\n",
    "if_danger(dangerous= Tyrannosaurus.dangerous)\n",
    "\n",
    "\n"
   ]
  },
  {
   "cell_type": "code",
   "execution_count": null,
   "metadata": {},
   "outputs": [],
   "source": [
    "if_danger (dangerous= class Dinosaur )"
   ]
  },
  {
   "cell_type": "code",
   "execution_count": null,
   "metadata": {},
   "outputs": [],
   "source": [
    "def is_dangerous(self, danger):\n",
    "        if isinstance(danger, bool):\n",
    "            if True:\n",
    "                return \"Yes, it is dangerous\"\n",
    "            else:\n",
    "                return \"There's nothing to worry about\"\n",
    "        else:\n",
    "            return \"Make sure to introduce a bool as an argument\""
   ]
  },
  {
   "cell_type": "markdown",
   "metadata": {},
   "source": [
    "## Exercise 2. "
   ]
  },
  {
   "cell_type": "markdown",
   "metadata": {},
   "source": [
    "A company is opening a bank, but the coder who is designing the user class made some errors. They need you to help them.\n",
    "\n",
    "You must include the following:\n",
    "\n",
    "**A withdraw method**\n",
    "- Subtracts money from balance\n",
    "- One parameter, money to withdraw\n",
    "- Raise ValueError if there isn't enough money to withdraw\n",
    "- Return a string with name and balence(see examples)\n",
    "\n",
    "**A check method**\n",
    "- Adds money to baleance\n",
    "- Two parameters, other user and money\n",
    "- Other user will always be valid\n",
    "- Raise a ValueError if other user doesn't have enough money\n",
    "- Raise a ValueError if checking_account isn't true for other user\n",
    "- Return a string with name and balance plus other name and other balance(see examples)\n",
    "\n",
    "**An add_cash method**\n",
    "- Adds money to balance\n",
    "- One parameter, money to add\n",
    "- Return a string with name and balance(see examples)\n",
    "\n",
    "**Additional Notes:**\n",
    "\n",
    "- Checking_account should be stored as a boolean\n",
    "- No input numbers will be negitive\n",
    "- Output must end with period\n",
    "- Float numbers will not be used so, balance should be integer\n",
    "- No currency will be used"
   ]
  },
  {
   "cell_type": "markdown",
   "metadata": {},
   "source": [
    "KATA --> https://www.codewars.com/kata/5a03af9606d5b65ff7000009"
   ]
  },
  {
   "source": [
    "### Consideraciones a tener en cuenta.\n",
    "El constructor de la clase debe tener como atributos withdraw, check y add_cash\n",
    "Withdraw, check y add_cash son FUNCIONES\n",
    "\n",
    "La clase es usuario:\n",
    "    __init__(self, username, money, check)\n",
    "\n",
    "withdraw(self, money)\n",
    "check(self, username, money)\n",
    "add_cash(self, money_to_add)\n"
   ],
   "cell_type": "markdown",
   "metadata": {}
  },
  {
   "cell_type": "markdown",
   "metadata": {},
   "source": [
    "**If you dare trying to solve this problem, you'll need this:** https://www.w3schools.com/python/gloss_python_raise.asp"
   ]
  },
  {
   "cell_type": "code",
   "execution_count": 203,
   "metadata": {},
   "outputs": [],
   "source": [
    "#your code here\n",
    "class User(object):\n",
    "    pass\n"
   ]
  },
  {
   "cell_type": "code",
   "execution_count": 104,
   "metadata": {},
   "outputs": [],
   "source": [
    "#your code here\n",
    "class User(object):\n",
    "    def __init__(self, username, current_money, checking_account):\n",
    "        self.username = username\n",
    "        self.current_money = current_money\n",
    "        self.checking_account = checking_account\n",
    "    \n",
    "    def withdraw(self, money_to_subtract):\n",
    "        \"\"\"\n",
    "        Esta función sirve para retirar dinero de la cuenta\n",
    "        \"\"\"\n",
    "\n",
    "        self.money_to_subtract = money_to_subtract\n",
    "        dinero_inicial = self.current_money\n",
    "    \n",
    "        if self.money_to_subtract <= dinero_inicial:\n",
    "            self.current_money = self.current_money - money_to_subtract\n",
    "            return f\"{self.username} ha retirado {self.money_to_subtract} y ahora tiene {self.current_money}\"\n",
    "        else:\n",
    "            return \"Ha ocurrido el siguiente error:\", ValueError, \"La cantidad introducida es superior al dinero en la cuenta\"\n",
    "            \n",
    "    def funcion_check(self, other_user, money):\n",
    "        \"\"\"\n",
    "        Esta función sirve para realizar transferencias entre instancias, siempre y cuando estas sean True en el parámetro checking_account\n",
    "        \"\"\"\n",
    "\n",
    "        self.other_user = other_user.username\n",
    "        self.money = money\n",
    "        self.money < self.current_money\n",
    "        dinero_antes_transfer = self.current_money\n",
    "        if self.money > self.current_money:\n",
    "            return f\"Se ha cometido el siguiente error: {ValueError}. La cuenta de {self.username} no tiene el suficiente dinero\"\n",
    "        while self.money < self.current_money:\n",
    "            if other_user.checking_account == False:\n",
    "                return f\"Se ha cometido el siguiente error: {ValueError}. La cuenta de {self.other_user} no permite extender cheques\"\n",
    "            else:\n",
    "                self.current_money = self.current_money + self.money\n",
    "                other_user.current_money = other_user.current_money + self.money\n",
    "                other_user.current_money += self.money\n",
    "                return f\"{self.username} ha transferido {self.money} a {self.other_user}. Ahora {self.other_user} tiene {self.current_money}\"\n",
    "\n",
    "    def add_cash(self, money_to_add):\n",
    "        \"\"\"\n",
    "        Esta función permite ingresar dinero a la cuenta de las instancias\n",
    "        \"\"\"\n",
    "        self.money_to_add = money_to_add\n",
    "        dinero_actual = self.current_money\n",
    "        self.current_money = self.current_money + self.money_to_add\n",
    "        return f\"{self.username} ha ingresado {self.money_to_add} y ahora tiene {self.current_money}\"\n"
   ]
  },
  {
   "cell_type": "code",
   "execution_count": 98,
   "metadata": {},
   "outputs": [
    {
     "output_type": "stream",
     "name": "stdout",
     "text": [
      "100\n"
     ]
    }
   ],
   "source": [
    "Pepe = User(username= \"Pepe\", current_money= 100, checking_account= True)\n",
    "Paco = User(username=\"Paco\", current_money=200, checking_account= False)\n",
    "\n",
    "Pepe.username\n",
    "print(Pepe.current_money)"
   ]
  },
  {
   "cell_type": "code",
   "execution_count": 99,
   "metadata": {},
   "outputs": [
    {
     "output_type": "execute_result",
     "data": {
      "text/plain": [
       "'Pepe ha ingresado 30 y ahora tiene 130'"
      ]
     },
     "metadata": {},
     "execution_count": 99
    }
   ],
   "source": [
    "Pepe.add_cash(30)"
   ]
  },
  {
   "cell_type": "code",
   "execution_count": 100,
   "metadata": {},
   "outputs": [
    {
     "output_type": "execute_result",
     "data": {
      "text/plain": [
       "('Ha ocurrido el siguiente error:',\n",
       " ValueError,\n",
       " 'La cantidad introducida es superior al dinero en la cuenta')"
      ]
     },
     "metadata": {},
     "execution_count": 100
    }
   ],
   "source": [
    "Pepe.withdraw(200)"
   ]
  },
  {
   "cell_type": "code",
   "execution_count": 101,
   "metadata": {},
   "outputs": [
    {
     "output_type": "execute_result",
     "data": {
      "text/plain": [
       "'Paco ha transferido 5 a Pepe. Ahora Pepe tiene 205'"
      ]
     },
     "metadata": {},
     "execution_count": 101
    }
   ],
   "source": [
    "Paco.funcion_check(other_user=Pepe, money=5)"
   ]
  },
  {
   "cell_type": "code",
   "execution_count": 105,
   "metadata": {},
   "outputs": [
    {
     "output_type": "execute_result",
     "data": {
      "text/plain": [
       "135"
      ]
     },
     "metadata": {},
     "execution_count": 105
    }
   ],
   "source": [
    "Pepe.current_money"
   ]
  },
  {
   "cell_type": "code",
   "execution_count": null,
   "metadata": {},
   "outputs": [],
   "source": []
  }
 ],
 "metadata": {
  "kernelspec": {
   "name": "python3",
   "display_name": "Python 3.9.0 64-bit",
   "metadata": {
    "interpreter": {
     "hash": "7812ea015bdcee6f23a998adcdd2ef97c151c0c241b7b7070987d9313e41299d"
    }
   }
  },
  "language_info": {
   "codemirror_mode": {
    "name": "ipython",
    "version": 3
   },
   "file_extension": ".py",
   "mimetype": "text/x-python",
   "name": "python",
   "nbconvert_exporter": "python",
   "pygments_lexer": "ipython3",
   "version": "3.9.0-final"
  }
 },
 "nbformat": 4,
 "nbformat_minor": 4
}