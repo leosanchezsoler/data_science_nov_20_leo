{
 "cells": [
  {
   "cell_type": "markdown",
   "metadata": {},
   "source": [
    "# Python | day 2 | collections"
   ]
  },
  {
   "cell_type": "markdown",
   "metadata": {},
   "source": [
    "List, tuples & sets"
   ]
  },
  {
   "cell_type": "markdown",
   "metadata": {},
   "source": [
    "May help you https://www.w3schools.com/python/python_ref_list.asp\n",
    "    \n",
    "    Thanks Antonio!"
   ]
  },
  {
   "cell_type": "markdown",
   "metadata": {},
   "source": [
    "### Exercise 1. "
   ]
  },
  {
   "cell_type": "markdown",
   "metadata": {},
   "source": [
    "1. Create:\n",
    "    - a list type variable called **student_list** which contains the name of your classmates. \n",
    "    - 4 differents lists containing the names of the classmates sitting on each table of the class plus the ones following the class on remote.  \n",
    "    \n",
    "If you're not in class anymore and you don't remember how the class was distributed, use the names of your classmates and make 4 different lists with them.\n",
    "\n",
    "Print both created lists. "
   ]
  },
  {
   "cell_type": "code",
   "execution_count": 2,
   "metadata": {},
   "outputs": [
    {
     "output_type": "stream",
     "name": "stdout",
     "text": [
      "Student list: ['Alex', 'Alfonso', 'Anais', 'Antonio', 'Ariadna', 'Daniel', 'Estela', 'Javier', 'Javier_olcoz', 'Juan', 'Kapil', 'Leonardo', 'Maria', 'Maria_del_mar', 'Marta', 'Miguel', 'Miguel_merry', 'Roberto', 'Xeles']\nRow 1: ['Maria', 'Xeles', 'Juan']\nRow 2: ['Estela', 'Leonardo', 'Marta', 'Daniel']\nRow 3: ['Kapil', 'Roberto', 'Alfonso', 'Miguel']\n"
     ]
    }
   ],
   "source": [
    "student_list = [\"Alex\", \"Alfonso\", \"Anais\", \"Antonio\", \"Ariadna\", \"Daniel\", \"Estela\", \"Javier\", \"Javier_olcoz\", \"Juan\", \"Kapil\", \"Leonardo\", \"Maria\", \"Maria_del_mar\", \"Marta\", \"Miguel\", \"Miguel_merry\", \"Roberto\", \"Xeles\"]\n",
    "# ------\n",
    "row_1 = [\"Maria\", \"Xeles\", \"Juan\"]\n",
    "# ------\n",
    "row_2 = [\"Estela\", \"Leonardo\", \"Marta\", \"Daniel\"]\n",
    "# -----\n",
    "row_3 = [\"Kapil\", \"Roberto\", \"Alfonso\", \"Miguel\"]\n",
    "# -----\n",
    "remote = [\"Alex\", \"Anais\", \"Antonio\", \"Ariadna\", \"Javier\", \"Javier_olcoz\", \"Maria_del_mar\"]\n",
    "\n",
    "print(\"Student list: \" + str(student_list))\n",
    "print(\"Row 1: \" + str(row_1))\n",
    "print(\"Row 2: \" + str(row_2))\n",
    "print(\"Row 3: \" + str(row_3))"
   ]
  },
  {
   "cell_type": "markdown",
   "metadata": {},
   "source": [
    "### Exercise 2"
   ]
  },
  {
   "cell_type": "markdown",
   "metadata": {},
   "source": [
    "1. Create an empty list, call it **empty_list**"
   ]
  },
  {
   "cell_type": "code",
   "execution_count": 3,
   "metadata": {},
   "outputs": [
    {
     "output_type": "stream",
     "name": "stdout",
     "text": [
      "[]\n"
     ]
    }
   ],
   "source": [
    "empty_list = []\n",
    "print(empty_list)"
   ]
  },
  {
   "cell_type": "markdown",
   "metadata": {},
   "source": [
    "2. Create a list with 5 items, call it **my_list**"
   ]
  },
  {
   "cell_type": "code",
   "execution_count": 13,
   "metadata": {},
   "outputs": [
    {
     "output_type": "stream",
     "name": "stdout",
     "text": [
      "My list: ['hola', 4.5, 55, 'adios', 10]\n"
     ]
    }
   ],
   "source": [
    "my_list = [\"hola\", 4.5, 55, \"adios\", 10]\n",
    "print(\"My list: \" + str(my_list))"
   ]
  },
  {
   "cell_type": "markdown",
   "metadata": {},
   "source": [
    "3. Find the length of **my_list**\n",
    "\n"
   ]
  },
  {
   "cell_type": "code",
   "execution_count": 14,
   "metadata": {},
   "outputs": [
    {
     "output_type": "execute_result",
     "data": {
      "text/plain": [
       "5"
      ]
     },
     "metadata": {},
     "execution_count": 14
    }
   ],
   "source": [
    "len(my_list)\n"
   ]
  },
  {
   "cell_type": "markdown",
   "metadata": {},
   "source": [
    "4. Get the first item, the middle item and the last item of **my_list**\n",
    "\n"
   ]
  },
  {
   "cell_type": "code",
   "execution_count": 24,
   "metadata": {},
   "outputs": [
    {
     "output_type": "stream",
     "name": "stdout",
     "text": [
      "My list first item: hola\nMy list middle item: 55\nMy list last item: 10\n"
     ]
    }
   ],
   "source": [
    "my_list_first_item = my_list[0]\n",
    "my_list_middle_item = my_list[2]\n",
    "mylist_last_item = my_list[4]\n",
    "\n",
    "print(\"My list first item: \" + str(my_list_first_item))\n",
    "print(\"My list middle item: \" + str(my_list_middle_item))\n",
    "print(\"My list last item: \" + str(mylist_last_item))"
   ]
  },
  {
   "cell_type": "markdown",
   "metadata": {},
   "source": [
    "5. Declare:\n",
    "    - a **name** variable and assign a value to it\n",
    "    - a **age** variable and assign a value to it\n",
    "    - a **height** variable and assign a value to it\n",
    "    - a **country** variable and assign a value to it\n",
    "    - a **python_version** variable and assign a value to it\n"
   ]
  },
  {
   "cell_type": "code",
   "execution_count": 27,
   "metadata": {},
   "outputs": [
    {
     "output_type": "stream",
     "name": "stdout",
     "text": [
      "Your name:Leonardo\nYour age:23\nYour height:1.83\nYour country:Spain\nYour python version:3.9.0\n"
     ]
    }
   ],
   "source": [
    "name = input(\"Your name:\")\n",
    "age = input(\"Your age:\")\n",
    "height = input(\"Your height:\")\n",
    "country = input(\"Your country:\")\n",
    "python_version = input(\"Your python version:\")\n",
    "\n",
    "print(\"Your name:\" + name)\n",
    "print(\"Your age:\" + age)\n",
    "print(\"Your height:\" + height)\n",
    "print(\"Your country:\" + country)\n",
    "print(\"Your python version:\" + python_version)"
   ]
  },
  {
   "cell_type": "markdown",
   "metadata": {},
   "source": [
    "6. Create a list called **mixed_data_types** with your name, age, height, country and python_version.\n",
    "\n"
   ]
  },
  {
   "cell_type": "code",
   "execution_count": 29,
   "metadata": {},
   "outputs": [
    {
     "output_type": "stream",
     "name": "stdout",
     "text": [
      "My mixed data types: ['Leonardo', '1.83', 'Spain', '3.9.0']\n"
     ]
    }
   ],
   "source": [
    "mixed_data_types = [name, height, country, python_version]\n",
    "\n",
    "print(\"My mixed data types:\", mixed_data_types)"
   ]
  },
  {
   "cell_type": "markdown",
   "metadata": {},
   "source": [
    "7. Declare a list variable named **it_companies** and assign initial values Facebook, Google, Microsoft, Apple, IBM, Oracle and Amazon.\n"
   ]
  },
  {
   "cell_type": "code",
   "execution_count": 32,
   "metadata": {},
   "outputs": [
    {
     "output_type": "execute_result",
     "data": {
      "text/plain": [
       "['Facebook', 'Google', 'Microsoft', 'Apple', 'IBM', 'Oracle', 'Amazon']"
      ]
     },
     "metadata": {},
     "execution_count": 32
    }
   ],
   "source": [
    "it_companies = [\"Facebook\", \"Google\", \"Microsoft\", \"Apple\", \"IBM\", \"Oracle\", \"Amazon\"]\n",
    "it_companies"
   ]
  },
  {
   "cell_type": "markdown",
   "metadata": {},
   "source": [
    "\n",
    "8. Print **it_companies** using print()\n",
    "\n"
   ]
  },
  {
   "cell_type": "code",
   "execution_count": 33,
   "metadata": {},
   "outputs": [
    {
     "output_type": "stream",
     "name": "stdout",
     "text": [
      "IT companies: ['Facebook', 'Google', 'Microsoft', 'Apple', 'IBM', 'Oracle', 'Amazon']\n"
     ]
    }
   ],
   "source": [
    "print(\"IT companies:\", it_companies)"
   ]
  },
  {
   "cell_type": "markdown",
   "metadata": {},
   "source": [
    "9. Print the number of companies in the list"
   ]
  },
  {
   "cell_type": "code",
   "execution_count": 35,
   "metadata": {},
   "outputs": [
    {
     "output_type": "stream",
     "name": "stdout",
     "text": [
      "The amount of IT companies are: 7\n"
     ]
    }
   ],
   "source": [
    "print(\"The amount of IT companies are:\", len(it_companies))"
   ]
  },
  {
   "cell_type": "markdown",
   "metadata": {},
   "source": [
    "11. Print *Google*"
   ]
  },
  {
   "cell_type": "code",
   "execution_count": 36,
   "metadata": {},
   "outputs": [
    {
     "output_type": "stream",
     "name": "stdout",
     "text": [
      "Google\n"
     ]
    }
   ],
   "source": [
    "print(it_companies[1])"
   ]
  },
  {
   "cell_type": "markdown",
   "metadata": {},
   "source": [
    "10. Print the first, middle and last company"
   ]
  },
  {
   "cell_type": "code",
   "execution_count": 37,
   "metadata": {},
   "outputs": [
    {
     "output_type": "stream",
     "name": "stdout",
     "text": [
      "First company: Facebook\nMiddle company: Apple\nLast company Amazon\n"
     ]
    }
   ],
   "source": [
    "print(\"First company:\", it_companies[0])\n",
    "print(\"Middle company:\", it_companies[3])\n",
    "print(\"Last company\", it_companies[6])"
   ]
  },
  {
   "cell_type": "markdown",
   "metadata": {},
   "source": [
    "11. Assign a new value to the last element of the list "
   ]
  },
  {
   "cell_type": "code",
   "execution_count": 50,
   "metadata": {},
   "outputs": [
    {
     "output_type": "stream",
     "name": "stdout",
     "text": [
      "IT Companies ['Facebook', 'Google', 'Microsoft', 'Apple', 'IBM', 'Oracle', 'Amazon']\nReplaced it company ['U', 'b', 'e', 'r']\nLast element replaced ['Facebook', 'Google', 'Microsoft', 'Apple', 'IBM', 'Oracle', 'UBER']\n"
     ]
    }
   ],
   "source": [
    "#Intento 1: aqui he querido buscar una forma de reemplazar directamente un ítem por otro y no utilizar .remove y después .append\n",
    "\n",
    "#La lista original\n",
    "print(\"IT Companies\", it_companies)\n",
    "new_item = \"Uber\"\n",
    "\n",
    "#la lista reemplazando el último elemento\n",
    "replace_it_companies = [(item.replace(\"Amazon\", \"Google\"))for item in new_item]\n",
    "print(\"Replaced it company\", (replace_it_companies))\n",
    "\n",
    "#viendo que no funcionaba, pruebo de otra forma\n",
    "#Esta es la definitiva\n",
    "\n",
    "\n",
    "it_companies_test1 = [\"Facebook\", \"Google\", \"Microsoft\", \"Apple\", \"IBM\", \"Oracle\", \"Amazon\"]\n",
    "it_companies_test1 = [\"UBER\" if i==\"Amazon\" else i for i in it_companies_test1]\n",
    "print(\"Last element replaced\", it_companies_test1)\n",
    "\n"
   ]
  },
  {
   "cell_type": "markdown",
   "metadata": {},
   "source": [
    "12. Print the list after modifying one of the companies"
   ]
  },
  {
   "cell_type": "code",
   "execution_count": 51,
   "metadata": {},
   "outputs": [
    {
     "output_type": "stream",
     "name": "stdout",
     "text": [
      "['Facebook', 'Google', 'Microsoft', 'Apple', 'IBM', 'Oracle', 'UBER']\n"
     ]
    }
   ],
   "source": [
    "it_companies = it_companies_test1\n",
    "print(\"Modifies IT companies list\", it_companies_test1)"
   ]
  },
  {
   "cell_type": "markdown",
   "metadata": {},
   "source": [
    "## Bonus track."
   ]
  },
  {
   "cell_type": "markdown",
   "metadata": {},
   "source": [
    "13. Add an IT company to **it_companies**\n",
    "\n"
   ]
  },
  {
   "cell_type": "code",
   "execution_count": 80,
   "metadata": {},
   "outputs": [
    {
     "output_type": "stream",
     "name": "stdout",
     "text": [
      "IT companies: ['Apple', 'Facebook', 'Google', 'IBM', 'Microsoft', 'Oracle', 'UBER']\nit companies with new company: ['Apple', 'Facebook', 'Google', 'IBM', 'Microsoft', 'Oracle', 'UBER', 'Airbnb']\n"
     ]
    }
   ],
   "source": [
    "#Voy a trabajar con la lista modificada con UBER en lugar de Amazon\n",
    "it_companies = it_companies_test1\n",
    "it_companies.append(\"Airbnb\")\n",
    "it_companies.remove(\"Airbnb\")\n",
    "\n",
    "\n",
    "#He tenido unos fallos con la memoria pero lo he solucionado\n",
    "\n",
    "print(\"IT companies:\", it_companies)\n",
    "it_companies.append(\"Airbnb\")\n",
    "print(\"it companies with new company:\", it_companies)"
   ]
  },
  {
   "cell_type": "markdown",
   "metadata": {},
   "source": [
    "14. Check if *Apple* exists in the **it_companies** list."
   ]
  },
  {
   "cell_type": "code",
   "execution_count": 81,
   "metadata": {},
   "outputs": [
    {
     "output_type": "stream",
     "name": "stdout",
     "text": [
      "Yes, Apple is in the list\n"
     ]
    }
   ],
   "source": [
    "if \"Apple\" in it_companies:\n",
    "    print(\"Yes, Apple is in the list\")"
   ]
  },
  {
   "cell_type": "markdown",
   "metadata": {},
   "source": [
    "15. Sort the list using `sort()` method\n",
    "\n"
   ]
  },
  {
   "cell_type": "code",
   "execution_count": 82,
   "metadata": {},
   "outputs": [
    {
     "output_type": "stream",
     "name": "stdout",
     "text": [
      "['Airbnb', 'Apple', 'Facebook', 'Google', 'IBM', 'Microsoft', 'Oracle', 'UBER']\nSorted list: None\n"
     ]
    }
   ],
   "source": [
    "#it_companies list\n",
    "it_companies.sort()\n",
    "print(it_companies)\n",
    "print(\"Sorted list:\", it_companies.sort())"
   ]
  },
  {
   "cell_type": "markdown",
   "metadata": {},
   "source": [
    "16. Reverse the list in descending order using `reverse()` method\n",
    "\n"
   ]
  },
  {
   "cell_type": "code",
   "execution_count": 92,
   "metadata": {},
   "outputs": [
    {
     "output_type": "stream",
     "name": "stdout",
     "text": [
      "['Airbnb', 'Apple', 'Facebook', 'Google', 'IBM', 'Microsoft', 'Oracle', 'UBER']\nlist without reverse ['UBER', 'Oracle', 'Microsoft', 'IBM', 'Google', 'Facebook', 'Apple', 'Airbnb']\n"
     ]
    }
   ],
   "source": [
    "#print It companies list\n",
    "print(it_companies)\n",
    "\n",
    "#esta lista se ha quedado invertida, así que voy a ponerla en el orden correcto con reverse\n",
    "\n",
    "it_companies. reverse()\n",
    "print(\"list without reverse\", it_companies)"
   ]
  },
  {
   "cell_type": "markdown",
   "metadata": {},
   "source": [
    "17. Slice out the first 3 companies from the list\n",
    "\n"
   ]
  },
  {
   "cell_type": "code",
   "execution_count": 103,
   "metadata": {},
   "outputs": [
    {
     "output_type": "stream",
     "name": "stdout",
     "text": [
      "Tres primeras compañías de la lista ['UBER', 'Oracle', 'Microsoft']\n"
     ]
    }
   ],
   "source": [
    "#print las tres primeras compañias de la lista\n",
    "print(\"Tres primeras compañías de la lista\", it_companies[0:3])\n",
    "\n",
    "#"
   ]
  },
  {
   "cell_type": "markdown",
   "metadata": {},
   "source": [
    "18. Remove the last IT company from the list\n"
   ]
  },
  {
   "cell_type": "code",
   "execution_count": 119,
   "metadata": {},
   "outputs": [
    {
     "output_type": "stream",
     "name": "stdout",
     "text": [
      "It companies ['UBER', 'Oracle', 'Microsoft', 'IBM', 'Google', 'Facebook', 'Apple']\n['UBER', 'Oracle', 'Microsoft', 'IBM', 'Google', 'Facebook', 'Apple']\nList without last item: ['UBER', 'Oracle', 'Microsoft', 'IBM', 'Google', 'Facebook', 'Apple']\nDefinitivo itcompanies ['UBER', 'Oracle', 'Microsoft', 'IBM', 'Google', 'Facebook', 'Apple']\n['UBER', 'Oracle', 'Microsoft', 'IBM', 'Google', 'Facebook', 'Apple', 'Airbnb']\nLISTA DEFINITIVA SIN LA ÚLTIMA EMPRESA: ['UBER', 'Oracle', 'Microsoft', 'IBM', 'Google', 'Facebook', 'Apple']\n"
     ]
    }
   ],
   "source": [
    "#print it_companies\n",
    "\n",
    "print(\"It companies\", it_companies)\n",
    "\n",
    "\n",
    "it_companies.append(\"Airbnb\")\n",
    "it_companies.remove(\"Airbnb\")\n",
    "it_companies\n",
    "print(it_companies)\n",
    "print(\"List without last item:\", it_companies)\n",
    "\n",
    "#segundo intento\n",
    "\n",
    "\n",
    "print(\"Definitivo itcompanies\", it_companies)\n",
    "\n",
    "#ya he entendido que si vuelvo a ejecutar it companies una vez eliminado el objeto, hay un error porque dicho objeto que se desea eliminar ya no consta en la actual lista, por lo que tengo que volverlo a incluir.\n",
    "\n",
    "it_companies.append(\"Airbnb\")\n",
    "print(it_companies)\n",
    "\n",
    "it_companies.remove(\"Airbnb\")\n",
    "it_companies\n",
    "print(\"LISTA DEFINITIVA SIN LA ÚLTIMA EMPRESA:\", it_companies)\n",
    "\n",
    "\n",
    "\n",
    "\n"
   ]
  },
  {
   "cell_type": "markdown",
   "metadata": {},
   "source": [
    "19. Remove all IT companies from the list"
   ]
  },
  {
   "cell_type": "code",
   "execution_count": 120,
   "metadata": {},
   "outputs": [
    {
     "output_type": "stream",
     "name": "stdout",
     "text": [
      "['UBER', 'Oracle', 'Microsoft', 'IBM', 'Google', 'Facebook', 'Apple']\nlista vacía: []\n"
     ]
    }
   ],
   "source": [
    "#podría eliminar todos los elementos de la lista uno por uno, pero he buscado la forma de eliminarlos todos de una\n",
    "\n",
    "print(it_companies)\n",
    "it_companies.clear()\n",
    "\n",
    "print(\"lista vacía:\", it_companies)"
   ]
  },
  {
   "cell_type": "markdown",
   "metadata": {},
   "source": [
    "20. Join the following lists, and call the list **end**:\n",
    "\n",
    "```python\n",
    "front_end = [['HTML', 'CSS'], 'JS', 'React', 'Redux']\n",
    "back_end = ['Node','Express', 'MongoDB']\n",
    "```"
   ]
  },
  {
   "cell_type": "code",
   "execution_count": 121,
   "metadata": {},
   "outputs": [
    {
     "output_type": "stream",
     "name": "stdout",
     "text": [
      "End list: [['HTML', 'CSS'], 'JS', 'React', 'Redux', 'Node', 'Express', 'MongoDB']\n"
     ]
    }
   ],
   "source": [
    "front_end = [['HTML', 'CSS'], 'JS', 'React', 'Redux']\n",
    "back_end = ['Node','Express', 'MongoDB']\n",
    "end = front_end + back_end\n",
    "print(\"End list:\", end)"
   ]
  },
  {
   "cell_type": "markdown",
   "metadata": {},
   "source": [
    "21. From the **end** list print 'HTML'"
   ]
  },
  {
   "cell_type": "code",
   "execution_count": 123,
   "metadata": {},
   "outputs": [
    {
     "output_type": "stream",
     "name": "stdout",
     "text": [
      "[['HTML', 'CSS'], 'JS', 'React', 'Redux', 'Node', 'Express', 'MongoDB']\nHTML from end list: HTML\n"
     ]
    }
   ],
   "source": [
    "print(end)\n",
    "print(\"HTML from end list:\", end[0][0])"
   ]
  },
  {
   "cell_type": "markdown",
   "metadata": {},
   "source": [
    "22. From the end list print the 'C' from the word 'CSS'"
   ]
  },
  {
   "cell_type": "code",
   "execution_count": 124,
   "metadata": {},
   "outputs": [
    {
     "output_type": "stream",
     "name": "stdout",
     "text": [
      "[['HTML', 'CSS'], 'JS', 'React', 'Redux', 'Node', 'Express', 'MongoDB']\nLetra C de CSS: C\n"
     ]
    }
   ],
   "source": [
    "#Print end\n",
    "print(end)\n",
    "\n",
    "#para sacar la c\n",
    "#buscar dentro de la lista total el primer elemento (la lista con HTML y CSS) POSICIÓN 0\n",
    "#dentro de esa lista, seleccionar el segundo elemento (CSS, que se encuentra en la posición 1)\n",
    "#dentro de CSS, extraer el primer elemento POSICIÓN 0\n",
    "\n",
    "print(\"Letra C de CSS:\", end[0][1][0])"
   ]
  },
  {
   "cell_type": "markdown",
   "metadata": {},
   "source": [
    "### Exercise 3. "
   ]
  },
  {
   "cell_type": "markdown",
   "metadata": {},
   "source": [
    "Do you know you can create tuples with only one element?\n",
    "\n",
    "1. In the cell below, define a variable **tup** with a single element \"T\".\n",
    "\n",
    "Hint: you need to add a comma (,) after the single element."
   ]
  },
  {
   "cell_type": "code",
   "execution_count": 131,
   "metadata": {},
   "outputs": [
    {
     "output_type": "stream",
     "name": "stdout",
     "text": [
      "('T',)\n"
     ]
    }
   ],
   "source": [
    "#Es necesario poner una coma dentro de la tupla, aunque tenga un elemento\n",
    "\n",
    "tup = tuple(\"T\")\n",
    "print(tup)"
   ]
  },
  {
   "cell_type": "markdown",
   "metadata": {},
   "source": [
    "2. Print the type of tup.\n",
    "Make sure its type is correct (i.e. tuple instead of str)."
   ]
  },
  {
   "cell_type": "code",
   "execution_count": 132,
   "metadata": {},
   "outputs": [
    {
     "output_type": "stream",
     "name": "stdout",
     "text": [
      "Type of 'tup': <class 'tuple'>\n"
     ]
    }
   ],
   "source": [
    "print(\"Type of 'tup':\", type(tup))"
   ]
  },
  {
   "cell_type": "markdown",
   "metadata": {},
   "source": [
    "3. Now try to append the following elements to **tup**.\n",
    "Are you able to do it? Explain.\n",
    "\n",
    "`\"H\", \"E\", \" \", \"B\", \"R\", \"I\", \"D\", \"G\", \"E\",`"
   ]
  },
  {
   "cell_type": "code",
   "execution_count": 135,
   "metadata": {},
   "outputs": [
    {
     "output_type": "stream",
     "name": "stdout",
     "text": [
      "Tup: ('T',)\ntup list: ['T']\nUpdated list: ['T', 'H', 'E', ' ', 'B', 'R', 'I', 'D', 'G', 'E']\n('T',)\nAhora tup vuelve a ser una tupla con los caracteres modificados\n('T', 'H', 'E', ' ', 'B', 'R', 'I', 'D', 'G', 'E')\n"
     ]
    }
   ],
   "source": [
    "#no es posible añadir los elementos a la tupla porque la tupla es un tipo de colección cuyos elementos son inmutables\n",
    "#para poder hacerlo posible, sería conveniente crear una lista con todos los elementos y después hacerlos una tupla\n",
    "#En caso de querer añadir algo más, habría que convertirlos nuevamente en lista, utilizar la función .append las veces que fuese necesario y finalmente volver a convertirla en tupla\n",
    "\n",
    "#Aquí el primer intento\n",
    "\n",
    "print(\"Tup:\", tup)\n",
    "\n",
    "new_elements = \"H\", \"E\", \" \", \"B\", \"R\", \"I\", \"D\", \"G\", \"E\",\n",
    "\n",
    "#convierto tup en lista para añadir todos los elementos\n",
    "tup_list = list(tup)\n",
    "\n",
    "print(\"tup list:\", tup_list)\n",
    "\n",
    "#ahora añado los nuevos caracteres a través de .extend\n",
    "\n",
    "tup_list.extend(new_elements)\n",
    "\n",
    "print(\"Updated list:\", tup_list)\n",
    "\n",
    "#ahora podría convertir esa lista en tupla para que los elementos fuesen inmutables\n",
    "\n",
    "print(tup)\n",
    "\n",
    "tup = tup_list\n",
    "tup = tuple(tup)\n",
    "\n",
    "print(\"Ahora tup vuelve a ser una tupla con los caracteres modificados\")\n",
    "print(tup)"
   ]
  },
  {
   "cell_type": "markdown",
   "metadata": {},
   "source": [
    "4. How about re-assign a new value to an existing tuple?\n",
    "\n",
    "Re-assign the following elements to **tup**. \n",
    "\n",
    "Are you able to do it? Explain.\n",
    "\n",
    "\n",
    "`\"T\", \"H\", \"E\", \" \", \"B\", \"R\", \"I\", \"D\", \"G\", \"E\",`"
   ]
  },
  {
   "cell_type": "code",
   "execution_count": 136,
   "metadata": {},
   "outputs": [
    {
     "output_type": "stream",
     "name": "stdout",
     "text": [
      "Sin darme cuenta lo he hecho en el ejercicio anterior. Básicamente se trata de convertir tup en una lista para poder incluir los nuevos elementos y, si se quiere que sea una tupla otra vez, habría que reasignar la variable\n"
     ]
    }
   ],
   "source": [
    "print(\"Sin darme cuenta lo he hecho en el ejercicio anterior. Básicamente se trata de convertir tup en una lista para poder incluir los nuevos elementos y, si se quiere que sea una tupla otra vez, habría que reasignar la variable\")"
   ]
  },
  {
   "cell_type": "markdown",
   "metadata": {},
   "source": [
    "### Exercise 4. \n",
    "\n",
    "1. Turn **lista_repes** into a *set* in order to get only the uniques values in the list, assing it to a variable called **my_set**"
   ]
  },
  {
   "source": [
    "lista_repes = [\"data\", \"data\", \"data\", \"science\", \"science\", \"python\", \"python\", \"diomedes\", \"diomedes\", \"diomedes\", \"diomedes\", \"clara\", \"gabriel\", \"gabriel\", \"gabriel\"]"
   ],
   "cell_type": "markdown",
   "metadata": {}
  },
  {
   "cell_type": "code",
   "execution_count": 137,
   "metadata": {},
   "outputs": [
    {
     "output_type": "stream",
     "name": "stdout",
     "text": [
      "My set: {'python', 'science', 'clara', 'diomedes', 'data', 'gabriel'}\n"
     ]
    }
   ],
   "source": [
    "lista_repes = [\"data\", \"data\", \"data\", \"science\", \"science\", \"python\", \"python\", \"diomedes\", \"diomedes\", \"diomedes\", \"diomedes\", \"clara\", \"gabriel\", \"gabriel\", \"gabriel\"]\n",
    "\n",
    "my_set = set(lista_repes)\n",
    "\n",
    "print(\"My set:\", my_set)"
   ]
  },
  {
   "cell_type": "markdown",
   "metadata": {},
   "source": [
    "2. Try to print the first element of **my_set**\n",
    "\n",
    "You did good if you get *TypeError: 'set' object is not subscriptable*."
   ]
  },
  {
   "cell_type": "code",
   "execution_count": 140,
   "metadata": {},
   "outputs": [
    {
     "output_type": "stream",
     "name": "stdout",
     "text": [
      "My set: {'python', 'science', 'clara', 'diomedes', 'data', 'gabriel'}\n"
     ]
    },
    {
     "output_type": "error",
     "ename": "TypeError",
     "evalue": "'set' object is not subscriptable",
     "traceback": [
      "\u001b[0;31m---------------------------------------------------------------------------\u001b[0m",
      "\u001b[0;31mTypeError\u001b[0m                                 Traceback (most recent call last)",
      "\u001b[0;32m<ipython-input-140-adc700fdcbaf>\u001b[0m in \u001b[0;36m<module>\u001b[0;34m\u001b[0m\n\u001b[1;32m      1\u001b[0m \u001b[0mprint\u001b[0m\u001b[0;34m(\u001b[0m\u001b[0;34m\"My set:\"\u001b[0m\u001b[0;34m,\u001b[0m \u001b[0mmy_set\u001b[0m\u001b[0;34m)\u001b[0m\u001b[0;34m\u001b[0m\u001b[0;34m\u001b[0m\u001b[0m\n\u001b[1;32m      2\u001b[0m \u001b[0;34m\u001b[0m\u001b[0m\n\u001b[0;32m----> 3\u001b[0;31m \u001b[0mmy_set\u001b[0m\u001b[0;34m[\u001b[0m\u001b[0;36m0\u001b[0m\u001b[0;34m]\u001b[0m\u001b[0;34m\u001b[0m\u001b[0;34m\u001b[0m\u001b[0m\n\u001b[0m",
      "\u001b[0;31mTypeError\u001b[0m: 'set' object is not subscriptable"
     ]
    }
   ],
   "source": [
    "print(\"My set:\", my_set)\n",
    "\n",
    "my_set[0]\n"
   ]
  },
  {
   "cell_type": "markdown",
   "metadata": {},
   "source": [
    "3. Turn **my_set** into a list, using the function `list()`. \n",
    "\n",
    "Can you print the first element now?"
   ]
  },
  {
   "cell_type": "code",
   "execution_count": 141,
   "metadata": {},
   "outputs": [
    {
     "output_type": "stream",
     "name": "stdout",
     "text": [
      "['python', 'science', 'clara', 'diomedes', 'data', 'gabriel']\nFirst element of my set: python\n"
     ]
    }
   ],
   "source": [
    "my_set = list(my_set)\n",
    "\n",
    "print(my_set)\n",
    "\n",
    "print(\"First element of my set:\", my_set[0])"
   ]
  },
  {
   "cell_type": "code",
   "execution_count": null,
   "metadata": {},
   "outputs": [],
   "source": []
  }
 ],
 "metadata": {
  "kernelspec": {
   "name": "python3",
   "display_name": "Python 3.9.0 64-bit",
   "metadata": {
    "interpreter": {
     "hash": "7812ea015bdcee6f23a998adcdd2ef97c151c0c241b7b7070987d9313e41299d"
    }
   }
  },
  "language_info": {
   "codemirror_mode": {
    "name": "ipython",
    "version": 3
   },
   "file_extension": ".py",
   "mimetype": "text/x-python",
   "name": "python",
   "nbconvert_exporter": "python",
   "pygments_lexer": "ipython3",
   "version": "3.9.0-final"
  }
 },
 "nbformat": 4,
 "nbformat_minor": 4
}