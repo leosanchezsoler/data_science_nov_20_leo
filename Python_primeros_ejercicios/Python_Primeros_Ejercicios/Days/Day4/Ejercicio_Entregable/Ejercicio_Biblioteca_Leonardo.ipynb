{
 "cells": [
  {
   "cell_type": "markdown",
   "metadata": {},
   "source": [
    "# Ejercicio La Biblioteca | Repaso Week 1\n",
    "## Precurso DSNov20 - The Bridge\n",
    "\n",
    "La versión original de esta Práctica es en español por lo que respetaremos sus orígenes y a su autora, Clara Piniella, y lo dejaremos en este idioma. Disculpen las molestias que esto pudiera ocasionarle como estudiante. "
   ]
  },
  {
   "cell_type": "markdown",
   "metadata": {},
   "source": [
    "![biblioteca](https://static2.abc.es/media/familia/2018/11/02/AdobeStock_210538561-kJTF--620x349@abc.jpg)"
   ]
  },
  {
   "cell_type": "markdown",
   "metadata": {},
   "source": [
    "Es tu primer día de trabajo en la Biblioteca de tu barrio y ya tienes tu primera tarea. Te acaban de pasar una lista con libros y la lista de unidades disponibles."
   ]
  },
  {
   "cell_type": "code",
   "execution_count": 472,
   "metadata": {},
   "outputs": [
    {
     "output_type": "stream",
     "name": "stdout",
     "text": [
      "Lista de libros: ['El mal de Corcira', 'Un mundo feliz', 'Lolita', 'Crimen y castigo', 'Python from for to pro', 'El señor de los anillos', 'Cien años de soledad', 'Harry Potter', 'Lectura Fácil', 'Seda', 'La chica de nieve', 'El día que se perdió la cordura', 'Data Science']\n"
     ]
    }
   ],
   "source": [
    "libros = [\"El mal de Corcira\", \"Un mundo feliz\", \"Lolita\", \"Crimen y castigo\", \"Python from for to pro\",\\\n",
    "          \"El señor de los anillos\", \"Cien años de soledad\", \"Harry Potter\", \"Lectura Fácil\", \"Seda\",\\\n",
    "          \"La chica de nieve\", \"El día que se perdió la cordura\", \"Data Science\"]\n",
    "print(\"Lista de libros:\", libros)\n"
   ]
  },
  {
   "cell_type": "code",
   "execution_count": 473,
   "metadata": {},
   "outputs": [
    {
     "output_type": "stream",
     "name": "stdout",
     "text": [
      "Unidades de cada libro [('El mal de Corcira', 4), ('Un mundo feliz', 2), ('Lolita', 5), ('Crimen y castigo', 2), ('Python from for to pro', 0), ('El señor de los anillos', 6), ('Cien años de soledad', 5), ('Harry Potter', 9), ('Lectura Fácil', 4), ('Seda', 2), ('La chica de nieve', 6), ('El día que se perdió la cordura', 3), ('Data Science', 0)]\n"
     ]
    }
   ],
   "source": [
    "biblioteca = [(\"El mal de Corcira\",4),(\"Un mundo feliz\", 2),(\"Lolita\", 5),\\\n",
    "              (\"Crimen y castigo\",2),(\"Python from for to pro\", 0),(\"El señor de los anillos\", 6),\\\n",
    "              (\"Cien años de soledad\", 5),(\"Harry Potter\", 9),(\"Lectura Fácil\", 4),(\"Seda\", 2),\\\n",
    "              (\"La chica de nieve\", 6),(\"El día que se perdió la cordura\", 3), (\"Data Science\", 0)]\n",
    "print(\"Unidades de cada libro\", biblioteca)"
   ]
  },
  {
   "cell_type": "markdown",
   "metadata": {},
   "source": [
    "1. ¿Cuántos títulos diferentes tienen en esta biblioteca?"
   ]
  },
  {
   "cell_type": "code",
   "execution_count": 474,
   "metadata": {},
   "outputs": [
    {
     "output_type": "stream",
     "name": "stdout",
     "text": [
      "13\n"
     ]
    }
   ],
   "source": [
    "#your code here\n",
    "print(len(libros))"
   ]
  },
  {
   "cell_type": "markdown",
   "metadata": {},
   "source": [
    "2. ¿Cuántas letras componen la palabra *Seda*? "
   ]
  },
  {
   "cell_type": "code",
   "execution_count": 475,
   "metadata": {},
   "outputs": [
    {
     "output_type": "stream",
     "name": "stdout",
     "text": [
      "Longitud de seda: 4\n"
     ]
    }
   ],
   "source": [
    "#your code here\n",
    "\n",
    "seda = \"seda\"\n",
    "print(\"Longitud de seda:\", len(seda))"
   ]
  },
  {
   "cell_type": "markdown",
   "metadata": {},
   "source": [
    "3. ¿Cuántas unidades hay del libro *Seda*?"
   ]
  },
  {
   "cell_type": "code",
   "execution_count": 476,
   "metadata": {},
   "outputs": [
    {
     "output_type": "stream",
     "name": "stdout",
     "text": [
      "Unidades de Seda: 2\n"
     ]
    }
   ],
   "source": [
    "#your code here\n",
    "#Intento 1. voy a intentar seleccionar de biblioteca, el ítem que sea seda\n",
    "for unidades in biblioteca:\n",
    "    if unidades[0] == \"Seda\":\n",
    "        print(\"Unidades de Seda:\", unidades[1])"
   ]
  },
  {
   "cell_type": "markdown",
   "metadata": {},
   "source": [
    "4. Quien registraba los libros antes de ti dejo pendiente de añadir a la lista **libros** la variable **pendiente**, además debió confundir el famoso libro de George Orwell *1984*, con un número, asignándolo como un integer.\n",
    "¿Puedes cambiarlo y pasar a string este elemento y añadirlo a **libros**?"
   ]
  },
  {
   "cell_type": "code",
   "execution_count": 477,
   "metadata": {},
   "outputs": [
    {
     "output_type": "stream",
     "name": "stdout",
     "text": [
      "<class 'str'>\nLibro George Orwell: 1984\n"
     ]
    }
   ],
   "source": [
    "pendiente = 1984\n",
    "libro_orwell = str(pendiente)\n",
    "print(type(libro_orwell))\n",
    "print(\"Libro George Orwell:\", libro_orwell)"
   ]
  },
  {
   "cell_type": "code",
   "execution_count": 478,
   "metadata": {},
   "outputs": [
    {
     "output_type": "stream",
     "name": "stdout",
     "text": [
      "Lista de libros con libro añadido: ['El mal de Corcira', 'Un mundo feliz', 'Lolita', 'Crimen y castigo', 'Python from for to pro', 'El señor de los anillos', 'Cien años de soledad', 'Harry Potter', 'Lectura Fácil', 'Seda', 'La chica de nieve', 'El día que se perdió la cordura', 'Data Science', '1984']\n"
     ]
    }
   ],
   "source": [
    "#your code here\n",
    "#Añadir el libro de george orwell a la lista libros\n",
    "libros.append(libro_orwell)\n",
    "print(\"Lista de libros con libro añadido:\", libros)"
   ]
  },
  {
   "cell_type": "markdown",
   "metadata": {},
   "source": [
    "5. Te piden que añadas a esta lista el nuevo libro de Los Juegos del hambre que se titula *Balada de pájaros cantores y serpientes*. Has contado las unidades y han llegado 10. \n",
    "\n",
    "    a. Crea una variable con el título del libro, que se llame **libro_1**. Añade este elemento a la lista **libros**.\n",
    "\n",
    "    b. Crea una variable con el número de unidades, que se llame **uds_1**.\n",
    "\n",
    "    c. Crea una variable que sea una lista llamada **nuevo_libro** en el que su primer elemento sea **libro_1** y el segundo **uds_1**. \n",
    "\n",
    "    d. Convierte a **nuevo_libro** a tupla.\n",
    "    (muestra qué tipo es ahora esta variable)\n",
    "\n",
    "    e. Añade **nuevo_libro** a la lista **biblioteca** "
   ]
  },
  {
   "cell_type": "code",
   "execution_count": 479,
   "metadata": {},
   "outputs": [
    {
     "output_type": "stream",
     "name": "stdout",
     "text": [
      "Tipo del nuevo libro <class 'list'>\nLista biblioteca con el nuevo libro añadido: [('El mal de Corcira', 4), ('Un mundo feliz', 2), ('Lolita', 5), ('Crimen y castigo', 2), ('Python from for to pro', 0), ('El señor de los anillos', 6), ('Cien años de soledad', 5), ('Harry Potter', 9), ('Lectura Fácil', 4), ('Seda', 2), ('La chica de nieve', 6), ('El día que se perdió la cordura', 3), ('Data Science', 0), ('Balada de pájaros cantores y serpientes', 10)]\n"
     ]
    }
   ],
   "source": [
    "#your code here\n",
    "#Primero creo las variables\n",
    "libro_1 = \"Balada de pájaros cantores y serpientes\"\n",
    "uds_1 = 10\n",
    "\n",
    "#Variable que une el libro con las unidades disponibles\n",
    "\n",
    "nuevo_libro = [libro_1, uds_1]\n",
    "print(\"Tipo del nuevo libro\", type(nuevo_libro))\n",
    "nuevo_libro_tupla = tuple(nuevo_libro)\n",
    "\n",
    "#Ahora reasigno nuevo_libro para dejarlo como tupla\n",
    "nuevo_libro = nuevo_libro_tupla\n",
    "\n",
    "#Finalmente añado esa tupla a la lista biblioteca\n",
    "biblioteca.append(nuevo_libro)\n",
    "print(\"Lista biblioteca con el nuevo libro añadido:\", biblioteca)"
   ]
  },
  {
   "cell_type": "markdown",
   "metadata": {},
   "source": [
    "6. Acaban de traer una unidad más de *El mal de Corcira*, añade una unidad más al segundo elemento del primer elemento de la lista **biblioteca**."
   ]
  },
  {
   "cell_type": "code",
   "execution_count": 480,
   "metadata": {},
   "outputs": [
    {
     "output_type": "stream",
     "name": "stdout",
     "text": [
      "Tipo del primer elemento de la biblioteca: <class 'tuple'>\n<class 'list'>\n['El mal de Corcira', 5]\n['El mal de Corcira', 4]\nUnidades con libro añadido: ['El mal de Corcira', 5]\n['El mal de Corcira', 5]\n"
     ]
    }
   ],
   "source": [
    "biblioteca[0]\n",
    "\n",
    "#Para añadir una unidad más al segundo elemento del primer elemento de la tupla, hay que pasarlo a lista, añadir el ejemplar y después volverlo a pasar a tupla\n",
    "\n",
    "\n",
    "print(\"Tipo del primer elemento de la biblioteca:\", type(biblioteca[0]))\n",
    "\n",
    "biblioteca[0] = list(biblioteca[0])\n",
    "print(type(biblioteca[0]))\n",
    "k=1\n",
    "libro_anadido = [biblioteca[0][0],biblioteca[0][1]+k]\n",
    "print(libro_anadido)\n",
    "print(biblioteca[0])\n",
    "\n",
    "biblioteca[0] = libro_anadido\n",
    "print(\"Unidades con libro añadido:\", biblioteca[0])\n",
    "print(biblioteca[0])"
   ]
  },
  {
   "cell_type": "code",
   "execution_count": 480,
   "metadata": {},
   "outputs": [],
   "source": [
    "\n"
   ]
  },
  {
   "source": [
    "biblioteca[0][1] = biblioteca[0][1] - 1\n",
    "print(biblioteca[0][1])"
   ],
   "cell_type": "code",
   "metadata": {},
   "execution_count": 481,
   "outputs": [
    {
     "output_type": "stream",
     "name": "stdout",
     "text": [
      "4\n"
     ]
    }
   ]
  },
  {
   "cell_type": "markdown",
   "metadata": {},
   "source": [
    "¿Cómo se te ocurre que podrías alterar este dato?"
   ]
  },
  {
   "cell_type": "code",
   "execution_count": 482,
   "metadata": {},
   "outputs": [],
   "source": [
    "#your comment here\n",
    "#Se muestra error puesto que las tuplas son inmutables y no permiten reasignación. Para reasignar un nuevo elemento, sería conveniente transformarlo en lista y volverlo a convertir en tupla para que no pueda modificarse pero incluya el cambio."
   ]
  },
  {
   "cell_type": "markdown",
   "metadata": {},
   "source": [
    "Convierte la tupla en una lista para poder modificar el segundo elemento y añadir esta unidad. Asigna la tupla convertida a lista a la variable **tup_to_list** haz los cambios, agrega la unidad y vuelve a añadir la lista ya convertida en tupla a la lista **biblioteca**."
   ]
  },
  {
   "cell_type": "code",
   "execution_count": 483,
   "metadata": {},
   "outputs": [
    {
     "output_type": "stream",
     "name": "stdout",
     "text": [
      "Tipo del primer libro: <class 'list'>\n",
      "Primer libro convertido a lista: <class 'list'>\n",
      "['El mal de Corcira', 4]\n"
     ]
    }
   ],
   "source": [
    "#your code here\n",
    "mal_de_corcira_lista = list(biblioteca[0])\n",
    "print(\"Tipo del primer libro:\", type(biblioteca[0]))\n",
    "print(\"Primer libro convertido a lista:\", type(mal_de_corcira_lista))\n",
    "\n",
    "print(biblioteca[0])"
   ]
  },
  {
   "cell_type": "markdown",
   "metadata": {},
   "source": [
    "Ahora, tenemos dos tuplas con el libro *El mal de Corcira*, pero esto no es lo que queremos. Elimina el primer elemento de la lista **biblioteca**.\n",
    "\n",
    "Hint: https://www.programiz.com/python-programming/methods/list/remove"
   ]
  },
  {
   "cell_type": "code",
   "execution_count": 484,
   "metadata": {},
   "outputs": [],
   "source": [
    "#your code here\n"
   ]
  },
  {
   "cell_type": "markdown",
   "metadata": {},
   "source": [
    "7. Te han pedido que localices los títulos de los libros de los que no disponen de unidades. Es decir, su segundo elemento, es igual a 0. "
   ]
  },
  {
   "cell_type": "code",
   "execution_count": 485,
   "metadata": {},
   "outputs": [
    {
     "output_type": "stream",
     "name": "stdout",
     "text": [
      "('Python from for to pro', 0)\n<class 'tuple'>\n('Data Science', 0)\n<class 'tuple'>\n"
     ]
    }
   ],
   "source": [
    "#your code here\n",
    "for i in biblioteca:\n",
    "    if i[1] == 0:\n",
    "        print(i)\n",
    "        print(type(i))\n",
    "        "
   ]
  },
  {
   "cell_type": "markdown",
   "metadata": {},
   "source": [
    "8. ¿Cómo meterías estos dos elementos en una lista llamada **missing**?"
   ]
  },
  {
   "cell_type": "code",
   "execution_count": 489,
   "metadata": {},
   "outputs": [
    {
     "output_type": "stream",
     "name": "stdout",
     "text": [
      "4 ('Python from for to pro', 0)\n12 ('Data Science', 0)\nTupla missing: (('Python from for to pro', 0), ('Data Science', 0))\n<class 'tuple'>\n['Python from for to pro', 'Data Science']\n"
     ]
    }
   ],
   "source": [
    "#your code here\n",
    "#La lista missing debe añadir los libros con cero unidades, es decir, los elementos de la lista cuyo segundo elemento sea 0\n",
    "#los elementos de la tupla cuyo segundo elemento sea igual a 0 deben estar incluidos en una variable\n",
    "\n",
    "for position, value in enumerate(biblioteca):\n",
    "    if value[1] == 0:\n",
    "        print(position, value)\n",
    "\n",
    "libro_sin_unidades_1 = biblioteca[4]\n",
    "libro_sin_unidades_2 = biblioteca[12]\n",
    "missing = libro_sin_unidades_1, libro_sin_unidades_2\n",
    "print(\"Tupla missing:\", missing)\n",
    "print(type(missing))\n",
    "\n",
    "\n",
    "#### LA FORMA DE CLARA QUE PERMITE HACERLO CON UN BUCLE\n",
    "missing = []\n",
    "for libro in biblioteca:\n",
    "    if libro[1] == 0:\n",
    "        missing.append(libro[0])\n",
    "print(missing)"
   ]
  },
  {
   "cell_type": "code",
   "execution_count": null,
   "metadata": {},
   "outputs": [],
   "source": []
  }
 ],
 "metadata": {
  "kernelspec": {
   "name": "python3",
   "display_name": "Python 3.9.0 64-bit",
   "metadata": {
    "interpreter": {
     "hash": "7812ea015bdcee6f23a998adcdd2ef97c151c0c241b7b7070987d9313e41299d"
    }
   }
  },
  "language_info": {
   "codemirror_mode": {
    "name": "ipython",
    "version": 3
   },
   "file_extension": ".py",
   "mimetype": "text/x-python",
   "name": "python",
   "nbconvert_exporter": "python",
   "pygments_lexer": "ipython3",
   "version": "3.9.0-final"
  }
 },
 "nbformat": 4,
 "nbformat_minor": 4
}