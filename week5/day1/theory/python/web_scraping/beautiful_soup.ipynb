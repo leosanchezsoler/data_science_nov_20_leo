{
 "cells": [
  {
   "cell_type": "markdown",
   "metadata": {},
   "source": [
    "### Web Scraping\n",
    "\n",
    "- Beautiful soup\n",
    "\n",
    "- Selenium: Se usa más para interactuar con la WEB (también obtiene información)\n",
    "\n",
    "Example Selenium:\n",
    "\n",
    "https://towardsdatascience.com/web-scraping-using-selenium-python-8a60f4cf40ab\n"
   ]
  },
  {
   "cell_type": "markdown",
   "metadata": {},
   "source": [
    "**To install:**\n",
    "\n",
    "        pip3 install beautifulsoup4 requests pandas\n",
    "\n",
    "        pip3 install beautifulsoup4 \n",
    "\n",
    "        pip3 install requests\n",
    "\n",
    "        pip3 install pandas "
   ]
  },
  {
   "source": [
    "### Steps:\n",
    "\n",
    "1. Find the URL that you want to scrape.\n",
    "2. Inspecting the Page.\n",
    "3. Find the data you want to extract.\n",
    "4. Write the code.\n",
    "5. Run the code and extract the data.\n",
    "6. Store the data in the required format"
   ],
   "cell_type": "markdown",
   "metadata": {}
  },
  {
   "cell_type": "markdown",
   "metadata": {},
   "source": [
    "Examples Beautiful Soup:\n",
    "\n",
    "https://j2logo.com/python/web-scraping-con-python-guia-inicio-beautifulsoup/\n",
    "\n",
    "http://omz-software.com/pythonista/docs/ios/beautifulsoup_guide.html\n",
    "\n",
    "https://towardsdatascience.com/top-5-beautiful-soup-functions-7bfe5a693482\n",
    "\n",
    "https://www.crummy.com/software/BeautifulSoup/bs4/doc/"
   ]
  },
  {
   "cell_type": "code",
   "execution_count": 2,
   "metadata": {},
   "outputs": [],
   "source": [
    "import requests\n",
    "from bs4 import BeautifulSoup\n",
    "import pandas as pd"
   ]
  },
  {
   "cell_type": "code",
   "execution_count": 3,
   "metadata": {},
   "outputs": [],
   "source": [
    "# To show beautiful html\n",
    "def show_html(html_str):\n",
    "    print(BeautifulSoup(str(html_str), 'html.parser').prettify())"
   ]
  },
  {
   "source": [
    "** Your Headers ** \n",
    "\n",
    "http://www.xhaus.com/headers"
   ],
   "cell_type": "markdown",
   "metadata": {}
  },
  {
   "cell_type": "code",
   "execution_count": 4,
   "metadata": {
    "tags": []
   },
   "outputs": [
    {
     "output_type": "stream",
     "name": "stdout",
     "text": [
      "IMDb \"Top 1000\"\n(Sorted by IMDb Rating Descending) - IMDb\n\n\n\n\n\n\n\n\n\n\n\n\n\n\n\n\n\n\n\n\n\n\n\n\n\n\n\n\n\n\n\n\n\n\n\n\n\n\n\n\n\n\n\n\n\n\n\n\n\n\n\n\n\n \n\n\n\n\n\n\n\n\n\n\n\nMenuMoviesRelease CalendarDVD &amp; Blu-ray ReleasesTop Rated MoviesMost Popular MoviesBrowse Movies by GenreTop Box OfficeShowtimes &amp; TicketsShowtimes &amp; TicketsIn TheatersComing SoonComing SoonMovie NewsIndia Movie SpotlightTV ShowsWhat's on TV &amp; StreamingWhat's on TV &amp; StreamingTop Rated ShowsMost Popular ShowsBrowse TV Shows by GenreTV NewsIndia TV SpotlightWatchWhat to WatchLatest TrailersIMDb OriginalsIMDb PicksIMDb PodcastsAwards &amp; EventsOscarsBest Picture WinnersBest Picture WinnersGolden GlobesEmmysSTARmeter AwardsSan Diego Comic-ConNew York Comic-ConSundance Film FestivalToronto Int'l Film FestivalAwards CentralFestival CentralAll EventsCelebsBorn TodayMost Popular CelebsMost Popular CelebsCelebrity NewsCommunityHelp CenterContributor ZonePollsFor Industry ProfessionalsAllAllTitlesTV EpisodesCelebsCompaniesKeywordsAdvanced SearchWatchlistSign In\n\n \n\n\n\n\n\n\n\n\n\n\n\n\n\n\n\nIMDb \"Top 1000\"\n(Sorted by IMDb Rating Descending) \n\n\n\n        View Mode:\n Compact\n | Detailed\n \n\n1-100 of 1,000 titles.\n| Next »\n\n\n\n\n       Sort by:\n           Popularity\n| A-Z\n| User Rating▼\n| Number of Votes\n| US Box Office\n| Runtime\n| Year\n| Release Date\n| Date of Your Rating\n| Your Rating\n\n\n\n\n\n\n\n\n\n \n \n\n\n1.\nThe Shawshank Redemption\n(1994)\n\n\nR\n|\n142 min\n|\n\nDrama            \n\n\n\n\n9.3\n\n\n\n\nRate this\n\n\n\n\n\n\n \n \n\n1\n2\n3\n4\n5\n6\n7\n8\n9\n10\n\n9.3/10\nX\n \n\n\n\n80        \n        Metascore\n            \n\n\n    Two imprisoned men bond over a number of years, finding solace and eventual redemption through acts of common decency.\n\n    Director:\nFrank Darabont\n| \n    Stars:\nTim Robbins, \nMorgan Freeman, \nBob Gunton, \nWilliam Sadler\n\n\nVotes:\n2,319,392\n| Gross:\n$28.34M\n\n\n\n\n\n\n\n\n \n \n\n\n2.\nThe Godfather\n(1972)\n\n\nR\n|\n175 min\n|\n\nCrime, Drama            \n\n\n\n\n9.2\n\n\n\n\nRate this\n\n\n\n\n\n\n \n \n\n1\n2\n3\n4\n5\n6\n7\n8\n9\n10\n\n9.2/10\nX\n \n\n\n\n100        \n        Metascore\n            \n\n\n    The aging patriarch of an organized crime dynasty transfers control of his clandestine empire to his reluctant son.\n\n    Director:\nFrancis Ford Coppola\n| \n    Stars:\nMarlon Brando, \nAl Pacino, \nJames Caan, \nDiane Keaton\n\n\nVotes:\n1,601,698\n| Gross:\n$134.97M\n\n\n\n\n\n\n\n\n \n \n\n\n3.\nThe Dark Knight\n(2008)\n\n\nPG-13\n|\n152 min\n|\n\nAction, Crime, Drama            \n\n\n\n\n9.0\n\n\n\n\nRate this\n\n\n\n\n\n\n \n \n\n1\n2\n3\n4\n5\n6\n7\n8\n9\n10\n\n9/10\nX\n \n\n\n\n84        \n        Metascore\n            \n\n\n    When the menace known as the Joker wreaks havoc and chaos on the people of Gotham, Batman must accept one of the greatest psychological and physical tests of his ability to fight injustice.\n\n    Director:\nChristopher Nolan\n| \n    Stars:\nChristian Bale, \nHeath Ledger, \nAaron Eckhart, \nMichael Caine\n\n\nVotes:\n2,281,530\n| Gross:\n$534.86M\n\n\n\n\n\n\n\n\n \n \n\n\n4.\nThe Godfather: Part II\n(1974)\n\n\nR\n|\n202 min\n|\n\nCrime, Drama            \n\n\n\n\n9.0\n\n\n\n\nRate this\n\n\n\n\n\n\n \n \n\n1\n2\n3\n4\n5\n6\n7\n8\n9\n10\n\n9/10\nX\n \n\n\n\n90        \n        Metascore\n            \n\n\n    The early life and career of Vito Corleone in 1920s New York City is portrayed, while his son, Michael, expands and tightens his grip on the family crime syndicate.\n\n    Director:\nFrancis Ford Coppola\n| \n    Stars:\nAl Pacino, \nRobert De Niro, \nRobert Duvall, \nDiane Keaton\n\n\nVotes:\n1,118,698\n| Gross:\n$57.30M\n\n\n\n\n\n\n\n\n \n \n\n\n5.\n12 Angry Men\n(1957)\n\n\nApproved\n|\n96 min\n|\n\nCrime, Drama            \n\n\n\n\n9.0\n\n\n\n\nRate this\n\n\n\n\n\n\n \n \n\n1\n2\n3\n4\n5\n6\n7\n8\n9\n10\n\n9/10\nX\n \n\n\n\n96        \n        Metascore\n            \n\n\n    A jury holdout attempts to prevent a miscarriage of justice by forcing his colleagues to reconsider the evidence.\n\n    Director:\nSidney Lumet\n| \n    Stars:\nHenry Fonda, \nLee J. Cobb, \nMartin Balsam, \nJohn Fiedler\n\n\nVotes:\n682,536\n| Gross:\n$4.36M\n\n\n\n\n\n\n\n\n \n \n\n\n6.\nThe Lord of the Rings: The Return of the King\n(2003)\n\n\nPG-13\n|\n201 min\n|\n\nAction, Adventure, Drama            \n\n\n\n\n8.9\n\n\n\n\nRate this\n\n\n\n\n\n\n \n \n\n1\n2\n3\n4\n5\n6\n7\n8\n9\n10\n\n8.9/10\nX\n \n\n\n\n94        \n        Metascore\n            \n\n\n    Gandalf and Aragorn lead the World of Men against Sauron's army to draw his gaze from Frodo and Sam as they approach Mount Doom with the One Ring.\n\n    Director:\nPeter Jackson\n| \n    Stars:\nElijah Wood, \nViggo Mortensen, \nIan McKellen, \nOrlando Bloom\n\n\nVotes:\n1,628,112\n| Gross:\n$377.85M\n\n\n\n\n\n\n\n\n \n \n\n\n7.\nPulp Fiction\n(1994)\n\n\nR\n|\n154 min\n|\n\nCrime, Drama            \n\n\n\n\n8.9\n\n\n\n\nRate this\n\n\n\n\n\n\n \n \n\n1\n2\n3\n4\n5\n6\n7\n8\n9\n10\n\n8.9/10\nX\n \n\n\n\n94        \n        Metascore\n            \n\n\n    The lives of two mob hitmen, a boxer, a gangster and his wife, and a pair of diner bandits intertwine in four tales of violence and redemption.\n\n    Director:\nQuentin Tarantino\n| \n    Stars:\nJohn Travolta, \nUma Thurman, \nSamuel L. Jackson, \nBruce Willis\n\n\nVotes:\n1,809,415\n| Gross:\n$107.93M\n\n\n\n\n\n\n\n\n \n \n\n\n8.\nSchindler's List\n(1993)\n\n\nR\n|\n195 min\n|\n\nBiography, Drama, History            \n\n\n\n\n8.9\n\n\n\n\nRate this\n\n\n\n\n\n\n \n \n\n1\n2\n3\n4\n5\n6\n7\n8\n9\n10\n\n8.9/10\nX\n \n\n\n\n94        \n        Metascore\n            \n\n\n    In German-occupied Poland during World War II, industrialist Oskar Schindler gradually becomes concerned for his Jewish workforce after witnessing their persecution by the Nazis.\n\n    Director:\nSteven Spielberg\n| \n    Stars:\nLiam Neeson, \nRalph Fiennes, \nBen Kingsley, \nCaroline Goodall\n\n\nVotes:\n1,202,844\n| Gross:\n$96.90M\n\n\n\n\n\n\n\n\n \n \n\n\n9.\nInception\n(2010)\n\n\nPG-13\n|\n148 min\n|\n\nAction, Adventure, Sci-Fi            \n\n\n\n\n8.8\n\n\n\n\nRate this\n\n\n\n\n\n\n \n \n\n1\n2\n3\n4\n5\n6\n7\n8\n9\n10\n\n8.8/10\nX\n \n\n\n\n74        \n        Metascore\n            \n\n\n    A thief who steals corporate secrets through the use of dream-sharing technology is given the inverse task of planting an idea into the mind of a C.E.O.\n\n    Director:\nChristopher Nolan\n| \n    Stars:\nLeonardo DiCaprio, \nJoseph Gordon-Levitt, \nElliot Page, \nKen Watanabe\n\n\nVotes:\n2,044,787\n| Gross:\n$292.58M\n\n\n\n\n\n\n\n\n \n \n\n\n10.\nFight Club\n(1999)\n\n\nR\n|\n139 min\n|\n\nDrama            \n\n\n\n\n8.8\n\n\n\n\nRate this\n\n\n\n\n\n\n \n \n\n1\n2\n3\n4\n5\n6\n7\n8\n9\n10\n\n8.8/10\nX\n \n\n\n\n66        \n        Metascore\n            \n\n\n    An insomniac office worker and a devil-may-care soapmaker form an underground fight club that evolves into something much, much more.\n\n    Director:\nDavid Fincher\n| \n    Stars:\nBrad Pitt, \nEdward Norton, \nMeat Loaf, \nZach Grenier\n\n\nVotes:\n1,837,277\n| Gross:\n$37.03M\n\n\n\n\n\n\n\n\n \n \n\n\n11.\nThe Lord of the Rings: The Fellowship of the Ring\n(2001)\n\n\nPG-13\n|\n178 min\n|\n\nAction, Adventure, Drama            \n\n\n\n\n8.8\n\n\n\n\nRate this\n\n\n\n\n\n\n \n \n\n1\n2\n3\n4\n5\n6\n7\n8\n9\n10\n\n8.8/10\nX\n \n\n\n\n92        \n        Metascore\n            \n\n\n    A meek Hobbit from the Shire and eight companions set out on a journey to destroy the powerful One Ring and save Middle-earth from the Dark Lord Sauron.\n\n    Director:\nPeter Jackson\n| \n    Stars:\nElijah Wood, \nIan McKellen, \nOrlando Bloom, \nSean Bean\n\n\nVotes:\n1,644,477\n| Gross:\n$315.54M\n\n\n\n\n\n\n\n\n \n \n\n\n12.\nForrest Gump\n(1994)\n\n\nPG-13\n|\n142 min\n|\n\nDrama, Romance            \n\n\n\n\n8.8\n\n\n\n\nRate this\n\n\n\n\n\n\n \n \n\n1\n2\n3\n4\n5\n6\n7\n8\n9\n10\n\n8.8/10\nX\n \n\n\n\n82        \n        Metascore\n            \n\n\n    The presidencies of Kennedy and Johnson, the events of Vietnam, Watergate and other historical events unfold through the perspective of an Alabama man with an IQ of 75, whose only desire is to be reunited with his childhood sweetheart.\n\n    Director:\nRobert Zemeckis\n| \n    Stars:\nTom Hanks, \nRobin Wright, \nGary Sinise, \nSally Field\n\n\nVotes:\n1,788,624\n| Gross:\n$330.25M\n\n\n\n\n\n\n\n\n \n \n\n\n13.\nThe Good, the Bad and the Ugly\n(1966)\n\n\nR\n|\n178 min\n|\n\nWestern            \n\n\n\n\n8.8\n\n\n\n\nRate this\n\n\n\n\n\n\n \n \n\n1\n2\n3\n4\n5\n6\n7\n8\n9\n10\n\n8.8/10\nX\n \n\n\n\n90        \n        Metascore\n            \n\n\n    A bounty hunting scam joins two men in an uneasy alliance against a third in a race to find a fortune in gold buried in a remote cemetery.\n\n    Director:\nSergio Leone\n| \n    Stars:\nClint Eastwood, \nEli Wallach, \nLee Van Cleef, \nAldo Giuffrè\n\n\nVotes:\n682,804\n| Gross:\n$6.10M\n\n\n\n\n\n\n\n\n \n \n\n\n14.\nSoorarai Pottru\n(2020)\n\n\nTV-MA\n|\n153 min\n|\n\nDrama            \n\n\n\n\n8.7\n\n\n\n\nRate this\n\n\n\n\n\n\n \n \n\n1\n2\n3\n4\n5\n6\n7\n8\n9\n10\n\n8.7/10\nX\n \n\n\n\n\n    Nedumaaran Rajangam \"Maara\" sets out to make the common man fly and in the process takes on the world's most capital intensive industry and several enemies who stand in his way.\n\n    Director:\nSudha Kongara\n| \n    Stars:\nSuriya, \nAparna Balamurali, \nParesh Rawal, \nMohan Babu\n\n\nVotes:\n50,908\n\n\n\n\n\n\n\n\n \n \n\n\n15.\nThe Lord of the Rings: The Two Towers\n(2002)\n\n\nPG-13\n|\n179 min\n|\n\nAction, Adventure, Drama            \n\n\n\n\n8.7\n\n\n\n\nRate this\n\n\n\n\n\n\n \n \n\n1\n2\n3\n4\n5\n6\n7\n8\n9\n10\n\n8.7/10\nX\n \n\n\n\n87        \n        Metascore\n            \n\n\n    While Frodo and Sam edge closer to Mordor with the help of the shifty Gollum, the divided fellowship makes a stand against Sauron's new ally, Saruman, and his hordes of Isengard.\n\n    Director:\nPeter Jackson\n| \n    Stars:\nElijah Wood, \nIan McKellen, \nViggo Mortensen, \nOrlando Bloom\n\n\nVotes:\n1,471,878\n| Gross:\n$342.55M\n\n\n\n\n\n\n\n\n \n \n\n\n16.\nThe Matrix\n(1999)\n\n\nR\n|\n136 min\n|\n\nAction, Sci-Fi            \n\n\n\n\n8.7\n\n\n\n\nRate this\n\n\n\n\n\n\n \n \n\n1\n2\n3\n4\n5\n6\n7\n8\n9\n10\n\n8.7/10\nX\n \n\n\n\n73        \n        Metascore\n            \n\n\n    When a beautiful stranger leads computer hacker Neo to a forbidding underworld, he discovers the shocking truth--the life he knows is the elaborate deception of an evil cyber-intelligence.\n\n    Directors:\nLana Wachowski, \nLilly Wachowski\n| \n    Stars:\nKeanu Reeves, \nLaurence Fishburne, \nCarrie-Anne Moss, \nHugo Weaving\n\n\nVotes:\n1,659,792\n| Gross:\n$171.48M\n\n\n\n\n\n\n\n\n \n \n\n\n17.\nGoodfellas\n(1990)\n\n\nR\n|\n146 min\n|\n\nBiography, Crime, Drama            \n\n\n\n\n8.7\n\n\n\n\nRate this\n\n\n\n\n\n\n \n \n\n1\n2\n3\n4\n5\n6\n7\n8\n9\n10\n\n8.7/10\nX\n \n\n\n\n90        \n        Metascore\n            \n\n\n    The story of Henry Hill and his life in the mob, covering his relationship with his wife Karen Hill and his mob partners Jimmy Conway and Tommy DeVito in the Italian-American crime syndicate.\n\n    Director:\nMartin Scorsese\n| \n    Stars:\nRobert De Niro, \nRay Liotta, \nJoe Pesci, \nLorraine Bracco\n\n\nVotes:\n1,009,865\n| Gross:\n$46.84M\n\n\n\n\n\n\n\n\n \n \n\n\n18.\nStar Wars: Episode V - The Empire Strikes Back\n(1980)\n\n\nPG\n|\n124 min\n|\n\nAction, Adventure, Fantasy            \n\n\n\n\n8.7\n\n\n\n\nRate this\n\n\n\n\n\n\n \n \n\n1\n2\n3\n4\n5\n6\n7\n8\n9\n10\n\n8.7/10\nX\n \n\n\n\n82        \n        Metascore\n            \n\n\n    After the Rebels are brutally overpowered by the Empire on the ice planet Hoth, Luke Skywalker begins Jedi training with Yoda, while his friends are pursued by Darth Vader and a bounty hunter named Boba Fett all over the galaxy.\n\n    Director:\nIrvin Kershner\n| \n    Stars:\nMark Hamill, \nHarrison Ford, \nCarrie Fisher, \nBilly Dee Williams\n\n\nVotes:\n1,148,641\n| Gross:\n$290.48M\n\n\n\n\n\n\n\n\n \n \n\n\n19.\nOne Flew Over the Cuckoo's Nest\n(1975)\n\n\nR\n|\n133 min\n|\n\nDrama            \n\n\n\n\n8.7\n\n\n\n\nRate this\n\n\n\n\n\n\n \n \n\n1\n2\n3\n4\n5\n6\n7\n8\n9\n10\n\n8.7/10\nX\n \n\n\n\n83        \n        Metascore\n            \n\n\n    A criminal pleads insanity and is admitted to a mental institution, where he rebels against the oppressive nurse and rallies up the scared patients.\n\n    Director:\nMilos Forman\n| \n    Stars:\nJack Nicholson, \nLouise Fletcher, \nMichael Berryman, \nPeter Brocco\n\n\nVotes:\n910,377\n| Gross:\n$112.00M\n\n\n\n\n\n\n\n\n \n \n\n\n20.\nHamilton\n(2020)\n\n\nPG-13\n|\n160 min\n|\n\nBiography, Drama, History            \n\n\n\n\n8.6\n\n\n\n\nRate this\n\n\n\n\n\n\n \n \n\n1\n2\n3\n4\n5\n6\n7\n8\n9\n10\n\n8.6/10\nX\n \n\n\n\n90        \n        Metascore\n            \n\n\n    The real life of one of America's foremost founding fathers and first Secretary of the Treasury, Alexander Hamilton. Captured live on Broadway from the Richard Rodgers Theater with the original Broadway cast.\n\n    Director:\nThomas Kail\n| \n    Stars:\nLin-Manuel Miranda, \nPhillipa Soo, \nLeslie Odom Jr., \nRenée Elise Goldsberry\n\n\nVotes:\n49,562\n\n\n\n\n\n\n\n\n \n \n\n\n21.\nParasite\n(2019)\n\n\nR\n|\n132 min\n|\n\nComedy, Drama, Thriller            \n\n\n\n\n8.6\n\n\n\n\nRate this\n\n\n\n\n\n\n \n \n\n1\n2\n3\n4\n5\n6\n7\n8\n9\n10\n\n8.6/10\nX\n \n\n\n\n96        \n        Metascore\n            \n\n\n    Greed and class discrimination threaten the newly formed symbiotic relationship between the wealthy Park family and the destitute Kim clan.\n\n    Director:\nBong Joon Ho\n| \n    Stars:\nSong Kang-Ho, \nLee Sun-kyun, \nCho Yeo-jeong, \nChoi Woo-sik\n\n\nVotes:\n522,041\n| Gross:\n$53.37M\n\n\n\n\n\n\n\n\n \n \n\n\n22.\nInterstellar\n(2014)\n\n\nPG-13\n|\n169 min\n|\n\nAdventure, Drama, Sci-Fi            \n\n\n\n\n8.6\n\n\n\n\nRate this\n\n\n\n\n\n\n \n \n\n1\n2\n3\n4\n5\n6\n7\n8\n9\n10\n\n8.6/10\nX\n \n\n\n\n74        \n        Metascore\n            \n\n\n    A team of explorers travel through a wormhole in space in an attempt to ensure humanity's survival.\n\n    Director:\nChristopher Nolan\n| \n    Stars:\nMatthew McConaughey, \nAnne Hathaway, \nJessica Chastain, \nMackenzie Foy\n\n\nVotes:\n1,489,708\n| Gross:\n$188.02M\n\n\n\n\n\n\n\n\n \n \n\n\n23.\nCity of God\n(2002)\n\n\nR\n|\n130 min\n|\n\nCrime, Drama            \n\n\n\n\n8.6\n\n\n\n\nRate this\n\n\n\n\n\n\n \n \n\n1\n2\n3\n4\n5\n6\n7\n8\n9\n10\n\n8.6/10\nX\n \n\n\n\n79        \n        Metascore\n            \n\n\n    In the slums of Rio, two kids' paths diverge as one struggles to become a photographer and the other a kingpin.\n\n    Directors:\nFernando Meirelles, \nKátia Lund\n| \n    Stars:\nAlexandre Rodrigues, \nLeandro Firmino, \nMatheus Nachtergaele, \nPhellipe Haagensen\n\n\nVotes:\n694,488\n| Gross:\n$7.56M\n\n\n\n\n\n\n\n\n \n \n\n\n24.\nSpirited Away\n(2001)\n\n\nPG\n|\n125 min\n|\n\nAnimation, Adventure, Family            \n\n\n\n\n8.6\n\n\n\n\nRate this\n\n\n\n\n\n\n \n \n\n1\n2\n3\n4\n5\n6\n7\n8\n9\n10\n\n8.6/10\nX\n \n\n\n\n96        \n        Metascore\n            \n\n\n    During her family's move to the suburbs, a sullen 10-year-old girl wanders into a world ruled by gods, witches, and spirits, and where humans are changed into beasts.\n\n    Director:\nHayao Miyazaki\n| \n    Stars:\nDaveigh Chase, \nSuzanne Pleshette, \nMiyu Irino, \nRumi Hiiragi\n\n\nVotes:\n642,337\n| Gross:\n$10.06M\n\n\n\n\n\n\n\n\n \n \n\n\n25.\nSaving Private Ryan\n(1998)\n\n\nR\n|\n169 min\n|\n\nDrama, War            \n\n\n\n\n8.6\n\n\n\n\nRate this\n\n\n\n\n\n\n \n \n\n1\n2\n3\n4\n5\n6\n7\n8\n9\n10\n\n8.6/10\nX\n \n\n\n\n91        \n        Metascore\n            \n\n\n    Following the Normandy Landings, a group of U.S. soldiers go behind enemy lines to retrieve a paratrooper whose brothers have been killed in action.\n\n    Director:\nSteven Spielberg\n| \n    Stars:\nTom Hanks, \nMatt Damon, \nTom Sizemore, \nEdward Burns\n\n\nVotes:\n1,224,099\n| Gross:\n$216.54M\n\n\n\n\n\n\n\n\n \n \n\n\n26.\nThe Green Mile\n(1999)\n\n\nR\n|\n189 min\n|\n\nCrime, Drama, Fantasy            \n\n\n\n\n8.6\n\n\n\n\nRate this\n\n\n\n\n\n\n \n \n\n1\n2\n3\n4\n5\n6\n7\n8\n9\n10\n\n8.6/10\nX\n \n\n\n\n61        \n        Metascore\n            \n\n\n    The lives of guards on Death Row are affected by one of their charges: a black man accused of child murder and rape, yet who has a mysterious gift.\n\n    Director:\nFrank Darabont\n| \n    Stars:\nTom Hanks, \nMichael Clarke Duncan, \nDavid Morse, \nBonnie Hunt\n\n\nVotes:\n1,135,007\n| Gross:\n$136.80M\n\n\n\n\n\n\n\n\n \n \n\n\n27.\nLife Is Beautiful\n(1997)\n\n\nPG-13\n|\n116 min\n|\n\nComedy, Drama, Romance            \n\n\n\n\n8.6\n\n\n\n\nRate this\n\n\n\n\n\n\n \n \n\n1\n2\n3\n4\n5\n6\n7\n8\n9\n10\n\n8.6/10\nX\n \n\n\n\n59        \n        Metascore\n            \n\n\n    When an open-minded Jewish librarian and his son become victims of the Holocaust, he uses a perfect mixture of will, humor, and imagination to protect his son from the dangers around their camp.\n\n    Director:\nRoberto Benigni\n| \n    Stars:\nRoberto Benigni, \nNicoletta Braschi, \nGiorgio Cantarini, \nGiustino Durano\n\n\nVotes:\n617,191\n| Gross:\n$57.60M\n\n\n\n\n\n\n\n\n \n \n\n\n28.\nSe7en\n(1995)\n\n\nR\n|\n127 min\n|\n\nCrime, Drama, Mystery            \n\n\n\n\n8.6\n\n\n\n\nRate this\n\n\n\n\n\n\n \n \n\n1\n2\n3\n4\n5\n6\n7\n8\n9\n10\n\n8.6/10\nX\n \n\n\n\n65        \n        Metascore\n            \n\n\n    Two detectives, a rookie and a veteran, hunt a serial killer who uses the seven deadly sins as his motives.\n\n    Director:\nDavid Fincher\n| \n    Stars:\nMorgan Freeman, \nBrad Pitt, \nKevin Spacey, \nAndrew Kevin Walker\n\n\nVotes:\n1,429,563\n| Gross:\n$100.13M\n\n\n\n\n\n\n\n\n \n \n\n\n29.\nThe Silence of the Lambs\n(1991)\n\n\nR\n|\n118 min\n|\n\nCrime, Drama, Thriller            \n\n\n\n\n8.6\n\n\n\n\nRate this\n\n\n\n\n\n\n \n \n\n1\n2\n3\n4\n5\n6\n7\n8\n9\n10\n\n8.6/10\nX\n \n\n\n\n85        \n        Metascore\n            \n\n\n    A young F.B.I. cadet must receive the help of an incarcerated and manipulative cannibal killer to help catch another serial killer, a madman who skins his victims.\n\n    Director:\nJonathan Demme\n| \n    Stars:\nJodie Foster, \nAnthony Hopkins, \nLawrence A. Bonney, \nKasi Lemmons\n\n\nVotes:\n1,257,965\n| Gross:\n$130.74M\n\n\n\n\n\n\n\n\n \n \n\n\n30.\nStar Wars: Episode IV - A New Hope\n(1977)\n\n\nPG\n|\n121 min\n|\n\nAction, Adventure, Fantasy            \n\n\n\n\n8.6\n\n\n\n\nRate this\n\n\n\n\n\n\n \n \n\n1\n2\n3\n4\n5\n6\n7\n8\n9\n10\n\n8.6/10\nX\n \n\n\n\n90        \n        Metascore\n            \n\n\n    Luke Skywalker joins forces with a Jedi Knight, a cocky pilot, a Wookiee and two droids to save the galaxy from the Empire's world-destroying battle station, while also attempting to rescue Princess Leia from the mysterious Darth Vader.\n\n    Director:\nGeorge Lucas\n| \n    Stars:\nMark Hamill, \nHarrison Ford, \nCarrie Fisher, \nAlec Guinness\n\n\nVotes:\n1,220,564\n| Gross:\n$322.74M\n\n\n\n\n\n\n\n\n \n \n\n\n31.\nHara-Kiri\n(1962)\n\n\nNot Rated\n|\n133 min\n|\n\nAction, Drama, Mystery            \n\n\n\n\n8.6\n\n\n\n\nRate this\n\n\n\n\n\n\n \n \n\n1\n2\n3\n4\n5\n6\n7\n8\n9\n10\n\n8.6/10\nX\n \n\n\n\n85        \n        Metascore\n            \n\n\n    When a ronin requesting seppuku at a feudal lord's palace is told of the brutal suicide of another ronin who previously visited, he reveals how their pasts are intertwined - and in doing so challenges the clan's integrity.\n\n    Director:\nMasaki Kobayashi\n| \n    Stars:\nTatsuya Nakadai, \nAkira Ishihama, \nShima Iwashita, \nTetsurô Tanba\n\n\nVotes:\n40,564\n\n\n\n\n\n\n\n\n \n \n\n\n32.\nSeven Samurai\n(1954)\n\n\nNot Rated\n|\n207 min\n|\n\nAction, Adventure, Drama            \n\n\n\n\n8.6\n\n\n\n\nRate this\n\n\n\n\n\n\n \n \n\n1\n2\n3\n4\n5\n6\n7\n8\n9\n10\n\n8.6/10\nX\n \n\n\n\n98        \n        Metascore\n            \n\n\n    A poor village under attack by bandits recruits seven unemployed samurai to help them defend themselves.\n\n    Director:\nAkira Kurosawa\n| \n    Stars:\nToshirô Mifune, \nTakashi Shimura, \nKeiko Tsushima, \nYukiko Shimazaki\n\n\nVotes:\n313,146\n| Gross:\n$0.27M\n\n\n\n\n\n\n\n\n \n \n\n\n33.\nIt's a Wonderful Life\n(1946)\n\n\nPG\n|\n130 min\n|\n\nDrama, Family, Fantasy            \n\n\n\n\n8.6\n\n\n\n\nRate this\n\n\n\n\n\n\n \n \n\n1\n2\n3\n4\n5\n6\n7\n8\n9\n10\n\n8.6/10\nX\n \n\n\n\n89        \n        Metascore\n            \n\n\n    An angel is sent from Heaven to help a desperately frustrated businessman by showing him what life would have been like if he had never existed.\n\n    Director:\nFrank Capra\n| \n    Stars:\nJames Stewart, \nDonna Reed, \nLionel Barrymore, \nThomas Mitchell\n\n\nVotes:\n395,645\n\n\n\n\n\n\n\n\n \n \n\n\n34.\nJoker\n(2019)\n\n\nR\n|\n122 min\n|\n\nCrime, Drama, Thriller            \n\n\n\n\n8.5\n\n\n\n\nRate this\n\n\n\n\n\n\n \n \n\n1\n2\n3\n4\n5\n6\n7\n8\n9\n10\n\n8.5/10\nX\n \n\n\n\n59        \n        Metascore\n            \n\n\n    In Gotham City, mentally troubled comedian Arthur Fleck is disregarded and mistreated by society. He then embarks on a downward spiral of revolution and bloody crime. This path brings him face-to-face with his alter-ego: the Joker.\n\n    Director:\nTodd Phillips\n| \n    Stars:\nJoaquin Phoenix, \nRobert De Niro, \nZazie Beetz, \nFrances Conroy\n\n\nVotes:\n911,071\n| Gross:\n$335.45M\n\n\n\n\n\n\n\n\n \n \n\n\n35.\nVikram Vedha\n(2017)\n\n\nNot Rated\n|\n147 min\n|\n\nAction, Crime, Drama            \n\n\n\n\n8.5\n\n\n\n\nRate this\n\n\n\n\n\n\n \n \n\n1\n2\n3\n4\n5\n6\n7\n8\n9\n10\n\n8.5/10\nX\n \n\n\n\n\n    Vikram, a no-nonsense police officer, accompanied by Simon, his partner, is on the hunt to capture Vedha, a smuggler and a murderer. Vedha tries to change Vikram's life, which leads to a conflict.\n\n    Directors:\nGayatri, \nPushkar\n| \n    Stars:\nMadhavan, \nVijay Sethupathi, \nShraddha Srinath, \nKathir\n\n\nVotes:\n27,053\n\n\n\n\n\n\n\n\n \n \n\n\n36.\nWhiplash\n(2014)\n\n\nR\n|\n106 min\n|\n\nDrama, Music            \n\n\n\n\n8.5\n\n\n\n\nRate this\n\n\n\n\n\n\n \n \n\n1\n2\n3\n4\n5\n6\n7\n8\n9\n10\n\n8.5/10\nX\n \n\n\n\n88        \n        Metascore\n            \n\n\n    A promising young drummer enrolls at a cut-throat music conservatory where his dreams of greatness are mentored by an instructor who will stop at nothing to realize a student's potential.\n\n    Director:\nDamien Chazelle\n| \n    Stars:\nMiles Teller, \nJ.K. Simmons, \nMelissa Benoist, \nPaul Reiser\n\n\nVotes:\n707,488\n| Gross:\n$13.09M\n\n\n\n\n\n\n\n\n \n \n\n\n37.\nThe Intouchables\n(2011)\n\n\nR\n|\n112 min\n|\n\nBiography, Comedy, Drama            \n\n\n\n\n8.5\n\n\n\n\nRate this\n\n\n\n\n\n\n \n \n\n1\n2\n3\n4\n5\n6\n7\n8\n9\n10\n\n8.5/10\nX\n \n\n\n\n57        \n        Metascore\n            \n\n\n    After he becomes a quadriplegic from a paragliding accident, an aristocrat hires a young man from the projects to be his caregiver.\n\n    Directors:\nOlivier Nakache, \nÉric Toledano\n| \n    Stars:\nFrançois Cluzet, \nOmar Sy, \nAnne Le Ny, \nAudrey Fleurot\n\n\nVotes:\n750,413\n| Gross:\n$13.18M\n\n\n\n\n\n\n\n\n \n \n\n\n38.\nThe Prestige\n(2006)\n\n\nPG-13\n|\n130 min\n|\n\nDrama, Mystery, Sci-Fi            \n\n\n\n\n8.5\n\n\n\n\nRate this\n\n\n\n\n\n\n \n \n\n1\n2\n3\n4\n5\n6\n7\n8\n9\n10\n\n8.5/10\nX\n \n\n\n\n66        \n        Metascore\n            \n\n\n    After a tragic accident, two stage magicians engage in a battle to create the ultimate illusion while sacrificing everything they have to outwit each other.\n\n    Director:\nChristopher Nolan\n| \n    Stars:\nChristian Bale, \nHugh Jackman, \nScarlett Johansson, \nMichael Caine\n\n\nVotes:\n1,177,737\n| Gross:\n$53.09M\n\n\n\n\n\n\n\n\n \n \n\n\n39.\nThe Departed\n(2006)\n\n\nR\n|\n151 min\n|\n\nCrime, Drama, Thriller            \n\n\n\n\n8.5\n\n\n\n\nRate this\n\n\n\n\n\n\n \n \n\n1\n2\n3\n4\n5\n6\n7\n8\n9\n10\n\n8.5/10\nX\n \n\n\n\n85        \n        Metascore\n            \n\n\n    An undercover cop and a mole in the police attempt to identify each other while infiltrating an Irish gang in South Boston.\n\n    Director:\nMartin Scorsese\n| \n    Stars:\nLeonardo DiCaprio, \nMatt Damon, \nJack Nicholson, \nMark Wahlberg\n\n\nVotes:\n1,178,450\n| Gross:\n$132.38M\n\n\n\n\n\n\n\n\n \n \n\n\n40.\nThe Pianist\n(2002)\n\n\nR\n|\n150 min\n|\n\nBiography, Drama, Music            \n\n\n\n\n8.5\n\n\n\n\nRate this\n\n\n\n\n\n\n \n \n\n1\n2\n3\n4\n5\n6\n7\n8\n9\n10\n\n8.5/10\nX\n \n\n\n\n85        \n        Metascore\n            \n\n\n    A Polish Jewish musician struggles to survive the destruction of the Warsaw ghetto of World War II.\n\n    Director:\nRoman Polanski\n| \n    Stars:\nAdrien Brody, \nThomas Kretschmann, \nFrank Finlay, \nEmilia Fox\n\n\nVotes:\n721,788\n| Gross:\n$32.57M\n\n\n\n\n\n\n\n\n \n \n\n\n41.\nGladiator\n(2000)\n\n\nR\n|\n155 min\n|\n\nAction, Adventure, Drama            \n\n\n\n\n8.5\n\n\n\n\nRate this\n\n\n\n\n\n\n \n \n\n1\n2\n3\n4\n5\n6\n7\n8\n9\n10\n\n8.5/10\nX\n \n\n\n\n67        \n        Metascore\n            \n\n\n    A former Roman General sets out to exact vengeance against the corrupt emperor who murdered his family and sent him into slavery.\n\n    Director:\nRidley Scott\n| \n    Stars:\nRussell Crowe, \nJoaquin Phoenix, \nConnie Nielsen, \nOliver Reed\n\n\nVotes:\n1,329,157\n| Gross:\n$187.71M\n\n\n\n\n\n\n\n\n \n \n\n\n42.\nAmerican History X\n(1998)\n\n\nR\n|\n119 min\n|\n\nDrama            \n\n\n\n\n8.5\n\n\n\n\nRate this\n\n\n\n\n\n\n \n \n\n1\n2\n3\n4\n5\n6\n7\n8\n9\n10\n\n8.5/10\nX\n \n\n\n\n62        \n        Metascore\n            \n\n\n    A former neo-nazi skinhead tries to prevent his younger brother from going down the same wrong path that he did.\n\n    Director:\nTony Kaye\n| \n    Stars:\nEdward Norton, \nEdward Furlong, \nBeverly D'Angelo, \nJennifer Lien\n\n\nVotes:\n1,027,362\n| Gross:\n$6.72M\n\n\n\n\n\n\n\n\n \n \n\n\n43.\nThe Usual Suspects\n(1995)\n\n\nR\n|\n106 min\n|\n\nCrime, Mystery, Thriller            \n\n\n\n\n8.5\n\n\n\n\nRate this\n\n\n\n\n\n\n \n \n\n1\n2\n3\n4\n5\n6\n7\n8\n9\n10\n\n8.5/10\nX\n \n\n\n\n77        \n        Metascore\n            \n\n\n    A sole survivor tells of the twisty events leading up to a horrific gun battle on a boat, which began when five criminals met at a seemingly random police lineup.\n\n    Director:\nBryan Singer\n| \n    Stars:\nKevin Spacey, \nGabriel Byrne, \nChazz Palminteri, \nStephen Baldwin\n\n\nVotes:\n983,307\n| Gross:\n$23.34M\n\n\n\n\n\n\n\n\n \n \n\n\n44.\nLéon: The Professional\n(1994)\n\n\nR\n|\n110 min\n|\n\nAction, Crime, Drama            \n\n\n\n\n8.5\n\n\n\n\nRate this\n\n\n\n\n\n\n \n \n\n1\n2\n3\n4\n5\n6\n7\n8\n9\n10\n\n8.5/10\nX\n \n\n\n\n64        \n        Metascore\n            \n\n\n    Mathilda, a 12-year-old girl, is reluctantly taken in by Léon, a professional assassin, after her family is murdered. An unusual relationship forms as she becomes his protégée and learns the assassin's trade.\n\n    Director:\nLuc Besson\n| \n    Stars:\nJean Reno, \nGary Oldman, \nNatalie Portman, \nDanny Aiello\n\n\nVotes:\n1,025,437\n| Gross:\n$19.50M\n\n\n\n\n\n\n\n\n \n \n\n\n45.\nThe Lion King\n(1994)\n\n\nG\n|\n88 min\n|\n\nAnimation, Adventure, Drama            \n\n\n\n\n8.5\n\n\n\n\nRate this\n\n\n\n\n\n\n \n \n\n1\n2\n3\n4\n5\n6\n7\n8\n9\n10\n\n8.5/10\nX\n \n\n\n\n88        \n        Metascore\n            \n\n\n    Lion prince Simba and his father are targeted by his bitter uncle, who wants to ascend the throne himself.\n\n    Directors:\nRoger Allers, \nRob Minkoff\n| \n    Stars:\nMatthew Broderick, \nJeremy Irons, \nJames Earl Jones, \nWhoopi Goldberg\n\n\nVotes:\n932,848\n| Gross:\n$422.78M\n\n\n\n\n\n\n\n\n \n \n\n\n46.\nTerminator 2: Judgment Day\n(1991)\n\n\nR\n|\n137 min\n|\n\nAction, Sci-Fi            \n\n\n\n\n8.5\n\n\n\n\nRate this\n\n\n\n\n\n\n \n \n\n1\n2\n3\n4\n5\n6\n7\n8\n9\n10\n\n8.5/10\nX\n \n\n\n\n75        \n        Metascore\n            \n\n\n    A cyborg, identical to the one who failed to kill Sarah Connor, must now protect her teenage son, John Connor, from a more advanced and powerful cyborg.\n\n    Director:\nJames Cameron\n| \n    Stars:\nArnold Schwarzenegger, \nLinda Hamilton, \nEdward Furlong, \nRobert Patrick\n\n\nVotes:\n988,365\n| Gross:\n$204.84M\n\n\n\n\n\n\n\n\n \n \n\n\n47.\nCinema Paradiso\n(1988)\n\n\nR\n|\n155 min\n|\n\nDrama            \n\n\n\n\n8.5\n\n\n\n\nRate this\n\n\n\n\n\n\n \n \n\n1\n2\n3\n4\n5\n6\n7\n8\n9\n10\n\n8.5/10\nX\n \n\n\n\n80        \n        Metascore\n            \n\n\n    A filmmaker recalls his childhood when falling in love with the pictures at the cinema of his home village and forms a deep friendship with the cinema's projectionist.\n\n    Director:\nGiuseppe Tornatore\n| \n    Stars:\nPhilippe Noiret, \nEnzo Cannavale, \nAntonella Attili, \nIsa Danieli\n\n\nVotes:\n228,027\n| Gross:\n$11.99M\n\n\n\n\n\n\n\n\n \n \n\n\n48.\nGrave of the Fireflies\n(1988)\n\n\nNot Rated\n|\n89 min\n|\n\nAnimation, Drama, War            \n\n\n\n\n8.5\n\n\n\n\nRate this\n\n\n\n\n\n\n \n \n\n1\n2\n3\n4\n5\n6\n7\n8\n9\n10\n\n8.5/10\nX\n \n\n\n\n94        \n        Metascore\n            \n\n\n    A young boy and his little sister struggle to survive in Japan during World War II.\n\n    Director:\nIsao Takahata\n| \n    Stars:\nTsutomu Tatsumi, \nAyano Shiraishi, \nAkemi Yamaguchi, \nYoshiko Shinohara\n\n\nVotes:\n231,871\n\n\n\n\n\n\n\n\n \n \n\n\n49.\nBack to the Future\n(1985)\n\n\nPG\n|\n116 min\n|\n\nAdventure, Comedy, Sci-Fi            \n\n\n\n\n8.5\n\n\n\n\nRate this\n\n\n\n\n\n\n \n \n\n1\n2\n3\n4\n5\n6\n7\n8\n9\n10\n\n8.5/10\nX\n \n\n\n\n87        \n        Metascore\n            \n\n\n    Marty McFly, a 17-year-old high school student, is accidentally sent thirty years into the past in a time-traveling DeLorean invented by his close friend, the eccentric scientist Doc Brown.\n\n    Director:\nRobert Zemeckis\n| \n    Stars:\nMichael J. Fox, \nChristopher Lloyd, \nLea Thompson, \nCrispin Glover\n\n\nVotes:\n1,047,195\n| Gross:\n$210.61M\n\n\n\n\n\n\n\n\n \n \n\n\n50.\nOnce Upon a Time in the West\n(1968)\n\n\nPG-13\n|\n165 min\n|\n\nWestern            \n\n\n\n\n8.5\n\n\n\n\nRate this\n\n\n\n\n\n\n \n \n\n1\n2\n3\n4\n5\n6\n7\n8\n9\n10\n\n8.5/10\nX\n \n\n\n\n80        \n        Metascore\n            \n\n\n    A mysterious stranger with a harmonica joins forces with a notorious desperado to protect a beautiful widow from a ruthless assassin working for the railroad.\n\n    Director:\nSergio Leone\n| \n    Stars:\nHenry Fonda, \nCharles Bronson, \nClaudia Cardinale, \nJason Robards\n\n\nVotes:\n300,316\n| Gross:\n$5.32M\n\n\n\n\n\n\n\n\n \n \n\n\n51.\nPsycho\n(1960)\n\n\nR\n|\n109 min\n|\n\nHorror, Mystery, Thriller            \n\n\n\n\n8.5\n\n\n\n\nRate this\n\n\n\n\n\n\n \n \n\n1\n2\n3\n4\n5\n6\n7\n8\n9\n10\n\n8.5/10\nX\n \n\n\n\n97        \n        Metascore\n            \n\n\n    A Phoenix secretary embezzles $40,000 from her employer's client, goes on the run, and checks into a remote motel run by a young man under the domination of his mother.\n\n    Director:\nAlfred Hitchcock\n| \n    Stars:\nAnthony Perkins, \nJanet Leigh, \nVera Miles, \nJohn Gavin\n\n\nVotes:\n599,099\n| Gross:\n$32.00M\n\n\n\n\n\n\n\n\n \n \n\n\n52.\nCasablanca\n(1942)\n\n\nPG\n|\n102 min\n|\n\nDrama, Romance, War            \n\n\n\n\n8.5\n\n\n\n\nRate this\n\n\n\n\n\n\n \n \n\n1\n2\n3\n4\n5\n6\n7\n8\n9\n10\n\n8.5/10\nX\n \n\n\n\n100        \n        Metascore\n            \n\n\n    A cynical American expatriate struggles to decide whether or not he should help his former lover and her fugitive husband escape French Morocco.\n\n    Director:\nMichael Curtiz\n| \n    Stars:\nHumphrey Bogart, \nIngrid Bergman, \nPaul Henreid, \nClaude Rains\n\n\nVotes:\n517,637\n| Gross:\n$1.02M\n\n\n\n\n\n\n\n\n \n \n\n\n53.\nModern Times\n(1936)\n\n\nG\n|\n87 min\n|\n\nComedy, Drama, Family            \n\n\n\n\n8.5\n\n\n\n\nRate this\n\n\n\n\n\n\n \n \n\n1\n2\n3\n4\n5\n6\n7\n8\n9\n10\n\n8.5/10\nX\n \n\n\n\n96        \n        Metascore\n            \n\n\n    The Tramp struggles to live in modern industrial society with the help of a young homeless woman.\n\n    Director:\nCharles Chaplin\n| \n    Stars:\nCharles Chaplin, \nPaulette Goddard, \nHenry Bergman, \nTiny Sandford\n\n\nVotes:\n215,629\n| Gross:\n$0.16M\n\n\n\n\n\n\n\n\n \n \n\n\n54.\nCity Lights\n(1931)\n\n\nG\n|\n87 min\n|\n\nComedy, Drama, Romance            \n\n\n\n\n8.5\n\n\n\n\nRate this\n\n\n\n\n\n\n \n \n\n1\n2\n3\n4\n5\n6\n7\n8\n9\n10\n\n8.5/10\nX\n \n\n\n\n99        \n        Metascore\n            \n\n\n    With the aid of a wealthy erratic tippler, a dewy-eyed tramp who has fallen in love with a sightless flower girl accumulates money to be able to help her medically.\n\n    Director:\nCharles Chaplin\n| \n    Stars:\nCharles Chaplin, \nVirginia Cherrill, \nFlorence Lee, \nHarry Myers\n\n\nVotes:\n166,134\n| Gross:\n$0.02M\n\n\n\n\n\n\n\n\n \n \n\n\n55.\nCapernaum\n(2018)\n\n\nR\n|\n126 min\n|\n\nDrama            \n\n\n\n\n8.4\n\n\n\n\nRate this\n\n\n\n\n\n\n \n \n\n1\n2\n3\n4\n5\n6\n7\n8\n9\n10\n\n8.4/10\nX\n \n\n\n\n75        \n        Metascore\n            \n\n\n    While serving a five-year sentence for a violent crime, a 12-year-old boy sues his parents for neglect.\n\n    Director:\nNadine Labaki\n| \n    Stars:\nZain Al Rafeea, \nYordanos Shiferaw, \nBoluwatife Treasure Bankole, \nKawsar Al Haddad\n\n\nVotes:\n59,515\n| Gross:\n$1.66M\n\n\n\n\n\n\n\n\n \n \n\n\n56.\nAyla: The Daughter of War\n(2017)\n\n\n12\n|\n125 min\n|\n\nBiography, Drama, History            \n\n\n\n\n8.4\n\n\n\n\nRate this\n\n\n\n\n\n\n \n \n\n1\n2\n3\n4\n5\n6\n7\n8\n9\n10\n\n8.4/10\nX\n \n\n\n\n\n    In 1950, amid-st the ravages of the Korean War, Sergeant Süleyman stumbles upon a half-frozen little girl, with no parents and no help in sight. Frantic, scared and on the verge of death, ...                See full summary »\n\n\n    Director:\nCan Ulkay\n| \n    Stars:\nÇetin Tekindor, \nIsmail Hacioglu, \nKyung-jin Lee, \nKim Seol\n\n\nVotes:\n33,400\n\n\n\n\n\n\n\n\n \n \n\n\n57.\nYour Name.\n(2016)\n\n\nPG\n|\n106 min\n|\n\nAnimation, Drama, Fantasy            \n\n\n\n\n8.4\n\n\n\n\nRate this\n\n\n\n\n\n\n \n \n\n1\n2\n3\n4\n5\n6\n7\n8\n9\n10\n\n8.4/10\nX\n \n\n\n\n79        \n        Metascore\n            \n\n\n    Two strangers find themselves linked in a bizarre way. When a connection forms, will distance be the only thing to keep them apart?\n\n    Director:\nMakoto Shinkai\n| \n    Stars:\nRyûnosuke Kamiki, \nMone Kamishiraishi, \nRyô Narita, \nAoi Yûki\n\n\nVotes:\n189,137\n| Gross:\n$5.02M\n\n\n\n\n\n\n\n\n \n \n\n\n58.\nDangal\n(2016)\n\n\nNot Rated\n|\n161 min\n|\n\nAction, Biography, Drama            \n\n\n\n\n8.4\n\n\n\n\nRate this\n\n\n\n\n\n\n \n \n\n1\n2\n3\n4\n5\n6\n7\n8\n9\n10\n\n8.4/10\nX\n \n\n\n\n\n    Former wrestler Mahavir Singh Phogat and his two wrestler daughters struggle towards glory at the Commonwealth Games in the face of societal oppression.\n\n    Director:\nNitesh Tiwari\n| \n    Stars:\nAamir Khan, \nSakshi Tanwar, \nFatima Sana Shaikh, \nSanya Malhotra\n\n\nVotes:\n153,497\n| Gross:\n$12.39M\n\n\n\n\n\n\n\n\n \n \n\n\n59.\nSpider-Man: Into the Spider-Verse\n(2018)\n\n\nPG\n|\n117 min\n|\n\nAnimation, Action, Adventure            \n\n\n\n\n8.4\n\n\n\n\nRate this\n\n\n\n\n\n\n \n \n\n1\n2\n3\n4\n5\n6\n7\n8\n9\n10\n\n8.4/10\nX\n \n\n\n\n87        \n        Metascore\n            \n\n\n    Teen Miles Morales becomes the Spider-Man of his universe, and must join with five spider-powered individuals from other dimensions to stop a threat for all realities.\n\n    Directors:\nBob Persichetti, \nPeter Ramsey, \nRodney Rothman\n| \n    Stars:\nShameik Moore, \nJake Johnson, \nHailee Steinfeld, \nMahershala Ali\n\n\nVotes:\n363,229\n| Gross:\n$190.24M\n\n\n\n\n\n\n\n\n \n \n\n\n60.\nAvengers: Endgame\n(2019)\n\n\nPG-13\n|\n181 min\n|\n\nAction, Adventure, Drama            \n\n\n\n\n8.4\n\n\n\n\nRate this\n\n\n\n\n\n\n \n \n\n1\n2\n3\n4\n5\n6\n7\n8\n9\n10\n\n8.4/10\nX\n \n\n\n\n78        \n        Metascore\n            \n\n\n    After the devastating events of Avengers: Infinity War (2018), the universe is in ruins. With the help of remaining allies, the Avengers assemble once more in order to reverse Thanos' actions and restore balance to the universe.\n\n    Directors:\nAnthony Russo, \nJoe Russo\n| \n    Stars:\nRobert Downey Jr., \nChris Evans, \nMark Ruffalo, \nChris Hemsworth\n\n\nVotes:\n788,569\n| Gross:\n$858.37M\n\n\n\n\n\n\n\n\n \n \n\n\n61.\nAvengers: Infinity War\n(2018)\n\n\nPG-13\n|\n149 min\n|\n\nAction, Adventure, Sci-Fi            \n\n\n\n\n8.4\n\n\n\n\nRate this\n\n\n\n\n\n\n \n \n\n1\n2\n3\n4\n5\n6\n7\n8\n9\n10\n\n8.4/10\nX\n \n\n\n\n68        \n        Metascore\n            \n\n\n    The Avengers and their allies must be willing to sacrifice all in an attempt to defeat the powerful Thanos before his blitz of devastation and ruin puts an end to the universe.\n\n    Directors:\nAnthony Russo, \nJoe Russo\n| \n    Stars:\nRobert Downey Jr., \nChris Hemsworth, \nMark Ruffalo, \nChris Evans\n\n\nVotes:\n819,735\n| Gross:\n$678.82M\n\n\n\n\n\n\n\n\n \n \n\n\n62.\nCoco\n(I) (2017)\n\n\nPG\n|\n105 min\n|\n\nAnimation, Adventure, Family            \n\n\n\n\n8.4\n\n\n\n\nRate this\n\n\n\n\n\n\n \n \n\n1\n2\n3\n4\n5\n6\n7\n8\n9\n10\n\n8.4/10\nX\n \n\n\n\n81        \n        Metascore\n            \n\n\n    Aspiring musician Miguel, confronted with his family's ancestral ban on music, enters the Land of the Dead to find his great-great-grandfather, a legendary singer.\n\n    Directors:\nLee Unkrich, \nAdrian Molina\n| \n    Stars:\nAnthony Gonzalez, \nGael García Bernal, \nBenjamin Bratt, \nAlanna Ubach\n\n\nVotes:\n369,898\n| Gross:\n$209.73M\n\n\n\n\n\n\n\n\n \n \n\n\n63.\nDjango Unchained\n(2012)\n\n\nR\n|\n165 min\n|\n\nDrama, Western            \n\n\n\n\n8.4\n\n\n\n\nRate this\n\n\n\n\n\n\n \n \n\n1\n2\n3\n4\n5\n6\n7\n8\n9\n10\n\n8.4/10\nX\n \n\n\n\n81        \n        Metascore\n            \n\n\n    With the help of a German bounty hunter, a freed slave sets out to rescue his wife from a brutal Mississippi plantation owner.\n\n    Director:\nQuentin Tarantino\n| \n    Stars:\nJamie Foxx, \nChristoph Waltz, \nLeonardo DiCaprio, \nKerry Washington\n\n\nVotes:\n1,342,805\n| Gross:\n$162.81M\n\n\n\n\n\n\n\n\n \n \n\n\n64.\nThe Dark Knight Rises\n(2012)\n\n\nPG-13\n|\n164 min\n|\n\nAction, Adventure            \n\n\n\n\n8.4\n\n\n\n\nRate this\n\n\n\n\n\n\n \n \n\n1\n2\n3\n4\n5\n6\n7\n8\n9\n10\n\n8.4/10\nX\n \n\n\n\n78        \n        Metascore\n            \n\n\n    Eight years after the Joker's reign of anarchy, Batman, with the help of the enigmatic Catwoman, is forced from his exile to save Gotham City from the brutal guerrilla terrorist Bane.\n\n    Director:\nChristopher Nolan\n| \n    Stars:\nChristian Bale, \nTom Hardy, \nAnne Hathaway, \nGary Oldman\n\n\nVotes:\n1,503,508\n| Gross:\n$448.14M\n\n\n\n\n\n\n\n\n \n \n\n\n65.\n3 Idiots\n(2009)\n\n\nPG-13\n|\n170 min\n|\n\nComedy, Drama            \n\n\n\n\n8.4\n\n\n\n\nRate this\n\n\n\n\n\n\n \n \n\n1\n2\n3\n4\n5\n6\n7\n8\n9\n10\n\n8.4/10\nX\n \n\n\n\n67        \n        Metascore\n            \n\n\n    Two friends are searching for their long lost companion. They revisit their college days and recall the memories of their friend who inspired them to think differently, even as the rest of the world called them \"idiots\".\n\n    Director:\nRajkumar Hirani\n| \n    Stars:\nAamir Khan, \nMadhavan, \nMona Singh, \nSharman Joshi\n\n\nVotes:\n340,129\n| Gross:\n$6.53M\n\n\n\n\n\n\n\n\n \n \n\n\n66.\nLike Stars on Earth\n(2007)\n\n\nPG\n|\n165 min\n|\n\nDrama, Family            \n\n\n\n\n8.4\n\n\n\n\nRate this\n\n\n\n\n\n\n \n \n\n1\n2\n3\n4\n5\n6\n7\n8\n9\n10\n\n8.4/10\nX\n \n\n\n\n\n    An eight-year-old boy is thought to be a lazy trouble-maker, until the new art teacher has the patience and compassion to discover the real problem behind his struggles in school.\n\n    Directors:\nAamir Khan, \nAmole Gupte\n| \n    Stars:\nDarsheel Safary, \nAamir Khan, \nTisca Chopra, \nVipin Sharma\n\n\nVotes:\n166,513\n| Gross:\n$1.22M\n\n\n\n\n\n\n\n\n \n \n\n\n67.\nWALL·E\n(2008)\n\n\nG\n|\n98 min\n|\n\nAnimation, Adventure, Family            \n\n\n\n\n8.4\n\n\n\n\nRate this\n\n\n\n\n\n\n \n \n\n1\n2\n3\n4\n5\n6\n7\n8\n9\n10\n\n8.4/10\nX\n \n\n\n\n95        \n        Metascore\n            \n\n\n    In the distant future, a small waste-collecting robot inadvertently embarks on a space journey that will ultimately decide the fate of mankind.\n\n    Director:\nAndrew Stanton\n| \n    Stars:\nBen Burtt, \nElissa Knight, \nJeff Garlin, \nFred Willard\n\n\nVotes:\n990,148\n| Gross:\n$223.81M\n\n\n\n\n\n\n\n\n \n \n\n\n68.\nThe Lives of Others\n(2006)\n\n\nR\n|\n137 min\n|\n\nDrama, Mystery, Thriller            \n\n\n\n\n8.4\n\n\n\n\nRate this\n\n\n\n\n\n\n \n \n\n1\n2\n3\n4\n5\n6\n7\n8\n9\n10\n\n8.4/10\nX\n \n\n\n\n89        \n        Metascore\n            \n\n\n    In 1984 East Berlin, an agent of the secret police, conducting surveillance on a writer and his lover, finds himself becoming increasingly absorbed by their lives.\n\n    Director:\nFlorian Henckel von Donnersmarck\n| \n    Stars:\nUlrich Mühe, \nMartina Gedeck, \nSebastian Koch, \nUlrich Tukur\n\n\nVotes:\n355,551\n| Gross:\n$11.29M\n\n\n\n\n\n\n\n\n \n \n\n\n69.\nOldboy\n(2003)\n\n\nR\n|\n120 min\n|\n\nAction, Drama, Mystery            \n\n\n\n\n8.4\n\n\n\n\nRate this\n\n\n\n\n\n\n \n \n\n1\n2\n3\n4\n5\n6\n7\n8\n9\n10\n\n8.4/10\nX\n \n\n\n\n77        \n        Metascore\n            \n\n\n    After being kidnapped and imprisoned for fifteen years, Oh Dae-Su is released, only to find that he must find his captor in five days.\n\n    Director:\nChan-wook Park\n| \n    Stars:\nChoi Min-sik, \nYoo Ji-Tae, \nKang Hye-jeong, \nKim Byeong-Ok\n\n\nVotes:\n510,357\n| Gross:\n$0.71M\n\n\n\n\n\n\n\n\n \n \n\n\n70.\nMemento\n(2000)\n\n\nR\n|\n113 min\n|\n\nMystery, Thriller            \n\n\n\n\n8.4\n\n\n\n\nRate this\n\n\n\n\n\n\n \n \n\n1\n2\n3\n4\n5\n6\n7\n8\n9\n10\n\n8.4/10\nX\n \n\n\n\n80        \n        Metascore\n            \n\n\n    A man with short-term memory loss attempts to track down his wife's murderer.\n\n    Director:\nChristopher Nolan\n| \n    Stars:\nGuy Pearce, \nCarrie-Anne Moss, \nJoe Pantoliano, \nMark Boone Junior\n\n\nVotes:\n1,116,446\n| Gross:\n$25.54M\n\n\n\n\n\n\n\n\n \n \n\n\n71.\nPrincess Mononoke\n(1997)\n\n\nPG-13\n|\n134 min\n|\n\nAnimation, Adventure, Fantasy            \n\n\n\n\n8.4\n\n\n\n\nRate this\n\n\n\n\n\n\n \n \n\n1\n2\n3\n4\n5\n6\n7\n8\n9\n10\n\n8.4/10\nX\n \n\n\n\n76        \n        Metascore\n            \n\n\n    On a journey to find the cure for a Tatarigami's curse, Ashitaka finds himself in the middle of a war between the forest gods and Tatara, a mining colony. In this quest he also meets San, the Mononoke Hime.\n\n    Director:\nHayao Miyazaki\n| \n    Stars:\nYôji Matsuda, \nYuriko Ishida, \nYûko Tanaka, \nBilly Crudup\n\n\nVotes:\n338,861\n| Gross:\n$2.38M\n\n\n\n\n\n\n\n\n \n \n\n\n72.\nOnce Upon a Time in America\n(1984)\n\n\nR\n|\n229 min\n|\n\nCrime, Drama            \n\n\n\n\n8.4\n\n\n\n\nRate this\n\n\n\n\n\n\n \n \n\n1\n2\n3\n4\n5\n6\n7\n8\n9\n10\n\n8.4/10\nX\n \n\n\n\n\n    A former Prohibition-era Jewish gangster returns to the Lower East Side of Manhattan over thirty years later, where he once again must confront the ghosts and regrets of his old life.\n\n    Director:\nSergio Leone\n| \n    Stars:\nRobert De Niro, \nJames Woods, \nElizabeth McGovern, \nTreat Williams\n\n\nVotes:\n308,128\n| Gross:\n$5.32M\n\n\n\n\n\n\n\n\n \n \n\n\n73.\nRaiders of the Lost Ark\n(1981)\n\n\nPG\n|\n115 min\n|\n\nAction, Adventure            \n\n\n\n\n8.4\n\n\n\n\nRate this\n\n\n\n\n\n\n \n \n\n1\n2\n3\n4\n5\n6\n7\n8\n9\n10\n\n8.4/10\nX\n \n\n\n\n85        \n        Metascore\n            \n\n\n    In 1936, archaeologist and adventurer Indiana Jones is hired by the U.S. government to find the Ark of the Covenant before Adolf Hitler's Nazis can obtain its awesome powers.\n\n    Director:\nSteven Spielberg\n| \n    Stars:\nHarrison Ford, \nKaren Allen, \nPaul Freeman, \nJohn Rhys-Davies\n\n\nVotes:\n877,377\n| Gross:\n$248.16M\n\n\n\n\n\n\n\n\n \n \n\n\n74.\nThe Shining\n(1980)\n\n\nR\n|\n146 min\n|\n\nDrama, Horror            \n\n\n\n\n8.4\n\n\n\n\nRate this\n\n\n\n\n\n\n \n \n\n1\n2\n3\n4\n5\n6\n7\n8\n9\n10\n\n8.4/10\nX\n \n\n\n\n66        \n        Metascore\n            \n\n\n    A family heads to an isolated hotel for the winter where a sinister presence influences the father into violence, while his psychic son sees horrific forebodings from both past and future.\n\n    Director:\nStanley Kubrick\n| \n    Stars:\nJack Nicholson, \nShelley Duvall, \nDanny Lloyd, \nScatman Crothers\n\n\nVotes:\n889,628\n| Gross:\n$44.02M\n\n\n\n\n\n\n\n\n \n \n\n\n75.\nApocalypse Now\n(1979)\n\n\nR\n|\n147 min\n|\n\nDrama, Mystery, War            \n\n\n\n\n8.4\n\n\n\n\nRate this\n\n\n\n\n\n\n \n \n\n1\n2\n3\n4\n5\n6\n7\n8\n9\n10\n\n8.4/10\nX\n \n\n\n\n94        \n        Metascore\n            \n\n\n    A U.S. Army officer serving in Vietnam is tasked with assassinating a renegade Special Forces Colonel who sees himself as a god.\n\n    Director:\nFrancis Ford Coppola\n| \n    Stars:\nMartin Sheen, \nMarlon Brando, \nRobert Duvall, \nFrederic Forrest\n\n\nVotes:\n601,280\n| Gross:\n$83.47M\n\n\n\n\n\n\n\n\n \n \n\n\n76.\nAlien\n(1979)\n\n\nR\n|\n117 min\n|\n\nHorror, Sci-Fi            \n\n\n\n\n8.4\n\n\n\n\nRate this\n\n\n\n\n\n\n \n \n\n1\n2\n3\n4\n5\n6\n7\n8\n9\n10\n\n8.4/10\nX\n \n\n\n\n89        \n        Metascore\n            \n\n\n    After a space merchant vessel receives an unknown transmission as a distress call, one of the crew is attacked by a mysterious life form and they soon realize that its life cycle has merely begun.\n\n    Director:\nRidley Scott\n| \n    Stars:\nSigourney Weaver, \nTom Skerritt, \nJohn Hurt, \nVeronica Cartwright\n\n\nVotes:\n781,440\n| Gross:\n$78.90M\n\n\n\n\n\n\n\n\n \n \n\n\n77.\nAnand\n(1971)\n\n\nNot Rated\n|\n122 min\n|\n\nDrama, Musical            \n\n\n\n\n8.4\n\n\n\n\nRate this\n\n\n\n\n\n\n \n \n\n1\n2\n3\n4\n5\n6\n7\n8\n9\n10\n\n8.4/10\nX\n \n\n\n\n\n    The story of a terminally ill man who wishes to live life to the fullest before the inevitable occurs, as told by his best friend.\n\n    Director:\nHrishikesh Mukherjee\n| \n    Stars:\nRajesh Khanna, \nAmitabh Bachchan, \nSumita Sanyal, \nRamesh Deo\n\n\nVotes:\n29,590\n\n\n\n\n\n\n\n\n \n \n\n\n78.\nHigh and Low\n(1963)\n\n\nNot Rated\n|\n143 min\n|\n\nCrime, Drama, Mystery            \n\n\n\n\n8.4\n\n\n\n\nRate this\n\n\n\n\n\n\n \n \n\n1\n2\n3\n4\n5\n6\n7\n8\n9\n10\n\n8.4/10\nX\n \n\n\n\n\n    An executive of a shoe company becomes a victim of extortion when his chauffeur's son is kidnapped and held for ransom.\n\n    Director:\nAkira Kurosawa\n| \n    Stars:\nToshirô Mifune, \nYutaka Sada, \nTatsuya Nakadai, \nKyôko Kagawa\n\n\nVotes:\n33,363\n\n\n\n\n\n\n\n\n \n \n\n\n79.\nDr. Strangelove or: How I Learned to Stop Worrying and Love the Bomb\n(1964)\n\n\nPG\n|\n95 min\n|\n\nComedy            \n\n\n\n\n8.4\n\n\n\n\nRate this\n\n\n\n\n\n\n \n \n\n1\n2\n3\n4\n5\n6\n7\n8\n9\n10\n\n8.4/10\nX\n \n\n\n\n97        \n        Metascore\n            \n\n\n    An insane general triggers a path to nuclear holocaust that a War Room full of politicians and generals frantically tries to stop.\n\n    Director:\nStanley Kubrick\n| \n    Stars:\nPeter Sellers, \nGeorge C. Scott, \nSterling Hayden, \nKeenan Wynn\n\n\nVotes:\n447,162\n| Gross:\n$0.28M\n\n\n\n\n\n\n\n\n \n \n\n\n80.\nWitness for the Prosecution\n(1957)\n\n\nApproved\n|\n116 min\n|\n\nCrime, Drama, Mystery            \n\n\n\n\n8.4\n\n\n\n\nRate this\n\n\n\n\n\n\n \n \n\n1\n2\n3\n4\n5\n6\n7\n8\n9\n10\n\n8.4/10\nX\n \n\n\n\n\n    A veteran British barrister must defend his client in a murder trial that has surprise after surprise.\n\n    Director:\nBilly Wilder\n| \n    Stars:\nTyrone Power, \nMarlene Dietrich, \nCharles Laughton, \nElsa Lanchester\n\n\nVotes:\n107,597\n| Gross:\n$8.18M\n\n\n\n\n\n\n\n\n \n \n\n\n81.\nPaths of Glory\n(1957)\n\n\nApproved\n|\n88 min\n|\n\nDrama, War            \n\n\n\n\n8.4\n\n\n\n\nRate this\n\n\n\n\n\n\n \n \n\n1\n2\n3\n4\n5\n6\n7\n8\n9\n10\n\n8.4/10\nX\n \n\n\n\n90        \n        Metascore\n            \n\n\n    After refusing to attack an enemy position, a general accuses the soldiers of cowardice and their commanding officer must defend them.\n\n    Director:\nStanley Kubrick\n| \n    Stars:\nKirk Douglas, \nRalph Meeker, \nAdolphe Menjou, \nGeorge Macready\n\n\nVotes:\n176,368\n\n\n\n\n\n\n\n\n \n \n\n\n82.\nRear Window\n(1954)\n\n\nPG\n|\n112 min\n|\n\nMystery, Thriller            \n\n\n\n\n8.4\n\n\n\n\nRate this\n\n\n\n\n\n\n \n \n\n1\n2\n3\n4\n5\n6\n7\n8\n9\n10\n\n8.4/10\nX\n \n\n\n\n100        \n        Metascore\n            \n\n\n    A wheelchair-bound photographer spies on his neighbors from his apartment window and becomes convinced one of them has committed murder.\n\n    Director:\nAlfred Hitchcock\n| \n    Stars:\nJames Stewart, \nGrace Kelly, \nWendell Corey, \nThelma Ritter\n\n\nVotes:\n440,259\n| Gross:\n$36.76M\n\n\n\n\n\n\n\n\n \n \n\n\n83.\nSunset Blvd.\n(1950)\n\n\nPassed\n|\n110 min\n|\n\nDrama, Film-Noir            \n\n\n\n\n8.4\n\n\n\n\nRate this\n\n\n\n\n\n\n \n \n\n1\n2\n3\n4\n5\n6\n7\n8\n9\n10\n\n8.4/10\nX\n \n\n\n\n\n    A screenwriter develops a dangerous relationship with a faded film star determined to make a triumphant return.\n\n    Director:\nBilly Wilder\n| \n    Stars:\nWilliam Holden, \nGloria Swanson, \nErich von Stroheim, \nNancy Olson\n\n\nVotes:\n199,822\n\n\n\n\n\n\n\n\n \n \n\n\n84.\nThe Great Dictator\n(1940)\n\n\nPassed\n|\n125 min\n|\n\nComedy, Drama, War            \n\n\n\n\n8.4\n\n\n\n\nRate this\n\n\n\n\n\n\n \n \n\n1\n2\n3\n4\n5\n6\n7\n8\n9\n10\n\n8.4/10\nX\n \n\n\n\n\n    Dictator Adenoid Hynkel tries to expand his empire while a poor Jewish barber tries to avoid persecution from Hynkel's regime.\n\n    Director:\nCharles Chaplin\n| \n    Stars:\nCharles Chaplin, \nPaulette Goddard, \nJack Oakie, \nReginald Gardiner\n\n\nVotes:\n201,256\n| Gross:\n$0.29M\n\n\n\n\n\n\n\n\n \n \n\n\n85.\n1917\n(2019)\n\n\nR\n|\n119 min\n|\n\nDrama, War            \n\n\n\n\n8.3\n\n\n\n\nRate this\n\n\n\n\n\n\n \n \n\n1\n2\n3\n4\n5\n6\n7\n8\n9\n10\n\n8.3/10\nX\n \n\n\n\n78        \n        Metascore\n            \n\n\n    April 6th, 1917. As a regiment assembles to wage war deep in enemy territory, two soldiers are assigned to race against time and deliver a message that will stop 1,600 men from walking straight into a deadly trap.\n\n    Director:\nSam Mendes\n| \n    Stars:\nDean-Charles Chapman, \nGeorge MacKay, \nDaniel Mays, \nColin Firth\n\n\nVotes:\n402,306\n| Gross:\n$159.23M\n\n\n\n\n\n\n\n\n \n \n\n\n86.\nTumbbad\n(2018)\n\n\nNot Rated\n|\n104 min\n|\n\nDrama, Fantasy, Horror            \n\n\n\n\n8.3\n\n\n\n\nRate this\n\n\n\n\n\n\n \n \n\n1\n2\n3\n4\n5\n6\n7\n8\n9\n10\n\n8.3/10\nX\n \n\n\n\n\n    A mythological story about a goddess who created the entire universe. The plot revolves around the consequences when humans build a temple for her first-born.\n\n    Directors:\nRahi Anil Barve, \nAnand Gandhi, \nAdesh Prasad\n| \n    Stars:\nSohum Shah, \nJyoti Malshe, \nAnita Date, \nRonjini Chakraborty\n\n\nVotes:\n26,725\n\n\n\n\n\n\n\n\n \n \n\n\n87.\nAndhadhun\n(2018)\n\n\nNot Rated\n|\n139 min\n|\n\nCrime, Drama, Music            \n\n\n\n\n8.3\n\n\n\n\nRate this\n\n\n\n\n\n\n \n \n\n1\n2\n3\n4\n5\n6\n7\n8\n9\n10\n\n8.3/10\nX\n \n\n\n\n\n    A series of mysterious events change the life of a blind pianist, who must now report a crime that he should technically know nothing of.\n\n    Director:\nSriram Raghavan\n| \n    Stars:\nAyushmann Khurrana, \nTabu, \nRadhika Apte, \nAnil Dhawan\n\n\nVotes:\n69,796\n| Gross:\n$1.37M\n\n\n\n\n\n\n\n\n \n \n\n\n88.\nDrishyam\n(2013)\n\n\nNot Rated\n|\n160 min\n|\n\nCrime, Drama, Thriller            \n\n\n\n\n8.3\n\n\n\n\nRate this\n\n\n\n\n\n\n \n \n\n1\n2\n3\n4\n5\n6\n7\n8\n9\n10\n\n8.3/10\nX\n \n\n\n\n\n    A man goes to extreme lengths to save his family from punishment after the family commits an accidental crime.\n\n    Director:\nJeethu Joseph\n| \n    Stars:\nMohanlal, \nMeena, \nAsha Sharath, \nAnsiba\n\n\nVotes:\n30,401\n\n\n\n\n\n\n\n\n \n \n\n\n89.\nThe Hunt\n(2012)\n\n\nR\n|\n115 min\n|\n\nDrama            \n\n\n\n\n8.3\n\n\n\n\nRate this\n\n\n\n\n\n\n \n \n\n1\n2\n3\n4\n5\n6\n7\n8\n9\n10\n\n8.3/10\nX\n \n\n\n\n77        \n        Metascore\n            \n\n\n    A teacher lives a lonely life, all the while struggling over his son's custody. His life slowly gets better as he finds love and receives good news from his son, but his new luck is about to be brutally shattered by an innocent little lie.\n\n    Director:\nThomas Vinterberg\n| \n    Stars:\nMads Mikkelsen, \nThomas Bo Larsen, \nAnnika Wedderkopp, \nLasse Fogelstrøm\n\n\nVotes:\n276,647\n| Gross:\n$0.69M\n\n\n\n\n\n\n\n\n \n \n\n\n90.\nA Separation\n(2011)\n\n\nPG-13\n|\n123 min\n|\n\nDrama            \n\n\n\n\n8.3\n\n\n\n\nRate this\n\n\n\n\n\n\n \n \n\n1\n2\n3\n4\n5\n6\n7\n8\n9\n10\n\n8.3/10\nX\n \n\n\n\n95        \n        Metascore\n            \n\n\n    A married couple are faced with a difficult decision - to improve the life of their child by moving to another country or to stay in Iran and look after a deteriorating parent who has Alzheimer's disease.\n\n    Director:\nAsghar Farhadi\n| \n    Stars:\nPayman Maadi, \nLeila Hatami, \nSareh Bayat, \nShahab Hosseini\n\n\nVotes:\n217,885\n| Gross:\n$7.10M\n\n\n\n\n\n\n\n\n \n \n\n\n91.\nIncendies\n(2010)\n\n\nR\n|\n131 min\n|\n\nDrama, Mystery, War            \n\n\n\n\n8.3\n\n\n\n\nRate this\n\n\n\n\n\n\n \n \n\n1\n2\n3\n4\n5\n6\n7\n8\n9\n10\n\n8.3/10\nX\n \n\n\n\n80        \n        Metascore\n            \n\n\n    Twins journey to the Middle East to discover their family history and fulfill their mother's last wishes.\n\n    Director:\nDenis Villeneuve\n| \n    Stars:\nLubna Azabal, \nMélissa Désormeaux-Poulin, \nMaxim Gaudette, \nMustafa Kamel\n\n\nVotes:\n147,431\n| Gross:\n$6.86M\n\n\n\n\n\n\n\n\n \n \n\n\n92.\n7 Kogustaki Mucize\n(2019)\n\n\nTV-14\n|\n132 min\n|\n\nDrama            \n\n\n\n\n8.3\n\n\n\n\nRate this\n\n\n\n\n\n\n \n \n\n1\n2\n3\n4\n5\n6\n7\n8\n9\n10\n\n8.3/10\nX\n \n\n\n\n\n    A story of love between a mentally-ill father who was wrongly accused of murder and his lovely six years old daughter. The prison would be their home. Based on the 2013 Korean movie Miracle in Cell No. 7 (2013).\n\n    Director:\nMehmet Ada Öztekin\n| \n    Stars:\nAras Bulut Iynemli, \nNisa Sofiya Aksongur, \nDeniz Baysal, \nCelile Toyon Uysal\n\n\nVotes:\n32,067\n\n\n\n\n\n\n\n\n \n \n\n\n93.\nMy Father and My Son\n(2005)\n\n\n112 min\n|\n\nDrama, Family            \n\n\n\n\n8.3\n\n\n\n\nRate this\n\n\n\n\n\n\n \n \n\n1\n2\n3\n4\n5\n6\n7\n8\n9\n10\n\n8.3/10\nX\n \n\n\n\n\n    The family of a left-wing journalist is torn apart after the military coup of Turkey in 1980.\n\n    Director:\nÇagan Irmak\n| \n    Stars:\nÇetin Tekindor, \nFikret Kuskan, \nHümeyra, \nEge Tanman\n\n\nVotes:\n77,935\n\n\n\n\n\n\n\n\n \n \n\n\n94.\nToy Story 3\n(2010)\n\n\nG\n|\n103 min\n|\n\nAnimation, Adventure, Comedy            \n\n\n\n\n8.3\n\n\n\n\nRate this\n\n\n\n\n\n\n \n \n\n1\n2\n3\n4\n5\n6\n7\n8\n9\n10\n\n8.3/10\nX\n \n\n\n\n92        \n        Metascore\n            \n\n\n    The toys are mistakenly delivered to a day-care center instead of the attic right before Andy leaves for college, and it's up to Woody to convince the other toys that they weren't abandoned and to return home.\n\n    Director:\nLee Unkrich\n| \n    Stars:\nTom Hanks, \nTim Allen, \nJoan Cusack, \nNed Beatty\n\n\nVotes:\n750,723\n| Gross:\n$415.00M\n\n\n\n\n\n\n\n\n \n \n\n\n95.\nInglourious Basterds\n(2009)\n\n\nR\n|\n153 min\n|\n\nAdventure, Drama, War            \n\n\n\n\n8.3\n\n\n\n\nRate this\n\n\n\n\n\n\n \n \n\n1\n2\n3\n4\n5\n6\n7\n8\n9\n10\n\n8.3/10\nX\n \n\n\n\n69        \n        Metascore\n            \n\n\n    In Nazi-occupied France during World War II, a plan to assassinate Nazi leaders by a group of Jewish U.S. soldiers coincides with a theatre owner's vengeful plans for the same.\n\n    Director:\nQuentin Tarantino\n| \n    Stars:\nBrad Pitt, \nDiane Kruger, \nEli Roth, \nMélanie Laurent\n\n\nVotes:\n1,253,563\n| Gross:\n$120.54M\n\n\n\n\n\n\n\n\n \n \n\n\n96.\nEternal Sunshine of the Spotless Mind\n(2004)\n\n\nR\n|\n108 min\n|\n\nDrama, Romance, Sci-Fi            \n\n\n\n\n8.3\n\n\n\n\nRate this\n\n\n\n\n\n\n \n \n\n1\n2\n3\n4\n5\n6\n7\n8\n9\n10\n\n8.3/10\nX\n \n\n\n\n89        \n        Metascore\n            \n\n\n    When their relationship turns sour, a couple undergoes a medical procedure to have each other erased from their memories.\n\n    Director:\nMichel Gondry\n| \n    Stars:\nJim Carrey, \nKate Winslet, \nTom Wilkinson, \nGerry Robert Byrne\n\n\nVotes:\n904,435\n| Gross:\n$34.40M\n\n\n\n\n\n\n\n\n \n \n\n\n97.\nAmélie\n(2001)\n\n\nR\n|\n122 min\n|\n\nComedy, Romance            \n\n\n\n\n8.3\n\n\n\n\nRate this\n\n\n\n\n\n\n \n \n\n1\n2\n3\n4\n5\n6\n7\n8\n9\n10\n\n8.3/10\nX\n \n\n\n\n69        \n        Metascore\n            \n\n\n    Amélie is an innocent and naive girl in Paris with her own sense of justice. She decides to help those around her and, along the way, discovers love.\n\n    Director:\nJean-Pierre Jeunet\n| \n    Stars:\nAudrey Tautou, \nMathieu Kassovitz, \nRufus, \nLorella Cravotta\n\n\nVotes:\n698,901\n| Gross:\n$33.23M\n\n\n\n\n\n\n\n\n \n \n\n\n98.\nSnatch\n(2000)\n\n\nR\n|\n102 min\n|\n\nComedy, Crime            \n\n\n\n\n8.3\n\n\n\n\nRate this\n\n\n\n\n\n\n \n \n\n1\n2\n3\n4\n5\n6\n7\n8\n9\n10\n\n8.3/10\nX\n \n\n\n\n55        \n        Metascore\n            \n\n\n    Unscrupulous boxing promoters, violent bookmakers, a Russian gangster, incompetent amateur robbers and supposedly Jewish jewelers fight to track down a priceless stolen diamond.\n\n    Director:\nGuy Ritchie\n| \n    Stars:\nJason Statham, \nBrad Pitt, \nBenicio Del Toro, \nDennis Farina\n\n\nVotes:\n776,210\n| Gross:\n$30.33M\n\n\n\n\n\n\n\n\n \n \n\n\n99.\nRequiem for a Dream\n(2000)\n\n\nR\n|\n102 min\n|\n\nDrama            \n\n\n\n\n8.3\n\n\n\n\nRate this\n\n\n\n\n\n\n \n \n\n1\n2\n3\n4\n5\n6\n7\n8\n9\n10\n\n8.3/10\nX\n \n\n\n\n68        \n        Metascore\n            \n\n\n    The drug-induced utopias of four Coney Island people are shattered when their addictions run deep.\n\n    Director:\nDarren Aronofsky\n| \n    Stars:\nEllen Burstyn, \nJared Leto, \nJennifer Connelly, \nMarlon Wayans\n\n\nVotes:\n760,519\n| Gross:\n$3.64M\n\n\n\n\n\n\n\n\n \n \n\n\n100.\nAmerican Beauty\n(1999)\n\n\nR\n|\n122 min\n|\n\nDrama            \n\n\n\n\n8.3\n\n\n\n\nRate this\n\n\n\n\n\n\n \n \n\n1\n2\n3\n4\n5\n6\n7\n8\n9\n10\n\n8.3/10\nX\n \n\n\n\n84        \n        Metascore\n            \n\n\n    A sexually frustrated suburban father has a mid-life crisis after becoming infatuated with his daughter's best friend.\n\n    Director:\nSam Mendes\n| \n    Stars:\nKevin Spacey, \nAnnette Bening, \nThora Birch, \nWes Bentley\n\n\nVotes:\n1,062,286\n| Gross:\n$130.10M\n\n\n\n\n\n\n\n1-100 of 1,000 titles.\n| Next »\n\n\n\n\n\n\n\n\n\n\n\n\n\nClear your history\n\nRecently Viewed\n\n \n\n\n\n\n\n\n\n\nGet the IMDb AppGet the IMDb AppView Full SiteHelpSite IndexIMDbProBox Office MojoIMDb DeveloperPress RoomAdvertisingJobsConditions of UsePrivacy PolicyInterest-Based Ads© 1990-2020 by IMDb.com, Inc.\n\n"
     ]
    }
   ],
   "source": [
    "url = \"\"\"https://www.imdb.com/search/title/?count=100&groups=top_1000&sort=user_rating\"\"\"\n",
    "\n",
    "def get_page_contents(url):\n",
    "    page = requests.get(url, headers={\"Accept-Language\": \"en-US\"})\n",
    "    return BeautifulSoup(page.text, \"html.parser\")\n",
    "soup = get_page_contents(url)\n",
    "show_html(soup.text)"
   ]
  },
  {
   "cell_type": "code",
   "execution_count": 5,
   "metadata": {},
   "outputs": [
    {
     "output_type": "execute_result",
     "data": {
      "text/plain": [
       "bs4.BeautifulSoup"
      ]
     },
     "metadata": {},
     "execution_count": 5
    }
   ],
   "source": [
    "type(soup)"
   ]
  },
  {
   "cell_type": "code",
   "execution_count": null,
   "metadata": {},
   "outputs": [],
   "source": [
    "#¿Qué es HTML?\n",
    "# En HTML hay una serie de etiquetas "
   ]
  },
  {
   "cell_type": "code",
   "execution_count": null,
   "metadata": {},
   "outputs": [],
   "source": [
    "html = \n",
    "#Lang hace alusión al idioma del texto\n",
    "\"\"\"\n",
    "<html lang=\"es\"> \n",
    "<head>\n",
    "    <meta charset=\"UTF-8\">\n",
    "    <title>Página de prueba</title>\n",
    "</head>\n",
    "<body>\n",
    "<div id=\"main\" class=\"full-width\">\n",
    "    <h1>El título de la página</h1>\n",
    "    <p>Este es el primer párrafo</p>\n",
    "    <p>Este es el segundo párrafo</p>\n",
    "    <div id=\"innerDiv\">\n",
    "        <div class=\"links\">\n",
    "            <a href=\"https://pagina1.xyz/\">Enlace 1</a>\n",
    "            <a href=\"https://pagina2.xyz/\">Enlace 2</a>\n",
    "        </div>\n",
    "        <div class=\"right\">\n",
    "            <div class=\"links\">\n",
    "                <a href=\"https://pagina3.xyz/\">Enlace 3</a>\n",
    "                <a href=\"https://pagina4.xyz/\">Enlace 4</a>\n",
    "            </div>\n",
    "        </div>\n",
    "    </div>\n",
    "    <div id=\"footer\">\n",
    "        <!-- El footer -->\n",
    "        <p>Este párrafo está en el footer</p>\n",
    "        <div class=\"links footer-links\">\n",
    "            <a href=\"https://pagina5.xyz/\">Enlace 5</a>\n",
    "        </div>\n",
    "    </div>\n",
    "</div>\n",
    "</body>\n",
    "</html>\"\"\""
   ]
  },
  {
   "cell_type": "markdown",
   "metadata": {},
   "source": [
    "### Example artists: \n",
    "\n",
    "https://www.digitalocean.com/community/tutorials/how-to-scrape-web-pages-with-beautiful-soup-and-python-3"
   ]
  },
  {
   "cell_type": "code",
   "execution_count": 6,
   "metadata": {
    "tags": []
   },
   "outputs": [
    {
     "output_type": "stream",
     "name": "stdout",
     "text": [
      "NGA - Artist List 'Z' / Page 1 of 4\n\n\n\n\n\n\n\n\n\n\n\n\n\n\n\n\n\n\n\n\n\nWhat's New\nNewsletters\nCalendar\nRecent Acquisitions\nVideos &amp; Podcasts\nAbout the Gallery\nShock of the News\nGeorge Bellows\n\n\nThe Collection\nExhibitions\nPlan a Visit\nPrograms &amp; Events\nOnline Tours\nEducation\nResources\nGallery Shop\nSupport the Gallery\nNGA Images\nNGAkids\n\n\n\n\n\n\n\n\n\n\n\n\n\n\n\nArtist names beginning with Z\nZabaglia, NiccolaItalian, 1664 - 1750\nZaccone, FabianAmerican, 1910 - 1992\nZadkine, OssipFrench, 1890 - 1967\nZaech, BernhardGerman, active c. 1650\nZagar, JacobFlemish, c. 1530 - after 1580\nZagroba, IdaliaPolish, born 1967\nZaidenberg, A.American, active c. 1935\nZaidenberg, ArthurAmerican, 1903 - 1990\nZaisinger, MatthäusGerman, active c. 1500\nZajac, JackAmerican, born 1929\nZak, EugènePolish, 1884 - 1926\nZakharov, Gurii FillipovichRussian, born 1926\nZakowortny, Igor\nZalce, AlfredoMexican, born 1908\nZalopany, MicheleAmerican, born 1955\nZammiello, Craig\nZammitt, NormanAmerican, born 1931\nZampieri, DomenicoItalian, 1581 - 1641\nZampieri, called Domenichino, DomenicoItalian, 1581 - 1641\nZanartú, Enrique AntunezChilean, born 1921\nZanchi, AntonioItalian, 1631 - 1722\nZanetti, Anton MariaItalian, 1679/1680 - 1767\nZanetti Borzino, LeopoldinaItalian, 1826 - 1902\nZanetti I, Antonio Maria, conteItalian, 1680 - 1757\nZanguidi, JacopoItalian, 1544 - 1573/1574\nZanini, GiuseppeItalian, c. 1599 - 1631\nZanini-Viola, GiuseppeItalian, c. 1599 - 1631\nZanotti, GiampietroItalian, 1674 - 1765\nZao Wou-KiFrench, born 1921\n\n\nPage 1 - Artists 1 thru 29 of 115\n\n\n\n· Zab-Zao ·Zas-Zie Zie-Zor \n» nextpage\n\n\n\n \n \n\n\n\n\n\n\n help | search | site map | contact us | privacy | terms of use | press | NGA Images | home |  \nCopyright ©\n      \n\n2008\n      \nNational Gallery of Art, Washington, DC\n\n"
     ]
    }
   ],
   "source": [
    "import requests\n",
    "from bs4 import BeautifulSoup\n",
    "\n",
    "# Collect first page of artists’ list\n",
    "page = requests.get('https://web.archive.org/web/20121007172955/https://www.nga.gov/collection/anZ1.htm')\n",
    "\n",
    "# Create a BeautifulSoup object\n",
    "soup = BeautifulSoup(page.text, 'html.parser')\n",
    "show_html(soup.text)"
   ]
  },
  {
   "cell_type": "markdown",
   "metadata": {},
   "source": [
    "find"
   ]
  },
  {
   "cell_type": "code",
   "execution_count": 8,
   "metadata": {
    "tags": []
   },
   "outputs": [
    {
     "output_type": "stream",
     "name": "stdout",
     "text": [
      "<div class=\"BodyText\">\n <!-- InstanceBeginEditable name=\"BodyText\" -->\n <h3>\n  Artist names beginning with Z\n </h3>\n <table>\n  <tr valign=\"top\">\n   <td>\n    <a href=\"/web/20121007172955/https://www.nga.gov/cgi-bin/tsearch?artistid=11630\">\n     Zabaglia, Niccola\n    </a>\n   </td>\n   <td>\n    Italian, 1664 - 1750\n   </td>\n  </tr>\n  <tr valign=\"top\">\n   <td>\n    <a href=\"/web/20121007172955/https://www.nga.gov/cgi-bin/tsearch?artistid=34202\">\n     Zaccone, Fabian\n    </a>\n   </td>\n   <td>\n    American, 1910 - 1992\n   </td>\n  </tr>\n  <tr valign=\"top\">\n   <td>\n    <a href=\"/web/20121007172955/https://www.nga.gov/cgi-bin/tsearch?artistid=3475\">\n     Zadkine, Ossip\n    </a>\n   </td>\n   <td>\n    French, 1890 - 1967\n   </td>\n  </tr>\n  <tr valign=\"top\">\n   <td>\n    <a href=\"/web/20121007172955/https://www.nga.gov/cgi-bin/tsearch?artistid=25135\">\n     Zaech, Bernhard\n    </a>\n   </td>\n   <td>\n    German, active c. 1650\n   </td>\n  </tr>\n  <tr valign=\"top\">\n   <td>\n    <a href=\"/web/20121007172955/https://www.nga.gov/cgi-bin/tsearch?artistid=2298\">\n     Zagar, Jacob\n    </a>\n   </td>\n   <td>\n    Flemish, c. 1530 - after 1580\n   </td>\n  </tr>\n  <tr valign=\"top\">\n   <td>\n    <a href=\"/web/20121007172955/https://www.nga.gov/cgi-bin/tsearch?artistid=23988\">\n     Zagroba, Idalia\n    </a>\n   </td>\n   <td>\n    Polish, born 1967\n   </td>\n  </tr>\n  <tr valign=\"top\">\n   <td>\n    <a href=\"/web/20121007172955/https://www.nga.gov/cgi-bin/tsearch?artistid=8232\">\n     Zaidenberg, A.\n    </a>\n   </td>\n   <td>\n    American, active c. 1935\n   </td>\n  </tr>\n  <tr valign=\"top\">\n   <td>\n    <a href=\"/web/20121007172955/https://www.nga.gov/cgi-bin/tsearch?artistid=34154\">\n     Zaidenberg, Arthur\n    </a>\n   </td>\n   <td>\n    American, 1903 - 1990\n   </td>\n  </tr>\n  <tr valign=\"top\">\n   <td>\n    <a href=\"/web/20121007172955/https://www.nga.gov/cgi-bin/tsearch?artistid=4910\">\n     Zaisinger, Matthäus\n    </a>\n   </td>\n   <td>\n    German, active c. 1500\n   </td>\n  </tr>\n  <tr valign=\"top\">\n   <td>\n    <a href=\"/web/20121007172955/https://www.nga.gov/cgi-bin/tsearch?artistid=3450\">\n     Zajac, Jack\n    </a>\n   </td>\n   <td>\n    American, born 1929\n   </td>\n  </tr>\n  <tr valign=\"top\">\n   <td>\n    <a href=\"/web/20121007172955/https://www.nga.gov/cgi-bin/tsearch?artistid=1986\">\n     Zak, Eugène\n    </a>\n   </td>\n   <td>\n    Polish, 1884 - 1926\n   </td>\n  </tr>\n  <tr valign=\"top\">\n   <td>\n    <a href=\"/web/20121007172955/https://www.nga.gov/cgi-bin/tsearch?artistid=3451\">\n     Zakharov, Gurii Fillipovich\n    </a>\n   </td>\n   <td>\n    Russian, born 1926\n   </td>\n  </tr>\n  <tr valign=\"top\">\n   <td>\n    <a href=\"/web/20121007172955/https://www.nga.gov/cgi-bin/tsearch?artistid=20099\">\n     Zakowortny, Igor\n    </a>\n   </td>\n   <td>\n   </td>\n  </tr>\n  <tr valign=\"top\">\n   <td>\n    <a href=\"/web/20121007172955/https://www.nga.gov/cgi-bin/tsearch?artistid=3452\">\n     Zalce, Alfredo\n    </a>\n   </td>\n   <td>\n    Mexican, born 1908\n   </td>\n  </tr>\n  <tr valign=\"top\">\n   <td>\n    <a href=\"/web/20121007172955/https://www.nga.gov/cgi-bin/tsearch?artistid=34309\">\n     Zalopany, Michele\n    </a>\n   </td>\n   <td>\n    American, born 1955\n   </td>\n  </tr>\n  <tr valign=\"top\">\n   <td>\n    <a href=\"/web/20121007172955/https://www.nga.gov/cgi-bin/tsearch?artistid=27191\">\n     Zammiello, Craig\n    </a>\n   </td>\n   <td>\n   </td>\n  </tr>\n  <tr valign=\"top\">\n   <td>\n    <a href=\"/web/20121007172955/https://www.nga.gov/cgi-bin/tsearch?artistid=5846\">\n     Zammitt, Norman\n    </a>\n   </td>\n   <td>\n    American, born 1931\n   </td>\n  </tr>\n  <tr valign=\"top\">\n   <td>\n    <a href=\"/web/20121007172955/https://www.nga.gov/cgi-bin/tsearch?artistid=3941\">\n     Zampieri, Domenico\n    </a>\n   </td>\n   <td>\n    Italian, 1581 - 1641\n   </td>\n  </tr>\n  <tr valign=\"top\">\n   <td>\n    <a href=\"/web/20121007172955/https://www.nga.gov/cgi-bin/tsearch?artistid=3941\">\n     Zampieri, called Domenichino, Domenico\n    </a>\n   </td>\n   <td>\n    Italian, 1581 - 1641\n   </td>\n  </tr>\n  <tr valign=\"top\">\n   <td>\n    <a href=\"/web/20121007172955/https://www.nga.gov/cgi-bin/tsearch?artistid=3453\">\n     Zanartú, Enrique Antunez\n    </a>\n   </td>\n   <td>\n    Chilean, born 1921\n   </td>\n  </tr>\n  <tr valign=\"top\">\n   <td>\n    <a href=\"/web/20121007172955/https://www.nga.gov/cgi-bin/tsearch?artistid=35173\">\n     Zanchi, Antonio\n    </a>\n   </td>\n   <td>\n    Italian, 1631 - 1722\n   </td>\n  </tr>\n  <tr valign=\"top\">\n   <td>\n    <a href=\"/web/20121007172955/https://www.nga.gov/cgi-bin/tsearch?artistid=11133\">\n     Zanetti, Anton Maria\n    </a>\n   </td>\n   <td>\n    Italian, 1679/1680 - 1767\n   </td>\n  </tr>\n  <tr valign=\"top\">\n   <td>\n    <a href=\"/web/20121007172955/https://www.nga.gov/cgi-bin/tsearch?artistid=3455\">\n     Zanetti Borzino, Leopoldina\n    </a>\n   </td>\n   <td>\n    Italian, 1826 - 1902\n   </td>\n  </tr>\n  <tr valign=\"top\">\n   <td>\n    <a href=\"/web/20121007172955/https://www.nga.gov/cgi-bin/tsearch?artistid=3454\">\n     Zanetti I, Antonio Maria, conte\n    </a>\n   </td>\n   <td>\n    Italian, 1680 - 1757\n   </td>\n  </tr>\n  <tr valign=\"top\">\n   <td>\n    <a href=\"/web/20121007172955/https://www.nga.gov/cgi-bin/tsearch?artistid=961\">\n     Zanguidi, Jacopo\n    </a>\n   </td>\n   <td>\n    Italian, 1544 - 1573/1574\n   </td>\n  </tr>\n  <tr valign=\"top\">\n   <td>\n    <a href=\"/web/20121007172955/https://www.nga.gov/cgi-bin/tsearch?artistid=11597\">\n     Zanini, Giuseppe\n    </a>\n   </td>\n   <td>\n    Italian, c. 1599 - 1631\n   </td>\n  </tr>\n  <tr valign=\"top\">\n   <td>\n    <a href=\"/web/20121007172955/https://www.nga.gov/cgi-bin/tsearch?artistid=11597\">\n     Zanini-Viola, Giuseppe\n    </a>\n   </td>\n   <td>\n    Italian, c. 1599 - 1631\n   </td>\n  </tr>\n  <tr valign=\"top\">\n   <td>\n    <a href=\"/web/20121007172955/https://www.nga.gov/cgi-bin/tsearch?artistid=11631\">\n     Zanotti, Giampietro\n    </a>\n   </td>\n   <td>\n    Italian, 1674 - 1765\n   </td>\n  </tr>\n  <tr valign=\"top\">\n   <td>\n    <a href=\"/web/20121007172955/https://www.nga.gov/cgi-bin/tsearch?artistid=3427\">\n     Zao Wou-Ki\n    </a>\n   </td>\n   <td>\n    French, born 1921\n   </td>\n  </tr>\n </table>\n <br/>\n <br/>\n <table class=\"AlphaNav\">\n  <tr>\n   <td>\n   </td>\n   <td align=\"center\">\n    Page 1 - Artists 1 thru 29 of 115\n    <br/>\n   </td>\n   <td>\n   </td>\n  </tr>\n  <tr>\n   <td>\n   </td>\n   <td align=\"center\">\n    ·\n    <b>\n     Zab-Zao\n    </b>\n    ·\n    <a href=\"/web/20121007172955/https://www.nga.gov/collection/anZ2.htm\">\n     Zas-Zie\n    </a>\n    <a href=\"/web/20121007172955/https://www.nga.gov/collection/anZ3.htm\">\n     Zie-Zor\n    </a>\n   </td>\n   <td align=\"center\">\n    »\n    <br/>\n    <a href=\"/web/20121007172955/https://www.nga.gov/collection/anZ4.htm\">\n     <strong>\n      next\n      <br>\n       page\n      </br>\n     </strong>\n    </a>\n   </td>\n  </tr>\n </table>\n <!-- InstanceEndEditable -->\n</div>\n"
     ]
    }
   ],
   "source": [
    "# Pull all text from the BodyText div\n",
    "artist_name_list = soup.find(class_='BodyText')\n",
    "show_html(artist_name_list)"
   ]
  },
  {
   "cell_type": "code",
   "execution_count": 9,
   "metadata": {
    "tags": []
   },
   "outputs": [
    {
     "output_type": "stream",
     "name": "stdout",
     "text": [
      "[\n<a href=\"/web/20121007172955/https://www.nga.gov/cgi-bin/tsearch?artistid=11630\">\n Zabaglia, Niccola\n</a>\n,\n<a href=\"/web/20121007172955/https://www.nga.gov/cgi-bin/tsearch?artistid=34202\">\n Zaccone, Fabian\n</a>\n,\n<a href=\"/web/20121007172955/https://www.nga.gov/cgi-bin/tsearch?artistid=3475\">\n Zadkine, Ossip\n</a>\n,\n<a href=\"/web/20121007172955/https://www.nga.gov/cgi-bin/tsearch?artistid=25135\">\n Zaech, Bernhard\n</a>\n,\n<a href=\"/web/20121007172955/https://www.nga.gov/cgi-bin/tsearch?artistid=2298\">\n Zagar, Jacob\n</a>\n,\n<a href=\"/web/20121007172955/https://www.nga.gov/cgi-bin/tsearch?artistid=23988\">\n Zagroba, Idalia\n</a>\n,\n<a href=\"/web/20121007172955/https://www.nga.gov/cgi-bin/tsearch?artistid=8232\">\n Zaidenberg, A.\n</a>\n,\n<a href=\"/web/20121007172955/https://www.nga.gov/cgi-bin/tsearch?artistid=34154\">\n Zaidenberg, Arthur\n</a>\n,\n<a href=\"/web/20121007172955/https://www.nga.gov/cgi-bin/tsearch?artistid=4910\">\n Zaisinger, Matthäus\n</a>\n,\n<a href=\"/web/20121007172955/https://www.nga.gov/cgi-bin/tsearch?artistid=3450\">\n Zajac, Jack\n</a>\n,\n<a href=\"/web/20121007172955/https://www.nga.gov/cgi-bin/tsearch?artistid=1986\">\n Zak, Eugène\n</a>\n,\n<a href=\"/web/20121007172955/https://www.nga.gov/cgi-bin/tsearch?artistid=3451\">\n Zakharov, Gurii Fillipovich\n</a>\n,\n<a href=\"/web/20121007172955/https://www.nga.gov/cgi-bin/tsearch?artistid=20099\">\n Zakowortny, Igor\n</a>\n,\n<a href=\"/web/20121007172955/https://www.nga.gov/cgi-bin/tsearch?artistid=3452\">\n Zalce, Alfredo\n</a>\n,\n<a href=\"/web/20121007172955/https://www.nga.gov/cgi-bin/tsearch?artistid=34309\">\n Zalopany, Michele\n</a>\n,\n<a href=\"/web/20121007172955/https://www.nga.gov/cgi-bin/tsearch?artistid=27191\">\n Zammiello, Craig\n</a>\n,\n<a href=\"/web/20121007172955/https://www.nga.gov/cgi-bin/tsearch?artistid=5846\">\n Zammitt, Norman\n</a>\n,\n<a href=\"/web/20121007172955/https://www.nga.gov/cgi-bin/tsearch?artistid=3941\">\n Zampieri, Domenico\n</a>\n,\n<a href=\"/web/20121007172955/https://www.nga.gov/cgi-bin/tsearch?artistid=3941\">\n Zampieri, called Domenichino, Domenico\n</a>\n,\n<a href=\"/web/20121007172955/https://www.nga.gov/cgi-bin/tsearch?artistid=3453\">\n Zanartú, Enrique Antunez\n</a>\n,\n<a href=\"/web/20121007172955/https://www.nga.gov/cgi-bin/tsearch?artistid=35173\">\n Zanchi, Antonio\n</a>\n,\n<a href=\"/web/20121007172955/https://www.nga.gov/cgi-bin/tsearch?artistid=11133\">\n Zanetti, Anton Maria\n</a>\n,\n<a href=\"/web/20121007172955/https://www.nga.gov/cgi-bin/tsearch?artistid=3455\">\n Zanetti Borzino, Leopoldina\n</a>\n,\n<a href=\"/web/20121007172955/https://www.nga.gov/cgi-bin/tsearch?artistid=3454\">\n Zanetti I, Antonio Maria, conte\n</a>\n,\n<a href=\"/web/20121007172955/https://www.nga.gov/cgi-bin/tsearch?artistid=961\">\n Zanguidi, Jacopo\n</a>\n,\n<a href=\"/web/20121007172955/https://www.nga.gov/cgi-bin/tsearch?artistid=11597\">\n Zanini, Giuseppe\n</a>\n,\n<a href=\"/web/20121007172955/https://www.nga.gov/cgi-bin/tsearch?artistid=11597\">\n Zanini-Viola, Giuseppe\n</a>\n,\n<a href=\"/web/20121007172955/https://www.nga.gov/cgi-bin/tsearch?artistid=11631\">\n Zanotti, Giampietro\n</a>\n,\n<a href=\"/web/20121007172955/https://www.nga.gov/cgi-bin/tsearch?artistid=3427\">\n Zao Wou-Ki\n</a>\n,\n<a href=\"/web/20121007172955/https://www.nga.gov/collection/anZ2.htm\">\n Zas-Zie\n</a>\n,\n<a href=\"/web/20121007172955/https://www.nga.gov/collection/anZ3.htm\">\n Zie-Zor\n</a>\n,\n<a href=\"/web/20121007172955/https://www.nga.gov/collection/anZ4.htm\">\n <strong>\n  next\n  <br/>\n  page\n </strong>\n</a>\n]\n\n"
     ]
    }
   ],
   "source": [
    "# Pull text from all instances of <a> tag within BodyText div\n",
    "artist_name_list_items = artist_name_list.find_all('a')\n",
    "show_html(artist_name_list_items)"
   ]
  },
  {
   "cell_type": "code",
   "execution_count": 10,
   "metadata": {
    "tags": []
   },
   "outputs": [
    {
     "output_type": "stream",
     "name": "stdout",
     "text": [
      "<a href=\"/web/20121007172955/https://www.nga.gov/cgi-bin/tsearch?artistid=11630\">Zabaglia, Niccola</a>\n<a href=\"/web/20121007172955/https://www.nga.gov/cgi-bin/tsearch?artistid=34202\">Zaccone, Fabian</a>\n<a href=\"/web/20121007172955/https://www.nga.gov/cgi-bin/tsearch?artistid=3475\">Zadkine, Ossip</a>\n<a href=\"/web/20121007172955/https://www.nga.gov/cgi-bin/tsearch?artistid=25135\">Zaech, Bernhard</a>\n<a href=\"/web/20121007172955/https://www.nga.gov/cgi-bin/tsearch?artistid=2298\">Zagar, Jacob</a>\n<a href=\"/web/20121007172955/https://www.nga.gov/cgi-bin/tsearch?artistid=23988\">Zagroba, Idalia</a>\n<a href=\"/web/20121007172955/https://www.nga.gov/cgi-bin/tsearch?artistid=8232\">Zaidenberg, A.</a>\n<a href=\"/web/20121007172955/https://www.nga.gov/cgi-bin/tsearch?artistid=34154\">Zaidenberg, Arthur</a>\n<a href=\"/web/20121007172955/https://www.nga.gov/cgi-bin/tsearch?artistid=4910\">Zaisinger, Matthäus</a>\n<a href=\"/web/20121007172955/https://www.nga.gov/cgi-bin/tsearch?artistid=3450\">Zajac, Jack</a>\n<a href=\"/web/20121007172955/https://www.nga.gov/cgi-bin/tsearch?artistid=1986\">Zak, Eugène</a>\n<a href=\"/web/20121007172955/https://www.nga.gov/cgi-bin/tsearch?artistid=3451\">Zakharov, Gurii Fillipovich</a>\n<a href=\"/web/20121007172955/https://www.nga.gov/cgi-bin/tsearch?artistid=20099\">Zakowortny, Igor</a>\n<a href=\"/web/20121007172955/https://www.nga.gov/cgi-bin/tsearch?artistid=3452\">Zalce, Alfredo</a>\n<a href=\"/web/20121007172955/https://www.nga.gov/cgi-bin/tsearch?artistid=34309\">Zalopany, Michele</a>\n<a href=\"/web/20121007172955/https://www.nga.gov/cgi-bin/tsearch?artistid=27191\">Zammiello, Craig</a>\n<a href=\"/web/20121007172955/https://www.nga.gov/cgi-bin/tsearch?artistid=5846\">Zammitt, Norman</a>\n<a href=\"/web/20121007172955/https://www.nga.gov/cgi-bin/tsearch?artistid=3941\">Zampieri, Domenico</a>\n<a href=\"/web/20121007172955/https://www.nga.gov/cgi-bin/tsearch?artistid=3941\">Zampieri, called Domenichino, Domenico</a>\n<a href=\"/web/20121007172955/https://www.nga.gov/cgi-bin/tsearch?artistid=3453\">Zanartú, Enrique Antunez</a>\n<a href=\"/web/20121007172955/https://www.nga.gov/cgi-bin/tsearch?artistid=35173\">Zanchi, Antonio</a>\n<a href=\"/web/20121007172955/https://www.nga.gov/cgi-bin/tsearch?artistid=11133\">Zanetti, Anton Maria</a>\n<a href=\"/web/20121007172955/https://www.nga.gov/cgi-bin/tsearch?artistid=3455\">Zanetti Borzino, Leopoldina</a>\n<a href=\"/web/20121007172955/https://www.nga.gov/cgi-bin/tsearch?artistid=3454\">Zanetti I, Antonio Maria, conte</a>\n<a href=\"/web/20121007172955/https://www.nga.gov/cgi-bin/tsearch?artistid=961\">Zanguidi, Jacopo</a>\n<a href=\"/web/20121007172955/https://www.nga.gov/cgi-bin/tsearch?artistid=11597\">Zanini, Giuseppe</a>\n<a href=\"/web/20121007172955/https://www.nga.gov/cgi-bin/tsearch?artistid=11597\">Zanini-Viola, Giuseppe</a>\n<a href=\"/web/20121007172955/https://www.nga.gov/cgi-bin/tsearch?artistid=11631\">Zanotti, Giampietro</a>\n<a href=\"/web/20121007172955/https://www.nga.gov/cgi-bin/tsearch?artistid=3427\">Zao Wou-Ki</a>\n<a href=\"/web/20121007172955/https://www.nga.gov/collection/anZ2.htm\">Zas-Zie</a>\n<a href=\"/web/20121007172955/https://www.nga.gov/collection/anZ3.htm\">Zie-Zor</a>\n<a href=\"/web/20121007172955/https://www.nga.gov/collection/anZ4.htm\"><strong>next<br/>page</strong></a>\n"
     ]
    }
   ],
   "source": [
    "# Create for loop to print out all artists\n",
    "for artist_name in artist_name_list_items:\n",
    "    print(artist_name)"
   ]
  },
  {
   "cell_type": "code",
   "execution_count": 16,
   "metadata": {},
   "outputs": [
    {
     "output_type": "execute_result",
     "data": {
      "text/plain": [
       "['Zabaglia, Niccola']"
      ]
     },
     "metadata": {},
     "execution_count": 16
    }
   ],
   "source": [
    "artist_name_list_items[0].contents"
   ]
  },
  {
   "cell_type": "code",
   "execution_count": 18,
   "metadata": {
    "tags": []
   },
   "outputs": [
    {
     "output_type": "stream",
     "name": "stdout",
     "text": [
      "Zabaglia, Niccola\nZaccone, Fabian\nZadkine, Ossip\nZaech, Bernhard\nZagar, Jacob\nZagroba, Idalia\nZaidenberg, A.\nZaidenberg, Arthur\nZaisinger, Matthäus\nZajac, Jack\nZak, Eugène\nZakharov, Gurii Fillipovich\nZakowortny, Igor\nZalce, Alfredo\nZalopany, Michele\nZammiello, Craig\nZammitt, Norman\nZampieri, Domenico\nZampieri, called Domenichino, Domenico\nZanartú, Enrique Antunez\nZanchi, Antonio\nZanetti, Anton Maria\nZanetti Borzino, Leopoldina\nZanetti I, Antonio Maria, conte\nZanguidi, Jacopo\nZanini, Giuseppe\nZanini-Viola, Giuseppe\nZanotti, Giampietro\nZao Wou-Ki\nZas-Zie\nZie-Zor\n<strong>next<br/>page</strong>\n"
     ]
    }
   ],
   "source": [
    "artist_names = []\n",
    "\n",
    "# Create for loop to print out all artists' names\n",
    "for artist_name in artist_name_list_items:\n",
    "    names = artist_name.contents[0]\n",
    "    print(names)\n",
    "    artist_names.append(names)\n",
    "\n"
   ]
  },
  {
   "cell_type": "code",
   "execution_count": 21,
   "metadata": {
    "tags": []
   },
   "outputs": [
    {
     "output_type": "stream",
     "name": "stdout",
     "text": [
      "/web/20121007172955/https://www.nga.gov/cgi-bin/tsearch?artistid=11630\n/web/20121007172955/https://www.nga.gov/cgi-bin/tsearch?artistid=34202\n/web/20121007172955/https://www.nga.gov/cgi-bin/tsearch?artistid=3475\n/web/20121007172955/https://www.nga.gov/cgi-bin/tsearch?artistid=25135\n/web/20121007172955/https://www.nga.gov/cgi-bin/tsearch?artistid=2298\n/web/20121007172955/https://www.nga.gov/cgi-bin/tsearch?artistid=23988\n/web/20121007172955/https://www.nga.gov/cgi-bin/tsearch?artistid=8232\n/web/20121007172955/https://www.nga.gov/cgi-bin/tsearch?artistid=34154\n/web/20121007172955/https://www.nga.gov/cgi-bin/tsearch?artistid=4910\n/web/20121007172955/https://www.nga.gov/cgi-bin/tsearch?artistid=3450\n/web/20121007172955/https://www.nga.gov/cgi-bin/tsearch?artistid=1986\n/web/20121007172955/https://www.nga.gov/cgi-bin/tsearch?artistid=3451\n/web/20121007172955/https://www.nga.gov/cgi-bin/tsearch?artistid=20099\n/web/20121007172955/https://www.nga.gov/cgi-bin/tsearch?artistid=3452\n/web/20121007172955/https://www.nga.gov/cgi-bin/tsearch?artistid=34309\n/web/20121007172955/https://www.nga.gov/cgi-bin/tsearch?artistid=27191\n/web/20121007172955/https://www.nga.gov/cgi-bin/tsearch?artistid=5846\n/web/20121007172955/https://www.nga.gov/cgi-bin/tsearch?artistid=3941\n/web/20121007172955/https://www.nga.gov/cgi-bin/tsearch?artistid=3941\n/web/20121007172955/https://www.nga.gov/cgi-bin/tsearch?artistid=3453\n/web/20121007172955/https://www.nga.gov/cgi-bin/tsearch?artistid=35173\n/web/20121007172955/https://www.nga.gov/cgi-bin/tsearch?artistid=11133\n/web/20121007172955/https://www.nga.gov/cgi-bin/tsearch?artistid=3455\n/web/20121007172955/https://www.nga.gov/cgi-bin/tsearch?artistid=3454\n/web/20121007172955/https://www.nga.gov/cgi-bin/tsearch?artistid=961\n/web/20121007172955/https://www.nga.gov/cgi-bin/tsearch?artistid=11597\n/web/20121007172955/https://www.nga.gov/cgi-bin/tsearch?artistid=11597\n/web/20121007172955/https://www.nga.gov/cgi-bin/tsearch?artistid=11631\n/web/20121007172955/https://www.nga.gov/cgi-bin/tsearch?artistid=3427\n/web/20121007172955/https://www.nga.gov/collection/anZ2.htm\n/web/20121007172955/https://www.nga.gov/collection/anZ3.htm\n/web/20121007172955/https://www.nga.gov/collection/anZ4.htm\n"
     ]
    }
   ],
   "source": [
    "# Create for loop to print out all artists' links\n",
    "for artist_name in artist_name_list_items:\n",
    "    link = artist_name.get('href') #todos los que tienen el atributo 'href'\n",
    "    print(link)"
   ]
  },
  {
   "cell_type": "code",
   "execution_count": 22,
   "metadata": {
    "tags": []
   },
   "outputs": [
    {
     "output_type": "stream",
     "name": "stdout",
     "text": [
      "https://web.archive.org/web/20121007172955/https://www.nga.gov/cgi-bin/tsearch?artistid=11630\nhttps://web.archive.org/web/20121007172955/https://www.nga.gov/cgi-bin/tsearch?artistid=34202\nhttps://web.archive.org/web/20121007172955/https://www.nga.gov/cgi-bin/tsearch?artistid=3475\nhttps://web.archive.org/web/20121007172955/https://www.nga.gov/cgi-bin/tsearch?artistid=25135\nhttps://web.archive.org/web/20121007172955/https://www.nga.gov/cgi-bin/tsearch?artistid=2298\nhttps://web.archive.org/web/20121007172955/https://www.nga.gov/cgi-bin/tsearch?artistid=23988\nhttps://web.archive.org/web/20121007172955/https://www.nga.gov/cgi-bin/tsearch?artistid=8232\nhttps://web.archive.org/web/20121007172955/https://www.nga.gov/cgi-bin/tsearch?artistid=34154\nhttps://web.archive.org/web/20121007172955/https://www.nga.gov/cgi-bin/tsearch?artistid=4910\nhttps://web.archive.org/web/20121007172955/https://www.nga.gov/cgi-bin/tsearch?artistid=3450\nhttps://web.archive.org/web/20121007172955/https://www.nga.gov/cgi-bin/tsearch?artistid=1986\nhttps://web.archive.org/web/20121007172955/https://www.nga.gov/cgi-bin/tsearch?artistid=3451\nhttps://web.archive.org/web/20121007172955/https://www.nga.gov/cgi-bin/tsearch?artistid=20099\nhttps://web.archive.org/web/20121007172955/https://www.nga.gov/cgi-bin/tsearch?artistid=3452\nhttps://web.archive.org/web/20121007172955/https://www.nga.gov/cgi-bin/tsearch?artistid=34309\nhttps://web.archive.org/web/20121007172955/https://www.nga.gov/cgi-bin/tsearch?artistid=27191\nhttps://web.archive.org/web/20121007172955/https://www.nga.gov/cgi-bin/tsearch?artistid=5846\nhttps://web.archive.org/web/20121007172955/https://www.nga.gov/cgi-bin/tsearch?artistid=3941\nhttps://web.archive.org/web/20121007172955/https://www.nga.gov/cgi-bin/tsearch?artistid=3941\nhttps://web.archive.org/web/20121007172955/https://www.nga.gov/cgi-bin/tsearch?artistid=3453\nhttps://web.archive.org/web/20121007172955/https://www.nga.gov/cgi-bin/tsearch?artistid=35173\nhttps://web.archive.org/web/20121007172955/https://www.nga.gov/cgi-bin/tsearch?artistid=11133\nhttps://web.archive.org/web/20121007172955/https://www.nga.gov/cgi-bin/tsearch?artistid=3455\nhttps://web.archive.org/web/20121007172955/https://www.nga.gov/cgi-bin/tsearch?artistid=3454\nhttps://web.archive.org/web/20121007172955/https://www.nga.gov/cgi-bin/tsearch?artistid=961\nhttps://web.archive.org/web/20121007172955/https://www.nga.gov/cgi-bin/tsearch?artistid=11597\nhttps://web.archive.org/web/20121007172955/https://www.nga.gov/cgi-bin/tsearch?artistid=11597\nhttps://web.archive.org/web/20121007172955/https://www.nga.gov/cgi-bin/tsearch?artistid=11631\nhttps://web.archive.org/web/20121007172955/https://www.nga.gov/cgi-bin/tsearch?artistid=3427\nhttps://web.archive.org/web/20121007172955/https://www.nga.gov/collection/anZ2.htm\nhttps://web.archive.org/web/20121007172955/https://www.nga.gov/collection/anZ3.htm\nhttps://web.archive.org/web/20121007172955/https://www.nga.gov/collection/anZ4.htm\n"
     ]
    }
   ],
   "source": [
    "links = []\n",
    "\n",
    "# Create for loop to print out all artists' links well\n",
    "for artist_name in artist_name_list_items:\n",
    "    link = 'https://web.archive.org' + artist_name.get('href')\n",
    "    print(link)\n",
    "    links.append(link)\n"
   ]
  },
  {
   "cell_type": "code",
   "execution_count": 23,
   "metadata": {},
   "outputs": [
    {
     "output_type": "execute_result",
     "data": {
      "text/plain": [
       "{'Zabaglia, Niccola': 'https://web.archive.org/web/20121007172955/https://www.nga.gov/cgi-bin/tsearch?artistid=11630',\n",
       " 'Zaccone, Fabian': 'https://web.archive.org/web/20121007172955/https://www.nga.gov/cgi-bin/tsearch?artistid=34202',\n",
       " 'Zadkine, Ossip': 'https://web.archive.org/web/20121007172955/https://www.nga.gov/cgi-bin/tsearch?artistid=3475',\n",
       " 'Zaech, Bernhard': 'https://web.archive.org/web/20121007172955/https://www.nga.gov/cgi-bin/tsearch?artistid=25135',\n",
       " 'Zagar, Jacob': 'https://web.archive.org/web/20121007172955/https://www.nga.gov/cgi-bin/tsearch?artistid=2298',\n",
       " 'Zagroba, Idalia': 'https://web.archive.org/web/20121007172955/https://www.nga.gov/cgi-bin/tsearch?artistid=23988',\n",
       " 'Zaidenberg, A.': 'https://web.archive.org/web/20121007172955/https://www.nga.gov/cgi-bin/tsearch?artistid=8232',\n",
       " 'Zaidenberg, Arthur': 'https://web.archive.org/web/20121007172955/https://www.nga.gov/cgi-bin/tsearch?artistid=34154',\n",
       " 'Zaisinger, Matthäus': 'https://web.archive.org/web/20121007172955/https://www.nga.gov/cgi-bin/tsearch?artistid=4910',\n",
       " 'Zajac, Jack': 'https://web.archive.org/web/20121007172955/https://www.nga.gov/cgi-bin/tsearch?artistid=3450',\n",
       " 'Zak, Eugène': 'https://web.archive.org/web/20121007172955/https://www.nga.gov/cgi-bin/tsearch?artistid=1986',\n",
       " 'Zakharov, Gurii Fillipovich': 'https://web.archive.org/web/20121007172955/https://www.nga.gov/cgi-bin/tsearch?artistid=3451',\n",
       " 'Zakowortny, Igor': 'https://web.archive.org/web/20121007172955/https://www.nga.gov/cgi-bin/tsearch?artistid=20099',\n",
       " 'Zalce, Alfredo': 'https://web.archive.org/web/20121007172955/https://www.nga.gov/cgi-bin/tsearch?artistid=3452',\n",
       " 'Zalopany, Michele': 'https://web.archive.org/web/20121007172955/https://www.nga.gov/cgi-bin/tsearch?artistid=34309',\n",
       " 'Zammiello, Craig': 'https://web.archive.org/web/20121007172955/https://www.nga.gov/cgi-bin/tsearch?artistid=27191',\n",
       " 'Zammitt, Norman': 'https://web.archive.org/web/20121007172955/https://www.nga.gov/cgi-bin/tsearch?artistid=5846',\n",
       " 'Zampieri, Domenico': 'https://web.archive.org/web/20121007172955/https://www.nga.gov/cgi-bin/tsearch?artistid=3941',\n",
       " 'Zampieri, called Domenichino, Domenico': 'https://web.archive.org/web/20121007172955/https://www.nga.gov/cgi-bin/tsearch?artistid=3941',\n",
       " 'Zanartú, Enrique Antunez': 'https://web.archive.org/web/20121007172955/https://www.nga.gov/cgi-bin/tsearch?artistid=3453',\n",
       " 'Zanchi, Antonio': 'https://web.archive.org/web/20121007172955/https://www.nga.gov/cgi-bin/tsearch?artistid=35173',\n",
       " 'Zanetti, Anton Maria': 'https://web.archive.org/web/20121007172955/https://www.nga.gov/cgi-bin/tsearch?artistid=11133',\n",
       " 'Zanetti Borzino, Leopoldina': 'https://web.archive.org/web/20121007172955/https://www.nga.gov/cgi-bin/tsearch?artistid=3455',\n",
       " 'Zanetti I, Antonio Maria, conte': 'https://web.archive.org/web/20121007172955/https://www.nga.gov/cgi-bin/tsearch?artistid=3454',\n",
       " 'Zanguidi, Jacopo': 'https://web.archive.org/web/20121007172955/https://www.nga.gov/cgi-bin/tsearch?artistid=961',\n",
       " 'Zanini, Giuseppe': 'https://web.archive.org/web/20121007172955/https://www.nga.gov/cgi-bin/tsearch?artistid=11597',\n",
       " 'Zanini-Viola, Giuseppe': 'https://web.archive.org/web/20121007172955/https://www.nga.gov/cgi-bin/tsearch?artistid=11597',\n",
       " 'Zanotti, Giampietro': 'https://web.archive.org/web/20121007172955/https://www.nga.gov/cgi-bin/tsearch?artistid=11631',\n",
       " 'Zao Wou-Ki': 'https://web.archive.org/web/20121007172955/https://www.nga.gov/cgi-bin/tsearch?artistid=3427',\n",
       " 'Zas-Zie': 'https://web.archive.org/web/20121007172955/https://www.nga.gov/collection/anZ2.htm',\n",
       " 'Zie-Zor': 'https://web.archive.org/web/20121007172955/https://www.nga.gov/collection/anZ3.htm',\n",
       " <strong>next<br/>page</strong>: 'https://web.archive.org/web/20121007172955/https://www.nga.gov/collection/anZ4.htm'}"
      ]
     },
     "metadata": {},
     "execution_count": 23
    }
   ],
   "source": [
    "# Convertir a dict? \n",
    "\n",
    "artist_names_links = dict(zip(artist_names, links))\n",
    "artist_names_links"
   ]
  },
  {
   "cell_type": "code",
   "execution_count": 24,
   "metadata": {},
   "outputs": [
    {
     "output_type": "execute_result",
     "data": {
      "text/plain": [
       "                                      name  \\\n",
       "0                        Zabaglia, Niccola   \n",
       "1                          Zaccone, Fabian   \n",
       "2                           Zadkine, Ossip   \n",
       "3                          Zaech, Bernhard   \n",
       "4                             Zagar, Jacob   \n",
       "5                          Zagroba, Idalia   \n",
       "6                           Zaidenberg, A.   \n",
       "7                       Zaidenberg, Arthur   \n",
       "8                      Zaisinger, Matthäus   \n",
       "9                              Zajac, Jack   \n",
       "10                             Zak, Eugène   \n",
       "11             Zakharov, Gurii Fillipovich   \n",
       "12                        Zakowortny, Igor   \n",
       "13                          Zalce, Alfredo   \n",
       "14                       Zalopany, Michele   \n",
       "15                        Zammiello, Craig   \n",
       "16                         Zammitt, Norman   \n",
       "17                      Zampieri, Domenico   \n",
       "18  Zampieri, called Domenichino, Domenico   \n",
       "19                Zanartú, Enrique Antunez   \n",
       "20                         Zanchi, Antonio   \n",
       "21                    Zanetti, Anton Maria   \n",
       "22             Zanetti Borzino, Leopoldina   \n",
       "23         Zanetti I, Antonio Maria, conte   \n",
       "24                        Zanguidi, Jacopo   \n",
       "25                        Zanini, Giuseppe   \n",
       "26                  Zanini-Viola, Giuseppe   \n",
       "27                     Zanotti, Giampietro   \n",
       "28                              Zao Wou-Ki   \n",
       "29                                 Zas-Zie   \n",
       "30                                 Zie-Zor   \n",
       "31                        [next, [], page]   \n",
       "\n",
       "                                                 link  \n",
       "0   https://web.archive.org/web/20121007172955/htt...  \n",
       "1   https://web.archive.org/web/20121007172955/htt...  \n",
       "2   https://web.archive.org/web/20121007172955/htt...  \n",
       "3   https://web.archive.org/web/20121007172955/htt...  \n",
       "4   https://web.archive.org/web/20121007172955/htt...  \n",
       "5   https://web.archive.org/web/20121007172955/htt...  \n",
       "6   https://web.archive.org/web/20121007172955/htt...  \n",
       "7   https://web.archive.org/web/20121007172955/htt...  \n",
       "8   https://web.archive.org/web/20121007172955/htt...  \n",
       "9   https://web.archive.org/web/20121007172955/htt...  \n",
       "10  https://web.archive.org/web/20121007172955/htt...  \n",
       "11  https://web.archive.org/web/20121007172955/htt...  \n",
       "12  https://web.archive.org/web/20121007172955/htt...  \n",
       "13  https://web.archive.org/web/20121007172955/htt...  \n",
       "14  https://web.archive.org/web/20121007172955/htt...  \n",
       "15  https://web.archive.org/web/20121007172955/htt...  \n",
       "16  https://web.archive.org/web/20121007172955/htt...  \n",
       "17  https://web.archive.org/web/20121007172955/htt...  \n",
       "18  https://web.archive.org/web/20121007172955/htt...  \n",
       "19  https://web.archive.org/web/20121007172955/htt...  \n",
       "20  https://web.archive.org/web/20121007172955/htt...  \n",
       "21  https://web.archive.org/web/20121007172955/htt...  \n",
       "22  https://web.archive.org/web/20121007172955/htt...  \n",
       "23  https://web.archive.org/web/20121007172955/htt...  \n",
       "24  https://web.archive.org/web/20121007172955/htt...  \n",
       "25  https://web.archive.org/web/20121007172955/htt...  \n",
       "26  https://web.archive.org/web/20121007172955/htt...  \n",
       "27  https://web.archive.org/web/20121007172955/htt...  \n",
       "28  https://web.archive.org/web/20121007172955/htt...  \n",
       "29  https://web.archive.org/web/20121007172955/htt...  \n",
       "30  https://web.archive.org/web/20121007172955/htt...  \n",
       "31  https://web.archive.org/web/20121007172955/htt...  "
      ],
      "text/html": "<div>\n<style scoped>\n    .dataframe tbody tr th:only-of-type {\n        vertical-align: middle;\n    }\n\n    .dataframe tbody tr th {\n        vertical-align: top;\n    }\n\n    .dataframe thead th {\n        text-align: right;\n    }\n</style>\n<table border=\"1\" class=\"dataframe\">\n  <thead>\n    <tr style=\"text-align: right;\">\n      <th></th>\n      <th>name</th>\n      <th>link</th>\n    </tr>\n  </thead>\n  <tbody>\n    <tr>\n      <th>0</th>\n      <td>Zabaglia, Niccola</td>\n      <td>https://web.archive.org/web/20121007172955/htt...</td>\n    </tr>\n    <tr>\n      <th>1</th>\n      <td>Zaccone, Fabian</td>\n      <td>https://web.archive.org/web/20121007172955/htt...</td>\n    </tr>\n    <tr>\n      <th>2</th>\n      <td>Zadkine, Ossip</td>\n      <td>https://web.archive.org/web/20121007172955/htt...</td>\n    </tr>\n    <tr>\n      <th>3</th>\n      <td>Zaech, Bernhard</td>\n      <td>https://web.archive.org/web/20121007172955/htt...</td>\n    </tr>\n    <tr>\n      <th>4</th>\n      <td>Zagar, Jacob</td>\n      <td>https://web.archive.org/web/20121007172955/htt...</td>\n    </tr>\n    <tr>\n      <th>5</th>\n      <td>Zagroba, Idalia</td>\n      <td>https://web.archive.org/web/20121007172955/htt...</td>\n    </tr>\n    <tr>\n      <th>6</th>\n      <td>Zaidenberg, A.</td>\n      <td>https://web.archive.org/web/20121007172955/htt...</td>\n    </tr>\n    <tr>\n      <th>7</th>\n      <td>Zaidenberg, Arthur</td>\n      <td>https://web.archive.org/web/20121007172955/htt...</td>\n    </tr>\n    <tr>\n      <th>8</th>\n      <td>Zaisinger, Matthäus</td>\n      <td>https://web.archive.org/web/20121007172955/htt...</td>\n    </tr>\n    <tr>\n      <th>9</th>\n      <td>Zajac, Jack</td>\n      <td>https://web.archive.org/web/20121007172955/htt...</td>\n    </tr>\n    <tr>\n      <th>10</th>\n      <td>Zak, Eugène</td>\n      <td>https://web.archive.org/web/20121007172955/htt...</td>\n    </tr>\n    <tr>\n      <th>11</th>\n      <td>Zakharov, Gurii Fillipovich</td>\n      <td>https://web.archive.org/web/20121007172955/htt...</td>\n    </tr>\n    <tr>\n      <th>12</th>\n      <td>Zakowortny, Igor</td>\n      <td>https://web.archive.org/web/20121007172955/htt...</td>\n    </tr>\n    <tr>\n      <th>13</th>\n      <td>Zalce, Alfredo</td>\n      <td>https://web.archive.org/web/20121007172955/htt...</td>\n    </tr>\n    <tr>\n      <th>14</th>\n      <td>Zalopany, Michele</td>\n      <td>https://web.archive.org/web/20121007172955/htt...</td>\n    </tr>\n    <tr>\n      <th>15</th>\n      <td>Zammiello, Craig</td>\n      <td>https://web.archive.org/web/20121007172955/htt...</td>\n    </tr>\n    <tr>\n      <th>16</th>\n      <td>Zammitt, Norman</td>\n      <td>https://web.archive.org/web/20121007172955/htt...</td>\n    </tr>\n    <tr>\n      <th>17</th>\n      <td>Zampieri, Domenico</td>\n      <td>https://web.archive.org/web/20121007172955/htt...</td>\n    </tr>\n    <tr>\n      <th>18</th>\n      <td>Zampieri, called Domenichino, Domenico</td>\n      <td>https://web.archive.org/web/20121007172955/htt...</td>\n    </tr>\n    <tr>\n      <th>19</th>\n      <td>Zanartú, Enrique Antunez</td>\n      <td>https://web.archive.org/web/20121007172955/htt...</td>\n    </tr>\n    <tr>\n      <th>20</th>\n      <td>Zanchi, Antonio</td>\n      <td>https://web.archive.org/web/20121007172955/htt...</td>\n    </tr>\n    <tr>\n      <th>21</th>\n      <td>Zanetti, Anton Maria</td>\n      <td>https://web.archive.org/web/20121007172955/htt...</td>\n    </tr>\n    <tr>\n      <th>22</th>\n      <td>Zanetti Borzino, Leopoldina</td>\n      <td>https://web.archive.org/web/20121007172955/htt...</td>\n    </tr>\n    <tr>\n      <th>23</th>\n      <td>Zanetti I, Antonio Maria, conte</td>\n      <td>https://web.archive.org/web/20121007172955/htt...</td>\n    </tr>\n    <tr>\n      <th>24</th>\n      <td>Zanguidi, Jacopo</td>\n      <td>https://web.archive.org/web/20121007172955/htt...</td>\n    </tr>\n    <tr>\n      <th>25</th>\n      <td>Zanini, Giuseppe</td>\n      <td>https://web.archive.org/web/20121007172955/htt...</td>\n    </tr>\n    <tr>\n      <th>26</th>\n      <td>Zanini-Viola, Giuseppe</td>\n      <td>https://web.archive.org/web/20121007172955/htt...</td>\n    </tr>\n    <tr>\n      <th>27</th>\n      <td>Zanotti, Giampietro</td>\n      <td>https://web.archive.org/web/20121007172955/htt...</td>\n    </tr>\n    <tr>\n      <th>28</th>\n      <td>Zao Wou-Ki</td>\n      <td>https://web.archive.org/web/20121007172955/htt...</td>\n    </tr>\n    <tr>\n      <th>29</th>\n      <td>Zas-Zie</td>\n      <td>https://web.archive.org/web/20121007172955/htt...</td>\n    </tr>\n    <tr>\n      <th>30</th>\n      <td>Zie-Zor</td>\n      <td>https://web.archive.org/web/20121007172955/htt...</td>\n    </tr>\n    <tr>\n      <th>31</th>\n      <td>[next, [], page]</td>\n      <td>https://web.archive.org/web/20121007172955/htt...</td>\n    </tr>\n  </tbody>\n</table>\n</div>"
     },
     "metadata": {},
     "execution_count": 24
    }
   ],
   "source": [
    "# Convertir a diccionario para trabajar con DataFrame?\n",
    "\n",
    "dict_df = {\"name\": artist_names, \"link\": links}\n",
    "df = pd.DataFrame(dict_df)\n",
    "df"
   ]
  },
  {
   "cell_type": "markdown",
   "metadata": {},
   "source": [
    "### Funny bonus"
   ]
  },
  {
   "cell_type": "code",
   "execution_count": 5,
   "metadata": {},
   "outputs": [
    {
     "output_type": "execute_result",
     "data": {
      "text/plain": [
       "True"
      ]
     },
     "metadata": {},
     "execution_count": 5
    }
   ],
   "source": [
    "import webbrowser\n",
    "\n",
    "webbrowser.open_new(\"www.google.es\")"
   ]
  },
  {
   "cell_type": "code",
   "execution_count": null,
   "metadata": {},
   "outputs": [],
   "source": [
    "def mini_virus(urls):\n",
    "    for _ in urls:\n",
    "        webbrowser.open_new(_)"
   ]
  },
  {
   "cell_type": "code",
   "execution_count": null,
   "metadata": {},
   "outputs": [],
   "source": [
    "# :D \n",
    "mini_virus(urls=links)"
   ]
  },
  {
   "cell_type": "markdown",
   "metadata": {},
   "source": [
    "### Example wikipedia Links:\n",
    "\n",
    "**Create a list of links on that page**\n"
   ]
  },
  {
   "cell_type": "code",
   "execution_count": 6,
   "metadata": {
    "tags": []
   },
   "outputs": [
    {
     "output_type": "stream",
     "name": "stdout",
     "text": [
      "<!DOCTYPE html>\n<html class=\"client-nojs\" dir=\"ltr\" lang=\"en\">\n <head>\n  <meta charset=\"utf-8\"/>\n  <title>\n   Python - Wikipedia\n  </title>\n  <script>\n   document.documentElement.className=\"client-js\";RLCONF={\"wgBreakFrames\":!1,\"wgSeparatorTransformTable\":[\"\",\"\"],\"wgDigitTransformTable\":[\"\",\"\"],\"wgDefaultDateFormat\":\"dmy\",\"wgMonthNames\":[\"\",\"January\",\"February\",\"March\",\"April\",\"May\",\"June\",\"July\",\"August\",\"September\",\"October\",\"November\",\"December\"],\"wgRequestId\":\"X9c1SApAMNYAA0C1-Z4AAAFW\",\"wgCSPNonce\":!1,\"wgCanonicalNamespace\":\"\",\"wgCanonicalSpecialPageName\":!1,\"wgNamespaceNumber\":0,\"wgPageName\":\"Python\",\"wgTitle\":\"Python\",\"wgCurRevisionId\":993591990,\"wgRevisionId\":993591990,\"wgArticleId\":46332325,\"wgIsArticle\":!0,\"wgIsRedirect\":!1,\"wgAction\":\"view\",\"wgUserName\":null,\"wgUserGroups\":[\"*\"],\"wgCategories\":[\"Disambiguation pages with short descriptions\",\"Short description is different from Wikidata\",\"All article disambiguation pages\",\"All disambiguation pages\",\"Animal common name disambiguation pages\",\"Disambiguation pages\",\"Human name disambiguation pages\",\"Disambiguation pages with given-name-holder lists\"],\n\"wgPageContentLanguage\":\"en\",\"wgPageContentModel\":\"wikitext\",\"wgRelevantPageName\":\"Python\",\"wgRelevantArticleId\":46332325,\"wgIsProbablyEditable\":!0,\"wgRelevantPageIsProbablyEditable\":!0,\"wgRestrictionEdit\":[],\"wgRestrictionMove\":[],\"wgMediaViewerOnClick\":!0,\"wgMediaViewerEnabledByDefault\":!0,\"wgPopupsReferencePreviews\":!1,\"wgPopupsConflictsWithNavPopupGadget\":!1,\"wgPopupsConflictsWithRefTooltipsGadget\":!0,\"wgVisualEditor\":{\"pageLanguageCode\":\"en\",\"pageLanguageDir\":\"ltr\",\"pageVariantFallbacks\":\"en\"},\"wgMFDisplayWikibaseDescriptions\":{\"search\":!0,\"nearby\":!0,\"watchlist\":!0,\"tagline\":!1},\"wgWMESchemaEditAttemptStepOversample\":!1,\"wgULSCurrentAutonym\":\"English\",\"wgNoticeProject\":\"wikipedia\",\"wgCentralAuthMobileDomain\":!1,\"wgEditSubmitButtonLabelPublish\":!0,\"wgULSPosition\":\"interlanguage\",\"wgWikibaseItemId\":\"Q747452\"};RLSTATE={\"ext.globalCssJs.user.styles\":\"ready\",\"site.styles\":\"ready\",\"noscript\":\"ready\",\"user.styles\":\"ready\",\"ext.globalCssJs.user\":\"ready\",\n\"user\":\"ready\",\"user.options\":\"loading\",\"ext.categoryTree.styles\":\"ready\",\"skins.vector.styles.legacy\":\"ready\",\"ext.visualEditor.desktopArticleTarget.noscript\":\"ready\",\"ext.uls.interlanguage\":\"ready\",\"ext.wikimediaBadges\":\"ready\",\"wikibase.client.init\":\"ready\"};RLPAGEMODULES=[\"ext.categoryTree\",\"site\",\"mediawiki.page.ready\",\"mediawiki.toc\",\"skins.vector.legacy.js\",\"ext.gadget.ReferenceTooltips\",\"ext.gadget.charinsert\",\"ext.gadget.extra-toolbar-buttons\",\"ext.gadget.refToolbar\",\"ext.gadget.switcher\",\"ext.centralauth.centralautologin\",\"mmv.head\",\"mmv.bootstrap.autostart\",\"ext.popups\",\"ext.visualEditor.desktopArticleTarget.init\",\"ext.visualEditor.targetLoader\",\"ext.eventLogging\",\"ext.wikimediaEvents\",\"ext.navigationTiming\",\"ext.uls.compactlinks\",\"ext.uls.interface\",\"ext.cx.eventlogging.campaigns\",\"ext.centralNotice.geoIP\",\"ext.centralNotice.startUp\"];\n  </script>\n  <script>\n   (RLQ=window.RLQ||[]).push(function(){mw.loader.implement(\"user.options@1hzgi\",function($,jQuery,require,module){/*@nomin*/mw.user.tokens.set({\"patrolToken\":\"+\\\\\",\"watchToken\":\"+\\\\\",\"csrfToken\":\"+\\\\\"});\n});});\n  </script>\n  <link href=\"/w/load.php?lang=en&amp;modules=ext.categoryTree.styles%7Cext.uls.interlanguage%7Cext.visualEditor.desktopArticleTarget.noscript%7Cext.wikimediaBadges%7Cskins.vector.styles.legacy%7Cwikibase.client.init&amp;only=styles&amp;skin=vector\" rel=\"stylesheet\"/>\n  <script async=\"\" src=\"/w/load.php?lang=en&amp;modules=startup&amp;only=scripts&amp;raw=1&amp;skin=vector\">\n  </script>\n  <meta content=\"\" name=\"ResourceLoaderDynamicStyles\"/>\n  <link href=\"/w/load.php?lang=en&amp;modules=site.styles&amp;only=styles&amp;skin=vector\" rel=\"stylesheet\"/>\n  <meta content=\"MediaWiki 1.36.0-wmf.21\" name=\"generator\"/>\n  <meta content=\"origin\" name=\"referrer\"/>\n  <meta content=\"origin-when-crossorigin\" name=\"referrer\"/>\n  <meta content=\"origin-when-cross-origin\" name=\"referrer\"/>\n  <link href=\"//upload.wikimedia.org\" rel=\"preconnect\"/>\n  <link href=\"//en.m.wikipedia.org/wiki/Python\" media=\"only screen and (max-width: 720px)\" rel=\"alternate\"/>\n  <link href=\"/w/index.php?title=Python&amp;action=edit\" rel=\"alternate\" title=\"Edit this page\" type=\"application/x-wiki\"/>\n  <link href=\"/w/index.php?title=Python&amp;action=edit\" rel=\"edit\" title=\"Edit this page\"/>\n  <link href=\"/static/apple-touch/wikipedia.png\" rel=\"apple-touch-icon\"/>\n  <link href=\"/static/favicon/wikipedia.ico\" rel=\"shortcut icon\"/>\n  <link href=\"/w/opensearch_desc.php\" rel=\"search\" title=\"Wikipedia (en)\" type=\"application/opensearchdescription+xml\"/>\n  <link href=\"//en.wikipedia.org/w/api.php?action=rsd\" rel=\"EditURI\" type=\"application/rsd+xml\"/>\n  <link href=\"//creativecommons.org/licenses/by-sa/3.0/\" rel=\"license\"/>\n  <link href=\"https://en.wikipedia.org/wiki/Python\" rel=\"canonical\"/>\n  <link href=\"//login.wikimedia.org\" rel=\"dns-prefetch\"/>\n  <link href=\"//meta.wikimedia.org\" rel=\"dns-prefetch\"/>\n </head>\n <body class=\"mediawiki ltr sitedir-ltr mw-hide-empty-elt ns-0 ns-subject mw-editable page-Python rootpage-Python skin-vector action-view skin-vector-legacy\">\n  <div class=\"noprint\" id=\"mw-page-base\">\n  </div>\n  <div class=\"noprint\" id=\"mw-head-base\">\n  </div>\n  <div class=\"mw-body\" id=\"content\" role=\"main\">\n   <a id=\"top\">\n   </a>\n   <div class=\"mw-body-content\" id=\"siteNotice\">\n    <!-- CentralNotice -->\n   </div>\n   <div class=\"mw-indicators mw-body-content\">\n   </div>\n   <h1 class=\"firstHeading\" id=\"firstHeading\" lang=\"en\">\n    Python\n   </h1>\n   <div class=\"mw-body-content\" id=\"bodyContent\">\n    <div class=\"noprint\" id=\"siteSub\">\n     From Wikipedia, the free encyclopedia\n    </div>\n    <div id=\"contentSub\">\n    </div>\n    <div id=\"contentSub2\">\n    </div>\n    <div id=\"jump-to-nav\">\n    </div>\n    <a class=\"mw-jump-link\" href=\"#mw-head\">\n     Jump to navigation\n    </a>\n    <a class=\"mw-jump-link\" href=\"#searchInput\">\n     Jump to search\n    </a>\n    <div class=\"mw-content-ltr\" dir=\"ltr\" id=\"mw-content-text\" lang=\"en\">\n     <div class=\"mw-parser-output\">\n      <table class=\"mbox-small plainlinks sistersitebox\" role=\"presentation\" style=\"background-color:#f9f9f9;border:1px solid #aaa;color:#000\">\n       <tbody>\n        <tr>\n         <td class=\"mbox-image\">\n          <img alt=\"\" class=\"noviewer\" data-file-height=\"512\" data-file-width=\"512\" decoding=\"async\" height=\"40\" src=\"//upload.wikimedia.org/wikipedia/commons/thumb/9/99/Wiktionary-logo-en-v2.svg/40px-Wiktionary-logo-en-v2.svg.png\" srcset=\"//upload.wikimedia.org/wikipedia/commons/thumb/9/99/Wiktionary-logo-en-v2.svg/60px-Wiktionary-logo-en-v2.svg.png 1.5x, //upload.wikimedia.org/wikipedia/commons/thumb/9/99/Wiktionary-logo-en-v2.svg/80px-Wiktionary-logo-en-v2.svg.png 2x\" width=\"40\"/>\n         </td>\n         <td class=\"mbox-text plainlist\">\n          Look up\n          <i>\n           <b>\n            <a class=\"extiw\" href=\"https://en.wiktionary.org/wiki/Python\" title=\"wiktionary:Python\">\n             Python\n            </a>\n           </b>\n          </i>\n          or\n          <i>\n           <b>\n            <a class=\"extiw\" href=\"https://en.wiktionary.org/wiki/python\" title=\"wiktionary:python\">\n             python\n            </a>\n           </b>\n          </i>\n          in Wiktionary, the free dictionary.\n         </td>\n        </tr>\n       </tbody>\n      </table>\n      <p>\n       <b>\n        Python\n       </b>\n       may refer to:\n      </p>\n      <ul>\n       <li>\n        <a class=\"mw-redirect\" href=\"/wiki/Pythons\" title=\"Pythons\">\n         Pythons\n        </a>\n        or Pythonidae, a family of nonvenomous snakes found in Africa, Asia, and Australia\n        <ul>\n         <li>\n          <a href=\"/wiki/Python_(genus)\" title=\"Python (genus)\">\n           <i>\n            Python\n           </i>\n           (genus)\n          </a>\n          , a genus of nonvenomous Pythonidae found in Africa and Asia\n         </li>\n        </ul>\n       </li>\n      </ul>\n      <style data-mw-deduplicate=\"TemplateStyles:r886049878\">\n       .mw-parser-output .tocright{float:right;clear:right;width:auto;background:none;padding:.5em 0 .8em 1.4em;margin-bottom:.5em}.mw-parser-output .tocright-clear-left{clear:left}.mw-parser-output .tocright-clear-both{clear:both}.mw-parser-output .tocright-clear-none{clear:none}\n      </style>\n      <div class=\"tocright\" style=\"\">\n       <div aria-labelledby=\"mw-toc-heading\" class=\"toc\" id=\"toc\" role=\"navigation\">\n        <input class=\"toctogglecheckbox\" id=\"toctogglecheckbox\" role=\"button\" style=\"display:none\" type=\"checkbox\"/>\n        <div class=\"toctitle\" dir=\"ltr\" lang=\"en\">\n         <h2 id=\"mw-toc-heading\">\n          Contents\n         </h2>\n         <span class=\"toctogglespan\">\n          <label class=\"toctogglelabel\" for=\"toctogglecheckbox\">\n          </label>\n         </span>\n        </div>\n        <ul>\n         <li class=\"toclevel-1 tocsection-1\">\n          <a href=\"#Computing\">\n           <span class=\"tocnumber\">\n            1\n           </span>\n           <span class=\"toctext\">\n            Computing\n           </span>\n          </a>\n         </li>\n         <li class=\"toclevel-1 tocsection-2\">\n          <a href=\"#People\">\n           <span class=\"tocnumber\">\n            2\n           </span>\n           <span class=\"toctext\">\n            People\n           </span>\n          </a>\n         </li>\n         <li class=\"toclevel-1 tocsection-3\">\n          <a href=\"#Roller_coasters\">\n           <span class=\"tocnumber\">\n            3\n           </span>\n           <span class=\"toctext\">\n            Roller coasters\n           </span>\n          </a>\n         </li>\n         <li class=\"toclevel-1 tocsection-4\">\n          <a href=\"#Vehicles\">\n           <span class=\"tocnumber\">\n            4\n           </span>\n           <span class=\"toctext\">\n            Vehicles\n           </span>\n          </a>\n         </li>\n         <li class=\"toclevel-1 tocsection-5\">\n          <a href=\"#Weaponry\">\n           <span class=\"tocnumber\">\n            5\n           </span>\n           <span class=\"toctext\">\n            Weaponry\n           </span>\n          </a>\n         </li>\n         <li class=\"toclevel-1 tocsection-6\">\n          <a href=\"#Other_uses\">\n           <span class=\"tocnumber\">\n            6\n           </span>\n           <span class=\"toctext\">\n            Other uses\n           </span>\n          </a>\n         </li>\n         <li class=\"toclevel-1 tocsection-7\">\n          <a href=\"#See_also\">\n           <span class=\"tocnumber\">\n            7\n           </span>\n           <span class=\"toctext\">\n            See also\n           </span>\n          </a>\n         </li>\n        </ul>\n       </div>\n      </div>\n      <h2>\n       <span class=\"mw-headline\" id=\"Computing\">\n        Computing\n       </span>\n       <span class=\"mw-editsection\">\n        <span class=\"mw-editsection-bracket\">\n         [\n        </span>\n        <a href=\"/w/index.php?title=Python&amp;action=edit&amp;section=1\" title=\"Edit section: Computing\">\n         edit\n        </a>\n        <span class=\"mw-editsection-bracket\">\n         ]\n        </span>\n       </span>\n      </h2>\n      <ul>\n       <li>\n        <a href=\"/wiki/Python_(programming_language)\" title=\"Python (programming language)\">\n         Python (programming language)\n        </a>\n       </li>\n       <li>\n        Python, a native code compiler for\n        <a href=\"/wiki/CMU_Common_Lisp\" title=\"CMU Common Lisp\">\n         CMU Common Lisp\n        </a>\n       </li>\n       <li>\n        Python, the internal project name for the\n        <a href=\"/wiki/PERQ#PERQ_3\" title=\"PERQ\">\n         PERQ 3\n        </a>\n        computer workstation\n       </li>\n      </ul>\n      <h2>\n       <span class=\"mw-headline\" id=\"People\">\n        People\n       </span>\n       <span class=\"mw-editsection\">\n        <span class=\"mw-editsection-bracket\">\n         [\n        </span>\n        <a href=\"/w/index.php?title=Python&amp;action=edit&amp;section=2\" title=\"Edit section: People\">\n         edit\n        </a>\n        <span class=\"mw-editsection-bracket\">\n         ]\n        </span>\n       </span>\n      </h2>\n      <ul>\n       <li>\n        <a href=\"/wiki/Python_of_Aenus\" title=\"Python of Aenus\">\n         Python of Aenus\n        </a>\n        (4th-century BCE), student of Plato\n       </li>\n       <li>\n        <a href=\"/wiki/Python_(painter)\" title=\"Python (painter)\">\n         Python (painter)\n        </a>\n        , (ca. 360-320 BCE) vase painter in Poseidonia\n       </li>\n       <li>\n        <a href=\"/wiki/Python_of_Byzantium\" title=\"Python of Byzantium\">\n         Python of Byzantium\n        </a>\n        , orator, diplomat of Philip II of Macedon\n       </li>\n       <li>\n        <a href=\"/wiki/Python_of_Catana\" title=\"Python of Catana\">\n         Python of Catana\n        </a>\n        , poet who accompanied Alexander the Great\n       </li>\n       <li>\n        <a href=\"/wiki/Python_Anghelo\" title=\"Python Anghelo\">\n         Python Anghelo\n        </a>\n        (1954–2014) Romanian graphic artist\n       </li>\n      </ul>\n      <h2>\n       <span class=\"mw-headline\" id=\"Roller_coasters\">\n        Roller coasters\n       </span>\n       <span class=\"mw-editsection\">\n        <span class=\"mw-editsection-bracket\">\n         [\n        </span>\n        <a href=\"/w/index.php?title=Python&amp;action=edit&amp;section=3\" title=\"Edit section: Roller coasters\">\n         edit\n        </a>\n        <span class=\"mw-editsection-bracket\">\n         ]\n        </span>\n       </span>\n      </h2>\n      <ul>\n       <li>\n        <a href=\"/wiki/Python_(Efteling)\" title=\"Python (Efteling)\">\n         Python (Efteling)\n        </a>\n        , a roller coaster in the Netherlands\n       </li>\n       <li>\n        <a href=\"/wiki/Python_(Busch_Gardens_Tampa_Bay)\" title=\"Python (Busch Gardens Tampa Bay)\">\n         Python (Busch Gardens Tampa Bay)\n        </a>\n        , a defunct roller coaster\n       </li>\n       <li>\n        <a href=\"/wiki/Python_(Coney_Island,_Cincinnati,_Ohio)\" title=\"Python (Coney Island, Cincinnati, Ohio)\">\n         Python (Coney Island, Cincinnati, Ohio)\n        </a>\n        , a steel roller coaster\n       </li>\n      </ul>\n      <h2>\n       <span class=\"mw-headline\" id=\"Vehicles\">\n        Vehicles\n       </span>\n       <span class=\"mw-editsection\">\n        <span class=\"mw-editsection-bracket\">\n         [\n        </span>\n        <a href=\"/w/index.php?title=Python&amp;action=edit&amp;section=4\" title=\"Edit section: Vehicles\">\n         edit\n        </a>\n        <span class=\"mw-editsection-bracket\">\n         ]\n        </span>\n       </span>\n      </h2>\n      <ul>\n       <li>\n        <a href=\"/wiki/Python_(automobile_maker)\" title=\"Python (automobile maker)\">\n         Python (automobile maker)\n        </a>\n        , an Australian car company\n       </li>\n       <li>\n        <a href=\"/wiki/Python_(Ford_prototype)\" title=\"Python (Ford prototype)\">\n         Python (Ford prototype)\n        </a>\n        , a Ford prototype sports car\n       </li>\n      </ul>\n      <h2>\n       <span class=\"mw-headline\" id=\"Weaponry\">\n        Weaponry\n       </span>\n       <span class=\"mw-editsection\">\n        <span class=\"mw-editsection-bracket\">\n         [\n        </span>\n        <a href=\"/w/index.php?title=Python&amp;action=edit&amp;section=5\" title=\"Edit section: Weaponry\">\n         edit\n        </a>\n        <span class=\"mw-editsection-bracket\">\n         ]\n        </span>\n       </span>\n      </h2>\n      <ul>\n       <li>\n        <a href=\"/wiki/Python_(missile)\" title=\"Python (missile)\">\n         Python (missile)\n        </a>\n        , a series of Israeli air-to-air missiles\n       </li>\n       <li>\n        <a href=\"/wiki/Python_(nuclear_primary)\" title=\"Python (nuclear primary)\">\n         Python (nuclear primary)\n        </a>\n        , a gas-boosted fission primary used in thermonuclear weapons\n       </li>\n       <li>\n        <a href=\"/wiki/Colt_Python\" title=\"Colt Python\">\n         Colt Python\n        </a>\n        , a revolver\n       </li>\n      </ul>\n      <h2>\n       <span class=\"mw-headline\" id=\"Other_uses\">\n        Other uses\n       </span>\n       <span class=\"mw-editsection\">\n        <span class=\"mw-editsection-bracket\">\n         [\n        </span>\n        <a href=\"/w/index.php?title=Python&amp;action=edit&amp;section=6\" title=\"Edit section: Other uses\">\n         edit\n        </a>\n        <span class=\"mw-editsection-bracket\">\n         ]\n        </span>\n       </span>\n      </h2>\n      <ul>\n       <li>\n        <a href=\"/wiki/PYTHON\" title=\"PYTHON\">\n         PYTHON\n        </a>\n        , a British nuclear war contingency plan\n       </li>\n       <li>\n        <a href=\"/wiki/Python_(film)\" title=\"Python (film)\">\n         <i>\n          Python\n         </i>\n         (film)\n        </a>\n        , a 2000 horror film by Richard Clabaugh\n       </li>\n       <li>\n        <a href=\"/wiki/Python_(mythology)\" title=\"Python (mythology)\">\n         Python (mythology)\n        </a>\n        , a mythical serpent\n       </li>\n       <li>\n        <a href=\"/wiki/Monty_Python\" title=\"Monty Python\">\n         Monty Python\n        </a>\n        or the Pythons, a British comedy group\n        <ul>\n         <li>\n          <a href=\"/wiki/Python_(Monty)_Pictures\" title=\"Python (Monty) Pictures\">\n           Python (Monty) Pictures\n          </a>\n          , a company owned by the troupe's surviving members\n         </li>\n        </ul>\n       </li>\n      </ul>\n      <h2>\n       <span class=\"mw-headline\" id=\"See_also\">\n        See also\n       </span>\n       <span class=\"mw-editsection\">\n        <span class=\"mw-editsection-bracket\">\n         [\n        </span>\n        <a href=\"/w/index.php?title=Python&amp;action=edit&amp;section=7\" title=\"Edit section: See also\">\n         edit\n        </a>\n        <span class=\"mw-editsection-bracket\">\n         ]\n        </span>\n       </span>\n      </h2>\n      <ul>\n       <li>\n        <a href=\"/wiki/Cython\" title=\"Cython\">\n         Cython\n        </a>\n        , a programming language superset of Python\n       </li>\n       <li>\n        <i>\n         <a href=\"/wiki/Pyton\" title=\"Pyton\">\n          Pyton\n         </a>\n        </i>\n        , a Norwegian magazine\n       </li>\n       <li>\n        <a href=\"/wiki/Pithon\" title=\"Pithon\">\n         Pithon\n        </a>\n       </li>\n      </ul>\n      <style data-mw-deduplicate=\"TemplateStyles:r889293728\">\n       .mw-parser-output table.dmbox{clear:both;margin:0.9em 1em;border-top:1px solid #ccc;border-bottom:1px solid #ccc;background-color:transparent}\n      </style>\n      <table class=\"metadata plainlinks dmbox dmbox-disambig\" id=\"disambigbox\" role=\"presentation\" style=\"\">\n       <tbody>\n        <tr>\n         <td class=\"mbox-image\" style=\"padding: 2px 0 2px 0.4em;\">\n          <a class=\"image\" href=\"/wiki/File:Disambig_gray.svg\">\n           <img alt=\"Disambiguation icon\" data-file-height=\"168\" data-file-width=\"220\" decoding=\"async\" height=\"23\" src=\"//upload.wikimedia.org/wikipedia/en/thumb/5/5f/Disambig_gray.svg/30px-Disambig_gray.svg.png\" srcset=\"//upload.wikimedia.org/wikipedia/en/thumb/5/5f/Disambig_gray.svg/45px-Disambig_gray.svg.png 1.5x, //upload.wikimedia.org/wikipedia/en/thumb/5/5f/Disambig_gray.svg/60px-Disambig_gray.svg.png 2x\" width=\"30\"/>\n          </a>\n         </td>\n         <td class=\"mbox-text\" style=\"padding: 0.25em 0.4em; font-style: italic;\">\n          <div class=\"shortdescription nomobile noexcerpt noprint searchaux\" style=\"display:none\">\n           Disambiguation page providing links to topics that could be referred to by the same search term\n          </div>\n          This\n          <a href=\"/wiki/Help:Disambiguation\" title=\"Help:Disambiguation\">\n           disambiguation\n          </a>\n          page lists  articles associated with the title\n          <b>\n           Python\n          </b>\n          .\n          <br/>\n          <small>\n           If an\n           <a class=\"external text\" href=\"https://en.wikipedia.org/w/index.php?title=Special:WhatLinksHere/Python&amp;namespace=0\">\n            internal link\n           </a>\n           led you here, you may wish to change the link to point directly to the intended article.\n          </small>\n         </td>\n        </tr>\n       </tbody>\n      </table>\n      <!-- \nNewPP limit report\nParsed by mw1397\nCached time: 20201214052202\nCache expiry: 2592000\nDynamic content: false\nComplications: []\nCPU time usage: 0.116 seconds\nReal time usage: 0.178 seconds\nPreprocessor visited node count: 1301/1000000\nPost‐expand include size: 6972/2097152 bytes\nTemplate argument size: 1744/2097152 bytes\nHighest expansion depth: 16/40\nExpensive parser function count: 1/500\nUnstrip recursion depth: 0/20\nUnstrip post‐expand size: 626/5000000 bytes\nLua time usage: 0.026/10.000 seconds\nLua memory usage: 1257368/52428800 bytes\nNumber of Wikibase entities loaded: 0/400\n-->\n      <!--\nTransclusion expansion time report (%,ms,calls,template)\n100.00%  150.748      1 -total\n 66.76%  100.642      1 Template:Disambiguation\n 52.50%   79.136      1 Template:Dmbox\n 23.15%   34.897      1 Template:Wiktionary\n 21.32%   32.136      1 Template:Disambiguation_page_short_description\n 20.86%   31.447      1 Template:Sister_project\n 20.77%   31.313      3 Template:Main_other\n 19.80%   29.841      1 Template:Short_description\n 17.91%   26.995      1 Template:Side_box\n 15.35%   23.140      1 Template:Category_handler\n-->\n      <!-- Saved in parser cache with key enwiki:pcache:idhash:46332325-0!canonical and timestamp 20201214052202 and revision id 993591990. Serialized with JSON.\n -->\n     </div>\n     <noscript>\n      <img alt=\"\" height=\"1\" src=\"//en.wikipedia.org/wiki/Special:CentralAutoLogin/start?type=1x1\" style=\"border: none; position: absolute;\" title=\"\" width=\"1\"/>\n     </noscript>\n     <div class=\"printfooter\">\n      Retrieved from \"\n      <a dir=\"ltr\" href=\"https://en.wikipedia.org/w/index.php?title=Python&amp;oldid=993591990\">\n       https://en.wikipedia.org/w/index.php?title=Python&amp;oldid=993591990\n      </a>\n      \"\n     </div>\n    </div>\n    <div class=\"catlinks\" data-mw=\"interface\" id=\"catlinks\">\n     <div class=\"mw-normal-catlinks\" id=\"mw-normal-catlinks\">\n      <a href=\"/wiki/Help:Category\" title=\"Help:Category\">\n       Categories\n      </a>\n      :\n      <ul>\n       <li>\n        <a href=\"/wiki/Category:Disambiguation_pages\" title=\"Category:Disambiguation pages\">\n         Disambiguation pages\n        </a>\n       </li>\n       <li>\n        <a href=\"/wiki/Category:Human_name_disambiguation_pages\" title=\"Category:Human name disambiguation pages\">\n         Human name disambiguation pages\n        </a>\n       </li>\n       <li>\n        <a href=\"/wiki/Category:Disambiguation_pages_with_given-name-holder_lists\" title=\"Category:Disambiguation pages with given-name-holder lists\">\n         Disambiguation pages with given-name-holder lists\n        </a>\n       </li>\n      </ul>\n     </div>\n     <div class=\"mw-hidden-catlinks mw-hidden-cats-hidden\" id=\"mw-hidden-catlinks\">\n      Hidden categories:\n      <ul>\n       <li>\n        <a href=\"/wiki/Category:Disambiguation_pages_with_short_descriptions\" title=\"Category:Disambiguation pages with short descriptions\">\n         Disambiguation pages with short descriptions\n        </a>\n       </li>\n       <li>\n        <a href=\"/wiki/Category:Short_description_is_different_from_Wikidata\" title=\"Category:Short description is different from Wikidata\">\n         Short description is different from Wikidata\n        </a>\n       </li>\n       <li>\n        <a href=\"/wiki/Category:All_article_disambiguation_pages\" title=\"Category:All article disambiguation pages\">\n         All article disambiguation pages\n        </a>\n       </li>\n       <li>\n        <a href=\"/wiki/Category:All_disambiguation_pages\" title=\"Category:All disambiguation pages\">\n         All disambiguation pages\n        </a>\n       </li>\n       <li>\n        <a href=\"/wiki/Category:Animal_common_name_disambiguation_pages\" title=\"Category:Animal common name disambiguation pages\">\n         Animal common name disambiguation pages\n        </a>\n       </li>\n      </ul>\n     </div>\n    </div>\n   </div>\n  </div>\n  <div id=\"mw-data-after-content\">\n   <div class=\"read-more-container\">\n   </div>\n  </div>\n  <div id=\"mw-navigation\">\n   <h2>\n    Navigation menu\n   </h2>\n   <div id=\"mw-head\">\n    <!-- Please do not use role attribute as CSS selector, it is deprecated. -->\n    <nav aria-labelledby=\"p-personal-label\" class=\"mw-portlet mw-portlet-personal vector-menu\" id=\"p-personal\" role=\"navigation\">\n     <h3 id=\"p-personal-label\">\n      <span>\n       Personal tools\n      </span>\n     </h3>\n     <div class=\"vector-menu-content\">\n      <ul class=\"vector-menu-content-list\">\n       <li id=\"pt-anonuserpage\">\n        Not logged in\n       </li>\n       <li id=\"pt-anontalk\">\n        <a accesskey=\"n\" href=\"/wiki/Special:MyTalk\" title=\"Discussion about edits from this IP address [n]\">\n         Talk\n        </a>\n       </li>\n       <li id=\"pt-anoncontribs\">\n        <a accesskey=\"y\" href=\"/wiki/Special:MyContributions\" title=\"A list of edits made from this IP address [y]\">\n         Contributions\n        </a>\n       </li>\n       <li id=\"pt-createaccount\">\n        <a href=\"/w/index.php?title=Special:CreateAccount&amp;returnto=Python\" title=\"You are encouraged to create an account and log in; however, it is not mandatory\">\n         Create account\n        </a>\n       </li>\n       <li id=\"pt-login\">\n        <a accesskey=\"o\" href=\"/w/index.php?title=Special:UserLogin&amp;returnto=Python\" title=\"You're encouraged to log in; however, it's not mandatory. [o]\">\n         Log in\n        </a>\n       </li>\n      </ul>\n     </div>\n    </nav>\n    <div id=\"left-navigation\">\n     <!-- Please do not use role attribute as CSS selector, it is deprecated. -->\n     <nav aria-labelledby=\"p-namespaces-label\" class=\"mw-portlet mw-portlet-namespaces vector-menu vector-menu-tabs\" id=\"p-namespaces\" role=\"navigation\">\n      <h3 id=\"p-namespaces-label\">\n       <span>\n        Namespaces\n       </span>\n      </h3>\n      <div class=\"vector-menu-content\">\n       <ul class=\"vector-menu-content-list\">\n        <li class=\"selected\" id=\"ca-nstab-main\">\n         <a accesskey=\"c\" href=\"/wiki/Python\" title=\"View the content page [c]\">\n          Article\n         </a>\n        </li>\n        <li id=\"ca-talk\">\n         <a accesskey=\"t\" href=\"/wiki/Talk:Python\" rel=\"discussion\" title=\"Discuss improvements to the content page [t]\">\n          Talk\n         </a>\n        </li>\n       </ul>\n      </div>\n     </nav>\n     <!-- Please do not use role attribute as CSS selector, it is deprecated. -->\n     <nav aria-labelledby=\"p-variants-label\" class=\"mw-portlet mw-portlet-variants emptyPortlet vector-menu vector-menu-dropdown\" id=\"p-variants\" role=\"navigation\">\n      <input aria-labelledby=\"p-variants-label\" class=\"vector-menu-checkbox\" type=\"checkbox\"/>\n      <h3 id=\"p-variants-label\">\n       <span>\n        Variants\n       </span>\n      </h3>\n      <div class=\"vector-menu-content\">\n       <ul class=\"vector-menu-content-list\">\n       </ul>\n      </div>\n     </nav>\n    </div>\n    <div id=\"right-navigation\">\n     <!-- Please do not use role attribute as CSS selector, it is deprecated. -->\n     <nav aria-labelledby=\"p-views-label\" class=\"mw-portlet mw-portlet-views vector-menu vector-menu-tabs\" id=\"p-views\" role=\"navigation\">\n      <h3 id=\"p-views-label\">\n       <span>\n        Views\n       </span>\n      </h3>\n      <div class=\"vector-menu-content\">\n       <ul class=\"vector-menu-content-list\">\n        <li class=\"selected\" id=\"ca-view\">\n         <a href=\"/wiki/Python\">\n          Read\n         </a>\n        </li>\n        <li id=\"ca-edit\">\n         <a accesskey=\"e\" href=\"/w/index.php?title=Python&amp;action=edit\" title=\"Edit this page [e]\">\n          Edit\n         </a>\n        </li>\n        <li id=\"ca-history\">\n         <a accesskey=\"h\" href=\"/w/index.php?title=Python&amp;action=history\" title=\"Past revisions of this page [h]\">\n          View history\n         </a>\n        </li>\n       </ul>\n      </div>\n     </nav>\n     <!-- Please do not use role attribute as CSS selector, it is deprecated. -->\n     <nav aria-labelledby=\"p-cactions-label\" class=\"mw-portlet mw-portlet-cactions emptyPortlet vector-menu vector-menu-dropdown\" id=\"p-cactions\" role=\"navigation\">\n      <input aria-labelledby=\"p-cactions-label\" class=\"vector-menu-checkbox\" type=\"checkbox\"/>\n      <h3 id=\"p-cactions-label\">\n       <span>\n        More\n       </span>\n      </h3>\n      <div class=\"vector-menu-content\">\n       <ul class=\"vector-menu-content-list\">\n       </ul>\n      </div>\n     </nav>\n     <div id=\"p-search\" role=\"search\">\n      <h3>\n       <label for=\"searchInput\">\n        Search\n       </label>\n      </h3>\n      <form action=\"/w/index.php\" id=\"searchform\">\n       <div data-search-loc=\"header-navigation\" id=\"simpleSearch\">\n        <input accesskey=\"f\" autocapitalize=\"sentences\" id=\"searchInput\" name=\"search\" placeholder=\"Search Wikipedia\" title=\"Search Wikipedia [f]\" type=\"search\"/>\n        <input name=\"title\" type=\"hidden\" value=\"Special:Search\"/>\n        <input class=\"searchButton mw-fallbackSearchButton\" id=\"mw-searchButton\" name=\"fulltext\" title=\"Search Wikipedia for this text\" type=\"submit\" value=\"Search\"/>\n        <input class=\"searchButton\" id=\"searchButton\" name=\"go\" title=\"Go to a page with this exact name if it exists\" type=\"submit\" value=\"Go\">\n        </input>\n       </div>\n      </form>\n     </div>\n    </div>\n   </div>\n   <div id=\"mw-panel\">\n    <div id=\"p-logo\" role=\"banner\">\n     <a class=\"mw-wiki-logo\" href=\"/wiki/Main_Page\" title=\"Visit the main page\">\n     </a>\n    </div>\n    <!-- Please do not use role attribute as CSS selector, it is deprecated. -->\n    <nav aria-labelledby=\"p-navigation-label\" class=\"mw-portlet mw-portlet-navigation vector-menu vector-menu-portal portal portal-first\" id=\"p-navigation\" role=\"navigation\">\n     <h3 id=\"p-navigation-label\">\n      <span>\n       Navigation\n      </span>\n     </h3>\n     <div class=\"vector-menu-content\">\n      <ul class=\"vector-menu-content-list\">\n       <li id=\"n-mainpage-description\">\n        <a accesskey=\"z\" href=\"/wiki/Main_Page\" title=\"Visit the main page [z]\">\n         Main page\n        </a>\n       </li>\n       <li id=\"n-contents\">\n        <a href=\"/wiki/Wikipedia:Contents\" title=\"Guides to browsing Wikipedia\">\n         Contents\n        </a>\n       </li>\n       <li id=\"n-currentevents\">\n        <a href=\"/wiki/Portal:Current_events\" title=\"Articles related to current events\">\n         Current events\n        </a>\n       </li>\n       <li id=\"n-randompage\">\n        <a accesskey=\"x\" href=\"/wiki/Special:Random\" title=\"Visit a randomly selected article [x]\">\n         Random article\n        </a>\n       </li>\n       <li id=\"n-aboutsite\">\n        <a href=\"/wiki/Wikipedia:About\" title=\"Learn about Wikipedia and how it works\">\n         About Wikipedia\n        </a>\n       </li>\n       <li id=\"n-contactpage\">\n        <a href=\"//en.wikipedia.org/wiki/Wikipedia:Contact_us\" title=\"How to contact Wikipedia\">\n         Contact us\n        </a>\n       </li>\n       <li id=\"n-sitesupport\">\n        <a href=\"https://donate.wikimedia.org/wiki/Special:FundraiserRedirector?utm_source=donate&amp;utm_medium=sidebar&amp;utm_campaign=C13_en.wikipedia.org&amp;uselang=en\" title=\"Support us by donating to the Wikimedia Foundation\">\n         Donate\n        </a>\n       </li>\n      </ul>\n     </div>\n    </nav>\n    <!-- Please do not use role attribute as CSS selector, it is deprecated. -->\n    <nav aria-labelledby=\"p-interaction-label\" class=\"mw-portlet mw-portlet-interaction vector-menu vector-menu-portal portal\" id=\"p-interaction\" role=\"navigation\">\n     <h3 id=\"p-interaction-label\">\n      <span>\n       Contribute\n      </span>\n     </h3>\n     <div class=\"vector-menu-content\">\n      <ul class=\"vector-menu-content-list\">\n       <li id=\"n-help\">\n        <a href=\"/wiki/Help:Contents\" title=\"Guidance on how to use and edit Wikipedia\">\n         Help\n        </a>\n       </li>\n       <li id=\"n-introduction\">\n        <a href=\"/wiki/Help:Introduction\" title=\"Learn how to edit Wikipedia\">\n         Learn to edit\n        </a>\n       </li>\n       <li id=\"n-portal\">\n        <a href=\"/wiki/Wikipedia:Community_portal\" title=\"The hub for editors\">\n         Community portal\n        </a>\n       </li>\n       <li id=\"n-recentchanges\">\n        <a accesskey=\"r\" href=\"/wiki/Special:RecentChanges\" title=\"A list of recent changes to Wikipedia [r]\">\n         Recent changes\n        </a>\n       </li>\n       <li id=\"n-upload\">\n        <a href=\"/wiki/Wikipedia:File_Upload_Wizard\" title=\"Add images or other media for use on Wikipedia\">\n         Upload file\n        </a>\n       </li>\n      </ul>\n     </div>\n    </nav>\n    <!-- Please do not use role attribute as CSS selector, it is deprecated. -->\n    <nav aria-labelledby=\"p-tb-label\" class=\"mw-portlet mw-portlet-tb vector-menu vector-menu-portal portal\" id=\"p-tb\" role=\"navigation\">\n     <h3 id=\"p-tb-label\">\n      <span>\n       Tools\n      </span>\n     </h3>\n     <div class=\"vector-menu-content\">\n      <ul class=\"vector-menu-content-list\">\n       <li id=\"t-whatlinkshere\">\n        <a accesskey=\"j\" href=\"/wiki/Special:WhatLinksHere/Python\" title=\"List of all English Wikipedia pages containing links to this page [j]\">\n         What links here\n        </a>\n       </li>\n       <li id=\"t-recentchangeslinked\">\n        <a accesskey=\"k\" href=\"/wiki/Special:RecentChangesLinked/Python\" rel=\"nofollow\" title=\"Recent changes in pages linked from this page [k]\">\n         Related changes\n        </a>\n       </li>\n       <li id=\"t-upload\">\n        <a accesskey=\"u\" href=\"/wiki/Wikipedia:File_Upload_Wizard\" title=\"Upload files [u]\">\n         Upload file\n        </a>\n       </li>\n       <li id=\"t-specialpages\">\n        <a accesskey=\"q\" href=\"/wiki/Special:SpecialPages\" title=\"A list of all special pages [q]\">\n         Special pages\n        </a>\n       </li>\n       <li id=\"t-permalink\">\n        <a href=\"/w/index.php?title=Python&amp;oldid=993591990\" title=\"Permanent link to this revision of this page\">\n         Permanent link\n        </a>\n       </li>\n       <li id=\"t-info\">\n        <a href=\"/w/index.php?title=Python&amp;action=info\" title=\"More information about this page\">\n         Page information\n        </a>\n       </li>\n       <li id=\"t-cite\">\n        <a href=\"/w/index.php?title=Special:CiteThisPage&amp;page=Python&amp;id=993591990&amp;wpFormIdentifier=titleform\" title=\"Information on how to cite this page\">\n         Cite this page\n        </a>\n       </li>\n       <li id=\"t-wikibase\">\n        <a accesskey=\"g\" href=\"https://www.wikidata.org/wiki/Special:EntityPage/Q747452\" title=\"Structured data on this page hosted by Wikidata [g]\">\n         Wikidata item\n        </a>\n       </li>\n      </ul>\n     </div>\n    </nav>\n    <!-- Please do not use role attribute as CSS selector, it is deprecated. -->\n    <nav aria-labelledby=\"p-coll-print_export-label\" class=\"mw-portlet mw-portlet-coll-print_export vector-menu vector-menu-portal portal\" id=\"p-coll-print_export\" role=\"navigation\">\n     <h3 id=\"p-coll-print_export-label\">\n      <span>\n       Print/export\n      </span>\n     </h3>\n     <div class=\"vector-menu-content\">\n      <ul class=\"vector-menu-content-list\">\n       <li id=\"coll-download-as-rl\">\n        <a href=\"/w/index.php?title=Special:DownloadAsPdf&amp;page=Python&amp;action=show-download-screen\" title=\"Download this page as a PDF file\">\n         Download as PDF\n        </a>\n       </li>\n       <li id=\"t-print\">\n        <a accesskey=\"p\" href=\"/w/index.php?title=Python&amp;printable=yes\" title=\"Printable version of this page [p]\">\n         Printable version\n        </a>\n       </li>\n      </ul>\n     </div>\n    </nav>\n    <!-- Please do not use role attribute as CSS selector, it is deprecated. -->\n    <nav aria-labelledby=\"p-wikibase-otherprojects-label\" class=\"mw-portlet mw-portlet-wikibase-otherprojects vector-menu vector-menu-portal portal\" id=\"p-wikibase-otherprojects\" role=\"navigation\">\n     <h3 id=\"p-wikibase-otherprojects-label\">\n      <span>\n       In other projects\n      </span>\n     </h3>\n     <div class=\"vector-menu-content\">\n      <ul class=\"vector-menu-content-list\">\n       <li class=\"wb-otherproject-link wb-otherproject-commons\">\n        <a href=\"https://commons.wikimedia.org/wiki/Category:Python\" hreflang=\"en\">\n         Wikimedia Commons\n        </a>\n       </li>\n      </ul>\n     </div>\n    </nav>\n    <!-- Please do not use role attribute as CSS selector, it is deprecated. -->\n    <nav aria-labelledby=\"p-lang-label\" class=\"mw-portlet mw-portlet-lang vector-menu vector-menu-portal portal\" id=\"p-lang\" role=\"navigation\">\n     <h3 id=\"p-lang-label\">\n      <span>\n       Languages\n      </span>\n     </h3>\n     <div class=\"vector-menu-content\">\n      <ul class=\"vector-menu-content-list\">\n       <li class=\"interlanguage-link interwiki-af\">\n        <a class=\"interlanguage-link-target\" href=\"https://af.wikipedia.org/wiki/Python\" hreflang=\"af\" lang=\"af\" title=\"Python – Afrikaans\">\n         Afrikaans\n        </a>\n       </li>\n       <li class=\"interlanguage-link interwiki-als\">\n        <a class=\"interlanguage-link-target\" href=\"https://als.wikipedia.org/wiki/Python\" hreflang=\"gsw\" lang=\"gsw\" title=\"Python – Alemannisch\">\n         Alemannisch\n        </a>\n       </li>\n       <li class=\"interlanguage-link interwiki-ar\">\n        <a class=\"interlanguage-link-target\" href=\"https://ar.wikipedia.org/wiki/%D8%A8%D8%A7%D9%8A%D8%AB%D9%88%D9%86_(%D8%AA%D9%88%D8%B6%D9%8A%D8%AD)\" hreflang=\"ar\" lang=\"ar\" title=\"بايثون (توضيح) – Arabic\">\n         العربية\n        </a>\n       </li>\n       <li class=\"interlanguage-link interwiki-az\">\n        <a class=\"interlanguage-link-target\" href=\"https://az.wikipedia.org/wiki/Python\" hreflang=\"az\" lang=\"az\" title=\"Python – Azerbaijani\">\n         Azərbaycanca\n        </a>\n       </li>\n       <li class=\"interlanguage-link interwiki-bn\">\n        <a class=\"interlanguage-link-target\" href=\"https://bn.wikipedia.org/wiki/%E0%A6%AA%E0%A6%BE%E0%A6%87%E0%A6%A5%E0%A6%A8_(%E0%A6%A6%E0%A7%8D%E0%A6%AC%E0%A7%8D%E0%A6%AF%E0%A6%B0%E0%A7%8D%E0%A6%A5%E0%A6%A4%E0%A6%BE_%E0%A6%A8%E0%A6%BF%E0%A6%B0%E0%A6%B8%E0%A6%A8)\" hreflang=\"bn\" lang=\"bn\" title=\"পাইথন (দ্ব্যর্থতা নিরসন) – Bangla\">\n         বাংলা\n        </a>\n       </li>\n       <li class=\"interlanguage-link interwiki-be\">\n        <a class=\"interlanguage-link-target\" href=\"https://be.wikipedia.org/wiki/Python\" hreflang=\"be\" lang=\"be\" title=\"Python – Belarusian\">\n         Беларуская\n        </a>\n       </li>\n       <li class=\"interlanguage-link interwiki-bg\">\n        <a class=\"interlanguage-link-target\" href=\"https://bg.wikipedia.org/wiki/%D0%9F%D0%B8%D1%82%D0%BE%D0%BD_(%D0%BF%D0%BE%D1%8F%D1%81%D0%BD%D0%B5%D0%BD%D0%B8%D0%B5)\" hreflang=\"bg\" lang=\"bg\" title=\"Питон (пояснение) – Bulgarian\">\n         Български\n        </a>\n       </li>\n       <li class=\"interlanguage-link interwiki-cs\">\n        <a class=\"interlanguage-link-target\" href=\"https://cs.wikipedia.org/wiki/Python_(rozcestn%C3%ADk)\" hreflang=\"cs\" lang=\"cs\" title=\"Python (rozcestník) – Czech\">\n         Čeština\n        </a>\n       </li>\n       <li class=\"interlanguage-link interwiki-da\">\n        <a class=\"interlanguage-link-target\" href=\"https://da.wikipedia.org/wiki/Python\" hreflang=\"da\" lang=\"da\" title=\"Python – Danish\">\n         Dansk\n        </a>\n       </li>\n       <li class=\"interlanguage-link interwiki-de\">\n        <a class=\"interlanguage-link-target\" href=\"https://de.wikipedia.org/wiki/Python\" hreflang=\"de\" lang=\"de\" title=\"Python – German\">\n         Deutsch\n        </a>\n       </li>\n       <li class=\"interlanguage-link interwiki-eo\">\n        <a class=\"interlanguage-link-target\" href=\"https://eo.wikipedia.org/wiki/Pitono_(apartigilo)\" hreflang=\"eo\" lang=\"eo\" title=\"Pitono (apartigilo) – Esperanto\">\n         Esperanto\n        </a>\n       </li>\n       <li class=\"interlanguage-link interwiki-eu\">\n        <a class=\"interlanguage-link-target\" href=\"https://eu.wikipedia.org/wiki/Python_(argipena)\" hreflang=\"eu\" lang=\"eu\" title=\"Python (argipena) – Basque\">\n         Euskara\n        </a>\n       </li>\n       <li class=\"interlanguage-link interwiki-fa\">\n        <a class=\"interlanguage-link-target\" href=\"https://fa.wikipedia.org/wiki/%D9%BE%D8%A7%DB%8C%D8%AA%D9%88%D9%86\" hreflang=\"fa\" lang=\"fa\" title=\"پایتون – Persian\">\n         فارسی\n        </a>\n       </li>\n       <li class=\"interlanguage-link interwiki-fr\">\n        <a class=\"interlanguage-link-target\" href=\"https://fr.wikipedia.org/wiki/Python\" hreflang=\"fr\" lang=\"fr\" title=\"Python – French\">\n         Français\n        </a>\n       </li>\n       <li class=\"interlanguage-link interwiki-ko\">\n        <a class=\"interlanguage-link-target\" href=\"https://ko.wikipedia.org/wiki/%ED%8C%8C%EC%9D%B4%EC%84%A0\" hreflang=\"ko\" lang=\"ko\" title=\"파이선 – Korean\">\n         한국어\n        </a>\n       </li>\n       <li class=\"interlanguage-link interwiki-hr\">\n        <a class=\"interlanguage-link-target\" href=\"https://hr.wikipedia.org/wiki/Python_(razdvojba)\" hreflang=\"hr\" lang=\"hr\" title=\"Python (razdvojba) – Croatian\">\n         Hrvatski\n        </a>\n       </li>\n       <li class=\"interlanguage-link interwiki-io\">\n        <a class=\"interlanguage-link-target\" href=\"https://io.wikipedia.org/wiki/Pitono\" hreflang=\"io\" lang=\"io\" title=\"Pitono – Ido\">\n         Ido\n        </a>\n       </li>\n       <li class=\"interlanguage-link interwiki-id\">\n        <a class=\"interlanguage-link-target\" href=\"https://id.wikipedia.org/wiki/Python\" hreflang=\"id\" lang=\"id\" title=\"Python – Indonesian\">\n         Bahasa Indonesia\n        </a>\n       </li>\n       <li class=\"interlanguage-link interwiki-ia\">\n        <a class=\"interlanguage-link-target\" href=\"https://ia.wikipedia.org/wiki/Python_(disambiguation)\" hreflang=\"ia\" lang=\"ia\" title=\"Python (disambiguation) – Interlingua\">\n         Interlingua\n        </a>\n       </li>\n       <li class=\"interlanguage-link interwiki-is\">\n        <a class=\"interlanguage-link-target\" href=\"https://is.wikipedia.org/wiki/Python_(a%C3%B0greining)\" hreflang=\"is\" lang=\"is\" title=\"Python (aðgreining) – Icelandic\">\n         Íslenska\n        </a>\n       </li>\n       <li class=\"interlanguage-link interwiki-it\">\n        <a class=\"interlanguage-link-target\" href=\"https://it.wikipedia.org/wiki/Python_(disambigua)\" hreflang=\"it\" lang=\"it\" title=\"Python (disambigua) – Italian\">\n         Italiano\n        </a>\n       </li>\n       <li class=\"interlanguage-link interwiki-he\">\n        <a class=\"interlanguage-link-target\" href=\"https://he.wikipedia.org/wiki/%D7%A4%D7%99%D7%AA%D7%95%D7%9F\" hreflang=\"he\" lang=\"he\" title=\"פיתון – Hebrew\">\n         עברית\n        </a>\n       </li>\n       <li class=\"interlanguage-link interwiki-ka\">\n        <a class=\"interlanguage-link-target\" href=\"https://ka.wikipedia.org/wiki/%E1%83%9E%E1%83%98%E1%83%97%E1%83%9D%E1%83%9C%E1%83%98_(%E1%83%9B%E1%83%A0%E1%83%90%E1%83%95%E1%83%90%E1%83%9A%E1%83%9B%E1%83%9C%E1%83%98%E1%83%A8%E1%83%95%E1%83%9C%E1%83%94%E1%83%9A%E1%83%9D%E1%83%95%E1%83%90%E1%83%9C%E1%83%98)\" hreflang=\"ka\" lang=\"ka\" title=\"პითონი (მრავალმნიშვნელოვანი) – Georgian\">\n         ქართული\n        </a>\n       </li>\n       <li class=\"interlanguage-link interwiki-kg\">\n        <a class=\"interlanguage-link-target\" href=\"https://kg.wikipedia.org/wiki/Mboma_(nyoka)\" hreflang=\"kg\" lang=\"kg\" title=\"Mboma (nyoka) – Kongo\">\n         Kongo\n        </a>\n       </li>\n       <li class=\"interlanguage-link interwiki-la\">\n        <a class=\"interlanguage-link-target\" href=\"https://la.wikipedia.org/wiki/Python_(discretiva)\" hreflang=\"la\" lang=\"la\" title=\"Python (discretiva) – Latin\">\n         Latina\n        </a>\n       </li>\n       <li class=\"interlanguage-link interwiki-lb\">\n        <a class=\"interlanguage-link-target\" href=\"https://lb.wikipedia.org/wiki/Python\" hreflang=\"lb\" lang=\"lb\" title=\"Python – Luxembourgish\">\n         Lëtzebuergesch\n        </a>\n       </li>\n       <li class=\"interlanguage-link interwiki-hu\">\n        <a class=\"interlanguage-link-target\" href=\"https://hu.wikipedia.org/wiki/Python_(egy%C3%A9rtelm%C5%B1s%C3%ADt%C5%91_lap)\" hreflang=\"hu\" lang=\"hu\" title=\"Python (egyértelműsítő lap) – Hungarian\">\n         Magyar\n        </a>\n       </li>\n       <li class=\"interlanguage-link interwiki-mr\">\n        <a class=\"interlanguage-link-target\" href=\"https://mr.wikipedia.org/wiki/%E0%A4%AA%E0%A4%BE%E0%A4%AF%E0%A4%A5%E0%A5%89%E0%A4%A8_(%E0%A4%86%E0%A4%9C%E0%A5%8D%E0%A4%9E%E0%A4%BE%E0%A4%B5%E0%A4%B2%E0%A5%80_%E0%A4%AD%E0%A4%BE%E0%A4%B7%E0%A4%BE)\" hreflang=\"mr\" lang=\"mr\" title=\"पायथॉन (आज्ञावली भाषा) – Marathi\">\n         मराठी\n        </a>\n       </li>\n       <li class=\"interlanguage-link interwiki-nl\">\n        <a class=\"interlanguage-link-target\" href=\"https://nl.wikipedia.org/wiki/Python\" hreflang=\"nl\" lang=\"nl\" title=\"Python – Dutch\">\n         Nederlands\n        </a>\n       </li>\n       <li class=\"interlanguage-link interwiki-ja\">\n        <a class=\"interlanguage-link-target\" href=\"https://ja.wikipedia.org/wiki/%E3%83%91%E3%82%A4%E3%82%BD%E3%83%B3\" hreflang=\"ja\" lang=\"ja\" title=\"パイソン – Japanese\">\n         日本語\n        </a>\n       </li>\n       <li class=\"interlanguage-link interwiki-no\">\n        <a class=\"interlanguage-link-target\" href=\"https://no.wikipedia.org/wiki/Pyton\" hreflang=\"nb\" lang=\"nb\" title=\"Pyton – Norwegian Bokmål\">\n         Norsk bokmål\n        </a>\n       </li>\n       <li class=\"interlanguage-link interwiki-pl\">\n        <a class=\"interlanguage-link-target\" href=\"https://pl.wikipedia.org/wiki/Pyton\" hreflang=\"pl\" lang=\"pl\" title=\"Pyton – Polish\">\n         Polski\n        </a>\n       </li>\n       <li class=\"interlanguage-link interwiki-pt\">\n        <a class=\"interlanguage-link-target\" href=\"https://pt.wikipedia.org/wiki/Python_(desambigua%C3%A7%C3%A3o)\" hreflang=\"pt\" lang=\"pt\" title=\"Python (desambiguação) – Portuguese\">\n         Português\n        </a>\n       </li>\n       <li class=\"interlanguage-link interwiki-ru\">\n        <a class=\"interlanguage-link-target\" href=\"https://ru.wikipedia.org/wiki/Python_(%D0%B7%D0%BD%D0%B0%D1%87%D0%B5%D0%BD%D0%B8%D1%8F)\" hreflang=\"ru\" lang=\"ru\" title=\"Python (значения) – Russian\">\n         Русский\n        </a>\n       </li>\n       <li class=\"interlanguage-link interwiki-sk\">\n        <a class=\"interlanguage-link-target\" href=\"https://sk.wikipedia.org/wiki/Python\" hreflang=\"sk\" lang=\"sk\" title=\"Python – Slovak\">\n         Slovenčina\n        </a>\n       </li>\n       <li class=\"interlanguage-link interwiki-sr\">\n        <a class=\"interlanguage-link-target\" href=\"https://sr.wikipedia.org/wiki/%D0%9F%D0%B8%D1%82%D0%BE%D0%BD_(%D0%B2%D0%B8%D1%88%D0%B5%D0%B7%D0%BD%D0%B0%D1%87%D0%BD%D0%B0_%D0%BE%D0%B4%D1%80%D0%B5%D0%B4%D0%BD%D0%B8%D1%86%D0%B0)\" hreflang=\"sr\" lang=\"sr\" title=\"Питон (вишезначна одредница) – Serbian\">\n         Српски / srpski\n        </a>\n       </li>\n       <li class=\"interlanguage-link interwiki-sh\">\n        <a class=\"interlanguage-link-target\" href=\"https://sh.wikipedia.org/wiki/Python\" hreflang=\"sh\" lang=\"sh\" title=\"Python – Serbo-Croatian\">\n         Srpskohrvatski / српскохрватски\n        </a>\n       </li>\n       <li class=\"interlanguage-link interwiki-fi\">\n        <a class=\"interlanguage-link-target\" href=\"https://fi.wikipedia.org/wiki/Python\" hreflang=\"fi\" lang=\"fi\" title=\"Python – Finnish\">\n         Suomi\n        </a>\n       </li>\n       <li class=\"interlanguage-link interwiki-sv\">\n        <a class=\"interlanguage-link-target\" href=\"https://sv.wikipedia.org/wiki/Pyton\" hreflang=\"sv\" lang=\"sv\" title=\"Pyton – Swedish\">\n         Svenska\n        </a>\n       </li>\n       <li class=\"interlanguage-link interwiki-th\">\n        <a class=\"interlanguage-link-target\" href=\"https://th.wikipedia.org/wiki/%E0%B9%84%E0%B8%9E%E0%B8%97%E0%B8%AD%E0%B8%99\" hreflang=\"th\" lang=\"th\" title=\"ไพทอน – Thai\">\n         ไทย\n        </a>\n       </li>\n       <li class=\"interlanguage-link interwiki-tr\">\n        <a class=\"interlanguage-link-target\" href=\"https://tr.wikipedia.org/wiki/Python\" hreflang=\"tr\" lang=\"tr\" title=\"Python – Turkish\">\n         Türkçe\n        </a>\n       </li>\n       <li class=\"interlanguage-link interwiki-uk\">\n        <a class=\"interlanguage-link-target\" href=\"https://uk.wikipedia.org/wiki/%D0%9F%D1%96%D1%84%D0%BE%D0%BD\" hreflang=\"uk\" lang=\"uk\" title=\"Піфон – Ukrainian\">\n         Українська\n        </a>\n       </li>\n       <li class=\"interlanguage-link interwiki-ur\">\n        <a class=\"interlanguage-link-target\" href=\"https://ur.wikipedia.org/wiki/%D9%BE%D8%A7%D8%A6%DB%8C%D8%AA%DA%BE%D9%88%D9%86\" hreflang=\"ur\" lang=\"ur\" title=\"پائیتھون – Urdu\">\n         اردو\n        </a>\n       </li>\n       <li class=\"interlanguage-link interwiki-vi\">\n        <a class=\"interlanguage-link-target\" href=\"https://vi.wikipedia.org/wiki/Python\" hreflang=\"vi\" lang=\"vi\" title=\"Python – Vietnamese\">\n         Tiếng Việt\n        </a>\n       </li>\n       <li class=\"interlanguage-link interwiki-zh\">\n        <a class=\"interlanguage-link-target\" href=\"https://zh.wikipedia.org/wiki/Python_(%E6%B6%88%E6%AD%A7%E4%B9%89)\" hreflang=\"zh\" lang=\"zh\" title=\"Python (消歧义) – Chinese\">\n         中文\n        </a>\n       </li>\n      </ul>\n      <div class=\"after-portlet after-portlet-lang\">\n       <span class=\"wb-langlinks-edit wb-langlinks-link\">\n        <a class=\"wbc-editpage\" href=\"https://www.wikidata.org/wiki/Special:EntityPage/Q747452#sitelinks-wikipedia\" title=\"Edit interlanguage links\">\n         Edit links\n        </a>\n       </span>\n      </div>\n     </div>\n    </nav>\n   </div>\n  </div>\n  <footer class=\"mw-footer\" id=\"footer\" role=\"contentinfo\">\n   <ul id=\"footer-info\">\n    <li id=\"footer-info-lastmod\">\n     This page was last edited on 11 December 2020, at 12:08\n     <span class=\"anonymous-show\">\n      (UTC)\n     </span>\n     .\n    </li>\n    <li id=\"footer-info-copyright\">\n     Text is available under the\n     <a href=\"//en.wikipedia.org/wiki/Wikipedia:Text_of_Creative_Commons_Attribution-ShareAlike_3.0_Unported_License\" rel=\"license\">\n      Creative Commons Attribution-ShareAlike License\n     </a>\n     <a href=\"//creativecommons.org/licenses/by-sa/3.0/\" rel=\"license\" style=\"display:none;\">\n     </a>\n     ;\nadditional terms may apply.  By using this site, you agree to the\n     <a href=\"//foundation.wikimedia.org/wiki/Terms_of_Use\">\n      Terms of Use\n     </a>\n     and\n     <a href=\"//foundation.wikimedia.org/wiki/Privacy_policy\">\n      Privacy Policy\n     </a>\n     . Wikipedia® is a registered trademark of the\n     <a href=\"//www.wikimediafoundation.org/\">\n      Wikimedia Foundation, Inc.\n     </a>\n     , a non-profit organization.\n    </li>\n   </ul>\n   <ul id=\"footer-places\">\n    <li id=\"footer-places-privacy\">\n     <a class=\"extiw\" href=\"https://foundation.wikimedia.org/wiki/Privacy_policy\" title=\"wmf:Privacy policy\">\n      Privacy policy\n     </a>\n    </li>\n    <li id=\"footer-places-about\">\n     <a href=\"/wiki/Wikipedia:About\" title=\"Wikipedia:About\">\n      About Wikipedia\n     </a>\n    </li>\n    <li id=\"footer-places-disclaimer\">\n     <a href=\"/wiki/Wikipedia:General_disclaimer\" title=\"Wikipedia:General disclaimer\">\n      Disclaimers\n     </a>\n    </li>\n    <li id=\"footer-places-contact\">\n     <a href=\"//en.wikipedia.org/wiki/Wikipedia:Contact_us\">\n      Contact Wikipedia\n     </a>\n    </li>\n    <li id=\"footer-places-mobileview\">\n     <a class=\"noprint stopMobileRedirectToggle\" href=\"//en.m.wikipedia.org/w/index.php?title=Python&amp;mobileaction=toggle_view_mobile\">\n      Mobile view\n     </a>\n    </li>\n    <li id=\"footer-places-developers\">\n     <a href=\"https://www.mediawiki.org/wiki/Special:MyLanguage/How_to_contribute\">\n      Developers\n     </a>\n    </li>\n    <li id=\"footer-places-statslink\">\n     <a href=\"https://stats.wikimedia.org/#/en.wikipedia.org\">\n      Statistics\n     </a>\n    </li>\n    <li id=\"footer-places-cookiestatement\">\n     <a href=\"https://foundation.wikimedia.org/wiki/Cookie_statement\">\n      Cookie statement\n     </a>\n    </li>\n   </ul>\n   <ul class=\"noprint\" id=\"footer-icons\">\n    <li id=\"footer-copyrightico\">\n     <a href=\"https://wikimediafoundation.org/\">\n      <img alt=\"Wikimedia Foundation\" height=\"31\" loading=\"lazy\" src=\"/static/images/footer/wikimedia-button.png\" srcset=\"/static/images/footer/wikimedia-button-1.5x.png 1.5x, /static/images/footer/wikimedia-button-2x.png 2x\" width=\"88\"/>\n     </a>\n    </li>\n    <li id=\"footer-poweredbyico\">\n     <a href=\"https://www.mediawiki.org/\">\n      <img alt=\"Powered by MediaWiki\" height=\"31\" loading=\"lazy\" src=\"/static/images/footer/poweredby_mediawiki_88x31.png\" srcset=\"/static/images/footer/poweredby_mediawiki_132x47.png 1.5x, /static/images/footer/poweredby_mediawiki_176x62.png 2x\" width=\"88\"/>\n     </a>\n    </li>\n   </ul>\n   <div style=\"clear: both;\">\n   </div>\n  </footer>\n  <script>\n   (RLQ=window.RLQ||[]).push(function(){mw.config.set({\"wgPageParseReport\":{\"limitreport\":{\"cputime\":\"0.116\",\"walltime\":\"0.178\",\"ppvisitednodes\":{\"value\":1301,\"limit\":1000000},\"postexpandincludesize\":{\"value\":6972,\"limit\":2097152},\"templateargumentsize\":{\"value\":1744,\"limit\":2097152},\"expansiondepth\":{\"value\":16,\"limit\":40},\"expensivefunctioncount\":{\"value\":1,\"limit\":500},\"unstrip-depth\":{\"value\":0,\"limit\":20},\"unstrip-size\":{\"value\":626,\"limit\":5000000},\"entityaccesscount\":{\"value\":0,\"limit\":400},\"timingprofile\":[\"100.00%  150.748      1 -total\",\" 66.76%  100.642      1 Template:Disambiguation\",\" 52.50%   79.136      1 Template:Dmbox\",\" 23.15%   34.897      1 Template:Wiktionary\",\" 21.32%   32.136      1 Template:Disambiguation_page_short_description\",\" 20.86%   31.447      1 Template:Sister_project\",\" 20.77%   31.313      3 Template:Main_other\",\" 19.80%   29.841      1 Template:Short_description\",\" 17.91%   26.995      1 Template:Side_box\",\" 15.35%   23.140      1 Template:Category_handler\"]},\"scribunto\":{\"limitreport-timeusage\":{\"value\":\"0.026\",\"limit\":\"10.000\"},\"limitreport-memusage\":{\"value\":1257368,\"limit\":52428800}},\"cachereport\":{\"origin\":\"mw1397\",\"timestamp\":\"20201214052202\",\"ttl\":2592000,\"transientcontent\":false}}});});\n  </script>\n  <script type=\"application/ld+json\">\n   {\"@context\":\"https:\\/\\/schema.org\",\"@type\":\"Article\",\"name\":\"Python\",\"url\":\"https:\\/\\/en.wikipedia.org\\/wiki\\/Python\",\"sameAs\":\"http:\\/\\/www.wikidata.org\\/entity\\/Q747452\",\"mainEntity\":\"http:\\/\\/www.wikidata.org\\/entity\\/Q747452\",\"author\":{\"@type\":\"Organization\",\"name\":\"Contributors to Wikimedia projects\"},\"publisher\":{\"@type\":\"Organization\",\"name\":\"Wikimedia Foundation, Inc.\",\"logo\":{\"@type\":\"ImageObject\",\"url\":\"https:\\/\\/www.wikimedia.org\\/static\\/images\\/wmf-hor-googpub.png\"}},\"datePublished\":\"2004-05-11T17:28:52Z\",\"dateModified\":\"2020-12-11T12:08:19Z\",\"headline\":\"Wikimedia disambiguation page\"}\n  </script>\n  <script>\n   (RLQ=window.RLQ||[]).push(function(){mw.config.set({\"wgBackendResponseTime\":160,\"wgHostname\":\"mw1372\"});});\n  </script>\n </body>\n</html>\n"
     ]
    }
   ],
   "source": [
    "url ='https://en.wikipedia.org/wiki/Python'\n",
    "\n",
    "response = requests.get(url)\n",
    "soup = BeautifulSoup(response.content, \"html.parser\")\n",
    "show_html(soup)"
   ]
  },
  {
   "cell_type": "code",
   "execution_count": 7,
   "metadata": {},
   "outputs": [
    {
     "output_type": "execute_result",
     "data": {
      "text/plain": [
       "[<a id=\"top\"></a>,\n",
       " <a class=\"mw-jump-link\" href=\"#mw-head\">Jump to navigation</a>,\n",
       " <a class=\"mw-jump-link\" href=\"#searchInput\">Jump to search</a>,\n",
       " <a class=\"extiw\" href=\"https://en.wiktionary.org/wiki/Python\" title=\"wiktionary:Python\">Python</a>,\n",
       " <a class=\"extiw\" href=\"https://en.wiktionary.org/wiki/python\" title=\"wiktionary:python\">python</a>,\n",
       " <a class=\"mw-redirect\" href=\"/wiki/Pythons\" title=\"Pythons\">Pythons</a>,\n",
       " <a href=\"/wiki/Python_(genus)\" title=\"Python (genus)\"><i>Python</i> (genus)</a>,\n",
       " <a href=\"#Computing\"><span class=\"tocnumber\">1</span> <span class=\"toctext\">Computing</span></a>,\n",
       " <a href=\"#People\"><span class=\"tocnumber\">2</span> <span class=\"toctext\">People</span></a>,\n",
       " <a href=\"#Roller_coasters\"><span class=\"tocnumber\">3</span> <span class=\"toctext\">Roller coasters</span></a>,\n",
       " <a href=\"#Vehicles\"><span class=\"tocnumber\">4</span> <span class=\"toctext\">Vehicles</span></a>,\n",
       " <a href=\"#Weaponry\"><span class=\"tocnumber\">5</span> <span class=\"toctext\">Weaponry</span></a>,\n",
       " <a href=\"#Other_uses\"><span class=\"tocnumber\">6</span> <span class=\"toctext\">Other uses</span></a>,\n",
       " <a href=\"#See_also\"><span class=\"tocnumber\">7</span> <span class=\"toctext\">See also</span></a>,\n",
       " <a href=\"/w/index.php?title=Python&amp;action=edit&amp;section=1\" title=\"Edit section: Computing\">edit</a>,\n",
       " <a href=\"/wiki/Python_(programming_language)\" title=\"Python (programming language)\">Python (programming language)</a>,\n",
       " <a href=\"/wiki/CMU_Common_Lisp\" title=\"CMU Common Lisp\">CMU Common Lisp</a>,\n",
       " <a href=\"/wiki/PERQ#PERQ_3\" title=\"PERQ\">PERQ 3</a>,\n",
       " <a href=\"/w/index.php?title=Python&amp;action=edit&amp;section=2\" title=\"Edit section: People\">edit</a>,\n",
       " <a href=\"/wiki/Python_of_Aenus\" title=\"Python of Aenus\">Python of Aenus</a>,\n",
       " <a href=\"/wiki/Python_(painter)\" title=\"Python (painter)\">Python (painter)</a>,\n",
       " <a href=\"/wiki/Python_of_Byzantium\" title=\"Python of Byzantium\">Python of Byzantium</a>,\n",
       " <a href=\"/wiki/Python_of_Catana\" title=\"Python of Catana\">Python of Catana</a>,\n",
       " <a href=\"/wiki/Python_Anghelo\" title=\"Python Anghelo\">Python Anghelo</a>,\n",
       " <a href=\"/w/index.php?title=Python&amp;action=edit&amp;section=3\" title=\"Edit section: Roller coasters\">edit</a>,\n",
       " <a href=\"/wiki/Python_(Efteling)\" title=\"Python (Efteling)\">Python (Efteling)</a>,\n",
       " <a href=\"/wiki/Python_(Busch_Gardens_Tampa_Bay)\" title=\"Python (Busch Gardens Tampa Bay)\">Python (Busch Gardens Tampa Bay)</a>,\n",
       " <a href=\"/wiki/Python_(Coney_Island,_Cincinnati,_Ohio)\" title=\"Python (Coney Island, Cincinnati, Ohio)\">Python (Coney Island, Cincinnati, Ohio)</a>,\n",
       " <a href=\"/w/index.php?title=Python&amp;action=edit&amp;section=4\" title=\"Edit section: Vehicles\">edit</a>,\n",
       " <a href=\"/wiki/Python_(automobile_maker)\" title=\"Python (automobile maker)\">Python (automobile maker)</a>,\n",
       " <a href=\"/wiki/Python_(Ford_prototype)\" title=\"Python (Ford prototype)\">Python (Ford prototype)</a>,\n",
       " <a href=\"/w/index.php?title=Python&amp;action=edit&amp;section=5\" title=\"Edit section: Weaponry\">edit</a>,\n",
       " <a href=\"/wiki/Python_(missile)\" title=\"Python (missile)\">Python (missile)</a>,\n",
       " <a href=\"/wiki/Python_(nuclear_primary)\" title=\"Python (nuclear primary)\">Python (nuclear primary)</a>,\n",
       " <a href=\"/wiki/Colt_Python\" title=\"Colt Python\">Colt Python</a>,\n",
       " <a href=\"/w/index.php?title=Python&amp;action=edit&amp;section=6\" title=\"Edit section: Other uses\">edit</a>,\n",
       " <a href=\"/wiki/PYTHON\" title=\"PYTHON\">PYTHON</a>,\n",
       " <a href=\"/wiki/Python_(film)\" title=\"Python (film)\"><i>Python</i> (film)</a>,\n",
       " <a href=\"/wiki/Python_(mythology)\" title=\"Python (mythology)\">Python (mythology)</a>,\n",
       " <a href=\"/wiki/Monty_Python\" title=\"Monty Python\">Monty Python</a>,\n",
       " <a href=\"/wiki/Python_(Monty)_Pictures\" title=\"Python (Monty) Pictures\">Python (Monty) Pictures</a>,\n",
       " <a href=\"/w/index.php?title=Python&amp;action=edit&amp;section=7\" title=\"Edit section: See also\">edit</a>,\n",
       " <a href=\"/wiki/Cython\" title=\"Cython\">Cython</a>,\n",
       " <a href=\"/wiki/Pyton\" title=\"Pyton\">Pyton</a>,\n",
       " <a href=\"/wiki/Pithon\" title=\"Pithon\">Pithon</a>,\n",
       " <a class=\"image\" href=\"/wiki/File:Disambig_gray.svg\"><img alt=\"Disambiguation icon\" data-file-height=\"168\" data-file-width=\"220\" decoding=\"async\" height=\"23\" src=\"//upload.wikimedia.org/wikipedia/en/thumb/5/5f/Disambig_gray.svg/30px-Disambig_gray.svg.png\" srcset=\"//upload.wikimedia.org/wikipedia/en/thumb/5/5f/Disambig_gray.svg/45px-Disambig_gray.svg.png 1.5x, //upload.wikimedia.org/wikipedia/en/thumb/5/5f/Disambig_gray.svg/60px-Disambig_gray.svg.png 2x\" width=\"30\"/></a>,\n",
       " <a href=\"/wiki/Help:Disambiguation\" title=\"Help:Disambiguation\">disambiguation</a>,\n",
       " <a class=\"external text\" href=\"https://en.wikipedia.org/w/index.php?title=Special:WhatLinksHere/Python&amp;namespace=0\">internal link</a>,\n",
       " <a dir=\"ltr\" href=\"https://en.wikipedia.org/w/index.php?title=Python&amp;oldid=993591990\">https://en.wikipedia.org/w/index.php?title=Python&amp;oldid=993591990</a>,\n",
       " <a href=\"/wiki/Help:Category\" title=\"Help:Category\">Categories</a>,\n",
       " <a href=\"/wiki/Category:Disambiguation_pages\" title=\"Category:Disambiguation pages\">Disambiguation pages</a>,\n",
       " <a href=\"/wiki/Category:Human_name_disambiguation_pages\" title=\"Category:Human name disambiguation pages\">Human name disambiguation pages</a>,\n",
       " <a href=\"/wiki/Category:Disambiguation_pages_with_given-name-holder_lists\" title=\"Category:Disambiguation pages with given-name-holder lists\">Disambiguation pages with given-name-holder lists</a>,\n",
       " <a href=\"/wiki/Category:Disambiguation_pages_with_short_descriptions\" title=\"Category:Disambiguation pages with short descriptions\">Disambiguation pages with short descriptions</a>,\n",
       " <a href=\"/wiki/Category:Short_description_is_different_from_Wikidata\" title=\"Category:Short description is different from Wikidata\">Short description is different from Wikidata</a>,\n",
       " <a href=\"/wiki/Category:All_article_disambiguation_pages\" title=\"Category:All article disambiguation pages\">All article disambiguation pages</a>,\n",
       " <a href=\"/wiki/Category:All_disambiguation_pages\" title=\"Category:All disambiguation pages\">All disambiguation pages</a>,\n",
       " <a href=\"/wiki/Category:Animal_common_name_disambiguation_pages\" title=\"Category:Animal common name disambiguation pages\">Animal common name disambiguation pages</a>,\n",
       " <a accesskey=\"n\" href=\"/wiki/Special:MyTalk\" title=\"Discussion about edits from this IP address [n]\">Talk</a>,\n",
       " <a accesskey=\"y\" href=\"/wiki/Special:MyContributions\" title=\"A list of edits made from this IP address [y]\">Contributions</a>,\n",
       " <a href=\"/w/index.php?title=Special:CreateAccount&amp;returnto=Python\" title=\"You are encouraged to create an account and log in; however, it is not mandatory\">Create account</a>,\n",
       " <a accesskey=\"o\" href=\"/w/index.php?title=Special:UserLogin&amp;returnto=Python\" title=\"You're encouraged to log in; however, it's not mandatory. [o]\">Log in</a>,\n",
       " <a accesskey=\"c\" href=\"/wiki/Python\" title=\"View the content page [c]\">Article</a>,\n",
       " <a accesskey=\"t\" href=\"/wiki/Talk:Python\" rel=\"discussion\" title=\"Discuss improvements to the content page [t]\">Talk</a>,\n",
       " <a href=\"/wiki/Python\">Read</a>,\n",
       " <a accesskey=\"e\" href=\"/w/index.php?title=Python&amp;action=edit\" title=\"Edit this page [e]\">Edit</a>,\n",
       " <a accesskey=\"h\" href=\"/w/index.php?title=Python&amp;action=history\" title=\"Past revisions of this page [h]\">View history</a>,\n",
       " <a class=\"mw-wiki-logo\" href=\"/wiki/Main_Page\" title=\"Visit the main page\"></a>,\n",
       " <a accesskey=\"z\" href=\"/wiki/Main_Page\" title=\"Visit the main page [z]\">Main page</a>,\n",
       " <a href=\"/wiki/Wikipedia:Contents\" title=\"Guides to browsing Wikipedia\">Contents</a>,\n",
       " <a href=\"/wiki/Portal:Current_events\" title=\"Articles related to current events\">Current events</a>,\n",
       " <a accesskey=\"x\" href=\"/wiki/Special:Random\" title=\"Visit a randomly selected article [x]\">Random article</a>,\n",
       " <a href=\"/wiki/Wikipedia:About\" title=\"Learn about Wikipedia and how it works\">About Wikipedia</a>,\n",
       " <a href=\"//en.wikipedia.org/wiki/Wikipedia:Contact_us\" title=\"How to contact Wikipedia\">Contact us</a>,\n",
       " <a href=\"https://donate.wikimedia.org/wiki/Special:FundraiserRedirector?utm_source=donate&amp;utm_medium=sidebar&amp;utm_campaign=C13_en.wikipedia.org&amp;uselang=en\" title=\"Support us by donating to the Wikimedia Foundation\">Donate</a>,\n",
       " <a href=\"/wiki/Help:Contents\" title=\"Guidance on how to use and edit Wikipedia\">Help</a>,\n",
       " <a href=\"/wiki/Help:Introduction\" title=\"Learn how to edit Wikipedia\">Learn to edit</a>,\n",
       " <a href=\"/wiki/Wikipedia:Community_portal\" title=\"The hub for editors\">Community portal</a>,\n",
       " <a accesskey=\"r\" href=\"/wiki/Special:RecentChanges\" title=\"A list of recent changes to Wikipedia [r]\">Recent changes</a>,\n",
       " <a href=\"/wiki/Wikipedia:File_Upload_Wizard\" title=\"Add images or other media for use on Wikipedia\">Upload file</a>,\n",
       " <a accesskey=\"j\" href=\"/wiki/Special:WhatLinksHere/Python\" title=\"List of all English Wikipedia pages containing links to this page [j]\">What links here</a>,\n",
       " <a accesskey=\"k\" href=\"/wiki/Special:RecentChangesLinked/Python\" rel=\"nofollow\" title=\"Recent changes in pages linked from this page [k]\">Related changes</a>,\n",
       " <a accesskey=\"u\" href=\"/wiki/Wikipedia:File_Upload_Wizard\" title=\"Upload files [u]\">Upload file</a>,\n",
       " <a accesskey=\"q\" href=\"/wiki/Special:SpecialPages\" title=\"A list of all special pages [q]\">Special pages</a>,\n",
       " <a href=\"/w/index.php?title=Python&amp;oldid=993591990\" title=\"Permanent link to this revision of this page\">Permanent link</a>,\n",
       " <a href=\"/w/index.php?title=Python&amp;action=info\" title=\"More information about this page\">Page information</a>,\n",
       " <a href=\"/w/index.php?title=Special:CiteThisPage&amp;page=Python&amp;id=993591990&amp;wpFormIdentifier=titleform\" title=\"Information on how to cite this page\">Cite this page</a>,\n",
       " <a accesskey=\"g\" href=\"https://www.wikidata.org/wiki/Special:EntityPage/Q747452\" title=\"Structured data on this page hosted by Wikidata [g]\">Wikidata item</a>,\n",
       " <a href=\"/w/index.php?title=Special:DownloadAsPdf&amp;page=Python&amp;action=show-download-screen\" title=\"Download this page as a PDF file\">Download as PDF</a>,\n",
       " <a accesskey=\"p\" href=\"/w/index.php?title=Python&amp;printable=yes\" title=\"Printable version of this page [p]\">Printable version</a>,\n",
       " <a href=\"https://commons.wikimedia.org/wiki/Category:Python\" hreflang=\"en\">Wikimedia Commons</a>,\n",
       " <a class=\"interlanguage-link-target\" href=\"https://af.wikipedia.org/wiki/Python\" hreflang=\"af\" lang=\"af\" title=\"Python – Afrikaans\">Afrikaans</a>,\n",
       " <a class=\"interlanguage-link-target\" href=\"https://als.wikipedia.org/wiki/Python\" hreflang=\"gsw\" lang=\"gsw\" title=\"Python – Alemannisch\">Alemannisch</a>,\n",
       " <a class=\"interlanguage-link-target\" href=\"https://ar.wikipedia.org/wiki/%D8%A8%D8%A7%D9%8A%D8%AB%D9%88%D9%86_(%D8%AA%D9%88%D8%B6%D9%8A%D8%AD)\" hreflang=\"ar\" lang=\"ar\" title=\"بايثون (توضيح) – Arabic\">العربية</a>,\n",
       " <a class=\"interlanguage-link-target\" href=\"https://az.wikipedia.org/wiki/Python\" hreflang=\"az\" lang=\"az\" title=\"Python – Azerbaijani\">Azərbaycanca</a>,\n",
       " <a class=\"interlanguage-link-target\" href=\"https://bn.wikipedia.org/wiki/%E0%A6%AA%E0%A6%BE%E0%A6%87%E0%A6%A5%E0%A6%A8_(%E0%A6%A6%E0%A7%8D%E0%A6%AC%E0%A7%8D%E0%A6%AF%E0%A6%B0%E0%A7%8D%E0%A6%A5%E0%A6%A4%E0%A6%BE_%E0%A6%A8%E0%A6%BF%E0%A6%B0%E0%A6%B8%E0%A6%A8)\" hreflang=\"bn\" lang=\"bn\" title=\"পাইথন (দ্ব্যর্থতা নিরসন) – Bangla\">বাংলা</a>,\n",
       " <a class=\"interlanguage-link-target\" href=\"https://be.wikipedia.org/wiki/Python\" hreflang=\"be\" lang=\"be\" title=\"Python – Belarusian\">Беларуская</a>,\n",
       " <a class=\"interlanguage-link-target\" href=\"https://bg.wikipedia.org/wiki/%D0%9F%D0%B8%D1%82%D0%BE%D0%BD_(%D0%BF%D0%BE%D1%8F%D1%81%D0%BD%D0%B5%D0%BD%D0%B8%D0%B5)\" hreflang=\"bg\" lang=\"bg\" title=\"Питон (пояснение) – Bulgarian\">Български</a>,\n",
       " <a class=\"interlanguage-link-target\" href=\"https://cs.wikipedia.org/wiki/Python_(rozcestn%C3%ADk)\" hreflang=\"cs\" lang=\"cs\" title=\"Python (rozcestník) – Czech\">Čeština</a>,\n",
       " <a class=\"interlanguage-link-target\" href=\"https://da.wikipedia.org/wiki/Python\" hreflang=\"da\" lang=\"da\" title=\"Python – Danish\">Dansk</a>,\n",
       " <a class=\"interlanguage-link-target\" href=\"https://de.wikipedia.org/wiki/Python\" hreflang=\"de\" lang=\"de\" title=\"Python – German\">Deutsch</a>,\n",
       " <a class=\"interlanguage-link-target\" href=\"https://eo.wikipedia.org/wiki/Pitono_(apartigilo)\" hreflang=\"eo\" lang=\"eo\" title=\"Pitono (apartigilo) – Esperanto\">Esperanto</a>,\n",
       " <a class=\"interlanguage-link-target\" href=\"https://eu.wikipedia.org/wiki/Python_(argipena)\" hreflang=\"eu\" lang=\"eu\" title=\"Python (argipena) – Basque\">Euskara</a>,\n",
       " <a class=\"interlanguage-link-target\" href=\"https://fa.wikipedia.org/wiki/%D9%BE%D8%A7%DB%8C%D8%AA%D9%88%D9%86\" hreflang=\"fa\" lang=\"fa\" title=\"پایتون – Persian\">فارسی</a>,\n",
       " <a class=\"interlanguage-link-target\" href=\"https://fr.wikipedia.org/wiki/Python\" hreflang=\"fr\" lang=\"fr\" title=\"Python – French\">Français</a>,\n",
       " <a class=\"interlanguage-link-target\" href=\"https://ko.wikipedia.org/wiki/%ED%8C%8C%EC%9D%B4%EC%84%A0\" hreflang=\"ko\" lang=\"ko\" title=\"파이선 – Korean\">한국어</a>,\n",
       " <a class=\"interlanguage-link-target\" href=\"https://hr.wikipedia.org/wiki/Python_(razdvojba)\" hreflang=\"hr\" lang=\"hr\" title=\"Python (razdvojba) – Croatian\">Hrvatski</a>,\n",
       " <a class=\"interlanguage-link-target\" href=\"https://io.wikipedia.org/wiki/Pitono\" hreflang=\"io\" lang=\"io\" title=\"Pitono – Ido\">Ido</a>,\n",
       " <a class=\"interlanguage-link-target\" href=\"https://id.wikipedia.org/wiki/Python\" hreflang=\"id\" lang=\"id\" title=\"Python – Indonesian\">Bahasa Indonesia</a>,\n",
       " <a class=\"interlanguage-link-target\" href=\"https://ia.wikipedia.org/wiki/Python_(disambiguation)\" hreflang=\"ia\" lang=\"ia\" title=\"Python (disambiguation) – Interlingua\">Interlingua</a>,\n",
       " <a class=\"interlanguage-link-target\" href=\"https://is.wikipedia.org/wiki/Python_(a%C3%B0greining)\" hreflang=\"is\" lang=\"is\" title=\"Python (aðgreining) – Icelandic\">Íslenska</a>,\n",
       " <a class=\"interlanguage-link-target\" href=\"https://it.wikipedia.org/wiki/Python_(disambigua)\" hreflang=\"it\" lang=\"it\" title=\"Python (disambigua) – Italian\">Italiano</a>,\n",
       " <a class=\"interlanguage-link-target\" href=\"https://he.wikipedia.org/wiki/%D7%A4%D7%99%D7%AA%D7%95%D7%9F\" hreflang=\"he\" lang=\"he\" title=\"פיתון – Hebrew\">עברית</a>,\n",
       " <a class=\"interlanguage-link-target\" href=\"https://ka.wikipedia.org/wiki/%E1%83%9E%E1%83%98%E1%83%97%E1%83%9D%E1%83%9C%E1%83%98_(%E1%83%9B%E1%83%A0%E1%83%90%E1%83%95%E1%83%90%E1%83%9A%E1%83%9B%E1%83%9C%E1%83%98%E1%83%A8%E1%83%95%E1%83%9C%E1%83%94%E1%83%9A%E1%83%9D%E1%83%95%E1%83%90%E1%83%9C%E1%83%98)\" hreflang=\"ka\" lang=\"ka\" title=\"პითონი (მრავალმნიშვნელოვანი) – Georgian\">ქართული</a>,\n",
       " <a class=\"interlanguage-link-target\" href=\"https://kg.wikipedia.org/wiki/Mboma_(nyoka)\" hreflang=\"kg\" lang=\"kg\" title=\"Mboma (nyoka) – Kongo\">Kongo</a>,\n",
       " <a class=\"interlanguage-link-target\" href=\"https://la.wikipedia.org/wiki/Python_(discretiva)\" hreflang=\"la\" lang=\"la\" title=\"Python (discretiva) – Latin\">Latina</a>,\n",
       " <a class=\"interlanguage-link-target\" href=\"https://lb.wikipedia.org/wiki/Python\" hreflang=\"lb\" lang=\"lb\" title=\"Python – Luxembourgish\">Lëtzebuergesch</a>,\n",
       " <a class=\"interlanguage-link-target\" href=\"https://hu.wikipedia.org/wiki/Python_(egy%C3%A9rtelm%C5%B1s%C3%ADt%C5%91_lap)\" hreflang=\"hu\" lang=\"hu\" title=\"Python (egyértelműsítő lap) – Hungarian\">Magyar</a>,\n",
       " <a class=\"interlanguage-link-target\" href=\"https://mr.wikipedia.org/wiki/%E0%A4%AA%E0%A4%BE%E0%A4%AF%E0%A4%A5%E0%A5%89%E0%A4%A8_(%E0%A4%86%E0%A4%9C%E0%A5%8D%E0%A4%9E%E0%A4%BE%E0%A4%B5%E0%A4%B2%E0%A5%80_%E0%A4%AD%E0%A4%BE%E0%A4%B7%E0%A4%BE)\" hreflang=\"mr\" lang=\"mr\" title=\"पायथॉन (आज्ञावली भाषा) – Marathi\">मराठी</a>,\n",
       " <a class=\"interlanguage-link-target\" href=\"https://nl.wikipedia.org/wiki/Python\" hreflang=\"nl\" lang=\"nl\" title=\"Python – Dutch\">Nederlands</a>,\n",
       " <a class=\"interlanguage-link-target\" href=\"https://ja.wikipedia.org/wiki/%E3%83%91%E3%82%A4%E3%82%BD%E3%83%B3\" hreflang=\"ja\" lang=\"ja\" title=\"パイソン – Japanese\">日本語</a>,\n",
       " <a class=\"interlanguage-link-target\" href=\"https://no.wikipedia.org/wiki/Pyton\" hreflang=\"nb\" lang=\"nb\" title=\"Pyton – Norwegian Bokmål\">Norsk bokmål</a>,\n",
       " <a class=\"interlanguage-link-target\" href=\"https://pl.wikipedia.org/wiki/Pyton\" hreflang=\"pl\" lang=\"pl\" title=\"Pyton – Polish\">Polski</a>,\n",
       " <a class=\"interlanguage-link-target\" href=\"https://pt.wikipedia.org/wiki/Python_(desambigua%C3%A7%C3%A3o)\" hreflang=\"pt\" lang=\"pt\" title=\"Python (desambiguação) – Portuguese\">Português</a>,\n",
       " <a class=\"interlanguage-link-target\" href=\"https://ru.wikipedia.org/wiki/Python_(%D0%B7%D0%BD%D0%B0%D1%87%D0%B5%D0%BD%D0%B8%D1%8F)\" hreflang=\"ru\" lang=\"ru\" title=\"Python (значения) – Russian\">Русский</a>,\n",
       " <a class=\"interlanguage-link-target\" href=\"https://sk.wikipedia.org/wiki/Python\" hreflang=\"sk\" lang=\"sk\" title=\"Python – Slovak\">Slovenčina</a>,\n",
       " <a class=\"interlanguage-link-target\" href=\"https://sr.wikipedia.org/wiki/%D0%9F%D0%B8%D1%82%D0%BE%D0%BD_(%D0%B2%D0%B8%D1%88%D0%B5%D0%B7%D0%BD%D0%B0%D1%87%D0%BD%D0%B0_%D0%BE%D0%B4%D1%80%D0%B5%D0%B4%D0%BD%D0%B8%D1%86%D0%B0)\" hreflang=\"sr\" lang=\"sr\" title=\"Питон (вишезначна одредница) – Serbian\">Српски / srpski</a>,\n",
       " <a class=\"interlanguage-link-target\" href=\"https://sh.wikipedia.org/wiki/Python\" hreflang=\"sh\" lang=\"sh\" title=\"Python – Serbo-Croatian\">Srpskohrvatski / српскохрватски</a>,\n",
       " <a class=\"interlanguage-link-target\" href=\"https://fi.wikipedia.org/wiki/Python\" hreflang=\"fi\" lang=\"fi\" title=\"Python – Finnish\">Suomi</a>,\n",
       " <a class=\"interlanguage-link-target\" href=\"https://sv.wikipedia.org/wiki/Pyton\" hreflang=\"sv\" lang=\"sv\" title=\"Pyton – Swedish\">Svenska</a>,\n",
       " <a class=\"interlanguage-link-target\" href=\"https://th.wikipedia.org/wiki/%E0%B9%84%E0%B8%9E%E0%B8%97%E0%B8%AD%E0%B8%99\" hreflang=\"th\" lang=\"th\" title=\"ไพทอน – Thai\">ไทย</a>,\n",
       " <a class=\"interlanguage-link-target\" href=\"https://tr.wikipedia.org/wiki/Python\" hreflang=\"tr\" lang=\"tr\" title=\"Python – Turkish\">Türkçe</a>,\n",
       " <a class=\"interlanguage-link-target\" href=\"https://uk.wikipedia.org/wiki/%D0%9F%D1%96%D1%84%D0%BE%D0%BD\" hreflang=\"uk\" lang=\"uk\" title=\"Піфон – Ukrainian\">Українська</a>,\n",
       " <a class=\"interlanguage-link-target\" href=\"https://ur.wikipedia.org/wiki/%D9%BE%D8%A7%D8%A6%DB%8C%D8%AA%DA%BE%D9%88%D9%86\" hreflang=\"ur\" lang=\"ur\" title=\"پائیتھون – Urdu\">اردو</a>,\n",
       " <a class=\"interlanguage-link-target\" href=\"https://vi.wikipedia.org/wiki/Python\" hreflang=\"vi\" lang=\"vi\" title=\"Python – Vietnamese\">Tiếng Việt</a>,\n",
       " <a class=\"interlanguage-link-target\" href=\"https://zh.wikipedia.org/wiki/Python_(%E6%B6%88%E6%AD%A7%E4%B9%89)\" hreflang=\"zh\" lang=\"zh\" title=\"Python (消歧义) – Chinese\">中文</a>,\n",
       " <a class=\"wbc-editpage\" href=\"https://www.wikidata.org/wiki/Special:EntityPage/Q747452#sitelinks-wikipedia\" title=\"Edit interlanguage links\">Edit links</a>,\n",
       " <a href=\"//en.wikipedia.org/wiki/Wikipedia:Text_of_Creative_Commons_Attribution-ShareAlike_3.0_Unported_License\" rel=\"license\">Creative Commons Attribution-ShareAlike License</a>,\n",
       " <a href=\"//creativecommons.org/licenses/by-sa/3.0/\" rel=\"license\" style=\"display:none;\"></a>,\n",
       " <a href=\"//foundation.wikimedia.org/wiki/Terms_of_Use\">Terms of Use</a>,\n",
       " <a href=\"//foundation.wikimedia.org/wiki/Privacy_policy\">Privacy Policy</a>,\n",
       " <a href=\"//www.wikimediafoundation.org/\">Wikimedia Foundation, Inc.</a>,\n",
       " <a class=\"extiw\" href=\"https://foundation.wikimedia.org/wiki/Privacy_policy\" title=\"wmf:Privacy policy\">Privacy policy</a>,\n",
       " <a href=\"/wiki/Wikipedia:About\" title=\"Wikipedia:About\">About Wikipedia</a>,\n",
       " <a href=\"/wiki/Wikipedia:General_disclaimer\" title=\"Wikipedia:General disclaimer\">Disclaimers</a>,\n",
       " <a href=\"//en.wikipedia.org/wiki/Wikipedia:Contact_us\">Contact Wikipedia</a>,\n",
       " <a class=\"noprint stopMobileRedirectToggle\" href=\"//en.m.wikipedia.org/w/index.php?title=Python&amp;mobileaction=toggle_view_mobile\">Mobile view</a>,\n",
       " <a href=\"https://www.mediawiki.org/wiki/Special:MyLanguage/How_to_contribute\">Developers</a>,\n",
       " <a href=\"https://stats.wikimedia.org/#/en.wikipedia.org\">Statistics</a>,\n",
       " <a href=\"https://foundation.wikimedia.org/wiki/Cookie_statement\">Cookie statement</a>,\n",
       " <a href=\"https://wikimediafoundation.org/\"><img alt=\"Wikimedia Foundation\" height=\"31\" loading=\"lazy\" src=\"/static/images/footer/wikimedia-button.png\" srcset=\"/static/images/footer/wikimedia-button-1.5x.png 1.5x, /static/images/footer/wikimedia-button-2x.png 2x\" width=\"88\"/></a>,\n",
       " <a href=\"https://www.mediawiki.org/\"><img alt=\"Powered by MediaWiki\" height=\"31\" loading=\"lazy\" src=\"/static/images/footer/poweredby_mediawiki_88x31.png\" srcset=\"/static/images/footer/poweredby_mediawiki_132x47.png 1.5x, /static/images/footer/poweredby_mediawiki_176x62.png 2x\" width=\"88\"/></a>]"
      ]
     },
     "metadata": {},
     "execution_count": 7
    }
   ],
   "source": [
    "# We get all \"a\"\n",
    "\n",
    "links = soup.findAll('a')\n",
    "links"
   ]
  },
  {
   "cell_type": "code",
   "execution_count": 8,
   "metadata": {
    "tags": []
   },
   "outputs": [
    {
     "output_type": "stream",
     "name": "stdout",
     "text": [
      "None\n",
      "#mw-head\n",
      "#searchInput\n",
      "https://en.wiktionary.org/wiki/Python\n",
      "https://en.wiktionary.org/wiki/python\n",
      "/wiki/Pythons\n",
      "/wiki/Python_(genus)\n",
      "#Computing\n",
      "#People\n",
      "#Roller_coasters\n",
      "#Vehicles\n",
      "#Weaponry\n",
      "#Other_uses\n",
      "#See_also\n",
      "/w/index.php?title=Python&action=edit&section=1\n",
      "/wiki/Python_(programming_language)\n",
      "/wiki/CMU_Common_Lisp\n",
      "/wiki/PERQ#PERQ_3\n",
      "/w/index.php?title=Python&action=edit&section=2\n",
      "/wiki/Python_of_Aenus\n",
      "/wiki/Python_(painter)\n",
      "/wiki/Python_of_Byzantium\n",
      "/wiki/Python_of_Catana\n",
      "/wiki/Python_Anghelo\n",
      "/w/index.php?title=Python&action=edit&section=3\n",
      "/wiki/Python_(Efteling)\n",
      "/wiki/Python_(Busch_Gardens_Tampa_Bay)\n",
      "/wiki/Python_(Coney_Island,_Cincinnati,_Ohio)\n",
      "/w/index.php?title=Python&action=edit&section=4\n",
      "/wiki/Python_(automobile_maker)\n",
      "/wiki/Python_(Ford_prototype)\n",
      "/w/index.php?title=Python&action=edit&section=5\n",
      "/wiki/Python_(missile)\n",
      "/wiki/Python_(nuclear_primary)\n",
      "/wiki/Colt_Python\n",
      "/w/index.php?title=Python&action=edit&section=6\n",
      "/wiki/PYTHON\n",
      "/wiki/Python_(film)\n",
      "/wiki/Python_(mythology)\n",
      "/wiki/Monty_Python\n",
      "/wiki/Python_(Monty)_Pictures\n",
      "/w/index.php?title=Python&action=edit&section=7\n",
      "/wiki/Cython\n",
      "/wiki/Pyton\n",
      "/wiki/Pithon\n",
      "/wiki/File:Disambig_gray.svg\n",
      "/wiki/Help:Disambiguation\n",
      "https://en.wikipedia.org/w/index.php?title=Special:WhatLinksHere/Python&namespace=0\n",
      "https://en.wikipedia.org/w/index.php?title=Python&oldid=993591990\n",
      "/wiki/Help:Category\n",
      "/wiki/Category:Disambiguation_pages\n",
      "/wiki/Category:Human_name_disambiguation_pages\n",
      "/wiki/Category:Disambiguation_pages_with_given-name-holder_lists\n",
      "/wiki/Category:Disambiguation_pages_with_short_descriptions\n",
      "/wiki/Category:Short_description_is_different_from_Wikidata\n",
      "/wiki/Category:All_article_disambiguation_pages\n",
      "/wiki/Category:All_disambiguation_pages\n",
      "/wiki/Category:Animal_common_name_disambiguation_pages\n",
      "/wiki/Special:MyTalk\n",
      "/wiki/Special:MyContributions\n",
      "/w/index.php?title=Special:CreateAccount&returnto=Python\n",
      "/w/index.php?title=Special:UserLogin&returnto=Python\n",
      "/wiki/Python\n",
      "/wiki/Talk:Python\n",
      "/wiki/Python\n",
      "/w/index.php?title=Python&action=edit\n",
      "/w/index.php?title=Python&action=history\n",
      "/wiki/Main_Page\n",
      "/wiki/Main_Page\n",
      "/wiki/Wikipedia:Contents\n",
      "/wiki/Portal:Current_events\n",
      "/wiki/Special:Random\n",
      "/wiki/Wikipedia:About\n",
      "//en.wikipedia.org/wiki/Wikipedia:Contact_us\n",
      "https://donate.wikimedia.org/wiki/Special:FundraiserRedirector?utm_source=donate&utm_medium=sidebar&utm_campaign=C13_en.wikipedia.org&uselang=en\n",
      "/wiki/Help:Contents\n",
      "/wiki/Help:Introduction\n",
      "/wiki/Wikipedia:Community_portal\n",
      "/wiki/Special:RecentChanges\n",
      "/wiki/Wikipedia:File_Upload_Wizard\n",
      "/wiki/Special:WhatLinksHere/Python\n",
      "/wiki/Special:RecentChangesLinked/Python\n",
      "/wiki/Wikipedia:File_Upload_Wizard\n",
      "/wiki/Special:SpecialPages\n",
      "/w/index.php?title=Python&oldid=993591990\n",
      "/w/index.php?title=Python&action=info\n",
      "/w/index.php?title=Special:CiteThisPage&page=Python&id=993591990&wpFormIdentifier=titleform\n",
      "https://www.wikidata.org/wiki/Special:EntityPage/Q747452\n",
      "/w/index.php?title=Special:DownloadAsPdf&page=Python&action=show-download-screen\n",
      "/w/index.php?title=Python&printable=yes\n",
      "https://commons.wikimedia.org/wiki/Category:Python\n",
      "https://af.wikipedia.org/wiki/Python\n",
      "https://als.wikipedia.org/wiki/Python\n",
      "https://ar.wikipedia.org/wiki/%D8%A8%D8%A7%D9%8A%D8%AB%D9%88%D9%86_(%D8%AA%D9%88%D8%B6%D9%8A%D8%AD)\n",
      "https://az.wikipedia.org/wiki/Python\n",
      "https://bn.wikipedia.org/wiki/%E0%A6%AA%E0%A6%BE%E0%A6%87%E0%A6%A5%E0%A6%A8_(%E0%A6%A6%E0%A7%8D%E0%A6%AC%E0%A7%8D%E0%A6%AF%E0%A6%B0%E0%A7%8D%E0%A6%A5%E0%A6%A4%E0%A6%BE_%E0%A6%A8%E0%A6%BF%E0%A6%B0%E0%A6%B8%E0%A6%A8)\n",
      "https://be.wikipedia.org/wiki/Python\n",
      "https://bg.wikipedia.org/wiki/%D0%9F%D0%B8%D1%82%D0%BE%D0%BD_(%D0%BF%D0%BE%D1%8F%D1%81%D0%BD%D0%B5%D0%BD%D0%B8%D0%B5)\n",
      "https://cs.wikipedia.org/wiki/Python_(rozcestn%C3%ADk)\n",
      "https://da.wikipedia.org/wiki/Python\n",
      "https://de.wikipedia.org/wiki/Python\n",
      "https://eo.wikipedia.org/wiki/Pitono_(apartigilo)\n",
      "https://eu.wikipedia.org/wiki/Python_(argipena)\n",
      "https://fa.wikipedia.org/wiki/%D9%BE%D8%A7%DB%8C%D8%AA%D9%88%D9%86\n",
      "https://fr.wikipedia.org/wiki/Python\n",
      "https://ko.wikipedia.org/wiki/%ED%8C%8C%EC%9D%B4%EC%84%A0\n",
      "https://hr.wikipedia.org/wiki/Python_(razdvojba)\n",
      "https://io.wikipedia.org/wiki/Pitono\n",
      "https://id.wikipedia.org/wiki/Python\n",
      "https://ia.wikipedia.org/wiki/Python_(disambiguation)\n",
      "https://is.wikipedia.org/wiki/Python_(a%C3%B0greining)\n",
      "https://it.wikipedia.org/wiki/Python_(disambigua)\n",
      "https://he.wikipedia.org/wiki/%D7%A4%D7%99%D7%AA%D7%95%D7%9F\n",
      "https://ka.wikipedia.org/wiki/%E1%83%9E%E1%83%98%E1%83%97%E1%83%9D%E1%83%9C%E1%83%98_(%E1%83%9B%E1%83%A0%E1%83%90%E1%83%95%E1%83%90%E1%83%9A%E1%83%9B%E1%83%9C%E1%83%98%E1%83%A8%E1%83%95%E1%83%9C%E1%83%94%E1%83%9A%E1%83%9D%E1%83%95%E1%83%90%E1%83%9C%E1%83%98)\n",
      "https://kg.wikipedia.org/wiki/Mboma_(nyoka)\n",
      "https://la.wikipedia.org/wiki/Python_(discretiva)\n",
      "https://lb.wikipedia.org/wiki/Python\n",
      "https://hu.wikipedia.org/wiki/Python_(egy%C3%A9rtelm%C5%B1s%C3%ADt%C5%91_lap)\n",
      "https://mr.wikipedia.org/wiki/%E0%A4%AA%E0%A4%BE%E0%A4%AF%E0%A4%A5%E0%A5%89%E0%A4%A8_(%E0%A4%86%E0%A4%9C%E0%A5%8D%E0%A4%9E%E0%A4%BE%E0%A4%B5%E0%A4%B2%E0%A5%80_%E0%A4%AD%E0%A4%BE%E0%A4%B7%E0%A4%BE)\n",
      "https://nl.wikipedia.org/wiki/Python\n",
      "https://ja.wikipedia.org/wiki/%E3%83%91%E3%82%A4%E3%82%BD%E3%83%B3\n",
      "https://no.wikipedia.org/wiki/Pyton\n",
      "https://pl.wikipedia.org/wiki/Pyton\n",
      "https://pt.wikipedia.org/wiki/Python_(desambigua%C3%A7%C3%A3o)\n",
      "https://ru.wikipedia.org/wiki/Python_(%D0%B7%D0%BD%D0%B0%D1%87%D0%B5%D0%BD%D0%B8%D1%8F)\n",
      "https://sk.wikipedia.org/wiki/Python\n",
      "https://sr.wikipedia.org/wiki/%D0%9F%D0%B8%D1%82%D0%BE%D0%BD_(%D0%B2%D0%B8%D1%88%D0%B5%D0%B7%D0%BD%D0%B0%D1%87%D0%BD%D0%B0_%D0%BE%D0%B4%D1%80%D0%B5%D0%B4%D0%BD%D0%B8%D1%86%D0%B0)\n",
      "https://sh.wikipedia.org/wiki/Python\n",
      "https://fi.wikipedia.org/wiki/Python\n",
      "https://sv.wikipedia.org/wiki/Pyton\n",
      "https://th.wikipedia.org/wiki/%E0%B9%84%E0%B8%9E%E0%B8%97%E0%B8%AD%E0%B8%99\n",
      "https://tr.wikipedia.org/wiki/Python\n",
      "https://uk.wikipedia.org/wiki/%D0%9F%D1%96%D1%84%D0%BE%D0%BD\n",
      "https://ur.wikipedia.org/wiki/%D9%BE%D8%A7%D8%A6%DB%8C%D8%AA%DA%BE%D9%88%D9%86\n",
      "https://vi.wikipedia.org/wiki/Python\n",
      "https://zh.wikipedia.org/wiki/Python_(%E6%B6%88%E6%AD%A7%E4%B9%89)\n",
      "https://www.wikidata.org/wiki/Special:EntityPage/Q747452#sitelinks-wikipedia\n",
      "//en.wikipedia.org/wiki/Wikipedia:Text_of_Creative_Commons_Attribution-ShareAlike_3.0_Unported_License\n",
      "//creativecommons.org/licenses/by-sa/3.0/\n",
      "//foundation.wikimedia.org/wiki/Terms_of_Use\n",
      "//foundation.wikimedia.org/wiki/Privacy_policy\n",
      "//www.wikimediafoundation.org/\n",
      "https://foundation.wikimedia.org/wiki/Privacy_policy\n",
      "/wiki/Wikipedia:About\n",
      "/wiki/Wikipedia:General_disclaimer\n",
      "//en.wikipedia.org/wiki/Wikipedia:Contact_us\n",
      "//en.m.wikipedia.org/w/index.php?title=Python&mobileaction=toggle_view_mobile\n",
      "https://www.mediawiki.org/wiki/Special:MyLanguage/How_to_contribute\n",
      "https://stats.wikimedia.org/#/en.wikipedia.org\n",
      "https://foundation.wikimedia.org/wiki/Cookie_statement\n",
      "https://wikimediafoundation.org/\n",
      "https://www.mediawiki.org/\n"
     ]
    }
   ],
   "source": [
    "list_of_links = []\n",
    "for link in links:\n",
    "    href = link.get('href')\n",
    "    print(href)"
   ]
  },
  {
   "cell_type": "code",
   "execution_count": 9,
   "metadata": {
    "tags": []
   },
   "outputs": [
    {
     "output_type": "stream",
     "name": "stdout",
     "text": [
      "https://en.wiktionary.org/wiki/Python\nhttps://en.wiktionary.org/wiki/python\nhttps://en.wikipedia.org/w/index.php?title=Special:WhatLinksHere/Python&namespace=0\nhttps://en.wikipedia.org/w/index.php?title=Python&oldid=993591990\nhttps://donate.wikimedia.org/wiki/Special:FundraiserRedirector?utm_source=donate&utm_medium=sidebar&utm_campaign=C13_en.wikipedia.org&uselang=en\nhttps://www.wikidata.org/wiki/Special:EntityPage/Q747452\nhttps://commons.wikimedia.org/wiki/Category:Python\nhttps://af.wikipedia.org/wiki/Python\nhttps://als.wikipedia.org/wiki/Python\nhttps://ar.wikipedia.org/wiki/%D8%A8%D8%A7%D9%8A%D8%AB%D9%88%D9%86_(%D8%AA%D9%88%D8%B6%D9%8A%D8%AD)\nhttps://az.wikipedia.org/wiki/Python\nhttps://bn.wikipedia.org/wiki/%E0%A6%AA%E0%A6%BE%E0%A6%87%E0%A6%A5%E0%A6%A8_(%E0%A6%A6%E0%A7%8D%E0%A6%AC%E0%A7%8D%E0%A6%AF%E0%A6%B0%E0%A7%8D%E0%A6%A5%E0%A6%A4%E0%A6%BE_%E0%A6%A8%E0%A6%BF%E0%A6%B0%E0%A6%B8%E0%A6%A8)\nhttps://be.wikipedia.org/wiki/Python\nhttps://bg.wikipedia.org/wiki/%D0%9F%D0%B8%D1%82%D0%BE%D0%BD_(%D0%BF%D0%BE%D1%8F%D1%81%D0%BD%D0%B5%D0%BD%D0%B8%D0%B5)\nhttps://cs.wikipedia.org/wiki/Python_(rozcestn%C3%ADk)\nhttps://da.wikipedia.org/wiki/Python\nhttps://de.wikipedia.org/wiki/Python\nhttps://eo.wikipedia.org/wiki/Pitono_(apartigilo)\nhttps://eu.wikipedia.org/wiki/Python_(argipena)\nhttps://fa.wikipedia.org/wiki/%D9%BE%D8%A7%DB%8C%D8%AA%D9%88%D9%86\nhttps://fr.wikipedia.org/wiki/Python\nhttps://ko.wikipedia.org/wiki/%ED%8C%8C%EC%9D%B4%EC%84%A0\nhttps://hr.wikipedia.org/wiki/Python_(razdvojba)\nhttps://io.wikipedia.org/wiki/Pitono\nhttps://id.wikipedia.org/wiki/Python\nhttps://ia.wikipedia.org/wiki/Python_(disambiguation)\nhttps://is.wikipedia.org/wiki/Python_(a%C3%B0greining)\nhttps://it.wikipedia.org/wiki/Python_(disambigua)\nhttps://he.wikipedia.org/wiki/%D7%A4%D7%99%D7%AA%D7%95%D7%9F\nhttps://ka.wikipedia.org/wiki/%E1%83%9E%E1%83%98%E1%83%97%E1%83%9D%E1%83%9C%E1%83%98_(%E1%83%9B%E1%83%A0%E1%83%90%E1%83%95%E1%83%90%E1%83%9A%E1%83%9B%E1%83%9C%E1%83%98%E1%83%A8%E1%83%95%E1%83%9C%E1%83%94%E1%83%9A%E1%83%9D%E1%83%95%E1%83%90%E1%83%9C%E1%83%98)\nhttps://kg.wikipedia.org/wiki/Mboma_(nyoka)\nhttps://la.wikipedia.org/wiki/Python_(discretiva)\nhttps://lb.wikipedia.org/wiki/Python\nhttps://hu.wikipedia.org/wiki/Python_(egy%C3%A9rtelm%C5%B1s%C3%ADt%C5%91_lap)\nhttps://mr.wikipedia.org/wiki/%E0%A4%AA%E0%A4%BE%E0%A4%AF%E0%A4%A5%E0%A5%89%E0%A4%A8_(%E0%A4%86%E0%A4%9C%E0%A5%8D%E0%A4%9E%E0%A4%BE%E0%A4%B5%E0%A4%B2%E0%A5%80_%E0%A4%AD%E0%A4%BE%E0%A4%B7%E0%A4%BE)\nhttps://nl.wikipedia.org/wiki/Python\nhttps://ja.wikipedia.org/wiki/%E3%83%91%E3%82%A4%E3%82%BD%E3%83%B3\nhttps://no.wikipedia.org/wiki/Pyton\nhttps://pl.wikipedia.org/wiki/Pyton\nhttps://pt.wikipedia.org/wiki/Python_(desambigua%C3%A7%C3%A3o)\nhttps://ru.wikipedia.org/wiki/Python_(%D0%B7%D0%BD%D0%B0%D1%87%D0%B5%D0%BD%D0%B8%D1%8F)\nhttps://sk.wikipedia.org/wiki/Python\nhttps://sr.wikipedia.org/wiki/%D0%9F%D0%B8%D1%82%D0%BE%D0%BD_(%D0%B2%D0%B8%D1%88%D0%B5%D0%B7%D0%BD%D0%B0%D1%87%D0%BD%D0%B0_%D0%BE%D0%B4%D1%80%D0%B5%D0%B4%D0%BD%D0%B8%D1%86%D0%B0)\nhttps://sh.wikipedia.org/wiki/Python\nhttps://fi.wikipedia.org/wiki/Python\nhttps://sv.wikipedia.org/wiki/Pyton\nhttps://th.wikipedia.org/wiki/%E0%B9%84%E0%B8%9E%E0%B8%97%E0%B8%AD%E0%B8%99\nhttps://tr.wikipedia.org/wiki/Python\nhttps://uk.wikipedia.org/wiki/%D0%9F%D1%96%D1%84%D0%BE%D0%BD\nhttps://ur.wikipedia.org/wiki/%D9%BE%D8%A7%D8%A6%DB%8C%D8%AA%DA%BE%D9%88%D9%86\nhttps://vi.wikipedia.org/wiki/Python\nhttps://zh.wikipedia.org/wiki/Python_(%E6%B6%88%E6%AD%A7%E4%B9%89)\nhttps://www.wikidata.org/wiki/Special:EntityPage/Q747452#sitelinks-wikipedia\nhttps://foundation.wikimedia.org/wiki/Privacy_policy\nhttps://www.mediawiki.org/wiki/Special:MyLanguage/How_to_contribute\nhttps://stats.wikimedia.org/#/en.wikipedia.org\nhttps://foundation.wikimedia.org/wiki/Cookie_statement\nhttps://wikimediafoundation.org/\nhttps://www.mediawiki.org/\n"
     ]
    }
   ],
   "source": [
    "list_of_links = []\n",
    "for link in links:\n",
    "    href = link.get('href')\n",
    "    if href and href[:4] == \"http\":\n",
    "        print(href)\n",
    "        list_of_links.append(href)"
   ]
  },
  {
   "source": [
    "### Top ten criminals\n",
    "\n",
    "#### Get and save images locally"
   ],
   "cell_type": "markdown",
   "metadata": {}
  },
  {
   "cell_type": "code",
   "execution_count": 13,
   "metadata": {},
   "outputs": [
    {
     "output_type": "execute_result",
     "data": {
      "text/plain": [
       "[<img src=\"++theme++fbigov.theme/uswds-2.9.0/img/icon-dot-gov.svg\"/>,\n",
       " <img src=\"++theme++fbigov.theme/uswds-2.9.0/img/icon-https.svg\"/>,\n",
       " <img alt=\"Federal Bureau of Investigation Logo\" src=\"https://www.fbi.gov/++theme++fbigov.theme/images/fbibannerseal.png\" title=\"Federal Bureau of Investigation\"/>,\n",
       " <img alt=\"EUGENE PALMER\" class=\"\" src=\"https://www.fbi.gov/wanted/topten/eugene-palmer/@@images/image/preview\"/>,\n",
       " <img alt=\"RAFAEL CARO-QUINTERO\" class=\"\" src=\"https://www.fbi.gov/wanted/topten/rafael-caro-quintero/@@images/image/preview\"/>,\n",
       " <img alt=\"ROBERT WILLIAM FISHER\" class=\"\" src=\"https://www.fbi.gov/wanted/topten/robert-william-fisher/@@images/image/preview\"/>,\n",
       " <img alt=\"BHADRESHKUMAR CHETANBHAI PATEL\" class=\"\" src=\"https://www.fbi.gov/wanted/topten/bhadreshkumar-chetanbhai-patel/@@images/image/preview\"/>,\n",
       " <img alt=\"ALEJANDRO ROSALES CASTILLO\" class=\"\" src=\"https://www.fbi.gov/wanted/topten/alejandro-castillo/@@images/image/preview\"/>,\n",
       " <img alt=\"ARNOLDO JIMENEZ\" class=\"\" src=\"https://www.fbi.gov/wanted/topten/arnoldo-jimenez/@@images/image/preview\"/>,\n",
       " <img alt=\"JASON DEREK BROWN\" class=\"\" src=\"https://www.fbi.gov/wanted/topten/jason-derek-brown/@@images/image/preview\"/>,\n",
       " <img alt=\"ALEXIS FLORES\" class=\"\" src=\"https://www.fbi.gov/wanted/topten/alexis-flores/@@images/image/preview\"/>,\n",
       " <img alt=\"JOSE RODOLFO VILLARREAL-HERNANDEZ\" class=\"\" src=\"https://www.fbi.gov/wanted/topten/jose-rodolfo-villarreal-hernandez/@@images/image/preview\"/>,\n",
       " <img alt=\"YASER ABDEL SAID\" class=\"\" src=\"https://www.fbi.gov/wanted/topten/yaser-abdel-said/@@images/image/preview\"/>]"
      ]
     },
     "metadata": {},
     "execution_count": 13
    }
   ],
   "source": [
    "# List of images\n",
    "url = 'https://www.fbi.gov/wanted/topten'\n",
    "\n",
    "imgs = []\n",
    "\n",
    "res= requests.get(url)\n",
    "html=res.text\n",
    "soup = BeautifulSoup(html, \"html.parser\")\n",
    "# select ~= findAll\n",
    "fbi = soup.select('img')\n",
    "fbi"
   ]
  },
  {
   "cell_type": "code",
   "execution_count": 12,
   "metadata": {},
   "outputs": [
    {
     "output_type": "execute_result",
     "data": {
      "text/plain": [
       "['++theme++fbigov.theme/uswds-2.9.0/img/icon-dot-gov.svg',\n",
       " '++theme++fbigov.theme/uswds-2.9.0/img/icon-https.svg',\n",
       " 'https://www.fbi.gov/++theme++fbigov.theme/images/fbibannerseal.png',\n",
       " 'https://www.fbi.gov/wanted/topten/eugene-palmer/@@images/image/preview',\n",
       " 'https://www.fbi.gov/wanted/topten/rafael-caro-quintero/@@images/image/preview',\n",
       " 'https://www.fbi.gov/wanted/topten/robert-william-fisher/@@images/image/preview',\n",
       " 'https://www.fbi.gov/wanted/topten/bhadreshkumar-chetanbhai-patel/@@images/image/preview',\n",
       " 'https://www.fbi.gov/wanted/topten/alejandro-castillo/@@images/image/preview',\n",
       " 'https://www.fbi.gov/wanted/topten/arnoldo-jimenez/@@images/image/preview',\n",
       " 'https://www.fbi.gov/wanted/topten/jason-derek-brown/@@images/image/preview',\n",
       " 'https://www.fbi.gov/wanted/topten/alexis-flores/@@images/image/preview',\n",
       " 'https://www.fbi.gov/wanted/topten/jose-rodolfo-villarreal-hernandez/@@images/image/preview',\n",
       " 'https://www.fbi.gov/wanted/topten/yaser-abdel-said/@@images/image/preview']"
      ]
     },
     "metadata": {},
     "execution_count": 12
    }
   ],
   "source": [
    "for x in fbi:\n",
    "    imgs.append(x.get(\"src\"))\n",
    "imgs"
   ]
  },
  {
   "cell_type": "markdown",
   "metadata": {},
   "source": [
    "### Little bonus\n"
   ]
  },
  {
   "cell_type": "code",
   "execution_count": 22,
   "metadata": {
    "tags": []
   },
   "outputs": [],
   "source": [
    "for i, img_url in enumerate(imgs):\n",
    "    if not \"+\" in img_url:  # or http in img_url\n",
    "        response = requests.get(img_url)\n",
    "        if response.status_code == 200:  # Get OK\n",
    "            with open(str(i) + \".png\", 'wb') as f:\n",
    "                print('hola')\n",
    "                f.write(response.content)"
   ]
  },
  {
   "cell_type": "code",
   "execution_count": null,
   "metadata": {},
   "outputs": [],
   "source": []
  }
 ],
 "metadata": {
  "language_info": {
   "codemirror_mode": {
    "name": "ipython",
    "version": 3
   },
   "file_extension": ".py",
   "mimetype": "text/x-python",
   "name": "python",
   "nbconvert_exporter": "python",
   "pygments_lexer": "ipython3",
   "version": "3.9.0-final"
  },
  "orig_nbformat": 2,
  "kernelspec": {
   "name": "python3",
   "display_name": "Python 3.9.0 64-bit",
   "metadata": {
    "interpreter": {
     "hash": "7812ea015bdcee6f23a998adcdd2ef97c151c0c241b7b7070987d9313e41299d"
    }
   }
  }
 },
 "nbformat": 4,
 "nbformat_minor": 2
}