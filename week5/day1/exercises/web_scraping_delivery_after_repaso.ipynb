{
 "metadata": {
  "language_info": {
   "codemirror_mode": {
    "name": "ipython",
    "version": 3
   },
   "file_extension": ".py",
   "mimetype": "text/x-python",
   "name": "python",
   "nbconvert_exporter": "python",
   "pygments_lexer": "ipython3",
   "version": "3.9.0-final"
  },
  "orig_nbformat": 2,
  "kernelspec": {
   "name": "python3",
   "display_name": "Python 3.9.0 64-bit",
   "metadata": {
    "interpreter": {
     "hash": "7812ea015bdcee6f23a998adcdd2ef97c151c0c241b7b7070987d9313e41299d"
    }
   }
  }
 },
 "nbformat": 4,
 "nbformat_minor": 2,
 "cells": [
  {
   "cell_type": "markdown",
   "metadata": {},
   "source": [
    "### 1. From HTML\n",
    "\n",
    "*Using only beautiful soap, no regex*\n",
    "\n",
    "Save in a dataframe the next information using web scraping. Each row of the dataframe must have in different columns:\n",
    "\n",
    "- The name of the title\n",
    "- The id of the div where is the value scraped. If there is not id, then the value is must be numpy.nan\n",
    "- The name of the tag where is the value scraped.\n",
    "- The next scraped values in different rows: \n",
    "    - The value: \"Este es el segundo párrafo\"  --> Row 1\n",
    "    - The url https://pagina1.xyz/ --> Row 2\n",
    "    - The url https://pagina4.xyz/ --> Row 3\n",
    "    - The url https://pagina5.xyz/ --> Row 4\n",
    "    - The value \"links footer-links\" --> Row 5\n",
    "    - The value \"Este párrafo está en el footer\" --> Row 6"
   ]
  },
  {
   "cell_type": "code",
   "execution_count": 4,
   "metadata": {},
   "outputs": [],
   "source": [
    "html = \"\"\"<html lang=\"es\">\n",
    "<head>\n",
    "    <meta charset=\"UTF-8\">\n",
    "    <title>Página de prueba</title>\n",
    "</head>\n",
    "<body>\n",
    "<div id=\"main\" class=\"full-width\">\n",
    "    <h1>El título de la página</h1>\n",
    "    <p>Este es el primer párrafo</p>\n",
    "    <p>Este es el segundo párrafo</p>\n",
    "    <div id=\"innerDiv\">\n",
    "        <div class=\"links\">\n",
    "            <a href=\"https://pagina1.xyz/\">Enlace 1</a>\n",
    "            <a href=\"https://pagina2.xyz/\">Enlace 2</a>\n",
    "        </div>\n",
    "        <div class=\"right\">\n",
    "            <div class=\"links\">\n",
    "                <a href=\"https://pagina3.xyz/\">Enlace 3</a>\n",
    "                <a href=\"https://pagina4.xyz/\">Enlace 4</a>\n",
    "            </div>\n",
    "        </div>\n",
    "    </div>\n",
    "    <div id=\"footer\">\n",
    "        <!-- El footer -->\n",
    "        <p>Este párrafo está en el footer</p>\n",
    "        <div class=\"links footer-links\">\n",
    "            <a href=\"https://pagina5.xyz/\">Enlace 5</a>\n",
    "        </div>\n",
    "    </div>\n",
    "</div>\n",
    "</body>\n",
    "</html>\"\"\""
   ]
  },
  {
   "cell_type": "code",
   "execution_count": 2,
   "metadata": {},
   "outputs": [],
   "source": [
    "import pandas as pd \n",
    "import requests\n",
    "from bs4 import BeautifulSoup"
   ]
  },
  {
   "cell_type": "code",
   "execution_count": 5,
   "metadata": {},
   "outputs": [
    {
     "output_type": "execute_result",
     "data": {
      "text/plain": [
       "<html lang=\"es\">\n",
       "<head>\n",
       "<meta charset=\"utf-8\"/>\n",
       "<title>Página de prueba</title>\n",
       "</head>\n",
       "<body>\n",
       "<div class=\"full-width\" id=\"main\">\n",
       "<h1>El título de la página</h1>\n",
       "<p>Este es el primer párrafo</p>\n",
       "<p>Este es el segundo párrafo</p>\n",
       "<div id=\"innerDiv\">\n",
       "<div class=\"links\">\n",
       "<a href=\"https://pagina1.xyz/\">Enlace 1</a>\n",
       "<a href=\"https://pagina2.xyz/\">Enlace 2</a>\n",
       "</div>\n",
       "<div class=\"right\">\n",
       "<div class=\"links\">\n",
       "<a href=\"https://pagina3.xyz/\">Enlace 3</a>\n",
       "<a href=\"https://pagina4.xyz/\">Enlace 4</a>\n",
       "</div>\n",
       "</div>\n",
       "</div>\n",
       "<div id=\"footer\">\n",
       "<!-- El footer -->\n",
       "<p>Este párrafo está en el footer</p>\n",
       "<div class=\"links footer-links\">\n",
       "<a href=\"https://pagina5.xyz/\">Enlace 5</a>\n",
       "</div>\n",
       "</div>\n",
       "</div>\n",
       "</body>\n",
       "</html>"
      ]
     },
     "metadata": {},
     "execution_count": 5
    }
   ],
   "source": [
    "soup = BeautifulSoup(html, 'html.parser')\n",
    "soup"
   ]
  },
  {
   "cell_type": "code",
   "execution_count": null,
   "metadata": {},
   "outputs": [],
   "source": []
  },
  {
   "cell_type": "code",
   "execution_count": 11,
   "metadata": {},
   "outputs": [],
   "source": [
    "#Hay que obtener todos los elementos por separado para después trabajar como se desea en un DataFrame\n",
    "\n",
    "# 1º Los links:\n",
    "\n",
    "lista_enlaces = soup.find_all('a')\n",
    "\n",
    "links = [link.get('href') for link in lista_enlaces]\n",
    "links\n",
    "\n",
    "link_1 = links[0]\n",
    "link_4 = links[3]\n",
    "link_5 = links[-1]\n",
    "\n",
    "# 2º El título\n",
    "\n",
    "tit_pag = soup.h1.string\n",
    "\n",
    "titulo = [tit_pag for i in range(6)]\n",
    "\n",
    "# 3º Los ids\n",
    "\n",
    "web_id = [etiqueta.get('id') for etiqueta in soup.find_all('div')]\n",
    "_id_final = [web_id[0], web_id[1], web_id[1], web_id[1], web_id[-2], web_id[-2]]\n",
    "\n",
    "\n",
    "# 4º Los párrafos y el párrafo del footer\n",
    "parrafos = [parrafo.string for parrafo in soup.find_all('p')]\n",
    "parrafo_footer = parrafos[-1]"
   ]
  },
  {
   "cell_type": "code",
   "execution_count": 14,
   "metadata": {},
   "outputs": [
    {
     "output_type": "execute_result",
     "data": {
      "text/plain": [
       "[<div id=\"footer\">\n",
       " <!-- El footer -->\n",
       " <p>Este párrafo está en el footer</p>\n",
       " <div class=\"links footer-links\">\n",
       " <a href=\"https://pagina5.xyz/\">Enlace 5</a>\n",
       " </div>\n",
       " </div>]"
      ]
     },
     "metadata": {},
     "execution_count": 14
    }
   ],
   "source": [
    "soup.find_all(id='footer')"
   ]
  },
  {
   "cell_type": "code",
   "execution_count": 15,
   "metadata": {},
   "outputs": [
    {
     "output_type": "execute_result",
     "data": {
      "text/plain": [
       "['main', 'innerDiv', None, None, None, 'footer', None]"
      ]
     },
     "metadata": {},
     "execution_count": 15
    }
   ],
   "source": [
    "web_id"
   ]
  },
  {
   "cell_type": "code",
   "execution_count": 94,
   "metadata": {},
   "outputs": [],
   "source": [
    "#Ahora creo que diccionario al que iré añadiendo las keys\n",
    "diccionario ={}\n",
    "\n",
    "diccionario['Title'] = titulo\n",
    "diccionario['div id'] = _id_final\n",
    "diccionario['tag name'] = ['p', 'a', 'a', 'a', 'div', 'p'] \n",
    "diccionario['Scraped Value'] = [seugndo_parrafo, link_1, link_4, link_5, footer_links, parrafo_footer]"
   ]
  },
  {
   "cell_type": "code",
   "execution_count": 101,
   "metadata": {},
   "outputs": [
    {
     "output_type": "execute_result",
     "data": {
      "text/plain": [
       "['main', 'innerDiv', 'innerDiv', 'innerDiv', 'footer', 'footer']"
      ]
     },
     "metadata": {},
     "execution_count": 101
    }
   ],
   "source": [
    "_id_final"
   ]
  },
  {
   "cell_type": "code",
   "execution_count": 96,
   "metadata": {},
   "outputs": [],
   "source": [
    "df_diccionario = pd.DataFrame(diccionario)"
   ]
  },
  {
   "cell_type": "code",
   "execution_count": 102,
   "metadata": {},
   "outputs": [
    {
     "output_type": "execute_result",
     "data": {
      "text/plain": [
       "                          div id tag name                   Scraped Value\n",
       "Title                                                                    \n",
       "El título de la página      main        p      Este es el segundo párrafo\n",
       "El título de la página  innerDiv        a            https://pagina1.xyz/\n",
       "El título de la página  innerDiv        a            https://pagina4.xyz/\n",
       "El título de la página  innerDiv        a            https://pagina5.xyz/\n",
       "El título de la página    footer      div           [links, footer-links]\n",
       "El título de la página    footer        p  Este párrafo está en el footer"
      ],
      "text/html": "<div>\n<style scoped>\n    .dataframe tbody tr th:only-of-type {\n        vertical-align: middle;\n    }\n\n    .dataframe tbody tr th {\n        vertical-align: top;\n    }\n\n    .dataframe thead th {\n        text-align: right;\n    }\n</style>\n<table border=\"1\" class=\"dataframe\">\n  <thead>\n    <tr style=\"text-align: right;\">\n      <th></th>\n      <th>div id</th>\n      <th>tag name</th>\n      <th>Scraped Value</th>\n    </tr>\n    <tr>\n      <th>Title</th>\n      <th></th>\n      <th></th>\n      <th></th>\n    </tr>\n  </thead>\n  <tbody>\n    <tr>\n      <th>El título de la página</th>\n      <td>main</td>\n      <td>p</td>\n      <td>Este es el segundo párrafo</td>\n    </tr>\n    <tr>\n      <th>El título de la página</th>\n      <td>innerDiv</td>\n      <td>a</td>\n      <td>https://pagina1.xyz/</td>\n    </tr>\n    <tr>\n      <th>El título de la página</th>\n      <td>innerDiv</td>\n      <td>a</td>\n      <td>https://pagina4.xyz/</td>\n    </tr>\n    <tr>\n      <th>El título de la página</th>\n      <td>innerDiv</td>\n      <td>a</td>\n      <td>https://pagina5.xyz/</td>\n    </tr>\n    <tr>\n      <th>El título de la página</th>\n      <td>footer</td>\n      <td>div</td>\n      <td>[links, footer-links]</td>\n    </tr>\n    <tr>\n      <th>El título de la página</th>\n      <td>footer</td>\n      <td>p</td>\n      <td>Este párrafo está en el footer</td>\n    </tr>\n  </tbody>\n</table>\n</div>"
     },
     "metadata": {},
     "execution_count": 102
    }
   ],
   "source": [
    "df_diccionario = pd.DataFrame(diccionario)\n",
    "df_diccionario.set_index('Title')"
   ]
  },
  {
   "cell_type": "code",
   "execution_count": 103,
   "metadata": {},
   "outputs": [
    {
     "output_type": "execute_result",
     "data": {
      "text/plain": [
       "                    Title    div id tag name                   Scraped Value\n",
       "0  El título de la página      main        p      Este es el segundo párrafo\n",
       "1  El título de la página  innerDiv        a            https://pagina1.xyz/\n",
       "2  El título de la página  innerDiv        a            https://pagina4.xyz/\n",
       "3  El título de la página  innerDiv        a            https://pagina5.xyz/\n",
       "4  El título de la página    footer      div           [links, footer-links]\n",
       "5  El título de la página    footer        p  Este párrafo está en el footer"
      ],
      "text/html": "<div>\n<style scoped>\n    .dataframe tbody tr th:only-of-type {\n        vertical-align: middle;\n    }\n\n    .dataframe tbody tr th {\n        vertical-align: top;\n    }\n\n    .dataframe thead th {\n        text-align: right;\n    }\n</style>\n<table border=\"1\" class=\"dataframe\">\n  <thead>\n    <tr style=\"text-align: right;\">\n      <th></th>\n      <th>Title</th>\n      <th>div id</th>\n      <th>tag name</th>\n      <th>Scraped Value</th>\n    </tr>\n  </thead>\n  <tbody>\n    <tr>\n      <th>0</th>\n      <td>El título de la página</td>\n      <td>main</td>\n      <td>p</td>\n      <td>Este es el segundo párrafo</td>\n    </tr>\n    <tr>\n      <th>1</th>\n      <td>El título de la página</td>\n      <td>innerDiv</td>\n      <td>a</td>\n      <td>https://pagina1.xyz/</td>\n    </tr>\n    <tr>\n      <th>2</th>\n      <td>El título de la página</td>\n      <td>innerDiv</td>\n      <td>a</td>\n      <td>https://pagina4.xyz/</td>\n    </tr>\n    <tr>\n      <th>3</th>\n      <td>El título de la página</td>\n      <td>innerDiv</td>\n      <td>a</td>\n      <td>https://pagina5.xyz/</td>\n    </tr>\n    <tr>\n      <th>4</th>\n      <td>El título de la página</td>\n      <td>footer</td>\n      <td>div</td>\n      <td>[links, footer-links]</td>\n    </tr>\n    <tr>\n      <th>5</th>\n      <td>El título de la página</td>\n      <td>footer</td>\n      <td>p</td>\n      <td>Este párrafo está en el footer</td>\n    </tr>\n  </tbody>\n</table>\n</div>"
     },
     "metadata": {},
     "execution_count": 103
    }
   ],
   "source": [
    "df_diccionario #Sin el set index"
   ]
  },
  {
   "cell_type": "markdown",
   "metadata": {},
   "source": [
    "### 2. From Amazon\n",
    "\n",
    "*Using  beautiful soap  (regex optional)*\n",
    "\n",
    "Save in a dataframe the next information using web scraping. Using product pages from Amazon, do the following: \n",
    "\n",
    "- Get the product name from the web and save it in a column called \"item_name\"\n",
    "- Get the price from the web and save it in a column called \"item_price\"\n",
    "\n",
    "While you are doing the exercise, document the steps you are doing. Try to do the program for generic pages. If you cannot do it generic, explain the reasons. \n",
    "\n",
    "*We recommend to get the source-code, save it in a local file and work from there. It is possible that Amazon detects that you are using webscraping and it changes the source code to avoid possibles attacks.*\n",
    "\n",
    "-------------------------------\n",
    "\n",
    "**Example:** \n",
    "\n",
    "url = https://www.amazon.es/Tommy-Hilfiger-UM0UM00054-Camiseta-Hombre/dp/B01MYD0T1F/ref=sr_1_1?dchild=1&pf_rd_p=58224bec-cac9-4dd2-a42a-61b1db609c2d&pf_rd_r=VZQ1JTQXFVRZ9E9VSKX4&qid=1595364419&s=apparel&sr=1-1\n",
    "\n",
    "*item_name* --> \"Tommy Hilfiger Logo Camiseta de Cuello Redondo,Perfecta para El Tiempo Libre para Hombre\"\n",
    "\n",
    "*item_price* --> [[18,99 € - 46,59 €]] or one of the options.\n",
    "\n",
    "\n"
   ]
  },
  {
   "cell_type": "code",
   "execution_count": null,
   "metadata": {},
   "outputs": [],
   "source": []
  }
 ]
}