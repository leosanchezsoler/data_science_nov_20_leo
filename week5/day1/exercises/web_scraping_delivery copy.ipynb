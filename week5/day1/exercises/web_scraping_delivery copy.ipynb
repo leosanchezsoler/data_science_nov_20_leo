{
 "metadata": {
  "language_info": {
   "codemirror_mode": {
    "name": "ipython",
    "version": 3
   },
   "file_extension": ".py",
   "mimetype": "text/x-python",
   "name": "python",
   "nbconvert_exporter": "python",
   "pygments_lexer": "ipython3",
   "version": "3.9.0-final"
  },
  "orig_nbformat": 2,
  "kernelspec": {
   "name": "python3",
   "display_name": "Python 3.9.0 64-bit",
   "metadata": {
    "interpreter": {
     "hash": "7812ea015bdcee6f23a998adcdd2ef97c151c0c241b7b7070987d9313e41299d"
    }
   }
  }
 },
 "nbformat": 4,
 "nbformat_minor": 2,
 "cells": [
  {
   "cell_type": "markdown",
   "metadata": {},
   "source": [
    "### 1. From HTML\n",
    "\n",
    "*Using only beautiful soup, no regex*\n",
    "\n",
    "Save in a dataframe the next information using web scraping. Each row of the dataframe must have in different columns:\n",
    "\n",
    "- The name of the title\n",
    "- The id of the div where is the value scraped. If there is not id, then the value is must be numpy.nan\n",
    "- The name of the tag where is the value scraped.\n",
    "- The next scraped values in different rows: \n",
    "    - The value: \"Este es el segundo párrafo\"  --> Row 1\n",
    "    - The url https://pagina1.xyz/ --> Row 2\n",
    "    - The url https://pagina4.xyz/ --> Row 3\n",
    "    - The url https://pagina5.xyz/ --> Row 4\n",
    "    - The value \"links footer-links\" --> Row 5\n",
    "    - The value \"Este párrafo está en el footer\" --> Row 6"
   ]
  },
  {
   "cell_type": "code",
   "execution_count": 2,
   "metadata": {},
   "outputs": [],
   "source": [
    "html = \"\"\"<html lang=\"es\">\n",
    "<head>\n",
    "    <meta charset=\"UTF-8\">\n",
    "    <title>Página de prueba</title>\n",
    "</head>\n",
    "<body>\n",
    "<div id=\"main\" class=\"full-width\">\n",
    "    <h1>El título de la página</h1>\n",
    "    <p>Este es el primer párrafo</p>\n",
    "    <p>Este es el segundo párrafo</p>\n",
    "    <div id=\"innerDiv\">\n",
    "        <div class=\"links\">\n",
    "            <a href=\"https://pagina1.xyz/\">Enlace 1</a>\n",
    "            <a href=\"https://pagina2.xyz/\">Enlace 2</a>\n",
    "        </div>\n",
    "        <div class=\"right\">\n",
    "            <div class=\"links\">\n",
    "                <a href=\"https://pagina3.xyz/\">Enlace 3</a>\n",
    "                <a href=\"https://pagina4.xyz/\">Enlace 4</a>\n",
    "            </div>\n",
    "        </div>\n",
    "    </div>\n",
    "    <div id=\"footer\">\n",
    "        <!-- El footer -->\n",
    "        <p>Este párrafo está en el footer</p>\n",
    "        <div class=\"links footer-links\">\n",
    "            <a href=\"https://pagina5.xyz/\">Enlace 5</a>\n",
    "        </div>\n",
    "    </div>\n",
    "</div>\n",
    "</body>\n",
    "</html>\"\"\""
   ]
  },
  {
   "cell_type": "code",
   "execution_count": 1,
   "metadata": {},
   "outputs": [],
   "source": [
    "#Primero importo las librerías necesarias\n",
    "\n",
    "import pandas as pd \n",
    "import requests \n",
    "from bs4 import BeautifulSoup"
   ]
  },
  {
   "cell_type": "code",
   "execution_count": 212,
   "metadata": {},
   "outputs": [],
   "source": [
    "def show_html(html_str):\n",
    "    print(BeautifulSoup(str(html_str), 'html.parser').prettify())\n",
    "\n",
    "def get_page_contents(url):\n",
    "    page = requests.get(url, headers={\"Accept-Language\": \"en-US\"})\n",
    "    return BeautifulSoup(page.text, \"html.parser\")"
   ]
  },
  {
   "cell_type": "code",
   "execution_count": 225,
   "metadata": {},
   "outputs": [
    {
     "output_type": "stream",
     "name": "stdout",
     "text": [
      "<html lang=\"es\">\n <head>\n  <meta charset=\"utf-8\"/>\n  <title>\n   Página de prueba\n  </title>\n </head>\n <body>\n  <div class=\"full-width\" id=\"main\">\n   <h1>\n    El título de la página\n   </h1>\n   <p>\n    Este es el primer párrafo\n   </p>\n   <p>\n    Este es el segundo párrafo\n   </p>\n   <div id=\"innerDiv\">\n    <div class=\"links\">\n     <a href=\"https://pagina1.xyz/\">\n      Enlace 1\n     </a>\n     <a href=\"https://pagina2.xyz/\">\n      Enlace 2\n     </a>\n    </div>\n    <div class=\"right\">\n     <div class=\"links\">\n      <a href=\"https://pagina3.xyz/\">\n       Enlace 3\n      </a>\n      <a href=\"https://pagina4.xyz/\">\n       Enlace 4\n      </a>\n     </div>\n    </div>\n   </div>\n   <div id=\"footer\">\n    <!-- El footer -->\n    <p>\n     Este párrafo está en el footer\n    </p>\n    <div class=\"links footer-links\">\n     <a href=\"https://pagina5.xyz/\">\n      Enlace 5\n     </a>\n    </div>\n   </div>\n  </div>\n </body>\n</html>\n"
     ]
    }
   ],
   "source": [
    "soup = show_html(html)\n",
    "soup"
   ]
  },
  {
   "cell_type": "code",
   "execution_count": 227,
   "metadata": {},
   "outputs": [
    {
     "output_type": "error",
     "ename": "AttributeError",
     "evalue": "'NoneType' object has no attribute 'div'",
     "traceback": [
      "\u001b[0;31m---------------------------------------------------------------------------\u001b[0m",
      "\u001b[0;31mAttributeError\u001b[0m                            Traceback (most recent call last)",
      "\u001b[0;32m<ipython-input-227-ae9b7c4ece91>\u001b[0m in \u001b[0;36m<module>\u001b[0;34m\u001b[0m\n\u001b[0;32m----> 1\u001b[0;31m \u001b[0msoup\u001b[0m\u001b[0;34m.\u001b[0m\u001b[0mdiv\u001b[0m\u001b[0;34m\u001b[0m\u001b[0;34m\u001b[0m\u001b[0m\n\u001b[0m",
      "\u001b[0;31mAttributeError\u001b[0m: 'NoneType' object has no attribute 'div'"
     ]
    }
   ],
   "source": []
  },
  {
   "cell_type": "code",
   "execution_count": null,
   "metadata": {},
   "outputs": [],
   "source": []
  },
  {
   "cell_type": "code",
   "execution_count": null,
   "metadata": {},
   "outputs": [],
   "source": []
  },
  {
   "cell_type": "code",
   "execution_count": null,
   "metadata": {},
   "outputs": [],
   "source": []
  },
  {
   "cell_type": "code",
   "execution_count": null,
   "metadata": {},
   "outputs": [],
   "source": []
  },
  {
   "cell_type": "code",
   "execution_count": 44,
   "metadata": {},
   "outputs": [],
   "source": [
    "diccionario = {'Title': soup.Title, 'div id': 'Id del div', 'Tag Name': 'Nombre del tag', 'Scraped Values': 'Enlace o texto'}\n",
    "\n",
    "x = pd.DataFrame(diccionario, index=[0]) #Así es como deben mostrarse los valores"
   ]
  },
  {
   "cell_type": "code",
   "execution_count": null,
   "metadata": {},
   "outputs": [],
   "source": [
    "#Primero voy a coger el título"
   ]
  },
  {
   "cell_type": "code",
   "execution_count": 62,
   "metadata": {},
   "outputs": [
    {
     "output_type": "error",
     "ename": "KeyError",
     "evalue": "'id'",
     "traceback": [
      "\u001b[0;31m---------------------------------------------------------------------------\u001b[0m",
      "\u001b[0;31mKeyError\u001b[0m                                  Traceback (most recent call last)",
      "\u001b[0;32m<ipython-input-62-6b9c02064af9>\u001b[0m in \u001b[0;36m<module>\u001b[0;34m\u001b[0m\n\u001b[0;32m----> 1\u001b[0;31m \u001b[0msoup\u001b[0m\u001b[0;34m[\u001b[0m\u001b[0;34m'id'\u001b[0m\u001b[0;34m]\u001b[0m\u001b[0;34m\u001b[0m\u001b[0;34m\u001b[0m\u001b[0m\n\u001b[0m",
      "\u001b[0;32m/Library/Frameworks/Python.framework/Versions/3.9/lib/python3.9/site-packages/bs4/element.py\u001b[0m in \u001b[0;36m__getitem__\u001b[0;34m(self, key)\u001b[0m\n\u001b[1;32m   1404\u001b[0m         \"\"\"tag[key] returns the value of the 'key' attribute for the Tag,\n\u001b[1;32m   1405\u001b[0m         and throws an exception if it's not there.\"\"\"\n\u001b[0;32m-> 1406\u001b[0;31m         \u001b[0;32mreturn\u001b[0m \u001b[0mself\u001b[0m\u001b[0;34m.\u001b[0m\u001b[0mattrs\u001b[0m\u001b[0;34m[\u001b[0m\u001b[0mkey\u001b[0m\u001b[0;34m]\u001b[0m\u001b[0;34m\u001b[0m\u001b[0;34m\u001b[0m\u001b[0m\n\u001b[0m\u001b[1;32m   1407\u001b[0m \u001b[0;34m\u001b[0m\u001b[0m\n\u001b[1;32m   1408\u001b[0m     \u001b[0;32mdef\u001b[0m \u001b[0m__iter__\u001b[0m\u001b[0;34m(\u001b[0m\u001b[0mself\u001b[0m\u001b[0;34m)\u001b[0m\u001b[0;34m:\u001b[0m\u001b[0;34m\u001b[0m\u001b[0;34m\u001b[0m\u001b[0m\n",
      "\u001b[0;31mKeyError\u001b[0m: 'id'"
     ]
    }
   ],
   "source": []
  },
  {
   "cell_type": "code",
   "execution_count": 23,
   "metadata": {},
   "outputs": [
    {
     "output_type": "execute_result",
     "data": {
      "text/plain": [
       "[<a href=\"https://pagina1.xyz/\">Enlace 1</a>,\n",
       " <a href=\"https://pagina2.xyz/\">Enlace 2</a>,\n",
       " <a href=\"https://pagina3.xyz/\">Enlace 3</a>,\n",
       " <a href=\"https://pagina4.xyz/\">Enlace 4</a>,\n",
       " <a href=\"https://pagina5.xyz/\">Enlace 5</a>]"
      ]
     },
     "metadata": {},
     "execution_count": 23
    }
   ],
   "source": [
    "lista_enlaces = soup.find_all('a')\n",
    "lista_enlaces"
   ]
  },
  {
   "cell_type": "code",
   "execution_count": 25,
   "metadata": {},
   "outputs": [
    {
     "output_type": "execute_result",
     "data": {
      "text/plain": [
       "['https://pagina1.xyz/',\n",
       " 'https://pagina2.xyz/',\n",
       " 'https://pagina3.xyz/',\n",
       " 'https://pagina4.xyz/',\n",
       " 'https://pagina5.xyz/']"
      ]
     },
     "metadata": {},
     "execution_count": 25
    }
   ],
   "source": [
    "links = []\n",
    "for posicion, enlace in enumerate(lista_enlaces):\n",
    "    if posicion == 0:\n",
    "        dictio\n",
    "    link = enlace.get('href')\n",
    "    links.append(link)\n",
    "\n",
    "links #Aquí ya tengo la lista de links"
   ]
  },
  {
   "cell_type": "code",
   "execution_count": 28,
   "metadata": {},
   "outputs": [
    {
     "output_type": "execute_result",
     "data": {
      "text/plain": [
       "'Página de prueba'"
      ]
     },
     "metadata": {},
     "execution_count": 28
    }
   ],
   "source": [
    "title = soup.title.string\n",
    "title"
   ]
  },
  {
   "cell_type": "code",
   "execution_count": 73,
   "metadata": {},
   "outputs": [
    {
     "output_type": "execute_result",
     "data": {
      "text/plain": [
       "[<div class=\"full-width\" id=\"main\">\n",
       " <h1>El título de la página</h1>\n",
       " <p>Este es el primer párrafo</p>\n",
       " <p>Este es el segundo párrafo</p>\n",
       " <div id=\"innerDiv\">\n",
       " <div class=\"links\">\n",
       " <a href=\"https://pagina1.xyz/\">Enlace 1</a>\n",
       " <a href=\"https://pagina2.xyz/\">Enlace 2</a>\n",
       " </div>\n",
       " <div class=\"right\">\n",
       " <div class=\"links\">\n",
       " <a href=\"https://pagina3.xyz/\">Enlace 3</a>\n",
       " <a href=\"https://pagina4.xyz/\">Enlace 4</a>\n",
       " </div>\n",
       " </div>\n",
       " </div>\n",
       " <div id=\"footer\">\n",
       " <!-- El footer -->\n",
       " <p>Este párrafo está en el footer</p>\n",
       " <div class=\"links footer-links\">\n",
       " <a href=\"https://pagina5.xyz/\">Enlace 5</a>\n",
       " </div>\n",
       " </div>\n",
       " </div>]"
      ]
     },
     "metadata": {},
     "execution_count": 73
    }
   ],
   "source": []
  },
  {
   "cell_type": "code",
   "execution_count": 83,
   "metadata": {},
   "outputs": [
    {
     "output_type": "execute_result",
     "data": {
      "text/plain": [
       "'Este es el primer párrafo'"
      ]
     },
     "metadata": {},
     "execution_count": 83
    }
   ],
   "source": [
    "lista_parrafos = soup.find('p').string\n",
    "lista_parrafos"
   ]
  },
  {
   "cell_type": "code",
   "execution_count": 60,
   "metadata": {},
   "outputs": [
    {
     "output_type": "execute_result",
     "data": {
      "text/plain": [
       "{'id': 'main', 'class': ['full-width']}"
      ]
     },
     "metadata": {},
     "execution_count": 60
    }
   ],
   "source": [
    "soup.div.attrs"
   ]
  },
  {
   "cell_type": "code",
   "execution_count": 56,
   "metadata": {},
   "outputs": [],
   "source": [
    "soup.get('footer')"
   ]
  },
  {
   "cell_type": "code",
   "execution_count": 45,
   "metadata": {},
   "outputs": [
    {
     "output_type": "execute_result",
     "data": {
      "text/plain": [
       "  Title      div id        Tag Name  Scraped Values\n",
       "0  None  Id del div  Nombre del tag  Enlace o texto"
      ],
      "text/html": "<div>\n<style scoped>\n    .dataframe tbody tr th:only-of-type {\n        vertical-align: middle;\n    }\n\n    .dataframe tbody tr th {\n        vertical-align: top;\n    }\n\n    .dataframe thead th {\n        text-align: right;\n    }\n</style>\n<table border=\"1\" class=\"dataframe\">\n  <thead>\n    <tr style=\"text-align: right;\">\n      <th></th>\n      <th>Title</th>\n      <th>div id</th>\n      <th>Tag Name</th>\n      <th>Scraped Values</th>\n    </tr>\n  </thead>\n  <tbody>\n    <tr>\n      <th>0</th>\n      <td>None</td>\n      <td>Id del div</td>\n      <td>Nombre del tag</td>\n      <td>Enlace o texto</td>\n    </tr>\n  </tbody>\n</table>\n</div>"
     },
     "metadata": {},
     "execution_count": 45
    }
   ],
   "source": [
    "x"
   ]
  },
  {
   "cell_type": "code",
   "execution_count": 41,
   "metadata": {},
   "outputs": [
    {
     "output_type": "execute_result",
     "data": {
      "text/plain": [
       "[0, 1, 2, 3, 4, 5]"
      ]
     },
     "metadata": {},
     "execution_count": 41
    }
   ],
   "source": [
    "lista = list(range(0,6))"
   ]
  },
  {
   "cell_type": "code",
   "execution_count": 46,
   "metadata": {},
   "outputs": [
    {
     "output_type": "execute_result",
     "data": {
      "text/plain": [
       "<title>Página de prueba</title>"
      ]
     },
     "metadata": {},
     "execution_count": 46
    }
   ],
   "source": []
  },
  {
   "cell_type": "code",
   "execution_count": 63,
   "metadata": {},
   "outputs": [
    {
     "output_type": "execute_result",
     "data": {
      "text/plain": [
       "{'Title': None,\n",
       " 'div id': 'Id del div',\n",
       " 'Tag Name': 'Nombre del tag',\n",
       " 'Scraped Values': 'Enlace o texto'}"
      ]
     },
     "metadata": {},
     "execution_count": 63
    }
   ],
   "source": [
    "diccionario"
   ]
  },
  {
   "cell_type": "code",
   "execution_count": 87,
   "metadata": {},
   "outputs": [
    {
     "output_type": "execute_result",
     "data": {
      "text/plain": [
       "'main'"
      ]
     },
     "metadata": {},
     "execution_count": 87
    }
   ],
   "source": [
    "soup.div['id']"
   ]
  },
  {
   "cell_type": "code",
   "execution_count": 179,
   "metadata": {},
   "outputs": [
    {
     "output_type": "error",
     "ename": "SyntaxError",
     "evalue": "invalid syntax (<ipython-input-179-dd45e944638c>, line 24)",
     "traceback": [
      "\u001b[0;36m  File \u001b[0;32m\"<ipython-input-179-dd45e944638c>\"\u001b[0;36m, line \u001b[0;32m24\u001b[0m\n\u001b[0;31m    if posicion == 4:\u001b[0m\n\u001b[0m                    ^\u001b[0m\n\u001b[0;31mSyntaxError\u001b[0m\u001b[0;31m:\u001b[0m invalid syntax\n"
     ]
    }
   ],
   "source": [
    "dictionary={}\n",
    "dictionary['div id'] = []\n",
    "dictionary['tag name']= []\n",
    "dictionary['scraped values'] = []\n",
    "\n",
    "for posicion, valor in enumerate(lista):\n",
    "    dictionary['Title'] = soup.title.string\n",
    "    if posicion == 0:\n",
    "        dictionary['div id'].append(soup.div['id'])\n",
    "        dictionary['tag name'].append(str(soup.find('p'))[2])\n",
    "        dictionary['scraped values'].append(soup.find_all('p')[1].string)\n",
    "    if posicion == 1:\n",
    "        dictionary['div id'].append(soup.div.div['id'])\n",
    "        dictionary['tag name'].append(str(soup.find('a'))[1])\n",
    "        dictionary['scraped values'].append(links[0])\n",
    "    if posicion == 2:\n",
    "        dictionary['div id'].append(soup.div.div['id'])\n",
    "        dictionary['tag name'].append(str(soup.find('a'))[1])\n",
    "        dictionary['scraped values'].append(links[3])\n",
    "    if posicion == 3:\n",
    "        dictionary['div id'].append(soup.div.div['id'])\n",
    "        dictionary['tag name'].append((str(soup.find('a'))[1])\n",
    "        dictionary['scraped values'].append(links[-1])\n",
    "    if posicion == 4:\n",
    "        dictionary['div id'].append(soup.find(id='footer').contents[5])\n",
    "        dictionary['tag name'].append('div')\n",
    "        dictionary['scraped values'].append(soup.find(id='footer').contents[5])\n",
    "    if posicion == 5:\n",
    "        dictionary['div id'].append(soup.find(id='footer')['id'])\n",
    "        dictionary['tag name'].append(soup.find_all('p')[1].string)\n",
    "        dictionary['scraped values'].append(soup.find(id='footer').p.string)"
   ]
  },
  {
   "cell_type": "code",
   "execution_count": 183,
   "metadata": {},
   "outputs": [
    {
     "output_type": "error",
     "ename": "SyntaxError",
     "evalue": "invalid syntax (<ipython-input-183-dd45e944638c>, line 24)",
     "traceback": [
      "\u001b[0;36m  File \u001b[0;32m\"<ipython-input-183-dd45e944638c>\"\u001b[0;36m, line \u001b[0;32m24\u001b[0m\n\u001b[0;31m    if posicion == 4:\u001b[0m\n\u001b[0m                    ^\u001b[0m\n\u001b[0;31mSyntaxError\u001b[0m\u001b[0;31m:\u001b[0m invalid syntax\n"
     ]
    }
   ],
   "source": [
    "dictionary={}\n",
    "dictionary['div id'] = []\n",
    "dictionary['tag name']= []\n",
    "dictionary['scraped values'] = []\n",
    "\n",
    "for posicion, valor in enumerate(lista):\n",
    "    dictionary['Title'] = soup.title.string\n",
    "    if posicion == 0:\n",
    "        dictionary['div id'].append(soup.div['id'])\n",
    "        dictionary['tag name'].append(str(soup.find('p'))[2])\n",
    "        dictionary['scraped values'].append(soup.find_all('p')[1].string)\n",
    "    if posicion == 1:\n",
    "        dictionary['div id'].append(soup.div.div['id'])\n",
    "        dictionary['tag name'].append(str(soup.find('a'))[1])\n",
    "        dictionary['scraped values'].append(links[0])\n",
    "    if posicion == 2:\n",
    "        dictionary['div id'].append(soup.div.div['id'])\n",
    "        dictionary['tag name'].append(str(soup.find('a'))[1])\n",
    "        dictionary['scraped values'].append(links[3])\n",
    "    if posicion == 3:\n",
    "        dictionary['div id'].append(soup.div.div['id'])\n",
    "        dictionary['tag name'].append((str(soup.find('a'))[1])\n",
    "        \n",
    "    if posicion == 4:\n",
    "        dictionary['div id'].append(soup.find(id='footer').contents[5])\n",
    "        dictionary['tag name'].append('div')\n",
    "        dictionary['scraped values'].append(soup.find(id='footer').contents[5])\n",
    "    if posicion == 5:\n",
    "        dictionary['div id'].append(soup.find(id='footer')['id'])\n",
    "        dictionary['tag name'].append(soup.find_all('p')[1].string)\n",
    "        dictionary['scraped values'].append(soup.find(id='footer').p.string)"
   ]
  },
  {
   "cell_type": "code",
   "execution_count": 189,
   "metadata": {},
   "outputs": [
    {
     "output_type": "execute_result",
     "data": {
      "text/plain": [
       "['\\n',\n",
       " <h1>El título de la página</h1>,\n",
       " '\\n',\n",
       " <p>Este es el primer párrafo</p>,\n",
       " '\\n',\n",
       " <p>Este es el segundo párrafo</p>,\n",
       " '\\n',\n",
       " <div id=\"innerDiv\">\n",
       " <div class=\"links\">\n",
       " <a href=\"https://pagina1.xyz/\">Enlace 1</a>\n",
       " <a href=\"https://pagina2.xyz/\">Enlace 2</a>\n",
       " </div>\n",
       " <div class=\"right\">\n",
       " <div class=\"links\">\n",
       " <a href=\"https://pagina3.xyz/\">Enlace 3</a>\n",
       " <a href=\"https://pagina4.xyz/\">Enlace 4</a>\n",
       " </div>\n",
       " </div>\n",
       " </div>,\n",
       " '\\n',\n",
       " <div id=\"footer\">\n",
       " <!-- El footer -->\n",
       " <p>Este párrafo está en el footer</p>\n",
       " <div class=\"links footer-links\">\n",
       " <a href=\"https://pagina5.xyz/\">Enlace 5</a>\n",
       " </div>\n",
       " </div>,\n",
       " '\\n']"
      ]
     },
     "metadata": {},
     "execution_count": 189
    }
   ],
   "source": [
    "list(soup.div)"
   ]
  },
  {
   "cell_type": "code",
   "execution_count": 191,
   "metadata": {},
   "outputs": [
    {
     "output_type": "execute_result",
     "data": {
      "text/plain": [
       "[<p>Este es el primer párrafo</p>,\n",
       " <p>Este es el segundo párrafo</p>,\n",
       " <p>Este párrafo está en el footer</p>]"
      ]
     },
     "metadata": {},
     "execution_count": 191
    }
   ],
   "source": [
    "soup.find_all('p')"
   ]
  },
  {
   "cell_type": "code",
   "execution_count": 193,
   "metadata": {},
   "outputs": [
    {
     "output_type": "execute_result",
     "data": {
      "text/plain": [
       "<p>Este párrafo está en el footer</p>"
      ]
     },
     "metadata": {},
     "execution_count": 193
    }
   ],
   "source": [
    "soup.find(id='footer').p"
   ]
  },
  {
   "cell_type": "code",
   "execution_count": 195,
   "metadata": {},
   "outputs": [
    {
     "output_type": "execute_result",
     "data": {
      "text/plain": [
       "'https://pagina1.xyz/'"
      ]
     },
     "metadata": {},
     "execution_count": 195
    }
   ],
   "source": [
    "soup.find('a').get('href')"
   ]
  },
  {
   "cell_type": "code",
   "execution_count": 201,
   "metadata": {},
   "outputs": [
    {
     "output_type": "execute_result",
     "data": {
      "text/plain": [
       "'https://pagina1.xyz/'"
      ]
     },
     "metadata": {},
     "execution_count": 201
    }
   ],
   "source": [
    "\n",
    "soup.find('a').get('href')"
   ]
  },
  {
   "cell_type": "code",
   "execution_count": 208,
   "metadata": {},
   "outputs": [],
   "source": [
    "if soup.find(id='InnerDiv'):\n",
    "    print(soup.find('a').get('href'))"
   ]
  },
  {
   "cell_type": "code",
   "execution_count": 166,
   "metadata": {},
   "outputs": [
    {
     "output_type": "execute_result",
     "data": {
      "text/plain": [
       "<div class=\"links footer-links\">\n",
       "<a href=\"https://pagina5.xyz/\">Enlace 5</a>\n",
       "</div>"
      ]
     },
     "metadata": {},
     "execution_count": 166
    }
   ],
   "source": [
    "soup.find(id='footer').contents[5]"
   ]
  },
  {
   "cell_type": "code",
   "execution_count": 158,
   "metadata": {},
   "outputs": [
    {
     "output_type": "execute_result",
     "data": {
      "text/plain": [
       "<div class=\"links footer-links\">\n",
       "<a href=\"https://pagina5.xyz/\">Enlace 5</a>\n",
       "</div>"
      ]
     },
     "metadata": {},
     "execution_count": 158
    }
   ],
   "source": [
    "soup.find(id='footer').contents[5]"
   ]
  },
  {
   "cell_type": "code",
   "execution_count": 147,
   "metadata": {},
   "outputs": [
    {
     "output_type": "execute_result",
     "data": {
      "text/plain": [
       "<div class=\"links footer-links\">\n",
       "<a href=\"https://pagina5.xyz/\">Enlace 5</a>\n",
       "</div>"
      ]
     },
     "metadata": {},
     "execution_count": 147
    }
   ],
   "source": [
    "list(soup.find('div').find(id='footer'))[5]"
   ]
  },
  {
   "cell_type": "code",
   "execution_count": 131,
   "metadata": {},
   "outputs": [
    {
     "output_type": "execute_result",
     "data": {
      "text/plain": [
       "['\\n',\n",
       " ' El footer ',\n",
       " '\\n',\n",
       " <p>Este párrafo está en el footer</p>,\n",
       " '\\n',\n",
       " <div class=\"links footer-links\">\n",
       " <a href=\"https://pagina5.xyz/\">Enlace 5</a>\n",
       " </div>,\n",
       " '\\n']"
      ]
     },
     "metadata": {},
     "execution_count": 131
    }
   ],
   "source": []
  },
  {
   "cell_type": "code",
   "execution_count": 122,
   "metadata": {},
   "outputs": [],
   "source": [
    "diccionario = {'Title': soup.Title, 'div id': 'Id del div', 'Tag Name': 'Nombre del tag', 'Scraped Values': 'Enlace o texto'}"
   ]
  },
  {
   "cell_type": "code",
   "execution_count": null,
   "metadata": {},
   "outputs": [],
   "source": []
  },
  {
   "cell_type": "markdown",
   "metadata": {},
   "source": [
    "### 2. From Amazon\n",
    "\n",
    "*Using  beautiful soap  (regex optional)*\n",
    "\n",
    "Save in a dataframe the next information using web scraping. Using product pages from Amazon, do the following: \n",
    "\n",
    "- Get the product name from the web and save it in a column called \"item_name\"\n",
    "- Get the price from the web and save it in a column called \"item_price\"\n",
    "\n",
    "While you are doing the exercise, document the steps you are doing. Try to do the program for generic pages. If you cannot do it generic, explain the reasons. \n",
    "\n",
    "*We recommend to get the source-code, save it in a local file and work from there. It is possible that Amazon detects that you are using webscraping and it changes the source code to avoid possibles attacks.*\n",
    "\n",
    "-------------------------------\n",
    "\n",
    "**Example:** \n",
    "\n",
    "url = https://www.amazon.es/Tommy-Hilfiger-UM0UM00054-Camiseta-Hombre/dp/B01MYD0T1F/ref=sr_1_1?dchild=1&pf_rd_p=58224bec-cac9-4dd2-a42a-61b1db609c2d&pf_rd_r=VZQ1JTQXFVRZ9E9VSKX4&qid=1595364419&s=apparel&sr=1-1\n",
    "\n",
    "*item_name* --> \"Tommy Hilfiger Logo Camiseta de Cuello Redondo,Perfecta para El Tiempo Libre para Hombre\"\n",
    "\n",
    "*item_price* --> [[18,99 € - 46,59 €]] or one of the options.\n",
    "\n",
    "\n"
   ]
  },
  {
   "cell_type": "code",
   "execution_count": null,
   "metadata": {},
   "outputs": [],
   "source": []
  }
 ]
}