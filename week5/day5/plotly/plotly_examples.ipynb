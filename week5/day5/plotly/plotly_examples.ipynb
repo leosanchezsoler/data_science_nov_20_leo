{
 "metadata": {
  "language_info": {
   "codemirror_mode": {
    "name": "ipython",
    "version": 3
   },
   "file_extension": ".py",
   "mimetype": "text/x-python",
   "name": "python",
   "nbconvert_exporter": "python",
   "pygments_lexer": "ipython3",
   "version": "3.9.0-final"
  },
  "orig_nbformat": 2,
  "kernelspec": {
   "name": "python3",
   "display_name": "Python 3.9.0 64-bit",
   "metadata": {
    "interpreter": {
     "hash": "7812ea015bdcee6f23a998adcdd2ef97c151c0c241b7b7070987d9313e41299d"
    }
   }
  }
 },
 "nbformat": 4,
 "nbformat_minor": 2,
 "cells": [
  {
   "cell_type": "code",
   "execution_count": 1,
   "metadata": {},
   "outputs": [
    {
     "output_type": "execute_result",
     "data": {
      "text/plain": [
       "        School  Women  Men  Gap\n",
       "0          MIT     94  152   58\n",
       "1     Stanford     96  151   55\n",
       "2      Harvard    112  165   53\n",
       "3       U.Penn     92  141   49\n",
       "4    Princeton     90  137   47\n",
       "5      Chicago     78  118   40\n",
       "6   Georgetown     94  131   37\n",
       "7        Tufts     76  112   36\n",
       "8         Yale     79  114   35\n",
       "9     Columbia     86  119   33\n",
       "10        Duke     93  124   31\n",
       "11   Dartmouth     84  114   30\n",
       "12         NYU     67   94   27\n",
       "13  Notre Dame     73  100   27\n",
       "14     Cornell     80  107   27\n",
       "15    Michigan     62   84   22\n",
       "16       Brown     72   92   20\n",
       "17    Berkeley     71   88   17\n",
       "18       Emory     68   82   14\n",
       "19        UCLA     64   78   14\n",
       "20       SoCal     72   81    9"
      ],
      "text/html": "<div>\n<style scoped>\n    .dataframe tbody tr th:only-of-type {\n        vertical-align: middle;\n    }\n\n    .dataframe tbody tr th {\n        vertical-align: top;\n    }\n\n    .dataframe thead th {\n        text-align: right;\n    }\n</style>\n<table border=\"1\" class=\"dataframe\">\n  <thead>\n    <tr style=\"text-align: right;\">\n      <th></th>\n      <th>School</th>\n      <th>Women</th>\n      <th>Men</th>\n      <th>Gap</th>\n    </tr>\n  </thead>\n  <tbody>\n    <tr>\n      <th>0</th>\n      <td>MIT</td>\n      <td>94</td>\n      <td>152</td>\n      <td>58</td>\n    </tr>\n    <tr>\n      <th>1</th>\n      <td>Stanford</td>\n      <td>96</td>\n      <td>151</td>\n      <td>55</td>\n    </tr>\n    <tr>\n      <th>2</th>\n      <td>Harvard</td>\n      <td>112</td>\n      <td>165</td>\n      <td>53</td>\n    </tr>\n    <tr>\n      <th>3</th>\n      <td>U.Penn</td>\n      <td>92</td>\n      <td>141</td>\n      <td>49</td>\n    </tr>\n    <tr>\n      <th>4</th>\n      <td>Princeton</td>\n      <td>90</td>\n      <td>137</td>\n      <td>47</td>\n    </tr>\n    <tr>\n      <th>5</th>\n      <td>Chicago</td>\n      <td>78</td>\n      <td>118</td>\n      <td>40</td>\n    </tr>\n    <tr>\n      <th>6</th>\n      <td>Georgetown</td>\n      <td>94</td>\n      <td>131</td>\n      <td>37</td>\n    </tr>\n    <tr>\n      <th>7</th>\n      <td>Tufts</td>\n      <td>76</td>\n      <td>112</td>\n      <td>36</td>\n    </tr>\n    <tr>\n      <th>8</th>\n      <td>Yale</td>\n      <td>79</td>\n      <td>114</td>\n      <td>35</td>\n    </tr>\n    <tr>\n      <th>9</th>\n      <td>Columbia</td>\n      <td>86</td>\n      <td>119</td>\n      <td>33</td>\n    </tr>\n    <tr>\n      <th>10</th>\n      <td>Duke</td>\n      <td>93</td>\n      <td>124</td>\n      <td>31</td>\n    </tr>\n    <tr>\n      <th>11</th>\n      <td>Dartmouth</td>\n      <td>84</td>\n      <td>114</td>\n      <td>30</td>\n    </tr>\n    <tr>\n      <th>12</th>\n      <td>NYU</td>\n      <td>67</td>\n      <td>94</td>\n      <td>27</td>\n    </tr>\n    <tr>\n      <th>13</th>\n      <td>Notre Dame</td>\n      <td>73</td>\n      <td>100</td>\n      <td>27</td>\n    </tr>\n    <tr>\n      <th>14</th>\n      <td>Cornell</td>\n      <td>80</td>\n      <td>107</td>\n      <td>27</td>\n    </tr>\n    <tr>\n      <th>15</th>\n      <td>Michigan</td>\n      <td>62</td>\n      <td>84</td>\n      <td>22</td>\n    </tr>\n    <tr>\n      <th>16</th>\n      <td>Brown</td>\n      <td>72</td>\n      <td>92</td>\n      <td>20</td>\n    </tr>\n    <tr>\n      <th>17</th>\n      <td>Berkeley</td>\n      <td>71</td>\n      <td>88</td>\n      <td>17</td>\n    </tr>\n    <tr>\n      <th>18</th>\n      <td>Emory</td>\n      <td>68</td>\n      <td>82</td>\n      <td>14</td>\n    </tr>\n    <tr>\n      <th>19</th>\n      <td>UCLA</td>\n      <td>64</td>\n      <td>78</td>\n      <td>14</td>\n    </tr>\n    <tr>\n      <th>20</th>\n      <td>SoCal</td>\n      <td>72</td>\n      <td>81</td>\n      <td>9</td>\n    </tr>\n  </tbody>\n</table>\n</div>"
     },
     "metadata": {},
     "execution_count": 1
    }
   ],
   "source": [
    "# pip3 install plotly\n",
    "# pip3 install psutil\n",
    "\n",
    "import pandas as pd\n",
    "import numpy as np \n",
    "import psutil\n",
    "\n",
    "import plotly.io as pio\n",
    "from plotly.offline import init_notebook_mode, iplot, plot\n",
    "from plotly.graph_objs import Scatter, Box\n",
    "import plotly.graph_objects as go\n",
    "\n",
    "df = pd.read_csv(\"https://raw.githubusercontent.com/plotly/datasets/master/school_earnings.csv\")\n",
    "df"
   ]
  },
  {
   "cell_type": "code",
   "execution_count": 2,
   "metadata": {},
   "outputs": [
    {
     "output_type": "display_data",
     "data": {
      "text/html": "        <script type=\"text/javascript\">\n        window.PlotlyConfig = {MathJaxConfig: 'local'};\n        if (window.MathJax) {MathJax.Hub.Config({SVG: {font: \"STIX-Web\"}});}\n        if (typeof require !== 'undefined') {\n        require.undef(\"plotly\");\n        requirejs.config({\n            paths: {\n                'plotly': ['https://cdn.plot.ly/plotly-latest.min']\n            }\n        });\n        require(['plotly'], function(Plotly) {\n            window._Plotly = Plotly;\n        });\n        }\n        </script>\n        "
     },
     "metadata": {}
    },
    {
     "output_type": "display_data",
     "data": {
      "application/vnd.plotly.v1+json": {
       "config": {
        "linkText": "Export to plot.ly",
        "plotlyServerURL": "https://plot.ly",
        "showLink": false
       },
       "data": [
        {
         "type": "scatter",
         "x": [
          58,
          55,
          53,
          49,
          47,
          40,
          37,
          36,
          35,
          33,
          31,
          30,
          27,
          27,
          27,
          22,
          20,
          17,
          14,
          14,
          9
         ],
         "y": [
          152,
          151,
          165,
          141,
          137,
          118,
          131,
          112,
          114,
          119,
          124,
          114,
          94,
          100,
          107,
          84,
          92,
          88,
          82,
          78,
          81
         ]
        },
        {
         "type": "scatter",
         "x": [
          58,
          55,
          53,
          49,
          47,
          40,
          37,
          36,
          35,
          33,
          31,
          30,
          27,
          27,
          27,
          22,
          20,
          17,
          14,
          14,
          9
         ],
         "y": [
          94,
          96,
          112,
          92,
          90,
          78,
          94,
          76,
          79,
          86,
          93,
          84,
          67,
          73,
          80,
          62,
          72,
          71,
          68,
          64,
          72
         ]
        }
       ],
       "layout": {
        "template": {
         "data": {
          "bar": [
           {
            "error_x": {
             "color": "#2a3f5f"
            },
            "error_y": {
             "color": "#2a3f5f"
            },
            "marker": {
             "line": {
              "color": "#E5ECF6",
              "width": 0.5
             }
            },
            "type": "bar"
           }
          ],
          "barpolar": [
           {
            "marker": {
             "line": {
              "color": "#E5ECF6",
              "width": 0.5
             }
            },
            "type": "barpolar"
           }
          ],
          "carpet": [
           {
            "aaxis": {
             "endlinecolor": "#2a3f5f",
             "gridcolor": "white",
             "linecolor": "white",
             "minorgridcolor": "white",
             "startlinecolor": "#2a3f5f"
            },
            "baxis": {
             "endlinecolor": "#2a3f5f",
             "gridcolor": "white",
             "linecolor": "white",
             "minorgridcolor": "white",
             "startlinecolor": "#2a3f5f"
            },
            "type": "carpet"
           }
          ],
          "choropleth": [
           {
            "colorbar": {
             "outlinewidth": 0,
             "ticks": ""
            },
            "type": "choropleth"
           }
          ],
          "contour": [
           {
            "colorbar": {
             "outlinewidth": 0,
             "ticks": ""
            },
            "colorscale": [
             [
              0,
              "#0d0887"
             ],
             [
              0.1111111111111111,
              "#46039f"
             ],
             [
              0.2222222222222222,
              "#7201a8"
             ],
             [
              0.3333333333333333,
              "#9c179e"
             ],
             [
              0.4444444444444444,
              "#bd3786"
             ],
             [
              0.5555555555555556,
              "#d8576b"
             ],
             [
              0.6666666666666666,
              "#ed7953"
             ],
             [
              0.7777777777777778,
              "#fb9f3a"
             ],
             [
              0.8888888888888888,
              "#fdca26"
             ],
             [
              1,
              "#f0f921"
             ]
            ],
            "type": "contour"
           }
          ],
          "contourcarpet": [
           {
            "colorbar": {
             "outlinewidth": 0,
             "ticks": ""
            },
            "type": "contourcarpet"
           }
          ],
          "heatmap": [
           {
            "colorbar": {
             "outlinewidth": 0,
             "ticks": ""
            },
            "colorscale": [
             [
              0,
              "#0d0887"
             ],
             [
              0.1111111111111111,
              "#46039f"
             ],
             [
              0.2222222222222222,
              "#7201a8"
             ],
             [
              0.3333333333333333,
              "#9c179e"
             ],
             [
              0.4444444444444444,
              "#bd3786"
             ],
             [
              0.5555555555555556,
              "#d8576b"
             ],
             [
              0.6666666666666666,
              "#ed7953"
             ],
             [
              0.7777777777777778,
              "#fb9f3a"
             ],
             [
              0.8888888888888888,
              "#fdca26"
             ],
             [
              1,
              "#f0f921"
             ]
            ],
            "type": "heatmap"
           }
          ],
          "heatmapgl": [
           {
            "colorbar": {
             "outlinewidth": 0,
             "ticks": ""
            },
            "colorscale": [
             [
              0,
              "#0d0887"
             ],
             [
              0.1111111111111111,
              "#46039f"
             ],
             [
              0.2222222222222222,
              "#7201a8"
             ],
             [
              0.3333333333333333,
              "#9c179e"
             ],
             [
              0.4444444444444444,
              "#bd3786"
             ],
             [
              0.5555555555555556,
              "#d8576b"
             ],
             [
              0.6666666666666666,
              "#ed7953"
             ],
             [
              0.7777777777777778,
              "#fb9f3a"
             ],
             [
              0.8888888888888888,
              "#fdca26"
             ],
             [
              1,
              "#f0f921"
             ]
            ],
            "type": "heatmapgl"
           }
          ],
          "histogram": [
           {
            "marker": {
             "colorbar": {
              "outlinewidth": 0,
              "ticks": ""
             }
            },
            "type": "histogram"
           }
          ],
          "histogram2d": [
           {
            "colorbar": {
             "outlinewidth": 0,
             "ticks": ""
            },
            "colorscale": [
             [
              0,
              "#0d0887"
             ],
             [
              0.1111111111111111,
              "#46039f"
             ],
             [
              0.2222222222222222,
              "#7201a8"
             ],
             [
              0.3333333333333333,
              "#9c179e"
             ],
             [
              0.4444444444444444,
              "#bd3786"
             ],
             [
              0.5555555555555556,
              "#d8576b"
             ],
             [
              0.6666666666666666,
              "#ed7953"
             ],
             [
              0.7777777777777778,
              "#fb9f3a"
             ],
             [
              0.8888888888888888,
              "#fdca26"
             ],
             [
              1,
              "#f0f921"
             ]
            ],
            "type": "histogram2d"
           }
          ],
          "histogram2dcontour": [
           {
            "colorbar": {
             "outlinewidth": 0,
             "ticks": ""
            },
            "colorscale": [
             [
              0,
              "#0d0887"
             ],
             [
              0.1111111111111111,
              "#46039f"
             ],
             [
              0.2222222222222222,
              "#7201a8"
             ],
             [
              0.3333333333333333,
              "#9c179e"
             ],
             [
              0.4444444444444444,
              "#bd3786"
             ],
             [
              0.5555555555555556,
              "#d8576b"
             ],
             [
              0.6666666666666666,
              "#ed7953"
             ],
             [
              0.7777777777777778,
              "#fb9f3a"
             ],
             [
              0.8888888888888888,
              "#fdca26"
             ],
             [
              1,
              "#f0f921"
             ]
            ],
            "type": "histogram2dcontour"
           }
          ],
          "mesh3d": [
           {
            "colorbar": {
             "outlinewidth": 0,
             "ticks": ""
            },
            "type": "mesh3d"
           }
          ],
          "parcoords": [
           {
            "line": {
             "colorbar": {
              "outlinewidth": 0,
              "ticks": ""
             }
            },
            "type": "parcoords"
           }
          ],
          "pie": [
           {
            "automargin": true,
            "type": "pie"
           }
          ],
          "scatter": [
           {
            "marker": {
             "colorbar": {
              "outlinewidth": 0,
              "ticks": ""
             }
            },
            "type": "scatter"
           }
          ],
          "scatter3d": [
           {
            "line": {
             "colorbar": {
              "outlinewidth": 0,
              "ticks": ""
             }
            },
            "marker": {
             "colorbar": {
              "outlinewidth": 0,
              "ticks": ""
             }
            },
            "type": "scatter3d"
           }
          ],
          "scattercarpet": [
           {
            "marker": {
             "colorbar": {
              "outlinewidth": 0,
              "ticks": ""
             }
            },
            "type": "scattercarpet"
           }
          ],
          "scattergeo": [
           {
            "marker": {
             "colorbar": {
              "outlinewidth": 0,
              "ticks": ""
             }
            },
            "type": "scattergeo"
           }
          ],
          "scattergl": [
           {
            "marker": {
             "colorbar": {
              "outlinewidth": 0,
              "ticks": ""
             }
            },
            "type": "scattergl"
           }
          ],
          "scattermapbox": [
           {
            "marker": {
             "colorbar": {
              "outlinewidth": 0,
              "ticks": ""
             }
            },
            "type": "scattermapbox"
           }
          ],
          "scatterpolar": [
           {
            "marker": {
             "colorbar": {
              "outlinewidth": 0,
              "ticks": ""
             }
            },
            "type": "scatterpolar"
           }
          ],
          "scatterpolargl": [
           {
            "marker": {
             "colorbar": {
              "outlinewidth": 0,
              "ticks": ""
             }
            },
            "type": "scatterpolargl"
           }
          ],
          "scatterternary": [
           {
            "marker": {
             "colorbar": {
              "outlinewidth": 0,
              "ticks": ""
             }
            },
            "type": "scatterternary"
           }
          ],
          "surface": [
           {
            "colorbar": {
             "outlinewidth": 0,
             "ticks": ""
            },
            "colorscale": [
             [
              0,
              "#0d0887"
             ],
             [
              0.1111111111111111,
              "#46039f"
             ],
             [
              0.2222222222222222,
              "#7201a8"
             ],
             [
              0.3333333333333333,
              "#9c179e"
             ],
             [
              0.4444444444444444,
              "#bd3786"
             ],
             [
              0.5555555555555556,
              "#d8576b"
             ],
             [
              0.6666666666666666,
              "#ed7953"
             ],
             [
              0.7777777777777778,
              "#fb9f3a"
             ],
             [
              0.8888888888888888,
              "#fdca26"
             ],
             [
              1,
              "#f0f921"
             ]
            ],
            "type": "surface"
           }
          ],
          "table": [
           {
            "cells": {
             "fill": {
              "color": "#EBF0F8"
             },
             "line": {
              "color": "white"
             }
            },
            "header": {
             "fill": {
              "color": "#C8D4E3"
             },
             "line": {
              "color": "white"
             }
            },
            "type": "table"
           }
          ]
         },
         "layout": {
          "annotationdefaults": {
           "arrowcolor": "#2a3f5f",
           "arrowhead": 0,
           "arrowwidth": 1
          },
          "autotypenumbers": "strict",
          "coloraxis": {
           "colorbar": {
            "outlinewidth": 0,
            "ticks": ""
           }
          },
          "colorscale": {
           "diverging": [
            [
             0,
             "#8e0152"
            ],
            [
             0.1,
             "#c51b7d"
            ],
            [
             0.2,
             "#de77ae"
            ],
            [
             0.3,
             "#f1b6da"
            ],
            [
             0.4,
             "#fde0ef"
            ],
            [
             0.5,
             "#f7f7f7"
            ],
            [
             0.6,
             "#e6f5d0"
            ],
            [
             0.7,
             "#b8e186"
            ],
            [
             0.8,
             "#7fbc41"
            ],
            [
             0.9,
             "#4d9221"
            ],
            [
             1,
             "#276419"
            ]
           ],
           "sequential": [
            [
             0,
             "#0d0887"
            ],
            [
             0.1111111111111111,
             "#46039f"
            ],
            [
             0.2222222222222222,
             "#7201a8"
            ],
            [
             0.3333333333333333,
             "#9c179e"
            ],
            [
             0.4444444444444444,
             "#bd3786"
            ],
            [
             0.5555555555555556,
             "#d8576b"
            ],
            [
             0.6666666666666666,
             "#ed7953"
            ],
            [
             0.7777777777777778,
             "#fb9f3a"
            ],
            [
             0.8888888888888888,
             "#fdca26"
            ],
            [
             1,
             "#f0f921"
            ]
           ],
           "sequentialminus": [
            [
             0,
             "#0d0887"
            ],
            [
             0.1111111111111111,
             "#46039f"
            ],
            [
             0.2222222222222222,
             "#7201a8"
            ],
            [
             0.3333333333333333,
             "#9c179e"
            ],
            [
             0.4444444444444444,
             "#bd3786"
            ],
            [
             0.5555555555555556,
             "#d8576b"
            ],
            [
             0.6666666666666666,
             "#ed7953"
            ],
            [
             0.7777777777777778,
             "#fb9f3a"
            ],
            [
             0.8888888888888888,
             "#fdca26"
            ],
            [
             1,
             "#f0f921"
            ]
           ]
          },
          "colorway": [
           "#636efa",
           "#EF553B",
           "#00cc96",
           "#ab63fa",
           "#FFA15A",
           "#19d3f3",
           "#FF6692",
           "#B6E880",
           "#FF97FF",
           "#FECB52"
          ],
          "font": {
           "color": "#2a3f5f"
          },
          "geo": {
           "bgcolor": "white",
           "lakecolor": "white",
           "landcolor": "#E5ECF6",
           "showlakes": true,
           "showland": true,
           "subunitcolor": "white"
          },
          "hoverlabel": {
           "align": "left"
          },
          "hovermode": "closest",
          "mapbox": {
           "style": "light"
          },
          "paper_bgcolor": "white",
          "plot_bgcolor": "#E5ECF6",
          "polar": {
           "angularaxis": {
            "gridcolor": "white",
            "linecolor": "white",
            "ticks": ""
           },
           "bgcolor": "#E5ECF6",
           "radialaxis": {
            "gridcolor": "white",
            "linecolor": "white",
            "ticks": ""
           }
          },
          "scene": {
           "xaxis": {
            "backgroundcolor": "#E5ECF6",
            "gridcolor": "white",
            "gridwidth": 2,
            "linecolor": "white",
            "showbackground": true,
            "ticks": "",
            "zerolinecolor": "white"
           },
           "yaxis": {
            "backgroundcolor": "#E5ECF6",
            "gridcolor": "white",
            "gridwidth": 2,
            "linecolor": "white",
            "showbackground": true,
            "ticks": "",
            "zerolinecolor": "white"
           },
           "zaxis": {
            "backgroundcolor": "#E5ECF6",
            "gridcolor": "white",
            "gridwidth": 2,
            "linecolor": "white",
            "showbackground": true,
            "ticks": "",
            "zerolinecolor": "white"
           }
          },
          "shapedefaults": {
           "line": {
            "color": "#2a3f5f"
           }
          },
          "ternary": {
           "aaxis": {
            "gridcolor": "white",
            "linecolor": "white",
            "ticks": ""
           },
           "baxis": {
            "gridcolor": "white",
            "linecolor": "white",
            "ticks": ""
           },
           "bgcolor": "#E5ECF6",
           "caxis": {
            "gridcolor": "white",
            "linecolor": "white",
            "ticks": ""
           }
          },
          "title": {
           "x": 0.05
          },
          "xaxis": {
           "automargin": true,
           "gridcolor": "white",
           "linecolor": "white",
           "ticks": "",
           "title": {
            "standoff": 15
           },
           "zerolinecolor": "white",
           "zerolinewidth": 2
          },
          "yaxis": {
           "automargin": true,
           "gridcolor": "white",
           "linecolor": "white",
           "ticks": "",
           "title": {
            "standoff": 15
           },
           "zerolinecolor": "white",
           "zerolinewidth": 2
          }
         }
        }
       }
      },
      "text/html": "<div>                            <div id=\"dc2175ba-b10e-40fa-8198-bec2e1545a55\" class=\"plotly-graph-div\" style=\"height:525px; width:100%;\"></div>            <script type=\"text/javascript\">                require([\"plotly\"], function(Plotly) {                    window.PLOTLYENV=window.PLOTLYENV || {};                                    if (document.getElementById(\"dc2175ba-b10e-40fa-8198-bec2e1545a55\")) {                    Plotly.newPlot(                        \"dc2175ba-b10e-40fa-8198-bec2e1545a55\",                        [{\"type\": \"scatter\", \"x\": [58, 55, 53, 49, 47, 40, 37, 36, 35, 33, 31, 30, 27, 27, 27, 22, 20, 17, 14, 14, 9], \"y\": [152, 151, 165, 141, 137, 118, 131, 112, 114, 119, 124, 114, 94, 100, 107, 84, 92, 88, 82, 78, 81]}, {\"type\": \"scatter\", \"x\": [58, 55, 53, 49, 47, 40, 37, 36, 35, 33, 31, 30, 27, 27, 27, 22, 20, 17, 14, 14, 9], \"y\": [94, 96, 112, 92, 90, 78, 94, 76, 79, 86, 93, 84, 67, 73, 80, 62, 72, 71, 68, 64, 72]}],                        {\"template\": {\"data\": {\"bar\": [{\"error_x\": {\"color\": \"#2a3f5f\"}, \"error_y\": {\"color\": \"#2a3f5f\"}, \"marker\": {\"line\": {\"color\": \"#E5ECF6\", \"width\": 0.5}}, \"type\": \"bar\"}], \"barpolar\": [{\"marker\": {\"line\": {\"color\": \"#E5ECF6\", \"width\": 0.5}}, \"type\": \"barpolar\"}], \"carpet\": [{\"aaxis\": {\"endlinecolor\": \"#2a3f5f\", \"gridcolor\": \"white\", \"linecolor\": \"white\", \"minorgridcolor\": \"white\", \"startlinecolor\": \"#2a3f5f\"}, \"baxis\": {\"endlinecolor\": \"#2a3f5f\", \"gridcolor\": \"white\", \"linecolor\": \"white\", \"minorgridcolor\": \"white\", \"startlinecolor\": \"#2a3f5f\"}, \"type\": \"carpet\"}], \"choropleth\": [{\"colorbar\": {\"outlinewidth\": 0, \"ticks\": \"\"}, \"type\": \"choropleth\"}], \"contour\": [{\"colorbar\": {\"outlinewidth\": 0, \"ticks\": \"\"}, \"colorscale\": [[0.0, \"#0d0887\"], [0.1111111111111111, \"#46039f\"], [0.2222222222222222, \"#7201a8\"], [0.3333333333333333, \"#9c179e\"], [0.4444444444444444, \"#bd3786\"], [0.5555555555555556, \"#d8576b\"], [0.6666666666666666, \"#ed7953\"], [0.7777777777777778, \"#fb9f3a\"], [0.8888888888888888, \"#fdca26\"], [1.0, \"#f0f921\"]], \"type\": \"contour\"}], \"contourcarpet\": [{\"colorbar\": {\"outlinewidth\": 0, \"ticks\": \"\"}, \"type\": \"contourcarpet\"}], \"heatmap\": [{\"colorbar\": {\"outlinewidth\": 0, \"ticks\": \"\"}, \"colorscale\": [[0.0, \"#0d0887\"], [0.1111111111111111, \"#46039f\"], [0.2222222222222222, \"#7201a8\"], [0.3333333333333333, \"#9c179e\"], [0.4444444444444444, \"#bd3786\"], [0.5555555555555556, \"#d8576b\"], [0.6666666666666666, \"#ed7953\"], [0.7777777777777778, \"#fb9f3a\"], [0.8888888888888888, \"#fdca26\"], [1.0, \"#f0f921\"]], \"type\": \"heatmap\"}], \"heatmapgl\": [{\"colorbar\": {\"outlinewidth\": 0, \"ticks\": \"\"}, \"colorscale\": [[0.0, \"#0d0887\"], [0.1111111111111111, \"#46039f\"], [0.2222222222222222, \"#7201a8\"], [0.3333333333333333, \"#9c179e\"], [0.4444444444444444, \"#bd3786\"], [0.5555555555555556, \"#d8576b\"], [0.6666666666666666, \"#ed7953\"], [0.7777777777777778, \"#fb9f3a\"], [0.8888888888888888, \"#fdca26\"], [1.0, \"#f0f921\"]], \"type\": \"heatmapgl\"}], \"histogram\": [{\"marker\": {\"colorbar\": {\"outlinewidth\": 0, \"ticks\": \"\"}}, \"type\": \"histogram\"}], \"histogram2d\": [{\"colorbar\": {\"outlinewidth\": 0, \"ticks\": \"\"}, \"colorscale\": [[0.0, \"#0d0887\"], [0.1111111111111111, \"#46039f\"], [0.2222222222222222, \"#7201a8\"], [0.3333333333333333, \"#9c179e\"], [0.4444444444444444, \"#bd3786\"], [0.5555555555555556, \"#d8576b\"], [0.6666666666666666, \"#ed7953\"], [0.7777777777777778, \"#fb9f3a\"], [0.8888888888888888, \"#fdca26\"], [1.0, \"#f0f921\"]], \"type\": \"histogram2d\"}], \"histogram2dcontour\": [{\"colorbar\": {\"outlinewidth\": 0, \"ticks\": \"\"}, \"colorscale\": [[0.0, \"#0d0887\"], [0.1111111111111111, \"#46039f\"], [0.2222222222222222, \"#7201a8\"], [0.3333333333333333, \"#9c179e\"], [0.4444444444444444, \"#bd3786\"], [0.5555555555555556, \"#d8576b\"], [0.6666666666666666, \"#ed7953\"], [0.7777777777777778, \"#fb9f3a\"], [0.8888888888888888, \"#fdca26\"], [1.0, \"#f0f921\"]], \"type\": \"histogram2dcontour\"}], \"mesh3d\": [{\"colorbar\": {\"outlinewidth\": 0, \"ticks\": \"\"}, \"type\": \"mesh3d\"}], \"parcoords\": [{\"line\": {\"colorbar\": {\"outlinewidth\": 0, \"ticks\": \"\"}}, \"type\": \"parcoords\"}], \"pie\": [{\"automargin\": true, \"type\": \"pie\"}], \"scatter\": [{\"marker\": {\"colorbar\": {\"outlinewidth\": 0, \"ticks\": \"\"}}, \"type\": \"scatter\"}], \"scatter3d\": [{\"line\": {\"colorbar\": {\"outlinewidth\": 0, \"ticks\": \"\"}}, \"marker\": {\"colorbar\": {\"outlinewidth\": 0, \"ticks\": \"\"}}, \"type\": \"scatter3d\"}], \"scattercarpet\": [{\"marker\": {\"colorbar\": {\"outlinewidth\": 0, \"ticks\": \"\"}}, \"type\": \"scattercarpet\"}], \"scattergeo\": [{\"marker\": {\"colorbar\": {\"outlinewidth\": 0, \"ticks\": \"\"}}, \"type\": \"scattergeo\"}], \"scattergl\": [{\"marker\": {\"colorbar\": {\"outlinewidth\": 0, \"ticks\": \"\"}}, \"type\": \"scattergl\"}], \"scattermapbox\": [{\"marker\": {\"colorbar\": {\"outlinewidth\": 0, \"ticks\": \"\"}}, \"type\": \"scattermapbox\"}], \"scatterpolar\": [{\"marker\": {\"colorbar\": {\"outlinewidth\": 0, \"ticks\": \"\"}}, \"type\": \"scatterpolar\"}], \"scatterpolargl\": [{\"marker\": {\"colorbar\": {\"outlinewidth\": 0, \"ticks\": \"\"}}, \"type\": \"scatterpolargl\"}], \"scatterternary\": [{\"marker\": {\"colorbar\": {\"outlinewidth\": 0, \"ticks\": \"\"}}, \"type\": \"scatterternary\"}], \"surface\": [{\"colorbar\": {\"outlinewidth\": 0, \"ticks\": \"\"}, \"colorscale\": [[0.0, \"#0d0887\"], [0.1111111111111111, \"#46039f\"], [0.2222222222222222, \"#7201a8\"], [0.3333333333333333, \"#9c179e\"], [0.4444444444444444, \"#bd3786\"], [0.5555555555555556, \"#d8576b\"], [0.6666666666666666, \"#ed7953\"], [0.7777777777777778, \"#fb9f3a\"], [0.8888888888888888, \"#fdca26\"], [1.0, \"#f0f921\"]], \"type\": \"surface\"}], \"table\": [{\"cells\": {\"fill\": {\"color\": \"#EBF0F8\"}, \"line\": {\"color\": \"white\"}}, \"header\": {\"fill\": {\"color\": \"#C8D4E3\"}, \"line\": {\"color\": \"white\"}}, \"type\": \"table\"}]}, \"layout\": {\"annotationdefaults\": {\"arrowcolor\": \"#2a3f5f\", \"arrowhead\": 0, \"arrowwidth\": 1}, \"autotypenumbers\": \"strict\", \"coloraxis\": {\"colorbar\": {\"outlinewidth\": 0, \"ticks\": \"\"}}, \"colorscale\": {\"diverging\": [[0, \"#8e0152\"], [0.1, \"#c51b7d\"], [0.2, \"#de77ae\"], [0.3, \"#f1b6da\"], [0.4, \"#fde0ef\"], [0.5, \"#f7f7f7\"], [0.6, \"#e6f5d0\"], [0.7, \"#b8e186\"], [0.8, \"#7fbc41\"], [0.9, \"#4d9221\"], [1, \"#276419\"]], \"sequential\": [[0.0, \"#0d0887\"], [0.1111111111111111, \"#46039f\"], [0.2222222222222222, \"#7201a8\"], [0.3333333333333333, \"#9c179e\"], [0.4444444444444444, \"#bd3786\"], [0.5555555555555556, \"#d8576b\"], [0.6666666666666666, \"#ed7953\"], [0.7777777777777778, \"#fb9f3a\"], [0.8888888888888888, \"#fdca26\"], [1.0, \"#f0f921\"]], \"sequentialminus\": [[0.0, \"#0d0887\"], [0.1111111111111111, \"#46039f\"], [0.2222222222222222, \"#7201a8\"], [0.3333333333333333, \"#9c179e\"], [0.4444444444444444, \"#bd3786\"], [0.5555555555555556, \"#d8576b\"], [0.6666666666666666, \"#ed7953\"], [0.7777777777777778, \"#fb9f3a\"], [0.8888888888888888, \"#fdca26\"], [1.0, \"#f0f921\"]]}, \"colorway\": [\"#636efa\", \"#EF553B\", \"#00cc96\", \"#ab63fa\", \"#FFA15A\", \"#19d3f3\", \"#FF6692\", \"#B6E880\", \"#FF97FF\", \"#FECB52\"], \"font\": {\"color\": \"#2a3f5f\"}, \"geo\": {\"bgcolor\": \"white\", \"lakecolor\": \"white\", \"landcolor\": \"#E5ECF6\", \"showlakes\": true, \"showland\": true, \"subunitcolor\": \"white\"}, \"hoverlabel\": {\"align\": \"left\"}, \"hovermode\": \"closest\", \"mapbox\": {\"style\": \"light\"}, \"paper_bgcolor\": \"white\", \"plot_bgcolor\": \"#E5ECF6\", \"polar\": {\"angularaxis\": {\"gridcolor\": \"white\", \"linecolor\": \"white\", \"ticks\": \"\"}, \"bgcolor\": \"#E5ECF6\", \"radialaxis\": {\"gridcolor\": \"white\", \"linecolor\": \"white\", \"ticks\": \"\"}}, \"scene\": {\"xaxis\": {\"backgroundcolor\": \"#E5ECF6\", \"gridcolor\": \"white\", \"gridwidth\": 2, \"linecolor\": \"white\", \"showbackground\": true, \"ticks\": \"\", \"zerolinecolor\": \"white\"}, \"yaxis\": {\"backgroundcolor\": \"#E5ECF6\", \"gridcolor\": \"white\", \"gridwidth\": 2, \"linecolor\": \"white\", \"showbackground\": true, \"ticks\": \"\", \"zerolinecolor\": \"white\"}, \"zaxis\": {\"backgroundcolor\": \"#E5ECF6\", \"gridcolor\": \"white\", \"gridwidth\": 2, \"linecolor\": \"white\", \"showbackground\": true, \"ticks\": \"\", \"zerolinecolor\": \"white\"}}, \"shapedefaults\": {\"line\": {\"color\": \"#2a3f5f\"}}, \"ternary\": {\"aaxis\": {\"gridcolor\": \"white\", \"linecolor\": \"white\", \"ticks\": \"\"}, \"baxis\": {\"gridcolor\": \"white\", \"linecolor\": \"white\", \"ticks\": \"\"}, \"bgcolor\": \"#E5ECF6\", \"caxis\": {\"gridcolor\": \"white\", \"linecolor\": \"white\", \"ticks\": \"\"}}, \"title\": {\"x\": 0.05}, \"xaxis\": {\"automargin\": true, \"gridcolor\": \"white\", \"linecolor\": \"white\", \"ticks\": \"\", \"title\": {\"standoff\": 15}, \"zerolinecolor\": \"white\", \"zerolinewidth\": 2}, \"yaxis\": {\"automargin\": true, \"gridcolor\": \"white\", \"linecolor\": \"white\", \"ticks\": \"\", \"title\": {\"standoff\": 15}, \"zerolinecolor\": \"white\", \"zerolinewidth\": 2}}}},                        {\"responsive\": true}                    ).then(function(){\n                            \nvar gd = document.getElementById('dc2175ba-b10e-40fa-8198-bec2e1545a55');\nvar x = new MutationObserver(function (mutations, observer) {{\n        var display = window.getComputedStyle(gd).display;\n        if (!display || display === 'none') {{\n            console.log([gd, 'removed!']);\n            Plotly.purge(gd);\n            observer.disconnect();\n        }}\n}});\n\n// Listen for the removal of the full notebook cells\nvar notebookContainer = gd.closest('#notebook-container');\nif (notebookContainer) {{\n    x.observe(notebookContainer, {childList: true});\n}}\n\n// Listen for the clearing of the current output cell\nvar outputEl = gd.closest('.output');\nif (outputEl) {{\n    x.observe(outputEl, {childList: true});\n}}\n\n                        })                };                });            </script>        </div>"
     },
     "metadata": {}
    }
   ],
   "source": [
    "init_notebook_mode(connected=True)         # initiate notebook for offline plot\n",
    "\n",
    "trace0 = Scatter(\n",
    "  x=df[\"Gap\"],\n",
    "  y=df[\"Men\"]\n",
    ")\n",
    "trace1 = Scatter(\n",
    "  x=df[\"Gap\"],\n",
    "  y=df[\"Women\"]\n",
    ")\n",
    "\n",
    "iplot([trace0, trace1])"
   ]
  },
  {
   "cell_type": "code",
   "execution_count": 3,
   "metadata": {},
   "outputs": [
    {
     "output_type": "display_data",
     "data": {
      "application/vnd.plotly.v1+json": {
       "config": {
        "linkText": "Export to plot.ly",
        "plotlyServerURL": "https://plot.ly",
        "showLink": false
       },
       "data": [
        {
         "showlegend": false,
         "type": "box",
         "y": [
          0.9892489908425752,
          -0.47700785044982313,
          -0.8210068334548506,
          -2.7893453134989983,
          0.21351065934623556,
          -0.8447298903789445,
          0.675990571710932,
          -0.5167149636642191,
          0.9996699383131342,
          -0.6291793664883297,
          -2.4881473411554675,
          1.1306424823226058,
          -0.6780176049871136,
          1.1363261872023493,
          0.25787235050740487,
          1.1365141870152298,
          1.5357540367092413,
          -0.7921798594536751,
          1.6051712804744611,
          -0.7002217329916203,
          0.40195752793794703,
          -0.2531545935964433,
          1.6729910407530322,
          0.1829080350476273,
          0.05929554843105813,
          -0.3320730707023103,
          -0.286895744268543,
          -1.812599901064575,
          0.9545135740914479,
          0.012534089833795642,
          1.469855213076464,
          0.8180486061694127,
          -1.3197165293924877,
          -1.121897850629771,
          -1.746040678799991,
          0.27045605005213474,
          0.0009443089857867502,
          -1.2265568941330358,
          -0.08002404051996284,
          0.6529162177987621,
          1.144060056328598,
          -0.8150052042493728,
          -1.1217483300302626,
          1.771178268737858,
          -0.09127514229498984,
          -0.7467647829039956,
          0.10335049229993673,
          -0.7609311303452758,
          -0.7295841781460239,
          -0.7766667756062792
         ]
        },
        {
         "showlegend": false,
         "type": "box",
         "y": [
          -0.7756615453419757,
          -0.16920629194456704,
          -0.31704592406825394,
          0.2572397007591947,
          -2.255283987939158,
          -1.9527812419051436,
          0.9416438699445738,
          -1.4983508180615992,
          -0.41018161224986915,
          0.9305481337351323,
          -1.734880773879635,
          0.2393153438068395,
          0.7211637396777009,
          -0.19490170034322762,
          -0.9243795215380728,
          0.7652303849932117,
          1.5436460908619636,
          -0.7624386323402007,
          -0.2971756864945524,
          0.15413195911428668,
          -0.3730603343121341,
          -0.2565817180793405,
          -2.775347166204717,
          -0.22138007509471716,
          -1.4212786834742364,
          -0.34427646979407467,
          0.907828740225255,
          -0.4935942027735295,
          -0.001970474197237543,
          1.8530672700397721,
          1.0757423633126635,
          -1.2368268691593565,
          -0.6222678713204857,
          1.0743629651389364,
          -0.49742871749365103,
          1.4815297741443354,
          0.5865306749677542,
          -1.9775182727444665,
          -2.004826187742923,
          -0.2690835680423472,
          0.17233787384222735,
          -0.6049159591714357,
          -0.4881772962672396,
          -0.5383508515569317,
          1.326819605204947,
          -0.6852150488843072,
          0.1903318291662866,
          0.8799000539484944,
          0.9578080861188764,
          1.5244700164996394
         ]
        },
        {
         "showlegend": false,
         "type": "box",
         "y": [
          -0.09467846843690389,
          0.1732762173793922,
          0.5152628812519288,
          -0.43714247686386537,
          -0.9137144915726199,
          -2.239071116949574,
          0.21554358085567643,
          -0.8676495733975276,
          -0.44354319522845725,
          0.663017190729669,
          -0.7434559700145371,
          0.13515348761047638,
          0.7746121122305432,
          -0.4728244007486287,
          0.18749700243267328,
          1.9838034619934886,
          0.14547570701923965,
          0.034261890082317684,
          1.6487714845869077,
          -0.5845880100707193,
          -1.2772923219717895,
          1.094272897608334,
          0.7757133284991532,
          0.3107002823772957,
          -0.893282796594914,
          1.1551188234459184,
          -0.39677615914708925,
          -0.2000583233678008,
          0.5500176720615038,
          -0.9064353382342116,
          0.6161859954376836,
          -1.5744478383012945,
          0.009730222050359264,
          0.5493584010228802,
          0.18683417541407185,
          -0.2669686624848752,
          0.14455133830603073,
          -0.665718117914943,
          -0.4666162078637824,
          -0.5714357432239255,
          0.5011076164904759,
          -1.0402618495945068,
          -2.147203977044104,
          0.5573762555046459,
          -0.46316697811376206,
          0.3339390875479756,
          -0.47210299766742875,
          -1.0807377118324393,
          0.39562413603893926,
          1.5682793192777877
         ]
        },
        {
         "showlegend": false,
         "type": "box",
         "y": [
          -1.0654237931810948,
          -0.2937762164571127,
          -0.17963577835779143,
          -0.014588749790998013,
          1.5767132752738773,
          0.9151947079850975,
          1.2192211503739552,
          1.069997797832474,
          1.659902400179447,
          -0.5838167303329217,
          -0.32986002004408604,
          -1.4232512979585963,
          -1.1154268702346657,
          1.3745112665572194,
          -0.5320894006997208,
          0.16627200013174268,
          -0.9786936501626835,
          -0.9251016394056902,
          0.9020351119497116,
          1.1788708525704064,
          -1.0476182177171474,
          -0.4792543157810577,
          0.19813247584327381,
          0.287753570008562,
          0.24257157657664427,
          -0.923683628888296,
          0.033383247654959564,
          -0.07080943599820361,
          -0.09451521563848427,
          0.526979711028237,
          1.9886404065997567,
          -0.19787590216350298,
          0.8689253298529354,
          0.06536527637268402,
          0.936444086402106,
          0.2441697438875321,
          1.0681692908944886,
          0.8315828048129786,
          -1.7701338143072023,
          -1.9966624677716633,
          1.2702639162432312,
          1.6612953669822417,
          0.4862873509934193,
          -0.7937464603694818,
          0.10135933020682202,
          -1.1974085301295363,
          0.40644211338039243,
          -2.0167845256009405,
          0.4983938715943675,
          -0.0713217999099446
         ]
        },
        {
         "showlegend": false,
         "type": "box",
         "y": [
          0.47784196070056595,
          -0.3039462268008983,
          0.4916456205823884,
          0.8183430109200752,
          0.36633679537514785,
          1.9498243986792607,
          -0.9163055519539215,
          -0.05444024131057428,
          1.2638157865824542,
          -1.533239447056481,
          0.8439752166246414,
          -0.6170839860371028,
          2.112897679590252,
          0.4626831630915263,
          1.2024159663334855,
          -0.8597280323394768,
          0.05959560112024632,
          -0.042514929690256706,
          -0.5352014731866913,
          0.019627275943062975,
          -1.4510700764224325,
          0.07642172736325555,
          0.25764706056253633,
          0.113486960883941,
          0.3534307119031147,
          -2.559842330197792,
          -2.547745674658209,
          -0.934274103490205,
          -1.487915480227505,
          -1.6259665030315897,
          -0.1494887231407909,
          0.025013518272125362,
          1.2753529538013395,
          -0.23112154428107679,
          1.183853530682084,
          0.5924405296863375,
          0.9980993477420206,
          1.6448875050551883,
          -1.6048704581503486,
          0.3531737237132648,
          -1.082788825545018,
          0.723216301206005,
          -0.5886616420176431,
          0.8152150425777778,
          0.4917878488314328,
          0.5101654883291011,
          -0.4461461304594186,
          0.09965620658855309,
          -1.793434044162663,
          -0.07295015746751787
         ]
        },
        {
         "showlegend": false,
         "type": "box",
         "y": [
          -1.8395664649310015,
          1.2210880331672453,
          -1.013617131620807,
          -0.39395144072700355,
          0.9478208941848553,
          0.5025170077805609,
          -0.5556246893985097,
          1.4337474483995252,
          1.6540819389283632,
          -1.9635044832246373,
          0.6922594059950664,
          1.5384365246670908,
          0.6646705557462146,
          0.43283474385428083,
          -0.8931469035823153,
          -0.2587505944914695,
          -0.1256921764480532,
          0.5006056106284065,
          -2.3111249803168064,
          0.474738753548815,
          0.6367525788269791,
          -0.1423224380323292,
          1.9813326692663968,
          -0.7840664974061757,
          0.3247955561828495,
          2.289977190789738,
          -0.028147343752478855,
          -1.18183916406216,
          0.46693827690113093,
          -3.344050949623906,
          -0.9166145814667885,
          0.5160992915667824,
          0.011010214051609119,
          2.134536199563771,
          0.5058615031119813,
          1.043598961920759,
          -0.39137574343724846,
          -0.1262581302951711,
          0.3304756909807043,
          -1.0921305813796423,
          0.14364626852410162,
          -0.39020417920755174,
          -0.9580776803401873,
          -0.30944362717835683,
          0.5596920373151968,
          1.7380573941013655,
          0.3337577613057823,
          1.4366333112532974,
          1.0842966031979508,
          -1.066890514323273
         ]
        },
        {
         "showlegend": false,
         "type": "box",
         "y": [
          1.1067024123452716,
          0.7909004826406442,
          0.27627264756569697,
          -0.41590783105056894,
          -1.043927636862466,
          1.1703192669621034,
          -3.155689434782127,
          -0.8154703805344802,
          0.49704560233595785,
          2.380266098494948,
          -0.1695031859062283,
          0.40657679198919067,
          1.0181114779992728,
          1.2676407138016637,
          1.524304358797305,
          0.015600809983404582,
          -0.5309061965478561,
          1.6245748349248363,
          1.708475435949803,
          0.08035684435375359,
          -0.8592150219753059,
          -1.4278719607135377,
          -0.7422840529338816,
          -0.27540887020332117,
          2.0135496479597084,
          1.2659416581100755,
          1.5853514323116966,
          -0.5468598984080065,
          -0.017686214389028437,
          2.4535000765166797,
          0.4131478631039046,
          -2.1518152538965696,
          1.0621932580300728,
          -0.35962752437248874,
          -0.16627630567591953,
          -0.7410628414625683,
          0.6423552189104531,
          0.14665568874085974,
          0.7259311639272404,
          1.4930902185378405,
          -0.6562436254000036,
          -0.6102482909948055,
          -0.3923943850471589,
          -0.9967453949178687,
          -0.21913014836986444,
          -0.6909911377783609,
          0.16446341785705756,
          -0.22765720443734733,
          0.17618998797093108,
          0.7438243367792325
         ]
        },
        {
         "showlegend": false,
         "type": "box",
         "y": [
          0.639403375977107,
          -0.16171871184906159,
          0.116872424437584,
          1.115865512438875,
          0.8287301873042222,
          -0.8420072834746807,
          -1.555795099541603,
          -1.0509957146541875,
          0.21924246433334407,
          -0.563682432496134,
          0.7378692741060483,
          0.7259907812151416,
          1.095160291929327,
          -0.3631575985562705,
          -0.39617238419376133,
          -1.6382878356391877,
          -2.366658647374151,
          -0.5266178476238971,
          1.7334235882498659,
          -0.28199654329099894,
          0.11176490934714607,
          2.490741662909674,
          -0.5509751367124058,
          -1.465868360504528,
          0.7984125302841729,
          -3.1284569027815,
          0.30302625970011493,
          2.531860476397945,
          1.560892147089229,
          0.34210280320365777,
          -0.5561889776899837,
          -0.2640735077039739,
          1.104141816547183,
          1.7222112558589848,
          -0.4894570123365367,
          -0.02534142845192059,
          -0.363717204753287,
          0.8579218517396016,
          0.13117024359499188,
          -0.5963209211710306,
          -0.6233044607414315,
          -0.6376464425098751,
          -0.1449998354478975,
          0.3753344937719484,
          -1.2798235829753708,
          -0.2417458889008464,
          0.836017812018326,
          -1.6301467698783845,
          -0.6128334763154984,
          -0.2650291807998041
         ]
        },
        {
         "showlegend": false,
         "type": "box",
         "y": [
          -0.8568623136565248,
          1.887869618762712,
          2.4584678635689414,
          -0.5173270751204414,
          0.15266760460449352,
          0.14312081656892947,
          -0.17456261515043223,
          -1.2211409717209538,
          1.2588179793477152,
          -0.27100611356229054,
          1.1923036588010558,
          -0.28585473667253775,
          -2.2794555367074065,
          -0.4607686072579862,
          1.0655008297162003,
          -0.8915302544086997,
          -1.4616453395500764,
          0.870418399687893,
          0.09432092692577733,
          0.3272166583994138,
          -0.42497988911798623,
          -0.49108629333382114,
          1.156019787164532,
          -0.6890224251045464,
          -1.8131931656767606,
          1.2120742241886562,
          0.9852745388414067,
          -0.4679879456228985,
          -1.0813120675950656,
          -0.7729971495259269,
          0.47501940489604605,
          -0.7858345768740268,
          -0.068344433207413,
          1.8877269117653273,
          0.561767248926666,
          0.9334469438824959,
          0.24893339772537976,
          1.4155442228071036,
          -0.7879064310332816,
          0.47693782898506554,
          -0.5427576526822855,
          0.6396626678655407,
          -0.4062337923134506,
          0.9693774072748251,
          0.9246600245140416,
          0.6606606158568898,
          -0.6631872766120636,
          -0.5332599832379519,
          -0.7996681047878772,
          -0.946091093881893
         ]
        },
        {
         "showlegend": false,
         "type": "box",
         "y": [
          -0.9016168049987979,
          -0.8359256678149218,
          -0.20626000233068473,
          2.3034820120644355,
          -1.109970350116903,
          1.2589000823485168,
          -0.06123918224092267,
          -0.8109781176344707,
          -0.3412524061505679,
          -0.8409388575320519,
          -0.5094426685053344,
          -1.4058402570585784,
          -0.26264677917736295,
          0.1857892274307113,
          -0.3487646536551427,
          0.5651264237247898,
          0.46865967316007534,
          0.0763696034723952,
          1.0899471620037597,
          0.51868964098575,
          -0.7641642716119577,
          -0.1848155239864033,
          0.0803653714434695,
          0.09298504428350308,
          -0.9065070088893209,
          -2.194290418657619,
          -2.375882193219542,
          0.8429654733569047,
          1.1030287575979816,
          -0.10774539101071524,
          -1.0464334644181497,
          0.08077225615945778,
          -1.2148693319209805,
          0.766348463961656,
          -0.40106855158713306,
          0.4772799966032115,
          -0.06710494973238937,
          -2.2318055748894388,
          -0.05399238767856753,
          0.03607342107615453,
          1.2111246302231136,
          1.2837940784518822,
          0.23474290405893142,
          0.529549934719604,
          -1.3863315143170314,
          -1.0512804006040815,
          -0.2325356781130074,
          -2.0361594171178963,
          0.24547142423271867,
          -1.7638746239872587
         ]
        },
        {
         "showlegend": false,
         "type": "box",
         "y": [
          1.2678105061069243,
          -0.7886437386394903,
          0.9745923274091659,
          0.1472436531155892,
          0.18859347432206283,
          -0.12336455628098077,
          -0.46007143627015584,
          0.609024994931132,
          0.03443822899842772,
          0.7176059609430869,
          -1.8607065398097329,
          -0.11943798541995414,
          0.12806112460276364,
          0.8726641846004268,
          -0.4282203961920832,
          0.17999917732147985,
          -0.982488672851274,
          0.5021533948510293,
          -0.6441339380851766,
          -0.8449794726251321,
          -0.960998457033103,
          -1.266689684107363,
          0.7192432929261339,
          0.5828705653934968,
          2.7063943112299658,
          -0.29304653391863744,
          0.4764194206170281,
          -0.8106790815275126,
          1.6826708678090807,
          -0.5542896417145476,
          -1.0564345452980262,
          0.3386619404134247,
          -0.22585330181466215,
          0.3893427802524548,
          -0.7231955869269421,
          -1.4301503264675437,
          -0.07310123557214207,
          -0.1585794560097137,
          -0.47952370438369774,
          -0.3988022721131401,
          1.25279552618623,
          -0.47234036313750766,
          -1.1486631777170677,
          0.162674013596789,
          0.14195274088752688,
          1.7132723457223502,
          -0.23641238890877164,
          -0.6463566688968586,
          -0.2719633069199429,
          -0.2074638700912989
         ]
        },
        {
         "showlegend": false,
         "type": "box",
         "y": [
          -0.16415104678747644,
          0.3218557744058327,
          0.32337306041967206,
          0.3635640455435131,
          1.324703351630293,
          0.8339745329726582,
          0.01826855388987196,
          0.5458256513602662,
          1.5105171988654855,
          0.9141356919708952,
          0.9595119168403329,
          -0.10751414081926837,
          -1.0843836162661469,
          0.5288367668438355,
          -0.46731486707231773,
          0.5744511830669767,
          -0.6721393696625231,
          -0.41628364205379254,
          0.14528656713424642,
          0.26432792672650635,
          -0.8914984405579616,
          -1.4155060624850468,
          -0.7814726140384308,
          -1.0717455981072619,
          1.4943607565422685,
          0.008538789983792988,
          -0.019562691177017453,
          1.2892812012712138,
          0.07692893495794086,
          -0.9857296988596702,
          -0.025200278065927298,
          -0.4265504186062369,
          -0.10084993945905422,
          1.4607135384043268,
          -0.06617445120044911,
          0.7738494905107394,
          0.14279367679077815,
          0.966516970180869,
          0.4550649605542607,
          0.4057607212248693,
          -0.7468358311704711,
          -0.47630122914676404,
          -1.0618492847814809,
          -0.06846173114806918,
          -0.08781496633630889,
          -0.19281275233060438,
          0.9225643365961026,
          -1.6245675141940576,
          -0.3867128541868818,
          1.1106581639616893
         ]
        },
        {
         "showlegend": false,
         "type": "box",
         "y": [
          0.42324512834365585,
          -0.09531141177353838,
          -0.0014583903685265339,
          -0.018807090375161407,
          0.12294019097984187,
          -0.6289332227411022,
          -0.14589347428628363,
          0.6044375509950162,
          -0.6920130715703486,
          -1.6145641013327436,
          0.16193296640377203,
          -0.7631964547504486,
          -0.23200211181381483,
          2.527063407397958,
          0.8755973392387142,
          -2.263867724412134,
          0.0966749804798699,
          1.1207913718150508,
          0.17509570341996905,
          0.12705323375387328,
          0.25324093362053884,
          -1.5815701490522696,
          0.88645911872035,
          0.21760586183937225,
          -0.4719428494243483,
          0.515354952184864,
          1.060137972277559,
          0.5233980473316608,
          -0.5141155706384539,
          -1.2919850556661712,
          1.3753115995754026,
          -0.8430805704937077,
          0.44998766643493765,
          0.0374962210385689,
          -0.6415512874208135,
          0.3805852632846305,
          -1.9088035770777154,
          1.3186424582580798,
          -0.20302004034109591,
          -0.2628150325946152,
          0.30306610458916833,
          -0.7714747729219484,
          -1.3807813272129048,
          0.539888469844042,
          0.4680089570084494,
          -0.7847554835822437,
          -1.1033170441309994,
          0.4583061856246033,
          -0.4954469901913501,
          0.22699258514893816
         ]
        },
        {
         "showlegend": false,
         "type": "box",
         "y": [
          -0.49252370387195515,
          0.9390063273544437,
          0.5673231958810562,
          0.23101999664691814,
          -0.11090547001325261,
          -0.6552160224342377,
          -1.1975134433725019,
          0.023335986742626668,
          -0.37467790174627474,
          0.16335157035356615,
          2.798485650511412,
          -0.47822050712929015,
          1.7539986356698363,
          0.21847061802289144,
          1.8167840220849856,
          -0.32206773982129827,
          0.2639058996488767,
          1.2350281149602207,
          0.5857336469832909,
          -1.1575275536207268,
          -0.7700141426790047,
          0.7149481990555477,
          -0.836382103521322,
          1.273286852183151,
          -0.3600227779015855,
          -0.28842401903895964,
          0.67920304692078,
          0.8441189945044626,
          -0.4212707045665976,
          -0.44463289122913846,
          -0.9555035657745571,
          0.03154058919668916,
          1.5571886212978177,
          0.9044831128726951,
          0.8726527084496987,
          -0.6997512793853162,
          0.5689671875783299,
          1.36023087652335,
          1.2856129666419576,
          2.269492260169485,
          -0.39271703632721544,
          0.9945600924492197,
          -0.04022409462293157,
          0.2540361576462676,
          -2.221625745461212,
          -1.7608550686761484,
          -1.8380011156173577,
          -0.2715927935532803,
          -0.46972509677596364,
          -0.42238989132687543
         ]
        },
        {
         "showlegend": false,
         "type": "box",
         "y": [
          -0.2635772598074154,
          -0.10222676023386904,
          0.743838936604867,
          -1.177403750769786,
          1.6507680301261223,
          0.3607602856564718,
          2.087796231343295,
          -0.33290100605104717,
          -1.1301785229458536,
          -0.7458204385108262,
          0.3639453799492597,
          -0.29491084611389834,
          0.41257354128867674,
          0.10853775480600479,
          0.47113114259311706,
          -0.20489624417561828,
          0.7357672060962442,
          0.37271312289063746,
          0.27129181053719503,
          -0.15175644067578642,
          0.4841696318566825,
          -1.5611942709775228,
          -0.02380826208690286,
          0.14322637049502557,
          0.9872575785318131,
          -0.9042826009677704,
          0.1455343442240177,
          0.12554981411150326,
          0.6884454426755959,
          -0.886359509550379,
          0.371175254746196,
          -0.426206749639919,
          -0.05454876201309066,
          0.09067288274959244,
          0.7604099779271447,
          -1.9544192677261858,
          -1.3474111904651647,
          -1.3245700497868902,
          -0.9647246562385694,
          -2.4914843771620303,
          2.32090919325531,
          0.22247833341970935,
          -0.6725138308785638,
          -0.33732306743816365,
          -0.26256656881174184,
          -1.4194797910732326,
          -0.09291820126375432,
          1.124372435630311,
          0.3052917277160487,
          -0.5335813913964917
         ]
        },
        {
         "showlegend": false,
         "type": "box",
         "y": [
          -2.268762465024301,
          -0.5446733306268475,
          1.6819720010762902,
          1.2643933475730633,
          -0.8368924900656843,
          -0.8726531309952508,
          -0.9257949352476846,
          0.629326251529517,
          1.0244395119877765,
          -1.1687983611492623,
          -0.9990597980961459,
          -0.007157174832807971,
          1.0037332297499733,
          -0.9484308628933836,
          0.19174880699369556,
          -0.60483238518464,
          0.40221990957900927,
          -1.3606194150968929,
          0.32495900919427423,
          0.33678232733471725,
          0.6482586829105509,
          -1.68945240128075,
          -1.5251541034022267,
          0.04045105881520972,
          0.6933834193304113,
          1.204097035991995,
          -1.0084338912722772,
          -0.798693371488453,
          0.2926023007880356,
          1.013890884809535,
          0.2182686930038365,
          -0.02356729048056708,
          -2.453855570208808,
          0.9463090723517542,
          -1.858853249814968,
          0.29186839957311567,
          -0.4081949818451312,
          0.39837177946590785,
          -0.4879979048294001,
          -1.6572432772583507,
          1.0762294007800361,
          0.9254948811392129,
          -0.26347749359017136,
          0.4644040867773308,
          0.5077315804853796,
          0.04984112714425095,
          -0.9478298823846708,
          -0.43375412293644744,
          0.5039129327639216,
          -0.5686720728601588
         ]
        },
        {
         "showlegend": false,
         "type": "box",
         "y": [
          -0.7429085585934682,
          0.8344373275331193,
          1.3722234996058456,
          0.5248059567035902,
          -0.18805172762995212,
          -1.2978332332744467,
          -1.9476822888511,
          0.32229983573116777,
          0.5359787617117878,
          0.7082720776823221,
          1.5630717633948943,
          1.835435683571365,
          0.88883799995627,
          0.3147900334525263,
          1.2511084071219376,
          -1.027494669986793,
          0.6843092263413268,
          -0.029288148118441756,
          -0.549129726928105,
          0.8285007547612248,
          0.8123763109371723,
          -0.8802683209453182,
          0.21366611981006858,
          1.115727224391185,
          -0.6387049260352484,
          0.020239450112177607,
          -0.07872041479684759,
          -0.3373083154393419,
          -1.7107265880780833,
          -0.009619150610942196,
          0.9147417206139199,
          0.8472884386795517,
          0.410100565113339,
          0.4380509809491317,
          -0.27514823262242094,
          0.05501121480487922,
          0.22409034772747322,
          -0.48520771253060524,
          -1.576735903856465,
          1.2196250586434285,
          -0.5788654719342484,
          0.31954762489366867,
          0.26255957968637156,
          0.6743739624443463,
          -0.5777146179728188,
          -1.8638037271259078,
          -0.17349384034098908,
          -1.448597851413006,
          -0.07471130050947655,
          0.8283502786877132
         ]
        },
        {
         "showlegend": false,
         "type": "box",
         "y": [
          0.7052337945631564,
          -2.393226954526812,
          0.07137795920430193,
          0.08852302976165714,
          -0.3929940858603961,
          -1.4994614084252007,
          0.6646328843231727,
          0.593927027797366,
          0.0741387908994575,
          -0.9766370323484084,
          -0.9577979723032464,
          1.2376909921168826,
          2.847413455627386,
          -0.30741208365012535,
          -0.45206231337183544,
          -0.5249941969784904,
          -0.24437460469311606,
          -1.6841980404455272,
          -1.475373157246726,
          -1.383154292901328,
          -0.7336990801087597,
          0.24000524709303295,
          0.18862096731283687,
          0.5304477468557605,
          1.4384945157348659,
          0.2846548373985698,
          0.7210233680441362,
          -0.3557324324575221,
          -0.9572598001058159,
          1.2897391676342198,
          -0.3890371543602942,
          1.15983035250786,
          -1.2474592561716198,
          -1.3348624552513455,
          1.0413064502496072,
          0.09967911448393027,
          0.15086103073361093,
          0.13641296005003414,
          -0.8905696609513535,
          0.16182785142663808,
          -0.00695050567719538,
          0.27801409738349775,
          -0.6480124400908475,
          -1.918640381364889,
          -1.3731694564407675,
          -0.024588139379778565,
          -1.21715908264491,
          0.4664226324163749,
          -0.6660724814112077,
          -0.08582430222968311
         ]
        },
        {
         "showlegend": false,
         "type": "box",
         "y": [
          1.3026097830777168,
          1.4412645609718033,
          0.20077248014405127,
          -0.9880483995274266,
          -1.6901396656310435,
          -0.7094185658879831,
          -0.4564539391086227,
          -0.01287720306997135,
          -1.3628136668624835,
          1.7000115277747232,
          -1.016103922444667,
          -0.7528392916221621,
          -0.9224501757474155,
          1.3328261385487181,
          0.014128957411567108,
          1.3547512295272828,
          -0.07010425363708607,
          0.48001148155045964,
          -0.8078373133094611,
          1.4325022295389211,
          0.934384637820781,
          -0.8854829080502965,
          -0.1374757418968157,
          0.5907046862310846,
          0.18744770551062423,
          0.7517267002466188,
          1.0366888231359075,
          0.6922978332606433,
          -0.5673963342735481,
          0.3674000897895546,
          1.2936641785574123,
          0.6583990702474865,
          -0.30635217174324025,
          -0.2548306868930474,
          -0.8595995079654568,
          0.7073133606108126,
          0.49556862515862987,
          0.09678027460477172,
          1.4530131391457068,
          0.0046740681138135644,
          1.318786149450778,
          0.4342261475943784,
          1.225072472033907,
          0.3545722971101239,
          1.0495196862429244,
          -1.1924607392524773,
          0.2512714597322264,
          2.778641898057178,
          -0.4523130185094331,
          -0.762536329838067
         ]
        },
        {
         "showlegend": false,
         "type": "box",
         "y": [
          -0.6427144601855949,
          0.19846651684660335,
          -0.2544685686904665,
          -0.8026274547256924,
          0.7215771366325526,
          1.3224480439231812,
          -0.8476956744994643,
          -0.4038670058773548,
          0.051333995408512904,
          0.5765395118224984,
          0.20781783422364844,
          -0.08878390514792857,
          -0.1807638752876748,
          -1.0207756920464104,
          0.8335994485844436,
          -0.8263011165734616,
          0.3805236772300721,
          1.1386209449820826,
          1.325436624503488,
          -0.17395101223078765,
          1.0398039161741157,
          -1.4886019054937836,
          1.5486136102957913,
          -0.5438836301484802,
          0.4358579569114427,
          1.1173274422736068,
          0.572727298197704,
          -0.2377205472760732,
          1.012996911756686,
          -1.3107636528198008,
          0.073273974010546,
          -1.8891896440722407,
          -0.7396008242359955,
          -0.6865918206540651,
          0.8655881543100642,
          -1.193333115113795,
          -0.07278468406412668,
          1.5013007153910383,
          -0.5949822117251625,
          -0.9238148276510602,
          0.043412885332347696,
          0.3785700073887172,
          -0.557791331487469,
          -0.7865203736682468,
          -0.32550444789111604,
          -0.03333247070266525,
          -1.3737718443107687,
          0.6134957337659599,
          0.5428503473236463,
          1.3986723969424908
         ]
        },
        {
         "showlegend": false,
         "type": "box",
         "y": [
          0.8300354691129191,
          -0.5377923396854333,
          -0.5748993447910663,
          0.8261988170499861,
          -0.034029527229957085,
          -2.3694520738339535,
          -0.14471160021594678,
          0.30183974546719033,
          -0.5413923508308941,
          -0.2290093455154522,
          -2.3091378654113868,
          -0.44572372294050827,
          1.4915593724868517,
          -0.09976862926078733,
          -0.38509760779191143,
          0.24414177464367118,
          1.07036198162404,
          -1.573581656119413,
          1.0421002221889852,
          0.3212348996376526,
          0.5840160002852748,
          -0.2404851839514161,
          0.5934650111546033,
          -0.2772521980559027,
          -0.22822708005560904,
          0.21332106469313075,
          -0.3515469862578312,
          -0.8014635259706604,
          -0.6410015634818524,
          -0.7272126122707784,
          0.7349018637601121,
          -1.180673031911194,
          0.635249255341064,
          -0.9026166295237068,
          0.8788970574288776,
          0.06026685008993585,
          -0.4529531484982135,
          -0.48439340650226537,
          1.063944361246308,
          0.3560616425335169,
          -1.3213221324803095,
          -0.30556350915488223,
          0.7833047051081653,
          -0.5947698815303621,
          -0.1026337625956402,
          0.304614483647515,
          -0.29745449355670994,
          -1.5088589134128616,
          1.3114984430155372,
          0.5309850296680731
         ]
        },
        {
         "showlegend": false,
         "type": "box",
         "y": [
          0.07078966553291495,
          1.7069347862635946,
          -1.6044138130703391,
          1.3713119758540289,
          2.0730971872480266,
          0.05220819719556307,
          0.1886882241654473,
          -0.055381786996495555,
          0.5433293274043065,
          2.239746018746269,
          -0.6883366644367455,
          0.1748613508949598,
          1.8292568617072047,
          0.1433410665489186,
          -0.494531257972139,
          0.5580703580741976,
          0.6132808931716569,
          0.1395077129744965,
          -0.10279027118751399,
          0.11848201393985876,
          1.027377747431223,
          0.9872904348008473,
          -0.8868301025681361,
          -0.5533580521641419,
          0.38838807033573897,
          1.4513833341608233,
          -0.7745757696649034,
          -0.7711215733447605,
          -0.525434779711865,
          1.2734677715207259,
          0.37828413725041693,
          -0.22290298603597908,
          0.06219244274659312,
          -1.3473289236501151,
          1.0353804136944345,
          1.2604229264673192,
          -0.5877309864116903,
          0.38267689404125194,
          0.6793586165985414,
          0.4945030093192572,
          -0.6619461119978657,
          0.7942925262183134,
          -0.4852550373918091,
          0.3571314104183226,
          1.5204022790473908,
          1.9631314640201851,
          1.7464734458403444,
          0.21799166170120537,
          -0.2748212889803264,
          -1.1713956953703506
         ]
        },
        {
         "showlegend": false,
         "type": "box",
         "y": [
          -0.515579300491745,
          -0.16649430475399438,
          0.2010779849614781,
          0.11141445016604701,
          0.7831412029838302,
          0.43245934039501305,
          1.147443211141655,
          -0.40564202756099077,
          0.5500989081628681,
          0.2234209555309776,
          0.36429912570710954,
          1.8225669858193352,
          -0.13591540373344185,
          1.363729600713647,
          -0.30345481255455314,
          0.25270385070632617,
          -0.3816612870384587,
          1.09475378676215,
          0.16917263517679265,
          -2.1561379355921724,
          -0.5772950511380986,
          1.2689900146814466,
          0.21154982046775073,
          0.06071621160058004,
          -0.20063442468573875,
          1.3834356732963886,
          1.1963068310051734,
          -1.9053294534890886,
          -0.6374351265009369,
          0.6605026756934876,
          -1.3747998481114319,
          1.591400320862268,
          0.29646188901027476,
          -1.231145301515836,
          -0.04229990807322888,
          -0.975469297605646,
          -1.4062181258121893,
          0.6821924136995793,
          0.6221036742523399,
          -0.5387635259728563,
          -0.5941930308260707,
          -0.21313752728705146,
          0.33813891588988665,
          -0.3753533887790616,
          0.4555244602756959,
          -0.09989156894593529,
          0.35097188193922957,
          -0.20147323215772062,
          -0.2509060314315302,
          0.1131896168759837
         ]
        },
        {
         "showlegend": false,
         "type": "box",
         "y": [
          -0.056835206559055634,
          -0.5868639081605519,
          0.5051505446477766,
          -0.17769736919426554,
          -0.4678118978613852,
          0.4421743653324378,
          1.3791876280379156,
          -0.052765105867738936,
          -0.24973327523319988,
          -1.3498564852609958,
          -0.013509828380235222,
          1.054460574863688,
          0.2661523949374692,
          0.7506357240360629,
          0.4181473512209292,
          -0.20947710425225655,
          -0.47574387830207826,
          0.1818565959976663,
          -0.01673496446793422,
          -0.2815076193595196,
          -0.09404596091620844,
          -0.2723534053878089,
          1.1546285097813112,
          1.6604130075892165,
          -1.2525502526923393,
          -0.5704501811341384,
          1.4077151377420196,
          1.139376703698985,
          2.063631589904441,
          0.8271532400644639,
          -1.2365338772962606,
          -0.49441976045933067,
          1.1784384915338297,
          0.20892065654951145,
          1.210876003681251,
          -1.7368150981722066,
          0.6656293886236063,
          0.11094986346145984,
          -0.809333407693016,
          -0.4130191533494334,
          0.33149880224048306,
          -1.0396563219794406,
          -0.0482441179450473,
          0.37039773866311826,
          2.4115319099379455,
          0.22299888322646816,
          -0.008072493499263774,
          0.975594970367327,
          -0.891674897279477,
          -0.8385734870995589
         ]
        },
        {
         "showlegend": false,
         "type": "box",
         "y": [
          0.004754007623235196,
          0.6816717845276585,
          -0.017638815647879672,
          -1.6352362902304924,
          -0.19800604676285868,
          0.28583245595602536,
          -2.0285466705307633,
          1.5478502233404032,
          -0.5466178403074298,
          -1.1094047679179178,
          -1.0616119619438087,
          -1.9190313029759463,
          0.36539321559059534,
          -0.07751437415048253,
          0.8541848181124845,
          -0.8939183381700898,
          -0.4831480346341342,
          -1.1925995113734045,
          0.37490855079960106,
          1.0414925344741828,
          0.2660765156072858,
          -1.60691166912308,
          0.4708367284180302,
          1.231770272727091,
          0.9605899448287644,
          1.2212653847176382,
          1.941204294251386,
          -0.1534735475619588,
          0.21783249265095744,
          0.033569380098824424,
          0.3832515840232604,
          -0.5399322052017906,
          -0.4810990608190781,
          -1.056703029888913,
          -0.20877549521821953,
          0.5139634123445752,
          -1.9114868421868987,
          -1.3413406837009278,
          -0.23103072012836587,
          0.12187462026488889,
          -0.3245775378955227,
          1.6094598920711944,
          -1.0208348242282719,
          1.6526792463200817,
          1.2467294386181538,
          0.9111916480826292,
          0.2261625980959651,
          -0.15973373464905935,
          -1.339350296303487,
          -0.5282554699511619
         ]
        },
        {
         "showlegend": false,
         "type": "box",
         "y": [
          -0.9526685000907374,
          0.5362264446589567,
          -0.1621198849342345,
          1.749971137780266,
          -0.2979520009207864,
          -0.3401818554127778,
          -0.19753647118799295,
          1.2027604841051027,
          0.2730317252042489,
          -1.1974489282660203,
          0.12754059312046245,
          -1.7637126409111468,
          1.821852656235233,
          0.39654616019255146,
          -0.5212219213849644,
          -0.20880934200060636,
          0.05552518105354163,
          -1.885986703631588,
          0.0054988499205714785,
          -0.4425859537756641,
          0.08793991037379645,
          0.003633433331366834,
          0.10960328271098575,
          -1.4570619102263742,
          -0.5555444521116931,
          -0.4797442319375953,
          0.1992241448859838,
          1.8154871853743946,
          0.5683957657519428,
          3.435577293906586,
          -0.05436092134919653,
          0.2374162792545903,
          0.40215006480571996,
          -0.9805200311202443,
          0.2553946979002068,
          -0.3398261874565333,
          0.9434799343292479,
          0.38708982433771816,
          -1.582390846472289,
          -0.6251918479416971,
          0.8656358504773579,
          0.6115321957162124,
          1.3741851240759364,
          -0.3737575578927715,
          0.7495959278041276,
          -1.3068175886251059,
          0.6401458083447925,
          2.3272229816802557,
          1.495121217989375,
          -1.8641165326526465
         ]
        },
        {
         "showlegend": false,
         "type": "box",
         "y": [
          0.1162301251350709,
          -0.6788620972207128,
          1.2815573293541476,
          0.1559499367890828,
          -1.1774017861460984,
          -0.6619682043641734,
          0.5961322322788966,
          -2.784468487377183,
          1.7180513162274393,
          -2.2214901109610685,
          -0.6418597337521839,
          2.201939766638182,
          -1.855754502396409,
          -0.6683882206726072,
          -0.014591690715921007,
          0.727547053934683,
          0.9386101522178232,
          -0.028448382167460838,
          0.48074004001651444,
          -2.0608330743470753,
          -0.22375585608401952,
          0.8499350528692323,
          -0.017663193413187242,
          1.000411540697968,
          0.3629656701713379,
          -0.8055630499521298,
          -1.5880429196574304,
          0.0029707828481057436,
          -1.8043050021429088,
          -1.5548794541662219,
          -1.28944405413535,
          1.2295237102843806,
          -0.4477840996310943,
          -0.9646345491431628,
          0.13790851344903493,
          0.17088132228477793,
          0.664925847121217,
          0.4735661624722616,
          0.1527588158052888,
          0.3493884698378714,
          2.2820109476204173,
          0.3007594659801149,
          1.2808442697727607,
          1.471475226069186,
          1.8946566780369436,
          0.014117468553473775,
          0.954319005764725,
          -0.26580408066015443,
          -0.8955924280746225,
          -0.37348167194535886
         ]
        },
        {
         "showlegend": false,
         "type": "box",
         "y": [
          -0.4329516090615114,
          0.8748823822172349,
          0.9544449151424307,
          1.1197284533464138,
          -1.3432388985724009,
          -1.4603868192606146,
          -1.4762261910500236,
          0.5152479274379134,
          -0.721681822226197,
          -0.5645747095922061,
          -0.8856878512777506,
          -0.39376639237661615,
          -0.5627286375886749,
          1.437253442534045,
          0.768389655871242,
          0.6923247362020838,
          -0.09973853837767105,
          1.3490703347874853,
          0.6582774890845746,
          0.013217510669105342,
          -0.13341769831736736,
          0.3163408206484002,
          1.7094848537476288,
          -1.1835493057694877,
          1.3486782169807399,
          2.241940570128414,
          -1.5712033058948613,
          -1.3208673074581943,
          -0.02098861393185782,
          1.0719365549386881,
          -0.8908048179920821,
          0.666952057677051,
          0.49077851687387275,
          0.5866378367412175,
          -0.5087276823069661,
          0.594530999006896,
          -0.22226648315375924,
          0.21641144174072088,
          0.5746294489629948,
          0.09433750998808864,
          0.2691753107546129,
          -0.4320748310247068,
          0.5004560608620722,
          -0.627659292144181,
          -0.8169642468878494,
          -1.512742715722843,
          0.05796781324812697,
          -1.215636425913175,
          0.2746049021470871,
          -0.05948491570724635
         ]
        },
        {
         "showlegend": false,
         "type": "box",
         "y": [
          -0.17577517912207138,
          -1.2354349397711706,
          0.9011466408666537,
          0.8180286005156624,
          -0.45812510851145866,
          1.1420048383118964,
          -0.3663317234575747,
          -0.5448168852100738,
          0.08055906882273221,
          -0.3937040974309007,
          -1.1340406674394352,
          1.5205968620899473,
          -0.07944023988902747,
          -0.8279111688209728,
          0.8390127516538899,
          -1.0335032969094635,
          1.1623635868788171,
          -0.5495849751086518,
          -0.3377227253367988,
          -2.478212301941238,
          -1.5565677294675768,
          -0.1762059367162596,
          1.7016027893790364,
          1.145496419242235,
          0.13754278025252195,
          -1.5334799406169064,
          1.4437031868388264,
          -1.2434903160694153,
          0.17301290902089755,
          1.0228705488419654,
          -0.774840776483794,
          1.9235017221629274,
          -2.67798548143706,
          -1.5302144750276208,
          0.5061296391661118,
          0.09323497560807173,
          0.06288244361780607,
          -0.7936275099549808,
          0.3083764446915401,
          1.042158217512384,
          -1.3339477045257155,
          0.7621872106068461,
          -0.8188992332595569,
          0.06188263164814523,
          -0.7625841118542769,
          1.3196894118228146,
          -0.688071433936898,
          -0.8248247463195388,
          -1.0460525849997537,
          -0.11647277944054041
         ]
        },
        {
         "showlegend": false,
         "type": "box",
         "y": [
          -1.565201799147097,
          0.23808127293180845,
          0.2021715730010176,
          -0.33440003832225323,
          -0.39819368055133975,
          1.7889529099551482,
          0.006043331068926728,
          -1.2181765004510363,
          -1.448665043780159,
          1.106983730261574,
          -0.34862677485492144,
          0.3551379006805074,
          -0.2045747139256515,
          0.9572026919172452,
          -2.576782049942622,
          0.4505586522451576,
          -0.8391382224038824,
          -0.6262330574663464,
          1.644335366126135,
          0.7646026817183361,
          -0.15521051186341714,
          -0.3626189377027939,
          0.5710981467353052,
          -1.2532268067070336,
          1.2669262341795628,
          0.05509859851515712,
          1.2241682025703904,
          1.1971928026366156,
          0.2876469175393556,
          0.6239243924611564,
          -0.631148402520664,
          -0.6006353536457957,
          1.2341713546598123,
          -1.7364222754653988,
          0.6476157123083808,
          -0.3336307273962136,
          0.2243771341803483,
          -2.0897174367653837,
          0.2728923441203448,
          -1.1158843933829565,
          0.9643570158727459,
          -0.6935390102821745,
          -0.7305681640033413,
          0.6198113324406272,
          0.3094698818216583,
          -0.9785970245284032,
          -0.47280947302552034,
          -0.47981920551742246,
          0.9125805428450098,
          -0.4688050934228666
         ]
        },
        {
         "showlegend": false,
         "type": "box",
         "y": [
          1.622379628886383,
          -0.5046338640475753,
          1.4275610040928837,
          -0.9837535856324459,
          0.6546416807969229,
          -0.47635051241707094,
          -0.20268205419670463,
          -1.7979728016182932,
          -1.618562324914244,
          -0.5384306838153279,
          0.4663964297894675,
          1.2546392019600265,
          0.09695865234149843,
          -1.3618984607273452,
          -0.6541158256171269,
          0.9106190215978344,
          0.34006449445876463,
          -1.6181051165642388,
          0.8272024267123615,
          -0.4203000162672,
          -0.6022465850986446,
          0.5319611692753438,
          0.5059148723161199,
          0.3752637407334971,
          -1.1395114168823357,
          0.24815984114213352,
          -0.8628071072343756,
          -0.46025792352607964,
          0.10463845541860892,
          -0.5481282390571794,
          0.6841547709207351,
          -0.5111668402788996,
          0.5485847779902616,
          1.890786678605005,
          -0.017715990486436763,
          -1.842882751146088,
          1.5519858579629318,
          2.129477678185578,
          -0.18460287425091818,
          1.2510358040664544,
          -1.1595273298558009,
          -0.9125568809688862,
          0.05123306267288104,
          -1.092217241603636,
          0.32032758809015616,
          1.6034814850141694,
          1.8462670507656656,
          -0.39803661933908746,
          -0.5560034854664662,
          -0.04097560413575248
         ]
        },
        {
         "showlegend": false,
         "type": "box",
         "y": [
          1.1405967699825224,
          -1.3578335275943805,
          -0.28560840631095535,
          0.13015845606829746,
          0.4922611827054583,
          0.4271741899503041,
          -0.9922437930425378,
          0.08442130235061988,
          0.4260414947002683,
          -0.20914792010905536,
          -1.1559128069887736,
          0.4691796370092262,
          -0.5284233098823446,
          0.23573853146490797,
          0.26524342537097917,
          1.7696707499340056,
          0.7880775319023481,
          0.7898326568526014,
          -0.89726730903781,
          -0.7677451386727838,
          0.7039522715494927,
          -0.5260029407245068,
          1.7059205825815702,
          0.646930119397187,
          -0.31077532022387405,
          -0.24277964701105223,
          0.645083997089897,
          -1.596804679794933,
          -0.34728955108387666,
          0.23444226233137738,
          -0.02487850762998709,
          -0.5050766061605103,
          1.3678012679160982,
          2.888581443527854,
          1.4661540185509931,
          0.6195965225623034,
          0.28540822775945146,
          0.23574357014076674,
          -0.3121348375447193,
          0.3154695789405225,
          -0.9371143256690179,
          -0.7267252684665573,
          0.14922910371285414,
          0.7066954962366631,
          -1.0597509012932793,
          0.19435791949500156,
          0.8039770356632373,
          -2.1378891183129816,
          -1.2692107686516647,
          -1.6179814654791327
         ]
        },
        {
         "showlegend": false,
         "type": "box",
         "y": [
          -0.7874706251988747,
          1.422891752996294,
          -0.5720107892530846,
          -0.36274040919633344,
          -0.1537417266944452,
          0.7853294093089541,
          -1.2254398426768809,
          0.06425964563436952,
          1.250741773576568,
          0.015150789692514502,
          -0.7187323231262919,
          0.04648957693418833,
          -0.9127652542345175,
          -0.04329114517955826,
          0.7454486046557717,
          -1.3808711813878578,
          0.14834214311811603,
          0.24416609515306792,
          0.21860069259465395,
          1.21297670699298,
          0.1761728683784904,
          0.9846560013044177,
          -0.2690309714022951,
          -0.6931630249455185,
          -0.11918977419210212,
          -0.013889455461947336,
          -1.2729274483020363,
          1.177108304291595,
          1.0909576262289291,
          0.7300884713312246,
          0.08225801569960156,
          0.24270039740900345,
          -1.3077638163677014,
          0.25182381953808636,
          0.720326005061666,
          -0.44801838035423464,
          -2.627583707681432,
          0.6231508991395887,
          -0.9872809426750139,
          -0.1621238946210305,
          0.06662596338987102,
          -0.689273292664526,
          0.2564114687099195,
          -1.3938475518913485,
          0.595285250816239,
          -0.6023597354111793,
          0.8397352605338996,
          -0.18563407664832843,
          -1.2074424941111916,
          0.09427817208115359
         ]
        },
        {
         "showlegend": false,
         "type": "box",
         "y": [
          -0.9348296983583166,
          -1.9542834278640289,
          -0.021247003024130934,
          0.1379217899752501,
          0.4522310869261204,
          0.21794401210788103,
          1.4486393492374698,
          0.7556130619205926,
          1.3999331065134692,
          0.617702972147482,
          0.02920515004790538,
          1.0671824473466873,
          1.3876990280390775,
          0.5247192432401371,
          -0.03736184357674238,
          0.12913792416993128,
          -1.2826887536998586,
          1.9399421448063374,
          -0.7268527219332864,
          -0.34304761778897025,
          1.9880490219663383,
          0.2826197652162154,
          -0.9378760812674206,
          1.0664790564389375,
          -1.6306431459858943,
          -0.16106847893815432,
          0.7375482976605457,
          0.1050774459137515,
          0.368552972782102,
          0.245339589383953,
          1.5960263511352617,
          -0.917775011043245,
          0.24143986599797,
          0.7325068484607071,
          -0.7400258056223104,
          -0.23982440812624048,
          -1.282080335011161,
          0.5478529887307594,
          -0.196739664555949,
          -1.4244882602643112,
          -1.1162637259033716,
          0.20916840748783097,
          0.08049323224849578,
          1.8871873286556322,
          -1.1729620698888745,
          -0.08625155721443219,
          1.2677696771716174,
          -0.35281432349715736,
          -0.4074825702888106,
          -0.4134295401005527
         ]
        },
        {
         "showlegend": false,
         "type": "box",
         "y": [
          0.2312325261396399,
          0.538092485216083,
          1.2294719870188475,
          1.8879427724394864,
          0.5912897538486671,
          -0.5114263734199475,
          0.08830695726128153,
          -0.21810484800735216,
          -0.2012419010316302,
          1.5600399815074362,
          0.013617573974894437,
          -1.499588839420341,
          -1.2945237688753248,
          -0.47700041448748415,
          -0.21839513509824648,
          -1.7215028513597657,
          -2.0168547270673374,
          0.5220017561421545,
          -0.6076362546655719,
          0.21498464179965432,
          0.2685394368963991,
          1.7161127715322018,
          0.15403221028327366,
          -0.30124872954985854,
          -1.0951914139347525,
          -0.22825902478720794,
          -0.4285543213714946,
          1.8435200352405587,
          -0.6015723974900166,
          0.210015999649483,
          -1.2532027978909386,
          -0.07909984193762437,
          -0.12683273797593853,
          -0.9507367926817546,
          1.289165495412865,
          -1.1761261342116585,
          0.3863336020363138,
          -0.0954003051743447,
          1.519726022591466,
          1.5817678757738947,
          -0.47589514634169083,
          -1.4619261340758587,
          0.4546569524036003,
          -0.6176074116245128,
          -2.3548526410181516,
          -0.3228142291262433,
          0.5623645431781669,
          0.06291577881965764,
          -0.13061904531047194,
          1.0228590026157116
         ]
        },
        {
         "showlegend": false,
         "type": "box",
         "y": [
          -0.7857601290244635,
          0.6765812908316605,
          -0.7792638895385713,
          -0.12841964211144632,
          -0.7128319201106521,
          0.990247765837011,
          -0.7263242169704189,
          1.1486498791859936,
          0.32286229959515106,
          -0.746922311032918,
          -0.45538300268166687,
          -1.0602847694381903,
          0.877482603420602,
          1.480001254016442,
          0.31634554000420245,
          0.6654563573335959,
          1.7606349303053075,
          0.5402180321623278,
          -1.5661826232794234,
          0.11952885858723003,
          2.6524465940658444,
          -0.8996793032077193,
          0.20071698335308966,
          0.9415064361794709,
          -1.7750607878069824,
          0.9925908235373607,
          1.082027875473308,
          -1.424337936976829,
          -1.5199818074567826,
          -0.5773919457502015,
          -1.3764192731585874,
          0.19815425470533257,
          -1.8257051510250404,
          -0.20450111166168428,
          -0.3896928559660243,
          0.13699504962947437,
          -0.011698398232035384,
          0.4520377586173298,
          1.0811077830875186,
          1.0555380443593958,
          1.7277601426003995,
          0.1609302350692294,
          1.0515282273793092,
          1.2335695184507849,
          -1.4211533326271732,
          -0.9005529138791364,
          0.3274996981396421,
          -1.8090414927552032,
          -1.2523625036937425,
          0.7340587567928387
         ]
        },
        {
         "showlegend": false,
         "type": "box",
         "y": [
          1.0643414110416594,
          -0.8006664772632862,
          1.2853362254611775,
          0.02948071397668235,
          -1.8620383545256864,
          -0.07154692339195667,
          0.19381695762916845,
          0.7191317049039213,
          0.7176003225554985,
          -0.06292523041929775,
          -1.3009152566803572,
          -1.1643466718657542,
          -1.7420851787696376,
          -0.7764095458441443,
          0.007556745259055347,
          -0.710319013505268,
          0.2983169229234588,
          0.9159102500903401,
          0.7085094730304131,
          1.0482763697110435,
          -1.7663642810025368,
          -0.7605722652386671,
          0.7480381645722008,
          -0.7354506318182549,
          0.5550821240650086,
          -0.5365744949917347,
          1.3269625857714828,
          1.5573534494438503,
          -0.5061313030215248,
          -1.6950209573500983,
          0.4405982967306654,
          -1.3311786422323475,
          0.10156824728963652,
          1.6159225255740821,
          -1.0998558701331664,
          -0.7380538579058371,
          0.32433059774512374,
          -1.3990725680500096,
          -0.5283229479763707,
          -1.495997260762043,
          0.19902424397535512,
          -0.6760992759321761,
          -0.6149051260735681,
          -0.5864234233117708,
          -1.3836984712395515,
          -0.753046436215613,
          0.8159043253486225,
          -2.140610006893886,
          -1.0356599711861845,
          0.9538579505890091
         ]
        },
        {
         "showlegend": false,
         "type": "box",
         "y": [
          1.430470331134872,
          0.029734426355807912,
          0.6077673934493787,
          0.05628012228281412,
          -0.9637218665974979,
          -1.6627074926750351,
          -0.6153380107534969,
          0.33986491564779303,
          0.004053564019499239,
          -0.7659670186426821,
          1.2981306823959518,
          -2.2991035541865275,
          1.5028966238706403,
          1.1311425607184622,
          -1.9902245712065123,
          0.6197377292700865,
          0.5523145336296995,
          0.5948831287595988,
          1.7459985923474064,
          -0.9910231261793122,
          -1.6463540880673866,
          -0.9283694656726055,
          0.05797779370747251,
          1.8501006756326885,
          0.281254485109725,
          -0.18936303969716695,
          0.8426478944374154,
          1.1309271099951999,
          -0.35895923171421085,
          0.14354125843179194,
          0.6228663143139025,
          0.769446829673552,
          1.7861061135939411,
          -0.19016268104767448,
          -1.3381215454170847,
          -0.07001392096455793,
          0.14121245034909802,
          -1.639015867251757,
          0.11639672332858926,
          2.147866854930125,
          1.6364482229482438,
          -2.0418658257015396,
          -0.38599825205007804,
          0.16737030736760422,
          -0.5766096653247298,
          1.244087984051651,
          -1.2227759560882316,
          0.9821529582145623,
          -0.38915161644481716,
          0.6158804059781254
         ]
        },
        {
         "showlegend": false,
         "type": "box",
         "y": [
          0.47274774105914025,
          -0.8281809767269638,
          -1.1658193827229106,
          1.628235983094968,
          0.19581105276036784,
          0.5050820651004901,
          0.5305345732703959,
          -0.13127607897331603,
          -0.8151513958120987,
          0.4493684318494662,
          -0.22494008301086219,
          -1.512048991825279,
          0.12931145963039672,
          -0.12362698832394294,
          1.2603863089288512,
          -1.6650014293179831,
          -1.1489973301578837,
          -0.3257985779203732,
          0.6925445769067264,
          1.2903941010427187,
          -0.9051445046883192,
          -0.32134436686754886,
          1.2800420721632961,
          -0.43432423377726265,
          2.8247465276910546,
          -1.331568549950027,
          0.016893871555679757,
          -1.5677043211315966,
          1.5078695544394152,
          -0.8547674944644031,
          0.36461907375996294,
          -1.0175505095950088,
          -0.06667445182396624,
          0.9646784329448419,
          -0.41468152321563356,
          0.37509226715200344,
          -0.21037167010515573,
          -0.6545608928766445,
          0.17249673257454115,
          0.7343006338062901,
          0.8488955673219298,
          -0.5232749274904632,
          2.298079637906793,
          0.6310496240413475,
          -0.027378610586254352,
          -0.6426452620678833,
          -0.9046911888286913,
          -1.2000884400368912,
          0.03179715382806042,
          0.24055168613579783
         ]
        },
        {
         "showlegend": false,
         "type": "box",
         "y": [
          0.5555567032462696,
          -0.9908903291240218,
          -0.8886628141340985,
          0.4434580673809288,
          0.6463372568336344,
          -0.3669252276561694,
          1.6257624258671508,
          1.0455870133157206,
          -0.16808306001338255,
          0.4223736405051156,
          -1.785199204396859,
          0.08460434401979194,
          0.7176382114476912,
          -0.5743844295439101,
          0.5750561537087083,
          -0.5406163187046354,
          0.18945009710411564,
          0.24546378672849425,
          -0.2674338889928398,
          0.37100937114439375,
          -0.30314239828809686,
          -1.6342118971275426,
          -1.2465950208452043,
          1.2155900687827688,
          -1.5091282161240405,
          1.6745199581898893,
          -0.29832444583590817,
          -0.4171885939494628,
          1.0376696726598138,
          0.5334898759070005,
          -1.57183941308041,
          -0.3990899038584227,
          -1.1349629888101578,
          0.23505786579232774,
          2.0187656311495368,
          0.9594456901899805,
          -0.22649950493725401,
          0.5158859180121166,
          0.7096772738882583,
          0.4167238834407155,
          0.9828962621994406,
          1.411353190384919,
          -0.22639902708228724,
          -0.1815063666063562,
          1.2230540562228007,
          1.4964563556233652,
          -0.7545636749962036,
          0.14354281250597262,
          -0.23974303234954522,
          0.7175594163307919
         ]
        },
        {
         "showlegend": false,
         "type": "box",
         "y": [
          1.5046642703076074,
          -2.4889341104907476,
          -0.8639352479363219,
          2.798285059878008,
          -0.8150914904686953,
          -0.4891498577989779,
          0.8226411935459917,
          0.4460585863509375,
          -0.8391769422790671,
          0.6840234413879853,
          0.23699201859112004,
          0.4144389622513814,
          0.1787098312301156,
          -1.3888808144489573,
          2.099033307117177,
          -0.7252759232137107,
          0.4690282091416593,
          -0.6570541529055611,
          -0.4472250788225799,
          -1.328583807938322,
          -0.4981210748755988,
          -0.6723825862059714,
          -0.2610498816866764,
          0.45226449587929357,
          -0.797054344363134,
          0.06485152198018417,
          0.3188716699526379,
          1.593115755036828,
          -0.8818879915087215,
          0.9970649351167925,
          0.09534651503032766,
          -0.6251671531899315,
          -0.6661629760914216,
          -0.43535477682766066,
          -1.6172088594316725,
          1.8244702351153534,
          -0.7041059048701219,
          0.14268295742593703,
          0.07252078401757771,
          -0.18728629541304084,
          0.4584941558724126,
          -1.0363101709415417,
          -0.7088097383772549,
          0.6496365350582465,
          0.40239676528594753,
          1.256215214811696,
          -0.294871268779683,
          0.09471261559785209,
          0.4232992035633717,
          -0.8589545569828687
         ]
        },
        {
         "showlegend": false,
         "type": "box",
         "y": [
          0.5042468466391333,
          -1.040464808950516,
          0.12653677532383997,
          -0.21690120016393985,
          -0.3579898226976651,
          1.5111884234296717,
          -1.3991228198304761,
          0.7367970430500866,
          1.0573106704179465,
          0.297839002170579,
          0.9091427694160714,
          -0.42566069347878294,
          0.2139891399359685,
          -0.70619352808521,
          1.3779498091074178,
          -0.7957360324397029,
          -1.2613512445358823,
          -2.4906221192109275,
          2.084524319792143,
          1.1930674893523852,
          1.700854604546734,
          -0.8687425452698609,
          1.2148198937460626,
          0.7238696925775522,
          2.2772453672173327,
          -0.28021774593298676,
          -0.7010876644654562,
          1.230717549676728,
          0.9805405352522073,
          0.1524681497926443,
          0.08448069685765974,
          0.5850444326792379,
          -2.1656820770557914,
          -0.8921184280832883,
          -1.5037676689741777,
          -0.19396359495847898,
          1.6277688003233133,
          0.5086195258731148,
          0.26735561924264634,
          -0.36174633184765537,
          -1.0422154120424272,
          1.1152390877530842,
          -0.5863647224722391,
          -0.7556007889260458,
          -0.9341429253432801,
          2.4064048155268605,
          -0.6463666758869349,
          -0.09645639344463419,
          0.3245856603542709,
          -1.2535972421045332
         ]
        },
        {
         "showlegend": false,
         "type": "box",
         "y": [
          -1.1597579347733649,
          -1.0731320718245683,
          -0.13960668968459533,
          -0.1432283358183224,
          0.7542512103347342,
          -0.4925291710135623,
          1.006702549449473,
          -0.6126242569262607,
          0.6479330999220234,
          0.35880660609235365,
          1.1088069167979229,
          -0.341041745926752,
          -0.9306592109356835,
          -0.3389783783493552,
          -0.004569558924388627,
          1.0497556635851197,
          0.017718445752967205,
          1.6132094673411272,
          1.8357559268650308,
          0.4601584872761455,
          -0.18331236318451752,
          0.5069421607051631,
          -0.3421008216361611,
          -0.7911584876468218,
          1.1610825493506145,
          -0.8098213381273852,
          0.39029586474672545,
          0.9747537601134373,
          0.03631045251196755,
          0.13904311373590147,
          0.7076487002417718,
          0.6653714704161788,
          0.6312705273255413,
          -0.23954030509725252,
          0.13744187206599193,
          0.49558689112370646,
          1.1173578466064276,
          -1.1449192287623973,
          1.2958560541445292,
          0.5498327977577593,
          -1.7284412189832916,
          -0.43799192736796977,
          -0.7646674589490489,
          -1.795853359380919,
          -1.3839109287112894,
          0.6976155547227192,
          0.09960651449655276,
          -0.7537463634070859,
          0.8386698258283214,
          1.0027300593729598
         ]
        },
        {
         "showlegend": false,
         "type": "box",
         "y": [
          0.5491867283683591,
          1.7678762509711328,
          -0.9093121626532021,
          0.8612237006484047,
          1.0317384781413206,
          -0.46236753635776967,
          0.9925535972069309,
          0.32598688111840024,
          1.2008615312352025,
          1.129940822080617,
          -0.23863545599836947,
          -0.00010809493339385162,
          -1.411996612860511,
          0.2554675332369711,
          0.5484439302935463,
          -3.2018313402280607,
          -0.7674381714638994,
          0.6242121788374394,
          -0.6308319473499132,
          0.6247843106521995,
          0.485849239120949,
          0.8331213655766802,
          0.07521313699523396,
          -0.7368935524054088,
          -0.3645630903905018,
          -0.4792314025612935,
          -0.2907496069656597,
          -0.7058793832568022,
          -0.8281880970299261,
          0.7543196988769462,
          0.7571822911952258,
          -0.773158792182873,
          -0.23822480673893584,
          -0.5643928578234074,
          -1.4492909144109705,
          -0.25820386275671897,
          -0.8303559927515535,
          -1.4103306275505816,
          -0.22621393239814575,
          1.25312287949841,
          0.6835599483869261,
          -0.6034081304356976,
          -1.4883062162379892,
          -0.09610738302513133,
          0.8572439389390958,
          -0.311876216363786,
          0.18105296053561126,
          0.5473351692528325,
          -0.12147540359015013,
          -1.0736640338110053
         ]
        },
        {
         "showlegend": false,
         "type": "box",
         "y": [
          -0.8056787234047903,
          0.08447426463324002,
          0.7037421426865645,
          -1.6764718040460327,
          2.169006178047856,
          -1.9263374721671886,
          0.014715807448361857,
          0.3739030271052898,
          0.00590459167097352,
          -0.6953598620131524,
          0.27780380386501763,
          0.7770448968765079,
          0.03311223914816313,
          0.28505105655729457,
          -1.0485727768425637,
          -1.3251957424011216,
          -0.4873794998538743,
          -0.33101364810238953,
          -0.5173088227775317,
          1.307816337385447,
          -0.961393178468705,
          -0.35451194994924096,
          -0.709323157853038,
          1.6239686551154813,
          -0.08422233897397177,
          -1.1393986574167272,
          0.12131270581541152,
          0.4142746304757499,
          1.3416128444972542,
          0.20781320074185458,
          -1.0862681120697373,
          -0.9356660534602875,
          0.2805327274558653,
          -0.8874018863320162,
          -0.42193490471470135,
          0.1087966913328349,
          1.6802655705515621,
          1.221713033030868,
          0.1115099079193004,
          -0.9315407141293784,
          -0.1579546002480101,
          -0.21174185210882962,
          -0.6059428339042656,
          -0.12738128905911372,
          0.7268323607494769,
          0.10196121331520729,
          -0.5052055354003131,
          -1.330342597963457,
          -0.1743957486474534,
          0.7701742374159709
         ]
        }
       ],
       "layout": {
        "template": {
         "data": {
          "bar": [
           {
            "error_x": {
             "color": "#2a3f5f"
            },
            "error_y": {
             "color": "#2a3f5f"
            },
            "marker": {
             "line": {
              "color": "#E5ECF6",
              "width": 0.5
             }
            },
            "type": "bar"
           }
          ],
          "barpolar": [
           {
            "marker": {
             "line": {
              "color": "#E5ECF6",
              "width": 0.5
             }
            },
            "type": "barpolar"
           }
          ],
          "carpet": [
           {
            "aaxis": {
             "endlinecolor": "#2a3f5f",
             "gridcolor": "white",
             "linecolor": "white",
             "minorgridcolor": "white",
             "startlinecolor": "#2a3f5f"
            },
            "baxis": {
             "endlinecolor": "#2a3f5f",
             "gridcolor": "white",
             "linecolor": "white",
             "minorgridcolor": "white",
             "startlinecolor": "#2a3f5f"
            },
            "type": "carpet"
           }
          ],
          "choropleth": [
           {
            "colorbar": {
             "outlinewidth": 0,
             "ticks": ""
            },
            "type": "choropleth"
           }
          ],
          "contour": [
           {
            "colorbar": {
             "outlinewidth": 0,
             "ticks": ""
            },
            "colorscale": [
             [
              0,
              "#0d0887"
             ],
             [
              0.1111111111111111,
              "#46039f"
             ],
             [
              0.2222222222222222,
              "#7201a8"
             ],
             [
              0.3333333333333333,
              "#9c179e"
             ],
             [
              0.4444444444444444,
              "#bd3786"
             ],
             [
              0.5555555555555556,
              "#d8576b"
             ],
             [
              0.6666666666666666,
              "#ed7953"
             ],
             [
              0.7777777777777778,
              "#fb9f3a"
             ],
             [
              0.8888888888888888,
              "#fdca26"
             ],
             [
              1,
              "#f0f921"
             ]
            ],
            "type": "contour"
           }
          ],
          "contourcarpet": [
           {
            "colorbar": {
             "outlinewidth": 0,
             "ticks": ""
            },
            "type": "contourcarpet"
           }
          ],
          "heatmap": [
           {
            "colorbar": {
             "outlinewidth": 0,
             "ticks": ""
            },
            "colorscale": [
             [
              0,
              "#0d0887"
             ],
             [
              0.1111111111111111,
              "#46039f"
             ],
             [
              0.2222222222222222,
              "#7201a8"
             ],
             [
              0.3333333333333333,
              "#9c179e"
             ],
             [
              0.4444444444444444,
              "#bd3786"
             ],
             [
              0.5555555555555556,
              "#d8576b"
             ],
             [
              0.6666666666666666,
              "#ed7953"
             ],
             [
              0.7777777777777778,
              "#fb9f3a"
             ],
             [
              0.8888888888888888,
              "#fdca26"
             ],
             [
              1,
              "#f0f921"
             ]
            ],
            "type": "heatmap"
           }
          ],
          "heatmapgl": [
           {
            "colorbar": {
             "outlinewidth": 0,
             "ticks": ""
            },
            "colorscale": [
             [
              0,
              "#0d0887"
             ],
             [
              0.1111111111111111,
              "#46039f"
             ],
             [
              0.2222222222222222,
              "#7201a8"
             ],
             [
              0.3333333333333333,
              "#9c179e"
             ],
             [
              0.4444444444444444,
              "#bd3786"
             ],
             [
              0.5555555555555556,
              "#d8576b"
             ],
             [
              0.6666666666666666,
              "#ed7953"
             ],
             [
              0.7777777777777778,
              "#fb9f3a"
             ],
             [
              0.8888888888888888,
              "#fdca26"
             ],
             [
              1,
              "#f0f921"
             ]
            ],
            "type": "heatmapgl"
           }
          ],
          "histogram": [
           {
            "marker": {
             "colorbar": {
              "outlinewidth": 0,
              "ticks": ""
             }
            },
            "type": "histogram"
           }
          ],
          "histogram2d": [
           {
            "colorbar": {
             "outlinewidth": 0,
             "ticks": ""
            },
            "colorscale": [
             [
              0,
              "#0d0887"
             ],
             [
              0.1111111111111111,
              "#46039f"
             ],
             [
              0.2222222222222222,
              "#7201a8"
             ],
             [
              0.3333333333333333,
              "#9c179e"
             ],
             [
              0.4444444444444444,
              "#bd3786"
             ],
             [
              0.5555555555555556,
              "#d8576b"
             ],
             [
              0.6666666666666666,
              "#ed7953"
             ],
             [
              0.7777777777777778,
              "#fb9f3a"
             ],
             [
              0.8888888888888888,
              "#fdca26"
             ],
             [
              1,
              "#f0f921"
             ]
            ],
            "type": "histogram2d"
           }
          ],
          "histogram2dcontour": [
           {
            "colorbar": {
             "outlinewidth": 0,
             "ticks": ""
            },
            "colorscale": [
             [
              0,
              "#0d0887"
             ],
             [
              0.1111111111111111,
              "#46039f"
             ],
             [
              0.2222222222222222,
              "#7201a8"
             ],
             [
              0.3333333333333333,
              "#9c179e"
             ],
             [
              0.4444444444444444,
              "#bd3786"
             ],
             [
              0.5555555555555556,
              "#d8576b"
             ],
             [
              0.6666666666666666,
              "#ed7953"
             ],
             [
              0.7777777777777778,
              "#fb9f3a"
             ],
             [
              0.8888888888888888,
              "#fdca26"
             ],
             [
              1,
              "#f0f921"
             ]
            ],
            "type": "histogram2dcontour"
           }
          ],
          "mesh3d": [
           {
            "colorbar": {
             "outlinewidth": 0,
             "ticks": ""
            },
            "type": "mesh3d"
           }
          ],
          "parcoords": [
           {
            "line": {
             "colorbar": {
              "outlinewidth": 0,
              "ticks": ""
             }
            },
            "type": "parcoords"
           }
          ],
          "pie": [
           {
            "automargin": true,
            "type": "pie"
           }
          ],
          "scatter": [
           {
            "marker": {
             "colorbar": {
              "outlinewidth": 0,
              "ticks": ""
             }
            },
            "type": "scatter"
           }
          ],
          "scatter3d": [
           {
            "line": {
             "colorbar": {
              "outlinewidth": 0,
              "ticks": ""
             }
            },
            "marker": {
             "colorbar": {
              "outlinewidth": 0,
              "ticks": ""
             }
            },
            "type": "scatter3d"
           }
          ],
          "scattercarpet": [
           {
            "marker": {
             "colorbar": {
              "outlinewidth": 0,
              "ticks": ""
             }
            },
            "type": "scattercarpet"
           }
          ],
          "scattergeo": [
           {
            "marker": {
             "colorbar": {
              "outlinewidth": 0,
              "ticks": ""
             }
            },
            "type": "scattergeo"
           }
          ],
          "scattergl": [
           {
            "marker": {
             "colorbar": {
              "outlinewidth": 0,
              "ticks": ""
             }
            },
            "type": "scattergl"
           }
          ],
          "scattermapbox": [
           {
            "marker": {
             "colorbar": {
              "outlinewidth": 0,
              "ticks": ""
             }
            },
            "type": "scattermapbox"
           }
          ],
          "scatterpolar": [
           {
            "marker": {
             "colorbar": {
              "outlinewidth": 0,
              "ticks": ""
             }
            },
            "type": "scatterpolar"
           }
          ],
          "scatterpolargl": [
           {
            "marker": {
             "colorbar": {
              "outlinewidth": 0,
              "ticks": ""
             }
            },
            "type": "scatterpolargl"
           }
          ],
          "scatterternary": [
           {
            "marker": {
             "colorbar": {
              "outlinewidth": 0,
              "ticks": ""
             }
            },
            "type": "scatterternary"
           }
          ],
          "surface": [
           {
            "colorbar": {
             "outlinewidth": 0,
             "ticks": ""
            },
            "colorscale": [
             [
              0,
              "#0d0887"
             ],
             [
              0.1111111111111111,
              "#46039f"
             ],
             [
              0.2222222222222222,
              "#7201a8"
             ],
             [
              0.3333333333333333,
              "#9c179e"
             ],
             [
              0.4444444444444444,
              "#bd3786"
             ],
             [
              0.5555555555555556,
              "#d8576b"
             ],
             [
              0.6666666666666666,
              "#ed7953"
             ],
             [
              0.7777777777777778,
              "#fb9f3a"
             ],
             [
              0.8888888888888888,
              "#fdca26"
             ],
             [
              1,
              "#f0f921"
             ]
            ],
            "type": "surface"
           }
          ],
          "table": [
           {
            "cells": {
             "fill": {
              "color": "#EBF0F8"
             },
             "line": {
              "color": "white"
             }
            },
            "header": {
             "fill": {
              "color": "#C8D4E3"
             },
             "line": {
              "color": "white"
             }
            },
            "type": "table"
           }
          ]
         },
         "layout": {
          "annotationdefaults": {
           "arrowcolor": "#2a3f5f",
           "arrowhead": 0,
           "arrowwidth": 1
          },
          "autotypenumbers": "strict",
          "coloraxis": {
           "colorbar": {
            "outlinewidth": 0,
            "ticks": ""
           }
          },
          "colorscale": {
           "diverging": [
            [
             0,
             "#8e0152"
            ],
            [
             0.1,
             "#c51b7d"
            ],
            [
             0.2,
             "#de77ae"
            ],
            [
             0.3,
             "#f1b6da"
            ],
            [
             0.4,
             "#fde0ef"
            ],
            [
             0.5,
             "#f7f7f7"
            ],
            [
             0.6,
             "#e6f5d0"
            ],
            [
             0.7,
             "#b8e186"
            ],
            [
             0.8,
             "#7fbc41"
            ],
            [
             0.9,
             "#4d9221"
            ],
            [
             1,
             "#276419"
            ]
           ],
           "sequential": [
            [
             0,
             "#0d0887"
            ],
            [
             0.1111111111111111,
             "#46039f"
            ],
            [
             0.2222222222222222,
             "#7201a8"
            ],
            [
             0.3333333333333333,
             "#9c179e"
            ],
            [
             0.4444444444444444,
             "#bd3786"
            ],
            [
             0.5555555555555556,
             "#d8576b"
            ],
            [
             0.6666666666666666,
             "#ed7953"
            ],
            [
             0.7777777777777778,
             "#fb9f3a"
            ],
            [
             0.8888888888888888,
             "#fdca26"
            ],
            [
             1,
             "#f0f921"
            ]
           ],
           "sequentialminus": [
            [
             0,
             "#0d0887"
            ],
            [
             0.1111111111111111,
             "#46039f"
            ],
            [
             0.2222222222222222,
             "#7201a8"
            ],
            [
             0.3333333333333333,
             "#9c179e"
            ],
            [
             0.4444444444444444,
             "#bd3786"
            ],
            [
             0.5555555555555556,
             "#d8576b"
            ],
            [
             0.6666666666666666,
             "#ed7953"
            ],
            [
             0.7777777777777778,
             "#fb9f3a"
            ],
            [
             0.8888888888888888,
             "#fdca26"
            ],
            [
             1,
             "#f0f921"
            ]
           ]
          },
          "colorway": [
           "#636efa",
           "#EF553B",
           "#00cc96",
           "#ab63fa",
           "#FFA15A",
           "#19d3f3",
           "#FF6692",
           "#B6E880",
           "#FF97FF",
           "#FECB52"
          ],
          "font": {
           "color": "#2a3f5f"
          },
          "geo": {
           "bgcolor": "white",
           "lakecolor": "white",
           "landcolor": "#E5ECF6",
           "showlakes": true,
           "showland": true,
           "subunitcolor": "white"
          },
          "hoverlabel": {
           "align": "left"
          },
          "hovermode": "closest",
          "mapbox": {
           "style": "light"
          },
          "paper_bgcolor": "white",
          "plot_bgcolor": "#E5ECF6",
          "polar": {
           "angularaxis": {
            "gridcolor": "white",
            "linecolor": "white",
            "ticks": ""
           },
           "bgcolor": "#E5ECF6",
           "radialaxis": {
            "gridcolor": "white",
            "linecolor": "white",
            "ticks": ""
           }
          },
          "scene": {
           "xaxis": {
            "backgroundcolor": "#E5ECF6",
            "gridcolor": "white",
            "gridwidth": 2,
            "linecolor": "white",
            "showbackground": true,
            "ticks": "",
            "zerolinecolor": "white"
           },
           "yaxis": {
            "backgroundcolor": "#E5ECF6",
            "gridcolor": "white",
            "gridwidth": 2,
            "linecolor": "white",
            "showbackground": true,
            "ticks": "",
            "zerolinecolor": "white"
           },
           "zaxis": {
            "backgroundcolor": "#E5ECF6",
            "gridcolor": "white",
            "gridwidth": 2,
            "linecolor": "white",
            "showbackground": true,
            "ticks": "",
            "zerolinecolor": "white"
           }
          },
          "shapedefaults": {
           "line": {
            "color": "#2a3f5f"
           }
          },
          "ternary": {
           "aaxis": {
            "gridcolor": "white",
            "linecolor": "white",
            "ticks": ""
           },
           "baxis": {
            "gridcolor": "white",
            "linecolor": "white",
            "ticks": ""
           },
           "bgcolor": "#E5ECF6",
           "caxis": {
            "gridcolor": "white",
            "linecolor": "white",
            "ticks": ""
           }
          },
          "title": {
           "x": 0.05
          },
          "xaxis": {
           "automargin": true,
           "gridcolor": "white",
           "linecolor": "white",
           "ticks": "",
           "title": {
            "standoff": 15
           },
           "zerolinecolor": "white",
           "zerolinewidth": 2
          },
          "yaxis": {
           "automargin": true,
           "gridcolor": "white",
           "linecolor": "white",
           "ticks": "",
           "title": {
            "standoff": 15
           },
           "zerolinecolor": "white",
           "zerolinewidth": 2
          }
         }
        }
       }
      },
      "text/html": "<div>                            <div id=\"8b36dd89-6b03-4ecf-bec0-064254a38f7e\" class=\"plotly-graph-div\" style=\"height:525px; width:100%;\"></div>            <script type=\"text/javascript\">                require([\"plotly\"], function(Plotly) {                    window.PLOTLYENV=window.PLOTLYENV || {};                                    if (document.getElementById(\"8b36dd89-6b03-4ecf-bec0-064254a38f7e\")) {                    Plotly.newPlot(                        \"8b36dd89-6b03-4ecf-bec0-064254a38f7e\",                        [{\"showlegend\": false, \"type\": \"box\", \"y\": [0.9892489908425752, -0.47700785044982313, -0.8210068334548506, -2.7893453134989983, 0.21351065934623556, -0.8447298903789445, 0.675990571710932, -0.5167149636642191, 0.9996699383131342, -0.6291793664883297, -2.4881473411554675, 1.1306424823226058, -0.6780176049871136, 1.1363261872023493, 0.25787235050740487, 1.1365141870152298, 1.5357540367092413, -0.7921798594536751, 1.6051712804744611, -0.7002217329916203, 0.40195752793794703, -0.2531545935964433, 1.6729910407530322, 0.1829080350476273, 0.05929554843105813, -0.3320730707023103, -0.286895744268543, -1.812599901064575, 0.9545135740914479, 0.012534089833795642, 1.469855213076464, 0.8180486061694127, -1.3197165293924877, -1.121897850629771, -1.746040678799991, 0.27045605005213474, 0.0009443089857867502, -1.2265568941330358, -0.08002404051996284, 0.6529162177987621, 1.144060056328598, -0.8150052042493728, -1.1217483300302626, 1.771178268737858, -0.09127514229498984, -0.7467647829039956, 0.10335049229993673, -0.7609311303452758, -0.7295841781460239, -0.7766667756062792]}, {\"showlegend\": false, \"type\": \"box\", \"y\": [-0.7756615453419757, -0.16920629194456704, -0.31704592406825394, 0.2572397007591947, -2.255283987939158, -1.9527812419051436, 0.9416438699445738, -1.4983508180615992, -0.41018161224986915, 0.9305481337351323, -1.734880773879635, 0.2393153438068395, 0.7211637396777009, -0.19490170034322762, -0.9243795215380728, 0.7652303849932117, 1.5436460908619636, -0.7624386323402007, -0.2971756864945524, 0.15413195911428668, -0.3730603343121341, -0.2565817180793405, -2.775347166204717, -0.22138007509471716, -1.4212786834742364, -0.34427646979407467, 0.907828740225255, -0.4935942027735295, -0.001970474197237543, 1.8530672700397721, 1.0757423633126635, -1.2368268691593565, -0.6222678713204857, 1.0743629651389364, -0.49742871749365103, 1.4815297741443354, 0.5865306749677542, -1.9775182727444665, -2.004826187742923, -0.2690835680423472, 0.17233787384222735, -0.6049159591714357, -0.4881772962672396, -0.5383508515569317, 1.326819605204947, -0.6852150488843072, 0.1903318291662866, 0.8799000539484944, 0.9578080861188764, 1.5244700164996394]}, {\"showlegend\": false, \"type\": \"box\", \"y\": [-0.09467846843690389, 0.1732762173793922, 0.5152628812519288, -0.43714247686386537, -0.9137144915726199, -2.239071116949574, 0.21554358085567643, -0.8676495733975276, -0.44354319522845725, 0.663017190729669, -0.7434559700145371, 0.13515348761047638, 0.7746121122305432, -0.4728244007486287, 0.18749700243267328, 1.9838034619934886, 0.14547570701923965, 0.034261890082317684, 1.6487714845869077, -0.5845880100707193, -1.2772923219717895, 1.094272897608334, 0.7757133284991532, 0.3107002823772957, -0.893282796594914, 1.1551188234459184, -0.39677615914708925, -0.2000583233678008, 0.5500176720615038, -0.9064353382342116, 0.6161859954376836, -1.5744478383012945, 0.009730222050359264, 0.5493584010228802, 0.18683417541407185, -0.2669686624848752, 0.14455133830603073, -0.665718117914943, -0.4666162078637824, -0.5714357432239255, 0.5011076164904759, -1.0402618495945068, -2.147203977044104, 0.5573762555046459, -0.46316697811376206, 0.3339390875479756, -0.47210299766742875, -1.0807377118324393, 0.39562413603893926, 1.5682793192777877]}, {\"showlegend\": false, \"type\": \"box\", \"y\": [-1.0654237931810948, -0.2937762164571127, -0.17963577835779143, -0.014588749790998013, 1.5767132752738773, 0.9151947079850975, 1.2192211503739552, 1.069997797832474, 1.659902400179447, -0.5838167303329217, -0.32986002004408604, -1.4232512979585963, -1.1154268702346657, 1.3745112665572194, -0.5320894006997208, 0.16627200013174268, -0.9786936501626835, -0.9251016394056902, 0.9020351119497116, 1.1788708525704064, -1.0476182177171474, -0.4792543157810577, 0.19813247584327381, 0.287753570008562, 0.24257157657664427, -0.923683628888296, 0.033383247654959564, -0.07080943599820361, -0.09451521563848427, 0.526979711028237, 1.9886404065997567, -0.19787590216350298, 0.8689253298529354, 0.06536527637268402, 0.936444086402106, 0.2441697438875321, 1.0681692908944886, 0.8315828048129786, -1.7701338143072023, -1.9966624677716633, 1.2702639162432312, 1.6612953669822417, 0.4862873509934193, -0.7937464603694818, 0.10135933020682202, -1.1974085301295363, 0.40644211338039243, -2.0167845256009405, 0.4983938715943675, -0.0713217999099446]}, {\"showlegend\": false, \"type\": \"box\", \"y\": [0.47784196070056595, -0.3039462268008983, 0.4916456205823884, 0.8183430109200752, 0.36633679537514785, 1.9498243986792607, -0.9163055519539215, -0.05444024131057428, 1.2638157865824542, -1.533239447056481, 0.8439752166246414, -0.6170839860371028, 2.112897679590252, 0.4626831630915263, 1.2024159663334855, -0.8597280323394768, 0.05959560112024632, -0.042514929690256706, -0.5352014731866913, 0.019627275943062975, -1.4510700764224325, 0.07642172736325555, 0.25764706056253633, 0.113486960883941, 0.3534307119031147, -2.559842330197792, -2.547745674658209, -0.934274103490205, -1.487915480227505, -1.6259665030315897, -0.1494887231407909, 0.025013518272125362, 1.2753529538013395, -0.23112154428107679, 1.183853530682084, 0.5924405296863375, 0.9980993477420206, 1.6448875050551883, -1.6048704581503486, 0.3531737237132648, -1.082788825545018, 0.723216301206005, -0.5886616420176431, 0.8152150425777778, 0.4917878488314328, 0.5101654883291011, -0.4461461304594186, 0.09965620658855309, -1.793434044162663, -0.07295015746751787]}, {\"showlegend\": false, \"type\": \"box\", \"y\": [-1.8395664649310015, 1.2210880331672453, -1.013617131620807, -0.39395144072700355, 0.9478208941848553, 0.5025170077805609, -0.5556246893985097, 1.4337474483995252, 1.6540819389283632, -1.9635044832246373, 0.6922594059950664, 1.5384365246670908, 0.6646705557462146, 0.43283474385428083, -0.8931469035823153, -0.2587505944914695, -0.1256921764480532, 0.5006056106284065, -2.3111249803168064, 0.474738753548815, 0.6367525788269791, -0.1423224380323292, 1.9813326692663968, -0.7840664974061757, 0.3247955561828495, 2.289977190789738, -0.028147343752478855, -1.18183916406216, 0.46693827690113093, -3.344050949623906, -0.9166145814667885, 0.5160992915667824, 0.011010214051609119, 2.134536199563771, 0.5058615031119813, 1.043598961920759, -0.39137574343724846, -0.1262581302951711, 0.3304756909807043, -1.0921305813796423, 0.14364626852410162, -0.39020417920755174, -0.9580776803401873, -0.30944362717835683, 0.5596920373151968, 1.7380573941013655, 0.3337577613057823, 1.4366333112532974, 1.0842966031979508, -1.066890514323273]}, {\"showlegend\": false, \"type\": \"box\", \"y\": [1.1067024123452716, 0.7909004826406442, 0.27627264756569697, -0.41590783105056894, -1.043927636862466, 1.1703192669621034, -3.155689434782127, -0.8154703805344802, 0.49704560233595785, 2.380266098494948, -0.1695031859062283, 0.40657679198919067, 1.0181114779992728, 1.2676407138016637, 1.524304358797305, 0.015600809983404582, -0.5309061965478561, 1.6245748349248363, 1.708475435949803, 0.08035684435375359, -0.8592150219753059, -1.4278719607135377, -0.7422840529338816, -0.27540887020332117, 2.0135496479597084, 1.2659416581100755, 1.5853514323116966, -0.5468598984080065, -0.017686214389028437, 2.4535000765166797, 0.4131478631039046, -2.1518152538965696, 1.0621932580300728, -0.35962752437248874, -0.16627630567591953, -0.7410628414625683, 0.6423552189104531, 0.14665568874085974, 0.7259311639272404, 1.4930902185378405, -0.6562436254000036, -0.6102482909948055, -0.3923943850471589, -0.9967453949178687, -0.21913014836986444, -0.6909911377783609, 0.16446341785705756, -0.22765720443734733, 0.17618998797093108, 0.7438243367792325]}, {\"showlegend\": false, \"type\": \"box\", \"y\": [0.639403375977107, -0.16171871184906159, 0.116872424437584, 1.115865512438875, 0.8287301873042222, -0.8420072834746807, -1.555795099541603, -1.0509957146541875, 0.21924246433334407, -0.563682432496134, 0.7378692741060483, 0.7259907812151416, 1.095160291929327, -0.3631575985562705, -0.39617238419376133, -1.6382878356391877, -2.366658647374151, -0.5266178476238971, 1.7334235882498659, -0.28199654329099894, 0.11176490934714607, 2.490741662909674, -0.5509751367124058, -1.465868360504528, 0.7984125302841729, -3.1284569027815, 0.30302625970011493, 2.531860476397945, 1.560892147089229, 0.34210280320365777, -0.5561889776899837, -0.2640735077039739, 1.104141816547183, 1.7222112558589848, -0.4894570123365367, -0.02534142845192059, -0.363717204753287, 0.8579218517396016, 0.13117024359499188, -0.5963209211710306, -0.6233044607414315, -0.6376464425098751, -0.1449998354478975, 0.3753344937719484, -1.2798235829753708, -0.2417458889008464, 0.836017812018326, -1.6301467698783845, -0.6128334763154984, -0.2650291807998041]}, {\"showlegend\": false, \"type\": \"box\", \"y\": [-0.8568623136565248, 1.887869618762712, 2.4584678635689414, -0.5173270751204414, 0.15266760460449352, 0.14312081656892947, -0.17456261515043223, -1.2211409717209538, 1.2588179793477152, -0.27100611356229054, 1.1923036588010558, -0.28585473667253775, -2.2794555367074065, -0.4607686072579862, 1.0655008297162003, -0.8915302544086997, -1.4616453395500764, 0.870418399687893, 0.09432092692577733, 0.3272166583994138, -0.42497988911798623, -0.49108629333382114, 1.156019787164532, -0.6890224251045464, -1.8131931656767606, 1.2120742241886562, 0.9852745388414067, -0.4679879456228985, -1.0813120675950656, -0.7729971495259269, 0.47501940489604605, -0.7858345768740268, -0.068344433207413, 1.8877269117653273, 0.561767248926666, 0.9334469438824959, 0.24893339772537976, 1.4155442228071036, -0.7879064310332816, 0.47693782898506554, -0.5427576526822855, 0.6396626678655407, -0.4062337923134506, 0.9693774072748251, 0.9246600245140416, 0.6606606158568898, -0.6631872766120636, -0.5332599832379519, -0.7996681047878772, -0.946091093881893]}, {\"showlegend\": false, \"type\": \"box\", \"y\": [-0.9016168049987979, -0.8359256678149218, -0.20626000233068473, 2.3034820120644355, -1.109970350116903, 1.2589000823485168, -0.06123918224092267, -0.8109781176344707, -0.3412524061505679, -0.8409388575320519, -0.5094426685053344, -1.4058402570585784, -0.26264677917736295, 0.1857892274307113, -0.3487646536551427, 0.5651264237247898, 0.46865967316007534, 0.0763696034723952, 1.0899471620037597, 0.51868964098575, -0.7641642716119577, -0.1848155239864033, 0.0803653714434695, 0.09298504428350308, -0.9065070088893209, -2.194290418657619, -2.375882193219542, 0.8429654733569047, 1.1030287575979816, -0.10774539101071524, -1.0464334644181497, 0.08077225615945778, -1.2148693319209805, 0.766348463961656, -0.40106855158713306, 0.4772799966032115, -0.06710494973238937, -2.2318055748894388, -0.05399238767856753, 0.03607342107615453, 1.2111246302231136, 1.2837940784518822, 0.23474290405893142, 0.529549934719604, -1.3863315143170314, -1.0512804006040815, -0.2325356781130074, -2.0361594171178963, 0.24547142423271867, -1.7638746239872587]}, {\"showlegend\": false, \"type\": \"box\", \"y\": [1.2678105061069243, -0.7886437386394903, 0.9745923274091659, 0.1472436531155892, 0.18859347432206283, -0.12336455628098077, -0.46007143627015584, 0.609024994931132, 0.03443822899842772, 0.7176059609430869, -1.8607065398097329, -0.11943798541995414, 0.12806112460276364, 0.8726641846004268, -0.4282203961920832, 0.17999917732147985, -0.982488672851274, 0.5021533948510293, -0.6441339380851766, -0.8449794726251321, -0.960998457033103, -1.266689684107363, 0.7192432929261339, 0.5828705653934968, 2.7063943112299658, -0.29304653391863744, 0.4764194206170281, -0.8106790815275126, 1.6826708678090807, -0.5542896417145476, -1.0564345452980262, 0.3386619404134247, -0.22585330181466215, 0.3893427802524548, -0.7231955869269421, -1.4301503264675437, -0.07310123557214207, -0.1585794560097137, -0.47952370438369774, -0.3988022721131401, 1.25279552618623, -0.47234036313750766, -1.1486631777170677, 0.162674013596789, 0.14195274088752688, 1.7132723457223502, -0.23641238890877164, -0.6463566688968586, -0.2719633069199429, -0.2074638700912989]}, {\"showlegend\": false, \"type\": \"box\", \"y\": [-0.16415104678747644, 0.3218557744058327, 0.32337306041967206, 0.3635640455435131, 1.324703351630293, 0.8339745329726582, 0.01826855388987196, 0.5458256513602662, 1.5105171988654855, 0.9141356919708952, 0.9595119168403329, -0.10751414081926837, -1.0843836162661469, 0.5288367668438355, -0.46731486707231773, 0.5744511830669767, -0.6721393696625231, -0.41628364205379254, 0.14528656713424642, 0.26432792672650635, -0.8914984405579616, -1.4155060624850468, -0.7814726140384308, -1.0717455981072619, 1.4943607565422685, 0.008538789983792988, -0.019562691177017453, 1.2892812012712138, 0.07692893495794086, -0.9857296988596702, -0.025200278065927298, -0.4265504186062369, -0.10084993945905422, 1.4607135384043268, -0.06617445120044911, 0.7738494905107394, 0.14279367679077815, 0.966516970180869, 0.4550649605542607, 0.4057607212248693, -0.7468358311704711, -0.47630122914676404, -1.0618492847814809, -0.06846173114806918, -0.08781496633630889, -0.19281275233060438, 0.9225643365961026, -1.6245675141940576, -0.3867128541868818, 1.1106581639616893]}, {\"showlegend\": false, \"type\": \"box\", \"y\": [0.42324512834365585, -0.09531141177353838, -0.0014583903685265339, -0.018807090375161407, 0.12294019097984187, -0.6289332227411022, -0.14589347428628363, 0.6044375509950162, -0.6920130715703486, -1.6145641013327436, 0.16193296640377203, -0.7631964547504486, -0.23200211181381483, 2.527063407397958, 0.8755973392387142, -2.263867724412134, 0.0966749804798699, 1.1207913718150508, 0.17509570341996905, 0.12705323375387328, 0.25324093362053884, -1.5815701490522696, 0.88645911872035, 0.21760586183937225, -0.4719428494243483, 0.515354952184864, 1.060137972277559, 0.5233980473316608, -0.5141155706384539, -1.2919850556661712, 1.3753115995754026, -0.8430805704937077, 0.44998766643493765, 0.0374962210385689, -0.6415512874208135, 0.3805852632846305, -1.9088035770777154, 1.3186424582580798, -0.20302004034109591, -0.2628150325946152, 0.30306610458916833, -0.7714747729219484, -1.3807813272129048, 0.539888469844042, 0.4680089570084494, -0.7847554835822437, -1.1033170441309994, 0.4583061856246033, -0.4954469901913501, 0.22699258514893816]}, {\"showlegend\": false, \"type\": \"box\", \"y\": [-0.49252370387195515, 0.9390063273544437, 0.5673231958810562, 0.23101999664691814, -0.11090547001325261, -0.6552160224342377, -1.1975134433725019, 0.023335986742626668, -0.37467790174627474, 0.16335157035356615, 2.798485650511412, -0.47822050712929015, 1.7539986356698363, 0.21847061802289144, 1.8167840220849856, -0.32206773982129827, 0.2639058996488767, 1.2350281149602207, 0.5857336469832909, -1.1575275536207268, -0.7700141426790047, 0.7149481990555477, -0.836382103521322, 1.273286852183151, -0.3600227779015855, -0.28842401903895964, 0.67920304692078, 0.8441189945044626, -0.4212707045665976, -0.44463289122913846, -0.9555035657745571, 0.03154058919668916, 1.5571886212978177, 0.9044831128726951, 0.8726527084496987, -0.6997512793853162, 0.5689671875783299, 1.36023087652335, 1.2856129666419576, 2.269492260169485, -0.39271703632721544, 0.9945600924492197, -0.04022409462293157, 0.2540361576462676, -2.221625745461212, -1.7608550686761484, -1.8380011156173577, -0.2715927935532803, -0.46972509677596364, -0.42238989132687543]}, {\"showlegend\": false, \"type\": \"box\", \"y\": [-0.2635772598074154, -0.10222676023386904, 0.743838936604867, -1.177403750769786, 1.6507680301261223, 0.3607602856564718, 2.087796231343295, -0.33290100605104717, -1.1301785229458536, -0.7458204385108262, 0.3639453799492597, -0.29491084611389834, 0.41257354128867674, 0.10853775480600479, 0.47113114259311706, -0.20489624417561828, 0.7357672060962442, 0.37271312289063746, 0.27129181053719503, -0.15175644067578642, 0.4841696318566825, -1.5611942709775228, -0.02380826208690286, 0.14322637049502557, 0.9872575785318131, -0.9042826009677704, 0.1455343442240177, 0.12554981411150326, 0.6884454426755959, -0.886359509550379, 0.371175254746196, -0.426206749639919, -0.05454876201309066, 0.09067288274959244, 0.7604099779271447, -1.9544192677261858, -1.3474111904651647, -1.3245700497868902, -0.9647246562385694, -2.4914843771620303, 2.32090919325531, 0.22247833341970935, -0.6725138308785638, -0.33732306743816365, -0.26256656881174184, -1.4194797910732326, -0.09291820126375432, 1.124372435630311, 0.3052917277160487, -0.5335813913964917]}, {\"showlegend\": false, \"type\": \"box\", \"y\": [-2.268762465024301, -0.5446733306268475, 1.6819720010762902, 1.2643933475730633, -0.8368924900656843, -0.8726531309952508, -0.9257949352476846, 0.629326251529517, 1.0244395119877765, -1.1687983611492623, -0.9990597980961459, -0.007157174832807971, 1.0037332297499733, -0.9484308628933836, 0.19174880699369556, -0.60483238518464, 0.40221990957900927, -1.3606194150968929, 0.32495900919427423, 0.33678232733471725, 0.6482586829105509, -1.68945240128075, -1.5251541034022267, 0.04045105881520972, 0.6933834193304113, 1.204097035991995, -1.0084338912722772, -0.798693371488453, 0.2926023007880356, 1.013890884809535, 0.2182686930038365, -0.02356729048056708, -2.453855570208808, 0.9463090723517542, -1.858853249814968, 0.29186839957311567, -0.4081949818451312, 0.39837177946590785, -0.4879979048294001, -1.6572432772583507, 1.0762294007800361, 0.9254948811392129, -0.26347749359017136, 0.4644040867773308, 0.5077315804853796, 0.04984112714425095, -0.9478298823846708, -0.43375412293644744, 0.5039129327639216, -0.5686720728601588]}, {\"showlegend\": false, \"type\": \"box\", \"y\": [-0.7429085585934682, 0.8344373275331193, 1.3722234996058456, 0.5248059567035902, -0.18805172762995212, -1.2978332332744467, -1.9476822888511, 0.32229983573116777, 0.5359787617117878, 0.7082720776823221, 1.5630717633948943, 1.835435683571365, 0.88883799995627, 0.3147900334525263, 1.2511084071219376, -1.027494669986793, 0.6843092263413268, -0.029288148118441756, -0.549129726928105, 0.8285007547612248, 0.8123763109371723, -0.8802683209453182, 0.21366611981006858, 1.115727224391185, -0.6387049260352484, 0.020239450112177607, -0.07872041479684759, -0.3373083154393419, -1.7107265880780833, -0.009619150610942196, 0.9147417206139199, 0.8472884386795517, 0.410100565113339, 0.4380509809491317, -0.27514823262242094, 0.05501121480487922, 0.22409034772747322, -0.48520771253060524, -1.576735903856465, 1.2196250586434285, -0.5788654719342484, 0.31954762489366867, 0.26255957968637156, 0.6743739624443463, -0.5777146179728188, -1.8638037271259078, -0.17349384034098908, -1.448597851413006, -0.07471130050947655, 0.8283502786877132]}, {\"showlegend\": false, \"type\": \"box\", \"y\": [0.7052337945631564, -2.393226954526812, 0.07137795920430193, 0.08852302976165714, -0.3929940858603961, -1.4994614084252007, 0.6646328843231727, 0.593927027797366, 0.0741387908994575, -0.9766370323484084, -0.9577979723032464, 1.2376909921168826, 2.847413455627386, -0.30741208365012535, -0.45206231337183544, -0.5249941969784904, -0.24437460469311606, -1.6841980404455272, -1.475373157246726, -1.383154292901328, -0.7336990801087597, 0.24000524709303295, 0.18862096731283687, 0.5304477468557605, 1.4384945157348659, 0.2846548373985698, 0.7210233680441362, -0.3557324324575221, -0.9572598001058159, 1.2897391676342198, -0.3890371543602942, 1.15983035250786, -1.2474592561716198, -1.3348624552513455, 1.0413064502496072, 0.09967911448393027, 0.15086103073361093, 0.13641296005003414, -0.8905696609513535, 0.16182785142663808, -0.00695050567719538, 0.27801409738349775, -0.6480124400908475, -1.918640381364889, -1.3731694564407675, -0.024588139379778565, -1.21715908264491, 0.4664226324163749, -0.6660724814112077, -0.08582430222968311]}, {\"showlegend\": false, \"type\": \"box\", \"y\": [1.3026097830777168, 1.4412645609718033, 0.20077248014405127, -0.9880483995274266, -1.6901396656310435, -0.7094185658879831, -0.4564539391086227, -0.01287720306997135, -1.3628136668624835, 1.7000115277747232, -1.016103922444667, -0.7528392916221621, -0.9224501757474155, 1.3328261385487181, 0.014128957411567108, 1.3547512295272828, -0.07010425363708607, 0.48001148155045964, -0.8078373133094611, 1.4325022295389211, 0.934384637820781, -0.8854829080502965, -0.1374757418968157, 0.5907046862310846, 0.18744770551062423, 0.7517267002466188, 1.0366888231359075, 0.6922978332606433, -0.5673963342735481, 0.3674000897895546, 1.2936641785574123, 0.6583990702474865, -0.30635217174324025, -0.2548306868930474, -0.8595995079654568, 0.7073133606108126, 0.49556862515862987, 0.09678027460477172, 1.4530131391457068, 0.0046740681138135644, 1.318786149450778, 0.4342261475943784, 1.225072472033907, 0.3545722971101239, 1.0495196862429244, -1.1924607392524773, 0.2512714597322264, 2.778641898057178, -0.4523130185094331, -0.762536329838067]}, {\"showlegend\": false, \"type\": \"box\", \"y\": [-0.6427144601855949, 0.19846651684660335, -0.2544685686904665, -0.8026274547256924, 0.7215771366325526, 1.3224480439231812, -0.8476956744994643, -0.4038670058773548, 0.051333995408512904, 0.5765395118224984, 0.20781783422364844, -0.08878390514792857, -0.1807638752876748, -1.0207756920464104, 0.8335994485844436, -0.8263011165734616, 0.3805236772300721, 1.1386209449820826, 1.325436624503488, -0.17395101223078765, 1.0398039161741157, -1.4886019054937836, 1.5486136102957913, -0.5438836301484802, 0.4358579569114427, 1.1173274422736068, 0.572727298197704, -0.2377205472760732, 1.012996911756686, -1.3107636528198008, 0.073273974010546, -1.8891896440722407, -0.7396008242359955, -0.6865918206540651, 0.8655881543100642, -1.193333115113795, -0.07278468406412668, 1.5013007153910383, -0.5949822117251625, -0.9238148276510602, 0.043412885332347696, 0.3785700073887172, -0.557791331487469, -0.7865203736682468, -0.32550444789111604, -0.03333247070266525, -1.3737718443107687, 0.6134957337659599, 0.5428503473236463, 1.3986723969424908]}, {\"showlegend\": false, \"type\": \"box\", \"y\": [0.8300354691129191, -0.5377923396854333, -0.5748993447910663, 0.8261988170499861, -0.034029527229957085, -2.3694520738339535, -0.14471160021594678, 0.30183974546719033, -0.5413923508308941, -0.2290093455154522, -2.3091378654113868, -0.44572372294050827, 1.4915593724868517, -0.09976862926078733, -0.38509760779191143, 0.24414177464367118, 1.07036198162404, -1.573581656119413, 1.0421002221889852, 0.3212348996376526, 0.5840160002852748, -0.2404851839514161, 0.5934650111546033, -0.2772521980559027, -0.22822708005560904, 0.21332106469313075, -0.3515469862578312, -0.8014635259706604, -0.6410015634818524, -0.7272126122707784, 0.7349018637601121, -1.180673031911194, 0.635249255341064, -0.9026166295237068, 0.8788970574288776, 0.06026685008993585, -0.4529531484982135, -0.48439340650226537, 1.063944361246308, 0.3560616425335169, -1.3213221324803095, -0.30556350915488223, 0.7833047051081653, -0.5947698815303621, -0.1026337625956402, 0.304614483647515, -0.29745449355670994, -1.5088589134128616, 1.3114984430155372, 0.5309850296680731]}, {\"showlegend\": false, \"type\": \"box\", \"y\": [0.07078966553291495, 1.7069347862635946, -1.6044138130703391, 1.3713119758540289, 2.0730971872480266, 0.05220819719556307, 0.1886882241654473, -0.055381786996495555, 0.5433293274043065, 2.239746018746269, -0.6883366644367455, 0.1748613508949598, 1.8292568617072047, 0.1433410665489186, -0.494531257972139, 0.5580703580741976, 0.6132808931716569, 0.1395077129744965, -0.10279027118751399, 0.11848201393985876, 1.027377747431223, 0.9872904348008473, -0.8868301025681361, -0.5533580521641419, 0.38838807033573897, 1.4513833341608233, -0.7745757696649034, -0.7711215733447605, -0.525434779711865, 1.2734677715207259, 0.37828413725041693, -0.22290298603597908, 0.06219244274659312, -1.3473289236501151, 1.0353804136944345, 1.2604229264673192, -0.5877309864116903, 0.38267689404125194, 0.6793586165985414, 0.4945030093192572, -0.6619461119978657, 0.7942925262183134, -0.4852550373918091, 0.3571314104183226, 1.5204022790473908, 1.9631314640201851, 1.7464734458403444, 0.21799166170120537, -0.2748212889803264, -1.1713956953703506]}, {\"showlegend\": false, \"type\": \"box\", \"y\": [-0.515579300491745, -0.16649430475399438, 0.2010779849614781, 0.11141445016604701, 0.7831412029838302, 0.43245934039501305, 1.147443211141655, -0.40564202756099077, 0.5500989081628681, 0.2234209555309776, 0.36429912570710954, 1.8225669858193352, -0.13591540373344185, 1.363729600713647, -0.30345481255455314, 0.25270385070632617, -0.3816612870384587, 1.09475378676215, 0.16917263517679265, -2.1561379355921724, -0.5772950511380986, 1.2689900146814466, 0.21154982046775073, 0.06071621160058004, -0.20063442468573875, 1.3834356732963886, 1.1963068310051734, -1.9053294534890886, -0.6374351265009369, 0.6605026756934876, -1.3747998481114319, 1.591400320862268, 0.29646188901027476, -1.231145301515836, -0.04229990807322888, -0.975469297605646, -1.4062181258121893, 0.6821924136995793, 0.6221036742523399, -0.5387635259728563, -0.5941930308260707, -0.21313752728705146, 0.33813891588988665, -0.3753533887790616, 0.4555244602756959, -0.09989156894593529, 0.35097188193922957, -0.20147323215772062, -0.2509060314315302, 0.1131896168759837]}, {\"showlegend\": false, \"type\": \"box\", \"y\": [-0.056835206559055634, -0.5868639081605519, 0.5051505446477766, -0.17769736919426554, -0.4678118978613852, 0.4421743653324378, 1.3791876280379156, -0.052765105867738936, -0.24973327523319988, -1.3498564852609958, -0.013509828380235222, 1.054460574863688, 0.2661523949374692, 0.7506357240360629, 0.4181473512209292, -0.20947710425225655, -0.47574387830207826, 0.1818565959976663, -0.01673496446793422, -0.2815076193595196, -0.09404596091620844, -0.2723534053878089, 1.1546285097813112, 1.6604130075892165, -1.2525502526923393, -0.5704501811341384, 1.4077151377420196, 1.139376703698985, 2.063631589904441, 0.8271532400644639, -1.2365338772962606, -0.49441976045933067, 1.1784384915338297, 0.20892065654951145, 1.210876003681251, -1.7368150981722066, 0.6656293886236063, 0.11094986346145984, -0.809333407693016, -0.4130191533494334, 0.33149880224048306, -1.0396563219794406, -0.0482441179450473, 0.37039773866311826, 2.4115319099379455, 0.22299888322646816, -0.008072493499263774, 0.975594970367327, -0.891674897279477, -0.8385734870995589]}, {\"showlegend\": false, \"type\": \"box\", \"y\": [0.004754007623235196, 0.6816717845276585, -0.017638815647879672, -1.6352362902304924, -0.19800604676285868, 0.28583245595602536, -2.0285466705307633, 1.5478502233404032, -0.5466178403074298, -1.1094047679179178, -1.0616119619438087, -1.9190313029759463, 0.36539321559059534, -0.07751437415048253, 0.8541848181124845, -0.8939183381700898, -0.4831480346341342, -1.1925995113734045, 0.37490855079960106, 1.0414925344741828, 0.2660765156072858, -1.60691166912308, 0.4708367284180302, 1.231770272727091, 0.9605899448287644, 1.2212653847176382, 1.941204294251386, -0.1534735475619588, 0.21783249265095744, 0.033569380098824424, 0.3832515840232604, -0.5399322052017906, -0.4810990608190781, -1.056703029888913, -0.20877549521821953, 0.5139634123445752, -1.9114868421868987, -1.3413406837009278, -0.23103072012836587, 0.12187462026488889, -0.3245775378955227, 1.6094598920711944, -1.0208348242282719, 1.6526792463200817, 1.2467294386181538, 0.9111916480826292, 0.2261625980959651, -0.15973373464905935, -1.339350296303487, -0.5282554699511619]}, {\"showlegend\": false, \"type\": \"box\", \"y\": [-0.9526685000907374, 0.5362264446589567, -0.1621198849342345, 1.749971137780266, -0.2979520009207864, -0.3401818554127778, -0.19753647118799295, 1.2027604841051027, 0.2730317252042489, -1.1974489282660203, 0.12754059312046245, -1.7637126409111468, 1.821852656235233, 0.39654616019255146, -0.5212219213849644, -0.20880934200060636, 0.05552518105354163, -1.885986703631588, 0.0054988499205714785, -0.4425859537756641, 0.08793991037379645, 0.003633433331366834, 0.10960328271098575, -1.4570619102263742, -0.5555444521116931, -0.4797442319375953, 0.1992241448859838, 1.8154871853743946, 0.5683957657519428, 3.435577293906586, -0.05436092134919653, 0.2374162792545903, 0.40215006480571996, -0.9805200311202443, 0.2553946979002068, -0.3398261874565333, 0.9434799343292479, 0.38708982433771816, -1.582390846472289, -0.6251918479416971, 0.8656358504773579, 0.6115321957162124, 1.3741851240759364, -0.3737575578927715, 0.7495959278041276, -1.3068175886251059, 0.6401458083447925, 2.3272229816802557, 1.495121217989375, -1.8641165326526465]}, {\"showlegend\": false, \"type\": \"box\", \"y\": [0.1162301251350709, -0.6788620972207128, 1.2815573293541476, 0.1559499367890828, -1.1774017861460984, -0.6619682043641734, 0.5961322322788966, -2.784468487377183, 1.7180513162274393, -2.2214901109610685, -0.6418597337521839, 2.201939766638182, -1.855754502396409, -0.6683882206726072, -0.014591690715921007, 0.727547053934683, 0.9386101522178232, -0.028448382167460838, 0.48074004001651444, -2.0608330743470753, -0.22375585608401952, 0.8499350528692323, -0.017663193413187242, 1.000411540697968, 0.3629656701713379, -0.8055630499521298, -1.5880429196574304, 0.0029707828481057436, -1.8043050021429088, -1.5548794541662219, -1.28944405413535, 1.2295237102843806, -0.4477840996310943, -0.9646345491431628, 0.13790851344903493, 0.17088132228477793, 0.664925847121217, 0.4735661624722616, 0.1527588158052888, 0.3493884698378714, 2.2820109476204173, 0.3007594659801149, 1.2808442697727607, 1.471475226069186, 1.8946566780369436, 0.014117468553473775, 0.954319005764725, -0.26580408066015443, -0.8955924280746225, -0.37348167194535886]}, {\"showlegend\": false, \"type\": \"box\", \"y\": [-0.4329516090615114, 0.8748823822172349, 0.9544449151424307, 1.1197284533464138, -1.3432388985724009, -1.4603868192606146, -1.4762261910500236, 0.5152479274379134, -0.721681822226197, -0.5645747095922061, -0.8856878512777506, -0.39376639237661615, -0.5627286375886749, 1.437253442534045, 0.768389655871242, 0.6923247362020838, -0.09973853837767105, 1.3490703347874853, 0.6582774890845746, 0.013217510669105342, -0.13341769831736736, 0.3163408206484002, 1.7094848537476288, -1.1835493057694877, 1.3486782169807399, 2.241940570128414, -1.5712033058948613, -1.3208673074581943, -0.02098861393185782, 1.0719365549386881, -0.8908048179920821, 0.666952057677051, 0.49077851687387275, 0.5866378367412175, -0.5087276823069661, 0.594530999006896, -0.22226648315375924, 0.21641144174072088, 0.5746294489629948, 0.09433750998808864, 0.2691753107546129, -0.4320748310247068, 0.5004560608620722, -0.627659292144181, -0.8169642468878494, -1.512742715722843, 0.05796781324812697, -1.215636425913175, 0.2746049021470871, -0.05948491570724635]}, {\"showlegend\": false, \"type\": \"box\", \"y\": [-0.17577517912207138, -1.2354349397711706, 0.9011466408666537, 0.8180286005156624, -0.45812510851145866, 1.1420048383118964, -0.3663317234575747, -0.5448168852100738, 0.08055906882273221, -0.3937040974309007, -1.1340406674394352, 1.5205968620899473, -0.07944023988902747, -0.8279111688209728, 0.8390127516538899, -1.0335032969094635, 1.1623635868788171, -0.5495849751086518, -0.3377227253367988, -2.478212301941238, -1.5565677294675768, -0.1762059367162596, 1.7016027893790364, 1.145496419242235, 0.13754278025252195, -1.5334799406169064, 1.4437031868388264, -1.2434903160694153, 0.17301290902089755, 1.0228705488419654, -0.774840776483794, 1.9235017221629274, -2.67798548143706, -1.5302144750276208, 0.5061296391661118, 0.09323497560807173, 0.06288244361780607, -0.7936275099549808, 0.3083764446915401, 1.042158217512384, -1.3339477045257155, 0.7621872106068461, -0.8188992332595569, 0.06188263164814523, -0.7625841118542769, 1.3196894118228146, -0.688071433936898, -0.8248247463195388, -1.0460525849997537, -0.11647277944054041]}, {\"showlegend\": false, \"type\": \"box\", \"y\": [-1.565201799147097, 0.23808127293180845, 0.2021715730010176, -0.33440003832225323, -0.39819368055133975, 1.7889529099551482, 0.006043331068926728, -1.2181765004510363, -1.448665043780159, 1.106983730261574, -0.34862677485492144, 0.3551379006805074, -0.2045747139256515, 0.9572026919172452, -2.576782049942622, 0.4505586522451576, -0.8391382224038824, -0.6262330574663464, 1.644335366126135, 0.7646026817183361, -0.15521051186341714, -0.3626189377027939, 0.5710981467353052, -1.2532268067070336, 1.2669262341795628, 0.05509859851515712, 1.2241682025703904, 1.1971928026366156, 0.2876469175393556, 0.6239243924611564, -0.631148402520664, -0.6006353536457957, 1.2341713546598123, -1.7364222754653988, 0.6476157123083808, -0.3336307273962136, 0.2243771341803483, -2.0897174367653837, 0.2728923441203448, -1.1158843933829565, 0.9643570158727459, -0.6935390102821745, -0.7305681640033413, 0.6198113324406272, 0.3094698818216583, -0.9785970245284032, -0.47280947302552034, -0.47981920551742246, 0.9125805428450098, -0.4688050934228666]}, {\"showlegend\": false, \"type\": \"box\", \"y\": [1.622379628886383, -0.5046338640475753, 1.4275610040928837, -0.9837535856324459, 0.6546416807969229, -0.47635051241707094, -0.20268205419670463, -1.7979728016182932, -1.618562324914244, -0.5384306838153279, 0.4663964297894675, 1.2546392019600265, 0.09695865234149843, -1.3618984607273452, -0.6541158256171269, 0.9106190215978344, 0.34006449445876463, -1.6181051165642388, 0.8272024267123615, -0.4203000162672, -0.6022465850986446, 0.5319611692753438, 0.5059148723161199, 0.3752637407334971, -1.1395114168823357, 0.24815984114213352, -0.8628071072343756, -0.46025792352607964, 0.10463845541860892, -0.5481282390571794, 0.6841547709207351, -0.5111668402788996, 0.5485847779902616, 1.890786678605005, -0.017715990486436763, -1.842882751146088, 1.5519858579629318, 2.129477678185578, -0.18460287425091818, 1.2510358040664544, -1.1595273298558009, -0.9125568809688862, 0.05123306267288104, -1.092217241603636, 0.32032758809015616, 1.6034814850141694, 1.8462670507656656, -0.39803661933908746, -0.5560034854664662, -0.04097560413575248]}, {\"showlegend\": false, \"type\": \"box\", \"y\": [1.1405967699825224, -1.3578335275943805, -0.28560840631095535, 0.13015845606829746, 0.4922611827054583, 0.4271741899503041, -0.9922437930425378, 0.08442130235061988, 0.4260414947002683, -0.20914792010905536, -1.1559128069887736, 0.4691796370092262, -0.5284233098823446, 0.23573853146490797, 0.26524342537097917, 1.7696707499340056, 0.7880775319023481, 0.7898326568526014, -0.89726730903781, -0.7677451386727838, 0.7039522715494927, -0.5260029407245068, 1.7059205825815702, 0.646930119397187, -0.31077532022387405, -0.24277964701105223, 0.645083997089897, -1.596804679794933, -0.34728955108387666, 0.23444226233137738, -0.02487850762998709, -0.5050766061605103, 1.3678012679160982, 2.888581443527854, 1.4661540185509931, 0.6195965225623034, 0.28540822775945146, 0.23574357014076674, -0.3121348375447193, 0.3154695789405225, -0.9371143256690179, -0.7267252684665573, 0.14922910371285414, 0.7066954962366631, -1.0597509012932793, 0.19435791949500156, 0.8039770356632373, -2.1378891183129816, -1.2692107686516647, -1.6179814654791327]}, {\"showlegend\": false, \"type\": \"box\", \"y\": [-0.7874706251988747, 1.422891752996294, -0.5720107892530846, -0.36274040919633344, -0.1537417266944452, 0.7853294093089541, -1.2254398426768809, 0.06425964563436952, 1.250741773576568, 0.015150789692514502, -0.7187323231262919, 0.04648957693418833, -0.9127652542345175, -0.04329114517955826, 0.7454486046557717, -1.3808711813878578, 0.14834214311811603, 0.24416609515306792, 0.21860069259465395, 1.21297670699298, 0.1761728683784904, 0.9846560013044177, -0.2690309714022951, -0.6931630249455185, -0.11918977419210212, -0.013889455461947336, -1.2729274483020363, 1.177108304291595, 1.0909576262289291, 0.7300884713312246, 0.08225801569960156, 0.24270039740900345, -1.3077638163677014, 0.25182381953808636, 0.720326005061666, -0.44801838035423464, -2.627583707681432, 0.6231508991395887, -0.9872809426750139, -0.1621238946210305, 0.06662596338987102, -0.689273292664526, 0.2564114687099195, -1.3938475518913485, 0.595285250816239, -0.6023597354111793, 0.8397352605338996, -0.18563407664832843, -1.2074424941111916, 0.09427817208115359]}, {\"showlegend\": false, \"type\": \"box\", \"y\": [-0.9348296983583166, -1.9542834278640289, -0.021247003024130934, 0.1379217899752501, 0.4522310869261204, 0.21794401210788103, 1.4486393492374698, 0.7556130619205926, 1.3999331065134692, 0.617702972147482, 0.02920515004790538, 1.0671824473466873, 1.3876990280390775, 0.5247192432401371, -0.03736184357674238, 0.12913792416993128, -1.2826887536998586, 1.9399421448063374, -0.7268527219332864, -0.34304761778897025, 1.9880490219663383, 0.2826197652162154, -0.9378760812674206, 1.0664790564389375, -1.6306431459858943, -0.16106847893815432, 0.7375482976605457, 0.1050774459137515, 0.368552972782102, 0.245339589383953, 1.5960263511352617, -0.917775011043245, 0.24143986599797, 0.7325068484607071, -0.7400258056223104, -0.23982440812624048, -1.282080335011161, 0.5478529887307594, -0.196739664555949, -1.4244882602643112, -1.1162637259033716, 0.20916840748783097, 0.08049323224849578, 1.8871873286556322, -1.1729620698888745, -0.08625155721443219, 1.2677696771716174, -0.35281432349715736, -0.4074825702888106, -0.4134295401005527]}, {\"showlegend\": false, \"type\": \"box\", \"y\": [0.2312325261396399, 0.538092485216083, 1.2294719870188475, 1.8879427724394864, 0.5912897538486671, -0.5114263734199475, 0.08830695726128153, -0.21810484800735216, -0.2012419010316302, 1.5600399815074362, 0.013617573974894437, -1.499588839420341, -1.2945237688753248, -0.47700041448748415, -0.21839513509824648, -1.7215028513597657, -2.0168547270673374, 0.5220017561421545, -0.6076362546655719, 0.21498464179965432, 0.2685394368963991, 1.7161127715322018, 0.15403221028327366, -0.30124872954985854, -1.0951914139347525, -0.22825902478720794, -0.4285543213714946, 1.8435200352405587, -0.6015723974900166, 0.210015999649483, -1.2532027978909386, -0.07909984193762437, -0.12683273797593853, -0.9507367926817546, 1.289165495412865, -1.1761261342116585, 0.3863336020363138, -0.0954003051743447, 1.519726022591466, 1.5817678757738947, -0.47589514634169083, -1.4619261340758587, 0.4546569524036003, -0.6176074116245128, -2.3548526410181516, -0.3228142291262433, 0.5623645431781669, 0.06291577881965764, -0.13061904531047194, 1.0228590026157116]}, {\"showlegend\": false, \"type\": \"box\", \"y\": [-0.7857601290244635, 0.6765812908316605, -0.7792638895385713, -0.12841964211144632, -0.7128319201106521, 0.990247765837011, -0.7263242169704189, 1.1486498791859936, 0.32286229959515106, -0.746922311032918, -0.45538300268166687, -1.0602847694381903, 0.877482603420602, 1.480001254016442, 0.31634554000420245, 0.6654563573335959, 1.7606349303053075, 0.5402180321623278, -1.5661826232794234, 0.11952885858723003, 2.6524465940658444, -0.8996793032077193, 0.20071698335308966, 0.9415064361794709, -1.7750607878069824, 0.9925908235373607, 1.082027875473308, -1.424337936976829, -1.5199818074567826, -0.5773919457502015, -1.3764192731585874, 0.19815425470533257, -1.8257051510250404, -0.20450111166168428, -0.3896928559660243, 0.13699504962947437, -0.011698398232035384, 0.4520377586173298, 1.0811077830875186, 1.0555380443593958, 1.7277601426003995, 0.1609302350692294, 1.0515282273793092, 1.2335695184507849, -1.4211533326271732, -0.9005529138791364, 0.3274996981396421, -1.8090414927552032, -1.2523625036937425, 0.7340587567928387]}, {\"showlegend\": false, \"type\": \"box\", \"y\": [1.0643414110416594, -0.8006664772632862, 1.2853362254611775, 0.02948071397668235, -1.8620383545256864, -0.07154692339195667, 0.19381695762916845, 0.7191317049039213, 0.7176003225554985, -0.06292523041929775, -1.3009152566803572, -1.1643466718657542, -1.7420851787696376, -0.7764095458441443, 0.007556745259055347, -0.710319013505268, 0.2983169229234588, 0.9159102500903401, 0.7085094730304131, 1.0482763697110435, -1.7663642810025368, -0.7605722652386671, 0.7480381645722008, -0.7354506318182549, 0.5550821240650086, -0.5365744949917347, 1.3269625857714828, 1.5573534494438503, -0.5061313030215248, -1.6950209573500983, 0.4405982967306654, -1.3311786422323475, 0.10156824728963652, 1.6159225255740821, -1.0998558701331664, -0.7380538579058371, 0.32433059774512374, -1.3990725680500096, -0.5283229479763707, -1.495997260762043, 0.19902424397535512, -0.6760992759321761, -0.6149051260735681, -0.5864234233117708, -1.3836984712395515, -0.753046436215613, 0.8159043253486225, -2.140610006893886, -1.0356599711861845, 0.9538579505890091]}, {\"showlegend\": false, \"type\": \"box\", \"y\": [1.430470331134872, 0.029734426355807912, 0.6077673934493787, 0.05628012228281412, -0.9637218665974979, -1.6627074926750351, -0.6153380107534969, 0.33986491564779303, 0.004053564019499239, -0.7659670186426821, 1.2981306823959518, -2.2991035541865275, 1.5028966238706403, 1.1311425607184622, -1.9902245712065123, 0.6197377292700865, 0.5523145336296995, 0.5948831287595988, 1.7459985923474064, -0.9910231261793122, -1.6463540880673866, -0.9283694656726055, 0.05797779370747251, 1.8501006756326885, 0.281254485109725, -0.18936303969716695, 0.8426478944374154, 1.1309271099951999, -0.35895923171421085, 0.14354125843179194, 0.6228663143139025, 0.769446829673552, 1.7861061135939411, -0.19016268104767448, -1.3381215454170847, -0.07001392096455793, 0.14121245034909802, -1.639015867251757, 0.11639672332858926, 2.147866854930125, 1.6364482229482438, -2.0418658257015396, -0.38599825205007804, 0.16737030736760422, -0.5766096653247298, 1.244087984051651, -1.2227759560882316, 0.9821529582145623, -0.38915161644481716, 0.6158804059781254]}, {\"showlegend\": false, \"type\": \"box\", \"y\": [0.47274774105914025, -0.8281809767269638, -1.1658193827229106, 1.628235983094968, 0.19581105276036784, 0.5050820651004901, 0.5305345732703959, -0.13127607897331603, -0.8151513958120987, 0.4493684318494662, -0.22494008301086219, -1.512048991825279, 0.12931145963039672, -0.12362698832394294, 1.2603863089288512, -1.6650014293179831, -1.1489973301578837, -0.3257985779203732, 0.6925445769067264, 1.2903941010427187, -0.9051445046883192, -0.32134436686754886, 1.2800420721632961, -0.43432423377726265, 2.8247465276910546, -1.331568549950027, 0.016893871555679757, -1.5677043211315966, 1.5078695544394152, -0.8547674944644031, 0.36461907375996294, -1.0175505095950088, -0.06667445182396624, 0.9646784329448419, -0.41468152321563356, 0.37509226715200344, -0.21037167010515573, -0.6545608928766445, 0.17249673257454115, 0.7343006338062901, 0.8488955673219298, -0.5232749274904632, 2.298079637906793, 0.6310496240413475, -0.027378610586254352, -0.6426452620678833, -0.9046911888286913, -1.2000884400368912, 0.03179715382806042, 0.24055168613579783]}, {\"showlegend\": false, \"type\": \"box\", \"y\": [0.5555567032462696, -0.9908903291240218, -0.8886628141340985, 0.4434580673809288, 0.6463372568336344, -0.3669252276561694, 1.6257624258671508, 1.0455870133157206, -0.16808306001338255, 0.4223736405051156, -1.785199204396859, 0.08460434401979194, 0.7176382114476912, -0.5743844295439101, 0.5750561537087083, -0.5406163187046354, 0.18945009710411564, 0.24546378672849425, -0.2674338889928398, 0.37100937114439375, -0.30314239828809686, -1.6342118971275426, -1.2465950208452043, 1.2155900687827688, -1.5091282161240405, 1.6745199581898893, -0.29832444583590817, -0.4171885939494628, 1.0376696726598138, 0.5334898759070005, -1.57183941308041, -0.3990899038584227, -1.1349629888101578, 0.23505786579232774, 2.0187656311495368, 0.9594456901899805, -0.22649950493725401, 0.5158859180121166, 0.7096772738882583, 0.4167238834407155, 0.9828962621994406, 1.411353190384919, -0.22639902708228724, -0.1815063666063562, 1.2230540562228007, 1.4964563556233652, -0.7545636749962036, 0.14354281250597262, -0.23974303234954522, 0.7175594163307919]}, {\"showlegend\": false, \"type\": \"box\", \"y\": [1.5046642703076074, -2.4889341104907476, -0.8639352479363219, 2.798285059878008, -0.8150914904686953, -0.4891498577989779, 0.8226411935459917, 0.4460585863509375, -0.8391769422790671, 0.6840234413879853, 0.23699201859112004, 0.4144389622513814, 0.1787098312301156, -1.3888808144489573, 2.099033307117177, -0.7252759232137107, 0.4690282091416593, -0.6570541529055611, -0.4472250788225799, -1.328583807938322, -0.4981210748755988, -0.6723825862059714, -0.2610498816866764, 0.45226449587929357, -0.797054344363134, 0.06485152198018417, 0.3188716699526379, 1.593115755036828, -0.8818879915087215, 0.9970649351167925, 0.09534651503032766, -0.6251671531899315, -0.6661629760914216, -0.43535477682766066, -1.6172088594316725, 1.8244702351153534, -0.7041059048701219, 0.14268295742593703, 0.07252078401757771, -0.18728629541304084, 0.4584941558724126, -1.0363101709415417, -0.7088097383772549, 0.6496365350582465, 0.40239676528594753, 1.256215214811696, -0.294871268779683, 0.09471261559785209, 0.4232992035633717, -0.8589545569828687]}, {\"showlegend\": false, \"type\": \"box\", \"y\": [0.5042468466391333, -1.040464808950516, 0.12653677532383997, -0.21690120016393985, -0.3579898226976651, 1.5111884234296717, -1.3991228198304761, 0.7367970430500866, 1.0573106704179465, 0.297839002170579, 0.9091427694160714, -0.42566069347878294, 0.2139891399359685, -0.70619352808521, 1.3779498091074178, -0.7957360324397029, -1.2613512445358823, -2.4906221192109275, 2.084524319792143, 1.1930674893523852, 1.700854604546734, -0.8687425452698609, 1.2148198937460626, 0.7238696925775522, 2.2772453672173327, -0.28021774593298676, -0.7010876644654562, 1.230717549676728, 0.9805405352522073, 0.1524681497926443, 0.08448069685765974, 0.5850444326792379, -2.1656820770557914, -0.8921184280832883, -1.5037676689741777, -0.19396359495847898, 1.6277688003233133, 0.5086195258731148, 0.26735561924264634, -0.36174633184765537, -1.0422154120424272, 1.1152390877530842, -0.5863647224722391, -0.7556007889260458, -0.9341429253432801, 2.4064048155268605, -0.6463666758869349, -0.09645639344463419, 0.3245856603542709, -1.2535972421045332]}, {\"showlegend\": false, \"type\": \"box\", \"y\": [-1.1597579347733649, -1.0731320718245683, -0.13960668968459533, -0.1432283358183224, 0.7542512103347342, -0.4925291710135623, 1.006702549449473, -0.6126242569262607, 0.6479330999220234, 0.35880660609235365, 1.1088069167979229, -0.341041745926752, -0.9306592109356835, -0.3389783783493552, -0.004569558924388627, 1.0497556635851197, 0.017718445752967205, 1.6132094673411272, 1.8357559268650308, 0.4601584872761455, -0.18331236318451752, 0.5069421607051631, -0.3421008216361611, -0.7911584876468218, 1.1610825493506145, -0.8098213381273852, 0.39029586474672545, 0.9747537601134373, 0.03631045251196755, 0.13904311373590147, 0.7076487002417718, 0.6653714704161788, 0.6312705273255413, -0.23954030509725252, 0.13744187206599193, 0.49558689112370646, 1.1173578466064276, -1.1449192287623973, 1.2958560541445292, 0.5498327977577593, -1.7284412189832916, -0.43799192736796977, -0.7646674589490489, -1.795853359380919, -1.3839109287112894, 0.6976155547227192, 0.09960651449655276, -0.7537463634070859, 0.8386698258283214, 1.0027300593729598]}, {\"showlegend\": false, \"type\": \"box\", \"y\": [0.5491867283683591, 1.7678762509711328, -0.9093121626532021, 0.8612237006484047, 1.0317384781413206, -0.46236753635776967, 0.9925535972069309, 0.32598688111840024, 1.2008615312352025, 1.129940822080617, -0.23863545599836947, -0.00010809493339385162, -1.411996612860511, 0.2554675332369711, 0.5484439302935463, -3.2018313402280607, -0.7674381714638994, 0.6242121788374394, -0.6308319473499132, 0.6247843106521995, 0.485849239120949, 0.8331213655766802, 0.07521313699523396, -0.7368935524054088, -0.3645630903905018, -0.4792314025612935, -0.2907496069656597, -0.7058793832568022, -0.8281880970299261, 0.7543196988769462, 0.7571822911952258, -0.773158792182873, -0.23822480673893584, -0.5643928578234074, -1.4492909144109705, -0.25820386275671897, -0.8303559927515535, -1.4103306275505816, -0.22621393239814575, 1.25312287949841, 0.6835599483869261, -0.6034081304356976, -1.4883062162379892, -0.09610738302513133, 0.8572439389390958, -0.311876216363786, 0.18105296053561126, 0.5473351692528325, -0.12147540359015013, -1.0736640338110053]}, {\"showlegend\": false, \"type\": \"box\", \"y\": [-0.8056787234047903, 0.08447426463324002, 0.7037421426865645, -1.6764718040460327, 2.169006178047856, -1.9263374721671886, 0.014715807448361857, 0.3739030271052898, 0.00590459167097352, -0.6953598620131524, 0.27780380386501763, 0.7770448968765079, 0.03311223914816313, 0.28505105655729457, -1.0485727768425637, -1.3251957424011216, -0.4873794998538743, -0.33101364810238953, -0.5173088227775317, 1.307816337385447, -0.961393178468705, -0.35451194994924096, -0.709323157853038, 1.6239686551154813, -0.08422233897397177, -1.1393986574167272, 0.12131270581541152, 0.4142746304757499, 1.3416128444972542, 0.20781320074185458, -1.0862681120697373, -0.9356660534602875, 0.2805327274558653, -0.8874018863320162, -0.42193490471470135, 0.1087966913328349, 1.6802655705515621, 1.221713033030868, 0.1115099079193004, -0.9315407141293784, -0.1579546002480101, -0.21174185210882962, -0.6059428339042656, -0.12738128905911372, 0.7268323607494769, 0.10196121331520729, -0.5052055354003131, -1.330342597963457, -0.1743957486474534, 0.7701742374159709]}],                        {\"template\": {\"data\": {\"bar\": [{\"error_x\": {\"color\": \"#2a3f5f\"}, \"error_y\": {\"color\": \"#2a3f5f\"}, \"marker\": {\"line\": {\"color\": \"#E5ECF6\", \"width\": 0.5}}, \"type\": \"bar\"}], \"barpolar\": [{\"marker\": {\"line\": {\"color\": \"#E5ECF6\", \"width\": 0.5}}, \"type\": \"barpolar\"}], \"carpet\": [{\"aaxis\": {\"endlinecolor\": \"#2a3f5f\", \"gridcolor\": \"white\", \"linecolor\": \"white\", \"minorgridcolor\": \"white\", \"startlinecolor\": \"#2a3f5f\"}, \"baxis\": {\"endlinecolor\": \"#2a3f5f\", \"gridcolor\": \"white\", \"linecolor\": \"white\", \"minorgridcolor\": \"white\", \"startlinecolor\": \"#2a3f5f\"}, \"type\": \"carpet\"}], \"choropleth\": [{\"colorbar\": {\"outlinewidth\": 0, \"ticks\": \"\"}, \"type\": \"choropleth\"}], \"contour\": [{\"colorbar\": {\"outlinewidth\": 0, \"ticks\": \"\"}, \"colorscale\": [[0.0, \"#0d0887\"], [0.1111111111111111, \"#46039f\"], [0.2222222222222222, \"#7201a8\"], [0.3333333333333333, \"#9c179e\"], [0.4444444444444444, \"#bd3786\"], [0.5555555555555556, \"#d8576b\"], [0.6666666666666666, \"#ed7953\"], [0.7777777777777778, \"#fb9f3a\"], [0.8888888888888888, \"#fdca26\"], [1.0, \"#f0f921\"]], \"type\": \"contour\"}], \"contourcarpet\": [{\"colorbar\": {\"outlinewidth\": 0, \"ticks\": \"\"}, \"type\": \"contourcarpet\"}], \"heatmap\": [{\"colorbar\": {\"outlinewidth\": 0, \"ticks\": \"\"}, \"colorscale\": [[0.0, \"#0d0887\"], [0.1111111111111111, \"#46039f\"], [0.2222222222222222, \"#7201a8\"], [0.3333333333333333, \"#9c179e\"], [0.4444444444444444, \"#bd3786\"], [0.5555555555555556, \"#d8576b\"], [0.6666666666666666, \"#ed7953\"], [0.7777777777777778, \"#fb9f3a\"], [0.8888888888888888, \"#fdca26\"], [1.0, \"#f0f921\"]], \"type\": \"heatmap\"}], \"heatmapgl\": [{\"colorbar\": {\"outlinewidth\": 0, \"ticks\": \"\"}, \"colorscale\": [[0.0, \"#0d0887\"], [0.1111111111111111, \"#46039f\"], [0.2222222222222222, \"#7201a8\"], [0.3333333333333333, \"#9c179e\"], [0.4444444444444444, \"#bd3786\"], [0.5555555555555556, \"#d8576b\"], [0.6666666666666666, \"#ed7953\"], [0.7777777777777778, \"#fb9f3a\"], [0.8888888888888888, \"#fdca26\"], [1.0, \"#f0f921\"]], \"type\": \"heatmapgl\"}], \"histogram\": [{\"marker\": {\"colorbar\": {\"outlinewidth\": 0, \"ticks\": \"\"}}, \"type\": \"histogram\"}], \"histogram2d\": [{\"colorbar\": {\"outlinewidth\": 0, \"ticks\": \"\"}, \"colorscale\": [[0.0, \"#0d0887\"], [0.1111111111111111, \"#46039f\"], [0.2222222222222222, \"#7201a8\"], [0.3333333333333333, \"#9c179e\"], [0.4444444444444444, \"#bd3786\"], [0.5555555555555556, \"#d8576b\"], [0.6666666666666666, \"#ed7953\"], [0.7777777777777778, \"#fb9f3a\"], [0.8888888888888888, \"#fdca26\"], [1.0, \"#f0f921\"]], \"type\": \"histogram2d\"}], \"histogram2dcontour\": [{\"colorbar\": {\"outlinewidth\": 0, \"ticks\": \"\"}, \"colorscale\": [[0.0, \"#0d0887\"], [0.1111111111111111, \"#46039f\"], [0.2222222222222222, \"#7201a8\"], [0.3333333333333333, \"#9c179e\"], [0.4444444444444444, \"#bd3786\"], [0.5555555555555556, \"#d8576b\"], [0.6666666666666666, \"#ed7953\"], [0.7777777777777778, \"#fb9f3a\"], [0.8888888888888888, \"#fdca26\"], [1.0, \"#f0f921\"]], \"type\": \"histogram2dcontour\"}], \"mesh3d\": [{\"colorbar\": {\"outlinewidth\": 0, \"ticks\": \"\"}, \"type\": \"mesh3d\"}], \"parcoords\": [{\"line\": {\"colorbar\": {\"outlinewidth\": 0, \"ticks\": \"\"}}, \"type\": \"parcoords\"}], \"pie\": [{\"automargin\": true, \"type\": \"pie\"}], \"scatter\": [{\"marker\": {\"colorbar\": {\"outlinewidth\": 0, \"ticks\": \"\"}}, \"type\": \"scatter\"}], \"scatter3d\": [{\"line\": {\"colorbar\": {\"outlinewidth\": 0, \"ticks\": \"\"}}, \"marker\": {\"colorbar\": {\"outlinewidth\": 0, \"ticks\": \"\"}}, \"type\": \"scatter3d\"}], \"scattercarpet\": [{\"marker\": {\"colorbar\": {\"outlinewidth\": 0, \"ticks\": \"\"}}, \"type\": \"scattercarpet\"}], \"scattergeo\": [{\"marker\": {\"colorbar\": {\"outlinewidth\": 0, \"ticks\": \"\"}}, \"type\": \"scattergeo\"}], \"scattergl\": [{\"marker\": {\"colorbar\": {\"outlinewidth\": 0, \"ticks\": \"\"}}, \"type\": \"scattergl\"}], \"scattermapbox\": [{\"marker\": {\"colorbar\": {\"outlinewidth\": 0, \"ticks\": \"\"}}, \"type\": \"scattermapbox\"}], \"scatterpolar\": [{\"marker\": {\"colorbar\": {\"outlinewidth\": 0, \"ticks\": \"\"}}, \"type\": \"scatterpolar\"}], \"scatterpolargl\": [{\"marker\": {\"colorbar\": {\"outlinewidth\": 0, \"ticks\": \"\"}}, \"type\": \"scatterpolargl\"}], \"scatterternary\": [{\"marker\": {\"colorbar\": {\"outlinewidth\": 0, \"ticks\": \"\"}}, \"type\": \"scatterternary\"}], \"surface\": [{\"colorbar\": {\"outlinewidth\": 0, \"ticks\": \"\"}, \"colorscale\": [[0.0, \"#0d0887\"], [0.1111111111111111, \"#46039f\"], [0.2222222222222222, \"#7201a8\"], [0.3333333333333333, \"#9c179e\"], [0.4444444444444444, \"#bd3786\"], [0.5555555555555556, \"#d8576b\"], [0.6666666666666666, \"#ed7953\"], [0.7777777777777778, \"#fb9f3a\"], [0.8888888888888888, \"#fdca26\"], [1.0, \"#f0f921\"]], \"type\": \"surface\"}], \"table\": [{\"cells\": {\"fill\": {\"color\": \"#EBF0F8\"}, \"line\": {\"color\": \"white\"}}, \"header\": {\"fill\": {\"color\": \"#C8D4E3\"}, \"line\": {\"color\": \"white\"}}, \"type\": \"table\"}]}, \"layout\": {\"annotationdefaults\": {\"arrowcolor\": \"#2a3f5f\", \"arrowhead\": 0, \"arrowwidth\": 1}, \"autotypenumbers\": \"strict\", \"coloraxis\": {\"colorbar\": {\"outlinewidth\": 0, \"ticks\": \"\"}}, \"colorscale\": {\"diverging\": [[0, \"#8e0152\"], [0.1, \"#c51b7d\"], [0.2, \"#de77ae\"], [0.3, \"#f1b6da\"], [0.4, \"#fde0ef\"], [0.5, \"#f7f7f7\"], [0.6, \"#e6f5d0\"], [0.7, \"#b8e186\"], [0.8, \"#7fbc41\"], [0.9, \"#4d9221\"], [1, \"#276419\"]], \"sequential\": [[0.0, \"#0d0887\"], [0.1111111111111111, \"#46039f\"], [0.2222222222222222, \"#7201a8\"], [0.3333333333333333, \"#9c179e\"], [0.4444444444444444, \"#bd3786\"], [0.5555555555555556, \"#d8576b\"], [0.6666666666666666, \"#ed7953\"], [0.7777777777777778, \"#fb9f3a\"], [0.8888888888888888, \"#fdca26\"], [1.0, \"#f0f921\"]], \"sequentialminus\": [[0.0, \"#0d0887\"], [0.1111111111111111, \"#46039f\"], [0.2222222222222222, \"#7201a8\"], [0.3333333333333333, \"#9c179e\"], [0.4444444444444444, \"#bd3786\"], [0.5555555555555556, \"#d8576b\"], [0.6666666666666666, \"#ed7953\"], [0.7777777777777778, \"#fb9f3a\"], [0.8888888888888888, \"#fdca26\"], [1.0, \"#f0f921\"]]}, \"colorway\": [\"#636efa\", \"#EF553B\", \"#00cc96\", \"#ab63fa\", \"#FFA15A\", \"#19d3f3\", \"#FF6692\", \"#B6E880\", \"#FF97FF\", \"#FECB52\"], \"font\": {\"color\": \"#2a3f5f\"}, \"geo\": {\"bgcolor\": \"white\", \"lakecolor\": \"white\", \"landcolor\": \"#E5ECF6\", \"showlakes\": true, \"showland\": true, \"subunitcolor\": \"white\"}, \"hoverlabel\": {\"align\": \"left\"}, \"hovermode\": \"closest\", \"mapbox\": {\"style\": \"light\"}, \"paper_bgcolor\": \"white\", \"plot_bgcolor\": \"#E5ECF6\", \"polar\": {\"angularaxis\": {\"gridcolor\": \"white\", \"linecolor\": \"white\", \"ticks\": \"\"}, \"bgcolor\": \"#E5ECF6\", \"radialaxis\": {\"gridcolor\": \"white\", \"linecolor\": \"white\", \"ticks\": \"\"}}, \"scene\": {\"xaxis\": {\"backgroundcolor\": \"#E5ECF6\", \"gridcolor\": \"white\", \"gridwidth\": 2, \"linecolor\": \"white\", \"showbackground\": true, \"ticks\": \"\", \"zerolinecolor\": \"white\"}, \"yaxis\": {\"backgroundcolor\": \"#E5ECF6\", \"gridcolor\": \"white\", \"gridwidth\": 2, \"linecolor\": \"white\", \"showbackground\": true, \"ticks\": \"\", \"zerolinecolor\": \"white\"}, \"zaxis\": {\"backgroundcolor\": \"#E5ECF6\", \"gridcolor\": \"white\", \"gridwidth\": 2, \"linecolor\": \"white\", \"showbackground\": true, \"ticks\": \"\", \"zerolinecolor\": \"white\"}}, \"shapedefaults\": {\"line\": {\"color\": \"#2a3f5f\"}}, \"ternary\": {\"aaxis\": {\"gridcolor\": \"white\", \"linecolor\": \"white\", \"ticks\": \"\"}, \"baxis\": {\"gridcolor\": \"white\", \"linecolor\": \"white\", \"ticks\": \"\"}, \"bgcolor\": \"#E5ECF6\", \"caxis\": {\"gridcolor\": \"white\", \"linecolor\": \"white\", \"ticks\": \"\"}}, \"title\": {\"x\": 0.05}, \"xaxis\": {\"automargin\": true, \"gridcolor\": \"white\", \"linecolor\": \"white\", \"ticks\": \"\", \"title\": {\"standoff\": 15}, \"zerolinecolor\": \"white\", \"zerolinewidth\": 2}, \"yaxis\": {\"automargin\": true, \"gridcolor\": \"white\", \"linecolor\": \"white\", \"ticks\": \"\", \"title\": {\"standoff\": 15}, \"zerolinecolor\": \"white\", \"zerolinewidth\": 2}}}},                        {\"responsive\": true}                    ).then(function(){\n                            \nvar gd = document.getElementById('8b36dd89-6b03-4ecf-bec0-064254a38f7e');\nvar x = new MutationObserver(function (mutations, observer) {{\n        var display = window.getComputedStyle(gd).display;\n        if (!display || display === 'none') {{\n            console.log([gd, 'removed!']);\n            Plotly.purge(gd);\n            observer.disconnect();\n        }}\n}});\n\n// Listen for the removal of the full notebook cells\nvar notebookContainer = gd.closest('#notebook-container');\nif (notebookContainer) {{\n    x.observe(notebookContainer, {childList: true});\n}}\n\n// Listen for the clearing of the current output cell\nvar outputEl = gd.closest('.output');\nif (outputEl) {{\n    x.observe(outputEl, {childList: true});\n}}\n\n                        })                };                });            </script>        </div>"
     },
     "metadata": {}
    }
   ],
   "source": [
    "iplot([Box(y = np.random.randn(50), showlegend=False) for i in range(45)], show_link=False)"
   ]
  },
  {
   "cell_type": "code",
   "execution_count": 4,
   "metadata": {},
   "outputs": [
    {
     "output_type": "error",
     "ename": "NameError",
     "evalue": "name 'Histogram2dContour' is not defined",
     "traceback": [
      "\u001b[0;31m---------------------------------------------------------------------------\u001b[0m",
      "\u001b[0;31mNameError\u001b[0m                                 Traceback (most recent call last)",
      "\u001b[0;32m<ipython-input-4-8469d278e205>\u001b[0m in \u001b[0;36m<module>\u001b[0;34m\u001b[0m\n\u001b[1;32m      1\u001b[0m \u001b[0mx\u001b[0m \u001b[0;34m=\u001b[0m \u001b[0mnp\u001b[0m\u001b[0;34m.\u001b[0m\u001b[0mrandom\u001b[0m\u001b[0;34m.\u001b[0m\u001b[0mrandn\u001b[0m\u001b[0;34m(\u001b[0m\u001b[0;36m2000\u001b[0m\u001b[0;34m)\u001b[0m\u001b[0;34m\u001b[0m\u001b[0;34m\u001b[0m\u001b[0m\n\u001b[1;32m      2\u001b[0m \u001b[0my\u001b[0m \u001b[0;34m=\u001b[0m \u001b[0mnp\u001b[0m\u001b[0;34m.\u001b[0m\u001b[0mrandom\u001b[0m\u001b[0;34m.\u001b[0m\u001b[0mrandn\u001b[0m\u001b[0;34m(\u001b[0m\u001b[0;36m2000\u001b[0m\u001b[0;34m)\u001b[0m\u001b[0;34m\u001b[0m\u001b[0;34m\u001b[0m\u001b[0m\n\u001b[0;32m----> 3\u001b[0;31m iplot([Histogram2dContour(x=x, y=y, contours=Contours(coloring='heatmap')),\n\u001b[0m\u001b[1;32m      4\u001b[0m        Scatter(x=x, y=y, mode='markers', marker=Marker(color='white', size=3, opacity=0.3))], show_link=False)\n",
      "\u001b[0;31mNameError\u001b[0m: name 'Histogram2dContour' is not defined"
     ]
    }
   ],
   "source": [
    "x = np.random.randn(2000)\n",
    "y = np.random.randn(2000)\n",
    "iplot([Histogram2dContour(x=x, y=y, contours=Contours(coloring='heatmap')),\n",
    "       Scatter(x=x, y=y, mode='markers', marker=Marker(color='white', size=3, opacity=0.3))], show_link=False)"
   ]
  },
  {
   "cell_type": "code",
   "execution_count": 5,
   "metadata": {},
   "outputs": [
    {
     "output_type": "display_data",
     "data": {
      "application/vnd.plotly.v1+json": {
       "config": {
        "linkText": "Export to plot.ly",
        "plotlyServerURL": "https://plot.ly",
        "showLink": false
       },
       "data": [
        {
         "lat": [
          32.89595056,
          35.04022222
         ],
         "line": {
          "color": "red",
          "width": 1
         },
         "locationmode": "USA-states",
         "lon": [
          -97.0372,
          -106.6091944
         ],
         "mode": "lines",
         "opacity": 0.48577680525164113,
         "type": "scattergeo"
        },
        {
         "lat": [
          41.979595,
          30.19453278
         ],
         "line": {
          "color": "red",
          "width": 1
         },
         "locationmode": "USA-states",
         "lon": [
          -87.90446417,
          -97.66987194
         ],
         "mode": "lines",
         "opacity": 0.18161925601750548,
         "type": "scattergeo"
        },
        {
         "lat": [
          32.89595056,
          41.93887417
         ],
         "line": {
          "color": "red",
          "width": 1
         },
         "locationmode": "USA-states",
         "lon": [
          -97.0372,
          -72.68322833
         ],
         "mode": "lines",
         "opacity": 0.1772428884026258,
         "type": "scattergeo"
        },
        {
         "lat": [
          18.43941667,
          41.93887417
         ],
         "line": {
          "color": "red",
          "width": 1
         },
         "locationmode": "USA-states",
         "lon": [
          -66.00183333,
          -72.68322833
         ],
         "mode": "lines",
         "opacity": 0.061269146608315096,
         "type": "scattergeo"
        },
        {
         "lat": [
          32.89595056,
          33.56294306
         ],
         "line": {
          "color": "red",
          "width": 1
         },
         "locationmode": "USA-states",
         "lon": [
          -97.0372,
          -86.75354972
         ],
         "mode": "lines",
         "opacity": 0.1838074398249453,
         "type": "scattergeo"
        },
        {
         "lat": [
          25.79325,
          36.12447667
         ],
         "line": {
          "color": "red",
          "width": 1
         },
         "locationmode": "USA-states",
         "lon": [
          -80.29055556,
          -86.67818222
         ],
         "mode": "lines",
         "opacity": 0.061269146608315096,
         "type": "scattergeo"
        },
        {
         "lat": [
          32.89595056,
          42.3643475
         ],
         "line": {
          "color": "red",
          "width": 1
         },
         "locationmode": "USA-states",
         "lon": [
          -97.0372,
          -71.00517917
         ],
         "mode": "lines",
         "opacity": 0.4617067833698031,
         "type": "scattergeo"
        },
        {
         "lat": [
          25.79325,
          42.3643475
         ],
         "line": {
          "color": "red",
          "width": 1
         },
         "locationmode": "USA-states",
         "lon": [
          -80.29055556,
          -71.00517917
         ],
         "mode": "lines",
         "opacity": 0.4288840262582057,
         "type": "scattergeo"
        },
        {
         "lat": [
          41.979595,
          42.3643475
         ],
         "line": {
          "color": "red",
          "width": 1
         },
         "locationmode": "USA-states",
         "lon": [
          -87.90446417,
          -71.00517917
         ],
         "mode": "lines",
         "opacity": 0.47045951859956237,
         "type": "scattergeo"
        },
        {
         "lat": [
          18.43941667,
          42.3643475
         ],
         "line": {
          "color": "red",
          "width": 1
         },
         "locationmode": "USA-states",
         "lon": [
          -66.00183333,
          -71.00517917
         ],
         "mode": "lines",
         "opacity": 0.061269146608315096,
         "type": "scattergeo"
        },
        {
         "lat": [
          18.33730556,
          42.3643475
         ],
         "line": {
          "color": "red",
          "width": 1
         },
         "locationmode": "USA-states",
         "lon": [
          -64.97336111,
          -71.00517917
         ],
         "mode": "lines",
         "opacity": 0.04814004376367615,
         "type": "scattergeo"
        },
        {
         "lat": [
          25.79325,
          39.17540167
         ],
         "line": {
          "color": "red",
          "width": 1
         },
         "locationmode": "USA-states",
         "lon": [
          -80.29055556,
          -76.66819833
         ],
         "mode": "lines",
         "opacity": 0.12253829321663019,
         "type": "scattergeo"
        },
        {
         "lat": [
          18.43941667,
          39.17540167
         ],
         "line": {
          "color": "red",
          "width": 1
         },
         "locationmode": "USA-states",
         "lon": [
          -66.00183333,
          -76.66819833
         ],
         "mode": "lines",
         "opacity": 0.061269146608315096,
         "type": "scattergeo"
        },
        {
         "lat": [
          32.89595056,
          35.21401111
         ],
         "line": {
          "color": "red",
          "width": 1
         },
         "locationmode": "USA-states",
         "lon": [
          -97.0372,
          -80.94312583
         ],
         "mode": "lines",
         "opacity": 0.3938730853391685,
         "type": "scattergeo"
        },
        {
         "lat": [
          32.89595056,
          38.80580556
         ],
         "line": {
          "color": "red",
          "width": 1
         },
         "locationmode": "USA-states",
         "lon": [
          -97.0372,
          -104.70025
         ],
         "mode": "lines",
         "opacity": 0.3041575492341357,
         "type": "scattergeo"
        },
        {
         "lat": [
          32.89595056,
          39.90237583
         ],
         "line": {
          "color": "red",
          "width": 1
         },
         "locationmode": "USA-states",
         "lon": [
          -97.0372,
          -84.219375
         ],
         "mode": "lines",
         "opacity": 0.1137855579868709,
         "type": "scattergeo"
        },
        {
         "lat": [
          32.89595056,
          38.85208333
         ],
         "line": {
          "color": "red",
          "width": 1
         },
         "locationmode": "USA-states",
         "lon": [
          -97.0372,
          -77.03772222
         ],
         "mode": "lines",
         "opacity": 0.6433260393873085,
         "type": "scattergeo"
        },
        {
         "lat": [
          25.79325,
          39.85840806
         ],
         "line": {
          "color": "red",
          "width": 1
         },
         "locationmode": "USA-states",
         "lon": [
          -80.29055556,
          -104.6670019
         ],
         "mode": "lines",
         "opacity": 0.12253829321663019,
         "type": "scattergeo"
        },
        {
         "lat": [
          41.979595,
          39.85840806
         ],
         "line": {
          "color": "red",
          "width": 1
         },
         "locationmode": "USA-states",
         "lon": [
          -87.90446417,
          -104.6670019
         ],
         "mode": "lines",
         "opacity": 0.12253829321663019,
         "type": "scattergeo"
        },
        {
         "lat": [
          33.64044444,
          32.89595056
         ],
         "line": {
          "color": "red",
          "width": 1
         },
         "locationmode": "USA-states",
         "lon": [
          -84.42694444,
          -97.0372
         ],
         "mode": "lines",
         "opacity": 0.6345733041575492,
         "type": "scattergeo"
        },
        {
         "lat": [
          30.19453278,
          32.89595056
         ],
         "line": {
          "color": "red",
          "width": 1
         },
         "locationmode": "USA-states",
         "lon": [
          -97.66987194,
          -97.0372
         ],
         "mode": "lines",
         "opacity": 0.8971553610503282,
         "type": "scattergeo"
        },
        {
         "lat": [
          36.12447667,
          32.89595056
         ],
         "line": {
          "color": "red",
          "width": 1
         },
         "locationmode": "USA-states",
         "lon": [
          -86.67818222,
          -97.0372
         ],
         "mode": "lines",
         "opacity": 0.47702407002188185,
         "type": "scattergeo"
        },
        {
         "lat": [
          34.20061917,
          32.89595056
         ],
         "line": {
          "color": "red",
          "width": 1
         },
         "locationmode": "USA-states",
         "lon": [
          -118.3584969,
          -97.0372
         ],
         "mode": "lines",
         "opacity": 0.2275711159737418,
         "type": "scattergeo"
        },
        {
         "lat": [
          39.17540167,
          32.89595056
         ],
         "line": {
          "color": "red",
          "width": 1
         },
         "locationmode": "USA-states",
         "lon": [
          -76.66819833,
          -97.0372
         ],
         "mode": "lines",
         "opacity": 0.35667396061269147,
         "type": "scattergeo"
        },
        {
         "lat": [
          39.99798528,
          32.89595056
         ],
         "line": {
          "color": "red",
          "width": 1
         },
         "locationmode": "USA-states",
         "lon": [
          -82.89188278,
          -97.0372
         ],
         "mode": "lines",
         "opacity": 0.1137855579868709,
         "type": "scattergeo"
        },
        {
         "lat": [
          39.85840806,
          32.89595056
         ],
         "line": {
          "color": "red",
          "width": 1
         },
         "locationmode": "USA-states",
         "lon": [
          -104.6670019,
          -97.0372
         ],
         "mode": "lines",
         "opacity": 0.6105032822757112,
         "type": "scattergeo"
        },
        {
         "lat": [
          42.21205889,
          32.89595056
         ],
         "line": {
          "color": "red",
          "width": 1
         },
         "locationmode": "USA-states",
         "lon": [
          -83.34883583,
          -97.0372
         ],
         "mode": "lines",
         "opacity": 0.2844638949671772,
         "type": "scattergeo"
        },
        {
         "lat": [
          39.64256778,
          32.89595056
         ],
         "line": {
          "color": "red",
          "width": 1
         },
         "locationmode": "USA-states",
         "lon": [
          -106.91769529999999,
          -97.0372
         ],
         "mode": "lines",
         "opacity": 0.1487964989059081,
         "type": "scattergeo"
        },
        {
         "lat": [
          40.69249722,
          32.89595056
         ],
         "line": {
          "color": "red",
          "width": 1
         },
         "locationmode": "USA-states",
         "lon": [
          -74.16866056,
          -97.0372
         ],
         "mode": "lines",
         "opacity": 0.33916849015317285,
         "type": "scattergeo"
        },
        {
         "lat": [
          36.77619444,
          32.89595056
         ],
         "line": {
          "color": "red",
          "width": 1
         },
         "locationmode": "USA-states",
         "lon": [
          -119.7181389,
          -97.0372
         ],
         "mode": "lines",
         "opacity": 0.12253829321663019,
         "type": "scattergeo"
        },
        {
         "lat": [
          26.07258333,
          32.89595056
         ],
         "line": {
          "color": "red",
          "width": 1
         },
         "locationmode": "USA-states",
         "lon": [
          -80.15275,
          -97.0372
         ],
         "mode": "lines",
         "opacity": 0.3676148796498906,
         "type": "scattergeo"
        },
        {
         "lat": [
          34.6404475,
          32.89595056
         ],
         "line": {
          "color": "red",
          "width": 1
         },
         "locationmode": "USA-states",
         "lon": [
          -86.77310944,
          -97.0372
         ],
         "mode": "lines",
         "opacity": 0.17286652078774617,
         "type": "scattergeo"
        },
        {
         "lat": [
          29.98047222,
          32.89595056
         ],
         "line": {
          "color": "red",
          "width": 1
         },
         "locationmode": "USA-states",
         "lon": [
          -95.33972222,
          -97.0372
         ],
         "mode": "lines",
         "opacity": 0.3544857768052516,
         "type": "scattergeo"
        },
        {
         "lat": [
          33.94253611,
          32.89595056
         ],
         "line": {
          "color": "red",
          "width": 1
         },
         "locationmode": "USA-states",
         "lon": [
          -118.40807439999999,
          -97.0372
         ],
         "mode": "lines",
         "opacity": 1,
         "type": "scattergeo"
        },
        {
         "lat": [
          39.29760528,
          32.89595056
         ],
         "line": {
          "color": "red",
          "width": 1
         },
         "locationmode": "USA-states",
         "lon": [
          -94.71390556,
          -97.0372
         ],
         "mode": "lines",
         "opacity": 0.47702407002188185,
         "type": "scattergeo"
        },
        {
         "lat": [
          28.42888889,
          32.89595056
         ],
         "line": {
          "color": "red",
          "width": 1
         },
         "locationmode": "USA-states",
         "lon": [
          -81.31602778,
          -97.0372
         ],
         "mode": "lines",
         "opacity": 0.5470459518599562,
         "type": "scattergeo"
        },
        {
         "lat": [
          35.04241667,
          32.89595056
         ],
         "line": {
          "color": "red",
          "width": 1
         },
         "locationmode": "USA-states",
         "lon": [
          -89.97666667,
          -97.0372
         ],
         "mode": "lines",
         "opacity": 0.23413566739606126,
         "type": "scattergeo"
        },
        {
         "lat": [
          26.17583333,
          32.89595056
         ],
         "line": {
          "color": "red",
          "width": 1
         },
         "locationmode": "USA-states",
         "lon": [
          -98.23861111,
          -97.0372
         ],
         "mode": "lines",
         "opacity": 0.23413566739606126,
         "type": "scattergeo"
        },
        {
         "lat": [
          25.79325,
          32.89595056
         ],
         "line": {
          "color": "red",
          "width": 1
         },
         "locationmode": "USA-states",
         "lon": [
          -80.29055556,
          -97.0372
         ],
         "mode": "lines",
         "opacity": 0.612691466083151,
         "type": "scattergeo"
        },
        {
         "lat": [
          44.88054694,
          32.89595056
         ],
         "line": {
          "color": "red",
          "width": 1
         },
         "locationmode": "USA-states",
         "lon": [
          -93.2169225,
          -97.0372
         ],
         "mode": "lines",
         "opacity": 0.35667396061269147,
         "type": "scattergeo"
        },
        {
         "lat": [
          38.50886722,
          32.89595056
         ],
         "line": {
          "color": "red",
          "width": 1
         },
         "locationmode": "USA-states",
         "lon": [
          -107.89383329999998,
          -97.0372
         ],
         "mode": "lines",
         "opacity": 0.0175054704595186,
         "type": "scattergeo"
        },
        {
         "lat": [
          20.89864972,
          32.89595056
         ],
         "line": {
          "color": "red",
          "width": 1
         },
         "locationmode": "USA-states",
         "lon": [
          -156.43045780000003,
          -97.0372
         ],
         "mode": "lines",
         "opacity": 0.061269146608315096,
         "type": "scattergeo"
        },
        {
         "lat": [
          35.39308833,
          32.89595056
         ],
         "line": {
          "color": "red",
          "width": 1
         },
         "locationmode": "USA-states",
         "lon": [
          -97.60073389,
          -97.0372
         ],
         "mode": "lines",
         "opacity": 0.42669584245076586,
         "type": "scattergeo"
        },
        {
         "lat": [
          41.30251861,
          32.89595056
         ],
         "line": {
          "color": "red",
          "width": 1
         },
         "locationmode": "USA-states",
         "lon": [
          -95.89417306,
          -97.0372
         ],
         "mode": "lines",
         "opacity": 0.2975929978118162,
         "type": "scattergeo"
        },
        {
         "lat": [
          41.979595,
          32.89595056
         ],
         "line": {
          "color": "red",
          "width": 1
         },
         "locationmode": "USA-states",
         "lon": [
          -87.90446417,
          -97.0372
         ],
         "mode": "lines",
         "opacity": 0.9026258205689278,
         "type": "scattergeo"
        },
        {
         "lat": [
          39.87195278,
          32.89595056
         ],
         "line": {
          "color": "red",
          "width": 1
         },
         "locationmode": "USA-states",
         "lon": [
          -75.24114083,
          -97.0372
         ],
         "mode": "lines",
         "opacity": 0.3522975929978118,
         "type": "scattergeo"
        },
        {
         "lat": [
          33.43416667,
          32.89595056
         ],
         "line": {
          "color": "red",
          "width": 1
         },
         "locationmode": "USA-states",
         "lon": [
          -112.00805559999999,
          -97.0372
         ],
         "mode": "lines",
         "opacity": 0.6017505470459519,
         "type": "scattergeo"
        },
        {
         "lat": [
          37.50516667,
          32.89595056
         ],
         "line": {
          "color": "red",
          "width": 1
         },
         "locationmode": "USA-states",
         "lon": [
          -77.31966667,
          -97.0372
         ],
         "mode": "lines",
         "opacity": 0.18161925601750548,
         "type": "scattergeo"
        },
        {
         "lat": [
          39.49857611,
          32.89595056
         ],
         "line": {
          "color": "red",
          "width": 1
         },
         "locationmode": "USA-states",
         "lon": [
          -119.76806470000001,
          -97.0372
         ],
         "mode": "lines",
         "opacity": 0.16411378555798686,
         "type": "scattergeo"
        },
        {
         "lat": [
          32.73355611,
          32.89595056
         ],
         "line": {
          "color": "red",
          "width": 1
         },
         "locationmode": "USA-states",
         "lon": [
          -117.1896567,
          -97.0372
         ],
         "mode": "lines",
         "opacity": 0.5470459518599562,
         "type": "scattergeo"
        },
        {
         "lat": [
          29.53369444,
          32.89595056
         ],
         "line": {
          "color": "red",
          "width": 1
         },
         "locationmode": "USA-states",
         "lon": [
          -98.46977778,
          -97.0372
         ],
         "mode": "lines",
         "opacity": 0.9037199124726477,
         "type": "scattergeo"
        },
        {
         "lat": [
          38.17438889,
          32.89595056
         ],
         "line": {
          "color": "red",
          "width": 1
         },
         "locationmode": "USA-states",
         "lon": [
          -85.736,
          -97.0372
         ],
         "mode": "lines",
         "opacity": 0.17943107221006566,
         "type": "scattergeo"
        },
        {
         "lat": [
          37.61900194,
          32.89595056
         ],
         "line": {
          "color": "red",
          "width": 1
         },
         "locationmode": "USA-states",
         "lon": [
          -122.3748433,
          -97.0372
         ],
         "mode": "lines",
         "opacity": 0.5754923413566739,
         "type": "scattergeo"
        },
        {
         "lat": [
          37.36186194,
          32.89595056
         ],
         "line": {
          "color": "red",
          "width": 1
         },
         "locationmode": "USA-states",
         "lon": [
          -121.92900890000001,
          -97.0372
         ],
         "mode": "lines",
         "opacity": 0.3479212253829322,
         "type": "scattergeo"
        },
        {
         "lat": [
          40.78838778,
          32.89595056
         ],
         "line": {
          "color": "red",
          "width": 1
         },
         "locationmode": "USA-states",
         "lon": [
          -111.9777731,
          -97.0372
         ],
         "mode": "lines",
         "opacity": 0.3063457330415755,
         "type": "scattergeo"
        },
        {
         "lat": [
          38.74768694,
          32.89595056
         ],
         "line": {
          "color": "red",
          "width": 1
         },
         "locationmode": "USA-states",
         "lon": [
          -90.35998972,
          -97.0372
         ],
         "mode": "lines",
         "opacity": 0.5317286652078774,
         "type": "scattergeo"
        },
        {
         "lat": [
          36.28186944,
          32.89595056
         ],
         "line": {
          "color": "red",
          "width": 1
         },
         "locationmode": "USA-states",
         "lon": [
          -94.30681111,
          -97.0372
         ],
         "mode": "lines",
         "opacity": 0.05470459518599562,
         "type": "scattergeo"
        },
        {
         "lat": [
          25.79325,
          42.21205889
         ],
         "line": {
          "color": "red",
          "width": 1
         },
         "locationmode": "USA-states",
         "lon": [
          -80.29055556,
          -83.34883583
         ],
         "mode": "lines",
         "opacity": 0.12253829321663019,
         "type": "scattergeo"
        },
        {
         "lat": [
          40.77724306,
          39.64256778
         ],
         "line": {
          "color": "red",
          "width": 1
         },
         "locationmode": "USA-states",
         "lon": [
          -73.87260917,
          -106.91769529999999
         ],
         "mode": "lines",
         "opacity": 0.0087527352297593,
         "type": "scattergeo"
        },
        {
         "lat": [
          41.979595,
          39.64256778
         ],
         "line": {
          "color": "red",
          "width": 1
         },
         "locationmode": "USA-states",
         "lon": [
          -87.90446417,
          -106.91769529999999
         ],
         "mode": "lines",
         "opacity": 0.0700218818380744,
         "type": "scattergeo"
        },
        {
         "lat": [
          32.89595056,
          31.80666667
         ],
         "line": {
          "color": "red",
          "width": 1
         },
         "locationmode": "USA-states",
         "lon": [
          -97.0372,
          -106.37780559999999
         ],
         "mode": "lines",
         "opacity": 0.474835886214442,
         "type": "scattergeo"
        },
        {
         "lat": [
          33.94253611,
          40.69249722
         ],
         "line": {
          "color": "red",
          "width": 1
         },
         "locationmode": "USA-states",
         "lon": [
          -118.40807439999999,
          -74.16866056
         ],
         "mode": "lines",
         "opacity": 0.05908096280087528,
         "type": "scattergeo"
        },
        {
         "lat": [
          25.79325,
          40.69249722
         ],
         "line": {
          "color": "red",
          "width": 1
         },
         "locationmode": "USA-states",
         "lon": [
          -80.29055556,
          -74.16866056
         ],
         "mode": "lines",
         "opacity": 0.1838074398249453,
         "type": "scattergeo"
        },
        {
         "lat": [
          40.63975111,
          26.07258333
         ],
         "line": {
          "color": "red",
          "width": 1
         },
         "locationmode": "USA-states",
         "lon": [
          -73.77892556,
          -80.15275
         ],
         "mode": "lines",
         "opacity": 0.12253829321663019,
         "type": "scattergeo"
        },
        {
         "lat": [
          32.89595056,
          40.48118028
         ],
         "line": {
          "color": "red",
          "width": 1
         },
         "locationmode": "USA-states",
         "lon": [
          -97.0372,
          -107.21765970000001
         ],
         "mode": "lines",
         "opacity": 0.0700218818380744,
         "type": "scattergeo"
        },
        {
         "lat": [
          32.89595056,
          21.31869111
         ],
         "line": {
          "color": "red",
          "width": 1
         },
         "locationmode": "USA-states",
         "lon": [
          -97.0372,
          -157.92240719999998
         ],
         "mode": "lines",
         "opacity": 0.12253829321663019,
         "type": "scattergeo"
        },
        {
         "lat": [
          33.94253611,
          21.31869111
         ],
         "line": {
          "color": "red",
          "width": 1
         },
         "locationmode": "USA-states",
         "lon": [
          -118.40807439999999,
          -157.92240719999998
         ],
         "mode": "lines",
         "opacity": 0.2363238512035011,
         "type": "scattergeo"
        },
        {
         "lat": [
          32.89595056,
          38.94453194
         ],
         "line": {
          "color": "red",
          "width": 1
         },
         "locationmode": "USA-states",
         "lon": [
          -97.0372,
          -77.45580972
         ],
         "mode": "lines",
         "opacity": 0.33698030634573306,
         "type": "scattergeo"
        },
        {
         "lat": [
          33.94253611,
          38.94453194
         ],
         "line": {
          "color": "red",
          "width": 1
         },
         "locationmode": "USA-states",
         "lon": [
          -118.40807439999999,
          -77.45580972
         ],
         "mode": "lines",
         "opacity": 0.18161925601750548,
         "type": "scattergeo"
        },
        {
         "lat": [
          25.79325,
          38.94453194
         ],
         "line": {
          "color": "red",
          "width": 1
         },
         "locationmode": "USA-states",
         "lon": [
          -80.29055556,
          -77.45580972
         ],
         "mode": "lines",
         "opacity": 0.12253829321663019,
         "type": "scattergeo"
        },
        {
         "lat": [
          25.79325,
          29.98047222
         ],
         "line": {
          "color": "red",
          "width": 1
         },
         "locationmode": "USA-states",
         "lon": [
          -80.29055556,
          -95.33972222
         ],
         "mode": "lines",
         "opacity": 0.1838074398249453,
         "type": "scattergeo"
        },
        {
         "lat": [
          32.89595056,
          37.64995889
         ],
         "line": {
          "color": "red",
          "width": 1
         },
         "locationmode": "USA-states",
         "lon": [
          -97.0372,
          -97.43304583
         ],
         "mode": "lines",
         "opacity": 0.23413566739606126,
         "type": "scattergeo"
        },
        {
         "lat": [
          32.89595056,
          39.71732917
         ],
         "line": {
          "color": "red",
          "width": 1
         },
         "locationmode": "USA-states",
         "lon": [
          -97.0372,
          -86.29438417
         ],
         "mode": "lines",
         "opacity": 0.3041575492341357,
         "type": "scattergeo"
        },
        {
         "lat": [
          32.89595056,
          43.60732417
         ],
         "line": {
          "color": "red",
          "width": 1
         },
         "locationmode": "USA-states",
         "lon": [
          -97.0372,
          -110.7377389
         ],
         "mode": "lines",
         "opacity": 0.0262582056892779,
         "type": "scattergeo"
        },
        {
         "lat": [
          32.89595056,
          30.49405556
         ],
         "line": {
          "color": "red",
          "width": 1
         },
         "locationmode": "USA-states",
         "lon": [
          -97.0372,
          -81.68786111
         ],
         "mode": "lines",
         "opacity": 0.2363238512035011,
         "type": "scattergeo"
        },
        {
         "lat": [
          30.19453278,
          40.63975111
         ],
         "line": {
          "color": "red",
          "width": 1
         },
         "locationmode": "USA-states",
         "lon": [
          -97.66987194,
          -73.77892556
         ],
         "mode": "lines",
         "opacity": 0.061269146608315096,
         "type": "scattergeo"
        },
        {
         "lat": [
          32.89595056,
          40.63975111
         ],
         "line": {
          "color": "red",
          "width": 1
         },
         "locationmode": "USA-states",
         "lon": [
          -97.0372,
          -73.77892556
         ],
         "mode": "lines",
         "opacity": 0.061269146608315096,
         "type": "scattergeo"
        },
        {
         "lat": [
          39.64256778,
          40.63975111
         ],
         "line": {
          "color": "red",
          "width": 1
         },
         "locationmode": "USA-states",
         "lon": [
          -106.91769529999999,
          -73.77892556
         ],
         "mode": "lines",
         "opacity": 0.061269146608315096,
         "type": "scattergeo"
        },
        {
         "lat": [
          28.42888889,
          40.63975111
         ],
         "line": {
          "color": "red",
          "width": 1
         },
         "locationmode": "USA-states",
         "lon": [
          -81.31602778,
          -73.77892556
         ],
         "mode": "lines",
         "opacity": 0.24507658643326038,
         "type": "scattergeo"
        },
        {
         "lat": [
          25.79325,
          40.63975111
         ],
         "line": {
          "color": "red",
          "width": 1
         },
         "locationmode": "USA-states",
         "lon": [
          -80.29055556,
          -73.77892556
         ],
         "mode": "lines",
         "opacity": 0.4288840262582057,
         "type": "scattergeo"
        },
        {
         "lat": [
          47.44898194,
          40.63975111
         ],
         "line": {
          "color": "red",
          "width": 1
         },
         "locationmode": "USA-states",
         "lon": [
          -122.30931310000001,
          -73.77892556
         ],
         "mode": "lines",
         "opacity": 0.061269146608315096,
         "type": "scattergeo"
        },
        {
         "lat": [
          37.61900194,
          40.63975111
         ],
         "line": {
          "color": "red",
          "width": 1
         },
         "locationmode": "USA-states",
         "lon": [
          -122.3748433,
          -73.77892556
         ],
         "mode": "lines",
         "opacity": 0.3041575492341357,
         "type": "scattergeo"
        },
        {
         "lat": [
          18.33730556,
          40.63975111
         ],
         "line": {
          "color": "red",
          "width": 1
         },
         "locationmode": "USA-states",
         "lon": [
          -64.97336111,
          -73.77892556
         ],
         "mode": "lines",
         "opacity": 0.061269146608315096,
         "type": "scattergeo"
        },
        {
         "lat": [
          27.97547222,
          40.63975111
         ],
         "line": {
          "color": "red",
          "width": 1
         },
         "locationmode": "USA-states",
         "lon": [
          -82.53325,
          -73.77892556
         ],
         "mode": "lines",
         "opacity": 0.061269146608315096,
         "type": "scattergeo"
        },
        {
         "lat": [
          32.89595056,
          36.08036111
         ],
         "line": {
          "color": "red",
          "width": 1
         },
         "locationmode": "USA-states",
         "lon": [
          -97.0372,
          -115.15233329999998
         ],
         "mode": "lines",
         "opacity": 0.6225382932166302,
         "type": "scattergeo"
        },
        {
         "lat": [
          40.63975111,
          36.08036111
         ],
         "line": {
          "color": "red",
          "width": 1
         },
         "locationmode": "USA-states",
         "lon": [
          -73.77892556,
          -115.15233329999998
         ],
         "mode": "lines",
         "opacity": 0.12253829321663019,
         "type": "scattergeo"
        },
        {
         "lat": [
          33.94253611,
          36.08036111
         ],
         "line": {
          "color": "red",
          "width": 1
         },
         "locationmode": "USA-states",
         "lon": [
          -118.40807439999999,
          -115.15233329999998
         ],
         "mode": "lines",
         "opacity": 0.24288840262582057,
         "type": "scattergeo"
        },
        {
         "lat": [
          41.979595,
          36.08036111
         ],
         "line": {
          "color": "red",
          "width": 1
         },
         "locationmode": "USA-states",
         "lon": [
          -87.90446417,
          -115.15233329999998
         ],
         "mode": "lines",
         "opacity": 0.3063457330415755,
         "type": "scattergeo"
        },
        {
         "lat": [
          30.19453278,
          33.94253611
         ],
         "line": {
          "color": "red",
          "width": 1
         },
         "locationmode": "USA-states",
         "lon": [
          -97.66987194,
          -118.40807439999999
         ],
         "mode": "lines",
         "opacity": 0.1772428884026258,
         "type": "scattergeo"
        },
        {
         "lat": [
          36.12447667,
          33.94253611
         ],
         "line": {
          "color": "red",
          "width": 1
         },
         "locationmode": "USA-states",
         "lon": [
          -86.67818222,
          -118.40807439999999
         ],
         "mode": "lines",
         "opacity": 0.061269146608315096,
         "type": "scattergeo"
        },
        {
         "lat": [
          42.3643475,
          33.94253611
         ],
         "line": {
          "color": "red",
          "width": 1
         },
         "locationmode": "USA-states",
         "lon": [
          -71.00517917,
          -118.40807439999999
         ],
         "mode": "lines",
         "opacity": 0.1838074398249453,
         "type": "scattergeo"
        },
        {
         "lat": [
          39.64256778,
          33.94253611
         ],
         "line": {
          "color": "red",
          "width": 1
         },
         "locationmode": "USA-states",
         "lon": [
          -106.91769529999999,
          -118.40807439999999
         ],
         "mode": "lines",
         "opacity": 0.061269146608315096,
         "type": "scattergeo"
        },
        {
         "lat": [
          40.63975111,
          33.94253611
         ],
         "line": {
          "color": "red",
          "width": 1
         },
         "locationmode": "USA-states",
         "lon": [
          -73.77892556,
          -118.40807439999999
         ],
         "mode": "lines",
         "opacity": 0.5995623632385121,
         "type": "scattergeo"
        },
        {
         "lat": [
          19.73876583,
          33.94253611
         ],
         "line": {
          "color": "red",
          "width": 1
         },
         "locationmode": "USA-states",
         "lon": [
          -156.0456314,
          -118.40807439999999
         ],
         "mode": "lines",
         "opacity": 0.061269146608315096,
         "type": "scattergeo"
        },
        {
         "lat": [
          20.89864972,
          33.94253611
         ],
         "line": {
          "color": "red",
          "width": 1
         },
         "locationmode": "USA-states",
         "lon": [
          -156.43045780000003,
          -118.40807439999999
         ],
         "mode": "lines",
         "opacity": 0.12253829321663019,
         "type": "scattergeo"
        },
        {
         "lat": [
          41.979595,
          33.94253611
         ],
         "line": {
          "color": "red",
          "width": 1
         },
         "locationmode": "USA-states",
         "lon": [
          -87.90446417,
          -118.40807439999999
         ],
         "mode": "lines",
         "opacity": 0.5426695842450766,
         "type": "scattergeo"
        },
        {
         "lat": [
          38.74768694,
          33.94253611
         ],
         "line": {
          "color": "red",
          "width": 1
         },
         "locationmode": "USA-states",
         "lon": [
          -90.35998972,
          -118.40807439999999
         ],
         "mode": "lines",
         "opacity": 0.18161925601750548,
         "type": "scattergeo"
        },
        {
         "lat": [
          36.12447667,
          40.77724306
         ],
         "line": {
          "color": "red",
          "width": 1
         },
         "locationmode": "USA-states",
         "lon": [
          -86.67818222,
          -73.87260917
         ],
         "mode": "lines",
         "opacity": 0.11159737417943107,
         "type": "scattergeo"
        },
        {
         "lat": [
          32.89595056,
          40.77724306
         ],
         "line": {
          "color": "red",
          "width": 1
         },
         "locationmode": "USA-states",
         "lon": [
          -97.0372,
          -73.87260917
         ],
         "mode": "lines",
         "opacity": 0.849015317286652,
         "type": "scattergeo"
        },
        {
         "lat": [
          38.74768694,
          40.77724306
         ],
         "line": {
          "color": "red",
          "width": 1
         },
         "locationmode": "USA-states",
         "lon": [
          -90.35998972,
          -73.87260917
         ],
         "mode": "lines",
         "opacity": 0.22538293216630198,
         "type": "scattergeo"
        },
        {
         "lat": [
          33.94253611,
          21.97598306
         ],
         "line": {
          "color": "red",
          "width": 1
         },
         "locationmode": "USA-states",
         "lon": [
          -118.40807439999999,
          -159.3389581
         ],
         "mode": "lines",
         "opacity": 0.061269146608315096,
         "type": "scattergeo"
        },
        {
         "lat": [
          33.94253611,
          28.42888889
         ],
         "line": {
          "color": "red",
          "width": 1
         },
         "locationmode": "USA-states",
         "lon": [
          -118.40807439999999,
          -81.31602778
         ],
         "mode": "lines",
         "opacity": 0.061269146608315096,
         "type": "scattergeo"
        },
        {
         "lat": [
          25.79325,
          28.42888889
         ],
         "line": {
          "color": "red",
          "width": 1
         },
         "locationmode": "USA-states",
         "lon": [
          -80.29055556,
          -81.31602778
         ],
         "mode": "lines",
         "opacity": 0.49015317286652077,
         "type": "scattergeo"
        },
        {
         "lat": [
          33.64044444,
          25.79325
         ],
         "line": {
          "color": "red",
          "width": 1
         },
         "locationmode": "USA-states",
         "lon": [
          -84.42694444,
          -80.29055556
         ],
         "mode": "lines",
         "opacity": 0.24507658643326038,
         "type": "scattergeo"
        },
        {
         "lat": [
          41.93887417,
          25.79325
         ],
         "line": {
          "color": "red",
          "width": 1
         },
         "locationmode": "USA-states",
         "lon": [
          -72.68322833,
          -80.29055556
         ],
         "mode": "lines",
         "opacity": 0.12253829321663019,
         "type": "scattergeo"
        },
        {
         "lat": [
          38.85208333,
          25.79325
         ],
         "line": {
          "color": "red",
          "width": 1
         },
         "locationmode": "USA-states",
         "lon": [
          -77.03772222,
          -80.29055556
         ],
         "mode": "lines",
         "opacity": 0.5514223194748359,
         "type": "scattergeo"
        },
        {
         "lat": [
          39.64256778,
          25.79325
         ],
         "line": {
          "color": "red",
          "width": 1
         },
         "locationmode": "USA-states",
         "lon": [
          -106.91769529999999,
          -80.29055556
         ],
         "mode": "lines",
         "opacity": 0.0525164113785558,
         "type": "scattergeo"
        },
        {
         "lat": [
          36.08036111,
          25.79325
         ],
         "line": {
          "color": "red",
          "width": 1
         },
         "locationmode": "USA-states",
         "lon": [
          -115.15233329999998,
          -80.29055556
         ],
         "mode": "lines",
         "opacity": 0.1838074398249453,
         "type": "scattergeo"
        },
        {
         "lat": [
          33.94253611,
          25.79325
         ],
         "line": {
          "color": "red",
          "width": 1
         },
         "locationmode": "USA-states",
         "lon": [
          -118.40807439999999,
          -80.29055556
         ],
         "mode": "lines",
         "opacity": 0.4288840262582057,
         "type": "scattergeo"
        },
        {
         "lat": [
          40.77724306,
          25.79325
         ],
         "line": {
          "color": "red",
          "width": 1
         },
         "locationmode": "USA-states",
         "lon": [
          -73.87260917,
          -80.29055556
         ],
         "mode": "lines",
         "opacity": 0.6728665207877462,
         "type": "scattergeo"
        },
        {
         "lat": [
          44.88054694,
          25.79325
         ],
         "line": {
          "color": "red",
          "width": 1
         },
         "locationmode": "USA-states",
         "lon": [
          -93.2169225,
          -80.29055556
         ],
         "mode": "lines",
         "opacity": 0.061269146608315096,
         "type": "scattergeo"
        },
        {
         "lat": [
          41.979595,
          25.79325
         ],
         "line": {
          "color": "red",
          "width": 1
         },
         "locationmode": "USA-states",
         "lon": [
          -87.90446417,
          -80.29055556
         ],
         "mode": "lines",
         "opacity": 0.5525164113785558,
         "type": "scattergeo"
        },
        {
         "lat": [
          39.87195278,
          25.79325
         ],
         "line": {
          "color": "red",
          "width": 1
         },
         "locationmode": "USA-states",
         "lon": [
          -75.24114083,
          -80.29055556
         ],
         "mode": "lines",
         "opacity": 0.1838074398249453,
         "type": "scattergeo"
        },
        {
         "lat": [
          33.43416667,
          25.79325
         ],
         "line": {
          "color": "red",
          "width": 1
         },
         "locationmode": "USA-states",
         "lon": [
          -112.00805559999999,
          -80.29055556
         ],
         "mode": "lines",
         "opacity": 0.061269146608315096,
         "type": "scattergeo"
        },
        {
         "lat": [
          37.61900194,
          25.79325
         ],
         "line": {
          "color": "red",
          "width": 1
         },
         "locationmode": "USA-states",
         "lon": [
          -122.3748433,
          -80.29055556
         ],
         "mode": "lines",
         "opacity": 0.1838074398249453,
         "type": "scattergeo"
        },
        {
         "lat": [
          18.43941667,
          25.79325
         ],
         "line": {
          "color": "red",
          "width": 1
         },
         "locationmode": "USA-states",
         "lon": [
          -66.00183333,
          -80.29055556
         ],
         "mode": "lines",
         "opacity": 0.49015317286652077,
         "type": "scattergeo"
        },
        {
         "lat": [
          36.19837222,
          25.79325
         ],
         "line": {
          "color": "red",
          "width": 1
         },
         "locationmode": "USA-states",
         "lon": [
          -95.88824167,
          -80.29055556
         ],
         "mode": "lines",
         "opacity": 0.00437636761487965,
         "type": "scattergeo"
        },
        {
         "lat": [
          41.979595,
          44.88054694
         ],
         "line": {
          "color": "red",
          "width": 1
         },
         "locationmode": "USA-states",
         "lon": [
          -87.90446417,
          -93.2169225
         ],
         "mode": "lines",
         "opacity": 0.175054704595186,
         "type": "scattergeo"
        },
        {
         "lat": [
          32.89595056,
          29.99338889
         ],
         "line": {
          "color": "red",
          "width": 1
         },
         "locationmode": "USA-states",
         "lon": [
          -97.0372,
          -90.25802778
         ],
         "mode": "lines",
         "opacity": 0.3676148796498906,
         "type": "scattergeo"
        },
        {
         "lat": [
          25.79325,
          29.99338889
         ],
         "line": {
          "color": "red",
          "width": 1
         },
         "locationmode": "USA-states",
         "lon": [
          -80.29055556,
          -90.25802778
         ],
         "mode": "lines",
         "opacity": 0.1838074398249453,
         "type": "scattergeo"
        },
        {
         "lat": [
          41.979595,
          29.99338889
         ],
         "line": {
          "color": "red",
          "width": 1
         },
         "locationmode": "USA-states",
         "lon": [
          -87.90446417,
          -90.25802778
         ],
         "mode": "lines",
         "opacity": 0.16301969365426697,
         "type": "scattergeo"
        },
        {
         "lat": [
          32.89595056,
          34.056
         ],
         "line": {
          "color": "red",
          "width": 1
         },
         "locationmode": "USA-states",
         "lon": [
          -97.0372,
          -117.60119440000001
         ],
         "mode": "lines",
         "opacity": 0.24288840262582057,
         "type": "scattergeo"
        },
        {
         "lat": [
          38.85208333,
          41.979595
         ],
         "line": {
          "color": "red",
          "width": 1
         },
         "locationmode": "USA-states",
         "lon": [
          -77.03772222,
          -87.90446417
         ],
         "mode": "lines",
         "opacity": 0.3544857768052516,
         "type": "scattergeo"
        },
        {
         "lat": [
          40.69249722,
          41.979595
         ],
         "line": {
          "color": "red",
          "width": 1
         },
         "locationmode": "USA-states",
         "lon": [
          -74.16866056,
          -87.90446417
         ],
         "mode": "lines",
         "opacity": 0.1838074398249453,
         "type": "scattergeo"
        },
        {
         "lat": [
          26.07258333,
          41.979595
         ],
         "line": {
          "color": "red",
          "width": 1
         },
         "locationmode": "USA-states",
         "lon": [
          -80.15275,
          -87.90446417
         ],
         "mode": "lines",
         "opacity": 0.1838074398249453,
         "type": "scattergeo"
        },
        {
         "lat": [
          40.48118028,
          41.979595
         ],
         "line": {
          "color": "red",
          "width": 1
         },
         "locationmode": "USA-states",
         "lon": [
          -107.21765970000001,
          -87.90446417
         ],
         "mode": "lines",
         "opacity": 0.0525164113785558,
         "type": "scattergeo"
        },
        {
         "lat": [
          21.31869111,
          41.979595
         ],
         "line": {
          "color": "red",
          "width": 1
         },
         "locationmode": "USA-states",
         "lon": [
          -157.92240719999998,
          -87.90446417
         ],
         "mode": "lines",
         "opacity": 0.05032822757111598,
         "type": "scattergeo"
        },
        {
         "lat": [
          43.60732417,
          41.979595
         ],
         "line": {
          "color": "red",
          "width": 1
         },
         "locationmode": "USA-states",
         "lon": [
          -110.7377389,
          -87.90446417
         ],
         "mode": "lines",
         "opacity": 0.061269146608315096,
         "type": "scattergeo"
        },
        {
         "lat": [
          40.63975111,
          41.979595
         ],
         "line": {
          "color": "red",
          "width": 1
         },
         "locationmode": "USA-states",
         "lon": [
          -73.77892556,
          -87.90446417
         ],
         "mode": "lines",
         "opacity": 0.061269146608315096,
         "type": "scattergeo"
        },
        {
         "lat": [
          40.77724306,
          41.979595
         ],
         "line": {
          "color": "red",
          "width": 1
         },
         "locationmode": "USA-states",
         "lon": [
          -73.87260917,
          -87.90446417
         ],
         "mode": "lines",
         "opacity": 0.9409190371991247,
         "type": "scattergeo"
        },
        {
         "lat": [
          39.29760528,
          41.979595
         ],
         "line": {
          "color": "red",
          "width": 1
         },
         "locationmode": "USA-states",
         "lon": [
          -94.71390556,
          -87.90446417
         ],
         "mode": "lines",
         "opacity": 0.23413566739606126,
         "type": "scattergeo"
        },
        {
         "lat": [
          28.42888889,
          41.979595
         ],
         "line": {
          "color": "red",
          "width": 1
         },
         "locationmode": "USA-states",
         "lon": [
          -81.31602778,
          -87.90446417
         ],
         "mode": "lines",
         "opacity": 0.24507658643326038,
         "type": "scattergeo"
        },
        {
         "lat": [
          35.87763889,
          41.979595
         ],
         "line": {
          "color": "red",
          "width": 1
         },
         "locationmode": "USA-states",
         "lon": [
          -78.78747222,
          -87.90446417
         ],
         "mode": "lines",
         "opacity": 0.17067833698030635,
         "type": "scattergeo"
        },
        {
         "lat": [
          39.49857611,
          41.979595
         ],
         "line": {
          "color": "red",
          "width": 1
         },
         "locationmode": "USA-states",
         "lon": [
          -119.76806470000001,
          -87.90446417
         ],
         "mode": "lines",
         "opacity": 0.061269146608315096,
         "type": "scattergeo"
        },
        {
         "lat": [
          32.73355611,
          41.979595
         ],
         "line": {
          "color": "red",
          "width": 1
         },
         "locationmode": "USA-states",
         "lon": [
          -117.1896567,
          -87.90446417
         ],
         "mode": "lines",
         "opacity": 0.24507658643326038,
         "type": "scattergeo"
        },
        {
         "lat": [
          29.53369444,
          41.979595
         ],
         "line": {
          "color": "red",
          "width": 1
         },
         "locationmode": "USA-states",
         "lon": [
          -98.46977778,
          -87.90446417
         ],
         "mode": "lines",
         "opacity": 0.12253829321663019,
         "type": "scattergeo"
        },
        {
         "lat": [
          37.36186194,
          41.979595
         ],
         "line": {
          "color": "red",
          "width": 1
         },
         "locationmode": "USA-states",
         "lon": [
          -121.92900890000001,
          -87.90446417
         ],
         "mode": "lines",
         "opacity": 0.12253829321663019,
         "type": "scattergeo"
        },
        {
         "lat": [
          18.43941667,
          41.979595
         ],
         "line": {
          "color": "red",
          "width": 1
         },
         "locationmode": "USA-states",
         "lon": [
          -66.00183333,
          -87.90446417
         ],
         "mode": "lines",
         "opacity": 0.12253829321663019,
         "type": "scattergeo"
        },
        {
         "lat": [
          38.74768694,
          41.979595
         ],
         "line": {
          "color": "red",
          "width": 1
         },
         "locationmode": "USA-states",
         "lon": [
          -90.35998972,
          -87.90446417
         ],
         "mode": "lines",
         "opacity": 0.5284463894967177,
         "type": "scattergeo"
        },
        {
         "lat": [
          36.19837222,
          41.979595
         ],
         "line": {
          "color": "red",
          "width": 1
         },
         "locationmode": "USA-states",
         "lon": [
          -95.88824167,
          -87.90446417
         ],
         "mode": "lines",
         "opacity": 0.061269146608315096,
         "type": "scattergeo"
        },
        {
         "lat": [
          32.11608333,
          41.979595
         ],
         "line": {
          "color": "red",
          "width": 1
         },
         "locationmode": "USA-states",
         "lon": [
          -110.94102779999999,
          -87.90446417
         ],
         "mode": "lines",
         "opacity": 0.12253829321663019,
         "type": "scattergeo"
        },
        {
         "lat": [
          32.89595056,
          36.89461111
         ],
         "line": {
          "color": "red",
          "width": 1
         },
         "locationmode": "USA-states",
         "lon": [
          -97.0372,
          -76.20122222
         ],
         "mode": "lines",
         "opacity": 0.12253829321663019,
         "type": "scattergeo"
        },
        {
         "lat": [
          32.89595056,
          26.68316194
         ],
         "line": {
          "color": "red",
          "width": 1
         },
         "locationmode": "USA-states",
         "lon": [
          -97.0372,
          -80.09559417
         ],
         "mode": "lines",
         "opacity": 0.12253829321663019,
         "type": "scattergeo"
        },
        {
         "lat": [
          41.979595,
          26.68316194
         ],
         "line": {
          "color": "red",
          "width": 1
         },
         "locationmode": "USA-states",
         "lon": [
          -87.90446417,
          -80.09559417
         ],
         "mode": "lines",
         "opacity": 0.16411378555798686,
         "type": "scattergeo"
        },
        {
         "lat": [
          32.89595056,
          45.58872222
         ],
         "line": {
          "color": "red",
          "width": 1
         },
         "locationmode": "USA-states",
         "lon": [
          -97.0372,
          -122.5975
         ],
         "mode": "lines",
         "opacity": 0.24507658643326038,
         "type": "scattergeo"
        },
        {
         "lat": [
          41.979595,
          39.87195278
         ],
         "line": {
          "color": "red",
          "width": 1
         },
         "locationmode": "USA-states",
         "lon": [
          -87.90446417,
          -75.24114083
         ],
         "mode": "lines",
         "opacity": 0.12035010940919037,
         "type": "scattergeo"
        },
        {
         "lat": [
          18.43941667,
          39.87195278
         ],
         "line": {
          "color": "red",
          "width": 1
         },
         "locationmode": "USA-states",
         "lon": [
          -66.00183333,
          -75.24114083
         ],
         "mode": "lines",
         "opacity": 0.061269146608315096,
         "type": "scattergeo"
        },
        {
         "lat": [
          41.979595,
          33.43416667
         ],
         "line": {
          "color": "red",
          "width": 1
         },
         "locationmode": "USA-states",
         "lon": [
          -87.90446417,
          -112.00805559999999
         ],
         "mode": "lines",
         "opacity": 0.3063457330415755,
         "type": "scattergeo"
        },
        {
         "lat": [
          32.89595056,
          40.49146583
         ],
         "line": {
          "color": "red",
          "width": 1
         },
         "locationmode": "USA-states",
         "lon": [
          -97.0372,
          -80.23287083
         ],
         "mode": "lines",
         "opacity": 0.18599562363238512,
         "type": "scattergeo"
        },
        {
         "lat": [
          32.89595056,
          33.82921556
         ],
         "line": {
          "color": "red",
          "width": 1
         },
         "locationmode": "USA-states",
         "lon": [
          -97.0372,
          -116.5062531
         ],
         "mode": "lines",
         "opacity": 0.1838074398249453,
         "type": "scattergeo"
        },
        {
         "lat": [
          41.979595,
          33.82921556
         ],
         "line": {
          "color": "red",
          "width": 1
         },
         "locationmode": "USA-states",
         "lon": [
          -87.90446417,
          -116.5062531
         ],
         "mode": "lines",
         "opacity": 0.0700218818380744,
         "type": "scattergeo"
        },
        {
         "lat": [
          32.89595056,
          35.87763889
         ],
         "line": {
          "color": "red",
          "width": 1
         },
         "locationmode": "USA-states",
         "lon": [
          -97.0372,
          -78.78747222
         ],
         "mode": "lines",
         "opacity": 0.3041575492341357,
         "type": "scattergeo"
        },
        {
         "lat": [
          25.79325,
          35.87763889
         ],
         "line": {
          "color": "red",
          "width": 1
         },
         "locationmode": "USA-states",
         "lon": [
          -80.29055556,
          -78.78747222
         ],
         "mode": "lines",
         "opacity": 0.1838074398249453,
         "type": "scattergeo"
        },
        {
         "lat": [
          32.89595056,
          26.53616667
         ],
         "line": {
          "color": "red",
          "width": 1
         },
         "locationmode": "USA-states",
         "lon": [
          -97.0372,
          -81.75516667
         ],
         "mode": "lines",
         "opacity": 0.1838074398249453,
         "type": "scattergeo"
        },
        {
         "lat": [
          41.979595,
          26.53616667
         ],
         "line": {
          "color": "red",
          "width": 1
         },
         "locationmode": "USA-states",
         "lon": [
          -87.90446417,
          -81.75516667
         ],
         "mode": "lines",
         "opacity": 0.1838074398249453,
         "type": "scattergeo"
        },
        {
         "lat": [
          40.63975111,
          32.73355611
         ],
         "line": {
          "color": "red",
          "width": 1
         },
         "locationmode": "USA-states",
         "lon": [
          -73.77892556,
          -117.1896567
         ],
         "mode": "lines",
         "opacity": 0.061269146608315096,
         "type": "scattergeo"
        },
        {
         "lat": [
          32.89595056,
          47.44898194
         ],
         "line": {
          "color": "red",
          "width": 1
         },
         "locationmode": "USA-states",
         "lon": [
          -97.0372,
          -122.30931310000001
         ],
         "mode": "lines",
         "opacity": 0.4288840262582057,
         "type": "scattergeo"
        },
        {
         "lat": [
          41.979595,
          47.44898194
         ],
         "line": {
          "color": "red",
          "width": 1
         },
         "locationmode": "USA-states",
         "lon": [
          -87.90446417,
          -122.30931310000001
         ],
         "mode": "lines",
         "opacity": 0.23413566739606126,
         "type": "scattergeo"
        },
        {
         "lat": [
          21.31869111,
          37.61900194
         ],
         "line": {
          "color": "red",
          "width": 1
         },
         "locationmode": "USA-states",
         "lon": [
          -157.92240719999998,
          -122.3748433
         ],
         "mode": "lines",
         "opacity": 0.061269146608315096,
         "type": "scattergeo"
        },
        {
         "lat": [
          33.94253611,
          37.61900194
         ],
         "line": {
          "color": "red",
          "width": 1
         },
         "locationmode": "USA-states",
         "lon": [
          -118.40807439999999,
          -122.3748433
         ],
         "mode": "lines",
         "opacity": 0.3676148796498906,
         "type": "scattergeo"
        },
        {
         "lat": [
          41.979595,
          37.61900194
         ],
         "line": {
          "color": "red",
          "width": 1
         },
         "locationmode": "USA-states",
         "lon": [
          -87.90446417,
          -122.3748433
         ],
         "mode": "lines",
         "opacity": 0.35667396061269147,
         "type": "scattergeo"
        },
        {
         "lat": [
          32.89595056,
          18.43941667
         ],
         "line": {
          "color": "red",
          "width": 1
         },
         "locationmode": "USA-states",
         "lon": [
          -97.0372,
          -66.00183333
         ],
         "mode": "lines",
         "opacity": 0.13129102844638948,
         "type": "scattergeo"
        },
        {
         "lat": [
          38.94453194,
          18.43941667
         ],
         "line": {
          "color": "red",
          "width": 1
         },
         "locationmode": "USA-states",
         "lon": [
          -77.45580972,
          -66.00183333
         ],
         "mode": "lines",
         "opacity": 0.061269146608315096,
         "type": "scattergeo"
        },
        {
         "lat": [
          40.63975111,
          18.43941667
         ],
         "line": {
          "color": "red",
          "width": 1
         },
         "locationmode": "USA-states",
         "lon": [
          -73.77892556,
          -66.00183333
         ],
         "mode": "lines",
         "opacity": 0.1838074398249453,
         "type": "scattergeo"
        },
        {
         "lat": [
          33.94253611,
          18.43941667
         ],
         "line": {
          "color": "red",
          "width": 1
         },
         "locationmode": "USA-states",
         "lon": [
          -118.40807439999999,
          -66.00183333
         ],
         "mode": "lines",
         "opacity": 0.0175054704595186,
         "type": "scattergeo"
        },
        {
         "lat": [
          32.89595056,
          38.69542167
         ],
         "line": {
          "color": "red",
          "width": 1
         },
         "locationmode": "USA-states",
         "lon": [
          -97.0372,
          -121.5907669
         ],
         "mode": "lines",
         "opacity": 0.24507658643326038,
         "type": "scattergeo"
        },
        {
         "lat": [
          32.89595056,
          33.67565861
         ],
         "line": {
          "color": "red",
          "width": 1
         },
         "locationmode": "USA-states",
         "lon": [
          -97.0372,
          -117.86822250000002
         ],
         "mode": "lines",
         "opacity": 0.6323851203501094,
         "type": "scattergeo"
        },
        {
         "lat": [
          41.979595,
          33.67565861
         ],
         "line": {
          "color": "red",
          "width": 1
         },
         "locationmode": "USA-states",
         "lon": [
          -87.90446417,
          -117.86822250000002
         ],
         "mode": "lines",
         "opacity": 0.16630196936542668,
         "type": "scattergeo"
        },
        {
         "lat": [
          38.85208333,
          38.74768694
         ],
         "line": {
          "color": "red",
          "width": 1
         },
         "locationmode": "USA-states",
         "lon": [
          -77.03772222,
          -90.35998972
         ],
         "mode": "lines",
         "opacity": 0.2188183807439825,
         "type": "scattergeo"
        },
        {
         "lat": [
          25.79325,
          38.74768694
         ],
         "line": {
          "color": "red",
          "width": 1
         },
         "locationmode": "USA-states",
         "lon": [
          -80.29055556,
          -90.35998972
         ],
         "mode": "lines",
         "opacity": 0.1838074398249453,
         "type": "scattergeo"
        },
        {
         "lat": [
          25.79325,
          18.33730556
         ],
         "line": {
          "color": "red",
          "width": 1
         },
         "locationmode": "USA-states",
         "lon": [
          -80.29055556,
          -64.97336111
         ],
         "mode": "lines",
         "opacity": 0.12253829321663019,
         "type": "scattergeo"
        },
        {
         "lat": [
          25.79325,
          17.70188889
         ],
         "line": {
          "color": "red",
          "width": 1
         },
         "locationmode": "USA-states",
         "lon": [
          -80.29055556,
          -64.79855556
         ],
         "mode": "lines",
         "opacity": 0.06783369803063458,
         "type": "scattergeo"
        },
        {
         "lat": [
          32.89595056,
          27.97547222
         ],
         "line": {
          "color": "red",
          "width": 1
         },
         "locationmode": "USA-states",
         "lon": [
          -97.0372,
          -82.53325
         ],
         "mode": "lines",
         "opacity": 0.4288840262582057,
         "type": "scattergeo"
        },
        {
         "lat": [
          25.79325,
          27.97547222
         ],
         "line": {
          "color": "red",
          "width": 1
         },
         "locationmode": "USA-states",
         "lon": [
          -80.29055556,
          -82.53325
         ],
         "mode": "lines",
         "opacity": 0.32603938730853393,
         "type": "scattergeo"
        },
        {
         "lat": [
          41.979595,
          27.97547222
         ],
         "line": {
          "color": "red",
          "width": 1
         },
         "locationmode": "USA-states",
         "lon": [
          -87.90446417,
          -82.53325
         ],
         "mode": "lines",
         "opacity": 0.16411378555798686,
         "type": "scattergeo"
        },
        {
         "lat": [
          18.43941667,
          27.97547222
         ],
         "line": {
          "color": "red",
          "width": 1
         },
         "locationmode": "USA-states",
         "lon": [
          -66.00183333,
          -82.53325
         ],
         "mode": "lines",
         "opacity": 0.061269146608315096,
         "type": "scattergeo"
        },
        {
         "lat": [
          32.89595056,
          36.19837222
         ],
         "line": {
          "color": "red",
          "width": 1
         },
         "locationmode": "USA-states",
         "lon": [
          -97.0372,
          -95.88824167
         ],
         "mode": "lines",
         "opacity": 0.42669584245076586,
         "type": "scattergeo"
        },
        {
         "lat": [
          32.89595056,
          32.11608333
         ],
         "line": {
          "color": "red",
          "width": 1
         },
         "locationmode": "USA-states",
         "lon": [
          -97.0372,
          -110.94102779999999
         ],
         "mode": "lines",
         "opacity": 0.45842450765864334,
         "type": "scattergeo"
        },
        {
         "hoverinfo": "text",
         "lat": [
          41.979595,
          33.64044444,
          32.89595056,
          33.43416667,
          39.85840806,
          29.98047222,
          37.61900194,
          33.94253611,
          28.42888889,
          35.21401111,
          40.78838778,
          27.97547222,
          40.69249722,
          36.08036111,
          39.87195278,
          44.88054694,
          47.44898194,
          40.77724306,
          41.7859825,
          38.94453194,
          32.73355611,
          38.74768694,
          42.21205889,
          40.63975111,
          25.79325,
          42.3643475,
          38.69542167,
          39.17540167,
          33.67565861,
          29.99338889,
          37.36186194,
          38.85208333,
          45.58872222,
          26.53616667,
          26.68316194,
          35.87763889,
          29.64541861,
          29.53369444,
          26.07258333,
          39.29760528,
          37.72129083,
          40.49146583,
          35.04241667,
          42.94722222,
          41.41089417,
          30.49405556,
          32.11608333,
          39.71732917,
          39.49857611,
          35.39308833,
          41.72399917,
          36.19837222,
          39.04614278,
          39.99798528,
          38.17438889,
          34.056,
          34.72939611,
          32.84711389,
          41.30251861,
          36.89461111,
          39.90237583,
          43.11886611,
          36.28186944,
          36.12447667,
          35.04022222,
          32.31116667,
          31.80666667,
          37.50516667,
          41.93887417,
          31.94252778,
          30.53316083,
          35.81248722,
          38.80580556,
          30.47330556,
          43.11118694,
          33.56294306,
          42.93451639,
          33.82921556,
          27.39533333,
          27.77036083,
          34.6404475,
          33.93884,
          30.20527972,
          34.42621194,
          47.61985556,
          30.69141667,
          37.64995889,
          42.94052472,
          41.53493306,
          40.19349528,
          43.64616667,
          32.30064417,
          37.13189556,
          41.06695778,
          36.5869825,
          42.88081972,
          30.448674,
          32.65658333,
          39.22316,
          30.39652778,
          30.40728028,
          44.04532139,
          33.81772222,
          34.27061111,
          38.03697222,
          43.13985778,
          44.123259999999995,
          32.12758333,
          33.66363889,
          41.88458833,
          34.89566722,
          36.09774694,
          40.7952425,
          41.44852639,
          35.43619444,
          40.91631194,
          40.47798556,
          26.22850611,
          30.48325,
          32.446627500000005,
          46.91934889,
          40.48118028,
          42.37422778,
          40.66424333,
          27.54373861,
          30.19453278,
          32.41132,
          37.24432611,
          42.96550333,
          36.47521417,
          31.06489778,
          32.89864639,
          44.48507333,
          44.25406722,
          32.51633333,
          41.70895361,
          43.56444444,
          33.67975,
          48.25937778,
          40.03925,
          37.32546833,
          39.64256778,
          43.60732417,
          45.77690139,
          39.1224125,
          34.20061917,
          38.03799139,
          38.53396333,
          43.51455556,
          36.77619444,
          39.84395194,
          26.17583333,
          40.50898361,
          47.949255,
          43.58135111,
          42.48180389,
          34.89924833,
          42.91130556,
          31.32133917,
          34.82916444,
          38.50886722,
          46.77411111,
          42.90835556,
          44.74144472,
          32.51086556,
          46.26468028,
          39.14096722,
          31.32737167,
          43.41713889,
          35.61677778,
          42.15614361,
          41.50409361,
          38.13863889,
          30.7825,
          44.77761917,
          35.65884306,
          40.97811528,
          31.25902778,
          40.85097222,
          40.97846583,
          44.52019417,
          37.06083333,
          35.23705806,
          41.33814944,
          33.45033444,
          44.34889806,
          35.07297222,
          33.369955,
          35.33659028,
          32.35413889,
          46.60681806,
          47.48200194,
          32.33313333,
          46.353639,
          37.95375861,
          35.03526833,
          46.37449806,
          37.70097028,
          42.74811944,
          44.47300361,
          48.31140472,
          28.10275,
          29.17991667,
          40.65236278,
          46.84209028,
          41.155722499999996,
          41.5942175,
          37.85830556,
          38.37315083,
          48.79275,
          37.62404861,
          44.25740806,
          36.385913,
          27.91076333,
          33.98879611,
          34.99147222,
          44.86525722,
          42.40295944,
          43.90882639,
          34.681499,
          45.8076625
         ],
         "locationmode": "USA-states",
         "lon": [
          -87.90446417,
          -84.42694444,
          -97.0372,
          -112.00805559999999,
          -104.6670019,
          -95.33972222,
          -122.3748433,
          -118.40807439999999,
          -81.31602778,
          -80.94312583,
          -111.9777731,
          -82.53325,
          -74.16866056,
          -115.15233329999998,
          -75.24114083,
          -93.2169225,
          -122.30931310000001,
          -73.87260917,
          -87.75242444,
          -77.45580972,
          -117.1896567,
          -90.35998972,
          -83.34883583,
          -73.77892556,
          -80.29055556,
          -71.00517917,
          -121.5907669,
          -76.66819833,
          -117.86822250000002,
          -90.25802778,
          -121.92900890000001,
          -77.03772222,
          -122.5975,
          -81.75516667,
          -80.09559417,
          -78.78747222,
          -95.27888889,
          -98.46977778,
          -80.15275,
          -94.71390556,
          -122.22071670000001,
          -80.23287083,
          -89.97666667,
          -87.89658333,
          -81.84939667,
          -81.68786111,
          -110.94102779999999,
          -86.29438417,
          -119.76806470000001,
          -97.60073389,
          -71.42822111,
          -95.88824167,
          -84.6621725,
          -82.89188278,
          -85.736,
          -117.60119440000001,
          -92.22424556,
          -96.85177222,
          -95.89417306,
          -76.20122222,
          -84.219375,
          -77.67238389,
          -94.30681111,
          -86.67818222,
          -106.6091944,
          -90.07588889,
          -106.37780559999999,
          -77.31966667,
          -72.68322833,
          -102.20191390000001,
          -91.14963444,
          -83.99285583,
          -104.70025,
          -87.18744444,
          -76.10631056,
          -86.75354972,
          -71.43705583,
          -116.5062531,
          -82.55411111,
          -97.50121528,
          -86.77310944,
          -81.11953944,
          -91.987655,
          -119.8403733,
          -117.5338425,
          -88.24283333,
          -97.43304583,
          -78.73216667,
          -93.66068222,
          -76.76340361,
          -70.30875,
          -86.39397611,
          -76.4929875,
          -73.70757444,
          -121.84294779999999,
          -85.52276778,
          -84.550781,
          -114.60597220000001,
          -106.868845,
          -84.35033333,
          -89.07009278,
          -103.0573708,
          -118.1516111,
          -77.90255556,
          -84.60538889,
          -89.33751361,
          -123.21868559999999,
          -81.20213889,
          -101.8227778,
          -91.71087222,
          -82.21885833,
          -79.9372975,
          -73.10021194,
          -90.50753917,
          -82.54180556,
          -81.44246556,
          -88.91595278,
          -97.65439389,
          -86.5254,
          -93.82559833,
          -96.81498889,
          -107.21765970000001,
          -122.8734978,
          -89.69330556,
          -99.46154361,
          -97.66987194,
          -99.68189722,
          -93.38685806,
          -83.74345639,
          -82.40742056,
          -97.82779778,
          -80.04050583,
          -88.12959000000001,
          -121.1499633,
          -84.93886111,
          -86.31847417,
          -116.22277779999999,
          -78.92833333,
          -101.2803339,
          -88.27805556,
          -79.97542833,
          -106.91769529999999,
          -110.7377389,
          -111.15300719999999,
          -108.5267347,
          -118.3584969,
          -87.53062667,
          -106.9331817,
          -112.07016670000002,
          -119.7181389,
          -89.67761861,
          -98.23861111,
          -122.2934019,
          -97.17611111,
          -96.74170028,
          -114.4877356,
          -120.4575825,
          -112.59586110000001,
          -85.44962889,
          -77.61213778,
          -107.89383329999998,
          -100.74672220000001,
          -106.46446609999998,
          -85.582235,
          -92.03768778,
          -119.11902920000001,
          -96.67083278,
          -92.54855611,
          -124.2460278,
          -106.08813889999999,
          -121.7332081,
          -74.10483833,
          -78.45286111,
          -83.27672222,
          -89.66677944,
          -117.8295122,
          -124.1086189,
          -81.46630556,
          -96.75925,
          -85.19514639,
          -109.02379609999998,
          -88.77375,
          -120.64239309999999,
          -75.72426750000001,
          -88.59136861,
          -105.5393614,
          -77.04294444,
          -81.96449611,
          -94.36744111,
          -95.40238611,
          -111.9827503,
          -111.37068529999999,
          -88.75120556,
          -87.395361,
          -107.90848000000001,
          -85.20378778,
          -117.01539440000002,
          -113.098575,
          -73.80297861,
          -73.1503125,
          -114.25506940000001,
          -80.64580556,
          -81.05805556,
          -75.44040167,
          -92.19364861,
          -104.81183809999999,
          -109.0651928,
          -80.39947222,
          -81.59318972,
          -122.53752779999999,
          -118.8377722,
          -88.51947556,
          -92.548828,
          -82.68743944,
          -98.49189333,
          -78.88,
          -91.48507194,
          -90.70916722,
          -92.49798722,
          -90.348816,
          -108.54286110000001
         ],
         "marker": {
          "color": "rgb(255, 0, 0)",
          "line": {
           "color": "rgba(68, 68, 68, 0)",
           "width": 3
          },
          "size": 2
         },
         "mode": "markers",
         "text": [
          "Chicago O'Hare International",
          "William B Hartsfield-Atlanta Intl",
          "Dallas-Fort Worth International",
          "Phoenix Sky Harbor International",
          "Denver Intl",
          "George Bush Intercontinental",
          "San Francisco International",
          "Los Angeles International",
          "Orlando International",
          "Charlotte/Douglas International",
          "Salt Lake City Intl",
          "Tampa International ",
          "Newark Intl",
          "McCarran International",
          "Philadelphia Intl",
          "Minneapolis-St Paul Intl",
          "Seattle-Tacoma Intl",
          "LaGuardia",
          "Chicago Midway",
          "Washington Dulles International",
          "San Diego International-Lindbergh ",
          "Lambert-St Louis International",
          "Detroit Metropolitan-Wayne County",
          "John F Kennedy Intl",
          "Miami International",
          "Gen Edw L Logan Intl",
          "Sacramento International",
          "Baltimore-Washington International",
          "John Wayne /Orange Co",
          "New Orleans International ",
          "San Jose International",
          "Ronald Reagan Washington National",
          "Portland Intl",
          "Southwest Florida International",
          "Palm Beach International",
          "Raleigh-Durham International",
          "William P Hobby",
          "San Antonio International",
          "Fort Lauderdale-Hollywood Int'l",
          "Kansas City International",
          "Metropolitan Oakland International",
          "Pittsburgh International",
          "Memphis International",
          "General Mitchell International",
          "Cleveland-Hopkins Intl",
          "Jacksonville International",
          "Tucson International",
          "Indianapolis International",
          "Reno/Tahoe International",
          "Will Rogers World",
          "Theodore F Green State",
          "Tulsa International",
          "Cincinnati Northern Kentucky Intl",
          "Port Columbus Intl",
          "Louisville International-Standiford ",
          "Ontario International",
          "Adams ",
          "Dallas Love ",
          "Eppley Airfield",
          "Norfolk International",
          "James M Cox Dayton Intl",
          "Greater Rochester Int'l",
          "Northwest Arkansas Regional",
          "Nashville International",
          "Albuquerque International",
          "Jackson International",
          "El Paso International",
          "Richmond International",
          "Bradley International",
          "Midland International",
          "Baton Rouge Metropolitan, Ryan ",
          "McGhee-Tyson",
          "City of Colorado Springs Muni",
          "Pensacola Regional",
          "Syracuse-Hancock Intl",
          "Birmingham International",
          "Manchester",
          "Palm Springs International",
          "Sarasota Bradenton International",
          "Corpus Christi International",
          "Huntsville International ",
          "Columbia Metropolitan",
          "Lafayette Regional",
          "Santa Barbara Municipal",
          "Spokane Intl",
          "Mobile Regional",
          "Wichita Mid-Continent",
          "Buffalo Niagara Intl",
          "Des Moines International",
          "Harrisburg Intl",
          "Portland International Jetport",
          "Montgomery Regional Apt",
          "Newport News/Williamsburg International",
          "Westchester Cty",
          "Monterey Peninsula",
          "Kent County International",
          "Florida Beach",
          "Yuma MCAS-Yuma International",
          "Aspen-Pitkin Co/Sardy ",
          "Tallahassee Regional",
          "Gulfport-Biloxi Regional",
          "Rapid City Regional",
          "Long Beach (Daugherty )",
          "Wilmington International",
          "Blue Grass ",
          "Dane County Regional",
          "Mahlon Sweet ",
          "Savannah International",
          "Lubbock International",
          "Eastern Iowa ",
          "Greenville-Spartanburg",
          "Piedmont Triad International",
          "Long Island - MacArthur",
          "Quad City",
          "Asheville Regional",
          "Akron-Canton Regional",
          "Central Illinois Regional",
          "Valley International",
          "Eglin Air Force Base",
          "Shreveport Regional",
          "Hector International",
          "Yampa Valley",
          "Rogue Valley International",
          "Greater Peoria Regional",
          "Laredo International",
          "Austin-Bergstrom International",
          "Abilene Regional",
          "Springfield-Branson Regional",
          "Bishop",
          "Tri-Cities Regional",
          "Robert Gray AAF",
          "Charleston AFB/International",
          "Austin Straubel International",
          "Roberts ",
          "Columbus Metropolitan",
          "South Bend Regional",
          "Boise Air Terminal",
          "Myrtle Beach International",
          "Minot International",
          "University of Illinois-Willard",
          "Roanoke Regional/ Woodrum ",
          "Eagle County Regional",
          "Jackson Hole",
          "Gallatin ",
          "Walker ",
          "Burbank-Glendale-Pasadena",
          "Evansville Regional",
          "Gunnison County",
          "Idaho Falls Regional",
          "Fresno Yosemite International",
          "Capital",
          "McAllen Miller International",
          "Redding Municipal",
          "Grand Forks International",
          "Joe Foss ",
          "Joslin Field - Magic Valley",
          "Santa Maria Pub/Capt G Allan Hancock ",
          "Pocatello Regional",
          "Dothan ",
          "Albert J Ellis",
          "Montrose Regional",
          "Bismarck Municipal",
          "Natrona County Intl",
          "Cherry Capital",
          "Monroe Regional",
          "Tri-Cities",
          "Manhattan Regional",
          "Alexandria International",
          "North Bend Muni",
          "Santa Fe Municipal",
          "Klamath Falls International",
          "Stewart",
          "Charlottesville-Albermarle",
          "Valdosta Regional",
          "Central Wisconsin",
          "Inyokern",
          "Arcata",
          "Glynco Jetport",
          "Lincoln Municipal",
          "Fort Wayne International",
          "Yellowstone Regional",
          "Barkley Regional",
          "San Luis Obispo Co-McChesney ",
          "Wilkes-Barre/Scranton Intl",
          "Golden Triangle Regional",
          "Gillette-Campbell County",
          "Craven County Regional",
          "Bush ",
          "Fort Smith Regional",
          "Tyler Pounds ",
          "Helena Regional",
          "Great Falls Intl",
          "Key ",
          "Marquette County Airport",
          "Telluride Regional",
          "Lovell ",
          "Lewiston-Nez Perce County",
          "Cedar City Muni",
          "Albany Cty",
          "Burlington International",
          "Glacier Park Intl",
          "Melbourne International ",
          "Daytona Beach International",
          "Lehigh Valley International",
          "Duluth International",
          "Cheyenne",
          "Rock Springs-Sweetwater County",
          "Greenbrier Valley",
          "Yeager",
          "Bellingham Intl",
          "Mammoth Yosemite",
          "Outagamie County Regional",
          "Branson Airport",
          "St. Petersburg-Clearwater International",
          "Sheppard AFB/Wichita Falls Municipal",
          "Fayetteville Municipal",
          "Chippewa Valley Regional",
          "Dubuque Municipal",
          "Rochester International",
          "Tunica Municipal Airport",
          "Billings Logan Intl"
         ],
         "type": "scattergeo"
        }
       ],
       "layout": {
        "geo": {
         "countrycolor": "rgb(204, 204, 204)",
         "landcolor": "rgb(243, 243, 243)",
         "projection": {
          "type": "azimuthal equal area"
         },
         "scope": "north america",
         "showland": true
        },
        "height": 800,
        "showlegend": false,
        "template": {
         "data": {
          "bar": [
           {
            "error_x": {
             "color": "#2a3f5f"
            },
            "error_y": {
             "color": "#2a3f5f"
            },
            "marker": {
             "line": {
              "color": "#E5ECF6",
              "width": 0.5
             }
            },
            "type": "bar"
           }
          ],
          "barpolar": [
           {
            "marker": {
             "line": {
              "color": "#E5ECF6",
              "width": 0.5
             }
            },
            "type": "barpolar"
           }
          ],
          "carpet": [
           {
            "aaxis": {
             "endlinecolor": "#2a3f5f",
             "gridcolor": "white",
             "linecolor": "white",
             "minorgridcolor": "white",
             "startlinecolor": "#2a3f5f"
            },
            "baxis": {
             "endlinecolor": "#2a3f5f",
             "gridcolor": "white",
             "linecolor": "white",
             "minorgridcolor": "white",
             "startlinecolor": "#2a3f5f"
            },
            "type": "carpet"
           }
          ],
          "choropleth": [
           {
            "colorbar": {
             "outlinewidth": 0,
             "ticks": ""
            },
            "type": "choropleth"
           }
          ],
          "contour": [
           {
            "colorbar": {
             "outlinewidth": 0,
             "ticks": ""
            },
            "colorscale": [
             [
              0,
              "#0d0887"
             ],
             [
              0.1111111111111111,
              "#46039f"
             ],
             [
              0.2222222222222222,
              "#7201a8"
             ],
             [
              0.3333333333333333,
              "#9c179e"
             ],
             [
              0.4444444444444444,
              "#bd3786"
             ],
             [
              0.5555555555555556,
              "#d8576b"
             ],
             [
              0.6666666666666666,
              "#ed7953"
             ],
             [
              0.7777777777777778,
              "#fb9f3a"
             ],
             [
              0.8888888888888888,
              "#fdca26"
             ],
             [
              1,
              "#f0f921"
             ]
            ],
            "type": "contour"
           }
          ],
          "contourcarpet": [
           {
            "colorbar": {
             "outlinewidth": 0,
             "ticks": ""
            },
            "type": "contourcarpet"
           }
          ],
          "heatmap": [
           {
            "colorbar": {
             "outlinewidth": 0,
             "ticks": ""
            },
            "colorscale": [
             [
              0,
              "#0d0887"
             ],
             [
              0.1111111111111111,
              "#46039f"
             ],
             [
              0.2222222222222222,
              "#7201a8"
             ],
             [
              0.3333333333333333,
              "#9c179e"
             ],
             [
              0.4444444444444444,
              "#bd3786"
             ],
             [
              0.5555555555555556,
              "#d8576b"
             ],
             [
              0.6666666666666666,
              "#ed7953"
             ],
             [
              0.7777777777777778,
              "#fb9f3a"
             ],
             [
              0.8888888888888888,
              "#fdca26"
             ],
             [
              1,
              "#f0f921"
             ]
            ],
            "type": "heatmap"
           }
          ],
          "heatmapgl": [
           {
            "colorbar": {
             "outlinewidth": 0,
             "ticks": ""
            },
            "colorscale": [
             [
              0,
              "#0d0887"
             ],
             [
              0.1111111111111111,
              "#46039f"
             ],
             [
              0.2222222222222222,
              "#7201a8"
             ],
             [
              0.3333333333333333,
              "#9c179e"
             ],
             [
              0.4444444444444444,
              "#bd3786"
             ],
             [
              0.5555555555555556,
              "#d8576b"
             ],
             [
              0.6666666666666666,
              "#ed7953"
             ],
             [
              0.7777777777777778,
              "#fb9f3a"
             ],
             [
              0.8888888888888888,
              "#fdca26"
             ],
             [
              1,
              "#f0f921"
             ]
            ],
            "type": "heatmapgl"
           }
          ],
          "histogram": [
           {
            "marker": {
             "colorbar": {
              "outlinewidth": 0,
              "ticks": ""
             }
            },
            "type": "histogram"
           }
          ],
          "histogram2d": [
           {
            "colorbar": {
             "outlinewidth": 0,
             "ticks": ""
            },
            "colorscale": [
             [
              0,
              "#0d0887"
             ],
             [
              0.1111111111111111,
              "#46039f"
             ],
             [
              0.2222222222222222,
              "#7201a8"
             ],
             [
              0.3333333333333333,
              "#9c179e"
             ],
             [
              0.4444444444444444,
              "#bd3786"
             ],
             [
              0.5555555555555556,
              "#d8576b"
             ],
             [
              0.6666666666666666,
              "#ed7953"
             ],
             [
              0.7777777777777778,
              "#fb9f3a"
             ],
             [
              0.8888888888888888,
              "#fdca26"
             ],
             [
              1,
              "#f0f921"
             ]
            ],
            "type": "histogram2d"
           }
          ],
          "histogram2dcontour": [
           {
            "colorbar": {
             "outlinewidth": 0,
             "ticks": ""
            },
            "colorscale": [
             [
              0,
              "#0d0887"
             ],
             [
              0.1111111111111111,
              "#46039f"
             ],
             [
              0.2222222222222222,
              "#7201a8"
             ],
             [
              0.3333333333333333,
              "#9c179e"
             ],
             [
              0.4444444444444444,
              "#bd3786"
             ],
             [
              0.5555555555555556,
              "#d8576b"
             ],
             [
              0.6666666666666666,
              "#ed7953"
             ],
             [
              0.7777777777777778,
              "#fb9f3a"
             ],
             [
              0.8888888888888888,
              "#fdca26"
             ],
             [
              1,
              "#f0f921"
             ]
            ],
            "type": "histogram2dcontour"
           }
          ],
          "mesh3d": [
           {
            "colorbar": {
             "outlinewidth": 0,
             "ticks": ""
            },
            "type": "mesh3d"
           }
          ],
          "parcoords": [
           {
            "line": {
             "colorbar": {
              "outlinewidth": 0,
              "ticks": ""
             }
            },
            "type": "parcoords"
           }
          ],
          "pie": [
           {
            "automargin": true,
            "type": "pie"
           }
          ],
          "scatter": [
           {
            "marker": {
             "colorbar": {
              "outlinewidth": 0,
              "ticks": ""
             }
            },
            "type": "scatter"
           }
          ],
          "scatter3d": [
           {
            "line": {
             "colorbar": {
              "outlinewidth": 0,
              "ticks": ""
             }
            },
            "marker": {
             "colorbar": {
              "outlinewidth": 0,
              "ticks": ""
             }
            },
            "type": "scatter3d"
           }
          ],
          "scattercarpet": [
           {
            "marker": {
             "colorbar": {
              "outlinewidth": 0,
              "ticks": ""
             }
            },
            "type": "scattercarpet"
           }
          ],
          "scattergeo": [
           {
            "marker": {
             "colorbar": {
              "outlinewidth": 0,
              "ticks": ""
             }
            },
            "type": "scattergeo"
           }
          ],
          "scattergl": [
           {
            "marker": {
             "colorbar": {
              "outlinewidth": 0,
              "ticks": ""
             }
            },
            "type": "scattergl"
           }
          ],
          "scattermapbox": [
           {
            "marker": {
             "colorbar": {
              "outlinewidth": 0,
              "ticks": ""
             }
            },
            "type": "scattermapbox"
           }
          ],
          "scatterpolar": [
           {
            "marker": {
             "colorbar": {
              "outlinewidth": 0,
              "ticks": ""
             }
            },
            "type": "scatterpolar"
           }
          ],
          "scatterpolargl": [
           {
            "marker": {
             "colorbar": {
              "outlinewidth": 0,
              "ticks": ""
             }
            },
            "type": "scatterpolargl"
           }
          ],
          "scatterternary": [
           {
            "marker": {
             "colorbar": {
              "outlinewidth": 0,
              "ticks": ""
             }
            },
            "type": "scatterternary"
           }
          ],
          "surface": [
           {
            "colorbar": {
             "outlinewidth": 0,
             "ticks": ""
            },
            "colorscale": [
             [
              0,
              "#0d0887"
             ],
             [
              0.1111111111111111,
              "#46039f"
             ],
             [
              0.2222222222222222,
              "#7201a8"
             ],
             [
              0.3333333333333333,
              "#9c179e"
             ],
             [
              0.4444444444444444,
              "#bd3786"
             ],
             [
              0.5555555555555556,
              "#d8576b"
             ],
             [
              0.6666666666666666,
              "#ed7953"
             ],
             [
              0.7777777777777778,
              "#fb9f3a"
             ],
             [
              0.8888888888888888,
              "#fdca26"
             ],
             [
              1,
              "#f0f921"
             ]
            ],
            "type": "surface"
           }
          ],
          "table": [
           {
            "cells": {
             "fill": {
              "color": "#EBF0F8"
             },
             "line": {
              "color": "white"
             }
            },
            "header": {
             "fill": {
              "color": "#C8D4E3"
             },
             "line": {
              "color": "white"
             }
            },
            "type": "table"
           }
          ]
         },
         "layout": {
          "annotationdefaults": {
           "arrowcolor": "#2a3f5f",
           "arrowhead": 0,
           "arrowwidth": 1
          },
          "autotypenumbers": "strict",
          "coloraxis": {
           "colorbar": {
            "outlinewidth": 0,
            "ticks": ""
           }
          },
          "colorscale": {
           "diverging": [
            [
             0,
             "#8e0152"
            ],
            [
             0.1,
             "#c51b7d"
            ],
            [
             0.2,
             "#de77ae"
            ],
            [
             0.3,
             "#f1b6da"
            ],
            [
             0.4,
             "#fde0ef"
            ],
            [
             0.5,
             "#f7f7f7"
            ],
            [
             0.6,
             "#e6f5d0"
            ],
            [
             0.7,
             "#b8e186"
            ],
            [
             0.8,
             "#7fbc41"
            ],
            [
             0.9,
             "#4d9221"
            ],
            [
             1,
             "#276419"
            ]
           ],
           "sequential": [
            [
             0,
             "#0d0887"
            ],
            [
             0.1111111111111111,
             "#46039f"
            ],
            [
             0.2222222222222222,
             "#7201a8"
            ],
            [
             0.3333333333333333,
             "#9c179e"
            ],
            [
             0.4444444444444444,
             "#bd3786"
            ],
            [
             0.5555555555555556,
             "#d8576b"
            ],
            [
             0.6666666666666666,
             "#ed7953"
            ],
            [
             0.7777777777777778,
             "#fb9f3a"
            ],
            [
             0.8888888888888888,
             "#fdca26"
            ],
            [
             1,
             "#f0f921"
            ]
           ],
           "sequentialminus": [
            [
             0,
             "#0d0887"
            ],
            [
             0.1111111111111111,
             "#46039f"
            ],
            [
             0.2222222222222222,
             "#7201a8"
            ],
            [
             0.3333333333333333,
             "#9c179e"
            ],
            [
             0.4444444444444444,
             "#bd3786"
            ],
            [
             0.5555555555555556,
             "#d8576b"
            ],
            [
             0.6666666666666666,
             "#ed7953"
            ],
            [
             0.7777777777777778,
             "#fb9f3a"
            ],
            [
             0.8888888888888888,
             "#fdca26"
            ],
            [
             1,
             "#f0f921"
            ]
           ]
          },
          "colorway": [
           "#636efa",
           "#EF553B",
           "#00cc96",
           "#ab63fa",
           "#FFA15A",
           "#19d3f3",
           "#FF6692",
           "#B6E880",
           "#FF97FF",
           "#FECB52"
          ],
          "font": {
           "color": "#2a3f5f"
          },
          "geo": {
           "bgcolor": "white",
           "lakecolor": "white",
           "landcolor": "#E5ECF6",
           "showlakes": true,
           "showland": true,
           "subunitcolor": "white"
          },
          "hoverlabel": {
           "align": "left"
          },
          "hovermode": "closest",
          "mapbox": {
           "style": "light"
          },
          "paper_bgcolor": "white",
          "plot_bgcolor": "#E5ECF6",
          "polar": {
           "angularaxis": {
            "gridcolor": "white",
            "linecolor": "white",
            "ticks": ""
           },
           "bgcolor": "#E5ECF6",
           "radialaxis": {
            "gridcolor": "white",
            "linecolor": "white",
            "ticks": ""
           }
          },
          "scene": {
           "xaxis": {
            "backgroundcolor": "#E5ECF6",
            "gridcolor": "white",
            "gridwidth": 2,
            "linecolor": "white",
            "showbackground": true,
            "ticks": "",
            "zerolinecolor": "white"
           },
           "yaxis": {
            "backgroundcolor": "#E5ECF6",
            "gridcolor": "white",
            "gridwidth": 2,
            "linecolor": "white",
            "showbackground": true,
            "ticks": "",
            "zerolinecolor": "white"
           },
           "zaxis": {
            "backgroundcolor": "#E5ECF6",
            "gridcolor": "white",
            "gridwidth": 2,
            "linecolor": "white",
            "showbackground": true,
            "ticks": "",
            "zerolinecolor": "white"
           }
          },
          "shapedefaults": {
           "line": {
            "color": "#2a3f5f"
           }
          },
          "ternary": {
           "aaxis": {
            "gridcolor": "white",
            "linecolor": "white",
            "ticks": ""
           },
           "baxis": {
            "gridcolor": "white",
            "linecolor": "white",
            "ticks": ""
           },
           "bgcolor": "#E5ECF6",
           "caxis": {
            "gridcolor": "white",
            "linecolor": "white",
            "ticks": ""
           }
          },
          "title": {
           "x": 0.05
          },
          "xaxis": {
           "automargin": true,
           "gridcolor": "white",
           "linecolor": "white",
           "ticks": "",
           "title": {
            "standoff": 15
           },
           "zerolinecolor": "white",
           "zerolinewidth": 2
          },
          "yaxis": {
           "automargin": true,
           "gridcolor": "white",
           "linecolor": "white",
           "ticks": "",
           "title": {
            "standoff": 15
           },
           "zerolinecolor": "white",
           "zerolinewidth": 2
          }
         }
        },
        "title": {
         "text": "Feb. 2011 American Airline flight paths<br>(Hover for airport names)"
        }
       }
      },
      "text/html": "<div>                            <div id=\"3943bb46-422a-4125-a75d-908b40b52866\" class=\"plotly-graph-div\" style=\"height:800px; width:100%;\"></div>            <script type=\"text/javascript\">                require([\"plotly\"], function(Plotly) {                    window.PLOTLYENV=window.PLOTLYENV || {};                                    if (document.getElementById(\"3943bb46-422a-4125-a75d-908b40b52866\")) {                    Plotly.newPlot(                        \"3943bb46-422a-4125-a75d-908b40b52866\",                        [{\"lat\": [32.89595056, 35.04022222], \"line\": {\"color\": \"red\", \"width\": 1}, \"locationmode\": \"USA-states\", \"lon\": [-97.0372, -106.6091944], \"mode\": \"lines\", \"opacity\": 0.48577680525164113, \"type\": \"scattergeo\"}, {\"lat\": [41.979595, 30.19453278], \"line\": {\"color\": \"red\", \"width\": 1}, \"locationmode\": \"USA-states\", \"lon\": [-87.90446417, -97.66987194], \"mode\": \"lines\", \"opacity\": 0.18161925601750548, \"type\": \"scattergeo\"}, {\"lat\": [32.89595056, 41.93887417], \"line\": {\"color\": \"red\", \"width\": 1}, \"locationmode\": \"USA-states\", \"lon\": [-97.0372, -72.68322833], \"mode\": \"lines\", \"opacity\": 0.1772428884026258, \"type\": \"scattergeo\"}, {\"lat\": [18.43941667, 41.93887417], \"line\": {\"color\": \"red\", \"width\": 1}, \"locationmode\": \"USA-states\", \"lon\": [-66.00183333, -72.68322833], \"mode\": \"lines\", \"opacity\": 0.061269146608315096, \"type\": \"scattergeo\"}, {\"lat\": [32.89595056, 33.56294306], \"line\": {\"color\": \"red\", \"width\": 1}, \"locationmode\": \"USA-states\", \"lon\": [-97.0372, -86.75354972], \"mode\": \"lines\", \"opacity\": 0.1838074398249453, \"type\": \"scattergeo\"}, {\"lat\": [25.79325, 36.12447667], \"line\": {\"color\": \"red\", \"width\": 1}, \"locationmode\": \"USA-states\", \"lon\": [-80.29055556, -86.67818222], \"mode\": \"lines\", \"opacity\": 0.061269146608315096, \"type\": \"scattergeo\"}, {\"lat\": [32.89595056, 42.3643475], \"line\": {\"color\": \"red\", \"width\": 1}, \"locationmode\": \"USA-states\", \"lon\": [-97.0372, -71.00517917], \"mode\": \"lines\", \"opacity\": 0.4617067833698031, \"type\": \"scattergeo\"}, {\"lat\": [25.79325, 42.3643475], \"line\": {\"color\": \"red\", \"width\": 1}, \"locationmode\": \"USA-states\", \"lon\": [-80.29055556, -71.00517917], \"mode\": \"lines\", \"opacity\": 0.4288840262582057, \"type\": \"scattergeo\"}, {\"lat\": [41.979595, 42.3643475], \"line\": {\"color\": \"red\", \"width\": 1}, \"locationmode\": \"USA-states\", \"lon\": [-87.90446417, -71.00517917], \"mode\": \"lines\", \"opacity\": 0.47045951859956237, \"type\": \"scattergeo\"}, {\"lat\": [18.43941667, 42.3643475], \"line\": {\"color\": \"red\", \"width\": 1}, \"locationmode\": \"USA-states\", \"lon\": [-66.00183333, -71.00517917], \"mode\": \"lines\", \"opacity\": 0.061269146608315096, \"type\": \"scattergeo\"}, {\"lat\": [18.33730556, 42.3643475], \"line\": {\"color\": \"red\", \"width\": 1}, \"locationmode\": \"USA-states\", \"lon\": [-64.97336111, -71.00517917], \"mode\": \"lines\", \"opacity\": 0.04814004376367615, \"type\": \"scattergeo\"}, {\"lat\": [25.79325, 39.17540167], \"line\": {\"color\": \"red\", \"width\": 1}, \"locationmode\": \"USA-states\", \"lon\": [-80.29055556, -76.66819833], \"mode\": \"lines\", \"opacity\": 0.12253829321663019, \"type\": \"scattergeo\"}, {\"lat\": [18.43941667, 39.17540167], \"line\": {\"color\": \"red\", \"width\": 1}, \"locationmode\": \"USA-states\", \"lon\": [-66.00183333, -76.66819833], \"mode\": \"lines\", \"opacity\": 0.061269146608315096, \"type\": \"scattergeo\"}, {\"lat\": [32.89595056, 35.21401111], \"line\": {\"color\": \"red\", \"width\": 1}, \"locationmode\": \"USA-states\", \"lon\": [-97.0372, -80.94312583], \"mode\": \"lines\", \"opacity\": 0.3938730853391685, \"type\": \"scattergeo\"}, {\"lat\": [32.89595056, 38.80580556], \"line\": {\"color\": \"red\", \"width\": 1}, \"locationmode\": \"USA-states\", \"lon\": [-97.0372, -104.70025], \"mode\": \"lines\", \"opacity\": 0.3041575492341357, \"type\": \"scattergeo\"}, {\"lat\": [32.89595056, 39.90237583], \"line\": {\"color\": \"red\", \"width\": 1}, \"locationmode\": \"USA-states\", \"lon\": [-97.0372, -84.219375], \"mode\": \"lines\", \"opacity\": 0.1137855579868709, \"type\": \"scattergeo\"}, {\"lat\": [32.89595056, 38.85208333], \"line\": {\"color\": \"red\", \"width\": 1}, \"locationmode\": \"USA-states\", \"lon\": [-97.0372, -77.03772222], \"mode\": \"lines\", \"opacity\": 0.6433260393873085, \"type\": \"scattergeo\"}, {\"lat\": [25.79325, 39.85840806], \"line\": {\"color\": \"red\", \"width\": 1}, \"locationmode\": \"USA-states\", \"lon\": [-80.29055556, -104.6670019], \"mode\": \"lines\", \"opacity\": 0.12253829321663019, \"type\": \"scattergeo\"}, {\"lat\": [41.979595, 39.85840806], \"line\": {\"color\": \"red\", \"width\": 1}, \"locationmode\": \"USA-states\", \"lon\": [-87.90446417, -104.6670019], \"mode\": \"lines\", \"opacity\": 0.12253829321663019, \"type\": \"scattergeo\"}, {\"lat\": [33.64044444, 32.89595056], \"line\": {\"color\": \"red\", \"width\": 1}, \"locationmode\": \"USA-states\", \"lon\": [-84.42694444, -97.0372], \"mode\": \"lines\", \"opacity\": 0.6345733041575492, \"type\": \"scattergeo\"}, {\"lat\": [30.19453278, 32.89595056], \"line\": {\"color\": \"red\", \"width\": 1}, \"locationmode\": \"USA-states\", \"lon\": [-97.66987194, -97.0372], \"mode\": \"lines\", \"opacity\": 0.8971553610503282, \"type\": \"scattergeo\"}, {\"lat\": [36.12447667, 32.89595056], \"line\": {\"color\": \"red\", \"width\": 1}, \"locationmode\": \"USA-states\", \"lon\": [-86.67818222, -97.0372], \"mode\": \"lines\", \"opacity\": 0.47702407002188185, \"type\": \"scattergeo\"}, {\"lat\": [34.20061917, 32.89595056], \"line\": {\"color\": \"red\", \"width\": 1}, \"locationmode\": \"USA-states\", \"lon\": [-118.3584969, -97.0372], \"mode\": \"lines\", \"opacity\": 0.2275711159737418, \"type\": \"scattergeo\"}, {\"lat\": [39.17540167, 32.89595056], \"line\": {\"color\": \"red\", \"width\": 1}, \"locationmode\": \"USA-states\", \"lon\": [-76.66819833, -97.0372], \"mode\": \"lines\", \"opacity\": 0.35667396061269147, \"type\": \"scattergeo\"}, {\"lat\": [39.99798528, 32.89595056], \"line\": {\"color\": \"red\", \"width\": 1}, \"locationmode\": \"USA-states\", \"lon\": [-82.89188278, -97.0372], \"mode\": \"lines\", \"opacity\": 0.1137855579868709, \"type\": \"scattergeo\"}, {\"lat\": [39.85840806, 32.89595056], \"line\": {\"color\": \"red\", \"width\": 1}, \"locationmode\": \"USA-states\", \"lon\": [-104.6670019, -97.0372], \"mode\": \"lines\", \"opacity\": 0.6105032822757112, \"type\": \"scattergeo\"}, {\"lat\": [42.21205889, 32.89595056], \"line\": {\"color\": \"red\", \"width\": 1}, \"locationmode\": \"USA-states\", \"lon\": [-83.34883583, -97.0372], \"mode\": \"lines\", \"opacity\": 0.2844638949671772, \"type\": \"scattergeo\"}, {\"lat\": [39.64256778, 32.89595056], \"line\": {\"color\": \"red\", \"width\": 1}, \"locationmode\": \"USA-states\", \"lon\": [-106.91769529999999, -97.0372], \"mode\": \"lines\", \"opacity\": 0.1487964989059081, \"type\": \"scattergeo\"}, {\"lat\": [40.69249722, 32.89595056], \"line\": {\"color\": \"red\", \"width\": 1}, \"locationmode\": \"USA-states\", \"lon\": [-74.16866056, -97.0372], \"mode\": \"lines\", \"opacity\": 0.33916849015317285, \"type\": \"scattergeo\"}, {\"lat\": [36.77619444, 32.89595056], \"line\": {\"color\": \"red\", \"width\": 1}, \"locationmode\": \"USA-states\", \"lon\": [-119.7181389, -97.0372], \"mode\": \"lines\", \"opacity\": 0.12253829321663019, \"type\": \"scattergeo\"}, {\"lat\": [26.07258333, 32.89595056], \"line\": {\"color\": \"red\", \"width\": 1}, \"locationmode\": \"USA-states\", \"lon\": [-80.15275, -97.0372], \"mode\": \"lines\", \"opacity\": 0.3676148796498906, \"type\": \"scattergeo\"}, {\"lat\": [34.6404475, 32.89595056], \"line\": {\"color\": \"red\", \"width\": 1}, \"locationmode\": \"USA-states\", \"lon\": [-86.77310944, -97.0372], \"mode\": \"lines\", \"opacity\": 0.17286652078774617, \"type\": \"scattergeo\"}, {\"lat\": [29.98047222, 32.89595056], \"line\": {\"color\": \"red\", \"width\": 1}, \"locationmode\": \"USA-states\", \"lon\": [-95.33972222, -97.0372], \"mode\": \"lines\", \"opacity\": 0.3544857768052516, \"type\": \"scattergeo\"}, {\"lat\": [33.94253611, 32.89595056], \"line\": {\"color\": \"red\", \"width\": 1}, \"locationmode\": \"USA-states\", \"lon\": [-118.40807439999999, -97.0372], \"mode\": \"lines\", \"opacity\": 1.0, \"type\": \"scattergeo\"}, {\"lat\": [39.29760528, 32.89595056], \"line\": {\"color\": \"red\", \"width\": 1}, \"locationmode\": \"USA-states\", \"lon\": [-94.71390556, -97.0372], \"mode\": \"lines\", \"opacity\": 0.47702407002188185, \"type\": \"scattergeo\"}, {\"lat\": [28.42888889, 32.89595056], \"line\": {\"color\": \"red\", \"width\": 1}, \"locationmode\": \"USA-states\", \"lon\": [-81.31602778, -97.0372], \"mode\": \"lines\", \"opacity\": 0.5470459518599562, \"type\": \"scattergeo\"}, {\"lat\": [35.04241667, 32.89595056], \"line\": {\"color\": \"red\", \"width\": 1}, \"locationmode\": \"USA-states\", \"lon\": [-89.97666667, -97.0372], \"mode\": \"lines\", \"opacity\": 0.23413566739606126, \"type\": \"scattergeo\"}, {\"lat\": [26.17583333, 32.89595056], \"line\": {\"color\": \"red\", \"width\": 1}, \"locationmode\": \"USA-states\", \"lon\": [-98.23861111, -97.0372], \"mode\": \"lines\", \"opacity\": 0.23413566739606126, \"type\": \"scattergeo\"}, {\"lat\": [25.79325, 32.89595056], \"line\": {\"color\": \"red\", \"width\": 1}, \"locationmode\": \"USA-states\", \"lon\": [-80.29055556, -97.0372], \"mode\": \"lines\", \"opacity\": 0.612691466083151, \"type\": \"scattergeo\"}, {\"lat\": [44.88054694, 32.89595056], \"line\": {\"color\": \"red\", \"width\": 1}, \"locationmode\": \"USA-states\", \"lon\": [-93.2169225, -97.0372], \"mode\": \"lines\", \"opacity\": 0.35667396061269147, \"type\": \"scattergeo\"}, {\"lat\": [38.50886722, 32.89595056], \"line\": {\"color\": \"red\", \"width\": 1}, \"locationmode\": \"USA-states\", \"lon\": [-107.89383329999998, -97.0372], \"mode\": \"lines\", \"opacity\": 0.0175054704595186, \"type\": \"scattergeo\"}, {\"lat\": [20.89864972, 32.89595056], \"line\": {\"color\": \"red\", \"width\": 1}, \"locationmode\": \"USA-states\", \"lon\": [-156.43045780000003, -97.0372], \"mode\": \"lines\", \"opacity\": 0.061269146608315096, \"type\": \"scattergeo\"}, {\"lat\": [35.39308833, 32.89595056], \"line\": {\"color\": \"red\", \"width\": 1}, \"locationmode\": \"USA-states\", \"lon\": [-97.60073389, -97.0372], \"mode\": \"lines\", \"opacity\": 0.42669584245076586, \"type\": \"scattergeo\"}, {\"lat\": [41.30251861, 32.89595056], \"line\": {\"color\": \"red\", \"width\": 1}, \"locationmode\": \"USA-states\", \"lon\": [-95.89417306, -97.0372], \"mode\": \"lines\", \"opacity\": 0.2975929978118162, \"type\": \"scattergeo\"}, {\"lat\": [41.979595, 32.89595056], \"line\": {\"color\": \"red\", \"width\": 1}, \"locationmode\": \"USA-states\", \"lon\": [-87.90446417, -97.0372], \"mode\": \"lines\", \"opacity\": 0.9026258205689278, \"type\": \"scattergeo\"}, {\"lat\": [39.87195278, 32.89595056], \"line\": {\"color\": \"red\", \"width\": 1}, \"locationmode\": \"USA-states\", \"lon\": [-75.24114083, -97.0372], \"mode\": \"lines\", \"opacity\": 0.3522975929978118, \"type\": \"scattergeo\"}, {\"lat\": [33.43416667, 32.89595056], \"line\": {\"color\": \"red\", \"width\": 1}, \"locationmode\": \"USA-states\", \"lon\": [-112.00805559999999, -97.0372], \"mode\": \"lines\", \"opacity\": 0.6017505470459519, \"type\": \"scattergeo\"}, {\"lat\": [37.50516667, 32.89595056], \"line\": {\"color\": \"red\", \"width\": 1}, \"locationmode\": \"USA-states\", \"lon\": [-77.31966667, -97.0372], \"mode\": \"lines\", \"opacity\": 0.18161925601750548, \"type\": \"scattergeo\"}, {\"lat\": [39.49857611, 32.89595056], \"line\": {\"color\": \"red\", \"width\": 1}, \"locationmode\": \"USA-states\", \"lon\": [-119.76806470000001, -97.0372], \"mode\": \"lines\", \"opacity\": 0.16411378555798686, \"type\": \"scattergeo\"}, {\"lat\": [32.73355611, 32.89595056], \"line\": {\"color\": \"red\", \"width\": 1}, \"locationmode\": \"USA-states\", \"lon\": [-117.1896567, -97.0372], \"mode\": \"lines\", \"opacity\": 0.5470459518599562, \"type\": \"scattergeo\"}, {\"lat\": [29.53369444, 32.89595056], \"line\": {\"color\": \"red\", \"width\": 1}, \"locationmode\": \"USA-states\", \"lon\": [-98.46977778, -97.0372], \"mode\": \"lines\", \"opacity\": 0.9037199124726477, \"type\": \"scattergeo\"}, {\"lat\": [38.17438889, 32.89595056], \"line\": {\"color\": \"red\", \"width\": 1}, \"locationmode\": \"USA-states\", \"lon\": [-85.736, -97.0372], \"mode\": \"lines\", \"opacity\": 0.17943107221006566, \"type\": \"scattergeo\"}, {\"lat\": [37.61900194, 32.89595056], \"line\": {\"color\": \"red\", \"width\": 1}, \"locationmode\": \"USA-states\", \"lon\": [-122.3748433, -97.0372], \"mode\": \"lines\", \"opacity\": 0.5754923413566739, \"type\": \"scattergeo\"}, {\"lat\": [37.36186194, 32.89595056], \"line\": {\"color\": \"red\", \"width\": 1}, \"locationmode\": \"USA-states\", \"lon\": [-121.92900890000001, -97.0372], \"mode\": \"lines\", \"opacity\": 0.3479212253829322, \"type\": \"scattergeo\"}, {\"lat\": [40.78838778, 32.89595056], \"line\": {\"color\": \"red\", \"width\": 1}, \"locationmode\": \"USA-states\", \"lon\": [-111.9777731, -97.0372], \"mode\": \"lines\", \"opacity\": 0.3063457330415755, \"type\": \"scattergeo\"}, {\"lat\": [38.74768694, 32.89595056], \"line\": {\"color\": \"red\", \"width\": 1}, \"locationmode\": \"USA-states\", \"lon\": [-90.35998972, -97.0372], \"mode\": \"lines\", \"opacity\": 0.5317286652078774, \"type\": \"scattergeo\"}, {\"lat\": [36.28186944, 32.89595056], \"line\": {\"color\": \"red\", \"width\": 1}, \"locationmode\": \"USA-states\", \"lon\": [-94.30681111, -97.0372], \"mode\": \"lines\", \"opacity\": 0.05470459518599562, \"type\": \"scattergeo\"}, {\"lat\": [25.79325, 42.21205889], \"line\": {\"color\": \"red\", \"width\": 1}, \"locationmode\": \"USA-states\", \"lon\": [-80.29055556, -83.34883583], \"mode\": \"lines\", \"opacity\": 0.12253829321663019, \"type\": \"scattergeo\"}, {\"lat\": [40.77724306, 39.64256778], \"line\": {\"color\": \"red\", \"width\": 1}, \"locationmode\": \"USA-states\", \"lon\": [-73.87260917, -106.91769529999999], \"mode\": \"lines\", \"opacity\": 0.0087527352297593, \"type\": \"scattergeo\"}, {\"lat\": [41.979595, 39.64256778], \"line\": {\"color\": \"red\", \"width\": 1}, \"locationmode\": \"USA-states\", \"lon\": [-87.90446417, -106.91769529999999], \"mode\": \"lines\", \"opacity\": 0.0700218818380744, \"type\": \"scattergeo\"}, {\"lat\": [32.89595056, 31.80666667], \"line\": {\"color\": \"red\", \"width\": 1}, \"locationmode\": \"USA-states\", \"lon\": [-97.0372, -106.37780559999999], \"mode\": \"lines\", \"opacity\": 0.474835886214442, \"type\": \"scattergeo\"}, {\"lat\": [33.94253611, 40.69249722], \"line\": {\"color\": \"red\", \"width\": 1}, \"locationmode\": \"USA-states\", \"lon\": [-118.40807439999999, -74.16866056], \"mode\": \"lines\", \"opacity\": 0.05908096280087528, \"type\": \"scattergeo\"}, {\"lat\": [25.79325, 40.69249722], \"line\": {\"color\": \"red\", \"width\": 1}, \"locationmode\": \"USA-states\", \"lon\": [-80.29055556, -74.16866056], \"mode\": \"lines\", \"opacity\": 0.1838074398249453, \"type\": \"scattergeo\"}, {\"lat\": [40.63975111, 26.07258333], \"line\": {\"color\": \"red\", \"width\": 1}, \"locationmode\": \"USA-states\", \"lon\": [-73.77892556, -80.15275], \"mode\": \"lines\", \"opacity\": 0.12253829321663019, \"type\": \"scattergeo\"}, {\"lat\": [32.89595056, 40.48118028], \"line\": {\"color\": \"red\", \"width\": 1}, \"locationmode\": \"USA-states\", \"lon\": [-97.0372, -107.21765970000001], \"mode\": \"lines\", \"opacity\": 0.0700218818380744, \"type\": \"scattergeo\"}, {\"lat\": [32.89595056, 21.31869111], \"line\": {\"color\": \"red\", \"width\": 1}, \"locationmode\": \"USA-states\", \"lon\": [-97.0372, -157.92240719999998], \"mode\": \"lines\", \"opacity\": 0.12253829321663019, \"type\": \"scattergeo\"}, {\"lat\": [33.94253611, 21.31869111], \"line\": {\"color\": \"red\", \"width\": 1}, \"locationmode\": \"USA-states\", \"lon\": [-118.40807439999999, -157.92240719999998], \"mode\": \"lines\", \"opacity\": 0.2363238512035011, \"type\": \"scattergeo\"}, {\"lat\": [32.89595056, 38.94453194], \"line\": {\"color\": \"red\", \"width\": 1}, \"locationmode\": \"USA-states\", \"lon\": [-97.0372, -77.45580972], \"mode\": \"lines\", \"opacity\": 0.33698030634573306, \"type\": \"scattergeo\"}, {\"lat\": [33.94253611, 38.94453194], \"line\": {\"color\": \"red\", \"width\": 1}, \"locationmode\": \"USA-states\", \"lon\": [-118.40807439999999, -77.45580972], \"mode\": \"lines\", \"opacity\": 0.18161925601750548, \"type\": \"scattergeo\"}, {\"lat\": [25.79325, 38.94453194], \"line\": {\"color\": \"red\", \"width\": 1}, \"locationmode\": \"USA-states\", \"lon\": [-80.29055556, -77.45580972], \"mode\": \"lines\", \"opacity\": 0.12253829321663019, \"type\": \"scattergeo\"}, {\"lat\": [25.79325, 29.98047222], \"line\": {\"color\": \"red\", \"width\": 1}, \"locationmode\": \"USA-states\", \"lon\": [-80.29055556, -95.33972222], \"mode\": \"lines\", \"opacity\": 0.1838074398249453, \"type\": \"scattergeo\"}, {\"lat\": [32.89595056, 37.64995889], \"line\": {\"color\": \"red\", \"width\": 1}, \"locationmode\": \"USA-states\", \"lon\": [-97.0372, -97.43304583], \"mode\": \"lines\", \"opacity\": 0.23413566739606126, \"type\": \"scattergeo\"}, {\"lat\": [32.89595056, 39.71732917], \"line\": {\"color\": \"red\", \"width\": 1}, \"locationmode\": \"USA-states\", \"lon\": [-97.0372, -86.29438417], \"mode\": \"lines\", \"opacity\": 0.3041575492341357, \"type\": \"scattergeo\"}, {\"lat\": [32.89595056, 43.60732417], \"line\": {\"color\": \"red\", \"width\": 1}, \"locationmode\": \"USA-states\", \"lon\": [-97.0372, -110.7377389], \"mode\": \"lines\", \"opacity\": 0.0262582056892779, \"type\": \"scattergeo\"}, {\"lat\": [32.89595056, 30.49405556], \"line\": {\"color\": \"red\", \"width\": 1}, \"locationmode\": \"USA-states\", \"lon\": [-97.0372, -81.68786111], \"mode\": \"lines\", \"opacity\": 0.2363238512035011, \"type\": \"scattergeo\"}, {\"lat\": [30.19453278, 40.63975111], \"line\": {\"color\": \"red\", \"width\": 1}, \"locationmode\": \"USA-states\", \"lon\": [-97.66987194, -73.77892556], \"mode\": \"lines\", \"opacity\": 0.061269146608315096, \"type\": \"scattergeo\"}, {\"lat\": [32.89595056, 40.63975111], \"line\": {\"color\": \"red\", \"width\": 1}, \"locationmode\": \"USA-states\", \"lon\": [-97.0372, -73.77892556], \"mode\": \"lines\", \"opacity\": 0.061269146608315096, \"type\": \"scattergeo\"}, {\"lat\": [39.64256778, 40.63975111], \"line\": {\"color\": \"red\", \"width\": 1}, \"locationmode\": \"USA-states\", \"lon\": [-106.91769529999999, -73.77892556], \"mode\": \"lines\", \"opacity\": 0.061269146608315096, \"type\": \"scattergeo\"}, {\"lat\": [28.42888889, 40.63975111], \"line\": {\"color\": \"red\", \"width\": 1}, \"locationmode\": \"USA-states\", \"lon\": [-81.31602778, -73.77892556], \"mode\": \"lines\", \"opacity\": 0.24507658643326038, \"type\": \"scattergeo\"}, {\"lat\": [25.79325, 40.63975111], \"line\": {\"color\": \"red\", \"width\": 1}, \"locationmode\": \"USA-states\", \"lon\": [-80.29055556, -73.77892556], \"mode\": \"lines\", \"opacity\": 0.4288840262582057, \"type\": \"scattergeo\"}, {\"lat\": [47.44898194, 40.63975111], \"line\": {\"color\": \"red\", \"width\": 1}, \"locationmode\": \"USA-states\", \"lon\": [-122.30931310000001, -73.77892556], \"mode\": \"lines\", \"opacity\": 0.061269146608315096, \"type\": \"scattergeo\"}, {\"lat\": [37.61900194, 40.63975111], \"line\": {\"color\": \"red\", \"width\": 1}, \"locationmode\": \"USA-states\", \"lon\": [-122.3748433, -73.77892556], \"mode\": \"lines\", \"opacity\": 0.3041575492341357, \"type\": \"scattergeo\"}, {\"lat\": [18.33730556, 40.63975111], \"line\": {\"color\": \"red\", \"width\": 1}, \"locationmode\": \"USA-states\", \"lon\": [-64.97336111, -73.77892556], \"mode\": \"lines\", \"opacity\": 0.061269146608315096, \"type\": \"scattergeo\"}, {\"lat\": [27.97547222, 40.63975111], \"line\": {\"color\": \"red\", \"width\": 1}, \"locationmode\": \"USA-states\", \"lon\": [-82.53325, -73.77892556], \"mode\": \"lines\", \"opacity\": 0.061269146608315096, \"type\": \"scattergeo\"}, {\"lat\": [32.89595056, 36.08036111], \"line\": {\"color\": \"red\", \"width\": 1}, \"locationmode\": \"USA-states\", \"lon\": [-97.0372, -115.15233329999998], \"mode\": \"lines\", \"opacity\": 0.6225382932166302, \"type\": \"scattergeo\"}, {\"lat\": [40.63975111, 36.08036111], \"line\": {\"color\": \"red\", \"width\": 1}, \"locationmode\": \"USA-states\", \"lon\": [-73.77892556, -115.15233329999998], \"mode\": \"lines\", \"opacity\": 0.12253829321663019, \"type\": \"scattergeo\"}, {\"lat\": [33.94253611, 36.08036111], \"line\": {\"color\": \"red\", \"width\": 1}, \"locationmode\": \"USA-states\", \"lon\": [-118.40807439999999, -115.15233329999998], \"mode\": \"lines\", \"opacity\": 0.24288840262582057, \"type\": \"scattergeo\"}, {\"lat\": [41.979595, 36.08036111], \"line\": {\"color\": \"red\", \"width\": 1}, \"locationmode\": \"USA-states\", \"lon\": [-87.90446417, -115.15233329999998], \"mode\": \"lines\", \"opacity\": 0.3063457330415755, \"type\": \"scattergeo\"}, {\"lat\": [30.19453278, 33.94253611], \"line\": {\"color\": \"red\", \"width\": 1}, \"locationmode\": \"USA-states\", \"lon\": [-97.66987194, -118.40807439999999], \"mode\": \"lines\", \"opacity\": 0.1772428884026258, \"type\": \"scattergeo\"}, {\"lat\": [36.12447667, 33.94253611], \"line\": {\"color\": \"red\", \"width\": 1}, \"locationmode\": \"USA-states\", \"lon\": [-86.67818222, -118.40807439999999], \"mode\": \"lines\", \"opacity\": 0.061269146608315096, \"type\": \"scattergeo\"}, {\"lat\": [42.3643475, 33.94253611], \"line\": {\"color\": \"red\", \"width\": 1}, \"locationmode\": \"USA-states\", \"lon\": [-71.00517917, -118.40807439999999], \"mode\": \"lines\", \"opacity\": 0.1838074398249453, \"type\": \"scattergeo\"}, {\"lat\": [39.64256778, 33.94253611], \"line\": {\"color\": \"red\", \"width\": 1}, \"locationmode\": \"USA-states\", \"lon\": [-106.91769529999999, -118.40807439999999], \"mode\": \"lines\", \"opacity\": 0.061269146608315096, \"type\": \"scattergeo\"}, {\"lat\": [40.63975111, 33.94253611], \"line\": {\"color\": \"red\", \"width\": 1}, \"locationmode\": \"USA-states\", \"lon\": [-73.77892556, -118.40807439999999], \"mode\": \"lines\", \"opacity\": 0.5995623632385121, \"type\": \"scattergeo\"}, {\"lat\": [19.73876583, 33.94253611], \"line\": {\"color\": \"red\", \"width\": 1}, \"locationmode\": \"USA-states\", \"lon\": [-156.0456314, -118.40807439999999], \"mode\": \"lines\", \"opacity\": 0.061269146608315096, \"type\": \"scattergeo\"}, {\"lat\": [20.89864972, 33.94253611], \"line\": {\"color\": \"red\", \"width\": 1}, \"locationmode\": \"USA-states\", \"lon\": [-156.43045780000003, -118.40807439999999], \"mode\": \"lines\", \"opacity\": 0.12253829321663019, \"type\": \"scattergeo\"}, {\"lat\": [41.979595, 33.94253611], \"line\": {\"color\": \"red\", \"width\": 1}, \"locationmode\": \"USA-states\", \"lon\": [-87.90446417, -118.40807439999999], \"mode\": \"lines\", \"opacity\": 0.5426695842450766, \"type\": \"scattergeo\"}, {\"lat\": [38.74768694, 33.94253611], \"line\": {\"color\": \"red\", \"width\": 1}, \"locationmode\": \"USA-states\", \"lon\": [-90.35998972, -118.40807439999999], \"mode\": \"lines\", \"opacity\": 0.18161925601750548, \"type\": \"scattergeo\"}, {\"lat\": [36.12447667, 40.77724306], \"line\": {\"color\": \"red\", \"width\": 1}, \"locationmode\": \"USA-states\", \"lon\": [-86.67818222, -73.87260917], \"mode\": \"lines\", \"opacity\": 0.11159737417943107, \"type\": \"scattergeo\"}, {\"lat\": [32.89595056, 40.77724306], \"line\": {\"color\": \"red\", \"width\": 1}, \"locationmode\": \"USA-states\", \"lon\": [-97.0372, -73.87260917], \"mode\": \"lines\", \"opacity\": 0.849015317286652, \"type\": \"scattergeo\"}, {\"lat\": [38.74768694, 40.77724306], \"line\": {\"color\": \"red\", \"width\": 1}, \"locationmode\": \"USA-states\", \"lon\": [-90.35998972, -73.87260917], \"mode\": \"lines\", \"opacity\": 0.22538293216630198, \"type\": \"scattergeo\"}, {\"lat\": [33.94253611, 21.97598306], \"line\": {\"color\": \"red\", \"width\": 1}, \"locationmode\": \"USA-states\", \"lon\": [-118.40807439999999, -159.3389581], \"mode\": \"lines\", \"opacity\": 0.061269146608315096, \"type\": \"scattergeo\"}, {\"lat\": [33.94253611, 28.42888889], \"line\": {\"color\": \"red\", \"width\": 1}, \"locationmode\": \"USA-states\", \"lon\": [-118.40807439999999, -81.31602778], \"mode\": \"lines\", \"opacity\": 0.061269146608315096, \"type\": \"scattergeo\"}, {\"lat\": [25.79325, 28.42888889], \"line\": {\"color\": \"red\", \"width\": 1}, \"locationmode\": \"USA-states\", \"lon\": [-80.29055556, -81.31602778], \"mode\": \"lines\", \"opacity\": 0.49015317286652077, \"type\": \"scattergeo\"}, {\"lat\": [33.64044444, 25.79325], \"line\": {\"color\": \"red\", \"width\": 1}, \"locationmode\": \"USA-states\", \"lon\": [-84.42694444, -80.29055556], \"mode\": \"lines\", \"opacity\": 0.24507658643326038, \"type\": \"scattergeo\"}, {\"lat\": [41.93887417, 25.79325], \"line\": {\"color\": \"red\", \"width\": 1}, \"locationmode\": \"USA-states\", \"lon\": [-72.68322833, -80.29055556], \"mode\": \"lines\", \"opacity\": 0.12253829321663019, \"type\": \"scattergeo\"}, {\"lat\": [38.85208333, 25.79325], \"line\": {\"color\": \"red\", \"width\": 1}, \"locationmode\": \"USA-states\", \"lon\": [-77.03772222, -80.29055556], \"mode\": \"lines\", \"opacity\": 0.5514223194748359, \"type\": \"scattergeo\"}, {\"lat\": [39.64256778, 25.79325], \"line\": {\"color\": \"red\", \"width\": 1}, \"locationmode\": \"USA-states\", \"lon\": [-106.91769529999999, -80.29055556], \"mode\": \"lines\", \"opacity\": 0.0525164113785558, \"type\": \"scattergeo\"}, {\"lat\": [36.08036111, 25.79325], \"line\": {\"color\": \"red\", \"width\": 1}, \"locationmode\": \"USA-states\", \"lon\": [-115.15233329999998, -80.29055556], \"mode\": \"lines\", \"opacity\": 0.1838074398249453, \"type\": \"scattergeo\"}, {\"lat\": [33.94253611, 25.79325], \"line\": {\"color\": \"red\", \"width\": 1}, \"locationmode\": \"USA-states\", \"lon\": [-118.40807439999999, -80.29055556], \"mode\": \"lines\", \"opacity\": 0.4288840262582057, \"type\": \"scattergeo\"}, {\"lat\": [40.77724306, 25.79325], \"line\": {\"color\": \"red\", \"width\": 1}, \"locationmode\": \"USA-states\", \"lon\": [-73.87260917, -80.29055556], \"mode\": \"lines\", \"opacity\": 0.6728665207877462, \"type\": \"scattergeo\"}, {\"lat\": [44.88054694, 25.79325], \"line\": {\"color\": \"red\", \"width\": 1}, \"locationmode\": \"USA-states\", \"lon\": [-93.2169225, -80.29055556], \"mode\": \"lines\", \"opacity\": 0.061269146608315096, \"type\": \"scattergeo\"}, {\"lat\": [41.979595, 25.79325], \"line\": {\"color\": \"red\", \"width\": 1}, \"locationmode\": \"USA-states\", \"lon\": [-87.90446417, -80.29055556], \"mode\": \"lines\", \"opacity\": 0.5525164113785558, \"type\": \"scattergeo\"}, {\"lat\": [39.87195278, 25.79325], \"line\": {\"color\": \"red\", \"width\": 1}, \"locationmode\": \"USA-states\", \"lon\": [-75.24114083, -80.29055556], \"mode\": \"lines\", \"opacity\": 0.1838074398249453, \"type\": \"scattergeo\"}, {\"lat\": [33.43416667, 25.79325], \"line\": {\"color\": \"red\", \"width\": 1}, \"locationmode\": \"USA-states\", \"lon\": [-112.00805559999999, -80.29055556], \"mode\": \"lines\", \"opacity\": 0.061269146608315096, \"type\": \"scattergeo\"}, {\"lat\": [37.61900194, 25.79325], \"line\": {\"color\": \"red\", \"width\": 1}, \"locationmode\": \"USA-states\", \"lon\": [-122.3748433, -80.29055556], \"mode\": \"lines\", \"opacity\": 0.1838074398249453, \"type\": \"scattergeo\"}, {\"lat\": [18.43941667, 25.79325], \"line\": {\"color\": \"red\", \"width\": 1}, \"locationmode\": \"USA-states\", \"lon\": [-66.00183333, -80.29055556], \"mode\": \"lines\", \"opacity\": 0.49015317286652077, \"type\": \"scattergeo\"}, {\"lat\": [36.19837222, 25.79325], \"line\": {\"color\": \"red\", \"width\": 1}, \"locationmode\": \"USA-states\", \"lon\": [-95.88824167, -80.29055556], \"mode\": \"lines\", \"opacity\": 0.00437636761487965, \"type\": \"scattergeo\"}, {\"lat\": [41.979595, 44.88054694], \"line\": {\"color\": \"red\", \"width\": 1}, \"locationmode\": \"USA-states\", \"lon\": [-87.90446417, -93.2169225], \"mode\": \"lines\", \"opacity\": 0.175054704595186, \"type\": \"scattergeo\"}, {\"lat\": [32.89595056, 29.99338889], \"line\": {\"color\": \"red\", \"width\": 1}, \"locationmode\": \"USA-states\", \"lon\": [-97.0372, -90.25802778], \"mode\": \"lines\", \"opacity\": 0.3676148796498906, \"type\": \"scattergeo\"}, {\"lat\": [25.79325, 29.99338889], \"line\": {\"color\": \"red\", \"width\": 1}, \"locationmode\": \"USA-states\", \"lon\": [-80.29055556, -90.25802778], \"mode\": \"lines\", \"opacity\": 0.1838074398249453, \"type\": \"scattergeo\"}, {\"lat\": [41.979595, 29.99338889], \"line\": {\"color\": \"red\", \"width\": 1}, \"locationmode\": \"USA-states\", \"lon\": [-87.90446417, -90.25802778], \"mode\": \"lines\", \"opacity\": 0.16301969365426697, \"type\": \"scattergeo\"}, {\"lat\": [32.89595056, 34.056], \"line\": {\"color\": \"red\", \"width\": 1}, \"locationmode\": \"USA-states\", \"lon\": [-97.0372, -117.60119440000001], \"mode\": \"lines\", \"opacity\": 0.24288840262582057, \"type\": \"scattergeo\"}, {\"lat\": [38.85208333, 41.979595], \"line\": {\"color\": \"red\", \"width\": 1}, \"locationmode\": \"USA-states\", \"lon\": [-77.03772222, -87.90446417], \"mode\": \"lines\", \"opacity\": 0.3544857768052516, \"type\": \"scattergeo\"}, {\"lat\": [40.69249722, 41.979595], \"line\": {\"color\": \"red\", \"width\": 1}, \"locationmode\": \"USA-states\", \"lon\": [-74.16866056, -87.90446417], \"mode\": \"lines\", \"opacity\": 0.1838074398249453, \"type\": \"scattergeo\"}, {\"lat\": [26.07258333, 41.979595], \"line\": {\"color\": \"red\", \"width\": 1}, \"locationmode\": \"USA-states\", \"lon\": [-80.15275, -87.90446417], \"mode\": \"lines\", \"opacity\": 0.1838074398249453, \"type\": \"scattergeo\"}, {\"lat\": [40.48118028, 41.979595], \"line\": {\"color\": \"red\", \"width\": 1}, \"locationmode\": \"USA-states\", \"lon\": [-107.21765970000001, -87.90446417], \"mode\": \"lines\", \"opacity\": 0.0525164113785558, \"type\": \"scattergeo\"}, {\"lat\": [21.31869111, 41.979595], \"line\": {\"color\": \"red\", \"width\": 1}, \"locationmode\": \"USA-states\", \"lon\": [-157.92240719999998, -87.90446417], \"mode\": \"lines\", \"opacity\": 0.05032822757111598, \"type\": \"scattergeo\"}, {\"lat\": [43.60732417, 41.979595], \"line\": {\"color\": \"red\", \"width\": 1}, \"locationmode\": \"USA-states\", \"lon\": [-110.7377389, -87.90446417], \"mode\": \"lines\", \"opacity\": 0.061269146608315096, \"type\": \"scattergeo\"}, {\"lat\": [40.63975111, 41.979595], \"line\": {\"color\": \"red\", \"width\": 1}, \"locationmode\": \"USA-states\", \"lon\": [-73.77892556, -87.90446417], \"mode\": \"lines\", \"opacity\": 0.061269146608315096, \"type\": \"scattergeo\"}, {\"lat\": [40.77724306, 41.979595], \"line\": {\"color\": \"red\", \"width\": 1}, \"locationmode\": \"USA-states\", \"lon\": [-73.87260917, -87.90446417], \"mode\": \"lines\", \"opacity\": 0.9409190371991247, \"type\": \"scattergeo\"}, {\"lat\": [39.29760528, 41.979595], \"line\": {\"color\": \"red\", \"width\": 1}, \"locationmode\": \"USA-states\", \"lon\": [-94.71390556, -87.90446417], \"mode\": \"lines\", \"opacity\": 0.23413566739606126, \"type\": \"scattergeo\"}, {\"lat\": [28.42888889, 41.979595], \"line\": {\"color\": \"red\", \"width\": 1}, \"locationmode\": \"USA-states\", \"lon\": [-81.31602778, -87.90446417], \"mode\": \"lines\", \"opacity\": 0.24507658643326038, \"type\": \"scattergeo\"}, {\"lat\": [35.87763889, 41.979595], \"line\": {\"color\": \"red\", \"width\": 1}, \"locationmode\": \"USA-states\", \"lon\": [-78.78747222, -87.90446417], \"mode\": \"lines\", \"opacity\": 0.17067833698030635, \"type\": \"scattergeo\"}, {\"lat\": [39.49857611, 41.979595], \"line\": {\"color\": \"red\", \"width\": 1}, \"locationmode\": \"USA-states\", \"lon\": [-119.76806470000001, -87.90446417], \"mode\": \"lines\", \"opacity\": 0.061269146608315096, \"type\": \"scattergeo\"}, {\"lat\": [32.73355611, 41.979595], \"line\": {\"color\": \"red\", \"width\": 1}, \"locationmode\": \"USA-states\", \"lon\": [-117.1896567, -87.90446417], \"mode\": \"lines\", \"opacity\": 0.24507658643326038, \"type\": \"scattergeo\"}, {\"lat\": [29.53369444, 41.979595], \"line\": {\"color\": \"red\", \"width\": 1}, \"locationmode\": \"USA-states\", \"lon\": [-98.46977778, -87.90446417], \"mode\": \"lines\", \"opacity\": 0.12253829321663019, \"type\": \"scattergeo\"}, {\"lat\": [37.36186194, 41.979595], \"line\": {\"color\": \"red\", \"width\": 1}, \"locationmode\": \"USA-states\", \"lon\": [-121.92900890000001, -87.90446417], \"mode\": \"lines\", \"opacity\": 0.12253829321663019, \"type\": \"scattergeo\"}, {\"lat\": [18.43941667, 41.979595], \"line\": {\"color\": \"red\", \"width\": 1}, \"locationmode\": \"USA-states\", \"lon\": [-66.00183333, -87.90446417], \"mode\": \"lines\", \"opacity\": 0.12253829321663019, \"type\": \"scattergeo\"}, {\"lat\": [38.74768694, 41.979595], \"line\": {\"color\": \"red\", \"width\": 1}, \"locationmode\": \"USA-states\", \"lon\": [-90.35998972, -87.90446417], \"mode\": \"lines\", \"opacity\": 0.5284463894967177, \"type\": \"scattergeo\"}, {\"lat\": [36.19837222, 41.979595], \"line\": {\"color\": \"red\", \"width\": 1}, \"locationmode\": \"USA-states\", \"lon\": [-95.88824167, -87.90446417], \"mode\": \"lines\", \"opacity\": 0.061269146608315096, \"type\": \"scattergeo\"}, {\"lat\": [32.11608333, 41.979595], \"line\": {\"color\": \"red\", \"width\": 1}, \"locationmode\": \"USA-states\", \"lon\": [-110.94102779999999, -87.90446417], \"mode\": \"lines\", \"opacity\": 0.12253829321663019, \"type\": \"scattergeo\"}, {\"lat\": [32.89595056, 36.89461111], \"line\": {\"color\": \"red\", \"width\": 1}, \"locationmode\": \"USA-states\", \"lon\": [-97.0372, -76.20122222], \"mode\": \"lines\", \"opacity\": 0.12253829321663019, \"type\": \"scattergeo\"}, {\"lat\": [32.89595056, 26.68316194], \"line\": {\"color\": \"red\", \"width\": 1}, \"locationmode\": \"USA-states\", \"lon\": [-97.0372, -80.09559417], \"mode\": \"lines\", \"opacity\": 0.12253829321663019, \"type\": \"scattergeo\"}, {\"lat\": [41.979595, 26.68316194], \"line\": {\"color\": \"red\", \"width\": 1}, \"locationmode\": \"USA-states\", \"lon\": [-87.90446417, -80.09559417], \"mode\": \"lines\", \"opacity\": 0.16411378555798686, \"type\": \"scattergeo\"}, {\"lat\": [32.89595056, 45.58872222], \"line\": {\"color\": \"red\", \"width\": 1}, \"locationmode\": \"USA-states\", \"lon\": [-97.0372, -122.5975], \"mode\": \"lines\", \"opacity\": 0.24507658643326038, \"type\": \"scattergeo\"}, {\"lat\": [41.979595, 39.87195278], \"line\": {\"color\": \"red\", \"width\": 1}, \"locationmode\": \"USA-states\", \"lon\": [-87.90446417, -75.24114083], \"mode\": \"lines\", \"opacity\": 0.12035010940919037, \"type\": \"scattergeo\"}, {\"lat\": [18.43941667, 39.87195278], \"line\": {\"color\": \"red\", \"width\": 1}, \"locationmode\": \"USA-states\", \"lon\": [-66.00183333, -75.24114083], \"mode\": \"lines\", \"opacity\": 0.061269146608315096, \"type\": \"scattergeo\"}, {\"lat\": [41.979595, 33.43416667], \"line\": {\"color\": \"red\", \"width\": 1}, \"locationmode\": \"USA-states\", \"lon\": [-87.90446417, -112.00805559999999], \"mode\": \"lines\", \"opacity\": 0.3063457330415755, \"type\": \"scattergeo\"}, {\"lat\": [32.89595056, 40.49146583], \"line\": {\"color\": \"red\", \"width\": 1}, \"locationmode\": \"USA-states\", \"lon\": [-97.0372, -80.23287083], \"mode\": \"lines\", \"opacity\": 0.18599562363238512, \"type\": \"scattergeo\"}, {\"lat\": [32.89595056, 33.82921556], \"line\": {\"color\": \"red\", \"width\": 1}, \"locationmode\": \"USA-states\", \"lon\": [-97.0372, -116.5062531], \"mode\": \"lines\", \"opacity\": 0.1838074398249453, \"type\": \"scattergeo\"}, {\"lat\": [41.979595, 33.82921556], \"line\": {\"color\": \"red\", \"width\": 1}, \"locationmode\": \"USA-states\", \"lon\": [-87.90446417, -116.5062531], \"mode\": \"lines\", \"opacity\": 0.0700218818380744, \"type\": \"scattergeo\"}, {\"lat\": [32.89595056, 35.87763889], \"line\": {\"color\": \"red\", \"width\": 1}, \"locationmode\": \"USA-states\", \"lon\": [-97.0372, -78.78747222], \"mode\": \"lines\", \"opacity\": 0.3041575492341357, \"type\": \"scattergeo\"}, {\"lat\": [25.79325, 35.87763889], \"line\": {\"color\": \"red\", \"width\": 1}, \"locationmode\": \"USA-states\", \"lon\": [-80.29055556, -78.78747222], \"mode\": \"lines\", \"opacity\": 0.1838074398249453, \"type\": \"scattergeo\"}, {\"lat\": [32.89595056, 26.53616667], \"line\": {\"color\": \"red\", \"width\": 1}, \"locationmode\": \"USA-states\", \"lon\": [-97.0372, -81.75516667], \"mode\": \"lines\", \"opacity\": 0.1838074398249453, \"type\": \"scattergeo\"}, {\"lat\": [41.979595, 26.53616667], \"line\": {\"color\": \"red\", \"width\": 1}, \"locationmode\": \"USA-states\", \"lon\": [-87.90446417, -81.75516667], \"mode\": \"lines\", \"opacity\": 0.1838074398249453, \"type\": \"scattergeo\"}, {\"lat\": [40.63975111, 32.73355611], \"line\": {\"color\": \"red\", \"width\": 1}, \"locationmode\": \"USA-states\", \"lon\": [-73.77892556, -117.1896567], \"mode\": \"lines\", \"opacity\": 0.061269146608315096, \"type\": \"scattergeo\"}, {\"lat\": [32.89595056, 47.44898194], \"line\": {\"color\": \"red\", \"width\": 1}, \"locationmode\": \"USA-states\", \"lon\": [-97.0372, -122.30931310000001], \"mode\": \"lines\", \"opacity\": 0.4288840262582057, \"type\": \"scattergeo\"}, {\"lat\": [41.979595, 47.44898194], \"line\": {\"color\": \"red\", \"width\": 1}, \"locationmode\": \"USA-states\", \"lon\": [-87.90446417, -122.30931310000001], \"mode\": \"lines\", \"opacity\": 0.23413566739606126, \"type\": \"scattergeo\"}, {\"lat\": [21.31869111, 37.61900194], \"line\": {\"color\": \"red\", \"width\": 1}, \"locationmode\": \"USA-states\", \"lon\": [-157.92240719999998, -122.3748433], \"mode\": \"lines\", \"opacity\": 0.061269146608315096, \"type\": \"scattergeo\"}, {\"lat\": [33.94253611, 37.61900194], \"line\": {\"color\": \"red\", \"width\": 1}, \"locationmode\": \"USA-states\", \"lon\": [-118.40807439999999, -122.3748433], \"mode\": \"lines\", \"opacity\": 0.3676148796498906, \"type\": \"scattergeo\"}, {\"lat\": [41.979595, 37.61900194], \"line\": {\"color\": \"red\", \"width\": 1}, \"locationmode\": \"USA-states\", \"lon\": [-87.90446417, -122.3748433], \"mode\": \"lines\", \"opacity\": 0.35667396061269147, \"type\": \"scattergeo\"}, {\"lat\": [32.89595056, 18.43941667], \"line\": {\"color\": \"red\", \"width\": 1}, \"locationmode\": \"USA-states\", \"lon\": [-97.0372, -66.00183333], \"mode\": \"lines\", \"opacity\": 0.13129102844638948, \"type\": \"scattergeo\"}, {\"lat\": [38.94453194, 18.43941667], \"line\": {\"color\": \"red\", \"width\": 1}, \"locationmode\": \"USA-states\", \"lon\": [-77.45580972, -66.00183333], \"mode\": \"lines\", \"opacity\": 0.061269146608315096, \"type\": \"scattergeo\"}, {\"lat\": [40.63975111, 18.43941667], \"line\": {\"color\": \"red\", \"width\": 1}, \"locationmode\": \"USA-states\", \"lon\": [-73.77892556, -66.00183333], \"mode\": \"lines\", \"opacity\": 0.1838074398249453, \"type\": \"scattergeo\"}, {\"lat\": [33.94253611, 18.43941667], \"line\": {\"color\": \"red\", \"width\": 1}, \"locationmode\": \"USA-states\", \"lon\": [-118.40807439999999, -66.00183333], \"mode\": \"lines\", \"opacity\": 0.0175054704595186, \"type\": \"scattergeo\"}, {\"lat\": [32.89595056, 38.69542167], \"line\": {\"color\": \"red\", \"width\": 1}, \"locationmode\": \"USA-states\", \"lon\": [-97.0372, -121.5907669], \"mode\": \"lines\", \"opacity\": 0.24507658643326038, \"type\": \"scattergeo\"}, {\"lat\": [32.89595056, 33.67565861], \"line\": {\"color\": \"red\", \"width\": 1}, \"locationmode\": \"USA-states\", \"lon\": [-97.0372, -117.86822250000002], \"mode\": \"lines\", \"opacity\": 0.6323851203501094, \"type\": \"scattergeo\"}, {\"lat\": [41.979595, 33.67565861], \"line\": {\"color\": \"red\", \"width\": 1}, \"locationmode\": \"USA-states\", \"lon\": [-87.90446417, -117.86822250000002], \"mode\": \"lines\", \"opacity\": 0.16630196936542668, \"type\": \"scattergeo\"}, {\"lat\": [38.85208333, 38.74768694], \"line\": {\"color\": \"red\", \"width\": 1}, \"locationmode\": \"USA-states\", \"lon\": [-77.03772222, -90.35998972], \"mode\": \"lines\", \"opacity\": 0.2188183807439825, \"type\": \"scattergeo\"}, {\"lat\": [25.79325, 38.74768694], \"line\": {\"color\": \"red\", \"width\": 1}, \"locationmode\": \"USA-states\", \"lon\": [-80.29055556, -90.35998972], \"mode\": \"lines\", \"opacity\": 0.1838074398249453, \"type\": \"scattergeo\"}, {\"lat\": [25.79325, 18.33730556], \"line\": {\"color\": \"red\", \"width\": 1}, \"locationmode\": \"USA-states\", \"lon\": [-80.29055556, -64.97336111], \"mode\": \"lines\", \"opacity\": 0.12253829321663019, \"type\": \"scattergeo\"}, {\"lat\": [25.79325, 17.70188889], \"line\": {\"color\": \"red\", \"width\": 1}, \"locationmode\": \"USA-states\", \"lon\": [-80.29055556, -64.79855556], \"mode\": \"lines\", \"opacity\": 0.06783369803063458, \"type\": \"scattergeo\"}, {\"lat\": [32.89595056, 27.97547222], \"line\": {\"color\": \"red\", \"width\": 1}, \"locationmode\": \"USA-states\", \"lon\": [-97.0372, -82.53325], \"mode\": \"lines\", \"opacity\": 0.4288840262582057, \"type\": \"scattergeo\"}, {\"lat\": [25.79325, 27.97547222], \"line\": {\"color\": \"red\", \"width\": 1}, \"locationmode\": \"USA-states\", \"lon\": [-80.29055556, -82.53325], \"mode\": \"lines\", \"opacity\": 0.32603938730853393, \"type\": \"scattergeo\"}, {\"lat\": [41.979595, 27.97547222], \"line\": {\"color\": \"red\", \"width\": 1}, \"locationmode\": \"USA-states\", \"lon\": [-87.90446417, -82.53325], \"mode\": \"lines\", \"opacity\": 0.16411378555798686, \"type\": \"scattergeo\"}, {\"lat\": [18.43941667, 27.97547222], \"line\": {\"color\": \"red\", \"width\": 1}, \"locationmode\": \"USA-states\", \"lon\": [-66.00183333, -82.53325], \"mode\": \"lines\", \"opacity\": 0.061269146608315096, \"type\": \"scattergeo\"}, {\"lat\": [32.89595056, 36.19837222], \"line\": {\"color\": \"red\", \"width\": 1}, \"locationmode\": \"USA-states\", \"lon\": [-97.0372, -95.88824167], \"mode\": \"lines\", \"opacity\": 0.42669584245076586, \"type\": \"scattergeo\"}, {\"lat\": [32.89595056, 32.11608333], \"line\": {\"color\": \"red\", \"width\": 1}, \"locationmode\": \"USA-states\", \"lon\": [-97.0372, -110.94102779999999], \"mode\": \"lines\", \"opacity\": 0.45842450765864334, \"type\": \"scattergeo\"}, {\"hoverinfo\": \"text\", \"lat\": [41.979595, 33.64044444, 32.89595056, 33.43416667, 39.85840806, 29.98047222, 37.61900194, 33.94253611, 28.42888889, 35.21401111, 40.78838778, 27.97547222, 40.69249722, 36.08036111, 39.87195278, 44.88054694, 47.44898194, 40.77724306, 41.7859825, 38.94453194, 32.73355611, 38.74768694, 42.21205889, 40.63975111, 25.79325, 42.3643475, 38.69542167, 39.17540167, 33.67565861, 29.99338889, 37.36186194, 38.85208333, 45.58872222, 26.53616667, 26.68316194, 35.87763889, 29.64541861, 29.53369444, 26.07258333, 39.29760528, 37.72129083, 40.49146583, 35.04241667, 42.94722222, 41.41089417, 30.49405556, 32.11608333, 39.71732917, 39.49857611, 35.39308833, 41.72399917, 36.19837222, 39.04614278, 39.99798528, 38.17438889, 34.056, 34.72939611, 32.84711389, 41.30251861, 36.89461111, 39.90237583, 43.11886611, 36.28186944, 36.12447667, 35.04022222, 32.31116667, 31.80666667, 37.50516667, 41.93887417, 31.94252778, 30.53316083, 35.81248722, 38.80580556, 30.47330556, 43.11118694, 33.56294306, 42.93451639, 33.82921556, 27.39533333, 27.77036083, 34.6404475, 33.93884, 30.20527972, 34.42621194, 47.61985556, 30.69141667, 37.64995889, 42.94052472, 41.53493306, 40.19349528, 43.64616667, 32.30064417, 37.13189556, 41.06695778, 36.5869825, 42.88081972, 30.448674, 32.65658333, 39.22316, 30.39652778, 30.40728028, 44.04532139, 33.81772222, 34.27061111, 38.03697222, 43.13985778, 44.123259999999995, 32.12758333, 33.66363889, 41.88458833, 34.89566722, 36.09774694, 40.7952425, 41.44852639, 35.43619444, 40.91631194, 40.47798556, 26.22850611, 30.48325, 32.446627500000005, 46.91934889, 40.48118028, 42.37422778, 40.66424333, 27.54373861, 30.19453278, 32.41132, 37.24432611, 42.96550333, 36.47521417, 31.06489778, 32.89864639, 44.48507333, 44.25406722, 32.51633333, 41.70895361, 43.56444444, 33.67975, 48.25937778, 40.03925, 37.32546833, 39.64256778, 43.60732417, 45.77690139, 39.1224125, 34.20061917, 38.03799139, 38.53396333, 43.51455556, 36.77619444, 39.84395194, 26.17583333, 40.50898361, 47.949255, 43.58135111, 42.48180389, 34.89924833, 42.91130556, 31.32133917, 34.82916444, 38.50886722, 46.77411111, 42.90835556, 44.74144472, 32.51086556, 46.26468028, 39.14096722, 31.32737167, 43.41713889, 35.61677778, 42.15614361, 41.50409361, 38.13863889, 30.7825, 44.77761917, 35.65884306, 40.97811528, 31.25902778, 40.85097222, 40.97846583, 44.52019417, 37.06083333, 35.23705806, 41.33814944, 33.45033444, 44.34889806, 35.07297222, 33.369955, 35.33659028, 32.35413889, 46.60681806, 47.48200194, 32.33313333, 46.353639, 37.95375861, 35.03526833, 46.37449806, 37.70097028, 42.74811944, 44.47300361, 48.31140472, 28.10275, 29.17991667, 40.65236278, 46.84209028, 41.155722499999996, 41.5942175, 37.85830556, 38.37315083, 48.79275, 37.62404861, 44.25740806, 36.385913, 27.91076333, 33.98879611, 34.99147222, 44.86525722, 42.40295944, 43.90882639, 34.681499, 45.8076625], \"locationmode\": \"USA-states\", \"lon\": [-87.90446417, -84.42694444, -97.0372, -112.00805559999999, -104.6670019, -95.33972222, -122.3748433, -118.40807439999999, -81.31602778, -80.94312583, -111.9777731, -82.53325, -74.16866056, -115.15233329999998, -75.24114083, -93.2169225, -122.30931310000001, -73.87260917, -87.75242444, -77.45580972, -117.1896567, -90.35998972, -83.34883583, -73.77892556, -80.29055556, -71.00517917, -121.5907669, -76.66819833, -117.86822250000002, -90.25802778, -121.92900890000001, -77.03772222, -122.5975, -81.75516667, -80.09559417, -78.78747222, -95.27888889, -98.46977778, -80.15275, -94.71390556, -122.22071670000001, -80.23287083, -89.97666667, -87.89658333, -81.84939667, -81.68786111, -110.94102779999999, -86.29438417, -119.76806470000001, -97.60073389, -71.42822111, -95.88824167, -84.6621725, -82.89188278, -85.736, -117.60119440000001, -92.22424556, -96.85177222, -95.89417306, -76.20122222, -84.219375, -77.67238389, -94.30681111, -86.67818222, -106.6091944, -90.07588889, -106.37780559999999, -77.31966667, -72.68322833, -102.20191390000001, -91.14963444, -83.99285583, -104.70025, -87.18744444, -76.10631056, -86.75354972, -71.43705583, -116.5062531, -82.55411111, -97.50121528, -86.77310944, -81.11953944, -91.987655, -119.8403733, -117.5338425, -88.24283333, -97.43304583, -78.73216667, -93.66068222, -76.76340361, -70.30875, -86.39397611, -76.4929875, -73.70757444, -121.84294779999999, -85.52276778, -84.550781, -114.60597220000001, -106.868845, -84.35033333, -89.07009278, -103.0573708, -118.1516111, -77.90255556, -84.60538889, -89.33751361, -123.21868559999999, -81.20213889, -101.8227778, -91.71087222, -82.21885833, -79.9372975, -73.10021194, -90.50753917, -82.54180556, -81.44246556, -88.91595278, -97.65439389, -86.5254, -93.82559833, -96.81498889, -107.21765970000001, -122.8734978, -89.69330556, -99.46154361, -97.66987194, -99.68189722, -93.38685806, -83.74345639, -82.40742056, -97.82779778, -80.04050583, -88.12959000000001, -121.1499633, -84.93886111, -86.31847417, -116.22277779999999, -78.92833333, -101.2803339, -88.27805556, -79.97542833, -106.91769529999999, -110.7377389, -111.15300719999999, -108.5267347, -118.3584969, -87.53062667, -106.9331817, -112.07016670000002, -119.7181389, -89.67761861, -98.23861111, -122.2934019, -97.17611111, -96.74170028, -114.4877356, -120.4575825, -112.59586110000001, -85.44962889, -77.61213778, -107.89383329999998, -100.74672220000001, -106.46446609999998, -85.582235, -92.03768778, -119.11902920000001, -96.67083278, -92.54855611, -124.2460278, -106.08813889999999, -121.7332081, -74.10483833, -78.45286111, -83.27672222, -89.66677944, -117.8295122, -124.1086189, -81.46630556, -96.75925, -85.19514639, -109.02379609999998, -88.77375, -120.64239309999999, -75.72426750000001, -88.59136861, -105.5393614, -77.04294444, -81.96449611, -94.36744111, -95.40238611, -111.9827503, -111.37068529999999, -88.75120556, -87.395361, -107.90848000000001, -85.20378778, -117.01539440000002, -113.098575, -73.80297861, -73.1503125, -114.25506940000001, -80.64580556, -81.05805556, -75.44040167, -92.19364861, -104.81183809999999, -109.0651928, -80.39947222, -81.59318972, -122.53752779999999, -118.8377722, -88.51947556, -92.548828, -82.68743944, -98.49189333, -78.88, -91.48507194, -90.70916722, -92.49798722, -90.348816, -108.54286110000001], \"marker\": {\"color\": \"rgb(255, 0, 0)\", \"line\": {\"color\": \"rgba(68, 68, 68, 0)\", \"width\": 3}, \"size\": 2}, \"mode\": \"markers\", \"text\": [\"Chicago O'Hare International\", \"William B Hartsfield-Atlanta Intl\", \"Dallas-Fort Worth International\", \"Phoenix Sky Harbor International\", \"Denver Intl\", \"George Bush Intercontinental\", \"San Francisco International\", \"Los Angeles International\", \"Orlando International\", \"Charlotte/Douglas International\", \"Salt Lake City Intl\", \"Tampa International \", \"Newark Intl\", \"McCarran International\", \"Philadelphia Intl\", \"Minneapolis-St Paul Intl\", \"Seattle-Tacoma Intl\", \"LaGuardia\", \"Chicago Midway\", \"Washington Dulles International\", \"San Diego International-Lindbergh \", \"Lambert-St Louis International\", \"Detroit Metropolitan-Wayne County\", \"John F Kennedy Intl\", \"Miami International\", \"Gen Edw L Logan Intl\", \"Sacramento International\", \"Baltimore-Washington International\", \"John Wayne /Orange Co\", \"New Orleans International \", \"San Jose International\", \"Ronald Reagan Washington National\", \"Portland Intl\", \"Southwest Florida International\", \"Palm Beach International\", \"Raleigh-Durham International\", \"William P Hobby\", \"San Antonio International\", \"Fort Lauderdale-Hollywood Int'l\", \"Kansas City International\", \"Metropolitan Oakland International\", \"Pittsburgh International\", \"Memphis International\", \"General Mitchell International\", \"Cleveland-Hopkins Intl\", \"Jacksonville International\", \"Tucson International\", \"Indianapolis International\", \"Reno/Tahoe International\", \"Will Rogers World\", \"Theodore F Green State\", \"Tulsa International\", \"Cincinnati Northern Kentucky Intl\", \"Port Columbus Intl\", \"Louisville International-Standiford \", \"Ontario International\", \"Adams \", \"Dallas Love \", \"Eppley Airfield\", \"Norfolk International\", \"James M Cox Dayton Intl\", \"Greater Rochester Int'l\", \"Northwest Arkansas Regional\", \"Nashville International\", \"Albuquerque International\", \"Jackson International\", \"El Paso International\", \"Richmond International\", \"Bradley International\", \"Midland International\", \"Baton Rouge Metropolitan, Ryan \", \"McGhee-Tyson\", \"City of Colorado Springs Muni\", \"Pensacola Regional\", \"Syracuse-Hancock Intl\", \"Birmingham International\", \"Manchester\", \"Palm Springs International\", \"Sarasota Bradenton International\", \"Corpus Christi International\", \"Huntsville International \", \"Columbia Metropolitan\", \"Lafayette Regional\", \"Santa Barbara Municipal\", \"Spokane Intl\", \"Mobile Regional\", \"Wichita Mid-Continent\", \"Buffalo Niagara Intl\", \"Des Moines International\", \"Harrisburg Intl\", \"Portland International Jetport\", \"Montgomery Regional Apt\", \"Newport News/Williamsburg International\", \"Westchester Cty\", \"Monterey Peninsula\", \"Kent County International\", \"Florida Beach\", \"Yuma MCAS-Yuma International\", \"Aspen-Pitkin Co/Sardy \", \"Tallahassee Regional\", \"Gulfport-Biloxi Regional\", \"Rapid City Regional\", \"Long Beach (Daugherty )\", \"Wilmington International\", \"Blue Grass \", \"Dane County Regional\", \"Mahlon Sweet \", \"Savannah International\", \"Lubbock International\", \"Eastern Iowa \", \"Greenville-Spartanburg\", \"Piedmont Triad International\", \"Long Island - MacArthur\", \"Quad City\", \"Asheville Regional\", \"Akron-Canton Regional\", \"Central Illinois Regional\", \"Valley International\", \"Eglin Air Force Base\", \"Shreveport Regional\", \"Hector International\", \"Yampa Valley\", \"Rogue Valley International\", \"Greater Peoria Regional\", \"Laredo International\", \"Austin-Bergstrom International\", \"Abilene Regional\", \"Springfield-Branson Regional\", \"Bishop\", \"Tri-Cities Regional\", \"Robert Gray AAF\", \"Charleston AFB/International\", \"Austin Straubel International\", \"Roberts \", \"Columbus Metropolitan\", \"South Bend Regional\", \"Boise Air Terminal\", \"Myrtle Beach International\", \"Minot International\", \"University of Illinois-Willard\", \"Roanoke Regional/ Woodrum \", \"Eagle County Regional\", \"Jackson Hole\", \"Gallatin \", \"Walker \", \"Burbank-Glendale-Pasadena\", \"Evansville Regional\", \"Gunnison County\", \"Idaho Falls Regional\", \"Fresno Yosemite International\", \"Capital\", \"McAllen Miller International\", \"Redding Municipal\", \"Grand Forks International\", \"Joe Foss \", \"Joslin Field - Magic Valley\", \"Santa Maria Pub/Capt G Allan Hancock \", \"Pocatello Regional\", \"Dothan \", \"Albert J Ellis\", \"Montrose Regional\", \"Bismarck Municipal\", \"Natrona County Intl\", \"Cherry Capital\", \"Monroe Regional\", \"Tri-Cities\", \"Manhattan Regional\", \"Alexandria International\", \"North Bend Muni\", \"Santa Fe Municipal\", \"Klamath Falls International\", \"Stewart\", \"Charlottesville-Albermarle\", \"Valdosta Regional\", \"Central Wisconsin\", \"Inyokern\", \"Arcata\", \"Glynco Jetport\", \"Lincoln Municipal\", \"Fort Wayne International\", \"Yellowstone Regional\", \"Barkley Regional\", \"San Luis Obispo Co-McChesney \", \"Wilkes-Barre/Scranton Intl\", \"Golden Triangle Regional\", \"Gillette-Campbell County\", \"Craven County Regional\", \"Bush \", \"Fort Smith Regional\", \"Tyler Pounds \", \"Helena Regional\", \"Great Falls Intl\", \"Key \", \"Marquette County Airport\", \"Telluride Regional\", \"Lovell \", \"Lewiston-Nez Perce County\", \"Cedar City Muni\", \"Albany Cty\", \"Burlington International\", \"Glacier Park Intl\", \"Melbourne International \", \"Daytona Beach International\", \"Lehigh Valley International\", \"Duluth International\", \"Cheyenne\", \"Rock Springs-Sweetwater County\", \"Greenbrier Valley\", \"Yeager\", \"Bellingham Intl\", \"Mammoth Yosemite\", \"Outagamie County Regional\", \"Branson Airport\", \"St. Petersburg-Clearwater International\", \"Sheppard AFB/Wichita Falls Municipal\", \"Fayetteville Municipal\", \"Chippewa Valley Regional\", \"Dubuque Municipal\", \"Rochester International\", \"Tunica Municipal Airport\", \"Billings Logan Intl\"], \"type\": \"scattergeo\"}],                        {\"geo\": {\"countrycolor\": \"rgb(204, 204, 204)\", \"landcolor\": \"rgb(243, 243, 243)\", \"projection\": {\"type\": \"azimuthal equal area\"}, \"scope\": \"north america\", \"showland\": true}, \"height\": 800, \"showlegend\": false, \"template\": {\"data\": {\"bar\": [{\"error_x\": {\"color\": \"#2a3f5f\"}, \"error_y\": {\"color\": \"#2a3f5f\"}, \"marker\": {\"line\": {\"color\": \"#E5ECF6\", \"width\": 0.5}}, \"type\": \"bar\"}], \"barpolar\": [{\"marker\": {\"line\": {\"color\": \"#E5ECF6\", \"width\": 0.5}}, \"type\": \"barpolar\"}], \"carpet\": [{\"aaxis\": {\"endlinecolor\": \"#2a3f5f\", \"gridcolor\": \"white\", \"linecolor\": \"white\", \"minorgridcolor\": \"white\", \"startlinecolor\": \"#2a3f5f\"}, \"baxis\": {\"endlinecolor\": \"#2a3f5f\", \"gridcolor\": \"white\", \"linecolor\": \"white\", \"minorgridcolor\": \"white\", \"startlinecolor\": \"#2a3f5f\"}, \"type\": \"carpet\"}], \"choropleth\": [{\"colorbar\": {\"outlinewidth\": 0, \"ticks\": \"\"}, \"type\": \"choropleth\"}], \"contour\": [{\"colorbar\": {\"outlinewidth\": 0, \"ticks\": \"\"}, \"colorscale\": [[0.0, \"#0d0887\"], [0.1111111111111111, \"#46039f\"], [0.2222222222222222, \"#7201a8\"], [0.3333333333333333, \"#9c179e\"], [0.4444444444444444, \"#bd3786\"], [0.5555555555555556, \"#d8576b\"], [0.6666666666666666, \"#ed7953\"], [0.7777777777777778, \"#fb9f3a\"], [0.8888888888888888, \"#fdca26\"], [1.0, \"#f0f921\"]], \"type\": \"contour\"}], \"contourcarpet\": [{\"colorbar\": {\"outlinewidth\": 0, \"ticks\": \"\"}, \"type\": \"contourcarpet\"}], \"heatmap\": [{\"colorbar\": {\"outlinewidth\": 0, \"ticks\": \"\"}, \"colorscale\": [[0.0, \"#0d0887\"], [0.1111111111111111, \"#46039f\"], [0.2222222222222222, \"#7201a8\"], [0.3333333333333333, \"#9c179e\"], [0.4444444444444444, \"#bd3786\"], [0.5555555555555556, \"#d8576b\"], [0.6666666666666666, \"#ed7953\"], [0.7777777777777778, \"#fb9f3a\"], [0.8888888888888888, \"#fdca26\"], [1.0, \"#f0f921\"]], \"type\": \"heatmap\"}], \"heatmapgl\": [{\"colorbar\": {\"outlinewidth\": 0, \"ticks\": \"\"}, \"colorscale\": [[0.0, \"#0d0887\"], [0.1111111111111111, \"#46039f\"], [0.2222222222222222, \"#7201a8\"], [0.3333333333333333, \"#9c179e\"], [0.4444444444444444, \"#bd3786\"], [0.5555555555555556, \"#d8576b\"], [0.6666666666666666, \"#ed7953\"], [0.7777777777777778, \"#fb9f3a\"], [0.8888888888888888, \"#fdca26\"], [1.0, \"#f0f921\"]], \"type\": \"heatmapgl\"}], \"histogram\": [{\"marker\": {\"colorbar\": {\"outlinewidth\": 0, \"ticks\": \"\"}}, \"type\": \"histogram\"}], \"histogram2d\": [{\"colorbar\": {\"outlinewidth\": 0, \"ticks\": \"\"}, \"colorscale\": [[0.0, \"#0d0887\"], [0.1111111111111111, \"#46039f\"], [0.2222222222222222, \"#7201a8\"], [0.3333333333333333, \"#9c179e\"], [0.4444444444444444, \"#bd3786\"], [0.5555555555555556, \"#d8576b\"], [0.6666666666666666, \"#ed7953\"], [0.7777777777777778, \"#fb9f3a\"], [0.8888888888888888, \"#fdca26\"], [1.0, \"#f0f921\"]], \"type\": \"histogram2d\"}], \"histogram2dcontour\": [{\"colorbar\": {\"outlinewidth\": 0, \"ticks\": \"\"}, \"colorscale\": [[0.0, \"#0d0887\"], [0.1111111111111111, \"#46039f\"], [0.2222222222222222, \"#7201a8\"], [0.3333333333333333, \"#9c179e\"], [0.4444444444444444, \"#bd3786\"], [0.5555555555555556, \"#d8576b\"], [0.6666666666666666, \"#ed7953\"], [0.7777777777777778, \"#fb9f3a\"], [0.8888888888888888, \"#fdca26\"], [1.0, \"#f0f921\"]], \"type\": \"histogram2dcontour\"}], \"mesh3d\": [{\"colorbar\": {\"outlinewidth\": 0, \"ticks\": \"\"}, \"type\": \"mesh3d\"}], \"parcoords\": [{\"line\": {\"colorbar\": {\"outlinewidth\": 0, \"ticks\": \"\"}}, \"type\": \"parcoords\"}], \"pie\": [{\"automargin\": true, \"type\": \"pie\"}], \"scatter\": [{\"marker\": {\"colorbar\": {\"outlinewidth\": 0, \"ticks\": \"\"}}, \"type\": \"scatter\"}], \"scatter3d\": [{\"line\": {\"colorbar\": {\"outlinewidth\": 0, \"ticks\": \"\"}}, \"marker\": {\"colorbar\": {\"outlinewidth\": 0, \"ticks\": \"\"}}, \"type\": \"scatter3d\"}], \"scattercarpet\": [{\"marker\": {\"colorbar\": {\"outlinewidth\": 0, \"ticks\": \"\"}}, \"type\": \"scattercarpet\"}], \"scattergeo\": [{\"marker\": {\"colorbar\": {\"outlinewidth\": 0, \"ticks\": \"\"}}, \"type\": \"scattergeo\"}], \"scattergl\": [{\"marker\": {\"colorbar\": {\"outlinewidth\": 0, \"ticks\": \"\"}}, \"type\": \"scattergl\"}], \"scattermapbox\": [{\"marker\": {\"colorbar\": {\"outlinewidth\": 0, \"ticks\": \"\"}}, \"type\": \"scattermapbox\"}], \"scatterpolar\": [{\"marker\": {\"colorbar\": {\"outlinewidth\": 0, \"ticks\": \"\"}}, \"type\": \"scatterpolar\"}], \"scatterpolargl\": [{\"marker\": {\"colorbar\": {\"outlinewidth\": 0, \"ticks\": \"\"}}, \"type\": \"scatterpolargl\"}], \"scatterternary\": [{\"marker\": {\"colorbar\": {\"outlinewidth\": 0, \"ticks\": \"\"}}, \"type\": \"scatterternary\"}], \"surface\": [{\"colorbar\": {\"outlinewidth\": 0, \"ticks\": \"\"}, \"colorscale\": [[0.0, \"#0d0887\"], [0.1111111111111111, \"#46039f\"], [0.2222222222222222, \"#7201a8\"], [0.3333333333333333, \"#9c179e\"], [0.4444444444444444, \"#bd3786\"], [0.5555555555555556, \"#d8576b\"], [0.6666666666666666, \"#ed7953\"], [0.7777777777777778, \"#fb9f3a\"], [0.8888888888888888, \"#fdca26\"], [1.0, \"#f0f921\"]], \"type\": \"surface\"}], \"table\": [{\"cells\": {\"fill\": {\"color\": \"#EBF0F8\"}, \"line\": {\"color\": \"white\"}}, \"header\": {\"fill\": {\"color\": \"#C8D4E3\"}, \"line\": {\"color\": \"white\"}}, \"type\": \"table\"}]}, \"layout\": {\"annotationdefaults\": {\"arrowcolor\": \"#2a3f5f\", \"arrowhead\": 0, \"arrowwidth\": 1}, \"autotypenumbers\": \"strict\", \"coloraxis\": {\"colorbar\": {\"outlinewidth\": 0, \"ticks\": \"\"}}, \"colorscale\": {\"diverging\": [[0, \"#8e0152\"], [0.1, \"#c51b7d\"], [0.2, \"#de77ae\"], [0.3, \"#f1b6da\"], [0.4, \"#fde0ef\"], [0.5, \"#f7f7f7\"], [0.6, \"#e6f5d0\"], [0.7, \"#b8e186\"], [0.8, \"#7fbc41\"], [0.9, \"#4d9221\"], [1, \"#276419\"]], \"sequential\": [[0.0, \"#0d0887\"], [0.1111111111111111, \"#46039f\"], [0.2222222222222222, \"#7201a8\"], [0.3333333333333333, \"#9c179e\"], [0.4444444444444444, \"#bd3786\"], [0.5555555555555556, \"#d8576b\"], [0.6666666666666666, \"#ed7953\"], [0.7777777777777778, \"#fb9f3a\"], [0.8888888888888888, \"#fdca26\"], [1.0, \"#f0f921\"]], \"sequentialminus\": [[0.0, \"#0d0887\"], [0.1111111111111111, \"#46039f\"], [0.2222222222222222, \"#7201a8\"], [0.3333333333333333, \"#9c179e\"], [0.4444444444444444, \"#bd3786\"], [0.5555555555555556, \"#d8576b\"], [0.6666666666666666, \"#ed7953\"], [0.7777777777777778, \"#fb9f3a\"], [0.8888888888888888, \"#fdca26\"], [1.0, \"#f0f921\"]]}, \"colorway\": [\"#636efa\", \"#EF553B\", \"#00cc96\", \"#ab63fa\", \"#FFA15A\", \"#19d3f3\", \"#FF6692\", \"#B6E880\", \"#FF97FF\", \"#FECB52\"], \"font\": {\"color\": \"#2a3f5f\"}, \"geo\": {\"bgcolor\": \"white\", \"lakecolor\": \"white\", \"landcolor\": \"#E5ECF6\", \"showlakes\": true, \"showland\": true, \"subunitcolor\": \"white\"}, \"hoverlabel\": {\"align\": \"left\"}, \"hovermode\": \"closest\", \"mapbox\": {\"style\": \"light\"}, \"paper_bgcolor\": \"white\", \"plot_bgcolor\": \"#E5ECF6\", \"polar\": {\"angularaxis\": {\"gridcolor\": \"white\", \"linecolor\": \"white\", \"ticks\": \"\"}, \"bgcolor\": \"#E5ECF6\", \"radialaxis\": {\"gridcolor\": \"white\", \"linecolor\": \"white\", \"ticks\": \"\"}}, \"scene\": {\"xaxis\": {\"backgroundcolor\": \"#E5ECF6\", \"gridcolor\": \"white\", \"gridwidth\": 2, \"linecolor\": \"white\", \"showbackground\": true, \"ticks\": \"\", \"zerolinecolor\": \"white\"}, \"yaxis\": {\"backgroundcolor\": \"#E5ECF6\", \"gridcolor\": \"white\", \"gridwidth\": 2, \"linecolor\": \"white\", \"showbackground\": true, \"ticks\": \"\", \"zerolinecolor\": \"white\"}, \"zaxis\": {\"backgroundcolor\": \"#E5ECF6\", \"gridcolor\": \"white\", \"gridwidth\": 2, \"linecolor\": \"white\", \"showbackground\": true, \"ticks\": \"\", \"zerolinecolor\": \"white\"}}, \"shapedefaults\": {\"line\": {\"color\": \"#2a3f5f\"}}, \"ternary\": {\"aaxis\": {\"gridcolor\": \"white\", \"linecolor\": \"white\", \"ticks\": \"\"}, \"baxis\": {\"gridcolor\": \"white\", \"linecolor\": \"white\", \"ticks\": \"\"}, \"bgcolor\": \"#E5ECF6\", \"caxis\": {\"gridcolor\": \"white\", \"linecolor\": \"white\", \"ticks\": \"\"}}, \"title\": {\"x\": 0.05}, \"xaxis\": {\"automargin\": true, \"gridcolor\": \"white\", \"linecolor\": \"white\", \"ticks\": \"\", \"title\": {\"standoff\": 15}, \"zerolinecolor\": \"white\", \"zerolinewidth\": 2}, \"yaxis\": {\"automargin\": true, \"gridcolor\": \"white\", \"linecolor\": \"white\", \"ticks\": \"\", \"title\": {\"standoff\": 15}, \"zerolinecolor\": \"white\", \"zerolinewidth\": 2}}}, \"title\": {\"text\": \"Feb. 2011 American Airline flight paths<br>(Hover for airport names)\"}},                        {\"responsive\": true}                    ).then(function(){\n                            \nvar gd = document.getElementById('3943bb46-422a-4125-a75d-908b40b52866');\nvar x = new MutationObserver(function (mutations, observer) {{\n        var display = window.getComputedStyle(gd).display;\n        if (!display || display === 'none') {{\n            console.log([gd, 'removed!']);\n            Plotly.purge(gd);\n            observer.disconnect();\n        }}\n}});\n\n// Listen for the removal of the full notebook cells\nvar notebookContainer = gd.closest('#notebook-container');\nif (notebookContainer) {{\n    x.observe(notebookContainer, {childList: true});\n}}\n\n// Listen for the clearing of the current output cell\nvar outputEl = gd.closest('.output');\nif (outputEl) {{\n    x.observe(outputEl, {childList: true});\n}}\n\n                        })                };                });            </script>        </div>"
     },
     "metadata": {}
    }
   ],
   "source": [
    "df_airports = pd.read_csv('https://raw.githubusercontent.com/plotly/datasets/master/2011_february_us_airport_traffic.csv')\n",
    "df_airports.head()\n",
    "\n",
    "df_flight_paths = pd.read_csv('https://raw.githubusercontent.com/plotly/datasets/master/2011_february_aa_flight_paths.csv')\n",
    "df_flight_paths.head()\n",
    "\n",
    "airports = [ dict(\n",
    "        type = 'scattergeo',\n",
    "        locationmode = 'USA-states',\n",
    "        lon = df_airports['long'],\n",
    "        lat = df_airports['lat'],\n",
    "        hoverinfo = 'text',\n",
    "        text = df_airports['airport'],\n",
    "        mode = 'markers',\n",
    "        marker = dict( \n",
    "            size=2, \n",
    "            color='rgb(255, 0, 0)',\n",
    "            line = dict(\n",
    "                width=3,\n",
    "                color='rgba(68, 68, 68, 0)'\n",
    "            )\n",
    "        ))]\n",
    "        \n",
    "flight_paths = []\n",
    "for i in range( len( df_flight_paths ) ):\n",
    "    flight_paths.append(\n",
    "        dict(\n",
    "            type = 'scattergeo',\n",
    "            locationmode = 'USA-states',\n",
    "            lon = [ df_flight_paths['start_lon'][i], df_flight_paths['end_lon'][i] ],\n",
    "            lat = [ df_flight_paths['start_lat'][i], df_flight_paths['end_lat'][i] ],\n",
    "            mode = 'lines',\n",
    "            line = dict(\n",
    "                width = 1,\n",
    "                color = 'red',\n",
    "            ),\n",
    "            opacity = float(df_flight_paths['cnt'][i])/float(df_flight_paths['cnt'].max()),\n",
    "        )\n",
    "    )\n",
    "    \n",
    "layout = dict(\n",
    "        title = 'Feb. 2011 American Airline flight paths<br>(Hover for airport names)',\n",
    "        showlegend = False, \n",
    "        height = 800,\n",
    "        geo = dict(\n",
    "            scope='north america',\n",
    "            projection=dict( type='azimuthal equal area' ),\n",
    "            showland = True,\n",
    "            landcolor = 'rgb(243, 243, 243)',\n",
    "            countrycolor = 'rgb(204, 204, 204)',\n",
    "        ),\n",
    "    )\n",
    "    \n",
    "fig = dict( data=flight_paths + airports, layout=layout )\n",
    "\n",
    "iplot(fig)"
   ]
  },
  {
   "cell_type": "code",
   "execution_count": 6,
   "metadata": {},
   "outputs": [
    {
     "output_type": "display_data",
     "data": {
      "application/vnd.plotly.v1+json": {
       "config": {
        "plotlyServerURL": "https://plot.ly"
       },
       "data": [
        {
         "type": "bar",
         "y": [
          2,
          1,
          3
         ]
        }
       ],
       "layout": {
        "template": {
         "data": {
          "bar": [
           {
            "error_x": {
             "color": "#2a3f5f"
            },
            "error_y": {
             "color": "#2a3f5f"
            },
            "marker": {
             "line": {
              "color": "#E5ECF6",
              "width": 0.5
             }
            },
            "type": "bar"
           }
          ],
          "barpolar": [
           {
            "marker": {
             "line": {
              "color": "#E5ECF6",
              "width": 0.5
             }
            },
            "type": "barpolar"
           }
          ],
          "carpet": [
           {
            "aaxis": {
             "endlinecolor": "#2a3f5f",
             "gridcolor": "white",
             "linecolor": "white",
             "minorgridcolor": "white",
             "startlinecolor": "#2a3f5f"
            },
            "baxis": {
             "endlinecolor": "#2a3f5f",
             "gridcolor": "white",
             "linecolor": "white",
             "minorgridcolor": "white",
             "startlinecolor": "#2a3f5f"
            },
            "type": "carpet"
           }
          ],
          "choropleth": [
           {
            "colorbar": {
             "outlinewidth": 0,
             "ticks": ""
            },
            "type": "choropleth"
           }
          ],
          "contour": [
           {
            "colorbar": {
             "outlinewidth": 0,
             "ticks": ""
            },
            "colorscale": [
             [
              0,
              "#0d0887"
             ],
             [
              0.1111111111111111,
              "#46039f"
             ],
             [
              0.2222222222222222,
              "#7201a8"
             ],
             [
              0.3333333333333333,
              "#9c179e"
             ],
             [
              0.4444444444444444,
              "#bd3786"
             ],
             [
              0.5555555555555556,
              "#d8576b"
             ],
             [
              0.6666666666666666,
              "#ed7953"
             ],
             [
              0.7777777777777778,
              "#fb9f3a"
             ],
             [
              0.8888888888888888,
              "#fdca26"
             ],
             [
              1,
              "#f0f921"
             ]
            ],
            "type": "contour"
           }
          ],
          "contourcarpet": [
           {
            "colorbar": {
             "outlinewidth": 0,
             "ticks": ""
            },
            "type": "contourcarpet"
           }
          ],
          "heatmap": [
           {
            "colorbar": {
             "outlinewidth": 0,
             "ticks": ""
            },
            "colorscale": [
             [
              0,
              "#0d0887"
             ],
             [
              0.1111111111111111,
              "#46039f"
             ],
             [
              0.2222222222222222,
              "#7201a8"
             ],
             [
              0.3333333333333333,
              "#9c179e"
             ],
             [
              0.4444444444444444,
              "#bd3786"
             ],
             [
              0.5555555555555556,
              "#d8576b"
             ],
             [
              0.6666666666666666,
              "#ed7953"
             ],
             [
              0.7777777777777778,
              "#fb9f3a"
             ],
             [
              0.8888888888888888,
              "#fdca26"
             ],
             [
              1,
              "#f0f921"
             ]
            ],
            "type": "heatmap"
           }
          ],
          "heatmapgl": [
           {
            "colorbar": {
             "outlinewidth": 0,
             "ticks": ""
            },
            "colorscale": [
             [
              0,
              "#0d0887"
             ],
             [
              0.1111111111111111,
              "#46039f"
             ],
             [
              0.2222222222222222,
              "#7201a8"
             ],
             [
              0.3333333333333333,
              "#9c179e"
             ],
             [
              0.4444444444444444,
              "#bd3786"
             ],
             [
              0.5555555555555556,
              "#d8576b"
             ],
             [
              0.6666666666666666,
              "#ed7953"
             ],
             [
              0.7777777777777778,
              "#fb9f3a"
             ],
             [
              0.8888888888888888,
              "#fdca26"
             ],
             [
              1,
              "#f0f921"
             ]
            ],
            "type": "heatmapgl"
           }
          ],
          "histogram": [
           {
            "marker": {
             "colorbar": {
              "outlinewidth": 0,
              "ticks": ""
             }
            },
            "type": "histogram"
           }
          ],
          "histogram2d": [
           {
            "colorbar": {
             "outlinewidth": 0,
             "ticks": ""
            },
            "colorscale": [
             [
              0,
              "#0d0887"
             ],
             [
              0.1111111111111111,
              "#46039f"
             ],
             [
              0.2222222222222222,
              "#7201a8"
             ],
             [
              0.3333333333333333,
              "#9c179e"
             ],
             [
              0.4444444444444444,
              "#bd3786"
             ],
             [
              0.5555555555555556,
              "#d8576b"
             ],
             [
              0.6666666666666666,
              "#ed7953"
             ],
             [
              0.7777777777777778,
              "#fb9f3a"
             ],
             [
              0.8888888888888888,
              "#fdca26"
             ],
             [
              1,
              "#f0f921"
             ]
            ],
            "type": "histogram2d"
           }
          ],
          "histogram2dcontour": [
           {
            "colorbar": {
             "outlinewidth": 0,
             "ticks": ""
            },
            "colorscale": [
             [
              0,
              "#0d0887"
             ],
             [
              0.1111111111111111,
              "#46039f"
             ],
             [
              0.2222222222222222,
              "#7201a8"
             ],
             [
              0.3333333333333333,
              "#9c179e"
             ],
             [
              0.4444444444444444,
              "#bd3786"
             ],
             [
              0.5555555555555556,
              "#d8576b"
             ],
             [
              0.6666666666666666,
              "#ed7953"
             ],
             [
              0.7777777777777778,
              "#fb9f3a"
             ],
             [
              0.8888888888888888,
              "#fdca26"
             ],
             [
              1,
              "#f0f921"
             ]
            ],
            "type": "histogram2dcontour"
           }
          ],
          "mesh3d": [
           {
            "colorbar": {
             "outlinewidth": 0,
             "ticks": ""
            },
            "type": "mesh3d"
           }
          ],
          "parcoords": [
           {
            "line": {
             "colorbar": {
              "outlinewidth": 0,
              "ticks": ""
             }
            },
            "type": "parcoords"
           }
          ],
          "pie": [
           {
            "automargin": true,
            "type": "pie"
           }
          ],
          "scatter": [
           {
            "marker": {
             "colorbar": {
              "outlinewidth": 0,
              "ticks": ""
             }
            },
            "type": "scatter"
           }
          ],
          "scatter3d": [
           {
            "line": {
             "colorbar": {
              "outlinewidth": 0,
              "ticks": ""
             }
            },
            "marker": {
             "colorbar": {
              "outlinewidth": 0,
              "ticks": ""
             }
            },
            "type": "scatter3d"
           }
          ],
          "scattercarpet": [
           {
            "marker": {
             "colorbar": {
              "outlinewidth": 0,
              "ticks": ""
             }
            },
            "type": "scattercarpet"
           }
          ],
          "scattergeo": [
           {
            "marker": {
             "colorbar": {
              "outlinewidth": 0,
              "ticks": ""
             }
            },
            "type": "scattergeo"
           }
          ],
          "scattergl": [
           {
            "marker": {
             "colorbar": {
              "outlinewidth": 0,
              "ticks": ""
             }
            },
            "type": "scattergl"
           }
          ],
          "scattermapbox": [
           {
            "marker": {
             "colorbar": {
              "outlinewidth": 0,
              "ticks": ""
             }
            },
            "type": "scattermapbox"
           }
          ],
          "scatterpolar": [
           {
            "marker": {
             "colorbar": {
              "outlinewidth": 0,
              "ticks": ""
             }
            },
            "type": "scatterpolar"
           }
          ],
          "scatterpolargl": [
           {
            "marker": {
             "colorbar": {
              "outlinewidth": 0,
              "ticks": ""
             }
            },
            "type": "scatterpolargl"
           }
          ],
          "scatterternary": [
           {
            "marker": {
             "colorbar": {
              "outlinewidth": 0,
              "ticks": ""
             }
            },
            "type": "scatterternary"
           }
          ],
          "surface": [
           {
            "colorbar": {
             "outlinewidth": 0,
             "ticks": ""
            },
            "colorscale": [
             [
              0,
              "#0d0887"
             ],
             [
              0.1111111111111111,
              "#46039f"
             ],
             [
              0.2222222222222222,
              "#7201a8"
             ],
             [
              0.3333333333333333,
              "#9c179e"
             ],
             [
              0.4444444444444444,
              "#bd3786"
             ],
             [
              0.5555555555555556,
              "#d8576b"
             ],
             [
              0.6666666666666666,
              "#ed7953"
             ],
             [
              0.7777777777777778,
              "#fb9f3a"
             ],
             [
              0.8888888888888888,
              "#fdca26"
             ],
             [
              1,
              "#f0f921"
             ]
            ],
            "type": "surface"
           }
          ],
          "table": [
           {
            "cells": {
             "fill": {
              "color": "#EBF0F8"
             },
             "line": {
              "color": "white"
             }
            },
            "header": {
             "fill": {
              "color": "#C8D4E3"
             },
             "line": {
              "color": "white"
             }
            },
            "type": "table"
           }
          ]
         },
         "layout": {
          "annotationdefaults": {
           "arrowcolor": "#2a3f5f",
           "arrowhead": 0,
           "arrowwidth": 1
          },
          "autotypenumbers": "strict",
          "coloraxis": {
           "colorbar": {
            "outlinewidth": 0,
            "ticks": ""
           }
          },
          "colorscale": {
           "diverging": [
            [
             0,
             "#8e0152"
            ],
            [
             0.1,
             "#c51b7d"
            ],
            [
             0.2,
             "#de77ae"
            ],
            [
             0.3,
             "#f1b6da"
            ],
            [
             0.4,
             "#fde0ef"
            ],
            [
             0.5,
             "#f7f7f7"
            ],
            [
             0.6,
             "#e6f5d0"
            ],
            [
             0.7,
             "#b8e186"
            ],
            [
             0.8,
             "#7fbc41"
            ],
            [
             0.9,
             "#4d9221"
            ],
            [
             1,
             "#276419"
            ]
           ],
           "sequential": [
            [
             0,
             "#0d0887"
            ],
            [
             0.1111111111111111,
             "#46039f"
            ],
            [
             0.2222222222222222,
             "#7201a8"
            ],
            [
             0.3333333333333333,
             "#9c179e"
            ],
            [
             0.4444444444444444,
             "#bd3786"
            ],
            [
             0.5555555555555556,
             "#d8576b"
            ],
            [
             0.6666666666666666,
             "#ed7953"
            ],
            [
             0.7777777777777778,
             "#fb9f3a"
            ],
            [
             0.8888888888888888,
             "#fdca26"
            ],
            [
             1,
             "#f0f921"
            ]
           ],
           "sequentialminus": [
            [
             0,
             "#0d0887"
            ],
            [
             0.1111111111111111,
             "#46039f"
            ],
            [
             0.2222222222222222,
             "#7201a8"
            ],
            [
             0.3333333333333333,
             "#9c179e"
            ],
            [
             0.4444444444444444,
             "#bd3786"
            ],
            [
             0.5555555555555556,
             "#d8576b"
            ],
            [
             0.6666666666666666,
             "#ed7953"
            ],
            [
             0.7777777777777778,
             "#fb9f3a"
            ],
            [
             0.8888888888888888,
             "#fdca26"
            ],
            [
             1,
             "#f0f921"
            ]
           ]
          },
          "colorway": [
           "#636efa",
           "#EF553B",
           "#00cc96",
           "#ab63fa",
           "#FFA15A",
           "#19d3f3",
           "#FF6692",
           "#B6E880",
           "#FF97FF",
           "#FECB52"
          ],
          "font": {
           "color": "#2a3f5f"
          },
          "geo": {
           "bgcolor": "white",
           "lakecolor": "white",
           "landcolor": "#E5ECF6",
           "showlakes": true,
           "showland": true,
           "subunitcolor": "white"
          },
          "hoverlabel": {
           "align": "left"
          },
          "hovermode": "closest",
          "mapbox": {
           "style": "light"
          },
          "paper_bgcolor": "white",
          "plot_bgcolor": "#E5ECF6",
          "polar": {
           "angularaxis": {
            "gridcolor": "white",
            "linecolor": "white",
            "ticks": ""
           },
           "bgcolor": "#E5ECF6",
           "radialaxis": {
            "gridcolor": "white",
            "linecolor": "white",
            "ticks": ""
           }
          },
          "scene": {
           "xaxis": {
            "backgroundcolor": "#E5ECF6",
            "gridcolor": "white",
            "gridwidth": 2,
            "linecolor": "white",
            "showbackground": true,
            "ticks": "",
            "zerolinecolor": "white"
           },
           "yaxis": {
            "backgroundcolor": "#E5ECF6",
            "gridcolor": "white",
            "gridwidth": 2,
            "linecolor": "white",
            "showbackground": true,
            "ticks": "",
            "zerolinecolor": "white"
           },
           "zaxis": {
            "backgroundcolor": "#E5ECF6",
            "gridcolor": "white",
            "gridwidth": 2,
            "linecolor": "white",
            "showbackground": true,
            "ticks": "",
            "zerolinecolor": "white"
           }
          },
          "shapedefaults": {
           "line": {
            "color": "#2a3f5f"
           }
          },
          "ternary": {
           "aaxis": {
            "gridcolor": "white",
            "linecolor": "white",
            "ticks": ""
           },
           "baxis": {
            "gridcolor": "white",
            "linecolor": "white",
            "ticks": ""
           },
           "bgcolor": "#E5ECF6",
           "caxis": {
            "gridcolor": "white",
            "linecolor": "white",
            "ticks": ""
           }
          },
          "title": {
           "x": 0.05
          },
          "xaxis": {
           "automargin": true,
           "gridcolor": "white",
           "linecolor": "white",
           "ticks": "",
           "title": {
            "standoff": 15
           },
           "zerolinecolor": "white",
           "zerolinewidth": 2
          },
          "yaxis": {
           "automargin": true,
           "gridcolor": "white",
           "linecolor": "white",
           "ticks": "",
           "title": {
            "standoff": 15
           },
           "zerolinecolor": "white",
           "zerolinewidth": 2
          }
         }
        },
        "title": {
         "text": "A Figure Displayed with fig.show()"
        }
       }
      },
      "text/html": "<div>                            <div id=\"29a9dcb7-3f5a-4ec1-8aa6-cd1d92c2efb7\" class=\"plotly-graph-div\" style=\"height:525px; width:100%;\"></div>            <script type=\"text/javascript\">                require([\"plotly\"], function(Plotly) {                    window.PLOTLYENV=window.PLOTLYENV || {};                                    if (document.getElementById(\"29a9dcb7-3f5a-4ec1-8aa6-cd1d92c2efb7\")) {                    Plotly.newPlot(                        \"29a9dcb7-3f5a-4ec1-8aa6-cd1d92c2efb7\",                        [{\"type\": \"bar\", \"y\": [2, 1, 3]}],                        {\"template\": {\"data\": {\"bar\": [{\"error_x\": {\"color\": \"#2a3f5f\"}, \"error_y\": {\"color\": \"#2a3f5f\"}, \"marker\": {\"line\": {\"color\": \"#E5ECF6\", \"width\": 0.5}}, \"type\": \"bar\"}], \"barpolar\": [{\"marker\": {\"line\": {\"color\": \"#E5ECF6\", \"width\": 0.5}}, \"type\": \"barpolar\"}], \"carpet\": [{\"aaxis\": {\"endlinecolor\": \"#2a3f5f\", \"gridcolor\": \"white\", \"linecolor\": \"white\", \"minorgridcolor\": \"white\", \"startlinecolor\": \"#2a3f5f\"}, \"baxis\": {\"endlinecolor\": \"#2a3f5f\", \"gridcolor\": \"white\", \"linecolor\": \"white\", \"minorgridcolor\": \"white\", \"startlinecolor\": \"#2a3f5f\"}, \"type\": \"carpet\"}], \"choropleth\": [{\"colorbar\": {\"outlinewidth\": 0, \"ticks\": \"\"}, \"type\": \"choropleth\"}], \"contour\": [{\"colorbar\": {\"outlinewidth\": 0, \"ticks\": \"\"}, \"colorscale\": [[0.0, \"#0d0887\"], [0.1111111111111111, \"#46039f\"], [0.2222222222222222, \"#7201a8\"], [0.3333333333333333, \"#9c179e\"], [0.4444444444444444, \"#bd3786\"], [0.5555555555555556, \"#d8576b\"], [0.6666666666666666, \"#ed7953\"], [0.7777777777777778, \"#fb9f3a\"], [0.8888888888888888, \"#fdca26\"], [1.0, \"#f0f921\"]], \"type\": \"contour\"}], \"contourcarpet\": [{\"colorbar\": {\"outlinewidth\": 0, \"ticks\": \"\"}, \"type\": \"contourcarpet\"}], \"heatmap\": [{\"colorbar\": {\"outlinewidth\": 0, \"ticks\": \"\"}, \"colorscale\": [[0.0, \"#0d0887\"], [0.1111111111111111, \"#46039f\"], [0.2222222222222222, \"#7201a8\"], [0.3333333333333333, \"#9c179e\"], [0.4444444444444444, \"#bd3786\"], [0.5555555555555556, \"#d8576b\"], [0.6666666666666666, \"#ed7953\"], [0.7777777777777778, \"#fb9f3a\"], [0.8888888888888888, \"#fdca26\"], [1.0, \"#f0f921\"]], \"type\": \"heatmap\"}], \"heatmapgl\": [{\"colorbar\": {\"outlinewidth\": 0, \"ticks\": \"\"}, \"colorscale\": [[0.0, \"#0d0887\"], [0.1111111111111111, \"#46039f\"], [0.2222222222222222, \"#7201a8\"], [0.3333333333333333, \"#9c179e\"], [0.4444444444444444, \"#bd3786\"], [0.5555555555555556, \"#d8576b\"], [0.6666666666666666, \"#ed7953\"], [0.7777777777777778, \"#fb9f3a\"], [0.8888888888888888, \"#fdca26\"], [1.0, \"#f0f921\"]], \"type\": \"heatmapgl\"}], \"histogram\": [{\"marker\": {\"colorbar\": {\"outlinewidth\": 0, \"ticks\": \"\"}}, \"type\": \"histogram\"}], \"histogram2d\": [{\"colorbar\": {\"outlinewidth\": 0, \"ticks\": \"\"}, \"colorscale\": [[0.0, \"#0d0887\"], [0.1111111111111111, \"#46039f\"], [0.2222222222222222, \"#7201a8\"], [0.3333333333333333, \"#9c179e\"], [0.4444444444444444, \"#bd3786\"], [0.5555555555555556, \"#d8576b\"], [0.6666666666666666, \"#ed7953\"], [0.7777777777777778, \"#fb9f3a\"], [0.8888888888888888, \"#fdca26\"], [1.0, \"#f0f921\"]], \"type\": \"histogram2d\"}], \"histogram2dcontour\": [{\"colorbar\": {\"outlinewidth\": 0, \"ticks\": \"\"}, \"colorscale\": [[0.0, \"#0d0887\"], [0.1111111111111111, \"#46039f\"], [0.2222222222222222, \"#7201a8\"], [0.3333333333333333, \"#9c179e\"], [0.4444444444444444, \"#bd3786\"], [0.5555555555555556, \"#d8576b\"], [0.6666666666666666, \"#ed7953\"], [0.7777777777777778, \"#fb9f3a\"], [0.8888888888888888, \"#fdca26\"], [1.0, \"#f0f921\"]], \"type\": \"histogram2dcontour\"}], \"mesh3d\": [{\"colorbar\": {\"outlinewidth\": 0, \"ticks\": \"\"}, \"type\": \"mesh3d\"}], \"parcoords\": [{\"line\": {\"colorbar\": {\"outlinewidth\": 0, \"ticks\": \"\"}}, \"type\": \"parcoords\"}], \"pie\": [{\"automargin\": true, \"type\": \"pie\"}], \"scatter\": [{\"marker\": {\"colorbar\": {\"outlinewidth\": 0, \"ticks\": \"\"}}, \"type\": \"scatter\"}], \"scatter3d\": [{\"line\": {\"colorbar\": {\"outlinewidth\": 0, \"ticks\": \"\"}}, \"marker\": {\"colorbar\": {\"outlinewidth\": 0, \"ticks\": \"\"}}, \"type\": \"scatter3d\"}], \"scattercarpet\": [{\"marker\": {\"colorbar\": {\"outlinewidth\": 0, \"ticks\": \"\"}}, \"type\": \"scattercarpet\"}], \"scattergeo\": [{\"marker\": {\"colorbar\": {\"outlinewidth\": 0, \"ticks\": \"\"}}, \"type\": \"scattergeo\"}], \"scattergl\": [{\"marker\": {\"colorbar\": {\"outlinewidth\": 0, \"ticks\": \"\"}}, \"type\": \"scattergl\"}], \"scattermapbox\": [{\"marker\": {\"colorbar\": {\"outlinewidth\": 0, \"ticks\": \"\"}}, \"type\": \"scattermapbox\"}], \"scatterpolar\": [{\"marker\": {\"colorbar\": {\"outlinewidth\": 0, \"ticks\": \"\"}}, \"type\": \"scatterpolar\"}], \"scatterpolargl\": [{\"marker\": {\"colorbar\": {\"outlinewidth\": 0, \"ticks\": \"\"}}, \"type\": \"scatterpolargl\"}], \"scatterternary\": [{\"marker\": {\"colorbar\": {\"outlinewidth\": 0, \"ticks\": \"\"}}, \"type\": \"scatterternary\"}], \"surface\": [{\"colorbar\": {\"outlinewidth\": 0, \"ticks\": \"\"}, \"colorscale\": [[0.0, \"#0d0887\"], [0.1111111111111111, \"#46039f\"], [0.2222222222222222, \"#7201a8\"], [0.3333333333333333, \"#9c179e\"], [0.4444444444444444, \"#bd3786\"], [0.5555555555555556, \"#d8576b\"], [0.6666666666666666, \"#ed7953\"], [0.7777777777777778, \"#fb9f3a\"], [0.8888888888888888, \"#fdca26\"], [1.0, \"#f0f921\"]], \"type\": \"surface\"}], \"table\": [{\"cells\": {\"fill\": {\"color\": \"#EBF0F8\"}, \"line\": {\"color\": \"white\"}}, \"header\": {\"fill\": {\"color\": \"#C8D4E3\"}, \"line\": {\"color\": \"white\"}}, \"type\": \"table\"}]}, \"layout\": {\"annotationdefaults\": {\"arrowcolor\": \"#2a3f5f\", \"arrowhead\": 0, \"arrowwidth\": 1}, \"autotypenumbers\": \"strict\", \"coloraxis\": {\"colorbar\": {\"outlinewidth\": 0, \"ticks\": \"\"}}, \"colorscale\": {\"diverging\": [[0, \"#8e0152\"], [0.1, \"#c51b7d\"], [0.2, \"#de77ae\"], [0.3, \"#f1b6da\"], [0.4, \"#fde0ef\"], [0.5, \"#f7f7f7\"], [0.6, \"#e6f5d0\"], [0.7, \"#b8e186\"], [0.8, \"#7fbc41\"], [0.9, \"#4d9221\"], [1, \"#276419\"]], \"sequential\": [[0.0, \"#0d0887\"], [0.1111111111111111, \"#46039f\"], [0.2222222222222222, \"#7201a8\"], [0.3333333333333333, \"#9c179e\"], [0.4444444444444444, \"#bd3786\"], [0.5555555555555556, \"#d8576b\"], [0.6666666666666666, \"#ed7953\"], [0.7777777777777778, \"#fb9f3a\"], [0.8888888888888888, \"#fdca26\"], [1.0, \"#f0f921\"]], \"sequentialminus\": [[0.0, \"#0d0887\"], [0.1111111111111111, \"#46039f\"], [0.2222222222222222, \"#7201a8\"], [0.3333333333333333, \"#9c179e\"], [0.4444444444444444, \"#bd3786\"], [0.5555555555555556, \"#d8576b\"], [0.6666666666666666, \"#ed7953\"], [0.7777777777777778, \"#fb9f3a\"], [0.8888888888888888, \"#fdca26\"], [1.0, \"#f0f921\"]]}, \"colorway\": [\"#636efa\", \"#EF553B\", \"#00cc96\", \"#ab63fa\", \"#FFA15A\", \"#19d3f3\", \"#FF6692\", \"#B6E880\", \"#FF97FF\", \"#FECB52\"], \"font\": {\"color\": \"#2a3f5f\"}, \"geo\": {\"bgcolor\": \"white\", \"lakecolor\": \"white\", \"landcolor\": \"#E5ECF6\", \"showlakes\": true, \"showland\": true, \"subunitcolor\": \"white\"}, \"hoverlabel\": {\"align\": \"left\"}, \"hovermode\": \"closest\", \"mapbox\": {\"style\": \"light\"}, \"paper_bgcolor\": \"white\", \"plot_bgcolor\": \"#E5ECF6\", \"polar\": {\"angularaxis\": {\"gridcolor\": \"white\", \"linecolor\": \"white\", \"ticks\": \"\"}, \"bgcolor\": \"#E5ECF6\", \"radialaxis\": {\"gridcolor\": \"white\", \"linecolor\": \"white\", \"ticks\": \"\"}}, \"scene\": {\"xaxis\": {\"backgroundcolor\": \"#E5ECF6\", \"gridcolor\": \"white\", \"gridwidth\": 2, \"linecolor\": \"white\", \"showbackground\": true, \"ticks\": \"\", \"zerolinecolor\": \"white\"}, \"yaxis\": {\"backgroundcolor\": \"#E5ECF6\", \"gridcolor\": \"white\", \"gridwidth\": 2, \"linecolor\": \"white\", \"showbackground\": true, \"ticks\": \"\", \"zerolinecolor\": \"white\"}, \"zaxis\": {\"backgroundcolor\": \"#E5ECF6\", \"gridcolor\": \"white\", \"gridwidth\": 2, \"linecolor\": \"white\", \"showbackground\": true, \"ticks\": \"\", \"zerolinecolor\": \"white\"}}, \"shapedefaults\": {\"line\": {\"color\": \"#2a3f5f\"}}, \"ternary\": {\"aaxis\": {\"gridcolor\": \"white\", \"linecolor\": \"white\", \"ticks\": \"\"}, \"baxis\": {\"gridcolor\": \"white\", \"linecolor\": \"white\", \"ticks\": \"\"}, \"bgcolor\": \"#E5ECF6\", \"caxis\": {\"gridcolor\": \"white\", \"linecolor\": \"white\", \"ticks\": \"\"}}, \"title\": {\"x\": 0.05}, \"xaxis\": {\"automargin\": true, \"gridcolor\": \"white\", \"linecolor\": \"white\", \"ticks\": \"\", \"title\": {\"standoff\": 15}, \"zerolinecolor\": \"white\", \"zerolinewidth\": 2}, \"yaxis\": {\"automargin\": true, \"gridcolor\": \"white\", \"linecolor\": \"white\", \"ticks\": \"\", \"title\": {\"standoff\": 15}, \"zerolinecolor\": \"white\", \"zerolinewidth\": 2}}}, \"title\": {\"text\": \"A Figure Displayed with fig.show()\"}},                        {\"responsive\": true}                    ).then(function(){\n                            \nvar gd = document.getElementById('29a9dcb7-3f5a-4ec1-8aa6-cd1d92c2efb7');\nvar x = new MutationObserver(function (mutations, observer) {{\n        var display = window.getComputedStyle(gd).display;\n        if (!display || display === 'none') {{\n            console.log([gd, 'removed!']);\n            Plotly.purge(gd);\n            observer.disconnect();\n        }}\n}});\n\n// Listen for the removal of the full notebook cells\nvar notebookContainer = gd.closest('#notebook-container');\nif (notebookContainer) {{\n    x.observe(notebookContainer, {childList: true});\n}}\n\n// Listen for the clearing of the current output cell\nvar outputEl = gd.closest('.output');\nif (outputEl) {{\n    x.observe(outputEl, {childList: true});\n}}\n\n                        })                };                });            </script>        </div>"
     },
     "metadata": {}
    }
   ],
   "source": [
    "fig = go.Figure(\n",
    "    data=[go.Bar(y=[2, 1, 3])],\n",
    "    layout_title_text=\"A Figure Displayed with fig.show()\"tsd\n",
    ")\n",
    "fig.show()"
   ]
  },
  {
   "cell_type": "code",
   "execution_count": 7,
   "metadata": {},
   "outputs": [
    {
     "output_type": "display_data",
     "data": {
      "application/vnd.plotly.v1+json": {
       "config": {
        "plotlyServerURL": "https://plot.ly"
       },
       "data": [
        {
         "marker": {
          "color": [
           0.9501761192470797,
           0.5566531881951564,
           0.9156063497662745,
           0.6415662089463375,
           0.39000771414124624,
           0.48599066709690975,
           0.6043104829199732,
           0.5495479215085626,
           0.9261814267064536,
           0.9187334356336061,
           0.3948756129235549,
           0.9632625284407118,
           0.17395566668046436,
           0.12632951943963733,
           0.13507915804673132,
           0.5056621656768967,
           0.021524805274197978,
           0.947970211217681,
           0.8271154711707325,
           0.015018980742122379,
           0.17619625557505525,
           0.332063574366837,
           0.1309968448109169,
           0.8094906921265821,
           0.34473665268329345,
           0.9401074823333672,
           0.58201417994708,
           0.8788319844118441,
           0.8447344453922219,
           0.9053923187086492,
           0.45988026581680697,
           0.5463468160203733,
           0.7986035911520394,
           0.28571885173414757,
           0.4902535226199277,
           0.5991103076458784,
           0.015533275550835723,
           0.5934814081966372,
           0.4336763489894583,
           0.8073605288848414,
           0.31524480309537295,
           0.8928887085251513,
           0.5778572152845355,
           0.18401020162746506,
           0.7879292338255043,
           0.6120311770449339,
           0.053909272073752956,
           0.4201936800011322,
           0.6790688365654296,
           0.9186017779775258,
           0.00040202489135743313,
           0.9767591490310596,
           0.37658031474577447,
           0.9737835383583225,
           0.604716100974053,
           0.828845807980693,
           0.5747115047081023,
           0.6280761983073504,
           0.28557628169569393,
           0.586833340656083,
           0.7500217637026599,
           0.8583138364290424,
           0.7550821884676802,
           0.698057248447303,
           0.8644794300545998,
           0.32268099683674645,
           0.6707887907875872,
           0.45087393641334916,
           0.3821027520315172,
           0.4108113499221856,
           0.4014795834695406,
           0.3173839459582769,
           0.6219193679203014,
           0.43024727082126435,
           0.9738020779272523,
           0.6778008914343111,
           0.19856988842711087,
           0.4267010093480328,
           0.343346239774423,
           0.7976388039585666,
           0.8799982885634318,
           0.903841955826372,
           0.6627198123752622,
           0.2702082620297578,
           0.25236670150458973,
           0.8548979426974024,
           0.5277146463087466,
           0.8021610840045981,
           0.5724885171916063,
           0.7331425252875111,
           0.5190116274640558,
           0.770883910501888,
           0.5688579907047155,
           0.4657098785919809,
           0.3426889079532818,
           0.06820934841670412,
           0.37792417932809985,
           0.07962607769825236,
           0.982817113730445,
           0.18161285133076377
          ],
          "colorscale": [
           [
            0,
            "#440154"
           ],
           [
            0.1111111111111111,
            "#482878"
           ],
           [
            0.2222222222222222,
            "#3e4989"
           ],
           [
            0.3333333333333333,
            "#31688e"
           ],
           [
            0.4444444444444444,
            "#26828e"
           ],
           [
            0.5555555555555556,
            "#1f9e89"
           ],
           [
            0.6666666666666666,
            "#35b779"
           ],
           [
            0.7777777777777778,
            "#6ece58"
           ],
           [
            0.8888888888888888,
            "#b5de2b"
           ],
           [
            1,
            "#fde725"
           ]
          ],
          "opacity": 0.6,
          "size": [
           24.355760931616192,
           26.248849348676945,
           20.652397571578298,
           17.08483238236127,
           4.829143104468264,
           14.006400682899189,
           10.35516153465645,
           6.7511987344225375,
           17.775356062973902,
           9.368095131057508,
           27.48916660405052,
           27.28906574854671,
           7.713548813465886,
           3.3267390223208757,
           5.788881960573385,
           14.987525120366582,
           21.85757003923789,
           6.245833152263744,
           7.441006751316922,
           25.55015624809101,
           12.47546154802582,
           18.500552014657085,
           7.009984177177502,
           3.059017782773923,
           15.475710509055894,
           14.31422961149347,
           4.580149322794897,
           18.654186952212466,
           16.320303564418143,
           19.62412040912233,
           4.336366203739795,
           22.545834514057315,
           6.66147419399768,
           15.58055473098099,
           23.558880846648567,
           0.6699128397541854,
           9.730873791785594,
           26.18767129200333,
           25.341288228062087,
           16.15321777783631,
           25.99824822499539,
           28.494179740608796,
           24.79220992888024,
           25.62346331509616,
           2.9623020546104506,
           19.53912997022973,
           21.105509644579588,
           18.30722437939889,
           23.988457852080842,
           1.0371365961490275,
           23.1071620366494,
           21.95185802218581,
           7.7909517989505925,
           7.712078964664401,
           18.969099522903832,
           10.358923847732447,
           23.897660340218625,
           13.384386960103718,
           23.482482443525157,
           29.71415350871522,
           9.007450186017001,
           4.290174847742981,
           27.039253090478216,
           16.2467813666212,
           29.242211125652467,
           19.098132000056918,
           29.81739073831437,
           16.38212412428855,
           15.792778017165638,
           4.062837092165097,
           10.671155129516434,
           0.7865570188911986,
           4.811855385589473,
           22.36911578122488,
           0.9119906978636649,
           10.99629291731233,
           25.870387585141323,
           20.780331525220628,
           20.728264261985057,
           5.659104028659327,
           13.2571284224527,
           17.447322220328736,
           29.692551229911157,
           6.1171867569936555,
           7.431987052870646,
           7.865192513187358,
           22.505172398939784,
           13.709259823070784,
           1.7078831523328497,
           15.255487218307188,
           6.358804939310279,
           23.958127342806307,
           8.919941445218168,
           0.8281803586351089,
           17.80297348393863,
           25.315212867935664,
           11.430483721866425,
           22.495749321784302,
           15.334244348913845,
           16.22855414886566
          ]
         },
         "mode": "markers",
         "type": "scatter",
         "x": [
          0.417022004702574,
          0.7203244934421581,
          0.00011437481734488664,
          0.30233257263183977,
          0.14675589081711304,
          0.0923385947687978,
          0.1862602113776709,
          0.34556072704304774,
          0.39676747423066994,
          0.538816734003357,
          0.4191945144032948,
          0.6852195003967595,
          0.20445224973151743,
          0.8781174363909454,
          0.027387593197926163,
          0.6704675101784022,
          0.41730480236712697,
          0.5586898284457517,
          0.14038693859523377,
          0.1981014890848788,
          0.8007445686755367,
          0.9682615757193975,
          0.31342417815924284,
          0.6923226156693141,
          0.8763891522960383,
          0.8946066635038473,
          0.08504421136977791,
          0.03905478323288236,
          0.1698304195645689,
          0.8781425034294131,
          0.0983468338330501,
          0.42110762500505217,
          0.9578895301505019,
          0.5331652849730171,
          0.6918771139504734,
          0.31551563100606295,
          0.6865009276815837,
          0.8346256718973729,
          0.018288277344191806,
          0.7501443149449675,
          0.9888610889064947,
          0.7481656543798394,
          0.2804439920644052,
          0.7892793284514885,
          0.10322600657764203,
          0.44789352617590517,
          0.9085955030930956,
          0.2936141483736795,
          0.28777533858634874,
          0.13002857211827767,
          0.019366957870297075,
          0.678835532939891,
          0.21162811600005904,
          0.2655466593722262,
          0.4915731592803383,
          0.053362545117080384,
          0.5741176054920131,
          0.14672857490581015,
          0.5893055369032842,
          0.6997583600209312,
          0.10233442882782584,
          0.4140559878195683,
          0.6944001577277451,
          0.41417926952690265,
          0.04995345894608716,
          0.5358964059155116,
          0.6637946452197888,
          0.5148891120583086,
          0.9445947559908133,
          0.5865550405019929,
          0.9034019152878835,
          0.13747470414623753,
          0.13927634725075855,
          0.8073912887095238,
          0.3976768369855336,
          0.16535419711693278,
          0.9275085803960339,
          0.34776585974550656,
          0.7508121031361555,
          0.7259979853504515,
          0.8833060912058098,
          0.6236722070556089,
          0.7509424340273372,
          0.34889834197784253,
          0.2699278917650261,
          0.8958862181960668,
          0.4280911898712949,
          0.9648400471483856,
          0.6634414978184481,
          0.6216957202091218,
          0.11474597295337519,
          0.9494892587070712,
          0.4499121334799405,
          0.5783896143871318,
          0.40813680276128117,
          0.2370269802430277,
          0.9033795205622538,
          0.5736794866722859,
          0.00287032703115897,
          0.6171449136207239
         ],
         "y": [
          0.32664490177209615,
          0.5270581022576093,
          0.8859420993107745,
          0.35726976000249977,
          0.9085351509197992,
          0.6233601157918027,
          0.015821242846556283,
          0.9294372337437613,
          0.690896917516924,
          0.9973228504514805,
          0.17234050834532855,
          0.13713574962887776,
          0.9325954630371636,
          0.6968181614899002,
          0.06600017272206249,
          0.7554630526024664,
          0.7538761884612464,
          0.9230245355464833,
          0.7115247586284718,
          0.1242709619721647,
          0.01988013383979559,
          0.026210986877719278,
          0.028306488020794607,
          0.2462110676030459,
          0.860027948682888,
          0.5388310643416528,
          0.5528219786857659,
          0.8420308923596057,
          0.12417331511991114,
          0.2791836790111395,
          0.5857592714582879,
          0.9695957483196745,
          0.56103021925571,
          0.01864728937294302,
          0.8006326726806163,
          0.23297427384102043,
          0.8071051956187791,
          0.38786064406417176,
          0.8635418545594287,
          0.7471216427371846,
          0.5562402339904189,
          0.13645522566068502,
          0.05991768951221166,
          0.12134345574073735,
          0.044551878544761725,
          0.1074941291060929,
          0.2257093386078547,
          0.7129889803826767,
          0.5597169820541424,
          0.012555980159115854,
          0.07197427968948678,
          0.967276330000272,
          0.5681004619199421,
          0.20329323466099047,
          0.2523257445703234,
          0.7438258540750929,
          0.1954294811093188,
          0.5813589272732578,
          0.9700199890883123,
          0.8468288014900353,
          0.23984775914758616,
          0.49376971426872995,
          0.6199557183813798,
          0.8289808995501787,
          0.15679139464608427,
          0.018576202177409518,
          0.07002214371922233,
          0.4863451109370318,
          0.6063294616533303,
          0.5688514370864813,
          0.31736240932216075,
          0.9886161544124489,
          0.5797452192457969,
          0.3801411726235504,
          0.5509482191178968,
          0.7453344309065021,
          0.6692328934531846,
          0.2649195576628094,
          0.06633483442844157,
          0.3700841979141063,
          0.6297175070215645,
          0.2101740099148396,
          0.7527555537388139,
          0.06653648135411494,
          0.26031509857854096,
          0.8047545637433454,
          0.19343428262332774,
          0.6394608808799401,
          0.5246703091237337,
          0.9248079703993507,
          0.263296770487111,
          0.06596109068402378,
          0.7350659632886695,
          0.7721780295432468,
          0.907815852503524,
          0.9319720691968373,
          0.013951572975597015,
          0.2343620861214205,
          0.6167783570016576,
          0.9490163206876164
         ]
        }
       ],
       "layout": {
        "template": {
         "data": {
          "bar": [
           {
            "error_x": {
             "color": "#2a3f5f"
            },
            "error_y": {
             "color": "#2a3f5f"
            },
            "marker": {
             "line": {
              "color": "#E5ECF6",
              "width": 0.5
             }
            },
            "type": "bar"
           }
          ],
          "barpolar": [
           {
            "marker": {
             "line": {
              "color": "#E5ECF6",
              "width": 0.5
             }
            },
            "type": "barpolar"
           }
          ],
          "carpet": [
           {
            "aaxis": {
             "endlinecolor": "#2a3f5f",
             "gridcolor": "white",
             "linecolor": "white",
             "minorgridcolor": "white",
             "startlinecolor": "#2a3f5f"
            },
            "baxis": {
             "endlinecolor": "#2a3f5f",
             "gridcolor": "white",
             "linecolor": "white",
             "minorgridcolor": "white",
             "startlinecolor": "#2a3f5f"
            },
            "type": "carpet"
           }
          ],
          "choropleth": [
           {
            "colorbar": {
             "outlinewidth": 0,
             "ticks": ""
            },
            "type": "choropleth"
           }
          ],
          "contour": [
           {
            "colorbar": {
             "outlinewidth": 0,
             "ticks": ""
            },
            "colorscale": [
             [
              0,
              "#0d0887"
             ],
             [
              0.1111111111111111,
              "#46039f"
             ],
             [
              0.2222222222222222,
              "#7201a8"
             ],
             [
              0.3333333333333333,
              "#9c179e"
             ],
             [
              0.4444444444444444,
              "#bd3786"
             ],
             [
              0.5555555555555556,
              "#d8576b"
             ],
             [
              0.6666666666666666,
              "#ed7953"
             ],
             [
              0.7777777777777778,
              "#fb9f3a"
             ],
             [
              0.8888888888888888,
              "#fdca26"
             ],
             [
              1,
              "#f0f921"
             ]
            ],
            "type": "contour"
           }
          ],
          "contourcarpet": [
           {
            "colorbar": {
             "outlinewidth": 0,
             "ticks": ""
            },
            "type": "contourcarpet"
           }
          ],
          "heatmap": [
           {
            "colorbar": {
             "outlinewidth": 0,
             "ticks": ""
            },
            "colorscale": [
             [
              0,
              "#0d0887"
             ],
             [
              0.1111111111111111,
              "#46039f"
             ],
             [
              0.2222222222222222,
              "#7201a8"
             ],
             [
              0.3333333333333333,
              "#9c179e"
             ],
             [
              0.4444444444444444,
              "#bd3786"
             ],
             [
              0.5555555555555556,
              "#d8576b"
             ],
             [
              0.6666666666666666,
              "#ed7953"
             ],
             [
              0.7777777777777778,
              "#fb9f3a"
             ],
             [
              0.8888888888888888,
              "#fdca26"
             ],
             [
              1,
              "#f0f921"
             ]
            ],
            "type": "heatmap"
           }
          ],
          "heatmapgl": [
           {
            "colorbar": {
             "outlinewidth": 0,
             "ticks": ""
            },
            "colorscale": [
             [
              0,
              "#0d0887"
             ],
             [
              0.1111111111111111,
              "#46039f"
             ],
             [
              0.2222222222222222,
              "#7201a8"
             ],
             [
              0.3333333333333333,
              "#9c179e"
             ],
             [
              0.4444444444444444,
              "#bd3786"
             ],
             [
              0.5555555555555556,
              "#d8576b"
             ],
             [
              0.6666666666666666,
              "#ed7953"
             ],
             [
              0.7777777777777778,
              "#fb9f3a"
             ],
             [
              0.8888888888888888,
              "#fdca26"
             ],
             [
              1,
              "#f0f921"
             ]
            ],
            "type": "heatmapgl"
           }
          ],
          "histogram": [
           {
            "marker": {
             "colorbar": {
              "outlinewidth": 0,
              "ticks": ""
             }
            },
            "type": "histogram"
           }
          ],
          "histogram2d": [
           {
            "colorbar": {
             "outlinewidth": 0,
             "ticks": ""
            },
            "colorscale": [
             [
              0,
              "#0d0887"
             ],
             [
              0.1111111111111111,
              "#46039f"
             ],
             [
              0.2222222222222222,
              "#7201a8"
             ],
             [
              0.3333333333333333,
              "#9c179e"
             ],
             [
              0.4444444444444444,
              "#bd3786"
             ],
             [
              0.5555555555555556,
              "#d8576b"
             ],
             [
              0.6666666666666666,
              "#ed7953"
             ],
             [
              0.7777777777777778,
              "#fb9f3a"
             ],
             [
              0.8888888888888888,
              "#fdca26"
             ],
             [
              1,
              "#f0f921"
             ]
            ],
            "type": "histogram2d"
           }
          ],
          "histogram2dcontour": [
           {
            "colorbar": {
             "outlinewidth": 0,
             "ticks": ""
            },
            "colorscale": [
             [
              0,
              "#0d0887"
             ],
             [
              0.1111111111111111,
              "#46039f"
             ],
             [
              0.2222222222222222,
              "#7201a8"
             ],
             [
              0.3333333333333333,
              "#9c179e"
             ],
             [
              0.4444444444444444,
              "#bd3786"
             ],
             [
              0.5555555555555556,
              "#d8576b"
             ],
             [
              0.6666666666666666,
              "#ed7953"
             ],
             [
              0.7777777777777778,
              "#fb9f3a"
             ],
             [
              0.8888888888888888,
              "#fdca26"
             ],
             [
              1,
              "#f0f921"
             ]
            ],
            "type": "histogram2dcontour"
           }
          ],
          "mesh3d": [
           {
            "colorbar": {
             "outlinewidth": 0,
             "ticks": ""
            },
            "type": "mesh3d"
           }
          ],
          "parcoords": [
           {
            "line": {
             "colorbar": {
              "outlinewidth": 0,
              "ticks": ""
             }
            },
            "type": "parcoords"
           }
          ],
          "pie": [
           {
            "automargin": true,
            "type": "pie"
           }
          ],
          "scatter": [
           {
            "marker": {
             "colorbar": {
              "outlinewidth": 0,
              "ticks": ""
             }
            },
            "type": "scatter"
           }
          ],
          "scatter3d": [
           {
            "line": {
             "colorbar": {
              "outlinewidth": 0,
              "ticks": ""
             }
            },
            "marker": {
             "colorbar": {
              "outlinewidth": 0,
              "ticks": ""
             }
            },
            "type": "scatter3d"
           }
          ],
          "scattercarpet": [
           {
            "marker": {
             "colorbar": {
              "outlinewidth": 0,
              "ticks": ""
             }
            },
            "type": "scattercarpet"
           }
          ],
          "scattergeo": [
           {
            "marker": {
             "colorbar": {
              "outlinewidth": 0,
              "ticks": ""
             }
            },
            "type": "scattergeo"
           }
          ],
          "scattergl": [
           {
            "marker": {
             "colorbar": {
              "outlinewidth": 0,
              "ticks": ""
             }
            },
            "type": "scattergl"
           }
          ],
          "scattermapbox": [
           {
            "marker": {
             "colorbar": {
              "outlinewidth": 0,
              "ticks": ""
             }
            },
            "type": "scattermapbox"
           }
          ],
          "scatterpolar": [
           {
            "marker": {
             "colorbar": {
              "outlinewidth": 0,
              "ticks": ""
             }
            },
            "type": "scatterpolar"
           }
          ],
          "scatterpolargl": [
           {
            "marker": {
             "colorbar": {
              "outlinewidth": 0,
              "ticks": ""
             }
            },
            "type": "scatterpolargl"
           }
          ],
          "scatterternary": [
           {
            "marker": {
             "colorbar": {
              "outlinewidth": 0,
              "ticks": ""
             }
            },
            "type": "scatterternary"
           }
          ],
          "surface": [
           {
            "colorbar": {
             "outlinewidth": 0,
             "ticks": ""
            },
            "colorscale": [
             [
              0,
              "#0d0887"
             ],
             [
              0.1111111111111111,
              "#46039f"
             ],
             [
              0.2222222222222222,
              "#7201a8"
             ],
             [
              0.3333333333333333,
              "#9c179e"
             ],
             [
              0.4444444444444444,
              "#bd3786"
             ],
             [
              0.5555555555555556,
              "#d8576b"
             ],
             [
              0.6666666666666666,
              "#ed7953"
             ],
             [
              0.7777777777777778,
              "#fb9f3a"
             ],
             [
              0.8888888888888888,
              "#fdca26"
             ],
             [
              1,
              "#f0f921"
             ]
            ],
            "type": "surface"
           }
          ],
          "table": [
           {
            "cells": {
             "fill": {
              "color": "#EBF0F8"
             },
             "line": {
              "color": "white"
             }
            },
            "header": {
             "fill": {
              "color": "#C8D4E3"
             },
             "line": {
              "color": "white"
             }
            },
            "type": "table"
           }
          ]
         },
         "layout": {
          "annotationdefaults": {
           "arrowcolor": "#2a3f5f",
           "arrowhead": 0,
           "arrowwidth": 1
          },
          "autotypenumbers": "strict",
          "coloraxis": {
           "colorbar": {
            "outlinewidth": 0,
            "ticks": ""
           }
          },
          "colorscale": {
           "diverging": [
            [
             0,
             "#8e0152"
            ],
            [
             0.1,
             "#c51b7d"
            ],
            [
             0.2,
             "#de77ae"
            ],
            [
             0.3,
             "#f1b6da"
            ],
            [
             0.4,
             "#fde0ef"
            ],
            [
             0.5,
             "#f7f7f7"
            ],
            [
             0.6,
             "#e6f5d0"
            ],
            [
             0.7,
             "#b8e186"
            ],
            [
             0.8,
             "#7fbc41"
            ],
            [
             0.9,
             "#4d9221"
            ],
            [
             1,
             "#276419"
            ]
           ],
           "sequential": [
            [
             0,
             "#0d0887"
            ],
            [
             0.1111111111111111,
             "#46039f"
            ],
            [
             0.2222222222222222,
             "#7201a8"
            ],
            [
             0.3333333333333333,
             "#9c179e"
            ],
            [
             0.4444444444444444,
             "#bd3786"
            ],
            [
             0.5555555555555556,
             "#d8576b"
            ],
            [
             0.6666666666666666,
             "#ed7953"
            ],
            [
             0.7777777777777778,
             "#fb9f3a"
            ],
            [
             0.8888888888888888,
             "#fdca26"
            ],
            [
             1,
             "#f0f921"
            ]
           ],
           "sequentialminus": [
            [
             0,
             "#0d0887"
            ],
            [
             0.1111111111111111,
             "#46039f"
            ],
            [
             0.2222222222222222,
             "#7201a8"
            ],
            [
             0.3333333333333333,
             "#9c179e"
            ],
            [
             0.4444444444444444,
             "#bd3786"
            ],
            [
             0.5555555555555556,
             "#d8576b"
            ],
            [
             0.6666666666666666,
             "#ed7953"
            ],
            [
             0.7777777777777778,
             "#fb9f3a"
            ],
            [
             0.8888888888888888,
             "#fdca26"
            ],
            [
             1,
             "#f0f921"
            ]
           ]
          },
          "colorway": [
           "#636efa",
           "#EF553B",
           "#00cc96",
           "#ab63fa",
           "#FFA15A",
           "#19d3f3",
           "#FF6692",
           "#B6E880",
           "#FF97FF",
           "#FECB52"
          ],
          "font": {
           "color": "#2a3f5f"
          },
          "geo": {
           "bgcolor": "white",
           "lakecolor": "white",
           "landcolor": "#E5ECF6",
           "showlakes": true,
           "showland": true,
           "subunitcolor": "white"
          },
          "hoverlabel": {
           "align": "left"
          },
          "hovermode": "closest",
          "mapbox": {
           "style": "light"
          },
          "paper_bgcolor": "white",
          "plot_bgcolor": "#E5ECF6",
          "polar": {
           "angularaxis": {
            "gridcolor": "white",
            "linecolor": "white",
            "ticks": ""
           },
           "bgcolor": "#E5ECF6",
           "radialaxis": {
            "gridcolor": "white",
            "linecolor": "white",
            "ticks": ""
           }
          },
          "scene": {
           "xaxis": {
            "backgroundcolor": "#E5ECF6",
            "gridcolor": "white",
            "gridwidth": 2,
            "linecolor": "white",
            "showbackground": true,
            "ticks": "",
            "zerolinecolor": "white"
           },
           "yaxis": {
            "backgroundcolor": "#E5ECF6",
            "gridcolor": "white",
            "gridwidth": 2,
            "linecolor": "white",
            "showbackground": true,
            "ticks": "",
            "zerolinecolor": "white"
           },
           "zaxis": {
            "backgroundcolor": "#E5ECF6",
            "gridcolor": "white",
            "gridwidth": 2,
            "linecolor": "white",
            "showbackground": true,
            "ticks": "",
            "zerolinecolor": "white"
           }
          },
          "shapedefaults": {
           "line": {
            "color": "#2a3f5f"
           }
          },
          "ternary": {
           "aaxis": {
            "gridcolor": "white",
            "linecolor": "white",
            "ticks": ""
           },
           "baxis": {
            "gridcolor": "white",
            "linecolor": "white",
            "ticks": ""
           },
           "bgcolor": "#E5ECF6",
           "caxis": {
            "gridcolor": "white",
            "linecolor": "white",
            "ticks": ""
           }
          },
          "title": {
           "x": 0.05
          },
          "xaxis": {
           "automargin": true,
           "gridcolor": "white",
           "linecolor": "white",
           "ticks": "",
           "title": {
            "standoff": 15
           },
           "zerolinecolor": "white",
           "zerolinewidth": 2
          },
          "yaxis": {
           "automargin": true,
           "gridcolor": "white",
           "linecolor": "white",
           "ticks": "",
           "title": {
            "standoff": 15
           },
           "zerolinecolor": "white",
           "zerolinewidth": 2
          }
         }
        }
       }
      },
      "text/html": "<div>                            <div id=\"e7897424-6ded-433c-9f3a-562db079f67d\" class=\"plotly-graph-div\" style=\"height:525px; width:100%;\"></div>            <script type=\"text/javascript\">                require([\"plotly\"], function(Plotly) {                    window.PLOTLYENV=window.PLOTLYENV || {};                                    if (document.getElementById(\"e7897424-6ded-433c-9f3a-562db079f67d\")) {                    Plotly.newPlot(                        \"e7897424-6ded-433c-9f3a-562db079f67d\",                        [{\"marker\": {\"color\": [0.9501761192470797, 0.5566531881951564, 0.9156063497662745, 0.6415662089463375, 0.39000771414124624, 0.48599066709690975, 0.6043104829199732, 0.5495479215085626, 0.9261814267064536, 0.9187334356336061, 0.3948756129235549, 0.9632625284407118, 0.17395566668046436, 0.12632951943963733, 0.13507915804673132, 0.5056621656768967, 0.021524805274197978, 0.947970211217681, 0.8271154711707325, 0.015018980742122379, 0.17619625557505525, 0.332063574366837, 0.1309968448109169, 0.8094906921265821, 0.34473665268329345, 0.9401074823333672, 0.58201417994708, 0.8788319844118441, 0.8447344453922219, 0.9053923187086492, 0.45988026581680697, 0.5463468160203733, 0.7986035911520394, 0.28571885173414757, 0.4902535226199277, 0.5991103076458784, 0.015533275550835723, 0.5934814081966372, 0.4336763489894583, 0.8073605288848414, 0.31524480309537295, 0.8928887085251513, 0.5778572152845355, 0.18401020162746506, 0.7879292338255043, 0.6120311770449339, 0.053909272073752956, 0.4201936800011322, 0.6790688365654296, 0.9186017779775258, 0.00040202489135743313, 0.9767591490310596, 0.37658031474577447, 0.9737835383583225, 0.604716100974053, 0.828845807980693, 0.5747115047081023, 0.6280761983073504, 0.28557628169569393, 0.586833340656083, 0.7500217637026599, 0.8583138364290424, 0.7550821884676802, 0.698057248447303, 0.8644794300545998, 0.32268099683674645, 0.6707887907875872, 0.45087393641334916, 0.3821027520315172, 0.4108113499221856, 0.4014795834695406, 0.3173839459582769, 0.6219193679203014, 0.43024727082126435, 0.9738020779272523, 0.6778008914343111, 0.19856988842711087, 0.4267010093480328, 0.343346239774423, 0.7976388039585666, 0.8799982885634318, 0.903841955826372, 0.6627198123752622, 0.2702082620297578, 0.25236670150458973, 0.8548979426974024, 0.5277146463087466, 0.8021610840045981, 0.5724885171916063, 0.7331425252875111, 0.5190116274640558, 0.770883910501888, 0.5688579907047155, 0.4657098785919809, 0.3426889079532818, 0.06820934841670412, 0.37792417932809985, 0.07962607769825236, 0.982817113730445, 0.18161285133076377], \"colorscale\": [[0.0, \"#440154\"], [0.1111111111111111, \"#482878\"], [0.2222222222222222, \"#3e4989\"], [0.3333333333333333, \"#31688e\"], [0.4444444444444444, \"#26828e\"], [0.5555555555555556, \"#1f9e89\"], [0.6666666666666666, \"#35b779\"], [0.7777777777777778, \"#6ece58\"], [0.8888888888888888, \"#b5de2b\"], [1.0, \"#fde725\"]], \"opacity\": 0.6, \"size\": [24.355760931616192, 26.248849348676945, 20.652397571578298, 17.08483238236127, 4.829143104468264, 14.006400682899189, 10.35516153465645, 6.7511987344225375, 17.775356062973902, 9.368095131057508, 27.48916660405052, 27.28906574854671, 7.713548813465886, 3.3267390223208757, 5.788881960573385, 14.987525120366582, 21.85757003923789, 6.245833152263744, 7.441006751316922, 25.55015624809101, 12.47546154802582, 18.500552014657085, 7.009984177177502, 3.059017782773923, 15.475710509055894, 14.31422961149347, 4.580149322794897, 18.654186952212466, 16.320303564418143, 19.62412040912233, 4.336366203739795, 22.545834514057315, 6.66147419399768, 15.58055473098099, 23.558880846648567, 0.6699128397541854, 9.730873791785594, 26.18767129200333, 25.341288228062087, 16.15321777783631, 25.99824822499539, 28.494179740608796, 24.79220992888024, 25.62346331509616, 2.9623020546104506, 19.53912997022973, 21.105509644579588, 18.30722437939889, 23.988457852080842, 1.0371365961490275, 23.1071620366494, 21.95185802218581, 7.7909517989505925, 7.712078964664401, 18.969099522903832, 10.358923847732447, 23.897660340218625, 13.384386960103718, 23.482482443525157, 29.71415350871522, 9.007450186017001, 4.290174847742981, 27.039253090478216, 16.2467813666212, 29.242211125652467, 19.098132000056918, 29.81739073831437, 16.38212412428855, 15.792778017165638, 4.062837092165097, 10.671155129516434, 0.7865570188911986, 4.811855385589473, 22.36911578122488, 0.9119906978636649, 10.99629291731233, 25.870387585141323, 20.780331525220628, 20.728264261985057, 5.659104028659327, 13.2571284224527, 17.447322220328736, 29.692551229911157, 6.1171867569936555, 7.431987052870646, 7.865192513187358, 22.505172398939784, 13.709259823070784, 1.7078831523328497, 15.255487218307188, 6.358804939310279, 23.958127342806307, 8.919941445218168, 0.8281803586351089, 17.80297348393863, 25.315212867935664, 11.430483721866425, 22.495749321784302, 15.334244348913845, 16.22855414886566]}, \"mode\": \"markers\", \"type\": \"scatter\", \"x\": [0.417022004702574, 0.7203244934421581, 0.00011437481734488664, 0.30233257263183977, 0.14675589081711304, 0.0923385947687978, 0.1862602113776709, 0.34556072704304774, 0.39676747423066994, 0.538816734003357, 0.4191945144032948, 0.6852195003967595, 0.20445224973151743, 0.8781174363909454, 0.027387593197926163, 0.6704675101784022, 0.41730480236712697, 0.5586898284457517, 0.14038693859523377, 0.1981014890848788, 0.8007445686755367, 0.9682615757193975, 0.31342417815924284, 0.6923226156693141, 0.8763891522960383, 0.8946066635038473, 0.08504421136977791, 0.03905478323288236, 0.1698304195645689, 0.8781425034294131, 0.0983468338330501, 0.42110762500505217, 0.9578895301505019, 0.5331652849730171, 0.6918771139504734, 0.31551563100606295, 0.6865009276815837, 0.8346256718973729, 0.018288277344191806, 0.7501443149449675, 0.9888610889064947, 0.7481656543798394, 0.2804439920644052, 0.7892793284514885, 0.10322600657764203, 0.44789352617590517, 0.9085955030930956, 0.2936141483736795, 0.28777533858634874, 0.13002857211827767, 0.019366957870297075, 0.678835532939891, 0.21162811600005904, 0.2655466593722262, 0.4915731592803383, 0.053362545117080384, 0.5741176054920131, 0.14672857490581015, 0.5893055369032842, 0.6997583600209312, 0.10233442882782584, 0.4140559878195683, 0.6944001577277451, 0.41417926952690265, 0.04995345894608716, 0.5358964059155116, 0.6637946452197888, 0.5148891120583086, 0.9445947559908133, 0.5865550405019929, 0.9034019152878835, 0.13747470414623753, 0.13927634725075855, 0.8073912887095238, 0.3976768369855336, 0.16535419711693278, 0.9275085803960339, 0.34776585974550656, 0.7508121031361555, 0.7259979853504515, 0.8833060912058098, 0.6236722070556089, 0.7509424340273372, 0.34889834197784253, 0.2699278917650261, 0.8958862181960668, 0.4280911898712949, 0.9648400471483856, 0.6634414978184481, 0.6216957202091218, 0.11474597295337519, 0.9494892587070712, 0.4499121334799405, 0.5783896143871318, 0.40813680276128117, 0.2370269802430277, 0.9033795205622538, 0.5736794866722859, 0.00287032703115897, 0.6171449136207239], \"y\": [0.32664490177209615, 0.5270581022576093, 0.8859420993107745, 0.35726976000249977, 0.9085351509197992, 0.6233601157918027, 0.015821242846556283, 0.9294372337437613, 0.690896917516924, 0.9973228504514805, 0.17234050834532855, 0.13713574962887776, 0.9325954630371636, 0.6968181614899002, 0.06600017272206249, 0.7554630526024664, 0.7538761884612464, 0.9230245355464833, 0.7115247586284718, 0.1242709619721647, 0.01988013383979559, 0.026210986877719278, 0.028306488020794607, 0.2462110676030459, 0.860027948682888, 0.5388310643416528, 0.5528219786857659, 0.8420308923596057, 0.12417331511991114, 0.2791836790111395, 0.5857592714582879, 0.9695957483196745, 0.56103021925571, 0.01864728937294302, 0.8006326726806163, 0.23297427384102043, 0.8071051956187791, 0.38786064406417176, 0.8635418545594287, 0.7471216427371846, 0.5562402339904189, 0.13645522566068502, 0.05991768951221166, 0.12134345574073735, 0.044551878544761725, 0.1074941291060929, 0.2257093386078547, 0.7129889803826767, 0.5597169820541424, 0.012555980159115854, 0.07197427968948678, 0.967276330000272, 0.5681004619199421, 0.20329323466099047, 0.2523257445703234, 0.7438258540750929, 0.1954294811093188, 0.5813589272732578, 0.9700199890883123, 0.8468288014900353, 0.23984775914758616, 0.49376971426872995, 0.6199557183813798, 0.8289808995501787, 0.15679139464608427, 0.018576202177409518, 0.07002214371922233, 0.4863451109370318, 0.6063294616533303, 0.5688514370864813, 0.31736240932216075, 0.9886161544124489, 0.5797452192457969, 0.3801411726235504, 0.5509482191178968, 0.7453344309065021, 0.6692328934531846, 0.2649195576628094, 0.06633483442844157, 0.3700841979141063, 0.6297175070215645, 0.2101740099148396, 0.7527555537388139, 0.06653648135411494, 0.26031509857854096, 0.8047545637433454, 0.19343428262332774, 0.6394608808799401, 0.5246703091237337, 0.9248079703993507, 0.263296770487111, 0.06596109068402378, 0.7350659632886695, 0.7721780295432468, 0.907815852503524, 0.9319720691968373, 0.013951572975597015, 0.2343620861214205, 0.6167783570016576, 0.9490163206876164]}],                        {\"template\": {\"data\": {\"bar\": [{\"error_x\": {\"color\": \"#2a3f5f\"}, \"error_y\": {\"color\": \"#2a3f5f\"}, \"marker\": {\"line\": {\"color\": \"#E5ECF6\", \"width\": 0.5}}, \"type\": \"bar\"}], \"barpolar\": [{\"marker\": {\"line\": {\"color\": \"#E5ECF6\", \"width\": 0.5}}, \"type\": \"barpolar\"}], \"carpet\": [{\"aaxis\": {\"endlinecolor\": \"#2a3f5f\", \"gridcolor\": \"white\", \"linecolor\": \"white\", \"minorgridcolor\": \"white\", \"startlinecolor\": \"#2a3f5f\"}, \"baxis\": {\"endlinecolor\": \"#2a3f5f\", \"gridcolor\": \"white\", \"linecolor\": \"white\", \"minorgridcolor\": \"white\", \"startlinecolor\": \"#2a3f5f\"}, \"type\": \"carpet\"}], \"choropleth\": [{\"colorbar\": {\"outlinewidth\": 0, \"ticks\": \"\"}, \"type\": \"choropleth\"}], \"contour\": [{\"colorbar\": {\"outlinewidth\": 0, \"ticks\": \"\"}, \"colorscale\": [[0.0, \"#0d0887\"], [0.1111111111111111, \"#46039f\"], [0.2222222222222222, \"#7201a8\"], [0.3333333333333333, \"#9c179e\"], [0.4444444444444444, \"#bd3786\"], [0.5555555555555556, \"#d8576b\"], [0.6666666666666666, \"#ed7953\"], [0.7777777777777778, \"#fb9f3a\"], [0.8888888888888888, \"#fdca26\"], [1.0, \"#f0f921\"]], \"type\": \"contour\"}], \"contourcarpet\": [{\"colorbar\": {\"outlinewidth\": 0, \"ticks\": \"\"}, \"type\": \"contourcarpet\"}], \"heatmap\": [{\"colorbar\": {\"outlinewidth\": 0, \"ticks\": \"\"}, \"colorscale\": [[0.0, \"#0d0887\"], [0.1111111111111111, \"#46039f\"], [0.2222222222222222, \"#7201a8\"], [0.3333333333333333, \"#9c179e\"], [0.4444444444444444, \"#bd3786\"], [0.5555555555555556, \"#d8576b\"], [0.6666666666666666, \"#ed7953\"], [0.7777777777777778, \"#fb9f3a\"], [0.8888888888888888, \"#fdca26\"], [1.0, \"#f0f921\"]], \"type\": \"heatmap\"}], \"heatmapgl\": [{\"colorbar\": {\"outlinewidth\": 0, \"ticks\": \"\"}, \"colorscale\": [[0.0, \"#0d0887\"], [0.1111111111111111, \"#46039f\"], [0.2222222222222222, \"#7201a8\"], [0.3333333333333333, \"#9c179e\"], [0.4444444444444444, \"#bd3786\"], [0.5555555555555556, \"#d8576b\"], [0.6666666666666666, \"#ed7953\"], [0.7777777777777778, \"#fb9f3a\"], [0.8888888888888888, \"#fdca26\"], [1.0, \"#f0f921\"]], \"type\": \"heatmapgl\"}], \"histogram\": [{\"marker\": {\"colorbar\": {\"outlinewidth\": 0, \"ticks\": \"\"}}, \"type\": \"histogram\"}], \"histogram2d\": [{\"colorbar\": {\"outlinewidth\": 0, \"ticks\": \"\"}, \"colorscale\": [[0.0, \"#0d0887\"], [0.1111111111111111, \"#46039f\"], [0.2222222222222222, \"#7201a8\"], [0.3333333333333333, \"#9c179e\"], [0.4444444444444444, \"#bd3786\"], [0.5555555555555556, \"#d8576b\"], [0.6666666666666666, \"#ed7953\"], [0.7777777777777778, \"#fb9f3a\"], [0.8888888888888888, \"#fdca26\"], [1.0, \"#f0f921\"]], \"type\": \"histogram2d\"}], \"histogram2dcontour\": [{\"colorbar\": {\"outlinewidth\": 0, \"ticks\": \"\"}, \"colorscale\": [[0.0, \"#0d0887\"], [0.1111111111111111, \"#46039f\"], [0.2222222222222222, \"#7201a8\"], [0.3333333333333333, \"#9c179e\"], [0.4444444444444444, \"#bd3786\"], [0.5555555555555556, \"#d8576b\"], [0.6666666666666666, \"#ed7953\"], [0.7777777777777778, \"#fb9f3a\"], [0.8888888888888888, \"#fdca26\"], [1.0, \"#f0f921\"]], \"type\": \"histogram2dcontour\"}], \"mesh3d\": [{\"colorbar\": {\"outlinewidth\": 0, \"ticks\": \"\"}, \"type\": \"mesh3d\"}], \"parcoords\": [{\"line\": {\"colorbar\": {\"outlinewidth\": 0, \"ticks\": \"\"}}, \"type\": \"parcoords\"}], \"pie\": [{\"automargin\": true, \"type\": \"pie\"}], \"scatter\": [{\"marker\": {\"colorbar\": {\"outlinewidth\": 0, \"ticks\": \"\"}}, \"type\": \"scatter\"}], \"scatter3d\": [{\"line\": {\"colorbar\": {\"outlinewidth\": 0, \"ticks\": \"\"}}, \"marker\": {\"colorbar\": {\"outlinewidth\": 0, \"ticks\": \"\"}}, \"type\": \"scatter3d\"}], \"scattercarpet\": [{\"marker\": {\"colorbar\": {\"outlinewidth\": 0, \"ticks\": \"\"}}, \"type\": \"scattercarpet\"}], \"scattergeo\": [{\"marker\": {\"colorbar\": {\"outlinewidth\": 0, \"ticks\": \"\"}}, \"type\": \"scattergeo\"}], \"scattergl\": [{\"marker\": {\"colorbar\": {\"outlinewidth\": 0, \"ticks\": \"\"}}, \"type\": \"scattergl\"}], \"scattermapbox\": [{\"marker\": {\"colorbar\": {\"outlinewidth\": 0, \"ticks\": \"\"}}, \"type\": \"scattermapbox\"}], \"scatterpolar\": [{\"marker\": {\"colorbar\": {\"outlinewidth\": 0, \"ticks\": \"\"}}, \"type\": \"scatterpolar\"}], \"scatterpolargl\": [{\"marker\": {\"colorbar\": {\"outlinewidth\": 0, \"ticks\": \"\"}}, \"type\": \"scatterpolargl\"}], \"scatterternary\": [{\"marker\": {\"colorbar\": {\"outlinewidth\": 0, \"ticks\": \"\"}}, \"type\": \"scatterternary\"}], \"surface\": [{\"colorbar\": {\"outlinewidth\": 0, \"ticks\": \"\"}, \"colorscale\": [[0.0, \"#0d0887\"], [0.1111111111111111, \"#46039f\"], [0.2222222222222222, \"#7201a8\"], [0.3333333333333333, \"#9c179e\"], [0.4444444444444444, \"#bd3786\"], [0.5555555555555556, \"#d8576b\"], [0.6666666666666666, \"#ed7953\"], [0.7777777777777778, \"#fb9f3a\"], [0.8888888888888888, \"#fdca26\"], [1.0, \"#f0f921\"]], \"type\": \"surface\"}], \"table\": [{\"cells\": {\"fill\": {\"color\": \"#EBF0F8\"}, \"line\": {\"color\": \"white\"}}, \"header\": {\"fill\": {\"color\": \"#C8D4E3\"}, \"line\": {\"color\": \"white\"}}, \"type\": \"table\"}]}, \"layout\": {\"annotationdefaults\": {\"arrowcolor\": \"#2a3f5f\", \"arrowhead\": 0, \"arrowwidth\": 1}, \"autotypenumbers\": \"strict\", \"coloraxis\": {\"colorbar\": {\"outlinewidth\": 0, \"ticks\": \"\"}}, \"colorscale\": {\"diverging\": [[0, \"#8e0152\"], [0.1, \"#c51b7d\"], [0.2, \"#de77ae\"], [0.3, \"#f1b6da\"], [0.4, \"#fde0ef\"], [0.5, \"#f7f7f7\"], [0.6, \"#e6f5d0\"], [0.7, \"#b8e186\"], [0.8, \"#7fbc41\"], [0.9, \"#4d9221\"], [1, \"#276419\"]], \"sequential\": [[0.0, \"#0d0887\"], [0.1111111111111111, \"#46039f\"], [0.2222222222222222, \"#7201a8\"], [0.3333333333333333, \"#9c179e\"], [0.4444444444444444, \"#bd3786\"], [0.5555555555555556, \"#d8576b\"], [0.6666666666666666, \"#ed7953\"], [0.7777777777777778, \"#fb9f3a\"], [0.8888888888888888, \"#fdca26\"], [1.0, \"#f0f921\"]], \"sequentialminus\": [[0.0, \"#0d0887\"], [0.1111111111111111, \"#46039f\"], [0.2222222222222222, \"#7201a8\"], [0.3333333333333333, \"#9c179e\"], [0.4444444444444444, \"#bd3786\"], [0.5555555555555556, \"#d8576b\"], [0.6666666666666666, \"#ed7953\"], [0.7777777777777778, \"#fb9f3a\"], [0.8888888888888888, \"#fdca26\"], [1.0, \"#f0f921\"]]}, \"colorway\": [\"#636efa\", \"#EF553B\", \"#00cc96\", \"#ab63fa\", \"#FFA15A\", \"#19d3f3\", \"#FF6692\", \"#B6E880\", \"#FF97FF\", \"#FECB52\"], \"font\": {\"color\": \"#2a3f5f\"}, \"geo\": {\"bgcolor\": \"white\", \"lakecolor\": \"white\", \"landcolor\": \"#E5ECF6\", \"showlakes\": true, \"showland\": true, \"subunitcolor\": \"white\"}, \"hoverlabel\": {\"align\": \"left\"}, \"hovermode\": \"closest\", \"mapbox\": {\"style\": \"light\"}, \"paper_bgcolor\": \"white\", \"plot_bgcolor\": \"#E5ECF6\", \"polar\": {\"angularaxis\": {\"gridcolor\": \"white\", \"linecolor\": \"white\", \"ticks\": \"\"}, \"bgcolor\": \"#E5ECF6\", \"radialaxis\": {\"gridcolor\": \"white\", \"linecolor\": \"white\", \"ticks\": \"\"}}, \"scene\": {\"xaxis\": {\"backgroundcolor\": \"#E5ECF6\", \"gridcolor\": \"white\", \"gridwidth\": 2, \"linecolor\": \"white\", \"showbackground\": true, \"ticks\": \"\", \"zerolinecolor\": \"white\"}, \"yaxis\": {\"backgroundcolor\": \"#E5ECF6\", \"gridcolor\": \"white\", \"gridwidth\": 2, \"linecolor\": \"white\", \"showbackground\": true, \"ticks\": \"\", \"zerolinecolor\": \"white\"}, \"zaxis\": {\"backgroundcolor\": \"#E5ECF6\", \"gridcolor\": \"white\", \"gridwidth\": 2, \"linecolor\": \"white\", \"showbackground\": true, \"ticks\": \"\", \"zerolinecolor\": \"white\"}}, \"shapedefaults\": {\"line\": {\"color\": \"#2a3f5f\"}}, \"ternary\": {\"aaxis\": {\"gridcolor\": \"white\", \"linecolor\": \"white\", \"ticks\": \"\"}, \"baxis\": {\"gridcolor\": \"white\", \"linecolor\": \"white\", \"ticks\": \"\"}, \"bgcolor\": \"#E5ECF6\", \"caxis\": {\"gridcolor\": \"white\", \"linecolor\": \"white\", \"ticks\": \"\"}}, \"title\": {\"x\": 0.05}, \"xaxis\": {\"automargin\": true, \"gridcolor\": \"white\", \"linecolor\": \"white\", \"ticks\": \"\", \"title\": {\"standoff\": 15}, \"zerolinecolor\": \"white\", \"zerolinewidth\": 2}, \"yaxis\": {\"automargin\": true, \"gridcolor\": \"white\", \"linecolor\": \"white\", \"ticks\": \"\", \"title\": {\"standoff\": 15}, \"zerolinecolor\": \"white\", \"zerolinewidth\": 2}}}},                        {\"responsive\": true}                    ).then(function(){\n                            \nvar gd = document.getElementById('e7897424-6ded-433c-9f3a-562db079f67d');\nvar x = new MutationObserver(function (mutations, observer) {{\n        var display = window.getComputedStyle(gd).display;\n        if (!display || display === 'none') {{\n            console.log([gd, 'removed!']);\n            Plotly.purge(gd);\n            observer.disconnect();\n        }}\n}});\n\n// Listen for the removal of the full notebook cells\nvar notebookContainer = gd.closest('#notebook-container');\nif (notebookContainer) {{\n    x.observe(notebookContainer, {childList: true});\n}}\n\n// Listen for the clearing of the current output cell\nvar outputEl = gd.closest('.output');\nif (outputEl) {{\n    x.observe(outputEl, {childList: true});\n}}\n\n                        })                };                });            </script>        </div>"
     },
     "metadata": {}
    }
   ],
   "source": [
    "\n",
    "np.random.seed(1)\n",
    "\n",
    "N = 100\n",
    "x = np.random.rand(N)\n",
    "y = np.random.rand(N)\n",
    "colors = np.random.rand(N)\n",
    "sz = np.random.rand(N) * 30\n",
    "\n",
    "fig = go.Figure()\n",
    "fig.add_trace(go.Scatter(\n",
    "    x=x,\n",
    "    y=y,\n",
    "    mode=\"markers\",\n",
    "    marker=go.scatter.Marker(\n",
    "        size=sz,\n",
    "        color=colors,\n",
    "        opacity=0.6,\n",
    "        colorscale=\"Viridis\"\n",
    "    )\n",
    "))\n",
    "\n",
    "html_file = 'plotly-circles-plot.html'\n",
    "fname = 'plotly-circles-plot'\n",
    "\n",
    "fig.show()"
   ]
  },
  {
   "cell_type": "code",
   "execution_count": 9,
   "metadata": {},
   "outputs": [
    {
     "output_type": "execute_result",
     "data": {
      "text/plain": [
       "'plotly-fruit-plot.html'"
      ]
     },
     "metadata": {},
     "execution_count": 9
    }
   ],
   "source": [
    "plot(fig, filename=html_file, auto_open=True,\n",
    "                    image_width=1280, image_height=800,\n",
    "                    image_filename=fname, image='png')"
   ]
  },
  {
   "cell_type": "code",
   "execution_count": 10,
   "metadata": {},
   "outputs": [
    {
     "output_type": "execute_result",
     "data": {
      "text/plain": [
       "'plotly-fruit-plot.html'"
      ]
     },
     "metadata": {},
     "execution_count": 10
    }
   ],
   "source": [
    "import plotly\n",
    "import plotly.graph_objs as go\n",
    "\n",
    "data = [go.Bar(x=['Apples', 'Pears', 'Nectarines', 'Plums', 'Grapes', 'Strawberries'],\n",
    "               y=[5, 3, 4, 2, 4, 6])]\n",
    "\n",
    "html_file = 'plotly-fruit-plot.html'\n",
    "fname = 'plotly-fruit-plot'\n",
    "\n",
    "plotly.offline.plot(data, filename=html_file, auto_open=False,\n",
    "                    image_width=1280, image_height=800,\n",
    "                    image_filename=fname, image='png')"
   ]
  },
  {
   "cell_type": "code",
   "execution_count": null,
   "metadata": {},
   "outputs": [],
   "source": []
  }
 ]
}