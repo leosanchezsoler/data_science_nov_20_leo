{
 "metadata": {
  "language_info": {
   "codemirror_mode": {
    "name": "ipython",
    "version": 3
   },
   "file_extension": ".py",
   "mimetype": "text/x-python",
   "name": "python",
   "nbconvert_exporter": "python",
   "pygments_lexer": "ipython3",
   "version": "3.9.0-final"
  },
  "orig_nbformat": 2,
  "kernelspec": {
   "name": "python3",
   "display_name": "Python 3.9.0 64-bit",
   "metadata": {
    "interpreter": {
     "hash": "7812ea015bdcee6f23a998adcdd2ef97c151c0c241b7b7070987d9313e41299d"
    }
   }
  }
 },
 "nbformat": 4,
 "nbformat_minor": 2,
 "cells": [
  {
   "cell_type": "code",
   "execution_count": 2,
   "metadata": {},
   "outputs": [
    {
     "output_type": "execute_result",
     "data": {
      "text/plain": [
       "        School  Women  Men  Gap\n",
       "0          MIT     94  152   58\n",
       "1     Stanford     96  151   55\n",
       "2      Harvard    112  165   53\n",
       "3       U.Penn     92  141   49\n",
       "4    Princeton     90  137   47\n",
       "5      Chicago     78  118   40\n",
       "6   Georgetown     94  131   37\n",
       "7        Tufts     76  112   36\n",
       "8         Yale     79  114   35\n",
       "9     Columbia     86  119   33\n",
       "10        Duke     93  124   31\n",
       "11   Dartmouth     84  114   30\n",
       "12         NYU     67   94   27\n",
       "13  Notre Dame     73  100   27\n",
       "14     Cornell     80  107   27\n",
       "15    Michigan     62   84   22\n",
       "16       Brown     72   92   20\n",
       "17    Berkeley     71   88   17\n",
       "18       Emory     68   82   14\n",
       "19        UCLA     64   78   14\n",
       "20       SoCal     72   81    9"
      ],
      "text/html": "<div>\n<style scoped>\n    .dataframe tbody tr th:only-of-type {\n        vertical-align: middle;\n    }\n\n    .dataframe tbody tr th {\n        vertical-align: top;\n    }\n\n    .dataframe thead th {\n        text-align: right;\n    }\n</style>\n<table border=\"1\" class=\"dataframe\">\n  <thead>\n    <tr style=\"text-align: right;\">\n      <th></th>\n      <th>School</th>\n      <th>Women</th>\n      <th>Men</th>\n      <th>Gap</th>\n    </tr>\n  </thead>\n  <tbody>\n    <tr>\n      <th>0</th>\n      <td>MIT</td>\n      <td>94</td>\n      <td>152</td>\n      <td>58</td>\n    </tr>\n    <tr>\n      <th>1</th>\n      <td>Stanford</td>\n      <td>96</td>\n      <td>151</td>\n      <td>55</td>\n    </tr>\n    <tr>\n      <th>2</th>\n      <td>Harvard</td>\n      <td>112</td>\n      <td>165</td>\n      <td>53</td>\n    </tr>\n    <tr>\n      <th>3</th>\n      <td>U.Penn</td>\n      <td>92</td>\n      <td>141</td>\n      <td>49</td>\n    </tr>\n    <tr>\n      <th>4</th>\n      <td>Princeton</td>\n      <td>90</td>\n      <td>137</td>\n      <td>47</td>\n    </tr>\n    <tr>\n      <th>5</th>\n      <td>Chicago</td>\n      <td>78</td>\n      <td>118</td>\n      <td>40</td>\n    </tr>\n    <tr>\n      <th>6</th>\n      <td>Georgetown</td>\n      <td>94</td>\n      <td>131</td>\n      <td>37</td>\n    </tr>\n    <tr>\n      <th>7</th>\n      <td>Tufts</td>\n      <td>76</td>\n      <td>112</td>\n      <td>36</td>\n    </tr>\n    <tr>\n      <th>8</th>\n      <td>Yale</td>\n      <td>79</td>\n      <td>114</td>\n      <td>35</td>\n    </tr>\n    <tr>\n      <th>9</th>\n      <td>Columbia</td>\n      <td>86</td>\n      <td>119</td>\n      <td>33</td>\n    </tr>\n    <tr>\n      <th>10</th>\n      <td>Duke</td>\n      <td>93</td>\n      <td>124</td>\n      <td>31</td>\n    </tr>\n    <tr>\n      <th>11</th>\n      <td>Dartmouth</td>\n      <td>84</td>\n      <td>114</td>\n      <td>30</td>\n    </tr>\n    <tr>\n      <th>12</th>\n      <td>NYU</td>\n      <td>67</td>\n      <td>94</td>\n      <td>27</td>\n    </tr>\n    <tr>\n      <th>13</th>\n      <td>Notre Dame</td>\n      <td>73</td>\n      <td>100</td>\n      <td>27</td>\n    </tr>\n    <tr>\n      <th>14</th>\n      <td>Cornell</td>\n      <td>80</td>\n      <td>107</td>\n      <td>27</td>\n    </tr>\n    <tr>\n      <th>15</th>\n      <td>Michigan</td>\n      <td>62</td>\n      <td>84</td>\n      <td>22</td>\n    </tr>\n    <tr>\n      <th>16</th>\n      <td>Brown</td>\n      <td>72</td>\n      <td>92</td>\n      <td>20</td>\n    </tr>\n    <tr>\n      <th>17</th>\n      <td>Berkeley</td>\n      <td>71</td>\n      <td>88</td>\n      <td>17</td>\n    </tr>\n    <tr>\n      <th>18</th>\n      <td>Emory</td>\n      <td>68</td>\n      <td>82</td>\n      <td>14</td>\n    </tr>\n    <tr>\n      <th>19</th>\n      <td>UCLA</td>\n      <td>64</td>\n      <td>78</td>\n      <td>14</td>\n    </tr>\n    <tr>\n      <th>20</th>\n      <td>SoCal</td>\n      <td>72</td>\n      <td>81</td>\n      <td>9</td>\n    </tr>\n  </tbody>\n</table>\n</div>"
     },
     "metadata": {},
     "execution_count": 2
    }
   ],
   "source": [
    "# pip3 install plotly\n",
    "# pip3 install psutil\n",
    "\n",
    "import pandas as pd\n",
    "import numpy as np \n",
    "import psutil\n",
    "\n",
    "import plotly.io as pio\n",
    "from plotly.offline import init_notebook_mode, iplot, plot\n",
    "from plotly.graph_objs import Scatter, Box, Histogram2dContour\n",
    "import plotly.graph_objects as go\n",
    "\n",
    "df = pd.read_csv(\"https://raw.githubusercontent.com/plotly/datasets/master/school_earnings.csv\")\n",
    "df"
   ]
  },
  {
   "cell_type": "code",
   "execution_count": 2,
   "metadata": {},
   "outputs": [
    {
     "output_type": "display_data",
     "data": {
      "text/html": "        <script type=\"text/javascript\">\n        window.PlotlyConfig = {MathJaxConfig: 'local'};\n        if (window.MathJax) {MathJax.Hub.Config({SVG: {font: \"STIX-Web\"}});}\n        if (typeof require !== 'undefined') {\n        require.undef(\"plotly\");\n        requirejs.config({\n            paths: {\n                'plotly': ['https://cdn.plot.ly/plotly-latest.min']\n            }\n        });\n        require(['plotly'], function(Plotly) {\n            window._Plotly = Plotly;\n        });\n        }\n        </script>\n        "
     },
     "metadata": {}
    },
    {
     "output_type": "display_data",
     "data": {
      "application/vnd.plotly.v1+json": {
       "config": {
        "linkText": "Export to plot.ly",
        "plotlyServerURL": "https://plot.ly",
        "showLink": false
       },
       "data": [
        {
         "type": "scatter",
         "x": [
          58,
          55,
          53,
          49,
          47,
          40,
          37,
          36,
          35,
          33,
          31,
          30,
          27,
          27,
          27,
          22,
          20,
          17,
          14,
          14,
          9
         ],
         "y": [
          152,
          151,
          165,
          141,
          137,
          118,
          131,
          112,
          114,
          119,
          124,
          114,
          94,
          100,
          107,
          84,
          92,
          88,
          82,
          78,
          81
         ]
        },
        {
         "type": "scatter",
         "x": [
          58,
          55,
          53,
          49,
          47,
          40,
          37,
          36,
          35,
          33,
          31,
          30,
          27,
          27,
          27,
          22,
          20,
          17,
          14,
          14,
          9
         ],
         "y": [
          94,
          96,
          112,
          92,
          90,
          78,
          94,
          76,
          79,
          86,
          93,
          84,
          67,
          73,
          80,
          62,
          72,
          71,
          68,
          64,
          72
         ]
        }
       ],
       "layout": {
        "template": {
         "data": {
          "bar": [
           {
            "error_x": {
             "color": "#2a3f5f"
            },
            "error_y": {
             "color": "#2a3f5f"
            },
            "marker": {
             "line": {
              "color": "#E5ECF6",
              "width": 0.5
             }
            },
            "type": "bar"
           }
          ],
          "barpolar": [
           {
            "marker": {
             "line": {
              "color": "#E5ECF6",
              "width": 0.5
             }
            },
            "type": "barpolar"
           }
          ],
          "carpet": [
           {
            "aaxis": {
             "endlinecolor": "#2a3f5f",
             "gridcolor": "white",
             "linecolor": "white",
             "minorgridcolor": "white",
             "startlinecolor": "#2a3f5f"
            },
            "baxis": {
             "endlinecolor": "#2a3f5f",
             "gridcolor": "white",
             "linecolor": "white",
             "minorgridcolor": "white",
             "startlinecolor": "#2a3f5f"
            },
            "type": "carpet"
           }
          ],
          "choropleth": [
           {
            "colorbar": {
             "outlinewidth": 0,
             "ticks": ""
            },
            "type": "choropleth"
           }
          ],
          "contour": [
           {
            "colorbar": {
             "outlinewidth": 0,
             "ticks": ""
            },
            "colorscale": [
             [
              0,
              "#0d0887"
             ],
             [
              0.1111111111111111,
              "#46039f"
             ],
             [
              0.2222222222222222,
              "#7201a8"
             ],
             [
              0.3333333333333333,
              "#9c179e"
             ],
             [
              0.4444444444444444,
              "#bd3786"
             ],
             [
              0.5555555555555556,
              "#d8576b"
             ],
             [
              0.6666666666666666,
              "#ed7953"
             ],
             [
              0.7777777777777778,
              "#fb9f3a"
             ],
             [
              0.8888888888888888,
              "#fdca26"
             ],
             [
              1,
              "#f0f921"
             ]
            ],
            "type": "contour"
           }
          ],
          "contourcarpet": [
           {
            "colorbar": {
             "outlinewidth": 0,
             "ticks": ""
            },
            "type": "contourcarpet"
           }
          ],
          "heatmap": [
           {
            "colorbar": {
             "outlinewidth": 0,
             "ticks": ""
            },
            "colorscale": [
             [
              0,
              "#0d0887"
             ],
             [
              0.1111111111111111,
              "#46039f"
             ],
             [
              0.2222222222222222,
              "#7201a8"
             ],
             [
              0.3333333333333333,
              "#9c179e"
             ],
             [
              0.4444444444444444,
              "#bd3786"
             ],
             [
              0.5555555555555556,
              "#d8576b"
             ],
             [
              0.6666666666666666,
              "#ed7953"
             ],
             [
              0.7777777777777778,
              "#fb9f3a"
             ],
             [
              0.8888888888888888,
              "#fdca26"
             ],
             [
              1,
              "#f0f921"
             ]
            ],
            "type": "heatmap"
           }
          ],
          "heatmapgl": [
           {
            "colorbar": {
             "outlinewidth": 0,
             "ticks": ""
            },
            "colorscale": [
             [
              0,
              "#0d0887"
             ],
             [
              0.1111111111111111,
              "#46039f"
             ],
             [
              0.2222222222222222,
              "#7201a8"
             ],
             [
              0.3333333333333333,
              "#9c179e"
             ],
             [
              0.4444444444444444,
              "#bd3786"
             ],
             [
              0.5555555555555556,
              "#d8576b"
             ],
             [
              0.6666666666666666,
              "#ed7953"
             ],
             [
              0.7777777777777778,
              "#fb9f3a"
             ],
             [
              0.8888888888888888,
              "#fdca26"
             ],
             [
              1,
              "#f0f921"
             ]
            ],
            "type": "heatmapgl"
           }
          ],
          "histogram": [
           {
            "marker": {
             "colorbar": {
              "outlinewidth": 0,
              "ticks": ""
             }
            },
            "type": "histogram"
           }
          ],
          "histogram2d": [
           {
            "colorbar": {
             "outlinewidth": 0,
             "ticks": ""
            },
            "colorscale": [
             [
              0,
              "#0d0887"
             ],
             [
              0.1111111111111111,
              "#46039f"
             ],
             [
              0.2222222222222222,
              "#7201a8"
             ],
             [
              0.3333333333333333,
              "#9c179e"
             ],
             [
              0.4444444444444444,
              "#bd3786"
             ],
             [
              0.5555555555555556,
              "#d8576b"
             ],
             [
              0.6666666666666666,
              "#ed7953"
             ],
             [
              0.7777777777777778,
              "#fb9f3a"
             ],
             [
              0.8888888888888888,
              "#fdca26"
             ],
             [
              1,
              "#f0f921"
             ]
            ],
            "type": "histogram2d"
           }
          ],
          "histogram2dcontour": [
           {
            "colorbar": {
             "outlinewidth": 0,
             "ticks": ""
            },
            "colorscale": [
             [
              0,
              "#0d0887"
             ],
             [
              0.1111111111111111,
              "#46039f"
             ],
             [
              0.2222222222222222,
              "#7201a8"
             ],
             [
              0.3333333333333333,
              "#9c179e"
             ],
             [
              0.4444444444444444,
              "#bd3786"
             ],
             [
              0.5555555555555556,
              "#d8576b"
             ],
             [
              0.6666666666666666,
              "#ed7953"
             ],
             [
              0.7777777777777778,
              "#fb9f3a"
             ],
             [
              0.8888888888888888,
              "#fdca26"
             ],
             [
              1,
              "#f0f921"
             ]
            ],
            "type": "histogram2dcontour"
           }
          ],
          "mesh3d": [
           {
            "colorbar": {
             "outlinewidth": 0,
             "ticks": ""
            },
            "type": "mesh3d"
           }
          ],
          "parcoords": [
           {
            "line": {
             "colorbar": {
              "outlinewidth": 0,
              "ticks": ""
             }
            },
            "type": "parcoords"
           }
          ],
          "pie": [
           {
            "automargin": true,
            "type": "pie"
           }
          ],
          "scatter": [
           {
            "marker": {
             "colorbar": {
              "outlinewidth": 0,
              "ticks": ""
             }
            },
            "type": "scatter"
           }
          ],
          "scatter3d": [
           {
            "line": {
             "colorbar": {
              "outlinewidth": 0,
              "ticks": ""
             }
            },
            "marker": {
             "colorbar": {
              "outlinewidth": 0,
              "ticks": ""
             }
            },
            "type": "scatter3d"
           }
          ],
          "scattercarpet": [
           {
            "marker": {
             "colorbar": {
              "outlinewidth": 0,
              "ticks": ""
             }
            },
            "type": "scattercarpet"
           }
          ],
          "scattergeo": [
           {
            "marker": {
             "colorbar": {
              "outlinewidth": 0,
              "ticks": ""
             }
            },
            "type": "scattergeo"
           }
          ],
          "scattergl": [
           {
            "marker": {
             "colorbar": {
              "outlinewidth": 0,
              "ticks": ""
             }
            },
            "type": "scattergl"
           }
          ],
          "scattermapbox": [
           {
            "marker": {
             "colorbar": {
              "outlinewidth": 0,
              "ticks": ""
             }
            },
            "type": "scattermapbox"
           }
          ],
          "scatterpolar": [
           {
            "marker": {
             "colorbar": {
              "outlinewidth": 0,
              "ticks": ""
             }
            },
            "type": "scatterpolar"
           }
          ],
          "scatterpolargl": [
           {
            "marker": {
             "colorbar": {
              "outlinewidth": 0,
              "ticks": ""
             }
            },
            "type": "scatterpolargl"
           }
          ],
          "scatterternary": [
           {
            "marker": {
             "colorbar": {
              "outlinewidth": 0,
              "ticks": ""
             }
            },
            "type": "scatterternary"
           }
          ],
          "surface": [
           {
            "colorbar": {
             "outlinewidth": 0,
             "ticks": ""
            },
            "colorscale": [
             [
              0,
              "#0d0887"
             ],
             [
              0.1111111111111111,
              "#46039f"
             ],
             [
              0.2222222222222222,
              "#7201a8"
             ],
             [
              0.3333333333333333,
              "#9c179e"
             ],
             [
              0.4444444444444444,
              "#bd3786"
             ],
             [
              0.5555555555555556,
              "#d8576b"
             ],
             [
              0.6666666666666666,
              "#ed7953"
             ],
             [
              0.7777777777777778,
              "#fb9f3a"
             ],
             [
              0.8888888888888888,
              "#fdca26"
             ],
             [
              1,
              "#f0f921"
             ]
            ],
            "type": "surface"
           }
          ],
          "table": [
           {
            "cells": {
             "fill": {
              "color": "#EBF0F8"
             },
             "line": {
              "color": "white"
             }
            },
            "header": {
             "fill": {
              "color": "#C8D4E3"
             },
             "line": {
              "color": "white"
             }
            },
            "type": "table"
           }
          ]
         },
         "layout": {
          "annotationdefaults": {
           "arrowcolor": "#2a3f5f",
           "arrowhead": 0,
           "arrowwidth": 1
          },
          "autotypenumbers": "strict",
          "coloraxis": {
           "colorbar": {
            "outlinewidth": 0,
            "ticks": ""
           }
          },
          "colorscale": {
           "diverging": [
            [
             0,
             "#8e0152"
            ],
            [
             0.1,
             "#c51b7d"
            ],
            [
             0.2,
             "#de77ae"
            ],
            [
             0.3,
             "#f1b6da"
            ],
            [
             0.4,
             "#fde0ef"
            ],
            [
             0.5,
             "#f7f7f7"
            ],
            [
             0.6,
             "#e6f5d0"
            ],
            [
             0.7,
             "#b8e186"
            ],
            [
             0.8,
             "#7fbc41"
            ],
            [
             0.9,
             "#4d9221"
            ],
            [
             1,
             "#276419"
            ]
           ],
           "sequential": [
            [
             0,
             "#0d0887"
            ],
            [
             0.1111111111111111,
             "#46039f"
            ],
            [
             0.2222222222222222,
             "#7201a8"
            ],
            [
             0.3333333333333333,
             "#9c179e"
            ],
            [
             0.4444444444444444,
             "#bd3786"
            ],
            [
             0.5555555555555556,
             "#d8576b"
            ],
            [
             0.6666666666666666,
             "#ed7953"
            ],
            [
             0.7777777777777778,
             "#fb9f3a"
            ],
            [
             0.8888888888888888,
             "#fdca26"
            ],
            [
             1,
             "#f0f921"
            ]
           ],
           "sequentialminus": [
            [
             0,
             "#0d0887"
            ],
            [
             0.1111111111111111,
             "#46039f"
            ],
            [
             0.2222222222222222,
             "#7201a8"
            ],
            [
             0.3333333333333333,
             "#9c179e"
            ],
            [
             0.4444444444444444,
             "#bd3786"
            ],
            [
             0.5555555555555556,
             "#d8576b"
            ],
            [
             0.6666666666666666,
             "#ed7953"
            ],
            [
             0.7777777777777778,
             "#fb9f3a"
            ],
            [
             0.8888888888888888,
             "#fdca26"
            ],
            [
             1,
             "#f0f921"
            ]
           ]
          },
          "colorway": [
           "#636efa",
           "#EF553B",
           "#00cc96",
           "#ab63fa",
           "#FFA15A",
           "#19d3f3",
           "#FF6692",
           "#B6E880",
           "#FF97FF",
           "#FECB52"
          ],
          "font": {
           "color": "#2a3f5f"
          },
          "geo": {
           "bgcolor": "white",
           "lakecolor": "white",
           "landcolor": "#E5ECF6",
           "showlakes": true,
           "showland": true,
           "subunitcolor": "white"
          },
          "hoverlabel": {
           "align": "left"
          },
          "hovermode": "closest",
          "mapbox": {
           "style": "light"
          },
          "paper_bgcolor": "white",
          "plot_bgcolor": "#E5ECF6",
          "polar": {
           "angularaxis": {
            "gridcolor": "white",
            "linecolor": "white",
            "ticks": ""
           },
           "bgcolor": "#E5ECF6",
           "radialaxis": {
            "gridcolor": "white",
            "linecolor": "white",
            "ticks": ""
           }
          },
          "scene": {
           "xaxis": {
            "backgroundcolor": "#E5ECF6",
            "gridcolor": "white",
            "gridwidth": 2,
            "linecolor": "white",
            "showbackground": true,
            "ticks": "",
            "zerolinecolor": "white"
           },
           "yaxis": {
            "backgroundcolor": "#E5ECF6",
            "gridcolor": "white",
            "gridwidth": 2,
            "linecolor": "white",
            "showbackground": true,
            "ticks": "",
            "zerolinecolor": "white"
           },
           "zaxis": {
            "backgroundcolor": "#E5ECF6",
            "gridcolor": "white",
            "gridwidth": 2,
            "linecolor": "white",
            "showbackground": true,
            "ticks": "",
            "zerolinecolor": "white"
           }
          },
          "shapedefaults": {
           "line": {
            "color": "#2a3f5f"
           }
          },
          "ternary": {
           "aaxis": {
            "gridcolor": "white",
            "linecolor": "white",
            "ticks": ""
           },
           "baxis": {
            "gridcolor": "white",
            "linecolor": "white",
            "ticks": ""
           },
           "bgcolor": "#E5ECF6",
           "caxis": {
            "gridcolor": "white",
            "linecolor": "white",
            "ticks": ""
           }
          },
          "title": {
           "x": 0.05
          },
          "xaxis": {
           "automargin": true,
           "gridcolor": "white",
           "linecolor": "white",
           "ticks": "",
           "title": {
            "standoff": 15
           },
           "zerolinecolor": "white",
           "zerolinewidth": 2
          },
          "yaxis": {
           "automargin": true,
           "gridcolor": "white",
           "linecolor": "white",
           "ticks": "",
           "title": {
            "standoff": 15
           },
           "zerolinecolor": "white",
           "zerolinewidth": 2
          }
         }
        }
       }
      },
      "text/html": "<div>                            <div id=\"f7b9a7fb-80db-42d2-a86e-84d0f1275eee\" class=\"plotly-graph-div\" style=\"height:525px; width:100%;\"></div>            <script type=\"text/javascript\">                require([\"plotly\"], function(Plotly) {                    window.PLOTLYENV=window.PLOTLYENV || {};                                    if (document.getElementById(\"f7b9a7fb-80db-42d2-a86e-84d0f1275eee\")) {                    Plotly.newPlot(                        \"f7b9a7fb-80db-42d2-a86e-84d0f1275eee\",                        [{\"type\": \"scatter\", \"x\": [58, 55, 53, 49, 47, 40, 37, 36, 35, 33, 31, 30, 27, 27, 27, 22, 20, 17, 14, 14, 9], \"y\": [152, 151, 165, 141, 137, 118, 131, 112, 114, 119, 124, 114, 94, 100, 107, 84, 92, 88, 82, 78, 81]}, {\"type\": \"scatter\", \"x\": [58, 55, 53, 49, 47, 40, 37, 36, 35, 33, 31, 30, 27, 27, 27, 22, 20, 17, 14, 14, 9], \"y\": [94, 96, 112, 92, 90, 78, 94, 76, 79, 86, 93, 84, 67, 73, 80, 62, 72, 71, 68, 64, 72]}],                        {\"template\": {\"data\": {\"bar\": [{\"error_x\": {\"color\": \"#2a3f5f\"}, \"error_y\": {\"color\": \"#2a3f5f\"}, \"marker\": {\"line\": {\"color\": \"#E5ECF6\", \"width\": 0.5}}, \"type\": \"bar\"}], \"barpolar\": [{\"marker\": {\"line\": {\"color\": \"#E5ECF6\", \"width\": 0.5}}, \"type\": \"barpolar\"}], \"carpet\": [{\"aaxis\": {\"endlinecolor\": \"#2a3f5f\", \"gridcolor\": \"white\", \"linecolor\": \"white\", \"minorgridcolor\": \"white\", \"startlinecolor\": \"#2a3f5f\"}, \"baxis\": {\"endlinecolor\": \"#2a3f5f\", \"gridcolor\": \"white\", \"linecolor\": \"white\", \"minorgridcolor\": \"white\", \"startlinecolor\": \"#2a3f5f\"}, \"type\": \"carpet\"}], \"choropleth\": [{\"colorbar\": {\"outlinewidth\": 0, \"ticks\": \"\"}, \"type\": \"choropleth\"}], \"contour\": [{\"colorbar\": {\"outlinewidth\": 0, \"ticks\": \"\"}, \"colorscale\": [[0.0, \"#0d0887\"], [0.1111111111111111, \"#46039f\"], [0.2222222222222222, \"#7201a8\"], [0.3333333333333333, \"#9c179e\"], [0.4444444444444444, \"#bd3786\"], [0.5555555555555556, \"#d8576b\"], [0.6666666666666666, \"#ed7953\"], [0.7777777777777778, \"#fb9f3a\"], [0.8888888888888888, \"#fdca26\"], [1.0, \"#f0f921\"]], \"type\": \"contour\"}], \"contourcarpet\": [{\"colorbar\": {\"outlinewidth\": 0, \"ticks\": \"\"}, \"type\": \"contourcarpet\"}], \"heatmap\": [{\"colorbar\": {\"outlinewidth\": 0, \"ticks\": \"\"}, \"colorscale\": [[0.0, \"#0d0887\"], [0.1111111111111111, \"#46039f\"], [0.2222222222222222, \"#7201a8\"], [0.3333333333333333, \"#9c179e\"], [0.4444444444444444, \"#bd3786\"], [0.5555555555555556, \"#d8576b\"], [0.6666666666666666, \"#ed7953\"], [0.7777777777777778, \"#fb9f3a\"], [0.8888888888888888, \"#fdca26\"], [1.0, \"#f0f921\"]], \"type\": \"heatmap\"}], \"heatmapgl\": [{\"colorbar\": {\"outlinewidth\": 0, \"ticks\": \"\"}, \"colorscale\": [[0.0, \"#0d0887\"], [0.1111111111111111, \"#46039f\"], [0.2222222222222222, \"#7201a8\"], [0.3333333333333333, \"#9c179e\"], [0.4444444444444444, \"#bd3786\"], [0.5555555555555556, \"#d8576b\"], [0.6666666666666666, \"#ed7953\"], [0.7777777777777778, \"#fb9f3a\"], [0.8888888888888888, \"#fdca26\"], [1.0, \"#f0f921\"]], \"type\": \"heatmapgl\"}], \"histogram\": [{\"marker\": {\"colorbar\": {\"outlinewidth\": 0, \"ticks\": \"\"}}, \"type\": \"histogram\"}], \"histogram2d\": [{\"colorbar\": {\"outlinewidth\": 0, \"ticks\": \"\"}, \"colorscale\": [[0.0, \"#0d0887\"], [0.1111111111111111, \"#46039f\"], [0.2222222222222222, \"#7201a8\"], [0.3333333333333333, \"#9c179e\"], [0.4444444444444444, \"#bd3786\"], [0.5555555555555556, \"#d8576b\"], [0.6666666666666666, \"#ed7953\"], [0.7777777777777778, \"#fb9f3a\"], [0.8888888888888888, \"#fdca26\"], [1.0, \"#f0f921\"]], \"type\": \"histogram2d\"}], \"histogram2dcontour\": [{\"colorbar\": {\"outlinewidth\": 0, \"ticks\": \"\"}, \"colorscale\": [[0.0, \"#0d0887\"], [0.1111111111111111, \"#46039f\"], [0.2222222222222222, \"#7201a8\"], [0.3333333333333333, \"#9c179e\"], [0.4444444444444444, \"#bd3786\"], [0.5555555555555556, \"#d8576b\"], [0.6666666666666666, \"#ed7953\"], [0.7777777777777778, \"#fb9f3a\"], [0.8888888888888888, \"#fdca26\"], [1.0, \"#f0f921\"]], \"type\": \"histogram2dcontour\"}], \"mesh3d\": [{\"colorbar\": {\"outlinewidth\": 0, \"ticks\": \"\"}, \"type\": \"mesh3d\"}], \"parcoords\": [{\"line\": {\"colorbar\": {\"outlinewidth\": 0, \"ticks\": \"\"}}, \"type\": \"parcoords\"}], \"pie\": [{\"automargin\": true, \"type\": \"pie\"}], \"scatter\": [{\"marker\": {\"colorbar\": {\"outlinewidth\": 0, \"ticks\": \"\"}}, \"type\": \"scatter\"}], \"scatter3d\": [{\"line\": {\"colorbar\": {\"outlinewidth\": 0, \"ticks\": \"\"}}, \"marker\": {\"colorbar\": {\"outlinewidth\": 0, \"ticks\": \"\"}}, \"type\": \"scatter3d\"}], \"scattercarpet\": [{\"marker\": {\"colorbar\": {\"outlinewidth\": 0, \"ticks\": \"\"}}, \"type\": \"scattercarpet\"}], \"scattergeo\": [{\"marker\": {\"colorbar\": {\"outlinewidth\": 0, \"ticks\": \"\"}}, \"type\": \"scattergeo\"}], \"scattergl\": [{\"marker\": {\"colorbar\": {\"outlinewidth\": 0, \"ticks\": \"\"}}, \"type\": \"scattergl\"}], \"scattermapbox\": [{\"marker\": {\"colorbar\": {\"outlinewidth\": 0, \"ticks\": \"\"}}, \"type\": \"scattermapbox\"}], \"scatterpolar\": [{\"marker\": {\"colorbar\": {\"outlinewidth\": 0, \"ticks\": \"\"}}, \"type\": \"scatterpolar\"}], \"scatterpolargl\": [{\"marker\": {\"colorbar\": {\"outlinewidth\": 0, \"ticks\": \"\"}}, \"type\": \"scatterpolargl\"}], \"scatterternary\": [{\"marker\": {\"colorbar\": {\"outlinewidth\": 0, \"ticks\": \"\"}}, \"type\": \"scatterternary\"}], \"surface\": [{\"colorbar\": {\"outlinewidth\": 0, \"ticks\": \"\"}, \"colorscale\": [[0.0, \"#0d0887\"], [0.1111111111111111, \"#46039f\"], [0.2222222222222222, \"#7201a8\"], [0.3333333333333333, \"#9c179e\"], [0.4444444444444444, \"#bd3786\"], [0.5555555555555556, \"#d8576b\"], [0.6666666666666666, \"#ed7953\"], [0.7777777777777778, \"#fb9f3a\"], [0.8888888888888888, \"#fdca26\"], [1.0, \"#f0f921\"]], \"type\": \"surface\"}], \"table\": [{\"cells\": {\"fill\": {\"color\": \"#EBF0F8\"}, \"line\": {\"color\": \"white\"}}, \"header\": {\"fill\": {\"color\": \"#C8D4E3\"}, \"line\": {\"color\": \"white\"}}, \"type\": \"table\"}]}, \"layout\": {\"annotationdefaults\": {\"arrowcolor\": \"#2a3f5f\", \"arrowhead\": 0, \"arrowwidth\": 1}, \"autotypenumbers\": \"strict\", \"coloraxis\": {\"colorbar\": {\"outlinewidth\": 0, \"ticks\": \"\"}}, \"colorscale\": {\"diverging\": [[0, \"#8e0152\"], [0.1, \"#c51b7d\"], [0.2, \"#de77ae\"], [0.3, \"#f1b6da\"], [0.4, \"#fde0ef\"], [0.5, \"#f7f7f7\"], [0.6, \"#e6f5d0\"], [0.7, \"#b8e186\"], [0.8, \"#7fbc41\"], [0.9, \"#4d9221\"], [1, \"#276419\"]], \"sequential\": [[0.0, \"#0d0887\"], [0.1111111111111111, \"#46039f\"], [0.2222222222222222, \"#7201a8\"], [0.3333333333333333, \"#9c179e\"], [0.4444444444444444, \"#bd3786\"], [0.5555555555555556, \"#d8576b\"], [0.6666666666666666, \"#ed7953\"], [0.7777777777777778, \"#fb9f3a\"], [0.8888888888888888, \"#fdca26\"], [1.0, \"#f0f921\"]], \"sequentialminus\": [[0.0, \"#0d0887\"], [0.1111111111111111, \"#46039f\"], [0.2222222222222222, \"#7201a8\"], [0.3333333333333333, \"#9c179e\"], [0.4444444444444444, \"#bd3786\"], [0.5555555555555556, \"#d8576b\"], [0.6666666666666666, \"#ed7953\"], [0.7777777777777778, \"#fb9f3a\"], [0.8888888888888888, \"#fdca26\"], [1.0, \"#f0f921\"]]}, \"colorway\": [\"#636efa\", \"#EF553B\", \"#00cc96\", \"#ab63fa\", \"#FFA15A\", \"#19d3f3\", \"#FF6692\", \"#B6E880\", \"#FF97FF\", \"#FECB52\"], \"font\": {\"color\": \"#2a3f5f\"}, \"geo\": {\"bgcolor\": \"white\", \"lakecolor\": \"white\", \"landcolor\": \"#E5ECF6\", \"showlakes\": true, \"showland\": true, \"subunitcolor\": \"white\"}, \"hoverlabel\": {\"align\": \"left\"}, \"hovermode\": \"closest\", \"mapbox\": {\"style\": \"light\"}, \"paper_bgcolor\": \"white\", \"plot_bgcolor\": \"#E5ECF6\", \"polar\": {\"angularaxis\": {\"gridcolor\": \"white\", \"linecolor\": \"white\", \"ticks\": \"\"}, \"bgcolor\": \"#E5ECF6\", \"radialaxis\": {\"gridcolor\": \"white\", \"linecolor\": \"white\", \"ticks\": \"\"}}, \"scene\": {\"xaxis\": {\"backgroundcolor\": \"#E5ECF6\", \"gridcolor\": \"white\", \"gridwidth\": 2, \"linecolor\": \"white\", \"showbackground\": true, \"ticks\": \"\", \"zerolinecolor\": \"white\"}, \"yaxis\": {\"backgroundcolor\": \"#E5ECF6\", \"gridcolor\": \"white\", \"gridwidth\": 2, \"linecolor\": \"white\", \"showbackground\": true, \"ticks\": \"\", \"zerolinecolor\": \"white\"}, \"zaxis\": {\"backgroundcolor\": \"#E5ECF6\", \"gridcolor\": \"white\", \"gridwidth\": 2, \"linecolor\": \"white\", \"showbackground\": true, \"ticks\": \"\", \"zerolinecolor\": \"white\"}}, \"shapedefaults\": {\"line\": {\"color\": \"#2a3f5f\"}}, \"ternary\": {\"aaxis\": {\"gridcolor\": \"white\", \"linecolor\": \"white\", \"ticks\": \"\"}, \"baxis\": {\"gridcolor\": \"white\", \"linecolor\": \"white\", \"ticks\": \"\"}, \"bgcolor\": \"#E5ECF6\", \"caxis\": {\"gridcolor\": \"white\", \"linecolor\": \"white\", \"ticks\": \"\"}}, \"title\": {\"x\": 0.05}, \"xaxis\": {\"automargin\": true, \"gridcolor\": \"white\", \"linecolor\": \"white\", \"ticks\": \"\", \"title\": {\"standoff\": 15}, \"zerolinecolor\": \"white\", \"zerolinewidth\": 2}, \"yaxis\": {\"automargin\": true, \"gridcolor\": \"white\", \"linecolor\": \"white\", \"ticks\": \"\", \"title\": {\"standoff\": 15}, \"zerolinecolor\": \"white\", \"zerolinewidth\": 2}}}},                        {\"responsive\": true}                    ).then(function(){\n                            \nvar gd = document.getElementById('f7b9a7fb-80db-42d2-a86e-84d0f1275eee');\nvar x = new MutationObserver(function (mutations, observer) {{\n        var display = window.getComputedStyle(gd).display;\n        if (!display || display === 'none') {{\n            console.log([gd, 'removed!']);\n            Plotly.purge(gd);\n            observer.disconnect();\n        }}\n}});\n\n// Listen for the removal of the full notebook cells\nvar notebookContainer = gd.closest('#notebook-container');\nif (notebookContainer) {{\n    x.observe(notebookContainer, {childList: true});\n}}\n\n// Listen for the clearing of the current output cell\nvar outputEl = gd.closest('.output');\nif (outputEl) {{\n    x.observe(outputEl, {childList: true});\n}}\n\n                        })                };                });            </script>        </div>"
     },
     "metadata": {}
    }
   ],
   "source": [
    "init_notebook_mode(connected=True)         # initiate notebook for offline plot\n",
    "\n",
    "trace0 = Scatter(\n",
    "  x=df[\"Gap\"],\n",
    "  y=df[\"Men\"]\n",
    ")\n",
    "trace1 = Scatter(\n",
    "  x=df[\"Gap\"],\n",
    "  y=df[\"Women\"]\n",
    ")\n",
    "\n",
    "iplot([trace0, trace1])"
   ]
  },
  {
   "cell_type": "code",
   "execution_count": 3,
   "metadata": {},
   "outputs": [
    {
     "output_type": "display_data",
     "data": {
      "application/vnd.plotly.v1+json": {
       "config": {
        "linkText": "Export to plot.ly",
        "plotlyServerURL": "https://plot.ly",
        "showLink": false
       },
       "data": [
        {
         "showlegend": false,
         "type": "box",
         "y": [
          0.33709868229917955,
          -0.4889743963575497,
          -1.1940483545999254,
          -1.1658047130093798,
          1.4434592939003283,
          -0.7431099941851638,
          1.184501438237592,
          1.1391479923754464,
          0.589268244271522,
          -1.4266573700220846,
          0.07032235765215226,
          1.091069661115928,
          0.37071414531975855,
          1.222925417275964,
          -2.345688359499088,
          0.8212252500376438,
          -1.2823639692303832,
          0.8549571683163488,
          1.2620707724861937,
          0.41211204379209354,
          -1.1051964060036874,
          -0.16559386162839576,
          0.25802479953787477,
          1.2438024369912124,
          -1.4096238169046216,
          -1.0556896798854474,
          -0.7287566380786756,
          0.34159975717584484,
          -0.3698754020619586,
          -0.11782783019605036,
          0.2588614452976779,
          0.30265011718855495,
          -0.9834871591619632,
          -1.3238395571197252,
          0.7780791634168616,
          1.721432451457095,
          -1.976048800653756,
          -0.5211706137197342,
          -1.2503652449700717,
          0.12199473217274447,
          1.2043408552710142,
          -1.200303609830207,
          0.42105576562534375,
          -0.9271881722043269,
          -0.6341215977762947,
          0.21539372383225688,
          0.9850573163148445,
          -1.372230225145868,
          -0.7171622585929373,
          0.23173799025400874
         ]
        },
        {
         "showlegend": false,
         "type": "box",
         "y": [
          -0.41825287418500745,
          -0.37306857163309864,
          -0.5604596913956118,
          1.5400273949475412,
          -0.2021016083300839,
          1.0359518951725608,
          -1.2038908463910958,
          -0.8356597574473207,
          0.009641555158769632,
          -1.8466698879347936,
          1.1761640137488072,
          1.8188130607723043,
          0.15009751864109777,
          0.7522641588013415,
          1.3637147124991413,
          -1.333206400743314,
          0.10156965721529852,
          1.1856625210975382,
          0.569369909145331,
          -0.5182218466641034,
          0.273286499439521,
          1.1242320727858706,
          0.4506083017258784,
          0.7466856424456957,
          -0.9031015676318311,
          -1.6222078501969508,
          -0.322075044285136,
          -0.7840397260630793,
          -1.2134325662487222,
          -0.3811130316865975,
          0.0267757935885046,
          -0.9305049915008679,
          0.10120134675308914,
          -1.4345523526964572,
          -0.24249417353633962,
          0.7141182103217629,
          1.9119969983871858,
          0.8591522008925883,
          1.2177984467205343,
          1.0621124945687437,
          -1.3785524639600215,
          -0.6527927471189378,
          0.4192219072577872,
          -1.0607861984797673,
          -1.2854370750438786,
          -0.17384998920578829,
          0.6085039697688523,
          -0.9065363483102676,
          1.5718504563775952,
          0.2707968744330351
         ]
        },
        {
         "showlegend": false,
         "type": "box",
         "y": [
          0.5468543782656657,
          -0.7631875064745681,
          -0.08525722733437255,
          -0.39788796852375274,
          -0.15145444468531327,
          0.6919758948526995,
          -0.18067270942512698,
          0.18287612414937734,
          -1.4973832731608654,
          0.21850133136893882,
          0.1166257844593007,
          -1.1223085267649067,
          -1.676108648657138,
          -0.7232585679457173,
          0.8862393204072238,
          0.1007529725777801,
          1.2411473169962222,
          -0.9799919466725011,
          -1.1116870682813484,
          1.265156460236878,
          0.0048377309497784115,
          -0.5004743004787096,
          -2.077145645567933,
          0.3905675108587789,
          -1.5291867746243173,
          -0.17022519104175238,
          0.7079829346651954,
          -1.6205274655953417,
          1.8719542385757126,
          -0.23596943865295994,
          -0.7661666905369924,
          -1.3997200440725839,
          1.1368888643402582,
          0.20948510114601845,
          -0.2514074570448226,
          -0.25276421415619954,
          0.17341045320228285,
          0.7208875619042716,
          -0.3453668686193039,
          -0.414094365745542,
          -1.5526357876078258,
          -0.7453837859716094,
          -0.41718912221010446,
          0.4345952725965545,
          -1.3009772475372758,
          0.6857990271582131,
          0.8797942636859086,
          -0.5832398558060676,
          -0.7303815051815574,
          0.2525140315206452
         ]
        },
        {
         "showlegend": false,
         "type": "box",
         "y": [
          -0.10747543364730903,
          -0.21087765116515877,
          1.594732086140904,
          1.139316641976263,
          -1.4379339900441541,
          -0.8187261756457768,
          -0.9715398184397954,
          1.5894062436224194,
          -0.029350810933462344,
          1.6096173455763576,
          0.19971588614298258,
          -0.9724759453851255,
          -0.2226173870655183,
          -0.1702807617765241,
          0.49457300203171195,
          0.8475252517452136,
          0.8615512835720837,
          0.4405736468398742,
          -0.4394528014907643,
          0.31816769355864205,
          -1.2439157137425163,
          0.9178174537817382,
          -0.2617635561610367,
          -0.10445225626588615,
          -0.3079722626649217,
          -0.7113702528715964,
          1.0033852111923778,
          0.07672080755316238,
          0.7004827781962542,
          -1.6124796044310017,
          -0.695686410783412,
          -0.40760150535656275,
          -1.6512596330012155,
          -1.6181929876901338,
          0.30906070188432494,
          1.2494093654361857,
          -2.080582827609737,
          0.45369687630223154,
          2.047103540687194,
          0.26051557920101853,
          0.6405909382389162,
          0.6138418753325328,
          -1.2737788529131993,
          -0.11597342162473007,
          -0.8338370557993904,
          -0.5546974987174275,
          -0.2912363538869419,
          1.3995064222196691,
          -1.5467730982756482,
          -1.1318786331386448
         ]
        },
        {
         "showlegend": false,
         "type": "box",
         "y": [
          -0.5374086391721842,
          -0.9350406770871726,
          0.0016996379594738302,
          0.7377482534014275,
          1.0293763686398558,
          -0.3619599689166019,
          -0.5039999886344184,
          1.0702311581144452,
          -0.3504174433057067,
          0.37758075348692716,
          0.2772236407497272,
          0.18476712947016083,
          -0.3493072206921776,
          -1.3374262827818562,
          0.21529020392457066,
          -1.1707880898085314,
          -1.817171534443349,
          2.082315860803182,
          0.9492891798160303,
          0.8415531446108139,
          1.0599999145120682,
          1.5366359117729298,
          0.5484042384257684,
          0.6613135882751962,
          1.4141184652085022,
          0.21439965800318175,
          1.257938083115792,
          -0.3617106058171463,
          -0.835698387634991,
          -0.4438858091480254,
          1.0260057673128133,
          -1.4877502209662368,
          -1.016547443238914,
          2.2068177904198776,
          -0.7680492785070565,
          1.3502100903670917,
          1.529432675989405,
          0.17464163564086416,
          0.4272795732828912,
          -0.631063315693155,
          -0.6066449610568386,
          0.6935594177641302,
          -0.24465450994112703,
          -2.144885642308435,
          1.2257999226407315,
          -1.1791584069483723,
          1.40678841030192,
          0.9168706154665703,
          -1.417532804659997,
          -0.1588655772414894
         ]
        },
        {
         "showlegend": false,
         "type": "box",
         "y": [
          0.5657107387173976,
          0.9200069134831508,
          0.9439461680287469,
          1.1347197415918853,
          0.7757148202798134,
          0.42252339068567724,
          1.222766071574829,
          2.663214634777363,
          -0.8366092631096081,
          1.1084722977380825,
          1.440785014788451,
          2.062226878824961,
          0.361067208065389,
          1.056432440254154,
          -2.617322544610266,
          -1.327595153305864,
          0.40725556642584676,
          0.178024646729918,
          -0.5503373556275872,
          -1.0608049707505194,
          -0.48905917164478424,
          -0.5358434577080382,
          2.34751472472672,
          -0.03919308473132531,
          1.0114772737562119,
          -0.7038503020867403,
          -0.1952561751157132,
          0.4582896104395577,
          0.41611077246054584,
          0.571348341824134,
          0.8339133645913963,
          -1.3562087663993172,
          0.758649719692348,
          0.9441423040914212,
          -1.5927169798747018,
          -0.9317795545011737,
          -2.415456555161852,
          1.6708901213938576,
          -0.5592581716048659,
          1.205692975908023,
          0.613129177083259,
          1.8631612468176335,
          0.7688860085043349,
          -0.44105143085709453,
          -0.5038712778985811,
          -0.5324639772007634,
          1.4702851607039893,
          0.5321779938452883,
          -0.6406118315610775,
          -0.09692448472302603
         ]
        },
        {
         "showlegend": false,
         "type": "box",
         "y": [
          -0.8465344236434748,
          1.038731812318724,
          0.9944552863751948,
          -0.3602068651604513,
          -1.6600204868506787,
          -0.1451166839193158,
          1.5231890861379278,
          0.2538530225099167,
          -0.533918081219969,
          0.7138644360839074,
          1.1129160921582226,
          -0.5886235982221316,
          2.319070642274972,
          -0.5555137709458696,
          -1.15954814065748,
          0.1833876960473447,
          0.16964635439490078,
          -0.16613711483153953,
          0.655027128181145,
          -0.7452390597918448,
          0.7825177972510342,
          -1.4483576047452786,
          0.08078517530525942,
          -0.2906332002413378,
          0.02772057304961428,
          0.16888272920965253,
          0.9082754813541062,
          -0.30527208590133553,
          0.5468843271442455,
          0.21246940938194844,
          -0.9840722663574939,
          -1.0474468222281876,
          0.27521322868335096,
          0.8105557835537294,
          -0.04757421731222289,
          -0.8178015845935831,
          0.37530325466927017,
          -0.35506541763954447,
          1.718358173258596,
          -0.7982927142980827,
          -1.3134853601525727,
          0.827558694493642,
          0.08937576650183819,
          -0.01589070902381102,
          0.7567434924885994,
          -0.08517577337376436,
          -1.607795229315038,
          -0.6547924119706839,
          -0.11793390053583235,
          0.4815168093685728
         ]
        },
        {
         "showlegend": false,
         "type": "box",
         "y": [
          -0.34652226437365974,
          -0.6549772665409148,
          -0.05230797060737907,
          -0.5622693694951609,
          1.047069267907767,
          -0.1044171897967117,
          -0.03171131716138695,
          -0.6936269531336049,
          -1.4261552190274758,
          0.7815911768951025,
          -1.668212591993415,
          -2.0591830761593863,
          1.3657961211137497,
          1.1995561472165635,
          1.5075282841672626,
          0.34136220853845756,
          0.8757984843287908,
          0.1145766395123684,
          -2.1828269029544947,
          -0.6451645040873641,
          1.0674322915259367,
          -0.2794271741742993,
          0.297755961949179,
          -0.9580610731331306,
          0.24917052641912749,
          0.5743758115501297,
          0.7303967457442205,
          -0.3233089615888174,
          1.6643756911346435,
          -1.8729830532200178,
          0.29844212103982243,
          -0.5545423460138652,
          0.7533212915084615,
          -0.9162926228077137,
          -1.1229693591145498,
          1.6753045487197746,
          0.19810183887301136,
          0.2552202039024017,
          0.892661674700903,
          -0.7580259655415319,
          -1.1751992576843464,
          1.9749414739349738,
          -2.106309027452402,
          -0.7235531869324994,
          -0.6653456904134467,
          -1.2353628937099044,
          0.9564967668745552,
          0.16858336431775778,
          -0.5652878572879219,
          -0.4500953846153638
         ]
        },
        {
         "showlegend": false,
         "type": "box",
         "y": [
          -1.2879948479074208,
          -0.21123831166637397,
          0.730055576427924,
          -3.314704388671649,
          -1.390836610705358,
          -0.17834522718384288,
          0.4846662148998092,
          -0.41284195118398415,
          0.24284442120972824,
          -1.2045057287316858,
          -0.0303146186809576,
          1.37269684705731,
          0.9114276169549828,
          2.0063894388839865,
          -1.6932974216330012,
          0.32250641673620006,
          2.02645386600863,
          0.8100690743370099,
          0.12094683145545834,
          0.7837582116978271,
          0.3114232641027006,
          0.19891122942599213,
          0.9583306670913618,
          -0.5094359263252497,
          -0.6870550160791479,
          0.6599652785305006,
          0.028926925493122174,
          -0.3068043113315566,
          -0.14198373337976092,
          0.6604595142772093,
          -1.1389933017919338,
          -1.1567821185393852,
          -1.2862353090846195,
          1.1372285828796866,
          -1.4156126179394626,
          0.9113388837963543,
          -1.0627605460051373,
          0.275103959079007,
          1.0469154918776549,
          1.1396616886216253,
          -0.5672945686782984,
          0.025042060463890816,
          -1.8353339610894994,
          1.085212123286663,
          -0.5978788246978158,
          -2.7784141489885013,
          0.8704271601658375,
          0.7048704561730109,
          1.2203327148200596,
          0.19452298115419833
         ]
        },
        {
         "showlegend": false,
         "type": "box",
         "y": [
          0.5917370057933407,
          -0.6915229063232455,
          -1.0575166381202497,
          -0.7999045838000811,
          2.612816347344378,
          0.8840232084423881,
          -1.2435687783244715,
          0.3715435284054931,
          -0.6056718346572115,
          -0.4166036286252985,
          0.2422946557421543,
          1.436562521156439,
          0.6732444160246128,
          -0.6943158524044734,
          0.686876040541859,
          -0.8519730897225185,
          -1.6532884878909437,
          -1.2740504004490356,
          -0.6445139124144605,
          1.754591188580262,
          -0.3096695694883778,
          0.2646155228760129,
          -0.4868827251731629,
          0.5913301305598823,
          1.4433927738600256,
          -0.49528352286050975,
          0.8610970558821283,
          2.0664644651321513,
          0.1400371571113621,
          -0.3059776882173799,
          -1.3633636216949963,
          0.2588795660385572,
          0.475305628116704,
          -0.7573173772598805,
          -1.1990009528040722,
          -0.29779781299370234,
          -0.8249067938574239,
          -0.04038950741352552,
          0.6746108022609694,
          1.262932601745475,
          0.7858276520332413,
          0.08679594597939372,
          -0.08796310483613436,
          0.9699787949571926,
          0.1992927731566942,
          -0.42328699141865983,
          0.08142521531167075,
          -0.4468260720437648,
          0.647994413556227,
          -0.4970742670839862
         ]
        },
        {
         "showlegend": false,
         "type": "box",
         "y": [
          -0.04726967160925151,
          -0.1473890733749081,
          1.5356952863543842,
          -0.8241802881268014,
          0.7771931000710007,
          1.2756774449653188,
          -0.19460425583139052,
          -0.8172238046160377,
          1.9588004304509408,
          -1.2019591794011921,
          0.9740459848628171,
          -0.5336071424930153,
          -1.9198317779596055,
          -0.612172022542368,
          0.4220404097140478,
          1.5126572561601144,
          -0.625603508074077,
          0.08147081755430388,
          -0.45129362030787123,
          0.12531535475589695,
          -0.1120286653948883,
          -1.2842695235387784,
          -1.3106172474100144,
          0.43782689325839086,
          -0.8482719269949873,
          -0.9452440233639156,
          -0.09799242822341589,
          0.03871305062927721,
          0.4138872548932541,
          0.3400765383538181,
          -0.8926528611941859,
          0.6635231896124242,
          -2.787481324891581,
          0.16753162509378358,
          -0.5202733654616623,
          1.0309904253271462,
          -0.48810159021091853,
          0.7044378936375375,
          -1.0292965096373081,
          -1.6174760824741516,
          0.27271726292590737,
          0.9709766904807938,
          -0.23949652641301974,
          -0.4959316613893912,
          0.617734312024799,
          1.6652549412949595,
          0.3584971313778234,
          0.22018216973953678,
          1.117259398282198,
          -2.4062340198037653
         ]
        },
        {
         "showlegend": false,
         "type": "box",
         "y": [
          -0.89487049941703,
          0.18071566321868718,
          0.1758509300345014,
          0.7633050565055263,
          1.3359510400630257,
          1.7577768261003346,
          0.09952905505189637,
          0.973965388811697,
          0.3693142963011518,
          -0.04104486632606364,
          -0.5842990094772533,
          -1.729899415767898,
          1.2579563417429858,
          0.47143212265234347,
          0.9032566667931415,
          1.4803921684977055,
          0.5263901662635208,
          1.140224320688427,
          0.34313876298009693,
          -0.14921294432628568,
          -0.2618751425080896,
          0.4971232002112868,
          -2.0631427232089425,
          0.4900943745855275,
          1.9739043814802524,
          -2.0615143025238694,
          1.1259617429426663,
          0.3347537945325357,
          1.5198247443354993,
          0.20812822004784504,
          -0.48290175177499767,
          -0.3609271417189038,
          1.1053071992025492,
          -0.3066222888524585,
          -0.2654103767926047,
          -0.15884005670653076,
          -0.8490136293057601,
          -1.499165886694162,
          0.8165973736651523,
          1.8430171579037888,
          0.6797428083888766,
          -0.7579760408733769,
          0.8607274273997645,
          -0.3995254228286841,
          -0.18203286532373378,
          -1.4354663925705282,
          -1.5375493736712424,
          -0.7193394078421557,
          0.33116289983264485,
          -0.6961420559424398
         ]
        },
        {
         "showlegend": false,
         "type": "box",
         "y": [
          -0.8962773831660431,
          0.31791601342965936,
          -1.0282956842197524,
          0.0605062123919998,
          -1.171036269294203,
          -1.8249026974190354,
          0.18672391245521455,
          0.4448510166125717,
          -1.2157817618539366,
          -0.6689712764834629,
          -0.695263949386354,
          0.022821430239889598,
          -1.511477684203367,
          0.041916634520321065,
          -0.2746267499099159,
          1.2466354558984813,
          -2.3025000369896897,
          -0.022996128698000745,
          0.8637953591202133,
          -0.24069978647984405,
          0.5735380973361144,
          -1.0280226437875597,
          1.514128199090359,
          -1.0259585100697752,
          0.12254000650877696,
          1.4438613763695527,
          -0.6384050743521811,
          1.1225255877398614,
          0.4226841738510936,
          -0.6887929436489104,
          1.2066865373338638,
          -0.968392352684708,
          2.655976208574671,
          1.3089203388897124,
          0.3679194356130089,
          -0.07614252002632105,
          0.48741151533757726,
          1.0653164807459823,
          0.23151232985314643,
          0.2019651638049409,
          -0.5519964127247755,
          -0.7211808076539558,
          0.9446197646634005,
          -1.3575050969839035,
          0.6258888505940339,
          0.10915783057399556,
          0.5303687554838297,
          0.17272581153142974,
          1.63209877730643,
          0.17979051716657676
         ]
        },
        {
         "showlegend": false,
         "type": "box",
         "y": [
          0.3379374128656487,
          -0.3758323487603957,
          0.4121823928040874,
          -0.9176010960071876,
          -0.18452530302216302,
          2.1822358395786545,
          -0.1120412665048521,
          -0.6610067264958861,
          -1.0718894623135338,
          -0.10583541685294394,
          -0.16592528916017507,
          -0.27994011372628785,
          -1.2290630954997501,
          0.0526172175906004,
          0.6990528008994563,
          -0.17372383301510963,
          0.0352771059029288,
          0.39607557477542304,
          -1.5431687698741605,
          0.7086418050553422,
          -0.8405215722550224,
          0.4884241001918093,
          1.2191784986488872,
          -0.887371745940144,
          -1.0383084087740022,
          0.2005439377852234,
          -0.7316424880392437,
          1.5571211206854128,
          0.6754976803866395,
          -1.0508928409417255,
          -1.9954165843146683,
          0.5879468851893302,
          0.9255456644262275,
          -0.284893085282894,
          1.3127728385634905,
          1.0269729546602204,
          1.7076559755703955,
          0.25701170829488623,
          0.16114902587232063,
          -1.2089634580533561,
          0.17369539972454884,
          -0.5941304311293357,
          -0.8421917144805376,
          1.1491585210702864,
          -0.6047394298289785,
          0.02688827219482826,
          -0.44144729132313454,
          0.8048176478641643,
          0.225371208012008,
          0.65627271706114
         ]
        },
        {
         "showlegend": false,
         "type": "box",
         "y": [
          -0.9012713311854488,
          -1.939933790390728,
          0.803844349816956,
          0.6028558017185495,
          0.8783609108291669,
          -0.2893404568719806,
          0.8884396280893446,
          -0.6076391913118243,
          -0.6226670871807704,
          0.6130198469086882,
          -0.0038769009162980587,
          -2.538393085093466,
          -0.9947255256922084,
          0.6631405452134109,
          0.5344846832131352,
          -0.7068591175275194,
          0.6762348504959773,
          -1.0231453609667012,
          -0.13816150518793013,
          -1.3945579941913295,
          1.2901667315435452,
          -0.6841743111482489,
          1.345335995809772,
          0.3259916845920422,
          -0.37385518611880003,
          -1.8168839042522658,
          -0.4956772984202431,
          -0.4992181500932645,
          1.0765330714780936,
          0.7384701447695008,
          0.11332772045144462,
          -0.9913679798428384,
          0.05050037901551705,
          -0.5702511988546725,
          1.2387127561154294,
          1.2730014020624476,
          -2.3352655330436414,
          -0.9729853257470623,
          -0.30609484798059083,
          -0.4181493087426574,
          -0.7929587204561365,
          0.3960749664887264,
          -0.18319339124409784,
          0.2357305416687684,
          -0.07473740139073738,
          -0.7565204663991126,
          1.413237979435693,
          0.8184926261039319,
          -1.169305430358896,
          0.24385636378662337
         ]
        },
        {
         "showlegend": false,
         "type": "box",
         "y": [
          0.09910157034745977,
          -0.6531535298929618,
          1.7345860177495462,
          -0.36872295646067593,
          -0.8171767290693009,
          0.9175037302627781,
          1.6532185716279757,
          -0.9535286440064431,
          -0.2922006681248321,
          -0.13309891637301022,
          0.6839489001556489,
          -0.42044991630550477,
          -1.093496747194401,
          0.8636709540918707,
          -0.21671993449170873,
          2.1923350336032588,
          0.4046506439812673,
          -1.1360240738120648,
          0.09167777407272718,
          -0.23847162463328303,
          0.5787835492969731,
          0.6782347442002127,
          -0.8738018035137927,
          0.7375680407501494,
          -2.034569095472695,
          -0.17718900919689448,
          2.1631832271340725,
          0.007323913341450542,
          -0.45042779453243625,
          -0.8852439346336126,
          -0.33666761721691496,
          1.1844607360314596,
          0.6740872112243106,
          0.24031246031737405,
          -0.0020847290134830155,
          0.5765359201964644,
          -1.8536041388089302,
          1.2252737527528932,
          -0.48991178106064687,
          0.7716874917895009,
          -1.0601778893965768,
          -1.358132652831954,
          0.7508573527870962,
          -0.02534736771238693,
          1.6448872874591802,
          -1.127893378441171,
          -0.5092733523858756,
          -0.09763401321081196,
          -0.12777312210688477,
          -1.728009070897361
         ]
        },
        {
         "showlegend": false,
         "type": "box",
         "y": [
          0.011762349756879146,
          1.2184308693370138,
          1.3744614903445544,
          -0.24967604458839873,
          -0.3016248371890121,
          -0.4541075329040303,
          -1.640569399112331,
          0.448741589819329,
          -0.01336950706048502,
          0.28612471950079504,
          0.5179412278751693,
          -0.6058967068622708,
          1.4651561729775886,
          -1.6650249876754597,
          -0.09428410951630754,
          -0.5644911574378713,
          1.1257239785260007,
          2.2444530929720274,
          1.1964516671798446,
          -0.8068279138801382,
          1.089514659657948,
          1.3785599177062817,
          -0.5395546533918202,
          0.39014038862392547,
          -1.7410030760758195,
          1.3346001897018471,
          -0.6131059405249851,
          -1.7383848107664746,
          -0.5448316710525019,
          -0.8585046971636627,
          -1.3897891353567036,
          -0.5442868160440264,
          -0.3332010449809808,
          0.17264092206023438,
          0.7432274817608805,
          -1.2438212376000484,
          -0.9958545271669663,
          -0.6205570328016821,
          -0.5475531164916607,
          -0.017555232411006427,
          -0.7996553298101358,
          0.6432459168694277,
          0.946299797657553,
          2.048431147241117,
          0.28127025426580793,
          0.8413732823532876,
          -0.6599119272276186,
          -0.39851205264574036,
          0.9052923307822207,
          0.31257564071413724
         ]
        },
        {
         "showlegend": false,
         "type": "box",
         "y": [
          -0.033687683741002436,
          -1.9049872511826629,
          -0.1951911062864433,
          0.31321539399757964,
          -0.1840750668867753,
          -0.4898985601655307,
          -1.0948846413635587,
          0.4606121475024391,
          -2.3385376515048075,
          0.6998171930704593,
          -0.292061742136492,
          -0.7337140594220947,
          -0.588973310886253,
          -0.575144633395862,
          0.21420657419953604,
          -0.8778515701245685,
          0.4852693193337183,
          0.9372956046192744,
          -0.576483912784833,
          0.2959342158066156,
          0.0300887760088689,
          0.35567979364017166,
          -0.02869114194989167,
          -1.5296722530373787,
          0.15879027111221275,
          1.4009748348336915,
          0.2386857882779017,
          0.38342587023986807,
          0.6588534226067414,
          -0.8590136654147602,
          0.5185039794365198,
          -0.3655442427808645,
          0.385294578637562,
          0.457667001489915,
          -1.1207224850235926,
          -0.19468710429472055,
          -0.4054321139018342,
          -0.3185766988343349,
          -1.7813744575817656,
          1.9395434713832747,
          -0.8267025981275622,
          0.8005070824093337,
          0.8613522752276642,
          -0.9132327579424192,
          1.7412505467690176,
          -0.8163785395163511,
          -0.9204753494638853,
          -0.8005930042787507,
          0.6676089566233951,
          -0.14534923436944
         ]
        },
        {
         "showlegend": false,
         "type": "box",
         "y": [
          -2.493981640632041,
          -0.5391393349095045,
          0.15016356761355298,
          1.2922384881888815,
          -0.05471807286227204,
          -0.5713189456103919,
          -1.1840929742285986,
          -0.5637828526835978,
          0.22225550800337232,
          0.9529444740420089,
          -0.9707841220247054,
          -1.8815539649752762,
          1.1467009231463923,
          -1.9471974594877184,
          0.9241454248181158,
          -1.0229015915557262,
          -1.761378700062043,
          1.8390468671261198,
          0.04444585385836135,
          -0.9313519064925386,
          0.16175508222418142,
          -1.8563888462323104,
          -0.20920914374905356,
          -1.5101337891066742,
          1.3620494879408902,
          -1.415926169762625,
          -0.2052862920197546,
          0.2909897498559628,
          -0.24685428284813868,
          1.8475215614301272,
          -2.1292912111884763,
          0.0665331680264742,
          1.9939495973939747,
          0.5573819810494371,
          0.1262725119970476,
          2.3699987925177184,
          0.8010874563909451,
          0.578479253500073,
          0.8027383123709808,
          -0.9692054778588821,
          0.3500527237695631,
          -1.4797996857392075,
          2.007826689109504,
          -0.2133200019433691,
          1.3158435506185904,
          2.1540271340820656,
          -0.47508963985036134,
          -0.8458429236487822,
          -0.21620301710090686,
          -0.4841194164556575
         ]
        },
        {
         "showlegend": false,
         "type": "box",
         "y": [
          0.8510113049658878,
          0.2033295443392734,
          0.25764036515472344,
          0.30222350457985375,
          0.8126028506947339,
          1.1099925736550493,
          1.1178035940346893,
          1.166888150240702,
          0.44868874408539317,
          0.0970405203261977,
          -0.21456858295618872,
          -0.8610155820181004,
          0.29784533883642333,
          0.7090532535272764,
          0.09902328236284522,
          0.0849605899430734,
          1.2768845715937893,
          -0.5356952435110173,
          2.2097202840208996,
          -1.122302571787163,
          0.44001321387104475,
          -1.5619263713815392,
          -1.5190596151684037,
          0.4985475485572719,
          -0.2262442605186249,
          -1.2875209756638202,
          -0.43117897071195677,
          -2.0622118623562646,
          1.3797098927154665,
          -0.47110221542725467,
          -0.12697960150878368,
          -0.3898289592679944,
          -0.3510159663674098,
          -0.019602650276882575,
          0.5435223380812233,
          -0.09855178082218993,
          -0.8611878979086295,
          -1.7730965740813538,
          1.0338281345746771,
          2.126526685245654,
          -0.16321397376694485,
          -0.6386309339794819,
          -0.10594164137596374,
          -1.1788304664981157,
          0.29300321575690397,
          -0.7703267305310625,
          1.1308110378529768,
          -3.6832761641066196,
          -1.1667598883731716,
          -1.5447008935179884
         ]
        },
        {
         "showlegend": false,
         "type": "box",
         "y": [
          0.18687707721123475,
          -0.9337747211316686,
          1.3311442043450534,
          1.461842656071882,
          -0.6051260265575371,
          -0.19964454524342054,
          0.7600089499852031,
          -1.4326131577256658,
          1.6344059775489748,
          1.3093437130856016,
          -0.01970278634254589,
          -0.011392321817878913,
          -1.4290376602894113,
          0.45516111974924556,
          -1.887005651184371,
          -1.252500496742946,
          1.3368063345224352,
          -0.321991312708744,
          1.9540247280913339,
          -1.0749386724537056,
          0.7863397572759816,
          -0.0254290527894562,
          1.878227236324183,
          -0.47775091433202566,
          -0.5733012264570095,
          0.0936112671603367,
          -0.6200319512134168,
          0.33732606887035765,
          -0.6456731400928244,
          -2.2308716231748744,
          1.215814412718943,
          1.659735313460562,
          1.0954542366975226,
          1.0346501921193834,
          -0.2772885676846126,
          -0.6715546518090424,
          -0.42943201858726066,
          -1.669578388049688,
          -1.4845136498686142,
          0.45523003253798155,
          -1.0839453994600254,
          -0.4643583753857175,
          2.0516594351301447,
          -1.7666443041719158,
          -0.626861123816391,
          0.5042094694973757,
          0.01797897749491992,
          1.4293385131393535,
          -0.7636450448199835,
          -0.6692857041321654
         ]
        },
        {
         "showlegend": false,
         "type": "box",
         "y": [
          2.240000116533672,
          -0.4161256074100526,
          0.8433532003298152,
          -1.1082603279062464,
          -1.63684999781768,
          -0.9580039802295673,
          -0.6174415449331371,
          1.0086657519195041,
          0.6397185730207273,
          1.4043611073413333,
          1.6373350296903542,
          0.6533761600877679,
          0.25131358518403124,
          0.4702680673697745,
          -1.1035032125126814,
          0.7559933821330873,
          -0.3649241823515902,
          -0.31796759873395314,
          0.8254311877979572,
          1.426507858397698,
          0.886050848053443,
          0.844367795007211,
          0.540340053490645,
          -1.5622634496226013,
          1.2695064636044795,
          -0.9294218962486163,
          -0.5900491348040902,
          0.8674466097413946,
          1.165057801899939,
          -0.3622726377202023,
          -0.8077492325165707,
          -0.565443614405043,
          -0.3256913832347277,
          -1.003931257437726,
          1.1013884403461287,
          -2.717259224006606,
          -0.6033250469203126,
          -0.5801337897355632,
          1.040266650827973,
          -0.6781321539430127,
          0.3153833158894443,
          0.4363929354374654,
          -0.6333694924860825,
          1.002630341585594,
          0.4044478968081646,
          -0.946392831932205,
          -0.5963905131745549,
          -0.3754648142566929,
          -0.04467779579971265,
          -0.010319919133106025
         ]
        },
        {
         "showlegend": false,
         "type": "box",
         "y": [
          0.18276674576366378,
          0.9396453936165887,
          0.3966929376891042,
          -0.18138002473497156,
          1.0757329601116796,
          -0.6212435380955399,
          -1.3007867435243743,
          -0.8332595586585827,
          0.481757307115767,
          1.4214453017125805,
          0.2201571220427773,
          1.4735797524595995,
          0.2764257240894762,
          0.009807918569930303,
          -1.0829623801573178,
          -0.27089150430453585,
          0.12374828588634902,
          1.1470573663302808,
          -0.868921149303351,
          -0.5214834024322446,
          -1.0549461773384399,
          0.08479770180038679,
          -0.48069324244283,
          -1.4412014702391454,
          0.3117035534611033,
          0.5143038591995746,
          0.3698971993317216,
          1.01772426121577,
          -0.9189232565499603,
          -0.20709413475143149,
          0.055481241922869094,
          0.42302088831305323,
          1.2889160766589176,
          -0.07510909131688023,
          1.8399569039614385,
          0.9423118026936795,
          -1.4078948588506692,
          -0.886135378314633,
          1.8222059045194607,
          0.1450246341588508,
          -0.038868308363475275,
          -0.10747779669779639,
          -0.9558215784396601,
          2.2841724116814492,
          1.714913197805774,
          0.015970835431789277,
          -0.3751124526315796,
          0.36855873715516985,
          0.26248694192798167,
          0.003486088052019574
         ]
        },
        {
         "showlegend": false,
         "type": "box",
         "y": [
          0.16392760427437778,
          -0.7686139047813605,
          0.37145410038168647,
          0.2838605014275678,
          -1.8423380072564073,
          -0.1669677804187287,
          0.0019227571863832502,
          0.005344356193705498,
          0.3715333997500554,
          1.4355889670279784,
          0.2457581588251873,
          1.0030346603941622,
          0.05246080685359764,
          -0.45106946086737204,
          -1.5333325598265295,
          -1.1632517459651601,
          -0.09032933324493779,
          1.5469885206638148,
          0.3911171404644514,
          -0.062235074529624845,
          -0.732030611195241,
          2.6750374356225635,
          -1.8985360910130193,
          -0.07170127833700336,
          -0.35364134302402533,
          0.6146600032564437,
          0.03797505429672917,
          -0.47219484123777616,
          2.190875645706429,
          -1.0863644572803735,
          -0.3992783793819383,
          0.4843465545316693,
          0.5244681096787077,
          -0.22781675823774755,
          -0.39514767270689233,
          0.05733903295420575,
          -0.46837673676829406,
          -0.05255903702269262,
          -0.6392591401477444,
          -0.06889666451636159,
          -0.6120659598607376,
          -0.6592088983960207,
          0.4869658963137059,
          -0.9047091253330785,
          2.0056345492837795,
          -0.3503193516253764,
          1.090000807684694,
          0.2683694538158426,
          -0.34495456711962263,
          -0.37779936649533846
         ]
        },
        {
         "showlegend": false,
         "type": "box",
         "y": [
          2.3567486567086915,
          -0.6129861395017868,
          0.35994230885690376,
          -1.879567791780611,
          -0.39912477923613904,
          0.20803134707160145,
          -0.5316375232382622,
          2.1427132063859378,
          1.1044668281352488,
          -0.38326328155999934,
          0.2607587924894585,
          0.11647619018167069,
          -0.2535452207615448,
          2.266769597394374,
          0.12996122431035434,
          -1.3935564692373996,
          0.7373734646075564,
          -1.2155701348720371,
          -0.21331150278014677,
          -0.24924538751997302,
          -0.09059429876707951,
          0.2515982735471319,
          0.3365834891164115,
          0.8579125981252994,
          -1.4657288990246928,
          0.7264133867645324,
          -0.47420830832535027,
          1.081022093612204,
          -0.8086121909120183,
          -1.4900355860826522,
          1.5816457409723015,
          0.23256973383654206,
          -0.3063745154869188,
          1.2792681494742155,
          0.0243198043769686,
          -0.636371782874657,
          -0.879718887184064,
          1.64750910063342,
          0.8365603228484756,
          -1.2527480591315787,
          -0.43407078423216383,
          -0.11853843027869371,
          -0.3563364823647903,
          0.9252535618160224,
          0.5795335541974899,
          2.595862322306221,
          1.1408369569592351,
          0.13620737862638216,
          -0.2619006080866618,
          -0.2418944928760734
         ]
        },
        {
         "showlegend": false,
         "type": "box",
         "y": [
          -0.9602949396213951,
          0.7309372467888391,
          -0.2302816081712405,
          0.9219891126987093,
          2.231405447993631,
          -1.3338808011502894,
          -2.1575616975128122,
          -1.898037890416946,
          -0.3540817074324563,
          1.41049924179613,
          1.0013031348240373,
          0.5627178612523732,
          -1.4799229957046467,
          -1.1135648705161743,
          -1.1132217255924508,
          0.07585635465499768,
          0.672488415324395,
          -0.5526145497879621,
          0.14262899136724078,
          2.4417258144444403,
          -1.0768535395227654,
          0.6075396783365753,
          0.5407495861959505,
          -1.6214394128132237,
          -1.112900865391673,
          -0.3525580678655201,
          0.5013751845539287,
          -2.5639779750444323,
          0.6044081527047387,
          -1.6941522989310844,
          -0.3703488484985346,
          -0.5003662293439093,
          -0.3321888095349671,
          -0.9756924384193794,
          0.33293717269317624,
          -0.11068296087422476,
          -1.038735730754863,
          0.42901955846202494,
          0.957142897045517,
          -1.1616772015594834,
          -0.16007680988616504,
          -1.5544568198063065,
          1.4839661830320883,
          -1.1985241157186148,
          0.9176518493905506,
          1.2237802422598325,
          1.9100068158748436,
          1.9293455490886537,
          2.442169650809674,
          0.12696000003399097
         ]
        },
        {
         "showlegend": false,
         "type": "box",
         "y": [
          0.0970382988054532,
          -0.5044389257340498,
          0.4298203637040704,
          -1.4793131794266376,
          0.36206747639052617,
          -0.9367910872974026,
          0.31818242388921125,
          -0.6553819994698447,
          -0.16494117734048142,
          0.9088936243255511,
          1.3396243431492119,
          0.2468930331071306,
          0.27256143312122516,
          -0.5037621861305754,
          -0.2906090061535384,
          -0.40787176777742623,
          -0.4091702051154178,
          -0.29256511933588397,
          -0.22853278066702584,
          -0.860194578163541,
          0.4114830983665833,
          -0.27443705330887835,
          0.8207141016929587,
          -1.281078166740392,
          0.14882666380194576,
          -1.2170924927411242,
          -1.4432639706943355,
          1.6326040678236642,
          0.005796034217076392,
          -1.1294903839667294,
          -0.816279183597987,
          -0.5228987877656502,
          -0.3129008658462321,
          -0.2530963109399543,
          1.6094607557284286,
          0.8057028071551063,
          -1.2516142511468613,
          0.4856049727025738,
          1.6858809501386383,
          -0.7880165741881873,
          -0.0839921192556791,
          -0.6589502229608594,
          -0.30876699079160375,
          -0.4033814667075046,
          0.14505945390643465,
          -0.917703289347282,
          -0.1738940753476228,
          -0.16093664597154259,
          -0.3153997720100211,
          -2.051952078425906
         ]
        },
        {
         "showlegend": false,
         "type": "box",
         "y": [
          -0.17213678939197122,
          -0.6686594452528891,
          -0.7038983466792357,
          -0.6231833807558814,
          0.37765600109608716,
          -0.03244118643799976,
          0.48990566814387543,
          -1.54756184928124,
          1.7315122844031536,
          -0.41930199172469546,
          0.46519448334387786,
          -0.3290805254479595,
          1.0534753968354589,
          0.5192604008187368,
          -2.009358740394624,
          -1.1636806217504727,
          -0.3349142624787335,
          1.3459425074547315,
          -0.6793739826529356,
          0.7571767282883873,
          -0.18305792858015918,
          -1.8082276695616162,
          0.6957043934672017,
          -1.025501683223164,
          1.1152117892232212,
          -0.7146182972422932,
          -0.026727408779019884,
          1.2777404287766483,
          1.222020435833655,
          -0.8398837995618279,
          0.8274328164758774,
          -0.9341470920215662,
          -1.21078518728347,
          0.17319188820876774,
          0.9668545781523711,
          -0.35385289941525333,
          0.9453197901901446,
          0.44184995503372876,
          -0.44183853903602993,
          0.28289818966138286,
          0.6734541479195556,
          0.14583453574862096,
          0.9364537911606029,
          -0.5796006332222856,
          -2.107880320561533,
          -0.8824073777948122,
          -0.46409452649859045,
          -2.079570710541221,
          -0.7294190419842357,
          0.4164588108265
         ]
        },
        {
         "showlegend": false,
         "type": "box",
         "y": [
          0.1328570993236656,
          -0.132721453918769,
          -0.7247083673420041,
          0.04288237076625023,
          -0.06328179183296395,
          -1.6066670796143414,
          -0.46857029708915326,
          2.0007337710739184,
          -0.3212843089416824,
          -0.36576283597338977,
          2.024757177694022,
          0.8894779633977669,
          1.5491600602038846,
          1.0431319749838197,
          0.08416440732378078,
          -1.4003548511386168,
          1.1458019804930233,
          0.922304871562414,
          -0.38973320196409994,
          1.8356518434458393,
          -0.44067782287411705,
          1.5838670513971924,
          1.0500102802833817,
          0.8912851812504474,
          -1.1147336558041105,
          -2.1670552720163156,
          0.15594116578714143,
          0.38158917002819553,
          -0.49417134645121485,
          1.0755018138878583,
          0.40745582654170415,
          -0.1729690881656224,
          -1.5134870785669834,
          -1.2159340802030336,
          -0.20496225234515417,
          -0.23717817341900163,
          -0.13756288422554871,
          1.914236681267452,
          1.8302462849620647,
          -0.9863198543604539,
          -1.2699708272954178,
          0.5869429528034557,
          -0.10199994863037809,
          -2.013600617750974,
          -0.940749106605732,
          1.1044787132701896,
          -1.1313648228996802,
          1.0451075487828803,
          1.3005855595465434,
          0.017305695854063618
         ]
        },
        {
         "showlegend": false,
         "type": "box",
         "y": [
          -2.6393770655475888,
          0.5620110130782935,
          -1.0519605846166338,
          -0.19170302315449683,
          -2.0749966441406014,
          0.020484317787631268,
          0.022457762106422214,
          -0.8518023820845201,
          -0.4998798304154823,
          0.518024995140035,
          0.30197345518786173,
          -0.44057224036971426,
          0.4246924603079184,
          0.06571859569752816,
          -0.680734492602239,
          -0.37859380422179595,
          -0.8413980997531258,
          1.2159799130350932,
          0.10919915328876216,
          -0.4902642954666199,
          0.058561088058958315,
          0.060063542649948204,
          0.0740621063137399,
          -1.5057197048197566,
          1.0664213164146812,
          0.2596035998323444,
          -1.531628793489071,
          0.10019574285519871,
          0.04217103286397045,
          0.5265437855628794,
          0.659488478769187,
          -0.12425659381423663,
          -1.0334177876657318,
          0.18533298312837926,
          0.9455287640286852,
          0.7577852579759531,
          1.3552728513314083,
          -0.07945741770478522,
          -0.35911388200702704,
          -0.17703535654947386,
          0.6361978101300177,
          0.5227135396364977,
          -1.5361643564638734,
          -0.13244165092546545,
          -0.24619719798570924,
          -0.3204743439976324,
          0.530467234058037,
          -0.16886391618445035,
          -0.6295862870360074,
          -0.2071918995154708
         ]
        },
        {
         "showlegend": false,
         "type": "box",
         "y": [
          0.39827584225027424,
          -1.0981293001391745,
          0.22354063483557432,
          -2.5616274014241385,
          1.6257891184103221,
          1.0463097542875766,
          -0.2064792165027483,
          0.31864966032543457,
          0.5907651482717503,
          -0.7280852719149428,
          0.312669245939018,
          -1.3398770470245234,
          0.31530461634047374,
          1.5082880154497869,
          -0.7222750695727757,
          0.6179666017678258,
          1.8438305063796823,
          0.9289786460712205,
          0.4267093488476345,
          -1.0540073590836476,
          -0.29919017230352213,
          -1.132822799978525,
          0.6536312867254632,
          -0.44828763342056105,
          -0.8509035157413136,
          -2.574755217537083,
          0.3035757048167294,
          0.5536910560355638,
          0.9795417560169836,
          -0.9666489652409738,
          0.1443285875781875,
          -0.5507196980455471,
          2.134204466965365,
          1.2002621633808137,
          0.5539732138192213,
          0.44405204361763373,
          -0.8066429655529732,
          0.47689696974561896,
          0.40095681057966404,
          -0.21926958131756527,
          -0.5797014397387007,
          -1.5172535511250775,
          0.00926346474459608,
          0.5697746093056334,
          -2.3556751456972376,
          0.8803531585333235,
          2.029448318283848,
          -1.2365916466780935,
          1.2316420941138726,
          -0.6224774673632834
         ]
        },
        {
         "showlegend": false,
         "type": "box",
         "y": [
          1.4463763025428389,
          0.5994152193421665,
          0.48168177130978573,
          -1.598240193622905,
          -0.6071434953945998,
          -0.18569350148240257,
          1.7039460818140493,
          -1.15840973783809,
          -0.9721590947645299,
          -0.27711040821192523,
          0.26790565354885976,
          0.7307430901011609,
          0.8386015620061007,
          0.8166818524985323,
          -1.7979446255048621,
          -0.3067836876488113,
          -0.9138805401873146,
          0.9831288203643739,
          1.1080139134030809,
          -2.0140641444660123,
          -0.2866804455905951,
          -0.9720067802489984,
          1.7904990004190424,
          -0.06783404753518506,
          -1.2749728207239241,
          -0.9122216115739327,
          1.7708576353596317,
          0.3675964889096111,
          -0.2635118871483661,
          0.19179785814527173,
          -0.5026931511519325,
          0.1658548760580754,
          -1.6769015548103627,
          0.011003708147026772,
          -2.3318031735109574,
          1.5472475951048823,
          -1.2037082351062625,
          -0.004604873505801177,
          1.6732782924490195,
          -0.06367334657343958,
          0.8068678716200302,
          0.6445906283717435,
          0.9757229945961832,
          -0.43013875942064395,
          -1.2255088694183156,
          -0.2367323339899299,
          0.2525239153400976,
          -0.124254955787865,
          -0.8788913683398228,
          0.41462115094406427
         ]
        },
        {
         "showlegend": false,
         "type": "box",
         "y": [
          0.9641945175626636,
          0.7016143862203109,
          1.261265975469882,
          0.8657734320683939,
          -0.19304120688478643,
          3.064407156830229,
          -0.5597515871296179,
          -0.3676372059202907,
          0.29186257550688804,
          1.0888208779247952,
          0.37163649612364885,
          -0.7713161463729634,
          0.008196894131356198,
          -0.526087452770361,
          0.04318707646073683,
          0.39132934457202223,
          0.5348017470304413,
          -1.1583833944238762,
          -1.2265873746972096,
          -0.3082713100853353,
          -0.7434246994001529,
          -0.39064800527931753,
          -0.9456178980028982,
          -1.1032821816733909,
          0.9082736041503622,
          1.6731378659849205,
          1.2247271850563322,
          2.009290540458807,
          -0.741263824610384,
          0.09235220933209365,
          -0.04717474456106199,
          -0.743847564919324,
          -1.171293872700927,
          -0.6523526064302715,
          1.446501090449737,
          0.7586192721003416,
          -0.8019746620279329,
          -0.6260437068103771,
          -0.8021093061189436,
          1.1633815360965245,
          -0.41185804425866196,
          -0.9796984364881414,
          0.3342385086142189,
          -1.6037906977395713,
          0.4641132957743312,
          -1.195689915175159,
          -0.9239332848107565,
          -0.6202897410230227,
          -0.5997748607698941,
          -0.2218379288015482
         ]
        },
        {
         "showlegend": false,
         "type": "box",
         "y": [
          -0.34279718479653937,
          0.5286770135251666,
          1.3082963606691806,
          -0.5509584546454757,
          1.0104824015007494,
          -0.09651628170012362,
          0.2373705159929373,
          0.7670067642146309,
          -0.1506090101878643,
          -0.41447239015709675,
          1.850868781954295,
          -0.3622119747962658,
          0.0628892826897625,
          -0.07935848674605767,
          -0.8729007924471301,
          -0.1284187732435429,
          -1.1583644392244168,
          1.1280410208817484,
          -1.2899886774354226,
          -0.140096153390974,
          -0.16676427781834813,
          -0.628906875899235,
          -1.467847947860103,
          0.04442440771517379,
          -0.37075781074603575,
          -0.9722120379475947,
          -0.7082045425162997,
          0.7513723466944308,
          -1.8466370947695083,
          1.3385440372886006,
          0.4619175442429986,
          0.7558147511154676,
          1.2031658510417935,
          -0.9316258495293449,
          -2.027618676174853,
          -0.5527557039044622,
          -0.945205325959467,
          -0.017847447286004847,
          0.5122428300399934,
          0.9927882599410265,
          -0.3493471508199056,
          0.40046562518655004,
          1.0074854756749565,
          1.2925579603733357,
          1.5278414317540572,
          0.28470177802626034,
          -0.6465058037950699,
          0.5309889510555449,
          -1.736553528424194,
          -0.5326925539304367
         ]
        },
        {
         "showlegend": false,
         "type": "box",
         "y": [
          0.8930423893212055,
          0.6031123815063548,
          0.7847749741622005,
          0.47492150907129366,
          -0.5252466911147095,
          1.123603963683878,
          -1.4852442439765312,
          0.5120423838248295,
          -2.5582408549535183,
          0.6209363871530711,
          -1.0053984477811804,
          0.1468544962925109,
          -0.5230298838853031,
          0.5623213875291083,
          -0.0264089542779459,
          1.8567117943520224,
          -0.5802434105798603,
          1.9937439024243908,
          0.133713490431177,
          0.5775392823053593,
          -0.9550442453438251,
          -1.0464738470511992,
          -1.0034636535390893,
          -0.9445774067726888,
          1.655817568402518,
          -0.3326843273723417,
          0.8658165274414844,
          1.1429441853679059,
          0.9092285302676552,
          -0.2849338358690702,
          1.8520938815643582,
          -0.9782542816769585,
          0.16972567427176322,
          0.8522073395314766,
          -1.3576311413821365,
          0.8488301815885174,
          -0.5911490727984544,
          -0.11451607230225279,
          0.09388197677979335,
          -0.4765152456285022,
          1.0726439649988118,
          0.80034513352388,
          -0.7117424182820159,
          -1.009852337292709,
          0.8791225901125853,
          -0.10626082626063318,
          -0.5476012207503967,
          0.7290578166201841,
          0.19792283624552445,
          2.4153824191748354
         ]
        },
        {
         "showlegend": false,
         "type": "box",
         "y": [
          0.9407804700457393,
          -0.9688566827740762,
          1.253870866414903,
          0.33483174447230557,
          0.04926126708619503,
          -0.7967655813298503,
          0.9363125775501002,
          0.31629846390493066,
          0.8907766784043254,
          -0.036020502819338114,
          -0.7440911058754581,
          0.7126688680290215,
          -0.8058762389569201,
          -1.8806523798769006,
          0.48015280935335175,
          -0.5127149956864956,
          -0.18712504591937415,
          0.5636405947664934,
          -0.556948079294502,
          0.9493559357929278,
          -0.44283211212124873,
          -0.4626378017534403,
          -0.08449067887880572,
          -0.12285042362267862,
          0.4253376754504793,
          -1.5135623318715055,
          0.32959808103174043,
          -0.5917996403776605,
          -0.4270954593760289,
          -0.7346828424400392,
          -0.6598113793483588,
          -0.4442308007049021,
          0.11171591838221852,
          1.3421532251650983,
          0.04990916971036095,
          0.13464326114887085,
          -0.40305166937524595,
          -1.782237052845589,
          0.005884189128920351,
          -1.0529769948870298,
          1.3814500941173238,
          0.8959258817864402,
          0.47469208288907216,
          1.9404037329527213,
          2.1745693240635453,
          0.48766126636857854,
          1.0800796839954574,
          0.5325875265485401,
          0.46642653931672834,
          -0.5920439715547412
         ]
        },
        {
         "showlegend": false,
         "type": "box",
         "y": [
          -1.4507882612166196,
          -0.6007866182033365,
          -0.3599696899428863,
          -0.7502810589660794,
          0.07524413761298035,
          -2.3622350792147775,
          -0.8729950600778043,
          0.35912728399566096,
          0.057461261719209365,
          1.3770766971664974,
          -0.3228255470832242,
          -0.761374613162188,
          -0.14197348320746508,
          0.946522719457473,
          -0.44689865879014534,
          -0.39429943263018546,
          0.07775259182941385,
          0.7891641591237066,
          -1.3139391565140877,
          1.7960050996237897,
          -1.1487908224597174,
          -0.4815531715503281,
          0.5649083177955412,
          -1.5799492410087914,
          -0.564218468422589,
          -1.7962763005328202,
          0.0011915579758197165,
          -0.3801477401821019,
          -0.9119763099729505,
          0.5012508706732823,
          -1.541467666192372,
          0.845742280864114,
          0.35674137631517094,
          0.1912572876511701,
          0.5416194707096509,
          0.4713698334221372,
          0.9712611200160085,
          0.016394980487005405,
          -1.7218877402972996,
          0.6453958443597185,
          -0.7917058532128985,
          -0.37827392919625263,
          1.5805364458910962,
          0.8749580153148263,
          0.47089254133720465,
          0.13505925536544777,
          -0.2796056009074383,
          0.7585014499611946,
          -1.85552729670132,
          1.2211429824587368
         ]
        },
        {
         "showlegend": false,
         "type": "box",
         "y": [
          0.287904201269963,
          0.7551586940345135,
          -0.9283673258961403,
          -1.0146280624766666,
          1.8229892898660967,
          0.8052594330157102,
          1.5248219643541385,
          -0.24074298304767885,
          -1.5132746305480596,
          0.6815055273756757,
          -1.6165665138166305,
          -0.632649158421114,
          2.358377474150991,
          0.8197808091873038,
          -0.887280282733418,
          -0.19802354128267338,
          2.314065087168379,
          0.07555430840298992,
          -0.993266694529429,
          0.6153078825672992,
          -0.4064288948903409,
          -0.5397487365475651,
          -0.7191340082389863,
          0.17345265382037403,
          -1.7836955159726675,
          0.5654810997428492,
          0.5119856351721851,
          0.6377436560503512,
          -0.6472228694688931,
          -0.45346653390372477,
          0.42972992448678743,
          0.47205029177117286,
          -0.06580752376200218,
          -0.8234359521794338,
          0.2881958187104082,
          1.0564618833299404,
          -0.8957543280604863,
          -1.2793586600737108,
          -0.011227783853837811,
          0.1718478606953274,
          -1.8843805378635918,
          1.0546297439907346,
          0.28153182470516935,
          -1.3819360912571883,
          1.1816138957685627,
          0.2929319516862537,
          1.052320082517447,
          0.32585414421399006,
          -0.7293336910422891,
          0.848705889287416
         ]
        },
        {
         "showlegend": false,
         "type": "box",
         "y": [
          0.20972571057171682,
          -0.057387794082448,
          -0.46655158279246045,
          1.5373632634361427,
          -0.06962490168883756,
          -1.280496284864256,
          2.2474693695616987,
          -2.6312937893636135,
          1.825377136298679,
          -1.198006909810771,
          -0.5077574643515549,
          -0.45947410747823814,
          -1.7340579278974957,
          -0.07693877340413541,
          -0.6742432002864859,
          -0.34499913733116705,
          0.2721456128064952,
          -0.7819269852994478,
          0.317884450007199,
          -0.07412212904885566,
          0.27399002600943834,
          0.5289396795059306,
          -1.6112617587485702,
          0.4789293054922572,
          -0.40183519963746617,
          0.5401282945111928,
          0.4797404399129788,
          0.8209771373957878,
          -0.11528606060844024,
          -0.24679679021162826,
          -1.1659676128770913,
          1.3212101399229423,
          -1.086125116201759,
          -1.028928922149201,
          1.9315490436982636,
          0.5879443980452428,
          0.3642454841106856,
          -0.5946911151060896,
          -0.5534762057935675,
          1.0085122673319638,
          1.6652212593111229,
          0.2950118291318778,
          -0.8755549092372319,
          0.31499213394114384,
          1.4696120130776826,
          0.02905522030443432,
          -0.09873324961998307,
          -0.15885468087976598,
          0.19350767312831824,
          -1.4419723297103584
         ]
        },
        {
         "showlegend": false,
         "type": "box",
         "y": [
          -0.7536646230744836,
          -0.2400403839322563,
          0.9972234697628529,
          -0.14979172520918163,
          -0.03244785697552993,
          0.33272362262369737,
          2.5432869016169333,
          -0.5112678062659607,
          1.5099306728084314,
          0.15616314774952605,
          0.4435739046452181,
          -0.2090403049105175,
          -1.3038884739552827,
          -1.1486443026468882,
          -0.3770061712468305,
          0.1016600590958625,
          -0.6483236793858087,
          0.8049352770356141,
          1.3569655849821562,
          1.0341056557632224,
          -0.9225357993322043,
          1.6800290953901882,
          -1.5417574404045298,
          0.2943270012344715,
          -1.3306073333625692,
          0.3970134093227944,
          1.2494303519437386,
          -0.597575165952099,
          0.546625556670524,
          0.36009349557692055,
          0.89527671458694,
          -0.5626485584258177,
          -0.05858407351947637,
          -0.084012423914263,
          -0.8558555726944022,
          0.4579626350088988,
          0.6779021608992398,
          -1.2033655886749484,
          -1.8626132045142232,
          0.42334054851368014,
          0.4054611716182505,
          0.6538253858204287,
          1.3904630829814588,
          -0.5840249269353718,
          -0.8514716746060603,
          0.5175179691359033,
          -0.5484407324770327,
          -0.09673899606087395,
          1.0937160884071482,
          -0.16890724895832554
         ]
        },
        {
         "showlegend": false,
         "type": "box",
         "y": [
          -1.1130598137962473,
          0.15577134342354257,
          0.726836674050226,
          -1.6196863510685944,
          -0.31517376124812363,
          0.41857310775273937,
          0.9339913414729665,
          -0.9142547399902501,
          0.43836668454459937,
          1.2192731107949604,
          0.12022302541479023,
          0.827609150968408,
          -0.03638012747146519,
          -0.2545435863816778,
          0.543627365307511,
          -1.1073363257800048,
          -1.3335369886237403,
          -0.2738652620606141,
          -2.0495504518129812,
          1.5870644499984852,
          -0.2761342181094965,
          0.19605240540637328,
          -0.8704654928756824,
          -1.1566033992110027,
          -0.8250887077066543,
          0.21712740557233384,
          -1.233451079479462,
          0.00024179631430019144,
          -1.39340016172095,
          0.1731765107665384,
          0.5259497187256176,
          0.44194959210532003,
          0.043988627591672214,
          1.7249128346455544,
          -1.1651468172697643,
          -0.46979528475999593,
          1.7318679817538158,
          -0.6147473736947956,
          -0.6921164979951328,
          -1.6490559423624211,
          2.0508099654305223,
          0.1787158521158008,
          0.2861411047704732,
          -0.5944832436825879,
          -0.4062221012076283,
          -0.44228206009464793,
          0.5982156700762217,
          0.5784548535700804,
          0.30215103260804194,
          0.7309285332974709
         ]
        },
        {
         "showlegend": false,
         "type": "box",
         "y": [
          -1.3425773356055295,
          -0.8732871892790952,
          -2.6665398240245115,
          -0.8421271959447637,
          1.3560243124041806,
          1.1846997232721863,
          -2.7237179658497803,
          -0.15597872806341373,
          1.0865812636135657,
          1.1934851899458294,
          0.4003114087053919,
          1.1100484087569398,
          0.07201231307312199,
          0.7082075760610121,
          0.6767845042642302,
          -0.983475649324852,
          0.6358441422161752,
          1.331069310451238,
          -1.2238499348506375,
          -0.6528557402378898,
          0.722443193733658,
          -0.29384616563578564,
          -0.10765488579622148,
          -1.6836253546347892,
          0.9261666084668936,
          1.0664494470105244,
          -0.8429927034309292,
          0.5385531323031225,
          1.144042744530871,
          -0.10478468920430395,
          0.6540958713898641,
          1.3986585909110096,
          -0.5403000046668389,
          -0.09051647186767646,
          1.1549019701531877,
          -1.6135965644184047,
          2.6786472864267346,
          0.43175638437052666,
          -1.8119834946598754,
          -0.08247064955287806,
          0.4471189379905844,
          2.9886508563810095,
          2.0844973734718653,
          0.803734457821127,
          0.5307852414262352,
          0.7480077420546095,
          -0.014882815256894314,
          0.2803385209409079,
          -0.5320047240794554,
          1.0442912031238938
         ]
        },
        {
         "showlegend": false,
         "type": "box",
         "y": [
          -0.08896459786779139,
          -2.1494409344954435,
          -1.0638319272843866,
          0.9441172333347858,
          -0.9424987042123568,
          1.6232324486369536,
          -1.2756358208708174,
          -0.3052958883629192,
          -0.25958994711406613,
          -1.9239991750710068,
          -0.9259493248582114,
          0.6451773320234915,
          -1.8644667312070828,
          -0.7554817928112434,
          -0.20615474824978278,
          1.3075320575149076,
          1.3547568786898325,
          -1.3404654369121978,
          -0.333308649346126,
          0.5904902246372948,
          -0.7414261143914657,
          -0.6525262229348485,
          -0.45684300953545753,
          -0.5132062645031674,
          1.022012723122001,
          0.6789181948256025,
          -0.1964315075043353,
          -0.8614047431559123,
          -1.3464211338392438,
          0.9247068208464652,
          -0.04789211727710863,
          -0.13910797620241008,
          -0.7338915907212629,
          0.6402498614462357,
          -1.851101156864675,
          0.7352806767154547,
          0.7332408778378375,
          0.9578624993102931,
          0.3835741757666736,
          1.8754762302544328,
          -0.044064797828279156,
          -0.14524144879307466,
          1.6188620800653806,
          -0.5393967598353229,
          -2.03929658443642,
          -0.55202901004341,
          0.8275044873470736,
          -0.720330244878864,
          1.9652599310744758,
          0.8153692167155466
         ]
        },
        {
         "showlegend": false,
         "type": "box",
         "y": [
          0.2782129275998999,
          0.8474678937469997,
          0.7869057297893183,
          0.8790977818275956,
          0.2301555622481651,
          1.0937784289582508,
          -0.2900778260640186,
          -0.7381921022341522,
          0.22850414792708007,
          -0.5892810545177436,
          -0.17480237311390698,
          -0.5812755673722875,
          0.34036669323275426,
          -0.12876369502068252,
          0.17396272989553185,
          -0.14255798711597037,
          0.9177064175681224,
          -0.9206659529065548,
          -0.3345385434082703,
          -0.3332743526737127,
          -0.25115378208274547,
          0.19057166992250069,
          0.7648503939350366,
          -0.12375110874205092,
          -1.3048394812507984,
          -2.3751201898272587,
          0.9392409863838818,
          0.03431009288878903,
          0.3639885972537644,
          -0.18379591121886088,
          0.4814807279162618,
          0.933723113929789,
          0.20359525899013095,
          0.6419502201640178,
          0.7381021044887168,
          -0.14219291829545253,
          2.076287965443539,
          0.10716164359371169,
          -0.014002282160580984,
          -0.3984183694783125,
          -1.6486165841826834,
          -0.39841046005078007,
          -1.7832430486367772,
          0.822967292047158,
          0.19618307821421377,
          -1.4080339315501031,
          0.8427496369300741,
          -1.1457547896188014,
          -0.5982130390687441,
          1.329970213042188
         ]
        },
        {
         "showlegend": false,
         "type": "box",
         "y": [
          -0.7197387983060345,
          -0.7317851588132125,
          0.6106274692517492,
          -0.8285625742685673,
          -1.384342278674602,
          -0.33076690029015315,
          -1.1228309495622635,
          -0.9462248537200026,
          0.15972643263311162,
          1.6510986748184062,
          1.2552335869403373,
          0.5117123390156292,
          0.2787846201866027,
          -0.04479971444726415,
          0.6891184983059276,
          -0.4436894014913681,
          0.06953004018017259,
          -0.7936733800521341,
          -0.5347701403724467,
          -2.473168120344592,
          3.104503781395766,
          -0.28191211627691715,
          0.48547990735491237,
          0.24610347209428185,
          2.7756882255212405,
          0.584313381923845,
          -0.9557548044833993,
          -0.5483989350624624,
          -2.478854631192295,
          0.9662784175313366,
          -1.2633255647715003,
          1.182685159378843,
          -1.162947360582025,
          -2.0284232460749414,
          -0.7709032992755669,
          0.42296623833805685,
          -0.5129040364153943,
          -0.8050687379443973,
          0.3552158324738996,
          0.6552206303598079,
          -1.448957010361624,
          0.23932378376771343,
          1.5077149011617568,
          -1.4191311334264296,
          0.43274619224721333,
          -0.7875833096232764,
          0.5409190650259317,
          -2.089167208968919,
          0.12534072259712012,
          -0.43639744383701967
         ]
        }
       ],
       "layout": {
        "template": {
         "data": {
          "bar": [
           {
            "error_x": {
             "color": "#2a3f5f"
            },
            "error_y": {
             "color": "#2a3f5f"
            },
            "marker": {
             "line": {
              "color": "#E5ECF6",
              "width": 0.5
             }
            },
            "type": "bar"
           }
          ],
          "barpolar": [
           {
            "marker": {
             "line": {
              "color": "#E5ECF6",
              "width": 0.5
             }
            },
            "type": "barpolar"
           }
          ],
          "carpet": [
           {
            "aaxis": {
             "endlinecolor": "#2a3f5f",
             "gridcolor": "white",
             "linecolor": "white",
             "minorgridcolor": "white",
             "startlinecolor": "#2a3f5f"
            },
            "baxis": {
             "endlinecolor": "#2a3f5f",
             "gridcolor": "white",
             "linecolor": "white",
             "minorgridcolor": "white",
             "startlinecolor": "#2a3f5f"
            },
            "type": "carpet"
           }
          ],
          "choropleth": [
           {
            "colorbar": {
             "outlinewidth": 0,
             "ticks": ""
            },
            "type": "choropleth"
           }
          ],
          "contour": [
           {
            "colorbar": {
             "outlinewidth": 0,
             "ticks": ""
            },
            "colorscale": [
             [
              0,
              "#0d0887"
             ],
             [
              0.1111111111111111,
              "#46039f"
             ],
             [
              0.2222222222222222,
              "#7201a8"
             ],
             [
              0.3333333333333333,
              "#9c179e"
             ],
             [
              0.4444444444444444,
              "#bd3786"
             ],
             [
              0.5555555555555556,
              "#d8576b"
             ],
             [
              0.6666666666666666,
              "#ed7953"
             ],
             [
              0.7777777777777778,
              "#fb9f3a"
             ],
             [
              0.8888888888888888,
              "#fdca26"
             ],
             [
              1,
              "#f0f921"
             ]
            ],
            "type": "contour"
           }
          ],
          "contourcarpet": [
           {
            "colorbar": {
             "outlinewidth": 0,
             "ticks": ""
            },
            "type": "contourcarpet"
           }
          ],
          "heatmap": [
           {
            "colorbar": {
             "outlinewidth": 0,
             "ticks": ""
            },
            "colorscale": [
             [
              0,
              "#0d0887"
             ],
             [
              0.1111111111111111,
              "#46039f"
             ],
             [
              0.2222222222222222,
              "#7201a8"
             ],
             [
              0.3333333333333333,
              "#9c179e"
             ],
             [
              0.4444444444444444,
              "#bd3786"
             ],
             [
              0.5555555555555556,
              "#d8576b"
             ],
             [
              0.6666666666666666,
              "#ed7953"
             ],
             [
              0.7777777777777778,
              "#fb9f3a"
             ],
             [
              0.8888888888888888,
              "#fdca26"
             ],
             [
              1,
              "#f0f921"
             ]
            ],
            "type": "heatmap"
           }
          ],
          "heatmapgl": [
           {
            "colorbar": {
             "outlinewidth": 0,
             "ticks": ""
            },
            "colorscale": [
             [
              0,
              "#0d0887"
             ],
             [
              0.1111111111111111,
              "#46039f"
             ],
             [
              0.2222222222222222,
              "#7201a8"
             ],
             [
              0.3333333333333333,
              "#9c179e"
             ],
             [
              0.4444444444444444,
              "#bd3786"
             ],
             [
              0.5555555555555556,
              "#d8576b"
             ],
             [
              0.6666666666666666,
              "#ed7953"
             ],
             [
              0.7777777777777778,
              "#fb9f3a"
             ],
             [
              0.8888888888888888,
              "#fdca26"
             ],
             [
              1,
              "#f0f921"
             ]
            ],
            "type": "heatmapgl"
           }
          ],
          "histogram": [
           {
            "marker": {
             "colorbar": {
              "outlinewidth": 0,
              "ticks": ""
             }
            },
            "type": "histogram"
           }
          ],
          "histogram2d": [
           {
            "colorbar": {
             "outlinewidth": 0,
             "ticks": ""
            },
            "colorscale": [
             [
              0,
              "#0d0887"
             ],
             [
              0.1111111111111111,
              "#46039f"
             ],
             [
              0.2222222222222222,
              "#7201a8"
             ],
             [
              0.3333333333333333,
              "#9c179e"
             ],
             [
              0.4444444444444444,
              "#bd3786"
             ],
             [
              0.5555555555555556,
              "#d8576b"
             ],
             [
              0.6666666666666666,
              "#ed7953"
             ],
             [
              0.7777777777777778,
              "#fb9f3a"
             ],
             [
              0.8888888888888888,
              "#fdca26"
             ],
             [
              1,
              "#f0f921"
             ]
            ],
            "type": "histogram2d"
           }
          ],
          "histogram2dcontour": [
           {
            "colorbar": {
             "outlinewidth": 0,
             "ticks": ""
            },
            "colorscale": [
             [
              0,
              "#0d0887"
             ],
             [
              0.1111111111111111,
              "#46039f"
             ],
             [
              0.2222222222222222,
              "#7201a8"
             ],
             [
              0.3333333333333333,
              "#9c179e"
             ],
             [
              0.4444444444444444,
              "#bd3786"
             ],
             [
              0.5555555555555556,
              "#d8576b"
             ],
             [
              0.6666666666666666,
              "#ed7953"
             ],
             [
              0.7777777777777778,
              "#fb9f3a"
             ],
             [
              0.8888888888888888,
              "#fdca26"
             ],
             [
              1,
              "#f0f921"
             ]
            ],
            "type": "histogram2dcontour"
           }
          ],
          "mesh3d": [
           {
            "colorbar": {
             "outlinewidth": 0,
             "ticks": ""
            },
            "type": "mesh3d"
           }
          ],
          "parcoords": [
           {
            "line": {
             "colorbar": {
              "outlinewidth": 0,
              "ticks": ""
             }
            },
            "type": "parcoords"
           }
          ],
          "pie": [
           {
            "automargin": true,
            "type": "pie"
           }
          ],
          "scatter": [
           {
            "marker": {
             "colorbar": {
              "outlinewidth": 0,
              "ticks": ""
             }
            },
            "type": "scatter"
           }
          ],
          "scatter3d": [
           {
            "line": {
             "colorbar": {
              "outlinewidth": 0,
              "ticks": ""
             }
            },
            "marker": {
             "colorbar": {
              "outlinewidth": 0,
              "ticks": ""
             }
            },
            "type": "scatter3d"
           }
          ],
          "scattercarpet": [
           {
            "marker": {
             "colorbar": {
              "outlinewidth": 0,
              "ticks": ""
             }
            },
            "type": "scattercarpet"
           }
          ],
          "scattergeo": [
           {
            "marker": {
             "colorbar": {
              "outlinewidth": 0,
              "ticks": ""
             }
            },
            "type": "scattergeo"
           }
          ],
          "scattergl": [
           {
            "marker": {
             "colorbar": {
              "outlinewidth": 0,
              "ticks": ""
             }
            },
            "type": "scattergl"
           }
          ],
          "scattermapbox": [
           {
            "marker": {
             "colorbar": {
              "outlinewidth": 0,
              "ticks": ""
             }
            },
            "type": "scattermapbox"
           }
          ],
          "scatterpolar": [
           {
            "marker": {
             "colorbar": {
              "outlinewidth": 0,
              "ticks": ""
             }
            },
            "type": "scatterpolar"
           }
          ],
          "scatterpolargl": [
           {
            "marker": {
             "colorbar": {
              "outlinewidth": 0,
              "ticks": ""
             }
            },
            "type": "scatterpolargl"
           }
          ],
          "scatterternary": [
           {
            "marker": {
             "colorbar": {
              "outlinewidth": 0,
              "ticks": ""
             }
            },
            "type": "scatterternary"
           }
          ],
          "surface": [
           {
            "colorbar": {
             "outlinewidth": 0,
             "ticks": ""
            },
            "colorscale": [
             [
              0,
              "#0d0887"
             ],
             [
              0.1111111111111111,
              "#46039f"
             ],
             [
              0.2222222222222222,
              "#7201a8"
             ],
             [
              0.3333333333333333,
              "#9c179e"
             ],
             [
              0.4444444444444444,
              "#bd3786"
             ],
             [
              0.5555555555555556,
              "#d8576b"
             ],
             [
              0.6666666666666666,
              "#ed7953"
             ],
             [
              0.7777777777777778,
              "#fb9f3a"
             ],
             [
              0.8888888888888888,
              "#fdca26"
             ],
             [
              1,
              "#f0f921"
             ]
            ],
            "type": "surface"
           }
          ],
          "table": [
           {
            "cells": {
             "fill": {
              "color": "#EBF0F8"
             },
             "line": {
              "color": "white"
             }
            },
            "header": {
             "fill": {
              "color": "#C8D4E3"
             },
             "line": {
              "color": "white"
             }
            },
            "type": "table"
           }
          ]
         },
         "layout": {
          "annotationdefaults": {
           "arrowcolor": "#2a3f5f",
           "arrowhead": 0,
           "arrowwidth": 1
          },
          "autotypenumbers": "strict",
          "coloraxis": {
           "colorbar": {
            "outlinewidth": 0,
            "ticks": ""
           }
          },
          "colorscale": {
           "diverging": [
            [
             0,
             "#8e0152"
            ],
            [
             0.1,
             "#c51b7d"
            ],
            [
             0.2,
             "#de77ae"
            ],
            [
             0.3,
             "#f1b6da"
            ],
            [
             0.4,
             "#fde0ef"
            ],
            [
             0.5,
             "#f7f7f7"
            ],
            [
             0.6,
             "#e6f5d0"
            ],
            [
             0.7,
             "#b8e186"
            ],
            [
             0.8,
             "#7fbc41"
            ],
            [
             0.9,
             "#4d9221"
            ],
            [
             1,
             "#276419"
            ]
           ],
           "sequential": [
            [
             0,
             "#0d0887"
            ],
            [
             0.1111111111111111,
             "#46039f"
            ],
            [
             0.2222222222222222,
             "#7201a8"
            ],
            [
             0.3333333333333333,
             "#9c179e"
            ],
            [
             0.4444444444444444,
             "#bd3786"
            ],
            [
             0.5555555555555556,
             "#d8576b"
            ],
            [
             0.6666666666666666,
             "#ed7953"
            ],
            [
             0.7777777777777778,
             "#fb9f3a"
            ],
            [
             0.8888888888888888,
             "#fdca26"
            ],
            [
             1,
             "#f0f921"
            ]
           ],
           "sequentialminus": [
            [
             0,
             "#0d0887"
            ],
            [
             0.1111111111111111,
             "#46039f"
            ],
            [
             0.2222222222222222,
             "#7201a8"
            ],
            [
             0.3333333333333333,
             "#9c179e"
            ],
            [
             0.4444444444444444,
             "#bd3786"
            ],
            [
             0.5555555555555556,
             "#d8576b"
            ],
            [
             0.6666666666666666,
             "#ed7953"
            ],
            [
             0.7777777777777778,
             "#fb9f3a"
            ],
            [
             0.8888888888888888,
             "#fdca26"
            ],
            [
             1,
             "#f0f921"
            ]
           ]
          },
          "colorway": [
           "#636efa",
           "#EF553B",
           "#00cc96",
           "#ab63fa",
           "#FFA15A",
           "#19d3f3",
           "#FF6692",
           "#B6E880",
           "#FF97FF",
           "#FECB52"
          ],
          "font": {
           "color": "#2a3f5f"
          },
          "geo": {
           "bgcolor": "white",
           "lakecolor": "white",
           "landcolor": "#E5ECF6",
           "showlakes": true,
           "showland": true,
           "subunitcolor": "white"
          },
          "hoverlabel": {
           "align": "left"
          },
          "hovermode": "closest",
          "mapbox": {
           "style": "light"
          },
          "paper_bgcolor": "white",
          "plot_bgcolor": "#E5ECF6",
          "polar": {
           "angularaxis": {
            "gridcolor": "white",
            "linecolor": "white",
            "ticks": ""
           },
           "bgcolor": "#E5ECF6",
           "radialaxis": {
            "gridcolor": "white",
            "linecolor": "white",
            "ticks": ""
           }
          },
          "scene": {
           "xaxis": {
            "backgroundcolor": "#E5ECF6",
            "gridcolor": "white",
            "gridwidth": 2,
            "linecolor": "white",
            "showbackground": true,
            "ticks": "",
            "zerolinecolor": "white"
           },
           "yaxis": {
            "backgroundcolor": "#E5ECF6",
            "gridcolor": "white",
            "gridwidth": 2,
            "linecolor": "white",
            "showbackground": true,
            "ticks": "",
            "zerolinecolor": "white"
           },
           "zaxis": {
            "backgroundcolor": "#E5ECF6",
            "gridcolor": "white",
            "gridwidth": 2,
            "linecolor": "white",
            "showbackground": true,
            "ticks": "",
            "zerolinecolor": "white"
           }
          },
          "shapedefaults": {
           "line": {
            "color": "#2a3f5f"
           }
          },
          "ternary": {
           "aaxis": {
            "gridcolor": "white",
            "linecolor": "white",
            "ticks": ""
           },
           "baxis": {
            "gridcolor": "white",
            "linecolor": "white",
            "ticks": ""
           },
           "bgcolor": "#E5ECF6",
           "caxis": {
            "gridcolor": "white",
            "linecolor": "white",
            "ticks": ""
           }
          },
          "title": {
           "x": 0.05
          },
          "xaxis": {
           "automargin": true,
           "gridcolor": "white",
           "linecolor": "white",
           "ticks": "",
           "title": {
            "standoff": 15
           },
           "zerolinecolor": "white",
           "zerolinewidth": 2
          },
          "yaxis": {
           "automargin": true,
           "gridcolor": "white",
           "linecolor": "white",
           "ticks": "",
           "title": {
            "standoff": 15
           },
           "zerolinecolor": "white",
           "zerolinewidth": 2
          }
         }
        }
       }
      },
      "text/html": "<div>                            <div id=\"a89fc381-a5e6-43ca-b3cc-910540f2f388\" class=\"plotly-graph-div\" style=\"height:525px; width:100%;\"></div>            <script type=\"text/javascript\">                require([\"plotly\"], function(Plotly) {                    window.PLOTLYENV=window.PLOTLYENV || {};                                    if (document.getElementById(\"a89fc381-a5e6-43ca-b3cc-910540f2f388\")) {                    Plotly.newPlot(                        \"a89fc381-a5e6-43ca-b3cc-910540f2f388\",                        [{\"showlegend\": false, \"type\": \"box\", \"y\": [0.33709868229917955, -0.4889743963575497, -1.1940483545999254, -1.1658047130093798, 1.4434592939003283, -0.7431099941851638, 1.184501438237592, 1.1391479923754464, 0.589268244271522, -1.4266573700220846, 0.07032235765215226, 1.091069661115928, 0.37071414531975855, 1.222925417275964, -2.345688359499088, 0.8212252500376438, -1.2823639692303832, 0.8549571683163488, 1.2620707724861937, 0.41211204379209354, -1.1051964060036874, -0.16559386162839576, 0.25802479953787477, 1.2438024369912124, -1.4096238169046216, -1.0556896798854474, -0.7287566380786756, 0.34159975717584484, -0.3698754020619586, -0.11782783019605036, 0.2588614452976779, 0.30265011718855495, -0.9834871591619632, -1.3238395571197252, 0.7780791634168616, 1.721432451457095, -1.976048800653756, -0.5211706137197342, -1.2503652449700717, 0.12199473217274447, 1.2043408552710142, -1.200303609830207, 0.42105576562534375, -0.9271881722043269, -0.6341215977762947, 0.21539372383225688, 0.9850573163148445, -1.372230225145868, -0.7171622585929373, 0.23173799025400874]}, {\"showlegend\": false, \"type\": \"box\", \"y\": [-0.41825287418500745, -0.37306857163309864, -0.5604596913956118, 1.5400273949475412, -0.2021016083300839, 1.0359518951725608, -1.2038908463910958, -0.8356597574473207, 0.009641555158769632, -1.8466698879347936, 1.1761640137488072, 1.8188130607723043, 0.15009751864109777, 0.7522641588013415, 1.3637147124991413, -1.333206400743314, 0.10156965721529852, 1.1856625210975382, 0.569369909145331, -0.5182218466641034, 0.273286499439521, 1.1242320727858706, 0.4506083017258784, 0.7466856424456957, -0.9031015676318311, -1.6222078501969508, -0.322075044285136, -0.7840397260630793, -1.2134325662487222, -0.3811130316865975, 0.0267757935885046, -0.9305049915008679, 0.10120134675308914, -1.4345523526964572, -0.24249417353633962, 0.7141182103217629, 1.9119969983871858, 0.8591522008925883, 1.2177984467205343, 1.0621124945687437, -1.3785524639600215, -0.6527927471189378, 0.4192219072577872, -1.0607861984797673, -1.2854370750438786, -0.17384998920578829, 0.6085039697688523, -0.9065363483102676, 1.5718504563775952, 0.2707968744330351]}, {\"showlegend\": false, \"type\": \"box\", \"y\": [0.5468543782656657, -0.7631875064745681, -0.08525722733437255, -0.39788796852375274, -0.15145444468531327, 0.6919758948526995, -0.18067270942512698, 0.18287612414937734, -1.4973832731608654, 0.21850133136893882, 0.1166257844593007, -1.1223085267649067, -1.676108648657138, -0.7232585679457173, 0.8862393204072238, 0.1007529725777801, 1.2411473169962222, -0.9799919466725011, -1.1116870682813484, 1.265156460236878, 0.0048377309497784115, -0.5004743004787096, -2.077145645567933, 0.3905675108587789, -1.5291867746243173, -0.17022519104175238, 0.7079829346651954, -1.6205274655953417, 1.8719542385757126, -0.23596943865295994, -0.7661666905369924, -1.3997200440725839, 1.1368888643402582, 0.20948510114601845, -0.2514074570448226, -0.25276421415619954, 0.17341045320228285, 0.7208875619042716, -0.3453668686193039, -0.414094365745542, -1.5526357876078258, -0.7453837859716094, -0.41718912221010446, 0.4345952725965545, -1.3009772475372758, 0.6857990271582131, 0.8797942636859086, -0.5832398558060676, -0.7303815051815574, 0.2525140315206452]}, {\"showlegend\": false, \"type\": \"box\", \"y\": [-0.10747543364730903, -0.21087765116515877, 1.594732086140904, 1.139316641976263, -1.4379339900441541, -0.8187261756457768, -0.9715398184397954, 1.5894062436224194, -0.029350810933462344, 1.6096173455763576, 0.19971588614298258, -0.9724759453851255, -0.2226173870655183, -0.1702807617765241, 0.49457300203171195, 0.8475252517452136, 0.8615512835720837, 0.4405736468398742, -0.4394528014907643, 0.31816769355864205, -1.2439157137425163, 0.9178174537817382, -0.2617635561610367, -0.10445225626588615, -0.3079722626649217, -0.7113702528715964, 1.0033852111923778, 0.07672080755316238, 0.7004827781962542, -1.6124796044310017, -0.695686410783412, -0.40760150535656275, -1.6512596330012155, -1.6181929876901338, 0.30906070188432494, 1.2494093654361857, -2.080582827609737, 0.45369687630223154, 2.047103540687194, 0.26051557920101853, 0.6405909382389162, 0.6138418753325328, -1.2737788529131993, -0.11597342162473007, -0.8338370557993904, -0.5546974987174275, -0.2912363538869419, 1.3995064222196691, -1.5467730982756482, -1.1318786331386448]}, {\"showlegend\": false, \"type\": \"box\", \"y\": [-0.5374086391721842, -0.9350406770871726, 0.0016996379594738302, 0.7377482534014275, 1.0293763686398558, -0.3619599689166019, -0.5039999886344184, 1.0702311581144452, -0.3504174433057067, 0.37758075348692716, 0.2772236407497272, 0.18476712947016083, -0.3493072206921776, -1.3374262827818562, 0.21529020392457066, -1.1707880898085314, -1.817171534443349, 2.082315860803182, 0.9492891798160303, 0.8415531446108139, 1.0599999145120682, 1.5366359117729298, 0.5484042384257684, 0.6613135882751962, 1.4141184652085022, 0.21439965800318175, 1.257938083115792, -0.3617106058171463, -0.835698387634991, -0.4438858091480254, 1.0260057673128133, -1.4877502209662368, -1.016547443238914, 2.2068177904198776, -0.7680492785070565, 1.3502100903670917, 1.529432675989405, 0.17464163564086416, 0.4272795732828912, -0.631063315693155, -0.6066449610568386, 0.6935594177641302, -0.24465450994112703, -2.144885642308435, 1.2257999226407315, -1.1791584069483723, 1.40678841030192, 0.9168706154665703, -1.417532804659997, -0.1588655772414894]}, {\"showlegend\": false, \"type\": \"box\", \"y\": [0.5657107387173976, 0.9200069134831508, 0.9439461680287469, 1.1347197415918853, 0.7757148202798134, 0.42252339068567724, 1.222766071574829, 2.663214634777363, -0.8366092631096081, 1.1084722977380825, 1.440785014788451, 2.062226878824961, 0.361067208065389, 1.056432440254154, -2.617322544610266, -1.327595153305864, 0.40725556642584676, 0.178024646729918, -0.5503373556275872, -1.0608049707505194, -0.48905917164478424, -0.5358434577080382, 2.34751472472672, -0.03919308473132531, 1.0114772737562119, -0.7038503020867403, -0.1952561751157132, 0.4582896104395577, 0.41611077246054584, 0.571348341824134, 0.8339133645913963, -1.3562087663993172, 0.758649719692348, 0.9441423040914212, -1.5927169798747018, -0.9317795545011737, -2.415456555161852, 1.6708901213938576, -0.5592581716048659, 1.205692975908023, 0.613129177083259, 1.8631612468176335, 0.7688860085043349, -0.44105143085709453, -0.5038712778985811, -0.5324639772007634, 1.4702851607039893, 0.5321779938452883, -0.6406118315610775, -0.09692448472302603]}, {\"showlegend\": false, \"type\": \"box\", \"y\": [-0.8465344236434748, 1.038731812318724, 0.9944552863751948, -0.3602068651604513, -1.6600204868506787, -0.1451166839193158, 1.5231890861379278, 0.2538530225099167, -0.533918081219969, 0.7138644360839074, 1.1129160921582226, -0.5886235982221316, 2.319070642274972, -0.5555137709458696, -1.15954814065748, 0.1833876960473447, 0.16964635439490078, -0.16613711483153953, 0.655027128181145, -0.7452390597918448, 0.7825177972510342, -1.4483576047452786, 0.08078517530525942, -0.2906332002413378, 0.02772057304961428, 0.16888272920965253, 0.9082754813541062, -0.30527208590133553, 0.5468843271442455, 0.21246940938194844, -0.9840722663574939, -1.0474468222281876, 0.27521322868335096, 0.8105557835537294, -0.04757421731222289, -0.8178015845935831, 0.37530325466927017, -0.35506541763954447, 1.718358173258596, -0.7982927142980827, -1.3134853601525727, 0.827558694493642, 0.08937576650183819, -0.01589070902381102, 0.7567434924885994, -0.08517577337376436, -1.607795229315038, -0.6547924119706839, -0.11793390053583235, 0.4815168093685728]}, {\"showlegend\": false, \"type\": \"box\", \"y\": [-0.34652226437365974, -0.6549772665409148, -0.05230797060737907, -0.5622693694951609, 1.047069267907767, -0.1044171897967117, -0.03171131716138695, -0.6936269531336049, -1.4261552190274758, 0.7815911768951025, -1.668212591993415, -2.0591830761593863, 1.3657961211137497, 1.1995561472165635, 1.5075282841672626, 0.34136220853845756, 0.8757984843287908, 0.1145766395123684, -2.1828269029544947, -0.6451645040873641, 1.0674322915259367, -0.2794271741742993, 0.297755961949179, -0.9580610731331306, 0.24917052641912749, 0.5743758115501297, 0.7303967457442205, -0.3233089615888174, 1.6643756911346435, -1.8729830532200178, 0.29844212103982243, -0.5545423460138652, 0.7533212915084615, -0.9162926228077137, -1.1229693591145498, 1.6753045487197746, 0.19810183887301136, 0.2552202039024017, 0.892661674700903, -0.7580259655415319, -1.1751992576843464, 1.9749414739349738, -2.106309027452402, -0.7235531869324994, -0.6653456904134467, -1.2353628937099044, 0.9564967668745552, 0.16858336431775778, -0.5652878572879219, -0.4500953846153638]}, {\"showlegend\": false, \"type\": \"box\", \"y\": [-1.2879948479074208, -0.21123831166637397, 0.730055576427924, -3.314704388671649, -1.390836610705358, -0.17834522718384288, 0.4846662148998092, -0.41284195118398415, 0.24284442120972824, -1.2045057287316858, -0.0303146186809576, 1.37269684705731, 0.9114276169549828, 2.0063894388839865, -1.6932974216330012, 0.32250641673620006, 2.02645386600863, 0.8100690743370099, 0.12094683145545834, 0.7837582116978271, 0.3114232641027006, 0.19891122942599213, 0.9583306670913618, -0.5094359263252497, -0.6870550160791479, 0.6599652785305006, 0.028926925493122174, -0.3068043113315566, -0.14198373337976092, 0.6604595142772093, -1.1389933017919338, -1.1567821185393852, -1.2862353090846195, 1.1372285828796866, -1.4156126179394626, 0.9113388837963543, -1.0627605460051373, 0.275103959079007, 1.0469154918776549, 1.1396616886216253, -0.5672945686782984, 0.025042060463890816, -1.8353339610894994, 1.085212123286663, -0.5978788246978158, -2.7784141489885013, 0.8704271601658375, 0.7048704561730109, 1.2203327148200596, 0.19452298115419833]}, {\"showlegend\": false, \"type\": \"box\", \"y\": [0.5917370057933407, -0.6915229063232455, -1.0575166381202497, -0.7999045838000811, 2.612816347344378, 0.8840232084423881, -1.2435687783244715, 0.3715435284054931, -0.6056718346572115, -0.4166036286252985, 0.2422946557421543, 1.436562521156439, 0.6732444160246128, -0.6943158524044734, 0.686876040541859, -0.8519730897225185, -1.6532884878909437, -1.2740504004490356, -0.6445139124144605, 1.754591188580262, -0.3096695694883778, 0.2646155228760129, -0.4868827251731629, 0.5913301305598823, 1.4433927738600256, -0.49528352286050975, 0.8610970558821283, 2.0664644651321513, 0.1400371571113621, -0.3059776882173799, -1.3633636216949963, 0.2588795660385572, 0.475305628116704, -0.7573173772598805, -1.1990009528040722, -0.29779781299370234, -0.8249067938574239, -0.04038950741352552, 0.6746108022609694, 1.262932601745475, 0.7858276520332413, 0.08679594597939372, -0.08796310483613436, 0.9699787949571926, 0.1992927731566942, -0.42328699141865983, 0.08142521531167075, -0.4468260720437648, 0.647994413556227, -0.4970742670839862]}, {\"showlegend\": false, \"type\": \"box\", \"y\": [-0.04726967160925151, -0.1473890733749081, 1.5356952863543842, -0.8241802881268014, 0.7771931000710007, 1.2756774449653188, -0.19460425583139052, -0.8172238046160377, 1.9588004304509408, -1.2019591794011921, 0.9740459848628171, -0.5336071424930153, -1.9198317779596055, -0.612172022542368, 0.4220404097140478, 1.5126572561601144, -0.625603508074077, 0.08147081755430388, -0.45129362030787123, 0.12531535475589695, -0.1120286653948883, -1.2842695235387784, -1.3106172474100144, 0.43782689325839086, -0.8482719269949873, -0.9452440233639156, -0.09799242822341589, 0.03871305062927721, 0.4138872548932541, 0.3400765383538181, -0.8926528611941859, 0.6635231896124242, -2.787481324891581, 0.16753162509378358, -0.5202733654616623, 1.0309904253271462, -0.48810159021091853, 0.7044378936375375, -1.0292965096373081, -1.6174760824741516, 0.27271726292590737, 0.9709766904807938, -0.23949652641301974, -0.4959316613893912, 0.617734312024799, 1.6652549412949595, 0.3584971313778234, 0.22018216973953678, 1.117259398282198, -2.4062340198037653]}, {\"showlegend\": false, \"type\": \"box\", \"y\": [-0.89487049941703, 0.18071566321868718, 0.1758509300345014, 0.7633050565055263, 1.3359510400630257, 1.7577768261003346, 0.09952905505189637, 0.973965388811697, 0.3693142963011518, -0.04104486632606364, -0.5842990094772533, -1.729899415767898, 1.2579563417429858, 0.47143212265234347, 0.9032566667931415, 1.4803921684977055, 0.5263901662635208, 1.140224320688427, 0.34313876298009693, -0.14921294432628568, -0.2618751425080896, 0.4971232002112868, -2.0631427232089425, 0.4900943745855275, 1.9739043814802524, -2.0615143025238694, 1.1259617429426663, 0.3347537945325357, 1.5198247443354993, 0.20812822004784504, -0.48290175177499767, -0.3609271417189038, 1.1053071992025492, -0.3066222888524585, -0.2654103767926047, -0.15884005670653076, -0.8490136293057601, -1.499165886694162, 0.8165973736651523, 1.8430171579037888, 0.6797428083888766, -0.7579760408733769, 0.8607274273997645, -0.3995254228286841, -0.18203286532373378, -1.4354663925705282, -1.5375493736712424, -0.7193394078421557, 0.33116289983264485, -0.6961420559424398]}, {\"showlegend\": false, \"type\": \"box\", \"y\": [-0.8962773831660431, 0.31791601342965936, -1.0282956842197524, 0.0605062123919998, -1.171036269294203, -1.8249026974190354, 0.18672391245521455, 0.4448510166125717, -1.2157817618539366, -0.6689712764834629, -0.695263949386354, 0.022821430239889598, -1.511477684203367, 0.041916634520321065, -0.2746267499099159, 1.2466354558984813, -2.3025000369896897, -0.022996128698000745, 0.8637953591202133, -0.24069978647984405, 0.5735380973361144, -1.0280226437875597, 1.514128199090359, -1.0259585100697752, 0.12254000650877696, 1.4438613763695527, -0.6384050743521811, 1.1225255877398614, 0.4226841738510936, -0.6887929436489104, 1.2066865373338638, -0.968392352684708, 2.655976208574671, 1.3089203388897124, 0.3679194356130089, -0.07614252002632105, 0.48741151533757726, 1.0653164807459823, 0.23151232985314643, 0.2019651638049409, -0.5519964127247755, -0.7211808076539558, 0.9446197646634005, -1.3575050969839035, 0.6258888505940339, 0.10915783057399556, 0.5303687554838297, 0.17272581153142974, 1.63209877730643, 0.17979051716657676]}, {\"showlegend\": false, \"type\": \"box\", \"y\": [0.3379374128656487, -0.3758323487603957, 0.4121823928040874, -0.9176010960071876, -0.18452530302216302, 2.1822358395786545, -0.1120412665048521, -0.6610067264958861, -1.0718894623135338, -0.10583541685294394, -0.16592528916017507, -0.27994011372628785, -1.2290630954997501, 0.0526172175906004, 0.6990528008994563, -0.17372383301510963, 0.0352771059029288, 0.39607557477542304, -1.5431687698741605, 0.7086418050553422, -0.8405215722550224, 0.4884241001918093, 1.2191784986488872, -0.887371745940144, -1.0383084087740022, 0.2005439377852234, -0.7316424880392437, 1.5571211206854128, 0.6754976803866395, -1.0508928409417255, -1.9954165843146683, 0.5879468851893302, 0.9255456644262275, -0.284893085282894, 1.3127728385634905, 1.0269729546602204, 1.7076559755703955, 0.25701170829488623, 0.16114902587232063, -1.2089634580533561, 0.17369539972454884, -0.5941304311293357, -0.8421917144805376, 1.1491585210702864, -0.6047394298289785, 0.02688827219482826, -0.44144729132313454, 0.8048176478641643, 0.225371208012008, 0.65627271706114]}, {\"showlegend\": false, \"type\": \"box\", \"y\": [-0.9012713311854488, -1.939933790390728, 0.803844349816956, 0.6028558017185495, 0.8783609108291669, -0.2893404568719806, 0.8884396280893446, -0.6076391913118243, -0.6226670871807704, 0.6130198469086882, -0.0038769009162980587, -2.538393085093466, -0.9947255256922084, 0.6631405452134109, 0.5344846832131352, -0.7068591175275194, 0.6762348504959773, -1.0231453609667012, -0.13816150518793013, -1.3945579941913295, 1.2901667315435452, -0.6841743111482489, 1.345335995809772, 0.3259916845920422, -0.37385518611880003, -1.8168839042522658, -0.4956772984202431, -0.4992181500932645, 1.0765330714780936, 0.7384701447695008, 0.11332772045144462, -0.9913679798428384, 0.05050037901551705, -0.5702511988546725, 1.2387127561154294, 1.2730014020624476, -2.3352655330436414, -0.9729853257470623, -0.30609484798059083, -0.4181493087426574, -0.7929587204561365, 0.3960749664887264, -0.18319339124409784, 0.2357305416687684, -0.07473740139073738, -0.7565204663991126, 1.413237979435693, 0.8184926261039319, -1.169305430358896, 0.24385636378662337]}, {\"showlegend\": false, \"type\": \"box\", \"y\": [0.09910157034745977, -0.6531535298929618, 1.7345860177495462, -0.36872295646067593, -0.8171767290693009, 0.9175037302627781, 1.6532185716279757, -0.9535286440064431, -0.2922006681248321, -0.13309891637301022, 0.6839489001556489, -0.42044991630550477, -1.093496747194401, 0.8636709540918707, -0.21671993449170873, 2.1923350336032588, 0.4046506439812673, -1.1360240738120648, 0.09167777407272718, -0.23847162463328303, 0.5787835492969731, 0.6782347442002127, -0.8738018035137927, 0.7375680407501494, -2.034569095472695, -0.17718900919689448, 2.1631832271340725, 0.007323913341450542, -0.45042779453243625, -0.8852439346336126, -0.33666761721691496, 1.1844607360314596, 0.6740872112243106, 0.24031246031737405, -0.0020847290134830155, 0.5765359201964644, -1.8536041388089302, 1.2252737527528932, -0.48991178106064687, 0.7716874917895009, -1.0601778893965768, -1.358132652831954, 0.7508573527870962, -0.02534736771238693, 1.6448872874591802, -1.127893378441171, -0.5092733523858756, -0.09763401321081196, -0.12777312210688477, -1.728009070897361]}, {\"showlegend\": false, \"type\": \"box\", \"y\": [0.011762349756879146, 1.2184308693370138, 1.3744614903445544, -0.24967604458839873, -0.3016248371890121, -0.4541075329040303, -1.640569399112331, 0.448741589819329, -0.01336950706048502, 0.28612471950079504, 0.5179412278751693, -0.6058967068622708, 1.4651561729775886, -1.6650249876754597, -0.09428410951630754, -0.5644911574378713, 1.1257239785260007, 2.2444530929720274, 1.1964516671798446, -0.8068279138801382, 1.089514659657948, 1.3785599177062817, -0.5395546533918202, 0.39014038862392547, -1.7410030760758195, 1.3346001897018471, -0.6131059405249851, -1.7383848107664746, -0.5448316710525019, -0.8585046971636627, -1.3897891353567036, -0.5442868160440264, -0.3332010449809808, 0.17264092206023438, 0.7432274817608805, -1.2438212376000484, -0.9958545271669663, -0.6205570328016821, -0.5475531164916607, -0.017555232411006427, -0.7996553298101358, 0.6432459168694277, 0.946299797657553, 2.048431147241117, 0.28127025426580793, 0.8413732823532876, -0.6599119272276186, -0.39851205264574036, 0.9052923307822207, 0.31257564071413724]}, {\"showlegend\": false, \"type\": \"box\", \"y\": [-0.033687683741002436, -1.9049872511826629, -0.1951911062864433, 0.31321539399757964, -0.1840750668867753, -0.4898985601655307, -1.0948846413635587, 0.4606121475024391, -2.3385376515048075, 0.6998171930704593, -0.292061742136492, -0.7337140594220947, -0.588973310886253, -0.575144633395862, 0.21420657419953604, -0.8778515701245685, 0.4852693193337183, 0.9372956046192744, -0.576483912784833, 0.2959342158066156, 0.0300887760088689, 0.35567979364017166, -0.02869114194989167, -1.5296722530373787, 0.15879027111221275, 1.4009748348336915, 0.2386857882779017, 0.38342587023986807, 0.6588534226067414, -0.8590136654147602, 0.5185039794365198, -0.3655442427808645, 0.385294578637562, 0.457667001489915, -1.1207224850235926, -0.19468710429472055, -0.4054321139018342, -0.3185766988343349, -1.7813744575817656, 1.9395434713832747, -0.8267025981275622, 0.8005070824093337, 0.8613522752276642, -0.9132327579424192, 1.7412505467690176, -0.8163785395163511, -0.9204753494638853, -0.8005930042787507, 0.6676089566233951, -0.14534923436944]}, {\"showlegend\": false, \"type\": \"box\", \"y\": [-2.493981640632041, -0.5391393349095045, 0.15016356761355298, 1.2922384881888815, -0.05471807286227204, -0.5713189456103919, -1.1840929742285986, -0.5637828526835978, 0.22225550800337232, 0.9529444740420089, -0.9707841220247054, -1.8815539649752762, 1.1467009231463923, -1.9471974594877184, 0.9241454248181158, -1.0229015915557262, -1.761378700062043, 1.8390468671261198, 0.04444585385836135, -0.9313519064925386, 0.16175508222418142, -1.8563888462323104, -0.20920914374905356, -1.5101337891066742, 1.3620494879408902, -1.415926169762625, -0.2052862920197546, 0.2909897498559628, -0.24685428284813868, 1.8475215614301272, -2.1292912111884763, 0.0665331680264742, 1.9939495973939747, 0.5573819810494371, 0.1262725119970476, 2.3699987925177184, 0.8010874563909451, 0.578479253500073, 0.8027383123709808, -0.9692054778588821, 0.3500527237695631, -1.4797996857392075, 2.007826689109504, -0.2133200019433691, 1.3158435506185904, 2.1540271340820656, -0.47508963985036134, -0.8458429236487822, -0.21620301710090686, -0.4841194164556575]}, {\"showlegend\": false, \"type\": \"box\", \"y\": [0.8510113049658878, 0.2033295443392734, 0.25764036515472344, 0.30222350457985375, 0.8126028506947339, 1.1099925736550493, 1.1178035940346893, 1.166888150240702, 0.44868874408539317, 0.0970405203261977, -0.21456858295618872, -0.8610155820181004, 0.29784533883642333, 0.7090532535272764, 0.09902328236284522, 0.0849605899430734, 1.2768845715937893, -0.5356952435110173, 2.2097202840208996, -1.122302571787163, 0.44001321387104475, -1.5619263713815392, -1.5190596151684037, 0.4985475485572719, -0.2262442605186249, -1.2875209756638202, -0.43117897071195677, -2.0622118623562646, 1.3797098927154665, -0.47110221542725467, -0.12697960150878368, -0.3898289592679944, -0.3510159663674098, -0.019602650276882575, 0.5435223380812233, -0.09855178082218993, -0.8611878979086295, -1.7730965740813538, 1.0338281345746771, 2.126526685245654, -0.16321397376694485, -0.6386309339794819, -0.10594164137596374, -1.1788304664981157, 0.29300321575690397, -0.7703267305310625, 1.1308110378529768, -3.6832761641066196, -1.1667598883731716, -1.5447008935179884]}, {\"showlegend\": false, \"type\": \"box\", \"y\": [0.18687707721123475, -0.9337747211316686, 1.3311442043450534, 1.461842656071882, -0.6051260265575371, -0.19964454524342054, 0.7600089499852031, -1.4326131577256658, 1.6344059775489748, 1.3093437130856016, -0.01970278634254589, -0.011392321817878913, -1.4290376602894113, 0.45516111974924556, -1.887005651184371, -1.252500496742946, 1.3368063345224352, -0.321991312708744, 1.9540247280913339, -1.0749386724537056, 0.7863397572759816, -0.0254290527894562, 1.878227236324183, -0.47775091433202566, -0.5733012264570095, 0.0936112671603367, -0.6200319512134168, 0.33732606887035765, -0.6456731400928244, -2.2308716231748744, 1.215814412718943, 1.659735313460562, 1.0954542366975226, 1.0346501921193834, -0.2772885676846126, -0.6715546518090424, -0.42943201858726066, -1.669578388049688, -1.4845136498686142, 0.45523003253798155, -1.0839453994600254, -0.4643583753857175, 2.0516594351301447, -1.7666443041719158, -0.626861123816391, 0.5042094694973757, 0.01797897749491992, 1.4293385131393535, -0.7636450448199835, -0.6692857041321654]}, {\"showlegend\": false, \"type\": \"box\", \"y\": [2.240000116533672, -0.4161256074100526, 0.8433532003298152, -1.1082603279062464, -1.63684999781768, -0.9580039802295673, -0.6174415449331371, 1.0086657519195041, 0.6397185730207273, 1.4043611073413333, 1.6373350296903542, 0.6533761600877679, 0.25131358518403124, 0.4702680673697745, -1.1035032125126814, 0.7559933821330873, -0.3649241823515902, -0.31796759873395314, 0.8254311877979572, 1.426507858397698, 0.886050848053443, 0.844367795007211, 0.540340053490645, -1.5622634496226013, 1.2695064636044795, -0.9294218962486163, -0.5900491348040902, 0.8674466097413946, 1.165057801899939, -0.3622726377202023, -0.8077492325165707, -0.565443614405043, -0.3256913832347277, -1.003931257437726, 1.1013884403461287, -2.717259224006606, -0.6033250469203126, -0.5801337897355632, 1.040266650827973, -0.6781321539430127, 0.3153833158894443, 0.4363929354374654, -0.6333694924860825, 1.002630341585594, 0.4044478968081646, -0.946392831932205, -0.5963905131745549, -0.3754648142566929, -0.04467779579971265, -0.010319919133106025]}, {\"showlegend\": false, \"type\": \"box\", \"y\": [0.18276674576366378, 0.9396453936165887, 0.3966929376891042, -0.18138002473497156, 1.0757329601116796, -0.6212435380955399, -1.3007867435243743, -0.8332595586585827, 0.481757307115767, 1.4214453017125805, 0.2201571220427773, 1.4735797524595995, 0.2764257240894762, 0.009807918569930303, -1.0829623801573178, -0.27089150430453585, 0.12374828588634902, 1.1470573663302808, -0.868921149303351, -0.5214834024322446, -1.0549461773384399, 0.08479770180038679, -0.48069324244283, -1.4412014702391454, 0.3117035534611033, 0.5143038591995746, 0.3698971993317216, 1.01772426121577, -0.9189232565499603, -0.20709413475143149, 0.055481241922869094, 0.42302088831305323, 1.2889160766589176, -0.07510909131688023, 1.8399569039614385, 0.9423118026936795, -1.4078948588506692, -0.886135378314633, 1.8222059045194607, 0.1450246341588508, -0.038868308363475275, -0.10747779669779639, -0.9558215784396601, 2.2841724116814492, 1.714913197805774, 0.015970835431789277, -0.3751124526315796, 0.36855873715516985, 0.26248694192798167, 0.003486088052019574]}, {\"showlegend\": false, \"type\": \"box\", \"y\": [0.16392760427437778, -0.7686139047813605, 0.37145410038168647, 0.2838605014275678, -1.8423380072564073, -0.1669677804187287, 0.0019227571863832502, 0.005344356193705498, 0.3715333997500554, 1.4355889670279784, 0.2457581588251873, 1.0030346603941622, 0.05246080685359764, -0.45106946086737204, -1.5333325598265295, -1.1632517459651601, -0.09032933324493779, 1.5469885206638148, 0.3911171404644514, -0.062235074529624845, -0.732030611195241, 2.6750374356225635, -1.8985360910130193, -0.07170127833700336, -0.35364134302402533, 0.6146600032564437, 0.03797505429672917, -0.47219484123777616, 2.190875645706429, -1.0863644572803735, -0.3992783793819383, 0.4843465545316693, 0.5244681096787077, -0.22781675823774755, -0.39514767270689233, 0.05733903295420575, -0.46837673676829406, -0.05255903702269262, -0.6392591401477444, -0.06889666451636159, -0.6120659598607376, -0.6592088983960207, 0.4869658963137059, -0.9047091253330785, 2.0056345492837795, -0.3503193516253764, 1.090000807684694, 0.2683694538158426, -0.34495456711962263, -0.37779936649533846]}, {\"showlegend\": false, \"type\": \"box\", \"y\": [2.3567486567086915, -0.6129861395017868, 0.35994230885690376, -1.879567791780611, -0.39912477923613904, 0.20803134707160145, -0.5316375232382622, 2.1427132063859378, 1.1044668281352488, -0.38326328155999934, 0.2607587924894585, 0.11647619018167069, -0.2535452207615448, 2.266769597394374, 0.12996122431035434, -1.3935564692373996, 0.7373734646075564, -1.2155701348720371, -0.21331150278014677, -0.24924538751997302, -0.09059429876707951, 0.2515982735471319, 0.3365834891164115, 0.8579125981252994, -1.4657288990246928, 0.7264133867645324, -0.47420830832535027, 1.081022093612204, -0.8086121909120183, -1.4900355860826522, 1.5816457409723015, 0.23256973383654206, -0.3063745154869188, 1.2792681494742155, 0.0243198043769686, -0.636371782874657, -0.879718887184064, 1.64750910063342, 0.8365603228484756, -1.2527480591315787, -0.43407078423216383, -0.11853843027869371, -0.3563364823647903, 0.9252535618160224, 0.5795335541974899, 2.595862322306221, 1.1408369569592351, 0.13620737862638216, -0.2619006080866618, -0.2418944928760734]}, {\"showlegend\": false, \"type\": \"box\", \"y\": [-0.9602949396213951, 0.7309372467888391, -0.2302816081712405, 0.9219891126987093, 2.231405447993631, -1.3338808011502894, -2.1575616975128122, -1.898037890416946, -0.3540817074324563, 1.41049924179613, 1.0013031348240373, 0.5627178612523732, -1.4799229957046467, -1.1135648705161743, -1.1132217255924508, 0.07585635465499768, 0.672488415324395, -0.5526145497879621, 0.14262899136724078, 2.4417258144444403, -1.0768535395227654, 0.6075396783365753, 0.5407495861959505, -1.6214394128132237, -1.112900865391673, -0.3525580678655201, 0.5013751845539287, -2.5639779750444323, 0.6044081527047387, -1.6941522989310844, -0.3703488484985346, -0.5003662293439093, -0.3321888095349671, -0.9756924384193794, 0.33293717269317624, -0.11068296087422476, -1.038735730754863, 0.42901955846202494, 0.957142897045517, -1.1616772015594834, -0.16007680988616504, -1.5544568198063065, 1.4839661830320883, -1.1985241157186148, 0.9176518493905506, 1.2237802422598325, 1.9100068158748436, 1.9293455490886537, 2.442169650809674, 0.12696000003399097]}, {\"showlegend\": false, \"type\": \"box\", \"y\": [0.0970382988054532, -0.5044389257340498, 0.4298203637040704, -1.4793131794266376, 0.36206747639052617, -0.9367910872974026, 0.31818242388921125, -0.6553819994698447, -0.16494117734048142, 0.9088936243255511, 1.3396243431492119, 0.2468930331071306, 0.27256143312122516, -0.5037621861305754, -0.2906090061535384, -0.40787176777742623, -0.4091702051154178, -0.29256511933588397, -0.22853278066702584, -0.860194578163541, 0.4114830983665833, -0.27443705330887835, 0.8207141016929587, -1.281078166740392, 0.14882666380194576, -1.2170924927411242, -1.4432639706943355, 1.6326040678236642, 0.005796034217076392, -1.1294903839667294, -0.816279183597987, -0.5228987877656502, -0.3129008658462321, -0.2530963109399543, 1.6094607557284286, 0.8057028071551063, -1.2516142511468613, 0.4856049727025738, 1.6858809501386383, -0.7880165741881873, -0.0839921192556791, -0.6589502229608594, -0.30876699079160375, -0.4033814667075046, 0.14505945390643465, -0.917703289347282, -0.1738940753476228, -0.16093664597154259, -0.3153997720100211, -2.051952078425906]}, {\"showlegend\": false, \"type\": \"box\", \"y\": [-0.17213678939197122, -0.6686594452528891, -0.7038983466792357, -0.6231833807558814, 0.37765600109608716, -0.03244118643799976, 0.48990566814387543, -1.54756184928124, 1.7315122844031536, -0.41930199172469546, 0.46519448334387786, -0.3290805254479595, 1.0534753968354589, 0.5192604008187368, -2.009358740394624, -1.1636806217504727, -0.3349142624787335, 1.3459425074547315, -0.6793739826529356, 0.7571767282883873, -0.18305792858015918, -1.8082276695616162, 0.6957043934672017, -1.025501683223164, 1.1152117892232212, -0.7146182972422932, -0.026727408779019884, 1.2777404287766483, 1.222020435833655, -0.8398837995618279, 0.8274328164758774, -0.9341470920215662, -1.21078518728347, 0.17319188820876774, 0.9668545781523711, -0.35385289941525333, 0.9453197901901446, 0.44184995503372876, -0.44183853903602993, 0.28289818966138286, 0.6734541479195556, 0.14583453574862096, 0.9364537911606029, -0.5796006332222856, -2.107880320561533, -0.8824073777948122, -0.46409452649859045, -2.079570710541221, -0.7294190419842357, 0.4164588108265]}, {\"showlegend\": false, \"type\": \"box\", \"y\": [0.1328570993236656, -0.132721453918769, -0.7247083673420041, 0.04288237076625023, -0.06328179183296395, -1.6066670796143414, -0.46857029708915326, 2.0007337710739184, -0.3212843089416824, -0.36576283597338977, 2.024757177694022, 0.8894779633977669, 1.5491600602038846, 1.0431319749838197, 0.08416440732378078, -1.4003548511386168, 1.1458019804930233, 0.922304871562414, -0.38973320196409994, 1.8356518434458393, -0.44067782287411705, 1.5838670513971924, 1.0500102802833817, 0.8912851812504474, -1.1147336558041105, -2.1670552720163156, 0.15594116578714143, 0.38158917002819553, -0.49417134645121485, 1.0755018138878583, 0.40745582654170415, -0.1729690881656224, -1.5134870785669834, -1.2159340802030336, -0.20496225234515417, -0.23717817341900163, -0.13756288422554871, 1.914236681267452, 1.8302462849620647, -0.9863198543604539, -1.2699708272954178, 0.5869429528034557, -0.10199994863037809, -2.013600617750974, -0.940749106605732, 1.1044787132701896, -1.1313648228996802, 1.0451075487828803, 1.3005855595465434, 0.017305695854063618]}, {\"showlegend\": false, \"type\": \"box\", \"y\": [-2.6393770655475888, 0.5620110130782935, -1.0519605846166338, -0.19170302315449683, -2.0749966441406014, 0.020484317787631268, 0.022457762106422214, -0.8518023820845201, -0.4998798304154823, 0.518024995140035, 0.30197345518786173, -0.44057224036971426, 0.4246924603079184, 0.06571859569752816, -0.680734492602239, -0.37859380422179595, -0.8413980997531258, 1.2159799130350932, 0.10919915328876216, -0.4902642954666199, 0.058561088058958315, 0.060063542649948204, 0.0740621063137399, -1.5057197048197566, 1.0664213164146812, 0.2596035998323444, -1.531628793489071, 0.10019574285519871, 0.04217103286397045, 0.5265437855628794, 0.659488478769187, -0.12425659381423663, -1.0334177876657318, 0.18533298312837926, 0.9455287640286852, 0.7577852579759531, 1.3552728513314083, -0.07945741770478522, -0.35911388200702704, -0.17703535654947386, 0.6361978101300177, 0.5227135396364977, -1.5361643564638734, -0.13244165092546545, -0.24619719798570924, -0.3204743439976324, 0.530467234058037, -0.16886391618445035, -0.6295862870360074, -0.2071918995154708]}, {\"showlegend\": false, \"type\": \"box\", \"y\": [0.39827584225027424, -1.0981293001391745, 0.22354063483557432, -2.5616274014241385, 1.6257891184103221, 1.0463097542875766, -0.2064792165027483, 0.31864966032543457, 0.5907651482717503, -0.7280852719149428, 0.312669245939018, -1.3398770470245234, 0.31530461634047374, 1.5082880154497869, -0.7222750695727757, 0.6179666017678258, 1.8438305063796823, 0.9289786460712205, 0.4267093488476345, -1.0540073590836476, -0.29919017230352213, -1.132822799978525, 0.6536312867254632, -0.44828763342056105, -0.8509035157413136, -2.574755217537083, 0.3035757048167294, 0.5536910560355638, 0.9795417560169836, -0.9666489652409738, 0.1443285875781875, -0.5507196980455471, 2.134204466965365, 1.2002621633808137, 0.5539732138192213, 0.44405204361763373, -0.8066429655529732, 0.47689696974561896, 0.40095681057966404, -0.21926958131756527, -0.5797014397387007, -1.5172535511250775, 0.00926346474459608, 0.5697746093056334, -2.3556751456972376, 0.8803531585333235, 2.029448318283848, -1.2365916466780935, 1.2316420941138726, -0.6224774673632834]}, {\"showlegend\": false, \"type\": \"box\", \"y\": [1.4463763025428389, 0.5994152193421665, 0.48168177130978573, -1.598240193622905, -0.6071434953945998, -0.18569350148240257, 1.7039460818140493, -1.15840973783809, -0.9721590947645299, -0.27711040821192523, 0.26790565354885976, 0.7307430901011609, 0.8386015620061007, 0.8166818524985323, -1.7979446255048621, -0.3067836876488113, -0.9138805401873146, 0.9831288203643739, 1.1080139134030809, -2.0140641444660123, -0.2866804455905951, -0.9720067802489984, 1.7904990004190424, -0.06783404753518506, -1.2749728207239241, -0.9122216115739327, 1.7708576353596317, 0.3675964889096111, -0.2635118871483661, 0.19179785814527173, -0.5026931511519325, 0.1658548760580754, -1.6769015548103627, 0.011003708147026772, -2.3318031735109574, 1.5472475951048823, -1.2037082351062625, -0.004604873505801177, 1.6732782924490195, -0.06367334657343958, 0.8068678716200302, 0.6445906283717435, 0.9757229945961832, -0.43013875942064395, -1.2255088694183156, -0.2367323339899299, 0.2525239153400976, -0.124254955787865, -0.8788913683398228, 0.41462115094406427]}, {\"showlegend\": false, \"type\": \"box\", \"y\": [0.9641945175626636, 0.7016143862203109, 1.261265975469882, 0.8657734320683939, -0.19304120688478643, 3.064407156830229, -0.5597515871296179, -0.3676372059202907, 0.29186257550688804, 1.0888208779247952, 0.37163649612364885, -0.7713161463729634, 0.008196894131356198, -0.526087452770361, 0.04318707646073683, 0.39132934457202223, 0.5348017470304413, -1.1583833944238762, -1.2265873746972096, -0.3082713100853353, -0.7434246994001529, -0.39064800527931753, -0.9456178980028982, -1.1032821816733909, 0.9082736041503622, 1.6731378659849205, 1.2247271850563322, 2.009290540458807, -0.741263824610384, 0.09235220933209365, -0.04717474456106199, -0.743847564919324, -1.171293872700927, -0.6523526064302715, 1.446501090449737, 0.7586192721003416, -0.8019746620279329, -0.6260437068103771, -0.8021093061189436, 1.1633815360965245, -0.41185804425866196, -0.9796984364881414, 0.3342385086142189, -1.6037906977395713, 0.4641132957743312, -1.195689915175159, -0.9239332848107565, -0.6202897410230227, -0.5997748607698941, -0.2218379288015482]}, {\"showlegend\": false, \"type\": \"box\", \"y\": [-0.34279718479653937, 0.5286770135251666, 1.3082963606691806, -0.5509584546454757, 1.0104824015007494, -0.09651628170012362, 0.2373705159929373, 0.7670067642146309, -0.1506090101878643, -0.41447239015709675, 1.850868781954295, -0.3622119747962658, 0.0628892826897625, -0.07935848674605767, -0.8729007924471301, -0.1284187732435429, -1.1583644392244168, 1.1280410208817484, -1.2899886774354226, -0.140096153390974, -0.16676427781834813, -0.628906875899235, -1.467847947860103, 0.04442440771517379, -0.37075781074603575, -0.9722120379475947, -0.7082045425162997, 0.7513723466944308, -1.8466370947695083, 1.3385440372886006, 0.4619175442429986, 0.7558147511154676, 1.2031658510417935, -0.9316258495293449, -2.027618676174853, -0.5527557039044622, -0.945205325959467, -0.017847447286004847, 0.5122428300399934, 0.9927882599410265, -0.3493471508199056, 0.40046562518655004, 1.0074854756749565, 1.2925579603733357, 1.5278414317540572, 0.28470177802626034, -0.6465058037950699, 0.5309889510555449, -1.736553528424194, -0.5326925539304367]}, {\"showlegend\": false, \"type\": \"box\", \"y\": [0.8930423893212055, 0.6031123815063548, 0.7847749741622005, 0.47492150907129366, -0.5252466911147095, 1.123603963683878, -1.4852442439765312, 0.5120423838248295, -2.5582408549535183, 0.6209363871530711, -1.0053984477811804, 0.1468544962925109, -0.5230298838853031, 0.5623213875291083, -0.0264089542779459, 1.8567117943520224, -0.5802434105798603, 1.9937439024243908, 0.133713490431177, 0.5775392823053593, -0.9550442453438251, -1.0464738470511992, -1.0034636535390893, -0.9445774067726888, 1.655817568402518, -0.3326843273723417, 0.8658165274414844, 1.1429441853679059, 0.9092285302676552, -0.2849338358690702, 1.8520938815643582, -0.9782542816769585, 0.16972567427176322, 0.8522073395314766, -1.3576311413821365, 0.8488301815885174, -0.5911490727984544, -0.11451607230225279, 0.09388197677979335, -0.4765152456285022, 1.0726439649988118, 0.80034513352388, -0.7117424182820159, -1.009852337292709, 0.8791225901125853, -0.10626082626063318, -0.5476012207503967, 0.7290578166201841, 0.19792283624552445, 2.4153824191748354]}, {\"showlegend\": false, \"type\": \"box\", \"y\": [0.9407804700457393, -0.9688566827740762, 1.253870866414903, 0.33483174447230557, 0.04926126708619503, -0.7967655813298503, 0.9363125775501002, 0.31629846390493066, 0.8907766784043254, -0.036020502819338114, -0.7440911058754581, 0.7126688680290215, -0.8058762389569201, -1.8806523798769006, 0.48015280935335175, -0.5127149956864956, -0.18712504591937415, 0.5636405947664934, -0.556948079294502, 0.9493559357929278, -0.44283211212124873, -0.4626378017534403, -0.08449067887880572, -0.12285042362267862, 0.4253376754504793, -1.5135623318715055, 0.32959808103174043, -0.5917996403776605, -0.4270954593760289, -0.7346828424400392, -0.6598113793483588, -0.4442308007049021, 0.11171591838221852, 1.3421532251650983, 0.04990916971036095, 0.13464326114887085, -0.40305166937524595, -1.782237052845589, 0.005884189128920351, -1.0529769948870298, 1.3814500941173238, 0.8959258817864402, 0.47469208288907216, 1.9404037329527213, 2.1745693240635453, 0.48766126636857854, 1.0800796839954574, 0.5325875265485401, 0.46642653931672834, -0.5920439715547412]}, {\"showlegend\": false, \"type\": \"box\", \"y\": [-1.4507882612166196, -0.6007866182033365, -0.3599696899428863, -0.7502810589660794, 0.07524413761298035, -2.3622350792147775, -0.8729950600778043, 0.35912728399566096, 0.057461261719209365, 1.3770766971664974, -0.3228255470832242, -0.761374613162188, -0.14197348320746508, 0.946522719457473, -0.44689865879014534, -0.39429943263018546, 0.07775259182941385, 0.7891641591237066, -1.3139391565140877, 1.7960050996237897, -1.1487908224597174, -0.4815531715503281, 0.5649083177955412, -1.5799492410087914, -0.564218468422589, -1.7962763005328202, 0.0011915579758197165, -0.3801477401821019, -0.9119763099729505, 0.5012508706732823, -1.541467666192372, 0.845742280864114, 0.35674137631517094, 0.1912572876511701, 0.5416194707096509, 0.4713698334221372, 0.9712611200160085, 0.016394980487005405, -1.7218877402972996, 0.6453958443597185, -0.7917058532128985, -0.37827392919625263, 1.5805364458910962, 0.8749580153148263, 0.47089254133720465, 0.13505925536544777, -0.2796056009074383, 0.7585014499611946, -1.85552729670132, 1.2211429824587368]}, {\"showlegend\": false, \"type\": \"box\", \"y\": [0.287904201269963, 0.7551586940345135, -0.9283673258961403, -1.0146280624766666, 1.8229892898660967, 0.8052594330157102, 1.5248219643541385, -0.24074298304767885, -1.5132746305480596, 0.6815055273756757, -1.6165665138166305, -0.632649158421114, 2.358377474150991, 0.8197808091873038, -0.887280282733418, -0.19802354128267338, 2.314065087168379, 0.07555430840298992, -0.993266694529429, 0.6153078825672992, -0.4064288948903409, -0.5397487365475651, -0.7191340082389863, 0.17345265382037403, -1.7836955159726675, 0.5654810997428492, 0.5119856351721851, 0.6377436560503512, -0.6472228694688931, -0.45346653390372477, 0.42972992448678743, 0.47205029177117286, -0.06580752376200218, -0.8234359521794338, 0.2881958187104082, 1.0564618833299404, -0.8957543280604863, -1.2793586600737108, -0.011227783853837811, 0.1718478606953274, -1.8843805378635918, 1.0546297439907346, 0.28153182470516935, -1.3819360912571883, 1.1816138957685627, 0.2929319516862537, 1.052320082517447, 0.32585414421399006, -0.7293336910422891, 0.848705889287416]}, {\"showlegend\": false, \"type\": \"box\", \"y\": [0.20972571057171682, -0.057387794082448, -0.46655158279246045, 1.5373632634361427, -0.06962490168883756, -1.280496284864256, 2.2474693695616987, -2.6312937893636135, 1.825377136298679, -1.198006909810771, -0.5077574643515549, -0.45947410747823814, -1.7340579278974957, -0.07693877340413541, -0.6742432002864859, -0.34499913733116705, 0.2721456128064952, -0.7819269852994478, 0.317884450007199, -0.07412212904885566, 0.27399002600943834, 0.5289396795059306, -1.6112617587485702, 0.4789293054922572, -0.40183519963746617, 0.5401282945111928, 0.4797404399129788, 0.8209771373957878, -0.11528606060844024, -0.24679679021162826, -1.1659676128770913, 1.3212101399229423, -1.086125116201759, -1.028928922149201, 1.9315490436982636, 0.5879443980452428, 0.3642454841106856, -0.5946911151060896, -0.5534762057935675, 1.0085122673319638, 1.6652212593111229, 0.2950118291318778, -0.8755549092372319, 0.31499213394114384, 1.4696120130776826, 0.02905522030443432, -0.09873324961998307, -0.15885468087976598, 0.19350767312831824, -1.4419723297103584]}, {\"showlegend\": false, \"type\": \"box\", \"y\": [-0.7536646230744836, -0.2400403839322563, 0.9972234697628529, -0.14979172520918163, -0.03244785697552993, 0.33272362262369737, 2.5432869016169333, -0.5112678062659607, 1.5099306728084314, 0.15616314774952605, 0.4435739046452181, -0.2090403049105175, -1.3038884739552827, -1.1486443026468882, -0.3770061712468305, 0.1016600590958625, -0.6483236793858087, 0.8049352770356141, 1.3569655849821562, 1.0341056557632224, -0.9225357993322043, 1.6800290953901882, -1.5417574404045298, 0.2943270012344715, -1.3306073333625692, 0.3970134093227944, 1.2494303519437386, -0.597575165952099, 0.546625556670524, 0.36009349557692055, 0.89527671458694, -0.5626485584258177, -0.05858407351947637, -0.084012423914263, -0.8558555726944022, 0.4579626350088988, 0.6779021608992398, -1.2033655886749484, -1.8626132045142232, 0.42334054851368014, 0.4054611716182505, 0.6538253858204287, 1.3904630829814588, -0.5840249269353718, -0.8514716746060603, 0.5175179691359033, -0.5484407324770327, -0.09673899606087395, 1.0937160884071482, -0.16890724895832554]}, {\"showlegend\": false, \"type\": \"box\", \"y\": [-1.1130598137962473, 0.15577134342354257, 0.726836674050226, -1.6196863510685944, -0.31517376124812363, 0.41857310775273937, 0.9339913414729665, -0.9142547399902501, 0.43836668454459937, 1.2192731107949604, 0.12022302541479023, 0.827609150968408, -0.03638012747146519, -0.2545435863816778, 0.543627365307511, -1.1073363257800048, -1.3335369886237403, -0.2738652620606141, -2.0495504518129812, 1.5870644499984852, -0.2761342181094965, 0.19605240540637328, -0.8704654928756824, -1.1566033992110027, -0.8250887077066543, 0.21712740557233384, -1.233451079479462, 0.00024179631430019144, -1.39340016172095, 0.1731765107665384, 0.5259497187256176, 0.44194959210532003, 0.043988627591672214, 1.7249128346455544, -1.1651468172697643, -0.46979528475999593, 1.7318679817538158, -0.6147473736947956, -0.6921164979951328, -1.6490559423624211, 2.0508099654305223, 0.1787158521158008, 0.2861411047704732, -0.5944832436825879, -0.4062221012076283, -0.44228206009464793, 0.5982156700762217, 0.5784548535700804, 0.30215103260804194, 0.7309285332974709]}, {\"showlegend\": false, \"type\": \"box\", \"y\": [-1.3425773356055295, -0.8732871892790952, -2.6665398240245115, -0.8421271959447637, 1.3560243124041806, 1.1846997232721863, -2.7237179658497803, -0.15597872806341373, 1.0865812636135657, 1.1934851899458294, 0.4003114087053919, 1.1100484087569398, 0.07201231307312199, 0.7082075760610121, 0.6767845042642302, -0.983475649324852, 0.6358441422161752, 1.331069310451238, -1.2238499348506375, -0.6528557402378898, 0.722443193733658, -0.29384616563578564, -0.10765488579622148, -1.6836253546347892, 0.9261666084668936, 1.0664494470105244, -0.8429927034309292, 0.5385531323031225, 1.144042744530871, -0.10478468920430395, 0.6540958713898641, 1.3986585909110096, -0.5403000046668389, -0.09051647186767646, 1.1549019701531877, -1.6135965644184047, 2.6786472864267346, 0.43175638437052666, -1.8119834946598754, -0.08247064955287806, 0.4471189379905844, 2.9886508563810095, 2.0844973734718653, 0.803734457821127, 0.5307852414262352, 0.7480077420546095, -0.014882815256894314, 0.2803385209409079, -0.5320047240794554, 1.0442912031238938]}, {\"showlegend\": false, \"type\": \"box\", \"y\": [-0.08896459786779139, -2.1494409344954435, -1.0638319272843866, 0.9441172333347858, -0.9424987042123568, 1.6232324486369536, -1.2756358208708174, -0.3052958883629192, -0.25958994711406613, -1.9239991750710068, -0.9259493248582114, 0.6451773320234915, -1.8644667312070828, -0.7554817928112434, -0.20615474824978278, 1.3075320575149076, 1.3547568786898325, -1.3404654369121978, -0.333308649346126, 0.5904902246372948, -0.7414261143914657, -0.6525262229348485, -0.45684300953545753, -0.5132062645031674, 1.022012723122001, 0.6789181948256025, -0.1964315075043353, -0.8614047431559123, -1.3464211338392438, 0.9247068208464652, -0.04789211727710863, -0.13910797620241008, -0.7338915907212629, 0.6402498614462357, -1.851101156864675, 0.7352806767154547, 0.7332408778378375, 0.9578624993102931, 0.3835741757666736, 1.8754762302544328, -0.044064797828279156, -0.14524144879307466, 1.6188620800653806, -0.5393967598353229, -2.03929658443642, -0.55202901004341, 0.8275044873470736, -0.720330244878864, 1.9652599310744758, 0.8153692167155466]}, {\"showlegend\": false, \"type\": \"box\", \"y\": [0.2782129275998999, 0.8474678937469997, 0.7869057297893183, 0.8790977818275956, 0.2301555622481651, 1.0937784289582508, -0.2900778260640186, -0.7381921022341522, 0.22850414792708007, -0.5892810545177436, -0.17480237311390698, -0.5812755673722875, 0.34036669323275426, -0.12876369502068252, 0.17396272989553185, -0.14255798711597037, 0.9177064175681224, -0.9206659529065548, -0.3345385434082703, -0.3332743526737127, -0.25115378208274547, 0.19057166992250069, 0.7648503939350366, -0.12375110874205092, -1.3048394812507984, -2.3751201898272587, 0.9392409863838818, 0.03431009288878903, 0.3639885972537644, -0.18379591121886088, 0.4814807279162618, 0.933723113929789, 0.20359525899013095, 0.6419502201640178, 0.7381021044887168, -0.14219291829545253, 2.076287965443539, 0.10716164359371169, -0.014002282160580984, -0.3984183694783125, -1.6486165841826834, -0.39841046005078007, -1.7832430486367772, 0.822967292047158, 0.19618307821421377, -1.4080339315501031, 0.8427496369300741, -1.1457547896188014, -0.5982130390687441, 1.329970213042188]}, {\"showlegend\": false, \"type\": \"box\", \"y\": [-0.7197387983060345, -0.7317851588132125, 0.6106274692517492, -0.8285625742685673, -1.384342278674602, -0.33076690029015315, -1.1228309495622635, -0.9462248537200026, 0.15972643263311162, 1.6510986748184062, 1.2552335869403373, 0.5117123390156292, 0.2787846201866027, -0.04479971444726415, 0.6891184983059276, -0.4436894014913681, 0.06953004018017259, -0.7936733800521341, -0.5347701403724467, -2.473168120344592, 3.104503781395766, -0.28191211627691715, 0.48547990735491237, 0.24610347209428185, 2.7756882255212405, 0.584313381923845, -0.9557548044833993, -0.5483989350624624, -2.478854631192295, 0.9662784175313366, -1.2633255647715003, 1.182685159378843, -1.162947360582025, -2.0284232460749414, -0.7709032992755669, 0.42296623833805685, -0.5129040364153943, -0.8050687379443973, 0.3552158324738996, 0.6552206303598079, -1.448957010361624, 0.23932378376771343, 1.5077149011617568, -1.4191311334264296, 0.43274619224721333, -0.7875833096232764, 0.5409190650259317, -2.089167208968919, 0.12534072259712012, -0.43639744383701967]}],                        {\"template\": {\"data\": {\"bar\": [{\"error_x\": {\"color\": \"#2a3f5f\"}, \"error_y\": {\"color\": \"#2a3f5f\"}, \"marker\": {\"line\": {\"color\": \"#E5ECF6\", \"width\": 0.5}}, \"type\": \"bar\"}], \"barpolar\": [{\"marker\": {\"line\": {\"color\": \"#E5ECF6\", \"width\": 0.5}}, \"type\": \"barpolar\"}], \"carpet\": [{\"aaxis\": {\"endlinecolor\": \"#2a3f5f\", \"gridcolor\": \"white\", \"linecolor\": \"white\", \"minorgridcolor\": \"white\", \"startlinecolor\": \"#2a3f5f\"}, \"baxis\": {\"endlinecolor\": \"#2a3f5f\", \"gridcolor\": \"white\", \"linecolor\": \"white\", \"minorgridcolor\": \"white\", \"startlinecolor\": \"#2a3f5f\"}, \"type\": \"carpet\"}], \"choropleth\": [{\"colorbar\": {\"outlinewidth\": 0, \"ticks\": \"\"}, \"type\": \"choropleth\"}], \"contour\": [{\"colorbar\": {\"outlinewidth\": 0, \"ticks\": \"\"}, \"colorscale\": [[0.0, \"#0d0887\"], [0.1111111111111111, \"#46039f\"], [0.2222222222222222, \"#7201a8\"], [0.3333333333333333, \"#9c179e\"], [0.4444444444444444, \"#bd3786\"], [0.5555555555555556, \"#d8576b\"], [0.6666666666666666, \"#ed7953\"], [0.7777777777777778, \"#fb9f3a\"], [0.8888888888888888, \"#fdca26\"], [1.0, \"#f0f921\"]], \"type\": \"contour\"}], \"contourcarpet\": [{\"colorbar\": {\"outlinewidth\": 0, \"ticks\": \"\"}, \"type\": \"contourcarpet\"}], \"heatmap\": [{\"colorbar\": {\"outlinewidth\": 0, \"ticks\": \"\"}, \"colorscale\": [[0.0, \"#0d0887\"], [0.1111111111111111, \"#46039f\"], [0.2222222222222222, \"#7201a8\"], [0.3333333333333333, \"#9c179e\"], [0.4444444444444444, \"#bd3786\"], [0.5555555555555556, \"#d8576b\"], [0.6666666666666666, \"#ed7953\"], [0.7777777777777778, \"#fb9f3a\"], [0.8888888888888888, \"#fdca26\"], [1.0, \"#f0f921\"]], \"type\": \"heatmap\"}], \"heatmapgl\": [{\"colorbar\": {\"outlinewidth\": 0, \"ticks\": \"\"}, \"colorscale\": [[0.0, \"#0d0887\"], [0.1111111111111111, \"#46039f\"], [0.2222222222222222, \"#7201a8\"], [0.3333333333333333, \"#9c179e\"], [0.4444444444444444, \"#bd3786\"], [0.5555555555555556, \"#d8576b\"], [0.6666666666666666, \"#ed7953\"], [0.7777777777777778, \"#fb9f3a\"], [0.8888888888888888, \"#fdca26\"], [1.0, \"#f0f921\"]], \"type\": \"heatmapgl\"}], \"histogram\": [{\"marker\": {\"colorbar\": {\"outlinewidth\": 0, \"ticks\": \"\"}}, \"type\": \"histogram\"}], \"histogram2d\": [{\"colorbar\": {\"outlinewidth\": 0, \"ticks\": \"\"}, \"colorscale\": [[0.0, \"#0d0887\"], [0.1111111111111111, \"#46039f\"], [0.2222222222222222, \"#7201a8\"], [0.3333333333333333, \"#9c179e\"], [0.4444444444444444, \"#bd3786\"], [0.5555555555555556, \"#d8576b\"], [0.6666666666666666, \"#ed7953\"], [0.7777777777777778, \"#fb9f3a\"], [0.8888888888888888, \"#fdca26\"], [1.0, \"#f0f921\"]], \"type\": \"histogram2d\"}], \"histogram2dcontour\": [{\"colorbar\": {\"outlinewidth\": 0, \"ticks\": \"\"}, \"colorscale\": [[0.0, \"#0d0887\"], [0.1111111111111111, \"#46039f\"], [0.2222222222222222, \"#7201a8\"], [0.3333333333333333, \"#9c179e\"], [0.4444444444444444, \"#bd3786\"], [0.5555555555555556, \"#d8576b\"], [0.6666666666666666, \"#ed7953\"], [0.7777777777777778, \"#fb9f3a\"], [0.8888888888888888, \"#fdca26\"], [1.0, \"#f0f921\"]], \"type\": \"histogram2dcontour\"}], \"mesh3d\": [{\"colorbar\": {\"outlinewidth\": 0, \"ticks\": \"\"}, \"type\": \"mesh3d\"}], \"parcoords\": [{\"line\": {\"colorbar\": {\"outlinewidth\": 0, \"ticks\": \"\"}}, \"type\": \"parcoords\"}], \"pie\": [{\"automargin\": true, \"type\": \"pie\"}], \"scatter\": [{\"marker\": {\"colorbar\": {\"outlinewidth\": 0, \"ticks\": \"\"}}, \"type\": \"scatter\"}], \"scatter3d\": [{\"line\": {\"colorbar\": {\"outlinewidth\": 0, \"ticks\": \"\"}}, \"marker\": {\"colorbar\": {\"outlinewidth\": 0, \"ticks\": \"\"}}, \"type\": \"scatter3d\"}], \"scattercarpet\": [{\"marker\": {\"colorbar\": {\"outlinewidth\": 0, \"ticks\": \"\"}}, \"type\": \"scattercarpet\"}], \"scattergeo\": [{\"marker\": {\"colorbar\": {\"outlinewidth\": 0, \"ticks\": \"\"}}, \"type\": \"scattergeo\"}], \"scattergl\": [{\"marker\": {\"colorbar\": {\"outlinewidth\": 0, \"ticks\": \"\"}}, \"type\": \"scattergl\"}], \"scattermapbox\": [{\"marker\": {\"colorbar\": {\"outlinewidth\": 0, \"ticks\": \"\"}}, \"type\": \"scattermapbox\"}], \"scatterpolar\": [{\"marker\": {\"colorbar\": {\"outlinewidth\": 0, \"ticks\": \"\"}}, \"type\": \"scatterpolar\"}], \"scatterpolargl\": [{\"marker\": {\"colorbar\": {\"outlinewidth\": 0, \"ticks\": \"\"}}, \"type\": \"scatterpolargl\"}], \"scatterternary\": [{\"marker\": {\"colorbar\": {\"outlinewidth\": 0, \"ticks\": \"\"}}, \"type\": \"scatterternary\"}], \"surface\": [{\"colorbar\": {\"outlinewidth\": 0, \"ticks\": \"\"}, \"colorscale\": [[0.0, \"#0d0887\"], [0.1111111111111111, \"#46039f\"], [0.2222222222222222, \"#7201a8\"], [0.3333333333333333, \"#9c179e\"], [0.4444444444444444, \"#bd3786\"], [0.5555555555555556, \"#d8576b\"], [0.6666666666666666, \"#ed7953\"], [0.7777777777777778, \"#fb9f3a\"], [0.8888888888888888, \"#fdca26\"], [1.0, \"#f0f921\"]], \"type\": \"surface\"}], \"table\": [{\"cells\": {\"fill\": {\"color\": \"#EBF0F8\"}, \"line\": {\"color\": \"white\"}}, \"header\": {\"fill\": {\"color\": \"#C8D4E3\"}, \"line\": {\"color\": \"white\"}}, \"type\": \"table\"}]}, \"layout\": {\"annotationdefaults\": {\"arrowcolor\": \"#2a3f5f\", \"arrowhead\": 0, \"arrowwidth\": 1}, \"autotypenumbers\": \"strict\", \"coloraxis\": {\"colorbar\": {\"outlinewidth\": 0, \"ticks\": \"\"}}, \"colorscale\": {\"diverging\": [[0, \"#8e0152\"], [0.1, \"#c51b7d\"], [0.2, \"#de77ae\"], [0.3, \"#f1b6da\"], [0.4, \"#fde0ef\"], [0.5, \"#f7f7f7\"], [0.6, \"#e6f5d0\"], [0.7, \"#b8e186\"], [0.8, \"#7fbc41\"], [0.9, \"#4d9221\"], [1, \"#276419\"]], \"sequential\": [[0.0, \"#0d0887\"], [0.1111111111111111, \"#46039f\"], [0.2222222222222222, \"#7201a8\"], [0.3333333333333333, \"#9c179e\"], [0.4444444444444444, \"#bd3786\"], [0.5555555555555556, \"#d8576b\"], [0.6666666666666666, \"#ed7953\"], [0.7777777777777778, \"#fb9f3a\"], [0.8888888888888888, \"#fdca26\"], [1.0, \"#f0f921\"]], \"sequentialminus\": [[0.0, \"#0d0887\"], [0.1111111111111111, \"#46039f\"], [0.2222222222222222, \"#7201a8\"], [0.3333333333333333, \"#9c179e\"], [0.4444444444444444, \"#bd3786\"], [0.5555555555555556, \"#d8576b\"], [0.6666666666666666, \"#ed7953\"], [0.7777777777777778, \"#fb9f3a\"], [0.8888888888888888, \"#fdca26\"], [1.0, \"#f0f921\"]]}, \"colorway\": [\"#636efa\", \"#EF553B\", \"#00cc96\", \"#ab63fa\", \"#FFA15A\", \"#19d3f3\", \"#FF6692\", \"#B6E880\", \"#FF97FF\", \"#FECB52\"], \"font\": {\"color\": \"#2a3f5f\"}, \"geo\": {\"bgcolor\": \"white\", \"lakecolor\": \"white\", \"landcolor\": \"#E5ECF6\", \"showlakes\": true, \"showland\": true, \"subunitcolor\": \"white\"}, \"hoverlabel\": {\"align\": \"left\"}, \"hovermode\": \"closest\", \"mapbox\": {\"style\": \"light\"}, \"paper_bgcolor\": \"white\", \"plot_bgcolor\": \"#E5ECF6\", \"polar\": {\"angularaxis\": {\"gridcolor\": \"white\", \"linecolor\": \"white\", \"ticks\": \"\"}, \"bgcolor\": \"#E5ECF6\", \"radialaxis\": {\"gridcolor\": \"white\", \"linecolor\": \"white\", \"ticks\": \"\"}}, \"scene\": {\"xaxis\": {\"backgroundcolor\": \"#E5ECF6\", \"gridcolor\": \"white\", \"gridwidth\": 2, \"linecolor\": \"white\", \"showbackground\": true, \"ticks\": \"\", \"zerolinecolor\": \"white\"}, \"yaxis\": {\"backgroundcolor\": \"#E5ECF6\", \"gridcolor\": \"white\", \"gridwidth\": 2, \"linecolor\": \"white\", \"showbackground\": true, \"ticks\": \"\", \"zerolinecolor\": \"white\"}, \"zaxis\": {\"backgroundcolor\": \"#E5ECF6\", \"gridcolor\": \"white\", \"gridwidth\": 2, \"linecolor\": \"white\", \"showbackground\": true, \"ticks\": \"\", \"zerolinecolor\": \"white\"}}, \"shapedefaults\": {\"line\": {\"color\": \"#2a3f5f\"}}, \"ternary\": {\"aaxis\": {\"gridcolor\": \"white\", \"linecolor\": \"white\", \"ticks\": \"\"}, \"baxis\": {\"gridcolor\": \"white\", \"linecolor\": \"white\", \"ticks\": \"\"}, \"bgcolor\": \"#E5ECF6\", \"caxis\": {\"gridcolor\": \"white\", \"linecolor\": \"white\", \"ticks\": \"\"}}, \"title\": {\"x\": 0.05}, \"xaxis\": {\"automargin\": true, \"gridcolor\": \"white\", \"linecolor\": \"white\", \"ticks\": \"\", \"title\": {\"standoff\": 15}, \"zerolinecolor\": \"white\", \"zerolinewidth\": 2}, \"yaxis\": {\"automargin\": true, \"gridcolor\": \"white\", \"linecolor\": \"white\", \"ticks\": \"\", \"title\": {\"standoff\": 15}, \"zerolinecolor\": \"white\", \"zerolinewidth\": 2}}}},                        {\"responsive\": true}                    ).then(function(){\n                            \nvar gd = document.getElementById('a89fc381-a5e6-43ca-b3cc-910540f2f388');\nvar x = new MutationObserver(function (mutations, observer) {{\n        var display = window.getComputedStyle(gd).display;\n        if (!display || display === 'none') {{\n            console.log([gd, 'removed!']);\n            Plotly.purge(gd);\n            observer.disconnect();\n        }}\n}});\n\n// Listen for the removal of the full notebook cells\nvar notebookContainer = gd.closest('#notebook-container');\nif (notebookContainer) {{\n    x.observe(notebookContainer, {childList: true});\n}}\n\n// Listen for the clearing of the current output cell\nvar outputEl = gd.closest('.output');\nif (outputEl) {{\n    x.observe(outputEl, {childList: true});\n}}\n\n                        })                };                });            </script>        </div>"
     },
     "metadata": {}
    }
   ],
   "source": [
    "iplot([Box(y = np.random.randn(50), showlegend=False) for i in range(45)], show_link=False)"
   ]
  },
  {
   "cell_type": "code",
   "execution_count": 3,
   "metadata": {},
   "outputs": [
    {
     "output_type": "error",
     "ename": "NameError",
     "evalue": "name 'Contours' is not defined",
     "traceback": [
      "\u001b[0;31m---------------------------------------------------------------------------\u001b[0m",
      "\u001b[0;31mNameError\u001b[0m                                 Traceback (most recent call last)",
      "\u001b[0;32m<ipython-input-3-8469d278e205>\u001b[0m in \u001b[0;36m<module>\u001b[0;34m\u001b[0m\n\u001b[1;32m      1\u001b[0m \u001b[0mx\u001b[0m \u001b[0;34m=\u001b[0m \u001b[0mnp\u001b[0m\u001b[0;34m.\u001b[0m\u001b[0mrandom\u001b[0m\u001b[0;34m.\u001b[0m\u001b[0mrandn\u001b[0m\u001b[0;34m(\u001b[0m\u001b[0;36m2000\u001b[0m\u001b[0;34m)\u001b[0m\u001b[0;34m\u001b[0m\u001b[0;34m\u001b[0m\u001b[0m\n\u001b[1;32m      2\u001b[0m \u001b[0my\u001b[0m \u001b[0;34m=\u001b[0m \u001b[0mnp\u001b[0m\u001b[0;34m.\u001b[0m\u001b[0mrandom\u001b[0m\u001b[0;34m.\u001b[0m\u001b[0mrandn\u001b[0m\u001b[0;34m(\u001b[0m\u001b[0;36m2000\u001b[0m\u001b[0;34m)\u001b[0m\u001b[0;34m\u001b[0m\u001b[0;34m\u001b[0m\u001b[0m\n\u001b[0;32m----> 3\u001b[0;31m iplot([Histogram2dContour(x=x, y=y, contours=Contours(coloring='heatmap')),\n\u001b[0m\u001b[1;32m      4\u001b[0m        Scatter(x=x, y=y, mode='markers', marker=Marker(color='white', size=3, opacity=0.3))], show_link=False)\n",
      "\u001b[0;31mNameError\u001b[0m: name 'Contours' is not defined"
     ]
    }
   ],
   "source": [
    "x = np.random.randn(2000)\n",
    "y = np.random.randn(2000)\n",
    "iplot([Histogram2dContour(x=x, y=y, contours=Contours(coloring='heatmap')),\n",
    "       Scatter(x=x, y=y, mode='markers', marker=Marker(color='white', size=3, opacity=0.3))], show_link=False)"
   ]
  },
  {
   "cell_type": "code",
   "execution_count": 6,
   "metadata": {},
   "outputs": [
    {
     "output_type": "display_data",
     "data": {
      "application/vnd.plotly.v1+json": {
       "config": {
        "linkText": "Export to plot.ly",
        "plotlyServerURL": "https://plot.ly",
        "showLink": false
       },
       "data": [
        {
         "lat": [
          32.89595056,
          35.04022222
         ],
         "line": {
          "color": "red",
          "width": 1
         },
         "locationmode": "USA-states",
         "lon": [
          -97.0372,
          -106.6091944
         ],
         "mode": "lines",
         "opacity": 0.48577680525164113,
         "type": "scattergeo"
        },
        {
         "lat": [
          41.979595,
          30.19453278
         ],
         "line": {
          "color": "red",
          "width": 1
         },
         "locationmode": "USA-states",
         "lon": [
          -87.90446417,
          -97.66987194
         ],
         "mode": "lines",
         "opacity": 0.18161925601750548,
         "type": "scattergeo"
        },
        {
         "lat": [
          32.89595056,
          41.93887417
         ],
         "line": {
          "color": "red",
          "width": 1
         },
         "locationmode": "USA-states",
         "lon": [
          -97.0372,
          -72.68322833
         ],
         "mode": "lines",
         "opacity": 0.1772428884026258,
         "type": "scattergeo"
        },
        {
         "lat": [
          18.43941667,
          41.93887417
         ],
         "line": {
          "color": "red",
          "width": 1
         },
         "locationmode": "USA-states",
         "lon": [
          -66.00183333,
          -72.68322833
         ],
         "mode": "lines",
         "opacity": 0.061269146608315096,
         "type": "scattergeo"
        },
        {
         "lat": [
          32.89595056,
          33.56294306
         ],
         "line": {
          "color": "red",
          "width": 1
         },
         "locationmode": "USA-states",
         "lon": [
          -97.0372,
          -86.75354972
         ],
         "mode": "lines",
         "opacity": 0.1838074398249453,
         "type": "scattergeo"
        },
        {
         "lat": [
          25.79325,
          36.12447667
         ],
         "line": {
          "color": "red",
          "width": 1
         },
         "locationmode": "USA-states",
         "lon": [
          -80.29055556,
          -86.67818222
         ],
         "mode": "lines",
         "opacity": 0.061269146608315096,
         "type": "scattergeo"
        },
        {
         "lat": [
          32.89595056,
          42.3643475
         ],
         "line": {
          "color": "red",
          "width": 1
         },
         "locationmode": "USA-states",
         "lon": [
          -97.0372,
          -71.00517917
         ],
         "mode": "lines",
         "opacity": 0.4617067833698031,
         "type": "scattergeo"
        },
        {
         "lat": [
          25.79325,
          42.3643475
         ],
         "line": {
          "color": "red",
          "width": 1
         },
         "locationmode": "USA-states",
         "lon": [
          -80.29055556,
          -71.00517917
         ],
         "mode": "lines",
         "opacity": 0.4288840262582057,
         "type": "scattergeo"
        },
        {
         "lat": [
          41.979595,
          42.3643475
         ],
         "line": {
          "color": "red",
          "width": 1
         },
         "locationmode": "USA-states",
         "lon": [
          -87.90446417,
          -71.00517917
         ],
         "mode": "lines",
         "opacity": 0.47045951859956237,
         "type": "scattergeo"
        },
        {
         "lat": [
          18.43941667,
          42.3643475
         ],
         "line": {
          "color": "red",
          "width": 1
         },
         "locationmode": "USA-states",
         "lon": [
          -66.00183333,
          -71.00517917
         ],
         "mode": "lines",
         "opacity": 0.061269146608315096,
         "type": "scattergeo"
        },
        {
         "lat": [
          18.33730556,
          42.3643475
         ],
         "line": {
          "color": "red",
          "width": 1
         },
         "locationmode": "USA-states",
         "lon": [
          -64.97336111,
          -71.00517917
         ],
         "mode": "lines",
         "opacity": 0.04814004376367615,
         "type": "scattergeo"
        },
        {
         "lat": [
          25.79325,
          39.17540167
         ],
         "line": {
          "color": "red",
          "width": 1
         },
         "locationmode": "USA-states",
         "lon": [
          -80.29055556,
          -76.66819833
         ],
         "mode": "lines",
         "opacity": 0.12253829321663019,
         "type": "scattergeo"
        },
        {
         "lat": [
          18.43941667,
          39.17540167
         ],
         "line": {
          "color": "red",
          "width": 1
         },
         "locationmode": "USA-states",
         "lon": [
          -66.00183333,
          -76.66819833
         ],
         "mode": "lines",
         "opacity": 0.061269146608315096,
         "type": "scattergeo"
        },
        {
         "lat": [
          32.89595056,
          35.21401111
         ],
         "line": {
          "color": "red",
          "width": 1
         },
         "locationmode": "USA-states",
         "lon": [
          -97.0372,
          -80.94312583
         ],
         "mode": "lines",
         "opacity": 0.3938730853391685,
         "type": "scattergeo"
        },
        {
         "lat": [
          32.89595056,
          38.80580556
         ],
         "line": {
          "color": "red",
          "width": 1
         },
         "locationmode": "USA-states",
         "lon": [
          -97.0372,
          -104.70025
         ],
         "mode": "lines",
         "opacity": 0.3041575492341357,
         "type": "scattergeo"
        },
        {
         "lat": [
          32.89595056,
          39.90237583
         ],
         "line": {
          "color": "red",
          "width": 1
         },
         "locationmode": "USA-states",
         "lon": [
          -97.0372,
          -84.219375
         ],
         "mode": "lines",
         "opacity": 0.1137855579868709,
         "type": "scattergeo"
        },
        {
         "lat": [
          32.89595056,
          38.85208333
         ],
         "line": {
          "color": "red",
          "width": 1
         },
         "locationmode": "USA-states",
         "lon": [
          -97.0372,
          -77.03772222
         ],
         "mode": "lines",
         "opacity": 0.6433260393873085,
         "type": "scattergeo"
        },
        {
         "lat": [
          25.79325,
          39.85840806
         ],
         "line": {
          "color": "red",
          "width": 1
         },
         "locationmode": "USA-states",
         "lon": [
          -80.29055556,
          -104.6670019
         ],
         "mode": "lines",
         "opacity": 0.12253829321663019,
         "type": "scattergeo"
        },
        {
         "lat": [
          41.979595,
          39.85840806
         ],
         "line": {
          "color": "red",
          "width": 1
         },
         "locationmode": "USA-states",
         "lon": [
          -87.90446417,
          -104.6670019
         ],
         "mode": "lines",
         "opacity": 0.12253829321663019,
         "type": "scattergeo"
        },
        {
         "lat": [
          33.64044444,
          32.89595056
         ],
         "line": {
          "color": "red",
          "width": 1
         },
         "locationmode": "USA-states",
         "lon": [
          -84.42694444,
          -97.0372
         ],
         "mode": "lines",
         "opacity": 0.6345733041575492,
         "type": "scattergeo"
        },
        {
         "lat": [
          30.19453278,
          32.89595056
         ],
         "line": {
          "color": "red",
          "width": 1
         },
         "locationmode": "USA-states",
         "lon": [
          -97.66987194,
          -97.0372
         ],
         "mode": "lines",
         "opacity": 0.8971553610503282,
         "type": "scattergeo"
        },
        {
         "lat": [
          36.12447667,
          32.89595056
         ],
         "line": {
          "color": "red",
          "width": 1
         },
         "locationmode": "USA-states",
         "lon": [
          -86.67818222,
          -97.0372
         ],
         "mode": "lines",
         "opacity": 0.47702407002188185,
         "type": "scattergeo"
        },
        {
         "lat": [
          34.20061917,
          32.89595056
         ],
         "line": {
          "color": "red",
          "width": 1
         },
         "locationmode": "USA-states",
         "lon": [
          -118.3584969,
          -97.0372
         ],
         "mode": "lines",
         "opacity": 0.2275711159737418,
         "type": "scattergeo"
        },
        {
         "lat": [
          39.17540167,
          32.89595056
         ],
         "line": {
          "color": "red",
          "width": 1
         },
         "locationmode": "USA-states",
         "lon": [
          -76.66819833,
          -97.0372
         ],
         "mode": "lines",
         "opacity": 0.35667396061269147,
         "type": "scattergeo"
        },
        {
         "lat": [
          39.99798528,
          32.89595056
         ],
         "line": {
          "color": "red",
          "width": 1
         },
         "locationmode": "USA-states",
         "lon": [
          -82.89188278,
          -97.0372
         ],
         "mode": "lines",
         "opacity": 0.1137855579868709,
         "type": "scattergeo"
        },
        {
         "lat": [
          39.85840806,
          32.89595056
         ],
         "line": {
          "color": "red",
          "width": 1
         },
         "locationmode": "USA-states",
         "lon": [
          -104.6670019,
          -97.0372
         ],
         "mode": "lines",
         "opacity": 0.6105032822757112,
         "type": "scattergeo"
        },
        {
         "lat": [
          42.21205889,
          32.89595056
         ],
         "line": {
          "color": "red",
          "width": 1
         },
         "locationmode": "USA-states",
         "lon": [
          -83.34883583,
          -97.0372
         ],
         "mode": "lines",
         "opacity": 0.2844638949671772,
         "type": "scattergeo"
        },
        {
         "lat": [
          39.64256778,
          32.89595056
         ],
         "line": {
          "color": "red",
          "width": 1
         },
         "locationmode": "USA-states",
         "lon": [
          -106.91769529999999,
          -97.0372
         ],
         "mode": "lines",
         "opacity": 0.1487964989059081,
         "type": "scattergeo"
        },
        {
         "lat": [
          40.69249722,
          32.89595056
         ],
         "line": {
          "color": "red",
          "width": 1
         },
         "locationmode": "USA-states",
         "lon": [
          -74.16866056,
          -97.0372
         ],
         "mode": "lines",
         "opacity": 0.33916849015317285,
         "type": "scattergeo"
        },
        {
         "lat": [
          36.77619444,
          32.89595056
         ],
         "line": {
          "color": "red",
          "width": 1
         },
         "locationmode": "USA-states",
         "lon": [
          -119.7181389,
          -97.0372
         ],
         "mode": "lines",
         "opacity": 0.12253829321663019,
         "type": "scattergeo"
        },
        {
         "lat": [
          26.07258333,
          32.89595056
         ],
         "line": {
          "color": "red",
          "width": 1
         },
         "locationmode": "USA-states",
         "lon": [
          -80.15275,
          -97.0372
         ],
         "mode": "lines",
         "opacity": 0.3676148796498906,
         "type": "scattergeo"
        },
        {
         "lat": [
          34.6404475,
          32.89595056
         ],
         "line": {
          "color": "red",
          "width": 1
         },
         "locationmode": "USA-states",
         "lon": [
          -86.77310944,
          -97.0372
         ],
         "mode": "lines",
         "opacity": 0.17286652078774617,
         "type": "scattergeo"
        },
        {
         "lat": [
          29.98047222,
          32.89595056
         ],
         "line": {
          "color": "red",
          "width": 1
         },
         "locationmode": "USA-states",
         "lon": [
          -95.33972222,
          -97.0372
         ],
         "mode": "lines",
         "opacity": 0.3544857768052516,
         "type": "scattergeo"
        },
        {
         "lat": [
          33.94253611,
          32.89595056
         ],
         "line": {
          "color": "red",
          "width": 1
         },
         "locationmode": "USA-states",
         "lon": [
          -118.40807439999999,
          -97.0372
         ],
         "mode": "lines",
         "opacity": 1,
         "type": "scattergeo"
        },
        {
         "lat": [
          39.29760528,
          32.89595056
         ],
         "line": {
          "color": "red",
          "width": 1
         },
         "locationmode": "USA-states",
         "lon": [
          -94.71390556,
          -97.0372
         ],
         "mode": "lines",
         "opacity": 0.47702407002188185,
         "type": "scattergeo"
        },
        {
         "lat": [
          28.42888889,
          32.89595056
         ],
         "line": {
          "color": "red",
          "width": 1
         },
         "locationmode": "USA-states",
         "lon": [
          -81.31602778,
          -97.0372
         ],
         "mode": "lines",
         "opacity": 0.5470459518599562,
         "type": "scattergeo"
        },
        {
         "lat": [
          35.04241667,
          32.89595056
         ],
         "line": {
          "color": "red",
          "width": 1
         },
         "locationmode": "USA-states",
         "lon": [
          -89.97666667,
          -97.0372
         ],
         "mode": "lines",
         "opacity": 0.23413566739606126,
         "type": "scattergeo"
        },
        {
         "lat": [
          26.17583333,
          32.89595056
         ],
         "line": {
          "color": "red",
          "width": 1
         },
         "locationmode": "USA-states",
         "lon": [
          -98.23861111,
          -97.0372
         ],
         "mode": "lines",
         "opacity": 0.23413566739606126,
         "type": "scattergeo"
        },
        {
         "lat": [
          25.79325,
          32.89595056
         ],
         "line": {
          "color": "red",
          "width": 1
         },
         "locationmode": "USA-states",
         "lon": [
          -80.29055556,
          -97.0372
         ],
         "mode": "lines",
         "opacity": 0.612691466083151,
         "type": "scattergeo"
        },
        {
         "lat": [
          44.88054694,
          32.89595056
         ],
         "line": {
          "color": "red",
          "width": 1
         },
         "locationmode": "USA-states",
         "lon": [
          -93.2169225,
          -97.0372
         ],
         "mode": "lines",
         "opacity": 0.35667396061269147,
         "type": "scattergeo"
        },
        {
         "lat": [
          38.50886722,
          32.89595056
         ],
         "line": {
          "color": "red",
          "width": 1
         },
         "locationmode": "USA-states",
         "lon": [
          -107.89383329999998,
          -97.0372
         ],
         "mode": "lines",
         "opacity": 0.0175054704595186,
         "type": "scattergeo"
        },
        {
         "lat": [
          20.89864972,
          32.89595056
         ],
         "line": {
          "color": "red",
          "width": 1
         },
         "locationmode": "USA-states",
         "lon": [
          -156.43045780000003,
          -97.0372
         ],
         "mode": "lines",
         "opacity": 0.061269146608315096,
         "type": "scattergeo"
        },
        {
         "lat": [
          35.39308833,
          32.89595056
         ],
         "line": {
          "color": "red",
          "width": 1
         },
         "locationmode": "USA-states",
         "lon": [
          -97.60073389,
          -97.0372
         ],
         "mode": "lines",
         "opacity": 0.42669584245076586,
         "type": "scattergeo"
        },
        {
         "lat": [
          41.30251861,
          32.89595056
         ],
         "line": {
          "color": "red",
          "width": 1
         },
         "locationmode": "USA-states",
         "lon": [
          -95.89417306,
          -97.0372
         ],
         "mode": "lines",
         "opacity": 0.2975929978118162,
         "type": "scattergeo"
        },
        {
         "lat": [
          41.979595,
          32.89595056
         ],
         "line": {
          "color": "red",
          "width": 1
         },
         "locationmode": "USA-states",
         "lon": [
          -87.90446417,
          -97.0372
         ],
         "mode": "lines",
         "opacity": 0.9026258205689278,
         "type": "scattergeo"
        },
        {
         "lat": [
          39.87195278,
          32.89595056
         ],
         "line": {
          "color": "red",
          "width": 1
         },
         "locationmode": "USA-states",
         "lon": [
          -75.24114083,
          -97.0372
         ],
         "mode": "lines",
         "opacity": 0.3522975929978118,
         "type": "scattergeo"
        },
        {
         "lat": [
          33.43416667,
          32.89595056
         ],
         "line": {
          "color": "red",
          "width": 1
         },
         "locationmode": "USA-states",
         "lon": [
          -112.00805559999999,
          -97.0372
         ],
         "mode": "lines",
         "opacity": 0.6017505470459519,
         "type": "scattergeo"
        },
        {
         "lat": [
          37.50516667,
          32.89595056
         ],
         "line": {
          "color": "red",
          "width": 1
         },
         "locationmode": "USA-states",
         "lon": [
          -77.31966667,
          -97.0372
         ],
         "mode": "lines",
         "opacity": 0.18161925601750548,
         "type": "scattergeo"
        },
        {
         "lat": [
          39.49857611,
          32.89595056
         ],
         "line": {
          "color": "red",
          "width": 1
         },
         "locationmode": "USA-states",
         "lon": [
          -119.76806470000001,
          -97.0372
         ],
         "mode": "lines",
         "opacity": 0.16411378555798686,
         "type": "scattergeo"
        },
        {
         "lat": [
          32.73355611,
          32.89595056
         ],
         "line": {
          "color": "red",
          "width": 1
         },
         "locationmode": "USA-states",
         "lon": [
          -117.1896567,
          -97.0372
         ],
         "mode": "lines",
         "opacity": 0.5470459518599562,
         "type": "scattergeo"
        },
        {
         "lat": [
          29.53369444,
          32.89595056
         ],
         "line": {
          "color": "red",
          "width": 1
         },
         "locationmode": "USA-states",
         "lon": [
          -98.46977778,
          -97.0372
         ],
         "mode": "lines",
         "opacity": 0.9037199124726477,
         "type": "scattergeo"
        },
        {
         "lat": [
          38.17438889,
          32.89595056
         ],
         "line": {
          "color": "red",
          "width": 1
         },
         "locationmode": "USA-states",
         "lon": [
          -85.736,
          -97.0372
         ],
         "mode": "lines",
         "opacity": 0.17943107221006566,
         "type": "scattergeo"
        },
        {
         "lat": [
          37.61900194,
          32.89595056
         ],
         "line": {
          "color": "red",
          "width": 1
         },
         "locationmode": "USA-states",
         "lon": [
          -122.3748433,
          -97.0372
         ],
         "mode": "lines",
         "opacity": 0.5754923413566739,
         "type": "scattergeo"
        },
        {
         "lat": [
          37.36186194,
          32.89595056
         ],
         "line": {
          "color": "red",
          "width": 1
         },
         "locationmode": "USA-states",
         "lon": [
          -121.92900890000001,
          -97.0372
         ],
         "mode": "lines",
         "opacity": 0.3479212253829322,
         "type": "scattergeo"
        },
        {
         "lat": [
          40.78838778,
          32.89595056
         ],
         "line": {
          "color": "red",
          "width": 1
         },
         "locationmode": "USA-states",
         "lon": [
          -111.9777731,
          -97.0372
         ],
         "mode": "lines",
         "opacity": 0.3063457330415755,
         "type": "scattergeo"
        },
        {
         "lat": [
          38.74768694,
          32.89595056
         ],
         "line": {
          "color": "red",
          "width": 1
         },
         "locationmode": "USA-states",
         "lon": [
          -90.35998972,
          -97.0372
         ],
         "mode": "lines",
         "opacity": 0.5317286652078774,
         "type": "scattergeo"
        },
        {
         "lat": [
          36.28186944,
          32.89595056
         ],
         "line": {
          "color": "red",
          "width": 1
         },
         "locationmode": "USA-states",
         "lon": [
          -94.30681111,
          -97.0372
         ],
         "mode": "lines",
         "opacity": 0.05470459518599562,
         "type": "scattergeo"
        },
        {
         "lat": [
          25.79325,
          42.21205889
         ],
         "line": {
          "color": "red",
          "width": 1
         },
         "locationmode": "USA-states",
         "lon": [
          -80.29055556,
          -83.34883583
         ],
         "mode": "lines",
         "opacity": 0.12253829321663019,
         "type": "scattergeo"
        },
        {
         "lat": [
          40.77724306,
          39.64256778
         ],
         "line": {
          "color": "red",
          "width": 1
         },
         "locationmode": "USA-states",
         "lon": [
          -73.87260917,
          -106.91769529999999
         ],
         "mode": "lines",
         "opacity": 0.0087527352297593,
         "type": "scattergeo"
        },
        {
         "lat": [
          41.979595,
          39.64256778
         ],
         "line": {
          "color": "red",
          "width": 1
         },
         "locationmode": "USA-states",
         "lon": [
          -87.90446417,
          -106.91769529999999
         ],
         "mode": "lines",
         "opacity": 0.0700218818380744,
         "type": "scattergeo"
        },
        {
         "lat": [
          32.89595056,
          31.80666667
         ],
         "line": {
          "color": "red",
          "width": 1
         },
         "locationmode": "USA-states",
         "lon": [
          -97.0372,
          -106.37780559999999
         ],
         "mode": "lines",
         "opacity": 0.474835886214442,
         "type": "scattergeo"
        },
        {
         "lat": [
          33.94253611,
          40.69249722
         ],
         "line": {
          "color": "red",
          "width": 1
         },
         "locationmode": "USA-states",
         "lon": [
          -118.40807439999999,
          -74.16866056
         ],
         "mode": "lines",
         "opacity": 0.05908096280087528,
         "type": "scattergeo"
        },
        {
         "lat": [
          25.79325,
          40.69249722
         ],
         "line": {
          "color": "red",
          "width": 1
         },
         "locationmode": "USA-states",
         "lon": [
          -80.29055556,
          -74.16866056
         ],
         "mode": "lines",
         "opacity": 0.1838074398249453,
         "type": "scattergeo"
        },
        {
         "lat": [
          40.63975111,
          26.07258333
         ],
         "line": {
          "color": "red",
          "width": 1
         },
         "locationmode": "USA-states",
         "lon": [
          -73.77892556,
          -80.15275
         ],
         "mode": "lines",
         "opacity": 0.12253829321663019,
         "type": "scattergeo"
        },
        {
         "lat": [
          32.89595056,
          40.48118028
         ],
         "line": {
          "color": "red",
          "width": 1
         },
         "locationmode": "USA-states",
         "lon": [
          -97.0372,
          -107.21765970000001
         ],
         "mode": "lines",
         "opacity": 0.0700218818380744,
         "type": "scattergeo"
        },
        {
         "lat": [
          32.89595056,
          21.31869111
         ],
         "line": {
          "color": "red",
          "width": 1
         },
         "locationmode": "USA-states",
         "lon": [
          -97.0372,
          -157.92240719999998
         ],
         "mode": "lines",
         "opacity": 0.12253829321663019,
         "type": "scattergeo"
        },
        {
         "lat": [
          33.94253611,
          21.31869111
         ],
         "line": {
          "color": "red",
          "width": 1
         },
         "locationmode": "USA-states",
         "lon": [
          -118.40807439999999,
          -157.92240719999998
         ],
         "mode": "lines",
         "opacity": 0.2363238512035011,
         "type": "scattergeo"
        },
        {
         "lat": [
          32.89595056,
          38.94453194
         ],
         "line": {
          "color": "red",
          "width": 1
         },
         "locationmode": "USA-states",
         "lon": [
          -97.0372,
          -77.45580972
         ],
         "mode": "lines",
         "opacity": 0.33698030634573306,
         "type": "scattergeo"
        },
        {
         "lat": [
          33.94253611,
          38.94453194
         ],
         "line": {
          "color": "red",
          "width": 1
         },
         "locationmode": "USA-states",
         "lon": [
          -118.40807439999999,
          -77.45580972
         ],
         "mode": "lines",
         "opacity": 0.18161925601750548,
         "type": "scattergeo"
        },
        {
         "lat": [
          25.79325,
          38.94453194
         ],
         "line": {
          "color": "red",
          "width": 1
         },
         "locationmode": "USA-states",
         "lon": [
          -80.29055556,
          -77.45580972
         ],
         "mode": "lines",
         "opacity": 0.12253829321663019,
         "type": "scattergeo"
        },
        {
         "lat": [
          25.79325,
          29.98047222
         ],
         "line": {
          "color": "red",
          "width": 1
         },
         "locationmode": "USA-states",
         "lon": [
          -80.29055556,
          -95.33972222
         ],
         "mode": "lines",
         "opacity": 0.1838074398249453,
         "type": "scattergeo"
        },
        {
         "lat": [
          32.89595056,
          37.64995889
         ],
         "line": {
          "color": "red",
          "width": 1
         },
         "locationmode": "USA-states",
         "lon": [
          -97.0372,
          -97.43304583
         ],
         "mode": "lines",
         "opacity": 0.23413566739606126,
         "type": "scattergeo"
        },
        {
         "lat": [
          32.89595056,
          39.71732917
         ],
         "line": {
          "color": "red",
          "width": 1
         },
         "locationmode": "USA-states",
         "lon": [
          -97.0372,
          -86.29438417
         ],
         "mode": "lines",
         "opacity": 0.3041575492341357,
         "type": "scattergeo"
        },
        {
         "lat": [
          32.89595056,
          43.60732417
         ],
         "line": {
          "color": "red",
          "width": 1
         },
         "locationmode": "USA-states",
         "lon": [
          -97.0372,
          -110.7377389
         ],
         "mode": "lines",
         "opacity": 0.0262582056892779,
         "type": "scattergeo"
        },
        {
         "lat": [
          32.89595056,
          30.49405556
         ],
         "line": {
          "color": "red",
          "width": 1
         },
         "locationmode": "USA-states",
         "lon": [
          -97.0372,
          -81.68786111
         ],
         "mode": "lines",
         "opacity": 0.2363238512035011,
         "type": "scattergeo"
        },
        {
         "lat": [
          30.19453278,
          40.63975111
         ],
         "line": {
          "color": "red",
          "width": 1
         },
         "locationmode": "USA-states",
         "lon": [
          -97.66987194,
          -73.77892556
         ],
         "mode": "lines",
         "opacity": 0.061269146608315096,
         "type": "scattergeo"
        },
        {
         "lat": [
          32.89595056,
          40.63975111
         ],
         "line": {
          "color": "red",
          "width": 1
         },
         "locationmode": "USA-states",
         "lon": [
          -97.0372,
          -73.77892556
         ],
         "mode": "lines",
         "opacity": 0.061269146608315096,
         "type": "scattergeo"
        },
        {
         "lat": [
          39.64256778,
          40.63975111
         ],
         "line": {
          "color": "red",
          "width": 1
         },
         "locationmode": "USA-states",
         "lon": [
          -106.91769529999999,
          -73.77892556
         ],
         "mode": "lines",
         "opacity": 0.061269146608315096,
         "type": "scattergeo"
        },
        {
         "lat": [
          28.42888889,
          40.63975111
         ],
         "line": {
          "color": "red",
          "width": 1
         },
         "locationmode": "USA-states",
         "lon": [
          -81.31602778,
          -73.77892556
         ],
         "mode": "lines",
         "opacity": 0.24507658643326038,
         "type": "scattergeo"
        },
        {
         "lat": [
          25.79325,
          40.63975111
         ],
         "line": {
          "color": "red",
          "width": 1
         },
         "locationmode": "USA-states",
         "lon": [
          -80.29055556,
          -73.77892556
         ],
         "mode": "lines",
         "opacity": 0.4288840262582057,
         "type": "scattergeo"
        },
        {
         "lat": [
          47.44898194,
          40.63975111
         ],
         "line": {
          "color": "red",
          "width": 1
         },
         "locationmode": "USA-states",
         "lon": [
          -122.30931310000001,
          -73.77892556
         ],
         "mode": "lines",
         "opacity": 0.061269146608315096,
         "type": "scattergeo"
        },
        {
         "lat": [
          37.61900194,
          40.63975111
         ],
         "line": {
          "color": "red",
          "width": 1
         },
         "locationmode": "USA-states",
         "lon": [
          -122.3748433,
          -73.77892556
         ],
         "mode": "lines",
         "opacity": 0.3041575492341357,
         "type": "scattergeo"
        },
        {
         "lat": [
          18.33730556,
          40.63975111
         ],
         "line": {
          "color": "red",
          "width": 1
         },
         "locationmode": "USA-states",
         "lon": [
          -64.97336111,
          -73.77892556
         ],
         "mode": "lines",
         "opacity": 0.061269146608315096,
         "type": "scattergeo"
        },
        {
         "lat": [
          27.97547222,
          40.63975111
         ],
         "line": {
          "color": "red",
          "width": 1
         },
         "locationmode": "USA-states",
         "lon": [
          -82.53325,
          -73.77892556
         ],
         "mode": "lines",
         "opacity": 0.061269146608315096,
         "type": "scattergeo"
        },
        {
         "lat": [
          32.89595056,
          36.08036111
         ],
         "line": {
          "color": "red",
          "width": 1
         },
         "locationmode": "USA-states",
         "lon": [
          -97.0372,
          -115.15233329999998
         ],
         "mode": "lines",
         "opacity": 0.6225382932166302,
         "type": "scattergeo"
        },
        {
         "lat": [
          40.63975111,
          36.08036111
         ],
         "line": {
          "color": "red",
          "width": 1
         },
         "locationmode": "USA-states",
         "lon": [
          -73.77892556,
          -115.15233329999998
         ],
         "mode": "lines",
         "opacity": 0.12253829321663019,
         "type": "scattergeo"
        },
        {
         "lat": [
          33.94253611,
          36.08036111
         ],
         "line": {
          "color": "red",
          "width": 1
         },
         "locationmode": "USA-states",
         "lon": [
          -118.40807439999999,
          -115.15233329999998
         ],
         "mode": "lines",
         "opacity": 0.24288840262582057,
         "type": "scattergeo"
        },
        {
         "lat": [
          41.979595,
          36.08036111
         ],
         "line": {
          "color": "red",
          "width": 1
         },
         "locationmode": "USA-states",
         "lon": [
          -87.90446417,
          -115.15233329999998
         ],
         "mode": "lines",
         "opacity": 0.3063457330415755,
         "type": "scattergeo"
        },
        {
         "lat": [
          30.19453278,
          33.94253611
         ],
         "line": {
          "color": "red",
          "width": 1
         },
         "locationmode": "USA-states",
         "lon": [
          -97.66987194,
          -118.40807439999999
         ],
         "mode": "lines",
         "opacity": 0.1772428884026258,
         "type": "scattergeo"
        },
        {
         "lat": [
          36.12447667,
          33.94253611
         ],
         "line": {
          "color": "red",
          "width": 1
         },
         "locationmode": "USA-states",
         "lon": [
          -86.67818222,
          -118.40807439999999
         ],
         "mode": "lines",
         "opacity": 0.061269146608315096,
         "type": "scattergeo"
        },
        {
         "lat": [
          42.3643475,
          33.94253611
         ],
         "line": {
          "color": "red",
          "width": 1
         },
         "locationmode": "USA-states",
         "lon": [
          -71.00517917,
          -118.40807439999999
         ],
         "mode": "lines",
         "opacity": 0.1838074398249453,
         "type": "scattergeo"
        },
        {
         "lat": [
          39.64256778,
          33.94253611
         ],
         "line": {
          "color": "red",
          "width": 1
         },
         "locationmode": "USA-states",
         "lon": [
          -106.91769529999999,
          -118.40807439999999
         ],
         "mode": "lines",
         "opacity": 0.061269146608315096,
         "type": "scattergeo"
        },
        {
         "lat": [
          40.63975111,
          33.94253611
         ],
         "line": {
          "color": "red",
          "width": 1
         },
         "locationmode": "USA-states",
         "lon": [
          -73.77892556,
          -118.40807439999999
         ],
         "mode": "lines",
         "opacity": 0.5995623632385121,
         "type": "scattergeo"
        },
        {
         "lat": [
          19.73876583,
          33.94253611
         ],
         "line": {
          "color": "red",
          "width": 1
         },
         "locationmode": "USA-states",
         "lon": [
          -156.0456314,
          -118.40807439999999
         ],
         "mode": "lines",
         "opacity": 0.061269146608315096,
         "type": "scattergeo"
        },
        {
         "lat": [
          20.89864972,
          33.94253611
         ],
         "line": {
          "color": "red",
          "width": 1
         },
         "locationmode": "USA-states",
         "lon": [
          -156.43045780000003,
          -118.40807439999999
         ],
         "mode": "lines",
         "opacity": 0.12253829321663019,
         "type": "scattergeo"
        },
        {
         "lat": [
          41.979595,
          33.94253611
         ],
         "line": {
          "color": "red",
          "width": 1
         },
         "locationmode": "USA-states",
         "lon": [
          -87.90446417,
          -118.40807439999999
         ],
         "mode": "lines",
         "opacity": 0.5426695842450766,
         "type": "scattergeo"
        },
        {
         "lat": [
          38.74768694,
          33.94253611
         ],
         "line": {
          "color": "red",
          "width": 1
         },
         "locationmode": "USA-states",
         "lon": [
          -90.35998972,
          -118.40807439999999
         ],
         "mode": "lines",
         "opacity": 0.18161925601750548,
         "type": "scattergeo"
        },
        {
         "lat": [
          36.12447667,
          40.77724306
         ],
         "line": {
          "color": "red",
          "width": 1
         },
         "locationmode": "USA-states",
         "lon": [
          -86.67818222,
          -73.87260917
         ],
         "mode": "lines",
         "opacity": 0.11159737417943107,
         "type": "scattergeo"
        },
        {
         "lat": [
          32.89595056,
          40.77724306
         ],
         "line": {
          "color": "red",
          "width": 1
         },
         "locationmode": "USA-states",
         "lon": [
          -97.0372,
          -73.87260917
         ],
         "mode": "lines",
         "opacity": 0.849015317286652,
         "type": "scattergeo"
        },
        {
         "lat": [
          38.74768694,
          40.77724306
         ],
         "line": {
          "color": "red",
          "width": 1
         },
         "locationmode": "USA-states",
         "lon": [
          -90.35998972,
          -73.87260917
         ],
         "mode": "lines",
         "opacity": 0.22538293216630198,
         "type": "scattergeo"
        },
        {
         "lat": [
          33.94253611,
          21.97598306
         ],
         "line": {
          "color": "red",
          "width": 1
         },
         "locationmode": "USA-states",
         "lon": [
          -118.40807439999999,
          -159.3389581
         ],
         "mode": "lines",
         "opacity": 0.061269146608315096,
         "type": "scattergeo"
        },
        {
         "lat": [
          33.94253611,
          28.42888889
         ],
         "line": {
          "color": "red",
          "width": 1
         },
         "locationmode": "USA-states",
         "lon": [
          -118.40807439999999,
          -81.31602778
         ],
         "mode": "lines",
         "opacity": 0.061269146608315096,
         "type": "scattergeo"
        },
        {
         "lat": [
          25.79325,
          28.42888889
         ],
         "line": {
          "color": "red",
          "width": 1
         },
         "locationmode": "USA-states",
         "lon": [
          -80.29055556,
          -81.31602778
         ],
         "mode": "lines",
         "opacity": 0.49015317286652077,
         "type": "scattergeo"
        },
        {
         "lat": [
          33.64044444,
          25.79325
         ],
         "line": {
          "color": "red",
          "width": 1
         },
         "locationmode": "USA-states",
         "lon": [
          -84.42694444,
          -80.29055556
         ],
         "mode": "lines",
         "opacity": 0.24507658643326038,
         "type": "scattergeo"
        },
        {
         "lat": [
          41.93887417,
          25.79325
         ],
         "line": {
          "color": "red",
          "width": 1
         },
         "locationmode": "USA-states",
         "lon": [
          -72.68322833,
          -80.29055556
         ],
         "mode": "lines",
         "opacity": 0.12253829321663019,
         "type": "scattergeo"
        },
        {
         "lat": [
          38.85208333,
          25.79325
         ],
         "line": {
          "color": "red",
          "width": 1
         },
         "locationmode": "USA-states",
         "lon": [
          -77.03772222,
          -80.29055556
         ],
         "mode": "lines",
         "opacity": 0.5514223194748359,
         "type": "scattergeo"
        },
        {
         "lat": [
          39.64256778,
          25.79325
         ],
         "line": {
          "color": "red",
          "width": 1
         },
         "locationmode": "USA-states",
         "lon": [
          -106.91769529999999,
          -80.29055556
         ],
         "mode": "lines",
         "opacity": 0.0525164113785558,
         "type": "scattergeo"
        },
        {
         "lat": [
          36.08036111,
          25.79325
         ],
         "line": {
          "color": "red",
          "width": 1
         },
         "locationmode": "USA-states",
         "lon": [
          -115.15233329999998,
          -80.29055556
         ],
         "mode": "lines",
         "opacity": 0.1838074398249453,
         "type": "scattergeo"
        },
        {
         "lat": [
          33.94253611,
          25.79325
         ],
         "line": {
          "color": "red",
          "width": 1
         },
         "locationmode": "USA-states",
         "lon": [
          -118.40807439999999,
          -80.29055556
         ],
         "mode": "lines",
         "opacity": 0.4288840262582057,
         "type": "scattergeo"
        },
        {
         "lat": [
          40.77724306,
          25.79325
         ],
         "line": {
          "color": "red",
          "width": 1
         },
         "locationmode": "USA-states",
         "lon": [
          -73.87260917,
          -80.29055556
         ],
         "mode": "lines",
         "opacity": 0.6728665207877462,
         "type": "scattergeo"
        },
        {
         "lat": [
          44.88054694,
          25.79325
         ],
         "line": {
          "color": "red",
          "width": 1
         },
         "locationmode": "USA-states",
         "lon": [
          -93.2169225,
          -80.29055556
         ],
         "mode": "lines",
         "opacity": 0.061269146608315096,
         "type": "scattergeo"
        },
        {
         "lat": [
          41.979595,
          25.79325
         ],
         "line": {
          "color": "red",
          "width": 1
         },
         "locationmode": "USA-states",
         "lon": [
          -87.90446417,
          -80.29055556
         ],
         "mode": "lines",
         "opacity": 0.5525164113785558,
         "type": "scattergeo"
        },
        {
         "lat": [
          39.87195278,
          25.79325
         ],
         "line": {
          "color": "red",
          "width": 1
         },
         "locationmode": "USA-states",
         "lon": [
          -75.24114083,
          -80.29055556
         ],
         "mode": "lines",
         "opacity": 0.1838074398249453,
         "type": "scattergeo"
        },
        {
         "lat": [
          33.43416667,
          25.79325
         ],
         "line": {
          "color": "red",
          "width": 1
         },
         "locationmode": "USA-states",
         "lon": [
          -112.00805559999999,
          -80.29055556
         ],
         "mode": "lines",
         "opacity": 0.061269146608315096,
         "type": "scattergeo"
        },
        {
         "lat": [
          37.61900194,
          25.79325
         ],
         "line": {
          "color": "red",
          "width": 1
         },
         "locationmode": "USA-states",
         "lon": [
          -122.3748433,
          -80.29055556
         ],
         "mode": "lines",
         "opacity": 0.1838074398249453,
         "type": "scattergeo"
        },
        {
         "lat": [
          18.43941667,
          25.79325
         ],
         "line": {
          "color": "red",
          "width": 1
         },
         "locationmode": "USA-states",
         "lon": [
          -66.00183333,
          -80.29055556
         ],
         "mode": "lines",
         "opacity": 0.49015317286652077,
         "type": "scattergeo"
        },
        {
         "lat": [
          36.19837222,
          25.79325
         ],
         "line": {
          "color": "red",
          "width": 1
         },
         "locationmode": "USA-states",
         "lon": [
          -95.88824167,
          -80.29055556
         ],
         "mode": "lines",
         "opacity": 0.00437636761487965,
         "type": "scattergeo"
        },
        {
         "lat": [
          41.979595,
          44.88054694
         ],
         "line": {
          "color": "red",
          "width": 1
         },
         "locationmode": "USA-states",
         "lon": [
          -87.90446417,
          -93.2169225
         ],
         "mode": "lines",
         "opacity": 0.175054704595186,
         "type": "scattergeo"
        },
        {
         "lat": [
          32.89595056,
          29.99338889
         ],
         "line": {
          "color": "red",
          "width": 1
         },
         "locationmode": "USA-states",
         "lon": [
          -97.0372,
          -90.25802778
         ],
         "mode": "lines",
         "opacity": 0.3676148796498906,
         "type": "scattergeo"
        },
        {
         "lat": [
          25.79325,
          29.99338889
         ],
         "line": {
          "color": "red",
          "width": 1
         },
         "locationmode": "USA-states",
         "lon": [
          -80.29055556,
          -90.25802778
         ],
         "mode": "lines",
         "opacity": 0.1838074398249453,
         "type": "scattergeo"
        },
        {
         "lat": [
          41.979595,
          29.99338889
         ],
         "line": {
          "color": "red",
          "width": 1
         },
         "locationmode": "USA-states",
         "lon": [
          -87.90446417,
          -90.25802778
         ],
         "mode": "lines",
         "opacity": 0.16301969365426697,
         "type": "scattergeo"
        },
        {
         "lat": [
          32.89595056,
          34.056
         ],
         "line": {
          "color": "red",
          "width": 1
         },
         "locationmode": "USA-states",
         "lon": [
          -97.0372,
          -117.60119440000001
         ],
         "mode": "lines",
         "opacity": 0.24288840262582057,
         "type": "scattergeo"
        },
        {
         "lat": [
          38.85208333,
          41.979595
         ],
         "line": {
          "color": "red",
          "width": 1
         },
         "locationmode": "USA-states",
         "lon": [
          -77.03772222,
          -87.90446417
         ],
         "mode": "lines",
         "opacity": 0.3544857768052516,
         "type": "scattergeo"
        },
        {
         "lat": [
          40.69249722,
          41.979595
         ],
         "line": {
          "color": "red",
          "width": 1
         },
         "locationmode": "USA-states",
         "lon": [
          -74.16866056,
          -87.90446417
         ],
         "mode": "lines",
         "opacity": 0.1838074398249453,
         "type": "scattergeo"
        },
        {
         "lat": [
          26.07258333,
          41.979595
         ],
         "line": {
          "color": "red",
          "width": 1
         },
         "locationmode": "USA-states",
         "lon": [
          -80.15275,
          -87.90446417
         ],
         "mode": "lines",
         "opacity": 0.1838074398249453,
         "type": "scattergeo"
        },
        {
         "lat": [
          40.48118028,
          41.979595
         ],
         "line": {
          "color": "red",
          "width": 1
         },
         "locationmode": "USA-states",
         "lon": [
          -107.21765970000001,
          -87.90446417
         ],
         "mode": "lines",
         "opacity": 0.0525164113785558,
         "type": "scattergeo"
        },
        {
         "lat": [
          21.31869111,
          41.979595
         ],
         "line": {
          "color": "red",
          "width": 1
         },
         "locationmode": "USA-states",
         "lon": [
          -157.92240719999998,
          -87.90446417
         ],
         "mode": "lines",
         "opacity": 0.05032822757111598,
         "type": "scattergeo"
        },
        {
         "lat": [
          43.60732417,
          41.979595
         ],
         "line": {
          "color": "red",
          "width": 1
         },
         "locationmode": "USA-states",
         "lon": [
          -110.7377389,
          -87.90446417
         ],
         "mode": "lines",
         "opacity": 0.061269146608315096,
         "type": "scattergeo"
        },
        {
         "lat": [
          40.63975111,
          41.979595
         ],
         "line": {
          "color": "red",
          "width": 1
         },
         "locationmode": "USA-states",
         "lon": [
          -73.77892556,
          -87.90446417
         ],
         "mode": "lines",
         "opacity": 0.061269146608315096,
         "type": "scattergeo"
        },
        {
         "lat": [
          40.77724306,
          41.979595
         ],
         "line": {
          "color": "red",
          "width": 1
         },
         "locationmode": "USA-states",
         "lon": [
          -73.87260917,
          -87.90446417
         ],
         "mode": "lines",
         "opacity": 0.9409190371991247,
         "type": "scattergeo"
        },
        {
         "lat": [
          39.29760528,
          41.979595
         ],
         "line": {
          "color": "red",
          "width": 1
         },
         "locationmode": "USA-states",
         "lon": [
          -94.71390556,
          -87.90446417
         ],
         "mode": "lines",
         "opacity": 0.23413566739606126,
         "type": "scattergeo"
        },
        {
         "lat": [
          28.42888889,
          41.979595
         ],
         "line": {
          "color": "red",
          "width": 1
         },
         "locationmode": "USA-states",
         "lon": [
          -81.31602778,
          -87.90446417
         ],
         "mode": "lines",
         "opacity": 0.24507658643326038,
         "type": "scattergeo"
        },
        {
         "lat": [
          35.87763889,
          41.979595
         ],
         "line": {
          "color": "red",
          "width": 1
         },
         "locationmode": "USA-states",
         "lon": [
          -78.78747222,
          -87.90446417
         ],
         "mode": "lines",
         "opacity": 0.17067833698030635,
         "type": "scattergeo"
        },
        {
         "lat": [
          39.49857611,
          41.979595
         ],
         "line": {
          "color": "red",
          "width": 1
         },
         "locationmode": "USA-states",
         "lon": [
          -119.76806470000001,
          -87.90446417
         ],
         "mode": "lines",
         "opacity": 0.061269146608315096,
         "type": "scattergeo"
        },
        {
         "lat": [
          32.73355611,
          41.979595
         ],
         "line": {
          "color": "red",
          "width": 1
         },
         "locationmode": "USA-states",
         "lon": [
          -117.1896567,
          -87.90446417
         ],
         "mode": "lines",
         "opacity": 0.24507658643326038,
         "type": "scattergeo"
        },
        {
         "lat": [
          29.53369444,
          41.979595
         ],
         "line": {
          "color": "red",
          "width": 1
         },
         "locationmode": "USA-states",
         "lon": [
          -98.46977778,
          -87.90446417
         ],
         "mode": "lines",
         "opacity": 0.12253829321663019,
         "type": "scattergeo"
        },
        {
         "lat": [
          37.36186194,
          41.979595
         ],
         "line": {
          "color": "red",
          "width": 1
         },
         "locationmode": "USA-states",
         "lon": [
          -121.92900890000001,
          -87.90446417
         ],
         "mode": "lines",
         "opacity": 0.12253829321663019,
         "type": "scattergeo"
        },
        {
         "lat": [
          18.43941667,
          41.979595
         ],
         "line": {
          "color": "red",
          "width": 1
         },
         "locationmode": "USA-states",
         "lon": [
          -66.00183333,
          -87.90446417
         ],
         "mode": "lines",
         "opacity": 0.12253829321663019,
         "type": "scattergeo"
        },
        {
         "lat": [
          38.74768694,
          41.979595
         ],
         "line": {
          "color": "red",
          "width": 1
         },
         "locationmode": "USA-states",
         "lon": [
          -90.35998972,
          -87.90446417
         ],
         "mode": "lines",
         "opacity": 0.5284463894967177,
         "type": "scattergeo"
        },
        {
         "lat": [
          36.19837222,
          41.979595
         ],
         "line": {
          "color": "red",
          "width": 1
         },
         "locationmode": "USA-states",
         "lon": [
          -95.88824167,
          -87.90446417
         ],
         "mode": "lines",
         "opacity": 0.061269146608315096,
         "type": "scattergeo"
        },
        {
         "lat": [
          32.11608333,
          41.979595
         ],
         "line": {
          "color": "red",
          "width": 1
         },
         "locationmode": "USA-states",
         "lon": [
          -110.94102779999999,
          -87.90446417
         ],
         "mode": "lines",
         "opacity": 0.12253829321663019,
         "type": "scattergeo"
        },
        {
         "lat": [
          32.89595056,
          36.89461111
         ],
         "line": {
          "color": "red",
          "width": 1
         },
         "locationmode": "USA-states",
         "lon": [
          -97.0372,
          -76.20122222
         ],
         "mode": "lines",
         "opacity": 0.12253829321663019,
         "type": "scattergeo"
        },
        {
         "lat": [
          32.89595056,
          26.68316194
         ],
         "line": {
          "color": "red",
          "width": 1
         },
         "locationmode": "USA-states",
         "lon": [
          -97.0372,
          -80.09559417
         ],
         "mode": "lines",
         "opacity": 0.12253829321663019,
         "type": "scattergeo"
        },
        {
         "lat": [
          41.979595,
          26.68316194
         ],
         "line": {
          "color": "red",
          "width": 1
         },
         "locationmode": "USA-states",
         "lon": [
          -87.90446417,
          -80.09559417
         ],
         "mode": "lines",
         "opacity": 0.16411378555798686,
         "type": "scattergeo"
        },
        {
         "lat": [
          32.89595056,
          45.58872222
         ],
         "line": {
          "color": "red",
          "width": 1
         },
         "locationmode": "USA-states",
         "lon": [
          -97.0372,
          -122.5975
         ],
         "mode": "lines",
         "opacity": 0.24507658643326038,
         "type": "scattergeo"
        },
        {
         "lat": [
          41.979595,
          39.87195278
         ],
         "line": {
          "color": "red",
          "width": 1
         },
         "locationmode": "USA-states",
         "lon": [
          -87.90446417,
          -75.24114083
         ],
         "mode": "lines",
         "opacity": 0.12035010940919037,
         "type": "scattergeo"
        },
        {
         "lat": [
          18.43941667,
          39.87195278
         ],
         "line": {
          "color": "red",
          "width": 1
         },
         "locationmode": "USA-states",
         "lon": [
          -66.00183333,
          -75.24114083
         ],
         "mode": "lines",
         "opacity": 0.061269146608315096,
         "type": "scattergeo"
        },
        {
         "lat": [
          41.979595,
          33.43416667
         ],
         "line": {
          "color": "red",
          "width": 1
         },
         "locationmode": "USA-states",
         "lon": [
          -87.90446417,
          -112.00805559999999
         ],
         "mode": "lines",
         "opacity": 0.3063457330415755,
         "type": "scattergeo"
        },
        {
         "lat": [
          32.89595056,
          40.49146583
         ],
         "line": {
          "color": "red",
          "width": 1
         },
         "locationmode": "USA-states",
         "lon": [
          -97.0372,
          -80.23287083
         ],
         "mode": "lines",
         "opacity": 0.18599562363238512,
         "type": "scattergeo"
        },
        {
         "lat": [
          32.89595056,
          33.82921556
         ],
         "line": {
          "color": "red",
          "width": 1
         },
         "locationmode": "USA-states",
         "lon": [
          -97.0372,
          -116.5062531
         ],
         "mode": "lines",
         "opacity": 0.1838074398249453,
         "type": "scattergeo"
        },
        {
         "lat": [
          41.979595,
          33.82921556
         ],
         "line": {
          "color": "red",
          "width": 1
         },
         "locationmode": "USA-states",
         "lon": [
          -87.90446417,
          -116.5062531
         ],
         "mode": "lines",
         "opacity": 0.0700218818380744,
         "type": "scattergeo"
        },
        {
         "lat": [
          32.89595056,
          35.87763889
         ],
         "line": {
          "color": "red",
          "width": 1
         },
         "locationmode": "USA-states",
         "lon": [
          -97.0372,
          -78.78747222
         ],
         "mode": "lines",
         "opacity": 0.3041575492341357,
         "type": "scattergeo"
        },
        {
         "lat": [
          25.79325,
          35.87763889
         ],
         "line": {
          "color": "red",
          "width": 1
         },
         "locationmode": "USA-states",
         "lon": [
          -80.29055556,
          -78.78747222
         ],
         "mode": "lines",
         "opacity": 0.1838074398249453,
         "type": "scattergeo"
        },
        {
         "lat": [
          32.89595056,
          26.53616667
         ],
         "line": {
          "color": "red",
          "width": 1
         },
         "locationmode": "USA-states",
         "lon": [
          -97.0372,
          -81.75516667
         ],
         "mode": "lines",
         "opacity": 0.1838074398249453,
         "type": "scattergeo"
        },
        {
         "lat": [
          41.979595,
          26.53616667
         ],
         "line": {
          "color": "red",
          "width": 1
         },
         "locationmode": "USA-states",
         "lon": [
          -87.90446417,
          -81.75516667
         ],
         "mode": "lines",
         "opacity": 0.1838074398249453,
         "type": "scattergeo"
        },
        {
         "lat": [
          40.63975111,
          32.73355611
         ],
         "line": {
          "color": "red",
          "width": 1
         },
         "locationmode": "USA-states",
         "lon": [
          -73.77892556,
          -117.1896567
         ],
         "mode": "lines",
         "opacity": 0.061269146608315096,
         "type": "scattergeo"
        },
        {
         "lat": [
          32.89595056,
          47.44898194
         ],
         "line": {
          "color": "red",
          "width": 1
         },
         "locationmode": "USA-states",
         "lon": [
          -97.0372,
          -122.30931310000001
         ],
         "mode": "lines",
         "opacity": 0.4288840262582057,
         "type": "scattergeo"
        },
        {
         "lat": [
          41.979595,
          47.44898194
         ],
         "line": {
          "color": "red",
          "width": 1
         },
         "locationmode": "USA-states",
         "lon": [
          -87.90446417,
          -122.30931310000001
         ],
         "mode": "lines",
         "opacity": 0.23413566739606126,
         "type": "scattergeo"
        },
        {
         "lat": [
          21.31869111,
          37.61900194
         ],
         "line": {
          "color": "red",
          "width": 1
         },
         "locationmode": "USA-states",
         "lon": [
          -157.92240719999998,
          -122.3748433
         ],
         "mode": "lines",
         "opacity": 0.061269146608315096,
         "type": "scattergeo"
        },
        {
         "lat": [
          33.94253611,
          37.61900194
         ],
         "line": {
          "color": "red",
          "width": 1
         },
         "locationmode": "USA-states",
         "lon": [
          -118.40807439999999,
          -122.3748433
         ],
         "mode": "lines",
         "opacity": 0.3676148796498906,
         "type": "scattergeo"
        },
        {
         "lat": [
          41.979595,
          37.61900194
         ],
         "line": {
          "color": "red",
          "width": 1
         },
         "locationmode": "USA-states",
         "lon": [
          -87.90446417,
          -122.3748433
         ],
         "mode": "lines",
         "opacity": 0.35667396061269147,
         "type": "scattergeo"
        },
        {
         "lat": [
          32.89595056,
          18.43941667
         ],
         "line": {
          "color": "red",
          "width": 1
         },
         "locationmode": "USA-states",
         "lon": [
          -97.0372,
          -66.00183333
         ],
         "mode": "lines",
         "opacity": 0.13129102844638948,
         "type": "scattergeo"
        },
        {
         "lat": [
          38.94453194,
          18.43941667
         ],
         "line": {
          "color": "red",
          "width": 1
         },
         "locationmode": "USA-states",
         "lon": [
          -77.45580972,
          -66.00183333
         ],
         "mode": "lines",
         "opacity": 0.061269146608315096,
         "type": "scattergeo"
        },
        {
         "lat": [
          40.63975111,
          18.43941667
         ],
         "line": {
          "color": "red",
          "width": 1
         },
         "locationmode": "USA-states",
         "lon": [
          -73.77892556,
          -66.00183333
         ],
         "mode": "lines",
         "opacity": 0.1838074398249453,
         "type": "scattergeo"
        },
        {
         "lat": [
          33.94253611,
          18.43941667
         ],
         "line": {
          "color": "red",
          "width": 1
         },
         "locationmode": "USA-states",
         "lon": [
          -118.40807439999999,
          -66.00183333
         ],
         "mode": "lines",
         "opacity": 0.0175054704595186,
         "type": "scattergeo"
        },
        {
         "lat": [
          32.89595056,
          38.69542167
         ],
         "line": {
          "color": "red",
          "width": 1
         },
         "locationmode": "USA-states",
         "lon": [
          -97.0372,
          -121.5907669
         ],
         "mode": "lines",
         "opacity": 0.24507658643326038,
         "type": "scattergeo"
        },
        {
         "lat": [
          32.89595056,
          33.67565861
         ],
         "line": {
          "color": "red",
          "width": 1
         },
         "locationmode": "USA-states",
         "lon": [
          -97.0372,
          -117.86822250000002
         ],
         "mode": "lines",
         "opacity": 0.6323851203501094,
         "type": "scattergeo"
        },
        {
         "lat": [
          41.979595,
          33.67565861
         ],
         "line": {
          "color": "red",
          "width": 1
         },
         "locationmode": "USA-states",
         "lon": [
          -87.90446417,
          -117.86822250000002
         ],
         "mode": "lines",
         "opacity": 0.16630196936542668,
         "type": "scattergeo"
        },
        {
         "lat": [
          38.85208333,
          38.74768694
         ],
         "line": {
          "color": "red",
          "width": 1
         },
         "locationmode": "USA-states",
         "lon": [
          -77.03772222,
          -90.35998972
         ],
         "mode": "lines",
         "opacity": 0.2188183807439825,
         "type": "scattergeo"
        },
        {
         "lat": [
          25.79325,
          38.74768694
         ],
         "line": {
          "color": "red",
          "width": 1
         },
         "locationmode": "USA-states",
         "lon": [
          -80.29055556,
          -90.35998972
         ],
         "mode": "lines",
         "opacity": 0.1838074398249453,
         "type": "scattergeo"
        },
        {
         "lat": [
          25.79325,
          18.33730556
         ],
         "line": {
          "color": "red",
          "width": 1
         },
         "locationmode": "USA-states",
         "lon": [
          -80.29055556,
          -64.97336111
         ],
         "mode": "lines",
         "opacity": 0.12253829321663019,
         "type": "scattergeo"
        },
        {
         "lat": [
          25.79325,
          17.70188889
         ],
         "line": {
          "color": "red",
          "width": 1
         },
         "locationmode": "USA-states",
         "lon": [
          -80.29055556,
          -64.79855556
         ],
         "mode": "lines",
         "opacity": 0.06783369803063458,
         "type": "scattergeo"
        },
        {
         "lat": [
          32.89595056,
          27.97547222
         ],
         "line": {
          "color": "red",
          "width": 1
         },
         "locationmode": "USA-states",
         "lon": [
          -97.0372,
          -82.53325
         ],
         "mode": "lines",
         "opacity": 0.4288840262582057,
         "type": "scattergeo"
        },
        {
         "lat": [
          25.79325,
          27.97547222
         ],
         "line": {
          "color": "red",
          "width": 1
         },
         "locationmode": "USA-states",
         "lon": [
          -80.29055556,
          -82.53325
         ],
         "mode": "lines",
         "opacity": 0.32603938730853393,
         "type": "scattergeo"
        },
        {
         "lat": [
          41.979595,
          27.97547222
         ],
         "line": {
          "color": "red",
          "width": 1
         },
         "locationmode": "USA-states",
         "lon": [
          -87.90446417,
          -82.53325
         ],
         "mode": "lines",
         "opacity": 0.16411378555798686,
         "type": "scattergeo"
        },
        {
         "lat": [
          18.43941667,
          27.97547222
         ],
         "line": {
          "color": "red",
          "width": 1
         },
         "locationmode": "USA-states",
         "lon": [
          -66.00183333,
          -82.53325
         ],
         "mode": "lines",
         "opacity": 0.061269146608315096,
         "type": "scattergeo"
        },
        {
         "lat": [
          32.89595056,
          36.19837222
         ],
         "line": {
          "color": "red",
          "width": 1
         },
         "locationmode": "USA-states",
         "lon": [
          -97.0372,
          -95.88824167
         ],
         "mode": "lines",
         "opacity": 0.42669584245076586,
         "type": "scattergeo"
        },
        {
         "lat": [
          32.89595056,
          32.11608333
         ],
         "line": {
          "color": "red",
          "width": 1
         },
         "locationmode": "USA-states",
         "lon": [
          -97.0372,
          -110.94102779999999
         ],
         "mode": "lines",
         "opacity": 0.45842450765864334,
         "type": "scattergeo"
        },
        {
         "hoverinfo": "text",
         "lat": [
          41.979595,
          33.64044444,
          32.89595056,
          33.43416667,
          39.85840806,
          29.98047222,
          37.61900194,
          33.94253611,
          28.42888889,
          35.21401111,
          40.78838778,
          27.97547222,
          40.69249722,
          36.08036111,
          39.87195278,
          44.88054694,
          47.44898194,
          40.77724306,
          41.7859825,
          38.94453194,
          32.73355611,
          38.74768694,
          42.21205889,
          40.63975111,
          25.79325,
          42.3643475,
          38.69542167,
          39.17540167,
          33.67565861,
          29.99338889,
          37.36186194,
          38.85208333,
          45.58872222,
          26.53616667,
          26.68316194,
          35.87763889,
          29.64541861,
          29.53369444,
          26.07258333,
          39.29760528,
          37.72129083,
          40.49146583,
          35.04241667,
          42.94722222,
          41.41089417,
          30.49405556,
          32.11608333,
          39.71732917,
          39.49857611,
          35.39308833,
          41.72399917,
          36.19837222,
          39.04614278,
          39.99798528,
          38.17438889,
          34.056,
          34.72939611,
          32.84711389,
          41.30251861,
          36.89461111,
          39.90237583,
          43.11886611,
          36.28186944,
          36.12447667,
          35.04022222,
          32.31116667,
          31.80666667,
          37.50516667,
          41.93887417,
          31.94252778,
          30.53316083,
          35.81248722,
          38.80580556,
          30.47330556,
          43.11118694,
          33.56294306,
          42.93451639,
          33.82921556,
          27.39533333,
          27.77036083,
          34.6404475,
          33.93884,
          30.20527972,
          34.42621194,
          47.61985556,
          30.69141667,
          37.64995889,
          42.94052472,
          41.53493306,
          40.19349528,
          43.64616667,
          32.30064417,
          37.13189556,
          41.06695778,
          36.5869825,
          42.88081972,
          30.448674,
          32.65658333,
          39.22316,
          30.39652778,
          30.40728028,
          44.04532139,
          33.81772222,
          34.27061111,
          38.03697222,
          43.13985778,
          44.123259999999995,
          32.12758333,
          33.66363889,
          41.88458833,
          34.89566722,
          36.09774694,
          40.7952425,
          41.44852639,
          35.43619444,
          40.91631194,
          40.47798556,
          26.22850611,
          30.48325,
          32.446627500000005,
          46.91934889,
          40.48118028,
          42.37422778,
          40.66424333,
          27.54373861,
          30.19453278,
          32.41132,
          37.24432611,
          42.96550333,
          36.47521417,
          31.06489778,
          32.89864639,
          44.48507333,
          44.25406722,
          32.51633333,
          41.70895361,
          43.56444444,
          33.67975,
          48.25937778,
          40.03925,
          37.32546833,
          39.64256778,
          43.60732417,
          45.77690139,
          39.1224125,
          34.20061917,
          38.03799139,
          38.53396333,
          43.51455556,
          36.77619444,
          39.84395194,
          26.17583333,
          40.50898361,
          47.949255,
          43.58135111,
          42.48180389,
          34.89924833,
          42.91130556,
          31.32133917,
          34.82916444,
          38.50886722,
          46.77411111,
          42.90835556,
          44.74144472,
          32.51086556,
          46.26468028,
          39.14096722,
          31.32737167,
          43.41713889,
          35.61677778,
          42.15614361,
          41.50409361,
          38.13863889,
          30.7825,
          44.77761917,
          35.65884306,
          40.97811528,
          31.25902778,
          40.85097222,
          40.97846583,
          44.52019417,
          37.06083333,
          35.23705806,
          41.33814944,
          33.45033444,
          44.34889806,
          35.07297222,
          33.369955,
          35.33659028,
          32.35413889,
          46.60681806,
          47.48200194,
          32.33313333,
          46.353639,
          37.95375861,
          35.03526833,
          46.37449806,
          37.70097028,
          42.74811944,
          44.47300361,
          48.31140472,
          28.10275,
          29.17991667,
          40.65236278,
          46.84209028,
          41.155722499999996,
          41.5942175,
          37.85830556,
          38.37315083,
          48.79275,
          37.62404861,
          44.25740806,
          36.385913,
          27.91076333,
          33.98879611,
          34.99147222,
          44.86525722,
          42.40295944,
          43.90882639,
          34.681499,
          45.8076625
         ],
         "locationmode": "USA-states",
         "lon": [
          -87.90446417,
          -84.42694444,
          -97.0372,
          -112.00805559999999,
          -104.6670019,
          -95.33972222,
          -122.3748433,
          -118.40807439999999,
          -81.31602778,
          -80.94312583,
          -111.9777731,
          -82.53325,
          -74.16866056,
          -115.15233329999998,
          -75.24114083,
          -93.2169225,
          -122.30931310000001,
          -73.87260917,
          -87.75242444,
          -77.45580972,
          -117.1896567,
          -90.35998972,
          -83.34883583,
          -73.77892556,
          -80.29055556,
          -71.00517917,
          -121.5907669,
          -76.66819833,
          -117.86822250000002,
          -90.25802778,
          -121.92900890000001,
          -77.03772222,
          -122.5975,
          -81.75516667,
          -80.09559417,
          -78.78747222,
          -95.27888889,
          -98.46977778,
          -80.15275,
          -94.71390556,
          -122.22071670000001,
          -80.23287083,
          -89.97666667,
          -87.89658333,
          -81.84939667,
          -81.68786111,
          -110.94102779999999,
          -86.29438417,
          -119.76806470000001,
          -97.60073389,
          -71.42822111,
          -95.88824167,
          -84.6621725,
          -82.89188278,
          -85.736,
          -117.60119440000001,
          -92.22424556,
          -96.85177222,
          -95.89417306,
          -76.20122222,
          -84.219375,
          -77.67238389,
          -94.30681111,
          -86.67818222,
          -106.6091944,
          -90.07588889,
          -106.37780559999999,
          -77.31966667,
          -72.68322833,
          -102.20191390000001,
          -91.14963444,
          -83.99285583,
          -104.70025,
          -87.18744444,
          -76.10631056,
          -86.75354972,
          -71.43705583,
          -116.5062531,
          -82.55411111,
          -97.50121528,
          -86.77310944,
          -81.11953944,
          -91.987655,
          -119.8403733,
          -117.5338425,
          -88.24283333,
          -97.43304583,
          -78.73216667,
          -93.66068222,
          -76.76340361,
          -70.30875,
          -86.39397611,
          -76.4929875,
          -73.70757444,
          -121.84294779999999,
          -85.52276778,
          -84.550781,
          -114.60597220000001,
          -106.868845,
          -84.35033333,
          -89.07009278,
          -103.0573708,
          -118.1516111,
          -77.90255556,
          -84.60538889,
          -89.33751361,
          -123.21868559999999,
          -81.20213889,
          -101.8227778,
          -91.71087222,
          -82.21885833,
          -79.9372975,
          -73.10021194,
          -90.50753917,
          -82.54180556,
          -81.44246556,
          -88.91595278,
          -97.65439389,
          -86.5254,
          -93.82559833,
          -96.81498889,
          -107.21765970000001,
          -122.8734978,
          -89.69330556,
          -99.46154361,
          -97.66987194,
          -99.68189722,
          -93.38685806,
          -83.74345639,
          -82.40742056,
          -97.82779778,
          -80.04050583,
          -88.12959000000001,
          -121.1499633,
          -84.93886111,
          -86.31847417,
          -116.22277779999999,
          -78.92833333,
          -101.2803339,
          -88.27805556,
          -79.97542833,
          -106.91769529999999,
          -110.7377389,
          -111.15300719999999,
          -108.5267347,
          -118.3584969,
          -87.53062667,
          -106.9331817,
          -112.07016670000002,
          -119.7181389,
          -89.67761861,
          -98.23861111,
          -122.2934019,
          -97.17611111,
          -96.74170028,
          -114.4877356,
          -120.4575825,
          -112.59586110000001,
          -85.44962889,
          -77.61213778,
          -107.89383329999998,
          -100.74672220000001,
          -106.46446609999998,
          -85.582235,
          -92.03768778,
          -119.11902920000001,
          -96.67083278,
          -92.54855611,
          -124.2460278,
          -106.08813889999999,
          -121.7332081,
          -74.10483833,
          -78.45286111,
          -83.27672222,
          -89.66677944,
          -117.8295122,
          -124.1086189,
          -81.46630556,
          -96.75925,
          -85.19514639,
          -109.02379609999998,
          -88.77375,
          -120.64239309999999,
          -75.72426750000001,
          -88.59136861,
          -105.5393614,
          -77.04294444,
          -81.96449611,
          -94.36744111,
          -95.40238611,
          -111.9827503,
          -111.37068529999999,
          -88.75120556,
          -87.395361,
          -107.90848000000001,
          -85.20378778,
          -117.01539440000002,
          -113.098575,
          -73.80297861,
          -73.1503125,
          -114.25506940000001,
          -80.64580556,
          -81.05805556,
          -75.44040167,
          -92.19364861,
          -104.81183809999999,
          -109.0651928,
          -80.39947222,
          -81.59318972,
          -122.53752779999999,
          -118.8377722,
          -88.51947556,
          -92.548828,
          -82.68743944,
          -98.49189333,
          -78.88,
          -91.48507194,
          -90.70916722,
          -92.49798722,
          -90.348816,
          -108.54286110000001
         ],
         "marker": {
          "color": "rgb(255, 0, 0)",
          "line": {
           "color": "rgba(68, 68, 68, 0)",
           "width": 3
          },
          "size": 2
         },
         "mode": "markers",
         "text": [
          "Chicago O'Hare International",
          "William B Hartsfield-Atlanta Intl",
          "Dallas-Fort Worth International",
          "Phoenix Sky Harbor International",
          "Denver Intl",
          "George Bush Intercontinental",
          "San Francisco International",
          "Los Angeles International",
          "Orlando International",
          "Charlotte/Douglas International",
          "Salt Lake City Intl",
          "Tampa International ",
          "Newark Intl",
          "McCarran International",
          "Philadelphia Intl",
          "Minneapolis-St Paul Intl",
          "Seattle-Tacoma Intl",
          "LaGuardia",
          "Chicago Midway",
          "Washington Dulles International",
          "San Diego International-Lindbergh ",
          "Lambert-St Louis International",
          "Detroit Metropolitan-Wayne County",
          "John F Kennedy Intl",
          "Miami International",
          "Gen Edw L Logan Intl",
          "Sacramento International",
          "Baltimore-Washington International",
          "John Wayne /Orange Co",
          "New Orleans International ",
          "San Jose International",
          "Ronald Reagan Washington National",
          "Portland Intl",
          "Southwest Florida International",
          "Palm Beach International",
          "Raleigh-Durham International",
          "William P Hobby",
          "San Antonio International",
          "Fort Lauderdale-Hollywood Int'l",
          "Kansas City International",
          "Metropolitan Oakland International",
          "Pittsburgh International",
          "Memphis International",
          "General Mitchell International",
          "Cleveland-Hopkins Intl",
          "Jacksonville International",
          "Tucson International",
          "Indianapolis International",
          "Reno/Tahoe International",
          "Will Rogers World",
          "Theodore F Green State",
          "Tulsa International",
          "Cincinnati Northern Kentucky Intl",
          "Port Columbus Intl",
          "Louisville International-Standiford ",
          "Ontario International",
          "Adams ",
          "Dallas Love ",
          "Eppley Airfield",
          "Norfolk International",
          "James M Cox Dayton Intl",
          "Greater Rochester Int'l",
          "Northwest Arkansas Regional",
          "Nashville International",
          "Albuquerque International",
          "Jackson International",
          "El Paso International",
          "Richmond International",
          "Bradley International",
          "Midland International",
          "Baton Rouge Metropolitan, Ryan ",
          "McGhee-Tyson",
          "City of Colorado Springs Muni",
          "Pensacola Regional",
          "Syracuse-Hancock Intl",
          "Birmingham International",
          "Manchester",
          "Palm Springs International",
          "Sarasota Bradenton International",
          "Corpus Christi International",
          "Huntsville International ",
          "Columbia Metropolitan",
          "Lafayette Regional",
          "Santa Barbara Municipal",
          "Spokane Intl",
          "Mobile Regional",
          "Wichita Mid-Continent",
          "Buffalo Niagara Intl",
          "Des Moines International",
          "Harrisburg Intl",
          "Portland International Jetport",
          "Montgomery Regional Apt",
          "Newport News/Williamsburg International",
          "Westchester Cty",
          "Monterey Peninsula",
          "Kent County International",
          "Florida Beach",
          "Yuma MCAS-Yuma International",
          "Aspen-Pitkin Co/Sardy ",
          "Tallahassee Regional",
          "Gulfport-Biloxi Regional",
          "Rapid City Regional",
          "Long Beach (Daugherty )",
          "Wilmington International",
          "Blue Grass ",
          "Dane County Regional",
          "Mahlon Sweet ",
          "Savannah International",
          "Lubbock International",
          "Eastern Iowa ",
          "Greenville-Spartanburg",
          "Piedmont Triad International",
          "Long Island - MacArthur",
          "Quad City",
          "Asheville Regional",
          "Akron-Canton Regional",
          "Central Illinois Regional",
          "Valley International",
          "Eglin Air Force Base",
          "Shreveport Regional",
          "Hector International",
          "Yampa Valley",
          "Rogue Valley International",
          "Greater Peoria Regional",
          "Laredo International",
          "Austin-Bergstrom International",
          "Abilene Regional",
          "Springfield-Branson Regional",
          "Bishop",
          "Tri-Cities Regional",
          "Robert Gray AAF",
          "Charleston AFB/International",
          "Austin Straubel International",
          "Roberts ",
          "Columbus Metropolitan",
          "South Bend Regional",
          "Boise Air Terminal",
          "Myrtle Beach International",
          "Minot International",
          "University of Illinois-Willard",
          "Roanoke Regional/ Woodrum ",
          "Eagle County Regional",
          "Jackson Hole",
          "Gallatin ",
          "Walker ",
          "Burbank-Glendale-Pasadena",
          "Evansville Regional",
          "Gunnison County",
          "Idaho Falls Regional",
          "Fresno Yosemite International",
          "Capital",
          "McAllen Miller International",
          "Redding Municipal",
          "Grand Forks International",
          "Joe Foss ",
          "Joslin Field - Magic Valley",
          "Santa Maria Pub/Capt G Allan Hancock ",
          "Pocatello Regional",
          "Dothan ",
          "Albert J Ellis",
          "Montrose Regional",
          "Bismarck Municipal",
          "Natrona County Intl",
          "Cherry Capital",
          "Monroe Regional",
          "Tri-Cities",
          "Manhattan Regional",
          "Alexandria International",
          "North Bend Muni",
          "Santa Fe Municipal",
          "Klamath Falls International",
          "Stewart",
          "Charlottesville-Albermarle",
          "Valdosta Regional",
          "Central Wisconsin",
          "Inyokern",
          "Arcata",
          "Glynco Jetport",
          "Lincoln Municipal",
          "Fort Wayne International",
          "Yellowstone Regional",
          "Barkley Regional",
          "San Luis Obispo Co-McChesney ",
          "Wilkes-Barre/Scranton Intl",
          "Golden Triangle Regional",
          "Gillette-Campbell County",
          "Craven County Regional",
          "Bush ",
          "Fort Smith Regional",
          "Tyler Pounds ",
          "Helena Regional",
          "Great Falls Intl",
          "Key ",
          "Marquette County Airport",
          "Telluride Regional",
          "Lovell ",
          "Lewiston-Nez Perce County",
          "Cedar City Muni",
          "Albany Cty",
          "Burlington International",
          "Glacier Park Intl",
          "Melbourne International ",
          "Daytona Beach International",
          "Lehigh Valley International",
          "Duluth International",
          "Cheyenne",
          "Rock Springs-Sweetwater County",
          "Greenbrier Valley",
          "Yeager",
          "Bellingham Intl",
          "Mammoth Yosemite",
          "Outagamie County Regional",
          "Branson Airport",
          "St. Petersburg-Clearwater International",
          "Sheppard AFB/Wichita Falls Municipal",
          "Fayetteville Municipal",
          "Chippewa Valley Regional",
          "Dubuque Municipal",
          "Rochester International",
          "Tunica Municipal Airport",
          "Billings Logan Intl"
         ],
         "type": "scattergeo"
        }
       ],
       "layout": {
        "geo": {
         "countrycolor": "rgb(204, 204, 204)",
         "landcolor": "rgb(243, 243, 243)",
         "projection": {
          "type": "azimuthal equal area"
         },
         "scope": "north america",
         "showland": true
        },
        "height": 800,
        "showlegend": false,
        "template": {
         "data": {
          "bar": [
           {
            "error_x": {
             "color": "#2a3f5f"
            },
            "error_y": {
             "color": "#2a3f5f"
            },
            "marker": {
             "line": {
              "color": "#E5ECF6",
              "width": 0.5
             }
            },
            "type": "bar"
           }
          ],
          "barpolar": [
           {
            "marker": {
             "line": {
              "color": "#E5ECF6",
              "width": 0.5
             }
            },
            "type": "barpolar"
           }
          ],
          "carpet": [
           {
            "aaxis": {
             "endlinecolor": "#2a3f5f",
             "gridcolor": "white",
             "linecolor": "white",
             "minorgridcolor": "white",
             "startlinecolor": "#2a3f5f"
            },
            "baxis": {
             "endlinecolor": "#2a3f5f",
             "gridcolor": "white",
             "linecolor": "white",
             "minorgridcolor": "white",
             "startlinecolor": "#2a3f5f"
            },
            "type": "carpet"
           }
          ],
          "choropleth": [
           {
            "colorbar": {
             "outlinewidth": 0,
             "ticks": ""
            },
            "type": "choropleth"
           }
          ],
          "contour": [
           {
            "colorbar": {
             "outlinewidth": 0,
             "ticks": ""
            },
            "colorscale": [
             [
              0,
              "#0d0887"
             ],
             [
              0.1111111111111111,
              "#46039f"
             ],
             [
              0.2222222222222222,
              "#7201a8"
             ],
             [
              0.3333333333333333,
              "#9c179e"
             ],
             [
              0.4444444444444444,
              "#bd3786"
             ],
             [
              0.5555555555555556,
              "#d8576b"
             ],
             [
              0.6666666666666666,
              "#ed7953"
             ],
             [
              0.7777777777777778,
              "#fb9f3a"
             ],
             [
              0.8888888888888888,
              "#fdca26"
             ],
             [
              1,
              "#f0f921"
             ]
            ],
            "type": "contour"
           }
          ],
          "contourcarpet": [
           {
            "colorbar": {
             "outlinewidth": 0,
             "ticks": ""
            },
            "type": "contourcarpet"
           }
          ],
          "heatmap": [
           {
            "colorbar": {
             "outlinewidth": 0,
             "ticks": ""
            },
            "colorscale": [
             [
              0,
              "#0d0887"
             ],
             [
              0.1111111111111111,
              "#46039f"
             ],
             [
              0.2222222222222222,
              "#7201a8"
             ],
             [
              0.3333333333333333,
              "#9c179e"
             ],
             [
              0.4444444444444444,
              "#bd3786"
             ],
             [
              0.5555555555555556,
              "#d8576b"
             ],
             [
              0.6666666666666666,
              "#ed7953"
             ],
             [
              0.7777777777777778,
              "#fb9f3a"
             ],
             [
              0.8888888888888888,
              "#fdca26"
             ],
             [
              1,
              "#f0f921"
             ]
            ],
            "type": "heatmap"
           }
          ],
          "heatmapgl": [
           {
            "colorbar": {
             "outlinewidth": 0,
             "ticks": ""
            },
            "colorscale": [
             [
              0,
              "#0d0887"
             ],
             [
              0.1111111111111111,
              "#46039f"
             ],
             [
              0.2222222222222222,
              "#7201a8"
             ],
             [
              0.3333333333333333,
              "#9c179e"
             ],
             [
              0.4444444444444444,
              "#bd3786"
             ],
             [
              0.5555555555555556,
              "#d8576b"
             ],
             [
              0.6666666666666666,
              "#ed7953"
             ],
             [
              0.7777777777777778,
              "#fb9f3a"
             ],
             [
              0.8888888888888888,
              "#fdca26"
             ],
             [
              1,
              "#f0f921"
             ]
            ],
            "type": "heatmapgl"
           }
          ],
          "histogram": [
           {
            "marker": {
             "colorbar": {
              "outlinewidth": 0,
              "ticks": ""
             }
            },
            "type": "histogram"
           }
          ],
          "histogram2d": [
           {
            "colorbar": {
             "outlinewidth": 0,
             "ticks": ""
            },
            "colorscale": [
             [
              0,
              "#0d0887"
             ],
             [
              0.1111111111111111,
              "#46039f"
             ],
             [
              0.2222222222222222,
              "#7201a8"
             ],
             [
              0.3333333333333333,
              "#9c179e"
             ],
             [
              0.4444444444444444,
              "#bd3786"
             ],
             [
              0.5555555555555556,
              "#d8576b"
             ],
             [
              0.6666666666666666,
              "#ed7953"
             ],
             [
              0.7777777777777778,
              "#fb9f3a"
             ],
             [
              0.8888888888888888,
              "#fdca26"
             ],
             [
              1,
              "#f0f921"
             ]
            ],
            "type": "histogram2d"
           }
          ],
          "histogram2dcontour": [
           {
            "colorbar": {
             "outlinewidth": 0,
             "ticks": ""
            },
            "colorscale": [
             [
              0,
              "#0d0887"
             ],
             [
              0.1111111111111111,
              "#46039f"
             ],
             [
              0.2222222222222222,
              "#7201a8"
             ],
             [
              0.3333333333333333,
              "#9c179e"
             ],
             [
              0.4444444444444444,
              "#bd3786"
             ],
             [
              0.5555555555555556,
              "#d8576b"
             ],
             [
              0.6666666666666666,
              "#ed7953"
             ],
             [
              0.7777777777777778,
              "#fb9f3a"
             ],
             [
              0.8888888888888888,
              "#fdca26"
             ],
             [
              1,
              "#f0f921"
             ]
            ],
            "type": "histogram2dcontour"
           }
          ],
          "mesh3d": [
           {
            "colorbar": {
             "outlinewidth": 0,
             "ticks": ""
            },
            "type": "mesh3d"
           }
          ],
          "parcoords": [
           {
            "line": {
             "colorbar": {
              "outlinewidth": 0,
              "ticks": ""
             }
            },
            "type": "parcoords"
           }
          ],
          "pie": [
           {
            "automargin": true,
            "type": "pie"
           }
          ],
          "scatter": [
           {
            "marker": {
             "colorbar": {
              "outlinewidth": 0,
              "ticks": ""
             }
            },
            "type": "scatter"
           }
          ],
          "scatter3d": [
           {
            "line": {
             "colorbar": {
              "outlinewidth": 0,
              "ticks": ""
             }
            },
            "marker": {
             "colorbar": {
              "outlinewidth": 0,
              "ticks": ""
             }
            },
            "type": "scatter3d"
           }
          ],
          "scattercarpet": [
           {
            "marker": {
             "colorbar": {
              "outlinewidth": 0,
              "ticks": ""
             }
            },
            "type": "scattercarpet"
           }
          ],
          "scattergeo": [
           {
            "marker": {
             "colorbar": {
              "outlinewidth": 0,
              "ticks": ""
             }
            },
            "type": "scattergeo"
           }
          ],
          "scattergl": [
           {
            "marker": {
             "colorbar": {
              "outlinewidth": 0,
              "ticks": ""
             }
            },
            "type": "scattergl"
           }
          ],
          "scattermapbox": [
           {
            "marker": {
             "colorbar": {
              "outlinewidth": 0,
              "ticks": ""
             }
            },
            "type": "scattermapbox"
           }
          ],
          "scatterpolar": [
           {
            "marker": {
             "colorbar": {
              "outlinewidth": 0,
              "ticks": ""
             }
            },
            "type": "scatterpolar"
           }
          ],
          "scatterpolargl": [
           {
            "marker": {
             "colorbar": {
              "outlinewidth": 0,
              "ticks": ""
             }
            },
            "type": "scatterpolargl"
           }
          ],
          "scatterternary": [
           {
            "marker": {
             "colorbar": {
              "outlinewidth": 0,
              "ticks": ""
             }
            },
            "type": "scatterternary"
           }
          ],
          "surface": [
           {
            "colorbar": {
             "outlinewidth": 0,
             "ticks": ""
            },
            "colorscale": [
             [
              0,
              "#0d0887"
             ],
             [
              0.1111111111111111,
              "#46039f"
             ],
             [
              0.2222222222222222,
              "#7201a8"
             ],
             [
              0.3333333333333333,
              "#9c179e"
             ],
             [
              0.4444444444444444,
              "#bd3786"
             ],
             [
              0.5555555555555556,
              "#d8576b"
             ],
             [
              0.6666666666666666,
              "#ed7953"
             ],
             [
              0.7777777777777778,
              "#fb9f3a"
             ],
             [
              0.8888888888888888,
              "#fdca26"
             ],
             [
              1,
              "#f0f921"
             ]
            ],
            "type": "surface"
           }
          ],
          "table": [
           {
            "cells": {
             "fill": {
              "color": "#EBF0F8"
             },
             "line": {
              "color": "white"
             }
            },
            "header": {
             "fill": {
              "color": "#C8D4E3"
             },
             "line": {
              "color": "white"
             }
            },
            "type": "table"
           }
          ]
         },
         "layout": {
          "annotationdefaults": {
           "arrowcolor": "#2a3f5f",
           "arrowhead": 0,
           "arrowwidth": 1
          },
          "autotypenumbers": "strict",
          "coloraxis": {
           "colorbar": {
            "outlinewidth": 0,
            "ticks": ""
           }
          },
          "colorscale": {
           "diverging": [
            [
             0,
             "#8e0152"
            ],
            [
             0.1,
             "#c51b7d"
            ],
            [
             0.2,
             "#de77ae"
            ],
            [
             0.3,
             "#f1b6da"
            ],
            [
             0.4,
             "#fde0ef"
            ],
            [
             0.5,
             "#f7f7f7"
            ],
            [
             0.6,
             "#e6f5d0"
            ],
            [
             0.7,
             "#b8e186"
            ],
            [
             0.8,
             "#7fbc41"
            ],
            [
             0.9,
             "#4d9221"
            ],
            [
             1,
             "#276419"
            ]
           ],
           "sequential": [
            [
             0,
             "#0d0887"
            ],
            [
             0.1111111111111111,
             "#46039f"
            ],
            [
             0.2222222222222222,
             "#7201a8"
            ],
            [
             0.3333333333333333,
             "#9c179e"
            ],
            [
             0.4444444444444444,
             "#bd3786"
            ],
            [
             0.5555555555555556,
             "#d8576b"
            ],
            [
             0.6666666666666666,
             "#ed7953"
            ],
            [
             0.7777777777777778,
             "#fb9f3a"
            ],
            [
             0.8888888888888888,
             "#fdca26"
            ],
            [
             1,
             "#f0f921"
            ]
           ],
           "sequentialminus": [
            [
             0,
             "#0d0887"
            ],
            [
             0.1111111111111111,
             "#46039f"
            ],
            [
             0.2222222222222222,
             "#7201a8"
            ],
            [
             0.3333333333333333,
             "#9c179e"
            ],
            [
             0.4444444444444444,
             "#bd3786"
            ],
            [
             0.5555555555555556,
             "#d8576b"
            ],
            [
             0.6666666666666666,
             "#ed7953"
            ],
            [
             0.7777777777777778,
             "#fb9f3a"
            ],
            [
             0.8888888888888888,
             "#fdca26"
            ],
            [
             1,
             "#f0f921"
            ]
           ]
          },
          "colorway": [
           "#636efa",
           "#EF553B",
           "#00cc96",
           "#ab63fa",
           "#FFA15A",
           "#19d3f3",
           "#FF6692",
           "#B6E880",
           "#FF97FF",
           "#FECB52"
          ],
          "font": {
           "color": "#2a3f5f"
          },
          "geo": {
           "bgcolor": "white",
           "lakecolor": "white",
           "landcolor": "#E5ECF6",
           "showlakes": true,
           "showland": true,
           "subunitcolor": "white"
          },
          "hoverlabel": {
           "align": "left"
          },
          "hovermode": "closest",
          "mapbox": {
           "style": "light"
          },
          "paper_bgcolor": "white",
          "plot_bgcolor": "#E5ECF6",
          "polar": {
           "angularaxis": {
            "gridcolor": "white",
            "linecolor": "white",
            "ticks": ""
           },
           "bgcolor": "#E5ECF6",
           "radialaxis": {
            "gridcolor": "white",
            "linecolor": "white",
            "ticks": ""
           }
          },
          "scene": {
           "xaxis": {
            "backgroundcolor": "#E5ECF6",
            "gridcolor": "white",
            "gridwidth": 2,
            "linecolor": "white",
            "showbackground": true,
            "ticks": "",
            "zerolinecolor": "white"
           },
           "yaxis": {
            "backgroundcolor": "#E5ECF6",
            "gridcolor": "white",
            "gridwidth": 2,
            "linecolor": "white",
            "showbackground": true,
            "ticks": "",
            "zerolinecolor": "white"
           },
           "zaxis": {
            "backgroundcolor": "#E5ECF6",
            "gridcolor": "white",
            "gridwidth": 2,
            "linecolor": "white",
            "showbackground": true,
            "ticks": "",
            "zerolinecolor": "white"
           }
          },
          "shapedefaults": {
           "line": {
            "color": "#2a3f5f"
           }
          },
          "ternary": {
           "aaxis": {
            "gridcolor": "white",
            "linecolor": "white",
            "ticks": ""
           },
           "baxis": {
            "gridcolor": "white",
            "linecolor": "white",
            "ticks": ""
           },
           "bgcolor": "#E5ECF6",
           "caxis": {
            "gridcolor": "white",
            "linecolor": "white",
            "ticks": ""
           }
          },
          "title": {
           "x": 0.05
          },
          "xaxis": {
           "automargin": true,
           "gridcolor": "white",
           "linecolor": "white",
           "ticks": "",
           "title": {
            "standoff": 15
           },
           "zerolinecolor": "white",
           "zerolinewidth": 2
          },
          "yaxis": {
           "automargin": true,
           "gridcolor": "white",
           "linecolor": "white",
           "ticks": "",
           "title": {
            "standoff": 15
           },
           "zerolinecolor": "white",
           "zerolinewidth": 2
          }
         }
        },
        "title": {
         "text": "Feb. 2011 American Airline flight paths<br>(Hover for airport names)"
        }
       }
      },
      "text/html": "<div>                            <div id=\"25daa9f9-1450-44a5-b912-ba3a4043df4d\" class=\"plotly-graph-div\" style=\"height:800px; width:100%;\"></div>            <script type=\"text/javascript\">                require([\"plotly\"], function(Plotly) {                    window.PLOTLYENV=window.PLOTLYENV || {};                                    if (document.getElementById(\"25daa9f9-1450-44a5-b912-ba3a4043df4d\")) {                    Plotly.newPlot(                        \"25daa9f9-1450-44a5-b912-ba3a4043df4d\",                        [{\"lat\": [32.89595056, 35.04022222], \"line\": {\"color\": \"red\", \"width\": 1}, \"locationmode\": \"USA-states\", \"lon\": [-97.0372, -106.6091944], \"mode\": \"lines\", \"opacity\": 0.48577680525164113, \"type\": \"scattergeo\"}, {\"lat\": [41.979595, 30.19453278], \"line\": {\"color\": \"red\", \"width\": 1}, \"locationmode\": \"USA-states\", \"lon\": [-87.90446417, -97.66987194], \"mode\": \"lines\", \"opacity\": 0.18161925601750548, \"type\": \"scattergeo\"}, {\"lat\": [32.89595056, 41.93887417], \"line\": {\"color\": \"red\", \"width\": 1}, \"locationmode\": \"USA-states\", \"lon\": [-97.0372, -72.68322833], \"mode\": \"lines\", \"opacity\": 0.1772428884026258, \"type\": \"scattergeo\"}, {\"lat\": [18.43941667, 41.93887417], \"line\": {\"color\": \"red\", \"width\": 1}, \"locationmode\": \"USA-states\", \"lon\": [-66.00183333, -72.68322833], \"mode\": \"lines\", \"opacity\": 0.061269146608315096, \"type\": \"scattergeo\"}, {\"lat\": [32.89595056, 33.56294306], \"line\": {\"color\": \"red\", \"width\": 1}, \"locationmode\": \"USA-states\", \"lon\": [-97.0372, -86.75354972], \"mode\": \"lines\", \"opacity\": 0.1838074398249453, \"type\": \"scattergeo\"}, {\"lat\": [25.79325, 36.12447667], \"line\": {\"color\": \"red\", \"width\": 1}, \"locationmode\": \"USA-states\", \"lon\": [-80.29055556, -86.67818222], \"mode\": \"lines\", \"opacity\": 0.061269146608315096, \"type\": \"scattergeo\"}, {\"lat\": [32.89595056, 42.3643475], \"line\": {\"color\": \"red\", \"width\": 1}, \"locationmode\": \"USA-states\", \"lon\": [-97.0372, -71.00517917], \"mode\": \"lines\", \"opacity\": 0.4617067833698031, \"type\": \"scattergeo\"}, {\"lat\": [25.79325, 42.3643475], \"line\": {\"color\": \"red\", \"width\": 1}, \"locationmode\": \"USA-states\", \"lon\": [-80.29055556, -71.00517917], \"mode\": \"lines\", \"opacity\": 0.4288840262582057, \"type\": \"scattergeo\"}, {\"lat\": [41.979595, 42.3643475], \"line\": {\"color\": \"red\", \"width\": 1}, \"locationmode\": \"USA-states\", \"lon\": [-87.90446417, -71.00517917], \"mode\": \"lines\", \"opacity\": 0.47045951859956237, \"type\": \"scattergeo\"}, {\"lat\": [18.43941667, 42.3643475], \"line\": {\"color\": \"red\", \"width\": 1}, \"locationmode\": \"USA-states\", \"lon\": [-66.00183333, -71.00517917], \"mode\": \"lines\", \"opacity\": 0.061269146608315096, \"type\": \"scattergeo\"}, {\"lat\": [18.33730556, 42.3643475], \"line\": {\"color\": \"red\", \"width\": 1}, \"locationmode\": \"USA-states\", \"lon\": [-64.97336111, -71.00517917], \"mode\": \"lines\", \"opacity\": 0.04814004376367615, \"type\": \"scattergeo\"}, {\"lat\": [25.79325, 39.17540167], \"line\": {\"color\": \"red\", \"width\": 1}, \"locationmode\": \"USA-states\", \"lon\": [-80.29055556, -76.66819833], \"mode\": \"lines\", \"opacity\": 0.12253829321663019, \"type\": \"scattergeo\"}, {\"lat\": [18.43941667, 39.17540167], \"line\": {\"color\": \"red\", \"width\": 1}, \"locationmode\": \"USA-states\", \"lon\": [-66.00183333, -76.66819833], \"mode\": \"lines\", \"opacity\": 0.061269146608315096, \"type\": \"scattergeo\"}, {\"lat\": [32.89595056, 35.21401111], \"line\": {\"color\": \"red\", \"width\": 1}, \"locationmode\": \"USA-states\", \"lon\": [-97.0372, -80.94312583], \"mode\": \"lines\", \"opacity\": 0.3938730853391685, \"type\": \"scattergeo\"}, {\"lat\": [32.89595056, 38.80580556], \"line\": {\"color\": \"red\", \"width\": 1}, \"locationmode\": \"USA-states\", \"lon\": [-97.0372, -104.70025], \"mode\": \"lines\", \"opacity\": 0.3041575492341357, \"type\": \"scattergeo\"}, {\"lat\": [32.89595056, 39.90237583], \"line\": {\"color\": \"red\", \"width\": 1}, \"locationmode\": \"USA-states\", \"lon\": [-97.0372, -84.219375], \"mode\": \"lines\", \"opacity\": 0.1137855579868709, \"type\": \"scattergeo\"}, {\"lat\": [32.89595056, 38.85208333], \"line\": {\"color\": \"red\", \"width\": 1}, \"locationmode\": \"USA-states\", \"lon\": [-97.0372, -77.03772222], \"mode\": \"lines\", \"opacity\": 0.6433260393873085, \"type\": \"scattergeo\"}, {\"lat\": [25.79325, 39.85840806], \"line\": {\"color\": \"red\", \"width\": 1}, \"locationmode\": \"USA-states\", \"lon\": [-80.29055556, -104.6670019], \"mode\": \"lines\", \"opacity\": 0.12253829321663019, \"type\": \"scattergeo\"}, {\"lat\": [41.979595, 39.85840806], \"line\": {\"color\": \"red\", \"width\": 1}, \"locationmode\": \"USA-states\", \"lon\": [-87.90446417, -104.6670019], \"mode\": \"lines\", \"opacity\": 0.12253829321663019, \"type\": \"scattergeo\"}, {\"lat\": [33.64044444, 32.89595056], \"line\": {\"color\": \"red\", \"width\": 1}, \"locationmode\": \"USA-states\", \"lon\": [-84.42694444, -97.0372], \"mode\": \"lines\", \"opacity\": 0.6345733041575492, \"type\": \"scattergeo\"}, {\"lat\": [30.19453278, 32.89595056], \"line\": {\"color\": \"red\", \"width\": 1}, \"locationmode\": \"USA-states\", \"lon\": [-97.66987194, -97.0372], \"mode\": \"lines\", \"opacity\": 0.8971553610503282, \"type\": \"scattergeo\"}, {\"lat\": [36.12447667, 32.89595056], \"line\": {\"color\": \"red\", \"width\": 1}, \"locationmode\": \"USA-states\", \"lon\": [-86.67818222, -97.0372], \"mode\": \"lines\", \"opacity\": 0.47702407002188185, \"type\": \"scattergeo\"}, {\"lat\": [34.20061917, 32.89595056], \"line\": {\"color\": \"red\", \"width\": 1}, \"locationmode\": \"USA-states\", \"lon\": [-118.3584969, -97.0372], \"mode\": \"lines\", \"opacity\": 0.2275711159737418, \"type\": \"scattergeo\"}, {\"lat\": [39.17540167, 32.89595056], \"line\": {\"color\": \"red\", \"width\": 1}, \"locationmode\": \"USA-states\", \"lon\": [-76.66819833, -97.0372], \"mode\": \"lines\", \"opacity\": 0.35667396061269147, \"type\": \"scattergeo\"}, {\"lat\": [39.99798528, 32.89595056], \"line\": {\"color\": \"red\", \"width\": 1}, \"locationmode\": \"USA-states\", \"lon\": [-82.89188278, -97.0372], \"mode\": \"lines\", \"opacity\": 0.1137855579868709, \"type\": \"scattergeo\"}, {\"lat\": [39.85840806, 32.89595056], \"line\": {\"color\": \"red\", \"width\": 1}, \"locationmode\": \"USA-states\", \"lon\": [-104.6670019, -97.0372], \"mode\": \"lines\", \"opacity\": 0.6105032822757112, \"type\": \"scattergeo\"}, {\"lat\": [42.21205889, 32.89595056], \"line\": {\"color\": \"red\", \"width\": 1}, \"locationmode\": \"USA-states\", \"lon\": [-83.34883583, -97.0372], \"mode\": \"lines\", \"opacity\": 0.2844638949671772, \"type\": \"scattergeo\"}, {\"lat\": [39.64256778, 32.89595056], \"line\": {\"color\": \"red\", \"width\": 1}, \"locationmode\": \"USA-states\", \"lon\": [-106.91769529999999, -97.0372], \"mode\": \"lines\", \"opacity\": 0.1487964989059081, \"type\": \"scattergeo\"}, {\"lat\": [40.69249722, 32.89595056], \"line\": {\"color\": \"red\", \"width\": 1}, \"locationmode\": \"USA-states\", \"lon\": [-74.16866056, -97.0372], \"mode\": \"lines\", \"opacity\": 0.33916849015317285, \"type\": \"scattergeo\"}, {\"lat\": [36.77619444, 32.89595056], \"line\": {\"color\": \"red\", \"width\": 1}, \"locationmode\": \"USA-states\", \"lon\": [-119.7181389, -97.0372], \"mode\": \"lines\", \"opacity\": 0.12253829321663019, \"type\": \"scattergeo\"}, {\"lat\": [26.07258333, 32.89595056], \"line\": {\"color\": \"red\", \"width\": 1}, \"locationmode\": \"USA-states\", \"lon\": [-80.15275, -97.0372], \"mode\": \"lines\", \"opacity\": 0.3676148796498906, \"type\": \"scattergeo\"}, {\"lat\": [34.6404475, 32.89595056], \"line\": {\"color\": \"red\", \"width\": 1}, \"locationmode\": \"USA-states\", \"lon\": [-86.77310944, -97.0372], \"mode\": \"lines\", \"opacity\": 0.17286652078774617, \"type\": \"scattergeo\"}, {\"lat\": [29.98047222, 32.89595056], \"line\": {\"color\": \"red\", \"width\": 1}, \"locationmode\": \"USA-states\", \"lon\": [-95.33972222, -97.0372], \"mode\": \"lines\", \"opacity\": 0.3544857768052516, \"type\": \"scattergeo\"}, {\"lat\": [33.94253611, 32.89595056], \"line\": {\"color\": \"red\", \"width\": 1}, \"locationmode\": \"USA-states\", \"lon\": [-118.40807439999999, -97.0372], \"mode\": \"lines\", \"opacity\": 1.0, \"type\": \"scattergeo\"}, {\"lat\": [39.29760528, 32.89595056], \"line\": {\"color\": \"red\", \"width\": 1}, \"locationmode\": \"USA-states\", \"lon\": [-94.71390556, -97.0372], \"mode\": \"lines\", \"opacity\": 0.47702407002188185, \"type\": \"scattergeo\"}, {\"lat\": [28.42888889, 32.89595056], \"line\": {\"color\": \"red\", \"width\": 1}, \"locationmode\": \"USA-states\", \"lon\": [-81.31602778, -97.0372], \"mode\": \"lines\", \"opacity\": 0.5470459518599562, \"type\": \"scattergeo\"}, {\"lat\": [35.04241667, 32.89595056], \"line\": {\"color\": \"red\", \"width\": 1}, \"locationmode\": \"USA-states\", \"lon\": [-89.97666667, -97.0372], \"mode\": \"lines\", \"opacity\": 0.23413566739606126, \"type\": \"scattergeo\"}, {\"lat\": [26.17583333, 32.89595056], \"line\": {\"color\": \"red\", \"width\": 1}, \"locationmode\": \"USA-states\", \"lon\": [-98.23861111, -97.0372], \"mode\": \"lines\", \"opacity\": 0.23413566739606126, \"type\": \"scattergeo\"}, {\"lat\": [25.79325, 32.89595056], \"line\": {\"color\": \"red\", \"width\": 1}, \"locationmode\": \"USA-states\", \"lon\": [-80.29055556, -97.0372], \"mode\": \"lines\", \"opacity\": 0.612691466083151, \"type\": \"scattergeo\"}, {\"lat\": [44.88054694, 32.89595056], \"line\": {\"color\": \"red\", \"width\": 1}, \"locationmode\": \"USA-states\", \"lon\": [-93.2169225, -97.0372], \"mode\": \"lines\", \"opacity\": 0.35667396061269147, \"type\": \"scattergeo\"}, {\"lat\": [38.50886722, 32.89595056], \"line\": {\"color\": \"red\", \"width\": 1}, \"locationmode\": \"USA-states\", \"lon\": [-107.89383329999998, -97.0372], \"mode\": \"lines\", \"opacity\": 0.0175054704595186, \"type\": \"scattergeo\"}, {\"lat\": [20.89864972, 32.89595056], \"line\": {\"color\": \"red\", \"width\": 1}, \"locationmode\": \"USA-states\", \"lon\": [-156.43045780000003, -97.0372], \"mode\": \"lines\", \"opacity\": 0.061269146608315096, \"type\": \"scattergeo\"}, {\"lat\": [35.39308833, 32.89595056], \"line\": {\"color\": \"red\", \"width\": 1}, \"locationmode\": \"USA-states\", \"lon\": [-97.60073389, -97.0372], \"mode\": \"lines\", \"opacity\": 0.42669584245076586, \"type\": \"scattergeo\"}, {\"lat\": [41.30251861, 32.89595056], \"line\": {\"color\": \"red\", \"width\": 1}, \"locationmode\": \"USA-states\", \"lon\": [-95.89417306, -97.0372], \"mode\": \"lines\", \"opacity\": 0.2975929978118162, \"type\": \"scattergeo\"}, {\"lat\": [41.979595, 32.89595056], \"line\": {\"color\": \"red\", \"width\": 1}, \"locationmode\": \"USA-states\", \"lon\": [-87.90446417, -97.0372], \"mode\": \"lines\", \"opacity\": 0.9026258205689278, \"type\": \"scattergeo\"}, {\"lat\": [39.87195278, 32.89595056], \"line\": {\"color\": \"red\", \"width\": 1}, \"locationmode\": \"USA-states\", \"lon\": [-75.24114083, -97.0372], \"mode\": \"lines\", \"opacity\": 0.3522975929978118, \"type\": \"scattergeo\"}, {\"lat\": [33.43416667, 32.89595056], \"line\": {\"color\": \"red\", \"width\": 1}, \"locationmode\": \"USA-states\", \"lon\": [-112.00805559999999, -97.0372], \"mode\": \"lines\", \"opacity\": 0.6017505470459519, \"type\": \"scattergeo\"}, {\"lat\": [37.50516667, 32.89595056], \"line\": {\"color\": \"red\", \"width\": 1}, \"locationmode\": \"USA-states\", \"lon\": [-77.31966667, -97.0372], \"mode\": \"lines\", \"opacity\": 0.18161925601750548, \"type\": \"scattergeo\"}, {\"lat\": [39.49857611, 32.89595056], \"line\": {\"color\": \"red\", \"width\": 1}, \"locationmode\": \"USA-states\", \"lon\": [-119.76806470000001, -97.0372], \"mode\": \"lines\", \"opacity\": 0.16411378555798686, \"type\": \"scattergeo\"}, {\"lat\": [32.73355611, 32.89595056], \"line\": {\"color\": \"red\", \"width\": 1}, \"locationmode\": \"USA-states\", \"lon\": [-117.1896567, -97.0372], \"mode\": \"lines\", \"opacity\": 0.5470459518599562, \"type\": \"scattergeo\"}, {\"lat\": [29.53369444, 32.89595056], \"line\": {\"color\": \"red\", \"width\": 1}, \"locationmode\": \"USA-states\", \"lon\": [-98.46977778, -97.0372], \"mode\": \"lines\", \"opacity\": 0.9037199124726477, \"type\": \"scattergeo\"}, {\"lat\": [38.17438889, 32.89595056], \"line\": {\"color\": \"red\", \"width\": 1}, \"locationmode\": \"USA-states\", \"lon\": [-85.736, -97.0372], \"mode\": \"lines\", \"opacity\": 0.17943107221006566, \"type\": \"scattergeo\"}, {\"lat\": [37.61900194, 32.89595056], \"line\": {\"color\": \"red\", \"width\": 1}, \"locationmode\": \"USA-states\", \"lon\": [-122.3748433, -97.0372], \"mode\": \"lines\", \"opacity\": 0.5754923413566739, \"type\": \"scattergeo\"}, {\"lat\": [37.36186194, 32.89595056], \"line\": {\"color\": \"red\", \"width\": 1}, \"locationmode\": \"USA-states\", \"lon\": [-121.92900890000001, -97.0372], \"mode\": \"lines\", \"opacity\": 0.3479212253829322, \"type\": \"scattergeo\"}, {\"lat\": [40.78838778, 32.89595056], \"line\": {\"color\": \"red\", \"width\": 1}, \"locationmode\": \"USA-states\", \"lon\": [-111.9777731, -97.0372], \"mode\": \"lines\", \"opacity\": 0.3063457330415755, \"type\": \"scattergeo\"}, {\"lat\": [38.74768694, 32.89595056], \"line\": {\"color\": \"red\", \"width\": 1}, \"locationmode\": \"USA-states\", \"lon\": [-90.35998972, -97.0372], \"mode\": \"lines\", \"opacity\": 0.5317286652078774, \"type\": \"scattergeo\"}, {\"lat\": [36.28186944, 32.89595056], \"line\": {\"color\": \"red\", \"width\": 1}, \"locationmode\": \"USA-states\", \"lon\": [-94.30681111, -97.0372], \"mode\": \"lines\", \"opacity\": 0.05470459518599562, \"type\": \"scattergeo\"}, {\"lat\": [25.79325, 42.21205889], \"line\": {\"color\": \"red\", \"width\": 1}, \"locationmode\": \"USA-states\", \"lon\": [-80.29055556, -83.34883583], \"mode\": \"lines\", \"opacity\": 0.12253829321663019, \"type\": \"scattergeo\"}, {\"lat\": [40.77724306, 39.64256778], \"line\": {\"color\": \"red\", \"width\": 1}, \"locationmode\": \"USA-states\", \"lon\": [-73.87260917, -106.91769529999999], \"mode\": \"lines\", \"opacity\": 0.0087527352297593, \"type\": \"scattergeo\"}, {\"lat\": [41.979595, 39.64256778], \"line\": {\"color\": \"red\", \"width\": 1}, \"locationmode\": \"USA-states\", \"lon\": [-87.90446417, -106.91769529999999], \"mode\": \"lines\", \"opacity\": 0.0700218818380744, \"type\": \"scattergeo\"}, {\"lat\": [32.89595056, 31.80666667], \"line\": {\"color\": \"red\", \"width\": 1}, \"locationmode\": \"USA-states\", \"lon\": [-97.0372, -106.37780559999999], \"mode\": \"lines\", \"opacity\": 0.474835886214442, \"type\": \"scattergeo\"}, {\"lat\": [33.94253611, 40.69249722], \"line\": {\"color\": \"red\", \"width\": 1}, \"locationmode\": \"USA-states\", \"lon\": [-118.40807439999999, -74.16866056], \"mode\": \"lines\", \"opacity\": 0.05908096280087528, \"type\": \"scattergeo\"}, {\"lat\": [25.79325, 40.69249722], \"line\": {\"color\": \"red\", \"width\": 1}, \"locationmode\": \"USA-states\", \"lon\": [-80.29055556, -74.16866056], \"mode\": \"lines\", \"opacity\": 0.1838074398249453, \"type\": \"scattergeo\"}, {\"lat\": [40.63975111, 26.07258333], \"line\": {\"color\": \"red\", \"width\": 1}, \"locationmode\": \"USA-states\", \"lon\": [-73.77892556, -80.15275], \"mode\": \"lines\", \"opacity\": 0.12253829321663019, \"type\": \"scattergeo\"}, {\"lat\": [32.89595056, 40.48118028], \"line\": {\"color\": \"red\", \"width\": 1}, \"locationmode\": \"USA-states\", \"lon\": [-97.0372, -107.21765970000001], \"mode\": \"lines\", \"opacity\": 0.0700218818380744, \"type\": \"scattergeo\"}, {\"lat\": [32.89595056, 21.31869111], \"line\": {\"color\": \"red\", \"width\": 1}, \"locationmode\": \"USA-states\", \"lon\": [-97.0372, -157.92240719999998], \"mode\": \"lines\", \"opacity\": 0.12253829321663019, \"type\": \"scattergeo\"}, {\"lat\": [33.94253611, 21.31869111], \"line\": {\"color\": \"red\", \"width\": 1}, \"locationmode\": \"USA-states\", \"lon\": [-118.40807439999999, -157.92240719999998], \"mode\": \"lines\", \"opacity\": 0.2363238512035011, \"type\": \"scattergeo\"}, {\"lat\": [32.89595056, 38.94453194], \"line\": {\"color\": \"red\", \"width\": 1}, \"locationmode\": \"USA-states\", \"lon\": [-97.0372, -77.45580972], \"mode\": \"lines\", \"opacity\": 0.33698030634573306, \"type\": \"scattergeo\"}, {\"lat\": [33.94253611, 38.94453194], \"line\": {\"color\": \"red\", \"width\": 1}, \"locationmode\": \"USA-states\", \"lon\": [-118.40807439999999, -77.45580972], \"mode\": \"lines\", \"opacity\": 0.18161925601750548, \"type\": \"scattergeo\"}, {\"lat\": [25.79325, 38.94453194], \"line\": {\"color\": \"red\", \"width\": 1}, \"locationmode\": \"USA-states\", \"lon\": [-80.29055556, -77.45580972], \"mode\": \"lines\", \"opacity\": 0.12253829321663019, \"type\": \"scattergeo\"}, {\"lat\": [25.79325, 29.98047222], \"line\": {\"color\": \"red\", \"width\": 1}, \"locationmode\": \"USA-states\", \"lon\": [-80.29055556, -95.33972222], \"mode\": \"lines\", \"opacity\": 0.1838074398249453, \"type\": \"scattergeo\"}, {\"lat\": [32.89595056, 37.64995889], \"line\": {\"color\": \"red\", \"width\": 1}, \"locationmode\": \"USA-states\", \"lon\": [-97.0372, -97.43304583], \"mode\": \"lines\", \"opacity\": 0.23413566739606126, \"type\": \"scattergeo\"}, {\"lat\": [32.89595056, 39.71732917], \"line\": {\"color\": \"red\", \"width\": 1}, \"locationmode\": \"USA-states\", \"lon\": [-97.0372, -86.29438417], \"mode\": \"lines\", \"opacity\": 0.3041575492341357, \"type\": \"scattergeo\"}, {\"lat\": [32.89595056, 43.60732417], \"line\": {\"color\": \"red\", \"width\": 1}, \"locationmode\": \"USA-states\", \"lon\": [-97.0372, -110.7377389], \"mode\": \"lines\", \"opacity\": 0.0262582056892779, \"type\": \"scattergeo\"}, {\"lat\": [32.89595056, 30.49405556], \"line\": {\"color\": \"red\", \"width\": 1}, \"locationmode\": \"USA-states\", \"lon\": [-97.0372, -81.68786111], \"mode\": \"lines\", \"opacity\": 0.2363238512035011, \"type\": \"scattergeo\"}, {\"lat\": [30.19453278, 40.63975111], \"line\": {\"color\": \"red\", \"width\": 1}, \"locationmode\": \"USA-states\", \"lon\": [-97.66987194, -73.77892556], \"mode\": \"lines\", \"opacity\": 0.061269146608315096, \"type\": \"scattergeo\"}, {\"lat\": [32.89595056, 40.63975111], \"line\": {\"color\": \"red\", \"width\": 1}, \"locationmode\": \"USA-states\", \"lon\": [-97.0372, -73.77892556], \"mode\": \"lines\", \"opacity\": 0.061269146608315096, \"type\": \"scattergeo\"}, {\"lat\": [39.64256778, 40.63975111], \"line\": {\"color\": \"red\", \"width\": 1}, \"locationmode\": \"USA-states\", \"lon\": [-106.91769529999999, -73.77892556], \"mode\": \"lines\", \"opacity\": 0.061269146608315096, \"type\": \"scattergeo\"}, {\"lat\": [28.42888889, 40.63975111], \"line\": {\"color\": \"red\", \"width\": 1}, \"locationmode\": \"USA-states\", \"lon\": [-81.31602778, -73.77892556], \"mode\": \"lines\", \"opacity\": 0.24507658643326038, \"type\": \"scattergeo\"}, {\"lat\": [25.79325, 40.63975111], \"line\": {\"color\": \"red\", \"width\": 1}, \"locationmode\": \"USA-states\", \"lon\": [-80.29055556, -73.77892556], \"mode\": \"lines\", \"opacity\": 0.4288840262582057, \"type\": \"scattergeo\"}, {\"lat\": [47.44898194, 40.63975111], \"line\": {\"color\": \"red\", \"width\": 1}, \"locationmode\": \"USA-states\", \"lon\": [-122.30931310000001, -73.77892556], \"mode\": \"lines\", \"opacity\": 0.061269146608315096, \"type\": \"scattergeo\"}, {\"lat\": [37.61900194, 40.63975111], \"line\": {\"color\": \"red\", \"width\": 1}, \"locationmode\": \"USA-states\", \"lon\": [-122.3748433, -73.77892556], \"mode\": \"lines\", \"opacity\": 0.3041575492341357, \"type\": \"scattergeo\"}, {\"lat\": [18.33730556, 40.63975111], \"line\": {\"color\": \"red\", \"width\": 1}, \"locationmode\": \"USA-states\", \"lon\": [-64.97336111, -73.77892556], \"mode\": \"lines\", \"opacity\": 0.061269146608315096, \"type\": \"scattergeo\"}, {\"lat\": [27.97547222, 40.63975111], \"line\": {\"color\": \"red\", \"width\": 1}, \"locationmode\": \"USA-states\", \"lon\": [-82.53325, -73.77892556], \"mode\": \"lines\", \"opacity\": 0.061269146608315096, \"type\": \"scattergeo\"}, {\"lat\": [32.89595056, 36.08036111], \"line\": {\"color\": \"red\", \"width\": 1}, \"locationmode\": \"USA-states\", \"lon\": [-97.0372, -115.15233329999998], \"mode\": \"lines\", \"opacity\": 0.6225382932166302, \"type\": \"scattergeo\"}, {\"lat\": [40.63975111, 36.08036111], \"line\": {\"color\": \"red\", \"width\": 1}, \"locationmode\": \"USA-states\", \"lon\": [-73.77892556, -115.15233329999998], \"mode\": \"lines\", \"opacity\": 0.12253829321663019, \"type\": \"scattergeo\"}, {\"lat\": [33.94253611, 36.08036111], \"line\": {\"color\": \"red\", \"width\": 1}, \"locationmode\": \"USA-states\", \"lon\": [-118.40807439999999, -115.15233329999998], \"mode\": \"lines\", \"opacity\": 0.24288840262582057, \"type\": \"scattergeo\"}, {\"lat\": [41.979595, 36.08036111], \"line\": {\"color\": \"red\", \"width\": 1}, \"locationmode\": \"USA-states\", \"lon\": [-87.90446417, -115.15233329999998], \"mode\": \"lines\", \"opacity\": 0.3063457330415755, \"type\": \"scattergeo\"}, {\"lat\": [30.19453278, 33.94253611], \"line\": {\"color\": \"red\", \"width\": 1}, \"locationmode\": \"USA-states\", \"lon\": [-97.66987194, -118.40807439999999], \"mode\": \"lines\", \"opacity\": 0.1772428884026258, \"type\": \"scattergeo\"}, {\"lat\": [36.12447667, 33.94253611], \"line\": {\"color\": \"red\", \"width\": 1}, \"locationmode\": \"USA-states\", \"lon\": [-86.67818222, -118.40807439999999], \"mode\": \"lines\", \"opacity\": 0.061269146608315096, \"type\": \"scattergeo\"}, {\"lat\": [42.3643475, 33.94253611], \"line\": {\"color\": \"red\", \"width\": 1}, \"locationmode\": \"USA-states\", \"lon\": [-71.00517917, -118.40807439999999], \"mode\": \"lines\", \"opacity\": 0.1838074398249453, \"type\": \"scattergeo\"}, {\"lat\": [39.64256778, 33.94253611], \"line\": {\"color\": \"red\", \"width\": 1}, \"locationmode\": \"USA-states\", \"lon\": [-106.91769529999999, -118.40807439999999], \"mode\": \"lines\", \"opacity\": 0.061269146608315096, \"type\": \"scattergeo\"}, {\"lat\": [40.63975111, 33.94253611], \"line\": {\"color\": \"red\", \"width\": 1}, \"locationmode\": \"USA-states\", \"lon\": [-73.77892556, -118.40807439999999], \"mode\": \"lines\", \"opacity\": 0.5995623632385121, \"type\": \"scattergeo\"}, {\"lat\": [19.73876583, 33.94253611], \"line\": {\"color\": \"red\", \"width\": 1}, \"locationmode\": \"USA-states\", \"lon\": [-156.0456314, -118.40807439999999], \"mode\": \"lines\", \"opacity\": 0.061269146608315096, \"type\": \"scattergeo\"}, {\"lat\": [20.89864972, 33.94253611], \"line\": {\"color\": \"red\", \"width\": 1}, \"locationmode\": \"USA-states\", \"lon\": [-156.43045780000003, -118.40807439999999], \"mode\": \"lines\", \"opacity\": 0.12253829321663019, \"type\": \"scattergeo\"}, {\"lat\": [41.979595, 33.94253611], \"line\": {\"color\": \"red\", \"width\": 1}, \"locationmode\": \"USA-states\", \"lon\": [-87.90446417, -118.40807439999999], \"mode\": \"lines\", \"opacity\": 0.5426695842450766, \"type\": \"scattergeo\"}, {\"lat\": [38.74768694, 33.94253611], \"line\": {\"color\": \"red\", \"width\": 1}, \"locationmode\": \"USA-states\", \"lon\": [-90.35998972, -118.40807439999999], \"mode\": \"lines\", \"opacity\": 0.18161925601750548, \"type\": \"scattergeo\"}, {\"lat\": [36.12447667, 40.77724306], \"line\": {\"color\": \"red\", \"width\": 1}, \"locationmode\": \"USA-states\", \"lon\": [-86.67818222, -73.87260917], \"mode\": \"lines\", \"opacity\": 0.11159737417943107, \"type\": \"scattergeo\"}, {\"lat\": [32.89595056, 40.77724306], \"line\": {\"color\": \"red\", \"width\": 1}, \"locationmode\": \"USA-states\", \"lon\": [-97.0372, -73.87260917], \"mode\": \"lines\", \"opacity\": 0.849015317286652, \"type\": \"scattergeo\"}, {\"lat\": [38.74768694, 40.77724306], \"line\": {\"color\": \"red\", \"width\": 1}, \"locationmode\": \"USA-states\", \"lon\": [-90.35998972, -73.87260917], \"mode\": \"lines\", \"opacity\": 0.22538293216630198, \"type\": \"scattergeo\"}, {\"lat\": [33.94253611, 21.97598306], \"line\": {\"color\": \"red\", \"width\": 1}, \"locationmode\": \"USA-states\", \"lon\": [-118.40807439999999, -159.3389581], \"mode\": \"lines\", \"opacity\": 0.061269146608315096, \"type\": \"scattergeo\"}, {\"lat\": [33.94253611, 28.42888889], \"line\": {\"color\": \"red\", \"width\": 1}, \"locationmode\": \"USA-states\", \"lon\": [-118.40807439999999, -81.31602778], \"mode\": \"lines\", \"opacity\": 0.061269146608315096, \"type\": \"scattergeo\"}, {\"lat\": [25.79325, 28.42888889], \"line\": {\"color\": \"red\", \"width\": 1}, \"locationmode\": \"USA-states\", \"lon\": [-80.29055556, -81.31602778], \"mode\": \"lines\", \"opacity\": 0.49015317286652077, \"type\": \"scattergeo\"}, {\"lat\": [33.64044444, 25.79325], \"line\": {\"color\": \"red\", \"width\": 1}, \"locationmode\": \"USA-states\", \"lon\": [-84.42694444, -80.29055556], \"mode\": \"lines\", \"opacity\": 0.24507658643326038, \"type\": \"scattergeo\"}, {\"lat\": [41.93887417, 25.79325], \"line\": {\"color\": \"red\", \"width\": 1}, \"locationmode\": \"USA-states\", \"lon\": [-72.68322833, -80.29055556], \"mode\": \"lines\", \"opacity\": 0.12253829321663019, \"type\": \"scattergeo\"}, {\"lat\": [38.85208333, 25.79325], \"line\": {\"color\": \"red\", \"width\": 1}, \"locationmode\": \"USA-states\", \"lon\": [-77.03772222, -80.29055556], \"mode\": \"lines\", \"opacity\": 0.5514223194748359, \"type\": \"scattergeo\"}, {\"lat\": [39.64256778, 25.79325], \"line\": {\"color\": \"red\", \"width\": 1}, \"locationmode\": \"USA-states\", \"lon\": [-106.91769529999999, -80.29055556], \"mode\": \"lines\", \"opacity\": 0.0525164113785558, \"type\": \"scattergeo\"}, {\"lat\": [36.08036111, 25.79325], \"line\": {\"color\": \"red\", \"width\": 1}, \"locationmode\": \"USA-states\", \"lon\": [-115.15233329999998, -80.29055556], \"mode\": \"lines\", \"opacity\": 0.1838074398249453, \"type\": \"scattergeo\"}, {\"lat\": [33.94253611, 25.79325], \"line\": {\"color\": \"red\", \"width\": 1}, \"locationmode\": \"USA-states\", \"lon\": [-118.40807439999999, -80.29055556], \"mode\": \"lines\", \"opacity\": 0.4288840262582057, \"type\": \"scattergeo\"}, {\"lat\": [40.77724306, 25.79325], \"line\": {\"color\": \"red\", \"width\": 1}, \"locationmode\": \"USA-states\", \"lon\": [-73.87260917, -80.29055556], \"mode\": \"lines\", \"opacity\": 0.6728665207877462, \"type\": \"scattergeo\"}, {\"lat\": [44.88054694, 25.79325], \"line\": {\"color\": \"red\", \"width\": 1}, \"locationmode\": \"USA-states\", \"lon\": [-93.2169225, -80.29055556], \"mode\": \"lines\", \"opacity\": 0.061269146608315096, \"type\": \"scattergeo\"}, {\"lat\": [41.979595, 25.79325], \"line\": {\"color\": \"red\", \"width\": 1}, \"locationmode\": \"USA-states\", \"lon\": [-87.90446417, -80.29055556], \"mode\": \"lines\", \"opacity\": 0.5525164113785558, \"type\": \"scattergeo\"}, {\"lat\": [39.87195278, 25.79325], \"line\": {\"color\": \"red\", \"width\": 1}, \"locationmode\": \"USA-states\", \"lon\": [-75.24114083, -80.29055556], \"mode\": \"lines\", \"opacity\": 0.1838074398249453, \"type\": \"scattergeo\"}, {\"lat\": [33.43416667, 25.79325], \"line\": {\"color\": \"red\", \"width\": 1}, \"locationmode\": \"USA-states\", \"lon\": [-112.00805559999999, -80.29055556], \"mode\": \"lines\", \"opacity\": 0.061269146608315096, \"type\": \"scattergeo\"}, {\"lat\": [37.61900194, 25.79325], \"line\": {\"color\": \"red\", \"width\": 1}, \"locationmode\": \"USA-states\", \"lon\": [-122.3748433, -80.29055556], \"mode\": \"lines\", \"opacity\": 0.1838074398249453, \"type\": \"scattergeo\"}, {\"lat\": [18.43941667, 25.79325], \"line\": {\"color\": \"red\", \"width\": 1}, \"locationmode\": \"USA-states\", \"lon\": [-66.00183333, -80.29055556], \"mode\": \"lines\", \"opacity\": 0.49015317286652077, \"type\": \"scattergeo\"}, {\"lat\": [36.19837222, 25.79325], \"line\": {\"color\": \"red\", \"width\": 1}, \"locationmode\": \"USA-states\", \"lon\": [-95.88824167, -80.29055556], \"mode\": \"lines\", \"opacity\": 0.00437636761487965, \"type\": \"scattergeo\"}, {\"lat\": [41.979595, 44.88054694], \"line\": {\"color\": \"red\", \"width\": 1}, \"locationmode\": \"USA-states\", \"lon\": [-87.90446417, -93.2169225], \"mode\": \"lines\", \"opacity\": 0.175054704595186, \"type\": \"scattergeo\"}, {\"lat\": [32.89595056, 29.99338889], \"line\": {\"color\": \"red\", \"width\": 1}, \"locationmode\": \"USA-states\", \"lon\": [-97.0372, -90.25802778], \"mode\": \"lines\", \"opacity\": 0.3676148796498906, \"type\": \"scattergeo\"}, {\"lat\": [25.79325, 29.99338889], \"line\": {\"color\": \"red\", \"width\": 1}, \"locationmode\": \"USA-states\", \"lon\": [-80.29055556, -90.25802778], \"mode\": \"lines\", \"opacity\": 0.1838074398249453, \"type\": \"scattergeo\"}, {\"lat\": [41.979595, 29.99338889], \"line\": {\"color\": \"red\", \"width\": 1}, \"locationmode\": \"USA-states\", \"lon\": [-87.90446417, -90.25802778], \"mode\": \"lines\", \"opacity\": 0.16301969365426697, \"type\": \"scattergeo\"}, {\"lat\": [32.89595056, 34.056], \"line\": {\"color\": \"red\", \"width\": 1}, \"locationmode\": \"USA-states\", \"lon\": [-97.0372, -117.60119440000001], \"mode\": \"lines\", \"opacity\": 0.24288840262582057, \"type\": \"scattergeo\"}, {\"lat\": [38.85208333, 41.979595], \"line\": {\"color\": \"red\", \"width\": 1}, \"locationmode\": \"USA-states\", \"lon\": [-77.03772222, -87.90446417], \"mode\": \"lines\", \"opacity\": 0.3544857768052516, \"type\": \"scattergeo\"}, {\"lat\": [40.69249722, 41.979595], \"line\": {\"color\": \"red\", \"width\": 1}, \"locationmode\": \"USA-states\", \"lon\": [-74.16866056, -87.90446417], \"mode\": \"lines\", \"opacity\": 0.1838074398249453, \"type\": \"scattergeo\"}, {\"lat\": [26.07258333, 41.979595], \"line\": {\"color\": \"red\", \"width\": 1}, \"locationmode\": \"USA-states\", \"lon\": [-80.15275, -87.90446417], \"mode\": \"lines\", \"opacity\": 0.1838074398249453, \"type\": \"scattergeo\"}, {\"lat\": [40.48118028, 41.979595], \"line\": {\"color\": \"red\", \"width\": 1}, \"locationmode\": \"USA-states\", \"lon\": [-107.21765970000001, -87.90446417], \"mode\": \"lines\", \"opacity\": 0.0525164113785558, \"type\": \"scattergeo\"}, {\"lat\": [21.31869111, 41.979595], \"line\": {\"color\": \"red\", \"width\": 1}, \"locationmode\": \"USA-states\", \"lon\": [-157.92240719999998, -87.90446417], \"mode\": \"lines\", \"opacity\": 0.05032822757111598, \"type\": \"scattergeo\"}, {\"lat\": [43.60732417, 41.979595], \"line\": {\"color\": \"red\", \"width\": 1}, \"locationmode\": \"USA-states\", \"lon\": [-110.7377389, -87.90446417], \"mode\": \"lines\", \"opacity\": 0.061269146608315096, \"type\": \"scattergeo\"}, {\"lat\": [40.63975111, 41.979595], \"line\": {\"color\": \"red\", \"width\": 1}, \"locationmode\": \"USA-states\", \"lon\": [-73.77892556, -87.90446417], \"mode\": \"lines\", \"opacity\": 0.061269146608315096, \"type\": \"scattergeo\"}, {\"lat\": [40.77724306, 41.979595], \"line\": {\"color\": \"red\", \"width\": 1}, \"locationmode\": \"USA-states\", \"lon\": [-73.87260917, -87.90446417], \"mode\": \"lines\", \"opacity\": 0.9409190371991247, \"type\": \"scattergeo\"}, {\"lat\": [39.29760528, 41.979595], \"line\": {\"color\": \"red\", \"width\": 1}, \"locationmode\": \"USA-states\", \"lon\": [-94.71390556, -87.90446417], \"mode\": \"lines\", \"opacity\": 0.23413566739606126, \"type\": \"scattergeo\"}, {\"lat\": [28.42888889, 41.979595], \"line\": {\"color\": \"red\", \"width\": 1}, \"locationmode\": \"USA-states\", \"lon\": [-81.31602778, -87.90446417], \"mode\": \"lines\", \"opacity\": 0.24507658643326038, \"type\": \"scattergeo\"}, {\"lat\": [35.87763889, 41.979595], \"line\": {\"color\": \"red\", \"width\": 1}, \"locationmode\": \"USA-states\", \"lon\": [-78.78747222, -87.90446417], \"mode\": \"lines\", \"opacity\": 0.17067833698030635, \"type\": \"scattergeo\"}, {\"lat\": [39.49857611, 41.979595], \"line\": {\"color\": \"red\", \"width\": 1}, \"locationmode\": \"USA-states\", \"lon\": [-119.76806470000001, -87.90446417], \"mode\": \"lines\", \"opacity\": 0.061269146608315096, \"type\": \"scattergeo\"}, {\"lat\": [32.73355611, 41.979595], \"line\": {\"color\": \"red\", \"width\": 1}, \"locationmode\": \"USA-states\", \"lon\": [-117.1896567, -87.90446417], \"mode\": \"lines\", \"opacity\": 0.24507658643326038, \"type\": \"scattergeo\"}, {\"lat\": [29.53369444, 41.979595], \"line\": {\"color\": \"red\", \"width\": 1}, \"locationmode\": \"USA-states\", \"lon\": [-98.46977778, -87.90446417], \"mode\": \"lines\", \"opacity\": 0.12253829321663019, \"type\": \"scattergeo\"}, {\"lat\": [37.36186194, 41.979595], \"line\": {\"color\": \"red\", \"width\": 1}, \"locationmode\": \"USA-states\", \"lon\": [-121.92900890000001, -87.90446417], \"mode\": \"lines\", \"opacity\": 0.12253829321663019, \"type\": \"scattergeo\"}, {\"lat\": [18.43941667, 41.979595], \"line\": {\"color\": \"red\", \"width\": 1}, \"locationmode\": \"USA-states\", \"lon\": [-66.00183333, -87.90446417], \"mode\": \"lines\", \"opacity\": 0.12253829321663019, \"type\": \"scattergeo\"}, {\"lat\": [38.74768694, 41.979595], \"line\": {\"color\": \"red\", \"width\": 1}, \"locationmode\": \"USA-states\", \"lon\": [-90.35998972, -87.90446417], \"mode\": \"lines\", \"opacity\": 0.5284463894967177, \"type\": \"scattergeo\"}, {\"lat\": [36.19837222, 41.979595], \"line\": {\"color\": \"red\", \"width\": 1}, \"locationmode\": \"USA-states\", \"lon\": [-95.88824167, -87.90446417], \"mode\": \"lines\", \"opacity\": 0.061269146608315096, \"type\": \"scattergeo\"}, {\"lat\": [32.11608333, 41.979595], \"line\": {\"color\": \"red\", \"width\": 1}, \"locationmode\": \"USA-states\", \"lon\": [-110.94102779999999, -87.90446417], \"mode\": \"lines\", \"opacity\": 0.12253829321663019, \"type\": \"scattergeo\"}, {\"lat\": [32.89595056, 36.89461111], \"line\": {\"color\": \"red\", \"width\": 1}, \"locationmode\": \"USA-states\", \"lon\": [-97.0372, -76.20122222], \"mode\": \"lines\", \"opacity\": 0.12253829321663019, \"type\": \"scattergeo\"}, {\"lat\": [32.89595056, 26.68316194], \"line\": {\"color\": \"red\", \"width\": 1}, \"locationmode\": \"USA-states\", \"lon\": [-97.0372, -80.09559417], \"mode\": \"lines\", \"opacity\": 0.12253829321663019, \"type\": \"scattergeo\"}, {\"lat\": [41.979595, 26.68316194], \"line\": {\"color\": \"red\", \"width\": 1}, \"locationmode\": \"USA-states\", \"lon\": [-87.90446417, -80.09559417], \"mode\": \"lines\", \"opacity\": 0.16411378555798686, \"type\": \"scattergeo\"}, {\"lat\": [32.89595056, 45.58872222], \"line\": {\"color\": \"red\", \"width\": 1}, \"locationmode\": \"USA-states\", \"lon\": [-97.0372, -122.5975], \"mode\": \"lines\", \"opacity\": 0.24507658643326038, \"type\": \"scattergeo\"}, {\"lat\": [41.979595, 39.87195278], \"line\": {\"color\": \"red\", \"width\": 1}, \"locationmode\": \"USA-states\", \"lon\": [-87.90446417, -75.24114083], \"mode\": \"lines\", \"opacity\": 0.12035010940919037, \"type\": \"scattergeo\"}, {\"lat\": [18.43941667, 39.87195278], \"line\": {\"color\": \"red\", \"width\": 1}, \"locationmode\": \"USA-states\", \"lon\": [-66.00183333, -75.24114083], \"mode\": \"lines\", \"opacity\": 0.061269146608315096, \"type\": \"scattergeo\"}, {\"lat\": [41.979595, 33.43416667], \"line\": {\"color\": \"red\", \"width\": 1}, \"locationmode\": \"USA-states\", \"lon\": [-87.90446417, -112.00805559999999], \"mode\": \"lines\", \"opacity\": 0.3063457330415755, \"type\": \"scattergeo\"}, {\"lat\": [32.89595056, 40.49146583], \"line\": {\"color\": \"red\", \"width\": 1}, \"locationmode\": \"USA-states\", \"lon\": [-97.0372, -80.23287083], \"mode\": \"lines\", \"opacity\": 0.18599562363238512, \"type\": \"scattergeo\"}, {\"lat\": [32.89595056, 33.82921556], \"line\": {\"color\": \"red\", \"width\": 1}, \"locationmode\": \"USA-states\", \"lon\": [-97.0372, -116.5062531], \"mode\": \"lines\", \"opacity\": 0.1838074398249453, \"type\": \"scattergeo\"}, {\"lat\": [41.979595, 33.82921556], \"line\": {\"color\": \"red\", \"width\": 1}, \"locationmode\": \"USA-states\", \"lon\": [-87.90446417, -116.5062531], \"mode\": \"lines\", \"opacity\": 0.0700218818380744, \"type\": \"scattergeo\"}, {\"lat\": [32.89595056, 35.87763889], \"line\": {\"color\": \"red\", \"width\": 1}, \"locationmode\": \"USA-states\", \"lon\": [-97.0372, -78.78747222], \"mode\": \"lines\", \"opacity\": 0.3041575492341357, \"type\": \"scattergeo\"}, {\"lat\": [25.79325, 35.87763889], \"line\": {\"color\": \"red\", \"width\": 1}, \"locationmode\": \"USA-states\", \"lon\": [-80.29055556, -78.78747222], \"mode\": \"lines\", \"opacity\": 0.1838074398249453, \"type\": \"scattergeo\"}, {\"lat\": [32.89595056, 26.53616667], \"line\": {\"color\": \"red\", \"width\": 1}, \"locationmode\": \"USA-states\", \"lon\": [-97.0372, -81.75516667], \"mode\": \"lines\", \"opacity\": 0.1838074398249453, \"type\": \"scattergeo\"}, {\"lat\": [41.979595, 26.53616667], \"line\": {\"color\": \"red\", \"width\": 1}, \"locationmode\": \"USA-states\", \"lon\": [-87.90446417, -81.75516667], \"mode\": \"lines\", \"opacity\": 0.1838074398249453, \"type\": \"scattergeo\"}, {\"lat\": [40.63975111, 32.73355611], \"line\": {\"color\": \"red\", \"width\": 1}, \"locationmode\": \"USA-states\", \"lon\": [-73.77892556, -117.1896567], \"mode\": \"lines\", \"opacity\": 0.061269146608315096, \"type\": \"scattergeo\"}, {\"lat\": [32.89595056, 47.44898194], \"line\": {\"color\": \"red\", \"width\": 1}, \"locationmode\": \"USA-states\", \"lon\": [-97.0372, -122.30931310000001], \"mode\": \"lines\", \"opacity\": 0.4288840262582057, \"type\": \"scattergeo\"}, {\"lat\": [41.979595, 47.44898194], \"line\": {\"color\": \"red\", \"width\": 1}, \"locationmode\": \"USA-states\", \"lon\": [-87.90446417, -122.30931310000001], \"mode\": \"lines\", \"opacity\": 0.23413566739606126, \"type\": \"scattergeo\"}, {\"lat\": [21.31869111, 37.61900194], \"line\": {\"color\": \"red\", \"width\": 1}, \"locationmode\": \"USA-states\", \"lon\": [-157.92240719999998, -122.3748433], \"mode\": \"lines\", \"opacity\": 0.061269146608315096, \"type\": \"scattergeo\"}, {\"lat\": [33.94253611, 37.61900194], \"line\": {\"color\": \"red\", \"width\": 1}, \"locationmode\": \"USA-states\", \"lon\": [-118.40807439999999, -122.3748433], \"mode\": \"lines\", \"opacity\": 0.3676148796498906, \"type\": \"scattergeo\"}, {\"lat\": [41.979595, 37.61900194], \"line\": {\"color\": \"red\", \"width\": 1}, \"locationmode\": \"USA-states\", \"lon\": [-87.90446417, -122.3748433], \"mode\": \"lines\", \"opacity\": 0.35667396061269147, \"type\": \"scattergeo\"}, {\"lat\": [32.89595056, 18.43941667], \"line\": {\"color\": \"red\", \"width\": 1}, \"locationmode\": \"USA-states\", \"lon\": [-97.0372, -66.00183333], \"mode\": \"lines\", \"opacity\": 0.13129102844638948, \"type\": \"scattergeo\"}, {\"lat\": [38.94453194, 18.43941667], \"line\": {\"color\": \"red\", \"width\": 1}, \"locationmode\": \"USA-states\", \"lon\": [-77.45580972, -66.00183333], \"mode\": \"lines\", \"opacity\": 0.061269146608315096, \"type\": \"scattergeo\"}, {\"lat\": [40.63975111, 18.43941667], \"line\": {\"color\": \"red\", \"width\": 1}, \"locationmode\": \"USA-states\", \"lon\": [-73.77892556, -66.00183333], \"mode\": \"lines\", \"opacity\": 0.1838074398249453, \"type\": \"scattergeo\"}, {\"lat\": [33.94253611, 18.43941667], \"line\": {\"color\": \"red\", \"width\": 1}, \"locationmode\": \"USA-states\", \"lon\": [-118.40807439999999, -66.00183333], \"mode\": \"lines\", \"opacity\": 0.0175054704595186, \"type\": \"scattergeo\"}, {\"lat\": [32.89595056, 38.69542167], \"line\": {\"color\": \"red\", \"width\": 1}, \"locationmode\": \"USA-states\", \"lon\": [-97.0372, -121.5907669], \"mode\": \"lines\", \"opacity\": 0.24507658643326038, \"type\": \"scattergeo\"}, {\"lat\": [32.89595056, 33.67565861], \"line\": {\"color\": \"red\", \"width\": 1}, \"locationmode\": \"USA-states\", \"lon\": [-97.0372, -117.86822250000002], \"mode\": \"lines\", \"opacity\": 0.6323851203501094, \"type\": \"scattergeo\"}, {\"lat\": [41.979595, 33.67565861], \"line\": {\"color\": \"red\", \"width\": 1}, \"locationmode\": \"USA-states\", \"lon\": [-87.90446417, -117.86822250000002], \"mode\": \"lines\", \"opacity\": 0.16630196936542668, \"type\": \"scattergeo\"}, {\"lat\": [38.85208333, 38.74768694], \"line\": {\"color\": \"red\", \"width\": 1}, \"locationmode\": \"USA-states\", \"lon\": [-77.03772222, -90.35998972], \"mode\": \"lines\", \"opacity\": 0.2188183807439825, \"type\": \"scattergeo\"}, {\"lat\": [25.79325, 38.74768694], \"line\": {\"color\": \"red\", \"width\": 1}, \"locationmode\": \"USA-states\", \"lon\": [-80.29055556, -90.35998972], \"mode\": \"lines\", \"opacity\": 0.1838074398249453, \"type\": \"scattergeo\"}, {\"lat\": [25.79325, 18.33730556], \"line\": {\"color\": \"red\", \"width\": 1}, \"locationmode\": \"USA-states\", \"lon\": [-80.29055556, -64.97336111], \"mode\": \"lines\", \"opacity\": 0.12253829321663019, \"type\": \"scattergeo\"}, {\"lat\": [25.79325, 17.70188889], \"line\": {\"color\": \"red\", \"width\": 1}, \"locationmode\": \"USA-states\", \"lon\": [-80.29055556, -64.79855556], \"mode\": \"lines\", \"opacity\": 0.06783369803063458, \"type\": \"scattergeo\"}, {\"lat\": [32.89595056, 27.97547222], \"line\": {\"color\": \"red\", \"width\": 1}, \"locationmode\": \"USA-states\", \"lon\": [-97.0372, -82.53325], \"mode\": \"lines\", \"opacity\": 0.4288840262582057, \"type\": \"scattergeo\"}, {\"lat\": [25.79325, 27.97547222], \"line\": {\"color\": \"red\", \"width\": 1}, \"locationmode\": \"USA-states\", \"lon\": [-80.29055556, -82.53325], \"mode\": \"lines\", \"opacity\": 0.32603938730853393, \"type\": \"scattergeo\"}, {\"lat\": [41.979595, 27.97547222], \"line\": {\"color\": \"red\", \"width\": 1}, \"locationmode\": \"USA-states\", \"lon\": [-87.90446417, -82.53325], \"mode\": \"lines\", \"opacity\": 0.16411378555798686, \"type\": \"scattergeo\"}, {\"lat\": [18.43941667, 27.97547222], \"line\": {\"color\": \"red\", \"width\": 1}, \"locationmode\": \"USA-states\", \"lon\": [-66.00183333, -82.53325], \"mode\": \"lines\", \"opacity\": 0.061269146608315096, \"type\": \"scattergeo\"}, {\"lat\": [32.89595056, 36.19837222], \"line\": {\"color\": \"red\", \"width\": 1}, \"locationmode\": \"USA-states\", \"lon\": [-97.0372, -95.88824167], \"mode\": \"lines\", \"opacity\": 0.42669584245076586, \"type\": \"scattergeo\"}, {\"lat\": [32.89595056, 32.11608333], \"line\": {\"color\": \"red\", \"width\": 1}, \"locationmode\": \"USA-states\", \"lon\": [-97.0372, -110.94102779999999], \"mode\": \"lines\", \"opacity\": 0.45842450765864334, \"type\": \"scattergeo\"}, {\"hoverinfo\": \"text\", \"lat\": [41.979595, 33.64044444, 32.89595056, 33.43416667, 39.85840806, 29.98047222, 37.61900194, 33.94253611, 28.42888889, 35.21401111, 40.78838778, 27.97547222, 40.69249722, 36.08036111, 39.87195278, 44.88054694, 47.44898194, 40.77724306, 41.7859825, 38.94453194, 32.73355611, 38.74768694, 42.21205889, 40.63975111, 25.79325, 42.3643475, 38.69542167, 39.17540167, 33.67565861, 29.99338889, 37.36186194, 38.85208333, 45.58872222, 26.53616667, 26.68316194, 35.87763889, 29.64541861, 29.53369444, 26.07258333, 39.29760528, 37.72129083, 40.49146583, 35.04241667, 42.94722222, 41.41089417, 30.49405556, 32.11608333, 39.71732917, 39.49857611, 35.39308833, 41.72399917, 36.19837222, 39.04614278, 39.99798528, 38.17438889, 34.056, 34.72939611, 32.84711389, 41.30251861, 36.89461111, 39.90237583, 43.11886611, 36.28186944, 36.12447667, 35.04022222, 32.31116667, 31.80666667, 37.50516667, 41.93887417, 31.94252778, 30.53316083, 35.81248722, 38.80580556, 30.47330556, 43.11118694, 33.56294306, 42.93451639, 33.82921556, 27.39533333, 27.77036083, 34.6404475, 33.93884, 30.20527972, 34.42621194, 47.61985556, 30.69141667, 37.64995889, 42.94052472, 41.53493306, 40.19349528, 43.64616667, 32.30064417, 37.13189556, 41.06695778, 36.5869825, 42.88081972, 30.448674, 32.65658333, 39.22316, 30.39652778, 30.40728028, 44.04532139, 33.81772222, 34.27061111, 38.03697222, 43.13985778, 44.123259999999995, 32.12758333, 33.66363889, 41.88458833, 34.89566722, 36.09774694, 40.7952425, 41.44852639, 35.43619444, 40.91631194, 40.47798556, 26.22850611, 30.48325, 32.446627500000005, 46.91934889, 40.48118028, 42.37422778, 40.66424333, 27.54373861, 30.19453278, 32.41132, 37.24432611, 42.96550333, 36.47521417, 31.06489778, 32.89864639, 44.48507333, 44.25406722, 32.51633333, 41.70895361, 43.56444444, 33.67975, 48.25937778, 40.03925, 37.32546833, 39.64256778, 43.60732417, 45.77690139, 39.1224125, 34.20061917, 38.03799139, 38.53396333, 43.51455556, 36.77619444, 39.84395194, 26.17583333, 40.50898361, 47.949255, 43.58135111, 42.48180389, 34.89924833, 42.91130556, 31.32133917, 34.82916444, 38.50886722, 46.77411111, 42.90835556, 44.74144472, 32.51086556, 46.26468028, 39.14096722, 31.32737167, 43.41713889, 35.61677778, 42.15614361, 41.50409361, 38.13863889, 30.7825, 44.77761917, 35.65884306, 40.97811528, 31.25902778, 40.85097222, 40.97846583, 44.52019417, 37.06083333, 35.23705806, 41.33814944, 33.45033444, 44.34889806, 35.07297222, 33.369955, 35.33659028, 32.35413889, 46.60681806, 47.48200194, 32.33313333, 46.353639, 37.95375861, 35.03526833, 46.37449806, 37.70097028, 42.74811944, 44.47300361, 48.31140472, 28.10275, 29.17991667, 40.65236278, 46.84209028, 41.155722499999996, 41.5942175, 37.85830556, 38.37315083, 48.79275, 37.62404861, 44.25740806, 36.385913, 27.91076333, 33.98879611, 34.99147222, 44.86525722, 42.40295944, 43.90882639, 34.681499, 45.8076625], \"locationmode\": \"USA-states\", \"lon\": [-87.90446417, -84.42694444, -97.0372, -112.00805559999999, -104.6670019, -95.33972222, -122.3748433, -118.40807439999999, -81.31602778, -80.94312583, -111.9777731, -82.53325, -74.16866056, -115.15233329999998, -75.24114083, -93.2169225, -122.30931310000001, -73.87260917, -87.75242444, -77.45580972, -117.1896567, -90.35998972, -83.34883583, -73.77892556, -80.29055556, -71.00517917, -121.5907669, -76.66819833, -117.86822250000002, -90.25802778, -121.92900890000001, -77.03772222, -122.5975, -81.75516667, -80.09559417, -78.78747222, -95.27888889, -98.46977778, -80.15275, -94.71390556, -122.22071670000001, -80.23287083, -89.97666667, -87.89658333, -81.84939667, -81.68786111, -110.94102779999999, -86.29438417, -119.76806470000001, -97.60073389, -71.42822111, -95.88824167, -84.6621725, -82.89188278, -85.736, -117.60119440000001, -92.22424556, -96.85177222, -95.89417306, -76.20122222, -84.219375, -77.67238389, -94.30681111, -86.67818222, -106.6091944, -90.07588889, -106.37780559999999, -77.31966667, -72.68322833, -102.20191390000001, -91.14963444, -83.99285583, -104.70025, -87.18744444, -76.10631056, -86.75354972, -71.43705583, -116.5062531, -82.55411111, -97.50121528, -86.77310944, -81.11953944, -91.987655, -119.8403733, -117.5338425, -88.24283333, -97.43304583, -78.73216667, -93.66068222, -76.76340361, -70.30875, -86.39397611, -76.4929875, -73.70757444, -121.84294779999999, -85.52276778, -84.550781, -114.60597220000001, -106.868845, -84.35033333, -89.07009278, -103.0573708, -118.1516111, -77.90255556, -84.60538889, -89.33751361, -123.21868559999999, -81.20213889, -101.8227778, -91.71087222, -82.21885833, -79.9372975, -73.10021194, -90.50753917, -82.54180556, -81.44246556, -88.91595278, -97.65439389, -86.5254, -93.82559833, -96.81498889, -107.21765970000001, -122.8734978, -89.69330556, -99.46154361, -97.66987194, -99.68189722, -93.38685806, -83.74345639, -82.40742056, -97.82779778, -80.04050583, -88.12959000000001, -121.1499633, -84.93886111, -86.31847417, -116.22277779999999, -78.92833333, -101.2803339, -88.27805556, -79.97542833, -106.91769529999999, -110.7377389, -111.15300719999999, -108.5267347, -118.3584969, -87.53062667, -106.9331817, -112.07016670000002, -119.7181389, -89.67761861, -98.23861111, -122.2934019, -97.17611111, -96.74170028, -114.4877356, -120.4575825, -112.59586110000001, -85.44962889, -77.61213778, -107.89383329999998, -100.74672220000001, -106.46446609999998, -85.582235, -92.03768778, -119.11902920000001, -96.67083278, -92.54855611, -124.2460278, -106.08813889999999, -121.7332081, -74.10483833, -78.45286111, -83.27672222, -89.66677944, -117.8295122, -124.1086189, -81.46630556, -96.75925, -85.19514639, -109.02379609999998, -88.77375, -120.64239309999999, -75.72426750000001, -88.59136861, -105.5393614, -77.04294444, -81.96449611, -94.36744111, -95.40238611, -111.9827503, -111.37068529999999, -88.75120556, -87.395361, -107.90848000000001, -85.20378778, -117.01539440000002, -113.098575, -73.80297861, -73.1503125, -114.25506940000001, -80.64580556, -81.05805556, -75.44040167, -92.19364861, -104.81183809999999, -109.0651928, -80.39947222, -81.59318972, -122.53752779999999, -118.8377722, -88.51947556, -92.548828, -82.68743944, -98.49189333, -78.88, -91.48507194, -90.70916722, -92.49798722, -90.348816, -108.54286110000001], \"marker\": {\"color\": \"rgb(255, 0, 0)\", \"line\": {\"color\": \"rgba(68, 68, 68, 0)\", \"width\": 3}, \"size\": 2}, \"mode\": \"markers\", \"text\": [\"Chicago O'Hare International\", \"William B Hartsfield-Atlanta Intl\", \"Dallas-Fort Worth International\", \"Phoenix Sky Harbor International\", \"Denver Intl\", \"George Bush Intercontinental\", \"San Francisco International\", \"Los Angeles International\", \"Orlando International\", \"Charlotte/Douglas International\", \"Salt Lake City Intl\", \"Tampa International \", \"Newark Intl\", \"McCarran International\", \"Philadelphia Intl\", \"Minneapolis-St Paul Intl\", \"Seattle-Tacoma Intl\", \"LaGuardia\", \"Chicago Midway\", \"Washington Dulles International\", \"San Diego International-Lindbergh \", \"Lambert-St Louis International\", \"Detroit Metropolitan-Wayne County\", \"John F Kennedy Intl\", \"Miami International\", \"Gen Edw L Logan Intl\", \"Sacramento International\", \"Baltimore-Washington International\", \"John Wayne /Orange Co\", \"New Orleans International \", \"San Jose International\", \"Ronald Reagan Washington National\", \"Portland Intl\", \"Southwest Florida International\", \"Palm Beach International\", \"Raleigh-Durham International\", \"William P Hobby\", \"San Antonio International\", \"Fort Lauderdale-Hollywood Int'l\", \"Kansas City International\", \"Metropolitan Oakland International\", \"Pittsburgh International\", \"Memphis International\", \"General Mitchell International\", \"Cleveland-Hopkins Intl\", \"Jacksonville International\", \"Tucson International\", \"Indianapolis International\", \"Reno/Tahoe International\", \"Will Rogers World\", \"Theodore F Green State\", \"Tulsa International\", \"Cincinnati Northern Kentucky Intl\", \"Port Columbus Intl\", \"Louisville International-Standiford \", \"Ontario International\", \"Adams \", \"Dallas Love \", \"Eppley Airfield\", \"Norfolk International\", \"James M Cox Dayton Intl\", \"Greater Rochester Int'l\", \"Northwest Arkansas Regional\", \"Nashville International\", \"Albuquerque International\", \"Jackson International\", \"El Paso International\", \"Richmond International\", \"Bradley International\", \"Midland International\", \"Baton Rouge Metropolitan, Ryan \", \"McGhee-Tyson\", \"City of Colorado Springs Muni\", \"Pensacola Regional\", \"Syracuse-Hancock Intl\", \"Birmingham International\", \"Manchester\", \"Palm Springs International\", \"Sarasota Bradenton International\", \"Corpus Christi International\", \"Huntsville International \", \"Columbia Metropolitan\", \"Lafayette Regional\", \"Santa Barbara Municipal\", \"Spokane Intl\", \"Mobile Regional\", \"Wichita Mid-Continent\", \"Buffalo Niagara Intl\", \"Des Moines International\", \"Harrisburg Intl\", \"Portland International Jetport\", \"Montgomery Regional Apt\", \"Newport News/Williamsburg International\", \"Westchester Cty\", \"Monterey Peninsula\", \"Kent County International\", \"Florida Beach\", \"Yuma MCAS-Yuma International\", \"Aspen-Pitkin Co/Sardy \", \"Tallahassee Regional\", \"Gulfport-Biloxi Regional\", \"Rapid City Regional\", \"Long Beach (Daugherty )\", \"Wilmington International\", \"Blue Grass \", \"Dane County Regional\", \"Mahlon Sweet \", \"Savannah International\", \"Lubbock International\", \"Eastern Iowa \", \"Greenville-Spartanburg\", \"Piedmont Triad International\", \"Long Island - MacArthur\", \"Quad City\", \"Asheville Regional\", \"Akron-Canton Regional\", \"Central Illinois Regional\", \"Valley International\", \"Eglin Air Force Base\", \"Shreveport Regional\", \"Hector International\", \"Yampa Valley\", \"Rogue Valley International\", \"Greater Peoria Regional\", \"Laredo International\", \"Austin-Bergstrom International\", \"Abilene Regional\", \"Springfield-Branson Regional\", \"Bishop\", \"Tri-Cities Regional\", \"Robert Gray AAF\", \"Charleston AFB/International\", \"Austin Straubel International\", \"Roberts \", \"Columbus Metropolitan\", \"South Bend Regional\", \"Boise Air Terminal\", \"Myrtle Beach International\", \"Minot International\", \"University of Illinois-Willard\", \"Roanoke Regional/ Woodrum \", \"Eagle County Regional\", \"Jackson Hole\", \"Gallatin \", \"Walker \", \"Burbank-Glendale-Pasadena\", \"Evansville Regional\", \"Gunnison County\", \"Idaho Falls Regional\", \"Fresno Yosemite International\", \"Capital\", \"McAllen Miller International\", \"Redding Municipal\", \"Grand Forks International\", \"Joe Foss \", \"Joslin Field - Magic Valley\", \"Santa Maria Pub/Capt G Allan Hancock \", \"Pocatello Regional\", \"Dothan \", \"Albert J Ellis\", \"Montrose Regional\", \"Bismarck Municipal\", \"Natrona County Intl\", \"Cherry Capital\", \"Monroe Regional\", \"Tri-Cities\", \"Manhattan Regional\", \"Alexandria International\", \"North Bend Muni\", \"Santa Fe Municipal\", \"Klamath Falls International\", \"Stewart\", \"Charlottesville-Albermarle\", \"Valdosta Regional\", \"Central Wisconsin\", \"Inyokern\", \"Arcata\", \"Glynco Jetport\", \"Lincoln Municipal\", \"Fort Wayne International\", \"Yellowstone Regional\", \"Barkley Regional\", \"San Luis Obispo Co-McChesney \", \"Wilkes-Barre/Scranton Intl\", \"Golden Triangle Regional\", \"Gillette-Campbell County\", \"Craven County Regional\", \"Bush \", \"Fort Smith Regional\", \"Tyler Pounds \", \"Helena Regional\", \"Great Falls Intl\", \"Key \", \"Marquette County Airport\", \"Telluride Regional\", \"Lovell \", \"Lewiston-Nez Perce County\", \"Cedar City Muni\", \"Albany Cty\", \"Burlington International\", \"Glacier Park Intl\", \"Melbourne International \", \"Daytona Beach International\", \"Lehigh Valley International\", \"Duluth International\", \"Cheyenne\", \"Rock Springs-Sweetwater County\", \"Greenbrier Valley\", \"Yeager\", \"Bellingham Intl\", \"Mammoth Yosemite\", \"Outagamie County Regional\", \"Branson Airport\", \"St. Petersburg-Clearwater International\", \"Sheppard AFB/Wichita Falls Municipal\", \"Fayetteville Municipal\", \"Chippewa Valley Regional\", \"Dubuque Municipal\", \"Rochester International\", \"Tunica Municipal Airport\", \"Billings Logan Intl\"], \"type\": \"scattergeo\"}],                        {\"geo\": {\"countrycolor\": \"rgb(204, 204, 204)\", \"landcolor\": \"rgb(243, 243, 243)\", \"projection\": {\"type\": \"azimuthal equal area\"}, \"scope\": \"north america\", \"showland\": true}, \"height\": 800, \"showlegend\": false, \"template\": {\"data\": {\"bar\": [{\"error_x\": {\"color\": \"#2a3f5f\"}, \"error_y\": {\"color\": \"#2a3f5f\"}, \"marker\": {\"line\": {\"color\": \"#E5ECF6\", \"width\": 0.5}}, \"type\": \"bar\"}], \"barpolar\": [{\"marker\": {\"line\": {\"color\": \"#E5ECF6\", \"width\": 0.5}}, \"type\": \"barpolar\"}], \"carpet\": [{\"aaxis\": {\"endlinecolor\": \"#2a3f5f\", \"gridcolor\": \"white\", \"linecolor\": \"white\", \"minorgridcolor\": \"white\", \"startlinecolor\": \"#2a3f5f\"}, \"baxis\": {\"endlinecolor\": \"#2a3f5f\", \"gridcolor\": \"white\", \"linecolor\": \"white\", \"minorgridcolor\": \"white\", \"startlinecolor\": \"#2a3f5f\"}, \"type\": \"carpet\"}], \"choropleth\": [{\"colorbar\": {\"outlinewidth\": 0, \"ticks\": \"\"}, \"type\": \"choropleth\"}], \"contour\": [{\"colorbar\": {\"outlinewidth\": 0, \"ticks\": \"\"}, \"colorscale\": [[0.0, \"#0d0887\"], [0.1111111111111111, \"#46039f\"], [0.2222222222222222, \"#7201a8\"], [0.3333333333333333, \"#9c179e\"], [0.4444444444444444, \"#bd3786\"], [0.5555555555555556, \"#d8576b\"], [0.6666666666666666, \"#ed7953\"], [0.7777777777777778, \"#fb9f3a\"], [0.8888888888888888, \"#fdca26\"], [1.0, \"#f0f921\"]], \"type\": \"contour\"}], \"contourcarpet\": [{\"colorbar\": {\"outlinewidth\": 0, \"ticks\": \"\"}, \"type\": \"contourcarpet\"}], \"heatmap\": [{\"colorbar\": {\"outlinewidth\": 0, \"ticks\": \"\"}, \"colorscale\": [[0.0, \"#0d0887\"], [0.1111111111111111, \"#46039f\"], [0.2222222222222222, \"#7201a8\"], [0.3333333333333333, \"#9c179e\"], [0.4444444444444444, \"#bd3786\"], [0.5555555555555556, \"#d8576b\"], [0.6666666666666666, \"#ed7953\"], [0.7777777777777778, \"#fb9f3a\"], [0.8888888888888888, \"#fdca26\"], [1.0, \"#f0f921\"]], \"type\": \"heatmap\"}], \"heatmapgl\": [{\"colorbar\": {\"outlinewidth\": 0, \"ticks\": \"\"}, \"colorscale\": [[0.0, \"#0d0887\"], [0.1111111111111111, \"#46039f\"], [0.2222222222222222, \"#7201a8\"], [0.3333333333333333, \"#9c179e\"], [0.4444444444444444, \"#bd3786\"], [0.5555555555555556, \"#d8576b\"], [0.6666666666666666, \"#ed7953\"], [0.7777777777777778, \"#fb9f3a\"], [0.8888888888888888, \"#fdca26\"], [1.0, \"#f0f921\"]], \"type\": \"heatmapgl\"}], \"histogram\": [{\"marker\": {\"colorbar\": {\"outlinewidth\": 0, \"ticks\": \"\"}}, \"type\": \"histogram\"}], \"histogram2d\": [{\"colorbar\": {\"outlinewidth\": 0, \"ticks\": \"\"}, \"colorscale\": [[0.0, \"#0d0887\"], [0.1111111111111111, \"#46039f\"], [0.2222222222222222, \"#7201a8\"], [0.3333333333333333, \"#9c179e\"], [0.4444444444444444, \"#bd3786\"], [0.5555555555555556, \"#d8576b\"], [0.6666666666666666, \"#ed7953\"], [0.7777777777777778, \"#fb9f3a\"], [0.8888888888888888, \"#fdca26\"], [1.0, \"#f0f921\"]], \"type\": \"histogram2d\"}], \"histogram2dcontour\": [{\"colorbar\": {\"outlinewidth\": 0, \"ticks\": \"\"}, \"colorscale\": [[0.0, \"#0d0887\"], [0.1111111111111111, \"#46039f\"], [0.2222222222222222, \"#7201a8\"], [0.3333333333333333, \"#9c179e\"], [0.4444444444444444, \"#bd3786\"], [0.5555555555555556, \"#d8576b\"], [0.6666666666666666, \"#ed7953\"], [0.7777777777777778, \"#fb9f3a\"], [0.8888888888888888, \"#fdca26\"], [1.0, \"#f0f921\"]], \"type\": \"histogram2dcontour\"}], \"mesh3d\": [{\"colorbar\": {\"outlinewidth\": 0, \"ticks\": \"\"}, \"type\": \"mesh3d\"}], \"parcoords\": [{\"line\": {\"colorbar\": {\"outlinewidth\": 0, \"ticks\": \"\"}}, \"type\": \"parcoords\"}], \"pie\": [{\"automargin\": true, \"type\": \"pie\"}], \"scatter\": [{\"marker\": {\"colorbar\": {\"outlinewidth\": 0, \"ticks\": \"\"}}, \"type\": \"scatter\"}], \"scatter3d\": [{\"line\": {\"colorbar\": {\"outlinewidth\": 0, \"ticks\": \"\"}}, \"marker\": {\"colorbar\": {\"outlinewidth\": 0, \"ticks\": \"\"}}, \"type\": \"scatter3d\"}], \"scattercarpet\": [{\"marker\": {\"colorbar\": {\"outlinewidth\": 0, \"ticks\": \"\"}}, \"type\": \"scattercarpet\"}], \"scattergeo\": [{\"marker\": {\"colorbar\": {\"outlinewidth\": 0, \"ticks\": \"\"}}, \"type\": \"scattergeo\"}], \"scattergl\": [{\"marker\": {\"colorbar\": {\"outlinewidth\": 0, \"ticks\": \"\"}}, \"type\": \"scattergl\"}], \"scattermapbox\": [{\"marker\": {\"colorbar\": {\"outlinewidth\": 0, \"ticks\": \"\"}}, \"type\": \"scattermapbox\"}], \"scatterpolar\": [{\"marker\": {\"colorbar\": {\"outlinewidth\": 0, \"ticks\": \"\"}}, \"type\": \"scatterpolar\"}], \"scatterpolargl\": [{\"marker\": {\"colorbar\": {\"outlinewidth\": 0, \"ticks\": \"\"}}, \"type\": \"scatterpolargl\"}], \"scatterternary\": [{\"marker\": {\"colorbar\": {\"outlinewidth\": 0, \"ticks\": \"\"}}, \"type\": \"scatterternary\"}], \"surface\": [{\"colorbar\": {\"outlinewidth\": 0, \"ticks\": \"\"}, \"colorscale\": [[0.0, \"#0d0887\"], [0.1111111111111111, \"#46039f\"], [0.2222222222222222, \"#7201a8\"], [0.3333333333333333, \"#9c179e\"], [0.4444444444444444, \"#bd3786\"], [0.5555555555555556, \"#d8576b\"], [0.6666666666666666, \"#ed7953\"], [0.7777777777777778, \"#fb9f3a\"], [0.8888888888888888, \"#fdca26\"], [1.0, \"#f0f921\"]], \"type\": \"surface\"}], \"table\": [{\"cells\": {\"fill\": {\"color\": \"#EBF0F8\"}, \"line\": {\"color\": \"white\"}}, \"header\": {\"fill\": {\"color\": \"#C8D4E3\"}, \"line\": {\"color\": \"white\"}}, \"type\": \"table\"}]}, \"layout\": {\"annotationdefaults\": {\"arrowcolor\": \"#2a3f5f\", \"arrowhead\": 0, \"arrowwidth\": 1}, \"autotypenumbers\": \"strict\", \"coloraxis\": {\"colorbar\": {\"outlinewidth\": 0, \"ticks\": \"\"}}, \"colorscale\": {\"diverging\": [[0, \"#8e0152\"], [0.1, \"#c51b7d\"], [0.2, \"#de77ae\"], [0.3, \"#f1b6da\"], [0.4, \"#fde0ef\"], [0.5, \"#f7f7f7\"], [0.6, \"#e6f5d0\"], [0.7, \"#b8e186\"], [0.8, \"#7fbc41\"], [0.9, \"#4d9221\"], [1, \"#276419\"]], \"sequential\": [[0.0, \"#0d0887\"], [0.1111111111111111, \"#46039f\"], [0.2222222222222222, \"#7201a8\"], [0.3333333333333333, \"#9c179e\"], [0.4444444444444444, \"#bd3786\"], [0.5555555555555556, \"#d8576b\"], [0.6666666666666666, \"#ed7953\"], [0.7777777777777778, \"#fb9f3a\"], [0.8888888888888888, \"#fdca26\"], [1.0, \"#f0f921\"]], \"sequentialminus\": [[0.0, \"#0d0887\"], [0.1111111111111111, \"#46039f\"], [0.2222222222222222, \"#7201a8\"], [0.3333333333333333, \"#9c179e\"], [0.4444444444444444, \"#bd3786\"], [0.5555555555555556, \"#d8576b\"], [0.6666666666666666, \"#ed7953\"], [0.7777777777777778, \"#fb9f3a\"], [0.8888888888888888, \"#fdca26\"], [1.0, \"#f0f921\"]]}, \"colorway\": [\"#636efa\", \"#EF553B\", \"#00cc96\", \"#ab63fa\", \"#FFA15A\", \"#19d3f3\", \"#FF6692\", \"#B6E880\", \"#FF97FF\", \"#FECB52\"], \"font\": {\"color\": \"#2a3f5f\"}, \"geo\": {\"bgcolor\": \"white\", \"lakecolor\": \"white\", \"landcolor\": \"#E5ECF6\", \"showlakes\": true, \"showland\": true, \"subunitcolor\": \"white\"}, \"hoverlabel\": {\"align\": \"left\"}, \"hovermode\": \"closest\", \"mapbox\": {\"style\": \"light\"}, \"paper_bgcolor\": \"white\", \"plot_bgcolor\": \"#E5ECF6\", \"polar\": {\"angularaxis\": {\"gridcolor\": \"white\", \"linecolor\": \"white\", \"ticks\": \"\"}, \"bgcolor\": \"#E5ECF6\", \"radialaxis\": {\"gridcolor\": \"white\", \"linecolor\": \"white\", \"ticks\": \"\"}}, \"scene\": {\"xaxis\": {\"backgroundcolor\": \"#E5ECF6\", \"gridcolor\": \"white\", \"gridwidth\": 2, \"linecolor\": \"white\", \"showbackground\": true, \"ticks\": \"\", \"zerolinecolor\": \"white\"}, \"yaxis\": {\"backgroundcolor\": \"#E5ECF6\", \"gridcolor\": \"white\", \"gridwidth\": 2, \"linecolor\": \"white\", \"showbackground\": true, \"ticks\": \"\", \"zerolinecolor\": \"white\"}, \"zaxis\": {\"backgroundcolor\": \"#E5ECF6\", \"gridcolor\": \"white\", \"gridwidth\": 2, \"linecolor\": \"white\", \"showbackground\": true, \"ticks\": \"\", \"zerolinecolor\": \"white\"}}, \"shapedefaults\": {\"line\": {\"color\": \"#2a3f5f\"}}, \"ternary\": {\"aaxis\": {\"gridcolor\": \"white\", \"linecolor\": \"white\", \"ticks\": \"\"}, \"baxis\": {\"gridcolor\": \"white\", \"linecolor\": \"white\", \"ticks\": \"\"}, \"bgcolor\": \"#E5ECF6\", \"caxis\": {\"gridcolor\": \"white\", \"linecolor\": \"white\", \"ticks\": \"\"}}, \"title\": {\"x\": 0.05}, \"xaxis\": {\"automargin\": true, \"gridcolor\": \"white\", \"linecolor\": \"white\", \"ticks\": \"\", \"title\": {\"standoff\": 15}, \"zerolinecolor\": \"white\", \"zerolinewidth\": 2}, \"yaxis\": {\"automargin\": true, \"gridcolor\": \"white\", \"linecolor\": \"white\", \"ticks\": \"\", \"title\": {\"standoff\": 15}, \"zerolinecolor\": \"white\", \"zerolinewidth\": 2}}}, \"title\": {\"text\": \"Feb. 2011 American Airline flight paths<br>(Hover for airport names)\"}},                        {\"responsive\": true}                    ).then(function(){\n                            \nvar gd = document.getElementById('25daa9f9-1450-44a5-b912-ba3a4043df4d');\nvar x = new MutationObserver(function (mutations, observer) {{\n        var display = window.getComputedStyle(gd).display;\n        if (!display || display === 'none') {{\n            console.log([gd, 'removed!']);\n            Plotly.purge(gd);\n            observer.disconnect();\n        }}\n}});\n\n// Listen for the removal of the full notebook cells\nvar notebookContainer = gd.closest('#notebook-container');\nif (notebookContainer) {{\n    x.observe(notebookContainer, {childList: true});\n}}\n\n// Listen for the clearing of the current output cell\nvar outputEl = gd.closest('.output');\nif (outputEl) {{\n    x.observe(outputEl, {childList: true});\n}}\n\n                        })                };                });            </script>        </div>"
     },
     "metadata": {}
    }
   ],
   "source": [
    "df_airports = pd.read_csv('https://raw.githubusercontent.com/plotly/datasets/master/2011_february_us_airport_traffic.csv')\n",
    "df_airports.head()\n",
    "\n",
    "df_flight_paths = pd.read_csv('https://raw.githubusercontent.com/plotly/datasets/master/2011_february_aa_flight_paths.csv')\n",
    "df_flight_paths.head()\n",
    "\n",
    "airports = [ dict(\n",
    "        type = 'scattergeo',\n",
    "        locationmode = 'USA-states',\n",
    "        lon = df_airports['long'],\n",
    "        lat = df_airports['lat'],\n",
    "        hoverinfo = 'text',\n",
    "        text = df_airports['airport'],\n",
    "        mode = 'markers',\n",
    "        marker = dict( \n",
    "            size=2, \n",
    "            color='rgb(255, 0, 0)',\n",
    "            line = dict(\n",
    "                width=3,\n",
    "                color='rgba(68, 68, 68, 0)'\n",
    "            )\n",
    "        ))]\n",
    "        \n",
    "flight_paths = []\n",
    "for i in range( len( df_flight_paths ) ):\n",
    "    flight_paths.append(\n",
    "        dict(\n",
    "            type = 'scattergeo',\n",
    "            locationmode = 'USA-states',\n",
    "            lon = [ df_flight_paths['start_lon'][i], df_flight_paths['end_lon'][i] ],\n",
    "            lat = [ df_flight_paths['start_lat'][i], df_flight_paths['end_lat'][i] ],\n",
    "            mode = 'lines',\n",
    "            line = dict(\n",
    "                width = 1,\n",
    "                color = 'red',\n",
    "            ),\n",
    "            opacity = float(df_flight_paths['cnt'][i])/float(df_flight_paths['cnt'].max()),\n",
    "        )\n",
    "    )\n",
    "    \n",
    "layout = dict(\n",
    "        title = 'Feb. 2011 American Airline flight paths<br>(Hover for airport names)',\n",
    "        showlegend = False, \n",
    "        height = 800,\n",
    "        geo = dict(\n",
    "            scope='north america',\n",
    "            projection=dict( type='azimuthal equal area' ),\n",
    "            showland = True,\n",
    "            landcolor = 'rgb(243, 243, 243)',\n",
    "            countrycolor = 'rgb(204, 204, 204)',\n",
    "        ),\n",
    "    )\n",
    "    \n",
    "fig = dict( data=flight_paths + airports, layout=layout )\n",
    "\n",
    "iplot(fig)"
   ]
  },
  {
   "cell_type": "code",
   "execution_count": 7,
   "metadata": {},
   "outputs": [
    {
     "output_type": "display_data",
     "data": {
      "application/vnd.plotly.v1+json": {
       "config": {
        "plotlyServerURL": "https://plot.ly"
       },
       "data": [
        {
         "type": "bar",
         "y": [
          2,
          1,
          3
         ]
        }
       ],
       "layout": {
        "template": {
         "data": {
          "bar": [
           {
            "error_x": {
             "color": "#2a3f5f"
            },
            "error_y": {
             "color": "#2a3f5f"
            },
            "marker": {
             "line": {
              "color": "#E5ECF6",
              "width": 0.5
             }
            },
            "type": "bar"
           }
          ],
          "barpolar": [
           {
            "marker": {
             "line": {
              "color": "#E5ECF6",
              "width": 0.5
             }
            },
            "type": "barpolar"
           }
          ],
          "carpet": [
           {
            "aaxis": {
             "endlinecolor": "#2a3f5f",
             "gridcolor": "white",
             "linecolor": "white",
             "minorgridcolor": "white",
             "startlinecolor": "#2a3f5f"
            },
            "baxis": {
             "endlinecolor": "#2a3f5f",
             "gridcolor": "white",
             "linecolor": "white",
             "minorgridcolor": "white",
             "startlinecolor": "#2a3f5f"
            },
            "type": "carpet"
           }
          ],
          "choropleth": [
           {
            "colorbar": {
             "outlinewidth": 0,
             "ticks": ""
            },
            "type": "choropleth"
           }
          ],
          "contour": [
           {
            "colorbar": {
             "outlinewidth": 0,
             "ticks": ""
            },
            "colorscale": [
             [
              0,
              "#0d0887"
             ],
             [
              0.1111111111111111,
              "#46039f"
             ],
             [
              0.2222222222222222,
              "#7201a8"
             ],
             [
              0.3333333333333333,
              "#9c179e"
             ],
             [
              0.4444444444444444,
              "#bd3786"
             ],
             [
              0.5555555555555556,
              "#d8576b"
             ],
             [
              0.6666666666666666,
              "#ed7953"
             ],
             [
              0.7777777777777778,
              "#fb9f3a"
             ],
             [
              0.8888888888888888,
              "#fdca26"
             ],
             [
              1,
              "#f0f921"
             ]
            ],
            "type": "contour"
           }
          ],
          "contourcarpet": [
           {
            "colorbar": {
             "outlinewidth": 0,
             "ticks": ""
            },
            "type": "contourcarpet"
           }
          ],
          "heatmap": [
           {
            "colorbar": {
             "outlinewidth": 0,
             "ticks": ""
            },
            "colorscale": [
             [
              0,
              "#0d0887"
             ],
             [
              0.1111111111111111,
              "#46039f"
             ],
             [
              0.2222222222222222,
              "#7201a8"
             ],
             [
              0.3333333333333333,
              "#9c179e"
             ],
             [
              0.4444444444444444,
              "#bd3786"
             ],
             [
              0.5555555555555556,
              "#d8576b"
             ],
             [
              0.6666666666666666,
              "#ed7953"
             ],
             [
              0.7777777777777778,
              "#fb9f3a"
             ],
             [
              0.8888888888888888,
              "#fdca26"
             ],
             [
              1,
              "#f0f921"
             ]
            ],
            "type": "heatmap"
           }
          ],
          "heatmapgl": [
           {
            "colorbar": {
             "outlinewidth": 0,
             "ticks": ""
            },
            "colorscale": [
             [
              0,
              "#0d0887"
             ],
             [
              0.1111111111111111,
              "#46039f"
             ],
             [
              0.2222222222222222,
              "#7201a8"
             ],
             [
              0.3333333333333333,
              "#9c179e"
             ],
             [
              0.4444444444444444,
              "#bd3786"
             ],
             [
              0.5555555555555556,
              "#d8576b"
             ],
             [
              0.6666666666666666,
              "#ed7953"
             ],
             [
              0.7777777777777778,
              "#fb9f3a"
             ],
             [
              0.8888888888888888,
              "#fdca26"
             ],
             [
              1,
              "#f0f921"
             ]
            ],
            "type": "heatmapgl"
           }
          ],
          "histogram": [
           {
            "marker": {
             "colorbar": {
              "outlinewidth": 0,
              "ticks": ""
             }
            },
            "type": "histogram"
           }
          ],
          "histogram2d": [
           {
            "colorbar": {
             "outlinewidth": 0,
             "ticks": ""
            },
            "colorscale": [
             [
              0,
              "#0d0887"
             ],
             [
              0.1111111111111111,
              "#46039f"
             ],
             [
              0.2222222222222222,
              "#7201a8"
             ],
             [
              0.3333333333333333,
              "#9c179e"
             ],
             [
              0.4444444444444444,
              "#bd3786"
             ],
             [
              0.5555555555555556,
              "#d8576b"
             ],
             [
              0.6666666666666666,
              "#ed7953"
             ],
             [
              0.7777777777777778,
              "#fb9f3a"
             ],
             [
              0.8888888888888888,
              "#fdca26"
             ],
             [
              1,
              "#f0f921"
             ]
            ],
            "type": "histogram2d"
           }
          ],
          "histogram2dcontour": [
           {
            "colorbar": {
             "outlinewidth": 0,
             "ticks": ""
            },
            "colorscale": [
             [
              0,
              "#0d0887"
             ],
             [
              0.1111111111111111,
              "#46039f"
             ],
             [
              0.2222222222222222,
              "#7201a8"
             ],
             [
              0.3333333333333333,
              "#9c179e"
             ],
             [
              0.4444444444444444,
              "#bd3786"
             ],
             [
              0.5555555555555556,
              "#d8576b"
             ],
             [
              0.6666666666666666,
              "#ed7953"
             ],
             [
              0.7777777777777778,
              "#fb9f3a"
             ],
             [
              0.8888888888888888,
              "#fdca26"
             ],
             [
              1,
              "#f0f921"
             ]
            ],
            "type": "histogram2dcontour"
           }
          ],
          "mesh3d": [
           {
            "colorbar": {
             "outlinewidth": 0,
             "ticks": ""
            },
            "type": "mesh3d"
           }
          ],
          "parcoords": [
           {
            "line": {
             "colorbar": {
              "outlinewidth": 0,
              "ticks": ""
             }
            },
            "type": "parcoords"
           }
          ],
          "pie": [
           {
            "automargin": true,
            "type": "pie"
           }
          ],
          "scatter": [
           {
            "marker": {
             "colorbar": {
              "outlinewidth": 0,
              "ticks": ""
             }
            },
            "type": "scatter"
           }
          ],
          "scatter3d": [
           {
            "line": {
             "colorbar": {
              "outlinewidth": 0,
              "ticks": ""
             }
            },
            "marker": {
             "colorbar": {
              "outlinewidth": 0,
              "ticks": ""
             }
            },
            "type": "scatter3d"
           }
          ],
          "scattercarpet": [
           {
            "marker": {
             "colorbar": {
              "outlinewidth": 0,
              "ticks": ""
             }
            },
            "type": "scattercarpet"
           }
          ],
          "scattergeo": [
           {
            "marker": {
             "colorbar": {
              "outlinewidth": 0,
              "ticks": ""
             }
            },
            "type": "scattergeo"
           }
          ],
          "scattergl": [
           {
            "marker": {
             "colorbar": {
              "outlinewidth": 0,
              "ticks": ""
             }
            },
            "type": "scattergl"
           }
          ],
          "scattermapbox": [
           {
            "marker": {
             "colorbar": {
              "outlinewidth": 0,
              "ticks": ""
             }
            },
            "type": "scattermapbox"
           }
          ],
          "scatterpolar": [
           {
            "marker": {
             "colorbar": {
              "outlinewidth": 0,
              "ticks": ""
             }
            },
            "type": "scatterpolar"
           }
          ],
          "scatterpolargl": [
           {
            "marker": {
             "colorbar": {
              "outlinewidth": 0,
              "ticks": ""
             }
            },
            "type": "scatterpolargl"
           }
          ],
          "scatterternary": [
           {
            "marker": {
             "colorbar": {
              "outlinewidth": 0,
              "ticks": ""
             }
            },
            "type": "scatterternary"
           }
          ],
          "surface": [
           {
            "colorbar": {
             "outlinewidth": 0,
             "ticks": ""
            },
            "colorscale": [
             [
              0,
              "#0d0887"
             ],
             [
              0.1111111111111111,
              "#46039f"
             ],
             [
              0.2222222222222222,
              "#7201a8"
             ],
             [
              0.3333333333333333,
              "#9c179e"
             ],
             [
              0.4444444444444444,
              "#bd3786"
             ],
             [
              0.5555555555555556,
              "#d8576b"
             ],
             [
              0.6666666666666666,
              "#ed7953"
             ],
             [
              0.7777777777777778,
              "#fb9f3a"
             ],
             [
              0.8888888888888888,
              "#fdca26"
             ],
             [
              1,
              "#f0f921"
             ]
            ],
            "type": "surface"
           }
          ],
          "table": [
           {
            "cells": {
             "fill": {
              "color": "#EBF0F8"
             },
             "line": {
              "color": "white"
             }
            },
            "header": {
             "fill": {
              "color": "#C8D4E3"
             },
             "line": {
              "color": "white"
             }
            },
            "type": "table"
           }
          ]
         },
         "layout": {
          "annotationdefaults": {
           "arrowcolor": "#2a3f5f",
           "arrowhead": 0,
           "arrowwidth": 1
          },
          "autotypenumbers": "strict",
          "coloraxis": {
           "colorbar": {
            "outlinewidth": 0,
            "ticks": ""
           }
          },
          "colorscale": {
           "diverging": [
            [
             0,
             "#8e0152"
            ],
            [
             0.1,
             "#c51b7d"
            ],
            [
             0.2,
             "#de77ae"
            ],
            [
             0.3,
             "#f1b6da"
            ],
            [
             0.4,
             "#fde0ef"
            ],
            [
             0.5,
             "#f7f7f7"
            ],
            [
             0.6,
             "#e6f5d0"
            ],
            [
             0.7,
             "#b8e186"
            ],
            [
             0.8,
             "#7fbc41"
            ],
            [
             0.9,
             "#4d9221"
            ],
            [
             1,
             "#276419"
            ]
           ],
           "sequential": [
            [
             0,
             "#0d0887"
            ],
            [
             0.1111111111111111,
             "#46039f"
            ],
            [
             0.2222222222222222,
             "#7201a8"
            ],
            [
             0.3333333333333333,
             "#9c179e"
            ],
            [
             0.4444444444444444,
             "#bd3786"
            ],
            [
             0.5555555555555556,
             "#d8576b"
            ],
            [
             0.6666666666666666,
             "#ed7953"
            ],
            [
             0.7777777777777778,
             "#fb9f3a"
            ],
            [
             0.8888888888888888,
             "#fdca26"
            ],
            [
             1,
             "#f0f921"
            ]
           ],
           "sequentialminus": [
            [
             0,
             "#0d0887"
            ],
            [
             0.1111111111111111,
             "#46039f"
            ],
            [
             0.2222222222222222,
             "#7201a8"
            ],
            [
             0.3333333333333333,
             "#9c179e"
            ],
            [
             0.4444444444444444,
             "#bd3786"
            ],
            [
             0.5555555555555556,
             "#d8576b"
            ],
            [
             0.6666666666666666,
             "#ed7953"
            ],
            [
             0.7777777777777778,
             "#fb9f3a"
            ],
            [
             0.8888888888888888,
             "#fdca26"
            ],
            [
             1,
             "#f0f921"
            ]
           ]
          },
          "colorway": [
           "#636efa",
           "#EF553B",
           "#00cc96",
           "#ab63fa",
           "#FFA15A",
           "#19d3f3",
           "#FF6692",
           "#B6E880",
           "#FF97FF",
           "#FECB52"
          ],
          "font": {
           "color": "#2a3f5f"
          },
          "geo": {
           "bgcolor": "white",
           "lakecolor": "white",
           "landcolor": "#E5ECF6",
           "showlakes": true,
           "showland": true,
           "subunitcolor": "white"
          },
          "hoverlabel": {
           "align": "left"
          },
          "hovermode": "closest",
          "mapbox": {
           "style": "light"
          },
          "paper_bgcolor": "white",
          "plot_bgcolor": "#E5ECF6",
          "polar": {
           "angularaxis": {
            "gridcolor": "white",
            "linecolor": "white",
            "ticks": ""
           },
           "bgcolor": "#E5ECF6",
           "radialaxis": {
            "gridcolor": "white",
            "linecolor": "white",
            "ticks": ""
           }
          },
          "scene": {
           "xaxis": {
            "backgroundcolor": "#E5ECF6",
            "gridcolor": "white",
            "gridwidth": 2,
            "linecolor": "white",
            "showbackground": true,
            "ticks": "",
            "zerolinecolor": "white"
           },
           "yaxis": {
            "backgroundcolor": "#E5ECF6",
            "gridcolor": "white",
            "gridwidth": 2,
            "linecolor": "white",
            "showbackground": true,
            "ticks": "",
            "zerolinecolor": "white"
           },
           "zaxis": {
            "backgroundcolor": "#E5ECF6",
            "gridcolor": "white",
            "gridwidth": 2,
            "linecolor": "white",
            "showbackground": true,
            "ticks": "",
            "zerolinecolor": "white"
           }
          },
          "shapedefaults": {
           "line": {
            "color": "#2a3f5f"
           }
          },
          "ternary": {
           "aaxis": {
            "gridcolor": "white",
            "linecolor": "white",
            "ticks": ""
           },
           "baxis": {
            "gridcolor": "white",
            "linecolor": "white",
            "ticks": ""
           },
           "bgcolor": "#E5ECF6",
           "caxis": {
            "gridcolor": "white",
            "linecolor": "white",
            "ticks": ""
           }
          },
          "title": {
           "x": 0.05
          },
          "xaxis": {
           "automargin": true,
           "gridcolor": "white",
           "linecolor": "white",
           "ticks": "",
           "title": {
            "standoff": 15
           },
           "zerolinecolor": "white",
           "zerolinewidth": 2
          },
          "yaxis": {
           "automargin": true,
           "gridcolor": "white",
           "linecolor": "white",
           "ticks": "",
           "title": {
            "standoff": 15
           },
           "zerolinecolor": "white",
           "zerolinewidth": 2
          }
         }
        },
        "title": {
         "text": "A Figure Displayed with fig.show()"
        }
       }
      },
      "text/html": "<div>                            <div id=\"f00b3fed-7573-480e-b8e1-6929460a2607\" class=\"plotly-graph-div\" style=\"height:525px; width:100%;\"></div>            <script type=\"text/javascript\">                require([\"plotly\"], function(Plotly) {                    window.PLOTLYENV=window.PLOTLYENV || {};                                    if (document.getElementById(\"f00b3fed-7573-480e-b8e1-6929460a2607\")) {                    Plotly.newPlot(                        \"f00b3fed-7573-480e-b8e1-6929460a2607\",                        [{\"type\": \"bar\", \"y\": [2, 1, 3]}],                        {\"template\": {\"data\": {\"bar\": [{\"error_x\": {\"color\": \"#2a3f5f\"}, \"error_y\": {\"color\": \"#2a3f5f\"}, \"marker\": {\"line\": {\"color\": \"#E5ECF6\", \"width\": 0.5}}, \"type\": \"bar\"}], \"barpolar\": [{\"marker\": {\"line\": {\"color\": \"#E5ECF6\", \"width\": 0.5}}, \"type\": \"barpolar\"}], \"carpet\": [{\"aaxis\": {\"endlinecolor\": \"#2a3f5f\", \"gridcolor\": \"white\", \"linecolor\": \"white\", \"minorgridcolor\": \"white\", \"startlinecolor\": \"#2a3f5f\"}, \"baxis\": {\"endlinecolor\": \"#2a3f5f\", \"gridcolor\": \"white\", \"linecolor\": \"white\", \"minorgridcolor\": \"white\", \"startlinecolor\": \"#2a3f5f\"}, \"type\": \"carpet\"}], \"choropleth\": [{\"colorbar\": {\"outlinewidth\": 0, \"ticks\": \"\"}, \"type\": \"choropleth\"}], \"contour\": [{\"colorbar\": {\"outlinewidth\": 0, \"ticks\": \"\"}, \"colorscale\": [[0.0, \"#0d0887\"], [0.1111111111111111, \"#46039f\"], [0.2222222222222222, \"#7201a8\"], [0.3333333333333333, \"#9c179e\"], [0.4444444444444444, \"#bd3786\"], [0.5555555555555556, \"#d8576b\"], [0.6666666666666666, \"#ed7953\"], [0.7777777777777778, \"#fb9f3a\"], [0.8888888888888888, \"#fdca26\"], [1.0, \"#f0f921\"]], \"type\": \"contour\"}], \"contourcarpet\": [{\"colorbar\": {\"outlinewidth\": 0, \"ticks\": \"\"}, \"type\": \"contourcarpet\"}], \"heatmap\": [{\"colorbar\": {\"outlinewidth\": 0, \"ticks\": \"\"}, \"colorscale\": [[0.0, \"#0d0887\"], [0.1111111111111111, \"#46039f\"], [0.2222222222222222, \"#7201a8\"], [0.3333333333333333, \"#9c179e\"], [0.4444444444444444, \"#bd3786\"], [0.5555555555555556, \"#d8576b\"], [0.6666666666666666, \"#ed7953\"], [0.7777777777777778, \"#fb9f3a\"], [0.8888888888888888, \"#fdca26\"], [1.0, \"#f0f921\"]], \"type\": \"heatmap\"}], \"heatmapgl\": [{\"colorbar\": {\"outlinewidth\": 0, \"ticks\": \"\"}, \"colorscale\": [[0.0, \"#0d0887\"], [0.1111111111111111, \"#46039f\"], [0.2222222222222222, \"#7201a8\"], [0.3333333333333333, \"#9c179e\"], [0.4444444444444444, \"#bd3786\"], [0.5555555555555556, \"#d8576b\"], [0.6666666666666666, \"#ed7953\"], [0.7777777777777778, \"#fb9f3a\"], [0.8888888888888888, \"#fdca26\"], [1.0, \"#f0f921\"]], \"type\": \"heatmapgl\"}], \"histogram\": [{\"marker\": {\"colorbar\": {\"outlinewidth\": 0, \"ticks\": \"\"}}, \"type\": \"histogram\"}], \"histogram2d\": [{\"colorbar\": {\"outlinewidth\": 0, \"ticks\": \"\"}, \"colorscale\": [[0.0, \"#0d0887\"], [0.1111111111111111, \"#46039f\"], [0.2222222222222222, \"#7201a8\"], [0.3333333333333333, \"#9c179e\"], [0.4444444444444444, \"#bd3786\"], [0.5555555555555556, \"#d8576b\"], [0.6666666666666666, \"#ed7953\"], [0.7777777777777778, \"#fb9f3a\"], [0.8888888888888888, \"#fdca26\"], [1.0, \"#f0f921\"]], \"type\": \"histogram2d\"}], \"histogram2dcontour\": [{\"colorbar\": {\"outlinewidth\": 0, \"ticks\": \"\"}, \"colorscale\": [[0.0, \"#0d0887\"], [0.1111111111111111, \"#46039f\"], [0.2222222222222222, \"#7201a8\"], [0.3333333333333333, \"#9c179e\"], [0.4444444444444444, \"#bd3786\"], [0.5555555555555556, \"#d8576b\"], [0.6666666666666666, \"#ed7953\"], [0.7777777777777778, \"#fb9f3a\"], [0.8888888888888888, \"#fdca26\"], [1.0, \"#f0f921\"]], \"type\": \"histogram2dcontour\"}], \"mesh3d\": [{\"colorbar\": {\"outlinewidth\": 0, \"ticks\": \"\"}, \"type\": \"mesh3d\"}], \"parcoords\": [{\"line\": {\"colorbar\": {\"outlinewidth\": 0, \"ticks\": \"\"}}, \"type\": \"parcoords\"}], \"pie\": [{\"automargin\": true, \"type\": \"pie\"}], \"scatter\": [{\"marker\": {\"colorbar\": {\"outlinewidth\": 0, \"ticks\": \"\"}}, \"type\": \"scatter\"}], \"scatter3d\": [{\"line\": {\"colorbar\": {\"outlinewidth\": 0, \"ticks\": \"\"}}, \"marker\": {\"colorbar\": {\"outlinewidth\": 0, \"ticks\": \"\"}}, \"type\": \"scatter3d\"}], \"scattercarpet\": [{\"marker\": {\"colorbar\": {\"outlinewidth\": 0, \"ticks\": \"\"}}, \"type\": \"scattercarpet\"}], \"scattergeo\": [{\"marker\": {\"colorbar\": {\"outlinewidth\": 0, \"ticks\": \"\"}}, \"type\": \"scattergeo\"}], \"scattergl\": [{\"marker\": {\"colorbar\": {\"outlinewidth\": 0, \"ticks\": \"\"}}, \"type\": \"scattergl\"}], \"scattermapbox\": [{\"marker\": {\"colorbar\": {\"outlinewidth\": 0, \"ticks\": \"\"}}, \"type\": \"scattermapbox\"}], \"scatterpolar\": [{\"marker\": {\"colorbar\": {\"outlinewidth\": 0, \"ticks\": \"\"}}, \"type\": \"scatterpolar\"}], \"scatterpolargl\": [{\"marker\": {\"colorbar\": {\"outlinewidth\": 0, \"ticks\": \"\"}}, \"type\": \"scatterpolargl\"}], \"scatterternary\": [{\"marker\": {\"colorbar\": {\"outlinewidth\": 0, \"ticks\": \"\"}}, \"type\": \"scatterternary\"}], \"surface\": [{\"colorbar\": {\"outlinewidth\": 0, \"ticks\": \"\"}, \"colorscale\": [[0.0, \"#0d0887\"], [0.1111111111111111, \"#46039f\"], [0.2222222222222222, \"#7201a8\"], [0.3333333333333333, \"#9c179e\"], [0.4444444444444444, \"#bd3786\"], [0.5555555555555556, \"#d8576b\"], [0.6666666666666666, \"#ed7953\"], [0.7777777777777778, \"#fb9f3a\"], [0.8888888888888888, \"#fdca26\"], [1.0, \"#f0f921\"]], \"type\": \"surface\"}], \"table\": [{\"cells\": {\"fill\": {\"color\": \"#EBF0F8\"}, \"line\": {\"color\": \"white\"}}, \"header\": {\"fill\": {\"color\": \"#C8D4E3\"}, \"line\": {\"color\": \"white\"}}, \"type\": \"table\"}]}, \"layout\": {\"annotationdefaults\": {\"arrowcolor\": \"#2a3f5f\", \"arrowhead\": 0, \"arrowwidth\": 1}, \"autotypenumbers\": \"strict\", \"coloraxis\": {\"colorbar\": {\"outlinewidth\": 0, \"ticks\": \"\"}}, \"colorscale\": {\"diverging\": [[0, \"#8e0152\"], [0.1, \"#c51b7d\"], [0.2, \"#de77ae\"], [0.3, \"#f1b6da\"], [0.4, \"#fde0ef\"], [0.5, \"#f7f7f7\"], [0.6, \"#e6f5d0\"], [0.7, \"#b8e186\"], [0.8, \"#7fbc41\"], [0.9, \"#4d9221\"], [1, \"#276419\"]], \"sequential\": [[0.0, \"#0d0887\"], [0.1111111111111111, \"#46039f\"], [0.2222222222222222, \"#7201a8\"], [0.3333333333333333, \"#9c179e\"], [0.4444444444444444, \"#bd3786\"], [0.5555555555555556, \"#d8576b\"], [0.6666666666666666, \"#ed7953\"], [0.7777777777777778, \"#fb9f3a\"], [0.8888888888888888, \"#fdca26\"], [1.0, \"#f0f921\"]], \"sequentialminus\": [[0.0, \"#0d0887\"], [0.1111111111111111, \"#46039f\"], [0.2222222222222222, \"#7201a8\"], [0.3333333333333333, \"#9c179e\"], [0.4444444444444444, \"#bd3786\"], [0.5555555555555556, \"#d8576b\"], [0.6666666666666666, \"#ed7953\"], [0.7777777777777778, \"#fb9f3a\"], [0.8888888888888888, \"#fdca26\"], [1.0, \"#f0f921\"]]}, \"colorway\": [\"#636efa\", \"#EF553B\", \"#00cc96\", \"#ab63fa\", \"#FFA15A\", \"#19d3f3\", \"#FF6692\", \"#B6E880\", \"#FF97FF\", \"#FECB52\"], \"font\": {\"color\": \"#2a3f5f\"}, \"geo\": {\"bgcolor\": \"white\", \"lakecolor\": \"white\", \"landcolor\": \"#E5ECF6\", \"showlakes\": true, \"showland\": true, \"subunitcolor\": \"white\"}, \"hoverlabel\": {\"align\": \"left\"}, \"hovermode\": \"closest\", \"mapbox\": {\"style\": \"light\"}, \"paper_bgcolor\": \"white\", \"plot_bgcolor\": \"#E5ECF6\", \"polar\": {\"angularaxis\": {\"gridcolor\": \"white\", \"linecolor\": \"white\", \"ticks\": \"\"}, \"bgcolor\": \"#E5ECF6\", \"radialaxis\": {\"gridcolor\": \"white\", \"linecolor\": \"white\", \"ticks\": \"\"}}, \"scene\": {\"xaxis\": {\"backgroundcolor\": \"#E5ECF6\", \"gridcolor\": \"white\", \"gridwidth\": 2, \"linecolor\": \"white\", \"showbackground\": true, \"ticks\": \"\", \"zerolinecolor\": \"white\"}, \"yaxis\": {\"backgroundcolor\": \"#E5ECF6\", \"gridcolor\": \"white\", \"gridwidth\": 2, \"linecolor\": \"white\", \"showbackground\": true, \"ticks\": \"\", \"zerolinecolor\": \"white\"}, \"zaxis\": {\"backgroundcolor\": \"#E5ECF6\", \"gridcolor\": \"white\", \"gridwidth\": 2, \"linecolor\": \"white\", \"showbackground\": true, \"ticks\": \"\", \"zerolinecolor\": \"white\"}}, \"shapedefaults\": {\"line\": {\"color\": \"#2a3f5f\"}}, \"ternary\": {\"aaxis\": {\"gridcolor\": \"white\", \"linecolor\": \"white\", \"ticks\": \"\"}, \"baxis\": {\"gridcolor\": \"white\", \"linecolor\": \"white\", \"ticks\": \"\"}, \"bgcolor\": \"#E5ECF6\", \"caxis\": {\"gridcolor\": \"white\", \"linecolor\": \"white\", \"ticks\": \"\"}}, \"title\": {\"x\": 0.05}, \"xaxis\": {\"automargin\": true, \"gridcolor\": \"white\", \"linecolor\": \"white\", \"ticks\": \"\", \"title\": {\"standoff\": 15}, \"zerolinecolor\": \"white\", \"zerolinewidth\": 2}, \"yaxis\": {\"automargin\": true, \"gridcolor\": \"white\", \"linecolor\": \"white\", \"ticks\": \"\", \"title\": {\"standoff\": 15}, \"zerolinecolor\": \"white\", \"zerolinewidth\": 2}}}, \"title\": {\"text\": \"A Figure Displayed with fig.show()\"}},                        {\"responsive\": true}                    ).then(function(){\n                            \nvar gd = document.getElementById('f00b3fed-7573-480e-b8e1-6929460a2607');\nvar x = new MutationObserver(function (mutations, observer) {{\n        var display = window.getComputedStyle(gd).display;\n        if (!display || display === 'none') {{\n            console.log([gd, 'removed!']);\n            Plotly.purge(gd);\n            observer.disconnect();\n        }}\n}});\n\n// Listen for the removal of the full notebook cells\nvar notebookContainer = gd.closest('#notebook-container');\nif (notebookContainer) {{\n    x.observe(notebookContainer, {childList: true});\n}}\n\n// Listen for the clearing of the current output cell\nvar outputEl = gd.closest('.output');\nif (outputEl) {{\n    x.observe(outputEl, {childList: true});\n}}\n\n                        })                };                });            </script>        </div>"
     },
     "metadata": {}
    }
   ],
   "source": [
    "fig = go.Figure(\n",
    "    data=[go.Bar(y=[2, 1, 3])],\n",
    "    layout_title_text=\"A Figure Displayed with fig.show()\"\n",
    ")\n",
    "fig.show()"
   ]
  },
  {
   "cell_type": "code",
   "execution_count": 8,
   "metadata": {},
   "outputs": [
    {
     "output_type": "display_data",
     "data": {
      "application/vnd.plotly.v1+json": {
       "config": {
        "plotlyServerURL": "https://plot.ly"
       },
       "data": [
        {
         "marker": {
          "color": [
           0.9501761192470797,
           0.5566531881951564,
           0.9156063497662745,
           0.6415662089463375,
           0.39000771414124624,
           0.48599066709690975,
           0.6043104829199732,
           0.5495479215085626,
           0.9261814267064536,
           0.9187334356336061,
           0.3948756129235549,
           0.9632625284407118,
           0.17395566668046436,
           0.12632951943963733,
           0.13507915804673132,
           0.5056621656768967,
           0.021524805274197978,
           0.947970211217681,
           0.8271154711707325,
           0.015018980742122379,
           0.17619625557505525,
           0.332063574366837,
           0.1309968448109169,
           0.8094906921265821,
           0.34473665268329345,
           0.9401074823333672,
           0.58201417994708,
           0.8788319844118441,
           0.8447344453922219,
           0.9053923187086492,
           0.45988026581680697,
           0.5463468160203733,
           0.7986035911520394,
           0.28571885173414757,
           0.4902535226199277,
           0.5991103076458784,
           0.015533275550835723,
           0.5934814081966372,
           0.4336763489894583,
           0.8073605288848414,
           0.31524480309537295,
           0.8928887085251513,
           0.5778572152845355,
           0.18401020162746506,
           0.7879292338255043,
           0.6120311770449339,
           0.053909272073752956,
           0.4201936800011322,
           0.6790688365654296,
           0.9186017779775258,
           0.00040202489135743313,
           0.9767591490310596,
           0.37658031474577447,
           0.9737835383583225,
           0.604716100974053,
           0.828845807980693,
           0.5747115047081023,
           0.6280761983073504,
           0.28557628169569393,
           0.586833340656083,
           0.7500217637026599,
           0.8583138364290424,
           0.7550821884676802,
           0.698057248447303,
           0.8644794300545998,
           0.32268099683674645,
           0.6707887907875872,
           0.45087393641334916,
           0.3821027520315172,
           0.4108113499221856,
           0.4014795834695406,
           0.3173839459582769,
           0.6219193679203014,
           0.43024727082126435,
           0.9738020779272523,
           0.6778008914343111,
           0.19856988842711087,
           0.4267010093480328,
           0.343346239774423,
           0.7976388039585666,
           0.8799982885634318,
           0.903841955826372,
           0.6627198123752622,
           0.2702082620297578,
           0.25236670150458973,
           0.8548979426974024,
           0.5277146463087466,
           0.8021610840045981,
           0.5724885171916063,
           0.7331425252875111,
           0.5190116274640558,
           0.770883910501888,
           0.5688579907047155,
           0.4657098785919809,
           0.3426889079532818,
           0.06820934841670412,
           0.37792417932809985,
           0.07962607769825236,
           0.982817113730445,
           0.18161285133076377
          ],
          "colorscale": [
           [
            0,
            "#440154"
           ],
           [
            0.1111111111111111,
            "#482878"
           ],
           [
            0.2222222222222222,
            "#3e4989"
           ],
           [
            0.3333333333333333,
            "#31688e"
           ],
           [
            0.4444444444444444,
            "#26828e"
           ],
           [
            0.5555555555555556,
            "#1f9e89"
           ],
           [
            0.6666666666666666,
            "#35b779"
           ],
           [
            0.7777777777777778,
            "#6ece58"
           ],
           [
            0.8888888888888888,
            "#b5de2b"
           ],
           [
            1,
            "#fde725"
           ]
          ],
          "opacity": 0.6,
          "size": [
           24.355760931616192,
           26.248849348676945,
           20.652397571578298,
           17.08483238236127,
           4.829143104468264,
           14.006400682899189,
           10.35516153465645,
           6.7511987344225375,
           17.775356062973902,
           9.368095131057508,
           27.48916660405052,
           27.28906574854671,
           7.713548813465886,
           3.3267390223208757,
           5.788881960573385,
           14.987525120366582,
           21.85757003923789,
           6.245833152263744,
           7.441006751316922,
           25.55015624809101,
           12.47546154802582,
           18.500552014657085,
           7.009984177177502,
           3.059017782773923,
           15.475710509055894,
           14.31422961149347,
           4.580149322794897,
           18.654186952212466,
           16.320303564418143,
           19.62412040912233,
           4.336366203739795,
           22.545834514057315,
           6.66147419399768,
           15.58055473098099,
           23.558880846648567,
           0.6699128397541854,
           9.730873791785594,
           26.18767129200333,
           25.341288228062087,
           16.15321777783631,
           25.99824822499539,
           28.494179740608796,
           24.79220992888024,
           25.62346331509616,
           2.9623020546104506,
           19.53912997022973,
           21.105509644579588,
           18.30722437939889,
           23.988457852080842,
           1.0371365961490275,
           23.1071620366494,
           21.95185802218581,
           7.7909517989505925,
           7.712078964664401,
           18.969099522903832,
           10.358923847732447,
           23.897660340218625,
           13.384386960103718,
           23.482482443525157,
           29.71415350871522,
           9.007450186017001,
           4.290174847742981,
           27.039253090478216,
           16.2467813666212,
           29.242211125652467,
           19.098132000056918,
           29.81739073831437,
           16.38212412428855,
           15.792778017165638,
           4.062837092165097,
           10.671155129516434,
           0.7865570188911986,
           4.811855385589473,
           22.36911578122488,
           0.9119906978636649,
           10.99629291731233,
           25.870387585141323,
           20.780331525220628,
           20.728264261985057,
           5.659104028659327,
           13.2571284224527,
           17.447322220328736,
           29.692551229911157,
           6.1171867569936555,
           7.431987052870646,
           7.865192513187358,
           22.505172398939784,
           13.709259823070784,
           1.7078831523328497,
           15.255487218307188,
           6.358804939310279,
           23.958127342806307,
           8.919941445218168,
           0.8281803586351089,
           17.80297348393863,
           25.315212867935664,
           11.430483721866425,
           22.495749321784302,
           15.334244348913845,
           16.22855414886566
          ]
         },
         "mode": "markers",
         "type": "scatter",
         "x": [
          0.417022004702574,
          0.7203244934421581,
          0.00011437481734488664,
          0.30233257263183977,
          0.14675589081711304,
          0.0923385947687978,
          0.1862602113776709,
          0.34556072704304774,
          0.39676747423066994,
          0.538816734003357,
          0.4191945144032948,
          0.6852195003967595,
          0.20445224973151743,
          0.8781174363909454,
          0.027387593197926163,
          0.6704675101784022,
          0.41730480236712697,
          0.5586898284457517,
          0.14038693859523377,
          0.1981014890848788,
          0.8007445686755367,
          0.9682615757193975,
          0.31342417815924284,
          0.6923226156693141,
          0.8763891522960383,
          0.8946066635038473,
          0.08504421136977791,
          0.03905478323288236,
          0.1698304195645689,
          0.8781425034294131,
          0.0983468338330501,
          0.42110762500505217,
          0.9578895301505019,
          0.5331652849730171,
          0.6918771139504734,
          0.31551563100606295,
          0.6865009276815837,
          0.8346256718973729,
          0.018288277344191806,
          0.7501443149449675,
          0.9888610889064947,
          0.7481656543798394,
          0.2804439920644052,
          0.7892793284514885,
          0.10322600657764203,
          0.44789352617590517,
          0.9085955030930956,
          0.2936141483736795,
          0.28777533858634874,
          0.13002857211827767,
          0.019366957870297075,
          0.678835532939891,
          0.21162811600005904,
          0.2655466593722262,
          0.4915731592803383,
          0.053362545117080384,
          0.5741176054920131,
          0.14672857490581015,
          0.5893055369032842,
          0.6997583600209312,
          0.10233442882782584,
          0.4140559878195683,
          0.6944001577277451,
          0.41417926952690265,
          0.04995345894608716,
          0.5358964059155116,
          0.6637946452197888,
          0.5148891120583086,
          0.9445947559908133,
          0.5865550405019929,
          0.9034019152878835,
          0.13747470414623753,
          0.13927634725075855,
          0.8073912887095238,
          0.3976768369855336,
          0.16535419711693278,
          0.9275085803960339,
          0.34776585974550656,
          0.7508121031361555,
          0.7259979853504515,
          0.8833060912058098,
          0.6236722070556089,
          0.7509424340273372,
          0.34889834197784253,
          0.2699278917650261,
          0.8958862181960668,
          0.4280911898712949,
          0.9648400471483856,
          0.6634414978184481,
          0.6216957202091218,
          0.11474597295337519,
          0.9494892587070712,
          0.4499121334799405,
          0.5783896143871318,
          0.40813680276128117,
          0.2370269802430277,
          0.9033795205622538,
          0.5736794866722859,
          0.00287032703115897,
          0.6171449136207239
         ],
         "y": [
          0.32664490177209615,
          0.5270581022576093,
          0.8859420993107745,
          0.35726976000249977,
          0.9085351509197992,
          0.6233601157918027,
          0.015821242846556283,
          0.9294372337437613,
          0.690896917516924,
          0.9973228504514805,
          0.17234050834532855,
          0.13713574962887776,
          0.9325954630371636,
          0.6968181614899002,
          0.06600017272206249,
          0.7554630526024664,
          0.7538761884612464,
          0.9230245355464833,
          0.7115247586284718,
          0.1242709619721647,
          0.01988013383979559,
          0.026210986877719278,
          0.028306488020794607,
          0.2462110676030459,
          0.860027948682888,
          0.5388310643416528,
          0.5528219786857659,
          0.8420308923596057,
          0.12417331511991114,
          0.2791836790111395,
          0.5857592714582879,
          0.9695957483196745,
          0.56103021925571,
          0.01864728937294302,
          0.8006326726806163,
          0.23297427384102043,
          0.8071051956187791,
          0.38786064406417176,
          0.8635418545594287,
          0.7471216427371846,
          0.5562402339904189,
          0.13645522566068502,
          0.05991768951221166,
          0.12134345574073735,
          0.044551878544761725,
          0.1074941291060929,
          0.2257093386078547,
          0.7129889803826767,
          0.5597169820541424,
          0.012555980159115854,
          0.07197427968948678,
          0.967276330000272,
          0.5681004619199421,
          0.20329323466099047,
          0.2523257445703234,
          0.7438258540750929,
          0.1954294811093188,
          0.5813589272732578,
          0.9700199890883123,
          0.8468288014900353,
          0.23984775914758616,
          0.49376971426872995,
          0.6199557183813798,
          0.8289808995501787,
          0.15679139464608427,
          0.018576202177409518,
          0.07002214371922233,
          0.4863451109370318,
          0.6063294616533303,
          0.5688514370864813,
          0.31736240932216075,
          0.9886161544124489,
          0.5797452192457969,
          0.3801411726235504,
          0.5509482191178968,
          0.7453344309065021,
          0.6692328934531846,
          0.2649195576628094,
          0.06633483442844157,
          0.3700841979141063,
          0.6297175070215645,
          0.2101740099148396,
          0.7527555537388139,
          0.06653648135411494,
          0.26031509857854096,
          0.8047545637433454,
          0.19343428262332774,
          0.6394608808799401,
          0.5246703091237337,
          0.9248079703993507,
          0.263296770487111,
          0.06596109068402378,
          0.7350659632886695,
          0.7721780295432468,
          0.907815852503524,
          0.9319720691968373,
          0.013951572975597015,
          0.2343620861214205,
          0.6167783570016576,
          0.9490163206876164
         ]
        }
       ],
       "layout": {
        "template": {
         "data": {
          "bar": [
           {
            "error_x": {
             "color": "#2a3f5f"
            },
            "error_y": {
             "color": "#2a3f5f"
            },
            "marker": {
             "line": {
              "color": "#E5ECF6",
              "width": 0.5
             }
            },
            "type": "bar"
           }
          ],
          "barpolar": [
           {
            "marker": {
             "line": {
              "color": "#E5ECF6",
              "width": 0.5
             }
            },
            "type": "barpolar"
           }
          ],
          "carpet": [
           {
            "aaxis": {
             "endlinecolor": "#2a3f5f",
             "gridcolor": "white",
             "linecolor": "white",
             "minorgridcolor": "white",
             "startlinecolor": "#2a3f5f"
            },
            "baxis": {
             "endlinecolor": "#2a3f5f",
             "gridcolor": "white",
             "linecolor": "white",
             "minorgridcolor": "white",
             "startlinecolor": "#2a3f5f"
            },
            "type": "carpet"
           }
          ],
          "choropleth": [
           {
            "colorbar": {
             "outlinewidth": 0,
             "ticks": ""
            },
            "type": "choropleth"
           }
          ],
          "contour": [
           {
            "colorbar": {
             "outlinewidth": 0,
             "ticks": ""
            },
            "colorscale": [
             [
              0,
              "#0d0887"
             ],
             [
              0.1111111111111111,
              "#46039f"
             ],
             [
              0.2222222222222222,
              "#7201a8"
             ],
             [
              0.3333333333333333,
              "#9c179e"
             ],
             [
              0.4444444444444444,
              "#bd3786"
             ],
             [
              0.5555555555555556,
              "#d8576b"
             ],
             [
              0.6666666666666666,
              "#ed7953"
             ],
             [
              0.7777777777777778,
              "#fb9f3a"
             ],
             [
              0.8888888888888888,
              "#fdca26"
             ],
             [
              1,
              "#f0f921"
             ]
            ],
            "type": "contour"
           }
          ],
          "contourcarpet": [
           {
            "colorbar": {
             "outlinewidth": 0,
             "ticks": ""
            },
            "type": "contourcarpet"
           }
          ],
          "heatmap": [
           {
            "colorbar": {
             "outlinewidth": 0,
             "ticks": ""
            },
            "colorscale": [
             [
              0,
              "#0d0887"
             ],
             [
              0.1111111111111111,
              "#46039f"
             ],
             [
              0.2222222222222222,
              "#7201a8"
             ],
             [
              0.3333333333333333,
              "#9c179e"
             ],
             [
              0.4444444444444444,
              "#bd3786"
             ],
             [
              0.5555555555555556,
              "#d8576b"
             ],
             [
              0.6666666666666666,
              "#ed7953"
             ],
             [
              0.7777777777777778,
              "#fb9f3a"
             ],
             [
              0.8888888888888888,
              "#fdca26"
             ],
             [
              1,
              "#f0f921"
             ]
            ],
            "type": "heatmap"
           }
          ],
          "heatmapgl": [
           {
            "colorbar": {
             "outlinewidth": 0,
             "ticks": ""
            },
            "colorscale": [
             [
              0,
              "#0d0887"
             ],
             [
              0.1111111111111111,
              "#46039f"
             ],
             [
              0.2222222222222222,
              "#7201a8"
             ],
             [
              0.3333333333333333,
              "#9c179e"
             ],
             [
              0.4444444444444444,
              "#bd3786"
             ],
             [
              0.5555555555555556,
              "#d8576b"
             ],
             [
              0.6666666666666666,
              "#ed7953"
             ],
             [
              0.7777777777777778,
              "#fb9f3a"
             ],
             [
              0.8888888888888888,
              "#fdca26"
             ],
             [
              1,
              "#f0f921"
             ]
            ],
            "type": "heatmapgl"
           }
          ],
          "histogram": [
           {
            "marker": {
             "colorbar": {
              "outlinewidth": 0,
              "ticks": ""
             }
            },
            "type": "histogram"
           }
          ],
          "histogram2d": [
           {
            "colorbar": {
             "outlinewidth": 0,
             "ticks": ""
            },
            "colorscale": [
             [
              0,
              "#0d0887"
             ],
             [
              0.1111111111111111,
              "#46039f"
             ],
             [
              0.2222222222222222,
              "#7201a8"
             ],
             [
              0.3333333333333333,
              "#9c179e"
             ],
             [
              0.4444444444444444,
              "#bd3786"
             ],
             [
              0.5555555555555556,
              "#d8576b"
             ],
             [
              0.6666666666666666,
              "#ed7953"
             ],
             [
              0.7777777777777778,
              "#fb9f3a"
             ],
             [
              0.8888888888888888,
              "#fdca26"
             ],
             [
              1,
              "#f0f921"
             ]
            ],
            "type": "histogram2d"
           }
          ],
          "histogram2dcontour": [
           {
            "colorbar": {
             "outlinewidth": 0,
             "ticks": ""
            },
            "colorscale": [
             [
              0,
              "#0d0887"
             ],
             [
              0.1111111111111111,
              "#46039f"
             ],
             [
              0.2222222222222222,
              "#7201a8"
             ],
             [
              0.3333333333333333,
              "#9c179e"
             ],
             [
              0.4444444444444444,
              "#bd3786"
             ],
             [
              0.5555555555555556,
              "#d8576b"
             ],
             [
              0.6666666666666666,
              "#ed7953"
             ],
             [
              0.7777777777777778,
              "#fb9f3a"
             ],
             [
              0.8888888888888888,
              "#fdca26"
             ],
             [
              1,
              "#f0f921"
             ]
            ],
            "type": "histogram2dcontour"
           }
          ],
          "mesh3d": [
           {
            "colorbar": {
             "outlinewidth": 0,
             "ticks": ""
            },
            "type": "mesh3d"
           }
          ],
          "parcoords": [
           {
            "line": {
             "colorbar": {
              "outlinewidth": 0,
              "ticks": ""
             }
            },
            "type": "parcoords"
           }
          ],
          "pie": [
           {
            "automargin": true,
            "type": "pie"
           }
          ],
          "scatter": [
           {
            "marker": {
             "colorbar": {
              "outlinewidth": 0,
              "ticks": ""
             }
            },
            "type": "scatter"
           }
          ],
          "scatter3d": [
           {
            "line": {
             "colorbar": {
              "outlinewidth": 0,
              "ticks": ""
             }
            },
            "marker": {
             "colorbar": {
              "outlinewidth": 0,
              "ticks": ""
             }
            },
            "type": "scatter3d"
           }
          ],
          "scattercarpet": [
           {
            "marker": {
             "colorbar": {
              "outlinewidth": 0,
              "ticks": ""
             }
            },
            "type": "scattercarpet"
           }
          ],
          "scattergeo": [
           {
            "marker": {
             "colorbar": {
              "outlinewidth": 0,
              "ticks": ""
             }
            },
            "type": "scattergeo"
           }
          ],
          "scattergl": [
           {
            "marker": {
             "colorbar": {
              "outlinewidth": 0,
              "ticks": ""
             }
            },
            "type": "scattergl"
           }
          ],
          "scattermapbox": [
           {
            "marker": {
             "colorbar": {
              "outlinewidth": 0,
              "ticks": ""
             }
            },
            "type": "scattermapbox"
           }
          ],
          "scatterpolar": [
           {
            "marker": {
             "colorbar": {
              "outlinewidth": 0,
              "ticks": ""
             }
            },
            "type": "scatterpolar"
           }
          ],
          "scatterpolargl": [
           {
            "marker": {
             "colorbar": {
              "outlinewidth": 0,
              "ticks": ""
             }
            },
            "type": "scatterpolargl"
           }
          ],
          "scatterternary": [
           {
            "marker": {
             "colorbar": {
              "outlinewidth": 0,
              "ticks": ""
             }
            },
            "type": "scatterternary"
           }
          ],
          "surface": [
           {
            "colorbar": {
             "outlinewidth": 0,
             "ticks": ""
            },
            "colorscale": [
             [
              0,
              "#0d0887"
             ],
             [
              0.1111111111111111,
              "#46039f"
             ],
             [
              0.2222222222222222,
              "#7201a8"
             ],
             [
              0.3333333333333333,
              "#9c179e"
             ],
             [
              0.4444444444444444,
              "#bd3786"
             ],
             [
              0.5555555555555556,
              "#d8576b"
             ],
             [
              0.6666666666666666,
              "#ed7953"
             ],
             [
              0.7777777777777778,
              "#fb9f3a"
             ],
             [
              0.8888888888888888,
              "#fdca26"
             ],
             [
              1,
              "#f0f921"
             ]
            ],
            "type": "surface"
           }
          ],
          "table": [
           {
            "cells": {
             "fill": {
              "color": "#EBF0F8"
             },
             "line": {
              "color": "white"
             }
            },
            "header": {
             "fill": {
              "color": "#C8D4E3"
             },
             "line": {
              "color": "white"
             }
            },
            "type": "table"
           }
          ]
         },
         "layout": {
          "annotationdefaults": {
           "arrowcolor": "#2a3f5f",
           "arrowhead": 0,
           "arrowwidth": 1
          },
          "autotypenumbers": "strict",
          "coloraxis": {
           "colorbar": {
            "outlinewidth": 0,
            "ticks": ""
           }
          },
          "colorscale": {
           "diverging": [
            [
             0,
             "#8e0152"
            ],
            [
             0.1,
             "#c51b7d"
            ],
            [
             0.2,
             "#de77ae"
            ],
            [
             0.3,
             "#f1b6da"
            ],
            [
             0.4,
             "#fde0ef"
            ],
            [
             0.5,
             "#f7f7f7"
            ],
            [
             0.6,
             "#e6f5d0"
            ],
            [
             0.7,
             "#b8e186"
            ],
            [
             0.8,
             "#7fbc41"
            ],
            [
             0.9,
             "#4d9221"
            ],
            [
             1,
             "#276419"
            ]
           ],
           "sequential": [
            [
             0,
             "#0d0887"
            ],
            [
             0.1111111111111111,
             "#46039f"
            ],
            [
             0.2222222222222222,
             "#7201a8"
            ],
            [
             0.3333333333333333,
             "#9c179e"
            ],
            [
             0.4444444444444444,
             "#bd3786"
            ],
            [
             0.5555555555555556,
             "#d8576b"
            ],
            [
             0.6666666666666666,
             "#ed7953"
            ],
            [
             0.7777777777777778,
             "#fb9f3a"
            ],
            [
             0.8888888888888888,
             "#fdca26"
            ],
            [
             1,
             "#f0f921"
            ]
           ],
           "sequentialminus": [
            [
             0,
             "#0d0887"
            ],
            [
             0.1111111111111111,
             "#46039f"
            ],
            [
             0.2222222222222222,
             "#7201a8"
            ],
            [
             0.3333333333333333,
             "#9c179e"
            ],
            [
             0.4444444444444444,
             "#bd3786"
            ],
            [
             0.5555555555555556,
             "#d8576b"
            ],
            [
             0.6666666666666666,
             "#ed7953"
            ],
            [
             0.7777777777777778,
             "#fb9f3a"
            ],
            [
             0.8888888888888888,
             "#fdca26"
            ],
            [
             1,
             "#f0f921"
            ]
           ]
          },
          "colorway": [
           "#636efa",
           "#EF553B",
           "#00cc96",
           "#ab63fa",
           "#FFA15A",
           "#19d3f3",
           "#FF6692",
           "#B6E880",
           "#FF97FF",
           "#FECB52"
          ],
          "font": {
           "color": "#2a3f5f"
          },
          "geo": {
           "bgcolor": "white",
           "lakecolor": "white",
           "landcolor": "#E5ECF6",
           "showlakes": true,
           "showland": true,
           "subunitcolor": "white"
          },
          "hoverlabel": {
           "align": "left"
          },
          "hovermode": "closest",
          "mapbox": {
           "style": "light"
          },
          "paper_bgcolor": "white",
          "plot_bgcolor": "#E5ECF6",
          "polar": {
           "angularaxis": {
            "gridcolor": "white",
            "linecolor": "white",
            "ticks": ""
           },
           "bgcolor": "#E5ECF6",
           "radialaxis": {
            "gridcolor": "white",
            "linecolor": "white",
            "ticks": ""
           }
          },
          "scene": {
           "xaxis": {
            "backgroundcolor": "#E5ECF6",
            "gridcolor": "white",
            "gridwidth": 2,
            "linecolor": "white",
            "showbackground": true,
            "ticks": "",
            "zerolinecolor": "white"
           },
           "yaxis": {
            "backgroundcolor": "#E5ECF6",
            "gridcolor": "white",
            "gridwidth": 2,
            "linecolor": "white",
            "showbackground": true,
            "ticks": "",
            "zerolinecolor": "white"
           },
           "zaxis": {
            "backgroundcolor": "#E5ECF6",
            "gridcolor": "white",
            "gridwidth": 2,
            "linecolor": "white",
            "showbackground": true,
            "ticks": "",
            "zerolinecolor": "white"
           }
          },
          "shapedefaults": {
           "line": {
            "color": "#2a3f5f"
           }
          },
          "ternary": {
           "aaxis": {
            "gridcolor": "white",
            "linecolor": "white",
            "ticks": ""
           },
           "baxis": {
            "gridcolor": "white",
            "linecolor": "white",
            "ticks": ""
           },
           "bgcolor": "#E5ECF6",
           "caxis": {
            "gridcolor": "white",
            "linecolor": "white",
            "ticks": ""
           }
          },
          "title": {
           "x": 0.05
          },
          "xaxis": {
           "automargin": true,
           "gridcolor": "white",
           "linecolor": "white",
           "ticks": "",
           "title": {
            "standoff": 15
           },
           "zerolinecolor": "white",
           "zerolinewidth": 2
          },
          "yaxis": {
           "automargin": true,
           "gridcolor": "white",
           "linecolor": "white",
           "ticks": "",
           "title": {
            "standoff": 15
           },
           "zerolinecolor": "white",
           "zerolinewidth": 2
          }
         }
        }
       }
      },
      "text/html": "<div>                            <div id=\"4064488d-d70d-4c28-946c-7f06d567c4d6\" class=\"plotly-graph-div\" style=\"height:525px; width:100%;\"></div>            <script type=\"text/javascript\">                require([\"plotly\"], function(Plotly) {                    window.PLOTLYENV=window.PLOTLYENV || {};                                    if (document.getElementById(\"4064488d-d70d-4c28-946c-7f06d567c4d6\")) {                    Plotly.newPlot(                        \"4064488d-d70d-4c28-946c-7f06d567c4d6\",                        [{\"marker\": {\"color\": [0.9501761192470797, 0.5566531881951564, 0.9156063497662745, 0.6415662089463375, 0.39000771414124624, 0.48599066709690975, 0.6043104829199732, 0.5495479215085626, 0.9261814267064536, 0.9187334356336061, 0.3948756129235549, 0.9632625284407118, 0.17395566668046436, 0.12632951943963733, 0.13507915804673132, 0.5056621656768967, 0.021524805274197978, 0.947970211217681, 0.8271154711707325, 0.015018980742122379, 0.17619625557505525, 0.332063574366837, 0.1309968448109169, 0.8094906921265821, 0.34473665268329345, 0.9401074823333672, 0.58201417994708, 0.8788319844118441, 0.8447344453922219, 0.9053923187086492, 0.45988026581680697, 0.5463468160203733, 0.7986035911520394, 0.28571885173414757, 0.4902535226199277, 0.5991103076458784, 0.015533275550835723, 0.5934814081966372, 0.4336763489894583, 0.8073605288848414, 0.31524480309537295, 0.8928887085251513, 0.5778572152845355, 0.18401020162746506, 0.7879292338255043, 0.6120311770449339, 0.053909272073752956, 0.4201936800011322, 0.6790688365654296, 0.9186017779775258, 0.00040202489135743313, 0.9767591490310596, 0.37658031474577447, 0.9737835383583225, 0.604716100974053, 0.828845807980693, 0.5747115047081023, 0.6280761983073504, 0.28557628169569393, 0.586833340656083, 0.7500217637026599, 0.8583138364290424, 0.7550821884676802, 0.698057248447303, 0.8644794300545998, 0.32268099683674645, 0.6707887907875872, 0.45087393641334916, 0.3821027520315172, 0.4108113499221856, 0.4014795834695406, 0.3173839459582769, 0.6219193679203014, 0.43024727082126435, 0.9738020779272523, 0.6778008914343111, 0.19856988842711087, 0.4267010093480328, 0.343346239774423, 0.7976388039585666, 0.8799982885634318, 0.903841955826372, 0.6627198123752622, 0.2702082620297578, 0.25236670150458973, 0.8548979426974024, 0.5277146463087466, 0.8021610840045981, 0.5724885171916063, 0.7331425252875111, 0.5190116274640558, 0.770883910501888, 0.5688579907047155, 0.4657098785919809, 0.3426889079532818, 0.06820934841670412, 0.37792417932809985, 0.07962607769825236, 0.982817113730445, 0.18161285133076377], \"colorscale\": [[0.0, \"#440154\"], [0.1111111111111111, \"#482878\"], [0.2222222222222222, \"#3e4989\"], [0.3333333333333333, \"#31688e\"], [0.4444444444444444, \"#26828e\"], [0.5555555555555556, \"#1f9e89\"], [0.6666666666666666, \"#35b779\"], [0.7777777777777778, \"#6ece58\"], [0.8888888888888888, \"#b5de2b\"], [1.0, \"#fde725\"]], \"opacity\": 0.6, \"size\": [24.355760931616192, 26.248849348676945, 20.652397571578298, 17.08483238236127, 4.829143104468264, 14.006400682899189, 10.35516153465645, 6.7511987344225375, 17.775356062973902, 9.368095131057508, 27.48916660405052, 27.28906574854671, 7.713548813465886, 3.3267390223208757, 5.788881960573385, 14.987525120366582, 21.85757003923789, 6.245833152263744, 7.441006751316922, 25.55015624809101, 12.47546154802582, 18.500552014657085, 7.009984177177502, 3.059017782773923, 15.475710509055894, 14.31422961149347, 4.580149322794897, 18.654186952212466, 16.320303564418143, 19.62412040912233, 4.336366203739795, 22.545834514057315, 6.66147419399768, 15.58055473098099, 23.558880846648567, 0.6699128397541854, 9.730873791785594, 26.18767129200333, 25.341288228062087, 16.15321777783631, 25.99824822499539, 28.494179740608796, 24.79220992888024, 25.62346331509616, 2.9623020546104506, 19.53912997022973, 21.105509644579588, 18.30722437939889, 23.988457852080842, 1.0371365961490275, 23.1071620366494, 21.95185802218581, 7.7909517989505925, 7.712078964664401, 18.969099522903832, 10.358923847732447, 23.897660340218625, 13.384386960103718, 23.482482443525157, 29.71415350871522, 9.007450186017001, 4.290174847742981, 27.039253090478216, 16.2467813666212, 29.242211125652467, 19.098132000056918, 29.81739073831437, 16.38212412428855, 15.792778017165638, 4.062837092165097, 10.671155129516434, 0.7865570188911986, 4.811855385589473, 22.36911578122488, 0.9119906978636649, 10.99629291731233, 25.870387585141323, 20.780331525220628, 20.728264261985057, 5.659104028659327, 13.2571284224527, 17.447322220328736, 29.692551229911157, 6.1171867569936555, 7.431987052870646, 7.865192513187358, 22.505172398939784, 13.709259823070784, 1.7078831523328497, 15.255487218307188, 6.358804939310279, 23.958127342806307, 8.919941445218168, 0.8281803586351089, 17.80297348393863, 25.315212867935664, 11.430483721866425, 22.495749321784302, 15.334244348913845, 16.22855414886566]}, \"mode\": \"markers\", \"type\": \"scatter\", \"x\": [0.417022004702574, 0.7203244934421581, 0.00011437481734488664, 0.30233257263183977, 0.14675589081711304, 0.0923385947687978, 0.1862602113776709, 0.34556072704304774, 0.39676747423066994, 0.538816734003357, 0.4191945144032948, 0.6852195003967595, 0.20445224973151743, 0.8781174363909454, 0.027387593197926163, 0.6704675101784022, 0.41730480236712697, 0.5586898284457517, 0.14038693859523377, 0.1981014890848788, 0.8007445686755367, 0.9682615757193975, 0.31342417815924284, 0.6923226156693141, 0.8763891522960383, 0.8946066635038473, 0.08504421136977791, 0.03905478323288236, 0.1698304195645689, 0.8781425034294131, 0.0983468338330501, 0.42110762500505217, 0.9578895301505019, 0.5331652849730171, 0.6918771139504734, 0.31551563100606295, 0.6865009276815837, 0.8346256718973729, 0.018288277344191806, 0.7501443149449675, 0.9888610889064947, 0.7481656543798394, 0.2804439920644052, 0.7892793284514885, 0.10322600657764203, 0.44789352617590517, 0.9085955030930956, 0.2936141483736795, 0.28777533858634874, 0.13002857211827767, 0.019366957870297075, 0.678835532939891, 0.21162811600005904, 0.2655466593722262, 0.4915731592803383, 0.053362545117080384, 0.5741176054920131, 0.14672857490581015, 0.5893055369032842, 0.6997583600209312, 0.10233442882782584, 0.4140559878195683, 0.6944001577277451, 0.41417926952690265, 0.04995345894608716, 0.5358964059155116, 0.6637946452197888, 0.5148891120583086, 0.9445947559908133, 0.5865550405019929, 0.9034019152878835, 0.13747470414623753, 0.13927634725075855, 0.8073912887095238, 0.3976768369855336, 0.16535419711693278, 0.9275085803960339, 0.34776585974550656, 0.7508121031361555, 0.7259979853504515, 0.8833060912058098, 0.6236722070556089, 0.7509424340273372, 0.34889834197784253, 0.2699278917650261, 0.8958862181960668, 0.4280911898712949, 0.9648400471483856, 0.6634414978184481, 0.6216957202091218, 0.11474597295337519, 0.9494892587070712, 0.4499121334799405, 0.5783896143871318, 0.40813680276128117, 0.2370269802430277, 0.9033795205622538, 0.5736794866722859, 0.00287032703115897, 0.6171449136207239], \"y\": [0.32664490177209615, 0.5270581022576093, 0.8859420993107745, 0.35726976000249977, 0.9085351509197992, 0.6233601157918027, 0.015821242846556283, 0.9294372337437613, 0.690896917516924, 0.9973228504514805, 0.17234050834532855, 0.13713574962887776, 0.9325954630371636, 0.6968181614899002, 0.06600017272206249, 0.7554630526024664, 0.7538761884612464, 0.9230245355464833, 0.7115247586284718, 0.1242709619721647, 0.01988013383979559, 0.026210986877719278, 0.028306488020794607, 0.2462110676030459, 0.860027948682888, 0.5388310643416528, 0.5528219786857659, 0.8420308923596057, 0.12417331511991114, 0.2791836790111395, 0.5857592714582879, 0.9695957483196745, 0.56103021925571, 0.01864728937294302, 0.8006326726806163, 0.23297427384102043, 0.8071051956187791, 0.38786064406417176, 0.8635418545594287, 0.7471216427371846, 0.5562402339904189, 0.13645522566068502, 0.05991768951221166, 0.12134345574073735, 0.044551878544761725, 0.1074941291060929, 0.2257093386078547, 0.7129889803826767, 0.5597169820541424, 0.012555980159115854, 0.07197427968948678, 0.967276330000272, 0.5681004619199421, 0.20329323466099047, 0.2523257445703234, 0.7438258540750929, 0.1954294811093188, 0.5813589272732578, 0.9700199890883123, 0.8468288014900353, 0.23984775914758616, 0.49376971426872995, 0.6199557183813798, 0.8289808995501787, 0.15679139464608427, 0.018576202177409518, 0.07002214371922233, 0.4863451109370318, 0.6063294616533303, 0.5688514370864813, 0.31736240932216075, 0.9886161544124489, 0.5797452192457969, 0.3801411726235504, 0.5509482191178968, 0.7453344309065021, 0.6692328934531846, 0.2649195576628094, 0.06633483442844157, 0.3700841979141063, 0.6297175070215645, 0.2101740099148396, 0.7527555537388139, 0.06653648135411494, 0.26031509857854096, 0.8047545637433454, 0.19343428262332774, 0.6394608808799401, 0.5246703091237337, 0.9248079703993507, 0.263296770487111, 0.06596109068402378, 0.7350659632886695, 0.7721780295432468, 0.907815852503524, 0.9319720691968373, 0.013951572975597015, 0.2343620861214205, 0.6167783570016576, 0.9490163206876164]}],                        {\"template\": {\"data\": {\"bar\": [{\"error_x\": {\"color\": \"#2a3f5f\"}, \"error_y\": {\"color\": \"#2a3f5f\"}, \"marker\": {\"line\": {\"color\": \"#E5ECF6\", \"width\": 0.5}}, \"type\": \"bar\"}], \"barpolar\": [{\"marker\": {\"line\": {\"color\": \"#E5ECF6\", \"width\": 0.5}}, \"type\": \"barpolar\"}], \"carpet\": [{\"aaxis\": {\"endlinecolor\": \"#2a3f5f\", \"gridcolor\": \"white\", \"linecolor\": \"white\", \"minorgridcolor\": \"white\", \"startlinecolor\": \"#2a3f5f\"}, \"baxis\": {\"endlinecolor\": \"#2a3f5f\", \"gridcolor\": \"white\", \"linecolor\": \"white\", \"minorgridcolor\": \"white\", \"startlinecolor\": \"#2a3f5f\"}, \"type\": \"carpet\"}], \"choropleth\": [{\"colorbar\": {\"outlinewidth\": 0, \"ticks\": \"\"}, \"type\": \"choropleth\"}], \"contour\": [{\"colorbar\": {\"outlinewidth\": 0, \"ticks\": \"\"}, \"colorscale\": [[0.0, \"#0d0887\"], [0.1111111111111111, \"#46039f\"], [0.2222222222222222, \"#7201a8\"], [0.3333333333333333, \"#9c179e\"], [0.4444444444444444, \"#bd3786\"], [0.5555555555555556, \"#d8576b\"], [0.6666666666666666, \"#ed7953\"], [0.7777777777777778, \"#fb9f3a\"], [0.8888888888888888, \"#fdca26\"], [1.0, \"#f0f921\"]], \"type\": \"contour\"}], \"contourcarpet\": [{\"colorbar\": {\"outlinewidth\": 0, \"ticks\": \"\"}, \"type\": \"contourcarpet\"}], \"heatmap\": [{\"colorbar\": {\"outlinewidth\": 0, \"ticks\": \"\"}, \"colorscale\": [[0.0, \"#0d0887\"], [0.1111111111111111, \"#46039f\"], [0.2222222222222222, \"#7201a8\"], [0.3333333333333333, \"#9c179e\"], [0.4444444444444444, \"#bd3786\"], [0.5555555555555556, \"#d8576b\"], [0.6666666666666666, \"#ed7953\"], [0.7777777777777778, \"#fb9f3a\"], [0.8888888888888888, \"#fdca26\"], [1.0, \"#f0f921\"]], \"type\": \"heatmap\"}], \"heatmapgl\": [{\"colorbar\": {\"outlinewidth\": 0, \"ticks\": \"\"}, \"colorscale\": [[0.0, \"#0d0887\"], [0.1111111111111111, \"#46039f\"], [0.2222222222222222, \"#7201a8\"], [0.3333333333333333, \"#9c179e\"], [0.4444444444444444, \"#bd3786\"], [0.5555555555555556, \"#d8576b\"], [0.6666666666666666, \"#ed7953\"], [0.7777777777777778, \"#fb9f3a\"], [0.8888888888888888, \"#fdca26\"], [1.0, \"#f0f921\"]], \"type\": \"heatmapgl\"}], \"histogram\": [{\"marker\": {\"colorbar\": {\"outlinewidth\": 0, \"ticks\": \"\"}}, \"type\": \"histogram\"}], \"histogram2d\": [{\"colorbar\": {\"outlinewidth\": 0, \"ticks\": \"\"}, \"colorscale\": [[0.0, \"#0d0887\"], [0.1111111111111111, \"#46039f\"], [0.2222222222222222, \"#7201a8\"], [0.3333333333333333, \"#9c179e\"], [0.4444444444444444, \"#bd3786\"], [0.5555555555555556, \"#d8576b\"], [0.6666666666666666, \"#ed7953\"], [0.7777777777777778, \"#fb9f3a\"], [0.8888888888888888, \"#fdca26\"], [1.0, \"#f0f921\"]], \"type\": \"histogram2d\"}], \"histogram2dcontour\": [{\"colorbar\": {\"outlinewidth\": 0, \"ticks\": \"\"}, \"colorscale\": [[0.0, \"#0d0887\"], [0.1111111111111111, \"#46039f\"], [0.2222222222222222, \"#7201a8\"], [0.3333333333333333, \"#9c179e\"], [0.4444444444444444, \"#bd3786\"], [0.5555555555555556, \"#d8576b\"], [0.6666666666666666, \"#ed7953\"], [0.7777777777777778, \"#fb9f3a\"], [0.8888888888888888, \"#fdca26\"], [1.0, \"#f0f921\"]], \"type\": \"histogram2dcontour\"}], \"mesh3d\": [{\"colorbar\": {\"outlinewidth\": 0, \"ticks\": \"\"}, \"type\": \"mesh3d\"}], \"parcoords\": [{\"line\": {\"colorbar\": {\"outlinewidth\": 0, \"ticks\": \"\"}}, \"type\": \"parcoords\"}], \"pie\": [{\"automargin\": true, \"type\": \"pie\"}], \"scatter\": [{\"marker\": {\"colorbar\": {\"outlinewidth\": 0, \"ticks\": \"\"}}, \"type\": \"scatter\"}], \"scatter3d\": [{\"line\": {\"colorbar\": {\"outlinewidth\": 0, \"ticks\": \"\"}}, \"marker\": {\"colorbar\": {\"outlinewidth\": 0, \"ticks\": \"\"}}, \"type\": \"scatter3d\"}], \"scattercarpet\": [{\"marker\": {\"colorbar\": {\"outlinewidth\": 0, \"ticks\": \"\"}}, \"type\": \"scattercarpet\"}], \"scattergeo\": [{\"marker\": {\"colorbar\": {\"outlinewidth\": 0, \"ticks\": \"\"}}, \"type\": \"scattergeo\"}], \"scattergl\": [{\"marker\": {\"colorbar\": {\"outlinewidth\": 0, \"ticks\": \"\"}}, \"type\": \"scattergl\"}], \"scattermapbox\": [{\"marker\": {\"colorbar\": {\"outlinewidth\": 0, \"ticks\": \"\"}}, \"type\": \"scattermapbox\"}], \"scatterpolar\": [{\"marker\": {\"colorbar\": {\"outlinewidth\": 0, \"ticks\": \"\"}}, \"type\": \"scatterpolar\"}], \"scatterpolargl\": [{\"marker\": {\"colorbar\": {\"outlinewidth\": 0, \"ticks\": \"\"}}, \"type\": \"scatterpolargl\"}], \"scatterternary\": [{\"marker\": {\"colorbar\": {\"outlinewidth\": 0, \"ticks\": \"\"}}, \"type\": \"scatterternary\"}], \"surface\": [{\"colorbar\": {\"outlinewidth\": 0, \"ticks\": \"\"}, \"colorscale\": [[0.0, \"#0d0887\"], [0.1111111111111111, \"#46039f\"], [0.2222222222222222, \"#7201a8\"], [0.3333333333333333, \"#9c179e\"], [0.4444444444444444, \"#bd3786\"], [0.5555555555555556, \"#d8576b\"], [0.6666666666666666, \"#ed7953\"], [0.7777777777777778, \"#fb9f3a\"], [0.8888888888888888, \"#fdca26\"], [1.0, \"#f0f921\"]], \"type\": \"surface\"}], \"table\": [{\"cells\": {\"fill\": {\"color\": \"#EBF0F8\"}, \"line\": {\"color\": \"white\"}}, \"header\": {\"fill\": {\"color\": \"#C8D4E3\"}, \"line\": {\"color\": \"white\"}}, \"type\": \"table\"}]}, \"layout\": {\"annotationdefaults\": {\"arrowcolor\": \"#2a3f5f\", \"arrowhead\": 0, \"arrowwidth\": 1}, \"autotypenumbers\": \"strict\", \"coloraxis\": {\"colorbar\": {\"outlinewidth\": 0, \"ticks\": \"\"}}, \"colorscale\": {\"diverging\": [[0, \"#8e0152\"], [0.1, \"#c51b7d\"], [0.2, \"#de77ae\"], [0.3, \"#f1b6da\"], [0.4, \"#fde0ef\"], [0.5, \"#f7f7f7\"], [0.6, \"#e6f5d0\"], [0.7, \"#b8e186\"], [0.8, \"#7fbc41\"], [0.9, \"#4d9221\"], [1, \"#276419\"]], \"sequential\": [[0.0, \"#0d0887\"], [0.1111111111111111, \"#46039f\"], [0.2222222222222222, \"#7201a8\"], [0.3333333333333333, \"#9c179e\"], [0.4444444444444444, \"#bd3786\"], [0.5555555555555556, \"#d8576b\"], [0.6666666666666666, \"#ed7953\"], [0.7777777777777778, \"#fb9f3a\"], [0.8888888888888888, \"#fdca26\"], [1.0, \"#f0f921\"]], \"sequentialminus\": [[0.0, \"#0d0887\"], [0.1111111111111111, \"#46039f\"], [0.2222222222222222, \"#7201a8\"], [0.3333333333333333, \"#9c179e\"], [0.4444444444444444, \"#bd3786\"], [0.5555555555555556, \"#d8576b\"], [0.6666666666666666, \"#ed7953\"], [0.7777777777777778, \"#fb9f3a\"], [0.8888888888888888, \"#fdca26\"], [1.0, \"#f0f921\"]]}, \"colorway\": [\"#636efa\", \"#EF553B\", \"#00cc96\", \"#ab63fa\", \"#FFA15A\", \"#19d3f3\", \"#FF6692\", \"#B6E880\", \"#FF97FF\", \"#FECB52\"], \"font\": {\"color\": \"#2a3f5f\"}, \"geo\": {\"bgcolor\": \"white\", \"lakecolor\": \"white\", \"landcolor\": \"#E5ECF6\", \"showlakes\": true, \"showland\": true, \"subunitcolor\": \"white\"}, \"hoverlabel\": {\"align\": \"left\"}, \"hovermode\": \"closest\", \"mapbox\": {\"style\": \"light\"}, \"paper_bgcolor\": \"white\", \"plot_bgcolor\": \"#E5ECF6\", \"polar\": {\"angularaxis\": {\"gridcolor\": \"white\", \"linecolor\": \"white\", \"ticks\": \"\"}, \"bgcolor\": \"#E5ECF6\", \"radialaxis\": {\"gridcolor\": \"white\", \"linecolor\": \"white\", \"ticks\": \"\"}}, \"scene\": {\"xaxis\": {\"backgroundcolor\": \"#E5ECF6\", \"gridcolor\": \"white\", \"gridwidth\": 2, \"linecolor\": \"white\", \"showbackground\": true, \"ticks\": \"\", \"zerolinecolor\": \"white\"}, \"yaxis\": {\"backgroundcolor\": \"#E5ECF6\", \"gridcolor\": \"white\", \"gridwidth\": 2, \"linecolor\": \"white\", \"showbackground\": true, \"ticks\": \"\", \"zerolinecolor\": \"white\"}, \"zaxis\": {\"backgroundcolor\": \"#E5ECF6\", \"gridcolor\": \"white\", \"gridwidth\": 2, \"linecolor\": \"white\", \"showbackground\": true, \"ticks\": \"\", \"zerolinecolor\": \"white\"}}, \"shapedefaults\": {\"line\": {\"color\": \"#2a3f5f\"}}, \"ternary\": {\"aaxis\": {\"gridcolor\": \"white\", \"linecolor\": \"white\", \"ticks\": \"\"}, \"baxis\": {\"gridcolor\": \"white\", \"linecolor\": \"white\", \"ticks\": \"\"}, \"bgcolor\": \"#E5ECF6\", \"caxis\": {\"gridcolor\": \"white\", \"linecolor\": \"white\", \"ticks\": \"\"}}, \"title\": {\"x\": 0.05}, \"xaxis\": {\"automargin\": true, \"gridcolor\": \"white\", \"linecolor\": \"white\", \"ticks\": \"\", \"title\": {\"standoff\": 15}, \"zerolinecolor\": \"white\", \"zerolinewidth\": 2}, \"yaxis\": {\"automargin\": true, \"gridcolor\": \"white\", \"linecolor\": \"white\", \"ticks\": \"\", \"title\": {\"standoff\": 15}, \"zerolinecolor\": \"white\", \"zerolinewidth\": 2}}}},                        {\"responsive\": true}                    ).then(function(){\n                            \nvar gd = document.getElementById('4064488d-d70d-4c28-946c-7f06d567c4d6');\nvar x = new MutationObserver(function (mutations, observer) {{\n        var display = window.getComputedStyle(gd).display;\n        if (!display || display === 'none') {{\n            console.log([gd, 'removed!']);\n            Plotly.purge(gd);\n            observer.disconnect();\n        }}\n}});\n\n// Listen for the removal of the full notebook cells\nvar notebookContainer = gd.closest('#notebook-container');\nif (notebookContainer) {{\n    x.observe(notebookContainer, {childList: true});\n}}\n\n// Listen for the clearing of the current output cell\nvar outputEl = gd.closest('.output');\nif (outputEl) {{\n    x.observe(outputEl, {childList: true});\n}}\n\n                        })                };                });            </script>        </div>"
     },
     "metadata": {}
    }
   ],
   "source": [
    "\n",
    "np.random.seed(1)\n",
    "\n",
    "N = 100\n",
    "x = np.random.rand(N)\n",
    "y = np.random.rand(N)\n",
    "colors = np.random.rand(N)\n",
    "sz = np.random.rand(N) * 30\n",
    "\n",
    "fig = go.Figure()\n",
    "fig.add_trace(go.Scatter(\n",
    "    x=x,\n",
    "    y=y,\n",
    "    mode=\"markers\",\n",
    "    marker=go.scatter.Marker(\n",
    "        size=sz,\n",
    "        color=colors,\n",
    "        opacity=0.6,\n",
    "        colorscale=\"Viridis\"\n",
    "    )\n",
    "))\n",
    "\n",
    "html_file = 'plotly-circles-plot.html'\n",
    "fname = 'plotly-circles-plot'\n",
    "\n",
    "fig.show()"
   ]
  },
  {
   "cell_type": "code",
   "execution_count": 1,
   "metadata": {},
   "outputs": [
    {
     "output_type": "error",
     "ename": "NameError",
     "evalue": "name 'plot' is not defined",
     "traceback": [
      "\u001b[0;31m---------------------------------------------------------------------------\u001b[0m",
      "\u001b[0;31mNameError\u001b[0m                                 Traceback (most recent call last)",
      "\u001b[0;32m<ipython-input-1-3b01631e301a>\u001b[0m in \u001b[0;36m<module>\u001b[0;34m\u001b[0m\n\u001b[0;32m----> 1\u001b[0;31m plot(fig, filename=html_file, auto_open=True,\n\u001b[0m\u001b[1;32m      2\u001b[0m                     \u001b[0mimage_width\u001b[0m\u001b[0;34m=\u001b[0m\u001b[0;36m1280\u001b[0m\u001b[0;34m,\u001b[0m \u001b[0mimage_height\u001b[0m\u001b[0;34m=\u001b[0m\u001b[0;36m800\u001b[0m\u001b[0;34m,\u001b[0m\u001b[0;34m\u001b[0m\u001b[0;34m\u001b[0m\u001b[0m\n\u001b[1;32m      3\u001b[0m                     image_filename=fname, image='png')\n",
      "\u001b[0;31mNameError\u001b[0m: name 'plot' is not defined"
     ]
    }
   ],
   "source": [
    "plot(fig, filename=html_file, auto_open=True,\n",
    "                    image_width=1280, image_height=800,\n",
    "                    image_filename=fname, image='png')"
   ]
  },
  {
   "cell_type": "code",
   "execution_count": 9,
   "metadata": {},
   "outputs": [
    {
     "output_type": "execute_result",
     "data": {
      "text/plain": [
       "'plotly-fruit-plot.html'"
      ]
     },
     "metadata": {},
     "execution_count": 9
    }
   ],
   "source": [
    "import plotly\n",
    "import plotly.graph_objs as go\n",
    "\n",
    "data = [go.Bar(x=['Apples', 'Pears', 'Nectarines', 'Plums', 'Grapes', 'Strawberries'],\n",
    "               y=[5, 3, 4, 2, 4, 6])]\n",
    "\n",
    "html_file = 'plotly-fruit-plot.html'\n",
    "fname = 'plotly-fruit-plot'\n",
    "\n",
    "plotly.offline.plot(data, filename=html_file, auto_open=False,\n",
    "                    image_width=1280, image_height=800,\n",
    "                    image_filename=fname, image='png')"
   ]
  },
  {
   "cell_type": "code",
   "execution_count": null,
   "metadata": {},
   "outputs": [],
   "source": []
  }
 ]
}